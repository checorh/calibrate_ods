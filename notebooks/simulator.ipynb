{
 "cells": [
  {
   "cell_type": "markdown",
   "id": "70a36bb6",
   "metadata": {},
   "source": [
    "### Load experiment metadata"
   ]
  },
  {
   "cell_type": "code",
   "execution_count": 11,
   "id": "e15d52db",
   "metadata": {},
   "outputs": [],
   "source": [
    "from sumo_python.helpers.load_experiment_metadata import load_experiment_metadata\n",
    "\n",
    "input_path = \"../network/quickstart/metadata/\"\n"
   ]
  },
  {
   "cell_type": "code",
   "execution_count": 12,
   "id": "29c16b30",
   "metadata": {},
   "outputs": [
    {
     "data": {
      "text/plain": [
       "['config.json', 'simulation_setups.json']"
      ]
     },
     "execution_count": 12,
     "metadata": {},
     "output_type": "execute_result"
    }
   ],
   "source": [
    "import os\n",
    "os.listdir(input_path)"
   ]
  },
  {
   "cell_type": "code",
   "execution_count": 13,
   "id": "41bc35f2",
   "metadata": {},
   "outputs": [],
   "source": [
    "config, sim_setup = load_experiment_metadata(input_path)"
   ]
  },
  {
   "cell_type": "code",
   "execution_count": 14,
   "id": "000428ed",
   "metadata": {},
   "outputs": [
    {
     "data": {
      "text/plain": [
       "{'NETWORK': PosixPath('../network/quickstart'),\n",
       " 'SUMO': PosixPath('/usr/local/opt/sumo/share/sumo')}"
      ]
     },
     "execution_count": 14,
     "metadata": {},
     "output_type": "execute_result"
    }
   ],
   "source": [
    "\n",
    "config"
   ]
  },
  {
   "cell_type": "code",
   "execution_count": 15,
   "id": "36746e4c",
   "metadata": {},
   "outputs": [
    {
     "data": {
      "text/plain": [
       "{'objective': 'counts',\n",
       " 'net': 'quickstart.net.xml',\n",
       " 'route2od': 'quickstart.rou_for_od.xml',\n",
       " 'taz': 'quickstart.taz.xml',\n",
       " 'add': 'quickstart.additional.xml',\n",
       " 'start_sim_sec': 54000,\n",
       " 'end_sim_sec': 57600,\n",
       " 'gt_od': 'quickstart.gt_od.xml',\n",
       " 'current_od': 'quickstart.current_od.xml',\n",
       " 'init_od': 'quickstart.init_od.xml',\n",
       " 'prior_od': 'quickstart.prior_od.xml',\n",
       " 'n_sumo_replicate': 1}"
      ]
     },
     "execution_count": 15,
     "metadata": {},
     "output_type": "execute_result"
    }
   ],
   "source": [
    "sim_setup"
   ]
  },
  {
   "cell_type": "markdown",
   "id": "ce416267",
   "metadata": {},
   "source": [
    "# Simulator\n",
    "\n",
    "Steps:\n",
    "\n",
    "1. Create OD meta-files that for a given count, creates a random trajectoy of vehicles moving from O -> D\n",
    "2. Run SUMO against the latter files\n",
    "3. Parse output of simulation and yields the aggregated value of vehicles which arrive to a given node in th network\n",
    "\n"
   ]
  },
  {
   "cell_type": "markdown",
   "id": "0f442fd2",
   "metadata": {},
   "source": [
    "### Step 1. Create OD metadata"
   ]
  },
  {
   "cell_type": "code",
   "execution_count": 16,
   "id": "fb9848bf",
   "metadata": {},
   "outputs": [
    {
     "name": "stdout",
     "output_type": "stream",
     "text": [
      "Reading: ../network/quickstart/quickstart.init_od.xml\n",
      "Saving: ../network/quickstart/iter_quickstart.current_od.xml\n"
     ]
    }
   ],
   "source": [
    "import numpy as np\n",
    "from sumo_python.helpers.generate_od_xml import generate_od_xml\n",
    "\n",
    "\n",
    "prefix_run = 'iter'\n",
    "#od_rand = np.random.rand(4)*200\n",
    "od_rand = np.array([500,500,900,900])\n",
    "#print(prefix_run, np.sum(od_rand))\n",
    "    \n",
    "generate_od_xml(od_rand, config, sim_setup, prefix_run)\n"
   ]
  },
  {
   "cell_type": "markdown",
   "id": "8195fe4e",
   "metadata": {},
   "source": [
    "### Step 2-3: Run SUMO and parse output"
   ]
  },
  {
   "cell_type": "code",
   "execution_count": 17,
   "id": "8cfecb7d",
   "metadata": {},
   "outputs": [
    {
     "name": "stdout",
     "output_type": "stream",
     "text": [
      "### Runing: iter\n",
      "Success.\n",
      "Step #57600.00 (8ms ~= 125.00*RT, ~82000.00UPS, vehicles TOT 2800 ACT 656 BUF 0)          \n"
     ]
    }
   ],
   "source": [
    "from sumo_python.simulator.run_sumo_and_parse_output import run_sumo_and_parse_output\n",
    "\n",
    "df_simulated = run_sumo_and_parse_output(config, sim_setup, prefix_run)\n"
   ]
  },
  {
   "cell_type": "code",
   "execution_count": 18,
   "id": "35358955",
   "metadata": {},
   "outputs": [
    {
     "data": {
      "text/html": [
       "<div>\n",
       "<style scoped>\n",
       "    .dataframe tbody tr th:only-of-type {\n",
       "        vertical-align: middle;\n",
       "    }\n",
       "\n",
       "    .dataframe tbody tr th {\n",
       "        vertical-align: top;\n",
       "    }\n",
       "\n",
       "    .dataframe thead th {\n",
       "        text-align: right;\n",
       "    }\n",
       "</style>\n",
       "<table border=\"1\" class=\"dataframe\">\n",
       "  <thead>\n",
       "    <tr style=\"text-align: right;\">\n",
       "      <th></th>\n",
       "      <th>EdgeID</th>\n",
       "      <th>interval_begin</th>\n",
       "      <th>interval_end</th>\n",
       "      <th>interval_nVehContrib</th>\n",
       "      <th>interval_harmonicMeanSpeed</th>\n",
       "    </tr>\n",
       "  </thead>\n",
       "  <tbody>\n",
       "    <tr>\n",
       "      <th>0</th>\n",
       "      <td>#EdgeL5</td>\n",
       "      <td>54000.0</td>\n",
       "      <td>57600.0</td>\n",
       "      <td>959.0</td>\n",
       "      <td>13.500000</td>\n",
       "    </tr>\n",
       "    <tr>\n",
       "      <th>1</th>\n",
       "      <td>#EdgeL7</td>\n",
       "      <td>54000.0</td>\n",
       "      <td>57600.0</td>\n",
       "      <td>1243.0</td>\n",
       "      <td>13.603333</td>\n",
       "    </tr>\n",
       "  </tbody>\n",
       "</table>\n",
       "</div>"
      ],
      "text/plain": [
       "    EdgeID  interval_begin  interval_end  interval_nVehContrib  \\\n",
       "0  #EdgeL5         54000.0       57600.0                 959.0   \n",
       "1  #EdgeL7         54000.0       57600.0                1243.0   \n",
       "\n",
       "   interval_harmonicMeanSpeed  \n",
       "0                   13.500000  \n",
       "1                   13.603333  "
      ]
     },
     "execution_count": 18,
     "metadata": {},
     "output_type": "execute_result"
    }
   ],
   "source": [
    "df_simulated"
   ]
  },
  {
   "cell_type": "markdown",
   "id": "6be05851",
   "metadata": {},
   "source": [
    "### Obtain ground-truth"
   ]
  },
  {
   "cell_type": "code",
   "execution_count": 19,
   "id": "1025ae0f",
   "metadata": {},
   "outputs": [
    {
     "name": "stdout",
     "output_type": "stream",
     "text": [
      "od2trips --no-step-log  --spread.uniform --taz-files ../network/quickstart/quickstart.taz.xml --tazrelation-files ../network/quickstart/quickstart.gt_od.xml -o ../network/quickstart/gt_od_trips.trips.xml \n",
      "Success.\n",
      "sumo --output-prefix gt_ --ignore-route-errors=true --net-file=../network/quickstart/quickstart.net.xml --routes=../network/quickstart/gt_od_trips.trips.xml -b 54000 -e 57600 --additional-files ../network/quickstart/quickstart.additional.xml --duration-log.statistics --xml-validation never --vehroutes ../network/quickstart/gt_routes.vehroutes.xml \n",
      "Loading net-file from '../network/quickstart/quickstart.net.xml' ... done (9ms).\n",
      "Loading additional-files from '../network/quickstart/quickstart.additional.xml' ... done (2ms).\n",
      "Loading done.\n",
      "Simulation version 1.16.0 started with time: 54000.00.\n",
      "Step #57600.00 (7ms ~= 142.86*RT, ~93714.29UPS, vehicles TOT 2800 ACT 656 BUF 0)          \n",
      "Simulation ended at time: 57600.00\n",
      "Reason: The final simulation step has been reached.\n",
      "Performance: \n",
      " Duration: 14.66s\n",
      " Real time factor: 245.549\n",
      " UPS: 110305.026942\n",
      "Vehicles: \n",
      " Inserted: 2800\n",
      " Running: 656\n",
      " Waiting: 0\n",
      "Statistics (avg of 2144):\n",
      " RouteLength: 4392.77\n",
      " Speed: 11.24\n",
      " Duration: 471.78\n",
      " WaitingTime: 81.10\n",
      " TimeLoss: 153.11\n",
      " DepartDelay: 0.10\n",
      "\n",
      "DijkstraRouter answered 2800 queries and explored 10.01 edges on average.\n",
      "DijkstraRouter spent 0.01s answering queries (0.00ms on average).\n"
     ]
    }
   ],
   "source": [
    "from sumo_python.simulator.ground_truth import run_ground_truth_and_parse\n",
    "df_gt_data = run_ground_truth_and_parse(config, sim_setup)"
   ]
  },
  {
   "cell_type": "code",
   "execution_count": 20,
   "id": "85ed7c06",
   "metadata": {},
   "outputs": [
    {
     "data": {
      "text/html": [
       "<div>\n",
       "<style scoped>\n",
       "    .dataframe tbody tr th:only-of-type {\n",
       "        vertical-align: middle;\n",
       "    }\n",
       "\n",
       "    .dataframe tbody tr th {\n",
       "        vertical-align: top;\n",
       "    }\n",
       "\n",
       "    .dataframe thead th {\n",
       "        text-align: right;\n",
       "    }\n",
       "</style>\n",
       "<table border=\"1\" class=\"dataframe\">\n",
       "  <thead>\n",
       "    <tr style=\"text-align: right;\">\n",
       "      <th></th>\n",
       "      <th>EdgeID</th>\n",
       "      <th>interval_begin</th>\n",
       "      <th>interval_end</th>\n",
       "      <th>interval_nVehContrib</th>\n",
       "      <th>interval_harmonicMeanSpeed</th>\n",
       "    </tr>\n",
       "  </thead>\n",
       "  <tbody>\n",
       "    <tr>\n",
       "      <th>0</th>\n",
       "      <td>#EdgeL5</td>\n",
       "      <td>54000.0</td>\n",
       "      <td>57600.0</td>\n",
       "      <td>959</td>\n",
       "      <td>13.500000</td>\n",
       "    </tr>\n",
       "    <tr>\n",
       "      <th>1</th>\n",
       "      <td>#EdgeL7</td>\n",
       "      <td>54000.0</td>\n",
       "      <td>57600.0</td>\n",
       "      <td>1243</td>\n",
       "      <td>13.603333</td>\n",
       "    </tr>\n",
       "  </tbody>\n",
       "</table>\n",
       "</div>"
      ],
      "text/plain": [
       "    EdgeID  interval_begin  interval_end  interval_nVehContrib  \\\n",
       "0  #EdgeL5         54000.0       57600.0                   959   \n",
       "1  #EdgeL7         54000.0       57600.0                  1243   \n",
       "\n",
       "   interval_harmonicMeanSpeed  \n",
       "0                   13.500000  \n",
       "1                   13.603333  "
      ]
     },
     "execution_count": 20,
     "metadata": {},
     "output_type": "execute_result"
    }
   ],
   "source": [
    "df_gt_data"
   ]
  },
  {
   "cell_type": "markdown",
   "id": "9b183bec",
   "metadata": {},
   "source": [
    "## Compute loss"
   ]
  },
  {
   "cell_type": "code",
   "execution_count": 21,
   "id": "a8f1a816",
   "metadata": {},
   "outputs": [
    {
     "data": {
      "text/plain": [
       "0.0"
      ]
     },
     "execution_count": 21,
     "metadata": {},
     "output_type": "execute_result"
    }
   ],
   "source": [
    "from sumo_python.helpers.nrmse_counts import compute_nrmse_counts\n",
    "\n",
    "loss_estimate = compute_nrmse_counts(df_gt_data, df_simulated)\n",
    "loss_estimate"
   ]
  },
  {
   "cell_type": "code",
   "execution_count": null,
   "id": "bde878a1",
   "metadata": {},
   "outputs": [],
   "source": []
  }
 ],
 "metadata": {
  "kernelspec": {
   "display_name": "Python 3 (ipykernel)",
   "language": "python",
   "name": "python3"
  },
  "language_info": {
   "codemirror_mode": {
    "name": "ipython",
    "version": 3
   },
   "file_extension": ".py",
   "mimetype": "text/x-python",
   "name": "python",
   "nbconvert_exporter": "python",
   "pygments_lexer": "ipython3",
   "version": "3.9.11"
  }
 },
 "nbformat": 4,
 "nbformat_minor": 5
}
