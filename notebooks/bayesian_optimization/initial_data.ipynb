{
 "cells": [
  {
   "cell_type": "code",
   "execution_count": 1,
   "metadata": {},
   "outputs": [],
   "source": [
    "### Metadata for simulator\n",
    "from sumo_python.helpers.load_experiment_metadata import load_experiment_config\n",
    "\n",
    "input_path = \"/Users/rodrse/Documents/DemandCalibration/notebooks/od_calibration_sumo_files/\"\n",
    "\n",
    "config, sim_setup = load_experiment_config(config=input_path + 'config.json',\n",
    "                        sim_setup=input_path + 'simulation_setups.json',)\n"
   ]
  },
  {
   "cell_type": "code",
   "execution_count": 2,
   "metadata": {},
   "outputs": [
    {
     "name": "stdout",
     "output_type": "stream",
     "text": [
      "od2trips --no-step-log  --spread.uniform --taz-files /Users/rodrse/Documents/DemandCalibration/notebooks/od_calibration_sumo_files/quickstart/data/quickstart.taz.xml --tazrelation-files /Users/rodrse/Documents/DemandCalibration/notebooks/od_calibration_sumo_files/quickstart/data/quickstart.gt_od.xml -o /Users/rodrse/Documents/DemandCalibration/notebooks/od_calibration_sumo_files/quickstart/data/gt_od_trips.trips.xml \n",
      "Success.\n",
      "sumo --output-prefix gt_ --ignore-route-errors=true --net-file=/Users/rodrse/Documents/DemandCalibration/notebooks/od_calibration_sumo_files/quickstart/data/quickstart.net.xml --routes=/Users/rodrse/Documents/DemandCalibration/notebooks/od_calibration_sumo_files/quickstart/data/gt_od_trips.trips.xml -b 54000 -e 57600 --additional-files /Users/rodrse/Documents/DemandCalibration/notebooks/od_calibration_sumo_files/quickstart/data/quickstart.additional.xml --duration-log.statistics --xml-validation never --vehroutes /Users/rodrse/Documents/DemandCalibration/notebooks/od_calibration_sumo_files/quickstart/data/gt_routes.vehroutes.xml \n",
      "Loading net-file from '/Users/rodrse/Documents/DemandCalibration/notebooks/od_calibration_sumo_files/quickstart/data/quickstart.net.xml' ... done (11ms).\n",
      "Loading additional-files from '/Users/rodrse/Documents/DemandCalibration/notebooks/od_calibration_sumo_files/quickstart/data/quickstart.additional.xml' ... done (3ms).\n",
      "Loading done.\n",
      "Simulation version 1.16.0 started with time: 54000.00.\n",
      "Step #57600.00 (7ms ~= 142.86*RT, ~93714.29UPS, vehicles TOT 2800 ACT 656 BUF 0)          \n",
      "Simulation ended at time: 57600.00\n",
      "Reason: The final simulation step has been reached.\n",
      "Performance: \n",
      " Duration: 18.26s\n",
      " Real time factor: 197.185\n",
      " UPS: 88578.736923\n",
      "Vehicles: \n",
      " Inserted: 2800\n",
      " Running: 656\n",
      " Waiting: 0\n",
      "Statistics (avg of 2144):\n",
      " RouteLength: 4392.77\n",
      " Speed: 11.24\n",
      " Duration: 471.78\n",
      " WaitingTime: 81.10\n",
      " TimeLoss: 153.11\n",
      " DepartDelay: 0.10\n",
      "\n",
      "DijkstraRouter answered 2800 queries and explored 10.01 edges on average.\n",
      "DijkstraRouter spent 0.01s answering queries (0.00ms on average).\n"
     ]
    }
   ],
   "source": [
    "### Obtain ground-truth value\n",
    "import numpy as np\n",
    "import pandas as pd\n",
    "\n",
    "from sumo_python.helpers.generate_od_xml import generate_od_xml\n",
    "from sumo_python.simulator.run_sumo_and_parse_output import run_sumo_and_parse_output\n",
    "from sumo_python.simulator.ground_truth import run_ground_truth_and_parse\n",
    "from sumo_python.helpers.nrmse_counts import compute_nrmse_counts\n",
    "\n",
    "df_gt_data = run_ground_truth_and_parse(config, sim_setup)\n"
   ]
  },
  {
   "cell_type": "code",
   "execution_count": 3,
   "metadata": {},
   "outputs": [],
   "source": [
    "\n",
    "def objective(x: np.array) -> pd.DataFrame:\n",
    "    \"\"\"Compute objective variable. This is the NRMSE loss between ground-truth output\n",
    "    and the output of the simulation output evaluated at x.\n",
    "\n",
    "    Args:\n",
    "        x (np.array): Numpy array of counts to generate TAZ file from.\n",
    "\n",
    "    Returns:\n",
    "        pd.Dataframe: Data frame of sampling locations and loss esimate.\n",
    "    \"\"\"\n",
    "    prefix_run = 'iter'    \n",
    "    generate_od_xml(x, config, sim_setup, prefix_run)\n",
    "    df_simulated = run_sumo_and_parse_output(config, sim_setup, prefix_run)\n",
    "    loss_estimate = compute_nrmse_counts(df_gt_data, df_simulated)\n",
    "    df_output = pd.DataFrame(x.reshape(-1, len(x)),columns = ['x1','x2','x3','x4'])\n",
    "    df_output['loss_estimate'] = loss_estimate\n",
    "    \n",
    "    return df_output\n",
    "\n"
   ]
  },
  {
   "cell_type": "code",
   "execution_count": 4,
   "metadata": {},
   "outputs": [
    {
     "data": {
      "text/plain": [
       "tensor([[ 400.,  400.,  400.,  400.],\n",
       "        [1000., 1000., 1000., 1000.]], dtype=torch.float64)"
      ]
     },
     "execution_count": 4,
     "metadata": {},
     "output_type": "execute_result"
    }
   ],
   "source": [
    "\n",
    "import os\n",
    "import torch\n",
    "import pandas as pd\n",
    "\n",
    "device = torch.device(\"cuda:3\" if torch.cuda.is_available() else \"cpu\")\n",
    "dtype = torch.double\n",
    "\n",
    "### Declare search space\n",
    "# dimensionality of input space\n",
    "d = 4 \n",
    "bounds = torch.tensor([[400,400,400,400],[1000,1000,1000,1000]], device=device, dtype=dtype) \n",
    "bounds\n"
   ]
  },
  {
   "cell_type": "markdown",
   "metadata": {},
   "source": [
    "### Generate batch of policies using Sobol sequences"
   ]
  },
  {
   "cell_type": "code",
   "execution_count": 5,
   "metadata": {},
   "outputs": [
    {
     "name": "stdout",
     "output_type": "stream",
     "text": [
      "printing /Users/rodrse/Documents/DemandCalibration/notebooks/od_calibration_sumo_files/quickstart/data/iter_quickstart.current_od.xml\n",
      "### Runing: iter\n",
      "Success.\n",
      "Step #57600.00 (8ms ~= 125.00*RT, ~97125.00UPS, vehicles TOT 2558 ACT 777 BUF 318)        \n",
      "printing /Users/rodrse/Documents/DemandCalibration/notebooks/od_calibration_sumo_files/quickstart/data/iter_quickstart.current_od.xml\n",
      "### Runing: iter\n",
      "Success.\n",
      "Step #57600.00 (7ms ~= 142.86*RT, ~109857.14UPS, vehicles TOT 2615 ACT 769 BUF 0)         \n",
      "printing /Users/rodrse/Documents/DemandCalibration/notebooks/od_calibration_sumo_files/quickstart/data/iter_quickstart.current_od.xml\n",
      "### Runing: iter\n",
      "Success.\n",
      "Step #57600.00 (4ms ~= 250.00*RT, ~151250.00UPS, vehicles TOT 2398 ACT 605 BUF 0)         \n",
      "printing /Users/rodrse/Documents/DemandCalibration/notebooks/od_calibration_sumo_files/quickstart/data/iter_quickstart.current_od.xml\n",
      "### Runing: iter\n",
      "Success.\n",
      "Step #57600.00 (8ms ~= 125.00*RT, ~111625.00UPS, vehicles TOT 3057 ACT 893 BUF 115)       \n",
      "printing /Users/rodrse/Documents/DemandCalibration/notebooks/od_calibration_sumo_files/quickstart/data/iter_quickstart.current_od.xml\n",
      "### Runing: iter\n",
      "Success.\n",
      "Step #57600.00 (6ms ~= 166.67*RT, ~151666.67UPS, vehicles TOT 2734 ACT 910 BUF 26)        \n",
      "printing /Users/rodrse/Documents/DemandCalibration/notebooks/od_calibration_sumo_files/quickstart/data/iter_quickstart.current_od.xml\n",
      "### Runing: iter\n",
      "Success.\n",
      "Step #57600.00 (8ms ~= 125.00*RT, ~84250.00UPS, vehicles TOT 2631 ACT 674 BUF 0)          \n",
      "printing /Users/rodrse/Documents/DemandCalibration/notebooks/od_calibration_sumo_files/quickstart/data/iter_quickstart.current_od.xml\n",
      "### Runing: iter\n",
      "Success.\n",
      "Step #57600.00 (7ms ~= 142.86*RT, ~91428.57UPS, vehicles TOT 2569 ACT 640 BUF 0)          \n",
      "printing /Users/rodrse/Documents/DemandCalibration/notebooks/od_calibration_sumo_files/quickstart/data/iter_quickstart.current_od.xml\n",
      "### Runing: iter\n",
      "Success.\n",
      "Step #57600.00 (7ms ~= 142.86*RT, ~121285.71UPS, vehicles TOT 3062 ACT 849 BUF 289)       \n",
      "printing /Users/rodrse/Documents/DemandCalibration/notebooks/od_calibration_sumo_files/quickstart/data/iter_quickstart.current_od.xml\n",
      "### Runing: iter\n",
      "Success.\n",
      "Step #57600.00 (7ms ~= 142.86*RT, ~120857.14UPS, vehicles TOT 2417 ACT 846 BUF 93)        \n",
      "printing /Users/rodrse/Documents/DemandCalibration/notebooks/od_calibration_sumo_files/quickstart/data/iter_quickstart.current_od.xml\n",
      "### Runing: iter\n",
      "Success.\n",
      "Step #57600.00 (13ms ~= 76.92*RT, ~73307.69UPS, vehicles TOT 3139 ACT 953 BUF 26)         \n",
      "printing /Users/rodrse/Documents/DemandCalibration/notebooks/od_calibration_sumo_files/quickstart/data/iter_quickstart.current_od.xml\n",
      "### Runing: iter\n",
      "Success.\n",
      "Step #57600.00 (5ms ~= 200.00*RT, ~121600.00UPS, vehicles TOT 2387 ACT 608 BUF 0)         \n",
      "printing /Users/rodrse/Documents/DemandCalibration/notebooks/od_calibration_sumo_files/quickstart/data/iter_quickstart.current_od.xml\n",
      "### Runing: iter\n",
      "Success.\n",
      "Step #57600.00 (9ms ~= 111.11*RT, ~85333.33UPS, vehicles TOT 3206 ACT 768 BUF 264)        \n",
      "printing /Users/rodrse/Documents/DemandCalibration/notebooks/od_calibration_sumo_files/quickstart/data/iter_quickstart.current_od.xml\n",
      "### Runing: iter\n",
      "Success.\n",
      "Step #57600.00 (11ms ~= 90.91*RT, ~76636.36UPS, vehicles TOT 3053 ACT 843 BUF 10)         \n",
      "printing /Users/rodrse/Documents/DemandCalibration/notebooks/od_calibration_sumo_files/quickstart/data/iter_quickstart.current_od.xml\n",
      "### Runing: iter\n",
      "Success.\n",
      "Step #57600.00 (7ms ~= 142.86*RT, ~106000.00UPS, vehicles TOT 2658 ACT 742 BUF 0)         \n",
      "printing /Users/rodrse/Documents/DemandCalibration/notebooks/od_calibration_sumo_files/quickstart/data/iter_quickstart.current_od.xml\n",
      "### Runing: iter\n",
      "Success.\n",
      "Step #57600.00 (6ms ~= 166.67*RT, ~121333.33UPS, vehicles TOT 2776 ACT 728 BUF 0)         \n",
      "printing /Users/rodrse/Documents/DemandCalibration/notebooks/od_calibration_sumo_files/quickstart/data/iter_quickstart.current_od.xml\n",
      "### Runing: iter\n",
      "Success.\n",
      "Step #57600.00 (7ms ~= 142.86*RT, ~123428.57UPS, vehicles TOT 2499 ACT 864 BUF 176)       \n",
      "printing /Users/rodrse/Documents/DemandCalibration/notebooks/od_calibration_sumo_files/quickstart/data/iter_quickstart.current_od.xml\n",
      "### Runing: iter\n",
      "Success.\n",
      "Step #57600.00 (9ms ~= 111.11*RT, ~98777.78UPS, vehicles TOT 2920 ACT 889 BUF 308)        \n",
      "printing /Users/rodrse/Documents/DemandCalibration/notebooks/od_calibration_sumo_files/quickstart/data/iter_quickstart.current_od.xml\n",
      "### Runing: iter\n",
      "Success.\n",
      "Step #57600.00 (5ms ~= 200.00*RT, ~131800.00UPS, vehicles TOT 2571 ACT 659 BUF 0)         \n",
      "printing /Users/rodrse/Documents/DemandCalibration/notebooks/od_calibration_sumo_files/quickstart/data/iter_quickstart.current_od.xml\n",
      "### Runing: iter\n",
      "Success.\n",
      "Step #57600.00 (8ms ~= 125.00*RT, ~111125.00UPS, vehicles TOT 2952 ACT 889 BUF 0)         \n",
      "printing /Users/rodrse/Documents/DemandCalibration/notebooks/od_calibration_sumo_files/quickstart/data/iter_quickstart.current_od.xml\n",
      "### Runing: iter\n",
      "Success.\n",
      "Step #57600.00 (4ms ~= 250.00*RT, ~156250.00UPS, vehicles TOT 2478 ACT 625 BUF 0)         \n"
     ]
    }
   ],
   "source": [
    "from torch.quasirandom import SobolEngine\n",
    "from botorch.utils.transforms import unnormalize\n",
    "\n",
    "n0 = 20\n",
    "dim = 4\n",
    "sobol = SobolEngine(dim, scramble=True)\n",
    "x_0 = sobol.draw(n0).to(dtype=dtype)\n",
    "\n",
    "\n",
    "# map the normalized into the original parameter space\n",
    "train_X0 = unnormalize(x_0, bounds)\n",
    "\n",
    "df_0 = [\n",
    "    objective(x) for x in train_X0.cpu().detach().numpy()\n",
    "]\n",
    "\n",
    "df_0 = pd.concat(df_0)\n",
    "df_0['iter'] = 0\n"
   ]
  },
  {
   "cell_type": "code",
   "execution_count": 6,
   "metadata": {},
   "outputs": [],
   "source": [
    "df_0.to_csv(\"../data/initial_sampling_locations.csv\", index = None)"
   ]
  }
 ],
 "metadata": {
  "kernelspec": {
   "display_name": "Python 3 (ipykernel)",
   "language": "python",
   "name": "python3"
  },
  "language_info": {
   "codemirror_mode": {
    "name": "ipython",
    "version": 3
   },
   "file_extension": ".py",
   "mimetype": "text/x-python",
   "name": "python",
   "nbconvert_exporter": "python",
   "pygments_lexer": "ipython3",
   "version": "3.9.11"
  }
 },
 "nbformat": 4,
 "nbformat_minor": 2
}
