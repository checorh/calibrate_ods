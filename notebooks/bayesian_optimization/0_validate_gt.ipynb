{
 "cells": [
  {
   "cell_type": "code",
   "execution_count": 1,
   "metadata": {},
   "outputs": [],
   "source": [
    "import json\n",
    "import xml.etree.ElementTree as ET\n",
    "from pathlib import Path\n",
    "\n",
    "input_path = '/Users/rodrse/Downloads/calibrate_ods_carolina/network/SFO/metadata/'\n",
    "simulation_setup = \"lowCongestion_5minDemand\"\n",
    "\n",
    "config = json.load(open(input_path + \"/config.json\"))\n",
    "config[\"NETWORK\"] = Path(config[\"NETWORK\"])\n",
    "config[\"SUMO\"] = Path(config[\"SUMO\"])\n",
    "# [CO] updated simulation setup to use OD scenario #4: 42-dimensional  + low congestion.\n",
    "#sim_setup = json.load(open(input_path + \"simulation_setups_co_gt.json\"))\n",
    "sim_setup = json.load(open(input_path + f\"simulation_setups_{simulation_setup}.json\"))\n"
   ]
  },
  {
   "cell_type": "code",
   "execution_count": 2,
   "metadata": {},
   "outputs": [],
   "source": [
    "# excluding warmup period of 15min\n",
    "# so you need to simulate for at least 15min now. \n",
    "warm_up_sec = 15*60 # duration in seconds\n",
    "\n",
    "# duration, in seconds, of each edge simulation output statistics\n",
    "# this value should be consistent with what is defined in additional.add.xml\n",
    "edge_stats_freq = 300"
   ]
  },
  {
   "cell_type": "code",
   "execution_count": 3,
   "metadata": {},
   "outputs": [],
   "source": [
    "# %load /Users/rodrse/Downloads/calibrate_ods_carolina/notebooks/carolina/simulator_functions/helpers_sumo.py\n",
    "## Main simulator function\n",
    "import os\n",
    "import pandas as pd\n",
    "import numpy as np\n",
    "import xml.etree.ElementTree as ET\n",
    "import torch\n",
    "\n",
    "from pandas import DataFrame\n",
    "from pathlib import Path\n",
    "\n",
    "\n",
    "def run_sumo(config, sim_setup, prefix_input, prefix_output):\n",
    "    od2trips_cmd = (\n",
    "        #f\"od2trips --no-step-log  --spread.uniform \"\n",
    "        f\"od2trips  --spread.uniform \"\n",
    "        #Loads TAZ (districts)\n",
    "        f\"--taz-files {config['NETWORK']}/{sim_setup['taz']} \" \n",
    "        # Loads O/D-matrix in tazRelation format fromFILE(s)\n",
    "        f\"--tazrelation-files {config['NETWORK']}/{sim_setup[f'{prefix_input}_od']} \"\n",
    "        # Writes trip definitions into FILE\n",
    "        f\"-o {config['NETWORK']}/{prefix_output}_{sim_setup['prefix_sim_run']}_od_trips.trips.xml \" \n",
    "    )\n",
    "\n",
    "    # Run SUMO to generate outputs\n",
    "    sumo_run = (\n",
    "        # Prefix which is applied to all output files. \n",
    "        f\"sumo --output-prefix {prefix_output}_{sim_setup['prefix_sim_run']}_ \" \n",
    "        # Do not check whether routes are connected\n",
    "        f\"--ignore-route-errors=true \"\n",
    "        # Load road network description from FILE\n",
    "        f\"--net-file={config['NETWORK']/sim_setup['net']} \"\n",
    "        # Load routes descriptions from FILE(s)\n",
    "        f\"--routes={config['NETWORK']}/{prefix_output}_{sim_setup['prefix_sim_run']}_od_trips.trips.xml \"\n",
    "        #  -b Defines the begin time in seconds; The simulation starts at this time\n",
    "        # -e Defines the end time in seconds; The simulation ends at this time\n",
    "        f\"-b {sim_setup['start_sim_sec']} -e {sim_setup['end_sim_sec']} \"\n",
    "        # Load further descriptions from FILE(s)\n",
    "        f\"--additional-files {config['NETWORK']/sim_setup['add']} \"\n",
    "        f\"--duration-log.statistics \"\n",
    "        f\"--xml-validation never \"\n",
    "        # Save single vehicle route info into FILE\n",
    "        f\"--vehroutes {config['NETWORK']}/routes.vehroutes.xml \"\n",
    "        f\"--verbose \"\n",
    "        # Disables output of warnings\n",
    "        f\"--no-warnings \"\n",
    "        # Faster simulation (i.e. less detailed)\n",
    "        f\"--mesosim true \"\n",
    "    \n",
    "    )\n",
    "        # f\"--seed {seed}\"\n",
    "\n",
    "    try:\n",
    "        print(od2trips_cmd)\n",
    "        os.system(od2trips_cmd)\n",
    "    except:\n",
    "        print(\"Unable to create trips file\")\n",
    "    else:\n",
    "        print(\"###### Running SUMO #######\")\n",
    "        print(sumo_run)\n",
    "        os.system(sumo_run)\n",
    "\n",
    "\n",
    "def parse_loop_data_xml_to_pandas(config: dict,loop_file: dict) -> DataFrame: \n",
    "    \"\"\"Read the Loop Detectors Data: Each SUMO run produces a file with the\n",
    "    traffic counts. This function reads the corresponding traffic counts file\n",
    "    averages across simulation replications\n",
    "    \n",
    "    \"\"\"\n",
    "\n",
    "    output_file =(config[\"NETWORK\"] / \"loopOutputs.csv\")\n",
    "    ## See output explanation:\n",
    "    # https://sumo.dlr.de/docs/Simulation/Output/Lane-_or_Edge-based_Traffic_Measures.html#generated_output\n",
    "\n",
    "    data2csv = (\n",
    "        f\"python {config['SUMO']}/tools/xml/xml2csv.py \"\n",
    "        f\"{loop_file} \"\n",
    "        f\"-o {output_file}\"\n",
    "        )\n",
    "    \n",
    "    os.system(data2csv)\n",
    "    \n",
    "    df_trips = pd.read_csv(output_file, sep=\";\", header=0)\n",
    "\n",
    "    # edge flow in vehicles per hour\n",
    "    ## edge speed is given in m/s\n",
    "    ## edge_density is given in no. of vehicles/km\n",
    "\n",
    "    df_trips['interval_nVehContrib'] = df_trips['edge_arrived'] + df_trips['edge_left']\n",
    "    #df_trips['interval_nVehContrib'] = 3.6*df_trips['edge_speed']*df_trips['edge_density']\n",
    "\n",
    "\n",
    "    #df_trips['EdgeID'] = df_trips['edge_id']\n",
    "\n",
    "    # edge speed is given in m/s\n",
    "    # computed only for edges that have departed flow\n",
    "    df_trips['interval_harmonicMeanSpeed'] = df_trips[df_trips['interval_nVehContrib']>0]['edge_speed']\n",
    "    \n",
    "    # exclude warm-up period\n",
    "    df_trips = df_trips[df_trips['interval_begin']>warm_up_sec]\n",
    "\n",
    "    # aggregate the rest of the time intervals\n",
    "    df_trips = df_trips[df_trips['interval_begin']>warm_up_sec]\n",
    "    df_agg = df_trips.groupby(by=['edge_id'], as_index=False).agg(\n",
    "        {'interval_nVehContrib':np.sum, 'interval_harmonicMeanSpeed':np.mean})\n",
    "\n",
    "\n",
    "    return df_agg, df_trips\n",
    "\n",
    "\n",
    "\n",
    "def compute_nrmse_counts_one_edge(df_true, df_simulated,GT_edge_id):\n",
    "    # Merge simulated output with ground truth\n",
    "    df1 = df_true\\\n",
    "        .merge(df_simulated, on=['edge_id'],\n",
    "        suffixes=('_GT', '_sim'), how='left')\n",
    "    \n",
    "    # only consider GT_edge_id of interest\n",
    "    df1 = df1[df1['edge_id']==GT_edge_id]\n",
    "\n",
    "    df1['interval_nVehContrib_sim'] = df1['interval_nVehContrib_sim'].fillna(0)\n",
    "        \n",
    "    df1['diff_square'] = (\n",
    "        df1['interval_nVehContrib_GT'] - df1['interval_nVehContrib_sim']\n",
    "        )**2\n",
    "    \n",
    "    n = df1.shape[0]\n",
    "    print(n)\n",
    "    print(df_true.shape[0])\n",
    "    print(df_simulated.shape[0])\n",
    "    RMSN = np.sqrt(n*(df1['diff_square'].sum()))/df1['interval_nVehContrib_GT'].sum()\n",
    "\n",
    "    return RMSN\n",
    "\n",
    "\n",
    "def compute_nrmse_counts_all_edges(df_true, df_simulated):\n",
    "    # Merge simulated output with ground truth\n",
    "    df1 = df_true\\\n",
    "        .merge(df_simulated, on=['edge_id'],\n",
    "        suffixes=('_GT', '_sim'), how='left')\n",
    "    \n",
    "    df1['interval_nVehContrib_sim'] = df1['interval_nVehContrib_sim'].fillna(0)\n",
    "        \n",
    "    df1['diff_square'] = (\n",
    "        df1['interval_nVehContrib_GT'] - df1['interval_nVehContrib_sim']\n",
    "        )**2\n",
    "    \n",
    "    n = df1.shape[0]\n",
    "    print(n)\n",
    "    print(df_true.shape[0])\n",
    "    print(df_simulated.shape[0])\n",
    "    RMSN = np.sqrt(n*(df1['diff_square'].sum()))/df1['interval_nVehContrib_GT'].sum()\n",
    "\n",
    "    return RMSN\n",
    "\n",
    "\n",
    "\n",
    "def generate_od_xml(x, config, sim_setup):\n",
    "\n",
    "    init_od_path = f\"{config['NETWORK']}/{sim_setup['init_od']}\"\n",
    "\n",
    "    if Path(init_od_path).is_file():\n",
    "        print(\"Reading:\",init_od_path)\n",
    "        tree = ET.parse(init_od_path)\n",
    "        root = tree.getroot()\n",
    "\n",
    "        for i,x in enumerate(x):\n",
    "            root[0][i].attrib[\"count\"] = str(np.round(x,4))\n",
    "            \n",
    "    file_name = f\"{config['NETWORK']}/{sim_setup['current_od']}\"\n",
    "    print('Saving: '+file_name)\n",
    "    tree.write(file_name)\n",
    "## Find upper and lower bounds\n",
    "import pandas as pd\n",
    "\n",
    "def transform_od_xml_to_pandas(file_path_xml):\n",
    "\n",
    "    tree = ET.parse(file_path_xml)\n",
    "    root = tree.getroot()\n",
    "\n",
    "    od_mat = []\n",
    "    for taz_elem in root.iter('tazRelation'):\n",
    "        od_mat.append([taz_elem.get('from'), taz_elem.get('to'), int(taz_elem.get('count'))])\n",
    "    \n",
    "    df_od = pd.DataFrame(od_mat, columns=['tazFrom', 'tazTo', 'tazCount'])\n",
    "\n",
    "    return df_od\n"
   ]
  },
  {
   "cell_type": "code",
   "execution_count": 22,
   "metadata": {},
   "outputs": [],
   "source": [
    "file_path_xml = str(config['NETWORK']) + \"/\" + sim_setup['gt_od']\n",
    "df_gt = transform_od_xml_to_pandas(file_path_xml)\n",
    "\n",
    "device = torch.device(\"cuda:3\" if torch.cuda.is_available() else \"cpu\")\n",
    "dtype = torch.double\n"
   ]
  },
  {
   "cell_type": "code",
   "execution_count": 23,
   "metadata": {},
   "outputs": [],
   "source": [
    "dim_od = df_gt.shape[0]"
   ]
  },
  {
   "cell_type": "code",
   "execution_count": 24,
   "metadata": {},
   "outputs": [],
   "source": [
    "### Obtain ground-truth value\n",
    "loop_stats_df_gt, _ = parse_loop_data_xml_to_pandas(\n",
    "    config,\n",
    "    loop_file = f\"/Users/rodrse/Downloads/calibrate_ods_carolina/network/SFO/gt_{sim_setup['prefix_sim_run']}_edge_data_SFO.xml\"\n",
    ")\n"
   ]
  },
  {
   "cell_type": "code",
   "execution_count": 25,
   "metadata": {},
   "outputs": [],
   "source": [
    "prefix_input = \"current\"\n",
    "prefix_output = \"current\"\n",
    "loop_file = f\"/Users/rodrse/Downloads/calibrate_ods_carolina/network/SFO/{prefix_output}_{sim_setup['prefix_sim_run']}_edge_data_SFO.xml\"\n"
   ]
  },
  {
   "cell_type": "markdown",
   "metadata": {},
   "source": [
    "### Run loop"
   ]
  },
  {
   "cell_type": "code",
   "execution_count": 20,
   "metadata": {},
   "outputs": [
    {
     "data": {
      "text/plain": [
       "tensor([[[1., 1., 1.,  ..., 3., 1., 2.],\n",
       "         [1., 1., 1.,  ..., 3., 1., 2.],\n",
       "         [1., 1., 1.,  ..., 3., 1., 2.],\n",
       "         ...,\n",
       "         [1., 1., 1.,  ..., 3., 1., 2.],\n",
       "         [1., 1., 1.,  ..., 3., 1., 2.],\n",
       "         [1., 1., 1.,  ..., 3., 1., 2.]],\n",
       "\n",
       "        [[1., 1., 1.,  ..., 3., 1., 2.],\n",
       "         [1., 1., 1.,  ..., 3., 1., 2.],\n",
       "         [1., 1., 1.,  ..., 3., 1., 2.],\n",
       "         ...,\n",
       "         [1., 1., 1.,  ..., 3., 1., 2.],\n",
       "         [1., 1., 1.,  ..., 3., 1., 2.],\n",
       "         [1., 1., 1.,  ..., 3., 1., 2.]]], dtype=torch.float64)"
      ]
     },
     "execution_count": 20,
     "metadata": {},
     "output_type": "execute_result"
    }
   ],
   "source": [
    "NITER = 20\n",
    "i = NITER\n",
    "a = 1-1/((NITER - i) + 1)\n",
    "\n",
    "\n",
    "bounds = torch.tensor([\n",
    "    [ df_gt[ 'tazCount'] - a for _ in range(dim_od)],\n",
    "    [ df_gt[ 'tazCount'] + a for _ in range(dim_od)]\n",
    "], device=device, dtype=dtype) \n",
    "\n",
    "bounds"
   ]
  },
  {
   "cell_type": "code",
   "execution_count": 26,
   "metadata": {},
   "outputs": [
    {
     "data": {
      "text/plain": [
       "tensor([[1., 1., 1.,  ..., 3., 1., 2.],\n",
       "        [1., 1., 1.,  ..., 3., 1., 2.],\n",
       "        [1., 1., 1.,  ..., 3., 1., 2.],\n",
       "        ...,\n",
       "        [1., 1., 1.,  ..., 3., 1., 2.],\n",
       "        [1., 1., 1.,  ..., 3., 1., 2.],\n",
       "        [1., 1., 1.,  ..., 3., 1., 2.]], dtype=torch.float64)"
      ]
     },
     "execution_count": 26,
     "metadata": {},
     "output_type": "execute_result"
    }
   ],
   "source": [
    "# Sample according to Sobol\n",
    "from torch.quasirandom import SobolEngine\n",
    "from botorch.utils.transforms import unnormalize\n",
    "\n",
    "n0 = 1\n",
    "sobol = SobolEngine(dim_od, scramble=True)\n",
    "\n",
    "a = 1-1/((NITER - i) + 1)\n",
    "\n",
    "\n",
    "bounds = torch.tensor([\n",
    "    [ df_gt[ 'tazCount'] - a for _ in range(dim_od)],\n",
    "    [ df_gt[ 'tazCount'] + a for _ in range(dim_od)]\n",
    "], device=device, dtype=dtype) \n",
    "\n",
    "x_0 = sobol.draw(n0).to(dtype=dtype)\n",
    "\n",
    "# map the normalized into the original parameter space\n",
    "train_X0 = unnormalize(x_0, bounds)\n",
    "train_X0"
   ]
  },
  {
   "cell_type": "code",
   "execution_count": 52,
   "metadata": {},
   "outputs": [
    {
     "name": "stdout",
     "output_type": "stream",
     "text": [
      "########### BO iteration=1 ###########\n",
      "Next sampling locations:[[0.84229721 0.25771944 0.71663089 ... 3.60947986 0.26794998 2.0456409 ]\n",
      " [0.84229721 0.25771944 0.71663089 ... 3.60947986 0.26794998 2.0456409 ]\n",
      " [0.84229721 0.25771944 0.71663089 ... 3.60947986 0.26794998 2.0456409 ]\n",
      " ...\n",
      " [0.84229721 0.25771944 0.71663089 ... 3.60947986 0.26794998 2.0456409 ]\n",
      " [0.84229721 0.25771944 0.71663089 ... 3.60947986 0.26794998 2.0456409 ]\n",
      " [0.84229721 0.25771944 0.71663089 ... 3.60947986 0.26794998 2.0456409 ]].\n",
      "########### Sampling location=1 ###########\n",
      "Generating new OD...\n",
      "Reading: /Users/rodrse/Downloads/calibrate_ods_carolina/network/SFO/initOD_lowCongestion_5minDemand.xml\n",
      "Saving: /Users/rodrse/Downloads/calibrate_ods_carolina/network/SFO/current_lowCongestion_5minDemand_od.xml\n",
      "Querying simulator...\n",
      "od2trips  --spread.uniform --taz-files /Users/rodrse/Downloads/calibrate_ods_carolina/network/SFO/taz.xml --tazrelation-files /Users/rodrse/Downloads/calibrate_ods_carolina/network/SFO/current_lowCongestion_5minDemand_od.xml -o /Users/rodrse/Downloads/calibrate_ods_carolina/network/SFO/current_lowCongestion_5minDemand_od_trips.trips.xml \n",
      "Success.time 3000.00\n",
      "###### Running SUMO #######\n",
      "sumo --output-prefix current_lowCongestion_5minDemand_ --ignore-route-errors=true --net-file=/Users/rodrse/Downloads/calibrate_ods_carolina/network/SFO/SFO.net.xml --routes=/Users/rodrse/Downloads/calibrate_ods_carolina/network/SFO/current_lowCongestion_5minDemand_od_trips.trips.xml -b 0 -e 3600 --additional-files /Users/rodrse/Downloads/calibrate_ods_carolina/network/SFO/additional.add.xml --duration-log.statistics --xml-validation never --vehroutes /Users/rodrse/Downloads/calibrate_ods_carolina/network/SFO/routes.vehroutes.xml --verbose --no-warnings --mesosim true \n",
      "Loading net-file from '/Users/rodrse/Downloads/calibrate_ods_carolina/network/SFO/SFO.net.xml' ... "
     ]
    }
   ],
   "source": [
    "# Sample according to Sobol\n",
    "from torch.quasirandom import SobolEngine\n",
    "from botorch.utils.transforms import unnormalize\n",
    "\n",
    "n0 = 1\n",
    "BATCH_SIZE = n0\n",
    "sobol = SobolEngine(dim_od, scramble=True)\n",
    "\n",
    "### Run loop\n",
    "\n",
    "NITER = 10\n",
    "best_value = []\n",
    "\n",
    "# Data frame of current training data\n",
    "\n",
    "for i in range(NITER):\n",
    "\n",
    "    print(f\"########### BO iteration={i+1} ###########\")\n",
    "\n",
    "    a = 1-1/(NITER- (i+ 1) + 1)\n",
    "\n",
    "    bounds = torch.tensor([\n",
    "        [df_gt[ 'tazCount'] - a for _ in range(dim_od)],\n",
    "        [df_gt[ 'tazCount'] + a for _ in range(dim_od)]\n",
    "    ], device=device, dtype=dtype) \n",
    "\n",
    "    x_0 = sobol.draw(n0).to(dtype=dtype)\n",
    "\n",
    "    # map the normalized into the original parameter space\n",
    "    x_i = unnormalize(x_0, bounds)\n",
    "    x_i = x_i.cpu().detach().numpy()\n",
    "\n",
    "    # Print current status\n",
    "\n",
    "    print(f\"Next sampling locations:{x_i}.\")\n",
    "\n",
    "    # Sample simulator\n",
    "    batch_data_i = []\n",
    "    for j in range(BATCH_SIZE):\n",
    "        loss = []\n",
    "        print(f\"########### Sampling location={j+1} ###########\")\n",
    "\n",
    "        # Generate OD\n",
    "        print(f\"Generating new OD...\")\n",
    "        generate_od_xml(x_i[j], config, sim_setup)\n",
    "\n",
    "        # Query simulator\n",
    "        print(f\"Querying simulator...\")\n",
    "        run_sumo(config, sim_setup, prefix_input, prefix_output)\n",
    "\n",
    "        # Compute metrics\n",
    "        print(f\"Computing metrics...\")\n",
    "        loop_stats_df_current, _ = parse_loop_data_xml_to_pandas(config,loop_file)\n",
    "\n",
    "        # Compute loss with respect to gt\n",
    "        y_i = compute_nrmse_counts_all_edges(loop_stats_df_gt, loop_stats_df_current)\n",
    "\n",
    "        # Parse training data\n",
    "        df_j = pd.DataFrame(x_i[j].reshape(1,dim_od),\n",
    "                            columns = [f\"x_{i+1}\" for i in range(dim_od)])\n",
    "        df_j['loss'] = y_i\n",
    "        batch_data_i.append(df_j)\n",
    "\n",
    "    df_i = pd.concat(batch_data_i)\n",
    "    df_i[\"bo_iteration\"] = i+1\n",
    "\n",
    "    if i==0:\n",
    "        df_training = df_i\n",
    "    else:    \n",
    "        df_training = pd.concat([df_training,df_i])\n"
   ]
  },
  {
   "cell_type": "code",
   "execution_count": 50,
   "metadata": {},
   "outputs": [],
   "source": [
    "i = 19"
   ]
  },
  {
   "cell_type": "code",
   "execution_count": 51,
   "metadata": {},
   "outputs": [
    {
     "data": {
      "text/plain": [
       "0.0"
      ]
     },
     "execution_count": 51,
     "metadata": {},
     "output_type": "execute_result"
    }
   ],
   "source": [
    "1-1/(NITER- (i+ 1) + 1)"
   ]
  },
  {
   "cell_type": "code",
   "execution_count": 31,
   "metadata": {},
   "outputs": [
    {
     "data": {
      "text/plain": [
       "0.5"
      ]
     },
     "execution_count": 31,
     "metadata": {},
     "output_type": "execute_result"
    }
   ],
   "source": [
    "a"
   ]
  },
  {
   "cell_type": "code",
   "execution_count": 30,
   "metadata": {},
   "outputs": [
    {
     "data": {
      "text/html": [
       "<div>\n",
       "<style scoped>\n",
       "    .dataframe tbody tr th:only-of-type {\n",
       "        vertical-align: middle;\n",
       "    }\n",
       "\n",
       "    .dataframe tbody tr th {\n",
       "        vertical-align: top;\n",
       "    }\n",
       "\n",
       "    .dataframe thead th {\n",
       "        text-align: right;\n",
       "    }\n",
       "</style>\n",
       "<table border=\"1\" class=\"dataframe\">\n",
       "  <thead>\n",
       "    <tr style=\"text-align: right;\">\n",
       "      <th></th>\n",
       "      <th>x_1</th>\n",
       "      <th>x_2</th>\n",
       "      <th>x_3</th>\n",
       "      <th>x_4</th>\n",
       "      <th>x_5</th>\n",
       "      <th>x_6</th>\n",
       "      <th>x_7</th>\n",
       "      <th>x_8</th>\n",
       "      <th>x_9</th>\n",
       "      <th>x_10</th>\n",
       "      <th>...</th>\n",
       "      <th>x_35</th>\n",
       "      <th>x_36</th>\n",
       "      <th>x_37</th>\n",
       "      <th>x_38</th>\n",
       "      <th>x_39</th>\n",
       "      <th>x_40</th>\n",
       "      <th>x_41</th>\n",
       "      <th>x_42</th>\n",
       "      <th>loss</th>\n",
       "      <th>bo_iteration</th>\n",
       "    </tr>\n",
       "  </thead>\n",
       "  <tbody>\n",
       "    <tr>\n",
       "      <th>0</th>\n",
       "      <td>0.757019</td>\n",
       "      <td>0.904878</td>\n",
       "      <td>1.382939</td>\n",
       "      <td>1.254326</td>\n",
       "      <td>0.820688</td>\n",
       "      <td>1.217617</td>\n",
       "      <td>1.228652</td>\n",
       "      <td>0.742511</td>\n",
       "      <td>1.458277</td>\n",
       "      <td>0.995072</td>\n",
       "      <td>...</td>\n",
       "      <td>0.686884</td>\n",
       "      <td>0.762039</td>\n",
       "      <td>1.243041</td>\n",
       "      <td>1.064219</td>\n",
       "      <td>1.439828</td>\n",
       "      <td>2.878863</td>\n",
       "      <td>0.565043</td>\n",
       "      <td>1.6069</td>\n",
       "      <td>0.50949</td>\n",
       "      <td>20</td>\n",
       "    </tr>\n",
       "  </tbody>\n",
       "</table>\n",
       "<p>1 rows × 44 columns</p>\n",
       "</div>"
      ],
      "text/plain": [
       "        x_1       x_2       x_3       x_4       x_5       x_6       x_7  \\\n",
       "0  0.757019  0.904878  1.382939  1.254326  0.820688  1.217617  1.228652   \n",
       "\n",
       "        x_8       x_9      x_10  ...      x_35      x_36      x_37      x_38  \\\n",
       "0  0.742511  1.458277  0.995072  ...  0.686884  0.762039  1.243041  1.064219   \n",
       "\n",
       "       x_39      x_40      x_41    x_42     loss  bo_iteration  \n",
       "0  1.439828  2.878863  0.565043  1.6069  0.50949            20  \n",
       "\n",
       "[1 rows x 44 columns]"
      ]
     },
     "execution_count": 30,
     "metadata": {},
     "output_type": "execute_result"
    }
   ],
   "source": [
    "df_training.tail(1)"
   ]
  },
  {
   "cell_type": "code",
   "execution_count": 29,
   "metadata": {},
   "outputs": [
    {
     "data": {
      "image/png": "[encoded data removed]",
      "text/plain": [
       "<Figure size 432x288 with 1 Axes>"
      ]
     },
     "metadata": {
      "needs_background": "light"
     },
     "output_type": "display_data"
    }
   ],
   "source": [
    "df_plot = df_training.query('bo_iteration>0')\n",
    "import numpy as np\n",
    "import matplotlib.pyplot as plt\n",
    "\n",
    "x = df_plot['bo_iteration']\n",
    "y = df_plot['loss'].cummin()\n",
    "\n",
    "plt.plot(x, y)\n",
    "#plt.legend(title='Parameter where:')\n",
    "plt.show()"
   ]
  },
  {
   "cell_type": "code",
   "execution_count": 16,
   "metadata": {},
   "outputs": [],
   "source": [
    "df_training.to_csv(f\"./data/{simulation_setup}_trust_region_BO.csv\", index = None)"
   ]
  },
  {
   "cell_type": "code",
   "execution_count": null,
   "metadata": {},
   "outputs": [],
   "source": []
  }
 ],
 "metadata": {
  "kernelspec": {
   "display_name": "BoTorch",
   "language": "python",
   "name": "botorch"
  },
  "language_info": {
   "codemirror_mode": {
    "name": "ipython",
    "version": 3
   },
   "file_extension": ".py",
   "mimetype": "text/x-python",
   "name": "python",
   "nbconvert_exporter": "python",
   "pygments_lexer": "ipython3",
   "version": "3.9.11"
  },
  "vscode": {
   "interpreter": {
    "hash": "609ae87f148291bad4d4d4812b8a406436d6ec29273407f95ac86e73fc385d5d"
   }
  }
 },
 "nbformat": 4,
 "nbformat_minor": 2
}
