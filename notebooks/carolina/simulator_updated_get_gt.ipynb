{
 "cells": [
  {
   "cell_type": "markdown",
   "metadata": {},
   "source": [
    "### Load config and setup file"
   ]
  },
  {
   "cell_type": "code",
   "execution_count": 9,
   "metadata": {},
   "outputs": [],
   "source": [
    "import xml.etree.ElementTree as ET\n",
    "import json\n",
    "from pathlib import Path"
   ]
  },
  {
   "cell_type": "code",
   "execution_count": 18,
   "metadata": {},
   "outputs": [],
   "source": [
    "#input_path = \"/Users/rodrse/Documents/DemandCalibration/package/calibrate_ods/network/SFO/metadata/\"\n",
    "#input_path = '/Users/osorio/HEC/Research/Group/ExternalCollaborations/SergioRodriguez_amazon/calibrate_ods/network/SFO/metadata/'\n",
    "input_path = '/Users/rodrse/Downloads/calibrate_ods_carolina/network/SFO/metadata/'\n",
    "\n"
   ]
  },
  {
   "cell_type": "code",
   "execution_count": 108,
   "metadata": {},
   "outputs": [],
   "source": [
    "#from sumo_python.helpers.load_experiment_metadata import load_experiment_metadata"
   ]
  },
  {
   "cell_type": "code",
   "execution_count": 19,
   "metadata": {},
   "outputs": [],
   "source": [
    "import json \n",
    "\n",
    "def load_experiment_metadata(input_path: str):\n",
    "\n",
    "    config = json.load(open(input_path + \"/config.json\"))\n",
    "    config[\"NETWORK\"] = Path(config[\"NETWORK\"])\n",
    "    config[\"SUMO\"] = Path(config[\"SUMO\"])\n",
    "    # [CO] updated simulation setup to use OD scenario #4: 42-dimensional  + low congestion.\n",
    "    sim_setup = json.load(open(input_path + \"simulation_setups_co_gt.json\"))\n",
    "\n",
    "    return config, sim_setup\n"
   ]
  },
  {
   "cell_type": "code",
   "execution_count": 20,
   "metadata": {},
   "outputs": [
    {
     "data": {
      "text/plain": [
       "{'objective': 'counts',\n",
       " 'net': 'SFO.net.xml',\n",
       " 'taz': 'taz.xml',\n",
       " 'add': 'additional.add.xml',\n",
       " 'start_sim_sec': 0,\n",
       " 'end_sim_sec': 1800,\n",
       " 'init_od': 'initOD_30minDemand.xml',\n",
       " 'gt_od': 'initOD_30minDemand.xml',\n",
       " 'n_sumo_replicate': 1,\n",
       " 'prefix_gt': 'gt',\n",
       " 'prefix_sim_run': 'current'}"
      ]
     },
     "execution_count": 20,
     "metadata": {},
     "output_type": "execute_result"
    }
   ],
   "source": [
    "\n",
    "config, sim_setup = load_experiment_metadata(input_path)\n",
    "\n",
    "sim_setup"
   ]
  },
  {
   "cell_type": "code",
   "execution_count": 21,
   "metadata": {},
   "outputs": [
    {
     "data": {
      "text/plain": [
       "{'NETWORK': PosixPath('/Users/rodrse/Downloads/calibrate_ods_carolina/network/SFO'),\n",
       " 'SUMO': PosixPath('/usr/local/opt/sumo/share/sumo')}"
      ]
     },
     "execution_count": 21,
     "metadata": {},
     "output_type": "execute_result"
    }
   ],
   "source": [
    "config"
   ]
  },
  {
   "cell_type": "markdown",
   "metadata": {},
   "source": [
    "### Check ground-truth OD matrix"
   ]
  },
  {
   "cell_type": "code",
   "execution_count": 30,
   "metadata": {},
   "outputs": [],
   "source": [
    "net_path = config['NETWORK']"
   ]
  },
  {
   "cell_type": "code",
   "execution_count": 32,
   "metadata": {},
   "outputs": [],
   "source": [
    "tree = ET.parse(f'{net_path}' + \"/\" + sim_setup['gt_od'])\n",
    "root = tree.getroot()\n",
    "\n",
    "od_mat = []\n",
    "for taz_elem in root.iter('tazRelation'):\n",
    "    od_mat.append([taz_elem.get('from'), taz_elem.get('to'), int(taz_elem.get('count'))])\n"
   ]
  },
  {
   "cell_type": "code",
   "execution_count": 33,
   "metadata": {},
   "outputs": [],
   "source": [
    "import pandas as pd\n",
    "df_od = pd.DataFrame(od_mat, columns=['tazFrom', 'tazTo', 'tazCount'])"
   ]
  },
  {
   "cell_type": "code",
   "execution_count": 34,
   "metadata": {},
   "outputs": [
    {
     "data": {
      "text/plain": [
       "(45871, 3)"
      ]
     },
     "execution_count": 34,
     "metadata": {},
     "output_type": "execute_result"
    }
   ],
   "source": [
    "df_od.shape"
   ]
  },
  {
   "cell_type": "code",
   "execution_count": 36,
   "metadata": {},
   "outputs": [
    {
     "data": {
      "text/plain": [
       "<AxesSubplot: >"
      ]
     },
     "execution_count": 36,
     "metadata": {},
     "output_type": "execute_result"
    },
    {
     "data": {
      "image/png": "[encoded data removed]",
      "text/plain": [
       "<Figure size 432x288 with 1 Axes>"
      ]
     },
     "metadata": {
      "needs_background": "light"
     },
     "output_type": "display_data"
    }
   ],
   "source": [
    "df_od.tazCount.hist()"
   ]
  },
  {
   "cell_type": "code",
   "execution_count": 41,
   "metadata": {},
   "outputs": [
    {
     "data": {
      "text/plain": [
       "array(['10100', '101100', '101200', ..., '982000', '983200', '984300'],\n",
       "      dtype=object)"
      ]
     },
     "execution_count": 41,
     "metadata": {},
     "output_type": "execute_result"
    }
   ],
   "source": [
    "df_od.tazFrom.unique()"
   ]
  },
  {
   "cell_type": "markdown",
   "metadata": {},
   "source": [
    "### Run GT simulations"
   ]
  },
  {
   "cell_type": "code",
   "execution_count": 22,
   "metadata": {},
   "outputs": [],
   "source": [
    "import os\n",
    "\n",
    "def run_sumo(config, sim_setup, prefix_input, prefix_output):\n",
    "    od2trips_cmd = (\n",
    "        #f\"od2trips --no-step-log  --spread.uniform \"\n",
    "        f\"od2trips  --spread.uniform \"\n",
    "        #Loads TAZ (districts)\n",
    "        f\"--taz-files {config['NETWORK']}/{sim_setup['taz']} \" \n",
    "        # Loads O/D-matrix in tazRelation format fromFILE(s)\n",
    "        f\"--tazrelation-files {config['NETWORK']}/{sim_setup[f'{prefix_input}_od']} \"\n",
    "        # Writes trip definitions into FILE\n",
    "        f\"-o {config['NETWORK']}/{prefix_output}_od_trips.trips.xml \" \n",
    "    )\n",
    "\n",
    "    # Run SUMO to generate outputs\n",
    "    sumo_run = (\n",
    "        # Prefix which is applied to all output files. \n",
    "        f\"sumo --output-prefix {prefix_output}_ \" \n",
    "        # Do not check whether routes are connected\n",
    "        f\"--ignore-route-errors=true \"\n",
    "        # Load road network description from FILE\n",
    "        f\"--net-file={config['NETWORK']/sim_setup['net']} \"\n",
    "        # Load routes descriptions from FILE(s)\n",
    "        f\"--routes={config['NETWORK']}/{prefix_output}_od_trips.trips.xml \"\n",
    "        #  -b Defines the begin time in seconds; The simulation starts at this time\n",
    "        # -e Defines the end time in seconds; The simulation ends at this time\n",
    "        f\"-b {sim_setup['start_sim_sec']} -e {sim_setup['end_sim_sec']} \"\n",
    "        # Load further descriptions from FILE(s)\n",
    "        f\"--additional-files {config['NETWORK']/sim_setup['add']} \"\n",
    "        f\"--duration-log.statistics \"\n",
    "        f\"--xml-validation never \"\n",
    "        # Save single vehicle route info into FILE\n",
    "        f\"--vehroutes {config['NETWORK']}/{prefix_output}_routes.vehroutes.xml \"\n",
    "        f\"--verbose \"\n",
    "        # Disables output of warnings\n",
    "        f\"--no-warnings \"\n",
    "        # Faster simulation (i.e. less detailed)\n",
    "        f\"--mesosim true \"\n",
    "    \n",
    "    )\n",
    "        # f\"--seed {seed}\"\n",
    "\n",
    "    try:\n",
    "        print(od2trips_cmd)\n",
    "        os.system(od2trips_cmd)\n",
    "    except:\n",
    "        print(\"Unable to create trips file\")\n",
    "    else:\n",
    "        print(\"###### Running SUMO #######\")\n",
    "        print(sumo_run)\n",
    "        os.system(sumo_run)\n"
   ]
  },
  {
   "cell_type": "code",
   "execution_count": 23,
   "metadata": {},
   "outputs": [
    {
     "name": "stdout",
     "output_type": "stream",
     "text": [
      "###### GT #######\n",
      "od2trips  --spread.uniform --taz-files /Users/rodrse/Downloads/calibrate_ods_carolina/network/SFO/taz.xml --tazrelation-files /Users/rodrse/Downloads/calibrate_ods_carolina/network/SFO/initOD_30minDemand.xml -o /Users/rodrse/Downloads/calibrate_ods_carolina/network/SFO/gtOut_od_trips.trips.xml \n",
      "Success.time 1789.53\n",
      "###### Running SUMO #######\n",
      "sumo --output-prefix gtOut_ --ignore-route-errors=true --net-file=/Users/rodrse/Downloads/calibrate_ods_carolina/network/SFO/SFO.net.xml --routes=/Users/rodrse/Downloads/calibrate_ods_carolina/network/SFO/gtOut_od_trips.trips.xml -b 0 -e 1800 --additional-files /Users/rodrse/Downloads/calibrate_ods_carolina/network/SFO/additional.add.xml --duration-log.statistics --xml-validation never --vehroutes /Users/rodrse/Downloads/calibrate_ods_carolina/network/SFO/gtOut_routes.vehroutes.xml --verbose --no-warnings --mesosim true \n",
      "Loading net-file from '/Users/rodrse/Downloads/calibrate_ods_carolina/network/SFO/SFO.net.xml' ... \n",
      "done (25164ms).\n",
      "Loading additional-files from '/Users/rodrse/Downloads/calibrate_ods_carolina/network/SFO/additional.add.xml' ... done (305ms).\n",
      "Loading done.\n",
      "Simulation version 1.16.0 started with time: 0.00.\n",
      "Step #1800.00 (1322ms ~= 0.76*RT, ~20447.05UPS, vehicles TOT 97024 ACT 27031 BUF 1)       \n",
      "Simulation ended at time: 1800.00\n",
      "Reason: The final simulation step has been reached.\n",
      "Performance: \n",
      " Duration: 802.93s\n",
      " Real time factor: 2.2418\n",
      " UPS: 56677.279906\n",
      "Vehicles: \n",
      " Inserted: 97024 (Loaded: 97044)\n",
      " Running: 27031\n",
      " Waiting: 1\n",
      " Teleports: 24 (Jam: 24)\n",
      "Statistics (avg of 69993):\n",
      " RouteLength: 7128.93\n",
      " Speed: 15.45\n",
      " Duration: 440.94\n",
      " WaitingTime: 1.05\n",
      " TimeLoss: 10.74\n",
      " DepartDelay: 0.08\n",
      "\n",
      "DijkstraRouter answered 96999 queries and explored 10352.81 edges on average.\n",
      "DijkstraRouter spent 684.18s answering queries (7.05ms on average).\n",
      "Elapsed time:  838.5770480632782\n"
     ]
    }
   ],
   "source": [
    "import time\n",
    "print(\"###### GT #######\")\n",
    "start = time.time() \n",
    "run_sumo(config, sim_setup, prefix_input = \"gt\", prefix_output = \"gtOut\")\n",
    "end = time.time()\n",
    "print(\"Elapsed time: \", end - start)\n"
   ]
  },
  {
   "cell_type": "markdown",
   "metadata": {},
   "source": [
    "### Read output for GT"
   ]
  },
  {
   "cell_type": "code",
   "execution_count": 24,
   "metadata": {},
   "outputs": [],
   "source": [
    "# excluding warmup period of 15min\n",
    "# so you need to simulate for at least 15min now. \n",
    "warm_up_sec = 15*60 # duration in seconds\n",
    "\n",
    "# duration, in seconds, of each edge simulation output statistics\n",
    "# this value should be consistent with what is defined in additional.add.xml\n",
    "edge_stats_freq = 300"
   ]
  },
  {
   "cell_type": "markdown",
   "metadata": {},
   "source": [
    "Scenario is simplified we aggregate all traffic stats over all time intervals simulated, excluding the warm-up period. We compute a single loss over that average aggregate statistic. So no longer looking at time-dependent statistics."
   ]
  },
  {
   "cell_type": "code",
   "execution_count": 26,
   "metadata": {},
   "outputs": [],
   "source": [
    "import os\n",
    "import pandas as pd\n",
    "from pandas import DataFrame\n",
    "import numpy as np\n",
    "\n",
    "def parse_loop_data_xml_to_pandas(config: dict,loop_file: dict) -> DataFrame: \n",
    "    \"\"\"Read the Loop Detectors Data: Each SUMO run produces a file with the\n",
    "    traffic counts. This function reads the corresponding traffic counts file\n",
    "    averages across simulation replications\n",
    "    \n",
    "    \"\"\"\n",
    "\n",
    "    output_file =(config[\"NETWORK\"] / \"loopOutputs.csv\")\n",
    "    ## See output explanation:\n",
    "    # https://sumo.dlr.de/docs/Simulation/Output/Lane-_or_Edge-based_Traffic_Measures.html#generated_output\n",
    "\n",
    "    data2csv = (\n",
    "        f\"python {config['SUMO']}/tools/xml/xml2csv.py \"\n",
    "        f\"{loop_file} \"\n",
    "        f\"-o {output_file}\"\n",
    "        )\n",
    "    \n",
    "    os.system(data2csv)\n",
    "    \n",
    "    df_trips = pd.read_csv(output_file, sep=\";\", header=0)\n",
    "\n",
    "    # edge flow in vehicles per hour\n",
    "    ## edge speed is given in m/s\n",
    "    ## edge_density is given in no. of vehicles/km\n",
    "\n",
    "    df_trips['interval_nVehContrib'] = df_trips['edge_arrived'] + df_trips['edge_left']\n",
    "    #df_trips['interval_nVehContrib'] = 3.6*df_trips['edge_speed']*df_trips['edge_density']\n",
    "\n",
    "\n",
    "    #df_trips['EdgeID'] = df_trips['edge_id']\n",
    "\n",
    "    # edge speed is given in m/s\n",
    "    # computed only for edges that have departed flow\n",
    "    df_trips['interval_harmonicMeanSpeed'] = df_trips[df_trips['interval_nVehContrib']>0]['edge_speed']\n",
    "    \n",
    "    # exclude warm-up period\n",
    "    df_trips = df_trips[df_trips['interval_begin']>warm_up_sec]\n",
    "\n",
    "    # aggregate the rest of the time intervals\n",
    "    df_trips = df_trips[df_trips['interval_begin']>warm_up_sec]\n",
    "    df_agg = df_trips.groupby(by=['edge_id'], as_index=False).agg(\n",
    "        {'interval_nVehContrib':np.sum, 'interval_harmonicMeanSpeed':np.mean})\n",
    "\n",
    "\n",
    "    return df_agg, df_trips"
   ]
  },
  {
   "cell_type": "code",
   "execution_count": 27,
   "metadata": {},
   "outputs": [],
   "source": [
    "loop_stats_df_gt, df_trips_gt = parse_loop_data_xml_to_pandas(\n",
    "    config,\n",
    "    loop_file = \"../../network/SFO/gt_edge_data_SFO.xml\"\n",
    ")\n"
   ]
  },
  {
   "cell_type": "code",
   "execution_count": 28,
   "metadata": {},
   "outputs": [
    {
     "data": {
      "text/html": [
       "<div>\n",
       "<style scoped>\n",
       "    .dataframe tbody tr th:only-of-type {\n",
       "        vertical-align: middle;\n",
       "    }\n",
       "\n",
       "    .dataframe tbody tr th {\n",
       "        vertical-align: top;\n",
       "    }\n",
       "\n",
       "    .dataframe thead th {\n",
       "        text-align: right;\n",
       "    }\n",
       "</style>\n",
       "<table border=\"1\" class=\"dataframe\">\n",
       "  <thead>\n",
       "    <tr style=\"text-align: right;\">\n",
       "      <th></th>\n",
       "      <th>edge_id</th>\n",
       "      <th>interval_nVehContrib</th>\n",
       "      <th>interval_harmonicMeanSpeed</th>\n",
       "    </tr>\n",
       "  </thead>\n",
       "  <tbody>\n",
       "    <tr>\n",
       "      <th>0</th>\n",
       "      <td>-100134682#0</td>\n",
       "      <td>7</td>\n",
       "      <td>14.92</td>\n",
       "    </tr>\n",
       "    <tr>\n",
       "      <th>1</th>\n",
       "      <td>-100134703#0</td>\n",
       "      <td>4</td>\n",
       "      <td>7.27</td>\n",
       "    </tr>\n",
       "    <tr>\n",
       "      <th>2</th>\n",
       "      <td>-100134703#1</td>\n",
       "      <td>3</td>\n",
       "      <td>7.15</td>\n",
       "    </tr>\n",
       "    <tr>\n",
       "      <th>3</th>\n",
       "      <td>-100217518</td>\n",
       "      <td>1</td>\n",
       "      <td>4.73</td>\n",
       "    </tr>\n",
       "    <tr>\n",
       "      <th>4</th>\n",
       "      <td>-100217520#4</td>\n",
       "      <td>0</td>\n",
       "      <td>NaN</td>\n",
       "    </tr>\n",
       "  </tbody>\n",
       "</table>\n",
       "</div>"
      ],
      "text/plain": [
       "        edge_id  interval_nVehContrib  interval_harmonicMeanSpeed\n",
       "0  -100134682#0                     7                       14.92\n",
       "1  -100134703#0                     4                        7.27\n",
       "2  -100134703#1                     3                        7.15\n",
       "3    -100217518                     1                        4.73\n",
       "4  -100217520#4                     0                         NaN"
      ]
     },
     "execution_count": 28,
     "metadata": {},
     "output_type": "execute_result"
    }
   ],
   "source": [
    "loop_stats_df_gt.head()"
   ]
  },
  {
   "cell_type": "code",
   "execution_count": 29,
   "metadata": {},
   "outputs": [
    {
     "data": {
      "text/html": [
       "<div>\n",
       "<style scoped>\n",
       "    .dataframe tbody tr th:only-of-type {\n",
       "        vertical-align: middle;\n",
       "    }\n",
       "\n",
       "    .dataframe tbody tr th {\n",
       "        vertical-align: top;\n",
       "    }\n",
       "\n",
       "    .dataframe thead th {\n",
       "        text-align: right;\n",
       "    }\n",
       "</style>\n",
       "<table border=\"1\" class=\"dataframe\">\n",
       "  <thead>\n",
       "    <tr style=\"text-align: right;\">\n",
       "      <th></th>\n",
       "      <th>interval_begin</th>\n",
       "      <th>interval_end</th>\n",
       "      <th>interval_id</th>\n",
       "      <th>edge_arrived</th>\n",
       "      <th>edge_density</th>\n",
       "      <th>edge_departed</th>\n",
       "      <th>edge_entered</th>\n",
       "      <th>edge_id</th>\n",
       "      <th>edge_laneChangedFrom</th>\n",
       "      <th>edge_laneChangedTo</th>\n",
       "      <th>...</th>\n",
       "      <th>edge_occupancy</th>\n",
       "      <th>edge_overlapTraveltime</th>\n",
       "      <th>edge_sampledSeconds</th>\n",
       "      <th>edge_speed</th>\n",
       "      <th>edge_speedRelative</th>\n",
       "      <th>edge_timeLoss</th>\n",
       "      <th>edge_traveltime</th>\n",
       "      <th>edge_waitingTime</th>\n",
       "      <th>interval_nVehContrib</th>\n",
       "      <th>interval_harmonicMeanSpeed</th>\n",
       "    </tr>\n",
       "  </thead>\n",
       "  <tbody>\n",
       "    <tr>\n",
       "      <th>340932</th>\n",
       "      <td>1200.0</td>\n",
       "      <td>1500.0</td>\n",
       "      <td>dump_10</td>\n",
       "      <td>0</td>\n",
       "      <td>1.10</td>\n",
       "      <td>0</td>\n",
       "      <td>5</td>\n",
       "      <td>-100134682#0</td>\n",
       "      <td>0</td>\n",
       "      <td>0</td>\n",
       "      <td>...</td>\n",
       "      <td>0.55</td>\n",
       "      <td>10.11</td>\n",
       "      <td>48.88</td>\n",
       "      <td>15.16</td>\n",
       "      <td>1.10</td>\n",
       "      <td>0.00</td>\n",
       "      <td>9.78</td>\n",
       "      <td>0.0</td>\n",
       "      <td>5</td>\n",
       "      <td>15.16</td>\n",
       "    </tr>\n",
       "    <tr>\n",
       "      <th>340933</th>\n",
       "      <td>1200.0</td>\n",
       "      <td>1500.0</td>\n",
       "      <td>dump_10</td>\n",
       "      <td>0</td>\n",
       "      <td>1.83</td>\n",
       "      <td>1</td>\n",
       "      <td>3</td>\n",
       "      <td>-100134703#0</td>\n",
       "      <td>0</td>\n",
       "      <td>0</td>\n",
       "      <td>...</td>\n",
       "      <td>0.92</td>\n",
       "      <td>11.96</td>\n",
       "      <td>45.09</td>\n",
       "      <td>7.27</td>\n",
       "      <td>1.06</td>\n",
       "      <td>0.00</td>\n",
       "      <td>11.27</td>\n",
       "      <td>0.0</td>\n",
       "      <td>4</td>\n",
       "      <td>7.27</td>\n",
       "    </tr>\n",
       "    <tr>\n",
       "      <th>340934</th>\n",
       "      <td>1200.0</td>\n",
       "      <td>1500.0</td>\n",
       "      <td>dump_10</td>\n",
       "      <td>0</td>\n",
       "      <td>1.40</td>\n",
       "      <td>0</td>\n",
       "      <td>3</td>\n",
       "      <td>-100134703#1</td>\n",
       "      <td>0</td>\n",
       "      <td>0</td>\n",
       "      <td>...</td>\n",
       "      <td>0.70</td>\n",
       "      <td>12.18</td>\n",
       "      <td>34.45</td>\n",
       "      <td>7.15</td>\n",
       "      <td>1.04</td>\n",
       "      <td>0.00</td>\n",
       "      <td>11.48</td>\n",
       "      <td>0.0</td>\n",
       "      <td>3</td>\n",
       "      <td>7.15</td>\n",
       "    </tr>\n",
       "    <tr>\n",
       "      <th>340935</th>\n",
       "      <td>1200.0</td>\n",
       "      <td>1500.0</td>\n",
       "      <td>dump_10</td>\n",
       "      <td>1</td>\n",
       "      <td>0.70</td>\n",
       "      <td>0</td>\n",
       "      <td>1</td>\n",
       "      <td>-100217518</td>\n",
       "      <td>0</td>\n",
       "      <td>0</td>\n",
       "      <td>...</td>\n",
       "      <td>0.35</td>\n",
       "      <td>4.32</td>\n",
       "      <td>3.27</td>\n",
       "      <td>4.73</td>\n",
       "      <td>1.06</td>\n",
       "      <td>0.00</td>\n",
       "      <td>3.27</td>\n",
       "      <td>0.0</td>\n",
       "      <td>1</td>\n",
       "      <td>4.73</td>\n",
       "    </tr>\n",
       "    <tr>\n",
       "      <th>340936</th>\n",
       "      <td>1200.0</td>\n",
       "      <td>1500.0</td>\n",
       "      <td>dump_10</td>\n",
       "      <td>0</td>\n",
       "      <td>6.17</td>\n",
       "      <td>1</td>\n",
       "      <td>23</td>\n",
       "      <td>-100400941#2</td>\n",
       "      <td>0</td>\n",
       "      <td>0</td>\n",
       "      <td>...</td>\n",
       "      <td>3.08</td>\n",
       "      <td>11.84</td>\n",
       "      <td>271.68</td>\n",
       "      <td>12.82</td>\n",
       "      <td>0.93</td>\n",
       "      <td>6.97</td>\n",
       "      <td>11.45</td>\n",
       "      <td>0.0</td>\n",
       "      <td>23</td>\n",
       "      <td>12.82</td>\n",
       "    </tr>\n",
       "    <tr>\n",
       "      <th>...</th>\n",
       "      <td>...</td>\n",
       "      <td>...</td>\n",
       "      <td>...</td>\n",
       "      <td>...</td>\n",
       "      <td>...</td>\n",
       "      <td>...</td>\n",
       "      <td>...</td>\n",
       "      <td>...</td>\n",
       "      <td>...</td>\n",
       "      <td>...</td>\n",
       "      <td>...</td>\n",
       "      <td>...</td>\n",
       "      <td>...</td>\n",
       "      <td>...</td>\n",
       "      <td>...</td>\n",
       "      <td>...</td>\n",
       "      <td>...</td>\n",
       "      <td>...</td>\n",
       "      <td>...</td>\n",
       "      <td>...</td>\n",
       "      <td>...</td>\n",
       "    </tr>\n",
       "    <tr>\n",
       "      <th>546879</th>\n",
       "      <td>1500.0</td>\n",
       "      <td>1800.0</td>\n",
       "      <td>dump_10</td>\n",
       "      <td>2</td>\n",
       "      <td>0.94</td>\n",
       "      <td>0</td>\n",
       "      <td>4</td>\n",
       "      <td>99278924#8</td>\n",
       "      <td>0</td>\n",
       "      <td>0</td>\n",
       "      <td>...</td>\n",
       "      <td>0.47</td>\n",
       "      <td>6.42</td>\n",
       "      <td>24.26</td>\n",
       "      <td>14.15</td>\n",
       "      <td>1.03</td>\n",
       "      <td>0.00</td>\n",
       "      <td>6.06</td>\n",
       "      <td>0.0</td>\n",
       "      <td>4</td>\n",
       "      <td>14.15</td>\n",
       "    </tr>\n",
       "    <tr>\n",
       "      <th>546880</th>\n",
       "      <td>1500.0</td>\n",
       "      <td>1800.0</td>\n",
       "      <td>dump_10</td>\n",
       "      <td>0</td>\n",
       "      <td>0.23</td>\n",
       "      <td>0</td>\n",
       "      <td>1</td>\n",
       "      <td>99278924#9</td>\n",
       "      <td>0</td>\n",
       "      <td>0</td>\n",
       "      <td>...</td>\n",
       "      <td>0.11</td>\n",
       "      <td>7.05</td>\n",
       "      <td>6.71</td>\n",
       "      <td>14.52</td>\n",
       "      <td>1.05</td>\n",
       "      <td>0.00</td>\n",
       "      <td>6.71</td>\n",
       "      <td>0.0</td>\n",
       "      <td>1</td>\n",
       "      <td>14.52</td>\n",
       "    </tr>\n",
       "    <tr>\n",
       "      <th>546881</th>\n",
       "      <td>1500.0</td>\n",
       "      <td>1800.0</td>\n",
       "      <td>dump_10</td>\n",
       "      <td>0</td>\n",
       "      <td>0.50</td>\n",
       "      <td>0</td>\n",
       "      <td>2</td>\n",
       "      <td>99393122</td>\n",
       "      <td>0</td>\n",
       "      <td>0</td>\n",
       "      <td>...</td>\n",
       "      <td>0.13</td>\n",
       "      <td>6.20</td>\n",
       "      <td>11.64</td>\n",
       "      <td>13.26</td>\n",
       "      <td>0.96</td>\n",
       "      <td>0.00</td>\n",
       "      <td>5.82</td>\n",
       "      <td>0.0</td>\n",
       "      <td>2</td>\n",
       "      <td>13.26</td>\n",
       "    </tr>\n",
       "    <tr>\n",
       "      <th>546882</th>\n",
       "      <td>1500.0</td>\n",
       "      <td>1800.0</td>\n",
       "      <td>dump_10</td>\n",
       "      <td>0</td>\n",
       "      <td>0.17</td>\n",
       "      <td>0</td>\n",
       "      <td>1</td>\n",
       "      <td>99425743#0</td>\n",
       "      <td>0</td>\n",
       "      <td>0</td>\n",
       "      <td>...</td>\n",
       "      <td>0.09</td>\n",
       "      <td>3.19</td>\n",
       "      <td>2.94</td>\n",
       "      <td>19.46</td>\n",
       "      <td>1.00</td>\n",
       "      <td>0.00</td>\n",
       "      <td>2.94</td>\n",
       "      <td>0.0</td>\n",
       "      <td>1</td>\n",
       "      <td>19.46</td>\n",
       "    </tr>\n",
       "    <tr>\n",
       "      <th>546883</th>\n",
       "      <td>1500.0</td>\n",
       "      <td>1800.0</td>\n",
       "      <td>dump_10</td>\n",
       "      <td>1</td>\n",
       "      <td>0.17</td>\n",
       "      <td>0</td>\n",
       "      <td>1</td>\n",
       "      <td>99425743#1</td>\n",
       "      <td>0</td>\n",
       "      <td>0</td>\n",
       "      <td>...</td>\n",
       "      <td>0.09</td>\n",
       "      <td>0.72</td>\n",
       "      <td>0.47</td>\n",
       "      <td>19.46</td>\n",
       "      <td>1.00</td>\n",
       "      <td>0.00</td>\n",
       "      <td>0.47</td>\n",
       "      <td>0.0</td>\n",
       "      <td>1</td>\n",
       "      <td>19.46</td>\n",
       "    </tr>\n",
       "  </tbody>\n",
       "</table>\n",
       "<p>205952 rows × 22 columns</p>\n",
       "</div>"
      ],
      "text/plain": [
       "        interval_begin  interval_end interval_id  edge_arrived  edge_density  \\\n",
       "340932          1200.0        1500.0     dump_10             0          1.10   \n",
       "340933          1200.0        1500.0     dump_10             0          1.83   \n",
       "340934          1200.0        1500.0     dump_10             0          1.40   \n",
       "340935          1200.0        1500.0     dump_10             1          0.70   \n",
       "340936          1200.0        1500.0     dump_10             0          6.17   \n",
       "...                ...           ...         ...           ...           ...   \n",
       "546879          1500.0        1800.0     dump_10             2          0.94   \n",
       "546880          1500.0        1800.0     dump_10             0          0.23   \n",
       "546881          1500.0        1800.0     dump_10             0          0.50   \n",
       "546882          1500.0        1800.0     dump_10             0          0.17   \n",
       "546883          1500.0        1800.0     dump_10             1          0.17   \n",
       "\n",
       "        edge_departed  edge_entered       edge_id  edge_laneChangedFrom  \\\n",
       "340932              0             5  -100134682#0                     0   \n",
       "340933              1             3  -100134703#0                     0   \n",
       "340934              0             3  -100134703#1                     0   \n",
       "340935              0             1    -100217518                     0   \n",
       "340936              1            23  -100400941#2                     0   \n",
       "...               ...           ...           ...                   ...   \n",
       "546879              0             4    99278924#8                     0   \n",
       "546880              0             1    99278924#9                     0   \n",
       "546881              0             2      99393122                     0   \n",
       "546882              0             1    99425743#0                     0   \n",
       "546883              0             1    99425743#1                     0   \n",
       "\n",
       "        edge_laneChangedTo  ...  edge_occupancy  edge_overlapTraveltime  \\\n",
       "340932                   0  ...            0.55                   10.11   \n",
       "340933                   0  ...            0.92                   11.96   \n",
       "340934                   0  ...            0.70                   12.18   \n",
       "340935                   0  ...            0.35                    4.32   \n",
       "340936                   0  ...            3.08                   11.84   \n",
       "...                    ...  ...             ...                     ...   \n",
       "546879                   0  ...            0.47                    6.42   \n",
       "546880                   0  ...            0.11                    7.05   \n",
       "546881                   0  ...            0.13                    6.20   \n",
       "546882                   0  ...            0.09                    3.19   \n",
       "546883                   0  ...            0.09                    0.72   \n",
       "\n",
       "        edge_sampledSeconds  edge_speed  edge_speedRelative  edge_timeLoss  \\\n",
       "340932                48.88       15.16                1.10           0.00   \n",
       "340933                45.09        7.27                1.06           0.00   \n",
       "340934                34.45        7.15                1.04           0.00   \n",
       "340935                 3.27        4.73                1.06           0.00   \n",
       "340936               271.68       12.82                0.93           6.97   \n",
       "...                     ...         ...                 ...            ...   \n",
       "546879                24.26       14.15                1.03           0.00   \n",
       "546880                 6.71       14.52                1.05           0.00   \n",
       "546881                11.64       13.26                0.96           0.00   \n",
       "546882                 2.94       19.46                1.00           0.00   \n",
       "546883                 0.47       19.46                1.00           0.00   \n",
       "\n",
       "        edge_traveltime  edge_waitingTime  interval_nVehContrib  \\\n",
       "340932             9.78               0.0                     5   \n",
       "340933            11.27               0.0                     4   \n",
       "340934            11.48               0.0                     3   \n",
       "340935             3.27               0.0                     1   \n",
       "340936            11.45               0.0                    23   \n",
       "...                 ...               ...                   ...   \n",
       "546879             6.06               0.0                     4   \n",
       "546880             6.71               0.0                     1   \n",
       "546881             5.82               0.0                     2   \n",
       "546882             2.94               0.0                     1   \n",
       "546883             0.47               0.0                     1   \n",
       "\n",
       "        interval_harmonicMeanSpeed  \n",
       "340932                       15.16  \n",
       "340933                        7.27  \n",
       "340934                        7.15  \n",
       "340935                        4.73  \n",
       "340936                       12.82  \n",
       "...                            ...  \n",
       "546879                       14.15  \n",
       "546880                       14.52  \n",
       "546881                       13.26  \n",
       "546882                       19.46  \n",
       "546883                       19.46  \n",
       "\n",
       "[205952 rows x 22 columns]"
      ]
     },
     "execution_count": 29,
     "metadata": {},
     "output_type": "execute_result"
    }
   ],
   "source": [
    "df_trips_gt"
   ]
  },
  {
   "cell_type": "markdown",
   "metadata": {},
   "source": [
    "### Create and simulate a small variation of that GT OD\n",
    "Find an edge with counts that are not too low. Change the demand of the main OD pair that contributes to traffic on that edge. "
   ]
  },
  {
   "cell_type": "code",
   "execution_count": 119,
   "metadata": {},
   "outputs": [
    {
     "data": {
      "text/html": [
       "<div>\n",
       "<style scoped>\n",
       "    .dataframe tbody tr th:only-of-type {\n",
       "        vertical-align: middle;\n",
       "    }\n",
       "\n",
       "    .dataframe tbody tr th {\n",
       "        vertical-align: top;\n",
       "    }\n",
       "\n",
       "    .dataframe thead th {\n",
       "        text-align: right;\n",
       "    }\n",
       "</style>\n",
       "<table border=\"1\" class=\"dataframe\">\n",
       "  <thead>\n",
       "    <tr style=\"text-align: right;\">\n",
       "      <th></th>\n",
       "      <th>interval_begin</th>\n",
       "      <th>interval_end</th>\n",
       "      <th>interval_id</th>\n",
       "      <th>edge_arrived</th>\n",
       "      <th>edge_density</th>\n",
       "      <th>edge_departed</th>\n",
       "      <th>edge_entered</th>\n",
       "      <th>edge_id</th>\n",
       "      <th>edge_laneChangedFrom</th>\n",
       "      <th>edge_laneChangedTo</th>\n",
       "      <th>...</th>\n",
       "      <th>edge_occupancy</th>\n",
       "      <th>edge_overlapTraveltime</th>\n",
       "      <th>edge_sampledSeconds</th>\n",
       "      <th>edge_speed</th>\n",
       "      <th>edge_speedRelative</th>\n",
       "      <th>edge_timeLoss</th>\n",
       "      <th>edge_traveltime</th>\n",
       "      <th>edge_waitingTime</th>\n",
       "      <th>interval_nVehContrib</th>\n",
       "      <th>interval_harmonicMeanSpeed</th>\n",
       "    </tr>\n",
       "  </thead>\n",
       "  <tbody>\n",
       "    <tr>\n",
       "      <th>340932</th>\n",
       "      <td>1200.0</td>\n",
       "      <td>1500.0</td>\n",
       "      <td>dump_10</td>\n",
       "      <td>0</td>\n",
       "      <td>1.10</td>\n",
       "      <td>0</td>\n",
       "      <td>5</td>\n",
       "      <td>-100134682#0</td>\n",
       "      <td>0</td>\n",
       "      <td>0</td>\n",
       "      <td>...</td>\n",
       "      <td>0.55</td>\n",
       "      <td>10.11</td>\n",
       "      <td>48.88</td>\n",
       "      <td>15.16</td>\n",
       "      <td>1.10</td>\n",
       "      <td>0.00</td>\n",
       "      <td>9.78</td>\n",
       "      <td>0.0</td>\n",
       "      <td>5</td>\n",
       "      <td>15.16</td>\n",
       "    </tr>\n",
       "    <tr>\n",
       "      <th>340933</th>\n",
       "      <td>1200.0</td>\n",
       "      <td>1500.0</td>\n",
       "      <td>dump_10</td>\n",
       "      <td>0</td>\n",
       "      <td>1.83</td>\n",
       "      <td>1</td>\n",
       "      <td>3</td>\n",
       "      <td>-100134703#0</td>\n",
       "      <td>0</td>\n",
       "      <td>0</td>\n",
       "      <td>...</td>\n",
       "      <td>0.92</td>\n",
       "      <td>11.96</td>\n",
       "      <td>45.09</td>\n",
       "      <td>7.27</td>\n",
       "      <td>1.06</td>\n",
       "      <td>0.00</td>\n",
       "      <td>11.27</td>\n",
       "      <td>0.0</td>\n",
       "      <td>4</td>\n",
       "      <td>7.27</td>\n",
       "    </tr>\n",
       "    <tr>\n",
       "      <th>340934</th>\n",
       "      <td>1200.0</td>\n",
       "      <td>1500.0</td>\n",
       "      <td>dump_10</td>\n",
       "      <td>0</td>\n",
       "      <td>1.40</td>\n",
       "      <td>0</td>\n",
       "      <td>3</td>\n",
       "      <td>-100134703#1</td>\n",
       "      <td>0</td>\n",
       "      <td>0</td>\n",
       "      <td>...</td>\n",
       "      <td>0.70</td>\n",
       "      <td>12.18</td>\n",
       "      <td>34.45</td>\n",
       "      <td>7.15</td>\n",
       "      <td>1.04</td>\n",
       "      <td>0.00</td>\n",
       "      <td>11.48</td>\n",
       "      <td>0.0</td>\n",
       "      <td>3</td>\n",
       "      <td>7.15</td>\n",
       "    </tr>\n",
       "    <tr>\n",
       "      <th>340935</th>\n",
       "      <td>1200.0</td>\n",
       "      <td>1500.0</td>\n",
       "      <td>dump_10</td>\n",
       "      <td>1</td>\n",
       "      <td>0.70</td>\n",
       "      <td>0</td>\n",
       "      <td>1</td>\n",
       "      <td>-100217518</td>\n",
       "      <td>0</td>\n",
       "      <td>0</td>\n",
       "      <td>...</td>\n",
       "      <td>0.35</td>\n",
       "      <td>4.32</td>\n",
       "      <td>3.27</td>\n",
       "      <td>4.73</td>\n",
       "      <td>1.06</td>\n",
       "      <td>0.00</td>\n",
       "      <td>3.27</td>\n",
       "      <td>0.0</td>\n",
       "      <td>1</td>\n",
       "      <td>4.73</td>\n",
       "    </tr>\n",
       "    <tr>\n",
       "      <th>340936</th>\n",
       "      <td>1200.0</td>\n",
       "      <td>1500.0</td>\n",
       "      <td>dump_10</td>\n",
       "      <td>0</td>\n",
       "      <td>6.17</td>\n",
       "      <td>1</td>\n",
       "      <td>23</td>\n",
       "      <td>-100400941#2</td>\n",
       "      <td>0</td>\n",
       "      <td>0</td>\n",
       "      <td>...</td>\n",
       "      <td>3.08</td>\n",
       "      <td>11.84</td>\n",
       "      <td>271.68</td>\n",
       "      <td>12.82</td>\n",
       "      <td>0.93</td>\n",
       "      <td>6.97</td>\n",
       "      <td>11.45</td>\n",
       "      <td>0.0</td>\n",
       "      <td>23</td>\n",
       "      <td>12.82</td>\n",
       "    </tr>\n",
       "  </tbody>\n",
       "</table>\n",
       "<p>5 rows × 22 columns</p>\n",
       "</div>"
      ],
      "text/plain": [
       "        interval_begin  interval_end interval_id  edge_arrived  edge_density  \\\n",
       "340932          1200.0        1500.0     dump_10             0          1.10   \n",
       "340933          1200.0        1500.0     dump_10             0          1.83   \n",
       "340934          1200.0        1500.0     dump_10             0          1.40   \n",
       "340935          1200.0        1500.0     dump_10             1          0.70   \n",
       "340936          1200.0        1500.0     dump_10             0          6.17   \n",
       "\n",
       "        edge_departed  edge_entered       edge_id  edge_laneChangedFrom  \\\n",
       "340932              0             5  -100134682#0                     0   \n",
       "340933              1             3  -100134703#0                     0   \n",
       "340934              0             3  -100134703#1                     0   \n",
       "340935              0             1    -100217518                     0   \n",
       "340936              1            23  -100400941#2                     0   \n",
       "\n",
       "        edge_laneChangedTo  ...  edge_occupancy  edge_overlapTraveltime  \\\n",
       "340932                   0  ...            0.55                   10.11   \n",
       "340933                   0  ...            0.92                   11.96   \n",
       "340934                   0  ...            0.70                   12.18   \n",
       "340935                   0  ...            0.35                    4.32   \n",
       "340936                   0  ...            3.08                   11.84   \n",
       "\n",
       "        edge_sampledSeconds  edge_speed  edge_speedRelative  edge_timeLoss  \\\n",
       "340932                48.88       15.16                1.10           0.00   \n",
       "340933                45.09        7.27                1.06           0.00   \n",
       "340934                34.45        7.15                1.04           0.00   \n",
       "340935                 3.27        4.73                1.06           0.00   \n",
       "340936               271.68       12.82                0.93           6.97   \n",
       "\n",
       "        edge_traveltime  edge_waitingTime  interval_nVehContrib  \\\n",
       "340932             9.78               0.0                     5   \n",
       "340933            11.27               0.0                     4   \n",
       "340934            11.48               0.0                     3   \n",
       "340935             3.27               0.0                     1   \n",
       "340936            11.45               0.0                    23   \n",
       "\n",
       "        interval_harmonicMeanSpeed  \n",
       "340932                       15.16  \n",
       "340933                        7.27  \n",
       "340934                        7.15  \n",
       "340935                        4.73  \n",
       "340936                       12.82  \n",
       "\n",
       "[5 rows x 22 columns]"
      ]
     },
     "execution_count": 119,
     "metadata": {},
     "output_type": "execute_result"
    }
   ],
   "source": [
    "df_trips_gt.head()"
   ]
  },
  {
   "cell_type": "code",
   "execution_count": null,
   "metadata": {},
   "outputs": [
    {
     "data": {
      "text/html": [
       "<div>\n",
       "<style scoped>\n",
       "    .dataframe tbody tr th:only-of-type {\n",
       "        vertical-align: middle;\n",
       "    }\n",
       "\n",
       "    .dataframe tbody tr th {\n",
       "        vertical-align: top;\n",
       "    }\n",
       "\n",
       "    .dataframe thead th {\n",
       "        text-align: right;\n",
       "    }\n",
       "</style>\n",
       "<table border=\"1\" class=\"dataframe\">\n",
       "  <thead>\n",
       "    <tr style=\"text-align: right;\">\n",
       "      <th></th>\n",
       "      <th>edge_id</th>\n",
       "      <th>interval_nVehContrib</th>\n",
       "      <th>interval_harmonicMeanSpeed</th>\n",
       "    </tr>\n",
       "  </thead>\n",
       "  <tbody>\n",
       "    <tr>\n",
       "      <th>0</th>\n",
       "      <td>-100134682#0</td>\n",
       "      <td>1</td>\n",
       "      <td>12.950</td>\n",
       "    </tr>\n",
       "    <tr>\n",
       "      <th>1</th>\n",
       "      <td>-100217522</td>\n",
       "      <td>1</td>\n",
       "      <td>3.770</td>\n",
       "    </tr>\n",
       "    <tr>\n",
       "      <th>2</th>\n",
       "      <td>-100400941#2</td>\n",
       "      <td>7</td>\n",
       "      <td>12.315</td>\n",
       "    </tr>\n",
       "    <tr>\n",
       "      <th>3</th>\n",
       "      <td>-100400941#5</td>\n",
       "      <td>12</td>\n",
       "      <td>13.410</td>\n",
       "    </tr>\n",
       "    <tr>\n",
       "      <th>4</th>\n",
       "      <td>-100677749#10</td>\n",
       "      <td>1</td>\n",
       "      <td>14.080</td>\n",
       "    </tr>\n",
       "  </tbody>\n",
       "</table>\n",
       "</div>"
      ],
      "text/plain": [
       "         edge_id  interval_nVehContrib  interval_harmonicMeanSpeed\n",
       "0   -100134682#0                     1                      12.950\n",
       "1     -100217522                     1                       3.770\n",
       "2   -100400941#2                     7                      12.315\n",
       "3   -100400941#5                    12                      13.410\n",
       "4  -100677749#10                     1                      14.080"
      ]
     },
     "execution_count": 98,
     "metadata": {},
     "output_type": "execute_result"
    }
   ],
   "source": [
    "loop_stats_df_gt.head()"
   ]
  },
  {
   "cell_type": "code",
   "execution_count": 100,
   "metadata": {},
   "outputs": [
    {
     "data": {
      "text/plain": [
       "<AxesSubplot: >"
      ]
     },
     "execution_count": 100,
     "metadata": {},
     "output_type": "execute_result"
    },
    {
     "data": {
      "image/png": "[encoded data removed]",
      "text/plain": [
       "<Figure size 640x480 with 1 Axes>"
      ]
     },
     "metadata": {},
     "output_type": "display_data"
    }
   ],
   "source": [
    "loop_stats_df_gt.interval_nVehContrib.hist()"
   ]
  },
  {
   "cell_type": "code",
   "execution_count": 102,
   "metadata": {},
   "outputs": [
    {
     "data": {
      "text/html": [
       "<div>\n",
       "<style scoped>\n",
       "    .dataframe tbody tr th:only-of-type {\n",
       "        vertical-align: middle;\n",
       "    }\n",
       "\n",
       "    .dataframe tbody tr th {\n",
       "        vertical-align: top;\n",
       "    }\n",
       "\n",
       "    .dataframe thead th {\n",
       "        text-align: right;\n",
       "    }\n",
       "</style>\n",
       "<table border=\"1\" class=\"dataframe\">\n",
       "  <thead>\n",
       "    <tr style=\"text-align: right;\">\n",
       "      <th></th>\n",
       "      <th>edge_id</th>\n",
       "      <th>interval_nVehContrib</th>\n",
       "      <th>interval_harmonicMeanSpeed</th>\n",
       "    </tr>\n",
       "  </thead>\n",
       "  <tbody>\n",
       "    <tr>\n",
       "      <th>102</th>\n",
       "      <td>-111547662#1</td>\n",
       "      <td>54</td>\n",
       "      <td>10.990</td>\n",
       "    </tr>\n",
       "    <tr>\n",
       "      <th>851</th>\n",
       "      <td>-162931811#3</td>\n",
       "      <td>154</td>\n",
       "      <td>12.670</td>\n",
       "    </tr>\n",
       "    <tr>\n",
       "      <th>1412</th>\n",
       "      <td>-210709486#5</td>\n",
       "      <td>70</td>\n",
       "      <td>13.445</td>\n",
       "    </tr>\n",
       "    <tr>\n",
       "      <th>1420</th>\n",
       "      <td>-214545530#2</td>\n",
       "      <td>179</td>\n",
       "      <td>12.585</td>\n",
       "    </tr>\n",
       "    <tr>\n",
       "      <th>1421</th>\n",
       "      <td>-214545530#3</td>\n",
       "      <td>175</td>\n",
       "      <td>13.090</td>\n",
       "    </tr>\n",
       "    <tr>\n",
       "      <th>...</th>\n",
       "      <td>...</td>\n",
       "      <td>...</td>\n",
       "      <td>...</td>\n",
       "    </tr>\n",
       "    <tr>\n",
       "      <th>69539</th>\n",
       "      <td>93539067-AddedOnRampEdge</td>\n",
       "      <td>98</td>\n",
       "      <td>26.515</td>\n",
       "    </tr>\n",
       "    <tr>\n",
       "      <th>69852</th>\n",
       "      <td>95002419</td>\n",
       "      <td>51</td>\n",
       "      <td>10.765</td>\n",
       "    </tr>\n",
       "    <tr>\n",
       "      <th>70141</th>\n",
       "      <td>9676975</td>\n",
       "      <td>102</td>\n",
       "      <td>23.745</td>\n",
       "    </tr>\n",
       "    <tr>\n",
       "      <th>70179</th>\n",
       "      <td>9898614-AddedOffRampEdge</td>\n",
       "      <td>72</td>\n",
       "      <td>21.385</td>\n",
       "    </tr>\n",
       "    <tr>\n",
       "      <th>70185</th>\n",
       "      <td>9900203#1</td>\n",
       "      <td>73</td>\n",
       "      <td>27.625</td>\n",
       "    </tr>\n",
       "  </tbody>\n",
       "</table>\n",
       "<p>2154 rows × 3 columns</p>\n",
       "</div>"
      ],
      "text/plain": [
       "                        edge_id  interval_nVehContrib  \\\n",
       "102                -111547662#1                    54   \n",
       "851                -162931811#3                   154   \n",
       "1412               -210709486#5                    70   \n",
       "1420               -214545530#2                   179   \n",
       "1421               -214545530#3                   175   \n",
       "...                         ...                   ...   \n",
       "69539  93539067-AddedOnRampEdge                    98   \n",
       "69852                  95002419                    51   \n",
       "70141                   9676975                   102   \n",
       "70179  9898614-AddedOffRampEdge                    72   \n",
       "70185                 9900203#1                    73   \n",
       "\n",
       "       interval_harmonicMeanSpeed  \n",
       "102                        10.990  \n",
       "851                        12.670  \n",
       "1412                       13.445  \n",
       "1420                       12.585  \n",
       "1421                       13.090  \n",
       "...                           ...  \n",
       "69539                      26.515  \n",
       "69852                      10.765  \n",
       "70141                      23.745  \n",
       "70179                      21.385  \n",
       "70185                      27.625  \n",
       "\n",
       "[2154 rows x 3 columns]"
      ]
     },
     "execution_count": 102,
     "metadata": {},
     "output_type": "execute_result"
    }
   ],
   "source": [
    "loop_stats_df_gt[loop_stats_df_gt.interval_nVehContrib>50]"
   ]
  },
  {
   "cell_type": "code",
   "execution_count": 103,
   "metadata": {},
   "outputs": [
    {
     "data": {
      "text/plain": [
       "422"
      ]
     },
     "execution_count": 103,
     "metadata": {},
     "output_type": "execute_result"
    }
   ],
   "source": [
    "loop_stats_df_gt.interval_nVehContrib.max()"
   ]
  },
  {
   "cell_type": "code",
   "execution_count": 104,
   "metadata": {},
   "outputs": [
    {
     "data": {
      "text/html": [
       "<div>\n",
       "<style scoped>\n",
       "    .dataframe tbody tr th:only-of-type {\n",
       "        vertical-align: middle;\n",
       "    }\n",
       "\n",
       "    .dataframe tbody tr th {\n",
       "        vertical-align: top;\n",
       "    }\n",
       "\n",
       "    .dataframe thead th {\n",
       "        text-align: right;\n",
       "    }\n",
       "</style>\n",
       "<table border=\"1\" class=\"dataframe\">\n",
       "  <thead>\n",
       "    <tr style=\"text-align: right;\">\n",
       "      <th></th>\n",
       "      <th>edge_id</th>\n",
       "      <th>interval_nVehContrib</th>\n",
       "      <th>interval_harmonicMeanSpeed</th>\n",
       "    </tr>\n",
       "  </thead>\n",
       "  <tbody>\n",
       "    <tr>\n",
       "      <th>65985</th>\n",
       "      <td>8921938</td>\n",
       "      <td>422</td>\n",
       "      <td>18.225</td>\n",
       "    </tr>\n",
       "    <tr>\n",
       "      <th>65986</th>\n",
       "      <td>8921938-AddedOffRampEdge</td>\n",
       "      <td>422</td>\n",
       "      <td>19.630</td>\n",
       "    </tr>\n",
       "  </tbody>\n",
       "</table>\n",
       "</div>"
      ],
      "text/plain": [
       "                        edge_id  interval_nVehContrib  \\\n",
       "65985                   8921938                   422   \n",
       "65986  8921938-AddedOffRampEdge                   422   \n",
       "\n",
       "       interval_harmonicMeanSpeed  \n",
       "65985                      18.225  \n",
       "65986                      19.630  "
      ]
     },
     "execution_count": 104,
     "metadata": {},
     "output_type": "execute_result"
    }
   ],
   "source": [
    "loop_stats_df_gt[loop_stats_df_gt.interval_nVehContrib == 422]"
   ]
  },
  {
   "cell_type": "markdown",
   "metadata": {},
   "source": [
    "Choosing edge_id 8921938 as the single GT edge id, for debugging. "
   ]
  },
  {
   "cell_type": "code",
   "execution_count": 52,
   "metadata": {},
   "outputs": [],
   "source": [
    "GT_edge_id = '8921938'"
   ]
  },
  {
   "cell_type": "code",
   "execution_count": 148,
   "metadata": {},
   "outputs": [],
   "source": [
    "# get the origin and destination tazes of the trips that traveled through GT_edge_id\n",
    "\n",
    "tree = ET.parse(f'{net_path}gt_routes.vehroutes.xml')\n",
    "root = tree.getroot()\n",
    "\n",
    "# first get the origin and destination edges of the corresponding routes\n",
    "all_orig_edge = []\n",
    "all_dest_edge = []\n",
    "for r1 in root.iter(\"routes\"):\n",
    "    for veh in r1.iter(\"vehicle\"):\n",
    "        for rte in veh.iter(\"route\"):\n",
    "            if GT_edge_id in rte.get('edges'):\n",
    "                all_edges = rte.get('edges').split(' ')\n",
    "                all_orig_edge.append(all_edges[0])\n",
    "                all_dest_edge.append(all_edges[-1])\n",
    "                "
   ]
  },
  {
   "cell_type": "code",
   "execution_count": 157,
   "metadata": {},
   "outputs": [],
   "source": [
    "# then we find the tazes of those origin and destination edges\n",
    "\n",
    "tree = ET.parse(f'{net_path}taz.xml')\n",
    "root = tree.getroot()\n",
    "\n",
    "all_orig_taz = []\n",
    "all_dest_taz = []\n",
    "\n",
    "for orig1 in all_orig_edge:\n",
    "    bool_edge = True # used to only account for 1 taz per edge\n",
    "    for tazs1 in root.iter(\"tazs\"):\n",
    "        for taz1 in tazs1.iter(\"taz\"):\n",
    "            if (orig1 in taz1.get('edges')) and bool_edge:\n",
    "                all_orig_taz.append(taz1.get('id'))\n",
    "                bool_edge = False\n",
    "\n",
    "for dest1 in all_dest_edge:\n",
    "    bool_edge = True # used to only account for 1 taz per edge\n",
    "    for tazs1 in root.iter(\"tazs\"):\n",
    "        for taz1 in tazs1.iter(\"taz\"):\n",
    "            if (dest1 in taz1.get('edges')) and bool_edge:\n",
    "                all_dest_taz.append(taz1.get('id'))\n",
    "                bool_edge = False\n",
    "\n"
   ]
  },
  {
   "cell_type": "code",
   "execution_count": 158,
   "metadata": {},
   "outputs": [
    {
     "data": {
      "text/plain": [
       "(167, 167, 167, 167)"
      ]
     },
     "execution_count": 158,
     "metadata": {},
     "output_type": "execute_result"
    }
   ],
   "source": [
    "len(all_orig_edge), len(all_dest_edge), len(all_orig_taz), len(all_dest_taz)"
   ]
  },
  {
   "cell_type": "code",
   "execution_count": 160,
   "metadata": {},
   "outputs": [],
   "source": [
    "df_taz = pd.DataFrame({'orig_taz':all_orig_taz, 'dest_taz':all_dest_taz})"
   ]
  },
  {
   "cell_type": "code",
   "execution_count": 167,
   "metadata": {},
   "outputs": [],
   "source": [
    "df_taz = df_taz.groupby(['orig_taz', 'dest_taz']).size().reset_index().rename(columns={0:'occurence'})"
   ]
  },
  {
   "cell_type": "code",
   "execution_count": 168,
   "metadata": {},
   "outputs": [
    {
     "data": {
      "text/plain": [
       "10"
      ]
     },
     "execution_count": 168,
     "metadata": {},
     "output_type": "execute_result"
    }
   ],
   "source": [
    "df_taz['occurence'].max()"
   ]
  },
  {
   "cell_type": "code",
   "execution_count": 169,
   "metadata": {},
   "outputs": [
    {
     "data": {
      "text/plain": [
       "(136, 3)"
      ]
     },
     "execution_count": 169,
     "metadata": {},
     "output_type": "execute_result"
    }
   ],
   "source": [
    "df_taz.shape"
   ]
  },
  {
   "cell_type": "code",
   "execution_count": 170,
   "metadata": {},
   "outputs": [
    {
     "data": {
      "text/html": [
       "<div>\n",
       "<style scoped>\n",
       "    .dataframe tbody tr th:only-of-type {\n",
       "        vertical-align: middle;\n",
       "    }\n",
       "\n",
       "    .dataframe tbody tr th {\n",
       "        vertical-align: top;\n",
       "    }\n",
       "\n",
       "    .dataframe thead th {\n",
       "        text-align: right;\n",
       "    }\n",
       "</style>\n",
       "<table border=\"1\" class=\"dataframe\">\n",
       "  <thead>\n",
       "    <tr style=\"text-align: right;\">\n",
       "      <th></th>\n",
       "      <th>orig_taz</th>\n",
       "      <th>dest_taz</th>\n",
       "      <th>occurence</th>\n",
       "    </tr>\n",
       "  </thead>\n",
       "  <tbody>\n",
       "    <tr>\n",
       "      <th>45</th>\n",
       "      <td>401700</td>\n",
       "      <td>61500</td>\n",
       "      <td>10</td>\n",
       "    </tr>\n",
       "  </tbody>\n",
       "</table>\n",
       "</div>"
      ],
      "text/plain": [
       "   orig_taz dest_taz  occurence\n",
       "45   401700    61500         10"
      ]
     },
     "execution_count": 170,
     "metadata": {},
     "output_type": "execute_result"
    }
   ],
   "source": [
    "df_taz[df_taz['occurence']==10]"
   ]
  },
  {
   "cell_type": "markdown",
   "metadata": {
    "jupyter": {
     "outputs_hidden": true
    },
    "tags": []
   },
   "source": [
    "Now slightly changing the demand of OD pair: (401700,61500)"
   ]
  },
  {
   "cell_type": "code",
   "execution_count": 171,
   "metadata": {},
   "outputs": [],
   "source": [
    "net_path = '/Users/osorio/HEC/Research/Group/ExternalCollaborations/SergioRodriguez_amazon/calibrate_ods/network/SFO/'"
   ]
  },
  {
   "cell_type": "markdown",
   "metadata": {},
   "source": [
    "create new OD that differs only slightly from GT OD"
   ]
  },
  {
   "cell_type": "code",
   "execution_count": 174,
   "metadata": {},
   "outputs": [
    {
     "name": "stdout",
     "output_type": "stream",
     "text": [
      "initial demand: 14\n",
      "new demand: 20\n"
     ]
    }
   ],
   "source": [
    "# same average hourly demand as the initial SFO OD but now set for 30min of simulation\n",
    "# initial xml is the above defined hourly OD (to make the xml tree parsing faster)\n",
    "tree = ET.parse(f'{net_path}initOD_30minDemand.xml')\n",
    "root = tree.getroot()\n",
    "    \n",
    "num_removed = 0\n",
    "for interv in root.findall(\"interval\"):\n",
    "    for child in interv.findall(\"tazRelation\"):\n",
    "        if (child.get('from') == \"401700\") and (child.get('to') == \"61500\"):\n",
    "            print('initial demand:', child.get('count'))\n",
    "            child.set('count',str(20))\n",
    "            print('new demand:', child.get('count'))\n",
    "tree.write(f'{net_path}initOD_30minDemand_v2.xml')"
   ]
  },
  {
   "cell_type": "code",
   "execution_count": 177,
   "metadata": {},
   "outputs": [],
   "source": [
    "def load_experiment_metadata(input_path: str):\n",
    "\n",
    "    config = json.load(open(input_path + \"/config.json\"))\n",
    "    config[\"NETWORK\"] = Path(config[\"NETWORK\"])\n",
    "    config[\"SUMO\"] = Path(config[\"SUMO\"])\n",
    "    # [CO] updated simulation setup to use OD scenario #4: 42-dimensional  + low congestion.\n",
    "    sim_setup = json.load(open(input_path + \"simulation_setups_co_gt_v2.json\"))\n",
    "\n",
    "    return config, sim_setup"
   ]
  },
  {
   "cell_type": "code",
   "execution_count": 178,
   "metadata": {},
   "outputs": [
    {
     "data": {
      "text/plain": [
       "{'objective': 'counts',\n",
       " 'net': 'SFO.net.xml',\n",
       " 'taz': 'taz.xml',\n",
       " 'add': 'additional.add.xml',\n",
       " 'start_sim_sec': 0,\n",
       " 'end_sim_sec': 1800,\n",
       " 'init_od': 'initOD_30minDemand_v2.xml',\n",
       " 'gt_od': 'initOD_30minDemand_v2.xml',\n",
       " 'n_sumo_replicate': 1,\n",
       " 'prefix_gt': 'gtv2_',\n",
       " 'prefix_sim_run': 'current'}"
      ]
     },
     "execution_count": 178,
     "metadata": {},
     "output_type": "execute_result"
    }
   ],
   "source": [
    "\n",
    "config_v2, sim_setup_v2 = load_experiment_metadata(input_path)\n",
    "\n",
    "sim_setup_v2"
   ]
  },
  {
   "cell_type": "markdown",
   "metadata": {},
   "source": [
    "Simulate the new OD"
   ]
  },
  {
   "cell_type": "code",
   "execution_count": 198,
   "metadata": {},
   "outputs": [
    {
     "name": "stdout",
     "output_type": "stream",
     "text": [
      "###### GT #######\n",
      "od2trips  --spread.uniform --taz-files /Users/osorio/HEC/Research/Group/ExternalCollaborations/SergioRodriguez_amazon/calibrate_ods/network/SFO/taz.xml --tazrelation-files /Users/osorio/HEC/Research/Group/ExternalCollaborations/SergioRodriguez_amazon/calibrate_ods/network/SFO/initOD_30minDemand_v2.xml -o /Users/osorio/HEC/Research/Group/ExternalCollaborations/SergioRodriguez_amazon/calibrate_ods/network/SFO/gtv2_od_trips.trips.xml \n",
      "Success.time 1789.53\n",
      "###### Running SUMO #######\n",
      "sumo --output-prefix gtv2_ --ignore-route-errors=true --net-file=/Users/osorio/HEC/Research/Group/ExternalCollaborations/SergioRodriguez_amazon/calibrate_ods/network/SFO/SFO.net.xml --routes=/Users/osorio/HEC/Research/Group/ExternalCollaborations/SergioRodriguez_amazon/calibrate_ods/network/SFO/gtv2_od_trips.trips.xml -b 0 -e 1800 --additional-files /Users/osorio/HEC/Research/Group/ExternalCollaborations/SergioRodriguez_amazon/calibrate_ods/network/SFO/additional.add.xml --duration-log.statistics --xml-validation never --vehroutes /Users/osorio/HEC/Research/Group/ExternalCollaborations/SergioRodriguez_amazon/calibrate_ods/network/SFO/gtv2_routes.vehroutes.xml --verbose --no-warnings --mesosim true \n",
      "Loading net-file from '/Users/osorio/HEC/Research/Group/ExternalCollaborations/SergioRodriguez_amazon/calibrate_ods/network/SFO/SFO.net.xml' ... \n",
      "done (18068ms).\n",
      "Loading additional-files from '/Users/osorio/HEC/Research/Group/ExternalCollaborations/SergioRodriguez_amazon/calibrate_ods/network/SFO/additional.add.xml' ... done (232ms).\n",
      "Loading done.\n",
      "Simulation version 1.16.0 started with time: 0.00.\n",
      "Step #1800.00 (954ms ~= 1.05*RT, ~28275.68UPS, vehicles TOT 97031 ACT 26975 BUF 0)        \n",
      "Simulation ended at time: 1800.00\n",
      "Reason: The final simulation step has been reached.\n",
      "Performance: \n",
      " Duration: 695.80s\n",
      " Real time factor: 2.58697\n",
      " UPS: 65473.722183\n",
      "Vehicles: \n",
      " Inserted: 97031 (Loaded: 97050)\n",
      " Running: 26975\n",
      " Waiting: 0\n",
      " Teleports: 26 (Jam: 26)\n",
      "Statistics (avg of 70056):\n",
      " RouteLength: 7133.96\n",
      " Speed: 15.43\n",
      " Duration: 441.69\n",
      " WaitingTime: 1.08\n",
      " TimeLoss: 10.93\n",
      " DepartDelay: 0.08\n",
      "\n",
      "DijkstraRouter answered 97005 queries and explored 10327.27 edges on average.\n",
      "DijkstraRouter spent 586.49s answering queries (6.05ms on average).\n",
      "Elapsed time:  719.3244609832764\n"
     ]
    }
   ],
   "source": [
    "import time\n",
    "print(\"###### GT #######\")\n",
    "start = time.time() \n",
    "run_sumo(config_v2, sim_setup_v2, prefix_input=\"gt\",  prefix_output= \"gtv2\")\n",
    "end = time.time()\n",
    "print(\"Elapsed time: \", end - start)"
   ]
  },
  {
   "cell_type": "code",
   "execution_count": 199,
   "metadata": {},
   "outputs": [],
   "source": [
    "loop_stats_df_gt_v2, _ = parse_loop_data_xml_to_pandas(\n",
    "    config_v2,\n",
    "    loop_file = \"../../network/SFO/gtv2_edge_data_SFO.xml\"\n",
    ")\n"
   ]
  },
  {
   "cell_type": "markdown",
   "metadata": {},
   "source": [
    "### Compute loss given output"
   ]
  },
  {
   "cell_type": "code",
   "execution_count": 200,
   "metadata": {},
   "outputs": [],
   "source": [
    "import numpy as np\n",
    "\n",
    "\n",
    "def compute_nrmse_counts_one_edge(df_true, df_simulated,GT_edge_id):\n",
    "    # Merge simulated output with ground truth\n",
    "    df1 = df_true\\\n",
    "        .merge(df_simulated, on=['edge_id'],\n",
    "        suffixes=('_GT', '_sim'), how='left')\n",
    "    \n",
    "    # only consider GT_edge_id of interest\n",
    "    df1 = df1[df1['edge_id']==GT_edge_id]\n",
    "\n",
    "    df1['interval_nVehContrib_sim'] = df1['interval_nVehContrib_sim'].fillna(0)\n",
    "        \n",
    "    df1['diff_square'] = (\n",
    "        df1['interval_nVehContrib_GT'] - df1['interval_nVehContrib_sim']\n",
    "        )**2\n",
    "    \n",
    "    n = df1.shape[0]\n",
    "    print(n)\n",
    "    print(df_true.shape[0])\n",
    "    print(df_simulated.shape[0])\n",
    "    RMSN = np.sqrt(n*(df1['diff_square'].sum()))/df1['interval_nVehContrib_GT'].sum()\n",
    "\n",
    "    return RMSN\n",
    "\n",
    "\n",
    "def compute_nrmse_counts_all_edges(df_true, df_simulated):\n",
    "    # Merge simulated output with ground truth\n",
    "    df1 = df_true\\\n",
    "        .merge(df_simulated, on=['edge_id'],\n",
    "        suffixes=('_GT', '_sim'), how='left')\n",
    "    \n",
    "    df1['interval_nVehContrib_sim'] = df1['interval_nVehContrib_sim'].fillna(0)\n",
    "        \n",
    "    df1['diff_square'] = (\n",
    "        df1['interval_nVehContrib_GT'] - df1['interval_nVehContrib_sim']\n",
    "        )**2\n",
    "    \n",
    "    n = df1.shape[0]\n",
    "    print(n)\n",
    "    print(df_true.shape[0])\n",
    "    print(df_simulated.shape[0])\n",
    "    RMSN = np.sqrt(n*(df1['diff_square'].sum()))/df1['interval_nVehContrib_GT'].sum()\n",
    "\n",
    "    return RMSN\n",
    "\n"
   ]
  },
  {
   "cell_type": "code",
   "execution_count": 201,
   "metadata": {},
   "outputs": [
    {
     "name": "stdout",
     "output_type": "stream",
     "text": [
      "1\n",
      "121057\n",
      "120909\n"
     ]
    },
    {
     "data": {
      "text/plain": [
       "0.017937219730941704"
      ]
     },
     "execution_count": 201,
     "metadata": {},
     "output_type": "execute_result"
    }
   ],
   "source": [
    "compute_nrmse_counts_one_edge(loop_stats_df_gt, loop_stats_df_gt_v2, GT_edge_id)"
   ]
  },
  {
   "cell_type": "code",
   "execution_count": 202,
   "metadata": {},
   "outputs": [
    {
     "name": "stdout",
     "output_type": "stream",
     "text": [
      "121057\n",
      "121057\n",
      "120909\n"
     ]
    },
    {
     "data": {
      "text/plain": [
       "0.27158024725755964"
      ]
     },
     "execution_count": 202,
     "metadata": {},
     "output_type": "execute_result"
    }
   ],
   "source": [
    "compute_nrmse_counts_all_edges(loop_stats_df_gt, loop_stats_df_gt_v2)"
   ]
  },
  {
   "cell_type": "code",
   "execution_count": 203,
   "metadata": {},
   "outputs": [
    {
     "data": {
      "text/html": [
       "<div>\n",
       "<style scoped>\n",
       "    .dataframe tbody tr th:only-of-type {\n",
       "        vertical-align: middle;\n",
       "    }\n",
       "\n",
       "    .dataframe tbody tr th {\n",
       "        vertical-align: top;\n",
       "    }\n",
       "\n",
       "    .dataframe thead th {\n",
       "        text-align: right;\n",
       "    }\n",
       "</style>\n",
       "<table border=\"1\" class=\"dataframe\">\n",
       "  <thead>\n",
       "    <tr style=\"text-align: right;\">\n",
       "      <th></th>\n",
       "      <th>edge_id</th>\n",
       "      <th>interval_nVehContrib</th>\n",
       "      <th>interval_harmonicMeanSpeed</th>\n",
       "    </tr>\n",
       "  </thead>\n",
       "  <tbody>\n",
       "    <tr>\n",
       "      <th>111456</th>\n",
       "      <td>8921938</td>\n",
       "      <td>223</td>\n",
       "      <td>19.09</td>\n",
       "    </tr>\n",
       "  </tbody>\n",
       "</table>\n",
       "</div>"
      ],
      "text/plain": [
       "        edge_id  interval_nVehContrib  interval_harmonicMeanSpeed\n",
       "111456  8921938                   223                       19.09"
      ]
     },
     "execution_count": 203,
     "metadata": {},
     "output_type": "execute_result"
    }
   ],
   "source": [
    "# simulation stats of GT_edge_id\n",
    "loop_stats_df_gt[loop_stats_df_gt.edge_id == GT_edge_id]"
   ]
  },
  {
   "cell_type": "code",
   "execution_count": 204,
   "metadata": {},
   "outputs": [
    {
     "data": {
      "text/html": [
       "<div>\n",
       "<style scoped>\n",
       "    .dataframe tbody tr th:only-of-type {\n",
       "        vertical-align: middle;\n",
       "    }\n",
       "\n",
       "    .dataframe tbody tr th {\n",
       "        vertical-align: top;\n",
       "    }\n",
       "\n",
       "    .dataframe thead th {\n",
       "        text-align: right;\n",
       "    }\n",
       "</style>\n",
       "<table border=\"1\" class=\"dataframe\">\n",
       "  <thead>\n",
       "    <tr style=\"text-align: right;\">\n",
       "      <th></th>\n",
       "      <th>edge_id</th>\n",
       "      <th>interval_nVehContrib</th>\n",
       "      <th>interval_harmonicMeanSpeed</th>\n",
       "    </tr>\n",
       "  </thead>\n",
       "  <tbody>\n",
       "    <tr>\n",
       "      <th>111337</th>\n",
       "      <td>8921938</td>\n",
       "      <td>219</td>\n",
       "      <td>18.705</td>\n",
       "    </tr>\n",
       "  </tbody>\n",
       "</table>\n",
       "</div>"
      ],
      "text/plain": [
       "        edge_id  interval_nVehContrib  interval_harmonicMeanSpeed\n",
       "111337  8921938                   219                      18.705"
      ]
     },
     "execution_count": 204,
     "metadata": {},
     "output_type": "execute_result"
    }
   ],
   "source": [
    "loop_stats_df_gt_v2[loop_stats_df_gt_v2.edge_id == GT_edge_id]"
   ]
  },
  {
   "cell_type": "code",
   "execution_count": 18,
   "metadata": {},
   "outputs": [
    {
     "data": {
      "text/plain": [
       "(200424, 23)"
      ]
     },
     "execution_count": 18,
     "metadata": {},
     "output_type": "execute_result"
    }
   ],
   "source": [
    "loop_stats_df_current.shape"
   ]
  },
  {
   "cell_type": "code",
   "execution_count": 19,
   "metadata": {},
   "outputs": [
    {
     "data": {
      "text/html": [
       "<div>\n",
       "<style scoped>\n",
       "    .dataframe tbody tr th:only-of-type {\n",
       "        vertical-align: middle;\n",
       "    }\n",
       "\n",
       "    .dataframe tbody tr th {\n",
       "        vertical-align: top;\n",
       "    }\n",
       "\n",
       "    .dataframe thead th {\n",
       "        text-align: right;\n",
       "    }\n",
       "</style>\n",
       "<table border=\"1\" class=\"dataframe\">\n",
       "  <thead>\n",
       "    <tr style=\"text-align: right;\">\n",
       "      <th></th>\n",
       "      <th>interval_begin</th>\n",
       "      <th>interval_end</th>\n",
       "      <th>interval_id</th>\n",
       "      <th>edge_arrived</th>\n",
       "      <th>edge_density</th>\n",
       "      <th>edge_departed</th>\n",
       "      <th>edge_entered</th>\n",
       "      <th>edge_id</th>\n",
       "      <th>edge_laneChangedFrom</th>\n",
       "      <th>edge_laneChangedTo</th>\n",
       "      <th>...</th>\n",
       "      <th>edge_overlapTraveltime</th>\n",
       "      <th>edge_sampledSeconds</th>\n",
       "      <th>edge_speed</th>\n",
       "      <th>edge_speedRelative</th>\n",
       "      <th>edge_timeLoss</th>\n",
       "      <th>edge_traveltime</th>\n",
       "      <th>edge_waitingTime</th>\n",
       "      <th>interval_nVehContrib</th>\n",
       "      <th>interval_harmonicMeanSpeed</th>\n",
       "      <th>EdgeID</th>\n",
       "    </tr>\n",
       "  </thead>\n",
       "  <tbody>\n",
       "    <tr>\n",
       "      <th>0</th>\n",
       "      <td>14400.0</td>\n",
       "      <td>14700.0</td>\n",
       "      <td>dump_10</td>\n",
       "      <td>0</td>\n",
       "      <td>2.15</td>\n",
       "      <td>0</td>\n",
       "      <td>9</td>\n",
       "      <td>-100134682#0</td>\n",
       "      <td>0</td>\n",
       "      <td>0</td>\n",
       "      <td>...</td>\n",
       "      <td>11.00</td>\n",
       "      <td>95.76</td>\n",
       "      <td>13.92</td>\n",
       "      <td>1.01</td>\n",
       "      <td>0.8</td>\n",
       "      <td>10.64</td>\n",
       "      <td>0.0</td>\n",
       "      <td>107.74080</td>\n",
       "      <td>13.92</td>\n",
       "      <td>-100134682#0</td>\n",
       "    </tr>\n",
       "    <tr>\n",
       "      <th>1</th>\n",
       "      <td>14400.0</td>\n",
       "      <td>14700.0</td>\n",
       "      <td>dump_10</td>\n",
       "      <td>0</td>\n",
       "      <td>0.55</td>\n",
       "      <td>0</td>\n",
       "      <td>1</td>\n",
       "      <td>-100134703#0</td>\n",
       "      <td>0</td>\n",
       "      <td>0</td>\n",
       "      <td>...</td>\n",
       "      <td>14.41</td>\n",
       "      <td>13.59</td>\n",
       "      <td>6.04</td>\n",
       "      <td>0.88</td>\n",
       "      <td>0.0</td>\n",
       "      <td>13.58</td>\n",
       "      <td>0.0</td>\n",
       "      <td>11.95920</td>\n",
       "      <td>6.04</td>\n",
       "      <td>-100134703#0</td>\n",
       "    </tr>\n",
       "    <tr>\n",
       "      <th>2</th>\n",
       "      <td>14400.0</td>\n",
       "      <td>14700.0</td>\n",
       "      <td>dump_10</td>\n",
       "      <td>0</td>\n",
       "      <td>0.55</td>\n",
       "      <td>0</td>\n",
       "      <td>1</td>\n",
       "      <td>-100134703#1</td>\n",
       "      <td>0</td>\n",
       "      <td>0</td>\n",
       "      <td>...</td>\n",
       "      <td>14.43</td>\n",
       "      <td>13.60</td>\n",
       "      <td>6.04</td>\n",
       "      <td>0.88</td>\n",
       "      <td>0.0</td>\n",
       "      <td>13.60</td>\n",
       "      <td>0.0</td>\n",
       "      <td>11.95920</td>\n",
       "      <td>6.04</td>\n",
       "      <td>-100134703#1</td>\n",
       "    </tr>\n",
       "    <tr>\n",
       "      <th>3</th>\n",
       "      <td>14400.0</td>\n",
       "      <td>14700.0</td>\n",
       "      <td>dump_10</td>\n",
       "      <td>0</td>\n",
       "      <td>0.45</td>\n",
       "      <td>1</td>\n",
       "      <td>0</td>\n",
       "      <td>-100267303</td>\n",
       "      <td>0</td>\n",
       "      <td>0</td>\n",
       "      <td>...</td>\n",
       "      <td>4.60</td>\n",
       "      <td>3.92</td>\n",
       "      <td>7.37</td>\n",
       "      <td>1.08</td>\n",
       "      <td>0.0</td>\n",
       "      <td>3.92</td>\n",
       "      <td>0.0</td>\n",
       "      <td>11.93940</td>\n",
       "      <td>7.37</td>\n",
       "      <td>-100267303</td>\n",
       "    </tr>\n",
       "    <tr>\n",
       "      <th>4</th>\n",
       "      <td>14400.0</td>\n",
       "      <td>14700.0</td>\n",
       "      <td>dump_10</td>\n",
       "      <td>0</td>\n",
       "      <td>1.38</td>\n",
       "      <td>0</td>\n",
       "      <td>6</td>\n",
       "      <td>-100400941#2</td>\n",
       "      <td>0</td>\n",
       "      <td>0</td>\n",
       "      <td>...</td>\n",
       "      <td>10.92</td>\n",
       "      <td>60.68</td>\n",
       "      <td>13.91</td>\n",
       "      <td>1.01</td>\n",
       "      <td>0.0</td>\n",
       "      <td>10.56</td>\n",
       "      <td>0.0</td>\n",
       "      <td>69.10488</td>\n",
       "      <td>13.91</td>\n",
       "      <td>-100400941#2</td>\n",
       "    </tr>\n",
       "  </tbody>\n",
       "</table>\n",
       "<p>5 rows × 23 columns</p>\n",
       "</div>"
      ],
      "text/plain": [
       "   interval_begin  interval_end interval_id  edge_arrived  edge_density  \\\n",
       "0         14400.0       14700.0     dump_10             0          2.15   \n",
       "1         14400.0       14700.0     dump_10             0          0.55   \n",
       "2         14400.0       14700.0     dump_10             0          0.55   \n",
       "3         14400.0       14700.0     dump_10             0          0.45   \n",
       "4         14400.0       14700.0     dump_10             0          1.38   \n",
       "\n",
       "   edge_departed  edge_entered       edge_id  edge_laneChangedFrom  \\\n",
       "0              0             9  -100134682#0                     0   \n",
       "1              0             1  -100134703#0                     0   \n",
       "2              0             1  -100134703#1                     0   \n",
       "3              1             0    -100267303                     0   \n",
       "4              0             6  -100400941#2                     0   \n",
       "\n",
       "   edge_laneChangedTo  ...  edge_overlapTraveltime  edge_sampledSeconds  \\\n",
       "0                   0  ...                   11.00                95.76   \n",
       "1                   0  ...                   14.41                13.59   \n",
       "2                   0  ...                   14.43                13.60   \n",
       "3                   0  ...                    4.60                 3.92   \n",
       "4                   0  ...                   10.92                60.68   \n",
       "\n",
       "   edge_speed  edge_speedRelative  edge_timeLoss  edge_traveltime  \\\n",
       "0       13.92                1.01            0.8            10.64   \n",
       "1        6.04                0.88            0.0            13.58   \n",
       "2        6.04                0.88            0.0            13.60   \n",
       "3        7.37                1.08            0.0             3.92   \n",
       "4       13.91                1.01            0.0            10.56   \n",
       "\n",
       "   edge_waitingTime  interval_nVehContrib  interval_harmonicMeanSpeed  \\\n",
       "0               0.0             107.74080                       13.92   \n",
       "1               0.0              11.95920                        6.04   \n",
       "2               0.0              11.95920                        6.04   \n",
       "3               0.0              11.93940                        7.37   \n",
       "4               0.0              69.10488                       13.91   \n",
       "\n",
       "         EdgeID  \n",
       "0  -100134682#0  \n",
       "1  -100134703#0  \n",
       "2  -100134703#1  \n",
       "3    -100267303  \n",
       "4  -100400941#2  \n",
       "\n",
       "[5 rows x 23 columns]"
      ]
     },
     "execution_count": 19,
     "metadata": {},
     "output_type": "execute_result"
    }
   ],
   "source": [
    "loop_stats_df_current.head()"
   ]
  },
  {
   "cell_type": "markdown",
   "metadata": {},
   "source": [
    "### Manually compute loss: departed + entered -arrived - left"
   ]
  },
  {
   "cell_type": "code",
   "execution_count": 39,
   "metadata": {},
   "outputs": [],
   "source": [
    "def compute_nrmse_counts_new(df_true, df_simulated):\n",
    "    # Merge simulated output with ground truth\n",
    "    df_true[\"y\"] = df_true['edge_departed'] + \\\n",
    "            df_true['edge_entered'] - \\\n",
    "            df_true['edge_arrived'] - \\\n",
    "            df_true['edge_left'] \n",
    "\n",
    "    df_simulated[\"y\"] = df_simulated['edge_departed'] + \\\n",
    "            df_simulated['edge_entered'] - \\\n",
    "            df_simulated['edge_arrived'] - \\\n",
    "            df_simulated['edge_left']         \n",
    "\n",
    "    df1 = df_true\\\n",
    "        .merge(df_simulated, on=['EdgeID', 'interval_begin', 'interval_end'],\n",
    "        suffixes=('_GT', '_sim'), how='left')\n",
    "    \n",
    "    df1['y_sim'] = df1['y_sim'].fillna(0)            \n",
    "    \n",
    "    df1['diff_square'] = (\n",
    "        df1['y_GT'] - df1['y_sim']\n",
    "        )**2\n",
    "    \n",
    "    n = df1.shape[0]\n",
    "    print(n)\n",
    "    print(df_true.shape[0])\n",
    "    print(df_simulated.shape[0])\n",
    "    RMSN = np.sqrt(n*(df1['diff_square'].sum()))/df1['interval_nVehContrib_GT'].sum()\n",
    "\n",
    "    return RMSN\n"
   ]
  },
  {
   "cell_type": "code",
   "execution_count": 40,
   "metadata": {},
   "outputs": [
    {
     "name": "stdout",
     "output_type": "stream",
     "text": [
      "200571\n",
      "200571\n",
      "200424\n"
     ]
    },
    {
     "data": {
      "text/plain": [
       "0.011312367053198177"
      ]
     },
     "execution_count": 40,
     "metadata": {},
     "output_type": "execute_result"
    }
   ],
   "source": [
    "compute_nrmse_counts_new(loop_stats_df_init, loop_stats_df_current)\n"
   ]
  },
  {
   "cell_type": "code",
   "execution_count": null,
   "metadata": {},
   "outputs": [],
   "source": []
  }
 ],
 "metadata": {
  "kernelspec": {
   "display_name": "BoTorch",
   "language": "python",
   "name": "botorch"
  },
  "language_info": {
   "codemirror_mode": {
    "name": "ipython",
    "version": 3
   },
   "file_extension": ".py",
   "mimetype": "text/x-python",
   "name": "python",
   "nbconvert_exporter": "python",
   "pygments_lexer": "ipython3",
   "version": "3.9.11"
  }
 },
 "nbformat": 4,
 "nbformat_minor": 4
}
