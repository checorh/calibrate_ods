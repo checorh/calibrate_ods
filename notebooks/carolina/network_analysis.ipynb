{
 "cells": [
  {
   "cell_type": "markdown",
   "metadata": {},
   "source": [
    "Analysis of SFO network inputs"
   ]
  },
  {
   "cell_type": "code",
   "execution_count": 1,
   "metadata": {},
   "outputs": [],
   "source": [
    "import pandas as pd\n",
    "import xml.etree.ElementTree as ET\n"
   ]
  },
  {
   "cell_type": "code",
   "execution_count": 3,
   "metadata": {},
   "outputs": [],
   "source": [
    "#net_path = '/Users/osorio/HEC/Research/Group/ExternalCollaborations/SergioRodriguez_amazon/calibrate_ods/network/SFO/'\n",
    "net_path = '/Users/rodrse/Downloads/calibrate_ods_carolina/network/SFO/'\n"
   ]
  },
  {
   "cell_type": "markdown",
   "metadata": {},
   "source": [
    "# Create lower congestion and/or lower dimensional scenarios"
   ]
  },
  {
   "cell_type": "code",
   "execution_count": 24,
   "metadata": {},
   "outputs": [],
   "source": [
    "tree = ET.parse(f'{net_path}init.xml')\n",
    "root = tree.getroot()\n",
    "\n",
    "od_mat = []\n",
    "for taz_elem in root.iter('tazRelation'):\n",
    "    od_mat.append([taz_elem.get('from'), taz_elem.get('to'), int(taz_elem.get('count'))])\n"
   ]
  },
  {
   "cell_type": "code",
   "execution_count": 25,
   "metadata": {},
   "outputs": [],
   "source": [
    "df_od = pd.DataFrame(od_mat, columns=['tazFrom', 'tazTo', 'tazCount'])"
   ]
  },
  {
   "cell_type": "code",
   "execution_count": 26,
   "metadata": {},
   "outputs": [
    {
     "data": {
      "text/html": [
       "<div>\n",
       "<style scoped>\n",
       "    .dataframe tbody tr th:only-of-type {\n",
       "        vertical-align: middle;\n",
       "    }\n",
       "\n",
       "    .dataframe tbody tr th {\n",
       "        vertical-align: top;\n",
       "    }\n",
       "\n",
       "    .dataframe thead th {\n",
       "        text-align: right;\n",
       "    }\n",
       "</style>\n",
       "<table border=\"1\" class=\"dataframe\">\n",
       "  <thead>\n",
       "    <tr style=\"text-align: right;\">\n",
       "      <th></th>\n",
       "      <th>tazFrom</th>\n",
       "      <th>tazTo</th>\n",
       "      <th>tazCount</th>\n",
       "    </tr>\n",
       "  </thead>\n",
       "  <tbody>\n",
       "    <tr>\n",
       "      <th>0</th>\n",
       "      <td>10100</td>\n",
       "      <td>101200</td>\n",
       "      <td>3</td>\n",
       "    </tr>\n",
       "    <tr>\n",
       "      <th>1</th>\n",
       "      <td>10100</td>\n",
       "      <td>10200</td>\n",
       "      <td>6</td>\n",
       "    </tr>\n",
       "    <tr>\n",
       "      <th>2</th>\n",
       "      <td>10100</td>\n",
       "      <td>10300</td>\n",
       "      <td>1</td>\n",
       "    </tr>\n",
       "    <tr>\n",
       "      <th>3</th>\n",
       "      <td>10100</td>\n",
       "      <td>10400</td>\n",
       "      <td>5</td>\n",
       "    </tr>\n",
       "    <tr>\n",
       "      <th>4</th>\n",
       "      <td>10100</td>\n",
       "      <td>104200</td>\n",
       "      <td>10</td>\n",
       "    </tr>\n",
       "  </tbody>\n",
       "</table>\n",
       "</div>"
      ],
      "text/plain": [
       "  tazFrom   tazTo  tazCount\n",
       "0   10100  101200         3\n",
       "1   10100   10200         6\n",
       "2   10100   10300         1\n",
       "3   10100   10400         5\n",
       "4   10100  104200        10"
      ]
     },
     "execution_count": 26,
     "metadata": {},
     "output_type": "execute_result"
    }
   ],
   "source": [
    "df_od.head()"
   ]
  },
  {
   "cell_type": "code",
   "execution_count": 23,
   "metadata": {},
   "outputs": [
    {
     "data": {
      "text/plain": [
       "count    620097.000000\n",
       "mean          9.336738\n",
       "std          27.061078\n",
       "min           1.000000\n",
       "25%           1.000000\n",
       "50%           2.000000\n",
       "75%           7.000000\n",
       "max        2611.000000\n",
       "Name: tazCount, dtype: float64"
      ]
     },
     "execution_count": 23,
     "metadata": {},
     "output_type": "execute_result"
    }
   ],
   "source": [
    "df_od.tazCount.describe()"
   ]
  },
  {
   "cell_type": "code",
   "execution_count": 9,
   "metadata": {},
   "outputs": [
    {
     "data": {
      "text/plain": [
       "((620097, 3), (620097, 2))"
      ]
     },
     "execution_count": 9,
     "metadata": {},
     "output_type": "execute_result"
    }
   ],
   "source": [
    "# check if there are duplicate taz pairs. \n",
    "df_od.shape, df_od[['tazFrom', 'tazTo']].drop_duplicates().shape"
   ]
  },
  {
   "cell_type": "code",
   "execution_count": 10,
   "metadata": {},
   "outputs": [
    {
     "data": {
      "text/plain": [
       "5789683"
      ]
     },
     "execution_count": 10,
     "metadata": {},
     "output_type": "execute_result"
    }
   ],
   "source": [
    "# total OD demand \n",
    "df_od.tazCount.sum()"
   ]
  },
  {
   "cell_type": "code",
   "execution_count": 27,
   "metadata": {},
   "outputs": [],
   "source": [
    "tot_sim_time_seconds = 50400.69 # obtained from init.xml"
   ]
  },
  {
   "cell_type": "code",
   "execution_count": 28,
   "metadata": {},
   "outputs": [
    {
     "data": {
      "text/plain": [
       "413543.1241119913"
      ]
     },
     "execution_count": 28,
     "metadata": {},
     "output_type": "execute_result"
    }
   ],
   "source": [
    "# demand per hour \n",
    "3600 * df_od.tazCount.sum() / tot_sim_time_seconds"
   ]
  },
  {
   "cell_type": "code",
   "execution_count": 13,
   "metadata": {},
   "outputs": [
    {
     "data": {
      "text/plain": [
       "14"
      ]
     },
     "execution_count": 13,
     "metadata": {},
     "output_type": "execute_result"
    }
   ],
   "source": [
    "num_hours = int(tot_sim_time_seconds/3600)\n",
    "num_hours"
   ]
  },
  {
   "cell_type": "code",
   "execution_count": 15,
   "metadata": {},
   "outputs": [
    {
     "data": {
      "text/plain": [
       "9.33673763943383"
      ]
     },
     "execution_count": 15,
     "metadata": {},
     "output_type": "execute_result"
    }
   ],
   "source": [
    "# total demand for 14hrs (time 0 to 50400.69)\n",
    "df_od.tazCount.mean()"
   ]
  },
  {
   "cell_type": "code",
   "execution_count": 14,
   "metadata": {},
   "outputs": [
    {
     "data": {
      "text/plain": [
       "<AxesSubplot: >"
      ]
     },
     "execution_count": 14,
     "metadata": {},
     "output_type": "execute_result"
    },
    {
     "data": {
      "image/png": "[encoded data removed]",
      "text/plain": [
       "<Figure size 432x288 with 1 Axes>"
      ]
     },
     "metadata": {
      "needs_background": "light"
     },
     "output_type": "display_data"
    }
   ],
   "source": [
    "df_od.tazCount.hist()"
   ]
  },
  {
   "cell_type": "code",
   "execution_count": 16,
   "metadata": {},
   "outputs": [
    {
     "data": {
      "text/plain": [
       "(2611, 1)"
      ]
     },
     "execution_count": 16,
     "metadata": {},
     "output_type": "execute_result"
    }
   ],
   "source": [
    "df_od.tazCount.max(), df_od.tazCount.min()"
   ]
  },
  {
   "cell_type": "code",
   "execution_count": 31,
   "metadata": {},
   "outputs": [],
   "source": [
    "# Here we consider the average demand for each OD pair among all num_hours = 14 (hrs)\n",
    "# This provides us what the average number of demand is hourly for each OD pair\n",
    "# Notice that we transform this average to integer\n",
    "\n",
    "df_od['tazCount_hourly'] = [ int(elem/num_hours) for elem in df_od['tazCount'] ]"
   ]
  },
  {
   "cell_type": "code",
   "execution_count": 32,
   "metadata": {},
   "outputs": [
    {
     "data": {
      "text/html": [
       "<div>\n",
       "<style scoped>\n",
       "    .dataframe tbody tr th:only-of-type {\n",
       "        vertical-align: middle;\n",
       "    }\n",
       "\n",
       "    .dataframe tbody tr th {\n",
       "        vertical-align: top;\n",
       "    }\n",
       "\n",
       "    .dataframe thead th {\n",
       "        text-align: right;\n",
       "    }\n",
       "</style>\n",
       "<table border=\"1\" class=\"dataframe\">\n",
       "  <thead>\n",
       "    <tr style=\"text-align: right;\">\n",
       "      <th></th>\n",
       "      <th>tazFrom</th>\n",
       "      <th>tazTo</th>\n",
       "      <th>tazCount</th>\n",
       "      <th>tazCount_hourly</th>\n",
       "    </tr>\n",
       "  </thead>\n",
       "  <tbody>\n",
       "    <tr>\n",
       "      <th>0</th>\n",
       "      <td>10100</td>\n",
       "      <td>101200</td>\n",
       "      <td>3</td>\n",
       "      <td>0</td>\n",
       "    </tr>\n",
       "    <tr>\n",
       "      <th>1</th>\n",
       "      <td>10100</td>\n",
       "      <td>10200</td>\n",
       "      <td>6</td>\n",
       "      <td>0</td>\n",
       "    </tr>\n",
       "    <tr>\n",
       "      <th>2</th>\n",
       "      <td>10100</td>\n",
       "      <td>10300</td>\n",
       "      <td>1</td>\n",
       "      <td>0</td>\n",
       "    </tr>\n",
       "    <tr>\n",
       "      <th>3</th>\n",
       "      <td>10100</td>\n",
       "      <td>10400</td>\n",
       "      <td>5</td>\n",
       "      <td>0</td>\n",
       "    </tr>\n",
       "    <tr>\n",
       "      <th>4</th>\n",
       "      <td>10100</td>\n",
       "      <td>104200</td>\n",
       "      <td>10</td>\n",
       "      <td>0</td>\n",
       "    </tr>\n",
       "  </tbody>\n",
       "</table>\n",
       "</div>"
      ],
      "text/plain": [
       "  tazFrom   tazTo  tazCount  tazCount_hourly\n",
       "0   10100  101200         3                0\n",
       "1   10100   10200         6                0\n",
       "2   10100   10300         1                0\n",
       "3   10100   10400         5                0\n",
       "4   10100  104200        10                0"
      ]
     },
     "execution_count": 32,
     "metadata": {},
     "output_type": "execute_result"
    }
   ],
   "source": [
    "df_od.head()"
   ]
  },
  {
   "cell_type": "code",
   "execution_count": 33,
   "metadata": {},
   "outputs": [
    {
     "data": {
      "text/plain": [
       "259799"
      ]
     },
     "execution_count": 33,
     "metadata": {},
     "output_type": "execute_result"
    }
   ],
   "source": [
    "# Total demand \n",
    "df_od['tazCount_hourly'].sum()"
   ]
  },
  {
   "cell_type": "code",
   "execution_count": 35,
   "metadata": {},
   "outputs": [],
   "source": [
    "# low congestion scenario, demand per hour\n",
    "congestion_scaling = 5\n",
    "df_od['tazCount_congLow'] = [int(elem/congestion_scaling) for elem in df_od['tazCount_hourly']]"
   ]
  },
  {
   "cell_type": "code",
   "execution_count": 36,
   "metadata": {},
   "outputs": [
    {
     "data": {
      "text/plain": [
       "21339"
      ]
     },
     "execution_count": 36,
     "metadata": {},
     "output_type": "execute_result"
    }
   ],
   "source": [
    "df_od['tazCount_congLow'].sum()"
   ]
  },
  {
   "cell_type": "code",
   "execution_count": 37,
   "metadata": {},
   "outputs": [
    {
     "data": {
      "text/plain": [
       "((13058, 5), (620097, 5))"
      ]
     },
     "execution_count": 37,
     "metadata": {},
     "output_type": "execute_result"
    }
   ],
   "source": [
    "# before and after OD matrix sizes\n",
    "# Only trips with positive demand are actually considered\n",
    "df_od[df_od['tazCount_congLow']>0].shape, df_od[df_od['tazCount']>0].shape"
   ]
  },
  {
   "cell_type": "markdown",
   "metadata": {},
   "source": [
    "From above we see that after scaling hourly demand by a factor of 5, the\n",
    "effective number of OD's went from 629,097 trips (with demand measured in seconds) to only\n",
    "130,058 trips (with demand measured in hours)"
   ]
  },
  {
   "cell_type": "code",
   "execution_count": 45,
   "metadata": {},
   "outputs": [
    {
     "data": {
      "text/plain": [
       "(21339, 5789683)"
      ]
     },
     "execution_count": 45,
     "metadata": {},
     "output_type": "execute_result"
    }
   ],
   "source": [
    "df_od['tazCount_congLow'].sum(), df_od['tazCount'].sum()"
   ]
  },
  {
   "cell_type": "markdown",
   "metadata": {},
   "source": [
    "Total demand also went down from 5789683 to 21339"
   ]
  },
  {
   "cell_type": "code",
   "execution_count": 46,
   "metadata": {},
   "outputs": [
    {
     "data": {
      "text/plain": [
       "<AxesSubplot: >"
      ]
     },
     "execution_count": 46,
     "metadata": {},
     "output_type": "execute_result"
    },
    {
     "data": {
      "image/png": "[encoded data removed]",
      "text/plain": [
       "<Figure size 432x288 with 1 Axes>"
      ]
     },
     "metadata": {
      "needs_background": "light"
     },
     "output_type": "display_data"
    }
   ],
   "source": [
    "df_od['tazCount_congLow'].hist()"
   ]
  },
  {
   "cell_type": "code",
   "execution_count": 47,
   "metadata": {},
   "outputs": [
    {
     "data": {
      "text/plain": [
       "((24, 6), 32550)"
      ]
     },
     "execution_count": 47,
     "metadata": {},
     "output_type": "execute_result"
    }
   ],
   "source": [
    "# Trips with at least 1000 demand\n",
    "n1 = 1000\n",
    "df_od[df_od['tazCount']>n1].shape, df_od[df_od['tazCount']>n1].tazCount.sum()"
   ]
  },
  {
   "cell_type": "code",
   "execution_count": 48,
   "metadata": {},
   "outputs": [],
   "source": [
    "# low congestion and low dimensional instance\n",
    "df_od['tazCount_congLow_dimLow'] = [elem if elem > n1  else 0 for elem in df_od['tazCount']] "
   ]
  },
  {
   "cell_type": "code",
   "execution_count": 49,
   "metadata": {},
   "outputs": [
    {
     "data": {
      "text/plain": [
       "((24, 6), 32550)"
      ]
     },
     "execution_count": 49,
     "metadata": {},
     "output_type": "execute_result"
    }
   ],
   "source": [
    "df_od[df_od['tazCount_congLow_dimLow']>n1].shape, df_od[df_od['tazCount_congLow_dimLow']>n1].tazCount.sum()"
   ]
  },
  {
   "cell_type": "code",
   "execution_count": 50,
   "metadata": {},
   "outputs": [
    {
     "data": {
      "text/plain": [
       "<AxesSubplot: >"
      ]
     },
     "execution_count": 50,
     "metadata": {},
     "output_type": "execute_result"
    },
    {
     "data": {
      "image/png": "[encoded data removed]",
      "text/plain": [
       "<Figure size 432x288 with 1 Axes>"
      ]
     },
     "metadata": {
      "needs_background": "light"
     },
     "output_type": "display_data"
    }
   ],
   "source": [
    "df_od[df_od['tazCount_congLow_dimLow']>0].tazCount_congLow_dimLow.hist()"
   ]
  },
  {
   "cell_type": "markdown",
   "metadata": {},
   "source": [
    "So in general, the trick is to:\n",
    "1. Convert demand from seconds to hours\n",
    "2. Scale down hourly demand by a given factor. This will shift the distriution of demand to lower values across all trips and hence reduce the number of ODs with positive demand (given that we consider the floor of the scaled demand so many trips will be mapped to 0)\n",
    "3. Consider only OD's with demand above a given threshold."
   ]
  },
  {
   "cell_type": "markdown",
   "metadata": {},
   "source": [
    "## Write new xml input files"
   ]
  },
  {
   "cell_type": "code",
   "execution_count": 25,
   "metadata": {
    "collapsed": true,
    "jupyter": {
     "outputs_hidden": true
    },
    "tags": []
   },
   "outputs": [
    {
     "name": "stdout",
     "output_type": "stream",
     "text": [
      "525236\n"
     ]
    }
   ],
   "source": [
    "# same average hourly demand as the initial SFO OD but now set for 1hr of simulation\n",
    "tree = ET.parse(f'{net_path}init.xml')\n",
    "root = tree.getroot()\n",
    "    \n",
    "for child in root.iter(\"interval\"):\n",
    "    child.set('end',\"3600\")\n",
    "\n",
    "num_removed = 0\n",
    "for interv in root.findall(\"interval\"):\n",
    "    for child in interv.findall(\"tazRelation\"):\n",
    "        #print('***', child.get('count'))\n",
    "        new_demand = int(int(child.get('count'))/num_hours) # hourly demand    \n",
    "        if new_demand > 0:\n",
    "            child.set('count',str(new_demand))\n",
    "            #print(child.get('count'))\n",
    "        else:\n",
    "            # remove OD\n",
    "            #print('removed')\n",
    "            interv.remove(child)\n",
    "            num_removed += 1\n",
    "            \n",
    "print(num_removed)\n",
    "# commented out so as to not overwrite\n",
    "#tree.write(f'{net_path}initOD_1hrDemand.xml')\n"
   ]
  },
  {
   "cell_type": "code",
   "execution_count": 26,
   "metadata": {},
   "outputs": [
    {
     "name": "stdout",
     "output_type": "stream",
     "text": [
      "92084\n"
     ]
    }
   ],
   "source": [
    "# same average hourly demand as the initial SFO OD but now set for 5min of simulation\n",
    "# initial xml is the above defined hourly OD (to make the xml tree parsing faster)\n",
    "tree = ET.parse(f'{net_path}initOD_1hrDemand.xml')\n",
    "root = tree.getroot()\n",
    "    \n",
    "for child in root.iter(\"interval\"):\n",
    "    child.set('end',\"300\") # Here we still create 1hr of total demand\n",
    "\n",
    "num_removed = 0\n",
    "for interv in root.findall(\"interval\"):\n",
    "    for child in interv.findall(\"tazRelation\"):\n",
    "        #print('***', child.get('count'))\n",
    "        new_demand = int(int(child.get('count'))/12) # from hourly to 5-min demand\n",
    "        if new_demand > 0:\n",
    "            child.set('count',str(new_demand))\n",
    "            #print(child.get('count'))\n",
    "        else:\n",
    "            # remove OD\n",
    "            #print('removed')\n",
    "            interv.remove(child)\n",
    "            num_removed += 1\n",
    "            \n",
    "print(num_removed)\n",
    "tree.write(f'{net_path}initOD_5minDemand.xml')\n"
   ]
  },
  {
   "cell_type": "code",
   "execution_count": 30,
   "metadata": {},
   "outputs": [
    {
     "name": "stdout",
     "output_type": "stream",
     "text": [
      "76460\n"
     ]
    }
   ],
   "source": [
    "# same average hourly demand as the initial SFO OD but now set for 15min of simulation\n",
    "# initial xml is the above defined hourly OD (to make the xml tree parsing faster)\n",
    "tree = ET.parse(f'{net_path}initOD_1hrDemand.xml')\n",
    "root = tree.getroot()\n",
    "    \n",
    "for child in root.iter(\"interval\"):\n",
    "    child.set('end',\"900\")  # Here we still create 1hr of total demand\n",
    "\n",
    "num_removed = 0\n",
    "for interv in root.findall(\"interval\"):\n",
    "    for child in interv.findall(\"tazRelation\"):\n",
    "        #print('***', child.get('count'))\n",
    "        new_demand = int(int(child.get('count'))/4) # from hourly to 15-min demand\n",
    "        if new_demand > 0:\n",
    "            child.set('count',str(new_demand))\n",
    "            #print(child.get('count'))\n",
    "        else:\n",
    "            # remove OD\n",
    "            #print('removed')\n",
    "            interv.remove(child)\n",
    "            num_removed += 1\n",
    "            \n",
    "print(num_removed)\n",
    "tree.write(f'{net_path}initOD_15minDemand.xml')"
   ]
  },
  {
   "cell_type": "code",
   "execution_count": 32,
   "metadata": {},
   "outputs": [
    {
     "name": "stdout",
     "output_type": "stream",
     "text": [
      "48990\n"
     ]
    }
   ],
   "source": [
    "# same average hourly demand as the initial SFO OD but now set for 30min of simulation\n",
    "# initial xml is the above defined hourly OD (to make the xml tree parsing faster)\n",
    "tree = ET.parse(f'{net_path}initOD_1hrDemand.xml')\n",
    "root = tree.getroot()\n",
    "    \n",
    "for child in root.iter(\"interval\"):\n",
    "    child.set('end',\"1800\")  # Here we still create 1hr of total demand\n",
    "\n",
    "num_removed = 0\n",
    "for interv in root.findall(\"interval\"):\n",
    "    for child in interv.findall(\"tazRelation\"):\n",
    "        #print('***', child.get('count'))\n",
    "        new_demand = int(int(child.get('count'))/2) # from hourly to 30-min demand\n",
    "        if new_demand > 0:\n",
    "            child.set('count',str(new_demand))\n",
    "            #print(child.get('count'))\n",
    "        else:\n",
    "            # remove OD\n",
    "            #print('removed')\n",
    "            interv.remove(child)\n",
    "            num_removed += 1\n",
    "            \n",
    "print(num_removed)\n",
    "tree.write(f'{net_path}initOD_30minDemand.xml')"
   ]
  },
  {
   "cell_type": "code",
   "execution_count": 27,
   "metadata": {},
   "outputs": [
    {
     "name": "stdout",
     "output_type": "stream",
     "text": [
      "81803\n"
     ]
    }
   ],
   "source": [
    "# lower congestion demand, 1hr of simulation\n",
    "# initial xml is the above defined hourly OD (to make the xml tree parsing faster)\n",
    "\n",
    "dem_scaling = 5\n",
    "tree = ET.parse(f'{net_path}initOD_1hrDemand.xml')\n",
    "root = tree.getroot()\n",
    "    \n",
    "for child in root.iter(\"interval\"):\n",
    "    child.set('end',\"3600\")\n",
    "\n",
    "num_removed = 0\n",
    "for interv in root.findall(\"interval\"):\n",
    "    for child in interv.findall(\"tazRelation\"):\n",
    "        #print('***', child.get('count'))\n",
    "        new_demand = int(int(child.get('count'))/dem_scaling) \n",
    "        # still 1hr demand, but lower demand levels\n",
    "        if new_demand > 0:\n",
    "            child.set('count',str(new_demand))\n",
    "            #print(child.get('count'))\n",
    "        else:\n",
    "            # remove OD\n",
    "            #print('removed')\n",
    "            interv.remove(child)\n",
    "            num_removed += 1\n",
    "            \n",
    "print(num_removed)\n",
    "tree.write(f'{net_path}initOD_lowCongestion_1hrDemand.xml')"
   ]
  },
  {
   "cell_type": "code",
   "execution_count": 28,
   "metadata": {},
   "outputs": [
    {
     "name": "stdout",
     "output_type": "stream",
     "text": [
      "13016\n"
     ]
    }
   ],
   "source": [
    "# lower congestion demand, 5min simulation\n",
    "# initial xml is the above defined 1hr-low-congestion OD (to make the xml tree parsing faster)\n",
    "tree = ET.parse(f'{net_path}initOD_lowCongestion_1hrDemand.xml')\n",
    "root = tree.getroot()\n",
    "    \n",
    "for child in root.iter(\"interval\"):\n",
    "    child.set('end',\"3600\")\n",
    "\n",
    "num_removed = 0\n",
    "for interv in root.findall(\"interval\"):\n",
    "    for child in interv.findall(\"tazRelation\"):\n",
    "        #print('***', child.get('count'))\n",
    "        new_demand = int(int(child.get('count'))/12) # from 1hr to 5min demand\n",
    "        if new_demand > 0:\n",
    "            child.set('count',str(new_demand))\n",
    "            #print(child.get('count'))\n",
    "        else:\n",
    "            # remove OD\n",
    "            #print('removed')\n",
    "            interv.remove(child)\n",
    "            num_removed += 1\n",
    "            \n",
    "print(num_removed)\n",
    "tree.write(f'{net_path}initOD_lowCongestion_5minDemand.xml')"
   ]
  },
  {
   "cell_type": "code",
   "execution_count": 26,
   "metadata": {},
   "outputs": [],
   "source": [
    "import os\n",
    "\n",
    "def run_sumo(config, prefix_run):\n",
    "    od2trips_cmd = (\n",
    "        #f\"od2trips --no-step-log  --spread.uniform \"\n",
    "        f\"od2trips  --spread.uniform \"\n",
    "        #Loads TAZ (districts)\n",
    "        f\"--taz-files {config['NETWORK']}/{sim_setup['taz']} \" \n",
    "        # Loads O/D-matrix in tazRelation format fromFILE(s)\n",
    "        f\"--tazrelation-files {config['NETWORK']}/{sim_setup[f'{prefix_run}_od']} \"\n",
    "        # Writes trip definitions into FILE\n",
    "        f\"-o {config['NETWORK']}/{prefix_run}_od_trips.trips.xml \" \n",
    "    )\n",
    "\n",
    "    # Run SUMO to generate outputs\n",
    "    sumo_run = (\n",
    "        # Prefix which is applied to all output files. \n",
    "        f\"sumo --output-prefix {prefix_run}_ \" \n",
    "        # Do not check whether routes are connected\n",
    "        f\"--ignore-route-errors=true \"\n",
    "        # Load road network description from FILE\n",
    "        f\"--net-file={config['NETWORK']/sim_setup['net']} \"\n",
    "        # Load routes descriptions from FILE(s)\n",
    "        f\"--routes={config['NETWORK']}/{prefix_run}_od_trips.trips.xml \"\n",
    "        #  -b Defines the begin time in seconds; The simulation starts at this time\n",
    "        # -e Defines the end time in seconds; The simulation ends at this time\n",
    "        f\"-b {sim_setup['start_sim_sec']} -e {sim_setup['end_sim_sec']} \"\n",
    "        # Load further descriptions from FILE(s)\n",
    "        f\"--additional-files {config['NETWORK']/sim_setup['add']} \"\n",
    "        f\"--duration-log.statistics \"\n",
    "        f\"--xml-validation never \"\n",
    "        # Save single vehicle route info into FILE\n",
    "        f\"--vehroutes {config['NETWORK']}/routes.vehroutes.xml \"\n",
    "        f\"--verbose \"\n",
    "        # Disables output of warnings\n",
    "        f\"--no-warnings \"\n",
    "        # Faster simulation (i.e. less detailed)\n",
    "        f\"--mesosim true \"\n",
    "    \n",
    "    )\n",
    "        # f\"--seed {seed}\"\n",
    "\n",
    "    try:\n",
    "        print(od2trips_cmd)\n",
    "        os.system(od2trips_cmd)\n",
    "    except:\n",
    "        print(\"Unable to create trips file\")\n",
    "    else:\n",
    "        print(\"###### Running SUMO #######\")\n",
    "        print(sumo_run)\n",
    "        os.system(sumo_run)\n"
   ]
  },
  {
   "cell_type": "code",
   "execution_count": null,
   "metadata": {},
   "outputs": [
    {
     "name": "stdout",
     "output_type": "stream",
     "text": [
      "###### GT #######\n",
      "od2trips  --spread.uniform --taz-files /Users/osorio/HEC/Research/Group/ExternalCollaborations/SergioRodriguez_amazon/calibrate_ods/network/SFO/taz.xml --tazrelation-files /Users/osorio/HEC/Research/Group/ExternalCollaborations/SergioRodriguez_amazon/calibrate_ods/network/SFO/init.xml -o /Users/osorio/HEC/Research/Group/ExternalCollaborations/SergioRodriguez_amazon/calibrate_ods/network/SFO/init_od_trips.trips.xml \n",
      "Success.time 50390.31g time 982.65arsing time 1932.54ng time 2884.38ime 3840.554797.02.71ing time 7638.29time 8595.88 9538.8653.06me 11363.71ing time 12272.9054087.41time 14998.27rsing time 15902.10.15 17704.62g time 18605.8613.92me 21316.08ing time 22222.6204048.72time 24953.89rsing time 25867.90.96 27691.50g time 28601.8704.76me 31315.37ing time 32216.2404020.47time 34915.14rsing time 35825.07.85 37643.77g time 38552.7761.20me 41256.44ing time 42167.8773977.07time 44874.30rsing time 45790.32.48 47615.05g time 48522.78\n",
      "###### Running SUMO #######\n",
      "sumo --output-prefix init_ --ignore-route-errors=true --net-file=/Users/osorio/HEC/Research/Group/ExternalCollaborations/SergioRodriguez_amazon/calibrate_ods/network/SFO/SFO.net.xml --routes=/Users/osorio/HEC/Research/Group/ExternalCollaborations/SergioRodriguez_amazon/calibrate_ods/network/SFO/init_od_trips.trips.xml -b 14400 -e 15000 --additional-files /Users/osorio/HEC/Research/Group/ExternalCollaborations/SergioRodriguez_amazon/calibrate_ods/network/SFO/additional.add.xml --duration-log.statistics --xml-validation never --vehroutes /Users/osorio/HEC/Research/Group/ExternalCollaborations/SergioRodriguez_amazon/calibrate_ods/network/SFO/routes.vehroutes.xml --verbose --no-warnings --mesosim true \n",
      "Loading net-file from '/Users/osorio/HEC/Research/Group/ExternalCollaborations/SergioRodriguez_amazon/calibrate_ods/network/SFO/SFO.net.xml' ... \n",
      "done (18738ms).\n",
      "Loading additional-files from '/Users/osorio/HEC/Research/Group/ExternalCollaborations/SergioRodriguez_amazon/calibrate_ods/network/SFO/additional.add.xml' ... done (207ms).\n",
      "Loading done.\n",
      "Simulation version 1.16.0 started with time: 14400.00.\n"
     ]
    }
   ],
   "source": [
    "import time\n",
    "print(\"###### GT #######\")\n",
    "start = time.time() \n",
    "run_sumo(config, prefix_run = \"init\")\n",
    "end = time.time()\n",
    "print(\"Elapsed time: \", end - start)\n",
    "\n",
    "print(\"###### Current #######\")\n",
    "# Current is exact copy of init.xml (i.e. GT) with this difference:\n",
    "# <tazRelation from=\"10100\" to=\"604400\" count=\"5\"/>  <----- Init\n",
    "# <tazRelation from=\"10100\" to=\"604400\" count=\"7\"/>  <----- Current\n",
    "start = time.time() \n",
    "run_sumo(config, prefix_run = \"current\")\n",
    "end = time.time()\n",
    "print(\"Elapsed time: \", end - start)"
   ]
  },
  {
   "cell_type": "code",
   "execution_count": 51,
   "metadata": {},
   "outputs": [],
   "source": [
    "import os\n",
    "import pandas as pd\n",
    "from pandas import DataFrame\n",
    "\n",
    "def parse_loop_data_xml_to_pandas(config: dict,loop_file: dict) -> DataFrame: \n",
    "    \"\"\"Read the Loop Detectors Data: Each SUMO run produces a file with the\n",
    "    traffic counts. This function reads the corresponding traffic counts file\n",
    "    averages across simulation replications\n",
    "    \n",
    "    \"\"\"\n",
    "\n",
    "    output_file =(config[\"NETWORK\"] / \"loopOutputs.csv\")\n",
    "    ## See output explanation:\n",
    "    # https://sumo.dlr.de/docs/Simulation/Output/Lane-_or_Edge-based_Traffic_Measures.html#generated_output\n",
    "\n",
    "    data2csv = (\n",
    "        f\"python {config['SUMO']}/tools/xml/xml2csv.py \"\n",
    "        f\"{loop_file} \"\n",
    "        f\"-o {output_file}\"\n",
    "        )\n",
    "    \n",
    "    os.system(data2csv)\n",
    "    \n",
    "    df_trips = pd.read_csv(output_file, sep=\";\", header=0)\n",
    "\n",
    "    # edge flow in vehicles per hour\n",
    "    ## edge speed is given in m/s\n",
    "    ## edge_density is given in no. of vehicles/km\n",
    "\n",
    "    df_trips['interval_nVehContrib'] = 3.6*df_trips['edge_speed']*df_trips['edge_density']\n",
    "\n",
    "    # edge speed is given in m/s\n",
    "    df_trips['interval_harmonicMeanSpeed'] = df_trips['edge_speed']\n",
    "    \n",
    "    df_trips['EdgeID'] = df_trips['edge_id']\n",
    "\n",
    "    return df_trips.drop_duplicates(subset=['edge_id', 'interval_begin','interval_end'])"
   ]
  },
  {
   "cell_type": "code",
   "execution_count": 53,
   "metadata": {},
   "outputs": [],
   "source": [
    "import json\n",
    "from pathlib import Path\n",
    "input_path = '/Users/rodrse/Downloads/calibrate_ods_carolina/network/SFO/metadata'\n",
    "config = json.load(open(input_path + \"/config.json\"))\n",
    "config[\"NETWORK\"] = Path(config[\"NETWORK\"])\n",
    "config[\"SUMO\"] = Path(config[\"SUMO\"])"
   ]
  },
  {
   "cell_type": "code",
   "execution_count": null,
   "metadata": {},
   "outputs": [],
   "source": [
    "loop_stats_df_current = parse_loop_data_xml_to_pandas(\n",
    "    config,\n",
    "    loop_file = \"../../network/SFO/current_edge_data_SFO.xml\"\n",
    ")\n",
    "\n",
    "loop_stats_df_init = parse_loop_data_xml_to_pandas(\n",
    "    config,\n",
    "    loop_file = \"../../network/SFO/init_edge_data_SFO.xml\"\n",
    ")"
   ]
  },
  {
   "cell_type": "code",
   "execution_count": null,
   "metadata": {},
   "outputs": [],
   "source": [
    "import numpy as np\n",
    "\n",
    "def compute_nrmse_counts(df_true, df_simulated):\n",
    "    # Merge simulated output with ground truth\n",
    "    df1 = df_true\\\n",
    "        .merge(df_simulated, on=['EdgeID', 'interval_begin', 'interval_end'],\n",
    "        suffixes=('_GT', '_sim'), how='left')\n",
    "    \n",
    "    df1['interval_nVehContrib_sim'] = df1['interval_nVehContrib_sim'].fillna(0)\n",
    "    \n",
    "    df1['diff_square'] = (\n",
    "        df1['interval_nVehContrib_GT'] - df1['interval_nVehContrib_sim']\n",
    "        )**2\n",
    "    \n",
    "    n = df1.shape[0]\n",
    "    print(n)\n",
    "    print(df_true.shape[0])\n",
    "    print(df_simulated.shape[0])\n",
    "    RMSN = np.sqrt(n*(df1['diff_square'].sum()))/df1['interval_nVehContrib_GT'].sum()\n",
    "\n",
    "    return RMSN\n"
   ]
  },
  {
   "cell_type": "code",
   "execution_count": 28,
   "metadata": {},
   "outputs": [
    {
     "name": "stdout",
     "output_type": "stream",
     "text": [
      "200571\n",
      "200571\n",
      "200424\n"
     ]
    },
    {
     "data": {
      "text/plain": [
       "0.4163099468304255"
      ]
     },
     "execution_count": 28,
     "metadata": {},
     "output_type": "execute_result"
    }
   ],
   "source": [
    "compute_nrmse_counts(loop_stats_df_init, loop_stats_df_current)"
   ]
  },
  {
   "cell_type": "code",
   "execution_count": 18,
   "metadata": {},
   "outputs": [
    {
     "data": {
      "text/plain": [
       "(200424, 23)"
      ]
     },
     "execution_count": 18,
     "metadata": {},
     "output_type": "execute_result"
    }
   ],
   "source": [
    "loop_stats_df_current.shape"
   ]
  },
  {
   "cell_type": "code",
   "execution_count": 19,
   "metadata": {},
   "outputs": [
    {
     "data": {
      "text/html": [
       "<div>\n",
       "<style scoped>\n",
       "    .dataframe tbody tr th:only-of-type {\n",
       "        vertical-align: middle;\n",
       "    }\n",
       "\n",
       "    .dataframe tbody tr th {\n",
       "        vertical-align: top;\n",
       "    }\n",
       "\n",
       "    .dataframe thead th {\n",
       "        text-align: right;\n",
       "    }\n",
       "</style>\n",
       "<table border=\"1\" class=\"dataframe\">\n",
       "  <thead>\n",
       "    <tr style=\"text-align: right;\">\n",
       "      <th></th>\n",
       "      <th>interval_begin</th>\n",
       "      <th>interval_end</th>\n",
       "      <th>interval_id</th>\n",
       "      <th>edge_arrived</th>\n",
       "      <th>edge_density</th>\n",
       "      <th>edge_departed</th>\n",
       "      <th>edge_entered</th>\n",
       "      <th>edge_id</th>\n",
       "      <th>edge_laneChangedFrom</th>\n",
       "      <th>edge_laneChangedTo</th>\n",
       "      <th>...</th>\n",
       "      <th>edge_overlapTraveltime</th>\n",
       "      <th>edge_sampledSeconds</th>\n",
       "      <th>edge_speed</th>\n",
       "      <th>edge_speedRelative</th>\n",
       "      <th>edge_timeLoss</th>\n",
       "      <th>edge_traveltime</th>\n",
       "      <th>edge_waitingTime</th>\n",
       "      <th>interval_nVehContrib</th>\n",
       "      <th>interval_harmonicMeanSpeed</th>\n",
       "      <th>EdgeID</th>\n",
       "    </tr>\n",
       "  </thead>\n",
       "  <tbody>\n",
       "    <tr>\n",
       "      <th>0</th>\n",
       "      <td>14400.0</td>\n",
       "      <td>14700.0</td>\n",
       "      <td>dump_10</td>\n",
       "      <td>0</td>\n",
       "      <td>2.15</td>\n",
       "      <td>0</td>\n",
       "      <td>9</td>\n",
       "      <td>-100134682#0</td>\n",
       "      <td>0</td>\n",
       "      <td>0</td>\n",
       "      <td>...</td>\n",
       "      <td>11.00</td>\n",
       "      <td>95.76</td>\n",
       "      <td>13.92</td>\n",
       "      <td>1.01</td>\n",
       "      <td>0.8</td>\n",
       "      <td>10.64</td>\n",
       "      <td>0.0</td>\n",
       "      <td>107.74080</td>\n",
       "      <td>13.92</td>\n",
       "      <td>-100134682#0</td>\n",
       "    </tr>\n",
       "    <tr>\n",
       "      <th>1</th>\n",
       "      <td>14400.0</td>\n",
       "      <td>14700.0</td>\n",
       "      <td>dump_10</td>\n",
       "      <td>0</td>\n",
       "      <td>0.55</td>\n",
       "      <td>0</td>\n",
       "      <td>1</td>\n",
       "      <td>-100134703#0</td>\n",
       "      <td>0</td>\n",
       "      <td>0</td>\n",
       "      <td>...</td>\n",
       "      <td>14.41</td>\n",
       "      <td>13.59</td>\n",
       "      <td>6.04</td>\n",
       "      <td>0.88</td>\n",
       "      <td>0.0</td>\n",
       "      <td>13.58</td>\n",
       "      <td>0.0</td>\n",
       "      <td>11.95920</td>\n",
       "      <td>6.04</td>\n",
       "      <td>-100134703#0</td>\n",
       "    </tr>\n",
       "    <tr>\n",
       "      <th>2</th>\n",
       "      <td>14400.0</td>\n",
       "      <td>14700.0</td>\n",
       "      <td>dump_10</td>\n",
       "      <td>0</td>\n",
       "      <td>0.55</td>\n",
       "      <td>0</td>\n",
       "      <td>1</td>\n",
       "      <td>-100134703#1</td>\n",
       "      <td>0</td>\n",
       "      <td>0</td>\n",
       "      <td>...</td>\n",
       "      <td>14.43</td>\n",
       "      <td>13.60</td>\n",
       "      <td>6.04</td>\n",
       "      <td>0.88</td>\n",
       "      <td>0.0</td>\n",
       "      <td>13.60</td>\n",
       "      <td>0.0</td>\n",
       "      <td>11.95920</td>\n",
       "      <td>6.04</td>\n",
       "      <td>-100134703#1</td>\n",
       "    </tr>\n",
       "    <tr>\n",
       "      <th>3</th>\n",
       "      <td>14400.0</td>\n",
       "      <td>14700.0</td>\n",
       "      <td>dump_10</td>\n",
       "      <td>0</td>\n",
       "      <td>0.45</td>\n",
       "      <td>1</td>\n",
       "      <td>0</td>\n",
       "      <td>-100267303</td>\n",
       "      <td>0</td>\n",
       "      <td>0</td>\n",
       "      <td>...</td>\n",
       "      <td>4.60</td>\n",
       "      <td>3.92</td>\n",
       "      <td>7.37</td>\n",
       "      <td>1.08</td>\n",
       "      <td>0.0</td>\n",
       "      <td>3.92</td>\n",
       "      <td>0.0</td>\n",
       "      <td>11.93940</td>\n",
       "      <td>7.37</td>\n",
       "      <td>-100267303</td>\n",
       "    </tr>\n",
       "    <tr>\n",
       "      <th>4</th>\n",
       "      <td>14400.0</td>\n",
       "      <td>14700.0</td>\n",
       "      <td>dump_10</td>\n",
       "      <td>0</td>\n",
       "      <td>1.38</td>\n",
       "      <td>0</td>\n",
       "      <td>6</td>\n",
       "      <td>-100400941#2</td>\n",
       "      <td>0</td>\n",
       "      <td>0</td>\n",
       "      <td>...</td>\n",
       "      <td>10.92</td>\n",
       "      <td>60.68</td>\n",
       "      <td>13.91</td>\n",
       "      <td>1.01</td>\n",
       "      <td>0.0</td>\n",
       "      <td>10.56</td>\n",
       "      <td>0.0</td>\n",
       "      <td>69.10488</td>\n",
       "      <td>13.91</td>\n",
       "      <td>-100400941#2</td>\n",
       "    </tr>\n",
       "  </tbody>\n",
       "</table>\n",
       "<p>5 rows × 23 columns</p>\n",
       "</div>"
      ],
      "text/plain": [
       "   interval_begin  interval_end interval_id  edge_arrived  edge_density  \\\n",
       "0         14400.0       14700.0     dump_10             0          2.15   \n",
       "1         14400.0       14700.0     dump_10             0          0.55   \n",
       "2         14400.0       14700.0     dump_10             0          0.55   \n",
       "3         14400.0       14700.0     dump_10             0          0.45   \n",
       "4         14400.0       14700.0     dump_10             0          1.38   \n",
       "\n",
       "   edge_departed  edge_entered       edge_id  edge_laneChangedFrom  \\\n",
       "0              0             9  -100134682#0                     0   \n",
       "1              0             1  -100134703#0                     0   \n",
       "2              0             1  -100134703#1                     0   \n",
       "3              1             0    -100267303                     0   \n",
       "4              0             6  -100400941#2                     0   \n",
       "\n",
       "   edge_laneChangedTo  ...  edge_overlapTraveltime  edge_sampledSeconds  \\\n",
       "0                   0  ...                   11.00                95.76   \n",
       "1                   0  ...                   14.41                13.59   \n",
       "2                   0  ...                   14.43                13.60   \n",
       "3                   0  ...                    4.60                 3.92   \n",
       "4                   0  ...                   10.92                60.68   \n",
       "\n",
       "   edge_speed  edge_speedRelative  edge_timeLoss  edge_traveltime  \\\n",
       "0       13.92                1.01            0.8            10.64   \n",
       "1        6.04                0.88            0.0            13.58   \n",
       "2        6.04                0.88            0.0            13.60   \n",
       "3        7.37                1.08            0.0             3.92   \n",
       "4       13.91                1.01            0.0            10.56   \n",
       "\n",
       "   edge_waitingTime  interval_nVehContrib  interval_harmonicMeanSpeed  \\\n",
       "0               0.0             107.74080                       13.92   \n",
       "1               0.0              11.95920                        6.04   \n",
       "2               0.0              11.95920                        6.04   \n",
       "3               0.0              11.93940                        7.37   \n",
       "4               0.0              69.10488                       13.91   \n",
       "\n",
       "         EdgeID  \n",
       "0  -100134682#0  \n",
       "1  -100134703#0  \n",
       "2  -100134703#1  \n",
       "3    -100267303  \n",
       "4  -100400941#2  \n",
       "\n",
       "[5 rows x 23 columns]"
      ]
     },
     "execution_count": 19,
     "metadata": {},
     "output_type": "execute_result"
    }
   ],
   "source": [
    "loop_stats_df_current.head()"
   ]
  },
  {
   "cell_type": "markdown",
   "metadata": {},
   "source": [
    "### Manually compute loss: departed + entered -arrived - left"
   ]
  },
  {
   "cell_type": "code",
   "execution_count": 39,
   "metadata": {},
   "outputs": [],
   "source": [
    "def compute_nrmse_counts_new(df_true, df_simulated):\n",
    "    # Merge simulated output with ground truth\n",
    "    df_true[\"y\"] = df_true['edge_departed'] + \\\n",
    "            df_true['edge_entered'] - \\\n",
    "            df_true['edge_arrived'] - \\\n",
    "            df_true['edge_left'] \n",
    "\n",
    "    df_simulated[\"y\"] = df_simulated['edge_departed'] + \\\n",
    "            df_simulated['edge_entered'] - \\\n",
    "            df_simulated['edge_arrived'] - \\\n",
    "            df_simulated['edge_left']         \n",
    "\n",
    "    df1 = df_true\\\n",
    "        .merge(df_simulated, on=['EdgeID', 'interval_begin', 'interval_end'],\n",
    "        suffixes=('_GT', '_sim'), how='left')\n",
    "    \n",
    "    df1['y_sim'] = df1['y_sim'].fillna(0)            \n",
    "    \n",
    "    df1['diff_square'] = (\n",
    "        df1['y_GT'] - df1['y_sim']\n",
    "        )**2\n",
    "    \n",
    "    n = df1.shape[0]\n",
    "    print(n)\n",
    "    print(df_true.shape[0])\n",
    "    print(df_simulated.shape[0])\n",
    "    RMSN = np.sqrt(n*(df1['diff_square'].sum()))/df1['interval_nVehContrib_GT'].sum()\n",
    "\n",
    "    return RMSN\n"
   ]
  },
  {
   "cell_type": "code",
   "execution_count": 40,
   "metadata": {},
   "outputs": [
    {
     "name": "stdout",
     "output_type": "stream",
     "text": [
      "200571\n",
      "200571\n",
      "200424\n"
     ]
    },
    {
     "data": {
      "text/plain": [
       "0.011312367053198177"
      ]
     },
     "execution_count": 40,
     "metadata": {},
     "output_type": "execute_result"
    }
   ],
   "source": [
    "compute_nrmse_counts_new(loop_stats_df_init, loop_stats_df_current)\n"
   ]
  },
  {
   "cell_type": "code",
   "execution_count": null,
   "metadata": {},
   "outputs": [],
   "source": []
  }
 ],
 "metadata": {
  "kernelspec": {
   "display_name": "BoTorch",
   "language": "python",
   "name": "botorch"
  },
  "language_info": {
   "codemirror_mode": {
    "name": "ipython",
    "version": 3
   },
   "file_extension": ".py",
   "mimetype": "text/x-python",
   "name": "python",
   "nbconvert_exporter": "python",
   "pygments_lexer": "ipython3",
   "version": "3.9.11"
  }
 },
 "nbformat": 4,
 "nbformat_minor": 4
}
