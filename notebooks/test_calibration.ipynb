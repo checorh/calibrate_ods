{
 "cells": [
  {
   "cell_type": "markdown",
   "id": "70a36bb6",
   "metadata": {},
   "source": [
    "### Load experiment meta-data"
   ]
  },
  {
   "cell_type": "code",
   "execution_count": 14,
   "id": "e709441d",
   "metadata": {},
   "outputs": [],
   "source": [
    "from sumo_python.helpers.load_experiment_metadata import load_experiment_config"
   ]
  },
  {
   "cell_type": "code",
   "execution_count": 2,
   "id": "4de252bd",
   "metadata": {},
   "outputs": [],
   "source": [
    "input_path = \"/Users/rodrse/Documents/DemandCalibration/notebooks/od_calibration_sumo_files/\""
   ]
  },
  {
   "cell_type": "code",
   "execution_count": 3,
   "id": "d2c6f253",
   "metadata": {},
   "outputs": [],
   "source": [
    "config, sim_setup = load_experiment_config(config=input_path + 'config.json',\n",
    "                        sim_setup=input_path + 'simulation_setups.json',)"
   ]
  },
  {
   "cell_type": "code",
   "execution_count": 15,
   "id": "e8bc909e",
   "metadata": {},
   "outputs": [
    {
     "data": {
      "text/plain": [
       "{'NETWORK': PosixPath('/Users/rodrse/Documents/DemandCalibration/notebooks/od_calibration_sumo_files/quickstart/data'),\n",
       " 'SUMO': PosixPath('/usr/local/opt/sumo/share/sumo')}"
      ]
     },
     "execution_count": 15,
     "metadata": {},
     "output_type": "execute_result"
    }
   ],
   "source": [
    "config"
   ]
  },
  {
   "cell_type": "markdown",
   "id": "ce416267",
   "metadata": {},
   "source": [
    "# Run simulations\n",
    "\n",
    "Steps:\n",
    "1. Create OD meta-files that for a given count, creates a random trajectoy of vehicles moving from O -> D\n",
    "2. Run SUMO against the latter files\n",
    "3. Parse output of simulation and yields the aggregated value of vehicles which arrive to a given node in th network\n",
    "\n"
   ]
  },
  {
   "cell_type": "markdown",
   "id": "0f442fd2",
   "metadata": {},
   "source": [
    "### Step 1. Create OD meta-data"
   ]
  },
  {
   "cell_type": "code",
   "execution_count": 5,
   "id": "fb9848bf",
   "metadata": {},
   "outputs": [
    {
     "name": "stdout",
     "output_type": "stream",
     "text": [
      "printing /Users/rodrse/Documents/DemandCalibration/notebooks/od_calibration_sumo_files/quickstart/data/iter_quickstart.current_od.xml\n"
     ]
    }
   ],
   "source": [
    "import numpy as np\n",
    "from sumo_python.helpers.generate_od_xml import generate_od_xml\n",
    "\n",
    "\n",
    "prefix_run = 'iter'\n",
    "#od_rand = np.random.rand(4)*200\n",
    "od_rand = np.array([500,500,900,900])\n",
    "#print(prefix_run, np.sum(od_rand))\n",
    "    \n",
    "generate_od_xml(od_rand, config, sim_setup, prefix_run)\n"
   ]
  },
  {
   "cell_type": "markdown",
   "id": "8195fe4e",
   "metadata": {},
   "source": [
    "### Step 2-3: Run SUMO and parse output"
   ]
  },
  {
   "cell_type": "code",
   "execution_count": 6,
   "id": "8cfecb7d",
   "metadata": {},
   "outputs": [
    {
     "name": "stdout",
     "output_type": "stream",
     "text": [
      "### Runing: iter\n",
      "od2trips --no-step-log  --spread.uniform --taz-files /Users/rodrse/Documents/DemandCalibration/notebooks/od_calibration_sumo_files/quickstart/data/quickstart.taz.xml --tazrelation-files /Users/rodrse/Documents/DemandCalibration/notebooks/od_calibration_sumo_files/quickstart/data/iter_quickstart.current_od.xml -o /Users/rodrse/Documents/DemandCalibration/notebooks/od_calibration_sumo_files/quickstart/data/iter_od_trips.trips.xml \n",
      "Success.\n",
      "Loading net-file from '/Users/rodrse/Documents/DemandCalibration/notebooks/od_calibration_sumo_files/quickstart/data/quickstart.net.xml' ... done (10ms).\n",
      "Loading additional-files from '/Users/rodrse/Documents/DemandCalibration/notebooks/od_calibration_sumo_files/quickstart/data/quickstart.additional.xml' ... done (3ms).\n",
      "Loading done.\n",
      "Simulation version 1.16.0 started with time: 54000.00.\n",
      "Step #57600.00 (5ms ~= 200.00*RT, ~131200.00UPS, vehicles TOT 2800 ACT 656 BUF 0)         \n",
      "Simulation ended at time: 57600.00\n",
      "Reason: The final simulation step has been reached.\n",
      "Performance: \n",
      " Duration: 13.62s\n",
      " Real time factor: 264.414\n",
      " UPS: 118779.434447\n",
      "Vehicles: \n",
      " Inserted: 2800\n",
      " Running: 656\n",
      " Waiting: 0\n",
      "Statistics (avg of 2144):\n",
      " RouteLength: 4392.77\n",
      " Speed: 11.24\n",
      " Duration: 471.78\n",
      " WaitingTime: 81.10\n",
      " TimeLoss: 153.11\n",
      " DepartDelay: 0.10\n",
      "\n",
      "DijkstraRouter answered 2800 queries and explored 10.01 edges on average.\n",
      "DijkstraRouter spent 0.01s answering queries (0.00ms on average).\n"
     ]
    }
   ],
   "source": [
    "from sumo_python.simulator.run_sumo_and_parse_output import run_sumo_and_parse_output\n",
    "\n",
    "df_simulated = run_sumo_and_parse_output(config, sim_setup, prefix_run)\n"
   ]
  },
  {
   "cell_type": "code",
   "execution_count": 7,
   "id": "35358955",
   "metadata": {},
   "outputs": [
    {
     "data": {
      "text/html": [
       "<div>\n",
       "<style scoped>\n",
       "    .dataframe tbody tr th:only-of-type {\n",
       "        vertical-align: middle;\n",
       "    }\n",
       "\n",
       "    .dataframe tbody tr th {\n",
       "        vertical-align: top;\n",
       "    }\n",
       "\n",
       "    .dataframe thead th {\n",
       "        text-align: right;\n",
       "    }\n",
       "</style>\n",
       "<table border=\"1\" class=\"dataframe\">\n",
       "  <thead>\n",
       "    <tr style=\"text-align: right;\">\n",
       "      <th></th>\n",
       "      <th>EdgeID</th>\n",
       "      <th>interval_begin</th>\n",
       "      <th>interval_end</th>\n",
       "      <th>interval_nVehContrib</th>\n",
       "      <th>interval_harmonicMeanSpeed</th>\n",
       "    </tr>\n",
       "  </thead>\n",
       "  <tbody>\n",
       "    <tr>\n",
       "      <th>0</th>\n",
       "      <td>#EdgeL5</td>\n",
       "      <td>54000.0</td>\n",
       "      <td>57600.0</td>\n",
       "      <td>959.0</td>\n",
       "      <td>13.500000</td>\n",
       "    </tr>\n",
       "    <tr>\n",
       "      <th>1</th>\n",
       "      <td>#EdgeL7</td>\n",
       "      <td>54000.0</td>\n",
       "      <td>57600.0</td>\n",
       "      <td>1243.0</td>\n",
       "      <td>13.603333</td>\n",
       "    </tr>\n",
       "  </tbody>\n",
       "</table>\n",
       "</div>"
      ],
      "text/plain": [
       "    EdgeID  interval_begin  interval_end  interval_nVehContrib  \\\n",
       "0  #EdgeL5         54000.0       57600.0                 959.0   \n",
       "1  #EdgeL7         54000.0       57600.0                1243.0   \n",
       "\n",
       "   interval_harmonicMeanSpeed  \n",
       "0                   13.500000  \n",
       "1                   13.603333  "
      ]
     },
     "execution_count": 7,
     "metadata": {},
     "output_type": "execute_result"
    }
   ],
   "source": [
    "df_simulated"
   ]
  },
  {
   "cell_type": "code",
   "execution_count": 64,
   "id": "5532902b",
   "metadata": {},
   "outputs": [
    {
     "data": {
      "text/html": [
       "<div>\n",
       "<style scoped>\n",
       "    .dataframe tbody tr th:only-of-type {\n",
       "        vertical-align: middle;\n",
       "    }\n",
       "\n",
       "    .dataframe tbody tr th {\n",
       "        vertical-align: top;\n",
       "    }\n",
       "\n",
       "    .dataframe thead th {\n",
       "        text-align: right;\n",
       "    }\n",
       "</style>\n",
       "<table border=\"1\" class=\"dataframe\">\n",
       "  <thead>\n",
       "    <tr style=\"text-align: right;\">\n",
       "      <th></th>\n",
       "      <th>EdgeID</th>\n",
       "      <th>interval_begin</th>\n",
       "      <th>interval_end</th>\n",
       "      <th>interval_nVehContrib</th>\n",
       "      <th>interval_harmonicMeanSpeed</th>\n",
       "    </tr>\n",
       "  </thead>\n",
       "  <tbody>\n",
       "    <tr>\n",
       "      <th>0</th>\n",
       "      <td>#EdgeL5</td>\n",
       "      <td>54000.0</td>\n",
       "      <td>57600.0</td>\n",
       "      <td>319.666667</td>\n",
       "      <td>13.500000</td>\n",
       "    </tr>\n",
       "    <tr>\n",
       "      <th>1</th>\n",
       "      <td>#EdgeL7</td>\n",
       "      <td>54000.0</td>\n",
       "      <td>57600.0</td>\n",
       "      <td>414.333333</td>\n",
       "      <td>13.603333</td>\n",
       "    </tr>\n",
       "  </tbody>\n",
       "</table>\n",
       "</div>"
      ],
      "text/plain": [
       "    EdgeID  interval_begin  interval_end  interval_nVehContrib  \\\n",
       "0  #EdgeL5         54000.0       57600.0            319.666667   \n",
       "1  #EdgeL7         54000.0       57600.0            414.333333   \n",
       "\n",
       "   interval_harmonicMeanSpeed  \n",
       "0                   13.500000  \n",
       "1                   13.603333  "
      ]
     },
     "execution_count": 64,
     "metadata": {},
     "output_type": "execute_result"
    }
   ],
   "source": [
    "df_simulated"
   ]
  },
  {
   "cell_type": "markdown",
   "id": "6be05851",
   "metadata": {},
   "source": [
    "### Obtain ground-truth"
   ]
  },
  {
   "cell_type": "code",
   "execution_count": 8,
   "id": "1025ae0f",
   "metadata": {},
   "outputs": [
    {
     "name": "stdout",
     "output_type": "stream",
     "text": [
      "od2trips --no-step-log  --spread.uniform --taz-files /Users/rodrse/Documents/DemandCalibration/notebooks/od_calibration_sumo_files/quickstart/data/quickstart.taz.xml --tazrelation-files /Users/rodrse/Documents/DemandCalibration/notebooks/od_calibration_sumo_files/quickstart/data/quickstart.gt_od.xml -o /Users/rodrse/Documents/DemandCalibration/notebooks/od_calibration_sumo_files/quickstart/data/gt_od_trips.trips.xml \n",
      "Success.\n",
      "sumo --output-prefix gt_ --ignore-route-errors=true --net-file=/Users/rodrse/Documents/DemandCalibration/notebooks/od_calibration_sumo_files/quickstart/data/quickstart.net.xml --routes=/Users/rodrse/Documents/DemandCalibration/notebooks/od_calibration_sumo_files/quickstart/data/gt_od_trips.trips.xml -b 54000 -e 57600 --additional-files /Users/rodrse/Documents/DemandCalibration/notebooks/od_calibration_sumo_files/quickstart/data/quickstart.additional.xml --duration-log.statistics --xml-validation never --vehroutes /Users/rodrse/Documents/DemandCalibration/notebooks/od_calibration_sumo_files/quickstart/data/gt_routes.vehroutes.xml \n",
      "Loading net-file from '/Users/rodrse/Documents/DemandCalibration/notebooks/od_calibration_sumo_files/quickstart/data/quickstart.net.xml' ... done (7ms).\n",
      "Loading additional-files from '/Users/rodrse/Documents/DemandCalibration/notebooks/od_calibration_sumo_files/quickstart/data/quickstart.additional.xml' ... done (2ms).\n",
      "Loading done.\n",
      "Simulation version 1.16.0 started with time: 54000.00.\n",
      "Step #57600.00 (7ms ~= 142.86*RT, ~93714.29UPS, vehicles TOT 2800 ACT 656 BUF 0)          \n",
      "Simulation ended at time: 57600.00\n",
      "Reason: The final simulation step has been reached.\n",
      "Performance: \n",
      " Duration: 15.53s\n",
      " Real time factor: 231.765\n",
      " UPS: 104112.663362\n",
      "Vehicles: \n",
      " Inserted: 2800\n",
      " Running: 656\n",
      " Waiting: 0\n",
      "Statistics (avg of 2144):\n",
      " RouteLength: 4392.77\n",
      " Speed: 11.24\n",
      " Duration: 471.78\n",
      " WaitingTime: 81.10\n",
      " TimeLoss: 153.11\n",
      " DepartDelay: 0.10\n",
      "\n",
      "DijkstraRouter answered 2800 queries and explored 10.01 edges on average.\n",
      "DijkstraRouter spent 0.02s answering queries (0.01ms on average).\n"
     ]
    }
   ],
   "source": [
    "from sumo_python.simulator.ground_truth import run_ground_truth_and_parse\n",
    "df_gt_data = run_ground_truth_and_parse(config, sim_setup)"
   ]
  },
  {
   "cell_type": "code",
   "execution_count": 9,
   "id": "85ed7c06",
   "metadata": {},
   "outputs": [
    {
     "data": {
      "text/html": [
       "<div>\n",
       "<style scoped>\n",
       "    .dataframe tbody tr th:only-of-type {\n",
       "        vertical-align: middle;\n",
       "    }\n",
       "\n",
       "    .dataframe tbody tr th {\n",
       "        vertical-align: top;\n",
       "    }\n",
       "\n",
       "    .dataframe thead th {\n",
       "        text-align: right;\n",
       "    }\n",
       "</style>\n",
       "<table border=\"1\" class=\"dataframe\">\n",
       "  <thead>\n",
       "    <tr style=\"text-align: right;\">\n",
       "      <th></th>\n",
       "      <th>EdgeID</th>\n",
       "      <th>interval_begin</th>\n",
       "      <th>interval_end</th>\n",
       "      <th>interval_nVehContrib</th>\n",
       "      <th>interval_harmonicMeanSpeed</th>\n",
       "    </tr>\n",
       "  </thead>\n",
       "  <tbody>\n",
       "    <tr>\n",
       "      <th>0</th>\n",
       "      <td>#EdgeL5</td>\n",
       "      <td>54000.0</td>\n",
       "      <td>57600.0</td>\n",
       "      <td>959</td>\n",
       "      <td>13.500000</td>\n",
       "    </tr>\n",
       "    <tr>\n",
       "      <th>1</th>\n",
       "      <td>#EdgeL7</td>\n",
       "      <td>54000.0</td>\n",
       "      <td>57600.0</td>\n",
       "      <td>1243</td>\n",
       "      <td>13.603333</td>\n",
       "    </tr>\n",
       "  </tbody>\n",
       "</table>\n",
       "</div>"
      ],
      "text/plain": [
       "    EdgeID  interval_begin  interval_end  interval_nVehContrib  \\\n",
       "0  #EdgeL5         54000.0       57600.0                   959   \n",
       "1  #EdgeL7         54000.0       57600.0                  1243   \n",
       "\n",
       "   interval_harmonicMeanSpeed  \n",
       "0                   13.500000  \n",
       "1                   13.603333  "
      ]
     },
     "execution_count": 9,
     "metadata": {},
     "output_type": "execute_result"
    }
   ],
   "source": [
    "df_gt_data"
   ]
  },
  {
   "cell_type": "markdown",
   "id": "9b183bec",
   "metadata": {},
   "source": [
    "# Compute objective"
   ]
  },
  {
   "cell_type": "code",
   "execution_count": 10,
   "id": "a8f1a816",
   "metadata": {},
   "outputs": [
    {
     "data": {
      "text/plain": [
       "0.0"
      ]
     },
     "execution_count": 10,
     "metadata": {},
     "output_type": "execute_result"
    }
   ],
   "source": [
    "from sumo_python.helpers.nrmse_counts import compute_nrmse_counts\n",
    "\n",
    "loss_estimate = compute_nrmse_counts(df_gt_data, df_simulated)\n",
    "loss_estimate"
   ]
  },
  {
   "cell_type": "markdown",
   "id": "81304c43",
   "metadata": {},
   "source": [
    "### wrap objective x -> f(x)"
   ]
  },
  {
   "cell_type": "code",
   "execution_count": 16,
   "id": "1fa16271",
   "metadata": {},
   "outputs": [],
   "source": [
    "def objective(x):\n",
    "    \n",
    "    prefix_run = 'iter'    \n",
    "    generate_od_xml(x, config, sim_setup, prefix_run)\n",
    "    df_simulated = run_sumo_and_parse_output(config, sim_setup, prefix_run)\n",
    "    loss_estimate = compute_nrmse_counts(df_gt_data, df_simulated)\n",
    "    df_output = pd.DataFrame(x.reshape(-1, len(x)),columns = ['x1','x2','x3','x4'])\n",
    "    df_output['loss_estimate'] = loss_estimate\n",
    "    \n",
    "    return df_output"
   ]
  },
  {
   "cell_type": "markdown",
   "id": "b14099f8",
   "metadata": {},
   "source": [
    "# Bayesian optimization"
   ]
  },
  {
   "cell_type": "code",
   "execution_count": 17,
   "id": "8a49d8c2",
   "metadata": {},
   "outputs": [],
   "source": [
    "import os\n",
    "import torch\n",
    "import pandas as pd\n",
    "\n",
    "device = torch.device(\"cuda:3\" if torch.cuda.is_available() else \"cpu\")\n",
    "dtype = torch.double\n"
   ]
  },
  {
   "cell_type": "markdown",
   "id": "138069b7",
   "metadata": {},
   "source": [
    "### Declare search space"
   ]
  },
  {
   "cell_type": "code",
   "execution_count": 18,
   "id": "03b4c50c",
   "metadata": {},
   "outputs": [
    {
     "data": {
      "text/plain": [
       "tensor([[ 400.,  400.,  400.,  400.],\n",
       "        [1000., 1000., 1000., 1000.]], dtype=torch.float64)"
      ]
     },
     "execution_count": 18,
     "metadata": {},
     "output_type": "execute_result"
    }
   ],
   "source": [
    "# dimensionality of input space\n",
    "d = 4 \n",
    "bounds = torch.tensor([[400,400,400,400],[1000,1000,1000,1000]], device=device, dtype=dtype) \n",
    "bounds"
   ]
  },
  {
   "cell_type": "markdown",
   "id": "cccc607d",
   "metadata": {},
   "source": [
    "### Generate batch of policies using Sobol sequences"
   ]
  },
  {
   "cell_type": "code",
   "execution_count": 19,
   "id": "303b2512",
   "metadata": {},
   "outputs": [],
   "source": [
    "from torch.quasirandom import SobolEngine\n",
    "n0 = 25\n",
    "dim = 4\n",
    "sobol = SobolEngine(dim, scramble=True)\n",
    "x_0 = sobol.draw(n0).to(dtype=dtype)"
   ]
  },
  {
   "cell_type": "code",
   "execution_count": 20,
   "id": "4b6f148c",
   "metadata": {},
   "outputs": [],
   "source": [
    "from botorch.utils.transforms import unnormalize\n",
    "# map the normalized into the original parameter space\n",
    "train_X0 = unnormalize(x_0, bounds)\n"
   ]
  },
  {
   "cell_type": "code",
   "execution_count": 21,
   "id": "9cfd9340",
   "metadata": {},
   "outputs": [
    {
     "name": "stdout",
     "output_type": "stream",
     "text": [
      "printing /Users/rodrse/Documents/DemandCalibration/notebooks/od_calibration_sumo_files/quickstart/data/iter_quickstart.current_od.xml\n",
      "### Runing: iter\n",
      "od2trips --no-step-log  --spread.uniform --taz-files /Users/rodrse/Documents/DemandCalibration/notebooks/od_calibration_sumo_files/quickstart/data/quickstart.taz.xml --tazrelation-files /Users/rodrse/Documents/DemandCalibration/notebooks/od_calibration_sumo_files/quickstart/data/iter_quickstart.current_od.xml -o /Users/rodrse/Documents/DemandCalibration/notebooks/od_calibration_sumo_files/quickstart/data/iter_od_trips.trips.xml \n",
      "Success.\n",
      "Loading net-file from '/Users/rodrse/Documents/DemandCalibration/notebooks/od_calibration_sumo_files/quickstart/data/quickstart.net.xml' ... done (9ms).\n",
      "Loading additional-files from '/Users/rodrse/Documents/DemandCalibration/notebooks/od_calibration_sumo_files/quickstart/data/quickstart.additional.xml' ... done (2ms).\n",
      "Loading done.\n",
      "Simulation version 1.16.0 started with time: 54000.00.\n",
      "Step #57600.00 (7ms ~= 142.86*RT, ~109857.14UPS, vehicles TOT 3011 ACT 769 BUF 32)        \n",
      "Simulation ended at time: 57600.00\n",
      "Reason: The final simulation step has been reached.\n",
      "Performance: \n",
      " Duration: 15.82s\n",
      " Real time factor: 227.517\n",
      " UPS: 114350.123238\n",
      "Vehicles: \n",
      " Inserted: 3011 (Loaded: 3043)\n",
      " Running: 769\n",
      " Waiting: 32\n",
      "Statistics (avg of 2242):\n",
      " RouteLength: 4246.87\n",
      " Speed: 12.18\n",
      " Duration: 422.24\n",
      " WaitingTime: 74.64\n",
      " TimeLoss: 114.25\n",
      " DepartDelay: 0.49\n",
      "\n",
      "DijkstraRouter answered 3048 queries and explored 9.62 edges on average.\n",
      "DijkstraRouter spent 0.01s answering queries (0.00ms on average).\n",
      "printing /Users/rodrse/Documents/DemandCalibration/notebooks/od_calibration_sumo_files/quickstart/data/iter_quickstart.current_od.xml\n",
      "### Runing: iter\n",
      "od2trips --no-step-log  --spread.uniform --taz-files /Users/rodrse/Documents/DemandCalibration/notebooks/od_calibration_sumo_files/quickstart/data/quickstart.taz.xml --tazrelation-files /Users/rodrse/Documents/DemandCalibration/notebooks/od_calibration_sumo_files/quickstart/data/iter_quickstart.current_od.xml -o /Users/rodrse/Documents/DemandCalibration/notebooks/od_calibration_sumo_files/quickstart/data/iter_od_trips.trips.xml \n",
      "Success.\n",
      "Loading net-file from '/Users/rodrse/Documents/DemandCalibration/notebooks/od_calibration_sumo_files/quickstart/data/quickstart.net.xml' ... done (6ms).\n",
      "Loading additional-files from '/Users/rodrse/Documents/DemandCalibration/notebooks/od_calibration_sumo_files/quickstart/data/quickstart.additional.xml' ... done (1ms).\n",
      "Loading done.\n",
      "Simulation version 1.16.0 started with time: 54000.00.\n",
      "Step #57600.00 (7ms ~= 142.86*RT, ~81571.43UPS, vehicles TOT 2259 ACT 571 BUF 0)          \n",
      "Simulation ended at time: 57600.00\n",
      "Reason: The final simulation step has been reached.\n",
      "Performance: \n",
      " Duration: 12.81s\n",
      " Real time factor: 280.943\n",
      " UPS: 104450.600905\n",
      "Vehicles: \n",
      " Inserted: 2259\n",
      " Running: 571\n",
      " Waiting: 0\n",
      "Statistics (avg of 1688):\n",
      " RouteLength: 4454.59\n",
      " Speed: 10.53\n",
      " Duration: 540.40\n",
      " WaitingTime: 119.27\n",
      " TimeLoss: 217.88\n",
      " DepartDelay: 0.49\n",
      "\n",
      "DijkstraRouter answered 2259 queries and explored 10.35 edges on average.\n",
      "DijkstraRouter spent 0.01s answering queries (0.00ms on average).\n",
      "printing /Users/rodrse/Documents/DemandCalibration/notebooks/od_calibration_sumo_files/quickstart/data/iter_quickstart.current_od.xml\n",
      "### Runing: iter\n",
      "od2trips --no-step-log  --spread.uniform --taz-files /Users/rodrse/Documents/DemandCalibration/notebooks/od_calibration_sumo_files/quickstart/data/quickstart.taz.xml --tazrelation-files /Users/rodrse/Documents/DemandCalibration/notebooks/od_calibration_sumo_files/quickstart/data/iter_quickstart.current_od.xml -o /Users/rodrse/Documents/DemandCalibration/notebooks/od_calibration_sumo_files/quickstart/data/iter_od_trips.trips.xml \n",
      "Success.\n",
      "Loading net-file from '/Users/rodrse/Documents/DemandCalibration/notebooks/od_calibration_sumo_files/quickstart/data/quickstart.net.xml' ... done (7ms).\n",
      "Loading additional-files from '/Users/rodrse/Documents/DemandCalibration/notebooks/od_calibration_sumo_files/quickstart/data/quickstart.additional.xml' ... done (1ms).\n",
      "Loading done.\n",
      "Simulation version 1.16.0 started with time: 54000.00.\n",
      "Step #57400.00 (8ms ~= 125.00*RT, ~82875.00UPS, vehicles TOT 2541 ACT 663 BUF 0)          \r"
     ]
    },
    {
     "name": "stderr",
     "output_type": "stream",
     "text": [
      "Warning: Teleporting vehicle '516'; waited too long (wrong lane), lane='L15_0', time=57461.00.\n",
      "Warning: Vehicle '516' ends teleporting on edge 'L18', time=57461.00.\n",
      "Warning: Teleporting vehicle '527'; waited too long (wrong lane), lane='L15_0', time=57462.00.\n",
      "Warning: Vehicle '527' ends teleporting on edge 'L18', time=57462.00.\n"
     ]
    },
    {
     "name": "stdout",
     "output_type": "stream",
     "text": [
      "Step #57600.00 (7ms ~= 142.86*RT, ~98142.86UPS, vehicles TOT 2691 ACT 687 BUF 0)          \n",
      "Simulation ended at time: 57600.00\n",
      "Reason: The final simulation step has been reached.\n",
      "Performance: \n",
      " Duration: 16.37s\n",
      " Real time factor: 219.874\n",
      " UPS: 98077.078116\n",
      "Vehicles: \n",
      " Inserted: 2691\n",
      " Running: 687\n",
      " Waiting: 0\n",
      " Teleports: 2 (Wrong Lane: 2)\n",
      "Statistics (avg of 2004):\n",
      " RouteLength: 4336.34\n",
      " Speed: 12.06\n",
      " Duration: 446.45\n",
      " WaitingTime: 84.64\n",
      " TimeLoss: 132.07\n",
      " DepartDelay: 0.50\n",
      "\n",
      "DijkstraRouter answered 2691 queries and explored 10.06 edges on average.\n",
      "DijkstraRouter spent 0.02s answering queries (0.01ms on average).\n",
      "printing /Users/rodrse/Documents/DemandCalibration/notebooks/od_calibration_sumo_files/quickstart/data/iter_quickstart.current_od.xml\n",
      "### Runing: iter\n",
      "od2trips --no-step-log  --spread.uniform --taz-files /Users/rodrse/Documents/DemandCalibration/notebooks/od_calibration_sumo_files/quickstart/data/quickstart.taz.xml --tazrelation-files /Users/rodrse/Documents/DemandCalibration/notebooks/od_calibration_sumo_files/quickstart/data/iter_quickstart.current_od.xml -o /Users/rodrse/Documents/DemandCalibration/notebooks/od_calibration_sumo_files/quickstart/data/iter_od_trips.trips.xml \n",
      "Success.\n",
      "Loading net-file from '/Users/rodrse/Documents/DemandCalibration/notebooks/od_calibration_sumo_files/quickstart/data/quickstart.net.xml' ... done (8ms).\n",
      "Loading additional-files from '/Users/rodrse/Documents/DemandCalibration/notebooks/od_calibration_sumo_files/quickstart/data/quickstart.additional.xml' ... done (1ms).\n",
      "Loading done.\n",
      "Simulation version 1.16.0 started with time: 54000.00.\n",
      "Step #56600.00 (7ms ~= 142.86*RT, ~120714.29UPS, vehicles TOT 2311 ACT 845 BUF 7)         \r"
     ]
    },
    {
     "name": "stderr",
     "output_type": "stream",
     "text": [
      "Warning: Teleporting vehicle '463'; waited too long (jam), lane='L12_0', time=56603.00.\n",
      "Warning: Vehicle '463' ends teleporting on edge 'L15', time=56603.00.\n",
      "Warning: Teleporting vehicle '466'; waited too long (jam), lane='L12_0', time=56604.00.\n",
      "Warning: Teleporting vehicle '462'; waited too long (jam), lane='L12_0', time=56605.00.\n",
      "Warning: Teleporting vehicle '479'; waited too long (jam), lane='L12_0', time=56610.00.\n",
      "Warning: Teleporting vehicle '483'; waited too long (jam), lane='L12_0', time=56612.00.\n",
      "Warning: Teleporting vehicle '485'; waited too long (jam), lane='L12_0', time=56614.00.\n",
      "Warning: Teleporting vehicle '484'; waited too long (jam), lane='L12_0', time=56625.00.\n",
      "Warning: Teleporting vehicle '486'; waited too long (jam), lane='L12_0', time=56628.00.\n",
      "Warning: Teleporting vehicle '489'; waited too long (jam), lane='L12_0', time=56629.00.\n",
      "Warning: Teleporting vehicle '495'; waited too long (jam), lane='L12_0', time=56630.00.\n",
      "Warning: Teleporting vehicle '500'; waited too long (jam), lane='L12_0', time=56631.00.\n",
      "Warning: Teleporting vehicle '492'; waited too long (jam), lane='L12_0', time=56632.00.\n",
      "Warning: Teleporting vehicle '498'; waited too long (jam), lane='L12_0', time=56633.00.\n",
      "Warning: Vehicle '462' ends teleporting on edge 'L15', time=56634.00.\n",
      "Warning: Teleporting vehicle '516'; waited too long (jam), lane='L2_0', time=56650.00.\n",
      "Warning: Vehicle '516' ends teleporting on edge 'L12', time=56650.00.\n",
      "Warning: Teleporting vehicle '392'; waited too long (wrong lane), lane='L15_0', time=56652.00.\n",
      "Warning: Vehicle '392' ends teleporting on edge 'L18', time=56652.00.\n",
      "Warning: Teleporting vehicle '396'; waited too long (wrong lane), lane='L15_0', time=56671.00.\n",
      "Warning: Vehicle '396' ends teleporting on edge 'L18', time=56671.00.\n",
      "Warning: Teleporting vehicle '433'; waited too long (wrong lane), lane='L15_0', time=56673.00.\n",
      "Warning: Vehicle '433' ends teleporting on edge 'L18', time=56673.00.\n",
      "Warning: Teleporting vehicle '442'; waited too long (wrong lane), lane='L15_0', time=56676.00.\n",
      "Warning: Vehicle '442' ends teleporting on edge 'L18', time=56676.00.\n"
     ]
    },
    {
     "name": "stdout",
     "output_type": "stream",
     "text": [
      "Step #56700.00 (8ms ~= 125.00*RT, ~103000.00UPS, vehicles TOT 2382 ACT 824 BUF 25)        \r"
     ]
    },
    {
     "name": "stderr",
     "output_type": "stream",
     "text": [
      "Warning: Vehicle '466' ends teleporting on edge 'L15', time=56718.00.\n"
     ]
    },
    {
     "name": "stdout",
     "output_type": "stream",
     "text": [
      "Step #56800.00 (10ms ~= 100.00*RT, ~81800.00UPS, vehicles TOT 2454 ACT 818 BUF 43)        \r"
     ]
    },
    {
     "name": "stderr",
     "output_type": "stream",
     "text": [
      "Warning: Teleporting vehicle '610'; waited too long (wrong lane), lane='L12_2', time=56848.00.\n",
      "Warning: Teleporting vehicle '350'; waited too long (jam), lane='L12_1', time=56851.00.\n",
      "Warning: Vehicle '350' ends teleporting on edge 'L15', time=56861.00.\n",
      "Warning: Teleporting vehicle '451'; waited too long (wrong lane), lane='L15_0', time=56883.00.\n",
      "Warning: Vehicle '451' ends teleporting on edge 'L18', time=56883.00.\n",
      "Warning: Teleporting vehicle '619'; waited too long (wrong lane), lane='L12_2', time=56889.00.\n",
      "Warning: Teleporting vehicle '621'; waited too long (wrong lane), lane='L12_2', time=56907.00.\n"
     ]
    },
    {
     "name": "stdout",
     "output_type": "stream",
     "text": [
      "Step #56900.00 (9ms ~= 111.11*RT, ~92555.56UPS, vehicles TOT 2519 ACT 833 BUF 66)         \r"
     ]
    },
    {
     "name": "stderr",
     "output_type": "stream",
     "text": [
      "Warning: Teleporting vehicle '633'; waited too long (wrong lane), lane='L12_2', time=56940.00.\n",
      "Warning: Vehicle '479' ends teleporting on edge 'L15', time=56969.00.\n",
      "Warning: Teleporting vehicle '652'; waited too long (wrong lane), lane='L12_2', time=56995.00.\n"
     ]
    },
    {
     "name": "stdout",
     "output_type": "stream",
     "text": [
      "Step #57000.00 (14ms ~= 71.43*RT, ~59500.00UPS, vehicles TOT 2564 ACT 833 BUF 111)        \r"
     ]
    },
    {
     "name": "stderr",
     "output_type": "stream",
     "text": [
      "Warning: Teleporting vehicle '518'; waited too long (jam), lane=':1_3_1', time=57018.00.\n",
      "Warning: Vehicle '518' ends teleporting on edge 'L12', time=57018.00.\n",
      "Warning: Teleporting vehicle '656'; waited too long (wrong lane), lane='L12_2', time=57031.00.\n",
      "Warning: Vehicle '483' ends teleporting on edge 'L15', time=57040.00.\n",
      "Warning: Teleporting vehicle '657'; waited too long (wrong lane), lane='L12_2', time=57067.00.\n"
     ]
    },
    {
     "name": "stdout",
     "output_type": "stream",
     "text": [
      "Step #57100.00 (8ms ~= 125.00*RT, ~100875.00UPS, vehicles TOT 2607 ACT 807 BUF 157)       \r"
     ]
    },
    {
     "name": "stderr",
     "output_type": "stream",
     "text": [
      "Warning: Vehicle '484' ends teleporting on edge 'L15', time=57101.00.\n",
      "Warning: Teleporting vehicle '659'; waited too long (wrong lane), lane='L12_2', time=57105.00.\n",
      "Warning: Teleporting vehicle '660'; waited too long (wrong lane), lane='L12_2', time=57140.00.\n",
      "Warning: Vehicle '485' ends teleporting on edge 'L15', time=57145.00.\n",
      "Warning: Teleporting vehicle '715'; waited too long (jam), lane='D2_1', time=57168.00.\n",
      "Warning: Vehicle '715' ends teleporting on edge 'L2', time=57168.00.\n"
     ]
    },
    {
     "name": "stdout",
     "output_type": "stream",
     "text": [
      "Step #57200.00 (10ms ~= 100.00*RT, ~79300.00UPS, vehicles TOT 2658 ACT 793 BUF 194)       \r"
     ]
    },
    {
     "name": "stderr",
     "output_type": "stream",
     "text": [
      "Warning: Teleporting vehicle '1460'; waited too long (jam), lane=':1_3_2', time=57201.00.\n",
      "Warning: Teleporting vehicle '707'; waited too long (jam), lane='L2_1', time=57202.00.\n",
      "Warning: Vehicle '707' ends teleporting on edge 'L12', time=57202.00.\n",
      "Warning: Vehicle '486' ends teleporting on edge 'L15', time=57205.00.\n",
      "Warning: Teleporting vehicle '708'; waited too long (jam), lane='L2_1', time=57208.00.\n",
      "Warning: Vehicle '708' ends teleporting on edge 'L12', time=57208.00.\n",
      "Warning: Teleporting vehicle '709'; waited too long (jam), lane='L2_1', time=57215.00.\n",
      "Warning: Vehicle '709' ends teleporting on edge 'L12', time=57215.00.\n",
      "Warning: Vehicle '1460' ends teleporting on edge 'L12', time=57250.00.\n"
     ]
    },
    {
     "name": "stdout",
     "output_type": "stream",
     "text": [
      "Step #57300.00 (7ms ~= 142.86*RT, ~112285.71UPS, vehicles TOT 2703 ACT 786 BUF 239)       \r"
     ]
    },
    {
     "name": "stderr",
     "output_type": "stream",
     "text": [
      "Warning: Teleporting vehicle '666'; waited too long (wrong lane), lane='L12_2', time=57325.00.\n",
      "Warning: Vehicle '489' ends teleporting on edge 'L15', time=57336.00.\n",
      "Warning: Vehicle '492' ends teleporting on edge 'L15', time=57368.00.\n"
     ]
    },
    {
     "name": "stdout",
     "output_type": "stream",
     "text": [
      "Step #57400.00 (9ms ~= 111.11*RT, ~86777.78UPS, vehicles TOT 2746 ACT 781 BUF 284)        \r"
     ]
    },
    {
     "name": "stderr",
     "output_type": "stream",
     "text": [
      "Warning: Vehicle '495' ends teleporting on edge 'L15', time=57401.00.\n",
      "Warning: Teleporting vehicle '586'; waited too long (jam), lane='D2_0', time=57416.00.\n",
      "Warning: Vehicle '586' ends teleporting on edge 'L2', time=57416.00.\n",
      "Warning: Vehicle '498' ends teleporting on edge 'L15', time=57437.00.\n",
      "Warning: Vehicle '500' ends teleporting on edge 'L15', time=57440.00.\n",
      "Warning: Vehicle '610' ends teleporting on edge 'L15', time=57446.00.\n",
      "Warning: Vehicle '619' ends teleporting on edge 'L15', time=57460.00.\n",
      "Warning: Teleporting vehicle '721'; waited too long (jam), lane='D2_1', time=57497.00.\n",
      "Warning: Vehicle '721' ends teleporting on edge 'L2', time=57497.00.\n",
      "Warning: Teleporting vehicle '1461'; waited too long (jam), lane=':1_3_2', time=57510.00.\n",
      "Warning: Vehicle '1461' ends teleporting on edge 'L12', time=57510.00.\n",
      "Warning: Vehicle '621' ends teleporting on edge 'L15', time=57513.00.\n"
     ]
    },
    {
     "name": "stdout",
     "output_type": "stream",
     "text": [
      "Step #57500.00 (8ms ~= 125.00*RT, ~96875.00UPS, vehicles TOT 2795 ACT 775 BUF 326)        \r"
     ]
    },
    {
     "name": "stderr",
     "output_type": "stream",
     "text": [
      "Warning: Teleporting vehicle '519'; waited too long (jam), lane=':1_3_1', time=57555.00.\n",
      "Warning: Vehicle '519' ends teleporting on edge 'L12', time=57555.00.\n"
     ]
    },
    {
     "name": "stdout",
     "output_type": "stream",
     "text": [
      "Step #57600.00 (10ms ~= 100.00*RT, ~80600.00UPS, vehicles TOT 2865 ACT 806 BUF 344)       \n",
      "Simulation ended at time: 57600.00\n",
      "Reason: The final simulation step has been reached.\n",
      "Performance: \n",
      " Duration: 22.94s\n",
      " Real time factor: 156.958\n",
      " UPS: 99120.029648\n",
      "Vehicles: \n",
      " Inserted: 2865 (Loaded: 3209)\n",
      " Running: 806\n",
      " Waiting: 344\n",
      " Teleports: 40 (Jam: 25, Wrong Lane: 15)\n",
      "Statistics (avg of 2059):\n",
      " RouteLength: 4473.87\n",
      " Speed: 10.88\n",
      " Duration: 522.84\n",
      " WaitingTime: 101.47\n",
      " TimeLoss: 199.18\n",
      " DepartDelay: 0.49\n",
      "\n",
      "DijkstraRouter answered 3294 queries and explored 10.61 edges on average.\n",
      "DijkstraRouter spent 0.01s answering queries (0.00ms on average).\n",
      "printing /Users/rodrse/Documents/DemandCalibration/notebooks/od_calibration_sumo_files/quickstart/data/iter_quickstart.current_od.xml\n",
      "### Runing: iter\n",
      "od2trips --no-step-log  --spread.uniform --taz-files /Users/rodrse/Documents/DemandCalibration/notebooks/od_calibration_sumo_files/quickstart/data/quickstart.taz.xml --tazrelation-files /Users/rodrse/Documents/DemandCalibration/notebooks/od_calibration_sumo_files/quickstart/data/iter_quickstart.current_od.xml -o /Users/rodrse/Documents/DemandCalibration/notebooks/od_calibration_sumo_files/quickstart/data/iter_od_trips.trips.xml \n",
      "Success.\n",
      "Loading net-file from '/Users/rodrse/Documents/DemandCalibration/notebooks/od_calibration_sumo_files/quickstart/data/quickstart.net.xml' ... done (7ms).\n",
      "Loading additional-files from '/Users/rodrse/Documents/DemandCalibration/notebooks/od_calibration_sumo_files/quickstart/data/quickstart.additional.xml' ... done (1ms).\n",
      "Loading done.\n",
      "Simulation version 1.16.0 started with time: 54000.00.\n",
      "Step #57000.00 (8ms ~= 125.00*RT, ~109500.00UPS, vehicles TOT 2571 ACT 876 BUF 0)         \r"
     ]
    },
    {
     "name": "stderr",
     "output_type": "stream",
     "text": [
      "Warning: Teleporting vehicle '623'; waited too long (wrong lane), lane='L12_2', time=57022.00.\n",
      "Warning: Vehicle '623' ends teleporting on edge 'L15', time=57022.00.\n"
     ]
    },
    {
     "name": "stdout",
     "output_type": "stream",
     "text": [
      "Step #57100.00 (9ms ~= 111.11*RT, ~99444.44UPS, vehicles TOT 2654 ACT 895 BUF 2)          \r"
     ]
    },
    {
     "name": "stderr",
     "output_type": "stream",
     "text": [
      "Warning: Teleporting vehicle '628'; waited too long (wrong lane), lane='L12_2', time=57151.00.\n",
      "Warning: Teleporting vehicle '1502'; waited too long (jam), lane=':1_3_2', time=57193.00.\n",
      "Warning: Vehicle '1502' ends teleporting on edge 'L12', time=57193.00.\n",
      "Warning: Teleporting vehicle '677'; waited too long (jam), lane='L2_1', time=57194.00.\n",
      "Warning: Vehicle '677' ends teleporting on edge 'L12', time=57194.00.\n",
      "Warning: Teleporting vehicle '678'; waited too long (jam), lane='L2_1', time=57200.00.\n",
      "Warning: Vehicle '678' ends teleporting on edge 'L12', time=57200.00.\n",
      "Warning: Vehicle '628' ends teleporting on edge 'L15', time=57216.00.\n"
     ]
    },
    {
     "name": "stdout",
     "output_type": "stream",
     "text": [
      "Step #57200.00 (6ms ~= 166.67*RT, ~147500.00UPS, vehicles TOT 2693 ACT 885 BUF 49)        \r"
     ]
    },
    {
     "name": "stderr",
     "output_type": "stream",
     "text": [
      "Warning: Teleporting vehicle '1536'; waited too long (jam), lane='D2_1', time=57299.00.\n",
      "Warning: Vehicle '1536' ends teleporting on edge 'L2', time=57299.00.\n",
      "Warning: Teleporting vehicle '713'; waited too long (jam), lane='D2_1', time=57300.00.\n",
      "Warning: Vehicle '713' ends teleporting on edge 'L2', time=57300.00.\n",
      "Warning: Teleporting vehicle '714'; waited too long (jam), lane='D2_1', time=57303.00.\n",
      "Warning: Teleporting vehicle '633'; waited too long (wrong lane), lane='L12_2', time=57304.00.\n",
      "Warning: Vehicle '633' ends teleporting on edge 'L15', time=57304.00.\n",
      "Warning: Vehicle '714' ends teleporting on edge 'L2', time=57309.00.\n"
     ]
    },
    {
     "name": "stdout",
     "output_type": "stream",
     "text": [
      "Step #57300.00 (8ms ~= 125.00*RT, ~108875.00UPS, vehicles TOT 2732 ACT 871 BUF 96)        \r"
     ]
    },
    {
     "name": "stderr",
     "output_type": "stream",
     "text": [
      "Warning: Teleporting vehicle '635'; waited too long (wrong lane), lane='L12_2', time=57364.00.\n",
      "Warning: Vehicle '635' ends teleporting on edge 'L15', time=57364.00.\n",
      "Warning: Teleporting vehicle '636'; waited too long (wrong lane), lane='L12_2', time=57365.00.\n",
      "Warning: Teleporting vehicle '680'; waited too long (jam), lane='L2_1', time=57391.00.\n",
      "Warning: Vehicle '680' ends teleporting on edge 'L12', time=57391.00.\n"
     ]
    },
    {
     "name": "stdout",
     "output_type": "stream",
     "text": [
      "Step #57400.00 (6ms ~= 166.67*RT, ~145166.67UPS, vehicles TOT 2772 ACT 871 BUF 142)       \r"
     ]
    },
    {
     "name": "stderr",
     "output_type": "stream",
     "text": [
      "Warning: Vehicle '636' ends teleporting on edge 'L15', time=57406.00.\n",
      "Warning: Teleporting vehicle '683'; waited too long (jam), lane='L2_1', time=57410.00.\n",
      "Warning: Vehicle '683' ends teleporting on edge 'L12', time=57410.00.\n",
      "Warning: Teleporting vehicle '646'; waited too long (wrong lane), lane='L12_2', time=57426.00.\n",
      "Warning: Teleporting vehicle '647'; waited too long (wrong lane), lane='L12_2', time=57476.00.\n",
      "Warning: Vehicle '646' ends teleporting on edge 'L15', time=57478.00.\n",
      "Warning: Teleporting vehicle '689'; waited too long (jam), lane='L2_1', time=57488.00.\n",
      "Warning: Vehicle '689' ends teleporting on edge 'L12', time=57488.00.\n"
     ]
    },
    {
     "name": "stdout",
     "output_type": "stream",
     "text": [
      "Step #57500.00 (7ms ~= 142.86*RT, ~122571.43UPS, vehicles TOT 2811 ACT 858 BUF 188)       \r"
     ]
    },
    {
     "name": "stderr",
     "output_type": "stream",
     "text": [
      "Warning: Vehicle '647' ends teleporting on edge 'L15', time=57525.00.\n",
      "Warning: Teleporting vehicle '649'; waited too long (wrong lane), lane='L12_2', time=57535.00.\n",
      "Warning: Teleporting vehicle '553'; waited too long (jam), lane='D2_0', time=57543.00.\n",
      "Warning: Vehicle '553' ends teleporting on edge 'L2', time=57543.00.\n",
      "Warning: Vehicle '649' ends teleporting on edge 'L15', time=57575.00.\n"
     ]
    },
    {
     "name": "stdout",
     "output_type": "stream",
     "text": [
      "Step #57600.00 (6ms ~= 166.67*RT, ~142333.33UPS, vehicles TOT 2850 ACT 854 BUF 235)       \n",
      "Simulation ended at time: 57600.00\n",
      "Reason: The final simulation step has been reached.\n",
      "Performance: \n",
      " Duration: 21.63s\n",
      " Real time factor: 166.436\n",
      " UPS: 108309.477577\n",
      "Vehicles: \n",
      " Inserted: 2850 (Loaded: 3085)\n",
      " Running: 854\n",
      " Waiting: 235\n",
      " Teleports: 18 (Jam: 10, Wrong Lane: 8)\n",
      "Statistics (avg of 1996):\n",
      " RouteLength: 4440.39\n",
      " Speed: 10.39\n",
      " Duration: 567.53\n",
      " WaitingTime: 113.68\n",
      " TimeLoss: 245.70\n",
      " DepartDelay: 0.46\n",
      "\n",
      "DijkstraRouter answered 3086 queries and explored 10.42 edges on average.\n",
      "DijkstraRouter spent 0.02s answering queries (0.01ms on average).\n",
      "printing /Users/rodrse/Documents/DemandCalibration/notebooks/od_calibration_sumo_files/quickstart/data/iter_quickstart.current_od.xml\n",
      "### Runing: iter\n",
      "od2trips --no-step-log  --spread.uniform --taz-files /Users/rodrse/Documents/DemandCalibration/notebooks/od_calibration_sumo_files/quickstart/data/quickstart.taz.xml --tazrelation-files /Users/rodrse/Documents/DemandCalibration/notebooks/od_calibration_sumo_files/quickstart/data/iter_quickstart.current_od.xml -o /Users/rodrse/Documents/DemandCalibration/notebooks/od_calibration_sumo_files/quickstart/data/iter_od_trips.trips.xml \n",
      "Success.\n",
      "Loading net-file from '/Users/rodrse/Documents/DemandCalibration/notebooks/od_calibration_sumo_files/quickstart/data/quickstart.net.xml' ... done (6ms).\n",
      "Loading additional-files from '/Users/rodrse/Documents/DemandCalibration/notebooks/od_calibration_sumo_files/quickstart/data/quickstart.additional.xml' ... done (1ms).\n",
      "Loading done.\n",
      "Simulation version 1.16.0 started with time: 54000.00.\n",
      "Step #57600.00 (5ms ~= 200.00*RT, ~132600.00UPS, vehicles TOT 2721 ACT 663 BUF 0)         \n",
      "Simulation ended at time: 57600.00\n",
      "Reason: The final simulation step has been reached.\n",
      "Performance: \n",
      " Duration: 13.33s\n",
      " Real time factor: 270.169\n",
      " UPS: 115869.493433\n",
      "Vehicles: \n",
      " Inserted: 2721\n",
      " Running: 663\n",
      " Waiting: 0\n",
      "Statistics (avg of 2058):\n",
      " RouteLength: 4338.60\n",
      " Speed: 12.51\n",
      " Duration: 412.39\n",
      " WaitingTime: 65.47\n",
      " TimeLoss: 97.29\n",
      " DepartDelay: 0.49\n",
      "\n",
      "DijkstraRouter answered 2721 queries and explored 10.26 edges on average.\n",
      "DijkstraRouter spent 0.01s answering queries (0.00ms on average).\n",
      "printing /Users/rodrse/Documents/DemandCalibration/notebooks/od_calibration_sumo_files/quickstart/data/iter_quickstart.current_od.xml\n",
      "### Runing: iter\n",
      "od2trips --no-step-log  --spread.uniform --taz-files /Users/rodrse/Documents/DemandCalibration/notebooks/od_calibration_sumo_files/quickstart/data/quickstart.taz.xml --tazrelation-files /Users/rodrse/Documents/DemandCalibration/notebooks/od_calibration_sumo_files/quickstart/data/iter_quickstart.current_od.xml -o /Users/rodrse/Documents/DemandCalibration/notebooks/od_calibration_sumo_files/quickstart/data/iter_od_trips.trips.xml \n",
      "Success.\n",
      "Loading net-file from '/Users/rodrse/Documents/DemandCalibration/notebooks/od_calibration_sumo_files/quickstart/data/quickstart.net.xml' ... done (7ms).\n",
      "Loading additional-files from '/Users/rodrse/Documents/DemandCalibration/notebooks/od_calibration_sumo_files/quickstart/data/quickstart.additional.xml' ... done (1ms).\n",
      "Loading done.\n",
      "Simulation version 1.16.0 started with time: 54000.00.\n",
      "Step #57600.00 (12ms ~= 83.33*RT, ~72250.00UPS, vehicles TOT 2847 ACT 867 BUF 0)          \n",
      "Simulation ended at time: 57600.00\n",
      "Reason: The final simulation step has been reached.\n",
      "Performance: \n",
      " Duration: 18.30s\n",
      " Real time factor: 196.764\n",
      " UPS: 107387.844338\n",
      "Vehicles: \n",
      " Inserted: 2847\n",
      " Running: 867\n",
      " Waiting: 0\n",
      "Statistics (avg of 1980):\n",
      " RouteLength: 4274.39\n",
      " Speed: 10.95\n",
      " Duration: 588.39\n",
      " WaitingTime: 167.12\n",
      " TimeLoss: 278.94\n",
      " DepartDelay: 0.48\n",
      "\n",
      "DijkstraRouter answered 2847 queries and explored 9.75 edges on average.\n",
      "DijkstraRouter spent 0.01s answering queries (0.00ms on average).\n",
      "printing /Users/rodrse/Documents/DemandCalibration/notebooks/od_calibration_sumo_files/quickstart/data/iter_quickstart.current_od.xml\n",
      "### Runing: iter\n",
      "od2trips --no-step-log  --spread.uniform --taz-files /Users/rodrse/Documents/DemandCalibration/notebooks/od_calibration_sumo_files/quickstart/data/quickstart.taz.xml --tazrelation-files /Users/rodrse/Documents/DemandCalibration/notebooks/od_calibration_sumo_files/quickstart/data/iter_quickstart.current_od.xml -o /Users/rodrse/Documents/DemandCalibration/notebooks/od_calibration_sumo_files/quickstart/data/iter_od_trips.trips.xml \n",
      "Success.\n",
      "Loading net-file from '/Users/rodrse/Documents/DemandCalibration/notebooks/od_calibration_sumo_files/quickstart/data/quickstart.net.xml' ... done (7ms).\n",
      "Loading additional-files from '/Users/rodrse/Documents/DemandCalibration/notebooks/od_calibration_sumo_files/quickstart/data/quickstart.additional.xml' ... done (1ms).\n",
      "Loading done.\n",
      "Simulation version 1.16.0 started with time: 54000.00.\n",
      "Step #56900.00 (8ms ~= 125.00*RT, ~80875.00UPS, vehicles TOT 2025 ACT 647 BUF 0)          \r"
     ]
    },
    {
     "name": "stderr",
     "output_type": "stream",
     "text": [
      "Warning: Teleporting vehicle '516'; waited too long (jam), lane='L12_0', time=56944.00.\n",
      "Warning: Vehicle '516' ends teleporting on edge 'L15', time=56944.00.\n"
     ]
    },
    {
     "name": "stdout",
     "output_type": "stream",
     "text": [
      "Step #57000.00 (9ms ~= 111.11*RT, ~73333.33UPS, vehicles TOT 2095 ACT 660 BUF 0)          \r"
     ]
    },
    {
     "name": "stderr",
     "output_type": "stream",
     "text": [
      "Warning: Teleporting vehicle '474'; waited too long (wrong lane), lane='L15_0', time=57043.00.\n",
      "Warning: Vehicle '474' ends teleporting on edge 'L18', time=57043.00.\n"
     ]
    },
    {
     "name": "stdout",
     "output_type": "stream",
     "text": [
      "Step #57600.00 (6ms ~= 166.67*RT, ~129333.33UPS, vehicles TOT 2514 ACT 776 BUF 0)         \n",
      "Simulation ended at time: 57600.00\n",
      "Reason: The final simulation step has been reached.\n",
      "Performance: \n",
      " Duration: 17.97s\n",
      " Real time factor: 200.39\n",
      " UPS: 92265.237963\n",
      "Vehicles: \n",
      " Inserted: 2514\n",
      " Running: 776\n",
      " Waiting: 0\n",
      " Teleports: 2 (Jam: 1, Wrong Lane: 1)\n",
      "Statistics (avg of 1738):\n",
      " RouteLength: 4360.00\n",
      " Speed: 12.38\n",
      " Duration: 446.25\n",
      " WaitingTime: 85.92\n",
      " TimeLoss: 130.41\n",
      " DepartDelay: 0.49\n",
      "\n",
      "DijkstraRouter answered 2514 queries and explored 10.68 edges on average.\n",
      "DijkstraRouter spent 0.02s answering queries (0.01ms on average).\n",
      "printing /Users/rodrse/Documents/DemandCalibration/notebooks/od_calibration_sumo_files/quickstart/data/iter_quickstart.current_od.xml\n",
      "### Runing: iter\n",
      "od2trips --no-step-log  --spread.uniform --taz-files /Users/rodrse/Documents/DemandCalibration/notebooks/od_calibration_sumo_files/quickstart/data/quickstart.taz.xml --tazrelation-files /Users/rodrse/Documents/DemandCalibration/notebooks/od_calibration_sumo_files/quickstart/data/iter_quickstart.current_od.xml -o /Users/rodrse/Documents/DemandCalibration/notebooks/od_calibration_sumo_files/quickstart/data/iter_od_trips.trips.xml \n",
      "Success.\n",
      "Loading net-file from '/Users/rodrse/Documents/DemandCalibration/notebooks/od_calibration_sumo_files/quickstart/data/quickstart.net.xml' ... done (8ms).\n",
      "Loading additional-files from '/Users/rodrse/Documents/DemandCalibration/notebooks/od_calibration_sumo_files/quickstart/data/quickstart.additional.xml' ... done (2ms).\n",
      "Loading done.\n",
      "Simulation version 1.16.0 started with time: 54000.00.\n",
      "Step #56800.00 (8ms ~= 125.00*RT, ~88000.00UPS, vehicles TOT 2200 ACT 704 BUF 0)          \r"
     ]
    },
    {
     "name": "stderr",
     "output_type": "stream",
     "text": [
      "Warning: Teleporting vehicle '446'; waited too long (wrong lane), lane='L15_0', time=56796.00.\n",
      "Warning: Vehicle '446' ends teleporting on edge 'L18', time=56796.00.\n",
      "Warning: Teleporting vehicle '448'; waited too long (wrong lane), lane='L15_0', time=56797.00.\n",
      "Warning: Vehicle '448' ends teleporting on edge 'L18', time=56797.00.\n",
      "Warning: Teleporting vehicle '473'; waited too long (wrong lane), lane='L15_0', time=56798.00.\n",
      "Warning: Vehicle '473' ends teleporting on edge 'L18', time=56798.00.\n",
      "Warning: Teleporting vehicle '457'; waited too long (wrong lane), lane='L15_0', time=56799.00.\n",
      "Warning: Vehicle '457' ends teleporting on edge 'L18', time=56799.00.\n",
      "Warning: Teleporting vehicle '461'; waited too long (wrong lane), lane='L15_0', time=56800.00.\n",
      "Warning: Vehicle '461' ends teleporting on edge 'L18', time=56800.00.\n",
      "Warning: Teleporting vehicle '465'; waited too long (wrong lane), lane='L15_0', time=56801.00.\n",
      "Warning: Vehicle '465' ends teleporting on edge 'L18', time=56801.00.\n",
      "Warning: Teleporting vehicle '471'; waited too long (wrong lane), lane='L15_0', time=56802.00.\n",
      "Warning: Vehicle '471' ends teleporting on edge 'L18', time=56802.00.\n",
      "Warning: Teleporting vehicle '464'; waited too long (wrong lane), lane='L15_0', time=56803.00.\n",
      "Warning: Vehicle '464' ends teleporting on edge 'L18', time=56803.00.\n",
      "Warning: Teleporting vehicle '470'; waited too long (wrong lane), lane='L15_0', time=56804.00.\n",
      "Warning: Vehicle '470' ends teleporting on edge 'L18', time=56804.00.\n",
      "Warning: Teleporting vehicle '449'; waited too long (wrong lane), lane='L15_0', time=56805.00.\n",
      "Warning: Vehicle '449' ends teleporting on edge 'L18', time=56805.00.\n",
      "Warning: Teleporting vehicle '483'; waited too long (wrong lane), lane='L15_0', time=56818.00.\n",
      "Warning: Vehicle '483' ends teleporting on edge 'L18', time=56818.00.\n",
      "Warning: Teleporting vehicle '426'; waited too long (wrong lane), lane='L15_0', time=56876.00.\n",
      "Warning: Teleporting vehicle '370'; waited too long (jam), lane='L12_1', time=56876.00.\n",
      "Warning: Vehicle '370' ends teleporting on edge 'L15', time=56876.00.\n",
      "Warning: Vehicle '426' ends teleporting on edge 'L18', time=56876.00.\n"
     ]
    },
    {
     "name": "stdout",
     "output_type": "stream",
     "text": [
      "Step #56900.00 (8ms ~= 125.00*RT, ~90125.00UPS, vehicles TOT 2280 ACT 721 BUF 0)          \r"
     ]
    },
    {
     "name": "stderr",
     "output_type": "stream",
     "text": [
      "Warning: Teleporting vehicle '436'; waited too long (wrong lane), lane='L15_0', time=56926.00.\n",
      "Warning: Vehicle '436' ends teleporting on edge 'L18', time=56926.00.\n"
     ]
    },
    {
     "name": "stdout",
     "output_type": "stream",
     "text": [
      "Step #57000.00 (7ms ~= 142.86*RT, ~103285.71UPS, vehicles TOT 2358 ACT 723 BUF 0)         \r"
     ]
    },
    {
     "name": "stderr",
     "output_type": "stream",
     "text": [
      "Warning: Teleporting vehicle '467'; waited too long (wrong lane), lane='L15_0', time=57049.00.\n",
      "Warning: Vehicle '467' ends teleporting on edge 'L18', time=57049.00.\n",
      "Warning: Teleporting vehicle '456'; waited too long (wrong lane), lane='L15_0', time=57050.00.\n",
      "Warning: Vehicle '456' ends teleporting on edge 'L18', time=57050.00.\n",
      "Warning: Teleporting vehicle '490'; waited too long (wrong lane), lane='L15_0', time=57051.00.\n",
      "Warning: Vehicle '490' ends teleporting on edge 'L18', time=57051.00.\n",
      "Warning: Teleporting vehicle '487'; waited too long (wrong lane), lane='L15_0', time=57052.00.\n",
      "Warning: Vehicle '487' ends teleporting on edge 'L18', time=57052.00.\n",
      "Warning: Teleporting vehicle '447'; waited too long (wrong lane), lane='L15_0', time=57053.00.\n",
      "Warning: Vehicle '447' ends teleporting on edge 'L18', time=57053.00.\n",
      "Warning: Teleporting vehicle '455'; waited too long (wrong lane), lane='L15_0', time=57054.00.\n",
      "Warning: Vehicle '455' ends teleporting on edge 'L18', time=57054.00.\n",
      "Warning: Teleporting vehicle '474'; waited too long (wrong lane), lane='L15_0', time=57055.00.\n",
      "Warning: Vehicle '474' ends teleporting on edge 'L18', time=57055.00.\n",
      "Warning: Teleporting vehicle '492'; waited too long (wrong lane), lane='L15_0', time=57056.00.\n",
      "Warning: Vehicle '492' ends teleporting on edge 'L18', time=57056.00.\n",
      "Warning: Teleporting vehicle '507'; waited too long (wrong lane), lane='L15_0', time=57057.00.\n",
      "Warning: Vehicle '507' ends teleporting on edge 'L18', time=57057.00.\n",
      "Warning: Teleporting vehicle '510'; waited too long (wrong lane), lane='L15_0', time=57058.00.\n",
      "Warning: Vehicle '510' ends teleporting on edge 'L18', time=57058.00.\n",
      "Warning: Teleporting vehicle '494'; waited too long (wrong lane), lane='L15_0', time=57059.00.\n",
      "Warning: Vehicle '494' ends teleporting on edge 'L18', time=57059.00.\n",
      "Warning: Teleporting vehicle '496'; waited too long (wrong lane), lane='L15_0', time=57060.00.\n",
      "Warning: Vehicle '496' ends teleporting on edge 'L18', time=57060.00.\n",
      "Warning: Teleporting vehicle '503'; waited too long (wrong lane), lane='L15_0', time=57061.00.\n",
      "Warning: Vehicle '503' ends teleporting on edge 'L18', time=57061.00.\n",
      "Warning: Teleporting vehicle '506'; waited too long (wrong lane), lane='L15_0', time=57062.00.\n",
      "Warning: Vehicle '506' ends teleporting on edge 'L18', time=57062.00.\n",
      "Warning: Teleporting vehicle '504'; waited too long (wrong lane), lane='L15_0', time=57063.00.\n",
      "Warning: Vehicle '504' ends teleporting on edge 'L18', time=57063.00.\n",
      "Warning: Teleporting vehicle '518'; waited too long (wrong lane), lane='L15_0', time=57064.00.\n",
      "Warning: Vehicle '518' ends teleporting on edge 'L18', time=57064.00.\n",
      "Warning: Teleporting vehicle '511'; waited too long (wrong lane), lane='L15_0', time=57065.00.\n",
      "Warning: Vehicle '511' ends teleporting on edge 'L18', time=57065.00.\n",
      "Warning: Teleporting vehicle '520'; waited too long (wrong lane), lane='L15_0', time=57066.00.\n",
      "Warning: Vehicle '520' ends teleporting on edge 'L18', time=57066.00.\n",
      "Warning: Teleporting vehicle '508'; waited too long (wrong lane), lane='L15_0', time=57067.00.\n",
      "Warning: Vehicle '508' ends teleporting on edge 'L18', time=57067.00.\n",
      "Warning: Teleporting vehicle '512'; waited too long (wrong lane), lane='L15_0', time=57068.00.\n",
      "Warning: Vehicle '512' ends teleporting on edge 'L18', time=57068.00.\n",
      "Warning: Teleporting vehicle '502'; waited too long (wrong lane), lane='L15_0', time=57069.00.\n",
      "Warning: Vehicle '502' ends teleporting on edge 'L18', time=57069.00.\n",
      "Warning: Teleporting vehicle '501'; waited too long (wrong lane), lane='L15_0', time=57070.00.\n",
      "Warning: Vehicle '501' ends teleporting on edge 'L18', time=57070.00.\n",
      "Warning: Teleporting vehicle '513'; waited too long (wrong lane), lane='L15_0', time=57071.00.\n",
      "Warning: Vehicle '513' ends teleporting on edge 'L18', time=57071.00.\n",
      "Warning: Teleporting vehicle '532'; waited too long (wrong lane), lane='L15_0', time=57072.00.\n",
      "Warning: Vehicle '532' ends teleporting on edge 'L18', time=57072.00.\n",
      "Warning: Teleporting vehicle '542'; waited too long (wrong lane), lane='L15_0', time=57073.00.\n",
      "Warning: Vehicle '542' ends teleporting on edge 'L18', time=57073.00.\n",
      "Warning: Teleporting vehicle '535'; waited too long (wrong lane), lane='L15_0', time=57074.00.\n",
      "Warning: Vehicle '535' ends teleporting on edge 'L18', time=57074.00.\n",
      "Warning: Teleporting vehicle '537'; waited too long (wrong lane), lane='L15_0', time=57075.00.\n",
      "Warning: Vehicle '537' ends teleporting on edge 'L18', time=57075.00.\n",
      "Warning: Teleporting vehicle '544'; waited too long (wrong lane), lane='L15_0', time=57076.00.\n",
      "Warning: Vehicle '544' ends teleporting on edge 'L18', time=57076.00.\n",
      "Warning: Teleporting vehicle '550'; waited too long (wrong lane), lane='L15_0', time=57077.00.\n",
      "Warning: Vehicle '550' ends teleporting on edge 'L18', time=57077.00.\n"
     ]
    },
    {
     "name": "stdout",
     "output_type": "stream",
     "text": [
      "Step #57600.00 (6ms ~= 166.67*RT, ~129833.33UPS, vehicles TOT 2771 ACT 779 BUF 58)        \n",
      "Simulation ended at time: 57600.00\n",
      "Reason: The final simulation step has been reached.\n",
      "Performance: \n",
      " Duration: 17.37s\n",
      " Real time factor: 207.302\n",
      " UPS: 108367.557296\n",
      "Vehicles: \n",
      " Inserted: 2771 (Loaded: 2829)\n",
      " Running: 779\n",
      " Waiting: 58\n",
      " Teleports: 43 (Jam: 1, Wrong Lane: 42)\n",
      "Statistics (avg of 1992):\n",
      " RouteLength: 4395.96\n",
      " Speed: 11.54\n",
      " Duration: 474.14\n",
      " WaitingTime: 95.82\n",
      " TimeLoss: 155.92\n",
      " DepartDelay: 0.52\n",
      "\n",
      "DijkstraRouter answered 2936 queries and explored 10.32 edges on average.\n",
      "DijkstraRouter spent 0.01s answering queries (0.00ms on average).\n",
      "printing /Users/rodrse/Documents/DemandCalibration/notebooks/od_calibration_sumo_files/quickstart/data/iter_quickstart.current_od.xml\n",
      "### Runing: iter\n",
      "od2trips --no-step-log  --spread.uniform --taz-files /Users/rodrse/Documents/DemandCalibration/notebooks/od_calibration_sumo_files/quickstart/data/quickstart.taz.xml --tazrelation-files /Users/rodrse/Documents/DemandCalibration/notebooks/od_calibration_sumo_files/quickstart/data/iter_quickstart.current_od.xml -o /Users/rodrse/Documents/DemandCalibration/notebooks/od_calibration_sumo_files/quickstart/data/iter_od_trips.trips.xml \n",
      "Success.\n",
      "Loading net-file from '/Users/rodrse/Documents/DemandCalibration/notebooks/od_calibration_sumo_files/quickstart/data/quickstart.net.xml' ... done (8ms).\n",
      "Loading additional-files from '/Users/rodrse/Documents/DemandCalibration/notebooks/od_calibration_sumo_files/quickstart/data/quickstart.additional.xml' ... done (1ms).\n",
      "Loading done.\n",
      "Simulation version 1.16.0 started with time: 54000.00.\n",
      "Step #57600.00 (13ms ~= 76.92*RT, ~66769.23UPS, vehicles TOT 2900 ACT 868 BUF 0)          \n",
      "Simulation ended at time: 57600.00\n",
      "Reason: The final simulation step has been reached.\n",
      "Performance: \n",
      " Duration: 22.59s\n",
      " Real time factor: 159.384\n",
      " UPS: 86247.443220\n",
      "Vehicles: \n",
      " Inserted: 2900\n",
      " Running: 868\n",
      " Waiting: 0\n",
      "Statistics (avg of 2032):\n",
      " RouteLength: 4324.95\n",
      " Speed: 10.77\n",
      " Duration: 563.69\n",
      " WaitingTime: 128.79\n",
      " TimeLoss: 250.29\n",
      " DepartDelay: 0.49\n",
      "\n",
      "DijkstraRouter answered 2900 queries and explored 9.92 edges on average.\n",
      "DijkstraRouter spent 0.02s answering queries (0.01ms on average).\n",
      "printing /Users/rodrse/Documents/DemandCalibration/notebooks/od_calibration_sumo_files/quickstart/data/iter_quickstart.current_od.xml\n",
      "### Runing: iter\n",
      "od2trips --no-step-log  --spread.uniform --taz-files /Users/rodrse/Documents/DemandCalibration/notebooks/od_calibration_sumo_files/quickstart/data/quickstart.taz.xml --tazrelation-files /Users/rodrse/Documents/DemandCalibration/notebooks/od_calibration_sumo_files/quickstart/data/iter_quickstart.current_od.xml -o /Users/rodrse/Documents/DemandCalibration/notebooks/od_calibration_sumo_files/quickstart/data/iter_od_trips.trips.xml \n",
      "Success.\n",
      "Loading net-file from '/Users/rodrse/Documents/DemandCalibration/notebooks/od_calibration_sumo_files/quickstart/data/quickstart.net.xml' ... done (8ms).\n",
      "Loading additional-files from '/Users/rodrse/Documents/DemandCalibration/notebooks/od_calibration_sumo_files/quickstart/data/quickstart.additional.xml' ... done (1ms).\n",
      "Loading done.\n",
      "Simulation version 1.16.0 started with time: 54000.00.\n",
      "Step #57600.00 (5ms ~= 200.00*RT, ~120000.00UPS, vehicles TOT 2483 ACT 600 BUF 0)         \n",
      "Simulation ended at time: 57600.00\n",
      "Reason: The final simulation step has been reached.\n",
      "Performance: \n",
      " Duration: 13.37s\n",
      " Real time factor: 269.179\n",
      " UPS: 103401.824435\n",
      "Vehicles: \n",
      " Inserted: 2483\n",
      " Running: 600\n",
      " Waiting: 0\n",
      "Statistics (avg of 1883):\n",
      " RouteLength: 4297.66\n",
      " Speed: 11.55\n",
      " Duration: 474.56\n",
      " WaitingTime: 103.09\n",
      " TimeLoss: 162.92\n",
      " DepartDelay: 0.49\n",
      "\n",
      "DijkstraRouter answered 2483 queries and explored 9.63 edges on average.\n",
      "DijkstraRouter spent 0.02s answering queries (0.01ms on average).\n",
      "printing /Users/rodrse/Documents/DemandCalibration/notebooks/od_calibration_sumo_files/quickstart/data/iter_quickstart.current_od.xml\n",
      "### Runing: iter\n",
      "od2trips --no-step-log  --spread.uniform --taz-files /Users/rodrse/Documents/DemandCalibration/notebooks/od_calibration_sumo_files/quickstart/data/quickstart.taz.xml --tazrelation-files /Users/rodrse/Documents/DemandCalibration/notebooks/od_calibration_sumo_files/quickstart/data/iter_quickstart.current_od.xml -o /Users/rodrse/Documents/DemandCalibration/notebooks/od_calibration_sumo_files/quickstart/data/iter_od_trips.trips.xml \n",
      "Success.\n",
      "Loading net-file from '/Users/rodrse/Documents/DemandCalibration/notebooks/od_calibration_sumo_files/quickstart/data/quickstart.net.xml' ... done (9ms).\n",
      "Loading additional-files from '/Users/rodrse/Documents/DemandCalibration/notebooks/od_calibration_sumo_files/quickstart/data/quickstart.additional.xml' ... done (18ms).\n",
      "Loading done.\n",
      "Simulation version 1.16.0 started with time: 54000.00.\n",
      "Step #56800.00 (6ms ~= 166.67*RT, ~139166.67UPS, vehicles TOT 2311 ACT 835 BUF 0)         \r"
     ]
    },
    {
     "name": "stderr",
     "output_type": "stream",
     "text": [
      "Warning: Teleporting vehicle '598'; waited too long (wrong lane), lane='L12_2', time=56809.00.\n",
      "Warning: Vehicle '598' ends teleporting on edge 'L15', time=56809.00.\n"
     ]
    },
    {
     "name": "stdout",
     "output_type": "stream",
     "text": [
      "Step #56900.00 (7ms ~= 142.86*RT, ~124000.00UPS, vehicles TOT 2394 ACT 868 BUF 0)         \r"
     ]
    },
    {
     "name": "stderr",
     "output_type": "stream",
     "text": [
      "Warning: Teleporting vehicle '601'; waited too long (wrong lane), lane='L12_2', time=56903.00.\n",
      "Warning: Vehicle '601' ends teleporting on edge 'L15', time=56903.00.\n",
      "Warning: Teleporting vehicle '604'; waited too long (wrong lane), lane='L12_2', time=56949.00.\n",
      "Warning: Vehicle '604' ends teleporting on edge 'L15', time=56949.00.\n",
      "Warning: Teleporting vehicle '605'; waited too long (wrong lane), lane='L12_2', time=56950.00.\n",
      "Warning: Vehicle '605' ends teleporting on edge 'L15', time=56967.00.\n",
      "Warning: Teleporting vehicle '610'; waited too long (wrong lane), lane='L12_2', time=56987.00.\n",
      "Warning: Vehicle '610' ends teleporting on edge 'L15', time=56994.00.\n"
     ]
    },
    {
     "name": "stdout",
     "output_type": "stream",
     "text": [
      "Step #57000.00 (9ms ~= 111.11*RT, ~99666.67UPS, vehicles TOT 2476 ACT 897 BUF 0)          \r"
     ]
    },
    {
     "name": "stderr",
     "output_type": "stream",
     "text": [
      "Warning: Teleporting vehicle '1283'; waited too long (jam), lane='L2_1', time=57050.00.\n",
      "Warning: Teleporting vehicle '684'; waited too long (jam), lane='L2_1', time=57051.00.\n",
      "Warning: Vehicle '684' ends teleporting on edge 'L12', time=57051.00.\n",
      "Warning: Teleporting vehicle '478'; waited too long (jam), lane=':1_3_1', time=57052.00.\n",
      "Warning: Vehicle '478' ends teleporting on edge 'L12', time=57052.00.\n",
      "Warning: Vehicle '1283' ends teleporting on edge 'L12', time=57063.00.\n"
     ]
    },
    {
     "name": "stdout",
     "output_type": "stream",
     "text": [
      "Step #57100.00 (9ms ~= 111.11*RT, ~99666.67UPS, vehicles TOT 2525 ACT 897 BUF 35)         \r"
     ]
    },
    {
     "name": "stderr",
     "output_type": "stream",
     "text": [
      "Warning: Teleporting vehicle '545'; waited too long (jam), lane='D2_0', time=57134.00.\n",
      "Warning: Teleporting vehicle '730'; waited too long (jam), lane='D2_1', time=57188.00.\n",
      "Warning: Teleporting vehicle '619'; waited too long (wrong lane), lane='L12_2', time=57197.00.\n",
      "Warning: Vehicle '619' ends teleporting on edge 'L15', time=57197.00.\n"
     ]
    },
    {
     "name": "stdout",
     "output_type": "stream",
     "text": [
      "Step #57200.00 (8ms ~= 125.00*RT, ~110750.00UPS, vehicles TOT 2568 ACT 886 BUF 73)        \r"
     ]
    },
    {
     "name": "stderr",
     "output_type": "stream",
     "text": [
      "Warning: Teleporting vehicle '622'; waited too long (wrong lane), lane='L12_2', time=57280.00.\n",
      "Warning: Vehicle '622' ends teleporting on edge 'L15', time=57295.00.\n"
     ]
    },
    {
     "name": "stdout",
     "output_type": "stream",
     "text": [
      "Step #57300.00 (9ms ~= 111.11*RT, ~97777.78UPS, vehicles TOT 2613 ACT 880 BUF 112)        \r"
     ]
    },
    {
     "name": "stderr",
     "output_type": "stream",
     "text": [
      "Warning: Teleporting vehicle '1284'; waited too long (jam), lane='L2_1', time=57359.00.\n",
      "Warning: Vehicle '1284' ends teleporting on edge 'L12', time=57359.00.\n",
      "Warning: Teleporting vehicle '686'; waited too long (jam), lane='L2_1', time=57360.00.\n",
      "Warning: Vehicle '686' ends teleporting on edge 'L12', time=57360.00.\n",
      "Warning: Teleporting vehicle '480'; waited too long (jam), lane='L2_0', time=57363.00.\n",
      "Warning: Vehicle '480' ends teleporting on edge 'L12', time=57363.00.\n",
      "Warning: Teleporting vehicle '629'; waited too long (wrong lane), lane='L12_2', time=57392.00.\n",
      "Warning: Vehicle '629' ends teleporting on edge 'L15', time=57392.00.\n"
     ]
    },
    {
     "name": "stdout",
     "output_type": "stream",
     "text": [
      "Step #57400.00 (8ms ~= 125.00*RT, ~109500.00UPS, vehicles TOT 2656 ACT 876 BUF 151)       \r"
     ]
    },
    {
     "name": "stderr",
     "output_type": "stream",
     "text": [
      "Warning: Teleporting vehicle '546'; waited too long (jam), lane='D2_0', time=57445.00.\n",
      "Warning: Teleporting vehicle '731'; waited too long (jam), lane='D2_1', time=57446.00.\n",
      "Warning: Teleporting vehicle '732'; waited too long (jam), lane='D2_1', time=57447.00.\n",
      "Warning: Teleporting vehicle '632'; waited too long (wrong lane), lane='L12_2', time=57487.00.\n"
     ]
    },
    {
     "name": "stdout",
     "output_type": "stream",
     "text": [
      "Step #57500.00 (8ms ~= 125.00*RT, ~108375.00UPS, vehicles TOT 2700 ACT 867 BUF 190)       \r"
     ]
    },
    {
     "name": "stderr",
     "output_type": "stream",
     "text": [
      "Warning: Vehicle '632' ends teleporting on edge 'L15', time=57534.00.\n"
     ]
    },
    {
     "name": "stdout",
     "output_type": "stream",
     "text": [
      "Step #57600.00 (10ms ~= 100.00*RT, ~86700.00UPS, vehicles TOT 2743 ACT 867 BUF 229)       \n",
      "Simulation ended at time: 57600.00\n",
      "Reason: The final simulation step has been reached.\n",
      "Performance: \n",
      " Duration: 20.28s\n",
      " Real time factor: 177.48\n",
      " UPS: 102979.589824\n",
      "Vehicles: \n",
      " Inserted: 2743 (Loaded: 2972)\n",
      " Running: 867\n",
      " Waiting: 229\n",
      " Teleports: 20 (Jam: 11, Wrong Lane: 9)\n",
      "Statistics (avg of 1876):\n",
      " RouteLength: 4394.04\n",
      " Speed: 12.48\n",
      " Duration: 432.79\n",
      " WaitingTime: 78.99\n",
      " TimeLoss: 114.07\n",
      " DepartDelay: 0.47\n",
      "\n",
      "DijkstraRouter answered 2973 queries and explored 10.80 edges on average.\n",
      "DijkstraRouter spent 0.01s answering queries (0.00ms on average).\n",
      "printing /Users/rodrse/Documents/DemandCalibration/notebooks/od_calibration_sumo_files/quickstart/data/iter_quickstart.current_od.xml\n",
      "### Runing: iter\n",
      "od2trips --no-step-log  --spread.uniform --taz-files /Users/rodrse/Documents/DemandCalibration/notebooks/od_calibration_sumo_files/quickstart/data/quickstart.taz.xml --tazrelation-files /Users/rodrse/Documents/DemandCalibration/notebooks/od_calibration_sumo_files/quickstart/data/iter_quickstart.current_od.xml -o /Users/rodrse/Documents/DemandCalibration/notebooks/od_calibration_sumo_files/quickstart/data/iter_od_trips.trips.xml \n",
      "Success.\n",
      "Loading net-file from '/Users/rodrse/Documents/DemandCalibration/notebooks/od_calibration_sumo_files/quickstart/data/quickstart.net.xml' ... done (7ms).\n",
      "Loading additional-files from '/Users/rodrse/Documents/DemandCalibration/notebooks/od_calibration_sumo_files/quickstart/data/quickstart.additional.xml' ... done (1ms).\n",
      "Loading done.\n",
      "Simulation version 1.16.0 started with time: 54000.00.\n",
      "Step #56700.00 (10ms ~= 100.00*RT, ~82400.00UPS, vehicles TOT 2421 ACT 824 BUF 95)        "
     ]
    },
    {
     "name": "stderr",
     "output_type": "stream",
     "text": [
      "Warning: Teleporting vehicle '592'; waited too long (wrong lane), lane='L12_2', time=56694.00.\n",
      "Warning: Vehicle '592' ends teleporting on edge 'L15', time=56700.00.\n"
     ]
    },
    {
     "name": "stdout",
     "output_type": "stream",
     "text": [
      " (9ms ~= 111.11*RT, ~91222.22UPS, vehicles TOT 2502 ACT 821 BUF 111)        \r"
     ]
    },
    {
     "name": "stderr",
     "output_type": "stream",
     "text": [
      "Warning: Teleporting vehicle '463'; waited too long (jam), lane='L2_0', time=56765.00.\n",
      "Warning: Vehicle '463' ends teleporting on edge 'L12', time=56765.00.\n",
      "Warning: Teleporting vehicle '597'; waited too long (wrong lane), lane='L12_2', time=56774.00.\n"
     ]
    },
    {
     "name": "stdout",
     "output_type": "stream",
     "text": [
      "Step #56800.00 (8ms ~= 125.00*RT, ~104125.00UPS, vehicles TOT 2574 ACT 833 BUF 136)       \r"
     ]
    },
    {
     "name": "stderr",
     "output_type": "stream",
     "text": [
      "Warning: Teleporting vehicle '598'; waited too long (wrong lane), lane='L12_2', time=56804.00.\n",
      "Warning: Teleporting vehicle '599'; waited too long (wrong lane), lane='L12_2', time=56805.00.\n",
      "Warning: Vehicle '597' ends teleporting on edge 'L15', time=56827.00.\n",
      "Warning: Teleporting vehicle '601'; waited too long (wrong lane), lane='L12_2', time=56842.00.\n",
      "Warning: Vehicle '598' ends teleporting on edge 'L15', time=56881.00.\n"
     ]
    },
    {
     "name": "stdout",
     "output_type": "stream",
     "text": [
      "Step #56900.00 (10ms ~= 100.00*RT, ~85400.00UPS, vehicles TOT 2646 ACT 854 BUF 161)       \r"
     ]
    },
    {
     "name": "stderr",
     "output_type": "stream",
     "text": [
      "Warning: Teleporting vehicle '603'; waited too long (wrong lane), lane='L12_2', time=56913.00.\n",
      "Warning: Vehicle '599' ends teleporting on edge 'L15', time=56929.00.\n",
      "Warning: Teleporting vehicle '1603'; waited too long (jam), lane=':1_3_2', time=56962.00.\n",
      "Warning: Vehicle '1603' ends teleporting on edge 'L12', time=56962.00.\n",
      "Warning: Teleporting vehicle '651'; waited too long (jam), lane='L2_1', time=56978.00.\n",
      "Warning: Vehicle '651' ends teleporting on edge 'L12', time=56978.00.\n",
      "Warning: Teleporting vehicle '607'; waited too long (wrong lane), lane='L12_2', time=56991.00.\n"
     ]
    },
    {
     "name": "stdout",
     "output_type": "stream",
     "text": [
      "Step #57000.00 (10ms ~= 100.00*RT, ~87000.00UPS, vehicles TOT 2716 ACT 870 BUF 187)       \r"
     ]
    },
    {
     "name": "stderr",
     "output_type": "stream",
     "text": [
      "Warning: Vehicle '601' ends teleporting on edge 'L15', time=57051.00.\n",
      "Warning: Teleporting vehicle '612'; waited too long (wrong lane), lane='L12_2', time=57055.00.\n"
     ]
    },
    {
     "name": "stdout",
     "output_type": "stream",
     "text": [
      "Step #57100.00 (9ms ~= 111.11*RT, ~96000.00UPS, vehicles TOT 2763 ACT 864 BUF 237)        \r"
     ]
    },
    {
     "name": "stderr",
     "output_type": "stream",
     "text": [
      "Warning: Vehicle '603' ends teleporting on edge 'L15', time=57104.00.\n",
      "Warning: Teleporting vehicle '616'; waited too long (wrong lane), lane='L12_2', time=57133.00.\n",
      "Warning: Teleporting vehicle '530'; waited too long (jam), lane='D2_0', time=57149.00.\n",
      "Warning: Vehicle '530' ends teleporting on edge 'L2', time=57149.00.\n",
      "Warning: Vehicle '607' ends teleporting on edge 'L15', time=57151.00.\n",
      "Warning: Teleporting vehicle '1638'; waited too long (jam), lane='D2_1', time=57154.00.\n",
      "Warning: Teleporting vehicle '685'; waited too long (jam), lane='D2_1', time=57155.00.\n",
      "Warning: Vehicle '612' ends teleporting on edge 'L15', time=57166.00.\n",
      "Warning: Teleporting vehicle '464'; waited too long (jam), lane=':1_3_1', time=57168.00.\n",
      "Warning: Vehicle '464' ends teleporting on edge 'L12', time=57168.00.\n",
      "Warning: Vehicle '616' ends teleporting on edge 'L15', time=57172.00.\n"
     ]
    },
    {
     "name": "stdout",
     "output_type": "stream",
     "text": [
      "Step #57200.00 (9ms ~= 111.11*RT, ~95222.22UPS, vehicles TOT 2807 ACT 857 BUF 290)        \r"
     ]
    },
    {
     "name": "stderr",
     "output_type": "stream",
     "text": [
      "Warning: Teleporting vehicle '618'; waited too long (wrong lane), lane='L12_2', time=57211.00.\n",
      "Warning: Vehicle '618' ends teleporting on edge 'L15', time=57211.00.\n",
      "Warning: Teleporting vehicle '1604'; waited too long (jam), lane=':1_3_2', time=57269.00.\n",
      "Warning: Teleporting vehicle '620'; waited too long (wrong lane), lane='L12_2', time=57269.00.\n",
      "Warning: Vehicle '620' ends teleporting on edge 'L15', time=57269.00.\n",
      "Warning: Vehicle '1604' ends teleporting on edge 'L12', time=57269.00.\n",
      "Warning: Teleporting vehicle '652'; waited too long (jam), lane='L2_1', time=57290.00.\n",
      "Warning: Vehicle '652' ends teleporting on edge 'L12', time=57290.00.\n",
      "Warning: Vehicle '1638' ends teleporting on edge 'L2', time=57290.00.\n"
     ]
    },
    {
     "name": "stdout",
     "output_type": "stream",
     "text": [
      "Step #57400.00 (10ms ~= 100.00*RT, ~83900.00UPS, vehicles TOT 2894 ACT 839 BUF 396)       \r"
     ]
    },
    {
     "name": "stderr",
     "output_type": "stream",
     "text": [
      "Warning: Teleporting vehicle '531'; waited too long (jam), lane='D2_0', time=57455.00.\n",
      "Warning: Teleporting vehicle '1639'; waited too long (jam), lane='D2_1', time=57462.00.\n",
      "Warning: Teleporting vehicle '465'; waited too long (jam), lane=':1_3_1', time=57475.00.\n",
      "Warning: Vehicle '465' ends teleporting on edge 'L12', time=57475.00.\n",
      "Warning: Teleporting vehicle '625'; waited too long (wrong lane), lane='L12_2', time=57476.00.\n",
      "Warning: Vehicle '625' ends teleporting on edge 'L15', time=57476.00.\n"
     ]
    },
    {
     "name": "stdout",
     "output_type": "stream",
     "text": [
      "Step #57500.00 (9ms ~= 111.11*RT, ~92888.89UPS, vehicles TOT 2938 ACT 836 BUF 450)        \r"
     ]
    },
    {
     "name": "stderr",
     "output_type": "stream",
     "text": [
      "Warning: Teleporting vehicle '1605'; waited too long (jam), lane=':1_3_2', time=57574.00.\n",
      "Warning: Vehicle '1605' ends teleporting on edge 'L12', time=57574.00.\n"
     ]
    },
    {
     "name": "stdout",
     "output_type": "stream",
     "text": [
      "Step #57600.00 (11ms ~= 90.91*RT, ~75000.00UPS, vehicles TOT 2981 ACT 825 BUF 503)        \n",
      "Simulation ended at time: 57600.00\n",
      "Reason: The final simulation step has been reached.\n",
      "Performance: \n",
      " Duration: 28.35s\n",
      " Real time factor: 126.984\n",
      " UPS: 84290.229277\n",
      "Vehicles: \n",
      " Inserted: 2981 (Loaded: 3484)\n",
      " Running: 825\n",
      " Waiting: 503\n",
      " Teleports: 25 (Jam: 13, Wrong Lane: 12)\n",
      "Statistics (avg of 2156):\n",
      " RouteLength: 4384.52\n",
      " Speed: 11.10\n",
      " Duration: 505.92\n",
      " WaitingTime: 103.90\n",
      " TimeLoss: 187.96\n",
      " DepartDelay: 1.07\n",
      "\n",
      "DijkstraRouter answered 3671 queries and explored 10.19 edges on average.\n",
      "DijkstraRouter spent 0.02s answering queries (0.00ms on average).\n",
      "printing /Users/rodrse/Documents/DemandCalibration/notebooks/od_calibration_sumo_files/quickstart/data/iter_quickstart.current_od.xml\n",
      "### Runing: iter\n",
      "od2trips --no-step-log  --spread.uniform --taz-files /Users/rodrse/Documents/DemandCalibration/notebooks/od_calibration_sumo_files/quickstart/data/quickstart.taz.xml --tazrelation-files /Users/rodrse/Documents/DemandCalibration/notebooks/od_calibration_sumo_files/quickstart/data/iter_quickstart.current_od.xml -o /Users/rodrse/Documents/DemandCalibration/notebooks/od_calibration_sumo_files/quickstart/data/iter_od_trips.trips.xml \n",
      "Success.\n",
      "Loading net-file from '/Users/rodrse/Documents/DemandCalibration/notebooks/od_calibration_sumo_files/quickstart/data/quickstart.net.xml' ... done (7ms).\n",
      "Loading additional-files from '/Users/rodrse/Documents/DemandCalibration/notebooks/od_calibration_sumo_files/quickstart/data/quickstart.additional.xml' ... done (1ms).\n",
      "Loading done.\n",
      "Simulation version 1.16.0 started with time: 54000.00.\n",
      "Step #57600.00 (7ms ~= 142.86*RT, ~80571.43UPS, vehicles TOT 2174 ACT 564 BUF 0)          \n",
      "Simulation ended at time: 57600.00\n",
      "Reason: The final simulation step has been reached.\n",
      "Performance: \n",
      " Duration: 12.33s\n",
      " Real time factor: 292.066\n",
      " UPS: 103891.854616\n",
      "Vehicles: \n",
      " Inserted: 2174\n",
      " Running: 564\n",
      " Waiting: 0\n",
      "Statistics (avg of 1610):\n",
      " RouteLength: 4359.28\n",
      " Speed: 12.13\n",
      " Duration: 467.85\n",
      " WaitingTime: 94.39\n",
      " TimeLoss: 151.88\n",
      " DepartDelay: 0.48\n",
      "\n",
      "DijkstraRouter answered 2174 queries and explored 10.51 edges on average.\n",
      "DijkstraRouter spent 0.01s answering queries (0.00ms on average).\n",
      "printing /Users/rodrse/Documents/DemandCalibration/notebooks/od_calibration_sumo_files/quickstart/data/iter_quickstart.current_od.xml\n",
      "### Runing: iter\n",
      "od2trips --no-step-log  --spread.uniform --taz-files /Users/rodrse/Documents/DemandCalibration/notebooks/od_calibration_sumo_files/quickstart/data/quickstart.taz.xml --tazrelation-files /Users/rodrse/Documents/DemandCalibration/notebooks/od_calibration_sumo_files/quickstart/data/iter_quickstart.current_od.xml -o /Users/rodrse/Documents/DemandCalibration/notebooks/od_calibration_sumo_files/quickstart/data/iter_od_trips.trips.xml \n",
      "Success.\n",
      "Loading net-file from '/Users/rodrse/Documents/DemandCalibration/notebooks/od_calibration_sumo_files/quickstart/data/quickstart.net.xml' ... done (7ms).\n",
      "Loading additional-files from '/Users/rodrse/Documents/DemandCalibration/notebooks/od_calibration_sumo_files/quickstart/data/quickstart.additional.xml' ... done (1ms).\n",
      "Loading done.\n",
      "Simulation version 1.16.0 started with time: 54000.00.\n",
      "Step #57600.00 (10ms ~= 100.00*RT, ~85200.00UPS, vehicles TOT 2969 ACT 852 BUF 142)       \n",
      "Simulation ended at time: 57600.00\n",
      "Reason: The final simulation step has been reached.\n",
      "Performance: \n",
      " Duration: 27.29s\n",
      " Real time factor: 131.926\n",
      " UPS: 76899.442979\n",
      "Vehicles: \n",
      " Inserted: 2969 (Loaded: 3111)\n",
      " Running: 852\n",
      " Waiting: 142\n",
      "Statistics (avg of 2117):\n",
      " RouteLength: 4267.18\n",
      " Speed: 10.81\n",
      " Duration: 589.00\n",
      " WaitingTime: 161.87\n",
      " TimeLoss: 279.79\n",
      " DepartDelay: 0.69\n",
      "\n",
      "DijkstraRouter answered 3234 queries and explored 9.67 edges on average.\n",
      "DijkstraRouter spent 0.03s answering queries (0.01ms on average).\n",
      "printing /Users/rodrse/Documents/DemandCalibration/notebooks/od_calibration_sumo_files/quickstart/data/iter_quickstart.current_od.xml\n",
      "### Runing: iter\n",
      "od2trips --no-step-log  --spread.uniform --taz-files /Users/rodrse/Documents/DemandCalibration/notebooks/od_calibration_sumo_files/quickstart/data/quickstart.taz.xml --tazrelation-files /Users/rodrse/Documents/DemandCalibration/notebooks/od_calibration_sumo_files/quickstart/data/iter_quickstart.current_od.xml -o /Users/rodrse/Documents/DemandCalibration/notebooks/od_calibration_sumo_files/quickstart/data/iter_od_trips.trips.xml \n",
      "Success.\n",
      "Loading net-file from '/Users/rodrse/Documents/DemandCalibration/notebooks/od_calibration_sumo_files/quickstart/data/quickstart.net.xml' ... done (7ms).\n",
      "Loading additional-files from '/Users/rodrse/Documents/DemandCalibration/notebooks/od_calibration_sumo_files/quickstart/data/quickstart.additional.xml' ... done (1ms).\n",
      "Loading done.\n",
      "Simulation version 1.16.0 started with time: 54000.00.\n",
      "Step #57600.00 (5ms ~= 200.00*RT, ~140800.00UPS, vehicles TOT 2450 ACT 704 BUF 0)         \n",
      "Simulation ended at time: 57600.00\n",
      "Reason: The final simulation step has been reached.\n",
      "Performance: \n",
      " Duration: 15.35s\n",
      " Real time factor: 234.528\n",
      " UPS: 104557.785016\n",
      "Vehicles: \n",
      " Inserted: 2450\n",
      " Running: 704\n",
      " Waiting: 0\n",
      "Statistics (avg of 1746):\n",
      " RouteLength: 4435.25\n",
      " Speed: 11.82\n",
      " Duration: 484.15\n",
      " WaitingTime: 102.62\n",
      " TimeLoss: 162.48\n",
      " DepartDelay: 0.49\n",
      "\n",
      "DijkstraRouter answered 2450 queries and explored 10.59 edges on average.\n",
      "DijkstraRouter spent 0.01s answering queries (0.00ms on average).\n",
      "printing /Users/rodrse/Documents/DemandCalibration/notebooks/od_calibration_sumo_files/quickstart/data/iter_quickstart.current_od.xml\n",
      "### Runing: iter\n",
      "od2trips --no-step-log  --spread.uniform --taz-files /Users/rodrse/Documents/DemandCalibration/notebooks/od_calibration_sumo_files/quickstart/data/quickstart.taz.xml --tazrelation-files /Users/rodrse/Documents/DemandCalibration/notebooks/od_calibration_sumo_files/quickstart/data/iter_quickstart.current_od.xml -o /Users/rodrse/Documents/DemandCalibration/notebooks/od_calibration_sumo_files/quickstart/data/iter_od_trips.trips.xml \n",
      "Success.\n",
      "Loading net-file from '/Users/rodrse/Documents/DemandCalibration/notebooks/od_calibration_sumo_files/quickstart/data/quickstart.net.xml' ... done (7ms).\n",
      "Loading additional-files from '/Users/rodrse/Documents/DemandCalibration/notebooks/od_calibration_sumo_files/quickstart/data/quickstart.additional.xml' ... done (1ms).\n",
      "Loading done.\n",
      "Simulation version 1.16.0 started with time: 54000.00.\n",
      "Step #56500.00 (7ms ~= 142.86*RT, ~114285.71UPS, vehicles TOT 2165 ACT 800 BUF 0)         \r"
     ]
    },
    {
     "name": "stderr",
     "output_type": "stream",
     "text": [
      "Warning: Teleporting vehicle '386'; waited too long (wrong lane), lane='L15_0', time=56586.00.\n",
      "Warning: Vehicle '386' ends teleporting on edge 'L18', time=56586.00.\n",
      "Warning: Teleporting vehicle '396'; waited too long (wrong lane), lane='L15_0', time=56587.00.\n",
      "Warning: Vehicle '396' ends teleporting on edge 'L18', time=56587.00.\n"
     ]
    },
    {
     "name": "stdout",
     "output_type": "stream",
     "text": [
      "Step #56600.00 (9ms ~= 111.11*RT, ~90777.78UPS, vehicles TOT 2252 ACT 817 BUF 0)          \r"
     ]
    },
    {
     "name": "stderr",
     "output_type": "stream",
     "text": [
      "Warning: Teleporting vehicle '412'; waited too long (wrong lane), lane='L15_0', time=56650.00.\n",
      "Warning: Vehicle '412' ends teleporting on edge 'L18', time=56650.00.\n",
      "Warning: Teleporting vehicle '418'; waited too long (wrong lane), lane='L15_0', time=56651.00.\n",
      "Warning: Vehicle '418' ends teleporting on edge 'L18', time=56651.00.\n",
      "Warning: Teleporting vehicle '420'; waited too long (wrong lane), lane='L15_0', time=56652.00.\n",
      "Warning: Vehicle '420' ends teleporting on edge 'L18', time=56652.00.\n"
     ]
    },
    {
     "name": "stdout",
     "output_type": "stream",
     "text": [
      "Step #57500.00 (11ms ~= 90.91*RT, ~75363.64UPS, vehicles TOT 3020 ACT 829 BUF 10)         \r"
     ]
    },
    {
     "name": "stderr",
     "output_type": "stream",
     "text": [
      "Warning: Teleporting vehicle '635'; waited too long (wrong lane), lane='L12_2', time=57541.00.\n",
      "Warning: Vehicle '635' ends teleporting on edge 'L15', time=57541.00.\n",
      "Warning: Teleporting vehicle '638'; waited too long (wrong lane), lane='L12_2', time=57599.00.\n",
      "Warning: Vehicle '638' ends teleporting on edge 'L15', time=57599.00.\n"
     ]
    },
    {
     "name": "stdout",
     "output_type": "stream",
     "text": [
      "Step #57600.00 (13ms ~= 76.92*RT, ~63846.15UPS, vehicles TOT 3081 ACT 830 BUF 36)         \n",
      "Simulation ended at time: 57600.00\n",
      "Reason: The final simulation step has been reached.\n",
      "Performance: \n",
      " Duration: 22.29s\n",
      " Real time factor: 161.5\n",
      " UPS: 97166.120856\n",
      "Vehicles: \n",
      " Inserted: 3081 (Loaded: 3117)\n",
      " Running: 830\n",
      " Waiting: 36\n",
      " Teleports: 7 (Wrong Lane: 7)\n",
      "Statistics (avg of 2251):\n",
      " RouteLength: 4350.87\n",
      " Speed: 10.74\n",
      " Duration: 538.23\n",
      " WaitingTime: 105.67\n",
      " TimeLoss: 222.79\n",
      " DepartDelay: 0.49\n",
      "\n",
      "DijkstraRouter answered 3127 queries and explored 9.92 edges on average.\n",
      "DijkstraRouter spent 0.01s answering queries (0.00ms on average).\n",
      "printing /Users/rodrse/Documents/DemandCalibration/notebooks/od_calibration_sumo_files/quickstart/data/iter_quickstart.current_od.xml\n",
      "### Runing: iter\n",
      "od2trips --no-step-log  --spread.uniform --taz-files /Users/rodrse/Documents/DemandCalibration/notebooks/od_calibration_sumo_files/quickstart/data/quickstart.taz.xml --tazrelation-files /Users/rodrse/Documents/DemandCalibration/notebooks/od_calibration_sumo_files/quickstart/data/iter_quickstart.current_od.xml -o /Users/rodrse/Documents/DemandCalibration/notebooks/od_calibration_sumo_files/quickstart/data/iter_od_trips.trips.xml \n",
      "Success.\n",
      "Loading net-file from '/Users/rodrse/Documents/DemandCalibration/notebooks/od_calibration_sumo_files/quickstart/data/quickstart.net.xml' ... done (8ms).\n",
      "Loading additional-files from '/Users/rodrse/Documents/DemandCalibration/notebooks/od_calibration_sumo_files/quickstart/data/quickstart.additional.xml' ... done (2ms).\n",
      "Loading done.\n",
      "Simulation version 1.16.0 started with time: 54000.00.\n",
      "Step #57600.00 (3ms ~= 333.33*RT, ~136666.67UPS, vehicles TOT 2184 ACT 410 BUF 0)         \n",
      "Simulation ended at time: 57600.00\n",
      "Reason: The final simulation step has been reached.\n",
      "Performance: \n",
      " Duration: 10.22s\n",
      " Real time factor: 352.319\n",
      " UPS: 99277.843022\n",
      "Vehicles: \n",
      " Inserted: 2184\n",
      " Running: 410\n",
      " Waiting: 0\n",
      "Statistics (avg of 1774):\n",
      " RouteLength: 4363.14\n",
      " Speed: 12.14\n",
      " Duration: 420.58\n",
      " WaitingTime: 66.36\n",
      " TimeLoss: 104.30\n",
      " DepartDelay: 0.50\n",
      "\n",
      "DijkstraRouter answered 2184 queries and explored 9.88 edges on average.\n",
      "DijkstraRouter spent 0.01s answering queries (0.00ms on average).\n",
      "printing /Users/rodrse/Documents/DemandCalibration/notebooks/od_calibration_sumo_files/quickstart/data/iter_quickstart.current_od.xml\n",
      "### Runing: iter\n",
      "od2trips --no-step-log  --spread.uniform --taz-files /Users/rodrse/Documents/DemandCalibration/notebooks/od_calibration_sumo_files/quickstart/data/quickstart.taz.xml --tazrelation-files /Users/rodrse/Documents/DemandCalibration/notebooks/od_calibration_sumo_files/quickstart/data/iter_quickstart.current_od.xml -o /Users/rodrse/Documents/DemandCalibration/notebooks/od_calibration_sumo_files/quickstart/data/iter_od_trips.trips.xml \n",
      "Success.\n",
      "Loading net-file from '/Users/rodrse/Documents/DemandCalibration/notebooks/od_calibration_sumo_files/quickstart/data/quickstart.net.xml' ... done (7ms).\n",
      "Loading additional-files from '/Users/rodrse/Documents/DemandCalibration/notebooks/od_calibration_sumo_files/quickstart/data/quickstart.additional.xml' ... done (1ms).\n",
      "Loading done.\n",
      "Simulation version 1.16.0 started with time: 54000.00.\n",
      "Step #56900.00 (9ms ~= 111.11*RT, ~108111.11UPS, vehicles TOT 2671 ACT 973 BUF 0)         \r"
     ]
    },
    {
     "name": "stderr",
     "output_type": "stream",
     "text": [
      "Warning: Teleporting vehicle '123'; waited too long (yield), lane='L15_1', time=56938.00.\n",
      "Warning: Vehicle '123' ends teleporting on edge 'L18', time=56938.00.\n"
     ]
    },
    {
     "name": "stdout",
     "output_type": "stream",
     "text": [
      "Step #57600.00 (11ms ~= 90.91*RT, ~98363.64UPS, vehicles TOT 3316 ACT 1082 BUF 0)         \n",
      "Simulation ended at time: 57600.00\n",
      "Reason: The final simulation step has been reached.\n",
      "Performance: \n",
      " Duration: 25.91s\n",
      " Real time factor: 138.948\n",
      " UPS: 94918.715504\n",
      "Vehicles: \n",
      " Inserted: 3316\n",
      " Running: 1082\n",
      " Waiting: 0\n",
      " Teleports: 1 (Yield: 1)\n",
      "Statistics (avg of 2234):\n",
      " RouteLength: 4253.04\n",
      " Speed: 10.84\n",
      " Duration: 600.19\n",
      " WaitingTime: 141.70\n",
      " TimeLoss: 292.01\n",
      " DepartDelay: 0.48\n",
      "\n",
      "DijkstraRouter answered 3316 queries and explored 9.74 edges on average.\n",
      "DijkstraRouter spent 0.02s answering queries (0.01ms on average).\n",
      "printing /Users/rodrse/Documents/DemandCalibration/notebooks/od_calibration_sumo_files/quickstart/data/iter_quickstart.current_od.xml\n",
      "### Runing: iter\n",
      "od2trips --no-step-log  --spread.uniform --taz-files /Users/rodrse/Documents/DemandCalibration/notebooks/od_calibration_sumo_files/quickstart/data/quickstart.taz.xml --tazrelation-files /Users/rodrse/Documents/DemandCalibration/notebooks/od_calibration_sumo_files/quickstart/data/iter_quickstart.current_od.xml -o /Users/rodrse/Documents/DemandCalibration/notebooks/od_calibration_sumo_files/quickstart/data/iter_od_trips.trips.xml \n",
      "Success.\n",
      "Loading net-file from '/Users/rodrse/Documents/DemandCalibration/notebooks/od_calibration_sumo_files/quickstart/data/quickstart.net.xml' ... done (6ms).\n",
      "Loading additional-files from '/Users/rodrse/Documents/DemandCalibration/notebooks/od_calibration_sumo_files/quickstart/data/quickstart.additional.xml' ... done (1ms).\n",
      "Loading done.\n",
      "Simulation version 1.16.0 started with time: 54000.00.\n",
      "Step #56000.00 (7ms ~= 142.86*RT, ~87142.86UPS, vehicles TOT 1430 ACT 610 BUF 0)          \r"
     ]
    },
    {
     "name": "stderr",
     "output_type": "stream",
     "text": [
      "Warning: Teleporting vehicle '388'; waited too long (wrong lane), lane='L15_0', time=56077.00.\n",
      "Warning: Vehicle '388' ends teleporting on edge 'L18', time=56077.00.\n",
      "Warning: Teleporting vehicle '393'; waited too long (wrong lane), lane='L15_0', time=56078.00.\n",
      "Warning: Vehicle '393' ends teleporting on edge 'L18', time=56078.00.\n",
      "Warning: Teleporting vehicle '396'; waited too long (wrong lane), lane='L15_0', time=56079.00.\n",
      "Warning: Vehicle '396' ends teleporting on edge 'L18', time=56079.00.\n",
      "Warning: Teleporting vehicle '402'; waited too long (wrong lane), lane='L15_0', time=56080.00.\n",
      "Warning: Vehicle '402' ends teleporting on edge 'L18', time=56080.00.\n",
      "Warning: Teleporting vehicle '398'; waited too long (wrong lane), lane='L15_0', time=56084.00.\n",
      "Warning: Vehicle '398' ends teleporting on edge 'L18', time=56084.00.\n",
      "Warning: Teleporting vehicle '404'; waited too long (wrong lane), lane='L15_0', time=56085.00.\n",
      "Warning: Vehicle '404' ends teleporting on edge 'L18', time=56085.00.\n",
      "Warning: Teleporting vehicle '406'; waited too long (wrong lane), lane='L15_0', time=56086.00.\n",
      "Warning: Vehicle '406' ends teleporting on edge 'L18', time=56086.00.\n",
      "Warning: Teleporting vehicle '409'; waited too long (wrong lane), lane='L15_0', time=56087.00.\n",
      "Warning: Vehicle '409' ends teleporting on edge 'L18', time=56087.00.\n",
      "Warning: Teleporting vehicle '363'; waited too long (wrong lane), lane='L15_0', time=56088.00.\n",
      "Warning: Vehicle '363' ends teleporting on edge 'L18', time=56088.00.\n",
      "Warning: Teleporting vehicle '376'; waited too long (wrong lane), lane='L15_0', time=56089.00.\n",
      "Warning: Vehicle '376' ends teleporting on edge 'L18', time=56089.00.\n",
      "Warning: Teleporting vehicle '379'; waited too long (wrong lane), lane='L15_0', time=56090.00.\n",
      "Warning: Vehicle '379' ends teleporting on edge 'L18', time=56090.00.\n",
      "Warning: Teleporting vehicle '384'; waited too long (wrong lane), lane='L15_0', time=56095.00.\n",
      "Warning: Vehicle '384' ends teleporting on edge 'L18', time=56095.00.\n"
     ]
    },
    {
     "name": "stdout",
     "output_type": "stream",
     "text": [
      "Step #56100.00 (7ms ~= 142.86*RT, ~91142.86UPS, vehicles TOT 1503 ACT 638 BUF 0)          \r"
     ]
    },
    {
     "name": "stderr",
     "output_type": "stream",
     "text": [
      "Warning: Teleporting vehicle '390'; waited too long (wrong lane), lane='L15_0', time=56111.00.\n",
      "Warning: Vehicle '390' ends teleporting on edge 'L18', time=56111.00.\n"
     ]
    },
    {
     "name": "stdout",
     "output_type": "stream",
     "text": [
      "Step #56300.00 (7ms ~= 142.86*RT, ~96000.00UPS, vehicles TOT 1647 ACT 672 BUF 0)          \r"
     ]
    },
    {
     "name": "stderr",
     "output_type": "stream",
     "text": [
      "Warning: Teleporting vehicle '439'; waited too long (wrong lane), lane='L15_0', time=56360.00.\n",
      "Warning: Vehicle '439' ends teleporting on edge 'L18', time=56360.00.\n"
     ]
    },
    {
     "name": "stdout",
     "output_type": "stream",
     "text": [
      "Step #56400.00 (7ms ~= 142.86*RT, ~98571.43UPS, vehicles TOT 1717 ACT 690 BUF 0)          \r"
     ]
    },
    {
     "name": "stderr",
     "output_type": "stream",
     "text": [
      "Warning: Teleporting vehicle '432'; waited too long (wrong lane), lane='L15_0', time=56455.00.\n",
      "Warning: Vehicle '432' ends teleporting on edge 'L18', time=56455.00.\n",
      "Warning: Teleporting vehicle '431'; waited too long (wrong lane), lane='L15_0', time=56456.00.\n",
      "Warning: Vehicle '431' ends teleporting on edge 'L18', time=56456.00.\n"
     ]
    },
    {
     "name": "stdout",
     "output_type": "stream",
     "text": [
      "Step #56500.00 (8ms ~= 125.00*RT, ~88375.00UPS, vehicles TOT 1788 ACT 707 BUF 0)          \r"
     ]
    },
    {
     "name": "stderr",
     "output_type": "stream",
     "text": [
      "Warning: Teleporting vehicle '448'; waited too long (wrong lane), lane='L15_0', time=56532.00.\n",
      "Warning: Vehicle '448' ends teleporting on edge 'L18', time=56532.00.\n",
      "Warning: Teleporting vehicle '459'; waited too long (wrong lane), lane='L15_0', time=56537.00.\n",
      "Warning: Vehicle '459' ends teleporting on edge 'L18', time=56537.00.\n"
     ]
    },
    {
     "name": "stdout",
     "output_type": "stream",
     "text": [
      "Step #56800.00 (18ms ~= 55.56*RT, ~44055.56UPS, vehicles TOT 2004 ACT 793 BUF 0)          \r"
     ]
    },
    {
     "name": "stderr",
     "output_type": "stream",
     "text": [
      "Warning: Teleporting vehicle '667'; waited too long (wrong lane), lane='L12_2', time=56872.00.\n",
      "Warning: Vehicle '667' ends teleporting on edge 'L15', time=56872.00.\n",
      "Warning: Teleporting vehicle '668'; waited too long (wrong lane), lane='L12_2', time=56873.00.\n",
      "Warning: Vehicle '668' ends teleporting on edge 'L15', time=56892.00.\n"
     ]
    },
    {
     "name": "stdout",
     "output_type": "stream",
     "text": [
      "Step #56900.00 (9ms ~= 111.11*RT, ~91888.89UPS, vehicles TOT 2075 ACT 827 BUF 0)          \r"
     ]
    },
    {
     "name": "stderr",
     "output_type": "stream",
     "text": [
      "Warning: Teleporting vehicle '681'; waited too long (wrong lane), lane='L12_2', time=56944.00.\n",
      "Warning: Vehicle '681' ends teleporting on edge 'L15', time=56970.00.\n"
     ]
    },
    {
     "name": "stdout",
     "output_type": "stream",
     "text": [
      "Step #57100.00 (12ms ~= 83.33*RT, ~70833.33UPS, vehicles TOT 2182 ACT 850 BUF 36)         \r"
     ]
    },
    {
     "name": "stderr",
     "output_type": "stream",
     "text": [
      "Warning: Teleporting vehicle '789'; waited too long (jam), lane='D2_1', time=57194.00.\n",
      "Warning: Vehicle '789' ends teleporting on edge 'L2', time=57194.00.\n"
     ]
    },
    {
     "name": "stdout",
     "output_type": "stream",
     "text": [
      "Step #57200.00 (12ms ~= 83.33*RT, ~68833.33UPS, vehicles TOT 2212 ACT 826 BUF 77)         \r"
     ]
    },
    {
     "name": "stderr",
     "output_type": "stream",
     "text": [
      "Warning: Teleporting vehicle '596'; waited too long (jam), lane='D2_0', time=57266.00.\n",
      "Warning: Vehicle '596' ends teleporting on edge 'L2', time=57266.00.\n",
      "Warning: Teleporting vehicle '420'; waited too long (wrong lane), lane='L15_0', time=57295.00.\n",
      "Warning: Vehicle '420' ends teleporting on edge 'L18', time=57295.00.\n",
      "Warning: Teleporting vehicle '785'; waited too long (jam), lane='L2_1', time=57297.00.\n",
      "Warning: Vehicle '785' ends teleporting on edge 'L12', time=57297.00.\n"
     ]
    },
    {
     "name": "stdout",
     "output_type": "stream",
     "text": [
      "Step #57400.00 (9ms ~= 111.11*RT, ~87444.44UPS, vehicles TOT 2274 ACT 787 BUF 159)        \r"
     ]
    },
    {
     "name": "stderr",
     "output_type": "stream",
     "text": [
      "Warning: Teleporting vehicle '442'; waited too long (wrong lane), lane='L15_0', time=57405.00.\n",
      "Warning: Vehicle '442' ends teleporting on edge 'L18', time=57405.00.\n",
      "Warning: Teleporting vehicle '462'; waited too long (wrong lane), lane='L15_0', time=57410.00.\n",
      "Warning: Vehicle '462' ends teleporting on edge 'L18', time=57410.00.\n",
      "Warning: Teleporting vehicle '718'; waited too long (jam), lane='L12_0', time=57425.00.\n",
      "Warning: Vehicle '718' ends teleporting on edge 'L15', time=57425.00.\n",
      "Warning: Teleporting vehicle '501'; waited too long (jam), lane='L12_0', time=57427.00.\n",
      "Warning: Teleporting vehicle '758'; waited too long (jam), lane='L2_0', time=57474.00.\n",
      "Warning: Vehicle '758' ends teleporting on edge 'L12', time=57474.00.\n"
     ]
    },
    {
     "name": "stdout",
     "output_type": "stream",
     "text": [
      "Step #57500.00 (9ms ~= 111.11*RT, ~86111.11UPS, vehicles TOT 2306 ACT 775 BUF 199)        \r"
     ]
    },
    {
     "name": "stderr",
     "output_type": "stream",
     "text": [
      "Warning: Teleporting vehicle '1368'; waited too long (jam), lane='D2_1', time=57500.00.\n",
      "Warning: Vehicle '1368' ends teleporting on edge 'L2', time=57500.00.\n",
      "Warning: Teleporting vehicle '467'; waited too long (wrong lane), lane='L15_0', time=57502.00.\n",
      "Warning: Vehicle '467' ends teleporting on edge 'L18', time=57502.00.\n",
      "Warning: Vehicle '501' ends teleporting on edge 'L15', time=57502.00.\n",
      "Warning: Teleporting vehicle '468'; waited too long (wrong lane), lane='L15_0', time=57503.00.\n",
      "Warning: Vehicle '468' ends teleporting on edge 'L18', time=57503.00.\n",
      "Warning: Teleporting vehicle '464'; waited too long (wrong lane), lane='L15_0', time=57504.00.\n",
      "Warning: Vehicle '464' ends teleporting on edge 'L18', time=57504.00.\n",
      "Warning: Teleporting vehicle '702'; waited too long (wrong lane), lane='L15_0', time=57505.00.\n",
      "Warning: Vehicle '702' ends teleporting on edge 'L18', time=57505.00.\n",
      "Warning: Teleporting vehicle '476'; waited too long (wrong lane), lane='L15_0', time=57506.00.\n",
      "Warning: Vehicle '476' ends teleporting on edge 'L18', time=57506.00.\n",
      "Warning: Teleporting vehicle '706'; waited too long (wrong lane), lane='L15_0', time=57507.00.\n",
      "Warning: Vehicle '706' ends teleporting on edge 'L18', time=57507.00.\n",
      "Warning: Teleporting vehicle '478'; waited too long (wrong lane), lane='L15_0', time=57508.00.\n",
      "Warning: Vehicle '478' ends teleporting on edge 'L18', time=57508.00.\n",
      "Warning: Teleporting vehicle '479'; waited too long (wrong lane), lane='L15_0', time=57509.00.\n",
      "Warning: Vehicle '479' ends teleporting on edge 'L18', time=57509.00.\n",
      "Warning: Teleporting vehicle '474'; waited too long (wrong lane), lane='L15_0', time=57510.00.\n",
      "Warning: Vehicle '474' ends teleporting on edge 'L18', time=57510.00.\n",
      "Warning: Teleporting vehicle '481'; waited too long (wrong lane), lane='L15_0', time=57511.00.\n",
      "Warning: Vehicle '481' ends teleporting on edge 'L18', time=57511.00.\n",
      "Warning: Teleporting vehicle '708'; waited too long (wrong lane), lane='L15_0', time=57512.00.\n",
      "Warning: Vehicle '708' ends teleporting on edge 'L18', time=57512.00.\n",
      "Warning: Teleporting vehicle '485'; waited too long (wrong lane), lane='L15_0', time=57513.00.\n",
      "Warning: Vehicle '485' ends teleporting on edge 'L18', time=57513.00.\n",
      "Warning: Teleporting vehicle '717'; waited too long (wrong lane), lane='L15_0', time=57514.00.\n",
      "Warning: Vehicle '717' ends teleporting on edge 'L18', time=57514.00.\n",
      "Warning: Teleporting vehicle '493'; waited too long (wrong lane), lane='L15_0', time=57515.00.\n",
      "Warning: Vehicle '493' ends teleporting on edge 'L18', time=57515.00.\n",
      "Warning: Teleporting vehicle '716'; waited too long (wrong lane), lane='L15_0', time=57516.00.\n",
      "Warning: Vehicle '716' ends teleporting on edge 'L18', time=57516.00.\n",
      "Warning: Teleporting vehicle '597'; waited too long (jam), lane='D2_0', time=57572.00.\n"
     ]
    },
    {
     "name": "stdout",
     "output_type": "stream",
     "text": [
      "Step #57600.00 (10ms ~= 100.00*RT, ~76200.00UPS, vehicles TOT 2336 ACT 762 BUF 240)       \n",
      "Simulation ended at time: 57600.00\n",
      "Reason: The final simulation step has been reached.\n",
      "Performance: \n",
      " Duration: 24.56s\n",
      " Real time factor: 146.592\n",
      " UPS: 79857.276651\n",
      "Vehicles: \n",
      " Inserted: 2336 (Loaded: 2576)\n",
      " Running: 762\n",
      " Waiting: 240\n",
      " Teleports: 47 (Jam: 8, Wrong Lane: 39)\n",
      "Statistics (avg of 1574):\n",
      " RouteLength: 4475.48\n",
      " Speed: 11.85\n",
      " Duration: 503.73\n",
      " WaitingTime: 126.61\n",
      " TimeLoss: 179.21\n",
      " DepartDelay: 0.49\n",
      "\n",
      "DijkstraRouter answered 2576 queries and explored 11.11 edges on average.\n",
      "DijkstraRouter spent 0.02s answering queries (0.01ms on average).\n",
      "printing /Users/rodrse/Documents/DemandCalibration/notebooks/od_calibration_sumo_files/quickstart/data/iter_quickstart.current_od.xml\n",
      "### Runing: iter\n",
      "od2trips --no-step-log  --spread.uniform --taz-files /Users/rodrse/Documents/DemandCalibration/notebooks/od_calibration_sumo_files/quickstart/data/quickstart.taz.xml --tazrelation-files /Users/rodrse/Documents/DemandCalibration/notebooks/od_calibration_sumo_files/quickstart/data/iter_quickstart.current_od.xml -o /Users/rodrse/Documents/DemandCalibration/notebooks/od_calibration_sumo_files/quickstart/data/iter_od_trips.trips.xml \n",
      "Success.\n",
      "Loading net-file from '/Users/rodrse/Documents/DemandCalibration/notebooks/od_calibration_sumo_files/quickstart/data/quickstart.net.xml' ... done (8ms).\n",
      "Loading additional-files from '/Users/rodrse/Documents/DemandCalibration/notebooks/od_calibration_sumo_files/quickstart/data/quickstart.additional.xml' ... done (1ms).\n",
      "Loading done.\n",
      "Simulation version 1.16.0 started with time: 54000.00.\n",
      "Step #56600.00 (8ms ~= 125.00*RT, ~91625.00UPS, vehicles TOT 2212 ACT 733 BUF 2)          \r"
     ]
    },
    {
     "name": "stderr",
     "output_type": "stream",
     "text": [
      "Warning: Teleporting vehicle '454'; waited too long (wrong lane), lane='L15_0', time=56636.00.\n",
      "Warning: Vehicle '454' ends teleporting on edge 'L18', time=56636.00.\n"
     ]
    },
    {
     "name": "stdout",
     "output_type": "stream",
     "text": [
      "Step #57000.00 (9ms ~= 111.11*RT, ~82777.78UPS, vehicles TOT 2444 ACT 745 BUF 111)        \r"
     ]
    },
    {
     "name": "stderr",
     "output_type": "stream",
     "text": [
      "Warning: Teleporting vehicle '630'; waited too long (wrong lane), lane='L12_2', time=56991.00.\n",
      "Warning: Teleporting vehicle '509'; waited too long (jam), lane='L2_0', time=57010.00.\n",
      "Warning: Vehicle '509' ends teleporting on edge 'L12', time=57010.00.\n",
      "Warning: Vehicle '630' ends teleporting on edge 'L15', time=57027.00.\n"
     ]
    },
    {
     "name": "stdout",
     "output_type": "stream",
     "text": [
      "Step #57100.00 (9ms ~= 111.11*RT, ~81666.67UPS, vehicles TOT 2479 ACT 735 BUF 161)        \r"
     ]
    },
    {
     "name": "stderr",
     "output_type": "stream",
     "text": [
      "Warning: Teleporting vehicle '635'; waited too long (wrong lane), lane='L12_2', time=57153.00.\n",
      "Warning: Vehicle '635' ends teleporting on edge 'L15', time=57153.00.\n",
      "Warning: Teleporting vehicle '687'; waited too long (jam), lane='D2_1', time=57184.00.\n",
      "Warning: Vehicle '687' ends teleporting on edge 'L2', time=57184.00.\n",
      "Warning: Teleporting vehicle '638'; waited too long (wrong lane), lane='L12_2', time=57204.00.\n"
     ]
    },
    {
     "name": "stdout",
     "output_type": "stream",
     "text": [
      "Step #57200.00 (9ms ~= 111.11*RT, ~81777.78UPS, vehicles TOT 2522 ACT 736 BUF 203)        \r"
     ]
    },
    {
     "name": "stderr",
     "output_type": "stream",
     "text": [
      "Warning: Vehicle '638' ends teleporting on edge 'L15', time=57214.00.\n"
     ]
    },
    {
     "name": "stdout",
     "output_type": "stream",
     "text": [
      "Step #57300.00 (10ms ~= 100.00*RT, ~75900.00UPS, vehicles TOT 2586 ACT 759 BUF 225)       \r"
     ]
    },
    {
     "name": "stderr",
     "output_type": "stream",
     "text": [
      "Warning: Teleporting vehicle '510'; waited too long (jam), lane='L2_0', time=57316.00.\n",
      "Warning: Vehicle '510' ends teleporting on edge 'L12', time=57316.00.\n",
      "Warning: Teleporting vehicle '651'; waited too long (wrong lane), lane='L12_2', time=57364.00.\n",
      "Warning: Vehicle '651' ends teleporting on edge 'L15', time=57364.00.\n"
     ]
    },
    {
     "name": "stdout",
     "output_type": "stream",
     "text": [
      "Step #57400.00 (9ms ~= 111.11*RT, ~85333.33UPS, vehicles TOT 2649 ACT 768 BUF 246)        \r"
     ]
    },
    {
     "name": "stderr",
     "output_type": "stream",
     "text": [
      "Warning: Teleporting vehicle '654'; waited too long (wrong lane), lane='L12_2', time=57411.00.\n",
      "Warning: Vehicle '654' ends teleporting on edge 'L15', time=57411.00.\n",
      "Warning: Teleporting vehicle '660'; waited too long (wrong lane), lane='L12_2', time=57490.00.\n",
      "Warning: Vehicle '660' ends teleporting on edge 'L15', time=57494.00.\n"
     ]
    },
    {
     "name": "stdout",
     "output_type": "stream",
     "text": [
      "Step #57600.00 (11ms ~= 90.91*RT, ~73727.27UPS, vehicles TOT 2780 ACT 811 BUF 286)        \n",
      "Simulation ended at time: 57600.00\n",
      "Reason: The final simulation step has been reached.\n",
      "Performance: \n",
      " Duration: 23.95s\n",
      " Real time factor: 150.307\n",
      " UPS: 84728.696088\n",
      "Vehicles: \n",
      " Inserted: 2780 (Loaded: 3066)\n",
      " Running: 811\n",
      " Waiting: 286\n",
      " Teleports: 10 (Jam: 3, Wrong Lane: 7)\n",
      "Statistics (avg of 1969):\n",
      " RouteLength: 4335.38\n",
      " Speed: 11.66\n",
      " Duration: 462.07\n",
      " WaitingTime: 93.62\n",
      " TimeLoss: 147.97\n",
      " DepartDelay: 0.61\n",
      "\n",
      "DijkstraRouter answered 3225 queries and explored 10.08 edges on average.\n",
      "DijkstraRouter spent 0.02s answering queries (0.00ms on average).\n",
      "printing /Users/rodrse/Documents/DemandCalibration/notebooks/od_calibration_sumo_files/quickstart/data/iter_quickstart.current_od.xml\n",
      "### Runing: iter\n",
      "od2trips --no-step-log  --spread.uniform --taz-files /Users/rodrse/Documents/DemandCalibration/notebooks/od_calibration_sumo_files/quickstart/data/quickstart.taz.xml --tazrelation-files /Users/rodrse/Documents/DemandCalibration/notebooks/od_calibration_sumo_files/quickstart/data/iter_quickstart.current_od.xml -o /Users/rodrse/Documents/DemandCalibration/notebooks/od_calibration_sumo_files/quickstart/data/iter_od_trips.trips.xml \n",
      "Success.\n",
      "Loading net-file from '/Users/rodrse/Documents/DemandCalibration/notebooks/od_calibration_sumo_files/quickstart/data/quickstart.net.xml' ... done (7ms).\n",
      "Loading additional-files from '/Users/rodrse/Documents/DemandCalibration/notebooks/od_calibration_sumo_files/quickstart/data/quickstart.additional.xml' ... done (1ms).\n",
      "Loading done.\n",
      "Simulation version 1.16.0 started with time: 54000.00.\n",
      "Step #57600.00 (8ms ~= 125.00*RT, ~82625.00UPS, vehicles TOT 2757 ACT 661 BUF 0)          \n",
      "Simulation ended at time: 57600.00\n",
      "Reason: The final simulation step has been reached.\n",
      "Performance: \n",
      " Duration: 20.73s\n",
      " Real time factor: 173.645\n",
      " UPS: 79534.487748\n",
      "Vehicles: \n",
      " Inserted: 2757\n",
      " Running: 661\n",
      " Waiting: 0\n",
      "Statistics (avg of 2096):\n",
      " RouteLength: 4446.70\n",
      " Speed: 11.60\n",
      " Duration: 457.15\n",
      " WaitingTime: 77.49\n",
      " TimeLoss: 134.35\n",
      " DepartDelay: 0.48\n",
      "\n",
      "DijkstraRouter answered 2757 queries and explored 10.37 edges on average.\n",
      "DijkstraRouter spent 0.02s answering queries (0.01ms on average).\n",
      "printing /Users/rodrse/Documents/DemandCalibration/notebooks/od_calibration_sumo_files/quickstart/data/iter_quickstart.current_od.xml\n",
      "### Runing: iter\n",
      "od2trips --no-step-log  --spread.uniform --taz-files /Users/rodrse/Documents/DemandCalibration/notebooks/od_calibration_sumo_files/quickstart/data/quickstart.taz.xml --tazrelation-files /Users/rodrse/Documents/DemandCalibration/notebooks/od_calibration_sumo_files/quickstart/data/iter_quickstart.current_od.xml -o /Users/rodrse/Documents/DemandCalibration/notebooks/od_calibration_sumo_files/quickstart/data/iter_od_trips.trips.xml \n",
      "Success.\n",
      "Loading net-file from '/Users/rodrse/Documents/DemandCalibration/notebooks/od_calibration_sumo_files/quickstart/data/quickstart.net.xml' ... done (8ms).\n",
      "Loading additional-files from '/Users/rodrse/Documents/DemandCalibration/notebooks/od_calibration_sumo_files/quickstart/data/quickstart.additional.xml' ... done (2ms).\n",
      "Loading done.\n",
      "Simulation version 1.16.0 started with time: 54000.00.\n",
      "Step #57600.00 (4ms ~= 250.00*RT, ~96750.00UPS, vehicles TOT 2103 ACT 387 BUF 0)          \n",
      "Simulation ended at time: 57600.00\n",
      "Reason: The final simulation step has been reached.\n",
      "Performance: \n",
      " Duration: 9.94s\n",
      " Real time factor: 362.209\n",
      " UPS: 97900.090552\n",
      "Vehicles: \n",
      " Inserted: 2103\n",
      " Running: 387\n",
      " Waiting: 0\n",
      "Statistics (avg of 1716):\n",
      " RouteLength: 4362.68\n",
      " Speed: 12.00\n",
      " Duration: 430.50\n",
      " WaitingTime: 70.31\n",
      " TimeLoss: 113.85\n",
      " DepartDelay: 0.49\n",
      "\n",
      "DijkstraRouter answered 2103 queries and explored 9.82 edges on average.\n",
      "DijkstraRouter spent 0.01s answering queries (0.01ms on average).\n",
      "printing /Users/rodrse/Documents/DemandCalibration/notebooks/od_calibration_sumo_files/quickstart/data/iter_quickstart.current_od.xml\n",
      "### Runing: iter\n",
      "od2trips --no-step-log  --spread.uniform --taz-files /Users/rodrse/Documents/DemandCalibration/notebooks/od_calibration_sumo_files/quickstart/data/quickstart.taz.xml --tazrelation-files /Users/rodrse/Documents/DemandCalibration/notebooks/od_calibration_sumo_files/quickstart/data/iter_quickstart.current_od.xml -o /Users/rodrse/Documents/DemandCalibration/notebooks/od_calibration_sumo_files/quickstart/data/iter_od_trips.trips.xml \n",
      "Success.\n",
      "Loading net-file from '/Users/rodrse/Documents/DemandCalibration/notebooks/od_calibration_sumo_files/quickstart/data/quickstart.net.xml' ... done (7ms).\n",
      "Loading additional-files from '/Users/rodrse/Documents/DemandCalibration/notebooks/od_calibration_sumo_files/quickstart/data/quickstart.additional.xml' ... done (1ms).\n",
      "Loading done.\n",
      "Simulation version 1.16.0 started with time: 54000.00.\n",
      "Step #56900.00 (11ms ~= 90.91*RT, ~74909.09UPS, vehicles TOT 2628 ACT 824 BUF 6)          \r"
     ]
    },
    {
     "name": "stderr",
     "output_type": "stream",
     "text": [
      "Warning: Teleporting vehicle '597'; waited too long (wrong lane), lane='L12_2', time=56993.00.\n",
      "Warning: Vehicle '597' ends teleporting on edge 'L15', time=56993.00.\n"
     ]
    },
    {
     "name": "stdout",
     "output_type": "stream",
     "text": [
      "Step #57000.00 (13ms ~= 76.92*RT, ~65692.31UPS, vehicles TOT 2711 ACT 854 BUF 15)         \r"
     ]
    },
    {
     "name": "stderr",
     "output_type": "stream",
     "text": [
      "Warning: Teleporting vehicle '602'; waited too long (wrong lane), lane='L12_2', time=57055.00.\n",
      "Warning: Vehicle '602' ends teleporting on edge 'L15', time=57088.00.\n",
      "Warning: Teleporting vehicle '472'; waited too long (jam), lane=':1_3_1', time=57129.00.\n",
      "Warning: Vehicle '472' ends teleporting on edge 'L12', time=57129.00.\n",
      "Warning: Teleporting vehicle '474'; waited too long (jam), lane='L2_0', time=57132.00.\n",
      "Warning: Vehicle '474' ends teleporting on edge 'L12', time=57132.00.\n"
     ]
    },
    {
     "name": "stdout",
     "output_type": "stream",
     "text": [
      "Step #57100.00 (11ms ~= 90.91*RT, ~79090.91UPS, vehicles TOT 2788 ACT 870 BUF 28)         \r"
     ]
    },
    {
     "name": "stderr",
     "output_type": "stream",
     "text": [
      "Warning: Teleporting vehicle '609'; waited too long (wrong lane), lane='L12_2', time=57153.00.\n",
      "Warning: Vehicle '609' ends teleporting on edge 'L15', time=57153.00.\n",
      "Warning: Teleporting vehicle '610'; waited too long (wrong lane), lane='L12_2', time=57183.00.\n"
     ]
    },
    {
     "name": "stdout",
     "output_type": "stream",
     "text": [
      "Step #57200.00 (8ms ~= 125.00*RT, ~109875.00UPS, vehicles TOT 2865 ACT 879 BUF 42)        \r"
     ]
    },
    {
     "name": "stderr",
     "output_type": "stream",
     "text": [
      "Warning: Vehicle '610' ends teleporting on edge 'L15', time=57221.00.\n",
      "Warning: Teleporting vehicle '539'; waited too long (jam), lane='D2_0', time=57224.00.\n",
      "Warning: Vehicle '539' ends teleporting on edge 'L2', time=57224.00.\n",
      "Warning: Teleporting vehicle '667'; waited too long (jam), lane='L2_1', time=57226.00.\n",
      "Warning: Vehicle '667' ends teleporting on edge 'L12', time=57226.00.\n",
      "Warning: Teleporting vehicle '619'; waited too long (wrong lane), lane='L12_2', time=57274.00.\n",
      "Warning: Vehicle '619' ends teleporting on edge 'L15', time=57283.00.\n"
     ]
    },
    {
     "name": "stdout",
     "output_type": "stream",
     "text": [
      "Step #57400.00 (10ms ~= 100.00*RT, ~90400.00UPS, vehicles TOT 2992 ACT 904 BUF 97)        \r"
     ]
    },
    {
     "name": "stderr",
     "output_type": "stream",
     "text": [
      "Warning: Teleporting vehicle '1381'; waited too long (jam), lane='D2_1', time=57411.00.\n",
      "Warning: Vehicle '1381' ends teleporting on edge 'L2', time=57411.00.\n",
      "Warning: Teleporting vehicle '625'; waited too long (wrong lane), lane='L12_2', time=57414.00.\n",
      "Warning: Teleporting vehicle '708'; waited too long (jam), lane='D2_1', time=57414.00.\n",
      "Warning: Vehicle '625' ends teleporting on edge 'L15', time=57414.00.\n",
      "Warning: Teleporting vehicle '626'; waited too long (wrong lane), lane='L12_2', time=57463.00.\n",
      "Warning: Vehicle '626' ends teleporting on edge 'L15', time=57463.00.\n"
     ]
    },
    {
     "name": "stdout",
     "output_type": "stream",
     "text": [
      "Step #57500.00 (10ms ~= 100.00*RT, ~89000.00UPS, vehicles TOT 3042 ACT 890 BUF 137)       \r"
     ]
    },
    {
     "name": "stderr",
     "output_type": "stream",
     "text": [
      "Warning: Teleporting vehicle '539'; waited too long (jam), lane='L2_0', time=57527.00.\n",
      "Warning: Vehicle '539' ends teleporting on edge 'L12', time=57527.00.\n",
      "Warning: Teleporting vehicle '1351'; waited too long (jam), lane='L2_1', time=57531.00.\n",
      "Warning: Vehicle '1351' ends teleporting on edge 'L12', time=57531.00.\n",
      "Warning: Teleporting vehicle '540'; waited too long (jam), lane='D2_0', time=57535.00.\n",
      "Warning: Teleporting vehicle '709'; waited too long (jam), lane='D2_1', time=57536.00.\n",
      "Warning: Teleporting vehicle '710'; waited too long (jam), lane='D2_1', time=57537.00.\n",
      "Warning: Teleporting vehicle '630'; waited too long (wrong lane), lane='L12_2', time=57573.00.\n"
     ]
    },
    {
     "name": "stdout",
     "output_type": "stream",
     "text": [
      "Step #57600.00 (8ms ~= 125.00*RT, ~110375.00UPS, vehicles TOT 3091 ACT 883 BUF 179)       \n",
      "Simulation ended at time: 57600.00\n",
      "Reason: The final simulation step has been reached.\n",
      "Performance: \n",
      " Duration: 28.20s\n",
      " Real time factor: 127.646\n",
      " UPS: 79462.716732\n",
      "Vehicles: \n",
      " Inserted: 3091 (Loaded: 3270)\n",
      " Running: 883\n",
      " Waiting: 179\n",
      " Teleports: 19 (Jam: 11, Wrong Lane: 8)\n",
      "Statistics (avg of 2208):\n",
      " RouteLength: 4384.39\n",
      " Speed: 11.40\n",
      " Duration: 480.25\n",
      " WaitingTime: 90.64\n",
      " TimeLoss: 162.48\n",
      " DepartDelay: 0.49\n",
      "\n",
      "DijkstraRouter answered 3332 queries and explored 10.26 edges on average.\n",
      "DijkstraRouter spent 0.02s answering queries (0.01ms on average).\n",
      "printing /Users/rodrse/Documents/DemandCalibration/notebooks/od_calibration_sumo_files/quickstart/data/iter_quickstart.current_od.xml\n",
      "### Runing: iter\n",
      "od2trips --no-step-log  --spread.uniform --taz-files /Users/rodrse/Documents/DemandCalibration/notebooks/od_calibration_sumo_files/quickstart/data/quickstart.taz.xml --tazrelation-files /Users/rodrse/Documents/DemandCalibration/notebooks/od_calibration_sumo_files/quickstart/data/iter_quickstart.current_od.xml -o /Users/rodrse/Documents/DemandCalibration/notebooks/od_calibration_sumo_files/quickstart/data/iter_od_trips.trips.xml \n",
      "Success.\n",
      "Loading net-file from '/Users/rodrse/Documents/DemandCalibration/notebooks/od_calibration_sumo_files/quickstart/data/quickstart.net.xml' ... done (8ms).\n",
      "Loading additional-files from '/Users/rodrse/Documents/DemandCalibration/notebooks/od_calibration_sumo_files/quickstart/data/quickstart.additional.xml' ... done (1ms).\n",
      "Loading done.\n",
      "Simulation version 1.16.0 started with time: 54000.00.\n",
      "Step #56300.00 (13ms ~= 76.92*RT, ~72384.62UPS, vehicles TOT 2044 ACT 941 BUF 0)          \r"
     ]
    },
    {
     "name": "stderr",
     "output_type": "stream",
     "text": [
      "Warning: Teleporting vehicle '393'; waited too long (wrong lane), lane='L15_0', time=56391.00.\n",
      "Warning: Vehicle '393' ends teleporting on edge 'L18', time=56391.00.\n"
     ]
    },
    {
     "name": "stdout",
     "output_type": "stream",
     "text": [
      "Step #56400.00 (25ms ~= 40.00*RT, ~38560.00UPS, vehicles TOT 2133 ACT 964 BUF 0)          \r"
     ]
    },
    {
     "name": "stderr",
     "output_type": "stream",
     "text": [
      "Warning: Teleporting vehicle '407'; waited too long (wrong lane), lane='L15_0', time=56404.00.\n",
      "Warning: Vehicle '407' ends teleporting on edge 'L18', time=56404.00.\n"
     ]
    },
    {
     "name": "stdout",
     "output_type": "stream",
     "text": [
      "Step #57300.00 (14ms ~= 71.43*RT, ~79785.71UPS, vehicles TOT 2933 ACT 1117 BUF 0)         \r"
     ]
    },
    {
     "name": "stderr",
     "output_type": "stream",
     "text": [
      "Warning: Teleporting vehicle '437'; waited too long (wrong lane), lane='L15_0', time=57342.00.\n",
      "Warning: Vehicle '437' ends teleporting on edge 'L18', time=57342.00.\n",
      "Warning: Teleporting vehicle '479'; waited too long (wrong lane), lane='L15_0', time=57344.00.\n",
      "Warning: Vehicle '479' ends teleporting on edge 'L18', time=57344.00.\n",
      "Warning: Teleporting vehicle '455'; waited too long (wrong lane), lane='L15_0', time=57346.00.\n",
      "Warning: Vehicle '455' ends teleporting on edge 'L18', time=57346.00.\n",
      "Warning: Teleporting vehicle '466'; waited too long (wrong lane), lane='L15_0', time=57347.00.\n",
      "Warning: Vehicle '466' ends teleporting on edge 'L18', time=57347.00.\n",
      "Warning: Teleporting vehicle '564'; waited too long (jam), lane='L12_0', time=57353.00.\n",
      "Warning: Vehicle '564' ends teleporting on edge 'L15', time=57353.00.\n",
      "Warning: Teleporting vehicle '575'; waited too long (jam), lane='L12_0', time=57354.00.\n",
      "Warning: Teleporting vehicle '572'; waited too long (jam), lane='L12_0', time=57355.00.\n",
      "Warning: Teleporting vehicle '576'; waited too long (jam), lane='L12_0', time=57356.00.\n",
      "Warning: Teleporting vehicle '563'; waited too long (jam), lane='L12_0', time=57357.00.\n",
      "Warning: Teleporting vehicle '578'; waited too long (jam), lane='L12_0', time=57358.00.\n",
      "Warning: Teleporting vehicle '558'; waited too long (jam), lane='L12_0', time=57359.00.\n",
      "Warning: Teleporting vehicle '522'; waited too long (wrong lane), lane='L15_0', time=57366.00.\n",
      "Warning: Vehicle '522' ends teleporting on edge 'L18', time=57366.00.\n"
     ]
    },
    {
     "name": "stdout",
     "output_type": "stream",
     "text": [
      "Step #57400.00 (15ms ~= 66.67*RT, ~73066.67UPS, vehicles TOT 3022 ACT 1096 BUF 0)         \r"
     ]
    },
    {
     "name": "stderr",
     "output_type": "stream",
     "text": [
      "Warning: Vehicle '558' ends teleporting on edge 'L15', time=57480.00.\n"
     ]
    },
    {
     "name": "stdout",
     "output_type": "stream",
     "text": [
      "Step #57500.00 (13ms ~= 76.92*RT, ~82923.08UPS, vehicles TOT 3082 ACT 1078 BUF 28)        \r"
     ]
    },
    {
     "name": "stderr",
     "output_type": "stream",
     "text": [
      "Warning: Teleporting vehicle '421'; waited too long (jam), lane='L12_1', time=57558.00.\n"
     ]
    },
    {
     "name": "stdout",
     "output_type": "stream",
     "text": [
      "Step #57600.00 (13ms ~= 76.92*RT, ~82153.85UPS, vehicles TOT 3137 ACT 1068 BUF 62)        \n",
      "Simulation ended at time: 57600.00\n",
      "Reason: The final simulation step has been reached.\n",
      "Performance: \n",
      " Duration: 33.81s\n",
      " Real time factor: 106.481\n",
      " UPS: 78682.776775\n",
      "Vehicles: \n",
      " Inserted: 3137 (Loaded: 3199)\n",
      " Running: 1068\n",
      " Waiting: 62\n",
      " Teleports: 15 (Jam: 8, Wrong Lane: 7)\n",
      "Statistics (avg of 2069):\n",
      " RouteLength: 4374.23\n",
      " Speed: 9.74\n",
      " Duration: 720.05\n",
      " WaitingTime: 179.54\n",
      " TimeLoss: 403.38\n",
      " DepartDelay: 0.50\n",
      "\n",
      "DijkstraRouter answered 3212 queries and explored 10.33 edges on average.\n",
      "DijkstraRouter spent 0.01s answering queries (0.00ms on average).\n"
     ]
    }
   ],
   "source": [
    "df_0 = [\n",
    "    objective(x) for x in train_X0.cpu().detach().numpy()\n",
    "]\n",
    "\n",
    "df_0 = pd.concat(df_0)\n",
    "df_0['iter'] = 0"
   ]
  },
  {
   "cell_type": "markdown",
   "id": "63219644",
   "metadata": {},
   "source": [
    "### GP model surrogate"
   ]
  },
  {
   "cell_type": "code",
   "execution_count": 22,
   "id": "09f66122",
   "metadata": {},
   "outputs": [
    {
     "data": {
      "text/plain": [
       "ExactMarginalLogLikelihood(\n",
       "  (likelihood): GaussianLikelihood(\n",
       "    (noise_covar): HomoskedasticNoise(\n",
       "      (noise_prior): GammaPrior()\n",
       "      (raw_noise_constraint): GreaterThan(1.000E-04)\n",
       "    )\n",
       "  )\n",
       "  (model): SingleTaskGP(\n",
       "    (likelihood): GaussianLikelihood(\n",
       "      (noise_covar): HomoskedasticNoise(\n",
       "        (noise_prior): GammaPrior()\n",
       "        (raw_noise_constraint): GreaterThan(1.000E-04)\n",
       "      )\n",
       "    )\n",
       "    (mean_module): ConstantMean()\n",
       "    (covar_module): ScaleKernel(\n",
       "      (base_kernel): MaternKernel(\n",
       "        (lengthscale_prior): GammaPrior()\n",
       "        (raw_lengthscale_constraint): Positive()\n",
       "        (distance_module): Distance()\n",
       "      )\n",
       "      (outputscale_prior): GammaPrior()\n",
       "      (raw_outputscale_constraint): Positive()\n",
       "    )\n",
       "    (outcome_transform): Standardize()\n",
       "  )\n",
       ")"
      ]
     },
     "execution_count": 22,
     "metadata": {},
     "output_type": "execute_result"
    }
   ],
   "source": [
    "import torch\n",
    "import matplotlib.pyplot as plt\n",
    "\n",
    "from botorch.models.transforms import Normalize, Standardize\n",
    "\n",
    "from botorch.utils.transforms import normalize\n",
    "\n",
    "from botorch.models import SingleTaskGP\n",
    "from gpytorch.mlls import ExactMarginalLogLikelihood\n",
    "from botorch import fit_gpytorch_mll\n",
    "\n",
    "\n",
    "train_X = torch.from_numpy(df_0[[\"x1\",\"x2\",\"x3\",\"x4\"]].values)\n",
    "train_X_norm = normalize(train_X,bounds)\n",
    "\n",
    "train_Y = -torch.from_numpy(df_0[[\"loss_estimate\"]].values)\n",
    "\n",
    "\n",
    "def initialize_gp_model(train_X,train_Y):\n",
    "            \n",
    "    gp_model = SingleTaskGP(\n",
    "        train_X=train_X,\n",
    "        train_Y=train_Y,\n",
    "        outcome_transform=Standardize(m=1)\n",
    "    )\n",
    "\n",
    "    gp_mll = ExactMarginalLogLikelihood(gp_model.likelihood, gp_model)\n",
    "    \n",
    "    return gp_model, gp_mll\n",
    "\n",
    "\n",
    "gp_model, gp_mll = initialize_gp_model(train_X_norm,train_Y)\n",
    "\n",
    "# Fit model\n",
    "fit_gpytorch_mll(gp_mll)\n"
   ]
  },
  {
   "cell_type": "markdown",
   "id": "2c4481d9",
   "metadata": {},
   "source": [
    "### Acquisition Function: q-EI"
   ]
  },
  {
   "cell_type": "code",
   "execution_count": 23,
   "id": "1baa70ba",
   "metadata": {},
   "outputs": [],
   "source": [
    "# Acquisition function\n",
    "from botorch.acquisition import qExpectedImprovement\n",
    "from botorch.sampling.stochastic_samplers import StochasticSampler\n",
    "\n",
    "sampler = StochasticSampler(sample_shape=torch.Size([128]))\n",
    "qEI = qExpectedImprovement(gp_model, best_f=max(train_Y), sampler=sampler)\n"
   ]
  },
  {
   "cell_type": "code",
   "execution_count": 24,
   "id": "70c2e9eb",
   "metadata": {},
   "outputs": [],
   "source": [
    "from botorch.utils.transforms import unnormalize\n",
    "from botorch.optim import optimize_acqf\n",
    "    \n",
    "def optimize_acqf_and_get_observation(acq_func,bounds):\n",
    "    \"\"\"Optimizes the acquisition function, and returns a new candidate.\"\"\"\n",
    "    # optimize\n",
    "    candidates, _ = optimize_acqf(\n",
    "        acq_function=acq_func,\n",
    "        bounds=torch.tensor([[0.0] * dim, [1.0] * dim], device=device, dtype=dtype),\n",
    "        q=BATCH_SIZE,\n",
    "        num_restarts=NUM_RESTARTS,\n",
    "        raw_samples=RAW_SAMPLES,  # used for intialization heuristic\n",
    "        options={\"batch_limit\": 5, \"maxiter\": 200},\n",
    "    )\n",
    "\n",
    "    # observe new values \n",
    "    new_x = candidates.detach()\n",
    "    \n",
    "    return unnormalize(new_x, bounds)"
   ]
  },
  {
   "cell_type": "code",
   "execution_count": 25,
   "id": "812f0159",
   "metadata": {},
   "outputs": [
    {
     "data": {
      "text/plain": [
       "tensor([[ 735.3012,  655.5877, 1000.0000,  998.2975]], dtype=torch.float64)"
      ]
     },
     "execution_count": 25,
     "metadata": {},
     "output_type": "execute_result"
    }
   ],
   "source": [
    "BATCH_SIZE = 1 \n",
    "NUM_RESTARTS = 5 \n",
    "RAW_SAMPLES = 32 \n",
    "\n",
    "new_x = optimize_acqf_and_get_observation(\n",
    "    acq_func=qEI,\n",
    "    bounds=bounds\n",
    ")\n",
    "\n",
    "new_x\n"
   ]
  },
  {
   "cell_type": "markdown",
   "id": "6dbe84ac",
   "metadata": {},
   "source": [
    "### Run loop"
   ]
  },
  {
   "cell_type": "code",
   "execution_count": 26,
   "id": "1a7532f2",
   "metadata": {},
   "outputs": [
    {
     "name": "stdout",
     "output_type": "stream",
     "text": [
      "####### 1 ########\n",
      "##### n=25 #####\n",
      "##### best_value=-0.03369774107009836 #####\n",
      "printing /Users/rodrse/Documents/DemandCalibration/notebooks/od_calibration_sumo_files/quickstart/data/iter_quickstart.current_od.xml\n",
      "### Runing: iter\n",
      "od2trips --no-step-log  --spread.uniform --taz-files /Users/rodrse/Documents/DemandCalibration/notebooks/od_calibration_sumo_files/quickstart/data/quickstart.taz.xml --tazrelation-files /Users/rodrse/Documents/DemandCalibration/notebooks/od_calibration_sumo_files/quickstart/data/iter_quickstart.current_od.xml -o /Users/rodrse/Documents/DemandCalibration/notebooks/od_calibration_sumo_files/quickstart/data/iter_od_trips.trips.xml \n",
      "Success.\n",
      "Loading net-file from '/Users/rodrse/Documents/DemandCalibration/notebooks/od_calibration_sumo_files/quickstart/data/quickstart.net.xml' ... done (8ms).\n",
      "Loading additional-files from '/Users/rodrse/Documents/DemandCalibration/notebooks/od_calibration_sumo_files/quickstart/data/quickstart.additional.xml' ... done (1ms).\n",
      "Loading done.\n",
      "Simulation version 1.16.0 started with time: 54000.00.\n",
      "Step #57600.00 (11ms ~= 90.91*RT, ~70454.55UPS, vehicles TOT 3143 ACT 775 BUF 0)          \n",
      "Simulation ended at time: 57600.00\n",
      "Reason: The final simulation step has been reached.\n",
      "Performance: \n",
      " Duration: 26.27s\n",
      " Real time factor: 137.065\n",
      " UPS: 75043.898725\n",
      "Vehicles: \n",
      " Inserted: 3143\n",
      " Running: 775\n",
      " Waiting: 0\n",
      "Statistics (avg of 2368):\n",
      " RouteLength: 4374.44\n",
      " Speed: 10.76\n",
      " Duration: 513.20\n",
      " WaitingTime: 88.06\n",
      " TimeLoss: 196.13\n",
      " DepartDelay: 0.34\n",
      "\n",
      "DijkstraRouter answered 3143 queries and explored 9.95 edges on average.\n",
      "DijkstraRouter spent 0.02s answering queries (0.01ms on average).\n",
      "####### 2 ########\n",
      "##### n=26 #####\n",
      "##### best_value=-0.03369774107009836 #####\n",
      "printing /Users/rodrse/Documents/DemandCalibration/notebooks/od_calibration_sumo_files/quickstart/data/iter_quickstart.current_od.xml\n",
      "### Runing: iter\n",
      "od2trips --no-step-log  --spread.uniform --taz-files /Users/rodrse/Documents/DemandCalibration/notebooks/od_calibration_sumo_files/quickstart/data/quickstart.taz.xml --tazrelation-files /Users/rodrse/Documents/DemandCalibration/notebooks/od_calibration_sumo_files/quickstart/data/iter_quickstart.current_od.xml -o /Users/rodrse/Documents/DemandCalibration/notebooks/od_calibration_sumo_files/quickstart/data/iter_od_trips.trips.xml \n",
      "Success.\n",
      "Loading net-file from '/Users/rodrse/Documents/DemandCalibration/notebooks/od_calibration_sumo_files/quickstart/data/quickstart.net.xml' ... done (9ms).\n",
      "Loading additional-files from '/Users/rodrse/Documents/DemandCalibration/notebooks/od_calibration_sumo_files/quickstart/data/quickstart.additional.xml' ... done (2ms).\n",
      "Loading done.\n",
      "Simulation version 1.16.0 started with time: 54000.00.\n",
      "Step #56700.00 (10ms ~= 100.00*RT, ~77800.00UPS, vehicles TOT 2437 ACT 778 BUF 57)        \r"
     ]
    },
    {
     "name": "stderr",
     "output_type": "stream",
     "text": [
      "Warning: Teleporting vehicle '595'; waited too long (wrong lane), lane='L12_2', time=56794.00.\n",
      "Warning: Vehicle '595' ends teleporting on edge 'L15', time=56797.00.\n"
     ]
    },
    {
     "name": "stdout",
     "output_type": "stream",
     "text": [
      "Step #56900.00 (10ms ~= 100.00*RT, ~79100.00UPS, vehicles TOT 2554 ACT 791 BUF 125)       \r"
     ]
    },
    {
     "name": "stderr",
     "output_type": "stream",
     "text": [
      "Warning: Teleporting vehicle '600'; waited too long (wrong lane), lane='L12_2', time=56889.00.\n",
      "Warning: Vehicle '600' ends teleporting on edge 'L15', time=56906.00.\n",
      "Warning: Teleporting vehicle '601'; waited too long (wrong lane), lane='L12_2', time=56917.00.\n",
      "Warning: Teleporting vehicle '602'; waited too long (wrong lane), lane='L12_2', time=56918.00.\n",
      "Warning: Teleporting vehicle '605'; waited too long (wrong lane), lane='L12_2', time=56951.00.\n",
      "Warning: Teleporting vehicle '470'; waited too long (jam), lane='L2_0', time=56953.00.\n",
      "Warning: Vehicle '470' ends teleporting on edge 'L12', time=56953.00.\n",
      "Warning: Vehicle '601' ends teleporting on edge 'L15', time=56959.00.\n"
     ]
    },
    {
     "name": "stdout",
     "output_type": "stream",
     "text": [
      "Step #57000.00 (9ms ~= 111.11*RT, ~86000.00UPS, vehicles TOT 2601 ACT 774 BUF 170)        \r"
     ]
    },
    {
     "name": "stderr",
     "output_type": "stream",
     "text": [
      "Warning: Vehicle '602' ends teleporting on edge 'L15', time=57025.00.\n",
      "Warning: Teleporting vehicle '608'; waited too long (wrong lane), lane='L12_2', time=57065.00.\n",
      "Warning: Teleporting vehicle '664'; waited too long (jam), lane='D2_1', time=57075.00.\n",
      "Warning: Vehicle '664' ends teleporting on edge 'L2', time=57075.00.\n",
      "Warning: Vehicle '605' ends teleporting on edge 'L15', time=57083.00.\n"
     ]
    },
    {
     "name": "stdout",
     "output_type": "stream",
     "text": [
      "Step #57100.00 (9ms ~= 111.11*RT, ~85888.89UPS, vehicles TOT 2656 ACT 773 BUF 207)        \r"
     ]
    },
    {
     "name": "stderr",
     "output_type": "stream",
     "text": [
      "Warning: Vehicle '608' ends teleporting on edge 'L15', time=57141.00.\n",
      "Warning: Teleporting vehicle '663'; waited too long (jam), lane=':1_3_2', time=57152.00.\n",
      "Warning: Vehicle '663' ends teleporting on edge 'L12', time=57152.00.\n",
      "Warning: Teleporting vehicle '613'; waited too long (wrong lane), lane='L12_2', time=57178.00.\n"
     ]
    },
    {
     "name": "stdout",
     "output_type": "stream",
     "text": [
      "Step #57200.00 (11ms ~= 90.91*RT, ~70818.18UPS, vehicles TOT 2715 ACT 779 BUF 240)        \r"
     ]
    },
    {
     "name": "stderr",
     "output_type": "stream",
     "text": [
      "Warning: Vehicle '613' ends teleporting on edge 'L15', time=57235.00.\n"
     ]
    },
    {
     "name": "stdout",
     "output_type": "stream",
     "text": [
      "Step #57300.00 (11ms ~= 90.91*RT, ~70545.45UPS, vehicles TOT 2763 ACT 776 BUF 286)        \r"
     ]
    },
    {
     "name": "stderr",
     "output_type": "stream",
     "text": [
      "Warning: Teleporting vehicle '618'; waited too long (wrong lane), lane='L12_2', time=57329.00.\n",
      "Warning: Vehicle '618' ends teleporting on edge 'L15', time=57329.00.\n",
      "Warning: Teleporting vehicle '471'; waited too long (jam), lane=':1_3_1', time=57338.00.\n",
      "Warning: Vehicle '471' ends teleporting on edge 'L12', time=57338.00.\n",
      "Warning: Teleporting vehicle '620'; waited too long (wrong lane), lane='L12_2', time=57373.00.\n",
      "Warning: Vehicle '620' ends teleporting on edge 'L15', time=57373.00.\n"
     ]
    },
    {
     "name": "stdout",
     "output_type": "stream",
     "text": [
      "Step #57400.00 (11ms ~= 90.91*RT, ~69909.09UPS, vehicles TOT 2810 ACT 769 BUF 330)        \r"
     ]
    },
    {
     "name": "stderr",
     "output_type": "stream",
     "text": [
      "Warning: Teleporting vehicle '621'; waited too long (wrong lane), lane='L12_2', time=57420.00.\n",
      "Warning: Vehicle '621' ends teleporting on edge 'L15', time=57427.00.\n",
      "Warning: Teleporting vehicle '538'; waited too long (jam), lane='D2_0', time=57429.00.\n",
      "Warning: Vehicle '538' ends teleporting on edge 'L2', time=57429.00.\n",
      "Warning: Teleporting vehicle '676'; waited too long (jam), lane='D2_1', time=57434.00.\n",
      "Warning: Vehicle '676' ends teleporting on edge 'L2', time=57434.00.\n",
      "Warning: Teleporting vehicle '1431'; waited too long (jam), lane=':1_3_2', time=57457.00.\n",
      "Warning: Vehicle '1431' ends teleporting on edge 'L12', time=57457.00.\n",
      "Warning: Teleporting vehicle '622'; waited too long (wrong lane), lane='L12_2', time=57495.00.\n",
      "Warning: Vehicle '622' ends teleporting on edge 'L15', time=57495.00.\n"
     ]
    },
    {
     "name": "stdout",
     "output_type": "stream",
     "text": [
      "Step #57500.00 (10ms ~= 100.00*RT, ~79100.00UPS, vehicles TOT 2877 ACT 791 BUF 356)       \r"
     ]
    },
    {
     "name": "stderr",
     "output_type": "stream",
     "text": [
      "Warning: Teleporting vehicle '626'; waited too long (wrong lane), lane='L12_2', time=57574.00.\n",
      "Warning: Vehicle '626' ends teleporting on edge 'L15', time=57585.00.\n"
     ]
    },
    {
     "name": "stdout",
     "output_type": "stream",
     "text": [
      "Step #57600.00 (10ms ~= 100.00*RT, ~81000.00UPS, vehicles TOT 2953 ACT 810 BUF 372)       \n",
      "Simulation ended at time: 57600.00\n",
      "Reason: The final simulation step has been reached.\n",
      "Performance: \n",
      " Duration: 27.35s\n",
      " Real time factor: 131.632\n",
      " UPS: 77540.604775\n",
      "Vehicles: \n",
      " Inserted: 2953 (Loaded: 3325)\n",
      " Running: 810\n",
      " Waiting: 372\n",
      " Teleports: 19 (Jam: 7, Wrong Lane: 12)\n",
      "Statistics (avg of 2143):\n",
      " RouteLength: 4340.31\n",
      " Speed: 12.12\n",
      " Duration: 431.91\n",
      " WaitingTime: 76.29\n",
      " TimeLoss: 117.45\n",
      " DepartDelay: 0.48\n",
      "\n",
      "DijkstraRouter answered 3430 queries and explored 10.22 edges on average.\n",
      "DijkstraRouter spent 0.02s answering queries (0.01ms on average).\n",
      "####### 3 ########\n",
      "##### n=27 #####\n",
      "##### best_value=-0.03369774107009836 #####\n",
      "printing /Users/rodrse/Documents/DemandCalibration/notebooks/od_calibration_sumo_files/quickstart/data/iter_quickstart.current_od.xml\n",
      "### Runing: iter\n",
      "od2trips --no-step-log  --spread.uniform --taz-files /Users/rodrse/Documents/DemandCalibration/notebooks/od_calibration_sumo_files/quickstart/data/quickstart.taz.xml --tazrelation-files /Users/rodrse/Documents/DemandCalibration/notebooks/od_calibration_sumo_files/quickstart/data/iter_quickstart.current_od.xml -o /Users/rodrse/Documents/DemandCalibration/notebooks/od_calibration_sumo_files/quickstart/data/iter_od_trips.trips.xml \n",
      "Success.\n",
      "Loading net-file from '/Users/rodrse/Documents/DemandCalibration/notebooks/od_calibration_sumo_files/quickstart/data/quickstart.net.xml' ... done (7ms).\n",
      "Loading additional-files from '/Users/rodrse/Documents/DemandCalibration/notebooks/od_calibration_sumo_files/quickstart/data/quickstart.additional.xml' ... done (1ms).\n",
      "Loading done.\n",
      "Simulation version 1.16.0 started with time: 54000.00.\n",
      "Step #57500.00 (11ms ~= 90.91*RT, ~75727.27UPS, vehicles TOT 2926 ACT 833 BUF 0)          \r"
     ]
    },
    {
     "name": "stderr",
     "output_type": "stream",
     "text": [
      "Warning: Teleporting vehicle '406'; waited too long (wrong lane), lane='L15_0', time=57532.00.\n",
      "Warning: Vehicle '406' ends teleporting on edge 'L18', time=57532.00.\n"
     ]
    },
    {
     "name": "stdout",
     "output_type": "stream",
     "text": [
      "Step #57600.00 (13ms ~= 76.92*RT, ~65461.54UPS, vehicles TOT 3009 ACT 851 BUF 0)          \n",
      "Simulation ended at time: 57600.00\n",
      "Reason: The final simulation step has been reached.\n",
      "Performance: \n",
      " Duration: 25.56s\n",
      " Real time factor: 140.823\n",
      " UPS: 75387.615397\n",
      "Vehicles: \n",
      " Inserted: 3009\n",
      " Running: 851\n",
      " Waiting: 0\n",
      " Teleports: 1 (Wrong Lane: 1)\n",
      "Statistics (avg of 2158):\n",
      " RouteLength: 4254.36\n",
      " Speed: 11.17\n",
      " Duration: 532.16\n",
      " WaitingTime: 127.40\n",
      " TimeLoss: 223.85\n",
      " DepartDelay: 0.49\n",
      "\n",
      "DijkstraRouter answered 3009 queries and explored 9.54 edges on average.\n",
      "DijkstraRouter spent 0.02s answering queries (0.01ms on average).\n",
      "####### 4 ########\n",
      "##### n=28 #####\n",
      "##### best_value=-0.03369774107009836 #####\n",
      "printing /Users/rodrse/Documents/DemandCalibration/notebooks/od_calibration_sumo_files/quickstart/data/iter_quickstart.current_od.xml\n",
      "### Runing: iter\n",
      "od2trips --no-step-log  --spread.uniform --taz-files /Users/rodrse/Documents/DemandCalibration/notebooks/od_calibration_sumo_files/quickstart/data/quickstart.taz.xml --tazrelation-files /Users/rodrse/Documents/DemandCalibration/notebooks/od_calibration_sumo_files/quickstart/data/iter_quickstart.current_od.xml -o /Users/rodrse/Documents/DemandCalibration/notebooks/od_calibration_sumo_files/quickstart/data/iter_od_trips.trips.xml \n",
      "Success.\n",
      "Loading net-file from '/Users/rodrse/Documents/DemandCalibration/notebooks/od_calibration_sumo_files/quickstart/data/quickstart.net.xml' ... done (7ms).\n",
      "Loading additional-files from '/Users/rodrse/Documents/DemandCalibration/notebooks/od_calibration_sumo_files/quickstart/data/quickstart.additional.xml' ... done (1ms).\n",
      "Loading done.\n",
      "Simulation version 1.16.0 started with time: 54000.00.\n",
      "Step #57600.00 (9ms ~= 111.11*RT, ~66000.00UPS, vehicles TOT 2717 ACT 594 BUF 0)          \n",
      "Simulation ended at time: 57600.00\n",
      "Reason: The final simulation step has been reached.\n",
      "Performance: \n",
      " Duration: 17.11s\n",
      " Real time factor: 210.354\n",
      " UPS: 81846.324646\n",
      "Vehicles: \n",
      " Inserted: 2717\n",
      " Running: 594\n",
      " Waiting: 0\n",
      "Statistics (avg of 2123):\n",
      " RouteLength: 4265.12\n",
      " Speed: 11.65\n",
      " Duration: 454.57\n",
      " WaitingTime: 91.55\n",
      " TimeLoss: 145.44\n",
      " DepartDelay: 0.49\n",
      "\n",
      "DijkstraRouter answered 2717 queries and explored 9.34 edges on average.\n",
      "DijkstraRouter spent 0.01s answering queries (0.00ms on average).\n",
      "####### 5 ########\n",
      "##### n=29 #####\n",
      "##### best_value=-0.03369774107009836 #####\n",
      "printing /Users/rodrse/Documents/DemandCalibration/notebooks/od_calibration_sumo_files/quickstart/data/iter_quickstart.current_od.xml\n",
      "### Runing: iter\n",
      "od2trips --no-step-log  --spread.uniform --taz-files /Users/rodrse/Documents/DemandCalibration/notebooks/od_calibration_sumo_files/quickstart/data/quickstart.taz.xml --tazrelation-files /Users/rodrse/Documents/DemandCalibration/notebooks/od_calibration_sumo_files/quickstart/data/iter_quickstart.current_od.xml -o /Users/rodrse/Documents/DemandCalibration/notebooks/od_calibration_sumo_files/quickstart/data/iter_od_trips.trips.xml \n",
      "Success.\n",
      "Loading net-file from '/Users/rodrse/Documents/DemandCalibration/notebooks/od_calibration_sumo_files/quickstart/data/quickstart.net.xml' ... done (6ms).\n",
      "Loading additional-files from '/Users/rodrse/Documents/DemandCalibration/notebooks/od_calibration_sumo_files/quickstart/data/quickstart.additional.xml' ... done (2ms).\n",
      "Loading done.\n",
      "Simulation version 1.16.0 started with time: 54000.00.\n",
      "Step #57600.00 (10ms ~= 100.00*RT, ~91600.00UPS, vehicles TOT 3121 ACT 916 BUF 0)         \n",
      "Simulation ended at time: 57600.00\n",
      "Reason: The final simulation step has been reached.\n",
      "Performance: \n",
      " Duration: 27.10s\n",
      " Real time factor: 132.846\n",
      " UPS: 77463.670246\n",
      "Vehicles: \n",
      " Inserted: 3121\n",
      " Running: 916\n",
      " Waiting: 0\n",
      "Statistics (avg of 2205):\n",
      " RouteLength: 4201.66\n",
      " Speed: 11.34\n",
      " Duration: 554.61\n",
      " WaitingTime: 154.30\n",
      " TimeLoss: 250.41\n",
      " DepartDelay: 0.49\n",
      "\n",
      "DijkstraRouter answered 3121 queries and explored 9.36 edges on average.\n",
      "DijkstraRouter spent 0.03s answering queries (0.01ms on average).\n",
      "####### 6 ########\n",
      "##### n=30 #####\n",
      "##### best_value=-0.028929352059278813 #####\n",
      "printing /Users/rodrse/Documents/DemandCalibration/notebooks/od_calibration_sumo_files/quickstart/data/iter_quickstart.current_od.xml\n",
      "### Runing: iter\n",
      "od2trips --no-step-log  --spread.uniform --taz-files /Users/rodrse/Documents/DemandCalibration/notebooks/od_calibration_sumo_files/quickstart/data/quickstart.taz.xml --tazrelation-files /Users/rodrse/Documents/DemandCalibration/notebooks/od_calibration_sumo_files/quickstart/data/iter_quickstart.current_od.xml -o /Users/rodrse/Documents/DemandCalibration/notebooks/od_calibration_sumo_files/quickstart/data/iter_od_trips.trips.xml \n",
      "Success.\n",
      "Loading net-file from '/Users/rodrse/Documents/DemandCalibration/notebooks/od_calibration_sumo_files/quickstart/data/quickstart.net.xml' ... done (6ms).\n",
      "Loading additional-files from '/Users/rodrse/Documents/DemandCalibration/notebooks/od_calibration_sumo_files/quickstart/data/quickstart.additional.xml' ... done (1ms).\n",
      "Loading done.\n",
      "Simulation version 1.16.0 started with time: 54000.00.\n",
      "Step #57600.00 (7ms ~= 142.86*RT, ~92714.29UPS, vehicles TOT 2855 ACT 649 BUF 0)          \n",
      "Simulation ended at time: 57600.00\n",
      "Reason: The final simulation step has been reached.\n",
      "Performance: \n",
      " Duration: 15.65s\n",
      " Real time factor: 230.032\n",
      " UPS: 97409.904153\n",
      "Vehicles: \n",
      " Inserted: 2855\n",
      " Running: 649\n",
      " Waiting: 0\n",
      "Statistics (avg of 2206):\n",
      " RouteLength: 4201.99\n",
      " Speed: 11.81\n",
      " Duration: 466.85\n",
      " WaitingTime: 107.20\n",
      " TimeLoss: 162.12\n",
      " DepartDelay: 0.45\n",
      "\n",
      "DijkstraRouter answered 2855 queries and explored 9.08 edges on average.\n",
      "DijkstraRouter spent 0.01s answering queries (0.00ms on average).\n",
      "####### 7 ########\n",
      "##### n=31 #####\n",
      "##### best_value=-0.028929352059278813 #####\n",
      "printing /Users/rodrse/Documents/DemandCalibration/notebooks/od_calibration_sumo_files/quickstart/data/iter_quickstart.current_od.xml\n",
      "### Runing: iter\n",
      "od2trips --no-step-log  --spread.uniform --taz-files /Users/rodrse/Documents/DemandCalibration/notebooks/od_calibration_sumo_files/quickstart/data/quickstart.taz.xml --tazrelation-files /Users/rodrse/Documents/DemandCalibration/notebooks/od_calibration_sumo_files/quickstart/data/iter_quickstart.current_od.xml -o /Users/rodrse/Documents/DemandCalibration/notebooks/od_calibration_sumo_files/quickstart/data/iter_od_trips.trips.xml \n",
      "Success.\n",
      "Loading net-file from '/Users/rodrse/Documents/DemandCalibration/notebooks/od_calibration_sumo_files/quickstart/data/quickstart.net.xml' ... done (7ms).\n",
      "Loading additional-files from '/Users/rodrse/Documents/DemandCalibration/notebooks/od_calibration_sumo_files/quickstart/data/quickstart.additional.xml' ... done (1ms).\n",
      "Loading done.\n",
      "Simulation version 1.16.0 started with time: 54000.00.\n",
      "Step #57600.00 (9ms ~= 111.11*RT, ~90000.00UPS, vehicles TOT 2971 ACT 810 BUF 0)          \n",
      "Simulation ended at time: 57600.00\n",
      "Reason: The final simulation step has been reached.\n",
      "Performance: \n",
      " Duration: 20.05s\n",
      " Real time factor: 179.569\n",
      " UPS: 92823.373903\n",
      "Vehicles: \n",
      " Inserted: 2971\n",
      " Running: 810\n",
      " Waiting: 0\n",
      "Statistics (avg of 2161):\n",
      " RouteLength: 4228.78\n",
      " Speed: 11.40\n",
      " Duration: 509.67\n",
      " WaitingTime: 121.24\n",
      " TimeLoss: 203.01\n",
      " DepartDelay: 0.49\n",
      "\n",
      "DijkstraRouter answered 2971 queries and explored 9.41 edges on average.\n",
      "DijkstraRouter spent 0.02s answering queries (0.01ms on average).\n",
      "####### 8 ########\n",
      "##### n=32 #####\n",
      "##### best_value=-0.028929352059278813 #####\n",
      "printing /Users/rodrse/Documents/DemandCalibration/notebooks/od_calibration_sumo_files/quickstart/data/iter_quickstart.current_od.xml\n",
      "### Runing: iter\n",
      "od2trips --no-step-log  --spread.uniform --taz-files /Users/rodrse/Documents/DemandCalibration/notebooks/od_calibration_sumo_files/quickstart/data/quickstart.taz.xml --tazrelation-files /Users/rodrse/Documents/DemandCalibration/notebooks/od_calibration_sumo_files/quickstart/data/iter_quickstart.current_od.xml -o /Users/rodrse/Documents/DemandCalibration/notebooks/od_calibration_sumo_files/quickstart/data/iter_od_trips.trips.xml \n",
      "Success.\n",
      "Loading net-file from '/Users/rodrse/Documents/DemandCalibration/notebooks/od_calibration_sumo_files/quickstart/data/quickstart.net.xml' ... done (6ms).\n",
      "Loading additional-files from '/Users/rodrse/Documents/DemandCalibration/notebooks/od_calibration_sumo_files/quickstart/data/quickstart.additional.xml' ... done (1ms).\n",
      "Loading done.\n",
      "Simulation version 1.16.0 started with time: 54000.00.\n",
      "Step #57600.00 (11ms ~= 90.91*RT, ~75181.82UPS, vehicles TOT 3037 ACT 827 BUF 0)          \n",
      "Simulation ended at time: 57600.00\n",
      "Reason: The final simulation step has been reached.\n",
      "Performance: \n",
      " Duration: 22.76s\n",
      " Real time factor: 158.186\n",
      " UPS: 81341.374462\n",
      "Vehicles: \n",
      " Inserted: 3037\n",
      " Running: 827\n",
      " Waiting: 0\n",
      "Statistics (avg of 2210):\n",
      " RouteLength: 4204.75\n",
      " Speed: 11.56\n",
      " Duration: 504.68\n",
      " WaitingTime: 124.11\n",
      " TimeLoss: 199.94\n",
      " DepartDelay: 0.49\n",
      "\n",
      "DijkstraRouter answered 3037 queries and explored 9.29 edges on average.\n",
      "DijkstraRouter spent 0.02s answering queries (0.01ms on average).\n",
      "####### 9 ########\n",
      "##### n=33 #####\n",
      "##### best_value=-0.028929352059278813 #####\n",
      "printing /Users/rodrse/Documents/DemandCalibration/notebooks/od_calibration_sumo_files/quickstart/data/iter_quickstart.current_od.xml\n",
      "### Runing: iter\n",
      "od2trips --no-step-log  --spread.uniform --taz-files /Users/rodrse/Documents/DemandCalibration/notebooks/od_calibration_sumo_files/quickstart/data/quickstart.taz.xml --tazrelation-files /Users/rodrse/Documents/DemandCalibration/notebooks/od_calibration_sumo_files/quickstart/data/iter_quickstart.current_od.xml -o /Users/rodrse/Documents/DemandCalibration/notebooks/od_calibration_sumo_files/quickstart/data/iter_od_trips.trips.xml \n",
      "Success.\n",
      "Loading net-file from '/Users/rodrse/Documents/DemandCalibration/notebooks/od_calibration_sumo_files/quickstart/data/quickstart.net.xml' ... done (5ms).\n",
      "Loading additional-files from '/Users/rodrse/Documents/DemandCalibration/notebooks/od_calibration_sumo_files/quickstart/data/quickstart.additional.xml' ... done (1ms).\n",
      "Loading done.\n",
      "Simulation version 1.16.0 started with time: 54000.00.\n",
      "Step #56700.00 (5ms ~= 200.00*RT, ~123000.00UPS, vehicles TOT 2186 ACT 615 BUF 0)         \r"
     ]
    },
    {
     "name": "stderr",
     "output_type": "stream",
     "text": [
      "Warning: Teleporting vehicle '454'; waited too long (wrong lane), lane='L15_0', time=56726.00.\n",
      "Warning: Vehicle '454' ends teleporting on edge 'L18', time=56726.00.\n"
     ]
    },
    {
     "name": "stdout",
     "output_type": "stream",
     "text": [
      "Step #57600.00 (8ms ~= 125.00*RT, ~93000.00UPS, vehicles TOT 2893 ACT 744 BUF 21)         \n",
      "Simulation ended at time: 57600.00\n",
      "Reason: The final simulation step has been reached.\n",
      "Performance: \n",
      " Duration: 16.76s\n",
      " Real time factor: 214.81\n",
      " UPS: 103187.003998\n",
      "Vehicles: \n",
      " Inserted: 2893 (Loaded: 2914)\n",
      " Running: 744\n",
      " Waiting: 21\n",
      " Teleports: 1 (Wrong Lane: 1)\n",
      "Statistics (avg of 2149):\n",
      " RouteLength: 4262.62\n",
      " Speed: 12.02\n",
      " Duration: 435.61\n",
      " WaitingTime: 78.89\n",
      " TimeLoss: 126.83\n",
      " DepartDelay: 0.50\n",
      "\n",
      "DijkstraRouter answered 2914 queries and explored 9.68 edges on average.\n",
      "DijkstraRouter spent 0.01s answering queries (0.00ms on average).\n",
      "####### 10 ########\n",
      "##### n=34 #####\n",
      "##### best_value=-0.028671560613378014 #####\n",
      "printing /Users/rodrse/Documents/DemandCalibration/notebooks/od_calibration_sumo_files/quickstart/data/iter_quickstart.current_od.xml\n",
      "### Runing: iter\n",
      "od2trips --no-step-log  --spread.uniform --taz-files /Users/rodrse/Documents/DemandCalibration/notebooks/od_calibration_sumo_files/quickstart/data/quickstart.taz.xml --tazrelation-files /Users/rodrse/Documents/DemandCalibration/notebooks/od_calibration_sumo_files/quickstart/data/iter_quickstart.current_od.xml -o /Users/rodrse/Documents/DemandCalibration/notebooks/od_calibration_sumo_files/quickstart/data/iter_od_trips.trips.xml \n",
      "Success.\n",
      "Loading net-file from '/Users/rodrse/Documents/DemandCalibration/notebooks/od_calibration_sumo_files/quickstart/data/quickstart.net.xml' ... done (6ms).\n",
      "Loading additional-files from '/Users/rodrse/Documents/DemandCalibration/notebooks/od_calibration_sumo_files/quickstart/data/quickstart.additional.xml' ... done (1ms).\n",
      "Loading done.\n",
      "Simulation version 1.16.0 started with time: 54000.00.\n",
      "Step #57600.00 (8ms ~= 125.00*RT, ~86125.00UPS, vehicles TOT 3074 ACT 689 BUF 0)          \n",
      "Simulation ended at time: 57600.00\n",
      "Reason: The final simulation step has been reached.\n",
      "Performance: \n",
      " Duration: 19.08s\n",
      " Real time factor: 188.669\n",
      " UPS: 92214.139720\n",
      "Vehicles: \n",
      " Inserted: 3074\n",
      " Running: 689\n",
      " Waiting: 0\n",
      "Statistics (avg of 2385):\n",
      " RouteLength: 4235.92\n",
      " Speed: 11.68\n",
      " Duration: 464.20\n",
      " WaitingTime: 94.84\n",
      " TimeLoss: 157.49\n",
      " DepartDelay: 0.46\n",
      "\n",
      "DijkstraRouter answered 3074 queries and explored 9.25 edges on average.\n",
      "DijkstraRouter spent 0.02s answering queries (0.01ms on average).\n",
      "####### 11 ########\n",
      "##### n=35 #####\n",
      "##### best_value=-0.028671560613378014 #####\n",
      "printing /Users/rodrse/Documents/DemandCalibration/notebooks/od_calibration_sumo_files/quickstart/data/iter_quickstart.current_od.xml\n",
      "### Runing: iter\n",
      "od2trips --no-step-log  --spread.uniform --taz-files /Users/rodrse/Documents/DemandCalibration/notebooks/od_calibration_sumo_files/quickstart/data/quickstart.taz.xml --tazrelation-files /Users/rodrse/Documents/DemandCalibration/notebooks/od_calibration_sumo_files/quickstart/data/iter_quickstart.current_od.xml -o /Users/rodrse/Documents/DemandCalibration/notebooks/od_calibration_sumo_files/quickstart/data/iter_od_trips.trips.xml \n",
      "Success.\n",
      "Loading net-file from '/Users/rodrse/Documents/DemandCalibration/notebooks/od_calibration_sumo_files/quickstart/data/quickstart.net.xml' ... done (5ms).\n",
      "Loading additional-files from '/Users/rodrse/Documents/DemandCalibration/notebooks/od_calibration_sumo_files/quickstart/data/quickstart.additional.xml' ... done (1ms).\n",
      "Loading done.\n",
      "Simulation version 1.16.0 started with time: 54000.00.\n",
      "Step #57600.00 (13ms ~= 76.92*RT, ~72538.46UPS, vehicles TOT 3038 ACT 943 BUF 0)          \n",
      "Simulation ended at time: 57600.00\n",
      "Reason: The final simulation step has been reached.\n",
      "Performance: \n",
      " Duration: 25.43s\n",
      " Real time factor: 141.576\n",
      " UPS: 82018.129621\n",
      "Vehicles: \n",
      " Inserted: 3038\n",
      " Running: 943\n",
      " Waiting: 0\n",
      "Statistics (avg of 2095):\n",
      " RouteLength: 4292.88\n",
      " Speed: 10.98\n",
      " Duration: 552.74\n",
      " WaitingTime: 125.24\n",
      " TimeLoss: 241.60\n",
      " DepartDelay: 0.49\n",
      "\n",
      "DijkstraRouter answered 3038 queries and explored 9.85 edges on average.\n",
      "DijkstraRouter spent 0.02s answering queries (0.00ms on average).\n",
      "####### 12 ########\n",
      "##### n=36 #####\n",
      "##### best_value=-0.014260053104548212 #####\n",
      "printing /Users/rodrse/Documents/DemandCalibration/notebooks/od_calibration_sumo_files/quickstart/data/iter_quickstart.current_od.xml\n",
      "### Runing: iter\n",
      "od2trips --no-step-log  --spread.uniform --taz-files /Users/rodrse/Documents/DemandCalibration/notebooks/od_calibration_sumo_files/quickstart/data/quickstart.taz.xml --tazrelation-files /Users/rodrse/Documents/DemandCalibration/notebooks/od_calibration_sumo_files/quickstart/data/iter_quickstart.current_od.xml -o /Users/rodrse/Documents/DemandCalibration/notebooks/od_calibration_sumo_files/quickstart/data/iter_od_trips.trips.xml \n",
      "Success.\n",
      "Loading net-file from '/Users/rodrse/Documents/DemandCalibration/notebooks/od_calibration_sumo_files/quickstart/data/quickstart.net.xml' ... done (7ms).\n",
      "Loading additional-files from '/Users/rodrse/Documents/DemandCalibration/notebooks/od_calibration_sumo_files/quickstart/data/quickstart.additional.xml' ... done (2ms).\n",
      "Loading done.\n",
      "Simulation version 1.16.0 started with time: 54000.00.\n",
      "Step #57600.00 (8ms ~= 125.00*RT, ~100375.00UPS, vehicles TOT 2867 ACT 803 BUF 0)         \n",
      "Simulation ended at time: 57600.00\n",
      "Reason: The final simulation step has been reached.\n",
      "Performance: \n",
      " Duration: 19.91s\n",
      " Real time factor: 180.805\n",
      " UPS: 95072.874291\n",
      "Vehicles: \n",
      " Inserted: 2867\n",
      " Running: 803\n",
      " Waiting: 0\n",
      "Statistics (avg of 2064):\n",
      " RouteLength: 4275.24\n",
      " Speed: 11.01\n",
      " Duration: 548.56\n",
      " WaitingTime: 127.06\n",
      " TimeLoss: 238.54\n",
      " DepartDelay: 0.50\n",
      "\n",
      "DijkstraRouter answered 2867 queries and explored 9.65 edges on average.\n",
      "DijkstraRouter spent 0.01s answering queries (0.00ms on average).\n",
      "####### 13 ########\n",
      "##### n=37 #####\n",
      "##### best_value=-0.014260053104548212 #####\n",
      "printing /Users/rodrse/Documents/DemandCalibration/notebooks/od_calibration_sumo_files/quickstart/data/iter_quickstart.current_od.xml\n",
      "### Runing: iter\n",
      "od2trips --no-step-log  --spread.uniform --taz-files /Users/rodrse/Documents/DemandCalibration/notebooks/od_calibration_sumo_files/quickstart/data/quickstart.taz.xml --tazrelation-files /Users/rodrse/Documents/DemandCalibration/notebooks/od_calibration_sumo_files/quickstart/data/iter_quickstart.current_od.xml -o /Users/rodrse/Documents/DemandCalibration/notebooks/od_calibration_sumo_files/quickstart/data/iter_od_trips.trips.xml \n",
      "Success.\n",
      "Loading net-file from '/Users/rodrse/Documents/DemandCalibration/notebooks/od_calibration_sumo_files/quickstart/data/quickstart.net.xml' ... done (10ms).\n",
      "Loading additional-files from '/Users/rodrse/Documents/DemandCalibration/notebooks/od_calibration_sumo_files/quickstart/data/quickstart.additional.xml' ... done (2ms).\n",
      "Loading done.\n",
      "Simulation version 1.16.0 started with time: 54000.00.\n",
      "Step #56300.00 (9ms ~= 111.11*RT, ~92666.67UPS, vehicles TOT 2023 ACT 834 BUF 0)          \r"
     ]
    },
    {
     "name": "stderr",
     "output_type": "stream",
     "text": [
      "Warning: Teleporting vehicle '345'; waited too long (yield), lane='L15_1', time=56369.00.\n",
      "Warning: Vehicle '345' ends teleporting on edge 'L18', time=56369.00.\n"
     ]
    },
    {
     "name": "stdout",
     "output_type": "stream",
     "text": [
      "Step #56600.00 (15ms ~= 66.67*RT, ~59333.33UPS, vehicles TOT 2286 ACT 890 BUF 0)          \r"
     ]
    },
    {
     "name": "stderr",
     "output_type": "stream",
     "text": [
      "Warning: Teleporting vehicle '61'; waited too long (yield), lane='L15_1', time=56676.00.\n",
      "Warning: Vehicle '61' ends teleporting on edge 'L18', time=56676.00.\n"
     ]
    },
    {
     "name": "stdout",
     "output_type": "stream",
     "text": [
      "Step #57600.00 (10ms ~= 100.00*RT, ~77200.00UPS, vehicles TOT 3049 ACT 772 BUF 118)       \n",
      "Simulation ended at time: 57600.00\n",
      "Reason: The final simulation step has been reached.\n",
      "Performance: \n",
      " Duration: 28.01s\n",
      " Real time factor: 128.526\n",
      " UPS: 83074.330596\n",
      "Vehicles: \n",
      " Inserted: 3049 (Loaded: 3167)\n",
      " Running: 772\n",
      " Waiting: 118\n",
      " Teleports: 2 (Yield: 2)\n",
      "Statistics (avg of 2277):\n",
      " RouteLength: 4397.33\n",
      " Speed: 10.21\n",
      " Duration: 590.14\n",
      " WaitingTime: 89.92\n",
      " TimeLoss: 271.72\n",
      " DepartDelay: 0.49\n",
      "\n",
      "DijkstraRouter answered 3208 queries and explored 10.12 edges on average.\n",
      "DijkstraRouter spent 0.02s answering queries (0.01ms on average).\n",
      "####### 14 ########\n",
      "##### n=38 #####\n",
      "##### best_value=-0.014260053104548212 #####\n",
      "printing /Users/rodrse/Documents/DemandCalibration/notebooks/od_calibration_sumo_files/quickstart/data/iter_quickstart.current_od.xml\n",
      "### Runing: iter\n",
      "od2trips --no-step-log  --spread.uniform --taz-files /Users/rodrse/Documents/DemandCalibration/notebooks/od_calibration_sumo_files/quickstart/data/quickstart.taz.xml --tazrelation-files /Users/rodrse/Documents/DemandCalibration/notebooks/od_calibration_sumo_files/quickstart/data/iter_quickstart.current_od.xml -o /Users/rodrse/Documents/DemandCalibration/notebooks/od_calibration_sumo_files/quickstart/data/iter_od_trips.trips.xml \n",
      "Success.\n",
      "Loading net-file from '/Users/rodrse/Documents/DemandCalibration/notebooks/od_calibration_sumo_files/quickstart/data/quickstart.net.xml' ... done (7ms).\n",
      "Loading additional-files from '/Users/rodrse/Documents/DemandCalibration/notebooks/od_calibration_sumo_files/quickstart/data/quickstart.additional.xml' ... done (1ms).\n",
      "Loading done.\n",
      "Simulation version 1.16.0 started with time: 54000.00.\n",
      "Step #56800.00 (8ms ~= 125.00*RT, ~104500.00UPS, vehicles TOT 2464 ACT 836 BUF 0)         \r"
     ]
    },
    {
     "name": "stderr",
     "output_type": "stream",
     "text": [
      "Warning: Teleporting vehicle '610'; waited too long (wrong lane), lane='L12_2', time=56864.00.\n",
      "Warning: Teleporting vehicle '468'; waited too long (wrong lane), lane='L15_0', time=56895.00.\n",
      "Warning: Vehicle '468' ends teleporting on edge 'L18', time=56895.00.\n"
     ]
    },
    {
     "name": "stdout",
     "output_type": "stream",
     "text": [
      "Step #56900.00 (10ms ~= 100.00*RT, ~87700.00UPS, vehicles TOT 2553 ACT 877 BUF 0)         \r"
     ]
    },
    {
     "name": "stderr",
     "output_type": "stream",
     "text": [
      "Warning: Teleporting vehicle '613'; waited too long (wrong lane), lane='L12_2', time=56961.00.\n",
      "Warning: Vehicle '610' ends teleporting on edge 'L15', time=56972.00.\n",
      "Warning: Teleporting vehicle '511'; waited too long (jam), lane='L2_0', time=56975.00.\n",
      "Warning: Vehicle '511' ends teleporting on edge 'L12', time=56975.00.\n"
     ]
    },
    {
     "name": "stdout",
     "output_type": "stream",
     "text": [
      "Step #57000.00 (9ms ~= 111.11*RT, ~98777.78UPS, vehicles TOT 2614 ACT 889 BUF 26)         \r"
     ]
    },
    {
     "name": "stderr",
     "output_type": "stream",
     "text": [
      "Warning: Vehicle '613' ends teleporting on edge 'L15', time=57004.00.\n",
      "Warning: Teleporting vehicle '673'; waited too long (jam), lane='L2_1', time=57030.00.\n",
      "Warning: Vehicle '673' ends teleporting on edge 'L12', time=57030.00.\n",
      "Warning: Teleporting vehicle '1632'; waited too long (jam), lane='D2_1', time=57153.00.\n"
     ]
    },
    {
     "name": "stdout",
     "output_type": "stream",
     "text": [
      "Step #57200.00 (12ms ~= 83.33*RT, ~72000.00UPS, vehicles TOT 2690 ACT 864 BUF 126)        \r"
     ]
    },
    {
     "name": "stderr",
     "output_type": "stream",
     "text": [
      "Warning: Teleporting vehicle '624'; waited too long (wrong lane), lane='L12_2', time=57269.00.\n",
      "Warning: Vehicle '624' ends teleporting on edge 'L15', time=57269.00.\n"
     ]
    },
    {
     "name": "stdout",
     "output_type": "stream",
     "text": [
      "Step #57300.00 (9ms ~= 111.11*RT, ~95555.56UPS, vehicles TOT 2727 ACT 860 BUF 178)        \r"
     ]
    },
    {
     "name": "stderr",
     "output_type": "stream",
     "text": [
      "Warning: Teleporting vehicle '674'; waited too long (jam), lane='L2_1', time=57332.00.\n",
      "Warning: Vehicle '674' ends teleporting on edge 'L12', time=57332.00.\n",
      "Warning: Vehicle '1632' ends teleporting on edge 'L2', time=57332.00.\n",
      "Warning: Teleporting vehicle '627'; waited too long (wrong lane), lane='L12_2', time=57363.00.\n",
      "Warning: Vehicle '627' ends teleporting on edge 'L15', time=57363.00.\n",
      "Warning: Teleporting vehicle '579'; waited too long (jam), lane='D2_0', time=57375.00.\n"
     ]
    },
    {
     "name": "stdout",
     "output_type": "stream",
     "text": [
      "Step #57400.00 (11ms ~= 90.91*RT, ~76909.09UPS, vehicles TOT 2764 ACT 846 BUF 228)        \r"
     ]
    },
    {
     "name": "stderr",
     "output_type": "stream",
     "text": [
      "Warning: Teleporting vehicle '1633'; waited too long (jam), lane='D2_1', time=57460.00.\n"
     ]
    },
    {
     "name": "stdout",
     "output_type": "stream",
     "text": [
      "Step #57500.00 (12ms ~= 83.33*RT, ~70333.33UPS, vehicles TOT 2801 ACT 844 BUF 280)        \r"
     ]
    },
    {
     "name": "stderr",
     "output_type": "stream",
     "text": [
      "Warning: Teleporting vehicle '513'; waited too long (jam), lane='L2_0', time=57566.00.\n",
      "Warning: Vehicle '513' ends teleporting on edge 'L12', time=57566.00.\n"
     ]
    },
    {
     "name": "stdout",
     "output_type": "stream",
     "text": [
      "Step #57600.00 (10ms ~= 100.00*RT, ~83100.00UPS, vehicles TOT 2838 ACT 831 BUF 330)       \n",
      "Simulation ended at time: 57600.00\n",
      "Reason: The final simulation step has been reached.\n",
      "Performance: \n",
      " Duration: 24.14s\n",
      " Real time factor: 149.161\n",
      " UPS: 86784.379532\n",
      "Vehicles: \n",
      " Inserted: 2838 (Loaded: 3168)\n",
      " Running: 831\n",
      " Waiting: 330\n",
      " Teleports: 12 (Jam: 7, Wrong Lane: 5)\n",
      "Statistics (avg of 2007):\n",
      " RouteLength: 4309.72\n",
      " Speed: 12.23\n",
      " Duration: 444.54\n",
      " WaitingTime: 88.94\n",
      " TimeLoss: 132.32\n",
      " DepartDelay: 0.47\n",
      "\n",
      "DijkstraRouter answered 3169 queries and explored 10.14 edges on average.\n",
      "DijkstraRouter spent 0.01s answering queries (0.00ms on average).\n",
      "####### 15 ########\n",
      "##### n=39 #####\n",
      "##### best_value=-0.014260053104548212 #####\n",
      "printing /Users/rodrse/Documents/DemandCalibration/notebooks/od_calibration_sumo_files/quickstart/data/iter_quickstart.current_od.xml\n",
      "### Runing: iter\n",
      "od2trips --no-step-log  --spread.uniform --taz-files /Users/rodrse/Documents/DemandCalibration/notebooks/od_calibration_sumo_files/quickstart/data/quickstart.taz.xml --tazrelation-files /Users/rodrse/Documents/DemandCalibration/notebooks/od_calibration_sumo_files/quickstart/data/iter_quickstart.current_od.xml -o /Users/rodrse/Documents/DemandCalibration/notebooks/od_calibration_sumo_files/quickstart/data/iter_od_trips.trips.xml \n",
      "Success.\n",
      "Loading net-file from '/Users/rodrse/Documents/DemandCalibration/notebooks/od_calibration_sumo_files/quickstart/data/quickstart.net.xml' ... done (7ms).\n",
      "Loading additional-files from '/Users/rodrse/Documents/DemandCalibration/notebooks/od_calibration_sumo_files/quickstart/data/quickstart.additional.xml' ... done (1ms).\n",
      "Loading done.\n",
      "Simulation version 1.16.0 started with time: 54000.00.\n",
      "Step #57600.00 (12ms ~= 83.33*RT, ~60333.33UPS, vehicles TOT 2772 ACT 724 BUF 0)          \n",
      "Simulation ended at time: 57600.00\n",
      "Reason: The final simulation step has been reached.\n",
      "Performance: \n",
      " Duration: 19.66s\n",
      " Real time factor: 183.076\n",
      " UPS: 82161.818552\n",
      "Vehicles: \n",
      " Inserted: 2772\n",
      " Running: 724\n",
      " Waiting: 0\n",
      "Statistics (avg of 2048):\n",
      " RouteLength: 4233.38\n",
      " Speed: 11.55\n",
      " Duration: 488.24\n",
      " WaitingTime: 119.01\n",
      " TimeLoss: 181.02\n",
      " DepartDelay: 0.49\n",
      "\n",
      "DijkstraRouter answered 2772 queries and explored 9.36 edges on average.\n",
      "DijkstraRouter spent 0.03s answering queries (0.01ms on average).\n",
      "####### 16 ########\n",
      "##### n=40 #####\n",
      "##### best_value=-0.014260053104548212 #####\n",
      "printing /Users/rodrse/Documents/DemandCalibration/notebooks/od_calibration_sumo_files/quickstart/data/iter_quickstart.current_od.xml\n",
      "### Runing: iter\n",
      "od2trips --no-step-log  --spread.uniform --taz-files /Users/rodrse/Documents/DemandCalibration/notebooks/od_calibration_sumo_files/quickstart/data/quickstart.taz.xml --tazrelation-files /Users/rodrse/Documents/DemandCalibration/notebooks/od_calibration_sumo_files/quickstart/data/iter_quickstart.current_od.xml -o /Users/rodrse/Documents/DemandCalibration/notebooks/od_calibration_sumo_files/quickstart/data/iter_od_trips.trips.xml \n",
      "Success.\n",
      "Loading net-file from '/Users/rodrse/Documents/DemandCalibration/notebooks/od_calibration_sumo_files/quickstart/data/quickstart.net.xml' ... done (10ms).\n",
      "Loading additional-files from '/Users/rodrse/Documents/DemandCalibration/notebooks/od_calibration_sumo_files/quickstart/data/quickstart.additional.xml' ... done (1ms).\n",
      "Loading done.\n",
      "Simulation version 1.16.0 started with time: 54000.00.\n",
      "Step #57600.00 (19ms ~= 52.63*RT, ~43842.11UPS, vehicles TOT 2968 ACT 833 BUF 0)          \n",
      "Simulation ended at time: 57600.00\n",
      "Reason: The final simulation step has been reached.\n",
      "Performance: \n",
      " Duration: 25.60s\n",
      " Real time factor: 140.62\n",
      " UPS: 74048.044998\n",
      "Vehicles: \n",
      " Inserted: 2968\n",
      " Running: 833\n",
      " Waiting: 0\n",
      "Statistics (avg of 2135):\n",
      " RouteLength: 4243.08\n",
      " Speed: 11.20\n",
      " Duration: 550.19\n",
      " WaitingTime: 149.39\n",
      " TimeLoss: 242.94\n",
      " DepartDelay: 0.50\n",
      "\n",
      "DijkstraRouter answered 2968 queries and explored 9.47 edges on average.\n",
      "DijkstraRouter spent 0.03s answering queries (0.01ms on average).\n",
      "####### 17 ########\n",
      "##### n=41 #####\n",
      "##### best_value=-0.014260053104548212 #####\n",
      "printing /Users/rodrse/Documents/DemandCalibration/notebooks/od_calibration_sumo_files/quickstart/data/iter_quickstart.current_od.xml\n",
      "### Runing: iter\n",
      "od2trips --no-step-log  --spread.uniform --taz-files /Users/rodrse/Documents/DemandCalibration/notebooks/od_calibration_sumo_files/quickstart/data/quickstart.taz.xml --tazrelation-files /Users/rodrse/Documents/DemandCalibration/notebooks/od_calibration_sumo_files/quickstart/data/iter_quickstart.current_od.xml -o /Users/rodrse/Documents/DemandCalibration/notebooks/od_calibration_sumo_files/quickstart/data/iter_od_trips.trips.xml \n",
      "Success.\n",
      "Loading net-file from '/Users/rodrse/Documents/DemandCalibration/notebooks/od_calibration_sumo_files/quickstart/data/quickstart.net.xml' ... done (7ms).\n",
      "Loading additional-files from '/Users/rodrse/Documents/DemandCalibration/notebooks/od_calibration_sumo_files/quickstart/data/quickstart.additional.xml' ... done (2ms).\n",
      "Loading done.\n",
      "Simulation version 1.16.0 started with time: 54000.00.\n",
      "Step #57500.00 (10ms ~= 100.00*RT, ~93000.00UPS, vehicles TOT 2946 ACT 930 BUF 79)        \r"
     ]
    },
    {
     "name": "stderr",
     "output_type": "stream",
     "text": [
      "Warning: Teleporting vehicle '2979'; waited too long (jam), lane=':2_3_0', time=57529.00.\n",
      "Warning: Vehicle '2979' ends teleporting on edge 'L14', time=57529.00.\n",
      "Warning: Teleporting vehicle '2980'; waited too long (jam), lane='L4_0', time=57530.00.\n",
      "Warning: Vehicle '2980' ends teleporting on edge 'L14', time=57530.00.\n",
      "Warning: Teleporting vehicle '2991'; waited too long (jam), lane='L4_0', time=57583.00.\n",
      "Warning: Vehicle '2991' ends teleporting on edge 'L14', time=57583.00.\n"
     ]
    },
    {
     "name": "stdout",
     "output_type": "stream",
     "text": [
      "Step #57600.00 (10ms ~= 100.00*RT, ~92500.00UPS, vehicles TOT 3011 ACT 925 BUF 100)       \n",
      "Simulation ended at time: 57600.00\n",
      "Reason: The final simulation step has been reached.\n",
      "Performance: \n",
      " Duration: 27.40s\n",
      " Real time factor: 131.368\n",
      " UPS: 81231.572033\n",
      "Vehicles: \n",
      " Inserted: 3011 (Loaded: 3111)\n",
      " Running: 925\n",
      " Waiting: 100\n",
      " Teleports: 3 (Jam: 3)\n",
      "Statistics (avg of 2086):\n",
      " RouteLength: 4285.23\n",
      " Speed: 10.56\n",
      " Duration: 632.22\n",
      " WaitingTime: 185.44\n",
      " TimeLoss: 321.74\n",
      " DepartDelay: 0.48\n",
      "\n",
      "DijkstraRouter answered 3218 queries and explored 9.76 edges on average.\n",
      "DijkstraRouter spent 0.02s answering queries (0.00ms on average).\n",
      "####### 18 ########\n",
      "##### n=42 #####\n",
      "##### best_value=-0.014260053104548212 #####\n",
      "printing /Users/rodrse/Documents/DemandCalibration/notebooks/od_calibration_sumo_files/quickstart/data/iter_quickstart.current_od.xml\n",
      "### Runing: iter\n",
      "od2trips --no-step-log  --spread.uniform --taz-files /Users/rodrse/Documents/DemandCalibration/notebooks/od_calibration_sumo_files/quickstart/data/quickstart.taz.xml --tazrelation-files /Users/rodrse/Documents/DemandCalibration/notebooks/od_calibration_sumo_files/quickstart/data/iter_quickstart.current_od.xml -o /Users/rodrse/Documents/DemandCalibration/notebooks/od_calibration_sumo_files/quickstart/data/iter_od_trips.trips.xml \n",
      "Success.\n",
      "Loading net-file from '/Users/rodrse/Documents/DemandCalibration/notebooks/od_calibration_sumo_files/quickstart/data/quickstart.net.xml' ... done (5ms).\n",
      "Loading additional-files from '/Users/rodrse/Documents/DemandCalibration/notebooks/od_calibration_sumo_files/quickstart/data/quickstart.additional.xml' ... done (0ms).\n",
      "Loading done.\n",
      "Simulation version 1.16.0 started with time: 54000.00.\n",
      "Step #57600.00 (5ms ~= 200.00*RT, ~100600.00UPS, vehicles TOT 2577 ACT 503 BUF 0)         \n",
      "Simulation ended at time: 57600.00\n",
      "Reason: The final simulation step has been reached.\n",
      "Performance: \n",
      " Duration: 12.45s\n",
      " Real time factor: 289.11\n",
      " UPS: 102263.009958\n",
      "Vehicles: \n",
      " Inserted: 2577\n",
      " Running: 503\n",
      " Waiting: 0\n",
      "Statistics (avg of 2074):\n",
      " RouteLength: 4283.85\n",
      " Speed: 12.09\n",
      " Duration: 420.99\n",
      " WaitingTime: 72.25\n",
      " TimeLoss: 110.04\n",
      " DepartDelay: 0.49\n",
      "\n",
      "DijkstraRouter answered 2577 queries and explored 9.33 edges on average.\n",
      "DijkstraRouter spent 0.01s answering queries (0.00ms on average).\n",
      "####### 19 ########\n",
      "##### n=43 #####\n",
      "##### best_value=-0.014260053104548212 #####\n",
      "printing /Users/rodrse/Documents/DemandCalibration/notebooks/od_calibration_sumo_files/quickstart/data/iter_quickstart.current_od.xml\n",
      "### Runing: iter\n",
      "od2trips --no-step-log  --spread.uniform --taz-files /Users/rodrse/Documents/DemandCalibration/notebooks/od_calibration_sumo_files/quickstart/data/quickstart.taz.xml --tazrelation-files /Users/rodrse/Documents/DemandCalibration/notebooks/od_calibration_sumo_files/quickstart/data/iter_quickstart.current_od.xml -o /Users/rodrse/Documents/DemandCalibration/notebooks/od_calibration_sumo_files/quickstart/data/iter_od_trips.trips.xml \n",
      "Success.\n",
      "Loading net-file from '/Users/rodrse/Documents/DemandCalibration/notebooks/od_calibration_sumo_files/quickstart/data/quickstart.net.xml' ... done (6ms).\n",
      "Loading additional-files from '/Users/rodrse/Documents/DemandCalibration/notebooks/od_calibration_sumo_files/quickstart/data/quickstart.additional.xml' ... done (1ms).\n",
      "Loading done.\n",
      "Simulation version 1.16.0 started with time: 54000.00.\n",
      "Step #57600.00 (7ms ~= 142.86*RT, ~95000.00UPS, vehicles TOT 2666 ACT 665 BUF 0)          \n",
      "Simulation ended at time: 57600.00\n",
      "Reason: The final simulation step has been reached.\n",
      "Performance: \n",
      " Duration: 14.63s\n",
      " Real time factor: 246.154\n",
      " UPS: 102806.290598\n",
      "Vehicles: \n",
      " Inserted: 2666\n",
      " Running: 665\n",
      " Waiting: 0\n",
      "Statistics (avg of 2001):\n",
      " RouteLength: 4266.14\n",
      " Speed: 11.51\n",
      " Duration: 483.53\n",
      " WaitingTime: 113.71\n",
      " TimeLoss: 173.61\n",
      " DepartDelay: 0.49\n",
      "\n",
      "DijkstraRouter answered 2666 queries and explored 9.46 edges on average.\n",
      "DijkstraRouter spent 0.01s answering queries (0.00ms on average).\n",
      "####### 20 ########\n",
      "##### n=44 #####\n",
      "##### best_value=-0.014260053104548212 #####\n",
      "printing /Users/rodrse/Documents/DemandCalibration/notebooks/od_calibration_sumo_files/quickstart/data/iter_quickstart.current_od.xml\n",
      "### Runing: iter\n",
      "od2trips --no-step-log  --spread.uniform --taz-files /Users/rodrse/Documents/DemandCalibration/notebooks/od_calibration_sumo_files/quickstart/data/quickstart.taz.xml --tazrelation-files /Users/rodrse/Documents/DemandCalibration/notebooks/od_calibration_sumo_files/quickstart/data/iter_quickstart.current_od.xml -o /Users/rodrse/Documents/DemandCalibration/notebooks/od_calibration_sumo_files/quickstart/data/iter_od_trips.trips.xml \n",
      "Success.\n",
      "Loading net-file from '/Users/rodrse/Documents/DemandCalibration/notebooks/od_calibration_sumo_files/quickstart/data/quickstart.net.xml' ... done (6ms).\n",
      "Loading additional-files from '/Users/rodrse/Documents/DemandCalibration/notebooks/od_calibration_sumo_files/quickstart/data/quickstart.additional.xml' ... done (1ms).\n",
      "Loading done.\n",
      "Simulation version 1.16.0 started with time: 54000.00.\n",
      "Step #57600.00 (7ms ~= 142.86*RT, ~94000.00UPS, vehicles TOT 2821 ACT 658 BUF 0)          \n",
      "Simulation ended at time: 57600.00\n",
      "Reason: The final simulation step has been reached.\n",
      "Performance: \n",
      " Duration: 15.50s\n",
      " Real time factor: 232.213\n",
      " UPS: 103807.069599\n",
      "Vehicles: \n",
      " Inserted: 2821\n",
      " Running: 658\n",
      " Waiting: 0\n",
      "Statistics (avg of 2163):\n",
      " RouteLength: 4253.69\n",
      " Speed: 11.74\n",
      " Duration: 451.08\n",
      " WaitingTime: 88.01\n",
      " TimeLoss: 142.33\n",
      " DepartDelay: 0.50\n",
      "\n",
      "DijkstraRouter answered 2821 queries and explored 9.36 edges on average.\n",
      "DijkstraRouter spent 0.01s answering queries (0.00ms on average).\n",
      "####### 21 ########\n",
      "##### n=45 #####\n",
      "##### best_value=-0.014260053104548212 #####\n",
      "printing /Users/rodrse/Documents/DemandCalibration/notebooks/od_calibration_sumo_files/quickstart/data/iter_quickstart.current_od.xml\n",
      "### Runing: iter\n",
      "od2trips --no-step-log  --spread.uniform --taz-files /Users/rodrse/Documents/DemandCalibration/notebooks/od_calibration_sumo_files/quickstart/data/quickstart.taz.xml --tazrelation-files /Users/rodrse/Documents/DemandCalibration/notebooks/od_calibration_sumo_files/quickstart/data/iter_quickstart.current_od.xml -o /Users/rodrse/Documents/DemandCalibration/notebooks/od_calibration_sumo_files/quickstart/data/iter_od_trips.trips.xml \n",
      "Success.\n",
      "Loading net-file from '/Users/rodrse/Documents/DemandCalibration/notebooks/od_calibration_sumo_files/quickstart/data/quickstart.net.xml' ... done (5ms).\n",
      "Loading additional-files from '/Users/rodrse/Documents/DemandCalibration/notebooks/od_calibration_sumo_files/quickstart/data/quickstart.additional.xml' ... done (1ms).\n",
      "Loading done.\n",
      "Simulation version 1.16.0 started with time: 54000.00.\n",
      "Step #57600.00 (11ms ~= 90.91*RT, ~73545.45UPS, vehicles TOT 2889 ACT 809 BUF 0)          \n",
      "Simulation ended at time: 57600.00\n",
      "Reason: The final simulation step has been reached.\n",
      "Performance: \n",
      " Duration: 20.32s\n",
      " Real time factor: 177.174\n",
      " UPS: 93183.621241\n",
      "Vehicles: \n",
      " Inserted: 2889\n",
      " Running: 809\n",
      " Waiting: 0\n",
      "Statistics (avg of 2080):\n",
      " RouteLength: 4265.76\n",
      " Speed: 10.99\n",
      " Duration: 576.70\n",
      " WaitingTime: 163.05\n",
      " TimeLoss: 267.59\n",
      " DepartDelay: 0.49\n",
      "\n",
      "DijkstraRouter answered 2889 queries and explored 9.60 edges on average.\n",
      "DijkstraRouter spent 0.02s answering queries (0.01ms on average).\n",
      "####### 22 ########\n",
      "##### n=46 #####\n",
      "##### best_value=-0.014260053104548212 #####\n",
      "printing /Users/rodrse/Documents/DemandCalibration/notebooks/od_calibration_sumo_files/quickstart/data/iter_quickstart.current_od.xml\n",
      "### Runing: iter\n",
      "od2trips --no-step-log  --spread.uniform --taz-files /Users/rodrse/Documents/DemandCalibration/notebooks/od_calibration_sumo_files/quickstart/data/quickstart.taz.xml --tazrelation-files /Users/rodrse/Documents/DemandCalibration/notebooks/od_calibration_sumo_files/quickstart/data/iter_quickstart.current_od.xml -o /Users/rodrse/Documents/DemandCalibration/notebooks/od_calibration_sumo_files/quickstart/data/iter_od_trips.trips.xml \n",
      "Success.\n",
      "Loading net-file from '/Users/rodrse/Documents/DemandCalibration/notebooks/od_calibration_sumo_files/quickstart/data/quickstart.net.xml' ... done (6ms).\n",
      "Loading additional-files from '/Users/rodrse/Documents/DemandCalibration/notebooks/od_calibration_sumo_files/quickstart/data/quickstart.additional.xml' ... done (1ms).\n",
      "Loading done.\n",
      "Simulation version 1.16.0 started with time: 54000.00.\n",
      "Step #57600.00 (10ms ~= 100.00*RT, ~84900.00UPS, vehicles TOT 2932 ACT 849 BUF 0)         \n",
      "Simulation ended at time: 57600.00\n",
      "Reason: The final simulation step has been reached.\n",
      "Performance: \n",
      " Duration: 19.98s\n",
      " Real time factor: 180.207\n",
      " UPS: 94476.397858\n",
      "Vehicles: \n",
      " Inserted: 2932\n",
      " Running: 849\n",
      " Waiting: 0\n",
      "Statistics (avg of 2083):\n",
      " RouteLength: 4258.33\n",
      " Speed: 11.15\n",
      " Duration: 547.43\n",
      " WaitingTime: 138.74\n",
      " TimeLoss: 239.34\n",
      " DepartDelay: 0.50\n",
      "\n",
      "DijkstraRouter answered 2932 queries and explored 9.60 edges on average.\n",
      "DijkstraRouter spent 0.01s answering queries (0.00ms on average).\n",
      "####### 23 ########\n",
      "##### n=47 #####\n",
      "##### best_value=-0.014260053104548212 #####\n",
      "printing /Users/rodrse/Documents/DemandCalibration/notebooks/od_calibration_sumo_files/quickstart/data/iter_quickstart.current_od.xml\n",
      "### Runing: iter\n",
      "od2trips --no-step-log  --spread.uniform --taz-files /Users/rodrse/Documents/DemandCalibration/notebooks/od_calibration_sumo_files/quickstart/data/quickstart.taz.xml --tazrelation-files /Users/rodrse/Documents/DemandCalibration/notebooks/od_calibration_sumo_files/quickstart/data/iter_quickstart.current_od.xml -o /Users/rodrse/Documents/DemandCalibration/notebooks/od_calibration_sumo_files/quickstart/data/iter_od_trips.trips.xml \n",
      "Success.\n",
      "Loading net-file from '/Users/rodrse/Documents/DemandCalibration/notebooks/od_calibration_sumo_files/quickstart/data/quickstart.net.xml' ... done (6ms).\n",
      "Loading additional-files from '/Users/rodrse/Documents/DemandCalibration/notebooks/od_calibration_sumo_files/quickstart/data/quickstart.additional.xml' ... done (1ms).\n",
      "Loading done.\n",
      "Simulation version 1.16.0 started with time: 54000.00.\n",
      "Step #57600.00 (11ms ~= 90.91*RT, ~76272.73UPS, vehicles TOT 2972 ACT 839 BUF 124)        \n",
      "Simulation ended at time: 57600.00\n",
      "Reason: The final simulation step has been reached.\n",
      "Performance: \n",
      " Duration: 23.99s\n",
      " Real time factor: 150.088\n",
      " UPS: 87662.928375\n",
      "Vehicles: \n",
      " Inserted: 2972 (Loaded: 3096)\n",
      " Running: 839\n",
      " Waiting: 124\n",
      "Statistics (avg of 2133):\n",
      " RouteLength: 4255.72\n",
      " Speed: 10.91\n",
      " Duration: 584.41\n",
      " WaitingTime: 160.55\n",
      " TimeLoss: 276.02\n",
      " DepartDelay: 0.69\n",
      "\n",
      "DijkstraRouter answered 3234 queries and explored 9.58 edges on average.\n",
      "DijkstraRouter spent 0.01s answering queries (0.00ms on average).\n",
      "####### 24 ########\n",
      "##### n=48 #####\n",
      "##### best_value=-0.014260053104548212 #####\n",
      "printing /Users/rodrse/Documents/DemandCalibration/notebooks/od_calibration_sumo_files/quickstart/data/iter_quickstart.current_od.xml\n",
      "### Runing: iter\n",
      "od2trips --no-step-log  --spread.uniform --taz-files /Users/rodrse/Documents/DemandCalibration/notebooks/od_calibration_sumo_files/quickstart/data/quickstart.taz.xml --tazrelation-files /Users/rodrse/Documents/DemandCalibration/notebooks/od_calibration_sumo_files/quickstart/data/iter_quickstart.current_od.xml -o /Users/rodrse/Documents/DemandCalibration/notebooks/od_calibration_sumo_files/quickstart/data/iter_od_trips.trips.xml \n",
      "Success.\n",
      "Loading net-file from '/Users/rodrse/Documents/DemandCalibration/notebooks/od_calibration_sumo_files/quickstart/data/quickstart.net.xml' ... done (5ms).\n",
      "Loading additional-files from '/Users/rodrse/Documents/DemandCalibration/notebooks/od_calibration_sumo_files/quickstart/data/quickstart.additional.xml' ... done (1ms).\n",
      "Loading done.\n",
      "Simulation version 1.16.0 started with time: 54000.00.\n",
      "Step #57400.00 (7ms ~= 142.86*RT, ~107428.57UPS, vehicles TOT 2822 ACT 752 BUF 0)         \r"
     ]
    },
    {
     "name": "stderr",
     "output_type": "stream",
     "text": [
      "Warning: Teleporting vehicle '469'; waited too long (wrong lane), lane='L15_0', time=57416.00.\n",
      "Warning: Vehicle '469' ends teleporting on edge 'L18', time=57416.00.\n",
      "Warning: Teleporting vehicle '479'; waited too long (wrong lane), lane='L15_0', time=57434.00.\n",
      "Warning: Vehicle '479' ends teleporting on edge 'L18', time=57434.00.\n",
      "Warning: Teleporting vehicle '434'; waited too long (wrong lane), lane='L15_0', time=57492.00.\n",
      "Warning: Vehicle '434' ends teleporting on edge 'L18', time=57492.00.\n",
      "Warning: Teleporting vehicle '437'; waited too long (wrong lane), lane='L15_0', time=57493.00.\n",
      "Warning: Vehicle '437' ends teleporting on edge 'L18', time=57493.00.\n",
      "Warning: Teleporting vehicle '447'; waited too long (wrong lane), lane='L15_0', time=57494.00.\n",
      "Warning: Vehicle '447' ends teleporting on edge 'L18', time=57494.00.\n",
      "Warning: Teleporting vehicle '487'; waited too long (wrong lane), lane='L15_0', time=57495.00.\n",
      "Warning: Vehicle '487' ends teleporting on edge 'L18', time=57495.00.\n",
      "Warning: Teleporting vehicle '453'; waited too long (wrong lane), lane='L15_0', time=57496.00.\n",
      "Warning: Vehicle '453' ends teleporting on edge 'L18', time=57496.00.\n",
      "Warning: Teleporting vehicle '498'; waited too long (wrong lane), lane='L15_0', time=57497.00.\n",
      "Warning: Vehicle '498' ends teleporting on edge 'L18', time=57497.00.\n"
     ]
    },
    {
     "name": "stdout",
     "output_type": "stream",
     "text": [
      "Step #57500.00 (9ms ~= 111.11*RT, ~86777.78UPS, vehicles TOT 2904 ACT 781 BUF 0)          \r"
     ]
    },
    {
     "name": "stderr",
     "output_type": "stream",
     "text": [
      "Warning: Teleporting vehicle '486'; waited too long (wrong lane), lane='L15_0', time=57573.00.\n",
      "Warning: Vehicle '486' ends teleporting on edge 'L18', time=57573.00.\n",
      "Warning: Teleporting vehicle '489'; waited too long (wrong lane), lane='L15_0', time=57574.00.\n",
      "Warning: Vehicle '489' ends teleporting on edge 'L18', time=57574.00.\n"
     ]
    },
    {
     "name": "stdout",
     "output_type": "stream",
     "text": [
      "Step #57600.00 (10ms ~= 100.00*RT, ~82200.00UPS, vehicles TOT 2987 ACT 822 BUF 0)         \n",
      "Simulation ended at time: 57600.00\n",
      "Reason: The final simulation step has been reached.\n",
      "Performance: \n",
      " Duration: 19.19s\n",
      " Real time factor: 187.568\n",
      " UPS: 97724.899703\n",
      "Vehicles: \n",
      " Inserted: 2987\n",
      " Running: 822\n",
      " Waiting: 0\n",
      " Teleports: 10 (Wrong Lane: 10)\n",
      "Statistics (avg of 2165):\n",
      " RouteLength: 4312.47\n",
      " Speed: 11.79\n",
      " Duration: 455.44\n",
      " WaitingTime: 88.64\n",
      " TimeLoss: 142.73\n",
      " DepartDelay: 0.49\n",
      "\n",
      "DijkstraRouter answered 2987 queries and explored 9.87 edges on average.\n",
      "DijkstraRouter spent 0.01s answering queries (0.00ms on average).\n",
      "####### 25 ########\n",
      "##### n=49 #####\n",
      "##### best_value=-0.014260053104548212 #####\n",
      "printing /Users/rodrse/Documents/DemandCalibration/notebooks/od_calibration_sumo_files/quickstart/data/iter_quickstart.current_od.xml\n",
      "### Runing: iter\n",
      "od2trips --no-step-log  --spread.uniform --taz-files /Users/rodrse/Documents/DemandCalibration/notebooks/od_calibration_sumo_files/quickstart/data/quickstart.taz.xml --tazrelation-files /Users/rodrse/Documents/DemandCalibration/notebooks/od_calibration_sumo_files/quickstart/data/iter_quickstart.current_od.xml -o /Users/rodrse/Documents/DemandCalibration/notebooks/od_calibration_sumo_files/quickstart/data/iter_od_trips.trips.xml \n",
      "Success.\n",
      "Loading net-file from '/Users/rodrse/Documents/DemandCalibration/notebooks/od_calibration_sumo_files/quickstart/data/quickstart.net.xml' ... done (7ms).\n",
      "Loading additional-files from '/Users/rodrse/Documents/DemandCalibration/notebooks/od_calibration_sumo_files/quickstart/data/quickstart.additional.xml' ... done (1ms).\n",
      "Loading done.\n",
      "Simulation version 1.16.0 started with time: 54000.00.\n",
      "Step #57600.00 (4ms ~= 250.00*RT, ~137250.00UPS, vehicles TOT 2610 ACT 549 BUF 0)         \n",
      "Simulation ended at time: 57600.00\n",
      "Reason: The final simulation step has been reached.\n",
      "Performance: \n",
      " Duration: 10.92s\n",
      " Real time factor: 329.61\n",
      " UPS: 118878.044314\n",
      "Vehicles: \n",
      " Inserted: 2610\n",
      " Running: 549\n",
      " Waiting: 0\n",
      "Statistics (avg of 2061):\n",
      " RouteLength: 4211.64\n",
      " Speed: 11.85\n",
      " Duration: 447.44\n",
      " WaitingTime: 95.75\n",
      " TimeLoss: 142.25\n",
      " DepartDelay: 0.45\n",
      "\n",
      "DijkstraRouter answered 2610 queries and explored 9.03 edges on average.\n",
      "DijkstraRouter spent 0.01s answering queries (0.00ms on average).\n",
      "####### 26 ########\n",
      "##### n=50 #####\n",
      "##### best_value=-0.014260053104548212 #####\n",
      "printing /Users/rodrse/Documents/DemandCalibration/notebooks/od_calibration_sumo_files/quickstart/data/iter_quickstart.current_od.xml\n",
      "### Runing: iter\n",
      "od2trips --no-step-log  --spread.uniform --taz-files /Users/rodrse/Documents/DemandCalibration/notebooks/od_calibration_sumo_files/quickstart/data/quickstart.taz.xml --tazrelation-files /Users/rodrse/Documents/DemandCalibration/notebooks/od_calibration_sumo_files/quickstart/data/iter_quickstart.current_od.xml -o /Users/rodrse/Documents/DemandCalibration/notebooks/od_calibration_sumo_files/quickstart/data/iter_od_trips.trips.xml \n",
      "Success.\n",
      "Loading net-file from '/Users/rodrse/Documents/DemandCalibration/notebooks/od_calibration_sumo_files/quickstart/data/quickstart.net.xml' ... done (5ms).\n",
      "Loading additional-files from '/Users/rodrse/Documents/DemandCalibration/notebooks/od_calibration_sumo_files/quickstart/data/quickstart.additional.xml' ... done (1ms).\n",
      "Loading done.\n",
      "Simulation version 1.16.0 started with time: 54000.00.\n",
      "Step #57600.00 (9ms ~= 111.11*RT, ~74666.67UPS, vehicles TOT 2722 ACT 672 BUF 0)          \n",
      "Simulation ended at time: 57600.00\n",
      "Reason: The final simulation step has been reached.\n",
      "Performance: \n",
      " Duration: 16.16s\n",
      " Real time factor: 222.827\n",
      " UPS: 100544.936866\n",
      "Vehicles: \n",
      " Inserted: 2722\n",
      " Running: 672\n",
      " Waiting: 0\n",
      "Statistics (avg of 2050):\n",
      " RouteLength: 4316.23\n",
      " Speed: 11.19\n",
      " Duration: 507.45\n",
      " WaitingTime: 110.01\n",
      " TimeLoss: 194.71\n",
      " DepartDelay: 0.49\n",
      "\n",
      "DijkstraRouter answered 2722 queries and explored 9.69 edges on average.\n",
      "DijkstraRouter spent 0.01s answering queries (0.00ms on average).\n",
      "####### 27 ########\n",
      "##### n=51 #####\n",
      "##### best_value=-0.014260053104548212 #####\n",
      "printing /Users/rodrse/Documents/DemandCalibration/notebooks/od_calibration_sumo_files/quickstart/data/iter_quickstart.current_od.xml\n",
      "### Runing: iter\n",
      "od2trips --no-step-log  --spread.uniform --taz-files /Users/rodrse/Documents/DemandCalibration/notebooks/od_calibration_sumo_files/quickstart/data/quickstart.taz.xml --tazrelation-files /Users/rodrse/Documents/DemandCalibration/notebooks/od_calibration_sumo_files/quickstart/data/iter_quickstart.current_od.xml -o /Users/rodrse/Documents/DemandCalibration/notebooks/od_calibration_sumo_files/quickstart/data/iter_od_trips.trips.xml \n",
      "Success.\n",
      "Loading net-file from '/Users/rodrse/Documents/DemandCalibration/notebooks/od_calibration_sumo_files/quickstart/data/quickstart.net.xml' ... done (6ms).\n",
      "Loading additional-files from '/Users/rodrse/Documents/DemandCalibration/notebooks/od_calibration_sumo_files/quickstart/data/quickstart.additional.xml' ... done (2ms).\n",
      "Loading done.\n",
      "Simulation version 1.16.0 started with time: 54000.00.\n",
      "Step #57600.00 (8ms ~= 125.00*RT, ~94125.00UPS, vehicles TOT 2854 ACT 753 BUF 0)          \n",
      "Simulation ended at time: 57600.00\n",
      "Reason: The final simulation step has been reached.\n",
      "Performance: \n",
      " Duration: 18.56s\n",
      " Real time factor: 193.997\n",
      " UPS: 91982.971385\n",
      "Vehicles: \n",
      " Inserted: 2854\n",
      " Running: 753\n",
      " Waiting: 0\n",
      "Statistics (avg of 2101):\n",
      " RouteLength: 4267.52\n",
      " Speed: 11.28\n",
      " Duration: 509.30\n",
      " WaitingTime: 115.17\n",
      " TimeLoss: 200.10\n",
      " DepartDelay: 0.49\n",
      "\n",
      "DijkstraRouter answered 2854 queries and explored 9.54 edges on average.\n",
      "DijkstraRouter spent 0.02s answering queries (0.01ms on average).\n",
      "####### 28 ########\n",
      "##### n=52 #####\n",
      "##### best_value=-0.014260053104548212 #####\n",
      "printing /Users/rodrse/Documents/DemandCalibration/notebooks/od_calibration_sumo_files/quickstart/data/iter_quickstart.current_od.xml\n",
      "### Runing: iter\n",
      "od2trips --no-step-log  --spread.uniform --taz-files /Users/rodrse/Documents/DemandCalibration/notebooks/od_calibration_sumo_files/quickstart/data/quickstart.taz.xml --tazrelation-files /Users/rodrse/Documents/DemandCalibration/notebooks/od_calibration_sumo_files/quickstart/data/iter_quickstart.current_od.xml -o /Users/rodrse/Documents/DemandCalibration/notebooks/od_calibration_sumo_files/quickstart/data/iter_od_trips.trips.xml \n",
      "Success.\n",
      "Loading net-file from '/Users/rodrse/Documents/DemandCalibration/notebooks/od_calibration_sumo_files/quickstart/data/quickstart.net.xml' ... done (6ms).\n",
      "Loading additional-files from '/Users/rodrse/Documents/DemandCalibration/notebooks/od_calibration_sumo_files/quickstart/data/quickstart.additional.xml' ... done (1ms).\n",
      "Loading done.\n",
      "Simulation version 1.16.0 started with time: 54000.00.\n",
      "Step #57600.00 (13ms ~= 76.92*RT, ~67000.00UPS, vehicles TOT 3138 ACT 871 BUF 0)          \n",
      "Simulation ended at time: 57600.00\n",
      "Reason: The final simulation step has been reached.\n",
      "Performance: \n",
      " Duration: 23.21s\n",
      " Real time factor: 155.112\n",
      " UPS: 90755.396613\n",
      "Vehicles: \n",
      " Inserted: 3138\n",
      " Running: 871\n",
      " Waiting: 0\n",
      "Statistics (avg of 2267):\n",
      " RouteLength: 4296.49\n",
      " Speed: 10.81\n",
      " Duration: 555.51\n",
      " WaitingTime: 112.85\n",
      " TimeLoss: 243.41\n",
      " DepartDelay: 0.49\n",
      "\n",
      "DijkstraRouter answered 3138 queries and explored 9.72 edges on average.\n",
      "DijkstraRouter spent 0.01s answering queries (0.00ms on average).\n",
      "####### 29 ########\n",
      "##### n=53 #####\n",
      "##### best_value=-0.014260053104548212 #####\n",
      "printing /Users/rodrse/Documents/DemandCalibration/notebooks/od_calibration_sumo_files/quickstart/data/iter_quickstart.current_od.xml\n",
      "### Runing: iter\n",
      "od2trips --no-step-log  --spread.uniform --taz-files /Users/rodrse/Documents/DemandCalibration/notebooks/od_calibration_sumo_files/quickstart/data/quickstart.taz.xml --tazrelation-files /Users/rodrse/Documents/DemandCalibration/notebooks/od_calibration_sumo_files/quickstart/data/iter_quickstart.current_od.xml -o /Users/rodrse/Documents/DemandCalibration/notebooks/od_calibration_sumo_files/quickstart/data/iter_od_trips.trips.xml \n",
      "Success.\n",
      "Loading net-file from '/Users/rodrse/Documents/DemandCalibration/notebooks/od_calibration_sumo_files/quickstart/data/quickstart.net.xml' ... done (7ms).\n",
      "Loading additional-files from '/Users/rodrse/Documents/DemandCalibration/notebooks/od_calibration_sumo_files/quickstart/data/quickstart.additional.xml' ... done (1ms).\n",
      "Loading done.\n",
      "Simulation version 1.16.0 started with time: 54000.00.\n",
      "Step #57600.00 (12ms ~= 83.33*RT, ~70583.33UPS, vehicles TOT 2923 ACT 847 BUF 35)         \n",
      "Simulation ended at time: 57600.00\n",
      "Reason: The final simulation step has been reached.\n",
      "Performance: \n",
      " Duration: 24.16s\n",
      " Real time factor: 149.007\n",
      " UPS: 83045.695364\n",
      "Vehicles: \n",
      " Inserted: 2923 (Loaded: 2958)\n",
      " Running: 847\n",
      " Waiting: 35\n",
      "Statistics (avg of 2076):\n",
      " RouteLength: 4285.43\n",
      " Speed: 10.73\n",
      " Duration: 594.86\n",
      " WaitingTime: 152.24\n",
      " TimeLoss: 285.34\n",
      " DepartDelay: 0.50\n",
      "\n",
      "DijkstraRouter answered 2992 queries and explored 9.74 edges on average.\n",
      "DijkstraRouter spent 0.02s answering queries (0.01ms on average).\n",
      "####### 30 ########\n",
      "##### n=54 #####\n",
      "##### best_value=-0.014260053104548212 #####\n",
      "printing /Users/rodrse/Documents/DemandCalibration/notebooks/od_calibration_sumo_files/quickstart/data/iter_quickstart.current_od.xml\n",
      "### Runing: iter\n",
      "od2trips --no-step-log  --spread.uniform --taz-files /Users/rodrse/Documents/DemandCalibration/notebooks/od_calibration_sumo_files/quickstart/data/quickstart.taz.xml --tazrelation-files /Users/rodrse/Documents/DemandCalibration/notebooks/od_calibration_sumo_files/quickstart/data/iter_quickstart.current_od.xml -o /Users/rodrse/Documents/DemandCalibration/notebooks/od_calibration_sumo_files/quickstart/data/iter_od_trips.trips.xml \n",
      "Success.\n",
      "Loading net-file from '/Users/rodrse/Documents/DemandCalibration/notebooks/od_calibration_sumo_files/quickstart/data/quickstart.net.xml' ... done (8ms).\n",
      "Loading additional-files from '/Users/rodrse/Documents/DemandCalibration/notebooks/od_calibration_sumo_files/quickstart/data/quickstart.additional.xml' ... done (1ms).\n",
      "Loading done.\n",
      "Simulation version 1.16.0 started with time: 54000.00.\n"
     ]
    }
   ],
   "source": [
    "NITER = 50\n",
    "output = [df_0]\n",
    "best_value = []\n",
    "\n",
    "for i in range(NITER):\n",
    "    \n",
    "    print(f\"####### {i+1} ########\")\n",
    "    \n",
    "    df_ = df_0 if i == 0 else df_i\n",
    "    \n",
    "    n_obs = df_.shape[0]\n",
    "    print(f\"##### n={n_obs} #####\")\n",
    "    \n",
    "    # Training data\n",
    "    train_X = torch.from_numpy(df_[[\"x1\",\"x2\",\"x3\",\"x4\"]].values)    \n",
    "    train_X_norm = normalize(train_X,bounds)\n",
    "    \n",
    "    train_Y = -torch.from_numpy(df_[[\"loss_estimate\"]].values) # Take negative\n",
    "    \n",
    "    # best value so far\n",
    "    best_y = train_Y.max()\n",
    "    best_value.append(best_y)\n",
    "    print(f\"##### best_value={best_y} #####\")\n",
    "\n",
    "    # Declare model with newest data\n",
    "    gp_model, gp_mll = initialize_gp_model(train_X_norm,train_Y)\n",
    "\n",
    "    # Fit model\n",
    "    fit_gpytorch_mll(gp_mll)\n",
    "\n",
    "    # Construct acquistion function \n",
    "    sampler = StochasticSampler(sample_shape=torch.Size([128]))\n",
    "    qEI = qExpectedImprovement(gp_model, best_f=best_y, sampler=sampler)\n",
    "    \n",
    "    # Maximize acquisition function to get next observation\n",
    "    new_x = optimize_acqf_and_get_observation(acq_func=qEI,bounds=bounds)\n",
    "    \n",
    "    # Query SUMO on new sampling location\n",
    "    df_simulation = objective(new_x.cpu().detach().numpy().reshape(-1))\n",
    "    df_simulation['iter'] = i+1\n",
    "    \n",
    "    # Update history of training data\n",
    "    output.append(df_simulation)\n",
    "    \n",
    "    df_i = pd.concat(output)\n",
    "    \n",
    "    \n",
    "    "
   ]
  },
  {
   "cell_type": "code",
   "execution_count": 38,
   "id": "ae6971da",
   "metadata": {},
   "outputs": [],
   "source": [
    "df = pd.concat(output)"
   ]
  },
  {
   "cell_type": "code",
   "execution_count": 40,
   "id": "7b11928e",
   "metadata": {},
   "outputs": [],
   "source": [
    "df_plot = df.query('iter>0')"
   ]
  },
  {
   "cell_type": "code",
   "execution_count": 48,
   "id": "a556a8eb",
   "metadata": {},
   "outputs": [
    {
     "data": {
      "image/png": "[encoded data removed]",
      "text/plain": [
       "<Figure size 432x288 with 1 Axes>"
      ]
     },
     "metadata": {
      "needs_background": "light"
     },
     "output_type": "display_data"
    }
   ],
   "source": [
    "import numpy as np\n",
    "import matplotlib.pyplot as plt\n",
    "\n",
    "x = df_plot['iter']\n",
    "y = df_plot['loss_estimate']\n",
    "\n",
    "plt.plot(x, best_value)\n",
    "#plt.legend(title='Parameter where:')\n",
    "plt.show()"
   ]
  },
  {
   "cell_type": "code",
   "execution_count": 54,
   "id": "33f8fcda",
   "metadata": {},
   "outputs": [],
   "source": [
    "df.to_csv('./output/bo_500_iter_batchSize_1.csv',index = None)"
   ]
  },
  {
   "cell_type": "code",
   "execution_count": null,
   "id": "58a65590",
   "metadata": {},
   "outputs": [],
   "source": []
  }
 ],
 "metadata": {
  "kernelspec": {
   "display_name": "BoTorch",
   "language": "python",
   "name": "python3"
  },
  "language_info": {
   "codemirror_mode": {
    "name": "ipython",
    "version": 3
   },
   "file_extension": ".py",
   "mimetype": "text/x-python",
   "name": "python",
   "nbconvert_exporter": "python",
   "pygments_lexer": "ipython3",
   "version": "3.9.11"
  }
 },
 "nbformat": 4,
 "nbformat_minor": 5
}
