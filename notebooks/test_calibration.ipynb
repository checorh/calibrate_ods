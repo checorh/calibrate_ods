{
 "cells": [
  {
   "cell_type": "markdown",
   "id": "70a36bb6",
   "metadata": {},
   "source": [
    "### Load experiment meta-data"
   ]
  },
  {
   "cell_type": "code",
   "execution_count": 14,
   "id": "e709441d",
   "metadata": {},
   "outputs": [],
   "source": [
    "from sumo_python.helpers.load_experiment_metadata import load_experiment_config"
   ]
  },
  {
   "cell_type": "code",
   "execution_count": 2,
   "id": "4de252bd",
   "metadata": {},
   "outputs": [],
   "source": [
    "input_path = \"/Users/rodrse/Documents/DemandCalibration/notebooks/od_calibration_sumo_files/\""
   ]
  },
  {
   "cell_type": "code",
   "execution_count": 3,
   "id": "d2c6f253",
   "metadata": {},
   "outputs": [],
   "source": [
    "config, sim_setup = load_experiment_config(config=input_path + 'config.json',\n",
    "                        sim_setup=input_path + 'simulation_setups.json',)"
   ]
  },
  {
   "cell_type": "code",
   "execution_count": 15,
   "id": "e8bc909e",
   "metadata": {},
   "outputs": [
    {
     "data": {
      "text/plain": [
       "{'NETWORK': PosixPath('/Users/rodrse/Documents/DemandCalibration/notebooks/od_calibration_sumo_files/quickstart/data'),\n",
       " 'SUMO': PosixPath('/usr/local/opt/sumo/share/sumo')}"
      ]
     },
     "execution_count": 15,
     "metadata": {},
     "output_type": "execute_result"
    }
   ],
   "source": [
    "config"
   ]
  },
  {
   "cell_type": "markdown",
   "id": "ce416267",
   "metadata": {},
   "source": [
    "# Run simulations\n",
    "\n",
    "Steps:\n",
    "1. Create OD meta-files that for a given count, creates a random trajectoy of vehicles moving from O -> D\n",
    "2. Run SUMO against the latter files\n",
    "3. Parse output of simulation and yields the aggregated value of vehicles which arrive to a given node in th network\n",
    "\n"
   ]
  },
  {
   "cell_type": "markdown",
   "id": "0f442fd2",
   "metadata": {},
   "source": [
    "### Step 1. Create OD meta-data"
   ]
  },
  {
   "cell_type": "code",
   "execution_count": 5,
   "id": "fb9848bf",
   "metadata": {},
   "outputs": [
    {
     "name": "stdout",
     "output_type": "stream",
     "text": [
      "printing /Users/rodrse/Documents/DemandCalibration/notebooks/od_calibration_sumo_files/quickstart/data/iter_quickstart.current_od.xml\n"
     ]
    }
   ],
   "source": [
    "import numpy as np\n",
    "from sumo_python.helpers.generate_od_xml import generate_od_xml\n",
    "\n",
    "\n",
    "prefix_run = 'iter'\n",
    "#od_rand = np.random.rand(4)*200\n",
    "od_rand = np.array([500,500,900,900])\n",
    "#print(prefix_run, np.sum(od_rand))\n",
    "    \n",
    "generate_od_xml(od_rand, config, sim_setup, prefix_run)\n"
   ]
  },
  {
   "cell_type": "markdown",
   "id": "8195fe4e",
   "metadata": {},
   "source": [
    "### Step 2-3: Run SUMO and parse output"
   ]
  },
  {
   "cell_type": "code",
   "execution_count": 6,
   "id": "8cfecb7d",
   "metadata": {},
   "outputs": [
    {
     "name": "stdout",
     "output_type": "stream",
     "text": [
      "### Runing: iter\n",
      "od2trips --no-step-log  --spread.uniform --taz-files /Users/rodrse/Documents/DemandCalibration/notebooks/od_calibration_sumo_files/quickstart/data/quickstart.taz.xml --tazrelation-files /Users/rodrse/Documents/DemandCalibration/notebooks/od_calibration_sumo_files/quickstart/data/iter_quickstart.current_od.xml -o /Users/rodrse/Documents/DemandCalibration/notebooks/od_calibration_sumo_files/quickstart/data/iter_od_trips.trips.xml \n",
      "Success.\n",
      "Loading net-file from '/Users/rodrse/Documents/DemandCalibration/notebooks/od_calibration_sumo_files/quickstart/data/quickstart.net.xml' ... done (10ms).\n",
      "Loading additional-files from '/Users/rodrse/Documents/DemandCalibration/notebooks/od_calibration_sumo_files/quickstart/data/quickstart.additional.xml' ... done (3ms).\n",
      "Loading done.\n",
      "Simulation version 1.16.0 started with time: 54000.00.\n",
      "Step #57600.00 (5ms ~= 200.00*RT, ~131200.00UPS, vehicles TOT 2800 ACT 656 BUF 0)         \n",
      "Simulation ended at time: 57600.00\n",
      "Reason: The final simulation step has been reached.\n",
      "Performance: \n",
      " Duration: 13.62s\n",
      " Real time factor: 264.414\n",
      " UPS: 118779.434447\n",
      "Vehicles: \n",
      " Inserted: 2800\n",
      " Running: 656\n",
      " Waiting: 0\n",
      "Statistics (avg of 2144):\n",
      " RouteLength: 4392.77\n",
      " Speed: 11.24\n",
      " Duration: 471.78\n",
      " WaitingTime: 81.10\n",
      " TimeLoss: 153.11\n",
      " DepartDelay: 0.10\n",
      "\n",
      "DijkstraRouter answered 2800 queries and explored 10.01 edges on average.\n",
      "DijkstraRouter spent 0.01s answering queries (0.00ms on average).\n"
     ]
    }
   ],
   "source": [
    "from sumo_python.simulator.run_sumo_and_parse_output import run_sumo_and_parse_output\n",
    "\n",
    "df_simulated = run_sumo_and_parse_output(config, sim_setup, prefix_run)\n"
   ]
  },
  {
   "cell_type": "code",
   "execution_count": 7,
   "id": "35358955",
   "metadata": {},
   "outputs": [
    {
     "data": {
      "text/html": [
       "<div>\n",
       "<style scoped>\n",
       "    .dataframe tbody tr th:only-of-type {\n",
       "        vertical-align: middle;\n",
       "    }\n",
       "\n",
       "    .dataframe tbody tr th {\n",
       "        vertical-align: top;\n",
       "    }\n",
       "\n",
       "    .dataframe thead th {\n",
       "        text-align: right;\n",
       "    }\n",
       "</style>\n",
       "<table border=\"1\" class=\"dataframe\">\n",
       "  <thead>\n",
       "    <tr style=\"text-align: right;\">\n",
       "      <th></th>\n",
       "      <th>EdgeID</th>\n",
       "      <th>interval_begin</th>\n",
       "      <th>interval_end</th>\n",
       "      <th>interval_nVehContrib</th>\n",
       "      <th>interval_harmonicMeanSpeed</th>\n",
       "    </tr>\n",
       "  </thead>\n",
       "  <tbody>\n",
       "    <tr>\n",
       "      <th>0</th>\n",
       "      <td>#EdgeL5</td>\n",
       "      <td>54000.0</td>\n",
       "      <td>57600.0</td>\n",
       "      <td>959.0</td>\n",
       "      <td>13.500000</td>\n",
       "    </tr>\n",
       "    <tr>\n",
       "      <th>1</th>\n",
       "      <td>#EdgeL7</td>\n",
       "      <td>54000.0</td>\n",
       "      <td>57600.0</td>\n",
       "      <td>1243.0</td>\n",
       "      <td>13.603333</td>\n",
       "    </tr>\n",
       "  </tbody>\n",
       "</table>\n",
       "</div>"
      ],
      "text/plain": [
       "    EdgeID  interval_begin  interval_end  interval_nVehContrib  \\\n",
       "0  #EdgeL5         54000.0       57600.0                 959.0   \n",
       "1  #EdgeL7         54000.0       57600.0                1243.0   \n",
       "\n",
       "   interval_harmonicMeanSpeed  \n",
       "0                   13.500000  \n",
       "1                   13.603333  "
      ]
     },
     "execution_count": 7,
     "metadata": {},
     "output_type": "execute_result"
    }
   ],
   "source": [
    "df_simulated"
   ]
  },
  {
   "cell_type": "code",
   "execution_count": 64,
   "id": "5532902b",
   "metadata": {},
   "outputs": [
    {
     "data": {
      "text/html": [
       "<div>\n",
       "<style scoped>\n",
       "    .dataframe tbody tr th:only-of-type {\n",
       "        vertical-align: middle;\n",
       "    }\n",
       "\n",
       "    .dataframe tbody tr th {\n",
       "        vertical-align: top;\n",
       "    }\n",
       "\n",
       "    .dataframe thead th {\n",
       "        text-align: right;\n",
       "    }\n",
       "</style>\n",
       "<table border=\"1\" class=\"dataframe\">\n",
       "  <thead>\n",
       "    <tr style=\"text-align: right;\">\n",
       "      <th></th>\n",
       "      <th>EdgeID</th>\n",
       "      <th>interval_begin</th>\n",
       "      <th>interval_end</th>\n",
       "      <th>interval_nVehContrib</th>\n",
       "      <th>interval_harmonicMeanSpeed</th>\n",
       "    </tr>\n",
       "  </thead>\n",
       "  <tbody>\n",
       "    <tr>\n",
       "      <th>0</th>\n",
       "      <td>#EdgeL5</td>\n",
       "      <td>54000.0</td>\n",
       "      <td>57600.0</td>\n",
       "      <td>319.666667</td>\n",
       "      <td>13.500000</td>\n",
       "    </tr>\n",
       "    <tr>\n",
       "      <th>1</th>\n",
       "      <td>#EdgeL7</td>\n",
       "      <td>54000.0</td>\n",
       "      <td>57600.0</td>\n",
       "      <td>414.333333</td>\n",
       "      <td>13.603333</td>\n",
       "    </tr>\n",
       "  </tbody>\n",
       "</table>\n",
       "</div>"
      ],
      "text/plain": [
       "    EdgeID  interval_begin  interval_end  interval_nVehContrib  \\\n",
       "0  #EdgeL5         54000.0       57600.0            319.666667   \n",
       "1  #EdgeL7         54000.0       57600.0            414.333333   \n",
       "\n",
       "   interval_harmonicMeanSpeed  \n",
       "0                   13.500000  \n",
       "1                   13.603333  "
      ]
     },
     "execution_count": 64,
     "metadata": {},
     "output_type": "execute_result"
    }
   ],
   "source": [
    "df_simulated"
   ]
  },
  {
   "cell_type": "markdown",
   "id": "6be05851",
   "metadata": {},
   "source": [
    "### Obtain ground-truth"
   ]
  },
  {
   "cell_type": "code",
   "execution_count": 8,
   "id": "1025ae0f",
   "metadata": {},
   "outputs": [
    {
     "name": "stdout",
     "output_type": "stream",
     "text": [
      "od2trips --no-step-log  --spread.uniform --taz-files /Users/rodrse/Documents/DemandCalibration/notebooks/od_calibration_sumo_files/quickstart/data/quickstart.taz.xml --tazrelation-files /Users/rodrse/Documents/DemandCalibration/notebooks/od_calibration_sumo_files/quickstart/data/quickstart.gt_od.xml -o /Users/rodrse/Documents/DemandCalibration/notebooks/od_calibration_sumo_files/quickstart/data/gt_od_trips.trips.xml \n",
      "Success.\n",
      "sumo --output-prefix gt_ --ignore-route-errors=true --net-file=/Users/rodrse/Documents/DemandCalibration/notebooks/od_calibration_sumo_files/quickstart/data/quickstart.net.xml --routes=/Users/rodrse/Documents/DemandCalibration/notebooks/od_calibration_sumo_files/quickstart/data/gt_od_trips.trips.xml -b 54000 -e 57600 --additional-files /Users/rodrse/Documents/DemandCalibration/notebooks/od_calibration_sumo_files/quickstart/data/quickstart.additional.xml --duration-log.statistics --xml-validation never --vehroutes /Users/rodrse/Documents/DemandCalibration/notebooks/od_calibration_sumo_files/quickstart/data/gt_routes.vehroutes.xml \n",
      "Loading net-file from '/Users/rodrse/Documents/DemandCalibration/notebooks/od_calibration_sumo_files/quickstart/data/quickstart.net.xml' ... done (7ms).\n",
      "Loading additional-files from '/Users/rodrse/Documents/DemandCalibration/notebooks/od_calibration_sumo_files/quickstart/data/quickstart.additional.xml' ... done (2ms).\n",
      "Loading done.\n",
      "Simulation version 1.16.0 started with time: 54000.00.\n",
      "Step #57600.00 (7ms ~= 142.86*RT, ~93714.29UPS, vehicles TOT 2800 ACT 656 BUF 0)          \n",
      "Simulation ended at time: 57600.00\n",
      "Reason: The final simulation step has been reached.\n",
      "Performance: \n",
      " Duration: 15.53s\n",
      " Real time factor: 231.765\n",
      " UPS: 104112.663362\n",
      "Vehicles: \n",
      " Inserted: 2800\n",
      " Running: 656\n",
      " Waiting: 0\n",
      "Statistics (avg of 2144):\n",
      " RouteLength: 4392.77\n",
      " Speed: 11.24\n",
      " Duration: 471.78\n",
      " WaitingTime: 81.10\n",
      " TimeLoss: 153.11\n",
      " DepartDelay: 0.10\n",
      "\n",
      "DijkstraRouter answered 2800 queries and explored 10.01 edges on average.\n",
      "DijkstraRouter spent 0.02s answering queries (0.01ms on average).\n"
     ]
    }
   ],
   "source": [
    "from sumo_python.simulator.ground_truth import run_ground_truth_and_parse\n",
    "df_gt_data = run_ground_truth_and_parse(config, sim_setup)"
   ]
  },
  {
   "cell_type": "code",
   "execution_count": 9,
   "id": "85ed7c06",
   "metadata": {},
   "outputs": [
    {
     "data": {
      "text/html": [
       "<div>\n",
       "<style scoped>\n",
       "    .dataframe tbody tr th:only-of-type {\n",
       "        vertical-align: middle;\n",
       "    }\n",
       "\n",
       "    .dataframe tbody tr th {\n",
       "        vertical-align: top;\n",
       "    }\n",
       "\n",
       "    .dataframe thead th {\n",
       "        text-align: right;\n",
       "    }\n",
       "</style>\n",
       "<table border=\"1\" class=\"dataframe\">\n",
       "  <thead>\n",
       "    <tr style=\"text-align: right;\">\n",
       "      <th></th>\n",
       "      <th>EdgeID</th>\n",
       "      <th>interval_begin</th>\n",
       "      <th>interval_end</th>\n",
       "      <th>interval_nVehContrib</th>\n",
       "      <th>interval_harmonicMeanSpeed</th>\n",
       "    </tr>\n",
       "  </thead>\n",
       "  <tbody>\n",
       "    <tr>\n",
       "      <th>0</th>\n",
       "      <td>#EdgeL5</td>\n",
       "      <td>54000.0</td>\n",
       "      <td>57600.0</td>\n",
       "      <td>959</td>\n",
       "      <td>13.500000</td>\n",
       "    </tr>\n",
       "    <tr>\n",
       "      <th>1</th>\n",
       "      <td>#EdgeL7</td>\n",
       "      <td>54000.0</td>\n",
       "      <td>57600.0</td>\n",
       "      <td>1243</td>\n",
       "      <td>13.603333</td>\n",
       "    </tr>\n",
       "  </tbody>\n",
       "</table>\n",
       "</div>"
      ],
      "text/plain": [
       "    EdgeID  interval_begin  interval_end  interval_nVehContrib  \\\n",
       "0  #EdgeL5         54000.0       57600.0                   959   \n",
       "1  #EdgeL7         54000.0       57600.0                  1243   \n",
       "\n",
       "   interval_harmonicMeanSpeed  \n",
       "0                   13.500000  \n",
       "1                   13.603333  "
      ]
     },
     "execution_count": 9,
     "metadata": {},
     "output_type": "execute_result"
    }
   ],
   "source": [
    "df_gt_data"
   ]
  },
  {
   "cell_type": "markdown",
   "id": "9b183bec",
   "metadata": {},
   "source": [
    "# Compute objective"
   ]
  },
  {
   "cell_type": "code",
   "execution_count": 10,
   "id": "a8f1a816",
   "metadata": {},
   "outputs": [
    {
     "data": {
      "text/plain": [
       "0.0"
      ]
     },
     "execution_count": 10,
     "metadata": {},
     "output_type": "execute_result"
    }
   ],
   "source": [
    "from sumo_python.helpers.nrmse_counts import compute_nrmse_counts\n",
    "\n",
    "loss_estimate = compute_nrmse_counts(df_gt_data, df_simulated)\n",
    "loss_estimate"
   ]
  },
  {
   "cell_type": "markdown",
   "id": "81304c43",
   "metadata": {},
   "source": [
    "### wrap objective x -> f(x)"
   ]
  },
  {
   "cell_type": "code",
   "execution_count": 16,
   "id": "1fa16271",
   "metadata": {},
   "outputs": [],
   "source": [
    "def objective(x):\n",
    "    \n",
    "    prefix_run = 'iter'    \n",
    "    generate_od_xml(x, config, sim_setup, prefix_run)\n",
    "    df_simulated = run_sumo_and_parse_output(config, sim_setup, prefix_run)\n",
    "    loss_estimate = compute_nrmse_counts(df_gt_data, df_simulated)\n",
    "    df_output = pd.DataFrame(x.reshape(-1, len(x)),columns = ['x1','x2','x3','x4'])\n",
    "    df_output['loss_estimate'] = loss_estimate\n",
    "    \n",
    "    return df_output"
   ]
  },
  {
   "cell_type": "markdown",
   "id": "b14099f8",
   "metadata": {},
   "source": [
    "# Bayesian optimization"
   ]
  },
  {
   "cell_type": "code",
   "execution_count": 17,
   "id": "8a49d8c2",
   "metadata": {},
   "outputs": [],
   "source": [
    "import os\n",
    "import torch\n",
    "import pandas as pd\n",
    "\n",
    "device = torch.device(\"cuda:3\" if torch.cuda.is_available() else \"cpu\")\n",
    "dtype = torch.double\n"
   ]
  },
  {
   "cell_type": "markdown",
   "id": "138069b7",
   "metadata": {},
   "source": [
    "### Declare search space"
   ]
  },
  {
   "cell_type": "code",
   "execution_count": 18,
   "id": "03b4c50c",
   "metadata": {},
   "outputs": [
    {
     "data": {
      "text/plain": [
       "tensor([[ 400.,  400.,  400.,  400.],\n",
       "        [1000., 1000., 1000., 1000.]], dtype=torch.float64)"
      ]
     },
     "execution_count": 18,
     "metadata": {},
     "output_type": "execute_result"
    }
   ],
   "source": [
    "# dimensionality of input space\n",
    "d = 4 \n",
    "bounds = torch.tensor([[400,400,400,400],[1000,1000,1000,1000]], device=device, dtype=dtype) \n",
    "bounds"
   ]
  },
  {
   "cell_type": "markdown",
   "id": "cccc607d",
   "metadata": {},
   "source": [
    "### Generate batch of policies using Sobol sequences"
   ]
  },
  {
   "cell_type": "code",
   "execution_count": 19,
   "id": "303b2512",
   "metadata": {},
   "outputs": [],
   "source": [
    "from torch.quasirandom import SobolEngine\n",
    "n0 = 25\n",
    "dim = 4\n",
    "sobol = SobolEngine(dim, scramble=True)\n",
    "x_0 = sobol.draw(n0).to(dtype=dtype)"
   ]
  },
  {
   "cell_type": "code",
   "execution_count": 20,
   "id": "4b6f148c",
   "metadata": {},
   "outputs": [],
   "source": [
    "from botorch.utils.transforms import unnormalize\n",
    "# map the normalized into the original parameter space\n",
    "train_X0 = unnormalize(x_0, bounds)\n"
   ]
  },
  {
   "cell_type": "code",
   "execution_count": 21,
   "id": "9cfd9340",
   "metadata": {},
   "outputs": [
    {
     "name": "stdout",
     "output_type": "stream",
     "text": [
      "printing /Users/rodrse/Documents/DemandCalibration/notebooks/od_calibration_sumo_files/quickstart/data/iter_quickstart.current_od.xml\n",
      "### Runing: iter\n",
      "od2trips --no-step-log  --spread.uniform --taz-files /Users/rodrse/Documents/DemandCalibration/notebooks/od_calibration_sumo_files/quickstart/data/quickstart.taz.xml --tazrelation-files /Users/rodrse/Documents/DemandCalibration/notebooks/od_calibration_sumo_files/quickstart/data/iter_quickstart.current_od.xml -o /Users/rodrse/Documents/DemandCalibration/notebooks/od_calibration_sumo_files/quickstart/data/iter_od_trips.trips.xml \n",
      "Success.\n",
      "Loading net-file from '/Users/rodrse/Documents/DemandCalibration/notebooks/od_calibration_sumo_files/quickstart/data/quickstart.net.xml' ... done (9ms).\n",
      "Loading additional-files from '/Users/rodrse/Documents/DemandCalibration/notebooks/od_calibration_sumo_files/quickstart/data/quickstart.additional.xml' ... done (2ms).\n",
      "Loading done.\n",
      "Simulation version 1.16.0 started with time: 54000.00.\n",
      "Step #57600.00 (7ms ~= 142.86*RT, ~109857.14UPS, vehicles TOT 3011 ACT 769 BUF 32)        \n",
      "Simulation ended at time: 57600.00\n",
      "Reason: The final simulation step has been reached.\n",
      "Performance: \n",
      " Duration: 15.82s\n",
      " Real time factor: 227.517\n",
      " UPS: 114350.123238\n",
      "Vehicles: \n",
      " Inserted: 3011 (Loaded: 3043)\n",
      " Running: 769\n",
      " Waiting: 32\n",
      "Statistics (avg of 2242):\n",
      " RouteLength: 4246.87\n",
      " Speed: 12.18\n",
      " Duration: 422.24\n",
      " WaitingTime: 74.64\n",
      " TimeLoss: 114.25\n",
      " DepartDelay: 0.49\n",
      "\n",
      "DijkstraRouter answered 3048 queries and explored 9.62 edges on average.\n",
      "DijkstraRouter spent 0.01s answering queries (0.00ms on average).\n",
      "printing /Users/rodrse/Documents/DemandCalibration/notebooks/od_calibration_sumo_files/quickstart/data/iter_quickstart.current_od.xml\n",
      "### Runing: iter\n",
      "od2trips --no-step-log  --spread.uniform --taz-files /Users/rodrse/Documents/DemandCalibration/notebooks/od_calibration_sumo_files/quickstart/data/quickstart.taz.xml --tazrelation-files /Users/rodrse/Documents/DemandCalibration/notebooks/od_calibration_sumo_files/quickstart/data/iter_quickstart.current_od.xml -o /Users/rodrse/Documents/DemandCalibration/notebooks/od_calibration_sumo_files/quickstart/data/iter_od_trips.trips.xml \n",
      "Success.\n",
      "Loading net-file from '/Users/rodrse/Documents/DemandCalibration/notebooks/od_calibration_sumo_files/quickstart/data/quickstart.net.xml' ... done (6ms).\n",
      "Loading additional-files from '/Users/rodrse/Documents/DemandCalibration/notebooks/od_calibration_sumo_files/quickstart/data/quickstart.additional.xml' ... done (1ms).\n",
      "Loading done.\n",
      "Simulation version 1.16.0 started with time: 54000.00.\n",
      "Step #57600.00 (7ms ~= 142.86*RT, ~81571.43UPS, vehicles TOT 2259 ACT 571 BUF 0)          \n",
      "Simulation ended at time: 57600.00\n",
      "Reason: The final simulation step has been reached.\n",
      "Performance: \n",
      " Duration: 12.81s\n",
      " Real time factor: 280.943\n",
      " UPS: 104450.600905\n",
      "Vehicles: \n",
      " Inserted: 2259\n",
      " Running: 571\n",
      " Waiting: 0\n",
      "Statistics (avg of 1688):\n",
      " RouteLength: 4454.59\n",
      " Speed: 10.53\n",
      " Duration: 540.40\n",
      " WaitingTime: 119.27\n",
      " TimeLoss: 217.88\n",
      " DepartDelay: 0.49\n",
      "\n",
      "DijkstraRouter answered 2259 queries and explored 10.35 edges on average.\n",
      "DijkstraRouter spent 0.01s answering queries (0.00ms on average).\n",
      "printing /Users/rodrse/Documents/DemandCalibration/notebooks/od_calibration_sumo_files/quickstart/data/iter_quickstart.current_od.xml\n",
      "### Runing: iter\n",
      "od2trips --no-step-log  --spread.uniform --taz-files /Users/rodrse/Documents/DemandCalibration/notebooks/od_calibration_sumo_files/quickstart/data/quickstart.taz.xml --tazrelation-files /Users/rodrse/Documents/DemandCalibration/notebooks/od_calibration_sumo_files/quickstart/data/iter_quickstart.current_od.xml -o /Users/rodrse/Documents/DemandCalibration/notebooks/od_calibration_sumo_files/quickstart/data/iter_od_trips.trips.xml \n",
      "Success.\n",
      "Loading net-file from '/Users/rodrse/Documents/DemandCalibration/notebooks/od_calibration_sumo_files/quickstart/data/quickstart.net.xml' ... done (7ms).\n",
      "Loading additional-files from '/Users/rodrse/Documents/DemandCalibration/notebooks/od_calibration_sumo_files/quickstart/data/quickstart.additional.xml' ... done (1ms).\n",
      "Loading done.\n",
      "Simulation version 1.16.0 started with time: 54000.00.\n",
      "Step #57400.00 (8ms ~= 125.00*RT, ~82875.00UPS, vehicles TOT 2541 ACT 663 BUF 0)          \r"
     ]
    },
    {
     "name": "stderr",
     "output_type": "stream",
     "text": [
      "Warning: Teleporting vehicle '516'; waited too long (wrong lane), lane='L15_0', time=57461.00.\n",
      "Warning: Vehicle '516' ends teleporting on edge 'L18', time=57461.00.\n",
      "Warning: Teleporting vehicle '527'; waited too long (wrong lane), lane='L15_0', time=57462.00.\n",
      "Warning: Vehicle '527' ends teleporting on edge 'L18', time=57462.00.\n"
     ]
    },
    {
     "name": "stdout",
     "output_type": "stream",
     "text": [
      "Step #57600.00 (7ms ~= 142.86*RT, ~98142.86UPS, vehicles TOT 2691 ACT 687 BUF 0)          \n",
      "Simulation ended at time: 57600.00\n",
      "Reason: The final simulation step has been reached.\n",
      "Performance: \n",
      " Duration: 16.37s\n",
      " Real time factor: 219.874\n",
      " UPS: 98077.078116\n",
      "Vehicles: \n",
      " Inserted: 2691\n",
      " Running: 687\n",
      " Waiting: 0\n",
      " Teleports: 2 (Wrong Lane: 2)\n",
      "Statistics (avg of 2004):\n",
      " RouteLength: 4336.34\n",
      " Speed: 12.06\n",
      " Duration: 446.45\n",
      " WaitingTime: 84.64\n",
      " TimeLoss: 132.07\n",
      " DepartDelay: 0.50\n",
      "\n",
      "DijkstraRouter answered 2691 queries and explored 10.06 edges on average.\n",
      "DijkstraRouter spent 0.02s answering queries (0.01ms on average).\n",
      "printing /Users/rodrse/Documents/DemandCalibration/notebooks/od_calibration_sumo_files/quickstart/data/iter_quickstart.current_od.xml\n",
      "### Runing: iter\n",
      "od2trips --no-step-log  --spread.uniform --taz-files /Users/rodrse/Documents/DemandCalibration/notebooks/od_calibration_sumo_files/quickstart/data/quickstart.taz.xml --tazrelation-files /Users/rodrse/Documents/DemandCalibration/notebooks/od_calibration_sumo_files/quickstart/data/iter_quickstart.current_od.xml -o /Users/rodrse/Documents/DemandCalibration/notebooks/od_calibration_sumo_files/quickstart/data/iter_od_trips.trips.xml \n",
      "Success.\n",
      "Loading net-file from '/Users/rodrse/Documents/DemandCalibration/notebooks/od_calibration_sumo_files/quickstart/data/quickstart.net.xml' ... done (8ms).\n",
      "Loading additional-files from '/Users/rodrse/Documents/DemandCalibration/notebooks/od_calibration_sumo_files/quickstart/data/quickstart.additional.xml' ... done (1ms).\n",
      "Loading done.\n",
      "Simulation version 1.16.0 started with time: 54000.00.\n",
      "Step #56600.00 (7ms ~= 142.86*RT, ~120714.29UPS, vehicles TOT 2311 ACT 845 BUF 7)         \r"
     ]
    },
    {
     "name": "stderr",
     "output_type": "stream",
     "text": [
      "Warning: Teleporting vehicle '463'; waited too long (jam), lane='L12_0', time=56603.00.\n",
      "Warning: Vehicle '463' ends teleporting on edge 'L15', time=56603.00.\n",
      "Warning: Teleporting vehicle '466'; waited too long (jam), lane='L12_0', time=56604.00.\n",
      "Warning: Teleporting vehicle '462'; waited too long (jam), lane='L12_0', time=56605.00.\n",
      "Warning: Teleporting vehicle '479'; waited too long (jam), lane='L12_0', time=56610.00.\n",
      "Warning: Teleporting vehicle '483'; waited too long (jam), lane='L12_0', time=56612.00.\n",
      "Warning: Teleporting vehicle '485'; waited too long (jam), lane='L12_0', time=56614.00.\n",
      "Warning: Teleporting vehicle '484'; waited too long (jam), lane='L12_0', time=56625.00.\n",
      "Warning: Teleporting vehicle '486'; waited too long (jam), lane='L12_0', time=56628.00.\n",
      "Warning: Teleporting vehicle '489'; waited too long (jam), lane='L12_0', time=56629.00.\n",
      "Warning: Teleporting vehicle '495'; waited too long (jam), lane='L12_0', time=56630.00.\n",
      "Warning: Teleporting vehicle '500'; waited too long (jam), lane='L12_0', time=56631.00.\n",
      "Warning: Teleporting vehicle '492'; waited too long (jam), lane='L12_0', time=56632.00.\n",
      "Warning: Teleporting vehicle '498'; waited too long (jam), lane='L12_0', time=56633.00.\n",
      "Warning: Vehicle '462' ends teleporting on edge 'L15', time=56634.00.\n",
      "Warning: Teleporting vehicle '516'; waited too long (jam), lane='L2_0', time=56650.00.\n",
      "Warning: Vehicle '516' ends teleporting on edge 'L12', time=56650.00.\n",
      "Warning: Teleporting vehicle '392'; waited too long (wrong lane), lane='L15_0', time=56652.00.\n",
      "Warning: Vehicle '392' ends teleporting on edge 'L18', time=56652.00.\n",
      "Warning: Teleporting vehicle '396'; waited too long (wrong lane), lane='L15_0', time=56671.00.\n",
      "Warning: Vehicle '396' ends teleporting on edge 'L18', time=56671.00.\n",
      "Warning: Teleporting vehicle '433'; waited too long (wrong lane), lane='L15_0', time=56673.00.\n",
      "Warning: Vehicle '433' ends teleporting on edge 'L18', time=56673.00.\n",
      "Warning: Teleporting vehicle '442'; waited too long (wrong lane), lane='L15_0', time=56676.00.\n",
      "Warning: Vehicle '442' ends teleporting on edge 'L18', time=56676.00.\n"
     ]
    },
    {
     "name": "stdout",
     "output_type": "stream",
     "text": [
      "Step #56700.00 (8ms ~= 125.00*RT, ~103000.00UPS, vehicles TOT 2382 ACT 824 BUF 25)        \r"
     ]
    },
    {
     "name": "stderr",
     "output_type": "stream",
     "text": [
      "Warning: Vehicle '466' ends teleporting on edge 'L15', time=56718.00.\n"
     ]
    },
    {
     "name": "stdout",
     "output_type": "stream",
     "text": [
      "Step #56800.00 (10ms ~= 100.00*RT, ~81800.00UPS, vehicles TOT 2454 ACT 818 BUF 43)        \r"
     ]
    },
    {
     "name": "stderr",
     "output_type": "stream",
     "text": [
      "Warning: Teleporting vehicle '610'; waited too long (wrong lane), lane='L12_2', time=56848.00.\n",
      "Warning: Teleporting vehicle '350'; waited too long (jam), lane='L12_1', time=56851.00.\n",
      "Warning: Vehicle '350' ends teleporting on edge 'L15', time=56861.00.\n",
      "Warning: Teleporting vehicle '451'; waited too long (wrong lane), lane='L15_0', time=56883.00.\n",
      "Warning: Vehicle '451' ends teleporting on edge 'L18', time=56883.00.\n",
      "Warning: Teleporting vehicle '619'; waited too long (wrong lane), lane='L12_2', time=56889.00.\n",
      "Warning: Teleporting vehicle '621'; waited too long (wrong lane), lane='L12_2', time=56907.00.\n"
     ]
    },
    {
     "name": "stdout",
     "output_type": "stream",
     "text": [
      "Step #56900.00 (9ms ~= 111.11*RT, ~92555.56UPS, vehicles TOT 2519 ACT 833 BUF 66)         \r"
     ]
    },
    {
     "name": "stderr",
     "output_type": "stream",
     "text": [
      "Warning: Teleporting vehicle '633'; waited too long (wrong lane), lane='L12_2', time=56940.00.\n",
      "Warning: Vehicle '479' ends teleporting on edge 'L15', time=56969.00.\n",
      "Warning: Teleporting vehicle '652'; waited too long (wrong lane), lane='L12_2', time=56995.00.\n"
     ]
    },
    {
     "name": "stdout",
     "output_type": "stream",
     "text": [
      "Step #57000.00 (14ms ~= 71.43*RT, ~59500.00UPS, vehicles TOT 2564 ACT 833 BUF 111)        \r"
     ]
    },
    {
     "name": "stderr",
     "output_type": "stream",
     "text": [
      "Warning: Teleporting vehicle '518'; waited too long (jam), lane=':1_3_1', time=57018.00.\n",
      "Warning: Vehicle '518' ends teleporting on edge 'L12', time=57018.00.\n",
      "Warning: Teleporting vehicle '656'; waited too long (wrong lane), lane='L12_2', time=57031.00.\n",
      "Warning: Vehicle '483' ends teleporting on edge 'L15', time=57040.00.\n",
      "Warning: Teleporting vehicle '657'; waited too long (wrong lane), lane='L12_2', time=57067.00.\n"
     ]
    },
    {
     "name": "stdout",
     "output_type": "stream",
     "text": [
      "Step #57100.00 (8ms ~= 125.00*RT, ~100875.00UPS, vehicles TOT 2607 ACT 807 BUF 157)       \r"
     ]
    },
    {
     "name": "stderr",
     "output_type": "stream",
     "text": [
      "Warning: Vehicle '484' ends teleporting on edge 'L15', time=57101.00.\n",
      "Warning: Teleporting vehicle '659'; waited too long (wrong lane), lane='L12_2', time=57105.00.\n",
      "Warning: Teleporting vehicle '660'; waited too long (wrong lane), lane='L12_2', time=57140.00.\n",
      "Warning: Vehicle '485' ends teleporting on edge 'L15', time=57145.00.\n",
      "Warning: Teleporting vehicle '715'; waited too long (jam), lane='D2_1', time=57168.00.\n",
      "Warning: Vehicle '715' ends teleporting on edge 'L2', time=57168.00.\n"
     ]
    },
    {
     "name": "stdout",
     "output_type": "stream",
     "text": [
      "Step #57200.00 (10ms ~= 100.00*RT, ~79300.00UPS, vehicles TOT 2658 ACT 793 BUF 194)       \r"
     ]
    },
    {
     "name": "stderr",
     "output_type": "stream",
     "text": [
      "Warning: Teleporting vehicle '1460'; waited too long (jam), lane=':1_3_2', time=57201.00.\n",
      "Warning: Teleporting vehicle '707'; waited too long (jam), lane='L2_1', time=57202.00.\n",
      "Warning: Vehicle '707' ends teleporting on edge 'L12', time=57202.00.\n",
      "Warning: Vehicle '486' ends teleporting on edge 'L15', time=57205.00.\n",
      "Warning: Teleporting vehicle '708'; waited too long (jam), lane='L2_1', time=57208.00.\n",
      "Warning: Vehicle '708' ends teleporting on edge 'L12', time=57208.00.\n",
      "Warning: Teleporting vehicle '709'; waited too long (jam), lane='L2_1', time=57215.00.\n",
      "Warning: Vehicle '709' ends teleporting on edge 'L12', time=57215.00.\n",
      "Warning: Vehicle '1460' ends teleporting on edge 'L12', time=57250.00.\n"
     ]
    },
    {
     "name": "stdout",
     "output_type": "stream",
     "text": [
      "Step #57300.00 (7ms ~= 142.86*RT, ~112285.71UPS, vehicles TOT 2703 ACT 786 BUF 239)       \r"
     ]
    },
    {
     "name": "stderr",
     "output_type": "stream",
     "text": [
      "Warning: Teleporting vehicle '666'; waited too long (wrong lane), lane='L12_2', time=57325.00.\n",
      "Warning: Vehicle '489' ends teleporting on edge 'L15', time=57336.00.\n",
      "Warning: Vehicle '492' ends teleporting on edge 'L15', time=57368.00.\n"
     ]
    },
    {
     "name": "stdout",
     "output_type": "stream",
     "text": [
      "Step #57400.00 (9ms ~= 111.11*RT, ~86777.78UPS, vehicles TOT 2746 ACT 781 BUF 284)        \r"
     ]
    },
    {
     "name": "stderr",
     "output_type": "stream",
     "text": [
      "Warning: Vehicle '495' ends teleporting on edge 'L15', time=57401.00.\n",
      "Warning: Teleporting vehicle '586'; waited too long (jam), lane='D2_0', time=57416.00.\n",
      "Warning: Vehicle '586' ends teleporting on edge 'L2', time=57416.00.\n",
      "Warning: Vehicle '498' ends teleporting on edge 'L15', time=57437.00.\n",
      "Warning: Vehicle '500' ends teleporting on edge 'L15', time=57440.00.\n",
      "Warning: Vehicle '610' ends teleporting on edge 'L15', time=57446.00.\n",
      "Warning: Vehicle '619' ends teleporting on edge 'L15', time=57460.00.\n",
      "Warning: Teleporting vehicle '721'; waited too long (jam), lane='D2_1', time=57497.00.\n",
      "Warning: Vehicle '721' ends teleporting on edge 'L2', time=57497.00.\n",
      "Warning: Teleporting vehicle '1461'; waited too long (jam), lane=':1_3_2', time=57510.00.\n",
      "Warning: Vehicle '1461' ends teleporting on edge 'L12', time=57510.00.\n",
      "Warning: Vehicle '621' ends teleporting on edge 'L15', time=57513.00.\n"
     ]
    },
    {
     "name": "stdout",
     "output_type": "stream",
     "text": [
      "Step #57500.00 (8ms ~= 125.00*RT, ~96875.00UPS, vehicles TOT 2795 ACT 775 BUF 326)        \r"
     ]
    },
    {
     "name": "stderr",
     "output_type": "stream",
     "text": [
      "Warning: Teleporting vehicle '519'; waited too long (jam), lane=':1_3_1', time=57555.00.\n",
      "Warning: Vehicle '519' ends teleporting on edge 'L12', time=57555.00.\n"
     ]
    },
    {
     "name": "stdout",
     "output_type": "stream",
     "text": [
      "Step #57600.00 (10ms ~= 100.00*RT, ~80600.00UPS, vehicles TOT 2865 ACT 806 BUF 344)       \n",
      "Simulation ended at time: 57600.00\n",
      "Reason: The final simulation step has been reached.\n",
      "Performance: \n",
      " Duration: 22.94s\n",
      " Real time factor: 156.958\n",
      " UPS: 99120.029648\n",
      "Vehicles: \n",
      " Inserted: 2865 (Loaded: 3209)\n",
      " Running: 806\n",
      " Waiting: 344\n",
      " Teleports: 40 (Jam: 25, Wrong Lane: 15)\n",
      "Statistics (avg of 2059):\n",
      " RouteLength: 4473.87\n",
      " Speed: 10.88\n",
      " Duration: 522.84\n",
      " WaitingTime: 101.47\n",
      " TimeLoss: 199.18\n",
      " DepartDelay: 0.49\n",
      "\n",
      "DijkstraRouter answered 3294 queries and explored 10.61 edges on average.\n",
      "DijkstraRouter spent 0.01s answering queries (0.00ms on average).\n",
      "printing /Users/rodrse/Documents/DemandCalibration/notebooks/od_calibration_sumo_files/quickstart/data/iter_quickstart.current_od.xml\n",
      "### Runing: iter\n",
      "od2trips --no-step-log  --spread.uniform --taz-files /Users/rodrse/Documents/DemandCalibration/notebooks/od_calibration_sumo_files/quickstart/data/quickstart.taz.xml --tazrelation-files /Users/rodrse/Documents/DemandCalibration/notebooks/od_calibration_sumo_files/quickstart/data/iter_quickstart.current_od.xml -o /Users/rodrse/Documents/DemandCalibration/notebooks/od_calibration_sumo_files/quickstart/data/iter_od_trips.trips.xml \n",
      "Success.\n",
      "Loading net-file from '/Users/rodrse/Documents/DemandCalibration/notebooks/od_calibration_sumo_files/quickstart/data/quickstart.net.xml' ... done (7ms).\n",
      "Loading additional-files from '/Users/rodrse/Documents/DemandCalibration/notebooks/od_calibration_sumo_files/quickstart/data/quickstart.additional.xml' ... done (1ms).\n",
      "Loading done.\n",
      "Simulation version 1.16.0 started with time: 54000.00.\n",
      "Step #57000.00 (8ms ~= 125.00*RT, ~109500.00UPS, vehicles TOT 2571 ACT 876 BUF 0)         \r"
     ]
    },
    {
     "name": "stderr",
     "output_type": "stream",
     "text": [
      "Warning: Teleporting vehicle '623'; waited too long (wrong lane), lane='L12_2', time=57022.00.\n",
      "Warning: Vehicle '623' ends teleporting on edge 'L15', time=57022.00.\n"
     ]
    },
    {
     "name": "stdout",
     "output_type": "stream",
     "text": [
      "Step #57100.00 (9ms ~= 111.11*RT, ~99444.44UPS, vehicles TOT 2654 ACT 895 BUF 2)          \r"
     ]
    },
    {
     "name": "stderr",
     "output_type": "stream",
     "text": [
      "Warning: Teleporting vehicle '628'; waited too long (wrong lane), lane='L12_2', time=57151.00.\n",
      "Warning: Teleporting vehicle '1502'; waited too long (jam), lane=':1_3_2', time=57193.00.\n",
      "Warning: Vehicle '1502' ends teleporting on edge 'L12', time=57193.00.\n",
      "Warning: Teleporting vehicle '677'; waited too long (jam), lane='L2_1', time=57194.00.\n",
      "Warning: Vehicle '677' ends teleporting on edge 'L12', time=57194.00.\n",
      "Warning: Teleporting vehicle '678'; waited too long (jam), lane='L2_1', time=57200.00.\n",
      "Warning: Vehicle '678' ends teleporting on edge 'L12', time=57200.00.\n",
      "Warning: Vehicle '628' ends teleporting on edge 'L15', time=57216.00.\n"
     ]
    },
    {
     "name": "stdout",
     "output_type": "stream",
     "text": [
      "Step #57200.00 (6ms ~= 166.67*RT, ~147500.00UPS, vehicles TOT 2693 ACT 885 BUF 49)        \r"
     ]
    },
    {
     "name": "stderr",
     "output_type": "stream",
     "text": [
      "Warning: Teleporting vehicle '1536'; waited too long (jam), lane='D2_1', time=57299.00.\n",
      "Warning: Vehicle '1536' ends teleporting on edge 'L2', time=57299.00.\n",
      "Warning: Teleporting vehicle '713'; waited too long (jam), lane='D2_1', time=57300.00.\n",
      "Warning: Vehicle '713' ends teleporting on edge 'L2', time=57300.00.\n",
      "Warning: Teleporting vehicle '714'; waited too long (jam), lane='D2_1', time=57303.00.\n",
      "Warning: Teleporting vehicle '633'; waited too long (wrong lane), lane='L12_2', time=57304.00.\n",
      "Warning: Vehicle '633' ends teleporting on edge 'L15', time=57304.00.\n",
      "Warning: Vehicle '714' ends teleporting on edge 'L2', time=57309.00.\n"
     ]
    },
    {
     "name": "stdout",
     "output_type": "stream",
     "text": [
      "Step #57300.00 (8ms ~= 125.00*RT, ~108875.00UPS, vehicles TOT 2732 ACT 871 BUF 96)        \r"
     ]
    },
    {
     "name": "stderr",
     "output_type": "stream",
     "text": [
      "Warning: Teleporting vehicle '635'; waited too long (wrong lane), lane='L12_2', time=57364.00.\n",
      "Warning: Vehicle '635' ends teleporting on edge 'L15', time=57364.00.\n",
      "Warning: Teleporting vehicle '636'; waited too long (wrong lane), lane='L12_2', time=57365.00.\n",
      "Warning: Teleporting vehicle '680'; waited too long (jam), lane='L2_1', time=57391.00.\n",
      "Warning: Vehicle '680' ends teleporting on edge 'L12', time=57391.00.\n"
     ]
    },
    {
     "name": "stdout",
     "output_type": "stream",
     "text": [
      "Step #57400.00 (6ms ~= 166.67*RT, ~145166.67UPS, vehicles TOT 2772 ACT 871 BUF 142)       \r"
     ]
    },
    {
     "name": "stderr",
     "output_type": "stream",
     "text": [
      "Warning: Vehicle '636' ends teleporting on edge 'L15', time=57406.00.\n",
      "Warning: Teleporting vehicle '683'; waited too long (jam), lane='L2_1', time=57410.00.\n",
      "Warning: Vehicle '683' ends teleporting on edge 'L12', time=57410.00.\n",
      "Warning: Teleporting vehicle '646'; waited too long (wrong lane), lane='L12_2', time=57426.00.\n",
      "Warning: Teleporting vehicle '647'; waited too long (wrong lane), lane='L12_2', time=57476.00.\n",
      "Warning: Vehicle '646' ends teleporting on edge 'L15', time=57478.00.\n",
      "Warning: Teleporting vehicle '689'; waited too long (jam), lane='L2_1', time=57488.00.\n",
      "Warning: Vehicle '689' ends teleporting on edge 'L12', time=57488.00.\n"
     ]
    },
    {
     "name": "stdout",
     "output_type": "stream",
     "text": [
      "Step #57500.00 (7ms ~= 142.86*RT, ~122571.43UPS, vehicles TOT 2811 ACT 858 BUF 188)       \r"
     ]
    },
    {
     "name": "stderr",
     "output_type": "stream",
     "text": [
      "Warning: Vehicle '647' ends teleporting on edge 'L15', time=57525.00.\n",
      "Warning: Teleporting vehicle '649'; waited too long (wrong lane), lane='L12_2', time=57535.00.\n",
      "Warning: Teleporting vehicle '553'; waited too long (jam), lane='D2_0', time=57543.00.\n",
      "Warning: Vehicle '553' ends teleporting on edge 'L2', time=57543.00.\n",
      "Warning: Vehicle '649' ends teleporting on edge 'L15', time=57575.00.\n"
     ]
    },
    {
     "name": "stdout",
     "output_type": "stream",
     "text": [
      "Step #57600.00 (6ms ~= 166.67*RT, ~142333.33UPS, vehicles TOT 2850 ACT 854 BUF 235)       \n",
      "Simulation ended at time: 57600.00\n",
      "Reason: The final simulation step has been reached.\n",
      "Performance: \n",
      " Duration: 21.63s\n",
      " Real time factor: 166.436\n",
      " UPS: 108309.477577\n",
      "Vehicles: \n",
      " Inserted: 2850 (Loaded: 3085)\n",
      " Running: 854\n",
      " Waiting: 235\n",
      " Teleports: 18 (Jam: 10, Wrong Lane: 8)\n",
      "Statistics (avg of 1996):\n",
      " RouteLength: 4440.39\n",
      " Speed: 10.39\n",
      " Duration: 567.53\n",
      " WaitingTime: 113.68\n",
      " TimeLoss: 245.70\n",
      " DepartDelay: 0.46\n",
      "\n",
      "DijkstraRouter answered 3086 queries and explored 10.42 edges on average.\n",
      "DijkstraRouter spent 0.02s answering queries (0.01ms on average).\n",
      "printing /Users/rodrse/Documents/DemandCalibration/notebooks/od_calibration_sumo_files/quickstart/data/iter_quickstart.current_od.xml\n",
      "### Runing: iter\n",
      "od2trips --no-step-log  --spread.uniform --taz-files /Users/rodrse/Documents/DemandCalibration/notebooks/od_calibration_sumo_files/quickstart/data/quickstart.taz.xml --tazrelation-files /Users/rodrse/Documents/DemandCalibration/notebooks/od_calibration_sumo_files/quickstart/data/iter_quickstart.current_od.xml -o /Users/rodrse/Documents/DemandCalibration/notebooks/od_calibration_sumo_files/quickstart/data/iter_od_trips.trips.xml \n",
      "Success.\n",
      "Loading net-file from '/Users/rodrse/Documents/DemandCalibration/notebooks/od_calibration_sumo_files/quickstart/data/quickstart.net.xml' ... done (6ms).\n",
      "Loading additional-files from '/Users/rodrse/Documents/DemandCalibration/notebooks/od_calibration_sumo_files/quickstart/data/quickstart.additional.xml' ... done (1ms).\n",
      "Loading done.\n",
      "Simulation version 1.16.0 started with time: 54000.00.\n",
      "Step #57600.00 (5ms ~= 200.00*RT, ~132600.00UPS, vehicles TOT 2721 ACT 663 BUF 0)         \n",
      "Simulation ended at time: 57600.00\n",
      "Reason: The final simulation step has been reached.\n",
      "Performance: \n",
      " Duration: 13.33s\n",
      " Real time factor: 270.169\n",
      " UPS: 115869.493433\n",
      "Vehicles: \n",
      " Inserted: 2721\n",
      " Running: 663\n",
      " Waiting: 0\n",
      "Statistics (avg of 2058):\n",
      " RouteLength: 4338.60\n",
      " Speed: 12.51\n",
      " Duration: 412.39\n",
      " WaitingTime: 65.47\n",
      " TimeLoss: 97.29\n",
      " DepartDelay: 0.49\n",
      "\n",
      "DijkstraRouter answered 2721 queries and explored 10.26 edges on average.\n",
      "DijkstraRouter spent 0.01s answering queries (0.00ms on average).\n",
      "printing /Users/rodrse/Documents/DemandCalibration/notebooks/od_calibration_sumo_files/quickstart/data/iter_quickstart.current_od.xml\n",
      "### Runing: iter\n",
      "od2trips --no-step-log  --spread.uniform --taz-files /Users/rodrse/Documents/DemandCalibration/notebooks/od_calibration_sumo_files/quickstart/data/quickstart.taz.xml --tazrelation-files /Users/rodrse/Documents/DemandCalibration/notebooks/od_calibration_sumo_files/quickstart/data/iter_quickstart.current_od.xml -o /Users/rodrse/Documents/DemandCalibration/notebooks/od_calibration_sumo_files/quickstart/data/iter_od_trips.trips.xml \n",
      "Success.\n",
      "Loading net-file from '/Users/rodrse/Documents/DemandCalibration/notebooks/od_calibration_sumo_files/quickstart/data/quickstart.net.xml' ... done (7ms).\n",
      "Loading additional-files from '/Users/rodrse/Documents/DemandCalibration/notebooks/od_calibration_sumo_files/quickstart/data/quickstart.additional.xml' ... done (1ms).\n",
      "Loading done.\n",
      "Simulation version 1.16.0 started with time: 54000.00.\n",
      "Step #57600.00 (12ms ~= 83.33*RT, ~72250.00UPS, vehicles TOT 2847 ACT 867 BUF 0)          \n",
      "Simulation ended at time: 57600.00\n",
      "Reason: The final simulation step has been reached.\n",
      "Performance: \n",
      " Duration: 18.30s\n",
      " Real time factor: 196.764\n",
      " UPS: 107387.844338\n",
      "Vehicles: \n",
      " Inserted: 2847\n",
      " Running: 867\n",
      " Waiting: 0\n",
      "Statistics (avg of 1980):\n",
      " RouteLength: 4274.39\n",
      " Speed: 10.95\n",
      " Duration: 588.39\n",
      " WaitingTime: 167.12\n",
      " TimeLoss: 278.94\n",
      " DepartDelay: 0.48\n",
      "\n",
      "DijkstraRouter answered 2847 queries and explored 9.75 edges on average.\n",
      "DijkstraRouter spent 0.01s answering queries (0.00ms on average).\n",
      "printing /Users/rodrse/Documents/DemandCalibration/notebooks/od_calibration_sumo_files/quickstart/data/iter_quickstart.current_od.xml\n",
      "### Runing: iter\n",
      "od2trips --no-step-log  --spread.uniform --taz-files /Users/rodrse/Documents/DemandCalibration/notebooks/od_calibration_sumo_files/quickstart/data/quickstart.taz.xml --tazrelation-files /Users/rodrse/Documents/DemandCalibration/notebooks/od_calibration_sumo_files/quickstart/data/iter_quickstart.current_od.xml -o /Users/rodrse/Documents/DemandCalibration/notebooks/od_calibration_sumo_files/quickstart/data/iter_od_trips.trips.xml \n",
      "Success.\n",
      "Loading net-file from '/Users/rodrse/Documents/DemandCalibration/notebooks/od_calibration_sumo_files/quickstart/data/quickstart.net.xml' ... done (7ms).\n",
      "Loading additional-files from '/Users/rodrse/Documents/DemandCalibration/notebooks/od_calibration_sumo_files/quickstart/data/quickstart.additional.xml' ... done (1ms).\n",
      "Loading done.\n",
      "Simulation version 1.16.0 started with time: 54000.00.\n",
      "Step #56900.00 (8ms ~= 125.00*RT, ~80875.00UPS, vehicles TOT 2025 ACT 647 BUF 0)          \r"
     ]
    },
    {
     "name": "stderr",
     "output_type": "stream",
     "text": [
      "Warning: Teleporting vehicle '516'; waited too long (jam), lane='L12_0', time=56944.00.\n",
      "Warning: Vehicle '516' ends teleporting on edge 'L15', time=56944.00.\n"
     ]
    },
    {
     "name": "stdout",
     "output_type": "stream",
     "text": [
      "Step #57000.00 (9ms ~= 111.11*RT, ~73333.33UPS, vehicles TOT 2095 ACT 660 BUF 0)          \r"
     ]
    },
    {
     "name": "stderr",
     "output_type": "stream",
     "text": [
      "Warning: Teleporting vehicle '474'; waited too long (wrong lane), lane='L15_0', time=57043.00.\n",
      "Warning: Vehicle '474' ends teleporting on edge 'L18', time=57043.00.\n"
     ]
    },
    {
     "name": "stdout",
     "output_type": "stream",
     "text": [
      "Step #57600.00 (6ms ~= 166.67*RT, ~129333.33UPS, vehicles TOT 2514 ACT 776 BUF 0)         \n",
      "Simulation ended at time: 57600.00\n",
      "Reason: The final simulation step has been reached.\n",
      "Performance: \n",
      " Duration: 17.97s\n",
      " Real time factor: 200.39\n",
      " UPS: 92265.237963\n",
      "Vehicles: \n",
      " Inserted: 2514\n",
      " Running: 776\n",
      " Waiting: 0\n",
      " Teleports: 2 (Jam: 1, Wrong Lane: 1)\n",
      "Statistics (avg of 1738):\n",
      " RouteLength: 4360.00\n",
      " Speed: 12.38\n",
      " Duration: 446.25\n",
      " WaitingTime: 85.92\n",
      " TimeLoss: 130.41\n",
      " DepartDelay: 0.49\n",
      "\n",
      "DijkstraRouter answered 2514 queries and explored 10.68 edges on average.\n",
      "DijkstraRouter spent 0.02s answering queries (0.01ms on average).\n",
      "printing /Users/rodrse/Documents/DemandCalibration/notebooks/od_calibration_sumo_files/quickstart/data/iter_quickstart.current_od.xml\n",
      "### Runing: iter\n",
      "od2trips --no-step-log  --spread.uniform --taz-files /Users/rodrse/Documents/DemandCalibration/notebooks/od_calibration_sumo_files/quickstart/data/quickstart.taz.xml --tazrelation-files /Users/rodrse/Documents/DemandCalibration/notebooks/od_calibration_sumo_files/quickstart/data/iter_quickstart.current_od.xml -o /Users/rodrse/Documents/DemandCalibration/notebooks/od_calibration_sumo_files/quickstart/data/iter_od_trips.trips.xml \n",
      "Success.\n",
      "Loading net-file from '/Users/rodrse/Documents/DemandCalibration/notebooks/od_calibration_sumo_files/quickstart/data/quickstart.net.xml' ... done (8ms).\n",
      "Loading additional-files from '/Users/rodrse/Documents/DemandCalibration/notebooks/od_calibration_sumo_files/quickstart/data/quickstart.additional.xml' ... done (2ms).\n",
      "Loading done.\n",
      "Simulation version 1.16.0 started with time: 54000.00.\n",
      "Step #56800.00 (8ms ~= 125.00*RT, ~88000.00UPS, vehicles TOT 2200 ACT 704 BUF 0)          \r"
     ]
    },
    {
     "name": "stderr",
     "output_type": "stream",
     "text": [
      "Warning: Teleporting vehicle '446'; waited too long (wrong lane), lane='L15_0', time=56796.00.\n",
      "Warning: Vehicle '446' ends teleporting on edge 'L18', time=56796.00.\n",
      "Warning: Teleporting vehicle '448'; waited too long (wrong lane), lane='L15_0', time=56797.00.\n",
      "Warning: Vehicle '448' ends teleporting on edge 'L18', time=56797.00.\n",
      "Warning: Teleporting vehicle '473'; waited too long (wrong lane), lane='L15_0', time=56798.00.\n",
      "Warning: Vehicle '473' ends teleporting on edge 'L18', time=56798.00.\n",
      "Warning: Teleporting vehicle '457'; waited too long (wrong lane), lane='L15_0', time=56799.00.\n",
      "Warning: Vehicle '457' ends teleporting on edge 'L18', time=56799.00.\n",
      "Warning: Teleporting vehicle '461'; waited too long (wrong lane), lane='L15_0', time=56800.00.\n",
      "Warning: Vehicle '461' ends teleporting on edge 'L18', time=56800.00.\n",
      "Warning: Teleporting vehicle '465'; waited too long (wrong lane), lane='L15_0', time=56801.00.\n",
      "Warning: Vehicle '465' ends teleporting on edge 'L18', time=56801.00.\n",
      "Warning: Teleporting vehicle '471'; waited too long (wrong lane), lane='L15_0', time=56802.00.\n",
      "Warning: Vehicle '471' ends teleporting on edge 'L18', time=56802.00.\n",
      "Warning: Teleporting vehicle '464'; waited too long (wrong lane), lane='L15_0', time=56803.00.\n",
      "Warning: Vehicle '464' ends teleporting on edge 'L18', time=56803.00.\n",
      "Warning: Teleporting vehicle '470'; waited too long (wrong lane), lane='L15_0', time=56804.00.\n",
      "Warning: Vehicle '470' ends teleporting on edge 'L18', time=56804.00.\n",
      "Warning: Teleporting vehicle '449'; waited too long (wrong lane), lane='L15_0', time=56805.00.\n",
      "Warning: Vehicle '449' ends teleporting on edge 'L18', time=56805.00.\n",
      "Warning: Teleporting vehicle '483'; waited too long (wrong lane), lane='L15_0', time=56818.00.\n",
      "Warning: Vehicle '483' ends teleporting on edge 'L18', time=56818.00.\n",
      "Warning: Teleporting vehicle '426'; waited too long (wrong lane), lane='L15_0', time=56876.00.\n",
      "Warning: Teleporting vehicle '370'; waited too long (jam), lane='L12_1', time=56876.00.\n",
      "Warning: Vehicle '370' ends teleporting on edge 'L15', time=56876.00.\n",
      "Warning: Vehicle '426' ends teleporting on edge 'L18', time=56876.00.\n"
     ]
    },
    {
     "name": "stdout",
     "output_type": "stream",
     "text": [
      "Step #56900.00 (8ms ~= 125.00*RT, ~90125.00UPS, vehicles TOT 2280 ACT 721 BUF 0)          \r"
     ]
    },
    {
     "name": "stderr",
     "output_type": "stream",
     "text": [
      "Warning: Teleporting vehicle '436'; waited too long (wrong lane), lane='L15_0', time=56926.00.\n",
      "Warning: Vehicle '436' ends teleporting on edge 'L18', time=56926.00.\n"
     ]
    },
    {
     "name": "stdout",
     "output_type": "stream",
     "text": [
      "Step #57000.00 (7ms ~= 142.86*RT, ~103285.71UPS, vehicles TOT 2358 ACT 723 BUF 0)         \r"
     ]
    },
    {
     "name": "stderr",
     "output_type": "stream",
     "text": [
      "Warning: Teleporting vehicle '467'; waited too long (wrong lane), lane='L15_0', time=57049.00.\n",
      "Warning: Vehicle '467' ends teleporting on edge 'L18', time=57049.00.\n",
      "Warning: Teleporting vehicle '456'; waited too long (wrong lane), lane='L15_0', time=57050.00.\n",
      "Warning: Vehicle '456' ends teleporting on edge 'L18', time=57050.00.\n",
      "Warning: Teleporting vehicle '490'; waited too long (wrong lane), lane='L15_0', time=57051.00.\n",
      "Warning: Vehicle '490' ends teleporting on edge 'L18', time=57051.00.\n",
      "Warning: Teleporting vehicle '487'; waited too long (wrong lane), lane='L15_0', time=57052.00.\n",
      "Warning: Vehicle '487' ends teleporting on edge 'L18', time=57052.00.\n",
      "Warning: Teleporting vehicle '447'; waited too long (wrong lane), lane='L15_0', time=57053.00.\n",
      "Warning: Vehicle '447' ends teleporting on edge 'L18', time=57053.00.\n",
      "Warning: Teleporting vehicle '455'; waited too long (wrong lane), lane='L15_0', time=57054.00.\n",
      "Warning: Vehicle '455' ends teleporting on edge 'L18', time=57054.00.\n",
      "Warning: Teleporting vehicle '474'; waited too long (wrong lane), lane='L15_0', time=57055.00.\n",
      "Warning: Vehicle '474' ends teleporting on edge 'L18', time=57055.00.\n",
      "Warning: Teleporting vehicle '492'; waited too long (wrong lane), lane='L15_0', time=57056.00.\n",
      "Warning: Vehicle '492' ends teleporting on edge 'L18', time=57056.00.\n",
      "Warning: Teleporting vehicle '507'; waited too long (wrong lane), lane='L15_0', time=57057.00.\n",
      "Warning: Vehicle '507' ends teleporting on edge 'L18', time=57057.00.\n",
      "Warning: Teleporting vehicle '510'; waited too long (wrong lane), lane='L15_0', time=57058.00.\n",
      "Warning: Vehicle '510' ends teleporting on edge 'L18', time=57058.00.\n",
      "Warning: Teleporting vehicle '494'; waited too long (wrong lane), lane='L15_0', time=57059.00.\n",
      "Warning: Vehicle '494' ends teleporting on edge 'L18', time=57059.00.\n",
      "Warning: Teleporting vehicle '496'; waited too long (wrong lane), lane='L15_0', time=57060.00.\n",
      "Warning: Vehicle '496' ends teleporting on edge 'L18', time=57060.00.\n",
      "Warning: Teleporting vehicle '503'; waited too long (wrong lane), lane='L15_0', time=57061.00.\n",
      "Warning: Vehicle '503' ends teleporting on edge 'L18', time=57061.00.\n",
      "Warning: Teleporting vehicle '506'; waited too long (wrong lane), lane='L15_0', time=57062.00.\n",
      "Warning: Vehicle '506' ends teleporting on edge 'L18', time=57062.00.\n",
      "Warning: Teleporting vehicle '504'; waited too long (wrong lane), lane='L15_0', time=57063.00.\n",
      "Warning: Vehicle '504' ends teleporting on edge 'L18', time=57063.00.\n",
      "Warning: Teleporting vehicle '518'; waited too long (wrong lane), lane='L15_0', time=57064.00.\n",
      "Warning: Vehicle '518' ends teleporting on edge 'L18', time=57064.00.\n",
      "Warning: Teleporting vehicle '511'; waited too long (wrong lane), lane='L15_0', time=57065.00.\n",
      "Warning: Vehicle '511' ends teleporting on edge 'L18', time=57065.00.\n",
      "Warning: Teleporting vehicle '520'; waited too long (wrong lane), lane='L15_0', time=57066.00.\n",
      "Warning: Vehicle '520' ends teleporting on edge 'L18', time=57066.00.\n",
      "Warning: Teleporting vehicle '508'; waited too long (wrong lane), lane='L15_0', time=57067.00.\n",
      "Warning: Vehicle '508' ends teleporting on edge 'L18', time=57067.00.\n",
      "Warning: Teleporting vehicle '512'; waited too long (wrong lane), lane='L15_0', time=57068.00.\n",
      "Warning: Vehicle '512' ends teleporting on edge 'L18', time=57068.00.\n",
      "Warning: Teleporting vehicle '502'; waited too long (wrong lane), lane='L15_0', time=57069.00.\n",
      "Warning: Vehicle '502' ends teleporting on edge 'L18', time=57069.00.\n",
      "Warning: Teleporting vehicle '501'; waited too long (wrong lane), lane='L15_0', time=57070.00.\n",
      "Warning: Vehicle '501' ends teleporting on edge 'L18', time=57070.00.\n",
      "Warning: Teleporting vehicle '513'; waited too long (wrong lane), lane='L15_0', time=57071.00.\n",
      "Warning: Vehicle '513' ends teleporting on edge 'L18', time=57071.00.\n",
      "Warning: Teleporting vehicle '532'; waited too long (wrong lane), lane='L15_0', time=57072.00.\n",
      "Warning: Vehicle '532' ends teleporting on edge 'L18', time=57072.00.\n",
      "Warning: Teleporting vehicle '542'; waited too long (wrong lane), lane='L15_0', time=57073.00.\n",
      "Warning: Vehicle '542' ends teleporting on edge 'L18', time=57073.00.\n",
      "Warning: Teleporting vehicle '535'; waited too long (wrong lane), lane='L15_0', time=57074.00.\n",
      "Warning: Vehicle '535' ends teleporting on edge 'L18', time=57074.00.\n",
      "Warning: Teleporting vehicle '537'; waited too long (wrong lane), lane='L15_0', time=57075.00.\n",
      "Warning: Vehicle '537' ends teleporting on edge 'L18', time=57075.00.\n",
      "Warning: Teleporting vehicle '544'; waited too long (wrong lane), lane='L15_0', time=57076.00.\n",
      "Warning: Vehicle '544' ends teleporting on edge 'L18', time=57076.00.\n",
      "Warning: Teleporting vehicle '550'; waited too long (wrong lane), lane='L15_0', time=57077.00.\n",
      "Warning: Vehicle '550' ends teleporting on edge 'L18', time=57077.00.\n"
     ]
    },
    {
     "name": "stdout",
     "output_type": "stream",
     "text": [
      "Step #57600.00 (6ms ~= 166.67*RT, ~129833.33UPS, vehicles TOT 2771 ACT 779 BUF 58)        \n",
      "Simulation ended at time: 57600.00\n",
      "Reason: The final simulation step has been reached.\n",
      "Performance: \n",
      " Duration: 17.37s\n",
      " Real time factor: 207.302\n",
      " UPS: 108367.557296\n",
      "Vehicles: \n",
      " Inserted: 2771 (Loaded: 2829)\n",
      " Running: 779\n",
      " Waiting: 58\n",
      " Teleports: 43 (Jam: 1, Wrong Lane: 42)\n",
      "Statistics (avg of 1992):\n",
      " RouteLength: 4395.96\n",
      " Speed: 11.54\n",
      " Duration: 474.14\n",
      " WaitingTime: 95.82\n",
      " TimeLoss: 155.92\n",
      " DepartDelay: 0.52\n",
      "\n",
      "DijkstraRouter answered 2936 queries and explored 10.32 edges on average.\n",
      "DijkstraRouter spent 0.01s answering queries (0.00ms on average).\n",
      "printing /Users/rodrse/Documents/DemandCalibration/notebooks/od_calibration_sumo_files/quickstart/data/iter_quickstart.current_od.xml\n",
      "### Runing: iter\n",
      "od2trips --no-step-log  --spread.uniform --taz-files /Users/rodrse/Documents/DemandCalibration/notebooks/od_calibration_sumo_files/quickstart/data/quickstart.taz.xml --tazrelation-files /Users/rodrse/Documents/DemandCalibration/notebooks/od_calibration_sumo_files/quickstart/data/iter_quickstart.current_od.xml -o /Users/rodrse/Documents/DemandCalibration/notebooks/od_calibration_sumo_files/quickstart/data/iter_od_trips.trips.xml \n",
      "Success.\n",
      "Loading net-file from '/Users/rodrse/Documents/DemandCalibration/notebooks/od_calibration_sumo_files/quickstart/data/quickstart.net.xml' ... done (8ms).\n",
      "Loading additional-files from '/Users/rodrse/Documents/DemandCalibration/notebooks/od_calibration_sumo_files/quickstart/data/quickstart.additional.xml' ... done (1ms).\n",
      "Loading done.\n",
      "Simulation version 1.16.0 started with time: 54000.00.\n",
      "Step #57600.00 (13ms ~= 76.92*RT, ~66769.23UPS, vehicles TOT 2900 ACT 868 BUF 0)          \n",
      "Simulation ended at time: 57600.00\n",
      "Reason: The final simulation step has been reached.\n",
      "Performance: \n",
      " Duration: 22.59s\n",
      " Real time factor: 159.384\n",
      " UPS: 86247.443220\n",
      "Vehicles: \n",
      " Inserted: 2900\n",
      " Running: 868\n",
      " Waiting: 0\n",
      "Statistics (avg of 2032):\n",
      " RouteLength: 4324.95\n",
      " Speed: 10.77\n",
      " Duration: 563.69\n",
      " WaitingTime: 128.79\n",
      " TimeLoss: 250.29\n",
      " DepartDelay: 0.49\n",
      "\n",
      "DijkstraRouter answered 2900 queries and explored 9.92 edges on average.\n",
      "DijkstraRouter spent 0.02s answering queries (0.01ms on average).\n",
      "printing /Users/rodrse/Documents/DemandCalibration/notebooks/od_calibration_sumo_files/quickstart/data/iter_quickstart.current_od.xml\n",
      "### Runing: iter\n",
      "od2trips --no-step-log  --spread.uniform --taz-files /Users/rodrse/Documents/DemandCalibration/notebooks/od_calibration_sumo_files/quickstart/data/quickstart.taz.xml --tazrelation-files /Users/rodrse/Documents/DemandCalibration/notebooks/od_calibration_sumo_files/quickstart/data/iter_quickstart.current_od.xml -o /Users/rodrse/Documents/DemandCalibration/notebooks/od_calibration_sumo_files/quickstart/data/iter_od_trips.trips.xml \n",
      "Success.\n",
      "Loading net-file from '/Users/rodrse/Documents/DemandCalibration/notebooks/od_calibration_sumo_files/quickstart/data/quickstart.net.xml' ... done (8ms).\n",
      "Loading additional-files from '/Users/rodrse/Documents/DemandCalibration/notebooks/od_calibration_sumo_files/quickstart/data/quickstart.additional.xml' ... done (1ms).\n",
      "Loading done.\n",
      "Simulation version 1.16.0 started with time: 54000.00.\n",
      "Step #57600.00 (5ms ~= 200.00*RT, ~120000.00UPS, vehicles TOT 2483 ACT 600 BUF 0)         \n",
      "Simulation ended at time: 57600.00\n",
      "Reason: The final simulation step has been reached.\n",
      "Performance: \n",
      " Duration: 13.37s\n",
      " Real time factor: 269.179\n",
      " UPS: 103401.824435\n",
      "Vehicles: \n",
      " Inserted: 2483\n",
      " Running: 600\n",
      " Waiting: 0\n",
      "Statistics (avg of 1883):\n",
      " RouteLength: 4297.66\n",
      " Speed: 11.55\n",
      " Duration: 474.56\n",
      " WaitingTime: 103.09\n",
      " TimeLoss: 162.92\n",
      " DepartDelay: 0.49\n",
      "\n",
      "DijkstraRouter answered 2483 queries and explored 9.63 edges on average.\n",
      "DijkstraRouter spent 0.02s answering queries (0.01ms on average).\n",
      "printing /Users/rodrse/Documents/DemandCalibration/notebooks/od_calibration_sumo_files/quickstart/data/iter_quickstart.current_od.xml\n",
      "### Runing: iter\n",
      "od2trips --no-step-log  --spread.uniform --taz-files /Users/rodrse/Documents/DemandCalibration/notebooks/od_calibration_sumo_files/quickstart/data/quickstart.taz.xml --tazrelation-files /Users/rodrse/Documents/DemandCalibration/notebooks/od_calibration_sumo_files/quickstart/data/iter_quickstart.current_od.xml -o /Users/rodrse/Documents/DemandCalibration/notebooks/od_calibration_sumo_files/quickstart/data/iter_od_trips.trips.xml \n",
      "Success.\n",
      "Loading net-file from '/Users/rodrse/Documents/DemandCalibration/notebooks/od_calibration_sumo_files/quickstart/data/quickstart.net.xml' ... done (9ms).\n",
      "Loading additional-files from '/Users/rodrse/Documents/DemandCalibration/notebooks/od_calibration_sumo_files/quickstart/data/quickstart.additional.xml' ... done (18ms).\n",
      "Loading done.\n",
      "Simulation version 1.16.0 started with time: 54000.00.\n",
      "Step #56800.00 (6ms ~= 166.67*RT, ~139166.67UPS, vehicles TOT 2311 ACT 835 BUF 0)         \r"
     ]
    },
    {
     "name": "stderr",
     "output_type": "stream",
     "text": [
      "Warning: Teleporting vehicle '598'; waited too long (wrong lane), lane='L12_2', time=56809.00.\n",
      "Warning: Vehicle '598' ends teleporting on edge 'L15', time=56809.00.\n"
     ]
    },
    {
     "name": "stdout",
     "output_type": "stream",
     "text": [
      "Step #56900.00 (7ms ~= 142.86*RT, ~124000.00UPS, vehicles TOT 2394 ACT 868 BUF 0)         \r"
     ]
    },
    {
     "name": "stderr",
     "output_type": "stream",
     "text": [
      "Warning: Teleporting vehicle '601'; waited too long (wrong lane), lane='L12_2', time=56903.00.\n",
      "Warning: Vehicle '601' ends teleporting on edge 'L15', time=56903.00.\n",
      "Warning: Teleporting vehicle '604'; waited too long (wrong lane), lane='L12_2', time=56949.00.\n",
      "Warning: Vehicle '604' ends teleporting on edge 'L15', time=56949.00.\n",
      "Warning: Teleporting vehicle '605'; waited too long (wrong lane), lane='L12_2', time=56950.00.\n",
      "Warning: Vehicle '605' ends teleporting on edge 'L15', time=56967.00.\n",
      "Warning: Teleporting vehicle '610'; waited too long (wrong lane), lane='L12_2', time=56987.00.\n",
      "Warning: Vehicle '610' ends teleporting on edge 'L15', time=56994.00.\n"
     ]
    },
    {
     "name": "stdout",
     "output_type": "stream",
     "text": [
      "Step #57000.00 (9ms ~= 111.11*RT, ~99666.67UPS, vehicles TOT 2476 ACT 897 BUF 0)          \r"
     ]
    },
    {
     "name": "stderr",
     "output_type": "stream",
     "text": [
      "Warning: Teleporting vehicle '1283'; waited too long (jam), lane='L2_1', time=57050.00.\n",
      "Warning: Teleporting vehicle '684'; waited too long (jam), lane='L2_1', time=57051.00.\n",
      "Warning: Vehicle '684' ends teleporting on edge 'L12', time=57051.00.\n",
      "Warning: Teleporting vehicle '478'; waited too long (jam), lane=':1_3_1', time=57052.00.\n",
      "Warning: Vehicle '478' ends teleporting on edge 'L12', time=57052.00.\n",
      "Warning: Vehicle '1283' ends teleporting on edge 'L12', time=57063.00.\n"
     ]
    },
    {
     "name": "stdout",
     "output_type": "stream",
     "text": [
      "Step #57100.00 (9ms ~= 111.11*RT, ~99666.67UPS, vehicles TOT 2525 ACT 897 BUF 35)         \r"
     ]
    },
    {
     "name": "stderr",
     "output_type": "stream",
     "text": [
      "Warning: Teleporting vehicle '545'; waited too long (jam), lane='D2_0', time=57134.00.\n",
      "Warning: Teleporting vehicle '730'; waited too long (jam), lane='D2_1', time=57188.00.\n",
      "Warning: Teleporting vehicle '619'; waited too long (wrong lane), lane='L12_2', time=57197.00.\n",
      "Warning: Vehicle '619' ends teleporting on edge 'L15', time=57197.00.\n"
     ]
    },
    {
     "name": "stdout",
     "output_type": "stream",
     "text": [
      "Step #57200.00 (8ms ~= 125.00*RT, ~110750.00UPS, vehicles TOT 2568 ACT 886 BUF 73)        \r"
     ]
    },
    {
     "name": "stderr",
     "output_type": "stream",
     "text": [
      "Warning: Teleporting vehicle '622'; waited too long (wrong lane), lane='L12_2', time=57280.00.\n",
      "Warning: Vehicle '622' ends teleporting on edge 'L15', time=57295.00.\n"
     ]
    },
    {
     "name": "stdout",
     "output_type": "stream",
     "text": [
      "Step #57300.00 (9ms ~= 111.11*RT, ~97777.78UPS, vehicles TOT 2613 ACT 880 BUF 112)        \r"
     ]
    },
    {
     "name": "stderr",
     "output_type": "stream",
     "text": [
      "Warning: Teleporting vehicle '1284'; waited too long (jam), lane='L2_1', time=57359.00.\n",
      "Warning: Vehicle '1284' ends teleporting on edge 'L12', time=57359.00.\n",
      "Warning: Teleporting vehicle '686'; waited too long (jam), lane='L2_1', time=57360.00.\n",
      "Warning: Vehicle '686' ends teleporting on edge 'L12', time=57360.00.\n",
      "Warning: Teleporting vehicle '480'; waited too long (jam), lane='L2_0', time=57363.00.\n",
      "Warning: Vehicle '480' ends teleporting on edge 'L12', time=57363.00.\n",
      "Warning: Teleporting vehicle '629'; waited too long (wrong lane), lane='L12_2', time=57392.00.\n",
      "Warning: Vehicle '629' ends teleporting on edge 'L15', time=57392.00.\n"
     ]
    },
    {
     "name": "stdout",
     "output_type": "stream",
     "text": [
      "Step #57400.00 (8ms ~= 125.00*RT, ~109500.00UPS, vehicles TOT 2656 ACT 876 BUF 151)       \r"
     ]
    },
    {
     "name": "stderr",
     "output_type": "stream",
     "text": [
      "Warning: Teleporting vehicle '546'; waited too long (jam), lane='D2_0', time=57445.00.\n",
      "Warning: Teleporting vehicle '731'; waited too long (jam), lane='D2_1', time=57446.00.\n",
      "Warning: Teleporting vehicle '732'; waited too long (jam), lane='D2_1', time=57447.00.\n",
      "Warning: Teleporting vehicle '632'; waited too long (wrong lane), lane='L12_2', time=57487.00.\n"
     ]
    },
    {
     "name": "stdout",
     "output_type": "stream",
     "text": [
      "Step #57500.00 (8ms ~= 125.00*RT, ~108375.00UPS, vehicles TOT 2700 ACT 867 BUF 190)       \r"
     ]
    },
    {
     "name": "stderr",
     "output_type": "stream",
     "text": [
      "Warning: Vehicle '632' ends teleporting on edge 'L15', time=57534.00.\n"
     ]
    },
    {
     "name": "stdout",
     "output_type": "stream",
     "text": [
      "Step #57600.00 (10ms ~= 100.00*RT, ~86700.00UPS, vehicles TOT 2743 ACT 867 BUF 229)       \n",
      "Simulation ended at time: 57600.00\n",
      "Reason: The final simulation step has been reached.\n",
      "Performance: \n",
      " Duration: 20.28s\n",
      " Real time factor: 177.48\n",
      " UPS: 102979.589824\n",
      "Vehicles: \n",
      " Inserted: 2743 (Loaded: 2972)\n",
      " Running: 867\n",
      " Waiting: 229\n",
      " Teleports: 20 (Jam: 11, Wrong Lane: 9)\n",
      "Statistics (avg of 1876):\n",
      " RouteLength: 4394.04\n",
      " Speed: 12.48\n",
      " Duration: 432.79\n",
      " WaitingTime: 78.99\n",
      " TimeLoss: 114.07\n",
      " DepartDelay: 0.47\n",
      "\n",
      "DijkstraRouter answered 2973 queries and explored 10.80 edges on average.\n",
      "DijkstraRouter spent 0.01s answering queries (0.00ms on average).\n",
      "printing /Users/rodrse/Documents/DemandCalibration/notebooks/od_calibration_sumo_files/quickstart/data/iter_quickstart.current_od.xml\n",
      "### Runing: iter\n",
      "od2trips --no-step-log  --spread.uniform --taz-files /Users/rodrse/Documents/DemandCalibration/notebooks/od_calibration_sumo_files/quickstart/data/quickstart.taz.xml --tazrelation-files /Users/rodrse/Documents/DemandCalibration/notebooks/od_calibration_sumo_files/quickstart/data/iter_quickstart.current_od.xml -o /Users/rodrse/Documents/DemandCalibration/notebooks/od_calibration_sumo_files/quickstart/data/iter_od_trips.trips.xml \n",
      "Success.\n",
      "Loading net-file from '/Users/rodrse/Documents/DemandCalibration/notebooks/od_calibration_sumo_files/quickstart/data/quickstart.net.xml' ... done (7ms).\n",
      "Loading additional-files from '/Users/rodrse/Documents/DemandCalibration/notebooks/od_calibration_sumo_files/quickstart/data/quickstart.additional.xml' ... done (1ms).\n",
      "Loading done.\n",
      "Simulation version 1.16.0 started with time: 54000.00.\n",
      "Step #56700.00 (10ms ~= 100.00*RT, ~82400.00UPS, vehicles TOT 2421 ACT 824 BUF 95)        "
     ]
    },
    {
     "name": "stderr",
     "output_type": "stream",
     "text": [
      "Warning: Teleporting vehicle '592'; waited too long (wrong lane), lane='L12_2', time=56694.00.\n",
      "Warning: Vehicle '592' ends teleporting on edge 'L15', time=56700.00.\n"
     ]
    },
    {
     "name": "stdout",
     "output_type": "stream",
     "text": [
      " (9ms ~= 111.11*RT, ~91222.22UPS, vehicles TOT 2502 ACT 821 BUF 111)        \r"
     ]
    },
    {
     "name": "stderr",
     "output_type": "stream",
     "text": [
      "Warning: Teleporting vehicle '463'; waited too long (jam), lane='L2_0', time=56765.00.\n",
      "Warning: Vehicle '463' ends teleporting on edge 'L12', time=56765.00.\n",
      "Warning: Teleporting vehicle '597'; waited too long (wrong lane), lane='L12_2', time=56774.00.\n"
     ]
    },
    {
     "name": "stdout",
     "output_type": "stream",
     "text": [
      "Step #56800.00 (8ms ~= 125.00*RT, ~104125.00UPS, vehicles TOT 2574 ACT 833 BUF 136)       \r"
     ]
    },
    {
     "name": "stderr",
     "output_type": "stream",
     "text": [
      "Warning: Teleporting vehicle '598'; waited too long (wrong lane), lane='L12_2', time=56804.00.\n",
      "Warning: Teleporting vehicle '599'; waited too long (wrong lane), lane='L12_2', time=56805.00.\n",
      "Warning: Vehicle '597' ends teleporting on edge 'L15', time=56827.00.\n",
      "Warning: Teleporting vehicle '601'; waited too long (wrong lane), lane='L12_2', time=56842.00.\n",
      "Warning: Vehicle '598' ends teleporting on edge 'L15', time=56881.00.\n"
     ]
    },
    {
     "name": "stdout",
     "output_type": "stream",
     "text": [
      "Step #56900.00 (10ms ~= 100.00*RT, ~85400.00UPS, vehicles TOT 2646 ACT 854 BUF 161)       \r"
     ]
    },
    {
     "name": "stderr",
     "output_type": "stream",
     "text": [
      "Warning: Teleporting vehicle '603'; waited too long (wrong lane), lane='L12_2', time=56913.00.\n",
      "Warning: Vehicle '599' ends teleporting on edge 'L15', time=56929.00.\n",
      "Warning: Teleporting vehicle '1603'; waited too long (jam), lane=':1_3_2', time=56962.00.\n",
      "Warning: Vehicle '1603' ends teleporting on edge 'L12', time=56962.00.\n",
      "Warning: Teleporting vehicle '651'; waited too long (jam), lane='L2_1', time=56978.00.\n",
      "Warning: Vehicle '651' ends teleporting on edge 'L12', time=56978.00.\n",
      "Warning: Teleporting vehicle '607'; waited too long (wrong lane), lane='L12_2', time=56991.00.\n"
     ]
    },
    {
     "name": "stdout",
     "output_type": "stream",
     "text": [
      "Step #57000.00 (10ms ~= 100.00*RT, ~87000.00UPS, vehicles TOT 2716 ACT 870 BUF 187)       \r"
     ]
    },
    {
     "name": "stderr",
     "output_type": "stream",
     "text": [
      "Warning: Vehicle '601' ends teleporting on edge 'L15', time=57051.00.\n",
      "Warning: Teleporting vehicle '612'; waited too long (wrong lane), lane='L12_2', time=57055.00.\n"
     ]
    },
    {
     "name": "stdout",
     "output_type": "stream",
     "text": [
      "Step #57100.00 (9ms ~= 111.11*RT, ~96000.00UPS, vehicles TOT 2763 ACT 864 BUF 237)        \r"
     ]
    },
    {
     "name": "stderr",
     "output_type": "stream",
     "text": [
      "Warning: Vehicle '603' ends teleporting on edge 'L15', time=57104.00.\n",
      "Warning: Teleporting vehicle '616'; waited too long (wrong lane), lane='L12_2', time=57133.00.\n",
      "Warning: Teleporting vehicle '530'; waited too long (jam), lane='D2_0', time=57149.00.\n",
      "Warning: Vehicle '530' ends teleporting on edge 'L2', time=57149.00.\n",
      "Warning: Vehicle '607' ends teleporting on edge 'L15', time=57151.00.\n",
      "Warning: Teleporting vehicle '1638'; waited too long (jam), lane='D2_1', time=57154.00.\n",
      "Warning: Teleporting vehicle '685'; waited too long (jam), lane='D2_1', time=57155.00.\n",
      "Warning: Vehicle '612' ends teleporting on edge 'L15', time=57166.00.\n",
      "Warning: Teleporting vehicle '464'; waited too long (jam), lane=':1_3_1', time=57168.00.\n",
      "Warning: Vehicle '464' ends teleporting on edge 'L12', time=57168.00.\n",
      "Warning: Vehicle '616' ends teleporting on edge 'L15', time=57172.00.\n"
     ]
    },
    {
     "name": "stdout",
     "output_type": "stream",
     "text": [
      "Step #57200.00 (9ms ~= 111.11*RT, ~95222.22UPS, vehicles TOT 2807 ACT 857 BUF 290)        \r"
     ]
    },
    {
     "name": "stderr",
     "output_type": "stream",
     "text": [
      "Warning: Teleporting vehicle '618'; waited too long (wrong lane), lane='L12_2', time=57211.00.\n",
      "Warning: Vehicle '618' ends teleporting on edge 'L15', time=57211.00.\n",
      "Warning: Teleporting vehicle '1604'; waited too long (jam), lane=':1_3_2', time=57269.00.\n",
      "Warning: Teleporting vehicle '620'; waited too long (wrong lane), lane='L12_2', time=57269.00.\n",
      "Warning: Vehicle '620' ends teleporting on edge 'L15', time=57269.00.\n",
      "Warning: Vehicle '1604' ends teleporting on edge 'L12', time=57269.00.\n",
      "Warning: Teleporting vehicle '652'; waited too long (jam), lane='L2_1', time=57290.00.\n",
      "Warning: Vehicle '652' ends teleporting on edge 'L12', time=57290.00.\n",
      "Warning: Vehicle '1638' ends teleporting on edge 'L2', time=57290.00.\n"
     ]
    },
    {
     "name": "stdout",
     "output_type": "stream",
     "text": [
      "Step #57400.00 (10ms ~= 100.00*RT, ~83900.00UPS, vehicles TOT 2894 ACT 839 BUF 396)       \r"
     ]
    },
    {
     "name": "stderr",
     "output_type": "stream",
     "text": [
      "Warning: Teleporting vehicle '531'; waited too long (jam), lane='D2_0', time=57455.00.\n",
      "Warning: Teleporting vehicle '1639'; waited too long (jam), lane='D2_1', time=57462.00.\n",
      "Warning: Teleporting vehicle '465'; waited too long (jam), lane=':1_3_1', time=57475.00.\n",
      "Warning: Vehicle '465' ends teleporting on edge 'L12', time=57475.00.\n",
      "Warning: Teleporting vehicle '625'; waited too long (wrong lane), lane='L12_2', time=57476.00.\n",
      "Warning: Vehicle '625' ends teleporting on edge 'L15', time=57476.00.\n"
     ]
    },
    {
     "name": "stdout",
     "output_type": "stream",
     "text": [
      "Step #57500.00 (9ms ~= 111.11*RT, ~92888.89UPS, vehicles TOT 2938 ACT 836 BUF 450)        \r"
     ]
    },
    {
     "name": "stderr",
     "output_type": "stream",
     "text": [
      "Warning: Teleporting vehicle '1605'; waited too long (jam), lane=':1_3_2', time=57574.00.\n",
      "Warning: Vehicle '1605' ends teleporting on edge 'L12', time=57574.00.\n"
     ]
    },
    {
     "name": "stdout",
     "output_type": "stream",
     "text": [
      "Step #57600.00 (11ms ~= 90.91*RT, ~75000.00UPS, vehicles TOT 2981 ACT 825 BUF 503)        \n",
      "Simulation ended at time: 57600.00\n",
      "Reason: The final simulation step has been reached.\n",
      "Performance: \n",
      " Duration: 28.35s\n",
      " Real time factor: 126.984\n",
      " UPS: 84290.229277\n",
      "Vehicles: \n",
      " Inserted: 2981 (Loaded: 3484)\n",
      " Running: 825\n",
      " Waiting: 503\n",
      " Teleports: 25 (Jam: 13, Wrong Lane: 12)\n",
      "Statistics (avg of 2156):\n",
      " RouteLength: 4384.52\n",
      " Speed: 11.10\n",
      " Duration: 505.92\n",
      " WaitingTime: 103.90\n",
      " TimeLoss: 187.96\n",
      " DepartDelay: 1.07\n",
      "\n",
      "DijkstraRouter answered 3671 queries and explored 10.19 edges on average.\n",
      "DijkstraRouter spent 0.02s answering queries (0.00ms on average).\n",
      "printing /Users/rodrse/Documents/DemandCalibration/notebooks/od_calibration_sumo_files/quickstart/data/iter_quickstart.current_od.xml\n",
      "### Runing: iter\n",
      "od2trips --no-step-log  --spread.uniform --taz-files /Users/rodrse/Documents/DemandCalibration/notebooks/od_calibration_sumo_files/quickstart/data/quickstart.taz.xml --tazrelation-files /Users/rodrse/Documents/DemandCalibration/notebooks/od_calibration_sumo_files/quickstart/data/iter_quickstart.current_od.xml -o /Users/rodrse/Documents/DemandCalibration/notebooks/od_calibration_sumo_files/quickstart/data/iter_od_trips.trips.xml \n",
      "Success.\n",
      "Loading net-file from '/Users/rodrse/Documents/DemandCalibration/notebooks/od_calibration_sumo_files/quickstart/data/quickstart.net.xml' ... done (7ms).\n",
      "Loading additional-files from '/Users/rodrse/Documents/DemandCalibration/notebooks/od_calibration_sumo_files/quickstart/data/quickstart.additional.xml' ... done (1ms).\n",
      "Loading done.\n",
      "Simulation version 1.16.0 started with time: 54000.00.\n",
      "Step #57600.00 (7ms ~= 142.86*RT, ~80571.43UPS, vehicles TOT 2174 ACT 564 BUF 0)          \n",
      "Simulation ended at time: 57600.00\n",
      "Reason: The final simulation step has been reached.\n",
      "Performance: \n",
      " Duration: 12.33s\n",
      " Real time factor: 292.066\n",
      " UPS: 103891.854616\n",
      "Vehicles: \n",
      " Inserted: 2174\n",
      " Running: 564\n",
      " Waiting: 0\n",
      "Statistics (avg of 1610):\n",
      " RouteLength: 4359.28\n",
      " Speed: 12.13\n",
      " Duration: 467.85\n",
      " WaitingTime: 94.39\n",
      " TimeLoss: 151.88\n",
      " DepartDelay: 0.48\n",
      "\n",
      "DijkstraRouter answered 2174 queries and explored 10.51 edges on average.\n",
      "DijkstraRouter spent 0.01s answering queries (0.00ms on average).\n",
      "printing /Users/rodrse/Documents/DemandCalibration/notebooks/od_calibration_sumo_files/quickstart/data/iter_quickstart.current_od.xml\n",
      "### Runing: iter\n",
      "od2trips --no-step-log  --spread.uniform --taz-files /Users/rodrse/Documents/DemandCalibration/notebooks/od_calibration_sumo_files/quickstart/data/quickstart.taz.xml --tazrelation-files /Users/rodrse/Documents/DemandCalibration/notebooks/od_calibration_sumo_files/quickstart/data/iter_quickstart.current_od.xml -o /Users/rodrse/Documents/DemandCalibration/notebooks/od_calibration_sumo_files/quickstart/data/iter_od_trips.trips.xml \n",
      "Success.\n",
      "Loading net-file from '/Users/rodrse/Documents/DemandCalibration/notebooks/od_calibration_sumo_files/quickstart/data/quickstart.net.xml' ... done (7ms).\n",
      "Loading additional-files from '/Users/rodrse/Documents/DemandCalibration/notebooks/od_calibration_sumo_files/quickstart/data/quickstart.additional.xml' ... done (1ms).\n",
      "Loading done.\n",
      "Simulation version 1.16.0 started with time: 54000.00.\n",
      "Step #57600.00 (10ms ~= 100.00*RT, ~85200.00UPS, vehicles TOT 2969 ACT 852 BUF 142)       \n",
      "Simulation ended at time: 57600.00\n",
      "Reason: The final simulation step has been reached.\n",
      "Performance: \n",
      " Duration: 27.29s\n",
      " Real time factor: 131.926\n",
      " UPS: 76899.442979\n",
      "Vehicles: \n",
      " Inserted: 2969 (Loaded: 3111)\n",
      " Running: 852\n",
      " Waiting: 142\n",
      "Statistics (avg of 2117):\n",
      " RouteLength: 4267.18\n",
      " Speed: 10.81\n",
      " Duration: 589.00\n",
      " WaitingTime: 161.87\n",
      " TimeLoss: 279.79\n",
      " DepartDelay: 0.69\n",
      "\n",
      "DijkstraRouter answered 3234 queries and explored 9.67 edges on average.\n",
      "DijkstraRouter spent 0.03s answering queries (0.01ms on average).\n",
      "printing /Users/rodrse/Documents/DemandCalibration/notebooks/od_calibration_sumo_files/quickstart/data/iter_quickstart.current_od.xml\n",
      "### Runing: iter\n",
      "od2trips --no-step-log  --spread.uniform --taz-files /Users/rodrse/Documents/DemandCalibration/notebooks/od_calibration_sumo_files/quickstart/data/quickstart.taz.xml --tazrelation-files /Users/rodrse/Documents/DemandCalibration/notebooks/od_calibration_sumo_files/quickstart/data/iter_quickstart.current_od.xml -o /Users/rodrse/Documents/DemandCalibration/notebooks/od_calibration_sumo_files/quickstart/data/iter_od_trips.trips.xml \n",
      "Success.\n",
      "Loading net-file from '/Users/rodrse/Documents/DemandCalibration/notebooks/od_calibration_sumo_files/quickstart/data/quickstart.net.xml' ... done (7ms).\n",
      "Loading additional-files from '/Users/rodrse/Documents/DemandCalibration/notebooks/od_calibration_sumo_files/quickstart/data/quickstart.additional.xml' ... done (1ms).\n",
      "Loading done.\n",
      "Simulation version 1.16.0 started with time: 54000.00.\n",
      "Step #57600.00 (5ms ~= 200.00*RT, ~140800.00UPS, vehicles TOT 2450 ACT 704 BUF 0)         \n",
      "Simulation ended at time: 57600.00\n",
      "Reason: The final simulation step has been reached.\n",
      "Performance: \n",
      " Duration: 15.35s\n",
      " Real time factor: 234.528\n",
      " UPS: 104557.785016\n",
      "Vehicles: \n",
      " Inserted: 2450\n",
      " Running: 704\n",
      " Waiting: 0\n",
      "Statistics (avg of 1746):\n",
      " RouteLength: 4435.25\n",
      " Speed: 11.82\n",
      " Duration: 484.15\n",
      " WaitingTime: 102.62\n",
      " TimeLoss: 162.48\n",
      " DepartDelay: 0.49\n",
      "\n",
      "DijkstraRouter answered 2450 queries and explored 10.59 edges on average.\n",
      "DijkstraRouter spent 0.01s answering queries (0.00ms on average).\n",
      "printing /Users/rodrse/Documents/DemandCalibration/notebooks/od_calibration_sumo_files/quickstart/data/iter_quickstart.current_od.xml\n",
      "### Runing: iter\n",
      "od2trips --no-step-log  --spread.uniform --taz-files /Users/rodrse/Documents/DemandCalibration/notebooks/od_calibration_sumo_files/quickstart/data/quickstart.taz.xml --tazrelation-files /Users/rodrse/Documents/DemandCalibration/notebooks/od_calibration_sumo_files/quickstart/data/iter_quickstart.current_od.xml -o /Users/rodrse/Documents/DemandCalibration/notebooks/od_calibration_sumo_files/quickstart/data/iter_od_trips.trips.xml \n",
      "Success.\n",
      "Loading net-file from '/Users/rodrse/Documents/DemandCalibration/notebooks/od_calibration_sumo_files/quickstart/data/quickstart.net.xml' ... done (7ms).\n",
      "Loading additional-files from '/Users/rodrse/Documents/DemandCalibration/notebooks/od_calibration_sumo_files/quickstart/data/quickstart.additional.xml' ... done (1ms).\n",
      "Loading done.\n",
      "Simulation version 1.16.0 started with time: 54000.00.\n",
      "Step #56500.00 (7ms ~= 142.86*RT, ~114285.71UPS, vehicles TOT 2165 ACT 800 BUF 0)         \r"
     ]
    },
    {
     "name": "stderr",
     "output_type": "stream",
     "text": [
      "Warning: Teleporting vehicle '386'; waited too long (wrong lane), lane='L15_0', time=56586.00.\n",
      "Warning: Vehicle '386' ends teleporting on edge 'L18', time=56586.00.\n",
      "Warning: Teleporting vehicle '396'; waited too long (wrong lane), lane='L15_0', time=56587.00.\n",
      "Warning: Vehicle '396' ends teleporting on edge 'L18', time=56587.00.\n"
     ]
    },
    {
     "name": "stdout",
     "output_type": "stream",
     "text": [
      "Step #56600.00 (9ms ~= 111.11*RT, ~90777.78UPS, vehicles TOT 2252 ACT 817 BUF 0)          \r"
     ]
    },
    {
     "name": "stderr",
     "output_type": "stream",
     "text": [
      "Warning: Teleporting vehicle '412'; waited too long (wrong lane), lane='L15_0', time=56650.00.\n",
      "Warning: Vehicle '412' ends teleporting on edge 'L18', time=56650.00.\n",
      "Warning: Teleporting vehicle '418'; waited too long (wrong lane), lane='L15_0', time=56651.00.\n",
      "Warning: Vehicle '418' ends teleporting on edge 'L18', time=56651.00.\n",
      "Warning: Teleporting vehicle '420'; waited too long (wrong lane), lane='L15_0', time=56652.00.\n",
      "Warning: Vehicle '420' ends teleporting on edge 'L18', time=56652.00.\n"
     ]
    },
    {
     "name": "stdout",
     "output_type": "stream",
     "text": [
      "Step #57500.00 (11ms ~= 90.91*RT, ~75363.64UPS, vehicles TOT 3020 ACT 829 BUF 10)         \r"
     ]
    },
    {
     "name": "stderr",
     "output_type": "stream",
     "text": [
      "Warning: Teleporting vehicle '635'; waited too long (wrong lane), lane='L12_2', time=57541.00.\n",
      "Warning: Vehicle '635' ends teleporting on edge 'L15', time=57541.00.\n",
      "Warning: Teleporting vehicle '638'; waited too long (wrong lane), lane='L12_2', time=57599.00.\n",
      "Warning: Vehicle '638' ends teleporting on edge 'L15', time=57599.00.\n"
     ]
    },
    {
     "name": "stdout",
     "output_type": "stream",
     "text": [
      "Step #57600.00 (13ms ~= 76.92*RT, ~63846.15UPS, vehicles TOT 3081 ACT 830 BUF 36)         \n",
      "Simulation ended at time: 57600.00\n",
      "Reason: The final simulation step has been reached.\n",
      "Performance: \n",
      " Duration: 22.29s\n",
      " Real time factor: 161.5\n",
      " UPS: 97166.120856\n",
      "Vehicles: \n",
      " Inserted: 3081 (Loaded: 3117)\n",
      " Running: 830\n",
      " Waiting: 36\n",
      " Teleports: 7 (Wrong Lane: 7)\n",
      "Statistics (avg of 2251):\n",
      " RouteLength: 4350.87\n",
      " Speed: 10.74\n",
      " Duration: 538.23\n",
      " WaitingTime: 105.67\n",
      " TimeLoss: 222.79\n",
      " DepartDelay: 0.49\n",
      "\n",
      "DijkstraRouter answered 3127 queries and explored 9.92 edges on average.\n",
      "DijkstraRouter spent 0.01s answering queries (0.00ms on average).\n",
      "printing /Users/rodrse/Documents/DemandCalibration/notebooks/od_calibration_sumo_files/quickstart/data/iter_quickstart.current_od.xml\n",
      "### Runing: iter\n",
      "od2trips --no-step-log  --spread.uniform --taz-files /Users/rodrse/Documents/DemandCalibration/notebooks/od_calibration_sumo_files/quickstart/data/quickstart.taz.xml --tazrelation-files /Users/rodrse/Documents/DemandCalibration/notebooks/od_calibration_sumo_files/quickstart/data/iter_quickstart.current_od.xml -o /Users/rodrse/Documents/DemandCalibration/notebooks/od_calibration_sumo_files/quickstart/data/iter_od_trips.trips.xml \n",
      "Success.\n",
      "Loading net-file from '/Users/rodrse/Documents/DemandCalibration/notebooks/od_calibration_sumo_files/quickstart/data/quickstart.net.xml' ... done (8ms).\n",
      "Loading additional-files from '/Users/rodrse/Documents/DemandCalibration/notebooks/od_calibration_sumo_files/quickstart/data/quickstart.additional.xml' ... done (2ms).\n",
      "Loading done.\n",
      "Simulation version 1.16.0 started with time: 54000.00.\n",
      "Step #57600.00 (3ms ~= 333.33*RT, ~136666.67UPS, vehicles TOT 2184 ACT 410 BUF 0)         \n",
      "Simulation ended at time: 57600.00\n",
      "Reason: The final simulation step has been reached.\n",
      "Performance: \n",
      " Duration: 10.22s\n",
      " Real time factor: 352.319\n",
      " UPS: 99277.843022\n",
      "Vehicles: \n",
      " Inserted: 2184\n",
      " Running: 410\n",
      " Waiting: 0\n",
      "Statistics (avg of 1774):\n",
      " RouteLength: 4363.14\n",
      " Speed: 12.14\n",
      " Duration: 420.58\n",
      " WaitingTime: 66.36\n",
      " TimeLoss: 104.30\n",
      " DepartDelay: 0.50\n",
      "\n",
      "DijkstraRouter answered 2184 queries and explored 9.88 edges on average.\n",
      "DijkstraRouter spent 0.01s answering queries (0.00ms on average).\n",
      "printing /Users/rodrse/Documents/DemandCalibration/notebooks/od_calibration_sumo_files/quickstart/data/iter_quickstart.current_od.xml\n",
      "### Runing: iter\n",
      "od2trips --no-step-log  --spread.uniform --taz-files /Users/rodrse/Documents/DemandCalibration/notebooks/od_calibration_sumo_files/quickstart/data/quickstart.taz.xml --tazrelation-files /Users/rodrse/Documents/DemandCalibration/notebooks/od_calibration_sumo_files/quickstart/data/iter_quickstart.current_od.xml -o /Users/rodrse/Documents/DemandCalibration/notebooks/od_calibration_sumo_files/quickstart/data/iter_od_trips.trips.xml \n",
      "Success.\n",
      "Loading net-file from '/Users/rodrse/Documents/DemandCalibration/notebooks/od_calibration_sumo_files/quickstart/data/quickstart.net.xml' ... done (7ms).\n",
      "Loading additional-files from '/Users/rodrse/Documents/DemandCalibration/notebooks/od_calibration_sumo_files/quickstart/data/quickstart.additional.xml' ... done (1ms).\n",
      "Loading done.\n",
      "Simulation version 1.16.0 started with time: 54000.00.\n",
      "Step #56900.00 (9ms ~= 111.11*RT, ~108111.11UPS, vehicles TOT 2671 ACT 973 BUF 0)         \r"
     ]
    },
    {
     "name": "stderr",
     "output_type": "stream",
     "text": [
      "Warning: Teleporting vehicle '123'; waited too long (yield), lane='L15_1', time=56938.00.\n",
      "Warning: Vehicle '123' ends teleporting on edge 'L18', time=56938.00.\n"
     ]
    },
    {
     "name": "stdout",
     "output_type": "stream",
     "text": [
      "Step #57600.00 (11ms ~= 90.91*RT, ~98363.64UPS, vehicles TOT 3316 ACT 1082 BUF 0)         \n",
      "Simulation ended at time: 57600.00\n",
      "Reason: The final simulation step has been reached.\n",
      "Performance: \n",
      " Duration: 25.91s\n",
      " Real time factor: 138.948\n",
      " UPS: 94918.715504\n",
      "Vehicles: \n",
      " Inserted: 3316\n",
      " Running: 1082\n",
      " Waiting: 0\n",
      " Teleports: 1 (Yield: 1)\n",
      "Statistics (avg of 2234):\n",
      " RouteLength: 4253.04\n",
      " Speed: 10.84\n",
      " Duration: 600.19\n",
      " WaitingTime: 141.70\n",
      " TimeLoss: 292.01\n",
      " DepartDelay: 0.48\n",
      "\n",
      "DijkstraRouter answered 3316 queries and explored 9.74 edges on average.\n",
      "DijkstraRouter spent 0.02s answering queries (0.01ms on average).\n",
      "printing /Users/rodrse/Documents/DemandCalibration/notebooks/od_calibration_sumo_files/quickstart/data/iter_quickstart.current_od.xml\n",
      "### Runing: iter\n",
      "od2trips --no-step-log  --spread.uniform --taz-files /Users/rodrse/Documents/DemandCalibration/notebooks/od_calibration_sumo_files/quickstart/data/quickstart.taz.xml --tazrelation-files /Users/rodrse/Documents/DemandCalibration/notebooks/od_calibration_sumo_files/quickstart/data/iter_quickstart.current_od.xml -o /Users/rodrse/Documents/DemandCalibration/notebooks/od_calibration_sumo_files/quickstart/data/iter_od_trips.trips.xml \n",
      "Success.\n",
      "Loading net-file from '/Users/rodrse/Documents/DemandCalibration/notebooks/od_calibration_sumo_files/quickstart/data/quickstart.net.xml' ... done (6ms).\n",
      "Loading additional-files from '/Users/rodrse/Documents/DemandCalibration/notebooks/od_calibration_sumo_files/quickstart/data/quickstart.additional.xml' ... done (1ms).\n",
      "Loading done.\n",
      "Simulation version 1.16.0 started with time: 54000.00.\n",
      "Step #56000.00 (7ms ~= 142.86*RT, ~87142.86UPS, vehicles TOT 1430 ACT 610 BUF 0)          \r"
     ]
    },
    {
     "name": "stderr",
     "output_type": "stream",
     "text": [
      "Warning: Teleporting vehicle '388'; waited too long (wrong lane), lane='L15_0', time=56077.00.\n",
      "Warning: Vehicle '388' ends teleporting on edge 'L18', time=56077.00.\n",
      "Warning: Teleporting vehicle '393'; waited too long (wrong lane), lane='L15_0', time=56078.00.\n",
      "Warning: Vehicle '393' ends teleporting on edge 'L18', time=56078.00.\n",
      "Warning: Teleporting vehicle '396'; waited too long (wrong lane), lane='L15_0', time=56079.00.\n",
      "Warning: Vehicle '396' ends teleporting on edge 'L18', time=56079.00.\n",
      "Warning: Teleporting vehicle '402'; waited too long (wrong lane), lane='L15_0', time=56080.00.\n",
      "Warning: Vehicle '402' ends teleporting on edge 'L18', time=56080.00.\n",
      "Warning: Teleporting vehicle '398'; waited too long (wrong lane), lane='L15_0', time=56084.00.\n",
      "Warning: Vehicle '398' ends teleporting on edge 'L18', time=56084.00.\n",
      "Warning: Teleporting vehicle '404'; waited too long (wrong lane), lane='L15_0', time=56085.00.\n",
      "Warning: Vehicle '404' ends teleporting on edge 'L18', time=56085.00.\n",
      "Warning: Teleporting vehicle '406'; waited too long (wrong lane), lane='L15_0', time=56086.00.\n",
      "Warning: Vehicle '406' ends teleporting on edge 'L18', time=56086.00.\n",
      "Warning: Teleporting vehicle '409'; waited too long (wrong lane), lane='L15_0', time=56087.00.\n",
      "Warning: Vehicle '409' ends teleporting on edge 'L18', time=56087.00.\n",
      "Warning: Teleporting vehicle '363'; waited too long (wrong lane), lane='L15_0', time=56088.00.\n",
      "Warning: Vehicle '363' ends teleporting on edge 'L18', time=56088.00.\n",
      "Warning: Teleporting vehicle '376'; waited too long (wrong lane), lane='L15_0', time=56089.00.\n",
      "Warning: Vehicle '376' ends teleporting on edge 'L18', time=56089.00.\n",
      "Warning: Teleporting vehicle '379'; waited too long (wrong lane), lane='L15_0', time=56090.00.\n",
      "Warning: Vehicle '379' ends teleporting on edge 'L18', time=56090.00.\n",
      "Warning: Teleporting vehicle '384'; waited too long (wrong lane), lane='L15_0', time=56095.00.\n",
      "Warning: Vehicle '384' ends teleporting on edge 'L18', time=56095.00.\n"
     ]
    },
    {
     "name": "stdout",
     "output_type": "stream",
     "text": [
      "Step #56100.00 (7ms ~= 142.86*RT, ~91142.86UPS, vehicles TOT 1503 ACT 638 BUF 0)          \r"
     ]
    },
    {
     "name": "stderr",
     "output_type": "stream",
     "text": [
      "Warning: Teleporting vehicle '390'; waited too long (wrong lane), lane='L15_0', time=56111.00.\n",
      "Warning: Vehicle '390' ends teleporting on edge 'L18', time=56111.00.\n"
     ]
    },
    {
     "name": "stdout",
     "output_type": "stream",
     "text": [
      "Step #56300.00 (7ms ~= 142.86*RT, ~96000.00UPS, vehicles TOT 1647 ACT 672 BUF 0)          \r"
     ]
    },
    {
     "name": "stderr",
     "output_type": "stream",
     "text": [
      "Warning: Teleporting vehicle '439'; waited too long (wrong lane), lane='L15_0', time=56360.00.\n",
      "Warning: Vehicle '439' ends teleporting on edge 'L18', time=56360.00.\n"
     ]
    },
    {
     "name": "stdout",
     "output_type": "stream",
     "text": [
      "Step #56400.00 (7ms ~= 142.86*RT, ~98571.43UPS, vehicles TOT 1717 ACT 690 BUF 0)          \r"
     ]
    },
    {
     "name": "stderr",
     "output_type": "stream",
     "text": [
      "Warning: Teleporting vehicle '432'; waited too long (wrong lane), lane='L15_0', time=56455.00.\n",
      "Warning: Vehicle '432' ends teleporting on edge 'L18', time=56455.00.\n",
      "Warning: Teleporting vehicle '431'; waited too long (wrong lane), lane='L15_0', time=56456.00.\n",
      "Warning: Vehicle '431' ends teleporting on edge 'L18', time=56456.00.\n"
     ]
    },
    {
     "name": "stdout",
     "output_type": "stream",
     "text": [
      "Step #56500.00 (8ms ~= 125.00*RT, ~88375.00UPS, vehicles TOT 1788 ACT 707 BUF 0)          \r"
     ]
    },
    {
     "name": "stderr",
     "output_type": "stream",
     "text": [
      "Warning: Teleporting vehicle '448'; waited too long (wrong lane), lane='L15_0', time=56532.00.\n",
      "Warning: Vehicle '448' ends teleporting on edge 'L18', time=56532.00.\n",
      "Warning: Teleporting vehicle '459'; waited too long (wrong lane), lane='L15_0', time=56537.00.\n",
      "Warning: Vehicle '459' ends teleporting on edge 'L18', time=56537.00.\n"
     ]
    },
    {
     "name": "stdout",
     "output_type": "stream",
     "text": [
      "Step #56800.00 (18ms ~= 55.56*RT, ~44055.56UPS, vehicles TOT 2004 ACT 793 BUF 0)          \r"
     ]
    },
    {
     "name": "stderr",
     "output_type": "stream",
     "text": [
      "Warning: Teleporting vehicle '667'; waited too long (wrong lane), lane='L12_2', time=56872.00.\n",
      "Warning: Vehicle '667' ends teleporting on edge 'L15', time=56872.00.\n",
      "Warning: Teleporting vehicle '668'; waited too long (wrong lane), lane='L12_2', time=56873.00.\n",
      "Warning: Vehicle '668' ends teleporting on edge 'L15', time=56892.00.\n"
     ]
    },
    {
     "name": "stdout",
     "output_type": "stream",
     "text": [
      "Step #56900.00 (9ms ~= 111.11*RT, ~91888.89UPS, vehicles TOT 2075 ACT 827 BUF 0)          \r"
     ]
    },
    {
     "name": "stderr",
     "output_type": "stream",
     "text": [
      "Warning: Teleporting vehicle '681'; waited too long (wrong lane), lane='L12_2', time=56944.00.\n",
      "Warning: Vehicle '681' ends teleporting on edge 'L15', time=56970.00.\n"
     ]
    },
    {
     "name": "stdout",
     "output_type": "stream",
     "text": [
      "Step #57100.00 (12ms ~= 83.33*RT, ~70833.33UPS, vehicles TOT 2182 ACT 850 BUF 36)         \r"
     ]
    },
    {
     "name": "stderr",
     "output_type": "stream",
     "text": [
      "Warning: Teleporting vehicle '789'; waited too long (jam), lane='D2_1', time=57194.00.\n",
      "Warning: Vehicle '789' ends teleporting on edge 'L2', time=57194.00.\n"
     ]
    },
    {
     "name": "stdout",
     "output_type": "stream",
     "text": [
      "Step #57200.00 (12ms ~= 83.33*RT, ~68833.33UPS, vehicles TOT 2212 ACT 826 BUF 77)         \r"
     ]
    },
    {
     "name": "stderr",
     "output_type": "stream",
     "text": [
      "Warning: Teleporting vehicle '596'; waited too long (jam), lane='D2_0', time=57266.00.\n",
      "Warning: Vehicle '596' ends teleporting on edge 'L2', time=57266.00.\n",
      "Warning: Teleporting vehicle '420'; waited too long (wrong lane), lane='L15_0', time=57295.00.\n",
      "Warning: Vehicle '420' ends teleporting on edge 'L18', time=57295.00.\n",
      "Warning: Teleporting vehicle '785'; waited too long (jam), lane='L2_1', time=57297.00.\n",
      "Warning: Vehicle '785' ends teleporting on edge 'L12', time=57297.00.\n"
     ]
    },
    {
     "name": "stdout",
     "output_type": "stream",
     "text": [
      "Step #57400.00 (9ms ~= 111.11*RT, ~87444.44UPS, vehicles TOT 2274 ACT 787 BUF 159)        \r"
     ]
    },
    {
     "name": "stderr",
     "output_type": "stream",
     "text": [
      "Warning: Teleporting vehicle '442'; waited too long (wrong lane), lane='L15_0', time=57405.00.\n",
      "Warning: Vehicle '442' ends teleporting on edge 'L18', time=57405.00.\n",
      "Warning: Teleporting vehicle '462'; waited too long (wrong lane), lane='L15_0', time=57410.00.\n",
      "Warning: Vehicle '462' ends teleporting on edge 'L18', time=57410.00.\n",
      "Warning: Teleporting vehicle '718'; waited too long (jam), lane='L12_0', time=57425.00.\n",
      "Warning: Vehicle '718' ends teleporting on edge 'L15', time=57425.00.\n",
      "Warning: Teleporting vehicle '501'; waited too long (jam), lane='L12_0', time=57427.00.\n",
      "Warning: Teleporting vehicle '758'; waited too long (jam), lane='L2_0', time=57474.00.\n",
      "Warning: Vehicle '758' ends teleporting on edge 'L12', time=57474.00.\n"
     ]
    },
    {
     "name": "stdout",
     "output_type": "stream",
     "text": [
      "Step #57500.00 (9ms ~= 111.11*RT, ~86111.11UPS, vehicles TOT 2306 ACT 775 BUF 199)        \r"
     ]
    },
    {
     "name": "stderr",
     "output_type": "stream",
     "text": [
      "Warning: Teleporting vehicle '1368'; waited too long (jam), lane='D2_1', time=57500.00.\n",
      "Warning: Vehicle '1368' ends teleporting on edge 'L2', time=57500.00.\n",
      "Warning: Teleporting vehicle '467'; waited too long (wrong lane), lane='L15_0', time=57502.00.\n",
      "Warning: Vehicle '467' ends teleporting on edge 'L18', time=57502.00.\n",
      "Warning: Vehicle '501' ends teleporting on edge 'L15', time=57502.00.\n",
      "Warning: Teleporting vehicle '468'; waited too long (wrong lane), lane='L15_0', time=57503.00.\n",
      "Warning: Vehicle '468' ends teleporting on edge 'L18', time=57503.00.\n",
      "Warning: Teleporting vehicle '464'; waited too long (wrong lane), lane='L15_0', time=57504.00.\n",
      "Warning: Vehicle '464' ends teleporting on edge 'L18', time=57504.00.\n",
      "Warning: Teleporting vehicle '702'; waited too long (wrong lane), lane='L15_0', time=57505.00.\n",
      "Warning: Vehicle '702' ends teleporting on edge 'L18', time=57505.00.\n",
      "Warning: Teleporting vehicle '476'; waited too long (wrong lane), lane='L15_0', time=57506.00.\n",
      "Warning: Vehicle '476' ends teleporting on edge 'L18', time=57506.00.\n",
      "Warning: Teleporting vehicle '706'; waited too long (wrong lane), lane='L15_0', time=57507.00.\n",
      "Warning: Vehicle '706' ends teleporting on edge 'L18', time=57507.00.\n",
      "Warning: Teleporting vehicle '478'; waited too long (wrong lane), lane='L15_0', time=57508.00.\n",
      "Warning: Vehicle '478' ends teleporting on edge 'L18', time=57508.00.\n",
      "Warning: Teleporting vehicle '479'; waited too long (wrong lane), lane='L15_0', time=57509.00.\n",
      "Warning: Vehicle '479' ends teleporting on edge 'L18', time=57509.00.\n",
      "Warning: Teleporting vehicle '474'; waited too long (wrong lane), lane='L15_0', time=57510.00.\n",
      "Warning: Vehicle '474' ends teleporting on edge 'L18', time=57510.00.\n",
      "Warning: Teleporting vehicle '481'; waited too long (wrong lane), lane='L15_0', time=57511.00.\n",
      "Warning: Vehicle '481' ends teleporting on edge 'L18', time=57511.00.\n",
      "Warning: Teleporting vehicle '708'; waited too long (wrong lane), lane='L15_0', time=57512.00.\n",
      "Warning: Vehicle '708' ends teleporting on edge 'L18', time=57512.00.\n",
      "Warning: Teleporting vehicle '485'; waited too long (wrong lane), lane='L15_0', time=57513.00.\n",
      "Warning: Vehicle '485' ends teleporting on edge 'L18', time=57513.00.\n",
      "Warning: Teleporting vehicle '717'; waited too long (wrong lane), lane='L15_0', time=57514.00.\n",
      "Warning: Vehicle '717' ends teleporting on edge 'L18', time=57514.00.\n",
      "Warning: Teleporting vehicle '493'; waited too long (wrong lane), lane='L15_0', time=57515.00.\n",
      "Warning: Vehicle '493' ends teleporting on edge 'L18', time=57515.00.\n",
      "Warning: Teleporting vehicle '716'; waited too long (wrong lane), lane='L15_0', time=57516.00.\n",
      "Warning: Vehicle '716' ends teleporting on edge 'L18', time=57516.00.\n",
      "Warning: Teleporting vehicle '597'; waited too long (jam), lane='D2_0', time=57572.00.\n"
     ]
    },
    {
     "name": "stdout",
     "output_type": "stream",
     "text": [
      "Step #57600.00 (10ms ~= 100.00*RT, ~76200.00UPS, vehicles TOT 2336 ACT 762 BUF 240)       \n",
      "Simulation ended at time: 57600.00\n",
      "Reason: The final simulation step has been reached.\n",
      "Performance: \n",
      " Duration: 24.56s\n",
      " Real time factor: 146.592\n",
      " UPS: 79857.276651\n",
      "Vehicles: \n",
      " Inserted: 2336 (Loaded: 2576)\n",
      " Running: 762\n",
      " Waiting: 240\n",
      " Teleports: 47 (Jam: 8, Wrong Lane: 39)\n",
      "Statistics (avg of 1574):\n",
      " RouteLength: 4475.48\n",
      " Speed: 11.85\n",
      " Duration: 503.73\n",
      " WaitingTime: 126.61\n",
      " TimeLoss: 179.21\n",
      " DepartDelay: 0.49\n",
      "\n",
      "DijkstraRouter answered 2576 queries and explored 11.11 edges on average.\n",
      "DijkstraRouter spent 0.02s answering queries (0.01ms on average).\n",
      "printing /Users/rodrse/Documents/DemandCalibration/notebooks/od_calibration_sumo_files/quickstart/data/iter_quickstart.current_od.xml\n",
      "### Runing: iter\n",
      "od2trips --no-step-log  --spread.uniform --taz-files /Users/rodrse/Documents/DemandCalibration/notebooks/od_calibration_sumo_files/quickstart/data/quickstart.taz.xml --tazrelation-files /Users/rodrse/Documents/DemandCalibration/notebooks/od_calibration_sumo_files/quickstart/data/iter_quickstart.current_od.xml -o /Users/rodrse/Documents/DemandCalibration/notebooks/od_calibration_sumo_files/quickstart/data/iter_od_trips.trips.xml \n",
      "Success.\n",
      "Loading net-file from '/Users/rodrse/Documents/DemandCalibration/notebooks/od_calibration_sumo_files/quickstart/data/quickstart.net.xml' ... done (8ms).\n",
      "Loading additional-files from '/Users/rodrse/Documents/DemandCalibration/notebooks/od_calibration_sumo_files/quickstart/data/quickstart.additional.xml' ... done (1ms).\n",
      "Loading done.\n",
      "Simulation version 1.16.0 started with time: 54000.00.\n",
      "Step #56600.00 (8ms ~= 125.00*RT, ~91625.00UPS, vehicles TOT 2212 ACT 733 BUF 2)          \r"
     ]
    },
    {
     "name": "stderr",
     "output_type": "stream",
     "text": [
      "Warning: Teleporting vehicle '454'; waited too long (wrong lane), lane='L15_0', time=56636.00.\n",
      "Warning: Vehicle '454' ends teleporting on edge 'L18', time=56636.00.\n"
     ]
    },
    {
     "name": "stdout",
     "output_type": "stream",
     "text": [
      "Step #57000.00 (9ms ~= 111.11*RT, ~82777.78UPS, vehicles TOT 2444 ACT 745 BUF 111)        \r"
     ]
    },
    {
     "name": "stderr",
     "output_type": "stream",
     "text": [
      "Warning: Teleporting vehicle '630'; waited too long (wrong lane), lane='L12_2', time=56991.00.\n",
      "Warning: Teleporting vehicle '509'; waited too long (jam), lane='L2_0', time=57010.00.\n",
      "Warning: Vehicle '509' ends teleporting on edge 'L12', time=57010.00.\n",
      "Warning: Vehicle '630' ends teleporting on edge 'L15', time=57027.00.\n"
     ]
    },
    {
     "name": "stdout",
     "output_type": "stream",
     "text": [
      "Step #57100.00 (9ms ~= 111.11*RT, ~81666.67UPS, vehicles TOT 2479 ACT 735 BUF 161)        \r"
     ]
    },
    {
     "name": "stderr",
     "output_type": "stream",
     "text": [
      "Warning: Teleporting vehicle '635'; waited too long (wrong lane), lane='L12_2', time=57153.00.\n",
      "Warning: Vehicle '635' ends teleporting on edge 'L15', time=57153.00.\n",
      "Warning: Teleporting vehicle '687'; waited too long (jam), lane='D2_1', time=57184.00.\n",
      "Warning: Vehicle '687' ends teleporting on edge 'L2', time=57184.00.\n",
      "Warning: Teleporting vehicle '638'; waited too long (wrong lane), lane='L12_2', time=57204.00.\n"
     ]
    },
    {
     "name": "stdout",
     "output_type": "stream",
     "text": [
      "Step #57200.00 (9ms ~= 111.11*RT, ~81777.78UPS, vehicles TOT 2522 ACT 736 BUF 203)        \r"
     ]
    },
    {
     "name": "stderr",
     "output_type": "stream",
     "text": [
      "Warning: Vehicle '638' ends teleporting on edge 'L15', time=57214.00.\n"
     ]
    },
    {
     "name": "stdout",
     "output_type": "stream",
     "text": [
      "Step #57300.00 (10ms ~= 100.00*RT, ~75900.00UPS, vehicles TOT 2586 ACT 759 BUF 225)       \r"
     ]
    },
    {
     "name": "stderr",
     "output_type": "stream",
     "text": [
      "Warning: Teleporting vehicle '510'; waited too long (jam), lane='L2_0', time=57316.00.\n",
      "Warning: Vehicle '510' ends teleporting on edge 'L12', time=57316.00.\n",
      "Warning: Teleporting vehicle '651'; waited too long (wrong lane), lane='L12_2', time=57364.00.\n",
      "Warning: Vehicle '651' ends teleporting on edge 'L15', time=57364.00.\n"
     ]
    },
    {
     "name": "stdout",
     "output_type": "stream",
     "text": [
      "Step #57400.00 (9ms ~= 111.11*RT, ~85333.33UPS, vehicles TOT 2649 ACT 768 BUF 246)        \r"
     ]
    },
    {
     "name": "stderr",
     "output_type": "stream",
     "text": [
      "Warning: Teleporting vehicle '654'; waited too long (wrong lane), lane='L12_2', time=57411.00.\n",
      "Warning: Vehicle '654' ends teleporting on edge 'L15', time=57411.00.\n",
      "Warning: Teleporting vehicle '660'; waited too long (wrong lane), lane='L12_2', time=57490.00.\n",
      "Warning: Vehicle '660' ends teleporting on edge 'L15', time=57494.00.\n"
     ]
    },
    {
     "name": "stdout",
     "output_type": "stream",
     "text": [
      "Step #57600.00 (11ms ~= 90.91*RT, ~73727.27UPS, vehicles TOT 2780 ACT 811 BUF 286)        \n",
      "Simulation ended at time: 57600.00\n",
      "Reason: The final simulation step has been reached.\n",
      "Performance: \n",
      " Duration: 23.95s\n",
      " Real time factor: 150.307\n",
      " UPS: 84728.696088\n",
      "Vehicles: \n",
      " Inserted: 2780 (Loaded: 3066)\n",
      " Running: 811\n",
      " Waiting: 286\n",
      " Teleports: 10 (Jam: 3, Wrong Lane: 7)\n",
      "Statistics (avg of 1969):\n",
      " RouteLength: 4335.38\n",
      " Speed: 11.66\n",
      " Duration: 462.07\n",
      " WaitingTime: 93.62\n",
      " TimeLoss: 147.97\n",
      " DepartDelay: 0.61\n",
      "\n",
      "DijkstraRouter answered 3225 queries and explored 10.08 edges on average.\n",
      "DijkstraRouter spent 0.02s answering queries (0.00ms on average).\n",
      "printing /Users/rodrse/Documents/DemandCalibration/notebooks/od_calibration_sumo_files/quickstart/data/iter_quickstart.current_od.xml\n",
      "### Runing: iter\n",
      "od2trips --no-step-log  --spread.uniform --taz-files /Users/rodrse/Documents/DemandCalibration/notebooks/od_calibration_sumo_files/quickstart/data/quickstart.taz.xml --tazrelation-files /Users/rodrse/Documents/DemandCalibration/notebooks/od_calibration_sumo_files/quickstart/data/iter_quickstart.current_od.xml -o /Users/rodrse/Documents/DemandCalibration/notebooks/od_calibration_sumo_files/quickstart/data/iter_od_trips.trips.xml \n",
      "Success.\n",
      "Loading net-file from '/Users/rodrse/Documents/DemandCalibration/notebooks/od_calibration_sumo_files/quickstart/data/quickstart.net.xml' ... done (7ms).\n",
      "Loading additional-files from '/Users/rodrse/Documents/DemandCalibration/notebooks/od_calibration_sumo_files/quickstart/data/quickstart.additional.xml' ... done (1ms).\n",
      "Loading done.\n",
      "Simulation version 1.16.0 started with time: 54000.00.\n",
      "Step #57600.00 (8ms ~= 125.00*RT, ~82625.00UPS, vehicles TOT 2757 ACT 661 BUF 0)          \n",
      "Simulation ended at time: 57600.00\n",
      "Reason: The final simulation step has been reached.\n",
      "Performance: \n",
      " Duration: 20.73s\n",
      " Real time factor: 173.645\n",
      " UPS: 79534.487748\n",
      "Vehicles: \n",
      " Inserted: 2757\n",
      " Running: 661\n",
      " Waiting: 0\n",
      "Statistics (avg of 2096):\n",
      " RouteLength: 4446.70\n",
      " Speed: 11.60\n",
      " Duration: 457.15\n",
      " WaitingTime: 77.49\n",
      " TimeLoss: 134.35\n",
      " DepartDelay: 0.48\n",
      "\n",
      "DijkstraRouter answered 2757 queries and explored 10.37 edges on average.\n",
      "DijkstraRouter spent 0.02s answering queries (0.01ms on average).\n",
      "printing /Users/rodrse/Documents/DemandCalibration/notebooks/od_calibration_sumo_files/quickstart/data/iter_quickstart.current_od.xml\n",
      "### Runing: iter\n",
      "od2trips --no-step-log  --spread.uniform --taz-files /Users/rodrse/Documents/DemandCalibration/notebooks/od_calibration_sumo_files/quickstart/data/quickstart.taz.xml --tazrelation-files /Users/rodrse/Documents/DemandCalibration/notebooks/od_calibration_sumo_files/quickstart/data/iter_quickstart.current_od.xml -o /Users/rodrse/Documents/DemandCalibration/notebooks/od_calibration_sumo_files/quickstart/data/iter_od_trips.trips.xml \n",
      "Success.\n",
      "Loading net-file from '/Users/rodrse/Documents/DemandCalibration/notebooks/od_calibration_sumo_files/quickstart/data/quickstart.net.xml' ... done (8ms).\n",
      "Loading additional-files from '/Users/rodrse/Documents/DemandCalibration/notebooks/od_calibration_sumo_files/quickstart/data/quickstart.additional.xml' ... done (2ms).\n",
      "Loading done.\n",
      "Simulation version 1.16.0 started with time: 54000.00.\n",
      "Step #57600.00 (4ms ~= 250.00*RT, ~96750.00UPS, vehicles TOT 2103 ACT 387 BUF 0)          \n",
      "Simulation ended at time: 57600.00\n",
      "Reason: The final simulation step has been reached.\n",
      "Performance: \n",
      " Duration: 9.94s\n",
      " Real time factor: 362.209\n",
      " UPS: 97900.090552\n",
      "Vehicles: \n",
      " Inserted: 2103\n",
      " Running: 387\n",
      " Waiting: 0\n",
      "Statistics (avg of 1716):\n",
      " RouteLength: 4362.68\n",
      " Speed: 12.00\n",
      " Duration: 430.50\n",
      " WaitingTime: 70.31\n",
      " TimeLoss: 113.85\n",
      " DepartDelay: 0.49\n",
      "\n",
      "DijkstraRouter answered 2103 queries and explored 9.82 edges on average.\n",
      "DijkstraRouter spent 0.01s answering queries (0.01ms on average).\n",
      "printing /Users/rodrse/Documents/DemandCalibration/notebooks/od_calibration_sumo_files/quickstart/data/iter_quickstart.current_od.xml\n",
      "### Runing: iter\n",
      "od2trips --no-step-log  --spread.uniform --taz-files /Users/rodrse/Documents/DemandCalibration/notebooks/od_calibration_sumo_files/quickstart/data/quickstart.taz.xml --tazrelation-files /Users/rodrse/Documents/DemandCalibration/notebooks/od_calibration_sumo_files/quickstart/data/iter_quickstart.current_od.xml -o /Users/rodrse/Documents/DemandCalibration/notebooks/od_calibration_sumo_files/quickstart/data/iter_od_trips.trips.xml \n",
      "Success.\n",
      "Loading net-file from '/Users/rodrse/Documents/DemandCalibration/notebooks/od_calibration_sumo_files/quickstart/data/quickstart.net.xml' ... done (7ms).\n",
      "Loading additional-files from '/Users/rodrse/Documents/DemandCalibration/notebooks/od_calibration_sumo_files/quickstart/data/quickstart.additional.xml' ... done (1ms).\n",
      "Loading done.\n",
      "Simulation version 1.16.0 started with time: 54000.00.\n",
      "Step #56900.00 (11ms ~= 90.91*RT, ~74909.09UPS, vehicles TOT 2628 ACT 824 BUF 6)          \r"
     ]
    },
    {
     "name": "stderr",
     "output_type": "stream",
     "text": [
      "Warning: Teleporting vehicle '597'; waited too long (wrong lane), lane='L12_2', time=56993.00.\n",
      "Warning: Vehicle '597' ends teleporting on edge 'L15', time=56993.00.\n"
     ]
    },
    {
     "name": "stdout",
     "output_type": "stream",
     "text": [
      "Step #57000.00 (13ms ~= 76.92*RT, ~65692.31UPS, vehicles TOT 2711 ACT 854 BUF 15)         \r"
     ]
    },
    {
     "name": "stderr",
     "output_type": "stream",
     "text": [
      "Warning: Teleporting vehicle '602'; waited too long (wrong lane), lane='L12_2', time=57055.00.\n",
      "Warning: Vehicle '602' ends teleporting on edge 'L15', time=57088.00.\n",
      "Warning: Teleporting vehicle '472'; waited too long (jam), lane=':1_3_1', time=57129.00.\n",
      "Warning: Vehicle '472' ends teleporting on edge 'L12', time=57129.00.\n",
      "Warning: Teleporting vehicle '474'; waited too long (jam), lane='L2_0', time=57132.00.\n",
      "Warning: Vehicle '474' ends teleporting on edge 'L12', time=57132.00.\n"
     ]
    },
    {
     "name": "stdout",
     "output_type": "stream",
     "text": [
      "Step #57100.00 (11ms ~= 90.91*RT, ~79090.91UPS, vehicles TOT 2788 ACT 870 BUF 28)         \r"
     ]
    },
    {
     "name": "stderr",
     "output_type": "stream",
     "text": [
      "Warning: Teleporting vehicle '609'; waited too long (wrong lane), lane='L12_2', time=57153.00.\n",
      "Warning: Vehicle '609' ends teleporting on edge 'L15', time=57153.00.\n",
      "Warning: Teleporting vehicle '610'; waited too long (wrong lane), lane='L12_2', time=57183.00.\n"
     ]
    },
    {
     "name": "stdout",
     "output_type": "stream",
     "text": [
      "Step #57200.00 (8ms ~= 125.00*RT, ~109875.00UPS, vehicles TOT 2865 ACT 879 BUF 42)        \r"
     ]
    },
    {
     "name": "stderr",
     "output_type": "stream",
     "text": [
      "Warning: Vehicle '610' ends teleporting on edge 'L15', time=57221.00.\n",
      "Warning: Teleporting vehicle '539'; waited too long (jam), lane='D2_0', time=57224.00.\n",
      "Warning: Vehicle '539' ends teleporting on edge 'L2', time=57224.00.\n",
      "Warning: Teleporting vehicle '667'; waited too long (jam), lane='L2_1', time=57226.00.\n",
      "Warning: Vehicle '667' ends teleporting on edge 'L12', time=57226.00.\n",
      "Warning: Teleporting vehicle '619'; waited too long (wrong lane), lane='L12_2', time=57274.00.\n",
      "Warning: Vehicle '619' ends teleporting on edge 'L15', time=57283.00.\n"
     ]
    },
    {
     "name": "stdout",
     "output_type": "stream",
     "text": [
      "Step #57400.00 (10ms ~= 100.00*RT, ~90400.00UPS, vehicles TOT 2992 ACT 904 BUF 97)        \r"
     ]
    },
    {
     "name": "stderr",
     "output_type": "stream",
     "text": [
      "Warning: Teleporting vehicle '1381'; waited too long (jam), lane='D2_1', time=57411.00.\n",
      "Warning: Vehicle '1381' ends teleporting on edge 'L2', time=57411.00.\n",
      "Warning: Teleporting vehicle '625'; waited too long (wrong lane), lane='L12_2', time=57414.00.\n",
      "Warning: Teleporting vehicle '708'; waited too long (jam), lane='D2_1', time=57414.00.\n",
      "Warning: Vehicle '625' ends teleporting on edge 'L15', time=57414.00.\n",
      "Warning: Teleporting vehicle '626'; waited too long (wrong lane), lane='L12_2', time=57463.00.\n",
      "Warning: Vehicle '626' ends teleporting on edge 'L15', time=57463.00.\n"
     ]
    },
    {
     "name": "stdout",
     "output_type": "stream",
     "text": [
      "Step #57500.00 (10ms ~= 100.00*RT, ~89000.00UPS, vehicles TOT 3042 ACT 890 BUF 137)       \r"
     ]
    },
    {
     "name": "stderr",
     "output_type": "stream",
     "text": [
      "Warning: Teleporting vehicle '539'; waited too long (jam), lane='L2_0', time=57527.00.\n",
      "Warning: Vehicle '539' ends teleporting on edge 'L12', time=57527.00.\n",
      "Warning: Teleporting vehicle '1351'; waited too long (jam), lane='L2_1', time=57531.00.\n",
      "Warning: Vehicle '1351' ends teleporting on edge 'L12', time=57531.00.\n",
      "Warning: Teleporting vehicle '540'; waited too long (jam), lane='D2_0', time=57535.00.\n",
      "Warning: Teleporting vehicle '709'; waited too long (jam), lane='D2_1', time=57536.00.\n",
      "Warning: Teleporting vehicle '710'; waited too long (jam), lane='D2_1', time=57537.00.\n",
      "Warning: Teleporting vehicle '630'; waited too long (wrong lane), lane='L12_2', time=57573.00.\n"
     ]
    },
    {
     "name": "stdout",
     "output_type": "stream",
     "text": [
      "Step #57600.00 (8ms ~= 125.00*RT, ~110375.00UPS, vehicles TOT 3091 ACT 883 BUF 179)       \n",
      "Simulation ended at time: 57600.00\n",
      "Reason: The final simulation step has been reached.\n",
      "Performance: \n",
      " Duration: 28.20s\n",
      " Real time factor: 127.646\n",
      " UPS: 79462.716732\n",
      "Vehicles: \n",
      " Inserted: 3091 (Loaded: 3270)\n",
      " Running: 883\n",
      " Waiting: 179\n",
      " Teleports: 19 (Jam: 11, Wrong Lane: 8)\n",
      "Statistics (avg of 2208):\n",
      " RouteLength: 4384.39\n",
      " Speed: 11.40\n",
      " Duration: 480.25\n",
      " WaitingTime: 90.64\n",
      " TimeLoss: 162.48\n",
      " DepartDelay: 0.49\n",
      "\n",
      "DijkstraRouter answered 3332 queries and explored 10.26 edges on average.\n",
      "DijkstraRouter spent 0.02s answering queries (0.01ms on average).\n",
      "printing /Users/rodrse/Documents/DemandCalibration/notebooks/od_calibration_sumo_files/quickstart/data/iter_quickstart.current_od.xml\n",
      "### Runing: iter\n",
      "od2trips --no-step-log  --spread.uniform --taz-files /Users/rodrse/Documents/DemandCalibration/notebooks/od_calibration_sumo_files/quickstart/data/quickstart.taz.xml --tazrelation-files /Users/rodrse/Documents/DemandCalibration/notebooks/od_calibration_sumo_files/quickstart/data/iter_quickstart.current_od.xml -o /Users/rodrse/Documents/DemandCalibration/notebooks/od_calibration_sumo_files/quickstart/data/iter_od_trips.trips.xml \n",
      "Success.\n",
      "Loading net-file from '/Users/rodrse/Documents/DemandCalibration/notebooks/od_calibration_sumo_files/quickstart/data/quickstart.net.xml' ... done (8ms).\n",
      "Loading additional-files from '/Users/rodrse/Documents/DemandCalibration/notebooks/od_calibration_sumo_files/quickstart/data/quickstart.additional.xml' ... done (1ms).\n",
      "Loading done.\n",
      "Simulation version 1.16.0 started with time: 54000.00.\n",
      "Step #56300.00 (13ms ~= 76.92*RT, ~72384.62UPS, vehicles TOT 2044 ACT 941 BUF 0)          \r"
     ]
    },
    {
     "name": "stderr",
     "output_type": "stream",
     "text": [
      "Warning: Teleporting vehicle '393'; waited too long (wrong lane), lane='L15_0', time=56391.00.\n",
      "Warning: Vehicle '393' ends teleporting on edge 'L18', time=56391.00.\n"
     ]
    },
    {
     "name": "stdout",
     "output_type": "stream",
     "text": [
      "Step #56400.00 (25ms ~= 40.00*RT, ~38560.00UPS, vehicles TOT 2133 ACT 964 BUF 0)          \r"
     ]
    },
    {
     "name": "stderr",
     "output_type": "stream",
     "text": [
      "Warning: Teleporting vehicle '407'; waited too long (wrong lane), lane='L15_0', time=56404.00.\n",
      "Warning: Vehicle '407' ends teleporting on edge 'L18', time=56404.00.\n"
     ]
    },
    {
     "name": "stdout",
     "output_type": "stream",
     "text": [
      "Step #57300.00 (14ms ~= 71.43*RT, ~79785.71UPS, vehicles TOT 2933 ACT 1117 BUF 0)         \r"
     ]
    },
    {
     "name": "stderr",
     "output_type": "stream",
     "text": [
      "Warning: Teleporting vehicle '437'; waited too long (wrong lane), lane='L15_0', time=57342.00.\n",
      "Warning: Vehicle '437' ends teleporting on edge 'L18', time=57342.00.\n",
      "Warning: Teleporting vehicle '479'; waited too long (wrong lane), lane='L15_0', time=57344.00.\n",
      "Warning: Vehicle '479' ends teleporting on edge 'L18', time=57344.00.\n",
      "Warning: Teleporting vehicle '455'; waited too long (wrong lane), lane='L15_0', time=57346.00.\n",
      "Warning: Vehicle '455' ends teleporting on edge 'L18', time=57346.00.\n",
      "Warning: Teleporting vehicle '466'; waited too long (wrong lane), lane='L15_0', time=57347.00.\n",
      "Warning: Vehicle '466' ends teleporting on edge 'L18', time=57347.00.\n",
      "Warning: Teleporting vehicle '564'; waited too long (jam), lane='L12_0', time=57353.00.\n",
      "Warning: Vehicle '564' ends teleporting on edge 'L15', time=57353.00.\n",
      "Warning: Teleporting vehicle '575'; waited too long (jam), lane='L12_0', time=57354.00.\n",
      "Warning: Teleporting vehicle '572'; waited too long (jam), lane='L12_0', time=57355.00.\n",
      "Warning: Teleporting vehicle '576'; waited too long (jam), lane='L12_0', time=57356.00.\n",
      "Warning: Teleporting vehicle '563'; waited too long (jam), lane='L12_0', time=57357.00.\n",
      "Warning: Teleporting vehicle '578'; waited too long (jam), lane='L12_0', time=57358.00.\n",
      "Warning: Teleporting vehicle '558'; waited too long (jam), lane='L12_0', time=57359.00.\n",
      "Warning: Teleporting vehicle '522'; waited too long (wrong lane), lane='L15_0', time=57366.00.\n",
      "Warning: Vehicle '522' ends teleporting on edge 'L18', time=57366.00.\n"
     ]
    },
    {
     "name": "stdout",
     "output_type": "stream",
     "text": [
      "Step #57400.00 (15ms ~= 66.67*RT, ~73066.67UPS, vehicles TOT 3022 ACT 1096 BUF 0)         \r"
     ]
    },
    {
     "name": "stderr",
     "output_type": "stream",
     "text": [
      "Warning: Vehicle '558' ends teleporting on edge 'L15', time=57480.00.\n"
     ]
    },
    {
     "name": "stdout",
     "output_type": "stream",
     "text": [
      "Step #57500.00 (13ms ~= 76.92*RT, ~82923.08UPS, vehicles TOT 3082 ACT 1078 BUF 28)        \r"
     ]
    },
    {
     "name": "stderr",
     "output_type": "stream",
     "text": [
      "Warning: Teleporting vehicle '421'; waited too long (jam), lane='L12_1', time=57558.00.\n"
     ]
    },
    {
     "name": "stdout",
     "output_type": "stream",
     "text": [
      "Step #57600.00 (13ms ~= 76.92*RT, ~82153.85UPS, vehicles TOT 3137 ACT 1068 BUF 62)        \n",
      "Simulation ended at time: 57600.00\n",
      "Reason: The final simulation step has been reached.\n",
      "Performance: \n",
      " Duration: 33.81s\n",
      " Real time factor: 106.481\n",
      " UPS: 78682.776775\n",
      "Vehicles: \n",
      " Inserted: 3137 (Loaded: 3199)\n",
      " Running: 1068\n",
      " Waiting: 62\n",
      " Teleports: 15 (Jam: 8, Wrong Lane: 7)\n",
      "Statistics (avg of 2069):\n",
      " RouteLength: 4374.23\n",
      " Speed: 9.74\n",
      " Duration: 720.05\n",
      " WaitingTime: 179.54\n",
      " TimeLoss: 403.38\n",
      " DepartDelay: 0.50\n",
      "\n",
      "DijkstraRouter answered 3212 queries and explored 10.33 edges on average.\n",
      "DijkstraRouter spent 0.01s answering queries (0.00ms on average).\n"
     ]
    }
   ],
   "source": [
    "df_0 = [\n",
    "    objective(x) for x in train_X0.cpu().detach().numpy()\n",
    "]\n",
    "\n",
    "df_0 = pd.concat(df_0)\n",
    "df_0['iter'] = 0"
   ]
  },
  {
   "cell_type": "markdown",
   "id": "63219644",
   "metadata": {},
   "source": [
    "### GP model surrogate"
   ]
  },
  {
   "cell_type": "code",
   "execution_count": 22,
   "id": "09f66122",
   "metadata": {},
   "outputs": [
    {
     "data": {
      "text/plain": [
       "ExactMarginalLogLikelihood(\n",
       "  (likelihood): GaussianLikelihood(\n",
       "    (noise_covar): HomoskedasticNoise(\n",
       "      (noise_prior): GammaPrior()\n",
       "      (raw_noise_constraint): GreaterThan(1.000E-04)\n",
       "    )\n",
       "  )\n",
       "  (model): SingleTaskGP(\n",
       "    (likelihood): GaussianLikelihood(\n",
       "      (noise_covar): HomoskedasticNoise(\n",
       "        (noise_prior): GammaPrior()\n",
       "        (raw_noise_constraint): GreaterThan(1.000E-04)\n",
       "      )\n",
       "    )\n",
       "    (mean_module): ConstantMean()\n",
       "    (covar_module): ScaleKernel(\n",
       "      (base_kernel): MaternKernel(\n",
       "        (lengthscale_prior): GammaPrior()\n",
       "        (raw_lengthscale_constraint): Positive()\n",
       "        (distance_module): Distance()\n",
       "      )\n",
       "      (outputscale_prior): GammaPrior()\n",
       "      (raw_outputscale_constraint): Positive()\n",
       "    )\n",
       "    (outcome_transform): Standardize()\n",
       "  )\n",
       ")"
      ]
     },
     "execution_count": 22,
     "metadata": {},
     "output_type": "execute_result"
    }
   ],
   "source": [
    "import torch\n",
    "import matplotlib.pyplot as plt\n",
    "\n",
    "from botorch.models.transforms import Normalize, Standardize\n",
    "\n",
    "from botorch.utils.transforms import normalize\n",
    "\n",
    "from botorch.models import SingleTaskGP\n",
    "from gpytorch.mlls import ExactMarginalLogLikelihood\n",
    "from botorch import fit_gpytorch_mll\n",
    "\n",
    "\n",
    "train_X = torch.from_numpy(df_0[[\"x1\",\"x2\",\"x3\",\"x4\"]].values)\n",
    "train_X_norm = normalize(train_X,bounds)\n",
    "\n",
    "train_Y = -torch.from_numpy(df_0[[\"loss_estimate\"]].values)\n",
    "\n",
    "\n",
    "def initialize_gp_model(train_X,train_Y):\n",
    "            \n",
    "    gp_model = SingleTaskGP(\n",
    "        train_X=train_X,\n",
    "        train_Y=train_Y,\n",
    "        outcome_transform=Standardize(m=1)\n",
    "    )\n",
    "\n",
    "    gp_mll = ExactMarginalLogLikelihood(gp_model.likelihood, gp_model)\n",
    "    \n",
    "    return gp_model, gp_mll\n",
    "\n",
    "\n",
    "gp_model, gp_mll = initialize_gp_model(train_X_norm,train_Y)\n",
    "\n",
    "# Fit model\n",
    "fit_gpytorch_mll(gp_mll)\n"
   ]
  },
  {
   "cell_type": "markdown",
   "id": "2c4481d9",
   "metadata": {},
   "source": [
    "### Acquisition Function: q-EI"
   ]
  },
  {
   "cell_type": "code",
   "execution_count": 23,
   "id": "1baa70ba",
   "metadata": {},
   "outputs": [],
   "source": [
    "# Acquisition function\n",
    "from botorch.acquisition import qExpectedImprovement\n",
    "from botorch.sampling.stochastic_samplers import StochasticSampler\n",
    "\n",
    "sampler = StochasticSampler(sample_shape=torch.Size([128]))\n",
    "qEI = qExpectedImprovement(gp_model, best_f=max(train_Y), sampler=sampler)\n"
   ]
  },
  {
   "cell_type": "code",
   "execution_count": 24,
   "id": "70c2e9eb",
   "metadata": {},
   "outputs": [],
   "source": [
    "from botorch.utils.transforms import unnormalize\n",
    "from botorch.optim import optimize_acqf\n",
    "    \n",
    "def optimize_acqf_and_get_observation(acq_func,bounds):\n",
    "    \"\"\"Optimizes the acquisition function, and returns a new candidate.\"\"\"\n",
    "    # optimize\n",
    "    candidates, _ = optimize_acqf(\n",
    "        acq_function=acq_func,\n",
    "        bounds=torch.tensor([[0.0] * dim, [1.0] * dim], device=device, dtype=dtype),\n",
    "        q=BATCH_SIZE,\n",
    "        num_restarts=NUM_RESTARTS,\n",
    "        raw_samples=RAW_SAMPLES,  # used for intialization heuristic\n",
    "        options={\"batch_limit\": 5, \"maxiter\": 200},\n",
    "    )\n",
    "\n",
    "    # observe new values \n",
    "    new_x = candidates.detach()\n",
    "    \n",
    "    return unnormalize(new_x, bounds)"
   ]
  },
  {
   "cell_type": "code",
   "execution_count": 25,
   "id": "812f0159",
   "metadata": {},
   "outputs": [
    {
     "data": {
      "text/plain": [
       "tensor([[ 735.3012,  655.5877, 1000.0000,  998.2975]], dtype=torch.float64)"
      ]
     },
     "execution_count": 25,
     "metadata": {},
     "output_type": "execute_result"
    }
   ],
   "source": [
    "BATCH_SIZE = 1 \n",
    "NUM_RESTARTS = 5 \n",
    "RAW_SAMPLES = 32 \n",
    "\n",
    "new_x = optimize_acqf_and_get_observation(\n",
    "    acq_func=qEI,\n",
    "    bounds=bounds\n",
    ")\n",
    "\n",
    "new_x\n"
   ]
  },
  {
   "cell_type": "markdown",
   "id": "6dbe84ac",
   "metadata": {},
   "source": [
    "### Run loop"
   ]
  },
  {
   "cell_type": "code",
   "execution_count": 31,
   "id": "1a7532f2",
   "metadata": {},
   "outputs": [
    {
     "name": "stdout",
     "output_type": "stream",
     "text": [
      "####### 1 ########\n",
      "##### n=25 #####\n",
      "##### best_value=-0.03369774107009836 #####\n",
      "printing /Users/rodrse/Documents/DemandCalibration/notebooks/od_calibration_sumo_files/quickstart/data/iter_quickstart.current_od.xml\n",
      "### Runing: iter\n",
      "od2trips --no-step-log  --spread.uniform --taz-files /Users/rodrse/Documents/DemandCalibration/notebooks/od_calibration_sumo_files/quickstart/data/quickstart.taz.xml --tazrelation-files /Users/rodrse/Documents/DemandCalibration/notebooks/od_calibration_sumo_files/quickstart/data/iter_quickstart.current_od.xml -o /Users/rodrse/Documents/DemandCalibration/notebooks/od_calibration_sumo_files/quickstart/data/iter_od_trips.trips.xml \n",
      "Success.\n",
      "Loading net-file from '/Users/rodrse/Documents/DemandCalibration/notebooks/od_calibration_sumo_files/quickstart/data/quickstart.net.xml' ... done (8ms).\n",
      "Loading additional-files from '/Users/rodrse/Documents/DemandCalibration/notebooks/od_calibration_sumo_files/quickstart/data/quickstart.additional.xml' ... done (2ms).\n",
      "Loading done.\n",
      "Simulation version 1.16.0 started with time: 54000.00.\n",
      "Step #56900.00 (10ms ~= 100.00*RT, ~89200.00UPS, vehicles TOT 2612 ACT 892 BUF 0)         \r"
     ]
    },
    {
     "name": "stderr",
     "output_type": "stream",
     "text": [
      "Warning: Teleporting vehicle '412'; waited too long (wrong lane), lane='L15_0', time=56946.00.\n",
      "Warning: Vehicle '412' ends teleporting on edge 'L18', time=56946.00.\n",
      "Warning: Teleporting vehicle '426'; waited too long (wrong lane), lane='L15_0', time=56970.00.\n",
      "Warning: Vehicle '426' ends teleporting on edge 'L18', time=56970.00.\n",
      "Warning: Teleporting vehicle '432'; waited too long (wrong lane), lane='L15_0', time=56971.00.\n",
      "Warning: Vehicle '432' ends teleporting on edge 'L18', time=56971.00.\n"
     ]
    },
    {
     "name": "stdout",
     "output_type": "stream",
     "text": [
      "Step #57400.00 (12ms ~= 83.33*RT, ~79750.00UPS, vehicles TOT 3064 ACT 957 BUF 0)          \r"
     ]
    },
    {
     "name": "stderr",
     "output_type": "stream",
     "text": [
      "Warning: Teleporting vehicle '409'; waited too long (yield), lane='L15_1', time=57460.00.\n",
      "Warning: Vehicle '409' ends teleporting on edge 'L18', time=57460.00.\n"
     ]
    },
    {
     "name": "stdout",
     "output_type": "stream",
     "text": [
      "Step #57600.00 (13ms ~= 76.92*RT, ~76076.92UPS, vehicles TOT 3244 ACT 989 BUF 0)          \n",
      "Simulation ended at time: 57600.00\n",
      "Reason: The final simulation step has been reached.\n",
      "Performance: \n",
      " Duration: 27.04s\n",
      " Real time factor: 133.126\n",
      " UPS: 84375.120183\n",
      "Vehicles: \n",
      " Inserted: 3244\n",
      " Running: 989\n",
      " Waiting: 0\n",
      " Teleports: 4 (Yield: 1, Wrong Lane: 3)\n",
      "Statistics (avg of 2255):\n",
      " RouteLength: 4247.54\n",
      " Speed: 10.96\n",
      " Duration: 566.76\n",
      " WaitingTime: 127.59\n",
      " TimeLoss: 258.85\n",
      " DepartDelay: 0.50\n",
      "\n",
      "DijkstraRouter answered 3244 queries and explored 9.61 edges on average.\n",
      "DijkstraRouter spent 0.02s answering queries (0.01ms on average).\n",
      "####### 2 ########\n",
      "##### n=26 #####\n",
      "##### best_value=-0.03369774107009836 #####\n",
      "printing /Users/rodrse/Documents/DemandCalibration/notebooks/od_calibration_sumo_files/quickstart/data/iter_quickstart.current_od.xml\n",
      "### Runing: iter\n",
      "od2trips --no-step-log  --spread.uniform --taz-files /Users/rodrse/Documents/DemandCalibration/notebooks/od_calibration_sumo_files/quickstart/data/quickstart.taz.xml --tazrelation-files /Users/rodrse/Documents/DemandCalibration/notebooks/od_calibration_sumo_files/quickstart/data/iter_quickstart.current_od.xml -o /Users/rodrse/Documents/DemandCalibration/notebooks/od_calibration_sumo_files/quickstart/data/iter_od_trips.trips.xml \n",
      "Success.\n",
      "Loading net-file from '/Users/rodrse/Documents/DemandCalibration/notebooks/od_calibration_sumo_files/quickstart/data/quickstart.net.xml' ... done (7ms).\n",
      "Loading additional-files from '/Users/rodrse/Documents/DemandCalibration/notebooks/od_calibration_sumo_files/quickstart/data/quickstart.additional.xml' ... done (3ms).\n",
      "Loading done.\n",
      "Simulation version 1.16.0 started with time: 54000.00.\n",
      "Step #57600.00 (6ms ~= 166.67*RT, ~90500.00UPS, vehicles TOT 2688 ACT 543 BUF 0)          \n",
      "Simulation ended at time: 57600.00\n",
      "Reason: The final simulation step has been reached.\n",
      "Performance: \n",
      " Duration: 13.25s\n",
      " Real time factor: 271.739\n",
      " UPS: 98978.638285\n",
      "Vehicles: \n",
      " Inserted: 2688\n",
      " Running: 543\n",
      " Waiting: 0\n",
      "Statistics (avg of 2145):\n",
      " RouteLength: 4238.39\n",
      " Speed: 12.03\n",
      " Duration: 421.08\n",
      " WaitingTime: 74.33\n",
      " TimeLoss: 113.77\n",
      " DepartDelay: 0.49\n",
      "\n",
      "DijkstraRouter answered 2688 queries and explored 9.19 edges on average.\n",
      "DijkstraRouter spent 0.01s answering queries (0.00ms on average).\n",
      "####### 3 ########\n",
      "##### n=27 #####\n",
      "##### best_value=-0.03369774107009836 #####\n",
      "printing /Users/rodrse/Documents/DemandCalibration/notebooks/od_calibration_sumo_files/quickstart/data/iter_quickstart.current_od.xml\n",
      "### Runing: iter\n",
      "od2trips --no-step-log  --spread.uniform --taz-files /Users/rodrse/Documents/DemandCalibration/notebooks/od_calibration_sumo_files/quickstart/data/quickstart.taz.xml --tazrelation-files /Users/rodrse/Documents/DemandCalibration/notebooks/od_calibration_sumo_files/quickstart/data/iter_quickstart.current_od.xml -o /Users/rodrse/Documents/DemandCalibration/notebooks/od_calibration_sumo_files/quickstart/data/iter_od_trips.trips.xml \n",
      "Success.\n",
      "Loading net-file from '/Users/rodrse/Documents/DemandCalibration/notebooks/od_calibration_sumo_files/quickstart/data/quickstart.net.xml' ... done (6ms).\n",
      "Loading additional-files from '/Users/rodrse/Documents/DemandCalibration/notebooks/od_calibration_sumo_files/quickstart/data/quickstart.additional.xml' ... done (1ms).\n",
      "Loading done.\n",
      "Simulation version 1.16.0 started with time: 54000.00.\n",
      "Step #57600.00 (8ms ~= 125.00*RT, ~101875.00UPS, vehicles TOT 3187 ACT 815 BUF 0)         \n",
      "Simulation ended at time: 57600.00\n",
      "Reason: The final simulation step has been reached.\n",
      "Performance: \n",
      " Duration: 19.95s\n",
      " Real time factor: 180.415\n",
      " UPS: 107147.038188\n",
      "Vehicles: \n",
      " Inserted: 3187\n",
      " Running: 815\n",
      " Waiting: 0\n",
      "Statistics (avg of 2372):\n",
      " RouteLength: 4374.19\n",
      " Speed: 10.60\n",
      " Duration: 537.02\n",
      " WaitingTime: 87.65\n",
      " TimeLoss: 220.25\n",
      " DepartDelay: 0.46\n",
      "\n",
      "DijkstraRouter answered 3187 queries and explored 9.97 edges on average.\n",
      "DijkstraRouter spent 0.01s answering queries (0.00ms on average).\n",
      "####### 4 ########\n",
      "##### n=28 #####\n",
      "##### best_value=-0.03369774107009836 #####\n",
      "printing /Users/rodrse/Documents/DemandCalibration/notebooks/od_calibration_sumo_files/quickstart/data/iter_quickstart.current_od.xml\n",
      "### Runing: iter\n",
      "od2trips --no-step-log  --spread.uniform --taz-files /Users/rodrse/Documents/DemandCalibration/notebooks/od_calibration_sumo_files/quickstart/data/quickstart.taz.xml --tazrelation-files /Users/rodrse/Documents/DemandCalibration/notebooks/od_calibration_sumo_files/quickstart/data/iter_quickstart.current_od.xml -o /Users/rodrse/Documents/DemandCalibration/notebooks/od_calibration_sumo_files/quickstart/data/iter_od_trips.trips.xml \n",
      "Success.\n",
      "Loading net-file from '/Users/rodrse/Documents/DemandCalibration/notebooks/od_calibration_sumo_files/quickstart/data/quickstart.net.xml' ... done (5ms).\n",
      "Loading additional-files from '/Users/rodrse/Documents/DemandCalibration/notebooks/od_calibration_sumo_files/quickstart/data/quickstart.additional.xml' ... done (0ms).\n",
      "Loading done.\n",
      "Simulation version 1.16.0 started with time: 54000.00.\n",
      "Step #56700.00 (6ms ~= 166.67*RT, ~130500.00UPS, vehicles TOT 2434 ACT 783 BUF 48)        \r"
     ]
    },
    {
     "name": "stderr",
     "output_type": "stream",
     "text": [
      "Warning: Teleporting vehicle '607'; waited too long (wrong lane), lane='L12_2', time=56786.00.\n",
      "Warning: Vehicle '607' ends teleporting on edge 'L15', time=56786.00.\n"
     ]
    },
    {
     "name": "stdout",
     "output_type": "stream",
     "text": [
      "Step #56900.00 (5ms ~= 200.00*RT, ~166400.00UPS, vehicles TOT 2583 ACT 832 BUF 84)        \r"
     ]
    },
    {
     "name": "stderr",
     "output_type": "stream",
     "text": [
      "Warning: Teleporting vehicle '475'; waited too long (jam), lane=':1_3_1', time=56915.00.\n",
      "Warning: Vehicle '475' ends teleporting on edge 'L12', time=56915.00.\n",
      "Warning: Teleporting vehicle '613'; waited too long (wrong lane), lane='L12_2', time=56919.00.\n",
      "Warning: Vehicle '613' ends teleporting on edge 'L15', time=56923.00.\n"
     ]
    },
    {
     "name": "stdout",
     "output_type": "stream",
     "text": [
      "Step #57000.00 (7ms ~= 142.86*RT, ~120714.29UPS, vehicles TOT 2659 ACT 845 BUF 100)       \r"
     ]
    },
    {
     "name": "stderr",
     "output_type": "stream",
     "text": [
      "Warning: Teleporting vehicle '1443'; waited too long (jam), lane=':1_3_2', time=57024.00.\n",
      "Warning: Teleporting vehicle '664'; waited too long (jam), lane='L2_1', time=57025.00.\n",
      "Warning: Vehicle '1443' ends teleporting on edge 'L12', time=57025.00.\n",
      "Warning: Vehicle '664' ends teleporting on edge 'L12', time=57025.00.\n",
      "Warning: Teleporting vehicle '626'; waited too long (wrong lane), lane='L12_2', time=57099.00.\n",
      "Warning: Vehicle '626' ends teleporting on edge 'L15', time=57105.00.\n"
     ]
    },
    {
     "name": "stdout",
     "output_type": "stream",
     "text": [
      "Step #57200.00 (7ms ~= 142.86*RT, ~122857.14UPS, vehicles TOT 2782 ACT 860 BUF 159)       \r"
     ]
    },
    {
     "name": "stderr",
     "output_type": "stream",
     "text": [
      "Warning: Teleporting vehicle '632'; waited too long (wrong lane), lane='L12_2', time=57203.00.\n",
      "Warning: Vehicle '632' ends teleporting on edge 'L15', time=57203.00.\n",
      "Warning: Teleporting vehicle '476'; waited too long (jam), lane=':1_3_1', time=57221.00.\n",
      "Warning: Vehicle '476' ends teleporting on edge 'L12', time=57221.00.\n",
      "Warning: Teleporting vehicle '477'; waited too long (jam), lane='L2_0', time=57223.00.\n",
      "Warning: Vehicle '477' ends teleporting on edge 'L12', time=57223.00.\n",
      "Warning: Teleporting vehicle '666'; waited too long (jam), lane='L2_1', time=57225.00.\n",
      "Warning: Vehicle '666' ends teleporting on edge 'L12', time=57225.00.\n",
      "Warning: Teleporting vehicle '1474'; waited too long (jam), lane='D2_1', time=57229.00.\n",
      "Warning: Vehicle '1474' ends teleporting on edge 'L2', time=57229.00.\n",
      "Warning: Teleporting vehicle '704'; waited too long (jam), lane='D2_1', time=57232.00.\n",
      "Warning: Vehicle '704' ends teleporting on edge 'L2', time=57232.00.\n",
      "Warning: Teleporting vehicle '635'; waited too long (wrong lane), lane='L12_2', time=57281.00.\n",
      "Warning: Vehicle '635' ends teleporting on edge 'L15', time=57281.00.\n"
     ]
    },
    {
     "name": "stdout",
     "output_type": "stream",
     "text": [
      "Step #57300.00 (10ms ~= 100.00*RT, ~85100.00UPS, vehicles TOT 2829 ACT 851 BUF 205)       \r"
     ]
    },
    {
     "name": "stderr",
     "output_type": "stream",
     "text": [
      "Warning: Teleporting vehicle '543'; waited too long (jam), lane='D2_0', time=57310.00.\n",
      "Warning: Vehicle '543' ends teleporting on edge 'L2', time=57310.00.\n",
      "Warning: Teleporting vehicle '1444'; waited too long (jam), lane=':1_3_1', time=57333.00.\n"
     ]
    },
    {
     "name": "stdout",
     "output_type": "stream",
     "text": [
      "Step #57400.00 (10ms ~= 100.00*RT, ~85100.00UPS, vehicles TOT 2875 ACT 851 BUF 251)       \r"
     ]
    },
    {
     "name": "stderr",
     "output_type": "stream",
     "text": [
      "Warning: Teleporting vehicle '640'; waited too long (wrong lane), lane='L12_2', time=57438.00.\n",
      "Warning: Vehicle '640' ends teleporting on edge 'L15', time=57461.00.\n"
     ]
    },
    {
     "name": "stdout",
     "output_type": "stream",
     "text": [
      "Step #57500.00 (8ms ~= 125.00*RT, ~105125.00UPS, vehicles TOT 2921 ACT 841 BUF 297)       \r"
     ]
    },
    {
     "name": "stderr",
     "output_type": "stream",
     "text": [
      "Warning: Teleporting vehicle '1445'; waited too long (jam), lane=':1_3_2', time=57527.00.\n",
      "Warning: Teleporting vehicle '1475'; waited too long (jam), lane='D2_1', time=57541.00.\n",
      "Warning: Vehicle '1475' ends teleporting on edge 'L2', time=57541.00.\n"
     ]
    },
    {
     "name": "stdout",
     "output_type": "stream",
     "text": [
      "Step #57600.00 (7ms ~= 142.86*RT, ~119285.71UPS, vehicles TOT 2967 ACT 835 BUF 343)       \n",
      "Simulation ended at time: 57600.00\n",
      "Reason: The final simulation step has been reached.\n",
      "Performance: \n",
      " Duration: 20.38s\n",
      " Real time factor: 176.644\n",
      " UPS: 106062.757605\n",
      "Vehicles: \n",
      " Inserted: 2967 (Loaded: 3310)\n",
      " Running: 835\n",
      " Waiting: 343\n",
      " Teleports: 18 (Jam: 12, Wrong Lane: 6)\n",
      "Statistics (avg of 2132):\n",
      " RouteLength: 4338.78\n",
      " Speed: 12.09\n",
      " Duration: 440.46\n",
      " WaitingTime: 82.70\n",
      " TimeLoss: 126.07\n",
      " DepartDelay: 0.57\n",
      "\n",
      "DijkstraRouter answered 3462 queries and explored 10.27 edges on average.\n",
      "DijkstraRouter spent 0.01s answering queries (0.00ms on average).\n",
      "####### 5 ########\n",
      "##### n=29 #####\n",
      "##### best_value=-0.03369774107009836 #####\n",
      "printing /Users/rodrse/Documents/DemandCalibration/notebooks/od_calibration_sumo_files/quickstart/data/iter_quickstart.current_od.xml\n",
      "### Runing: iter\n",
      "od2trips --no-step-log  --spread.uniform --taz-files /Users/rodrse/Documents/DemandCalibration/notebooks/od_calibration_sumo_files/quickstart/data/quickstart.taz.xml --tazrelation-files /Users/rodrse/Documents/DemandCalibration/notebooks/od_calibration_sumo_files/quickstart/data/iter_quickstart.current_od.xml -o /Users/rodrse/Documents/DemandCalibration/notebooks/od_calibration_sumo_files/quickstart/data/iter_od_trips.trips.xml \n",
      "Success.\n",
      "Loading net-file from '/Users/rodrse/Documents/DemandCalibration/notebooks/od_calibration_sumo_files/quickstart/data/quickstart.net.xml' ... done (6ms).\n",
      "Loading additional-files from '/Users/rodrse/Documents/DemandCalibration/notebooks/od_calibration_sumo_files/quickstart/data/quickstart.additional.xml' ... done (1ms).\n",
      "Loading done.\n",
      "Simulation version 1.16.0 started with time: 54000.00.\n",
      "Step #57600.00 (9ms ~= 111.11*RT, ~82555.56UPS, vehicles TOT 2828 ACT 743 BUF 0)          \n",
      "Simulation ended at time: 57600.00\n",
      "Reason: The final simulation step has been reached.\n",
      "Performance: \n",
      " Duration: 15.95s\n",
      " Real time factor: 225.691\n",
      " UPS: 110467.744969\n",
      "Vehicles: \n",
      " Inserted: 2828\n",
      " Running: 743\n",
      " Waiting: 0\n",
      "Statistics (avg of 2085):\n",
      " RouteLength: 4316.56\n",
      " Speed: 10.94\n",
      " Duration: 528.36\n",
      " WaitingTime: 119.31\n",
      " TimeLoss: 215.38\n",
      " DepartDelay: 0.49\n",
      "\n",
      "DijkstraRouter answered 2828 queries and explored 9.75 edges on average.\n",
      "DijkstraRouter spent 0.02s answering queries (0.01ms on average).\n",
      "####### 6 ########\n",
      "##### n=30 #####\n",
      "##### best_value=-0.029751751778672477 #####\n",
      "printing /Users/rodrse/Documents/DemandCalibration/notebooks/od_calibration_sumo_files/quickstart/data/iter_quickstart.current_od.xml\n",
      "### Runing: iter\n",
      "od2trips --no-step-log  --spread.uniform --taz-files /Users/rodrse/Documents/DemandCalibration/notebooks/od_calibration_sumo_files/quickstart/data/quickstart.taz.xml --tazrelation-files /Users/rodrse/Documents/DemandCalibration/notebooks/od_calibration_sumo_files/quickstart/data/iter_quickstart.current_od.xml -o /Users/rodrse/Documents/DemandCalibration/notebooks/od_calibration_sumo_files/quickstart/data/iter_od_trips.trips.xml \n",
      "Success.\n",
      "Loading net-file from '/Users/rodrse/Documents/DemandCalibration/notebooks/od_calibration_sumo_files/quickstart/data/quickstart.net.xml' ... done (7ms).\n",
      "Loading additional-files from '/Users/rodrse/Documents/DemandCalibration/notebooks/od_calibration_sumo_files/quickstart/data/quickstart.additional.xml' ... done (1ms).\n",
      "Loading done.\n",
      "Simulation version 1.16.0 started with time: 54000.00.\n",
      "Step #57600.00 (12ms ~= 83.33*RT, ~81083.33UPS, vehicles TOT 3240 ACT 973 BUF 125)        \n",
      "Simulation ended at time: 57600.00\n",
      "Reason: The final simulation step has been reached.\n",
      "Performance: \n",
      " Duration: 26.74s\n",
      " Real time factor: 134.65\n",
      " UPS: 88002.094554\n",
      "Vehicles: \n",
      " Inserted: 3240 (Loaded: 3365)\n",
      " Running: 973\n",
      " Waiting: 125\n",
      "Statistics (avg of 2267):\n",
      " RouteLength: 4209.95\n",
      " Speed: 11.18\n",
      " Duration: 565.35\n",
      " WaitingTime: 156.23\n",
      " TimeLoss: 260.65\n",
      " DepartDelay: 0.51\n",
      "\n",
      "DijkstraRouter answered 3407 queries and explored 9.50 edges on average.\n",
      "DijkstraRouter spent 0.03s answering queries (0.01ms on average).\n",
      "####### 7 ########\n",
      "##### n=31 #####\n",
      "##### best_value=-0.029751751778672477 #####\n",
      "printing /Users/rodrse/Documents/DemandCalibration/notebooks/od_calibration_sumo_files/quickstart/data/iter_quickstart.current_od.xml\n",
      "### Runing: iter\n",
      "od2trips --no-step-log  --spread.uniform --taz-files /Users/rodrse/Documents/DemandCalibration/notebooks/od_calibration_sumo_files/quickstart/data/quickstart.taz.xml --tazrelation-files /Users/rodrse/Documents/DemandCalibration/notebooks/od_calibration_sumo_files/quickstart/data/iter_quickstart.current_od.xml -o /Users/rodrse/Documents/DemandCalibration/notebooks/od_calibration_sumo_files/quickstart/data/iter_od_trips.trips.xml \n",
      "Success.\n",
      "Loading net-file from '/Users/rodrse/Documents/DemandCalibration/notebooks/od_calibration_sumo_files/quickstart/data/quickstart.net.xml' ... done (7ms).\n",
      "Loading additional-files from '/Users/rodrse/Documents/DemandCalibration/notebooks/od_calibration_sumo_files/quickstart/data/quickstart.additional.xml' ... done (1ms).\n",
      "Loading done.\n",
      "Simulation version 1.16.0 started with time: 54000.00.\n",
      "Step #56900.00 (11ms ~= 90.91*RT, ~78545.45UPS, vehicles TOT 2782 ACT 864 BUF 98)         \r"
     ]
    },
    {
     "name": "stderr",
     "output_type": "stream",
     "text": [
      "Warning: Teleporting vehicle '592'; waited too long (wrong lane), lane='L12_2', time=56975.00.\n",
      "Warning: Vehicle '592' ends teleporting on edge 'L15', time=56975.00.\n"
     ]
    },
    {
     "name": "stdout",
     "output_type": "stream",
     "text": [
      "Step #57000.00 (9ms ~= 111.11*RT, ~90777.78UPS, vehicles TOT 2847 ACT 817 BUF 134)        \r"
     ]
    },
    {
     "name": "stderr",
     "output_type": "stream",
     "text": [
      "Warning: Teleporting vehicle '594'; waited too long (wrong lane), lane='L12_2', time=57002.00.\n",
      "Warning: Vehicle '594' ends teleporting on edge 'L15', time=57022.00.\n"
     ]
    },
    {
     "name": "stdout",
     "output_type": "stream",
     "text": [
      "Step #57100.00 (8ms ~= 125.00*RT, ~97375.00UPS, vehicles TOT 2900 ACT 779 BUF 179)        \r"
     ]
    },
    {
     "name": "stderr",
     "output_type": "stream",
     "text": [
      "Warning: Teleporting vehicle '601'; waited too long (wrong lane), lane='L12_2', time=57123.00.\n",
      "Warning: Vehicle '601' ends teleporting on edge 'L15', time=57126.00.\n"
     ]
    },
    {
     "name": "stdout",
     "output_type": "stream",
     "text": [
      "Step #57200.00 (9ms ~= 111.11*RT, ~86000.00UPS, vehicles TOT 2953 ACT 774 BUF 226)        \r"
     ]
    },
    {
     "name": "stderr",
     "output_type": "stream",
     "text": [
      "Warning: Teleporting vehicle '637'; waited too long (jam), lane='D2_1', time=57240.00.\n",
      "Warning: Vehicle '637' ends teleporting on edge 'L2', time=57240.00.\n",
      "Warning: Teleporting vehicle '607'; waited too long (wrong lane), lane='L12_2', time=57297.00.\n",
      "Warning: Vehicle '607' ends teleporting on edge 'L15', time=57297.00.\n"
     ]
    },
    {
     "name": "stdout",
     "output_type": "stream",
     "text": [
      "Step #57400.00 (9ms ~= 111.11*RT, ~85555.56UPS, vehicles TOT 3073 ACT 770 BUF 305)        \r"
     ]
    },
    {
     "name": "stderr",
     "output_type": "stream",
     "text": [
      "Warning: Teleporting vehicle '613'; waited too long (wrong lane), lane='L12_2', time=57397.00.\n",
      "Warning: Vehicle '613' ends teleporting on edge 'L15', time=57413.00.\n",
      "Warning: Teleporting vehicle '467'; waited too long (jam), lane=':1_3_1', time=57441.00.\n",
      "Warning: Vehicle '467' ends teleporting on edge 'L12', time=57441.00.\n",
      "Warning: Teleporting vehicle '617'; waited too long (wrong lane), lane='L12_2', time=57486.00.\n",
      "Warning: Vehicle '617' ends teleporting on edge 'L15', time=57486.00.\n"
     ]
    },
    {
     "name": "stdout",
     "output_type": "stream",
     "text": [
      "Step #57500.00 (9ms ~= 111.11*RT, ~84888.89UPS, vehicles TOT 3126 ACT 764 BUF 350)        \r"
     ]
    },
    {
     "name": "stderr",
     "output_type": "stream",
     "text": [
      "Warning: Teleporting vehicle '620'; waited too long (wrong lane), lane='L12_2', time=57550.00.\n",
      "Warning: Vehicle '620' ends teleporting on edge 'L15', time=57550.00.\n",
      "Warning: Teleporting vehicle '646'; waited too long (jam), lane='D2_1', time=57588.00.\n",
      "Warning: Vehicle '646' ends teleporting on edge 'L2', time=57588.00.\n",
      "Warning: Teleporting vehicle '622'; waited too long (wrong lane), lane='L12_2', time=57598.00.\n",
      "Warning: Vehicle '622' ends teleporting on edge 'L15', time=57598.00.\n"
     ]
    },
    {
     "name": "stdout",
     "output_type": "stream",
     "text": [
      "Step #57600.00 (7ms ~= 142.86*RT, ~109000.00UPS, vehicles TOT 3185 ACT 763 BUF 391)       \n",
      "Simulation ended at time: 57600.00\n",
      "Reason: The final simulation step has been reached.\n",
      "Performance: \n",
      " Duration: 26.98s\n",
      " Real time factor: 133.437\n",
      " UPS: 90201.712443\n",
      "Vehicles: \n",
      " Inserted: 3185 (Loaded: 3576)\n",
      " Running: 763\n",
      " Waiting: 391\n",
      " Teleports: 11 (Jam: 3, Wrong Lane: 8)\n",
      "Statistics (avg of 2422):\n",
      " RouteLength: 4394.17\n",
      " Speed: 10.61\n",
      " Duration: 542.02\n",
      " WaitingTime: 91.62\n",
      " TimeLoss: 222.65\n",
      " DepartDelay: 1.07\n",
      "\n",
      "DijkstraRouter answered 3673 queries and explored 10.14 edges on average.\n",
      "DijkstraRouter spent 0.02s answering queries (0.01ms on average).\n",
      "####### 8 ########\n",
      "##### n=32 #####\n",
      "##### best_value=-0.029751751778672477 #####\n",
      "printing /Users/rodrse/Documents/DemandCalibration/notebooks/od_calibration_sumo_files/quickstart/data/iter_quickstart.current_od.xml\n",
      "### Runing: iter\n",
      "od2trips --no-step-log  --spread.uniform --taz-files /Users/rodrse/Documents/DemandCalibration/notebooks/od_calibration_sumo_files/quickstart/data/quickstart.taz.xml --tazrelation-files /Users/rodrse/Documents/DemandCalibration/notebooks/od_calibration_sumo_files/quickstart/data/iter_quickstart.current_od.xml -o /Users/rodrse/Documents/DemandCalibration/notebooks/od_calibration_sumo_files/quickstart/data/iter_od_trips.trips.xml \n",
      "Success.\n",
      "Loading net-file from '/Users/rodrse/Documents/DemandCalibration/notebooks/od_calibration_sumo_files/quickstart/data/quickstart.net.xml' ... done (6ms).\n",
      "Loading additional-files from '/Users/rodrse/Documents/DemandCalibration/notebooks/od_calibration_sumo_files/quickstart/data/quickstart.additional.xml' ... done (1ms).\n",
      "Loading done.\n",
      "Simulation version 1.16.0 started with time: 54000.00.\n",
      "Step #57100.00 (8ms ~= 125.00*RT, ~89250.00UPS, vehicles TOT 2565 ACT 714 BUF 0)          \r"
     ]
    },
    {
     "name": "stderr",
     "output_type": "stream",
     "text": [
      "Warning: Teleporting vehicle '460'; waited too long (wrong lane), lane='L15_0', time=57103.00.\n",
      "Warning: Vehicle '460' ends teleporting on edge 'L18', time=57103.00.\n"
     ]
    },
    {
     "name": "stdout",
     "output_type": "stream",
     "text": [
      "Step #57600.00 (6ms ~= 166.67*RT, ~131166.67UPS, vehicles TOT 2978 ACT 787 BUF 0)         \n",
      "Simulation ended at time: 57600.00\n",
      "Reason: The final simulation step has been reached.\n",
      "Performance: \n",
      " Duration: 15.58s\n",
      " Real time factor: 231.14\n",
      " UPS: 122839.935795\n",
      "Vehicles: \n",
      " Inserted: 2978\n",
      " Running: 787\n",
      " Waiting: 0\n",
      " Teleports: 1 (Wrong Lane: 1)\n",
      "Statistics (avg of 2191):\n",
      " RouteLength: 4413.56\n",
      " Speed: 11.37\n",
      " Duration: 471.12\n",
      " WaitingTime: 78.11\n",
      " TimeLoss: 150.86\n",
      " DepartDelay: 0.50\n",
      "\n",
      "DijkstraRouter answered 2978 queries and explored 10.27 edges on average.\n",
      "DijkstraRouter spent 0.01s answering queries (0.00ms on average).\n",
      "####### 9 ########\n",
      "##### n=33 #####\n",
      "##### best_value=-0.029751751778672477 #####\n",
      "printing /Users/rodrse/Documents/DemandCalibration/notebooks/od_calibration_sumo_files/quickstart/data/iter_quickstart.current_od.xml\n",
      "### Runing: iter\n",
      "od2trips --no-step-log  --spread.uniform --taz-files /Users/rodrse/Documents/DemandCalibration/notebooks/od_calibration_sumo_files/quickstart/data/quickstart.taz.xml --tazrelation-files /Users/rodrse/Documents/DemandCalibration/notebooks/od_calibration_sumo_files/quickstart/data/iter_quickstart.current_od.xml -o /Users/rodrse/Documents/DemandCalibration/notebooks/od_calibration_sumo_files/quickstart/data/iter_od_trips.trips.xml \n",
      "Success.\n",
      "Loading net-file from '/Users/rodrse/Documents/DemandCalibration/notebooks/od_calibration_sumo_files/quickstart/data/quickstart.net.xml' ... done (6ms).\n",
      "Loading additional-files from '/Users/rodrse/Documents/DemandCalibration/notebooks/od_calibration_sumo_files/quickstart/data/quickstart.additional.xml' ... done (1ms).\n",
      "Loading done.\n",
      "Simulation version 1.16.0 started with time: 54000.00.\n",
      "Step #57600.00 (9ms ~= 111.11*RT, ~79555.56UPS, vehicles TOT 2801 ACT 716 BUF 0)          \n",
      "Simulation ended at time: 57600.00\n",
      "Reason: The final simulation step has been reached.\n",
      "Performance: \n",
      " Duration: 16.77s\n",
      " Real time factor: 214.643\n",
      " UPS: 97913.307894\n",
      "Vehicles: \n",
      " Inserted: 2801\n",
      " Running: 716\n",
      " Waiting: 0\n",
      "Statistics (avg of 2085):\n",
      " RouteLength: 4287.15\n",
      " Speed: 11.28\n",
      " Duration: 499.24\n",
      " WaitingTime: 111.63\n",
      " TimeLoss: 189.00\n",
      " DepartDelay: 0.49\n",
      "\n",
      "DijkstraRouter answered 2801 queries and explored 9.58 edges on average.\n",
      "DijkstraRouter spent 0.01s answering queries (0.00ms on average).\n",
      "####### 10 ########\n",
      "##### n=34 #####\n",
      "##### best_value=-0.029751751778672477 #####\n",
      "printing /Users/rodrse/Documents/DemandCalibration/notebooks/od_calibration_sumo_files/quickstart/data/iter_quickstart.current_od.xml\n",
      "### Runing: iter\n",
      "od2trips --no-step-log  --spread.uniform --taz-files /Users/rodrse/Documents/DemandCalibration/notebooks/od_calibration_sumo_files/quickstart/data/quickstart.taz.xml --tazrelation-files /Users/rodrse/Documents/DemandCalibration/notebooks/od_calibration_sumo_files/quickstart/data/iter_quickstart.current_od.xml -o /Users/rodrse/Documents/DemandCalibration/notebooks/od_calibration_sumo_files/quickstart/data/iter_od_trips.trips.xml \n",
      "Success.\n",
      "Loading net-file from '/Users/rodrse/Documents/DemandCalibration/notebooks/od_calibration_sumo_files/quickstart/data/quickstart.net.xml' ... done (6ms).\n",
      "Loading additional-files from '/Users/rodrse/Documents/DemandCalibration/notebooks/od_calibration_sumo_files/quickstart/data/quickstart.additional.xml' ... done (1ms).\n",
      "Loading done.\n",
      "Simulation version 1.16.0 started with time: 54000.00.\n",
      "Step #57600.00 (7ms ~= 142.86*RT, ~106571.43UPS, vehicles TOT 2939 ACT 746 BUF 0)         \n",
      "Simulation ended at time: 57600.00\n",
      "Reason: The final simulation step has been reached.\n",
      "Performance: \n",
      " Duration: 18.43s\n",
      " Real time factor: 195.323\n",
      " UPS: 95682.165916\n",
      "Vehicles: \n",
      " Inserted: 2939\n",
      " Running: 746\n",
      " Waiting: 0\n",
      "Statistics (avg of 2193):\n",
      " RouteLength: 4327.40\n",
      " Speed: 12.02\n",
      " Duration: 437.89\n",
      " WaitingTime: 77.71\n",
      " TimeLoss: 123.88\n",
      " DepartDelay: 0.49\n",
      "\n",
      "DijkstraRouter answered 2939 queries and explored 9.95 edges on average.\n",
      "DijkstraRouter spent 0.02s answering queries (0.01ms on average).\n",
      "####### 11 ########\n",
      "##### n=35 #####\n",
      "##### best_value=-0.019277915782734897 #####\n",
      "printing /Users/rodrse/Documents/DemandCalibration/notebooks/od_calibration_sumo_files/quickstart/data/iter_quickstart.current_od.xml\n",
      "### Runing: iter\n",
      "od2trips --no-step-log  --spread.uniform --taz-files /Users/rodrse/Documents/DemandCalibration/notebooks/od_calibration_sumo_files/quickstart/data/quickstart.taz.xml --tazrelation-files /Users/rodrse/Documents/DemandCalibration/notebooks/od_calibration_sumo_files/quickstart/data/iter_quickstart.current_od.xml -o /Users/rodrse/Documents/DemandCalibration/notebooks/od_calibration_sumo_files/quickstart/data/iter_od_trips.trips.xml \n",
      "Success.\n",
      "Loading net-file from '/Users/rodrse/Documents/DemandCalibration/notebooks/od_calibration_sumo_files/quickstart/data/quickstart.net.xml' ... done (6ms).\n",
      "Loading additional-files from '/Users/rodrse/Documents/DemandCalibration/notebooks/od_calibration_sumo_files/quickstart/data/quickstart.additional.xml' ... done (1ms).\n",
      "Loading done.\n",
      "Simulation version 1.16.0 started with time: 54000.00.\n",
      "Step #57600.00 (8ms ~= 125.00*RT, ~92875.00UPS, vehicles TOT 3001 ACT 743 BUF 0)          \n",
      "Simulation ended at time: 57600.00\n",
      "Reason: The final simulation step has been reached.\n",
      "Performance: \n",
      " Duration: 18.56s\n",
      " Real time factor: 193.976\n",
      " UPS: 104442.265208\n",
      "Vehicles: \n",
      " Inserted: 3001\n",
      " Running: 743\n",
      " Waiting: 0\n",
      "Statistics (avg of 2258):\n",
      " RouteLength: 4333.21\n",
      " Speed: 11.00\n",
      " Duration: 513.46\n",
      " WaitingTime: 98.51\n",
      " TimeLoss: 199.08\n",
      " DepartDelay: 0.49\n",
      "\n",
      "DijkstraRouter answered 3001 queries and explored 9.76 edges on average.\n",
      "DijkstraRouter spent 0.01s answering queries (0.00ms on average).\n",
      "####### 12 ########\n",
      "##### n=36 #####\n",
      "##### best_value=-0.019277915782734897 #####\n",
      "printing /Users/rodrse/Documents/DemandCalibration/notebooks/od_calibration_sumo_files/quickstart/data/iter_quickstart.current_od.xml\n",
      "### Runing: iter\n",
      "od2trips --no-step-log  --spread.uniform --taz-files /Users/rodrse/Documents/DemandCalibration/notebooks/od_calibration_sumo_files/quickstart/data/quickstart.taz.xml --tazrelation-files /Users/rodrse/Documents/DemandCalibration/notebooks/od_calibration_sumo_files/quickstart/data/iter_quickstart.current_od.xml -o /Users/rodrse/Documents/DemandCalibration/notebooks/od_calibration_sumo_files/quickstart/data/iter_od_trips.trips.xml \n",
      "Success.\n",
      "Loading net-file from '/Users/rodrse/Documents/DemandCalibration/notebooks/od_calibration_sumo_files/quickstart/data/quickstart.net.xml' ... done (5ms).\n",
      "Loading additional-files from '/Users/rodrse/Documents/DemandCalibration/notebooks/od_calibration_sumo_files/quickstart/data/quickstart.additional.xml' ... done (1ms).\n",
      "Loading done.\n",
      "Simulation version 1.16.0 started with time: 54000.00.\n",
      "Step #57600.00 (13ms ~= 76.92*RT, ~66692.31UPS, vehicles TOT 2964 ACT 867 BUF 68)         \n",
      "Simulation ended at time: 57600.00\n",
      "Reason: The final simulation step has been reached.\n",
      "Performance: \n",
      " Duration: 20.74s\n",
      " Real time factor: 173.619\n",
      " UPS: 101189.679286\n",
      "Vehicles: \n",
      " Inserted: 2964 (Loaded: 3032)\n",
      " Running: 867\n",
      " Waiting: 68\n",
      "Statistics (avg of 2097):\n",
      " RouteLength: 4245.23\n",
      " Speed: 11.01\n",
      " Duration: 590.37\n",
      " WaitingTime: 171.70\n",
      " TimeLoss: 282.92\n",
      " DepartDelay: 0.48\n",
      "\n",
      "DijkstraRouter answered 3080 queries and explored 9.60 edges on average.\n",
      "DijkstraRouter spent 0.01s answering queries (0.00ms on average).\n",
      "####### 13 ########\n",
      "##### n=37 #####\n",
      "##### best_value=-0.019277915782734897 #####\n",
      "printing /Users/rodrse/Documents/DemandCalibration/notebooks/od_calibration_sumo_files/quickstart/data/iter_quickstart.current_od.xml\n",
      "### Runing: iter\n",
      "od2trips --no-step-log  --spread.uniform --taz-files /Users/rodrse/Documents/DemandCalibration/notebooks/od_calibration_sumo_files/quickstart/data/quickstart.taz.xml --tazrelation-files /Users/rodrse/Documents/DemandCalibration/notebooks/od_calibration_sumo_files/quickstart/data/iter_quickstart.current_od.xml -o /Users/rodrse/Documents/DemandCalibration/notebooks/od_calibration_sumo_files/quickstart/data/iter_od_trips.trips.xml \n",
      "Success.\n",
      "Loading net-file from '/Users/rodrse/Documents/DemandCalibration/notebooks/od_calibration_sumo_files/quickstart/data/quickstart.net.xml' ... done (6ms).\n",
      "Loading additional-files from '/Users/rodrse/Documents/DemandCalibration/notebooks/od_calibration_sumo_files/quickstart/data/quickstart.additional.xml' ... done (1ms).\n",
      "Loading done.\n",
      "Simulation version 1.16.0 started with time: 54000.00.\n",
      "Step #57600.00 (5ms ~= 200.00*RT, ~127000.00UPS, vehicles TOT 2820 ACT 635 BUF 0)         \n",
      "Simulation ended at time: 57600.00\n",
      "Reason: The final simulation step has been reached.\n",
      "Performance: \n",
      " Duration: 14.08s\n",
      " Real time factor: 255.718\n",
      " UPS: 109455.533456\n",
      "Vehicles: \n",
      " Inserted: 2820\n",
      " Running: 635\n",
      " Waiting: 0\n",
      "Statistics (avg of 2185):\n",
      " RouteLength: 4215.80\n",
      " Speed: 11.66\n",
      " Duration: 474.68\n",
      " WaitingTime: 108.49\n",
      " TimeLoss: 169.39\n",
      " DepartDelay: 0.49\n",
      "\n",
      "DijkstraRouter answered 2820 queries and explored 9.13 edges on average.\n",
      "DijkstraRouter spent 0.01s answering queries (0.00ms on average).\n",
      "####### 14 ########\n",
      "##### n=38 #####\n",
      "##### best_value=-0.019277915782734897 #####\n",
      "printing /Users/rodrse/Documents/DemandCalibration/notebooks/od_calibration_sumo_files/quickstart/data/iter_quickstart.current_od.xml\n",
      "### Runing: iter\n",
      "od2trips --no-step-log  --spread.uniform --taz-files /Users/rodrse/Documents/DemandCalibration/notebooks/od_calibration_sumo_files/quickstart/data/quickstart.taz.xml --tazrelation-files /Users/rodrse/Documents/DemandCalibration/notebooks/od_calibration_sumo_files/quickstart/data/iter_quickstart.current_od.xml -o /Users/rodrse/Documents/DemandCalibration/notebooks/od_calibration_sumo_files/quickstart/data/iter_od_trips.trips.xml \n",
      "Success.\n",
      "Loading net-file from '/Users/rodrse/Documents/DemandCalibration/notebooks/od_calibration_sumo_files/quickstart/data/quickstart.net.xml' ... done (6ms).\n",
      "Loading additional-files from '/Users/rodrse/Documents/DemandCalibration/notebooks/od_calibration_sumo_files/quickstart/data/quickstart.additional.xml' ... done (1ms).\n",
      "Loading done.\n",
      "Simulation version 1.16.0 started with time: 54000.00.\n",
      "Step #57600.00 (6ms ~= 166.67*RT, ~106000.00UPS, vehicles TOT 2813 ACT 636 BUF 0)         \n",
      "Simulation ended at time: 57600.00\n",
      "Reason: The final simulation step has been reached.\n",
      "Performance: \n",
      " Duration: 13.02s\n",
      " Real time factor: 276.583\n",
      " UPS: 127471.573448\n",
      "Vehicles: \n",
      " Inserted: 2813\n",
      " Running: 636\n",
      " Waiting: 0\n",
      "Statistics (avg of 2177):\n",
      " RouteLength: 4340.75\n",
      " Speed: 11.47\n",
      " Duration: 469.92\n",
      " WaitingTime: 89.27\n",
      " TimeLoss: 155.30\n",
      " DepartDelay: 0.49\n",
      "\n",
      "DijkstraRouter answered 2813 queries and explored 9.79 edges on average.\n",
      "DijkstraRouter spent 0.01s answering queries (0.00ms on average).\n",
      "####### 15 ########\n",
      "##### n=39 #####\n",
      "##### best_value=-0.009014274859799823 #####\n",
      "printing /Users/rodrse/Documents/DemandCalibration/notebooks/od_calibration_sumo_files/quickstart/data/iter_quickstart.current_od.xml\n",
      "### Runing: iter\n",
      "od2trips --no-step-log  --spread.uniform --taz-files /Users/rodrse/Documents/DemandCalibration/notebooks/od_calibration_sumo_files/quickstart/data/quickstart.taz.xml --tazrelation-files /Users/rodrse/Documents/DemandCalibration/notebooks/od_calibration_sumo_files/quickstart/data/iter_quickstart.current_od.xml -o /Users/rodrse/Documents/DemandCalibration/notebooks/od_calibration_sumo_files/quickstart/data/iter_od_trips.trips.xml \n",
      "Success.\n",
      "Loading net-file from '/Users/rodrse/Documents/DemandCalibration/notebooks/od_calibration_sumo_files/quickstart/data/quickstart.net.xml' ... done (5ms).\n",
      "Loading additional-files from '/Users/rodrse/Documents/DemandCalibration/notebooks/od_calibration_sumo_files/quickstart/data/quickstart.additional.xml' ... done (1ms).\n",
      "Loading done.\n",
      "Simulation version 1.16.0 started with time: 54000.00.\n",
      "Step #57600.00 (7ms ~= 142.86*RT, ~79857.14UPS, vehicles TOT 2670 ACT 559 BUF 0)          \n",
      "Simulation ended at time: 57600.00\n",
      "Reason: The final simulation step has been reached.\n",
      "Performance: \n",
      " Duration: 13.23s\n",
      " Real time factor: 272.047\n",
      " UPS: 108493.085468\n",
      "Vehicles: \n",
      " Inserted: 2670\n",
      " Running: 559\n",
      " Waiting: 0\n",
      "Statistics (avg of 2111):\n",
      " RouteLength: 4335.09\n",
      " Speed: 11.63\n",
      " Duration: 451.26\n",
      " WaitingTime: 86.63\n",
      " TimeLoss: 136.83\n",
      " DepartDelay: 0.49\n",
      "\n",
      "DijkstraRouter answered 2670 queries and explored 9.66 edges on average.\n",
      "DijkstraRouter spent 0.01s answering queries (0.00ms on average).\n",
      "####### 16 ########\n",
      "##### n=40 #####\n",
      "##### best_value=-0.009014274859799823 #####\n",
      "printing /Users/rodrse/Documents/DemandCalibration/notebooks/od_calibration_sumo_files/quickstart/data/iter_quickstart.current_od.xml\n",
      "### Runing: iter\n",
      "od2trips --no-step-log  --spread.uniform --taz-files /Users/rodrse/Documents/DemandCalibration/notebooks/od_calibration_sumo_files/quickstart/data/quickstart.taz.xml --tazrelation-files /Users/rodrse/Documents/DemandCalibration/notebooks/od_calibration_sumo_files/quickstart/data/iter_quickstart.current_od.xml -o /Users/rodrse/Documents/DemandCalibration/notebooks/od_calibration_sumo_files/quickstart/data/iter_od_trips.trips.xml \n",
      "Success.\n",
      "Loading net-file from '/Users/rodrse/Documents/DemandCalibration/notebooks/od_calibration_sumo_files/quickstart/data/quickstart.net.xml' ... done (7ms).\n",
      "Loading additional-files from '/Users/rodrse/Documents/DemandCalibration/notebooks/od_calibration_sumo_files/quickstart/data/quickstart.additional.xml' ... done (1ms).\n",
      "Loading done.\n",
      "Simulation version 1.16.0 started with time: 54000.00.\n",
      "Step #57600.00 (10ms ~= 100.00*RT, ~84100.00UPS, vehicles TOT 2930 ACT 841 BUF 0)         \n",
      "Simulation ended at time: 57600.00\n",
      "Reason: The final simulation step has been reached.\n",
      "Performance: \n",
      " Duration: 18.13s\n",
      " Real time factor: 198.621\n",
      " UPS: 106329.986207\n",
      "Vehicles: \n",
      " Inserted: 2930\n",
      " Running: 841\n",
      " Waiting: 0\n",
      "Statistics (avg of 2089):\n",
      " RouteLength: 4315.99\n",
      " Speed: 10.80\n",
      " Duration: 550.88\n",
      " WaitingTime: 113.59\n",
      " TimeLoss: 238.50\n",
      " DepartDelay: 0.50\n",
      "\n",
      "DijkstraRouter answered 2930 queries and explored 9.84 edges on average.\n",
      "DijkstraRouter spent 0.02s answering queries (0.01ms on average).\n",
      "####### 17 ########\n",
      "##### n=41 #####\n",
      "##### best_value=-0.009014274859799823 #####\n",
      "printing /Users/rodrse/Documents/DemandCalibration/notebooks/od_calibration_sumo_files/quickstart/data/iter_quickstart.current_od.xml\n",
      "### Runing: iter\n",
      "od2trips --no-step-log  --spread.uniform --taz-files /Users/rodrse/Documents/DemandCalibration/notebooks/od_calibration_sumo_files/quickstart/data/quickstart.taz.xml --tazrelation-files /Users/rodrse/Documents/DemandCalibration/notebooks/od_calibration_sumo_files/quickstart/data/iter_quickstart.current_od.xml -o /Users/rodrse/Documents/DemandCalibration/notebooks/od_calibration_sumo_files/quickstart/data/iter_od_trips.trips.xml \n",
      "Success.\n",
      "Loading net-file from '/Users/rodrse/Documents/DemandCalibration/notebooks/od_calibration_sumo_files/quickstart/data/quickstart.net.xml' ... done (5ms).\n",
      "Loading additional-files from '/Users/rodrse/Documents/DemandCalibration/notebooks/od_calibration_sumo_files/quickstart/data/quickstart.additional.xml' ... done (1ms).\n",
      "Loading done.\n",
      "Simulation version 1.16.0 started with time: 54000.00.\n",
      "Step #56900.00 (6ms ~= 166.67*RT, ~120166.67UPS, vehicles TOT 2415 ACT 721 BUF 148)       \r"
     ]
    },
    {
     "name": "stderr",
     "output_type": "stream",
     "text": [
      "Warning: Teleporting vehicle '611'; waited too long (wrong lane), lane='L12_2', time=56937.00.\n",
      "Warning: Vehicle '611' ends teleporting on edge 'L15', time=56937.00.\n"
     ]
    },
    {
     "name": "stdout",
     "output_type": "stream",
     "text": [
      "Step #57100.00 (14ms ~= 71.43*RT, ~50214.29UPS, vehicles TOT 2505 ACT 703 BUF 235)        \r"
     ]
    },
    {
     "name": "stderr",
     "output_type": "stream",
     "text": [
      "Warning: Teleporting vehicle '637'; waited too long (jam), lane='D2_1', time=57119.00.\n",
      "Warning: Vehicle '637' ends teleporting on edge 'L2', time=57119.00.\n",
      "Warning: Teleporting vehicle '625'; waited too long (wrong lane), lane='L12_2', time=57146.00.\n",
      "Warning: Vehicle '625' ends teleporting on edge 'L15', time=57146.00.\n",
      "Warning: Teleporting vehicle '480'; waited too long (jam), lane='L2_0', time=57191.00.\n",
      "Warning: Vehicle '480' ends teleporting on edge 'L12', time=57191.00.\n"
     ]
    },
    {
     "name": "stdout",
     "output_type": "stream",
     "text": [
      "Step #57200.00 (6ms ~= 166.67*RT, ~120833.33UPS, vehicles TOT 2575 ACT 725 BUF 254)       \r"
     ]
    },
    {
     "name": "stderr",
     "output_type": "stream",
     "text": [
      "Warning: Teleporting vehicle '631'; waited too long (wrong lane), lane='L12_2', time=57227.00.\n",
      "Warning: Vehicle '631' ends teleporting on edge 'L15', time=57232.00.\n",
      "Warning: Teleporting vehicle '633'; waited too long (wrong lane), lane='L12_2', time=57276.00.\n"
     ]
    },
    {
     "name": "stdout",
     "output_type": "stream",
     "text": [
      "Step #57300.00 (5ms ~= 200.00*RT, ~147800.00UPS, vehicles TOT 2648 ACT 739 BUF 268)       \r"
     ]
    },
    {
     "name": "stderr",
     "output_type": "stream",
     "text": [
      "Warning: Vehicle '633' ends teleporting on edge 'L15', time=57309.00.\n"
     ]
    },
    {
     "name": "stdout",
     "output_type": "stream",
     "text": [
      "Step #57600.00 (9ms ~= 111.11*RT, ~88888.89UPS, vehicles TOT 2871 ACT 800 BUF 311)        \n",
      "Simulation ended at time: 57600.00\n",
      "Reason: The final simulation step has been reached.\n",
      "Performance: \n",
      " Duration: 21.68s\n",
      " Real time factor: 166.029\n",
      " UPS: 94024.120279\n",
      "Vehicles: \n",
      " Inserted: 2871 (Loaded: 3182)\n",
      " Running: 800\n",
      " Waiting: 311\n",
      " Teleports: 6 (Jam: 2, Wrong Lane: 4)\n",
      "Statistics (avg of 2071):\n",
      " RouteLength: 4376.61\n",
      " Speed: 11.83\n",
      " Duration: 453.67\n",
      " WaitingTime: 86.39\n",
      " TimeLoss: 136.44\n",
      " DepartDelay: 2.57\n",
      "\n",
      "DijkstraRouter answered 3360 queries and explored 10.36 edges on average.\n",
      "DijkstraRouter spent 0.01s answering queries (0.00ms on average).\n",
      "####### 18 ########\n",
      "##### n=42 #####\n",
      "##### best_value=-0.009014274859799823 #####\n",
      "printing /Users/rodrse/Documents/DemandCalibration/notebooks/od_calibration_sumo_files/quickstart/data/iter_quickstart.current_od.xml\n",
      "### Runing: iter\n",
      "od2trips --no-step-log  --spread.uniform --taz-files /Users/rodrse/Documents/DemandCalibration/notebooks/od_calibration_sumo_files/quickstart/data/quickstart.taz.xml --tazrelation-files /Users/rodrse/Documents/DemandCalibration/notebooks/od_calibration_sumo_files/quickstart/data/iter_quickstart.current_od.xml -o /Users/rodrse/Documents/DemandCalibration/notebooks/od_calibration_sumo_files/quickstart/data/iter_od_trips.trips.xml \n",
      "Success.\n",
      "Loading net-file from '/Users/rodrse/Documents/DemandCalibration/notebooks/od_calibration_sumo_files/quickstart/data/quickstart.net.xml' ... done (7ms).\n",
      "Loading additional-files from '/Users/rodrse/Documents/DemandCalibration/notebooks/od_calibration_sumo_files/quickstart/data/quickstart.additional.xml' ... done (1ms).\n",
      "Loading done.\n",
      "Simulation version 1.16.0 started with time: 54000.00.\n",
      "Step #57600.00 (6ms ~= 166.67*RT, ~88166.67UPS, vehicles TOT 2551 ACT 529 BUF 0)          \n",
      "Simulation ended at time: 57600.00\n",
      "Reason: The final simulation step has been reached.\n",
      "Performance: \n",
      " Duration: 10.68s\n",
      " Real time factor: 337.173\n",
      " UPS: 122349.349068\n",
      "Vehicles: \n",
      " Inserted: 2551\n",
      " Running: 529\n",
      " Waiting: 0\n",
      "Statistics (avg of 2022):\n",
      " RouteLength: 4264.75\n",
      " Speed: 11.98\n",
      " Duration: 437.10\n",
      " WaitingTime: 81.82\n",
      " TimeLoss: 127.51\n",
      " DepartDelay: 0.49\n",
      "\n",
      "DijkstraRouter answered 2551 queries and explored 9.37 edges on average.\n",
      "DijkstraRouter spent 0.01s answering queries (0.00ms on average).\n",
      "####### 19 ########\n",
      "##### n=43 #####\n",
      "##### best_value=-0.009014274859799823 #####\n",
      "printing /Users/rodrse/Documents/DemandCalibration/notebooks/od_calibration_sumo_files/quickstart/data/iter_quickstart.current_od.xml\n",
      "### Runing: iter\n",
      "od2trips --no-step-log  --spread.uniform --taz-files /Users/rodrse/Documents/DemandCalibration/notebooks/od_calibration_sumo_files/quickstart/data/quickstart.taz.xml --tazrelation-files /Users/rodrse/Documents/DemandCalibration/notebooks/od_calibration_sumo_files/quickstart/data/iter_quickstart.current_od.xml -o /Users/rodrse/Documents/DemandCalibration/notebooks/od_calibration_sumo_files/quickstart/data/iter_od_trips.trips.xml \n",
      "Success.\n",
      "Loading net-file from '/Users/rodrse/Documents/DemandCalibration/notebooks/od_calibration_sumo_files/quickstart/data/quickstart.net.xml' ... done (7ms).\n",
      "Loading additional-files from '/Users/rodrse/Documents/DemandCalibration/notebooks/od_calibration_sumo_files/quickstart/data/quickstart.additional.xml' ... done (1ms).\n",
      "Loading done.\n",
      "Simulation version 1.16.0 started with time: 54000.00.\n",
      "Step #57600.00 (5ms ~= 200.00*RT, ~131600.00UPS, vehicles TOT 2665 ACT 658 BUF 0)         \n",
      "Simulation ended at time: 57600.00\n",
      "Reason: The final simulation step has been reached.\n",
      "Performance: \n",
      " Duration: 13.45s\n",
      " Real time factor: 267.618\n",
      " UPS: 113469.595599\n",
      "Vehicles: \n",
      " Inserted: 2665\n",
      " Running: 658\n",
      " Waiting: 0\n",
      " Teleports: 1 (Wrong Lane: 1)\n",
      "Statistics (avg of 2007):\n",
      " RouteLength: 4269.72\n",
      " Speed: 12.34\n",
      " Duration: 434.75\n",
      " WaitingTime: 80.60\n",
      " TimeLoss: 125.16\n",
      " DepartDelay: 0.49\n",
      "\n"
     ]
    },
    {
     "name": "stderr",
     "output_type": "stream",
     "text": [
      "Warning: Teleporting vehicle '537'; waited too long (wrong lane), lane='L15_0', time=57560.00.\n",
      "Warning: Vehicle '537' ends teleporting on edge 'L18', time=57560.00.\n"
     ]
    },
    {
     "name": "stdout",
     "output_type": "stream",
     "text": [
      "DijkstraRouter answered 2665 queries and explored 9.90 edges on average.\n",
      "DijkstraRouter spent 0.01s answering queries (0.00ms on average).\n",
      "####### 20 ########\n",
      "##### n=44 #####\n",
      "##### best_value=-0.009014274859799823 #####\n",
      "printing /Users/rodrse/Documents/DemandCalibration/notebooks/od_calibration_sumo_files/quickstart/data/iter_quickstart.current_od.xml\n",
      "### Runing: iter\n",
      "od2trips --no-step-log  --spread.uniform --taz-files /Users/rodrse/Documents/DemandCalibration/notebooks/od_calibration_sumo_files/quickstart/data/quickstart.taz.xml --tazrelation-files /Users/rodrse/Documents/DemandCalibration/notebooks/od_calibration_sumo_files/quickstart/data/iter_quickstart.current_od.xml -o /Users/rodrse/Documents/DemandCalibration/notebooks/od_calibration_sumo_files/quickstart/data/iter_od_trips.trips.xml \n",
      "Success.\n",
      "Loading net-file from '/Users/rodrse/Documents/DemandCalibration/notebooks/od_calibration_sumo_files/quickstart/data/quickstart.net.xml' ... done (6ms).\n",
      "Loading additional-files from '/Users/rodrse/Documents/DemandCalibration/notebooks/od_calibration_sumo_files/quickstart/data/quickstart.additional.xml' ... done (1ms).\n",
      "Loading done.\n",
      "Simulation version 1.16.0 started with time: 54000.00.\n",
      "Step #57600.00 (15ms ~= 66.67*RT, ~43400.00UPS, vehicles TOT 2923 ACT 651 BUF 0)          \n",
      "Simulation ended at time: 57600.00\n",
      "Reason: The final simulation step has been reached.\n",
      "Performance: \n",
      " Duration: 14.73s\n",
      " Real time factor: 244.349\n",
      " UPS: 111247.064413\n",
      "Vehicles: \n",
      " Inserted: 2923\n",
      " Running: 651\n",
      " Waiting: 0\n",
      "Statistics (avg of 2272):\n",
      " RouteLength: 4236.11\n",
      " Speed: 11.68\n",
      " Duration: 459.14\n",
      " WaitingTime: 95.26\n",
      " TimeLoss: 151.72\n",
      " DepartDelay: 0.49\n",
      "\n",
      "DijkstraRouter answered 2923 queries and explored 9.21 edges on average.\n",
      "DijkstraRouter spent 0.02s answering queries (0.01ms on average).\n",
      "####### 21 ########\n",
      "##### n=45 #####\n",
      "##### best_value=-0.009014274859799823 #####\n",
      "printing /Users/rodrse/Documents/DemandCalibration/notebooks/od_calibration_sumo_files/quickstart/data/iter_quickstart.current_od.xml\n",
      "### Runing: iter\n",
      "od2trips --no-step-log  --spread.uniform --taz-files /Users/rodrse/Documents/DemandCalibration/notebooks/od_calibration_sumo_files/quickstart/data/quickstart.taz.xml --tazrelation-files /Users/rodrse/Documents/DemandCalibration/notebooks/od_calibration_sumo_files/quickstart/data/iter_quickstart.current_od.xml -o /Users/rodrse/Documents/DemandCalibration/notebooks/od_calibration_sumo_files/quickstart/data/iter_od_trips.trips.xml \n",
      "Success.\n",
      "Loading net-file from '/Users/rodrse/Documents/DemandCalibration/notebooks/od_calibration_sumo_files/quickstart/data/quickstart.net.xml' ... done (8ms).\n",
      "Loading additional-files from '/Users/rodrse/Documents/DemandCalibration/notebooks/od_calibration_sumo_files/quickstart/data/quickstart.additional.xml' ... done (1ms).\n",
      "Loading done.\n",
      "Simulation version 1.16.0 started with time: 54000.00.\n",
      "Step #56600.00 (6ms ~= 166.67*RT, ~124666.67UPS, vehicles TOT 2247 ACT 748 BUF 0)         \r"
     ]
    },
    {
     "name": "stderr",
     "output_type": "stream",
     "text": [
      "Warning: Teleporting vehicle '430'; waited too long (wrong lane), lane='L15_0', time=56668.00.\n",
      "Warning: Vehicle '430' ends teleporting on edge 'L18', time=56668.00.\n",
      "Warning: Teleporting vehicle '438'; waited too long (wrong lane), lane='L15_0', time=56692.00.\n",
      "Warning: Vehicle '438' ends teleporting on edge 'L18', time=56692.00.\n",
      "Warning: Teleporting vehicle '432'; waited too long (wrong lane), lane='L15_0', time=56693.00.\n",
      "Warning: Vehicle '432' ends teleporting on edge 'L18', time=56693.00.\n"
     ]
    },
    {
     "name": "stdout",
     "output_type": "stream",
     "text": [
      "Step #57000.00 (7ms ~= 142.86*RT, ~117428.57UPS, vehicles TOT 2537 ACT 822 BUF 57)        \r"
     ]
    },
    {
     "name": "stderr",
     "output_type": "stream",
     "text": [
      "Warning: Teleporting vehicle '640'; waited too long (wrong lane), lane='L12_2', time=56984.00.\n",
      "Warning: Vehicle '640' ends teleporting on edge 'L15', time=57012.00.\n",
      "Warning: Teleporting vehicle '524'; waited too long (jam), lane='L2_0', time=57060.00.\n",
      "Warning: Vehicle '524' ends teleporting on edge 'L12', time=57060.00.\n",
      "Warning: Teleporting vehicle '695'; waited too long (jam), lane='L2_1', time=57151.00.\n",
      "Warning: Vehicle '695' ends teleporting on edge 'L12', time=57151.00.\n",
      "Warning: Teleporting vehicle '652'; waited too long (wrong lane), lane='L12_2', time=57155.00.\n",
      "Warning: Vehicle '652' ends teleporting on edge 'L15', time=57155.00.\n"
     ]
    },
    {
     "name": "stdout",
     "output_type": "stream",
     "text": [
      "Step #57300.00 (10ms ~= 100.00*RT, ~84500.00UPS, vehicles TOT 2716 ACT 845 BUF 135)       \r"
     ]
    },
    {
     "name": "stderr",
     "output_type": "stream",
     "text": [
      "Warning: Teleporting vehicle '661'; waited too long (wrong lane), lane='L12_2', time=57357.00.\n",
      "Warning: Vehicle '661' ends teleporting on edge 'L15', time=57357.00.\n",
      "Warning: Teleporting vehicle '525'; waited too long (jam), lane='L2_0', time=57365.00.\n",
      "Warning: Vehicle '525' ends teleporting on edge 'L12', time=57365.00.\n",
      "Warning: Teleporting vehicle '1666'; waited too long (jam), lane='D2_1', time=57376.00.\n",
      "Warning: Teleporting vehicle '733'; waited too long (jam), lane='D2_1', time=57377.00.\n"
     ]
    },
    {
     "name": "stdout",
     "output_type": "stream",
     "text": [
      "Step #57400.00 (10ms ~= 100.00*RT, ~83100.00UPS, vehicles TOT 2752 ACT 831 BUF 187)       \r"
     ]
    },
    {
     "name": "stderr",
     "output_type": "stream",
     "text": [
      "Warning: Teleporting vehicle '592'; waited too long (jam), lane='D2_0', time=57456.00.\n",
      "Warning: Teleporting vehicle '1627'; waited too long (jam), lane='L2_1', time=57457.00.\n"
     ]
    },
    {
     "name": "stdout",
     "output_type": "stream",
     "text": [
      "Step #57500.00 (7ms ~= 142.86*RT, ~118428.57UPS, vehicles TOT 2786 ACT 829 BUF 238)       \r"
     ]
    },
    {
     "name": "stderr",
     "output_type": "stream",
     "text": [
      "Warning: Teleporting vehicle '669'; waited too long (wrong lane), lane='L12_2', time=57561.00.\n",
      "Warning: Vehicle '669' ends teleporting on edge 'L15', time=57561.00.\n",
      "Warning: Vehicle '1627' ends teleporting on edge 'L12', time=57572.00.\n"
     ]
    },
    {
     "name": "stdout",
     "output_type": "stream",
     "text": [
      "Step #57600.00 (9ms ~= 111.11*RT, ~91000.00UPS, vehicles TOT 2822 ACT 819 BUF 289)        \n",
      "Simulation ended at time: 57600.00\n",
      "Reason: The final simulation step has been reached.\n",
      "Performance: \n",
      " Duration: 19.60s\n",
      " Real time factor: 183.664\n",
      " UPS: 102537.013418\n",
      "Vehicles: \n",
      " Inserted: 2822 (Loaded: 3111)\n",
      " Running: 819\n",
      " Waiting: 289\n",
      " Teleports: 14 (Jam: 7, Wrong Lane: 7)\n",
      "Statistics (avg of 2003):\n",
      " RouteLength: 4262.87\n",
      " Speed: 12.25\n",
      " Duration: 429.77\n",
      " WaitingTime: 79.48\n",
      " TimeLoss: 120.36\n",
      " DepartDelay: 0.49\n",
      "\n",
      "DijkstraRouter answered 3210 queries and explored 10.05 edges on average.\n",
      "DijkstraRouter spent 0.01s answering queries (0.00ms on average).\n",
      "####### 22 ########\n",
      "##### n=46 #####\n",
      "##### best_value=-0.009014274859799823 #####\n",
      "printing /Users/rodrse/Documents/DemandCalibration/notebooks/od_calibration_sumo_files/quickstart/data/iter_quickstart.current_od.xml\n",
      "### Runing: iter\n",
      "od2trips --no-step-log  --spread.uniform --taz-files /Users/rodrse/Documents/DemandCalibration/notebooks/od_calibration_sumo_files/quickstart/data/quickstart.taz.xml --tazrelation-files /Users/rodrse/Documents/DemandCalibration/notebooks/od_calibration_sumo_files/quickstart/data/iter_quickstart.current_od.xml -o /Users/rodrse/Documents/DemandCalibration/notebooks/od_calibration_sumo_files/quickstart/data/iter_od_trips.trips.xml \n",
      "Success.\n",
      "Loading net-file from '/Users/rodrse/Documents/DemandCalibration/notebooks/od_calibration_sumo_files/quickstart/data/quickstart.net.xml' ... done (7ms).\n",
      "Loading additional-files from '/Users/rodrse/Documents/DemandCalibration/notebooks/od_calibration_sumo_files/quickstart/data/quickstart.additional.xml' ... done (1ms).\n",
      "Loading done.\n",
      "Simulation version 1.16.0 started with time: 54000.00.\n",
      "Step #57600.00 (6ms ~= 166.67*RT, ~108166.67UPS, vehicles TOT 2845 ACT 649 BUF 0)         \n",
      "Simulation ended at time: 57600.00\n",
      "Reason: The final simulation step has been reached.\n",
      "Performance: \n",
      " Duration: 14.21s\n",
      " Real time factor: 253.414\n",
      " UPS: 112225.116148\n",
      "Vehicles: \n",
      " Inserted: 2845\n",
      " Running: 649\n",
      " Waiting: 0\n",
      "Statistics (avg of 2196):\n",
      " RouteLength: 4273.24\n",
      " Speed: 11.61\n",
      " Duration: 463.36\n",
      " WaitingTime: 92.67\n",
      " TimeLoss: 152.98\n",
      " DepartDelay: 0.49\n",
      "\n",
      "DijkstraRouter answered 2845 queries and explored 9.43 edges on average.\n",
      "DijkstraRouter spent 0.02s answering queries (0.01ms on average).\n",
      "####### 23 ########\n",
      "##### n=47 #####\n",
      "##### best_value=-0.009014274859799823 #####\n",
      "printing /Users/rodrse/Documents/DemandCalibration/notebooks/od_calibration_sumo_files/quickstart/data/iter_quickstart.current_od.xml\n",
      "### Runing: iter\n",
      "od2trips --no-step-log  --spread.uniform --taz-files /Users/rodrse/Documents/DemandCalibration/notebooks/od_calibration_sumo_files/quickstart/data/quickstart.taz.xml --tazrelation-files /Users/rodrse/Documents/DemandCalibration/notebooks/od_calibration_sumo_files/quickstart/data/iter_quickstart.current_od.xml -o /Users/rodrse/Documents/DemandCalibration/notebooks/od_calibration_sumo_files/quickstart/data/iter_od_trips.trips.xml \n",
      "Success.\n",
      "Loading net-file from '/Users/rodrse/Documents/DemandCalibration/notebooks/od_calibration_sumo_files/quickstart/data/quickstart.net.xml' ... done (5ms).\n",
      "Loading additional-files from '/Users/rodrse/Documents/DemandCalibration/notebooks/od_calibration_sumo_files/quickstart/data/quickstart.additional.xml' ... done (1ms).\n",
      "Loading done.\n",
      "Simulation version 1.16.0 started with time: 54000.00.\n",
      "Step #56800.00 (8ms ~= 125.00*RT, ~95875.00UPS, vehicles TOT 2223 ACT 767 BUF 0)          \r"
     ]
    },
    {
     "name": "stderr",
     "output_type": "stream",
     "text": [
      "Warning: Teleporting vehicle '469'; waited too long (jam), lane='L12_0', time=56849.00.\n",
      "Warning: Vehicle '469' ends teleporting on edge 'L15', time=56849.00.\n"
     ]
    },
    {
     "name": "stdout",
     "output_type": "stream",
     "text": [
      "Step #56900.00 (9ms ~= 111.11*RT, ~85000.00UPS, vehicles TOT 2303 ACT 765 BUF 0)          \r"
     ]
    },
    {
     "name": "stderr",
     "output_type": "stream",
     "text": [
      "Warning: Teleporting vehicle '511'; waited too long (jam), lane=':1_3_1', time=56903.00.\n",
      "Warning: Vehicle '511' ends teleporting on edge 'L12', time=56903.00.\n",
      "Warning: Teleporting vehicle '424'; waited too long (wrong lane), lane='L15_0', time=56918.00.\n",
      "Warning: Vehicle '424' ends teleporting on edge 'L18', time=56918.00.\n",
      "Warning: Teleporting vehicle '426'; waited too long (wrong lane), lane='L15_0', time=56919.00.\n",
      "Warning: Vehicle '426' ends teleporting on edge 'L18', time=56919.00.\n",
      "Warning: Teleporting vehicle '428'; waited too long (wrong lane), lane='L15_0', time=56920.00.\n",
      "Warning: Vehicle '428' ends teleporting on edge 'L18', time=56920.00.\n",
      "Warning: Teleporting vehicle '442'; waited too long (wrong lane), lane='L15_0', time=56921.00.\n",
      "Warning: Vehicle '442' ends teleporting on edge 'L18', time=56921.00.\n",
      "Warning: Teleporting vehicle '460'; waited too long (wrong lane), lane='L15_0', time=56922.00.\n",
      "Warning: Vehicle '460' ends teleporting on edge 'L18', time=56922.00.\n",
      "Warning: Teleporting vehicle '466'; waited too long (wrong lane), lane='L15_0', time=56923.00.\n",
      "Warning: Vehicle '466' ends teleporting on edge 'L18', time=56923.00.\n"
     ]
    },
    {
     "name": "stdout",
     "output_type": "stream",
     "text": [
      "Step #57100.00 (8ms ~= 125.00*RT, ~95125.00UPS, vehicles TOT 2462 ACT 761 BUF 0)          \r"
     ]
    },
    {
     "name": "stderr",
     "output_type": "stream",
     "text": [
      "Warning: Teleporting vehicle '496'; waited too long (jam), lane='L12_0', time=57132.00.\n",
      "Warning: Teleporting vehicle '499'; waited too long (jam), lane='L12_0', time=57133.00.\n",
      "Warning: Vehicle '496' ends teleporting on edge 'L15', time=57142.00.\n",
      "Warning: Vehicle '499' ends teleporting on edge 'L15', time=57177.00.\n"
     ]
    },
    {
     "name": "stdout",
     "output_type": "stream",
     "text": [
      "Step #57200.00 (11ms ~= 90.91*RT, ~69909.09UPS, vehicles TOT 2526 ACT 769 BUF 14)         \r"
     ]
    },
    {
     "name": "stderr",
     "output_type": "stream",
     "text": [
      "Warning: Teleporting vehicle '512'; waited too long (jam), lane=':1_3_1', time=57210.00.\n",
      "Warning: Vehicle '512' ends teleporting on edge 'L12', time=57210.00.\n",
      "Warning: Teleporting vehicle '511'; waited too long (jam), lane='L12_0', time=57223.00.\n",
      "Warning: Vehicle '511' ends teleporting on edge 'L15', time=57225.00.\n"
     ]
    },
    {
     "name": "stdout",
     "output_type": "stream",
     "text": [
      "Step #57400.00 (6ms ~= 166.67*RT, ~133833.33UPS, vehicles TOT 2657 ACT 803 BUF 42)        \r"
     ]
    },
    {
     "name": "stderr",
     "output_type": "stream",
     "text": [
      "Warning: Teleporting vehicle '648'; waited too long (wrong lane), lane='L12_2', time=57402.00.\n",
      "Warning: Vehicle '648' ends teleporting on edge 'L15', time=57402.00.\n",
      "Warning: Teleporting vehicle '651'; waited too long (wrong lane), lane='L12_2', time=57453.00.\n",
      "Warning: Vehicle '651' ends teleporting on edge 'L15', time=57453.00.\n",
      "Warning: Teleporting vehicle '652'; waited too long (wrong lane), lane='L12_2', time=57477.00.\n"
     ]
    },
    {
     "name": "stdout",
     "output_type": "stream",
     "text": [
      "Step #57500.00 (8ms ~= 125.00*RT, ~100375.00UPS, vehicles TOT 2705 ACT 803 BUF 74)        \r"
     ]
    },
    {
     "name": "stderr",
     "output_type": "stream",
     "text": [
      "Warning: Vehicle '652' ends teleporting on edge 'L15', time=57500.00.\n",
      "Warning: Teleporting vehicle '654'; waited too long (wrong lane), lane='L12_2', time=57510.00.\n",
      "Warning: Vehicle '654' ends teleporting on edge 'L15', time=57535.00.\n",
      "Warning: Teleporting vehicle '655'; waited too long (wrong lane), lane='L12_2', time=57537.00.\n",
      "Warning: Teleporting vehicle '514'; waited too long (jam), lane=':1_3_1', time=57569.00.\n",
      "Warning: Vehicle '514' ends teleporting on edge 'L12', time=57569.00.\n",
      "Warning: Teleporting vehicle '657'; waited too long (wrong lane), lane='L12_2', time=57574.00.\n",
      "Warning: Vehicle '655' ends teleporting on edge 'L15', time=57592.00.\n"
     ]
    },
    {
     "name": "stdout",
     "output_type": "stream",
     "text": [
      "Step #57600.00 (10ms ~= 100.00*RT, ~79500.00UPS, vehicles TOT 2742 ACT 795 BUF 116)       \n",
      "Simulation ended at time: 57600.00\n",
      "Reason: The final simulation step has been reached.\n",
      "Performance: \n",
      " Duration: 20.04s\n",
      " Real time factor: 179.623\n",
      " UPS: 101826.514320\n",
      "Vehicles: \n",
      " Inserted: 2742 (Loaded: 2858)\n",
      " Running: 795\n",
      " Waiting: 116\n",
      " Teleports: 19 (Jam: 7, Wrong Lane: 12)\n",
      "Statistics (avg of 1947):\n",
      " RouteLength: 4440.33\n",
      " Speed: 10.96\n",
      " Duration: 512.44\n",
      " WaitingTime: 100.99\n",
      " TimeLoss: 190.31\n",
      " DepartDelay: 0.49\n",
      "\n",
      "DijkstraRouter answered 2907 queries and explored 10.43 edges on average.\n",
      "DijkstraRouter spent 0.02s answering queries (0.01ms on average).\n",
      "####### 24 ########\n",
      "##### n=48 #####\n",
      "##### best_value=-0.009014274859799823 #####\n",
      "printing /Users/rodrse/Documents/DemandCalibration/notebooks/od_calibration_sumo_files/quickstart/data/iter_quickstart.current_od.xml\n",
      "### Runing: iter\n",
      "od2trips --no-step-log  --spread.uniform --taz-files /Users/rodrse/Documents/DemandCalibration/notebooks/od_calibration_sumo_files/quickstart/data/quickstart.taz.xml --tazrelation-files /Users/rodrse/Documents/DemandCalibration/notebooks/od_calibration_sumo_files/quickstart/data/iter_quickstart.current_od.xml -o /Users/rodrse/Documents/DemandCalibration/notebooks/od_calibration_sumo_files/quickstart/data/iter_od_trips.trips.xml \n",
      "Success.\n",
      "Loading net-file from '/Users/rodrse/Documents/DemandCalibration/notebooks/od_calibration_sumo_files/quickstart/data/quickstart.net.xml' ... done (7ms).\n",
      "Loading additional-files from '/Users/rodrse/Documents/DemandCalibration/notebooks/od_calibration_sumo_files/quickstart/data/quickstart.additional.xml' ... done (1ms).\n",
      "Loading done.\n",
      "Simulation version 1.16.0 started with time: 54000.00.\n",
      "Step #57600.00 (7ms ~= 142.86*RT, ~84857.14UPS, vehicles TOT 2695 ACT 594 BUF 0)          \n",
      "Simulation ended at time: 57600.00\n",
      "Reason: The final simulation step has been reached.\n",
      "Performance: \n",
      " Duration: 14.97s\n",
      " Real time factor: 240.481\n",
      " UPS: 94813.092852\n",
      "Vehicles: \n",
      " Inserted: 2695\n",
      " Running: 594\n",
      " Waiting: 0\n",
      "Statistics (avg of 2101):\n",
      " RouteLength: 4325.01\n",
      " Speed: 11.55\n",
      " Duration: 458.79\n",
      " WaitingTime: 88.56\n",
      " TimeLoss: 145.09\n",
      " DepartDelay: 0.49\n",
      "\n",
      "DijkstraRouter answered 2695 queries and explored 9.66 edges on average.\n",
      "DijkstraRouter spent 0.01s answering queries (0.00ms on average).\n",
      "####### 25 ########\n",
      "##### n=49 #####\n",
      "##### best_value=-0.009014274859799823 #####\n",
      "printing /Users/rodrse/Documents/DemandCalibration/notebooks/od_calibration_sumo_files/quickstart/data/iter_quickstart.current_od.xml\n",
      "### Runing: iter\n",
      "od2trips --no-step-log  --spread.uniform --taz-files /Users/rodrse/Documents/DemandCalibration/notebooks/od_calibration_sumo_files/quickstart/data/quickstart.taz.xml --tazrelation-files /Users/rodrse/Documents/DemandCalibration/notebooks/od_calibration_sumo_files/quickstart/data/iter_quickstart.current_od.xml -o /Users/rodrse/Documents/DemandCalibration/notebooks/od_calibration_sumo_files/quickstart/data/iter_od_trips.trips.xml \n",
      "Success.\n",
      "Loading net-file from '/Users/rodrse/Documents/DemandCalibration/notebooks/od_calibration_sumo_files/quickstart/data/quickstart.net.xml' ... done (6ms).\n",
      "Loading additional-files from '/Users/rodrse/Documents/DemandCalibration/notebooks/od_calibration_sumo_files/quickstart/data/quickstart.additional.xml' ... done (1ms).\n",
      "Loading done.\n",
      "Simulation version 1.16.0 started with time: 54000.00.\n",
      "Step #57600.00 (4ms ~= 250.00*RT, ~112000.00UPS, vehicles TOT 2483 ACT 448 BUF 0)         \n",
      "Simulation ended at time: 57600.00\n",
      "Reason: The final simulation step has been reached.\n",
      "Performance: \n",
      " Duration: 9.83s\n",
      " Real time factor: 366.412\n",
      " UPS: 116056.081425\n",
      "Vehicles: \n",
      " Inserted: 2483\n",
      " Running: 448\n",
      " Waiting: 0\n",
      "Statistics (avg of 2035):\n",
      " RouteLength: 4268.95\n",
      " Speed: 12.45\n",
      " Duration: 398.80\n",
      " WaitingTime: 59.75\n",
      " TimeLoss: 89.17\n",
      " DepartDelay: 0.48\n",
      "\n",
      "DijkstraRouter answered 2483 queries and explored 9.50 edges on average.\n",
      "DijkstraRouter spent 0.01s answering queries (0.01ms on average).\n",
      "####### 26 ########\n",
      "##### n=50 #####\n",
      "##### best_value=-0.009014274859799823 #####\n",
      "printing /Users/rodrse/Documents/DemandCalibration/notebooks/od_calibration_sumo_files/quickstart/data/iter_quickstart.current_od.xml\n",
      "### Runing: iter\n",
      "od2trips --no-step-log  --spread.uniform --taz-files /Users/rodrse/Documents/DemandCalibration/notebooks/od_calibration_sumo_files/quickstart/data/quickstart.taz.xml --tazrelation-files /Users/rodrse/Documents/DemandCalibration/notebooks/od_calibration_sumo_files/quickstart/data/iter_quickstart.current_od.xml -o /Users/rodrse/Documents/DemandCalibration/notebooks/od_calibration_sumo_files/quickstart/data/iter_od_trips.trips.xml \n",
      "Success.\n",
      "Loading net-file from '/Users/rodrse/Documents/DemandCalibration/notebooks/od_calibration_sumo_files/quickstart/data/quickstart.net.xml' ... done (6ms).\n",
      "Loading additional-files from '/Users/rodrse/Documents/DemandCalibration/notebooks/od_calibration_sumo_files/quickstart/data/quickstart.additional.xml' ... done (0ms).\n",
      "Loading done.\n",
      "Simulation version 1.16.0 started with time: 54000.00.\n",
      "Step #57600.00 (12ms ~= 83.33*RT, ~65333.33UPS, vehicles TOT 2912 ACT 784 BUF 0)          \n",
      "Simulation ended at time: 57600.00\n",
      "Reason: The final simulation step has been reached.\n",
      "Performance: \n",
      " Duration: 14.67s\n",
      " Real time factor: 245.482\n",
      " UPS: 120073.303785\n",
      "Vehicles: \n",
      " Inserted: 2912\n",
      " Running: 784\n",
      " Waiting: 0\n",
      "Statistics (avg of 2128):\n",
      " RouteLength: 4231.45\n",
      " Speed: 11.47\n",
      " Duration: 508.60\n",
      " WaitingTime: 126.50\n",
      " TimeLoss: 202.39\n",
      " DepartDelay: 0.49\n",
      "\n",
      "DijkstraRouter answered 2912 queries and explored 9.40 edges on average.\n",
      "DijkstraRouter spent 0.02s answering queries (0.01ms on average).\n",
      "####### 27 ########\n",
      "##### n=51 #####\n",
      "##### best_value=-0.009014274859799823 #####\n",
      "printing /Users/rodrse/Documents/DemandCalibration/notebooks/od_calibration_sumo_files/quickstart/data/iter_quickstart.current_od.xml\n",
      "### Runing: iter\n",
      "od2trips --no-step-log  --spread.uniform --taz-files /Users/rodrse/Documents/DemandCalibration/notebooks/od_calibration_sumo_files/quickstart/data/quickstart.taz.xml --tazrelation-files /Users/rodrse/Documents/DemandCalibration/notebooks/od_calibration_sumo_files/quickstart/data/iter_quickstart.current_od.xml -o /Users/rodrse/Documents/DemandCalibration/notebooks/od_calibration_sumo_files/quickstart/data/iter_od_trips.trips.xml \n",
      "Success.\n",
      "Loading net-file from '/Users/rodrse/Documents/DemandCalibration/notebooks/od_calibration_sumo_files/quickstart/data/quickstart.net.xml' ... done (8ms).\n",
      "Loading additional-files from '/Users/rodrse/Documents/DemandCalibration/notebooks/od_calibration_sumo_files/quickstart/data/quickstart.additional.xml' ... done (1ms).\n",
      "Loading done.\n",
      "Simulation version 1.16.0 started with time: 54000.00.\n",
      "Step #57600.00 (4ms ~= 250.00*RT, ~140250.00UPS, vehicles TOT 2590 ACT 561 BUF 0)         \n",
      "Simulation ended at time: 57600.00\n",
      "Reason: The final simulation step has been reached.\n",
      "Performance: \n",
      " Duration: 9.03s\n",
      " Real time factor: 398.715\n",
      " UPS: 147767.526858\n",
      "Vehicles: \n",
      " Inserted: 2590\n",
      " Running: 561\n",
      " Waiting: 0\n",
      "Statistics (avg of 2029):\n",
      " RouteLength: 4292.16\n",
      " Speed: 11.69\n",
      " Duration: 453.94\n",
      " WaitingTime: 93.25\n",
      " TimeLoss: 142.76\n",
      " DepartDelay: 0.49\n",
      "\n",
      "DijkstraRouter answered 2590 queries and explored 9.47 edges on average.\n",
      "DijkstraRouter spent 0.01s answering queries (0.00ms on average).\n",
      "####### 28 ########\n",
      "##### n=52 #####\n",
      "##### best_value=-0.009014274859799823 #####\n",
      "printing /Users/rodrse/Documents/DemandCalibration/notebooks/od_calibration_sumo_files/quickstart/data/iter_quickstart.current_od.xml\n",
      "### Runing: iter\n",
      "od2trips --no-step-log  --spread.uniform --taz-files /Users/rodrse/Documents/DemandCalibration/notebooks/od_calibration_sumo_files/quickstart/data/quickstart.taz.xml --tazrelation-files /Users/rodrse/Documents/DemandCalibration/notebooks/od_calibration_sumo_files/quickstart/data/iter_quickstart.current_od.xml -o /Users/rodrse/Documents/DemandCalibration/notebooks/od_calibration_sumo_files/quickstart/data/iter_od_trips.trips.xml \n",
      "Success.\n",
      "Loading net-file from '/Users/rodrse/Documents/DemandCalibration/notebooks/od_calibration_sumo_files/quickstart/data/quickstart.net.xml' ... done (5ms).\n",
      "Loading additional-files from '/Users/rodrse/Documents/DemandCalibration/notebooks/od_calibration_sumo_files/quickstart/data/quickstart.additional.xml' ... done (19ms).\n",
      "Loading done.\n",
      "Simulation version 1.16.0 started with time: 54000.00.\n",
      "Step #57000.00 (30ms ~= 33.33*RT, ~21700.00UPS, vehicles TOT 2294 ACT 651 BUF 0)          \r"
     ]
    },
    {
     "name": "stderr",
     "output_type": "stream",
     "text": [
      "Warning: Teleporting vehicle '531'; waited too long (jam), lane='L12_0', time=57026.00.\n",
      "Warning: Vehicle '531' ends teleporting on edge 'L15', time=57026.00.\n"
     ]
    },
    {
     "name": "stdout",
     "output_type": "stream",
     "text": [
      "Step #57100.00 (27ms ~= 37.04*RT, ~24814.81UPS, vehicles TOT 2371 ACT 670 BUF 0)          \r"
     ]
    },
    {
     "name": "stderr",
     "output_type": "stream",
     "text": [
      "Warning: Teleporting vehicle '581'; waited too long (jam), lane='L2_0', time=57136.00.\n",
      "Warning: Vehicle '581' ends teleporting on edge 'L12', time=57136.00.\n"
     ]
    },
    {
     "name": "stdout",
     "output_type": "stream",
     "text": [
      "Step #57600.00 (38ms ~= 26.32*RT, ~19052.63UPS, vehicles TOT 2753 ACT 724 BUF 0)          \n",
      "Simulation ended at time: 57600.00\n",
      "Reason: The final simulation step has been reached.\n",
      "Performance: \n",
      " Duration: 1818.03s\n",
      " Real time factor: 1.98017\n",
      " UPS: 953.090983\n",
      "Vehicles: \n",
      " Inserted: 2753\n",
      " Running: 724\n",
      " Waiting: 0\n",
      " Teleports: 2 (Jam: 2)\n",
      "Statistics (avg of 2029):\n",
      " RouteLength: 4323.70\n",
      " Speed: 11.43\n",
      " Duration: 481.92\n",
      " WaitingTime: 101.91\n",
      " TimeLoss: 168.28\n",
      " DepartDelay: 0.49\n",
      "\n",
      "DijkstraRouter answered 2753 queries and explored 9.87 edges on average.\n",
      "DijkstraRouter spent 0.02s answering queries (0.01ms on average).\n",
      "####### 29 ########\n",
      "##### n=53 #####\n",
      "##### best_value=-0.009014274859799823 #####\n",
      "printing /Users/rodrse/Documents/DemandCalibration/notebooks/od_calibration_sumo_files/quickstart/data/iter_quickstart.current_od.xml\n",
      "### Runing: iter\n",
      "od2trips --no-step-log  --spread.uniform --taz-files /Users/rodrse/Documents/DemandCalibration/notebooks/od_calibration_sumo_files/quickstart/data/quickstart.taz.xml --tazrelation-files /Users/rodrse/Documents/DemandCalibration/notebooks/od_calibration_sumo_files/quickstart/data/iter_quickstart.current_od.xml -o /Users/rodrse/Documents/DemandCalibration/notebooks/od_calibration_sumo_files/quickstart/data/iter_od_trips.trips.xml \n",
      "Success.\n",
      "Loading net-file from '/Users/rodrse/Documents/DemandCalibration/notebooks/od_calibration_sumo_files/quickstart/data/quickstart.net.xml' ... done (30ms).\n",
      "Loading additional-files from '/Users/rodrse/Documents/DemandCalibration/notebooks/od_calibration_sumo_files/quickstart/data/quickstart.additional.xml' ... done (4ms).\n",
      "Loading done.\n",
      "Simulation version 1.16.0 started with time: 54000.00.\n",
      "Step #57100.00 (41ms ~= 24.39*RT, ~24439.02UPS, vehicles TOT 2774 ACT 1002 BUF 105)       \r"
     ]
    },
    {
     "name": "stderr",
     "output_type": "stream",
     "text": [
      "Warning: Teleporting vehicle '488'; waited too long (wrong lane), lane='L15_0', time=57141.00.\n",
      "Warning: Vehicle '488' ends teleporting on edge 'L18', time=57141.00.\n"
     ]
    },
    {
     "name": "stdout",
     "output_type": "stream",
     "text": [
      "Step #57200.00 (36ms ~= 27.78*RT, ~28305.56UPS, vehicles TOT 2847 ACT 1019 BUF 125)       \r"
     ]
    },
    {
     "name": "stderr",
     "output_type": "stream",
     "text": [
      "Warning: Teleporting vehicle '487'; waited too long (wrong lane), lane='L15_0', time=57256.00.\n",
      "Warning: Vehicle '487' ends teleporting on edge 'L18', time=57256.00.\n"
     ]
    },
    {
     "name": "stdout",
     "output_type": "stream",
     "text": [
      "Step #57400.00 (33ms ~= 30.30*RT, ~31757.58UPS, vehicles TOT 3000 ACT 1048 BUF 158)       \r"
     ]
    },
    {
     "name": "stderr",
     "output_type": "stream",
     "text": [
      "Warning: Teleporting vehicle '516'; waited too long (wrong lane), lane='L15_0', time=57417.00.\n",
      "Warning: Vehicle '516' ends teleporting on edge 'L18', time=57417.00.\n",
      "Warning: Teleporting vehicle '519'; waited too long (wrong lane), lane='L15_0', time=57418.00.\n",
      "Warning: Vehicle '519' ends teleporting on edge 'L18', time=57418.00.\n"
     ]
    },
    {
     "name": "stdout",
     "output_type": "stream",
     "text": [
      "Step #57600.00 (45ms ~= 22.22*RT, ~24400.00UPS, vehicles TOT 3175 ACT 1098 BUF 168)       \n",
      "Simulation ended at time: 57600.00\n",
      "Reason: The final simulation step has been reached.\n",
      "Performance: \n",
      " Duration: 105.89s\n",
      " Real time factor: 33.9992\n",
      " UPS: 24164.773103\n",
      "Vehicles: \n",
      " Inserted: 3175 (Loaded: 3343)\n",
      " Running: 1098\n",
      " Waiting: 168\n",
      " Teleports: 4 (Wrong Lane: 4)\n",
      "Statistics (avg of 2077):\n",
      " RouteLength: 4276.05\n",
      " Speed: 10.51\n",
      " Duration: 651.39\n",
      " WaitingTime: 176.59\n",
      " TimeLoss: 341.58\n",
      " DepartDelay: 5.69\n",
      "\n",
      "DijkstraRouter answered 3646 queries and explored 9.97 edges on average.\n",
      "DijkstraRouter spent 0.05s answering queries (0.01ms on average).\n",
      "####### 30 ########\n",
      "##### n=54 #####\n",
      "##### best_value=-0.009014274859799823 #####\n",
      "printing /Users/rodrse/Documents/DemandCalibration/notebooks/od_calibration_sumo_files/quickstart/data/iter_quickstart.current_od.xml\n",
      "### Runing: iter\n",
      "od2trips --no-step-log  --spread.uniform --taz-files /Users/rodrse/Documents/DemandCalibration/notebooks/od_calibration_sumo_files/quickstart/data/quickstart.taz.xml --tazrelation-files /Users/rodrse/Documents/DemandCalibration/notebooks/od_calibration_sumo_files/quickstart/data/iter_quickstart.current_od.xml -o /Users/rodrse/Documents/DemandCalibration/notebooks/od_calibration_sumo_files/quickstart/data/iter_od_trips.trips.xml \n",
      "Success.\n",
      "Loading net-file from '/Users/rodrse/Documents/DemandCalibration/notebooks/od_calibration_sumo_files/quickstart/data/quickstart.net.xml' ... done (32ms).\n",
      "Loading additional-files from '/Users/rodrse/Documents/DemandCalibration/notebooks/od_calibration_sumo_files/quickstart/data/quickstart.additional.xml' ... done (5ms).\n",
      "Loading done.\n",
      "Simulation version 1.16.0 started with time: 54000.00.\n",
      "Step #57600.00 (19ms ~= 52.63*RT, ~34842.11UPS, vehicles TOT 2749 ACT 662 BUF 0)          \n",
      "Simulation ended at time: 57600.00\n",
      "Reason: The final simulation step has been reached.\n",
      "Performance: \n",
      " Duration: 46.67s\n",
      " Real time factor: 77.1373\n",
      " UPS: 34092.586244\n",
      "Vehicles: \n",
      " Inserted: 2749\n",
      " Running: 662\n",
      " Waiting: 0\n",
      "Statistics (avg of 2087):\n",
      " RouteLength: 4300.62\n",
      " Speed: 11.31\n",
      " Duration: 488.20\n",
      " WaitingTime: 104.07\n",
      " TimeLoss: 175.95\n",
      " DepartDelay: 0.48\n",
      "\n",
      "DijkstraRouter answered 2749 queries and explored 9.60 edges on average.\n",
      "DijkstraRouter spent 0.03s answering queries (0.01ms on average).\n",
      "####### 31 ########\n",
      "##### n=55 #####\n",
      "##### best_value=-0.009014274859799823 #####\n",
      "printing /Users/rodrse/Documents/DemandCalibration/notebooks/od_calibration_sumo_files/quickstart/data/iter_quickstart.current_od.xml\n",
      "### Runing: iter\n",
      "od2trips --no-step-log  --spread.uniform --taz-files /Users/rodrse/Documents/DemandCalibration/notebooks/od_calibration_sumo_files/quickstart/data/quickstart.taz.xml --tazrelation-files /Users/rodrse/Documents/DemandCalibration/notebooks/od_calibration_sumo_files/quickstart/data/iter_quickstart.current_od.xml -o /Users/rodrse/Documents/DemandCalibration/notebooks/od_calibration_sumo_files/quickstart/data/iter_od_trips.trips.xml \n",
      "Success.\n",
      "Loading net-file from '/Users/rodrse/Documents/DemandCalibration/notebooks/od_calibration_sumo_files/quickstart/data/quickstart.net.xml' ... done (47ms).\n",
      "Loading additional-files from '/Users/rodrse/Documents/DemandCalibration/notebooks/od_calibration_sumo_files/quickstart/data/quickstart.additional.xml' ... done (6ms).\n",
      "Loading done.\n",
      "Simulation version 1.16.0 started with time: 54000.00.\n",
      "Step #57600.00 (16ms ~= 62.50*RT, ~45312.50UPS, vehicles TOT 2783 ACT 725 BUF 0)          \n",
      "Simulation ended at time: 57600.00\n",
      "Reason: The final simulation step has been reached.\n",
      "Performance: \n",
      " Duration: 36.36s\n",
      " Real time factor: 99.0045\n",
      " UPS: 45409.438425\n",
      "Vehicles: \n",
      " Inserted: 2783\n",
      " Running: 725\n",
      " Waiting: 0\n",
      "Statistics (avg of 2058):\n",
      " RouteLength: 4221.17\n",
      " Speed: 11.51\n",
      " Duration: 507.08\n",
      " WaitingTime: 128.17\n",
      " TimeLoss: 201.45\n",
      " DepartDelay: 0.49\n",
      "\n",
      "DijkstraRouter answered 2783 queries and explored 9.30 edges on average.\n",
      "DijkstraRouter spent 0.02s answering queries (0.01ms on average).\n",
      "####### 32 ########\n",
      "##### n=56 #####\n",
      "##### best_value=-0.009014274859799823 #####\n",
      "printing /Users/rodrse/Documents/DemandCalibration/notebooks/od_calibration_sumo_files/quickstart/data/iter_quickstart.current_od.xml\n",
      "### Runing: iter\n",
      "od2trips --no-step-log  --spread.uniform --taz-files /Users/rodrse/Documents/DemandCalibration/notebooks/od_calibration_sumo_files/quickstart/data/quickstart.taz.xml --tazrelation-files /Users/rodrse/Documents/DemandCalibration/notebooks/od_calibration_sumo_files/quickstart/data/iter_quickstart.current_od.xml -o /Users/rodrse/Documents/DemandCalibration/notebooks/od_calibration_sumo_files/quickstart/data/iter_od_trips.trips.xml \n",
      "Success.\n",
      "Loading net-file from '/Users/rodrse/Documents/DemandCalibration/notebooks/od_calibration_sumo_files/quickstart/data/quickstart.net.xml' ... done (16ms).\n",
      "Loading additional-files from '/Users/rodrse/Documents/DemandCalibration/notebooks/od_calibration_sumo_files/quickstart/data/quickstart.additional.xml' ... done (2ms).\n",
      "Loading done.\n",
      "Simulation version 1.16.0 started with time: 54000.00.\n",
      "Step #56600.00 (14ms ~= 71.43*RT, ~61214.29UPS, vehicles TOT 2165 ACT 857 BUF 0)          \r"
     ]
    },
    {
     "name": "stderr",
     "output_type": "stream",
     "text": [
      "Warning: Teleporting vehicle '82'; waited too long (yield), lane='L15_1', time=56620.00.\n",
      "Warning: Vehicle '82' ends teleporting on edge 'L18', time=56620.00.\n"
     ]
    },
    {
     "name": "stdout",
     "output_type": "stream",
     "text": [
      "Step #56900.00 (15ms ~= 66.67*RT, ~59800.00UPS, vehicles TOT 2415 ACT 897 BUF 0)          \r"
     ]
    },
    {
     "name": "stderr",
     "output_type": "stream",
     "text": [
      "Warning: Teleporting vehicle '419'; waited too long (wrong lane), lane='L15_0', time=56949.00.\n",
      "Warning: Vehicle '419' ends teleporting on edge 'L18', time=56949.00.\n",
      "Warning: Teleporting vehicle '426'; waited too long (wrong lane), lane='L15_0', time=56950.00.\n",
      "Warning: Vehicle '426' ends teleporting on edge 'L18', time=56950.00.\n",
      "Warning: Teleporting vehicle '433'; waited too long (wrong lane), lane='L15_0', time=56951.00.\n",
      "Warning: Vehicle '433' ends teleporting on edge 'L18', time=56951.00.\n",
      "Warning: Teleporting vehicle '439'; waited too long (wrong lane), lane='L15_0', time=56952.00.\n",
      "Warning: Vehicle '439' ends teleporting on edge 'L18', time=56952.00.\n",
      "Warning: Teleporting vehicle '437'; waited too long (wrong lane), lane='L15_0', time=56953.00.\n",
      "Warning: Vehicle '437' ends teleporting on edge 'L18', time=56953.00.\n",
      "Warning: Teleporting vehicle '444'; waited too long (wrong lane), lane='L15_0', time=56954.00.\n",
      "Warning: Vehicle '444' ends teleporting on edge 'L18', time=56954.00.\n",
      "Warning: Teleporting vehicle '448'; waited too long (wrong lane), lane='L15_0', time=56955.00.\n",
      "Warning: Vehicle '448' ends teleporting on edge 'L18', time=56955.00.\n",
      "Warning: Teleporting vehicle '452'; waited too long (wrong lane), lane='L15_0', time=56956.00.\n",
      "Warning: Vehicle '452' ends teleporting on edge 'L18', time=56956.00.\n",
      "Warning: Teleporting vehicle '430'; waited too long (wrong lane), lane='L15_0', time=56957.00.\n",
      "Warning: Vehicle '430' ends teleporting on edge 'L18', time=56957.00.\n",
      "Warning: Teleporting vehicle '440'; waited too long (wrong lane), lane='L15_0', time=56958.00.\n",
      "Warning: Vehicle '440' ends teleporting on edge 'L18', time=56958.00.\n",
      "Warning: Teleporting vehicle '443'; waited too long (wrong lane), lane='L15_0', time=56959.00.\n",
      "Warning: Vehicle '443' ends teleporting on edge 'L18', time=56959.00.\n",
      "Warning: Teleporting vehicle '458'; waited too long (wrong lane), lane='L15_0', time=56960.00.\n",
      "Warning: Vehicle '458' ends teleporting on edge 'L18', time=56960.00.\n",
      "Warning: Teleporting vehicle '450'; waited too long (wrong lane), lane='L15_0', time=56961.00.\n",
      "Warning: Vehicle '450' ends teleporting on edge 'L18', time=56961.00.\n",
      "Warning: Teleporting vehicle '466'; waited too long (wrong lane), lane='L15_0', time=56962.00.\n",
      "Warning: Vehicle '466' ends teleporting on edge 'L18', time=56962.00.\n"
     ]
    },
    {
     "name": "stdout",
     "output_type": "stream",
     "text": [
      "Step #57000.00 (16ms ~= 62.50*RT, ~56750.00UPS, vehicles TOT 2498 ACT 908 BUF 0)          \r"
     ]
    },
    {
     "name": "stderr",
     "output_type": "stream",
     "text": [
      "Warning: Teleporting vehicle '347'; waited too long (jam), lane='L12_1', time=57094.00.\n",
      "Warning: Vehicle '347' ends teleporting on edge 'L15', time=57094.00.\n"
     ]
    },
    {
     "name": "stdout",
     "output_type": "stream",
     "text": [
      "Step #57600.00 (15ms ~= 66.67*RT, ~61533.33UPS, vehicles TOT 2970 ACT 923 BUF 28)         \n",
      "Simulation ended at time: 57600.00\n",
      "Reason: The final simulation step has been reached.\n",
      "Performance: \n",
      " Duration: 40.80s\n",
      " Real time factor: 88.2461\n",
      " UPS: 55211.153328\n",
      "Vehicles: \n",
      " Inserted: 2970 (Loaded: 2998)\n",
      " Running: 923\n",
      " Waiting: 28\n",
      " Teleports: 16 (Jam: 1, Yield: 1, Wrong Lane: 14)\n",
      "Statistics (avg of 2047):\n",
      " RouteLength: 4360.46\n",
      " Speed: 10.27\n",
      " Duration: 605.17\n",
      " WaitingTime: 121.21\n",
      " TimeLoss: 289.38\n",
      " DepartDelay: 0.49\n",
      "\n",
      "DijkstraRouter answered 3088 queries and explored 10.11 edges on average.\n",
      "DijkstraRouter spent 0.02s answering queries (0.01ms on average).\n",
      "####### 33 ########\n",
      "##### n=57 #####\n",
      "##### best_value=-0.009014274859799823 #####\n",
      "printing /Users/rodrse/Documents/DemandCalibration/notebooks/od_calibration_sumo_files/quickstart/data/iter_quickstart.current_od.xml\n",
      "### Runing: iter\n",
      "od2trips --no-step-log  --spread.uniform --taz-files /Users/rodrse/Documents/DemandCalibration/notebooks/od_calibration_sumo_files/quickstart/data/quickstart.taz.xml --tazrelation-files /Users/rodrse/Documents/DemandCalibration/notebooks/od_calibration_sumo_files/quickstart/data/iter_quickstart.current_od.xml -o /Users/rodrse/Documents/DemandCalibration/notebooks/od_calibration_sumo_files/quickstart/data/iter_od_trips.trips.xml \n",
      "Success.\n",
      "Loading net-file from '/Users/rodrse/Documents/DemandCalibration/notebooks/od_calibration_sumo_files/quickstart/data/quickstart.net.xml' ... done (12ms).\n",
      "Loading additional-files from '/Users/rodrse/Documents/DemandCalibration/notebooks/od_calibration_sumo_files/quickstart/data/quickstart.additional.xml' ... done (2ms).\n",
      "Loading done.\n",
      "Simulation version 1.16.0 started with time: 54000.00.\n",
      "Step #57600.00 (4ms ~= 250.00*RT, ~148750.00UPS, vehicles TOT 2686 ACT 595 BUF 0)         \n",
      "Simulation ended at time: 57600.00\n",
      "Reason: The final simulation step has been reached.\n",
      "Performance: \n",
      " Duration: 936.64s\n",
      " Real time factor: 3.84353\n",
      " UPS: 1572.315938\n",
      "Vehicles: \n",
      " Inserted: 2686\n",
      " Running: 595\n",
      " Waiting: 0\n",
      "Statistics (avg of 2091):\n",
      " RouteLength: 4272.49\n",
      " Speed: 11.62\n",
      " Duration: 461.25\n",
      " WaitingTime: 95.11\n",
      " TimeLoss: 151.55\n",
      " DepartDelay: 0.49\n",
      "\n",
      "DijkstraRouter answered 2686 queries and explored 9.41 edges on average.\n",
      "DijkstraRouter spent 0.02s answering queries (0.01ms on average).\n",
      "####### 34 ########\n",
      "##### n=58 #####\n",
      "##### best_value=-0.009014274859799823 #####\n",
      "printing /Users/rodrse/Documents/DemandCalibration/notebooks/od_calibration_sumo_files/quickstart/data/iter_quickstart.current_od.xml\n",
      "### Runing: iter\n",
      "od2trips --no-step-log  --spread.uniform --taz-files /Users/rodrse/Documents/DemandCalibration/notebooks/od_calibration_sumo_files/quickstart/data/quickstart.taz.xml --tazrelation-files /Users/rodrse/Documents/DemandCalibration/notebooks/od_calibration_sumo_files/quickstart/data/iter_quickstart.current_od.xml -o /Users/rodrse/Documents/DemandCalibration/notebooks/od_calibration_sumo_files/quickstart/data/iter_od_trips.trips.xml \n",
      "Success.\n",
      "Loading net-file from '/Users/rodrse/Documents/DemandCalibration/notebooks/od_calibration_sumo_files/quickstart/data/quickstart.net.xml' ... done (8ms).\n",
      "Loading additional-files from '/Users/rodrse/Documents/DemandCalibration/notebooks/od_calibration_sumo_files/quickstart/data/quickstart.additional.xml' ... done (19ms).\n",
      "Loading done.\n",
      "Simulation version 1.16.0 started with time: 54000.00.\n",
      "Step #57600.00 (24ms ~= 41.67*RT, ~25625.00UPS, vehicles TOT 2712 ACT 615 BUF 0)          \n",
      "Simulation ended at time: 57600.00\n",
      "Reason: The final simulation step has been reached.\n",
      "Performance: \n",
      " Duration: 20.75s\n",
      " Real time factor: 173.461\n",
      " UPS: 71431.001253\n",
      "Vehicles: \n",
      " Inserted: 2712\n",
      " Running: 615\n",
      " Waiting: 0\n",
      "Statistics (avg of 2097):\n",
      " RouteLength: 4266.05\n",
      " Speed: 11.61\n",
      " Duration: 467.40\n",
      " WaitingTime: 101.23\n",
      " TimeLoss: 157.80\n",
      " DepartDelay: 0.49\n",
      "\n",
      "DijkstraRouter answered 2712 queries and explored 9.39 edges on average.\n",
      "DijkstraRouter spent 0.01s answering queries (0.00ms on average).\n",
      "####### 35 ########\n",
      "##### n=59 #####\n",
      "##### best_value=-0.009014274859799823 #####\n",
      "printing /Users/rodrse/Documents/DemandCalibration/notebooks/od_calibration_sumo_files/quickstart/data/iter_quickstart.current_od.xml\n",
      "### Runing: iter\n",
      "od2trips --no-step-log  --spread.uniform --taz-files /Users/rodrse/Documents/DemandCalibration/notebooks/od_calibration_sumo_files/quickstart/data/quickstart.taz.xml --tazrelation-files /Users/rodrse/Documents/DemandCalibration/notebooks/od_calibration_sumo_files/quickstart/data/iter_quickstart.current_od.xml -o /Users/rodrse/Documents/DemandCalibration/notebooks/od_calibration_sumo_files/quickstart/data/iter_od_trips.trips.xml \n",
      "Success.\n",
      "Loading net-file from '/Users/rodrse/Documents/DemandCalibration/notebooks/od_calibration_sumo_files/quickstart/data/quickstart.net.xml' ... done (30ms).\n",
      "Loading additional-files from '/Users/rodrse/Documents/DemandCalibration/notebooks/od_calibration_sumo_files/quickstart/data/quickstart.additional.xml' ... done (4ms).\n",
      "Loading done.\n",
      "Simulation version 1.16.0 started with time: 54000.00.\n",
      "Step #56900.00 (6ms ~= 166.67*RT, ~115500.00UPS, vehicles TOT 2415 ACT 693 BUF 0)         \r"
     ]
    },
    {
     "name": "stderr",
     "output_type": "stream",
     "text": [
      "Warning: Teleporting vehicle '417'; waited too long (wrong lane), lane='L15_0', time=56995.00.\n",
      "Warning: Vehicle '417' ends teleporting on edge 'L18', time=56995.00.\n"
     ]
    },
    {
     "name": "stdout",
     "output_type": "stream",
     "text": [
      "Step #57600.00 (8ms ~= 125.00*RT, ~95000.00UPS, vehicles TOT 2997 ACT 760 BUF 0)          \n",
      "Simulation ended at time: 57600.00\n",
      "Reason: The final simulation step has been reached.\n",
      "Performance: \n",
      " Duration: 111.32s\n",
      " Real time factor: 32.3386\n",
      " UPS: 16654.695388\n",
      "Vehicles: \n",
      " Inserted: 2997\n",
      " Running: 760\n",
      " Waiting: 0\n",
      " Teleports: 1 (Wrong Lane: 1)\n",
      "Statistics (avg of 2237):\n",
      " RouteLength: 4367.81\n",
      " Speed: 11.64\n",
      " Duration: 454.55\n",
      " WaitingTime: 80.73\n",
      " TimeLoss: 137.77\n",
      " DepartDelay: 0.47\n",
      "\n",
      "DijkstraRouter answered 2997 queries and explored 10.06 edges on average.\n",
      "DijkstraRouter spent 0.04s answering queries (0.01ms on average).\n",
      "####### 36 ########\n",
      "##### n=60 #####\n",
      "##### best_value=-0.009014274859799823 #####\n",
      "printing /Users/rodrse/Documents/DemandCalibration/notebooks/od_calibration_sumo_files/quickstart/data/iter_quickstart.current_od.xml\n",
      "### Runing: iter\n",
      "od2trips --no-step-log  --spread.uniform --taz-files /Users/rodrse/Documents/DemandCalibration/notebooks/od_calibration_sumo_files/quickstart/data/quickstart.taz.xml --tazrelation-files /Users/rodrse/Documents/DemandCalibration/notebooks/od_calibration_sumo_files/quickstart/data/iter_quickstart.current_od.xml -o /Users/rodrse/Documents/DemandCalibration/notebooks/od_calibration_sumo_files/quickstart/data/iter_od_trips.trips.xml \n",
      "Success.\n",
      "Loading net-file from '/Users/rodrse/Documents/DemandCalibration/notebooks/od_calibration_sumo_files/quickstart/data/quickstart.net.xml' ... done (6ms).\n",
      "Loading additional-files from '/Users/rodrse/Documents/DemandCalibration/notebooks/od_calibration_sumo_files/quickstart/data/quickstart.additional.xml' ... done (1ms).\n",
      "Loading done.\n",
      "Simulation version 1.16.0 started with time: 54000.00.\n",
      "Step #57600.00 (22ms ~= 45.45*RT, ~25772.73UPS, vehicles TOT 2675 ACT 567 BUF 0)          \n",
      "Simulation ended at time: 57600.00\n",
      "Reason: The final simulation step has been reached.\n",
      "Performance: \n",
      " Duration: 44.23s\n",
      " Real time factor: 81.3982\n",
      " UPS: 30976.168404\n",
      "Vehicles: \n",
      " Inserted: 2675\n",
      " Running: 567\n",
      " Waiting: 0\n",
      "Statistics (avg of 2108):\n",
      " RouteLength: 4293.36\n",
      " Speed: 11.96\n",
      " Duration: 430.23\n",
      " WaitingTime: 77.42\n",
      " TimeLoss: 118.34\n",
      " DepartDelay: 0.49\n",
      "\n",
      "DijkstraRouter answered 2675 queries and explored 9.44 edges on average.\n",
      "DijkstraRouter spent 0.03s answering queries (0.01ms on average).\n",
      "####### 37 ########\n",
      "##### n=61 #####\n",
      "##### best_value=-0.009014274859799823 #####\n",
      "printing /Users/rodrse/Documents/DemandCalibration/notebooks/od_calibration_sumo_files/quickstart/data/iter_quickstart.current_od.xml\n",
      "### Runing: iter\n",
      "od2trips --no-step-log  --spread.uniform --taz-files /Users/rodrse/Documents/DemandCalibration/notebooks/od_calibration_sumo_files/quickstart/data/quickstart.taz.xml --tazrelation-files /Users/rodrse/Documents/DemandCalibration/notebooks/od_calibration_sumo_files/quickstart/data/iter_quickstart.current_od.xml -o /Users/rodrse/Documents/DemandCalibration/notebooks/od_calibration_sumo_files/quickstart/data/iter_od_trips.trips.xml \n",
      "Success.\n",
      "Loading net-file from '/Users/rodrse/Documents/DemandCalibration/notebooks/od_calibration_sumo_files/quickstart/data/quickstart.net.xml' ... done (33ms).\n",
      "Loading additional-files from '/Users/rodrse/Documents/DemandCalibration/notebooks/od_calibration_sumo_files/quickstart/data/quickstart.additional.xml' ... done (5ms).\n",
      "Loading done.\n",
      "Simulation version 1.16.0 started with time: 54000.00.\n",
      "Step #57600.00 (7ms ~= 142.86*RT, ~115428.57UPS, vehicles TOT 2856 ACT 808 BUF 0)         \n",
      "Simulation ended at time: 57600.00\n",
      "Reason: The final simulation step has been reached.\n",
      "Performance: \n",
      " Duration: 442.44s\n",
      " Real time factor: 8.13666\n",
      " UPS: 4112.584248\n",
      "Vehicles: \n",
      " Inserted: 2856\n",
      " Running: 808\n",
      " Waiting: 0\n",
      "Statistics (avg of 2048):\n",
      " RouteLength: 4217.39\n",
      " Speed: 11.41\n",
      " Duration: 523.59\n",
      " WaitingTime: 136.38\n",
      " TimeLoss: 218.03\n",
      " DepartDelay: 0.49\n",
      "\n",
      "DijkstraRouter answered 2856 queries and explored 9.40 edges on average.\n",
      "DijkstraRouter spent 0.02s answering queries (0.01ms on average).\n",
      "####### 38 ########\n",
      "##### n=62 #####\n",
      "##### best_value=-0.009014274859799823 #####\n",
      "printing /Users/rodrse/Documents/DemandCalibration/notebooks/od_calibration_sumo_files/quickstart/data/iter_quickstart.current_od.xml\n",
      "### Runing: iter\n",
      "od2trips --no-step-log  --spread.uniform --taz-files /Users/rodrse/Documents/DemandCalibration/notebooks/od_calibration_sumo_files/quickstart/data/quickstart.taz.xml --tazrelation-files /Users/rodrse/Documents/DemandCalibration/notebooks/od_calibration_sumo_files/quickstart/data/iter_quickstart.current_od.xml -o /Users/rodrse/Documents/DemandCalibration/notebooks/od_calibration_sumo_files/quickstart/data/iter_od_trips.trips.xml \n",
      "Success.\n",
      "Loading net-file from '/Users/rodrse/Documents/DemandCalibration/notebooks/od_calibration_sumo_files/quickstart/data/quickstart.net.xml' ... done (11ms).\n",
      "Loading additional-files from '/Users/rodrse/Documents/DemandCalibration/notebooks/od_calibration_sumo_files/quickstart/data/quickstart.additional.xml' ... done (4ms).\n",
      "Loading done.\n",
      "Simulation version 1.16.0 started with time: 54000.00.\n",
      "Step #57600.00 (8ms ~= 125.00*RT, ~83500.00UPS, vehicles TOT 2755 ACT 668 BUF 0)          \n",
      "Simulation ended at time: 57600.00\n",
      "Reason: The final simulation step has been reached.\n",
      "Performance: \n",
      " Duration: 15.25s\n",
      " Real time factor: 236.128\n",
      " UPS: 101392.889938\n",
      "Vehicles: \n",
      " Inserted: 2755\n",
      " Running: 668\n",
      " Waiting: 0\n",
      "Statistics (avg of 2087):\n",
      " RouteLength: 4218.97\n",
      " Speed: 11.61\n",
      " Duration: 485.91\n",
      " WaitingTime: 114.43\n",
      " TimeLoss: 179.72\n",
      " DepartDelay: 0.50\n",
      "\n",
      "DijkstraRouter answered 2755 queries and explored 9.21 edges on average.\n",
      "DijkstraRouter spent 0.01s answering queries (0.00ms on average).\n",
      "####### 39 ########\n",
      "##### n=63 #####\n",
      "##### best_value=-0.009014274859799823 #####\n",
      "printing /Users/rodrse/Documents/DemandCalibration/notebooks/od_calibration_sumo_files/quickstart/data/iter_quickstart.current_od.xml\n",
      "### Runing: iter\n",
      "od2trips --no-step-log  --spread.uniform --taz-files /Users/rodrse/Documents/DemandCalibration/notebooks/od_calibration_sumo_files/quickstart/data/quickstart.taz.xml --tazrelation-files /Users/rodrse/Documents/DemandCalibration/notebooks/od_calibration_sumo_files/quickstart/data/iter_quickstart.current_od.xml -o /Users/rodrse/Documents/DemandCalibration/notebooks/od_calibration_sumo_files/quickstart/data/iter_od_trips.trips.xml \n",
      "Success.\n",
      "Loading net-file from '/Users/rodrse/Documents/DemandCalibration/notebooks/od_calibration_sumo_files/quickstart/data/quickstart.net.xml' ... done (7ms).\n",
      "Loading additional-files from '/Users/rodrse/Documents/DemandCalibration/notebooks/od_calibration_sumo_files/quickstart/data/quickstart.additional.xml' ... done (1ms).\n",
      "Loading done.\n",
      "Simulation version 1.16.0 started with time: 54000.00.\n",
      "Step #57600.00 (11ms ~= 90.91*RT, ~60272.73UPS, vehicles TOT 2790 ACT 663 BUF 0)          \n",
      "Simulation ended at time: 57600.00\n",
      "Reason: The final simulation step has been reached.\n",
      "Performance: \n",
      " Duration: 17.79s\n",
      " Real time factor: 202.315\n",
      " UPS: 96204.282342\n",
      "Vehicles: \n",
      " Inserted: 2790\n",
      " Running: 663\n",
      " Waiting: 0\n",
      "Statistics (avg of 2127):\n",
      " RouteLength: 4352.08\n",
      " Speed: 11.08\n",
      " Duration: 496.26\n",
      " WaitingTime: 96.46\n",
      " TimeLoss: 180.81\n",
      " DepartDelay: 0.49\n",
      "\n",
      "DijkstraRouter answered 2790 queries and explored 9.84 edges on average.\n",
      "DijkstraRouter spent 0.02s answering queries (0.01ms on average).\n",
      "####### 40 ########\n",
      "##### n=64 #####\n",
      "##### best_value=-0.009014274859799823 #####\n",
      "printing /Users/rodrse/Documents/DemandCalibration/notebooks/od_calibration_sumo_files/quickstart/data/iter_quickstart.current_od.xml\n",
      "### Runing: iter\n",
      "od2trips --no-step-log  --spread.uniform --taz-files /Users/rodrse/Documents/DemandCalibration/notebooks/od_calibration_sumo_files/quickstart/data/quickstart.taz.xml --tazrelation-files /Users/rodrse/Documents/DemandCalibration/notebooks/od_calibration_sumo_files/quickstart/data/iter_quickstart.current_od.xml -o /Users/rodrse/Documents/DemandCalibration/notebooks/od_calibration_sumo_files/quickstart/data/iter_od_trips.trips.xml \n",
      "Success.\n",
      "Loading net-file from '/Users/rodrse/Documents/DemandCalibration/notebooks/od_calibration_sumo_files/quickstart/data/quickstart.net.xml' ... done (12ms).\n",
      "Loading additional-files from '/Users/rodrse/Documents/DemandCalibration/notebooks/od_calibration_sumo_files/quickstart/data/quickstart.additional.xml' ... done (3ms).\n",
      "Loading done.\n",
      "Simulation version 1.16.0 started with time: 54000.00.\n",
      "Step #57600.00 (9ms ~= 111.11*RT, ~77333.33UPS, vehicles TOT 2848 ACT 696 BUF 0)          \n",
      "Simulation ended at time: 57600.00\n",
      "Reason: The final simulation step has been reached.\n",
      "Performance: \n",
      " Duration: 18.51s\n",
      " Real time factor: 194.458\n",
      " UPS: 90371.252633\n",
      "Vehicles: \n",
      " Inserted: 2848\n",
      " Running: 696\n",
      " Waiting: 0\n",
      "Statistics (avg of 2152):\n",
      " RouteLength: 4389.01\n",
      " Speed: 10.92\n",
      " Duration: 501.32\n",
      " WaitingTime: 88.66\n",
      " TimeLoss: 183.07\n",
      " DepartDelay: 0.49\n",
      "\n",
      "DijkstraRouter answered 2848 queries and explored 10.01 edges on average.\n",
      "DijkstraRouter spent 0.01s answering queries (0.00ms on average).\n",
      "####### 41 ########\n",
      "##### n=65 #####\n",
      "##### best_value=-0.009014274859799823 #####\n",
      "printing /Users/rodrse/Documents/DemandCalibration/notebooks/od_calibration_sumo_files/quickstart/data/iter_quickstart.current_od.xml\n",
      "### Runing: iter\n",
      "od2trips --no-step-log  --spread.uniform --taz-files /Users/rodrse/Documents/DemandCalibration/notebooks/od_calibration_sumo_files/quickstart/data/quickstart.taz.xml --tazrelation-files /Users/rodrse/Documents/DemandCalibration/notebooks/od_calibration_sumo_files/quickstart/data/iter_quickstart.current_od.xml -o /Users/rodrse/Documents/DemandCalibration/notebooks/od_calibration_sumo_files/quickstart/data/iter_od_trips.trips.xml \n",
      "Success.\n",
      "Loading net-file from '/Users/rodrse/Documents/DemandCalibration/notebooks/od_calibration_sumo_files/quickstart/data/quickstart.net.xml' ... done (5ms).\n",
      "Loading additional-files from '/Users/rodrse/Documents/DemandCalibration/notebooks/od_calibration_sumo_files/quickstart/data/quickstart.additional.xml' ... done (1ms).\n",
      "Loading done.\n",
      "Simulation version 1.16.0 started with time: 54000.00.\n",
      "Step #57600.00 (5ms ~= 200.00*RT, ~109600.00UPS, vehicles TOT 2598 ACT 548 BUF 0)         \n",
      "Simulation ended at time: 57600.00\n",
      "Reason: The final simulation step has been reached.\n",
      "Performance: \n",
      " Duration: 12.50s\n",
      " Real time factor: 287.931\n",
      " UPS: 105631.768376\n",
      "Vehicles: \n",
      " Inserted: 2598\n",
      " Running: 548\n",
      " Waiting: 0\n",
      "Statistics (avg of 2050):\n",
      " RouteLength: 4232.56\n",
      " Speed: 11.62\n",
      " Duration: 466.34\n",
      " WaitingTime: 103.44\n",
      " TimeLoss: 159.40\n",
      " DepartDelay: 0.49\n",
      "\n",
      "DijkstraRouter answered 2598 queries and explored 9.14 edges on average.\n",
      "DijkstraRouter spent 0.01s answering queries (0.00ms on average).\n",
      "####### 42 ########\n",
      "##### n=66 #####\n",
      "##### best_value=-0.009014274859799823 #####\n",
      "printing /Users/rodrse/Documents/DemandCalibration/notebooks/od_calibration_sumo_files/quickstart/data/iter_quickstart.current_od.xml\n",
      "### Runing: iter\n",
      "od2trips --no-step-log  --spread.uniform --taz-files /Users/rodrse/Documents/DemandCalibration/notebooks/od_calibration_sumo_files/quickstart/data/quickstart.taz.xml --tazrelation-files /Users/rodrse/Documents/DemandCalibration/notebooks/od_calibration_sumo_files/quickstart/data/iter_quickstart.current_od.xml -o /Users/rodrse/Documents/DemandCalibration/notebooks/od_calibration_sumo_files/quickstart/data/iter_od_trips.trips.xml \n",
      "Success.\n",
      "Loading net-file from '/Users/rodrse/Documents/DemandCalibration/notebooks/od_calibration_sumo_files/quickstart/data/quickstart.net.xml' ... done (6ms).\n",
      "Loading additional-files from '/Users/rodrse/Documents/DemandCalibration/notebooks/od_calibration_sumo_files/quickstart/data/quickstart.additional.xml' ... done (1ms).\n",
      "Loading done.\n",
      "Simulation version 1.16.0 started with time: 54000.00.\n",
      "Step #57600.00 (8ms ~= 125.00*RT, ~102000.00UPS, vehicles TOT 3037 ACT 816 BUF 0)         \n",
      "Simulation ended at time: 57600.00\n",
      "Reason: The final simulation step has been reached.\n",
      "Performance: \n",
      " Duration: 20.31s\n",
      " Real time factor: 177.261\n",
      " UPS: 90415.333104\n",
      "Vehicles: \n",
      " Inserted: 3037\n",
      " Running: 816\n",
      " Waiting: 0\n",
      "Statistics (avg of 2221):\n",
      " RouteLength: 4435.66\n",
      " Speed: 12.51\n",
      " Duration: 410.68\n",
      " WaitingTime: 57.17\n",
      " TimeLoss: 89.29\n",
      " DepartDelay: 0.49\n",
      "\n",
      "DijkstraRouter answered 3037 queries and explored 10.74 edges on average.\n",
      "DijkstraRouter spent 0.02s answering queries (0.01ms on average).\n",
      "####### 43 ########\n",
      "##### n=67 #####\n",
      "##### best_value=-0.009014274859799823 #####\n",
      "printing /Users/rodrse/Documents/DemandCalibration/notebooks/od_calibration_sumo_files/quickstart/data/iter_quickstart.current_od.xml\n",
      "### Runing: iter\n",
      "od2trips --no-step-log  --spread.uniform --taz-files /Users/rodrse/Documents/DemandCalibration/notebooks/od_calibration_sumo_files/quickstart/data/quickstart.taz.xml --tazrelation-files /Users/rodrse/Documents/DemandCalibration/notebooks/od_calibration_sumo_files/quickstart/data/iter_quickstart.current_od.xml -o /Users/rodrse/Documents/DemandCalibration/notebooks/od_calibration_sumo_files/quickstart/data/iter_od_trips.trips.xml \n",
      "Success.\n",
      "Loading net-file from '/Users/rodrse/Documents/DemandCalibration/notebooks/od_calibration_sumo_files/quickstart/data/quickstart.net.xml' ... done (7ms).\n",
      "Loading additional-files from '/Users/rodrse/Documents/DemandCalibration/notebooks/od_calibration_sumo_files/quickstart/data/quickstart.additional.xml' ... done (1ms).\n",
      "Loading done.\n",
      "Simulation version 1.16.0 started with time: 54000.00.\n",
      "Step #57600.00 (8ms ~= 125.00*RT, ~84125.00UPS, vehicles TOT 2934 ACT 673 BUF 0)          \n",
      "Simulation ended at time: 57600.00\n",
      "Reason: The final simulation step has been reached.\n",
      "Performance: \n",
      " Duration: 21.05s\n",
      " Real time factor: 171.021\n",
      " UPS: 81944.893112\n",
      "Vehicles: \n",
      " Inserted: 2934\n",
      " Running: 673\n",
      " Waiting: 0\n",
      "Statistics (avg of 2261):\n",
      " RouteLength: 4395.86\n",
      " Speed: 11.11\n",
      " Duration: 480.77\n",
      " WaitingTime: 79.21\n",
      " TimeLoss: 162.16\n",
      " DepartDelay: 0.49\n",
      "\n",
      "DijkstraRouter answered 2934 queries and explored 10.02 edges on average.\n",
      "DijkstraRouter spent 0.02s answering queries (0.01ms on average).\n",
      "####### 44 ########\n",
      "##### n=68 #####\n",
      "##### best_value=-0.009014274859799823 #####\n",
      "printing /Users/rodrse/Documents/DemandCalibration/notebooks/od_calibration_sumo_files/quickstart/data/iter_quickstart.current_od.xml\n",
      "### Runing: iter\n",
      "od2trips --no-step-log  --spread.uniform --taz-files /Users/rodrse/Documents/DemandCalibration/notebooks/od_calibration_sumo_files/quickstart/data/quickstart.taz.xml --tazrelation-files /Users/rodrse/Documents/DemandCalibration/notebooks/od_calibration_sumo_files/quickstart/data/iter_quickstart.current_od.xml -o /Users/rodrse/Documents/DemandCalibration/notebooks/od_calibration_sumo_files/quickstart/data/iter_od_trips.trips.xml \n",
      "Success.\n",
      "Loading net-file from '/Users/rodrse/Documents/DemandCalibration/notebooks/od_calibration_sumo_files/quickstart/data/quickstart.net.xml' ... done (7ms).\n",
      "Loading additional-files from '/Users/rodrse/Documents/DemandCalibration/notebooks/od_calibration_sumo_files/quickstart/data/quickstart.additional.xml' ... done (2ms).\n",
      "Loading done.\n",
      "Simulation version 1.16.0 started with time: 54000.00.\n",
      "Step #57300.00 (15ms ~= 66.67*RT, ~68600.00UPS, vehicles TOT 3170 ACT 1029 BUF 0)         \r"
     ]
    },
    {
     "name": "stderr",
     "output_type": "stream",
     "text": [
      "Warning: Teleporting vehicle '452'; waited too long (wrong lane), lane='L15_0', time=57391.00.\n",
      "Warning: Vehicle '452' ends teleporting on edge 'L18', time=57391.00.\n",
      "Warning: Teleporting vehicle '454'; waited too long (wrong lane), lane='L15_0', time=57392.00.\n",
      "Warning: Vehicle '454' ends teleporting on edge 'L18', time=57392.00.\n",
      "Warning: Teleporting vehicle '460'; waited too long (wrong lane), lane='L15_0', time=57393.00.\n",
      "Warning: Vehicle '460' ends teleporting on edge 'L18', time=57393.00.\n"
     ]
    },
    {
     "name": "stdout",
     "output_type": "stream",
     "text": [
      "Step #57400.00 (12ms ~= 83.33*RT, ~86750.00UPS, vehicles TOT 3265 ACT 1041 BUF 0)         \r"
     ]
    },
    {
     "name": "stderr",
     "output_type": "stream",
     "text": [
      "Warning: Teleporting vehicle '485'; waited too long (wrong lane), lane='L15_0', time=57425.00.\n",
      "Warning: Vehicle '485' ends teleporting on edge 'L18', time=57425.00.\n",
      "Warning: Teleporting vehicle '490'; waited too long (wrong lane), lane='L15_0', time=57427.00.\n",
      "Warning: Vehicle '490' ends teleporting on edge 'L18', time=57427.00.\n",
      "Warning: Teleporting vehicle '500'; waited too long (wrong lane), lane='L15_0', time=57430.00.\n",
      "Warning: Vehicle '500' ends teleporting on edge 'L18', time=57430.00.\n",
      "Warning: Teleporting vehicle '494'; waited too long (wrong lane), lane='L15_0', time=57443.00.\n",
      "Warning: Vehicle '494' ends teleporting on edge 'L18', time=57443.00.\n"
     ]
    },
    {
     "name": "stdout",
     "output_type": "stream",
     "text": [
      "Step #57600.00 (13ms ~= 76.92*RT, ~82076.92UPS, vehicles TOT 3457 ACT 1067 BUF 0)         \n",
      "Simulation ended at time: 57600.00\n",
      "Reason: The final simulation step has been reached.\n",
      "Performance: \n",
      " Duration: 30.00s\n",
      " Real time factor: 119.984\n",
      " UPS: 82115.017998\n",
      "Vehicles: \n",
      " Inserted: 3457\n",
      " Running: 1067\n",
      " Waiting: 0\n",
      " Teleports: 7 (Wrong Lane: 7)\n",
      "Statistics (avg of 2390):\n",
      " RouteLength: 4240.34\n",
      " Speed: 11.01\n",
      " Duration: 569.58\n",
      " WaitingTime: 132.90\n",
      " TimeLoss: 262.51\n",
      " DepartDelay: 0.48\n",
      "\n",
      "DijkstraRouter answered 3457 queries and explored 9.60 edges on average.\n",
      "DijkstraRouter spent 0.02s answering queries (0.00ms on average).\n",
      "####### 45 ########\n",
      "##### n=69 #####\n",
      "##### best_value=-0.009014274859799823 #####\n",
      "printing /Users/rodrse/Documents/DemandCalibration/notebooks/od_calibration_sumo_files/quickstart/data/iter_quickstart.current_od.xml\n",
      "### Runing: iter\n",
      "od2trips --no-step-log  --spread.uniform --taz-files /Users/rodrse/Documents/DemandCalibration/notebooks/od_calibration_sumo_files/quickstart/data/quickstart.taz.xml --tazrelation-files /Users/rodrse/Documents/DemandCalibration/notebooks/od_calibration_sumo_files/quickstart/data/iter_quickstart.current_od.xml -o /Users/rodrse/Documents/DemandCalibration/notebooks/od_calibration_sumo_files/quickstart/data/iter_od_trips.trips.xml \n",
      "Success.\n",
      "Loading net-file from '/Users/rodrse/Documents/DemandCalibration/notebooks/od_calibration_sumo_files/quickstart/data/quickstart.net.xml' ... done (8ms).\n",
      "Loading additional-files from '/Users/rodrse/Documents/DemandCalibration/notebooks/od_calibration_sumo_files/quickstart/data/quickstart.additional.xml' ... done (1ms).\n",
      "Loading done.\n",
      "Simulation version 1.16.0 started with time: 54000.00.\n",
      "Step #56800.00 (8ms ~= 125.00*RT, ~101875.00UPS, vehicles TOT 2286 ACT 815 BUF 0)         \r"
     ]
    },
    {
     "name": "stderr",
     "output_type": "stream",
     "text": [
      "Warning: Teleporting vehicle '410'; waited too long (wrong lane), lane='L15_0', time=56816.00.\n",
      "Warning: Vehicle '410' ends teleporting on edge 'L18', time=56816.00.\n",
      "Warning: Teleporting vehicle '418'; waited too long (wrong lane), lane='L15_0', time=56817.00.\n",
      "Warning: Vehicle '418' ends teleporting on edge 'L18', time=56817.00.\n",
      "Warning: Teleporting vehicle '434'; waited too long (wrong lane), lane='L15_0', time=56856.00.\n",
      "Warning: Vehicle '434' ends teleporting on edge 'L18', time=56856.00.\n",
      "Warning: Teleporting vehicle '437'; waited too long (wrong lane), lane='L15_0', time=56857.00.\n",
      "Warning: Vehicle '437' ends teleporting on edge 'L18', time=56857.00.\n",
      "Warning: Teleporting vehicle '466'; waited too long (wrong lane), lane='L15_0', time=56858.00.\n",
      "Warning: Vehicle '466' ends teleporting on edge 'L18', time=56858.00.\n",
      "Warning: Teleporting vehicle '468'; waited too long (wrong lane), lane='L15_0', time=56859.00.\n",
      "Warning: Vehicle '468' ends teleporting on edge 'L18', time=56859.00.\n",
      "Warning: Teleporting vehicle '479'; waited too long (wrong lane), lane='L15_0', time=56860.00.\n",
      "Warning: Vehicle '479' ends teleporting on edge 'L18', time=56860.00.\n",
      "Warning: Teleporting vehicle '483'; waited too long (wrong lane), lane='L15_0', time=56861.00.\n",
      "Warning: Vehicle '483' ends teleporting on edge 'L18', time=56861.00.\n",
      "Warning: Teleporting vehicle '485'; waited too long (wrong lane), lane='L15_0', time=56862.00.\n",
      "Warning: Vehicle '485' ends teleporting on edge 'L18', time=56862.00.\n",
      "Warning: Teleporting vehicle '463'; waited too long (wrong lane), lane='L15_0', time=56863.00.\n",
      "Warning: Vehicle '463' ends teleporting on edge 'L18', time=56863.00.\n",
      "Warning: Teleporting vehicle '469'; waited too long (wrong lane), lane='L15_0', time=56864.00.\n",
      "Warning: Vehicle '469' ends teleporting on edge 'L18', time=56864.00.\n",
      "Warning: Teleporting vehicle '459'; waited too long (wrong lane), lane='L15_0', time=56865.00.\n",
      "Warning: Vehicle '459' ends teleporting on edge 'L18', time=56865.00.\n",
      "Warning: Teleporting vehicle '462'; waited too long (wrong lane), lane='L15_0', time=56866.00.\n",
      "Warning: Vehicle '462' ends teleporting on edge 'L18', time=56866.00.\n",
      "Warning: Teleporting vehicle '464'; waited too long (wrong lane), lane='L15_0', time=56867.00.\n",
      "Warning: Vehicle '464' ends teleporting on edge 'L18', time=56867.00.\n",
      "Warning: Teleporting vehicle '471'; waited too long (wrong lane), lane='L15_0', time=56868.00.\n",
      "Warning: Vehicle '471' ends teleporting on edge 'L18', time=56868.00.\n",
      "Warning: Teleporting vehicle '475'; waited too long (wrong lane), lane='L15_0', time=56869.00.\n",
      "Warning: Vehicle '475' ends teleporting on edge 'L18', time=56869.00.\n",
      "Warning: Teleporting vehicle '408'; waited too long (wrong lane), lane='L15_0', time=56870.00.\n",
      "Warning: Vehicle '408' ends teleporting on edge 'L18', time=56870.00.\n",
      "Warning: Teleporting vehicle '457'; waited too long (wrong lane), lane='L15_0', time=56871.00.\n",
      "Warning: Vehicle '457' ends teleporting on edge 'L18', time=56871.00.\n",
      "Warning: Teleporting vehicle '487'; waited too long (wrong lane), lane='L15_0', time=56872.00.\n",
      "Warning: Vehicle '487' ends teleporting on edge 'L18', time=56872.00.\n",
      "Warning: Teleporting vehicle '490'; waited too long (wrong lane), lane='L15_0', time=56873.00.\n",
      "Warning: Vehicle '490' ends teleporting on edge 'L18', time=56873.00.\n",
      "Warning: Teleporting vehicle '482'; waited too long (wrong lane), lane='L15_0', time=56874.00.\n",
      "Warning: Vehicle '482' ends teleporting on edge 'L18', time=56874.00.\n",
      "Warning: Teleporting vehicle '477'; waited too long (wrong lane), lane='L15_0', time=56875.00.\n",
      "Warning: Vehicle '477' ends teleporting on edge 'L18', time=56875.00.\n",
      "Warning: Teleporting vehicle '498'; waited too long (wrong lane), lane='L15_0', time=56876.00.\n",
      "Warning: Vehicle '498' ends teleporting on edge 'L18', time=56876.00.\n",
      "Warning: Teleporting vehicle '496'; waited too long (wrong lane), lane='L15_0', time=56877.00.\n",
      "Warning: Vehicle '496' ends teleporting on edge 'L18', time=56877.00.\n",
      "Warning: Teleporting vehicle '494'; waited too long (wrong lane), lane='L15_0', time=56878.00.\n",
      "Warning: Vehicle '494' ends teleporting on edge 'L18', time=56878.00.\n",
      "Warning: Teleporting vehicle '491'; waited too long (wrong lane), lane='L15_0', time=56879.00.\n",
      "Warning: Vehicle '491' ends teleporting on edge 'L18', time=56879.00.\n",
      "Warning: Teleporting vehicle '493'; waited too long (wrong lane), lane='L15_0', time=56880.00.\n",
      "Warning: Vehicle '493' ends teleporting on edge 'L18', time=56880.00.\n",
      "Warning: Teleporting vehicle '499'; waited too long (wrong lane), lane='L15_0', time=56881.00.\n",
      "Warning: Vehicle '499' ends teleporting on edge 'L18', time=56881.00.\n",
      "Warning: Teleporting vehicle '502'; waited too long (wrong lane), lane='L15_0', time=56882.00.\n",
      "Warning: Vehicle '502' ends teleporting on edge 'L18', time=56882.00.\n",
      "Warning: Teleporting vehicle '506'; waited too long (wrong lane), lane='L15_0', time=56883.00.\n",
      "Warning: Vehicle '506' ends teleporting on edge 'L18', time=56883.00.\n",
      "Warning: Teleporting vehicle '507'; waited too long (wrong lane), lane='L15_0', time=56884.00.\n",
      "Warning: Vehicle '507' ends teleporting on edge 'L18', time=56884.00.\n",
      "Warning: Teleporting vehicle '504'; waited too long (wrong lane), lane='L15_0', time=56885.00.\n",
      "Warning: Vehicle '504' ends teleporting on edge 'L18', time=56885.00.\n"
     ]
    },
    {
     "name": "stdout",
     "output_type": "stream",
     "text": [
      "Step #56900.00 (10ms ~= 100.00*RT, ~85200.00UPS, vehicles TOT 2367 ACT 852 BUF 0)         \r"
     ]
    },
    {
     "name": "stderr",
     "output_type": "stream",
     "text": [
      "Warning: Teleporting vehicle '617'; waited too long (wrong lane), lane='L12_2', time=56943.00.\n",
      "Warning: Teleporting vehicle '350'; waited too long (jam), lane='L12_1', time=56943.00.\n",
      "Warning: Teleporting vehicle '618'; waited too long (wrong lane), lane='L12_2', time=56951.00.\n",
      "Warning: Vehicle '350' ends teleporting on edge 'L15', time=56984.00.\n",
      "Warning: Vehicle '617' ends teleporting on edge 'L15', time=56995.00.\n",
      "Warning: Vehicle '618' ends teleporting on edge 'L15', time=57000.00.\n"
     ]
    },
    {
     "name": "stdout",
     "output_type": "stream",
     "text": [
      "Step #57000.00 (9ms ~= 111.11*RT, ~98444.44UPS, vehicles TOT 2449 ACT 886 BUF 1)          \r"
     ]
    },
    {
     "name": "stderr",
     "output_type": "stream",
     "text": [
      "Warning: Teleporting vehicle '625'; waited too long (wrong lane), lane='L12_2', time=57084.00.\n"
     ]
    },
    {
     "name": "stdout",
     "output_type": "stream",
     "text": [
      "Step #57100.00 (9ms ~= 111.11*RT, ~99555.56UPS, vehicles TOT 2530 ACT 896 BUF 0)          \r"
     ]
    },
    {
     "name": "stderr",
     "output_type": "stream",
     "text": [
      "Warning: Vehicle '625' ends teleporting on edge 'L15', time=57119.00.\n"
     ]
    },
    {
     "name": "stdout",
     "output_type": "stream",
     "text": [
      "Step #57300.00 (10ms ~= 100.00*RT, ~89100.00UPS, vehicles TOT 2615 ACT 891 BUF 79)        \r"
     ]
    },
    {
     "name": "stderr",
     "output_type": "stream",
     "text": [
      "Warning: Teleporting vehicle '1482'; waited too long (jam), lane='D2_1', time=57316.00.\n",
      "Warning: Vehicle '1482' ends teleporting on edge 'L2', time=57316.00.\n",
      "Warning: Teleporting vehicle '765'; waited too long (jam), lane='D2_1', time=57319.00.\n",
      "Warning: Vehicle '765' ends teleporting on edge 'L2', time=57319.00.\n",
      "Warning: Teleporting vehicle '766'; waited too long (jam), lane='D2_1', time=57397.00.\n",
      "Warning: Vehicle '766' ends teleporting on edge 'L2', time=57399.00.\n"
     ]
    },
    {
     "name": "stdout",
     "output_type": "stream",
     "text": [
      "Step #57400.00 (9ms ~= 111.11*RT, ~97888.89UPS, vehicles TOT 2653 ACT 881 BUF 124)        \r"
     ]
    },
    {
     "name": "stderr",
     "output_type": "stream",
     "text": [
      "Warning: Teleporting vehicle '769'; waited too long (jam), lane='D2_1', time=57433.00.\n",
      "Warning: Vehicle '769' ends teleporting on edge 'L2', time=57434.00.\n",
      "Warning: Teleporting vehicle '770'; waited too long (jam), lane='D2_1', time=57447.00.\n",
      "Warning: Vehicle '770' ends teleporting on edge 'L2', time=57448.00.\n"
     ]
    },
    {
     "name": "stdout",
     "output_type": "stream",
     "text": [
      "Step #57500.00 (8ms ~= 125.00*RT, ~106750.00UPS, vehicles TOT 2689 ACT 854 BUF 167)       \r"
     ]
    },
    {
     "name": "stderr",
     "output_type": "stream",
     "text": [
      "Warning: Teleporting vehicle '773'; waited too long (jam), lane='D2_1', time=57529.00.\n",
      "Warning: Vehicle '773' ends teleporting on edge 'L2', time=57529.00.\n"
     ]
    },
    {
     "name": "stdout",
     "output_type": "stream",
     "text": [
      "Step #57600.00 (9ms ~= 111.11*RT, ~91444.44UPS, vehicles TOT 2727 ACT 823 BUF 212)        \n",
      "Simulation ended at time: 57600.00\n",
      "Reason: The final simulation step has been reached.\n",
      "Performance: \n",
      " Duration: 25.37s\n",
      " Real time factor: 141.911\n",
      " UPS: 87650.465153\n",
      "Vehicles: \n",
      " Inserted: 2727 (Loaded: 2939)\n",
      " Running: 823\n",
      " Waiting: 212\n",
      " Teleports: 42 (Jam: 7, Wrong Lane: 35)\n",
      "Statistics (avg of 1904):\n",
      " RouteLength: 4486.33\n",
      " Speed: 10.38\n",
      " Duration: 551.83\n",
      " WaitingTime: 127.23\n",
      " TimeLoss: 227.06\n",
      " DepartDelay: 0.49\n",
      "\n",
      "DijkstraRouter answered 2940 queries and explored 10.74 edges on average.\n",
      "DijkstraRouter spent 0.02s answering queries (0.01ms on average).\n",
      "####### 46 ########\n",
      "##### n=70 #####\n",
      "##### best_value=-0.009014274859799823 #####\n",
      "printing /Users/rodrse/Documents/DemandCalibration/notebooks/od_calibration_sumo_files/quickstart/data/iter_quickstart.current_od.xml\n",
      "### Runing: iter\n",
      "od2trips --no-step-log  --spread.uniform --taz-files /Users/rodrse/Documents/DemandCalibration/notebooks/od_calibration_sumo_files/quickstart/data/quickstart.taz.xml --tazrelation-files /Users/rodrse/Documents/DemandCalibration/notebooks/od_calibration_sumo_files/quickstart/data/iter_quickstart.current_od.xml -o /Users/rodrse/Documents/DemandCalibration/notebooks/od_calibration_sumo_files/quickstart/data/iter_od_trips.trips.xml \n",
      "Success.\n",
      "Loading net-file from '/Users/rodrse/Documents/DemandCalibration/notebooks/od_calibration_sumo_files/quickstart/data/quickstart.net.xml' ... done (6ms).\n",
      "Loading additional-files from '/Users/rodrse/Documents/DemandCalibration/notebooks/od_calibration_sumo_files/quickstart/data/quickstart.additional.xml' ... done (2ms).\n",
      "Loading done.\n",
      "Simulation version 1.16.0 started with time: 54000.00.\n",
      "Step #57600.00 (6ms ~= 166.67*RT, ~101500.00UPS, vehicles TOT 2357 ACT 609 BUF 0)         \n",
      "Simulation ended at time: 57600.00\n",
      "Reason: The final simulation step has been reached.\n",
      "Performance: \n",
      " Duration: 14.40s\n",
      " Real time factor: 249.931\n",
      " UPS: 96930.019439\n",
      "Vehicles: \n",
      " Inserted: 2357\n",
      " Running: 609\n",
      " Waiting: 0\n",
      "Statistics (avg of 1748):\n",
      " RouteLength: 4362.95\n",
      " Speed: 12.30\n",
      " Duration: 445.80\n",
      " WaitingTime: 84.14\n",
      " TimeLoss: 129.24\n",
      " DepartDelay: 0.48\n",
      "\n",
      "DijkstraRouter answered 2357 queries and explored 10.39 edges on average.\n",
      "DijkstraRouter spent 0.01s answering queries (0.00ms on average).\n",
      "####### 47 ########\n",
      "##### n=71 #####\n",
      "##### best_value=-0.009014274859799823 #####\n",
      "printing /Users/rodrse/Documents/DemandCalibration/notebooks/od_calibration_sumo_files/quickstart/data/iter_quickstart.current_od.xml\n",
      "### Runing: iter\n",
      "od2trips --no-step-log  --spread.uniform --taz-files /Users/rodrse/Documents/DemandCalibration/notebooks/od_calibration_sumo_files/quickstart/data/quickstart.taz.xml --tazrelation-files /Users/rodrse/Documents/DemandCalibration/notebooks/od_calibration_sumo_files/quickstart/data/iter_quickstart.current_od.xml -o /Users/rodrse/Documents/DemandCalibration/notebooks/od_calibration_sumo_files/quickstart/data/iter_od_trips.trips.xml \n",
      "Success.\n",
      "Loading net-file from '/Users/rodrse/Documents/DemandCalibration/notebooks/od_calibration_sumo_files/quickstart/data/quickstart.net.xml' ... done (8ms).\n",
      "Loading additional-files from '/Users/rodrse/Documents/DemandCalibration/notebooks/od_calibration_sumo_files/quickstart/data/quickstart.additional.xml' ... done (1ms).\n",
      "Loading done.\n",
      "Simulation version 1.16.0 started with time: 54000.00.\n",
      "Step #56600.00 (9ms ~= 111.11*RT, ~73666.67UPS, vehicles TOT 2051 ACT 663 BUF 0)          \r"
     ]
    },
    {
     "name": "stderr",
     "output_type": "stream",
     "text": [
      "Warning: Teleporting vehicle '476'; waited too long (jam), lane='L12_0', time=56684.00.\n",
      "Warning: Teleporting vehicle '473'; waited too long (jam), lane='L12_0', time=56685.00.\n"
     ]
    },
    {
     "name": "stdout",
     "output_type": "stream",
     "text": [
      "Step #56700.00 (9ms ~= 111.11*RT, ~75444.44UPS, vehicles TOT 2130 ACT 679 BUF 0)          \r"
     ]
    },
    {
     "name": "stderr",
     "output_type": "stream",
     "text": [
      "Warning: Vehicle '473' ends teleporting on edge 'L15', time=56722.00.\n",
      "Warning: Vehicle '476' ends teleporting on edge 'L15', time=56734.00.\n",
      "Warning: Teleporting vehicle '480'; waited too long (jam), lane='L12_0', time=56738.00.\n",
      "Warning: Teleporting vehicle '511'; waited too long (jam), lane=':1_3_1', time=56749.00.\n",
      "Warning: Vehicle '511' ends teleporting on edge 'L12', time=56749.00.\n",
      "Warning: Vehicle '480' ends teleporting on edge 'L15', time=56781.00.\n"
     ]
    },
    {
     "name": "stdout",
     "output_type": "stream",
     "text": [
      "Step #57300.00 (8ms ~= 125.00*RT, ~100875.00UPS, vehicles TOT 2603 ACT 807 BUF 0)         \r"
     ]
    },
    {
     "name": "stderr",
     "output_type": "stream",
     "text": [
      "Warning: Teleporting vehicle '659'; waited too long (wrong lane), lane='L12_2', time=57364.00.\n",
      "Warning: Vehicle '659' ends teleporting on edge 'L15', time=57364.00.\n"
     ]
    },
    {
     "name": "stdout",
     "output_type": "stream",
     "text": [
      "Step #57500.00 (8ms ~= 125.00*RT, ~107000.00UPS, vehicles TOT 2742 ACT 856 BUF 19)        \r"
     ]
    },
    {
     "name": "stderr",
     "output_type": "stream",
     "text": [
      "Warning: Teleporting vehicle '665'; waited too long (wrong lane), lane='L12_2', time=57537.00.\n",
      "Warning: Teleporting vehicle '717'; waited too long (jam), lane='L2_1', time=57553.00.\n",
      "Warning: Vehicle '717' ends teleporting on edge 'L12', time=57553.00.\n",
      "Warning: Vehicle '665' ends teleporting on edge 'L15', time=57580.00.\n"
     ]
    },
    {
     "name": "stdout",
     "output_type": "stream",
     "text": [
      "Step #57600.00 (8ms ~= 125.00*RT, ~108000.00UPS, vehicles TOT 2801 ACT 864 BUF 39)        \n",
      "Simulation ended at time: 57600.00\n",
      "Reason: The final simulation step has been reached.\n",
      "Performance: \n",
      " Duration: 22.95s\n",
      " Real time factor: 156.897\n",
      " UPS: 81564.959686\n",
      "Vehicles: \n",
      " Inserted: 2801 (Loaded: 2840)\n",
      " Running: 864\n",
      " Waiting: 39\n",
      " Teleports: 7 (Jam: 5, Wrong Lane: 2)\n",
      "Statistics (avg of 1937):\n",
      " RouteLength: 4363.50\n",
      " Speed: 12.29\n",
      " Duration: 440.24\n",
      " WaitingTime: 82.49\n",
      " TimeLoss: 123.78\n",
      " DepartDelay: 0.50\n",
      "\n",
      "DijkstraRouter answered 2847 queries and explored 10.43 edges on average.\n",
      "DijkstraRouter spent 0.02s answering queries (0.01ms on average).\n",
      "####### 48 ########\n",
      "##### n=72 #####\n",
      "##### best_value=-0.009014274859799823 #####\n",
      "printing /Users/rodrse/Documents/DemandCalibration/notebooks/od_calibration_sumo_files/quickstart/data/iter_quickstart.current_od.xml\n",
      "### Runing: iter\n",
      "od2trips --no-step-log  --spread.uniform --taz-files /Users/rodrse/Documents/DemandCalibration/notebooks/od_calibration_sumo_files/quickstart/data/quickstart.taz.xml --tazrelation-files /Users/rodrse/Documents/DemandCalibration/notebooks/od_calibration_sumo_files/quickstart/data/iter_quickstart.current_od.xml -o /Users/rodrse/Documents/DemandCalibration/notebooks/od_calibration_sumo_files/quickstart/data/iter_od_trips.trips.xml \n",
      "Success.\n",
      "Loading net-file from '/Users/rodrse/Documents/DemandCalibration/notebooks/od_calibration_sumo_files/quickstart/data/quickstart.net.xml' ... done (6ms).\n",
      "Loading additional-files from '/Users/rodrse/Documents/DemandCalibration/notebooks/od_calibration_sumo_files/quickstart/data/quickstart.additional.xml' ... done (2ms).\n",
      "Loading done.\n",
      "Simulation version 1.16.0 started with time: 54000.00.\n",
      "Step #56900.00 (8ms ~= 125.00*RT, ~101125.00UPS, vehicles TOT 2572 ACT 809 BUF 9)         \r"
     ]
    },
    {
     "name": "stderr",
     "output_type": "stream",
     "text": [
      "Warning: Teleporting vehicle '601'; waited too long (wrong lane), lane='L12_2', time=56987.00.\n"
     ]
    },
    {
     "name": "stdout",
     "output_type": "stream",
     "text": [
      "Step #57000.00 (9ms ~= 111.11*RT, ~91222.22UPS, vehicles TOT 2638 ACT 821 BUF 32)         \r"
     ]
    },
    {
     "name": "stderr",
     "output_type": "stream",
     "text": [
      "Warning: Vehicle '601' ends teleporting on edge 'L15', time=57043.00.\n"
     ]
    },
    {
     "name": "stdout",
     "output_type": "stream",
     "text": [
      "Step #57100.00 (9ms ~= 111.11*RT, ~90222.22UPS, vehicles TOT 2686 ACT 812 BUF 73)         \r"
     ]
    },
    {
     "name": "stderr",
     "output_type": "stream",
     "text": [
      "Warning: Teleporting vehicle '608'; waited too long (wrong lane), lane='L12_2', time=57112.00.\n",
      "Warning: Vehicle '608' ends teleporting on edge 'L15', time=57112.00.\n"
     ]
    },
    {
     "name": "stdout",
     "output_type": "stream",
     "text": [
      "Step #57200.00 (8ms ~= 125.00*RT, ~100750.00UPS, vehicles TOT 2735 ACT 806 BUF 114)       \r"
     ]
    },
    {
     "name": "stderr",
     "output_type": "stream",
     "text": [
      "Warning: Teleporting vehicle '670'; waited too long (jam), lane=':1_3_2', time=57239.00.\n",
      "Warning: Vehicle '670' ends teleporting on edge 'L12', time=57239.00.\n",
      "Warning: Teleporting vehicle '671'; waited too long (jam), lane='L2_1', time=57240.00.\n",
      "Warning: Vehicle '671' ends teleporting on edge 'L12', time=57240.00.\n",
      "Warning: Teleporting vehicle '482'; waited too long (jam), lane=':1_3_1', time=57250.00.\n",
      "Warning: Vehicle '482' ends teleporting on edge 'L12', time=57250.00.\n",
      "Warning: Teleporting vehicle '614'; waited too long (wrong lane), lane='L12_2', time=57280.00.\n",
      "Warning: Vehicle '614' ends teleporting on edge 'L15', time=57281.00.\n",
      "Warning: Teleporting vehicle '689'; waited too long (jam), lane='D2_1', time=57295.00.\n",
      "Warning: Vehicle '689' ends teleporting on edge 'L2', time=57295.00.\n"
     ]
    },
    {
     "name": "stdout",
     "output_type": "stream",
     "text": [
      "Step #57300.00 (8ms ~= 125.00*RT, ~100375.00UPS, vehicles TOT 2787 ACT 803 BUF 150)       \r"
     ]
    },
    {
     "name": "stderr",
     "output_type": "stream",
     "text": [
      "Warning: Teleporting vehicle '549'; waited too long (jam), lane='D2_0', time=57335.00.\n",
      "Warning: Vehicle '549' ends teleporting on edge 'L2', time=57335.00.\n"
     ]
    },
    {
     "name": "stdout",
     "output_type": "stream",
     "text": [
      "Step #57400.00 (10ms ~= 100.00*RT, ~82900.00UPS, vehicles TOT 2865 ACT 829 BUF 161)       \r"
     ]
    },
    {
     "name": "stderr",
     "output_type": "stream",
     "text": [
      "Warning: Teleporting vehicle '620'; waited too long (wrong lane), lane='L12_2', time=57403.00.\n",
      "Warning: Teleporting vehicle '621'; waited too long (wrong lane), lane='L12_2', time=57404.00.\n",
      "Warning: Vehicle '620' ends teleporting on edge 'L15', time=57415.00.\n",
      "Warning: Vehicle '621' ends teleporting on edge 'L15', time=57455.00.\n",
      "Warning: Teleporting vehicle '625'; waited too long (wrong lane), lane='L12_2', time=57470.00.\n",
      "Warning: Vehicle '625' ends teleporting on edge 'L15', time=57470.00.\n"
     ]
    },
    {
     "name": "stdout",
     "output_type": "stream",
     "text": [
      "Step #57500.00 (9ms ~= 111.11*RT, ~94888.89UPS, vehicles TOT 2944 ACT 854 BUF 170)        \r"
     ]
    },
    {
     "name": "stderr",
     "output_type": "stream",
     "text": [
      "Warning: Teleporting vehicle '1333'; waited too long (jam), lane=':1_3_2', time=57548.00.\n",
      "Warning: Vehicle '1333' ends teleporting on edge 'L12', time=57548.00.\n",
      "Warning: Teleporting vehicle '483'; waited too long (jam), lane=':1_3_1', time=57557.00.\n",
      "Warning: Vehicle '483' ends teleporting on edge 'L12', time=57557.00.\n"
     ]
    },
    {
     "name": "stdout",
     "output_type": "stream",
     "text": [
      "Step #57600.00 (10ms ~= 100.00*RT, ~87600.00UPS, vehicles TOT 3021 ACT 876 BUF 183)       \n",
      "Simulation ended at time: 57600.00\n",
      "Reason: The final simulation step has been reached.\n",
      "Performance: \n",
      " Duration: 22.57s\n",
      " Real time factor: 159.483\n",
      " UPS: 94345.412661\n",
      "Vehicles: \n",
      " Inserted: 3021 (Loaded: 3204)\n",
      " Running: 876\n",
      " Waiting: 183\n",
      " Teleports: 13 (Jam: 7, Wrong Lane: 6)\n",
      "Statistics (avg of 2145):\n",
      " RouteLength: 4390.73\n",
      " Speed: 11.75\n",
      " Duration: 455.03\n",
      " WaitingTime: 80.02\n",
      " TimeLoss: 136.68\n",
      " DepartDelay: 0.48\n",
      "\n",
      "DijkstraRouter answered 3306 queries and explored 10.34 edges on average.\n",
      "DijkstraRouter spent 0.01s answering queries (0.00ms on average).\n",
      "####### 49 ########\n",
      "##### n=73 #####\n",
      "##### best_value=-0.009014274859799823 #####\n",
      "printing /Users/rodrse/Documents/DemandCalibration/notebooks/od_calibration_sumo_files/quickstart/data/iter_quickstart.current_od.xml\n",
      "### Runing: iter\n",
      "od2trips --no-step-log  --spread.uniform --taz-files /Users/rodrse/Documents/DemandCalibration/notebooks/od_calibration_sumo_files/quickstart/data/quickstart.taz.xml --tazrelation-files /Users/rodrse/Documents/DemandCalibration/notebooks/od_calibration_sumo_files/quickstart/data/iter_quickstart.current_od.xml -o /Users/rodrse/Documents/DemandCalibration/notebooks/od_calibration_sumo_files/quickstart/data/iter_od_trips.trips.xml \n",
      "Success.\n",
      "Loading net-file from '/Users/rodrse/Documents/DemandCalibration/notebooks/od_calibration_sumo_files/quickstart/data/quickstart.net.xml' ... done (8ms).\n",
      "Loading additional-files from '/Users/rodrse/Documents/DemandCalibration/notebooks/od_calibration_sumo_files/quickstart/data/quickstart.additional.xml' ... done (1ms).\n",
      "Loading done.\n",
      "Simulation version 1.16.0 started with time: 54000.00.\n",
      "Step #57600.00 (6ms ~= 166.67*RT, ~85666.67UPS, vehicles TOT 2665 ACT 514 BUF 0)          \n",
      "Simulation ended at time: 57600.00\n",
      "Reason: The final simulation step has been reached.\n",
      "Performance: \n",
      " Duration: 13.50s\n",
      " Real time factor: 266.706\n",
      " UPS: 97234.182842\n",
      "Vehicles: \n",
      " Inserted: 2665\n",
      " Running: 514\n",
      " Waiting: 0\n",
      "Statistics (avg of 2151):\n",
      " RouteLength: 4454.55\n",
      " Speed: 12.08\n",
      " Duration: 422.36\n",
      " WaitingTime: 60.67\n",
      " TimeLoss: 99.03\n",
      " DepartDelay: 0.46\n",
      "\n",
      "DijkstraRouter answered 2665 queries and explored 10.36 edges on average.\n",
      "DijkstraRouter spent 0.01s answering queries (0.00ms on average).\n",
      "####### 50 ########\n",
      "##### n=74 #####\n",
      "##### best_value=-0.009014274859799823 #####\n",
      "printing /Users/rodrse/Documents/DemandCalibration/notebooks/od_calibration_sumo_files/quickstart/data/iter_quickstart.current_od.xml\n",
      "### Runing: iter\n",
      "od2trips --no-step-log  --spread.uniform --taz-files /Users/rodrse/Documents/DemandCalibration/notebooks/od_calibration_sumo_files/quickstart/data/quickstart.taz.xml --tazrelation-files /Users/rodrse/Documents/DemandCalibration/notebooks/od_calibration_sumo_files/quickstart/data/iter_quickstart.current_od.xml -o /Users/rodrse/Documents/DemandCalibration/notebooks/od_calibration_sumo_files/quickstart/data/iter_od_trips.trips.xml \n",
      "Success.\n",
      "Loading net-file from '/Users/rodrse/Documents/DemandCalibration/notebooks/od_calibration_sumo_files/quickstart/data/quickstart.net.xml' ... done (6ms).\n",
      "Loading additional-files from '/Users/rodrse/Documents/DemandCalibration/notebooks/od_calibration_sumo_files/quickstart/data/quickstart.additional.xml' ... done (1ms).\n",
      "Loading done.\n",
      "Simulation version 1.16.0 started with time: 54000.00.\n",
      "Step #57100.00 (10ms ~= 100.00*RT, ~88300.00UPS, vehicles TOT 2996 ACT 883 BUF 88)        \r"
     ]
    },
    {
     "name": "stderr",
     "output_type": "stream",
     "text": [
      "Warning: Teleporting vehicle '605'; waited too long (wrong lane), lane='L12_2', time=57155.00.\n",
      "Warning: Vehicle '605' ends teleporting on edge 'L15', time=57155.00.\n"
     ]
    },
    {
     "name": "stdout",
     "output_type": "stream",
     "text": [
      "Step #57200.00 (10ms ~= 100.00*RT, ~84300.00UPS, vehicles TOT 3076 ACT 843 BUF 106)       \r"
     ]
    },
    {
     "name": "stderr",
     "output_type": "stream",
     "text": [
      "Warning: Teleporting vehicle '474'; waited too long (jam), lane='L2_0', time=57282.00.\n",
      "Warning: Vehicle '474' ends teleporting on edge 'L12', time=57282.00.\n"
     ]
    },
    {
     "name": "stdout",
     "output_type": "stream",
     "text": [
      "Step #57300.00 (9ms ~= 111.11*RT, ~95444.44UPS, vehicles TOT 3156 ACT 859 BUF 126)        \r"
     ]
    },
    {
     "name": "stderr",
     "output_type": "stream",
     "text": [
      "Warning: Teleporting vehicle '614'; waited too long (wrong lane), lane='L12_2', time=57373.00.\n"
     ]
    },
    {
     "name": "stdout",
     "output_type": "stream",
     "text": [
      "Step #57400.00"
     ]
    },
    {
     "name": "stderr",
     "output_type": "stream",
     "text": [
      "Warning: Vehicle '614' ends teleporting on edge 'L15', time=57400.00.\n"
     ]
    },
    {
     "name": "stdout",
     "output_type": "stream",
     "text": [
      " (9ms ~= 111.11*RT, ~96555.56UPS, vehicles TOT 3235 ACT 869 BUF 146)        \r"
     ]
    },
    {
     "name": "stderr",
     "output_type": "stream",
     "text": [
      "Warning: Teleporting vehicle '1526'; waited too long (jam), lane=':1_3_2', time=57473.00.\n",
      "Warning: Vehicle '1526' ends teleporting on edge 'L12', time=57473.00.\n",
      "Warning: Teleporting vehicle '658'; waited too long (jam), lane='L2_1', time=57479.00.\n",
      "Warning: Vehicle '658' ends teleporting on edge 'L12', time=57479.00.\n"
     ]
    },
    {
     "name": "stdout",
     "output_type": "stream",
     "text": [
      "Step #57500.00 (11ms ~= 90.91*RT, ~80181.82UPS, vehicles TOT 3305 ACT 882 BUF 176)        \r"
     ]
    },
    {
     "name": "stderr",
     "output_type": "stream",
     "text": [
      "Warning: Teleporting vehicle '622'; waited too long (wrong lane), lane='L12_2', time=57510.00.\n",
      "Warning: Vehicle '622' ends teleporting on edge 'L15', time=57528.00.\n",
      "Warning: Teleporting vehicle '475'; waited too long (jam), lane='L2_0', time=57588.00.\n",
      "Warning: Vehicle '475' ends teleporting on edge 'L12', time=57588.00.\n"
     ]
    },
    {
     "name": "stdout",
     "output_type": "stream",
     "text": [
      "Step #57600.00 (9ms ~= 111.11*RT, ~97222.22UPS, vehicles TOT 3357 ACT 875 BUF 223)        \n",
      "Simulation ended at time: 57600.00\n",
      "Reason: The final simulation step has been reached.\n",
      "Performance: \n",
      " Duration: 31.08s\n",
      " Real time factor: 115.815\n",
      " UPS: 79939.518723\n",
      "Vehicles: \n",
      " Inserted: 3357 (Loaded: 3580)\n",
      " Running: 875\n",
      " Waiting: 223\n",
      " Teleports: 7 (Jam: 4, Wrong Lane: 3)\n",
      "Statistics (avg of 2482):\n",
      " RouteLength: 4371.75\n",
      " Speed: 10.60\n",
      " Duration: 550.87\n",
      " WaitingTime: 96.38\n",
      " TimeLoss: 233.49\n",
      " DepartDelay: 0.50\n",
      "\n",
      "DijkstraRouter answered 3731 queries and explored 10.01 edges on average.\n",
      "DijkstraRouter spent 0.02s answering queries (0.01ms on average).\n",
      "####### 51 ########\n",
      "##### n=75 #####\n",
      "##### best_value=-0.009014274859799823 #####\n",
      "printing /Users/rodrse/Documents/DemandCalibration/notebooks/od_calibration_sumo_files/quickstart/data/iter_quickstart.current_od.xml\n",
      "### Runing: iter\n",
      "od2trips --no-step-log  --spread.uniform --taz-files /Users/rodrse/Documents/DemandCalibration/notebooks/od_calibration_sumo_files/quickstart/data/quickstart.taz.xml --tazrelation-files /Users/rodrse/Documents/DemandCalibration/notebooks/od_calibration_sumo_files/quickstart/data/iter_quickstart.current_od.xml -o /Users/rodrse/Documents/DemandCalibration/notebooks/od_calibration_sumo_files/quickstart/data/iter_od_trips.trips.xml \n",
      "Success.\n",
      "Loading net-file from '/Users/rodrse/Documents/DemandCalibration/notebooks/od_calibration_sumo_files/quickstart/data/quickstart.net.xml' ... done (7ms).\n",
      "Loading additional-files from '/Users/rodrse/Documents/DemandCalibration/notebooks/od_calibration_sumo_files/quickstart/data/quickstart.additional.xml' ... done (2ms).\n",
      "Loading done.\n",
      "Simulation version 1.16.0 started with time: 54000.00.\n",
      "Step #56800.00 (10ms ~= 100.00*RT, ~81800.00UPS, vehicles TOT 2463 ACT 818 BUF 13)        \r"
     ]
    },
    {
     "name": "stderr",
     "output_type": "stream",
     "text": [
      "Warning: Teleporting vehicle '598'; waited too long (wrong lane), lane='L12_2', time=56876.00.\n",
      "Warning: Vehicle '598' ends teleporting on edge 'L15', time=56882.00.\n",
      "Warning: Teleporting vehicle '603'; waited too long (wrong lane), lane='L12_2', time=56923.00.\n",
      "Warning: Vehicle '603' ends teleporting on edge 'L15', time=56938.00.\n"
     ]
    },
    {
     "name": "stdout",
     "output_type": "stream",
     "text": [
      "Step #56900.00 (12ms ~= 83.33*RT, ~68833.33UPS, vehicles TOT 2520 ACT 826 BUF 43)         \r"
     ]
    },
    {
     "name": "stderr",
     "output_type": "stream",
     "text": [
      "Warning: Teleporting vehicle '605'; waited too long (wrong lane), lane='L12_2', time=56981.00.\n"
     ]
    },
    {
     "name": "stdout",
     "output_type": "stream",
     "text": [
      "Step #57000.00 (11ms ~= 90.91*RT, ~76818.18UPS, vehicles TOT 2597 ACT 845 BUF 55)         \r"
     ]
    },
    {
     "name": "stderr",
     "output_type": "stream",
     "text": [
      "Warning: Vehicle '605' ends teleporting on edge 'L15', time=57042.00.\n",
      "Warning: Teleporting vehicle '608'; waited too long (wrong lane), lane='L12_2', time=57058.00.\n",
      "Warning: Vehicle '608' ends teleporting on edge 'L15', time=57063.00.\n",
      "Warning: Teleporting vehicle '472'; waited too long (jam), lane=':1_3_1', time=57081.00.\n",
      "Warning: Vehicle '472' ends teleporting on edge 'L12', time=57081.00.\n",
      "Warning: Teleporting vehicle '1321'; waited too long (jam), lane=':1_3_2', time=57092.00.\n",
      "Warning: Teleporting vehicle '673'; waited too long (jam), lane='L2_1', time=57094.00.\n",
      "Warning: Vehicle '673' ends teleporting on edge 'L12', time=57094.00.\n",
      "Warning: Teleporting vehicle '674'; waited too long (jam), lane='L2_1', time=57101.00.\n"
     ]
    },
    {
     "name": "stdout",
     "output_type": "stream",
     "text": [
      "Step #57100.00 (10ms ~= 100.00*RT, ~86200.00UPS, vehicles TOT 2672 ACT 862 BUF 68)        \r"
     ]
    },
    {
     "name": "stderr",
     "output_type": "stream",
     "text": [
      "Warning: Vehicle '674' ends teleporting on edge 'L12', time=57101.00.\n",
      "Warning: Teleporting vehicle '675'; waited too long (jam), lane='L2_1', time=57102.00.\n",
      "Warning: Vehicle '675' ends teleporting on edge 'L12', time=57102.00.\n",
      "Warning: Teleporting vehicle '611'; waited too long (wrong lane), lane='L12_2', time=57129.00.\n",
      "Warning: Vehicle '611' ends teleporting on edge 'L15', time=57129.00.\n",
      "Warning: Teleporting vehicle '612'; waited too long (wrong lane), lane='L12_2', time=57130.00.\n",
      "Warning: Vehicle '612' ends teleporting on edge 'L15', time=57169.00.\n"
     ]
    },
    {
     "name": "stdout",
     "output_type": "stream",
     "text": [
      "Step #57200.00 (10ms ~= 100.00*RT, ~88700.00UPS, vehicles TOT 2748 ACT 887 BUF 81)        \r"
     ]
    },
    {
     "name": "stderr",
     "output_type": "stream",
     "text": [
      "Warning: Teleporting vehicle '616'; waited too long (wrong lane), lane='L12_2', time=57236.00.\n",
      "Warning: Vehicle '616' ends teleporting on edge 'L15', time=57236.00.\n"
     ]
    },
    {
     "name": "stdout",
     "output_type": "stream",
     "text": [
      "Step #57300.00 (11ms ~= 90.91*RT, ~80909.09UPS, vehicles TOT 2809 ACT 890 BUF 109)        \r"
     ]
    },
    {
     "name": "stderr",
     "output_type": "stream",
     "text": [
      "Warning: Teleporting vehicle '619'; waited too long (wrong lane), lane='L12_2', time=57369.00.\n",
      "Warning: Teleporting vehicle '716'; waited too long (jam), lane='D2_1', time=57379.00.\n",
      "Warning: Vehicle '716' ends teleporting on edge 'L2', time=57379.00.\n",
      "Warning: Teleporting vehicle '717'; waited too long (jam), lane='D2_1', time=57384.00.\n",
      "Warning: Vehicle '717' ends teleporting on edge 'L2', time=57384.00.\n",
      "Warning: Vehicle '619' ends teleporting on edge 'L15', time=57388.00.\n",
      "Warning: Teleporting vehicle '473'; waited too long (jam), lane=':1_3_1', time=57392.00.\n",
      "Warning: Vehicle '473' ends teleporting on edge 'L12', time=57392.00.\n",
      "Warning: Teleporting vehicle '474'; waited too long (jam), lane='L2_0', time=57393.00.\n",
      "Warning: Vehicle '474' ends teleporting on edge 'L12', time=57393.00.\n",
      "Warning: Teleporting vehicle '1322'; waited too long (jam), lane=':1_3_1', time=57402.00.\n"
     ]
    },
    {
     "name": "stdout",
     "output_type": "stream",
     "text": [
      "Step #57400.00 (9ms ~= 111.11*RT, ~98222.22UPS, vehicles TOT 2857 ACT 884 BUF 148)        \r"
     ]
    },
    {
     "name": "stderr",
     "output_type": "stream",
     "text": [
      "Warning: Teleporting vehicle '624'; waited too long (wrong lane), lane='L12_2', time=57452.00.\n",
      "Warning: Vehicle '624' ends teleporting on edge 'L15', time=57460.00.\n",
      "Warning: Vehicle '1321' ends teleporting on edge 'L12', time=57460.00.\n",
      "Warning: Teleporting vehicle '540'; waited too long (jam), lane='D2_0', time=57474.00.\n",
      "Warning: Vehicle '540' ends teleporting on edge 'L2', time=57474.00.\n"
     ]
    },
    {
     "name": "stdout",
     "output_type": "stream",
     "text": [
      "Step #57600.00 (10ms ~= 100.00*RT, ~87900.00UPS, vehicles TOT 2952 ACT 879 BUF 230)       \n",
      "Simulation ended at time: 57600.00\n",
      "Reason: The final simulation step has been reached.\n",
      "Performance: \n",
      " Duration: 25.75s\n",
      " Real time factor: 139.784\n",
      " UPS: 82118.001087\n",
      "Vehicles: \n",
      " Inserted: 2952 (Loaded: 3182)\n",
      " Running: 879\n",
      " Waiting: 230\n",
      " Teleports: 20 (Jam: 11, Wrong Lane: 9)\n",
      "Statistics (avg of 2073):\n",
      " RouteLength: 4361.50\n",
      " Speed: 12.42\n",
      " Duration: 422.45\n",
      " WaitingTime: 71.74\n",
      " TimeLoss: 105.92\n",
      " DepartDelay: 0.50\n",
      "\n",
      "DijkstraRouter answered 3287 queries and explored 10.46 edges on average.\n",
      "DijkstraRouter spent 0.02s answering queries (0.01ms on average).\n"
     ]
    },
    {
     "name": "stderr",
     "output_type": "stream",
     "text": [
      "Warning: Vehicle '1322' ends teleporting on edge 'L12', time=57589.00.\n"
     ]
    },
    {
     "name": "stdout",
     "output_type": "stream",
     "text": [
      "####### 52 ########\n",
      "##### n=76 #####\n",
      "##### best_value=-0.009014274859799823 #####\n",
      "printing /Users/rodrse/Documents/DemandCalibration/notebooks/od_calibration_sumo_files/quickstart/data/iter_quickstart.current_od.xml\n",
      "### Runing: iter\n",
      "od2trips --no-step-log  --spread.uniform --taz-files /Users/rodrse/Documents/DemandCalibration/notebooks/od_calibration_sumo_files/quickstart/data/quickstart.taz.xml --tazrelation-files /Users/rodrse/Documents/DemandCalibration/notebooks/od_calibration_sumo_files/quickstart/data/iter_quickstart.current_od.xml -o /Users/rodrse/Documents/DemandCalibration/notebooks/od_calibration_sumo_files/quickstart/data/iter_od_trips.trips.xml \n",
      "Success.\n",
      "Loading net-file from '/Users/rodrse/Documents/DemandCalibration/notebooks/od_calibration_sumo_files/quickstart/data/quickstart.net.xml' ... done (6ms).\n",
      "Loading additional-files from '/Users/rodrse/Documents/DemandCalibration/notebooks/od_calibration_sumo_files/quickstart/data/quickstart.additional.xml' ... done (2ms).\n",
      "Loading done.\n",
      "Simulation version 1.16.0 started with time: 54000.00.\n"
     ]
    },
    {
     "name": "stderr",
     "output_type": "stream",
     "text": [
      "Warning: Teleporting vehicle '3057'; waited too long (wrong lane), lane='L14_0', time=57560.00.\n",
      "Warning: Vehicle '3057' ends teleporting on edge 'L16', time=57560.00.\n",
      "Warning: Teleporting vehicle '3094'; waited too long (jam), lane='L4_0', time=57568.00.\n",
      "Warning: Vehicle '3094' ends teleporting on edge 'L14', time=57568.00.\n"
     ]
    },
    {
     "name": "stdout",
     "output_type": "stream",
     "text": [
      "Step #57600.00 (10ms ~= 100.00*RT, ~90000.00UPS, vehicles TOT 3135 ACT 900 BUF 65)        \n",
      "Simulation ended at time: 57600.00\n",
      "Reason: The final simulation step has been reached.\n",
      "Performance: \n",
      " Duration: 25.37s\n",
      " Real time factor: 141.911\n",
      " UPS: 84120.584989\n",
      "Vehicles: \n",
      " Inserted: 3135 (Loaded: 3200)\n",
      " Running: 900\n",
      " Waiting: 65\n",
      " Teleports: 2 (Jam: 1, Wrong Lane: 1)\n",
      "Statistics (avg of 2235):\n",
      " RouteLength: 4252.18\n",
      " Speed: 10.97\n",
      " Duration: 554.09\n",
      " WaitingTime: 140.41\n",
      " TimeLoss: 246.30\n",
      " DepartDelay: 0.46\n",
      "\n",
      "DijkstraRouter answered 3201 queries and explored 9.46 edges on average.\n",
      "DijkstraRouter spent 0.02s answering queries (0.01ms on average).\n",
      "####### 53 ########\n",
      "##### n=77 #####\n",
      "##### best_value=-0.009014274859799823 #####\n",
      "printing /Users/rodrse/Documents/DemandCalibration/notebooks/od_calibration_sumo_files/quickstart/data/iter_quickstart.current_od.xml\n",
      "### Runing: iter\n",
      "od2trips --no-step-log  --spread.uniform --taz-files /Users/rodrse/Documents/DemandCalibration/notebooks/od_calibration_sumo_files/quickstart/data/quickstart.taz.xml --tazrelation-files /Users/rodrse/Documents/DemandCalibration/notebooks/od_calibration_sumo_files/quickstart/data/iter_quickstart.current_od.xml -o /Users/rodrse/Documents/DemandCalibration/notebooks/od_calibration_sumo_files/quickstart/data/iter_od_trips.trips.xml \n",
      "Success.\n",
      "Loading net-file from '/Users/rodrse/Documents/DemandCalibration/notebooks/od_calibration_sumo_files/quickstart/data/quickstart.net.xml' ... done (5ms).\n",
      "Loading additional-files from '/Users/rodrse/Documents/DemandCalibration/notebooks/od_calibration_sumo_files/quickstart/data/quickstart.additional.xml' ... done (1ms).\n",
      "Loading done.\n",
      "Simulation version 1.16.0 started with time: 54000.00.\n",
      "Step #57600.00 (5ms ~= 200.00*RT, ~117200.00UPS, vehicles TOT 2660 ACT 586 BUF 0)         \n",
      "Simulation ended at time: 57600.00\n",
      "Reason: The final simulation step has been reached.\n",
      "Performance: \n",
      " Duration: 12.15s\n",
      " Real time factor: 296.394\n",
      " UPS: 116099.209616\n",
      "Vehicles: \n",
      " Inserted: 2660\n",
      " Running: 586\n",
      " Waiting: 0\n",
      "Statistics (avg of 2074):\n",
      " RouteLength: 4388.49\n",
      " Speed: 11.45\n",
      " Duration: 463.65\n",
      " WaitingTime: 83.30\n",
      " TimeLoss: 145.30\n",
      " DepartDelay: 0.49\n",
      "\n",
      "DijkstraRouter answered 2660 queries and explored 9.95 edges on average.\n",
      "DijkstraRouter spent 0.01s answering queries (0.00ms on average).\n",
      "####### 54 ########\n",
      "##### n=78 #####\n",
      "##### best_value=-0.009014274859799823 #####\n",
      "printing /Users/rodrse/Documents/DemandCalibration/notebooks/od_calibration_sumo_files/quickstart/data/iter_quickstart.current_od.xml\n",
      "### Runing: iter\n",
      "od2trips --no-step-log  --spread.uniform --taz-files /Users/rodrse/Documents/DemandCalibration/notebooks/od_calibration_sumo_files/quickstart/data/quickstart.taz.xml --tazrelation-files /Users/rodrse/Documents/DemandCalibration/notebooks/od_calibration_sumo_files/quickstart/data/iter_quickstart.current_od.xml -o /Users/rodrse/Documents/DemandCalibration/notebooks/od_calibration_sumo_files/quickstart/data/iter_od_trips.trips.xml \n",
      "Success.\n",
      "Loading net-file from '/Users/rodrse/Documents/DemandCalibration/notebooks/od_calibration_sumo_files/quickstart/data/quickstart.net.xml' ... done (5ms).\n",
      "Loading additional-files from '/Users/rodrse/Documents/DemandCalibration/notebooks/od_calibration_sumo_files/quickstart/data/quickstart.additional.xml' ... done (1ms).\n",
      "Loading done.\n",
      "Simulation version 1.16.0 started with time: 54000.00.\n",
      "Step #57600.00 (9ms ~= 111.11*RT, ~85111.11UPS, vehicles TOT 2996 ACT 766 BUF 0)          \n",
      "Simulation ended at time: 57600.00\n",
      "Reason: The final simulation step has been reached.\n",
      "Performance: \n",
      " Duration: 18.12s\n",
      " Real time factor: 198.719\n",
      " UPS: 102396.113932\n",
      "Vehicles: \n",
      " Inserted: 2996\n",
      " Running: 766\n",
      " Waiting: 0\n",
      "Statistics (avg of 2230):\n",
      " RouteLength: 4440.95\n",
      " Speed: 11.72\n",
      " Duration: 448.92\n",
      " WaitingTime: 71.88\n",
      " TimeLoss: 126.64\n",
      " DepartDelay: 0.46\n",
      "\n",
      "DijkstraRouter answered 2996 queries and explored 10.48 edges on average.\n",
      "DijkstraRouter spent 0.01s answering queries (0.00ms on average).\n",
      "####### 55 ########\n",
      "##### n=79 #####\n",
      "##### best_value=-0.009014274859799823 #####\n",
      "printing /Users/rodrse/Documents/DemandCalibration/notebooks/od_calibration_sumo_files/quickstart/data/iter_quickstart.current_od.xml\n",
      "### Runing: iter\n",
      "od2trips --no-step-log  --spread.uniform --taz-files /Users/rodrse/Documents/DemandCalibration/notebooks/od_calibration_sumo_files/quickstart/data/quickstart.taz.xml --tazrelation-files /Users/rodrse/Documents/DemandCalibration/notebooks/od_calibration_sumo_files/quickstart/data/iter_quickstart.current_od.xml -o /Users/rodrse/Documents/DemandCalibration/notebooks/od_calibration_sumo_files/quickstart/data/iter_od_trips.trips.xml \n",
      "Success.\n",
      "Loading net-file from '/Users/rodrse/Documents/DemandCalibration/notebooks/od_calibration_sumo_files/quickstart/data/quickstart.net.xml' ... done (6ms).\n",
      "Loading additional-files from '/Users/rodrse/Documents/DemandCalibration/notebooks/od_calibration_sumo_files/quickstart/data/quickstart.additional.xml' ... done (1ms).\n",
      "Loading done.\n",
      "Simulation version 1.16.0 started with time: 54000.00.\n",
      "Step #57500.00 (6ms ~= 166.67*RT, ~107000.00UPS, vehicles TOT 2703 ACT 642 BUF 0)         \r"
     ]
    },
    {
     "name": "stderr",
     "output_type": "stream",
     "text": [
      "Warning: Teleporting vehicle '523'; waited too long (jam), lane='L12_0', time=57527.00.\n",
      "Warning: Vehicle '523' ends teleporting on edge 'L15', time=57527.00.\n",
      "Warning: Teleporting vehicle '491'; waited too long (jam), lane='L12_0', time=57528.00.\n",
      "Warning: Vehicle '491' ends teleporting on edge 'L15', time=57561.00.\n",
      "Warning: Teleporting vehicle '528'; waited too long (jam), lane='L12_0', time=57580.00.\n",
      "Warning: Teleporting vehicle '505'; waited too long (jam), lane='L12_0', time=57581.00.\n",
      "Warning: Teleporting vehicle '521'; waited too long (jam), lane='L12_0', time=57582.00.\n",
      "Warning: Teleporting vehicle '526'; waited too long (jam), lane='L12_0', time=57583.00.\n",
      "Warning: Vehicle '505' ends teleporting on edge 'L15', time=57594.00.\n"
     ]
    },
    {
     "name": "stdout",
     "output_type": "stream",
     "text": [
      "Step #57600.00 (7ms ~= 142.86*RT, ~92142.86UPS, vehicles TOT 2779 ACT 645 BUF 0)          \n",
      "Simulation ended at time: 57600.00\n",
      "Reason: The final simulation step has been reached.\n",
      "Performance: \n",
      " Duration: 14.48s\n",
      " Real time factor: 248.653\n",
      " UPS: 111020.237602\n",
      "Vehicles: \n",
      " Inserted: 2779\n",
      " Running: 645\n",
      " Waiting: 0\n",
      " Teleports: 6 (Jam: 6)\n",
      "Statistics (avg of 2134):\n",
      " RouteLength: 4243.69\n",
      " Speed: 11.78\n",
      " Duration: 453.80\n",
      " WaitingTime: 92.29\n",
      " TimeLoss: 146.41\n",
      " DepartDelay: 0.49\n",
      "\n",
      "DijkstraRouter answered 2779 queries and explored 9.34 edges on average.\n",
      "DijkstraRouter spent 0.01s answering queries (0.00ms on average).\n",
      "####### 56 ########\n",
      "##### n=80 #####\n",
      "##### best_value=-0.009014274859799823 #####\n",
      "printing /Users/rodrse/Documents/DemandCalibration/notebooks/od_calibration_sumo_files/quickstart/data/iter_quickstart.current_od.xml\n",
      "### Runing: iter\n",
      "od2trips --no-step-log  --spread.uniform --taz-files /Users/rodrse/Documents/DemandCalibration/notebooks/od_calibration_sumo_files/quickstart/data/quickstart.taz.xml --tazrelation-files /Users/rodrse/Documents/DemandCalibration/notebooks/od_calibration_sumo_files/quickstart/data/iter_quickstart.current_od.xml -o /Users/rodrse/Documents/DemandCalibration/notebooks/od_calibration_sumo_files/quickstart/data/iter_od_trips.trips.xml \n",
      "Success.\n",
      "Loading net-file from '/Users/rodrse/Documents/DemandCalibration/notebooks/od_calibration_sumo_files/quickstart/data/quickstart.net.xml' ... done (5ms).\n",
      "Loading additional-files from '/Users/rodrse/Documents/DemandCalibration/notebooks/od_calibration_sumo_files/quickstart/data/quickstart.additional.xml' ... done (1ms).\n",
      "Loading done.\n",
      "Simulation version 1.16.0 started with time: 54000.00.\n",
      "Step #57600.00 (6ms ~= 166.67*RT, ~100500.00UPS, vehicles TOT 2828 ACT 603 BUF 0)         \n",
      "Simulation ended at time: 57600.00\n",
      "Reason: The final simulation step has been reached.\n",
      "Performance: \n",
      " Duration: 13.78s\n",
      " Real time factor: 261.248\n",
      " UPS: 110444.194485\n",
      "Vehicles: \n",
      " Inserted: 2828\n",
      " Running: 603\n",
      " Waiting: 0\n",
      "Statistics (avg of 2225):\n",
      " RouteLength: 4434.40\n",
      " Speed: 12.03\n",
      " Duration: 427.01\n",
      " WaitingTime: 64.36\n",
      " TimeLoss: 105.25\n",
      " DepartDelay: 0.49\n",
      "\n",
      "DijkstraRouter answered 2828 queries and explored 10.30 edges on average.\n",
      "DijkstraRouter spent 0.01s answering queries (0.00ms on average).\n",
      "####### 57 ########\n",
      "##### n=81 #####\n",
      "##### best_value=-0.009014274859799823 #####\n",
      "printing /Users/rodrse/Documents/DemandCalibration/notebooks/od_calibration_sumo_files/quickstart/data/iter_quickstart.current_od.xml\n",
      "### Runing: iter\n",
      "od2trips --no-step-log  --spread.uniform --taz-files /Users/rodrse/Documents/DemandCalibration/notebooks/od_calibration_sumo_files/quickstart/data/quickstart.taz.xml --tazrelation-files /Users/rodrse/Documents/DemandCalibration/notebooks/od_calibration_sumo_files/quickstart/data/iter_quickstart.current_od.xml -o /Users/rodrse/Documents/DemandCalibration/notebooks/od_calibration_sumo_files/quickstart/data/iter_od_trips.trips.xml \n",
      "Success.\n",
      "Loading net-file from '/Users/rodrse/Documents/DemandCalibration/notebooks/od_calibration_sumo_files/quickstart/data/quickstart.net.xml' ... done (6ms).\n",
      "Loading additional-files from '/Users/rodrse/Documents/DemandCalibration/notebooks/od_calibration_sumo_files/quickstart/data/quickstart.additional.xml' ... done (1ms).\n",
      "Loading done.\n",
      "Simulation version 1.16.0 started with time: 54000.00.\n",
      "Step #57600.00 (9ms ~= 111.11*RT, ~88111.11UPS, vehicles TOT 2886 ACT 793 BUF 35)         \n",
      "Simulation ended at time: 57600.00\n",
      "Reason: The final simulation step has been reached.\n",
      "Performance: \n",
      " Duration: 19.75s\n",
      " Real time factor: 182.269\n",
      " UPS: 99898.131740\n",
      "Vehicles: \n",
      " Inserted: 2886 (Loaded: 2921)\n",
      " Running: 793\n",
      " Waiting: 35\n",
      "Statistics (avg of 2093):\n",
      " RouteLength: 4278.99\n",
      " Speed: 10.75\n",
      " Duration: 588.83\n",
      " WaitingTime: 162.90\n",
      " TimeLoss: 279.02\n",
      " DepartDelay: 0.49\n",
      "\n",
      "DijkstraRouter answered 2952 queries and explored 9.58 edges on average.\n",
      "DijkstraRouter spent 0.02s answering queries (0.01ms on average).\n",
      "####### 58 ########\n",
      "##### n=82 #####\n",
      "##### best_value=-0.009014274859799823 #####\n",
      "printing /Users/rodrse/Documents/DemandCalibration/notebooks/od_calibration_sumo_files/quickstart/data/iter_quickstart.current_od.xml\n",
      "### Runing: iter\n",
      "od2trips --no-step-log  --spread.uniform --taz-files /Users/rodrse/Documents/DemandCalibration/notebooks/od_calibration_sumo_files/quickstart/data/quickstart.taz.xml --tazrelation-files /Users/rodrse/Documents/DemandCalibration/notebooks/od_calibration_sumo_files/quickstart/data/iter_quickstart.current_od.xml -o /Users/rodrse/Documents/DemandCalibration/notebooks/od_calibration_sumo_files/quickstart/data/iter_od_trips.trips.xml \n",
      "Success.\n",
      "Loading net-file from '/Users/rodrse/Documents/DemandCalibration/notebooks/od_calibration_sumo_files/quickstart/data/quickstart.net.xml' ... done (6ms).\n",
      "Loading additional-files from '/Users/rodrse/Documents/DemandCalibration/notebooks/od_calibration_sumo_files/quickstart/data/quickstart.additional.xml' ... done (1ms).\n",
      "Loading done.\n",
      "Simulation version 1.16.0 started with time: 54000.00.\n",
      "Step #57600.00 (4ms ~= 250.00*RT, ~131750.00UPS, vehicles TOT 2522 ACT 527 BUF 0)         \n",
      "Simulation ended at time: 57600.00\n",
      "Reason: The final simulation step has been reached.\n",
      "Performance: \n",
      " Duration: 10.88s\n",
      " Real time factor: 330.852\n",
      " UPS: 116651.226909\n",
      "Vehicles: \n",
      " Inserted: 2522\n",
      " Running: 527\n",
      " Waiting: 0\n",
      "Statistics (avg of 1995):\n",
      " RouteLength: 4340.51\n",
      " Speed: 12.57\n",
      " Duration: 405.56\n",
      " WaitingTime: 60.88\n",
      " TimeLoss: 90.76\n",
      " DepartDelay: 0.50\n",
      "\n",
      "DijkstraRouter answered 2522 queries and explored 10.31 edges on average.\n",
      "DijkstraRouter spent 0.02s answering queries (0.01ms on average).\n",
      "####### 59 ########\n",
      "##### n=83 #####\n",
      "##### best_value=-0.009014274859799823 #####\n",
      "printing /Users/rodrse/Documents/DemandCalibration/notebooks/od_calibration_sumo_files/quickstart/data/iter_quickstart.current_od.xml\n",
      "### Runing: iter\n",
      "od2trips --no-step-log  --spread.uniform --taz-files /Users/rodrse/Documents/DemandCalibration/notebooks/od_calibration_sumo_files/quickstart/data/quickstart.taz.xml --tazrelation-files /Users/rodrse/Documents/DemandCalibration/notebooks/od_calibration_sumo_files/quickstart/data/iter_quickstart.current_od.xml -o /Users/rodrse/Documents/DemandCalibration/notebooks/od_calibration_sumo_files/quickstart/data/iter_od_trips.trips.xml \n",
      "Success.\n",
      "Loading net-file from '/Users/rodrse/Documents/DemandCalibration/notebooks/od_calibration_sumo_files/quickstart/data/quickstart.net.xml' ... done (5ms).\n",
      "Loading additional-files from '/Users/rodrse/Documents/DemandCalibration/notebooks/od_calibration_sumo_files/quickstart/data/quickstart.additional.xml' ... done (1ms).\n",
      "Loading done.\n",
      "Simulation version 1.16.0 started with time: 54000.00.\n",
      "Step #57600.00 (8ms ~= 125.00*RT, ~87625.00UPS, vehicles TOT 2875 ACT 701 BUF 0)          \n",
      "Simulation ended at time: 57600.00\n",
      "Reason: The final simulation step has been reached.\n",
      "Performance: \n",
      " Duration: 17.12s\n",
      " Real time factor: 210.342\n",
      " UPS: 104557.697926\n",
      "Vehicles: \n",
      " Inserted: 2875\n",
      " Running: 701\n",
      " Waiting: 0\n",
      "Statistics (avg of 2174):\n",
      " RouteLength: 4358.56\n",
      " Speed: 11.16\n",
      " Duration: 484.24\n",
      " WaitingTime: 89.64\n",
      " TimeLoss: 168.57\n",
      " DepartDelay: 0.50\n",
      "\n",
      "DijkstraRouter answered 2875 queries and explored 9.89 edges on average.\n",
      "DijkstraRouter spent 0.02s answering queries (0.01ms on average).\n",
      "####### 60 ########\n",
      "##### n=84 #####\n",
      "##### best_value=-0.009014274859799823 #####\n",
      "printing /Users/rodrse/Documents/DemandCalibration/notebooks/od_calibration_sumo_files/quickstart/data/iter_quickstart.current_od.xml\n",
      "### Runing: iter\n",
      "od2trips --no-step-log  --spread.uniform --taz-files /Users/rodrse/Documents/DemandCalibration/notebooks/od_calibration_sumo_files/quickstart/data/quickstart.taz.xml --tazrelation-files /Users/rodrse/Documents/DemandCalibration/notebooks/od_calibration_sumo_files/quickstart/data/iter_quickstart.current_od.xml -o /Users/rodrse/Documents/DemandCalibration/notebooks/od_calibration_sumo_files/quickstart/data/iter_od_trips.trips.xml \n",
      "Success.\n",
      "Loading net-file from '/Users/rodrse/Documents/DemandCalibration/notebooks/od_calibration_sumo_files/quickstart/data/quickstart.net.xml' ... done (6ms).\n",
      "Loading additional-files from '/Users/rodrse/Documents/DemandCalibration/notebooks/od_calibration_sumo_files/quickstart/data/quickstart.additional.xml' ... done (1ms).\n",
      "Loading done.\n",
      "Simulation version 1.16.0 started with time: 54000.00.\n",
      "Step #56700.00 (8ms ~= 125.00*RT, ~102500.00UPS, vehicles TOT 2449 ACT 820 BUF 69)        \r"
     ]
    },
    {
     "name": "stderr",
     "output_type": "stream",
     "text": [
      "Warning: Teleporting vehicle '602'; waited too long (wrong lane), lane='L12_2', time=56760.00.\n",
      "Warning: Teleporting vehicle '603'; waited too long (wrong lane), lane='L12_2', time=56761.00.\n"
     ]
    },
    {
     "name": "stdout",
     "output_type": "stream",
     "text": [
      "Step #56800.00 (9ms ~= 111.11*RT, ~93666.67UPS, vehicles TOT 2528 ACT 843 BUF 84)         \r"
     ]
    },
    {
     "name": "stderr",
     "output_type": "stream",
     "text": [
      "Warning: Vehicle '602' ends teleporting on edge 'L15', time=56802.00.\n",
      "Warning: Teleporting vehicle '607'; waited too long (wrong lane), lane='L12_2', time=56824.00.\n",
      "Warning: Vehicle '603' ends teleporting on edge 'L15', time=56853.00.\n",
      "Warning: Teleporting vehicle '469'; waited too long (jam), lane=':1_3_1', time=56873.00.\n",
      "Warning: Vehicle '469' ends teleporting on edge 'L12', time=56873.00.\n",
      "Warning: Vehicle '607' ends teleporting on edge 'L15', time=56890.00.\n"
     ]
    },
    {
     "name": "stdout",
     "output_type": "stream",
     "text": [
      "Step #56900.00 (8ms ~= 125.00*RT, ~108000.00UPS, vehicles TOT 2608 ACT 864 BUF 98)        \r"
     ]
    },
    {
     "name": "stderr",
     "output_type": "stream",
     "text": [
      "Warning: Teleporting vehicle '612'; waited too long (wrong lane), lane='L12_2', time=56967.00.\n",
      "Warning: Teleporting vehicle '613'; waited too long (wrong lane), lane='L12_2', time=56968.00.\n"
     ]
    },
    {
     "name": "stdout",
     "output_type": "stream",
     "text": [
      "Step #57000.00 (9ms ~= 111.11*RT, ~98000.00UPS, vehicles TOT 2687 ACT 882 BUF 111)        \r"
     ]
    },
    {
     "name": "stderr",
     "output_type": "stream",
     "text": [
      "Warning: Teleporting vehicle '614'; waited too long (wrong lane), lane='L12_2', time=57000.00.\n",
      "Warning: Vehicle '612' ends teleporting on edge 'L15', time=57014.00.\n",
      "Warning: Teleporting vehicle '617'; waited too long (wrong lane), lane='L12_2', time=57039.00.\n",
      "Warning: Teleporting vehicle '618'; waited too long (wrong lane), lane='L12_2', time=57040.00.\n",
      "Warning: Vehicle '613' ends teleporting on edge 'L15', time=57057.00.\n",
      "Warning: Teleporting vehicle '677'; waited too long (jam), lane=':1_3_2', time=57067.00.\n",
      "Warning: Vehicle '677' ends teleporting on edge 'L12', time=57067.00.\n",
      "Warning: Teleporting vehicle '678'; waited too long (jam), lane='L2_1', time=57082.00.\n",
      "Warning: Vehicle '678' ends teleporting on edge 'L12', time=57082.00.\n",
      "Warning: Teleporting vehicle '679'; waited too long (jam), lane='L2_1', time=57083.00.\n",
      "Warning: Vehicle '679' ends teleporting on edge 'L12', time=57083.00.\n",
      "Warning: Teleporting vehicle '680'; waited too long (jam), lane='L2_1', time=57090.00.\n",
      "Warning: Vehicle '680' ends teleporting on edge 'L12', time=57090.00.\n",
      "Warning: Teleporting vehicle '681'; waited too long (jam), lane='L2_1', time=57091.00.\n",
      "Warning: Vehicle '681' ends teleporting on edge 'L12', time=57091.00.\n"
     ]
    },
    {
     "name": "stdout",
     "output_type": "stream",
     "text": [
      "Step #57100.00 (9ms ~= 111.11*RT, ~100666.67UPS, vehicles TOT 2766 ACT 906 BUF 125)       \r"
     ]
    },
    {
     "name": "stderr",
     "output_type": "stream",
     "text": [
      "Warning: Vehicle '614' ends teleporting on edge 'L15', time=57117.00.\n",
      "Warning: Vehicle '617' ends teleporting on edge 'L15', time=57151.00.\n",
      "Warning: Teleporting vehicle '622'; waited too long (wrong lane), lane='L12_2', time=57158.00.\n",
      "Warning: Teleporting vehicle '470'; waited too long (jam), lane=':1_3_1', time=57178.00.\n",
      "Warning: Vehicle '470' ends teleporting on edge 'L12', time=57178.00.\n",
      "Warning: Teleporting vehicle '625'; waited too long (wrong lane), lane='L12_2', time=57197.00.\n"
     ]
    },
    {
     "name": "stdout",
     "output_type": "stream",
     "text": [
      "Step #57200.00 (9ms ~= 111.11*RT, ~101333.33UPS, vehicles TOT 2831 ACT 912 BUF 155)       \r"
     ]
    },
    {
     "name": "stderr",
     "output_type": "stream",
     "text": [
      "Warning: Vehicle '618' ends teleporting on edge 'L15', time=57218.00.\n",
      "Warning: Teleporting vehicle '627'; waited too long (wrong lane), lane='L12_2', time=57258.00.\n",
      "Warning: Teleporting vehicle '720'; waited too long (jam), lane='D2_1', time=57258.00.\n",
      "Warning: Vehicle '720' ends teleporting on edge 'L2', time=57258.00.\n",
      "Warning: Teleporting vehicle '537'; waited too long (jam), lane='D2_0', time=57265.00.\n",
      "Warning: Vehicle '537' ends teleporting on edge 'L2', time=57265.00.\n",
      "Warning: Vehicle '622' ends teleporting on edge 'L15', time=57279.00.\n"
     ]
    },
    {
     "name": "stdout",
     "output_type": "stream",
     "text": [
      "Step #57300.00 (10ms ~= 100.00*RT, ~90400.00UPS, vehicles TOT 2881 ACT 904 BUF 197)       \r"
     ]
    },
    {
     "name": "stderr",
     "output_type": "stream",
     "text": [
      "Warning: Teleporting vehicle '629'; waited too long (wrong lane), lane='L12_2', time=57303.00.\n",
      "Warning: Vehicle '625' ends teleporting on edge 'L15', time=57306.00.\n",
      "Warning: Vehicle '627' ends teleporting on edge 'L15', time=57310.00.\n",
      "Warning: Vehicle '629' ends teleporting on edge 'L15', time=57321.00.\n",
      "Warning: Teleporting vehicle '635'; waited too long (wrong lane), lane='L12_2', time=57373.00.\n",
      "Warning: Vehicle '635' ends teleporting on edge 'L15', time=57378.00.\n",
      "Warning: Teleporting vehicle '1366'; waited too long (jam), lane=':1_3_2', time=57394.00.\n"
     ]
    },
    {
     "name": "stdout",
     "output_type": "stream",
     "text": [
      "Step #57400.00 (11ms ~= 90.91*RT, ~81818.18UPS, vehicles TOT 2931 ACT 900 BUF 239)        \r"
     ]
    },
    {
     "name": "stderr",
     "output_type": "stream",
     "text": [
      "Warning: Vehicle '1366' ends teleporting on edge 'L12', time=57471.00.\n",
      "Warning: Teleporting vehicle '640'; waited too long (wrong lane), lane='L12_2', time=57479.00.\n",
      "Warning: Teleporting vehicle '471'; waited too long (jam), lane=':1_3_1', time=57485.00.\n",
      "Warning: Vehicle '471' ends teleporting on edge 'L12', time=57485.00.\n"
     ]
    },
    {
     "name": "stdout",
     "output_type": "stream",
     "text": [
      "Step #57500.00 (10ms ~= 100.00*RT, ~90000.00UPS, vehicles TOT 2983 ACT 900 BUF 282)       \r"
     ]
    },
    {
     "name": "stderr",
     "output_type": "stream",
     "text": [
      "Warning: Vehicle '640' ends teleporting on edge 'L15', time=57520.00.\n",
      "Warning: Teleporting vehicle '1390'; waited too long (jam), lane='D2_1', time=57564.00.\n",
      "Warning: Vehicle '1390' ends teleporting on edge 'L2', time=57564.00.\n",
      "Warning: Teleporting vehicle '538'; waited too long (jam), lane='D2_0', time=57571.00.\n",
      "Warning: Vehicle '538' ends teleporting on edge 'L2', time=57571.00.\n"
     ]
    },
    {
     "name": "stdout",
     "output_type": "stream",
     "text": [
      "Step #57600.00 (9ms ~= 111.11*RT, ~97555.56UPS, vehicles TOT 3033 ACT 878 BUF 325)        \n",
      "Simulation ended at time: 57600.00\n",
      "Reason: The final simulation step has been reached.\n",
      "Performance: \n",
      " Duration: 22.93s\n",
      " Real time factor: 157.02\n",
      " UPS: 101520.434422\n",
      "Vehicles: \n",
      " Inserted: 3033 (Loaded: 3358)\n",
      " Running: 878\n",
      " Waiting: 325\n",
      " Teleports: 27 (Jam: 13, Wrong Lane: 14)\n",
      "Statistics (avg of 2155):\n",
      " RouteLength: 4444.48\n",
      " Speed: 11.53\n",
      " Duration: 473.81\n",
      " WaitingTime: 87.07\n",
      " TimeLoss: 151.28\n",
      " DepartDelay: 0.65\n",
      "\n",
      "DijkstraRouter answered 3562 queries and explored 10.62 edges on average.\n",
      "DijkstraRouter spent 0.01s answering queries (0.00ms on average).\n",
      "####### 61 ########\n",
      "##### n=85 #####\n",
      "##### best_value=-0.0037448734110968763 #####\n",
      "printing /Users/rodrse/Documents/DemandCalibration/notebooks/od_calibration_sumo_files/quickstart/data/iter_quickstart.current_od.xml\n",
      "### Runing: iter\n",
      "od2trips --no-step-log  --spread.uniform --taz-files /Users/rodrse/Documents/DemandCalibration/notebooks/od_calibration_sumo_files/quickstart/data/quickstart.taz.xml --tazrelation-files /Users/rodrse/Documents/DemandCalibration/notebooks/od_calibration_sumo_files/quickstart/data/iter_quickstart.current_od.xml -o /Users/rodrse/Documents/DemandCalibration/notebooks/od_calibration_sumo_files/quickstart/data/iter_od_trips.trips.xml \n",
      "Success.\n",
      "Loading net-file from '/Users/rodrse/Documents/DemandCalibration/notebooks/od_calibration_sumo_files/quickstart/data/quickstart.net.xml' ... done (6ms).\n",
      "Loading additional-files from '/Users/rodrse/Documents/DemandCalibration/notebooks/od_calibration_sumo_files/quickstart/data/quickstart.additional.xml' ... done (1ms).\n",
      "Loading done.\n",
      "Simulation version 1.16.0 started with time: 54000.00.\n",
      "Step #56800.00 (8ms ~= 125.00*RT, ~103750.00UPS, vehicles TOT 2430 ACT 830 BUF 0)         \r"
     ]
    },
    {
     "name": "stderr",
     "output_type": "stream",
     "text": [
      "Warning: Teleporting vehicle '596'; waited too long (wrong lane), lane='L12_2', time=56865.00.\n"
     ]
    },
    {
     "name": "stdout",
     "output_type": "stream",
     "text": [
      "Step #56900.00 (9ms ~= 111.11*RT, ~95888.89UPS, vehicles TOT 2518 ACT 863 BUF 0)          \r"
     ]
    },
    {
     "name": "stderr",
     "output_type": "stream",
     "text": [
      "Warning: Vehicle '596' ends teleporting on edge 'L15', time=56936.00.\n",
      "Warning: Teleporting vehicle '468'; waited too long (jam), lane='L2_0', time=56949.00.\n",
      "Warning: Vehicle '468' ends teleporting on edge 'L12', time=56949.00.\n"
     ]
    },
    {
     "name": "stdout",
     "output_type": "stream",
     "text": [
      "Step #57000.00 (10ms ~= 100.00*RT, ~90000.00UPS, vehicles TOT 2605 ACT 900 BUF 0)         \r"
     ]
    },
    {
     "name": "stderr",
     "output_type": "stream",
     "text": [
      "Warning: Teleporting vehicle '604'; waited too long (wrong lane), lane='L12_2', time=57038.00.\n",
      "Warning: Vehicle '604' ends teleporting on edge 'L15', time=57065.00.\n",
      "Warning: Teleporting vehicle '606'; waited too long (wrong lane), lane='L12_2', time=57067.00.\n"
     ]
    },
    {
     "name": "stdout",
     "output_type": "stream",
     "text": [
      "Step #57100.00 (8ms ~= 125.00*RT, ~114500.00UPS, vehicles TOT 2678 ACT 916 BUF 14)        \r"
     ]
    },
    {
     "name": "stderr",
     "output_type": "stream",
     "text": [
      "Warning: Teleporting vehicle '1289'; waited too long (jam), lane='L2_1', time=57110.00.\n",
      "Warning: Vehicle '1289' ends teleporting on edge 'L12', time=57110.00.\n",
      "Warning: Vehicle '606' ends teleporting on edge 'L15', time=57113.00.\n",
      "Warning: Teleporting vehicle '611'; waited too long (wrong lane), lane='L12_2', time=57174.00.\n",
      "Warning: Vehicle '611' ends teleporting on edge 'L15', time=57198.00.\n",
      "Warning: Teleporting vehicle '613'; waited too long (wrong lane), lane='L12_2', time=57206.00.\n"
     ]
    },
    {
     "name": "stdout",
     "output_type": "stream",
     "text": [
      "Step #57200.00 (10ms ~= 100.00*RT, ~90800.00UPS, vehicles TOT 2724 ACT 908 BUF 53)        \r"
     ]
    },
    {
     "name": "stderr",
     "output_type": "stream",
     "text": [
      "Warning: Teleporting vehicle '1316'; waited too long (jam), lane='D2_1', time=57247.00.\n",
      "Warning: Teleporting vehicle '716'; waited too long (jam), lane='D2_1', time=57248.00.\n",
      "Warning: Vehicle '613' ends teleporting on edge 'L15', time=57267.00.\n"
     ]
    },
    {
     "name": "stdout",
     "output_type": "stream",
     "text": [
      "Step #57300.00 (9ms ~= 111.11*RT, ~100000.00UPS, vehicles TOT 2772 ACT 900 BUF 93)        \r"
     ]
    },
    {
     "name": "stderr",
     "output_type": "stream",
     "text": [
      "Warning: Teleporting vehicle '470'; waited too long (jam), lane='L2_0', time=57315.00.\n",
      "Warning: Vehicle '470' ends teleporting on edge 'L12', time=57315.00.\n",
      "Warning: Vehicle '1316' ends teleporting on edge 'L2', time=57316.00.\n",
      "Warning: Teleporting vehicle '535'; waited too long (jam), lane='D2_0', time=57340.00.\n",
      "Warning: Teleporting vehicle '616'; waited too long (wrong lane), lane='L12_2', time=57374.00.\n",
      "Warning: Vehicle '616' ends teleporting on edge 'L15', time=57374.00.\n"
     ]
    },
    {
     "name": "stdout",
     "output_type": "stream",
     "text": [
      "Step #57400.00 (12ms ~= 83.33*RT, ~73500.00UPS, vehicles TOT 2819 ACT 882 BUF 133)        \r"
     ]
    },
    {
     "name": "stderr",
     "output_type": "stream",
     "text": [
      "Warning: Vehicle '535' ends teleporting on edge 'L2', time=57410.00.\n",
      "Warning: Vehicle '716' ends teleporting on edge 'L2', time=57412.00.\n"
     ]
    },
    {
     "name": "stdout",
     "output_type": "stream",
     "text": [
      "Step #57500.00 (9ms ~= 111.11*RT, ~98111.11UPS, vehicles TOT 2867 ACT 883 BUF 171)        \r"
     ]
    },
    {
     "name": "stderr",
     "output_type": "stream",
     "text": [
      "Warning: Teleporting vehicle '1317'; waited too long (jam), lane='D2_1', time=57555.00.\n",
      "Warning: Vehicle '1317' ends teleporting on edge 'L2', time=57555.00.\n"
     ]
    },
    {
     "name": "stdout",
     "output_type": "stream",
     "text": [
      "Step #57600.00 (8ms ~= 125.00*RT, ~110000.00UPS, vehicles TOT 2914 ACT 880 BUF 211)       \n",
      "Simulation ended at time: 57600.00\n",
      "Reason: The final simulation step has been reached.\n",
      "Performance: \n",
      " Duration: 21.27s\n",
      " Real time factor: 169.276\n",
      " UPS: 103754.549302\n",
      "Vehicles: \n",
      " Inserted: 2914 (Loaded: 3125)\n",
      " Running: 880\n",
      " Waiting: 211\n",
      " Teleports: 13 (Jam: 7, Wrong Lane: 6)\n",
      "Statistics (avg of 2034):\n",
      " RouteLength: 4469.68\n",
      " Speed: 11.66\n",
      " Duration: 470.73\n",
      " WaitingTime: 88.55\n",
      " TimeLoss: 147.47\n",
      " DepartDelay: 0.50\n",
      "\n",
      "DijkstraRouter answered 3125 queries and explored 10.70 edges on average.\n",
      "DijkstraRouter spent 0.01s answering queries (0.00ms on average).\n",
      "####### 62 ########\n",
      "##### n=86 #####\n",
      "##### best_value=-0.0037448734110968763 #####\n",
      "printing /Users/rodrse/Documents/DemandCalibration/notebooks/od_calibration_sumo_files/quickstart/data/iter_quickstart.current_od.xml\n",
      "### Runing: iter\n",
      "od2trips --no-step-log  --spread.uniform --taz-files /Users/rodrse/Documents/DemandCalibration/notebooks/od_calibration_sumo_files/quickstart/data/quickstart.taz.xml --tazrelation-files /Users/rodrse/Documents/DemandCalibration/notebooks/od_calibration_sumo_files/quickstart/data/iter_quickstart.current_od.xml -o /Users/rodrse/Documents/DemandCalibration/notebooks/od_calibration_sumo_files/quickstart/data/iter_od_trips.trips.xml \n",
      "Success.\n",
      "Loading net-file from '/Users/rodrse/Documents/DemandCalibration/notebooks/od_calibration_sumo_files/quickstart/data/quickstart.net.xml' ... done (6ms).\n",
      "Loading additional-files from '/Users/rodrse/Documents/DemandCalibration/notebooks/od_calibration_sumo_files/quickstart/data/quickstart.additional.xml' ... done (1ms).\n",
      "Loading done.\n",
      "Simulation version 1.16.0 started with time: 54000.00.\n",
      "Step #56500.00 (9ms ~= 111.11*RT, ~95555.56UPS, vehicles TOT 2395 ACT 860 BUF 0)          \r"
     ]
    },
    {
     "name": "stderr",
     "output_type": "stream",
     "text": [
      "Warning: Teleporting vehicle '590'; waited too long (wrong lane), lane='L12_2', time=56577.00.\n",
      "Warning: Vehicle '590' ends teleporting on edge 'L15', time=56577.00.\n"
     ]
    },
    {
     "name": "stdout",
     "output_type": "stream",
     "text": [
      "Step #56700.00 (10ms ~= 100.00*RT, ~93200.00UPS, vehicles TOT 2589 ACT 932 BUF 0)         \r"
     ]
    },
    {
     "name": "stderr",
     "output_type": "stream",
     "text": [
      "Warning: Teleporting vehicle '599'; waited too long (wrong lane), lane='L12_2', time=56733.00.\n",
      "Warning: Vehicle '599' ends teleporting on edge 'L15', time=56733.00.\n",
      "Warning: Teleporting vehicle '600'; waited too long (wrong lane), lane='L12_2', time=56761.00.\n",
      "Warning: Vehicle '600' ends teleporting on edge 'L15', time=56775.00.\n",
      "Warning: Teleporting vehicle '670'; waited too long (jam), lane=':1_3_2', time=56798.00.\n",
      "Warning: Vehicle '670' ends teleporting on edge 'L12', time=56798.00.\n",
      "Warning: Teleporting vehicle '671'; waited too long (jam), lane='L2_1', time=56800.00.\n",
      "Warning: Vehicle '671' ends teleporting on edge 'L12', time=56800.00.\n",
      "Warning: Teleporting vehicle '673'; waited too long (jam), lane='L2_1', time=56808.00.\n",
      "Warning: Vehicle '673' ends teleporting on edge 'L12', time=56808.00.\n"
     ]
    },
    {
     "name": "stdout",
     "output_type": "stream",
     "text": [
      "Step #56800.00 (9ms ~= 111.11*RT, ~104555.56UPS, vehicles TOT 2660 ACT 941 BUF 24)        \r"
     ]
    },
    {
     "name": "stderr",
     "output_type": "stream",
     "text": [
      "Warning: Teleporting vehicle '467'; waited too long (jam), lane=':1_3_1', time=56826.00.\n",
      "Warning: Vehicle '467' ends teleporting on edge 'L12', time=56826.00.\n",
      "Warning: Teleporting vehicle '602'; waited too long (wrong lane), lane='L12_2', time=56841.00.\n",
      "Warning: Vehicle '602' ends teleporting on edge 'L15', time=56841.00.\n"
     ]
    },
    {
     "name": "stdout",
     "output_type": "stream",
     "text": [
      "Step #56900.00 (9ms ~= 111.11*RT, ~104111.11UPS, vehicles TOT 2714 ACT 937 BUF 67)        \r"
     ]
    },
    {
     "name": "stderr",
     "output_type": "stream",
     "text": [
      "Warning: Teleporting vehicle '533'; waited too long (jam), lane='D2_0', time=56907.00.\n",
      "Warning: Teleporting vehicle '604'; waited too long (wrong lane), lane='L12_2', time=56915.00.\n",
      "Warning: Teleporting vehicle '718'; waited too long (jam), lane='D2_1', time=56930.00.\n",
      "Warning: Vehicle '604' ends teleporting on edge 'L15', time=56985.00.\n"
     ]
    },
    {
     "name": "stdout",
     "output_type": "stream",
     "text": [
      "Step #57000.00 (10ms ~= 100.00*RT, ~92700.00UPS, vehicles TOT 2767 ACT 927 BUF 108)       \r"
     ]
    },
    {
     "name": "stderr",
     "output_type": "stream",
     "text": [
      "Warning: Teleporting vehicle '608'; waited too long (wrong lane), lane='L12_2', time=57032.00.\n",
      "Warning: Vehicle '608' ends teleporting on edge 'L15', time=57060.00.\n",
      "Warning: Teleporting vehicle '611'; waited too long (wrong lane), lane='L12_2', time=57099.00.\n",
      "Warning: Teleporting vehicle '1355'; waited too long (jam), lane=':1_3_2', time=57108.00.\n",
      "Warning: Vehicle '1355' ends teleporting on edge 'L12', time=57108.00.\n",
      "Warning: Teleporting vehicle '674'; waited too long (jam), lane='L2_1', time=57112.00.\n",
      "Warning: Vehicle '674' ends teleporting on edge 'L12', time=57112.00.\n"
     ]
    },
    {
     "name": "stdout",
     "output_type": "stream",
     "text": [
      "Step #57100.00 (10ms ~= 100.00*RT, ~92300.00UPS, vehicles TOT 2821 ACT 923 BUF 151)       \r"
     ]
    },
    {
     "name": "stderr",
     "output_type": "stream",
     "text": [
      "Warning: Vehicle '611' ends teleporting on edge 'L15', time=57125.00.\n",
      "Warning: Teleporting vehicle '466'; waited too long (jam), lane=':1_3_1', time=57131.00.\n",
      "Warning: Vehicle '466' ends teleporting on edge 'L12', time=57131.00.\n",
      "Warning: Teleporting vehicle '615'; waited too long (wrong lane), lane='L12_2', time=57168.00.\n",
      "Warning: Vehicle '615' ends teleporting on edge 'L15', time=57181.00.\n"
     ]
    },
    {
     "name": "stdout",
     "output_type": "stream",
     "text": [
      "Step #57200.00 (10ms ~= 100.00*RT, ~91900.00UPS, vehicles TOT 2875 ACT 919 BUF 193)       \r"
     ]
    },
    {
     "name": "stderr",
     "output_type": "stream",
     "text": [
      "Warning: Teleporting vehicle '534'; waited too long (jam), lane='D2_0', time=57213.00.\n",
      "Warning: Teleporting vehicle '1380'; waited too long (jam), lane='D2_1', time=57235.00.\n"
     ]
    },
    {
     "name": "stdout",
     "output_type": "stream",
     "text": [
      "Step #57400.00 (10ms ~= 100.00*RT, ~91100.00UPS, vehicles TOT 2981 ACT 911 BUF 278)       \r"
     ]
    },
    {
     "name": "stderr",
     "output_type": "stream",
     "text": [
      "Warning: Vehicle '533' ends teleporting on edge 'L12', time=57407.00.\n",
      "Warning: Teleporting vehicle '1356'; waited too long (jam), lane=':1_3_2', time=57414.00.\n",
      "Warning: Vehicle '1356' ends teleporting on edge 'L12', time=57414.00.\n",
      "Warning: Teleporting vehicle '676'; waited too long (jam), lane='L2_1', time=57418.00.\n",
      "Warning: Vehicle '676' ends teleporting on edge 'L12', time=57418.00.\n",
      "Warning: Vehicle '718' ends teleporting on edge 'L12', time=57430.00.\n",
      "Warning: Teleporting vehicle '468'; waited too long (jam), lane=':1_3_1', time=57436.00.\n",
      "Warning: Vehicle '468' ends teleporting on edge 'L12', time=57436.00.\n",
      "Warning: Teleporting vehicle '619'; waited too long (wrong lane), lane='L12_2', time=57449.00.\n",
      "Warning: Teleporting vehicle '620'; waited too long (wrong lane), lane='L12_2', time=57450.00.\n",
      "Warning: Vehicle '534' ends teleporting on edge 'L2', time=57450.00.\n",
      "Warning: Vehicle '619' ends teleporting on edge 'L15', time=57450.00.\n",
      "Warning: Vehicle '620' ends teleporting on edge 'L15', time=57490.00.\n"
     ]
    },
    {
     "name": "stdout",
     "output_type": "stream",
     "text": [
      "Step #57500.00 (10ms ~= 100.00*RT, ~90300.00UPS, vehicles TOT 3034 ACT 903 BUF 320)       \r"
     ]
    },
    {
     "name": "stderr",
     "output_type": "stream",
     "text": [
      "Warning: Teleporting vehicle '535'; waited too long (jam), lane='D2_0', time=57519.00.\n",
      "Warning: Teleporting vehicle '720'; waited too long (jam), lane='D2_1', time=57527.00.\n",
      "Warning: Teleporting vehicle '626'; waited too long (wrong lane), lane='L12_2', time=57589.00.\n"
     ]
    },
    {
     "name": "stdout",
     "output_type": "stream",
     "text": [
      "Step #57600.00 (10ms ~= 100.00*RT, ~89300.00UPS, vehicles TOT 3088 ACT 893 BUF 363)       \n",
      "Simulation ended at time: 57600.00\n",
      "Reason: The final simulation step has been reached.\n",
      "Performance: \n",
      " Duration: 23.74s\n",
      " Real time factor: 151.668\n",
      " UPS: 100551.693630\n",
      "Vehicles: \n",
      " Inserted: 3088 (Loaded: 3451)\n",
      " Running: 893\n",
      " Waiting: 363\n",
      " Teleports: 27 (Jam: 16, Wrong Lane: 11)\n",
      "Statistics (avg of 2195):\n",
      " RouteLength: 4455.72\n",
      " Speed: 11.85\n",
      " Duration: 447.65\n",
      " WaitingTime: 73.59\n",
      " TimeLoss: 123.85\n",
      " DepartDelay: 0.45\n",
      "\n",
      "DijkstraRouter answered 3452 queries and explored 10.68 edges on average.\n",
      "DijkstraRouter spent 0.01s answering queries (0.00ms on average).\n",
      "####### 63 ########\n",
      "##### n=87 #####\n",
      "##### best_value=-0.0037448734110968763 #####\n",
      "printing /Users/rodrse/Documents/DemandCalibration/notebooks/od_calibration_sumo_files/quickstart/data/iter_quickstart.current_od.xml\n",
      "### Runing: iter\n",
      "od2trips --no-step-log  --spread.uniform --taz-files /Users/rodrse/Documents/DemandCalibration/notebooks/od_calibration_sumo_files/quickstart/data/quickstart.taz.xml --tazrelation-files /Users/rodrse/Documents/DemandCalibration/notebooks/od_calibration_sumo_files/quickstart/data/iter_quickstart.current_od.xml -o /Users/rodrse/Documents/DemandCalibration/notebooks/od_calibration_sumo_files/quickstart/data/iter_od_trips.trips.xml \n",
      "Success.\n",
      "Loading net-file from '/Users/rodrse/Documents/DemandCalibration/notebooks/od_calibration_sumo_files/quickstart/data/quickstart.net.xml' ... done (9ms).\n",
      "Loading additional-files from '/Users/rodrse/Documents/DemandCalibration/notebooks/od_calibration_sumo_files/quickstart/data/quickstart.additional.xml' ... done (1ms).\n",
      "Loading done.\n",
      "Simulation version 1.16.0 started with time: 54000.00.\n",
      "Step #56600.00 (8ms ~= 125.00*RT, ~104000.00UPS, vehicles TOT 2375 ACT 832 BUF 41)        \r"
     ]
    },
    {
     "name": "stderr",
     "output_type": "stream",
     "text": [
      "Warning: Teleporting vehicle '593'; waited too long (wrong lane), lane='L12_2', time=56649.00.\n",
      "Warning: Vehicle '593' ends teleporting on edge 'L15', time=56649.00.\n"
     ]
    },
    {
     "name": "stdout",
     "output_type": "stream",
     "text": [
      "Step #56700.00 (9ms ~= 111.11*RT, ~92444.44UPS, vehicles TOT 2435 ACT 832 BUF 73)         \r"
     ]
    },
    {
     "name": "stderr",
     "output_type": "stream",
     "text": [
      "Warning: Teleporting vehicle '466'; waited too long (jam), lane='L2_0', time=56772.00.\n",
      "Warning: Vehicle '466' ends teleporting on edge 'L12', time=56772.00.\n",
      "Warning: Teleporting vehicle '598'; waited too long (wrong lane), lane='L12_2', time=56774.00.\n",
      "Warning: Vehicle '598' ends teleporting on edge 'L15', time=56774.00.\n"
     ]
    },
    {
     "name": "stdout",
     "output_type": "stream",
     "text": [
      "Step #56800.00 (16ms ~= 62.50*RT, ~53375.00UPS, vehicles TOT 2510 ACT 854 BUF 93)         \r"
     ]
    },
    {
     "name": "stderr",
     "output_type": "stream",
     "text": [
      "Warning: Teleporting vehicle '1472'; waited too long (jam), lane='L2_1', time=56813.00.\n",
      "Warning: Teleporting vehicle '658'; waited too long (jam), lane='L2_1', time=56815.00.\n",
      "Warning: Vehicle '658' ends teleporting on edge 'L12', time=56815.00.\n",
      "Warning: Teleporting vehicle '659'; waited too long (jam), lane='L2_1', time=56816.00.\n",
      "Warning: Vehicle '659' ends teleporting on edge 'L12', time=56816.00.\n",
      "Warning: Teleporting vehicle '660'; waited too long (jam), lane='L2_1', time=56817.00.\n",
      "Warning: Vehicle '660' ends teleporting on edge 'L12', time=56817.00.\n",
      "Warning: Teleporting vehicle '603'; waited too long (wrong lane), lane='L12_2', time=56876.00.\n"
     ]
    },
    {
     "name": "stdout",
     "output_type": "stream",
     "text": [
      "Step #56900.00 (10ms ~= 100.00*RT, ~87600.00UPS, vehicles TOT 2582 ACT 876 BUF 113)       \r"
     ]
    },
    {
     "name": "stderr",
     "output_type": "stream",
     "text": [
      "Warning: Vehicle '603' ends teleporting on edge 'L15', time=56904.00.\n",
      "Warning: Vehicle '1472' ends teleporting on edge 'L12', time=56920.00.\n"
     ]
    },
    {
     "name": "stdout",
     "output_type": "stream",
     "text": [
      "Step #57000.00 (9ms ~= 111.11*RT, ~99444.44UPS, vehicles TOT 2649 ACT 895 BUF 139)        \r"
     ]
    },
    {
     "name": "stderr",
     "output_type": "stream",
     "text": [
      "Warning: Teleporting vehicle '609'; waited too long (wrong lane), lane='L12_2', time=57002.00.\n",
      "Warning: Vehicle '609' ends teleporting on edge 'L15', time=57002.00.\n",
      "Warning: Teleporting vehicle '611'; waited too long (wrong lane), lane='L12_2', time=57076.00.\n",
      "Warning: Teleporting vehicle '467'; waited too long (jam), lane='L2_0', time=57078.00.\n",
      "Warning: Vehicle '467' ends teleporting on edge 'L12', time=57078.00.\n",
      "Warning: Teleporting vehicle '1504'; waited too long (jam), lane='D2_1', time=57081.00.\n",
      "Warning: Vehicle '1504' ends teleporting on edge 'L2', time=57081.00.\n",
      "Warning: Teleporting vehicle '701'; waited too long (jam), lane='D2_1', time=57082.00.\n",
      "Warning: Vehicle '701' ends teleporting on edge 'L2', time=57082.00.\n",
      "Warning: Teleporting vehicle '702'; waited too long (jam), lane='D2_1', time=57089.00.\n",
      "Warning: Vehicle '702' ends teleporting on edge 'L2', time=57089.00.\n"
     ]
    },
    {
     "name": "stdout",
     "output_type": "stream",
     "text": [
      "Step #57100.00 (10ms ~= 100.00*RT, ~88200.00UPS, vehicles TOT 2693 ACT 882 BUF 186)       \r"
     ]
    },
    {
     "name": "stderr",
     "output_type": "stream",
     "text": [
      "Warning: Teleporting vehicle '1474'; waited too long (jam), lane='L2_1', time=57127.00.\n",
      "Warning: Vehicle '611' ends teleporting on edge 'L15', time=57133.00.\n",
      "Warning: Teleporting vehicle '614'; waited too long (wrong lane), lane='L12_2', time=57145.00.\n",
      "Warning: Vehicle '1474' ends teleporting on edge 'L12', time=57163.00.\n",
      "Warning: Teleporting vehicle '534'; waited too long (jam), lane='D2_0', time=57167.00.\n"
     ]
    },
    {
     "name": "stdout",
     "output_type": "stream",
     "text": [
      "Step #57200.00 (9ms ~= 111.11*RT, ~97555.56UPS, vehicles TOT 2739 ACT 878 BUF 235)        \r"
     ]
    },
    {
     "name": "stderr",
     "output_type": "stream",
     "text": [
      "Warning: Vehicle '614' ends teleporting on edge 'L15', time=57236.00.\n"
     ]
    },
    {
     "name": "stdout",
     "output_type": "stream",
     "text": [
      "Step #57300.00 (9ms ~= 111.11*RT, ~96555.56UPS, vehicles TOT 2784 ACT 869 BUF 282)        \r"
     ]
    },
    {
     "name": "stderr",
     "output_type": "stream",
     "text": [
      "Warning: Teleporting vehicle '620'; waited too long (wrong lane), lane='L12_2', time=57344.00.\n",
      "Warning: Vehicle '620' ends teleporting on edge 'L15', time=57382.00.\n",
      "Warning: Teleporting vehicle '468'; waited too long (jam), lane='L2_0', time=57384.00.\n",
      "Warning: Vehicle '468' ends teleporting on edge 'L12', time=57384.00.\n",
      "Warning: Vehicle '534' ends teleporting on edge 'L2', time=57387.00.\n",
      "Warning: Teleporting vehicle '621'; waited too long (wrong lane), lane='L12_2', time=57392.00.\n",
      "Warning: Teleporting vehicle '1505'; waited too long (jam), lane='D2_1', time=57398.00.\n",
      "Warning: Vehicle '1505' ends teleporting on edge 'L2', time=57398.00.\n",
      "Warning: Teleporting vehicle '703'; waited too long (jam), lane='D2_1', time=57399.00.\n"
     ]
    },
    {
     "name": "stdout",
     "output_type": "stream",
     "text": [
      "Step #57400.00 (9ms ~= 111.11*RT, ~95888.89UPS, vehicles TOT 2830 ACT 863 BUF 329)        \r"
     ]
    },
    {
     "name": "stderr",
     "output_type": "stream",
     "text": [
      "Warning: Vehicle '621' ends teleporting on edge 'L15', time=57422.00.\n",
      "Warning: Teleporting vehicle '535'; waited too long (jam), lane='D2_0', time=57473.00.\n"
     ]
    },
    {
     "name": "stdout",
     "output_type": "stream",
     "text": [
      "Step #57600.00 (9ms ~= 111.11*RT, ~94666.67UPS, vehicles TOT 2920 ACT 852 BUF 425)        \n",
      "Simulation ended at time: 57600.00\n",
      "Reason: The final simulation step has been reached.\n",
      "Performance: \n",
      " Duration: 22.29s\n",
      " Real time factor: 161.507\n",
      " UPS: 102926.873037\n",
      "Vehicles: \n",
      " Inserted: 2920 (Loaded: 3345)\n",
      " Running: 852\n",
      " Waiting: 425\n",
      " Teleports: 23 (Jam: 15, Wrong Lane: 8)\n",
      "Statistics (avg of 2068):\n",
      " RouteLength: 4391.51\n",
      " Speed: 11.73\n",
      " Duration: 459.68\n",
      " WaitingTime: 87.37\n",
      " TimeLoss: 141.01\n",
      " DepartDelay: 0.51\n",
      "\n",
      "DijkstraRouter answered 3437 queries and explored 10.38 edges on average.\n",
      "DijkstraRouter spent 0.02s answering queries (0.00ms on average).\n",
      "####### 64 ########\n",
      "##### n=88 #####\n",
      "##### best_value=-0.0037448734110968763 #####\n",
      "printing /Users/rodrse/Documents/DemandCalibration/notebooks/od_calibration_sumo_files/quickstart/data/iter_quickstart.current_od.xml\n",
      "### Runing: iter\n",
      "od2trips --no-step-log  --spread.uniform --taz-files /Users/rodrse/Documents/DemandCalibration/notebooks/od_calibration_sumo_files/quickstart/data/quickstart.taz.xml --tazrelation-files /Users/rodrse/Documents/DemandCalibration/notebooks/od_calibration_sumo_files/quickstart/data/iter_quickstart.current_od.xml -o /Users/rodrse/Documents/DemandCalibration/notebooks/od_calibration_sumo_files/quickstart/data/iter_od_trips.trips.xml \n",
      "Success.\n",
      "Loading net-file from '/Users/rodrse/Documents/DemandCalibration/notebooks/od_calibration_sumo_files/quickstart/data/quickstart.net.xml' ... done (6ms).\n",
      "Loading additional-files from '/Users/rodrse/Documents/DemandCalibration/notebooks/od_calibration_sumo_files/quickstart/data/quickstart.additional.xml' ... done (1ms).\n",
      "Loading done.\n",
      "Simulation version 1.16.0 started with time: 54000.00.\n",
      "Step #56800.00 (9ms ~= 111.11*RT, ~93888.89UPS, vehicles TOT 2506 ACT 845 BUF 0)          \r"
     ]
    },
    {
     "name": "stderr",
     "output_type": "stream",
     "text": [
      "Warning: Teleporting vehicle '591'; waited too long (wrong lane), lane='L12_2', time=56867.00.\n",
      "Warning: Vehicle '591' ends teleporting on edge 'L15', time=56867.00.\n"
     ]
    },
    {
     "name": "stdout",
     "output_type": "stream",
     "text": [
      "Step #56900.00 (11ms ~= 90.91*RT, ~80272.73UPS, vehicles TOT 2596 ACT 883 BUF 0)          \r"
     ]
    },
    {
     "name": "stderr",
     "output_type": "stream",
     "text": [
      "Warning: Teleporting vehicle '594'; waited too long (wrong lane), lane='L12_2', time=56940.00.\n",
      "Warning: Vehicle '594' ends teleporting on edge 'L15', time=56940.00.\n"
     ]
    },
    {
     "name": "stdout",
     "output_type": "stream",
     "text": [
      "Step #57000.00 (9ms ~= 111.11*RT, ~100222.22UPS, vehicles TOT 2685 ACT 902 BUF 0)         \r"
     ]
    },
    {
     "name": "stderr",
     "output_type": "stream",
     "text": [
      "Warning: Teleporting vehicle '467'; waited too long (jam), lane=':1_3_1', time=57020.00.\n",
      "Warning: Vehicle '467' ends teleporting on edge 'L12', time=57020.00.\n"
     ]
    },
    {
     "name": "stdout",
     "output_type": "stream",
     "text": [
      "Step #57100.00 (7ms ~= 142.86*RT, ~134142.86UPS, vehicles TOT 2773 ACT 939 BUF 0)         \r"
     ]
    },
    {
     "name": "stderr",
     "output_type": "stream",
     "text": [
      "Warning: Teleporting vehicle '1209'; waited too long (jam), lane='L2_1', time=57121.00.\n",
      "Warning: Teleporting vehicle '678'; waited too long (jam), lane='L2_1', time=57124.00.\n",
      "Warning: Vehicle '678' ends teleporting on edge 'L12', time=57124.00.\n",
      "Warning: Teleporting vehicle '602'; waited too long (wrong lane), lane='L12_2', time=57152.00.\n",
      "Warning: Vehicle '602' ends teleporting on edge 'L15', time=57152.00.\n"
     ]
    },
    {
     "name": "stdout",
     "output_type": "stream",
     "text": [
      "Step #57200.00 (10ms ~= 100.00*RT, ~93300.00UPS, vehicles TOT 2833 ACT 933 BUF 29)        \r"
     ]
    },
    {
     "name": "stderr",
     "output_type": "stream",
     "text": [
      "Warning: Teleporting vehicle '604'; waited too long (wrong lane), lane='L12_2', time=57203.00.\n",
      "Warning: Vehicle '604' ends teleporting on edge 'L15', time=57203.00.\n",
      "Warning: Teleporting vehicle '605'; waited too long (wrong lane), lane='L12_2', time=57232.00.\n",
      "Warning: Teleporting vehicle '606'; waited too long (wrong lane), lane='L12_2', time=57233.00.\n",
      "Warning: Teleporting vehicle '607'; waited too long (wrong lane), lane='L12_2', time=57263.00.\n",
      "Warning: Teleporting vehicle '608'; waited too long (wrong lane), lane='L12_2', time=57264.00.\n",
      "Warning: Teleporting vehicle '726'; waited too long (jam), lane='D2_1', time=57280.00.\n",
      "Warning: Vehicle '726' ends teleporting on edge 'L2', time=57280.00.\n",
      "Warning: Teleporting vehicle '727'; waited too long (jam), lane='D2_1', time=57282.00.\n",
      "Warning: Vehicle '605' ends teleporting on edge 'L15', time=57298.00.\n"
     ]
    },
    {
     "name": "stdout",
     "output_type": "stream",
     "text": [
      "Step #57300.00 (8ms ~= 125.00*RT, ~115625.00UPS, vehicles TOT 2887 ACT 925 BUF 66)        \r"
     ]
    },
    {
     "name": "stderr",
     "output_type": "stream",
     "text": [
      "Warning: Teleporting vehicle '468'; waited too long (jam), lane='L2_0', time=57326.00.\n",
      "Warning: Vehicle '468' ends teleporting on edge 'L12', time=57326.00.\n",
      "Warning: Vehicle '606' ends teleporting on edge 'L15', time=57348.00.\n"
     ]
    },
    {
     "name": "stdout",
     "output_type": "stream",
     "text": [
      "Step #57400.00 (7ms ~= 142.86*RT, ~132571.43UPS, vehicles TOT 2940 ACT 928 BUF 103)       \r"
     ]
    },
    {
     "name": "stderr",
     "output_type": "stream",
     "text": [
      "Warning: Teleporting vehicle '535'; waited too long (jam), lane='D2_0', time=57413.00.\n",
      "Warning: Vehicle '607' ends teleporting on edge 'L15', time=57430.00.\n",
      "Warning: Teleporting vehicle '1210'; waited too long (jam), lane='L2_0', time=57431.00.\n",
      "Warning: Vehicle '608' ends teleporting on edge 'L15', time=57460.00.\n",
      "Warning: Vehicle '1209' ends teleporting on edge 'L12', time=57465.00.\n",
      "Warning: Vehicle '535' ends teleporting on edge 'L2', time=57468.00.\n",
      "Warning: Vehicle '727' ends teleporting on edge 'L2', time=57470.00.\n"
     ]
    },
    {
     "name": "stdout",
     "output_type": "stream",
     "text": [
      "Step #57500.00 (10ms ~= 100.00*RT, ~92100.00UPS, vehicles TOT 2993 ACT 921 BUF 138)       \r"
     ]
    },
    {
     "name": "stderr",
     "output_type": "stream",
     "text": [
      "Warning: Vehicle '1210' ends teleporting on edge 'L12', time=57565.00.\n",
      "Warning: Teleporting vehicle '618'; waited too long (wrong lane), lane='L12_2', time=57577.00.\n",
      "Warning: Teleporting vehicle '1233'; waited too long (jam), lane='D2_1', time=57590.00.\n",
      "Warning: Vehicle '618' ends teleporting on edge 'L15', time=57598.00.\n"
     ]
    },
    {
     "name": "stdout",
     "output_type": "stream",
     "text": [
      "Step #57600.00 (10ms ~= 100.00*RT, ~92100.00UPS, vehicles TOT 3046 ACT 921 BUF 175)       \n",
      "Simulation ended at time: 57600.00\n",
      "Reason: The final simulation step has been reached.\n",
      "Performance: \n",
      " Duration: 21.65s\n",
      " Real time factor: 166.32\n",
      " UPS: 100836.682837\n",
      "Vehicles: \n",
      " Inserted: 3046 (Loaded: 3221)\n",
      " Running: 921\n",
      " Waiting: 175\n",
      " Teleports: 18 (Jam: 9, Wrong Lane: 9)\n",
      "Statistics (avg of 2125):\n",
      " RouteLength: 4440.63\n",
      " Speed: 12.45\n",
      " Duration: 421.21\n",
      " WaitingTime: 65.88\n",
      " TimeLoss: 99.02\n",
      " DepartDelay: 0.50\n",
      "\n",
      "DijkstraRouter answered 3222 queries and explored 10.84 edges on average.\n",
      "DijkstraRouter spent 0.01s answering queries (0.00ms on average).\n",
      "####### 65 ########\n",
      "##### n=89 #####\n",
      "##### best_value=-0.0037448734110968763 #####\n",
      "printing /Users/rodrse/Documents/DemandCalibration/notebooks/od_calibration_sumo_files/quickstart/data/iter_quickstart.current_od.xml\n",
      "### Runing: iter\n",
      "od2trips --no-step-log  --spread.uniform --taz-files /Users/rodrse/Documents/DemandCalibration/notebooks/od_calibration_sumo_files/quickstart/data/quickstart.taz.xml --tazrelation-files /Users/rodrse/Documents/DemandCalibration/notebooks/od_calibration_sumo_files/quickstart/data/iter_quickstart.current_od.xml -o /Users/rodrse/Documents/DemandCalibration/notebooks/od_calibration_sumo_files/quickstart/data/iter_od_trips.trips.xml \n",
      "Success.\n",
      "Loading net-file from '/Users/rodrse/Documents/DemandCalibration/notebooks/od_calibration_sumo_files/quickstart/data/quickstart.net.xml' ... done (6ms).\n",
      "Loading additional-files from '/Users/rodrse/Documents/DemandCalibration/notebooks/od_calibration_sumo_files/quickstart/data/quickstart.additional.xml' ... done (0ms).\n",
      "Loading done.\n",
      "Simulation version 1.16.0 started with time: 54000.00.\n",
      "Step #57600.00 (7ms ~= 142.86*RT, ~105000.00UPS, vehicles TOT 2734 ACT 735 BUF 0)         \n",
      "Simulation ended at time: 57600.00\n",
      "Reason: The final simulation step has been reached.\n",
      "Performance: \n",
      " Duration: 15.69s\n",
      " Real time factor: 229.431\n",
      " UPS: 108852.909311\n",
      "Vehicles: \n",
      " Inserted: 2734\n",
      " Running: 735\n",
      " Waiting: 0\n",
      "Statistics (avg of 1999):\n",
      " RouteLength: 4380.34\n",
      " Speed: 12.00\n",
      " Duration: 446.13\n",
      " WaitingTime: 81.87\n",
      " TimeLoss: 128.42\n",
      " DepartDelay: 0.49\n",
      "\n",
      "DijkstraRouter answered 2734 queries and explored 10.28 edges on average.\n",
      "DijkstraRouter spent 0.01s answering queries (0.00ms on average).\n",
      "####### 66 ########\n",
      "##### n=90 #####\n",
      "##### best_value=-0.0037448734110968763 #####\n",
      "printing /Users/rodrse/Documents/DemandCalibration/notebooks/od_calibration_sumo_files/quickstart/data/iter_quickstart.current_od.xml\n",
      "### Runing: iter\n",
      "od2trips --no-step-log  --spread.uniform --taz-files /Users/rodrse/Documents/DemandCalibration/notebooks/od_calibration_sumo_files/quickstart/data/quickstart.taz.xml --tazrelation-files /Users/rodrse/Documents/DemandCalibration/notebooks/od_calibration_sumo_files/quickstart/data/iter_quickstart.current_od.xml -o /Users/rodrse/Documents/DemandCalibration/notebooks/od_calibration_sumo_files/quickstart/data/iter_od_trips.trips.xml \n",
      "Success.\n",
      "Loading net-file from '/Users/rodrse/Documents/DemandCalibration/notebooks/od_calibration_sumo_files/quickstart/data/quickstart.net.xml' ... done (6ms).\n",
      "Loading additional-files from '/Users/rodrse/Documents/DemandCalibration/notebooks/od_calibration_sumo_files/quickstart/data/quickstart.additional.xml' ... done (1ms).\n",
      "Loading done.\n",
      "Simulation version 1.16.0 started with time: 54000.00.\n",
      "Step #57600.00 (8ms ~= 125.00*RT, ~91125.00UPS, vehicles TOT 2730 ACT 729 BUF 0)          \n",
      "Simulation ended at time: 57600.00\n",
      "Reason: The final simulation step has been reached.\n",
      "Performance: \n",
      " Duration: 16.35s\n",
      " Real time factor: 220.251\n",
      " UPS: 100415.723463\n",
      "Vehicles: \n",
      " Inserted: 2730\n",
      " Running: 729\n",
      " Waiting: 0\n",
      "Statistics (avg of 2001):\n",
      " RouteLength: 4340.95\n",
      " Speed: 10.88\n",
      " Duration: 524.51\n",
      " WaitingTime: 110.24\n",
      " TimeLoss: 210.13\n",
      " DepartDelay: 0.34\n",
      "\n",
      "DijkstraRouter answered 2730 queries and explored 9.85 edges on average.\n",
      "DijkstraRouter spent 0.01s answering queries (0.00ms on average).\n",
      "####### 67 ########\n",
      "##### n=91 #####\n",
      "##### best_value=-0.0037448734110968763 #####\n",
      "printing /Users/rodrse/Documents/DemandCalibration/notebooks/od_calibration_sumo_files/quickstart/data/iter_quickstart.current_od.xml\n",
      "### Runing: iter\n",
      "od2trips --no-step-log  --spread.uniform --taz-files /Users/rodrse/Documents/DemandCalibration/notebooks/od_calibration_sumo_files/quickstart/data/quickstart.taz.xml --tazrelation-files /Users/rodrse/Documents/DemandCalibration/notebooks/od_calibration_sumo_files/quickstart/data/iter_quickstart.current_od.xml -o /Users/rodrse/Documents/DemandCalibration/notebooks/od_calibration_sumo_files/quickstart/data/iter_od_trips.trips.xml \n",
      "Success.\n",
      "Loading net-file from '/Users/rodrse/Documents/DemandCalibration/notebooks/od_calibration_sumo_files/quickstart/data/quickstart.net.xml' ... done (8ms).\n",
      "Loading additional-files from '/Users/rodrse/Documents/DemandCalibration/notebooks/od_calibration_sumo_files/quickstart/data/quickstart.additional.xml' ... done (1ms).\n",
      "Loading done.\n",
      "Simulation version 1.16.0 started with time: 54000.00.\n"
     ]
    },
    {
     "name": "stderr",
     "output_type": "stream",
     "text": [
      "Warning: Teleporting vehicle '629'; waited too long (wrong lane), lane='L12_2', time=56963.00.\n",
      "Warning: Vehicle '629' ends teleporting on edge 'L15', time=56963.00.\n"
     ]
    },
    {
     "name": "stdout",
     "output_type": "stream",
     "text": [
      "Step #57000.00 (10ms ~= 100.00*RT, ~80500.00UPS, vehicles TOT 2691 ACT 805 BUF 124)       \r"
     ]
    },
    {
     "name": "stderr",
     "output_type": "stream",
     "text": [
      "Warning: Teleporting vehicle '635'; waited too long (wrong lane), lane='L12_2', time=57040.00.\n",
      "Warning: Vehicle '635' ends teleporting on edge 'L15', time=57040.00.\n"
     ]
    },
    {
     "name": "stdout",
     "output_type": "stream",
     "text": [
      "Step #57100.00 (12ms ~= 83.33*RT, ~68250.00UPS, vehicles TOT 2760 ACT 819 BUF 148)        \r"
     ]
    },
    {
     "name": "stderr",
     "output_type": "stream",
     "text": [
      "Warning: Teleporting vehicle '639'; waited too long (wrong lane), lane='L12_2', time=57145.00.\n",
      "Warning: Vehicle '639' ends teleporting on edge 'L15', time=57145.00.\n"
     ]
    },
    {
     "name": "stdout",
     "output_type": "stream",
     "text": [
      "Step #57200.00 (11ms ~= 90.91*RT, ~76363.64UPS, vehicles TOT 2828 ACT 840 BUF 174)        \r"
     ]
    },
    {
     "name": "stderr",
     "output_type": "stream",
     "text": [
      "Warning: Teleporting vehicle '680'; waited too long (jam), lane=':1_3_2', time=57201.00.\n",
      "Warning: Vehicle '680' ends teleporting on edge 'L12', time=57201.00.\n",
      "Warning: Teleporting vehicle '502'; waited too long (jam), lane=':1_3_1', time=57202.00.\n",
      "Warning: Vehicle '502' ends teleporting on edge 'L12', time=57202.00.\n",
      "Warning: Teleporting vehicle '644'; waited too long (wrong lane), lane='L12_2', time=57275.00.\n",
      "Warning: Vehicle '644' ends teleporting on edge 'L15', time=57275.00.\n"
     ]
    },
    {
     "name": "stdout",
     "output_type": "stream",
     "text": [
      "Step #57400.00 (10ms ~= 100.00*RT, ~85500.00UPS, vehicles TOT 2938 ACT 855 BUF 252)       \r"
     ]
    },
    {
     "name": "stderr",
     "output_type": "stream",
     "text": [
      "Warning: Teleporting vehicle '1682'; waited too long (jam), lane='D2_1', time=57405.00.\n",
      "Warning: Teleporting vehicle '715'; waited too long (jam), lane='D2_1', time=57407.00.\n"
     ]
    },
    {
     "name": "stdout",
     "output_type": "stream",
     "text": [
      "Step #57500.00 (11ms ~= 90.91*RT, ~76363.64UPS, vehicles TOT 2979 ACT 840 BUF 304)        \r"
     ]
    },
    {
     "name": "stderr",
     "output_type": "stream",
     "text": [
      "Warning: Teleporting vehicle '503'; waited too long (jam), lane=':1_3_1', time=57508.00.\n",
      "Warning: Teleporting vehicle '1646'; waited too long (jam), lane=':1_3_2', time=57508.00.\n",
      "Warning: Vehicle '503' ends teleporting on edge 'L12', time=57508.00.\n",
      "Warning: Vehicle '1646' ends teleporting on edge 'L12', time=57508.00.\n",
      "Warning: Vehicle '1682' ends teleporting on edge 'L2', time=57511.00.\n",
      "Warning: Teleporting vehicle '659'; waited too long (wrong lane), lane='L12_2', time=57557.00.\n",
      "Warning: Vehicle '659' ends teleporting on edge 'L15', time=57557.00.\n",
      "Warning: Teleporting vehicle '570'; waited too long (jam), lane='D2_0', time=57596.00.\n"
     ]
    },
    {
     "name": "stdout",
     "output_type": "stream",
     "text": [
      "Step #57600.00 (12ms ~= 83.33*RT, ~68666.67UPS, vehicles TOT 3020 ACT 824 BUF 357)        \n",
      "Simulation ended at time: 57600.00\n",
      "Reason: The final simulation step has been reached.\n",
      "Performance: \n",
      " Duration: 26.58s\n",
      " Real time factor: 135.445\n",
      " UPS: 82395.086346\n",
      "Vehicles: \n",
      " Inserted: 3020 (Loaded: 3377)\n",
      " Running: 824\n",
      " Waiting: 357\n",
      " Teleports: 12 (Jam: 7, Wrong Lane: 5)\n",
      "Statistics (avg of 2196):\n",
      " RouteLength: 4284.10\n",
      " Speed: 11.54\n",
      " Duration: 475.26\n",
      " WaitingTime: 102.66\n",
      " TimeLoss: 164.94\n",
      " DepartDelay: 1.21\n",
      "\n",
      "DijkstraRouter answered 3587 queries and explored 9.81 edges on average.\n",
      "DijkstraRouter spent 0.02s answering queries (0.01ms on average).\n",
      "####### 68 ########\n",
      "##### n=92 #####\n",
      "##### best_value=-0.0037448734110968763 #####\n",
      "printing /Users/rodrse/Documents/DemandCalibration/notebooks/od_calibration_sumo_files/quickstart/data/iter_quickstart.current_od.xml\n",
      "### Runing: iter\n",
      "od2trips --no-step-log  --spread.uniform --taz-files /Users/rodrse/Documents/DemandCalibration/notebooks/od_calibration_sumo_files/quickstart/data/quickstart.taz.xml --tazrelation-files /Users/rodrse/Documents/DemandCalibration/notebooks/od_calibration_sumo_files/quickstart/data/iter_quickstart.current_od.xml -o /Users/rodrse/Documents/DemandCalibration/notebooks/od_calibration_sumo_files/quickstart/data/iter_od_trips.trips.xml \n",
      "Success.\n",
      "Loading net-file from '/Users/rodrse/Documents/DemandCalibration/notebooks/od_calibration_sumo_files/quickstart/data/quickstart.net.xml' ... done (9ms).\n",
      "Loading additional-files from '/Users/rodrse/Documents/DemandCalibration/notebooks/od_calibration_sumo_files/quickstart/data/quickstart.additional.xml' ... done (1ms).\n",
      "Loading done.\n",
      "Simulation version 1.16.0 started with time: 54000.00.\n",
      "Step #57600.00 (7ms ~= 142.86*RT, ~93714.29UPS, vehicles TOT 2329 ACT 656 BUF 0)          \n",
      "Simulation ended at time: 57600.00\n",
      "Reason: The final simulation step has been reached.\n",
      "Performance: \n",
      " Duration: 16.64s\n",
      " Real time factor: 216.411\n",
      " UPS: 87136.639615\n",
      "Vehicles: \n",
      " Inserted: 2329\n",
      " Running: 656\n",
      " Waiting: 0\n",
      "Statistics (avg of 1673):\n",
      " RouteLength: 4309.56\n",
      " Speed: 11.01\n",
      " Duration: 541.89\n",
      " WaitingTime: 145.51\n",
      " TimeLoss: 229.67\n",
      " DepartDelay: 0.50\n",
      "\n",
      "DijkstraRouter answered 2329 queries and explored 9.79 edges on average.\n",
      "DijkstraRouter spent 0.01s answering queries (0.01ms on average).\n",
      "####### 69 ########\n",
      "##### n=93 #####\n",
      "##### best_value=-0.0037448734110968763 #####\n",
      "printing /Users/rodrse/Documents/DemandCalibration/notebooks/od_calibration_sumo_files/quickstart/data/iter_quickstart.current_od.xml\n",
      "### Runing: iter\n",
      "od2trips --no-step-log  --spread.uniform --taz-files /Users/rodrse/Documents/DemandCalibration/notebooks/od_calibration_sumo_files/quickstart/data/quickstart.taz.xml --tazrelation-files /Users/rodrse/Documents/DemandCalibration/notebooks/od_calibration_sumo_files/quickstart/data/iter_quickstart.current_od.xml -o /Users/rodrse/Documents/DemandCalibration/notebooks/od_calibration_sumo_files/quickstart/data/iter_od_trips.trips.xml \n",
      "Success.\n",
      "Loading net-file from '/Users/rodrse/Documents/DemandCalibration/notebooks/od_calibration_sumo_files/quickstart/data/quickstart.net.xml' ... done (7ms).\n",
      "Loading additional-files from '/Users/rodrse/Documents/DemandCalibration/notebooks/od_calibration_sumo_files/quickstart/data/quickstart.additional.xml' ... done (1ms).\n",
      "Loading done.\n",
      "Simulation version 1.16.0 started with time: 54000.00.\n",
      "Step #56600.00 (10ms ~= 100.00*RT, ~83900.00UPS, vehicles TOT 2296 ACT 839 BUF 0)         \r"
     ]
    },
    {
     "name": "stderr",
     "output_type": "stream",
     "text": [
      "Warning: Teleporting vehicle '73'; waited too long (yield), lane='L15_1', time=56641.00.\n",
      "Warning: Vehicle '73' ends teleporting on edge 'L18', time=56641.00.\n"
     ]
    },
    {
     "name": "stdout",
     "output_type": "stream",
     "text": [
      "Step #56900.00 (13ms ~= 76.92*RT, ~68000.00UPS, vehicles TOT 2562 ACT 884 BUF 0)          \r"
     ]
    },
    {
     "name": "stderr",
     "output_type": "stream",
     "text": [
      "Warning: Teleporting vehicle '69'; waited too long (yield), lane='L15_1', time=56947.00.\n",
      "Warning: Vehicle '69' ends teleporting on edge 'L18', time=56947.00.\n"
     ]
    },
    {
     "name": "stdout",
     "output_type": "stream",
     "text": [
      "Step #57600.00 (11ms ~= 90.91*RT, ~78818.18UPS, vehicles TOT 3139 ACT 867 BUF 41)         \n",
      "Simulation ended at time: 57600.00\n",
      "Reason: The final simulation step has been reached.\n",
      "Performance: \n",
      " Duration: 27.03s\n",
      " Real time factor: 133.166\n",
      " UPS: 82262.817193\n",
      "Vehicles: \n",
      " Inserted: 3139 (Loaded: 3180)\n",
      " Running: 867\n",
      " Waiting: 41\n",
      " Teleports: 2 (Yield: 2)\n",
      "Statistics (avg of 2272):\n",
      " RouteLength: 4322.43\n",
      " Speed: 10.59\n",
      " Duration: 568.79\n",
      " WaitingTime: 95.44\n",
      " TimeLoss: 254.97\n",
      " DepartDelay: 0.49\n",
      "\n",
      "DijkstraRouter answered 3180 queries and explored 9.84 edges on average.\n",
      "DijkstraRouter spent 0.02s answering queries (0.01ms on average).\n",
      "####### 70 ########\n",
      "##### n=94 #####\n",
      "##### best_value=-0.0037448734110968763 #####\n",
      "printing /Users/rodrse/Documents/DemandCalibration/notebooks/od_calibration_sumo_files/quickstart/data/iter_quickstart.current_od.xml\n",
      "### Runing: iter\n",
      "od2trips --no-step-log  --spread.uniform --taz-files /Users/rodrse/Documents/DemandCalibration/notebooks/od_calibration_sumo_files/quickstart/data/quickstart.taz.xml --tazrelation-files /Users/rodrse/Documents/DemandCalibration/notebooks/od_calibration_sumo_files/quickstart/data/iter_quickstart.current_od.xml -o /Users/rodrse/Documents/DemandCalibration/notebooks/od_calibration_sumo_files/quickstart/data/iter_od_trips.trips.xml \n",
      "Success.\n",
      "Loading net-file from '/Users/rodrse/Documents/DemandCalibration/notebooks/od_calibration_sumo_files/quickstart/data/quickstart.net.xml' ... done (8ms).\n",
      "Loading additional-files from '/Users/rodrse/Documents/DemandCalibration/notebooks/od_calibration_sumo_files/quickstart/data/quickstart.additional.xml' ... done (1ms).\n",
      "Loading done.\n",
      "Simulation version 1.16.0 started with time: 54000.00.\n",
      "Step #57600.00 (8ms ~= 125.00*RT, ~93000.00UPS, vehicles TOT 2883 ACT 744 BUF 0)          \n",
      "Simulation ended at time: 57600.00\n",
      "Reason: The final simulation step has been reached.\n",
      "Performance: \n",
      " Duration: 19.55s\n",
      " Real time factor: 184.115\n",
      " UPS: 86585.076459\n",
      "Vehicles: \n",
      " Inserted: 2883\n",
      " Running: 744\n",
      " Waiting: 0\n",
      "Statistics (avg of 2139):\n",
      " RouteLength: 4343.73\n",
      " Speed: 10.99\n",
      " Duration: 506.34\n",
      " WaitingTime: 94.23\n",
      " TimeLoss: 192.32\n",
      " DepartDelay: 0.46\n",
      "\n",
      "DijkstraRouter answered 2883 queries and explored 9.86 edges on average.\n",
      "DijkstraRouter spent 0.01s answering queries (0.00ms on average).\n",
      "####### 71 ########\n",
      "##### n=95 #####\n",
      "##### best_value=-0.0037448734110968763 #####\n",
      "printing /Users/rodrse/Documents/DemandCalibration/notebooks/od_calibration_sumo_files/quickstart/data/iter_quickstart.current_od.xml\n",
      "### Runing: iter\n",
      "od2trips --no-step-log  --spread.uniform --taz-files /Users/rodrse/Documents/DemandCalibration/notebooks/od_calibration_sumo_files/quickstart/data/quickstart.taz.xml --tazrelation-files /Users/rodrse/Documents/DemandCalibration/notebooks/od_calibration_sumo_files/quickstart/data/iter_quickstart.current_od.xml -o /Users/rodrse/Documents/DemandCalibration/notebooks/od_calibration_sumo_files/quickstart/data/iter_od_trips.trips.xml \n",
      "Success.\n",
      "Loading net-file from '/Users/rodrse/Documents/DemandCalibration/notebooks/od_calibration_sumo_files/quickstart/data/quickstart.net.xml' ... done (6ms).\n",
      "Loading additional-files from '/Users/rodrse/Documents/DemandCalibration/notebooks/od_calibration_sumo_files/quickstart/data/quickstart.additional.xml' ... done (1ms).\n",
      "Loading done.\n",
      "Simulation version 1.16.0 started with time: 54000.00.\n",
      "Step #56800.00 (12ms ~= 83.33*RT, ~73250.00UPS, vehicles TOT 2425 ACT 879 BUF 0)          \r"
     ]
    },
    {
     "name": "stderr",
     "output_type": "stream",
     "text": [
      "Warning: Teleporting vehicle '97'; waited too long (yield), lane='L15_1', time=56874.00.\n",
      "Warning: Vehicle '97' ends teleporting on edge 'L18', time=56874.00.\n"
     ]
    },
    {
     "name": "stdout",
     "output_type": "stream",
     "text": [
      "Step #57100.00 (11ms ~= 90.91*RT, ~83454.55UPS, vehicles TOT 2685 ACT 918 BUF 0)          \r"
     ]
    },
    {
     "name": "stderr",
     "output_type": "stream",
     "text": [
      "Warning: Teleporting vehicle '102'; waited too long (yield), lane='L15_2', time=57184.00.\n",
      "Warning: Vehicle '102' ends teleporting on edge 'L18', time=57184.00.\n"
     ]
    },
    {
     "name": "stdout",
     "output_type": "stream",
     "text": [
      "Step #57600.00 (11ms ~= 90.91*RT, ~85272.73UPS, vehicles TOT 3118 ACT 938 BUF 0)          \n",
      "Simulation ended at time: 57600.00\n",
      "Reason: The final simulation step has been reached.\n",
      "Performance: \n",
      " Duration: 27.49s\n",
      " Real time factor: 130.976\n",
      " UPS: 82248.490140\n",
      "Vehicles: \n",
      " Inserted: 3118\n",
      " Running: 938\n",
      " Waiting: 0\n",
      " Teleports: 2 (Yield: 2)\n",
      "Statistics (avg of 2180):\n",
      " RouteLength: 4330.22\n",
      " Speed: 10.44\n",
      " Duration: 594.14\n",
      " WaitingTime: 124.59\n",
      " TimeLoss: 280.19\n",
      " DepartDelay: 0.49\n",
      "\n",
      "DijkstraRouter answered 3118 queries and explored 9.97 edges on average.\n",
      "DijkstraRouter spent 0.01s answering queries (0.00ms on average).\n",
      "####### 72 ########\n",
      "##### n=96 #####\n",
      "##### best_value=-0.0037448734110968763 #####\n",
      "printing /Users/rodrse/Documents/DemandCalibration/notebooks/od_calibration_sumo_files/quickstart/data/iter_quickstart.current_od.xml\n",
      "### Runing: iter\n",
      "od2trips --no-step-log  --spread.uniform --taz-files /Users/rodrse/Documents/DemandCalibration/notebooks/od_calibration_sumo_files/quickstart/data/quickstart.taz.xml --tazrelation-files /Users/rodrse/Documents/DemandCalibration/notebooks/od_calibration_sumo_files/quickstart/data/iter_quickstart.current_od.xml -o /Users/rodrse/Documents/DemandCalibration/notebooks/od_calibration_sumo_files/quickstart/data/iter_od_trips.trips.xml \n",
      "Success.\n",
      "Loading net-file from '/Users/rodrse/Documents/DemandCalibration/notebooks/od_calibration_sumo_files/quickstart/data/quickstart.net.xml' ... done (8ms).\n",
      "Loading additional-files from '/Users/rodrse/Documents/DemandCalibration/notebooks/od_calibration_sumo_files/quickstart/data/quickstart.additional.xml' ... done (1ms).\n",
      "Loading done.\n",
      "Simulation version 1.16.0 started with time: 54000.00.\n",
      "Step #56600.00 (9ms ~= 111.11*RT, ~71888.89UPS, vehicles TOT 1732 ACT 647 BUF 0)          \r"
     ]
    },
    {
     "name": "stderr",
     "output_type": "stream",
     "text": [
      "Warning: Teleporting vehicle '470'; waited too long (wrong lane), lane='L15_0', time=56614.00.\n",
      "Warning: Vehicle '470' ends teleporting on edge 'L18', time=56614.00.\n",
      "Warning: Teleporting vehicle '478'; waited too long (wrong lane), lane='L15_0', time=56615.00.\n",
      "Warning: Vehicle '478' ends teleporting on edge 'L18', time=56615.00.\n",
      "Warning: Teleporting vehicle '490'; waited too long (wrong lane), lane='L15_0', time=56648.00.\n",
      "Warning: Vehicle '490' ends teleporting on edge 'L18', time=56648.00.\n",
      "Warning: Teleporting vehicle '474'; waited too long (wrong lane), lane='L15_0', time=56651.00.\n",
      "Warning: Vehicle '474' ends teleporting on edge 'L18', time=56651.00.\n"
     ]
    },
    {
     "name": "stdout",
     "output_type": "stream",
     "text": [
      "Step #56700.00 (6ms ~= 166.67*RT, ~110333.33UPS, vehicles TOT 1799 ACT 662 BUF 0)         \r"
     ]
    },
    {
     "name": "stderr",
     "output_type": "stream",
     "text": [
      "Warning: Teleporting vehicle '481'; waited too long (wrong lane), lane='L15_0', time=56718.00.\n",
      "Warning: Vehicle '481' ends teleporting on edge 'L18', time=56718.00.\n"
     ]
    },
    {
     "name": "stdout",
     "output_type": "stream",
     "text": [
      "Step #57200.00 (9ms ~= 111.11*RT, ~85222.22UPS, vehicles TOT 2132 ACT 767 BUF 0)          \r"
     ]
    },
    {
     "name": "stderr",
     "output_type": "stream",
     "text": [
      "Warning: Teleporting vehicle '675'; waited too long (wrong lane), lane='L12_2', time=57252.00.\n",
      "Warning: Vehicle '675' ends teleporting on edge 'L15', time=57252.00.\n",
      "Warning: Teleporting vehicle '676'; waited too long (wrong lane), lane='L12_2', time=57278.00.\n",
      "Warning: Vehicle '676' ends teleporting on edge 'L15', time=57278.00.\n"
     ]
    },
    {
     "name": "stdout",
     "output_type": "stream",
     "text": [
      "Step #57400.00 (9ms ~= 111.11*RT, ~91333.33UPS, vehicles TOT 2266 ACT 822 BUF 0)          \r"
     ]
    },
    {
     "name": "stderr",
     "output_type": "stream",
     "text": [
      "Warning: Teleporting vehicle '563'; waited too long (jam), lane='L2_0', time=57462.00.\n",
      "Warning: Vehicle '563' ends teleporting on edge 'L12', time=57462.00.\n",
      "Warning: Teleporting vehicle '515'; waited too long (wrong lane), lane='L15_0', time=57464.00.\n",
      "Warning: Vehicle '515' ends teleporting on edge 'L18', time=57464.00.\n",
      "Warning: Teleporting vehicle '527'; waited too long (wrong lane), lane='L15_0', time=57465.00.\n",
      "Warning: Vehicle '527' ends teleporting on edge 'L18', time=57465.00.\n",
      "Warning: Teleporting vehicle '523'; waited too long (wrong lane), lane='L15_0', time=57466.00.\n",
      "Warning: Vehicle '523' ends teleporting on edge 'L18', time=57466.00.\n",
      "Warning: Teleporting vehicle '748'; waited too long (jam), lane='L2_1', time=57493.00.\n",
      "Warning: Vehicle '748' ends teleporting on edge 'L12', time=57493.00.\n"
     ]
    },
    {
     "name": "stdout",
     "output_type": "stream",
     "text": [
      "Step #57500.00 (8ms ~= 125.00*RT, ~105375.00UPS, vehicles TOT 2328 ACT 843 BUF 4)         \r"
     ]
    },
    {
     "name": "stderr",
     "output_type": "stream",
     "text": [
      "Warning: Teleporting vehicle '679'; waited too long (wrong lane), lane='L12_2', time=57556.00.\n",
      "Warning: Teleporting vehicle '536'; waited too long (wrong lane), lane='L15_0', time=57591.00.\n",
      "Warning: Vehicle '536' ends teleporting on edge 'L18', time=57591.00.\n",
      "Warning: Vehicle '679' ends teleporting on edge 'L15', time=57595.00.\n"
     ]
    },
    {
     "name": "stdout",
     "output_type": "stream",
     "text": [
      "Step #57600.00 (8ms ~= 125.00*RT, ~107500.00UPS, vehicles TOT 2382 ACT 860 BUF 16)        \n",
      "Simulation ended at time: 57600.00\n",
      "Reason: The final simulation step has been reached.\n",
      "Performance: \n",
      " Duration: 20.80s\n",
      " Real time factor: 173.069\n",
      " UPS: 85459.881736\n",
      "Vehicles: \n",
      " Inserted: 2382 (Loaded: 2398)\n",
      " Running: 860\n",
      " Waiting: 16\n",
      " Teleports: 14 (Jam: 2, Wrong Lane: 12)\n",
      "Statistics (avg of 1522):\n",
      " RouteLength: 4415.42\n",
      " Speed: 12.17\n",
      " Duration: 474.69\n",
      " WaitingTime: 103.50\n",
      " TimeLoss: 154.35\n",
      " DepartDelay: 0.49\n",
      "\n",
      "DijkstraRouter answered 2398 queries and explored 10.88 edges on average.\n",
      "DijkstraRouter spent 0.02s answering queries (0.01ms on average).\n",
      "####### 73 ########\n",
      "##### n=97 #####\n",
      "##### best_value=-0.0037448734110968763 #####\n",
      "printing /Users/rodrse/Documents/DemandCalibration/notebooks/od_calibration_sumo_files/quickstart/data/iter_quickstart.current_od.xml\n",
      "### Runing: iter\n",
      "od2trips --no-step-log  --spread.uniform --taz-files /Users/rodrse/Documents/DemandCalibration/notebooks/od_calibration_sumo_files/quickstart/data/quickstart.taz.xml --tazrelation-files /Users/rodrse/Documents/DemandCalibration/notebooks/od_calibration_sumo_files/quickstart/data/iter_quickstart.current_od.xml -o /Users/rodrse/Documents/DemandCalibration/notebooks/od_calibration_sumo_files/quickstart/data/iter_od_trips.trips.xml \n",
      "Success.\n",
      "Loading net-file from '/Users/rodrse/Documents/DemandCalibration/notebooks/od_calibration_sumo_files/quickstart/data/quickstart.net.xml' ... done (7ms).\n",
      "Loading additional-files from '/Users/rodrse/Documents/DemandCalibration/notebooks/od_calibration_sumo_files/quickstart/data/quickstart.additional.xml' ... done (1ms).\n",
      "Loading done.\n",
      "Simulation version 1.16.0 started with time: 54000.00.\n",
      "Step #56800.00 (9ms ~= 111.11*RT, ~94888.89UPS, vehicles TOT 2512 ACT 854 BUF 0)          \r"
     ]
    },
    {
     "name": "stderr",
     "output_type": "stream",
     "text": [
      "Warning: Teleporting vehicle '595'; waited too long (wrong lane), lane='L12_2', time=56847.00.\n",
      "Warning: Vehicle '595' ends teleporting on edge 'L15', time=56849.00.\n",
      "Warning: Teleporting vehicle '599'; waited too long (wrong lane), lane='L12_2', time=56899.00.\n",
      "Warning: Vehicle '599' ends teleporting on edge 'L15', time=56899.00.\n"
     ]
    },
    {
     "name": "stdout",
     "output_type": "stream",
     "text": [
      "Step #56900.00 (10ms ~= 100.00*RT, ~89100.00UPS, vehicles TOT 2601 ACT 891 BUF 0)         \r"
     ]
    },
    {
     "name": "stderr",
     "output_type": "stream",
     "text": [
      "Warning: Teleporting vehicle '601'; waited too long (wrong lane), lane='L12_2', time=56922.00.\n",
      "Warning: Vehicle '601' ends teleporting on edge 'L15', time=56943.00.\n",
      "Warning: Teleporting vehicle '604'; waited too long (wrong lane), lane='L12_2', time=56953.00.\n"
     ]
    },
    {
     "name": "stdout",
     "output_type": "stream",
     "text": [
      "Step #57000.00 (10ms ~= 100.00*RT, ~91200.00UPS, vehicles TOT 2690 ACT 912 BUF 0)         \r"
     ]
    },
    {
     "name": "stderr",
     "output_type": "stream",
     "text": [
      "Warning: Vehicle '604' ends teleporting on edge 'L15', time=57001.00.\n",
      "Warning: Teleporting vehicle '466'; waited too long (jam), lane='L2_0', time=57069.00.\n",
      "Warning: Vehicle '466' ends teleporting on edge 'L12', time=57069.00.\n",
      "Warning: Teleporting vehicle '671'; waited too long (jam), lane='L2_1', time=57088.00.\n",
      "Warning: Vehicle '671' ends teleporting on edge 'L12', time=57088.00.\n"
     ]
    },
    {
     "name": "stdout",
     "output_type": "stream",
     "text": [
      "Step #57100.00 (10ms ~= 100.00*RT, ~92500.00UPS, vehicles TOT 2761 ACT 925 BUF 20)        \r"
     ]
    },
    {
     "name": "stderr",
     "output_type": "stream",
     "text": [
      "Warning: Teleporting vehicle '610'; waited too long (wrong lane), lane='L12_2', time=57150.00.\n",
      "Warning: Vehicle '610' ends teleporting on edge 'L15', time=57173.00.\n"
     ]
    },
    {
     "name": "stdout",
     "output_type": "stream",
     "text": [
      "Step #57200.00 (10ms ~= 100.00*RT, ~92000.00UPS, vehicles TOT 2811 ACT 920 BUF 60)        \r"
     ]
    },
    {
     "name": "stderr",
     "output_type": "stream",
     "text": [
      "Warning: Teleporting vehicle '715'; waited too long (jam), lane='D2_1', time=57231.00.\n"
     ]
    },
    {
     "name": "stdout",
     "output_type": "stream",
     "text": [
      "Step #57300.00 (9ms ~= 111.11*RT, ~101555.56UPS, vehicles TOT 2862 ACT 914 BUF 99)        \r"
     ]
    },
    {
     "name": "stderr",
     "output_type": "stream",
     "text": [
      "Warning: Teleporting vehicle '616'; waited too long (wrong lane), lane='L12_2', time=57307.00.\n",
      "Warning: Vehicle '616' ends teleporting on edge 'L15', time=57307.00.\n",
      "Warning: Teleporting vehicle '467'; waited too long (jam), lane='L2_0', time=57374.00.\n",
      "Warning: Vehicle '467' ends teleporting on edge 'L12', time=57374.00.\n",
      "Warning: Teleporting vehicle '619'; waited too long (wrong lane), lane='L12_2', time=57378.00.\n",
      "Warning: Vehicle '619' ends teleporting on edge 'L15', time=57378.00.\n",
      "Warning: Teleporting vehicle '1293'; waited too long (jam), lane='L2_1', time=57393.00.\n"
     ]
    },
    {
     "name": "stdout",
     "output_type": "stream",
     "text": [
      "Step #57400.00 (10ms ~= 100.00*RT, ~90900.00UPS, vehicles TOT 2911 ACT 909 BUF 137)       \r"
     ]
    },
    {
     "name": "stderr",
     "output_type": "stream",
     "text": [
      "Warning: Teleporting vehicle '534'; waited too long (jam), lane='D2_0', time=57460.00.\n"
     ]
    },
    {
     "name": "stdout",
     "output_type": "stream",
     "text": [
      "Step #57500.00 (11ms ~= 90.91*RT, ~82181.82UPS, vehicles TOT 2962 ACT 904 BUF 177)        \r"
     ]
    },
    {
     "name": "stderr",
     "output_type": "stream",
     "text": [
      "Warning: Teleporting vehicle '1319'; waited too long (jam), lane='D2_1', time=57537.00.\n"
     ]
    },
    {
     "name": "stdout",
     "output_type": "stream",
     "text": [
      "Step #57600.00 (10ms ~= 100.00*RT, ~90400.00UPS, vehicles TOT 3012 ACT 904 BUF 217)       \n",
      "Simulation ended at time: 57600.00\n",
      "Reason: The final simulation step has been reached.\n",
      "Performance: \n",
      " Duration: 26.60s\n",
      " Real time factor: 135.349\n",
      " UPS: 83300.398526\n",
      "Vehicles: \n",
      " Inserted: 3012 (Loaded: 3229)\n",
      " Running: 904\n",
      " Waiting: 217\n",
      " Teleports: 14 (Jam: 7, Wrong Lane: 7)\n",
      "Statistics (avg of 2108):\n",
      " RouteLength: 4457.80\n",
      " Speed: 12.11\n",
      " Duration: 435.14\n",
      " WaitingTime: 71.06\n",
      " TimeLoss: 111.39\n",
      " DepartDelay: 0.50\n",
      "\n",
      "DijkstraRouter answered 3230 queries and explored 10.71 edges on average.\n",
      "DijkstraRouter spent 0.03s answering queries (0.01ms on average).\n",
      "####### 74 ########\n",
      "##### n=98 #####\n",
      "##### best_value=-0.0037448734110968763 #####\n",
      "printing /Users/rodrse/Documents/DemandCalibration/notebooks/od_calibration_sumo_files/quickstart/data/iter_quickstart.current_od.xml\n",
      "### Runing: iter\n",
      "od2trips --no-step-log  --spread.uniform --taz-files /Users/rodrse/Documents/DemandCalibration/notebooks/od_calibration_sumo_files/quickstart/data/quickstart.taz.xml --tazrelation-files /Users/rodrse/Documents/DemandCalibration/notebooks/od_calibration_sumo_files/quickstart/data/iter_quickstart.current_od.xml -o /Users/rodrse/Documents/DemandCalibration/notebooks/od_calibration_sumo_files/quickstart/data/iter_od_trips.trips.xml \n",
      "Success.\n",
      "Loading net-file from '/Users/rodrse/Documents/DemandCalibration/notebooks/od_calibration_sumo_files/quickstart/data/quickstart.net.xml' ... done (6ms).\n",
      "Loading additional-files from '/Users/rodrse/Documents/DemandCalibration/notebooks/od_calibration_sumo_files/quickstart/data/quickstart.additional.xml' ... done (2ms).\n",
      "Loading done.\n",
      "Simulation version 1.16.0 started with time: 54000.00.\n",
      "Step #56400.00 (11ms ~= 90.91*RT, ~83454.55UPS, vehicles TOT 2160 ACT 918 BUF 0)          \r"
     ]
    },
    {
     "name": "stderr",
     "output_type": "stream",
     "text": [
      "Warning: Teleporting vehicle '384'; waited too long (wrong lane), lane='L15_0', time=56476.00.\n",
      "Warning: Vehicle '384' ends teleporting on edge 'L18', time=56476.00.\n",
      "Warning: Teleporting vehicle '390'; waited too long (wrong lane), lane='L15_0', time=56477.00.\n",
      "Warning: Vehicle '390' ends teleporting on edge 'L18', time=56477.00.\n",
      "Warning: Teleporting vehicle '444'; waited too long (wrong lane), lane='L15_0', time=56479.00.\n",
      "Warning: Vehicle '444' ends teleporting on edge 'L18', time=56479.00.\n",
      "Warning: Teleporting vehicle '396'; waited too long (wrong lane), lane='L15_0', time=56493.00.\n",
      "Warning: Vehicle '396' ends teleporting on edge 'L18', time=56493.00.\n",
      "Warning: Teleporting vehicle '400'; waited too long (wrong lane), lane='L15_0', time=56494.00.\n",
      "Warning: Vehicle '400' ends teleporting on edge 'L18', time=56494.00.\n",
      "Warning: Teleporting vehicle '401'; waited too long (wrong lane), lane='L15_0', time=56495.00.\n",
      "Warning: Vehicle '401' ends teleporting on edge 'L18', time=56495.00.\n",
      "Warning: Teleporting vehicle '407'; waited too long (wrong lane), lane='L15_0', time=56496.00.\n",
      "Warning: Vehicle '407' ends teleporting on edge 'L18', time=56496.00.\n",
      "Warning: Teleporting vehicle '422'; waited too long (wrong lane), lane='L15_0', time=56498.00.\n",
      "Warning: Vehicle '422' ends teleporting on edge 'L18', time=56498.00.\n",
      "Warning: Teleporting vehicle '438'; waited too long (wrong lane), lane='L15_0', time=56499.00.\n",
      "Warning: Vehicle '438' ends teleporting on edge 'L18', time=56499.00.\n",
      "Warning: Teleporting vehicle '412'; waited too long (wrong lane), lane='L15_0', time=56504.00.\n",
      "Warning: Vehicle '412' ends teleporting on edge 'L18', time=56504.00.\n",
      "Warning: Teleporting vehicle '419'; waited too long (wrong lane), lane='L15_0', time=56506.00.\n",
      "Warning: Vehicle '419' ends teleporting on edge 'L18', time=56506.00.\n",
      "Warning: Teleporting vehicle '421'; waited too long (wrong lane), lane='L15_0', time=56511.00.\n",
      "Warning: Vehicle '421' ends teleporting on edge 'L18', time=56511.00.\n",
      "Warning: Teleporting vehicle '425'; waited too long (wrong lane), lane='L15_0', time=56512.00.\n",
      "Warning: Vehicle '425' ends teleporting on edge 'L18', time=56512.00.\n",
      "Warning: Teleporting vehicle '428'; waited too long (wrong lane), lane='L15_0', time=56514.00.\n",
      "Warning: Vehicle '428' ends teleporting on edge 'L18', time=56514.00.\n"
     ]
    },
    {
     "name": "stdout",
     "output_type": "stream",
     "text": [
      "Step #56500.00 (11ms ~= 90.91*RT, ~85818.18UPS, vehicles TOT 2249 ACT 944 BUF 0)          \r"
     ]
    },
    {
     "name": "stderr",
     "output_type": "stream",
     "text": [
      "Warning: Teleporting vehicle '453'; waited too long (wrong lane), lane='L15_0', time=56516.00.\n",
      "Warning: Vehicle '453' ends teleporting on edge 'L18', time=56516.00.\n",
      "Warning: Teleporting vehicle '443'; waited too long (wrong lane), lane='L15_0', time=56593.00.\n",
      "Warning: Vehicle '443' ends teleporting on edge 'L18', time=56593.00.\n",
      "Warning: Teleporting vehicle '433'; waited too long (wrong lane), lane='L15_0', time=56594.00.\n",
      "Warning: Vehicle '433' ends teleporting on edge 'L18', time=56594.00.\n",
      "Warning: Teleporting vehicle '459'; waited too long (wrong lane), lane='L15_0', time=56600.00.\n",
      "Warning: Vehicle '459' ends teleporting on edge 'L18', time=56600.00.\n",
      "Warning: Teleporting vehicle '461'; waited too long (wrong lane), lane='L15_0', time=56601.00.\n",
      "Warning: Vehicle '461' ends teleporting on edge 'L18', time=56601.00.\n",
      "Warning: Teleporting vehicle '463'; waited too long (wrong lane), lane='L15_0', time=56602.00.\n",
      "Warning: Vehicle '463' ends teleporting on edge 'L18', time=56602.00.\n",
      "Warning: Teleporting vehicle '462'; waited too long (wrong lane), lane='L15_0', time=56603.00.\n",
      "Warning: Vehicle '462' ends teleporting on edge 'L18', time=56603.00.\n",
      "Warning: Teleporting vehicle '472'; waited too long (wrong lane), lane='L15_0', time=56604.00.\n",
      "Warning: Vehicle '472' ends teleporting on edge 'L18', time=56604.00.\n",
      "Warning: Teleporting vehicle '416'; waited too long (wrong lane), lane='L15_0', time=56609.00.\n",
      "Warning: Vehicle '416' ends teleporting on edge 'L18', time=56609.00.\n",
      "Warning: Teleporting vehicle '427'; waited too long (wrong lane), lane='L15_0', time=56610.00.\n",
      "Warning: Vehicle '427' ends teleporting on edge 'L18', time=56610.00.\n",
      "Warning: Teleporting vehicle '431'; waited too long (wrong lane), lane='L15_0', time=56611.00.\n"
     ]
    },
    {
     "name": "stdout",
     "output_type": "stream",
     "text": [
      "Step #56600.00 (9ms ~= 111.11*RT, ~106333.33UPS, vehicles TOT 2340 ACT 957 BUF 0)         \r"
     ]
    },
    {
     "name": "stderr",
     "output_type": "stream",
     "text": [
      "Warning: Vehicle '431' ends teleporting on edge 'L18', time=56611.00.\n",
      "Warning: Teleporting vehicle '466'; waited too long (wrong lane), lane='L15_0', time=56612.00.\n",
      "Warning: Vehicle '466' ends teleporting on edge 'L18', time=56612.00.\n",
      "Warning: Teleporting vehicle '447'; waited too long (wrong lane), lane='L15_0', time=56613.00.\n",
      "Warning: Vehicle '447' ends teleporting on edge 'L18', time=56613.00.\n",
      "Warning: Teleporting vehicle '460'; waited too long (wrong lane), lane='L15_0', time=56614.00.\n",
      "Warning: Vehicle '460' ends teleporting on edge 'L18', time=56614.00.\n",
      "Warning: Teleporting vehicle '450'; waited too long (wrong lane), lane='L15_0', time=56615.00.\n",
      "Warning: Vehicle '450' ends teleporting on edge 'L18', time=56615.00.\n",
      "Warning: Teleporting vehicle '467'; waited too long (wrong lane), lane='L15_0', time=56616.00.\n",
      "Warning: Vehicle '467' ends teleporting on edge 'L18', time=56616.00.\n",
      "Warning: Teleporting vehicle '476'; waited too long (wrong lane), lane='L15_0', time=56617.00.\n",
      "Warning: Vehicle '476' ends teleporting on edge 'L18', time=56617.00.\n",
      "Warning: Teleporting vehicle '465'; waited too long (wrong lane), lane='L15_0', time=56618.00.\n",
      "Warning: Vehicle '465' ends teleporting on edge 'L18', time=56618.00.\n",
      "Warning: Teleporting vehicle '479'; waited too long (wrong lane), lane='L15_0', time=56619.00.\n",
      "Warning: Vehicle '479' ends teleporting on edge 'L18', time=56619.00.\n",
      "Warning: Teleporting vehicle '483'; waited too long (wrong lane), lane='L15_0', time=56620.00.\n",
      "Warning: Vehicle '483' ends teleporting on edge 'L18', time=56620.00.\n",
      "Warning: Teleporting vehicle '475'; waited too long (wrong lane), lane='L15_0', time=56621.00.\n",
      "Warning: Vehicle '475' ends teleporting on edge 'L18', time=56621.00.\n",
      "Warning: Teleporting vehicle '485'; waited too long (wrong lane), lane='L15_0', time=56622.00.\n",
      "Warning: Vehicle '485' ends teleporting on edge 'L18', time=56622.00.\n",
      "Warning: Teleporting vehicle '404'; waited too long (wrong lane), lane='L15_0', time=56623.00.\n",
      "Warning: Vehicle '404' ends teleporting on edge 'L18', time=56623.00.\n",
      "Warning: Teleporting vehicle '406'; waited too long (wrong lane), lane='L15_0', time=56624.00.\n",
      "Warning: Vehicle '406' ends teleporting on edge 'L18', time=56624.00.\n",
      "Warning: Teleporting vehicle '413'; waited too long (wrong lane), lane='L15_0', time=56625.00.\n",
      "Warning: Vehicle '413' ends teleporting on edge 'L18', time=56625.00.\n",
      "Warning: Teleporting vehicle '457'; waited too long (wrong lane), lane='L15_0', time=56632.00.\n",
      "Warning: Vehicle '457' ends teleporting on edge 'L18', time=56632.00.\n",
      "Warning: Teleporting vehicle '346'; waited too long (jam), lane='L12_1', time=56669.00.\n",
      "Warning: Vehicle '346' ends teleporting on edge 'L15', time=56669.00.\n"
     ]
    },
    {
     "name": "stdout",
     "output_type": "stream",
     "text": [
      "Step #56700.00 (9ms ~= 111.11*RT, ~106888.89UPS, vehicles TOT 2430 ACT 962 BUF 0)         \r"
     ]
    },
    {
     "name": "stderr",
     "output_type": "stream",
     "text": [
      "Warning: Teleporting vehicle '516'; waited too long (jam), lane='L12_0', time=56776.00.\n",
      "Warning: Vehicle '516' ends teleporting on edge 'L15', time=56783.00.\n"
     ]
    },
    {
     "name": "stdout",
     "output_type": "stream",
     "text": [
      "Step #56800.00 (21ms ~= 47.62*RT, ~45047.62UPS, vehicles TOT 2519 ACT 946 BUF 0)          \r"
     ]
    },
    {
     "name": "stderr",
     "output_type": "stream",
     "text": [
      "Warning: Teleporting vehicle '601'; waited too long (jam), lane='D2_0', time=56865.00.\n",
      "Warning: Vehicle '601' ends teleporting on edge 'L2', time=56865.00.\n"
     ]
    },
    {
     "name": "stdout",
     "output_type": "stream",
     "text": [
      "Step #57200.00 (9ms ~= 111.11*RT, ~96000.00UPS, vehicles TOT 2749 ACT 864 BUF 130)        \r"
     ]
    },
    {
     "name": "stderr",
     "output_type": "stream",
     "text": [
      "Warning: Teleporting vehicle '536'; waited too long (jam), lane='L2_0', time=57269.00.\n",
      "Warning: Vehicle '536' ends teleporting on edge 'L12', time=57269.00.\n",
      "Warning: Teleporting vehicle '677'; waited too long (wrong lane), lane='L12_2', time=57282.00.\n"
     ]
    },
    {
     "name": "stdout",
     "output_type": "stream",
     "text": [
      "Step #57300.00 (9ms ~= 111.11*RT, ~93444.44UPS, vehicles TOT 2818 ACT 841 BUF 150)        \r"
     ]
    },
    {
     "name": "stderr",
     "output_type": "stream",
     "text": [
      "Warning: Vehicle '677' ends teleporting on edge 'L15', time=57316.00.\n",
      "Warning: Teleporting vehicle '680'; waited too long (wrong lane), lane='L12_2', time=57355.00.\n",
      "Warning: Vehicle '680' ends teleporting on edge 'L15', time=57374.00.\n"
     ]
    },
    {
     "name": "stdout",
     "output_type": "stream",
     "text": [
      "Step #57400.00 (8ms ~= 125.00*RT, ~102125.00UPS, vehicles TOT 2887 ACT 817 BUF 173)       \r"
     ]
    },
    {
     "name": "stderr",
     "output_type": "stream",
     "text": [
      "Warning: Teleporting vehicle '682'; waited too long (wrong lane), lane='L12_2', time=57443.00.\n"
     ]
    },
    {
     "name": "stdout",
     "output_type": "stream",
     "text": [
      "Step #57500.00 (8ms ~= 125.00*RT, ~102125.00UPS, vehicles TOT 2956 ACT 817 BUF 193)       \r"
     ]
    },
    {
     "name": "stderr",
     "output_type": "stream",
     "text": [
      "Warning: Teleporting vehicle '685'; waited too long (wrong lane), lane='L12_2', time=57525.00.\n",
      "Warning: Teleporting vehicle '537'; waited too long (jam), lane='L2_0', time=57575.00.\n",
      "Warning: Vehicle '537' ends teleporting on edge 'L12', time=57575.00.\n",
      "Warning: Vehicle '682' ends teleporting on edge 'L15', time=57583.00.\n"
     ]
    },
    {
     "name": "stdout",
     "output_type": "stream",
     "text": [
      "Step #57600.00 (8ms ~= 125.00*RT, ~101750.00UPS, vehicles TOT 3003 ACT 814 BUF 236)       \n",
      "Simulation ended at time: 57600.00\n",
      "Reason: The final simulation step has been reached.\n",
      "Performance: \n",
      " Duration: 28.78s\n",
      " Real time factor: 125.096\n",
      " UPS: 83711.376746\n",
      "Vehicles: \n",
      " Inserted: 3003 (Loaded: 3239)\n",
      " Running: 814\n",
      " Waiting: 236\n",
      " Teleports: 49 (Jam: 5, Wrong Lane: 44)\n",
      "Statistics (avg of 2189):\n",
      " RouteLength: 4435.02\n",
      " Speed: 10.05\n",
      " Duration: 601.42\n",
      " WaitingTime: 115.90\n",
      " TimeLoss: 280.21\n",
      " DepartDelay: 0.50\n",
      "\n",
      "DijkstraRouter answered 3354 queries and explored 10.28 edges on average.\n",
      "DijkstraRouter spent 0.03s answering queries (0.01ms on average).\n",
      "####### 75 ########\n",
      "##### n=99 #####\n",
      "##### best_value=-0.0037448734110968763 #####\n",
      "printing /Users/rodrse/Documents/DemandCalibration/notebooks/od_calibration_sumo_files/quickstart/data/iter_quickstart.current_od.xml\n",
      "### Runing: iter\n",
      "od2trips --no-step-log  --spread.uniform --taz-files /Users/rodrse/Documents/DemandCalibration/notebooks/od_calibration_sumo_files/quickstart/data/quickstart.taz.xml --tazrelation-files /Users/rodrse/Documents/DemandCalibration/notebooks/od_calibration_sumo_files/quickstart/data/iter_quickstart.current_od.xml -o /Users/rodrse/Documents/DemandCalibration/notebooks/od_calibration_sumo_files/quickstart/data/iter_od_trips.trips.xml \n",
      "Success.\n",
      "Loading net-file from '/Users/rodrse/Documents/DemandCalibration/notebooks/od_calibration_sumo_files/quickstart/data/quickstart.net.xml' ... done (6ms).\n",
      "Loading additional-files from '/Users/rodrse/Documents/DemandCalibration/notebooks/od_calibration_sumo_files/quickstart/data/quickstart.additional.xml' ... done (1ms).\n",
      "Loading done.\n",
      "Simulation version 1.16.0 started with time: 54000.00.\n",
      "Step #57600.00 (7ms ~= 142.86*RT, ~99285.71UPS, vehicles TOT 2846 ACT 695 BUF 0)          \n",
      "Simulation ended at time: 57600.00\n",
      "Reason: The final simulation step has been reached.\n",
      "Performance: \n",
      " Duration: 16.33s\n",
      " Real time factor: 220.494\n",
      " UPS: 102911.741287\n",
      "Vehicles: \n",
      " Inserted: 2846\n",
      " Running: 695\n",
      " Waiting: 0\n",
      "Statistics (avg of 2151):\n",
      " RouteLength: 4289.66\n",
      " Speed: 11.38\n",
      " Duration: 487.24\n",
      " WaitingTime: 104.17\n",
      " TimeLoss: 175.75\n",
      " DepartDelay: 0.49\n",
      "\n",
      "DijkstraRouter answered 2846 queries and explored 9.59 edges on average.\n",
      "DijkstraRouter spent 0.01s answering queries (0.00ms on average).\n",
      "####### 76 ########\n",
      "##### n=100 #####\n",
      "##### best_value=-0.0037448734110968763 #####\n",
      "printing /Users/rodrse/Documents/DemandCalibration/notebooks/od_calibration_sumo_files/quickstart/data/iter_quickstart.current_od.xml\n",
      "### Runing: iter\n",
      "od2trips --no-step-log  --spread.uniform --taz-files /Users/rodrse/Documents/DemandCalibration/notebooks/od_calibration_sumo_files/quickstart/data/quickstart.taz.xml --tazrelation-files /Users/rodrse/Documents/DemandCalibration/notebooks/od_calibration_sumo_files/quickstart/data/iter_quickstart.current_od.xml -o /Users/rodrse/Documents/DemandCalibration/notebooks/od_calibration_sumo_files/quickstart/data/iter_od_trips.trips.xml \n",
      "Success.\n",
      "Loading net-file from '/Users/rodrse/Documents/DemandCalibration/notebooks/od_calibration_sumo_files/quickstart/data/quickstart.net.xml' ... done (5ms).\n",
      "Loading additional-files from '/Users/rodrse/Documents/DemandCalibration/notebooks/od_calibration_sumo_files/quickstart/data/quickstart.additional.xml' ... done (1ms).\n",
      "Loading done.\n",
      "Simulation version 1.16.0 started with time: 54000.00.\n",
      "Step #57600.00 (10ms ~= 100.00*RT, ~79900.00UPS, vehicles TOT 2990 ACT 799 BUF 77)        \n",
      "Simulation ended at time: 57600.00\n",
      "Reason: The final simulation step has been reached.\n",
      "Performance: \n",
      " Duration: 22.03s\n",
      " Real time factor: 163.391\n",
      " UPS: 94696.909182\n",
      "Vehicles: \n",
      " Inserted: 2990 (Loaded: 3067)\n",
      " Running: 799\n",
      " Waiting: 77\n",
      "Statistics (avg of 2191):\n",
      " RouteLength: 4296.95\n",
      " Speed: 10.62\n",
      " Duration: 598.05\n",
      " WaitingTime: 163.72\n",
      " TimeLoss: 286.90\n",
      " DepartDelay: 0.48\n",
      "\n",
      "DijkstraRouter answered 3105 queries and explored 9.64 edges on average.\n",
      "DijkstraRouter spent 0.01s answering queries (0.00ms on average).\n",
      "####### 77 ########\n",
      "##### n=101 #####\n",
      "##### best_value=-0.0037448734110968763 #####\n",
      "printing /Users/rodrse/Documents/DemandCalibration/notebooks/od_calibration_sumo_files/quickstart/data/iter_quickstart.current_od.xml\n",
      "### Runing: iter\n",
      "od2trips --no-step-log  --spread.uniform --taz-files /Users/rodrse/Documents/DemandCalibration/notebooks/od_calibration_sumo_files/quickstart/data/quickstart.taz.xml --tazrelation-files /Users/rodrse/Documents/DemandCalibration/notebooks/od_calibration_sumo_files/quickstart/data/iter_quickstart.current_od.xml -o /Users/rodrse/Documents/DemandCalibration/notebooks/od_calibration_sumo_files/quickstart/data/iter_od_trips.trips.xml \n",
      "Success.\n",
      "Loading net-file from '/Users/rodrse/Documents/DemandCalibration/notebooks/od_calibration_sumo_files/quickstart/data/quickstart.net.xml' ... done (8ms).\n",
      "Loading additional-files from '/Users/rodrse/Documents/DemandCalibration/notebooks/od_calibration_sumo_files/quickstart/data/quickstart.additional.xml' ... done (1ms).\n",
      "Loading done.\n",
      "Simulation version 1.16.0 started with time: 54000.00.\n",
      "Step #56900.00 (6ms ~= 166.67*RT, ~143166.67UPS, vehicles TOT 2585 ACT 859 BUF 0)         \r"
     ]
    },
    {
     "name": "stderr",
     "output_type": "stream",
     "text": [
      "Warning: Teleporting vehicle '605'; waited too long (wrong lane), lane='L12_2', time=56957.00.\n",
      "Warning: Vehicle '605' ends teleporting on edge 'L15', time=56962.00.\n",
      "Warning: Teleporting vehicle '606'; waited too long (wrong lane), lane='L12_2', time=56981.00.\n",
      "Warning: Teleporting vehicle '607'; waited too long (wrong lane), lane='L12_2', time=56982.00.\n"
     ]
    },
    {
     "name": "stdout",
     "output_type": "stream",
     "text": [
      "Step #57000.00 (8ms ~= 125.00*RT, ~110750.00UPS, vehicles TOT 2675 ACT 886 BUF 0)         \r"
     ]
    },
    {
     "name": "stderr",
     "output_type": "stream",
     "text": [
      "Warning: Vehicle '606' ends teleporting on edge 'L15', time=57016.00.\n",
      "Warning: Teleporting vehicle '610'; waited too long (wrong lane), lane='L12_2', time=57025.00.\n",
      "Warning: Vehicle '607' ends teleporting on edge 'L15', time=57083.00.\n"
     ]
    },
    {
     "name": "stdout",
     "output_type": "stream",
     "text": [
      "Step #57100.00 (10ms ~= 100.00*RT, ~92100.00UPS, vehicles TOT 2763 ACT 921 BUF 1)         \r"
     ]
    },
    {
     "name": "stderr",
     "output_type": "stream",
     "text": [
      "Warning: Vehicle '610' ends teleporting on edge 'L15', time=57125.00.\n",
      "Warning: Teleporting vehicle '1287'; waited too long (jam), lane='L2_1', time=57142.00.\n",
      "Warning: Vehicle '1287' ends teleporting on edge 'L12', time=57142.00.\n",
      "Warning: Teleporting vehicle '676'; waited too long (jam), lane='L2_1', time=57143.00.\n",
      "Warning: Vehicle '676' ends teleporting on edge 'L12', time=57143.00.\n",
      "Warning: Teleporting vehicle '677'; waited too long (jam), lane='L2_1', time=57145.00.\n",
      "Warning: Vehicle '677' ends teleporting on edge 'L12', time=57145.00.\n",
      "Warning: Teleporting vehicle '474'; waited too long (jam), lane='L2_0', time=57152.00.\n",
      "Warning: Vehicle '474' ends teleporting on edge 'L12', time=57152.00.\n"
     ]
    },
    {
     "name": "stdout",
     "output_type": "stream",
     "text": [
      "Step #57200.00 (8ms ~= 125.00*RT, ~115000.00UPS, vehicles TOT 2820 ACT 920 BUF 32)        \r"
     ]
    },
    {
     "name": "stderr",
     "output_type": "stream",
     "text": [
      "Warning: Teleporting vehicle '541'; waited too long (jam), lane='D2_0', time=57243.00.\n",
      "Warning: Teleporting vehicle '614'; waited too long (wrong lane), lane='L12_2', time=57264.00.\n",
      "Warning: Vehicle '614' ends teleporting on edge 'L15', time=57264.00.\n",
      "Warning: Teleporting vehicle '722'; waited too long (jam), lane='D2_1', time=57286.00.\n"
     ]
    },
    {
     "name": "stdout",
     "output_type": "stream",
     "text": [
      "Step #57300.00 (8ms ~= 125.00*RT, ~114625.00UPS, vehicles TOT 2870 ACT 917 BUF 72)        \r"
     ]
    },
    {
     "name": "stderr",
     "output_type": "stream",
     "text": [
      "Warning: Teleporting vehicle '617'; waited too long (wrong lane), lane='L12_2', time=57336.00.\n",
      "Warning: Vehicle '617' ends teleporting on edge 'L15', time=57336.00.\n",
      "Warning: Teleporting vehicle '618'; waited too long (wrong lane), lane='L12_2', time=57368.00.\n",
      "Warning: Vehicle '618' ends teleporting on edge 'L15', time=57375.00.\n"
     ]
    },
    {
     "name": "stdout",
     "output_type": "stream",
     "text": [
      "Step #57400.00 (9ms ~= 111.11*RT, ~100666.67UPS, vehicles TOT 2922 ACT 906 BUF 110)       \r"
     ]
    },
    {
     "name": "stderr",
     "output_type": "stream",
     "text": [
      "Warning: Teleporting vehicle '621'; waited too long (wrong lane), lane='L12_2', time=57440.00.\n",
      "Warning: Teleporting vehicle '1288'; waited too long (jam), lane='L2_1', time=57454.00.\n",
      "Warning: Teleporting vehicle '475'; waited too long (jam), lane='L2_0', time=57458.00.\n",
      "Warning: Vehicle '475' ends teleporting on edge 'L12', time=57458.00.\n",
      "Warning: Vehicle '621' ends teleporting on edge 'L15', time=57462.00.\n"
     ]
    },
    {
     "name": "stdout",
     "output_type": "stream",
     "text": [
      "Step #57500.00 (9ms ~= 111.11*RT, ~100333.33UPS, vehicles TOT 2971 ACT 903 BUF 149)       \r"
     ]
    },
    {
     "name": "stderr",
     "output_type": "stream",
     "text": [
      "Warning: Teleporting vehicle '623'; waited too long (wrong lane), lane='L12_2', time=57518.00.\n",
      "Warning: Vehicle '623' ends teleporting on edge 'L15', time=57521.00.\n",
      "Warning: Teleporting vehicle '542'; waited too long (jam), lane='D2_0', time=57550.00.\n",
      "Warning: Vehicle '1288' ends teleporting on edge 'L12', time=57590.00.\n",
      "Warning: Teleporting vehicle '1315'; waited too long (jam), lane='D2_1', time=57592.00.\n"
     ]
    },
    {
     "name": "stdout",
     "output_type": "stream",
     "text": [
      "Step #57600.00 (8ms ~= 125.00*RT, ~113250.00UPS, vehicles TOT 3021 ACT 906 BUF 188)       \n",
      "Simulation ended at time: 57600.00\n",
      "Reason: The final simulation step has been reached.\n",
      "Performance: \n",
      " Duration: 20.68s\n",
      " Real time factor: 174.115\n",
      " UPS: 104145.482685\n",
      "Vehicles: \n",
      " Inserted: 3021 (Loaded: 3209)\n",
      " Running: 906\n",
      " Waiting: 188\n",
      " Teleports: 19 (Jam: 10, Wrong Lane: 9)\n",
      "Statistics (avg of 2115):\n",
      " RouteLength: 4445.96\n",
      " Speed: 12.37\n",
      " Duration: 426.03\n",
      " WaitingTime: 68.82\n",
      " TimeLoss: 103.66\n",
      " DepartDelay: 0.50\n",
      "\n",
      "DijkstraRouter answered 3210 queries and explored 10.74 edges on average.\n",
      "DijkstraRouter spent 0.02s answering queries (0.01ms on average).\n",
      "####### 78 ########\n",
      "##### n=102 #####\n",
      "##### best_value=-0.0037448734110968763 #####\n",
      "printing /Users/rodrse/Documents/DemandCalibration/notebooks/od_calibration_sumo_files/quickstart/data/iter_quickstart.current_od.xml\n",
      "### Runing: iter\n",
      "od2trips --no-step-log  --spread.uniform --taz-files /Users/rodrse/Documents/DemandCalibration/notebooks/od_calibration_sumo_files/quickstart/data/quickstart.taz.xml --tazrelation-files /Users/rodrse/Documents/DemandCalibration/notebooks/od_calibration_sumo_files/quickstart/data/iter_quickstart.current_od.xml -o /Users/rodrse/Documents/DemandCalibration/notebooks/od_calibration_sumo_files/quickstart/data/iter_od_trips.trips.xml \n",
      "Success.\n",
      "Loading net-file from '/Users/rodrse/Documents/DemandCalibration/notebooks/od_calibration_sumo_files/quickstart/data/quickstart.net.xml' ... done (5ms).\n",
      "Loading additional-files from '/Users/rodrse/Documents/DemandCalibration/notebooks/od_calibration_sumo_files/quickstart/data/quickstart.additional.xml' ... done (1ms).\n",
      "Loading done.\n",
      "Simulation version 1.16.0 started with time: 54000.00.\n",
      "Step #57600.00 (4ms ~= 250.00*RT, ~152250.00UPS, vehicles TOT 2376 ACT 609 BUF 0)         \n",
      "Simulation ended at time: 57600.00\n",
      "Reason: The final simulation step has been reached.\n",
      "Performance: \n",
      " Duration: 10.42s\n",
      " Real time factor: 345.622\n",
      " UPS: 134119.911674\n",
      "Vehicles: \n",
      " Inserted: 2376\n",
      " Running: 609\n",
      " Waiting: 0\n",
      "Statistics (avg of 1767):\n",
      " RouteLength: 4486.28\n",
      " Speed: 12.42\n",
      " Duration: 429.23\n",
      " WaitingTime: 69.81\n",
      " TimeLoss: 104.14\n",
      " DepartDelay: 0.49\n",
      "\n",
      "DijkstraRouter answered 2376 queries and explored 10.84 edges on average.\n",
      "DijkstraRouter spent 0.01s answering queries (0.00ms on average).\n",
      "####### 79 ########\n",
      "##### n=103 #####\n",
      "##### best_value=-0.0037448734110968763 #####\n",
      "printing /Users/rodrse/Documents/DemandCalibration/notebooks/od_calibration_sumo_files/quickstart/data/iter_quickstart.current_od.xml\n",
      "### Runing: iter\n",
      "od2trips --no-step-log  --spread.uniform --taz-files /Users/rodrse/Documents/DemandCalibration/notebooks/od_calibration_sumo_files/quickstart/data/quickstart.taz.xml --tazrelation-files /Users/rodrse/Documents/DemandCalibration/notebooks/od_calibration_sumo_files/quickstart/data/iter_quickstart.current_od.xml -o /Users/rodrse/Documents/DemandCalibration/notebooks/od_calibration_sumo_files/quickstart/data/iter_od_trips.trips.xml \n",
      "Success.\n",
      "Loading net-file from '/Users/rodrse/Documents/DemandCalibration/notebooks/od_calibration_sumo_files/quickstart/data/quickstart.net.xml' ... done (6ms).\n",
      "Loading additional-files from '/Users/rodrse/Documents/DemandCalibration/notebooks/od_calibration_sumo_files/quickstart/data/quickstart.additional.xml' ... done (1ms).\n",
      "Loading done.\n",
      "Simulation version 1.16.0 started with time: 54000.00.\n",
      "Step #57600.00 (5ms ~= 200.00*RT, ~143200.00UPS, vehicles TOT 2799 ACT 716 BUF 0)         \n",
      "Simulation ended at time: 57600.00\n",
      "Reason: The final simulation step has been reached.\n",
      "Performance: \n",
      " Duration: 13.04s\n",
      " Real time factor: 276.052\n",
      " UPS: 130777.164328\n",
      "Vehicles: \n",
      " Inserted: 2799\n",
      " Running: 716\n",
      " Waiting: 0\n",
      "Statistics (avg of 2083):\n",
      " RouteLength: 4288.77\n",
      " Speed: 11.16\n",
      " Duration: 511.19\n",
      " WaitingTime: 115.91\n",
      " TimeLoss: 199.82\n",
      " DepartDelay: 0.49\n",
      "\n",
      "DijkstraRouter answered 2799 queries and explored 9.61 edges on average.\n",
      "DijkstraRouter spent 0.01s answering queries (0.00ms on average).\n",
      "####### 80 ########\n",
      "##### n=104 #####\n",
      "##### best_value=-0.0037448734110968763 #####\n",
      "printing /Users/rodrse/Documents/DemandCalibration/notebooks/od_calibration_sumo_files/quickstart/data/iter_quickstart.current_od.xml\n",
      "### Runing: iter\n",
      "od2trips --no-step-log  --spread.uniform --taz-files /Users/rodrse/Documents/DemandCalibration/notebooks/od_calibration_sumo_files/quickstart/data/quickstart.taz.xml --tazrelation-files /Users/rodrse/Documents/DemandCalibration/notebooks/od_calibration_sumo_files/quickstart/data/iter_quickstart.current_od.xml -o /Users/rodrse/Documents/DemandCalibration/notebooks/od_calibration_sumo_files/quickstart/data/iter_od_trips.trips.xml \n",
      "Success.\n",
      "Loading net-file from '/Users/rodrse/Documents/DemandCalibration/notebooks/od_calibration_sumo_files/quickstart/data/quickstart.net.xml' ... done (5ms).\n",
      "Loading additional-files from '/Users/rodrse/Documents/DemandCalibration/notebooks/od_calibration_sumo_files/quickstart/data/quickstart.additional.xml' ... done (1ms).\n",
      "Loading done.\n",
      "Simulation version 1.16.0 started with time: 54000.00.\n",
      "Step #56900.00 (7ms ~= 142.86*RT, ~130571.43UPS, vehicles TOT 2758 ACT 914 BUF 0)         \r"
     ]
    },
    {
     "name": "stderr",
     "output_type": "stream",
     "text": [
      "Warning: Teleporting vehicle '594'; waited too long (wrong lane), lane='L12_2', time=56967.00.\n",
      "Warning: Teleporting vehicle '462'; waited too long (jam), lane=':1_3_1', time=56978.00.\n",
      "Warning: Vehicle '462' ends teleporting on edge 'L12', time=56978.00.\n",
      "Warning: Vehicle '594' ends teleporting on edge 'L15', time=56978.00.\n"
     ]
    },
    {
     "name": "stdout",
     "output_type": "stream",
     "text": [
      "Step #57000.00 (9ms ~= 111.11*RT, ~104666.67UPS, vehicles TOT 2854 ACT 942 BUF 0)         \r"
     ]
    },
    {
     "name": "stderr",
     "output_type": "stream",
     "text": [
      "Warning: Teleporting vehicle '598'; waited too long (wrong lane), lane='L12_2', time=57031.00.\n",
      "Warning: Teleporting vehicle '664'; waited too long (jam), lane=':1_3_2', time=57049.00.\n",
      "Warning: Vehicle '664' ends teleporting on edge 'L12', time=57049.00.\n",
      "Warning: Teleporting vehicle '665'; waited too long (jam), lane='L2_1', time=57050.00.\n",
      "Warning: Vehicle '665' ends teleporting on edge 'L12', time=57050.00.\n",
      "Warning: Teleporting vehicle '599'; waited too long (wrong lane), lane='L12_2', time=57058.00.\n",
      "Warning: Vehicle '598' ends teleporting on edge 'L15', time=57063.00.\n",
      "Warning: Teleporting vehicle '600'; waited too long (wrong lane), lane='L12_2', time=57087.00.\n",
      "Warning: Vehicle '599' ends teleporting on edge 'L15', time=57094.00.\n"
     ]
    },
    {
     "name": "stdout",
     "output_type": "stream",
     "text": [
      "Step #57100.00 (8ms ~= 125.00*RT, ~117750.00UPS, vehicles TOT 2909 ACT 942 BUF 39)        \r"
     ]
    },
    {
     "name": "stderr",
     "output_type": "stream",
     "text": [
      "Warning: Teleporting vehicle '603'; waited too long (wrong lane), lane='L12_2', time=57169.00.\n",
      "Warning: Teleporting vehicle '709'; waited too long (jam), lane='D2_1', time=57179.00.\n",
      "Warning: Vehicle '709' ends teleporting on edge 'L2', time=57179.00.\n",
      "Warning: Teleporting vehicle '710'; waited too long (jam), lane='D2_1', time=57180.00.\n",
      "Warning: Vehicle '600' ends teleporting on edge 'L15', time=57183.00.\n"
     ]
    },
    {
     "name": "stdout",
     "output_type": "stream",
     "text": [
      "Step #57200.00 (13ms ~= 76.92*RT, ~71538.46UPS, vehicles TOT 2965 ACT 930 BUF 78)         \r"
     ]
    },
    {
     "name": "stderr",
     "output_type": "stream",
     "text": [
      "Warning: Vehicle '603' ends teleporting on edge 'L15', time=57248.00.\n"
     ]
    },
    {
     "name": "stdout",
     "output_type": "stream",
     "text": [
      "Step #57300.00 (10ms ~= 100.00*RT, ~92900.00UPS, vehicles TOT 3021 ACT 929 BUF 118)       \r"
     ]
    },
    {
     "name": "stderr",
     "output_type": "stream",
     "text": [
      "Warning: Teleporting vehicle '611'; waited too long (wrong lane), lane='L12_2', time=57352.00.\n",
      "Warning: Vehicle '611' ends teleporting on edge 'L15', time=57352.00.\n",
      "Warning: Teleporting vehicle '1298'; waited too long (jam), lane=':1_3_2', time=57358.00.\n",
      "Warning: Vehicle '1298' ends teleporting on edge 'L12', time=57358.00.\n",
      "Warning: Teleporting vehicle '530'; waited too long (jam), lane='D2_0', time=57373.00.\n",
      "Warning: Teleporting vehicle '612'; waited too long (wrong lane), lane='L12_2', time=57394.00.\n",
      "Warning: Vehicle '612' ends teleporting on edge 'L15', time=57394.00.\n"
     ]
    },
    {
     "name": "stdout",
     "output_type": "stream",
     "text": [
      "Step #57400.00 (9ms ~= 111.11*RT, ~103000.00UPS, vehicles TOT 3076 ACT 927 BUF 158)       \r"
     ]
    },
    {
     "name": "stderr",
     "output_type": "stream",
     "text": [
      "Warning: Teleporting vehicle '464'; waited too long (jam), lane=':1_3_1', time=57477.00.\n",
      "Warning: Vehicle '464' ends teleporting on edge 'L12', time=57477.00.\n",
      "Warning: Vehicle '530' ends teleporting on edge 'L2', time=57479.00.\n",
      "Warning: Vehicle '710' ends teleporting on edge 'L2', time=57480.00.\n",
      "Warning: Teleporting vehicle '1325'; waited too long (jam), lane='D2_1', time=57488.00.\n"
     ]
    },
    {
     "name": "stdout",
     "output_type": "stream",
     "text": [
      "Step #57600.00 (9ms ~= 111.11*RT, ~101111.11UPS, vehicles TOT 3186 ACT 910 BUF 238)       \n",
      "Simulation ended at time: 57600.00\n",
      "Reason: The final simulation step has been reached.\n",
      "Performance: \n",
      " Duration: 18.32s\n",
      " Real time factor: 196.496\n",
      " UPS: 124033.076797\n",
      "Vehicles: \n",
      " Inserted: 3186 (Loaded: 3424)\n",
      " Running: 910\n",
      " Waiting: 238\n",
      " Teleports: 16 (Jam: 9, Wrong Lane: 7)\n",
      "Statistics (avg of 2276):\n",
      " RouteLength: 4427.66\n",
      " Speed: 12.29\n",
      " Duration: 422.54\n",
      " WaitingTime: 65.63\n",
      " TimeLoss: 101.39\n",
      " DepartDelay: 0.48\n",
      "\n",
      "DijkstraRouter answered 3425 queries and explored 10.65 edges on average.\n",
      "DijkstraRouter spent 0.01s answering queries (0.00ms on average).\n",
      "####### 81 ########\n",
      "##### n=105 #####\n",
      "##### best_value=-0.0037448734110968763 #####\n",
      "printing /Users/rodrse/Documents/DemandCalibration/notebooks/od_calibration_sumo_files/quickstart/data/iter_quickstart.current_od.xml\n",
      "### Runing: iter\n",
      "od2trips --no-step-log  --spread.uniform --taz-files /Users/rodrse/Documents/DemandCalibration/notebooks/od_calibration_sumo_files/quickstart/data/quickstart.taz.xml --tazrelation-files /Users/rodrse/Documents/DemandCalibration/notebooks/od_calibration_sumo_files/quickstart/data/iter_quickstart.current_od.xml -o /Users/rodrse/Documents/DemandCalibration/notebooks/od_calibration_sumo_files/quickstart/data/iter_od_trips.trips.xml \n",
      "Success.\n",
      "Loading net-file from '/Users/rodrse/Documents/DemandCalibration/notebooks/od_calibration_sumo_files/quickstart/data/quickstart.net.xml' ... done (5ms).\n",
      "Loading additional-files from '/Users/rodrse/Documents/DemandCalibration/notebooks/od_calibration_sumo_files/quickstart/data/quickstart.additional.xml' ... done (0ms).\n",
      "Loading done.\n",
      "Simulation version 1.16.0 started with time: 54000.00.\n",
      "Step #57600.00 (5ms ~= 200.00*RT, ~128000.00UPS, vehicles TOT 2797 ACT 640 BUF 0)         \n",
      "Simulation ended at time: 57600.00\n",
      "Reason: The final simulation step has been reached.\n",
      "Performance: \n",
      " Duration: 11.83s\n",
      " Real time factor: 304.311\n",
      " UPS: 131452.662722\n",
      "Vehicles: \n",
      " Inserted: 2797\n",
      " Running: 640\n",
      " Waiting: 0\n",
      "Statistics (avg of 2157):\n",
      " RouteLength: 4240.58\n",
      " Speed: 11.49\n",
      " Duration: 482.67\n",
      " WaitingTime: 110.47\n",
      " TimeLoss: 174.63\n",
      " DepartDelay: 0.47\n",
      "\n",
      "DijkstraRouter answered 2797 queries and explored 9.28 edges on average.\n",
      "DijkstraRouter spent 0.01s answering queries (0.00ms on average).\n",
      "####### 82 ########\n",
      "##### n=106 #####\n",
      "##### best_value=-0.001436093396988365 #####\n",
      "printing /Users/rodrse/Documents/DemandCalibration/notebooks/od_calibration_sumo_files/quickstart/data/iter_quickstart.current_od.xml\n",
      "### Runing: iter\n",
      "od2trips --no-step-log  --spread.uniform --taz-files /Users/rodrse/Documents/DemandCalibration/notebooks/od_calibration_sumo_files/quickstart/data/quickstart.taz.xml --tazrelation-files /Users/rodrse/Documents/DemandCalibration/notebooks/od_calibration_sumo_files/quickstart/data/iter_quickstart.current_od.xml -o /Users/rodrse/Documents/DemandCalibration/notebooks/od_calibration_sumo_files/quickstart/data/iter_od_trips.trips.xml \n",
      "Success.\n",
      "Loading net-file from '/Users/rodrse/Documents/DemandCalibration/notebooks/od_calibration_sumo_files/quickstart/data/quickstart.net.xml' ... done (6ms).\n",
      "Loading additional-files from '/Users/rodrse/Documents/DemandCalibration/notebooks/od_calibration_sumo_files/quickstart/data/quickstart.additional.xml' ... done (2ms).\n",
      "Loading done.\n",
      "Simulation version 1.16.0 started with time: 54000.00.\n",
      "Step #56700.00 (7ms ~= 142.86*RT, ~107000.00UPS, vehicles TOT 2292 ACT 749 BUF 0)         \r"
     ]
    },
    {
     "name": "stderr",
     "output_type": "stream",
     "text": [
      "Warning: Teleporting vehicle '467'; waited too long (wrong lane), lane='L15_0', time=56742.00.\n",
      "Warning: Vehicle '467' ends teleporting on edge 'L18', time=56742.00.\n"
     ]
    },
    {
     "name": "stdout",
     "output_type": "stream",
     "text": [
      "Step #57400.00 (5ms ~= 200.00*RT, ~169000.00UPS, vehicles TOT 2886 ACT 845 BUF 0)         \r"
     ]
    },
    {
     "name": "stderr",
     "output_type": "stream",
     "text": [
      "Warning: Teleporting vehicle '644'; waited too long (wrong lane), lane='L12_2', time=57415.00.\n",
      "Warning: Vehicle '644' ends teleporting on edge 'L15', time=57415.00.\n",
      "Warning: Teleporting vehicle '647'; waited too long (wrong lane), lane='L12_2', time=57471.00.\n",
      "Warning: Vehicle '647' ends teleporting on edge 'L15', time=57471.00.\n"
     ]
    },
    {
     "name": "stdout",
     "output_type": "stream",
     "text": [
      "Step #57500.00 (9ms ~= 111.11*RT, ~98222.22UPS, vehicles TOT 2970 ACT 884 BUF 0)          \r"
     ]
    },
    {
     "name": "stderr",
     "output_type": "stream",
     "text": [
      "Warning: Teleporting vehicle '649'; waited too long (wrong lane), lane='L12_2', time=57515.00.\n",
      "Warning: Vehicle '649' ends teleporting on edge 'L15', time=57515.00.\n",
      "Warning: Teleporting vehicle '650'; waited too long (wrong lane), lane='L12_2', time=57548.00.\n",
      "Warning: Vehicle '650' ends teleporting on edge 'L15', time=57573.00.\n",
      "Warning: Teleporting vehicle '693'; waited too long (jam), lane=':1_3_2', time=57596.00.\n",
      "Warning: Vehicle '693' ends teleporting on edge 'L12', time=57596.00.\n",
      "Warning: Teleporting vehicle '694'; waited too long (jam), lane='L2_1', time=57599.00.\n",
      "Warning: Vehicle '694' ends teleporting on edge 'L12', time=57599.00.\n"
     ]
    },
    {
     "name": "stdout",
     "output_type": "stream",
     "text": [
      "Step #57600.00 (10ms ~= 100.00*RT, ~87800.00UPS, vehicles TOT 3011 ACT 878 BUF 44)        \n",
      "Simulation ended at time: 57600.00\n",
      "Reason: The final simulation step has been reached.\n",
      "Performance: \n",
      " Duration: 16.52s\n",
      " Real time factor: 217.891\n",
      " UPS: 123888.149134\n",
      "Vehicles: \n",
      " Inserted: 3011 (Loaded: 3055)\n",
      " Running: 878\n",
      " Waiting: 44\n",
      " Teleports: 7 (Jam: 2, Wrong Lane: 5)\n",
      "Statistics (avg of 2133):\n",
      " RouteLength: 4331.11\n",
      " Speed: 11.37\n",
      " Duration: 477.33\n",
      " WaitingTime: 89.80\n",
      " TimeLoss: 163.51\n",
      " DepartDelay: 0.49\n",
      "\n",
      "DijkstraRouter answered 3055 queries and explored 9.91 edges on average.\n",
      "DijkstraRouter spent 0.02s answering queries (0.01ms on average).\n",
      "####### 83 ########\n",
      "##### n=107 #####\n",
      "##### best_value=-0.001436093396988365 #####\n",
      "printing /Users/rodrse/Documents/DemandCalibration/notebooks/od_calibration_sumo_files/quickstart/data/iter_quickstart.current_od.xml\n",
      "### Runing: iter\n",
      "od2trips --no-step-log  --spread.uniform --taz-files /Users/rodrse/Documents/DemandCalibration/notebooks/od_calibration_sumo_files/quickstart/data/quickstart.taz.xml --tazrelation-files /Users/rodrse/Documents/DemandCalibration/notebooks/od_calibration_sumo_files/quickstart/data/iter_quickstart.current_od.xml -o /Users/rodrse/Documents/DemandCalibration/notebooks/od_calibration_sumo_files/quickstart/data/iter_od_trips.trips.xml \n",
      "Success.\n",
      "Loading net-file from '/Users/rodrse/Documents/DemandCalibration/notebooks/od_calibration_sumo_files/quickstart/data/quickstart.net.xml' ... done (5ms).\n",
      "Loading additional-files from '/Users/rodrse/Documents/DemandCalibration/notebooks/od_calibration_sumo_files/quickstart/data/quickstart.additional.xml' ... done (0ms).\n",
      "Loading done.\n",
      "Simulation version 1.16.0 started with time: 54000.00.\n",
      "Step #57200.00 (7ms ~= 142.86*RT, ~123428.57UPS, vehicles TOT 2443 ACT 864 BUF 0)         \r"
     ]
    },
    {
     "name": "stderr",
     "output_type": "stream",
     "text": [
      "Warning: Teleporting vehicle '458'; waited too long (wrong lane), lane='L15_0', time=57260.00.\n",
      "Warning: Vehicle '458' ends teleporting on edge 'L18', time=57260.00.\n",
      "Warning: Teleporting vehicle '422'; waited too long (wrong lane), lane='L15_0', time=57261.00.\n",
      "Warning: Vehicle '422' ends teleporting on edge 'L18', time=57261.00.\n",
      "Warning: Teleporting vehicle '459'; waited too long (wrong lane), lane='L15_0', time=57262.00.\n",
      "Warning: Vehicle '459' ends teleporting on edge 'L18', time=57262.00.\n",
      "Warning: Teleporting vehicle '461'; waited too long (wrong lane), lane='L15_0', time=57263.00.\n",
      "Warning: Vehicle '461' ends teleporting on edge 'L18', time=57263.00.\n",
      "Warning: Teleporting vehicle '464'; waited too long (wrong lane), lane='L15_0', time=57264.00.\n",
      "Warning: Vehicle '464' ends teleporting on edge 'L18', time=57264.00.\n",
      "Warning: Teleporting vehicle '467'; waited too long (wrong lane), lane='L15_0', time=57265.00.\n",
      "Warning: Vehicle '467' ends teleporting on edge 'L18', time=57265.00.\n"
     ]
    },
    {
     "name": "stdout",
     "output_type": "stream",
     "text": [
      "Step #57300.00 (8ms ~= 125.00*RT, ~109750.00UPS, vehicles TOT 2519 ACT 878 BUF 0)         \r"
     ]
    },
    {
     "name": "stderr",
     "output_type": "stream",
     "text": [
      "Warning: Teleporting vehicle '478'; waited too long (wrong lane), lane='L15_0', time=57357.00.\n",
      "Warning: Vehicle '478' ends teleporting on edge 'L18', time=57357.00.\n",
      "Warning: Teleporting vehicle '486'; waited too long (wrong lane), lane='L15_0', time=57358.00.\n",
      "Warning: Vehicle '486' ends teleporting on edge 'L18', time=57358.00.\n",
      "Warning: Teleporting vehicle '496'; waited too long (wrong lane), lane='L15_0', time=57361.00.\n",
      "Warning: Vehicle '496' ends teleporting on edge 'L18', time=57361.00.\n",
      "Warning: Teleporting vehicle '463'; waited too long (wrong lane), lane='L15_0', time=57368.00.\n",
      "Warning: Vehicle '463' ends teleporting on edge 'L18', time=57368.00.\n",
      "Warning: Teleporting vehicle '468'; waited too long (wrong lane), lane='L15_0', time=57369.00.\n",
      "Warning: Vehicle '468' ends teleporting on edge 'L18', time=57369.00.\n",
      "Warning: Teleporting vehicle '480'; waited too long (wrong lane), lane='L15_0', time=57370.00.\n",
      "Warning: Vehicle '480' ends teleporting on edge 'L18', time=57370.00.\n",
      "Warning: Teleporting vehicle '487'; waited too long (wrong lane), lane='L15_0', time=57371.00.\n",
      "Warning: Vehicle '487' ends teleporting on edge 'L18', time=57371.00.\n",
      "Warning: Teleporting vehicle '489'; waited too long (wrong lane), lane='L15_0', time=57372.00.\n",
      "Warning: Vehicle '489' ends teleporting on edge 'L18', time=57372.00.\n",
      "Warning: Teleporting vehicle '472'; waited too long (wrong lane), lane='L15_0', time=57373.00.\n",
      "Warning: Vehicle '472' ends teleporting on edge 'L18', time=57373.00.\n",
      "Warning: Teleporting vehicle '484'; waited too long (wrong lane), lane='L15_0', time=57374.00.\n",
      "Warning: Vehicle '484' ends teleporting on edge 'L18', time=57374.00.\n",
      "Warning: Teleporting vehicle '492'; waited too long (wrong lane), lane='L15_0', time=57375.00.\n",
      "Warning: Vehicle '492' ends teleporting on edge 'L18', time=57375.00.\n",
      "Warning: Teleporting vehicle '512'; waited too long (wrong lane), lane='L15_0', time=57376.00.\n",
      "Warning: Vehicle '512' ends teleporting on edge 'L18', time=57376.00.\n",
      "Warning: Teleporting vehicle '531'; waited too long (wrong lane), lane='L15_0', time=57377.00.\n",
      "Warning: Vehicle '531' ends teleporting on edge 'L18', time=57377.00.\n",
      "Warning: Teleporting vehicle '530'; waited too long (jam), lane='L12_0', time=57381.00.\n",
      "Warning: Teleporting vehicle '555'; waited too long (jam), lane='L12_0', time=57382.00.\n",
      "Warning: Teleporting vehicle '541'; waited too long (jam), lane='L12_0', time=57383.00.\n",
      "Warning: Teleporting vehicle '546'; waited too long (jam), lane='L12_0', time=57384.00.\n",
      "Warning: Teleporting vehicle '552'; waited too long (jam), lane='L12_0', time=57385.00.\n",
      "Warning: Teleporting vehicle '557'; waited too long (jam), lane='L12_0', time=57386.00.\n",
      "Warning: Teleporting vehicle '561'; waited too long (jam), lane='L12_0', time=57387.00.\n",
      "Warning: Teleporting vehicle '553'; waited too long (jam), lane='L12_0', time=57389.00.\n",
      "Warning: Teleporting vehicle '559'; waited too long (jam), lane='L12_0', time=57392.00.\n",
      "Warning: Teleporting vehicle '570'; waited too long (jam), lane='L12_0', time=57393.00.\n",
      "Warning: Teleporting vehicle '569'; waited too long (jam), lane='L12_0', time=57394.00.\n",
      "Warning: Teleporting vehicle '572'; waited too long (jam), lane='L12_0', time=57395.00.\n",
      "Warning: Teleporting vehicle '566'; waited too long (jam), lane='L12_0', time=57396.00.\n"
     ]
    },
    {
     "name": "stdout",
     "output_type": "stream",
     "text": [
      "Step #57400.00 (8ms ~= 125.00*RT, ~110375.00UPS, vehicles TOT 2595 ACT 883 BUF 0)         \r"
     ]
    },
    {
     "name": "stderr",
     "output_type": "stream",
     "text": [
      "Warning: Vehicle '530' ends teleporting on edge 'L15', time=57408.00.\n",
      "Warning: Teleporting vehicle '501'; waited too long (wrong lane), lane='L15_0', time=57417.00.\n",
      "Warning: Vehicle '501' ends teleporting on edge 'L18', time=57417.00.\n",
      "Warning: Teleporting vehicle '578'; waited too long (jam), lane='L12_0', time=57466.00.\n",
      "Warning: Teleporting vehicle '588'; waited too long (jam), lane='L2_0', time=57466.00.\n",
      "Warning: Vehicle '588' ends teleporting on edge 'L12', time=57466.00.\n",
      "Warning: Vehicle '541' ends teleporting on edge 'L15', time=57493.00.\n",
      "Warning: Vehicle '546' ends teleporting on edge 'L15', time=57498.00.\n",
      "Warning: Vehicle '552' ends teleporting on edge 'L15', time=57507.00.\n"
     ]
    },
    {
     "name": "stdout",
     "output_type": "stream",
     "text": [
      "Step #57500.00 (9ms ~= 111.11*RT, ~99000.00UPS, vehicles TOT 2671 ACT 891 BUF 0)          \r"
     ]
    },
    {
     "name": "stderr",
     "output_type": "stream",
     "text": [
      "Warning: Vehicle '553' ends teleporting on edge 'L15', time=57558.00.\n"
     ]
    },
    {
     "name": "stdout",
     "output_type": "stream",
     "text": [
      "Step #57600.00 (9ms ~= 111.11*RT, ~98333.33UPS, vehicles TOT 2748 ACT 885 BUF 0)          \n",
      "Simulation ended at time: 57600.00\n",
      "Reason: The final simulation step has been reached.\n",
      "Performance: \n",
      " Duration: 17.59s\n",
      " Real time factor: 204.627\n",
      " UPS: 119874.268175\n",
      "Vehicles: \n",
      " Inserted: 2748\n",
      " Running: 885\n",
      " Waiting: 0\n",
      " Teleports: 35 (Jam: 15, Wrong Lane: 20)\n",
      "Statistics (avg of 1863):\n",
      " RouteLength: 4418.57\n",
      " Speed: 9.89\n",
      " Duration: 637.91\n",
      " WaitingTime: 138.40\n",
      " TimeLoss: 317.56\n",
      " DepartDelay: 0.49\n",
      "\n",
      "DijkstraRouter answered 2748 queries and explored 10.43 edges on average.\n",
      "DijkstraRouter spent 0.01s answering queries (0.00ms on average).\n",
      "####### 84 ########\n",
      "##### n=108 #####\n",
      "##### best_value=-0.001436093396988365 #####\n",
      "printing /Users/rodrse/Documents/DemandCalibration/notebooks/od_calibration_sumo_files/quickstart/data/iter_quickstart.current_od.xml\n",
      "### Runing: iter\n",
      "od2trips --no-step-log  --spread.uniform --taz-files /Users/rodrse/Documents/DemandCalibration/notebooks/od_calibration_sumo_files/quickstart/data/quickstart.taz.xml --tazrelation-files /Users/rodrse/Documents/DemandCalibration/notebooks/od_calibration_sumo_files/quickstart/data/iter_quickstart.current_od.xml -o /Users/rodrse/Documents/DemandCalibration/notebooks/od_calibration_sumo_files/quickstart/data/iter_od_trips.trips.xml \n",
      "Success.\n",
      "Loading net-file from '/Users/rodrse/Documents/DemandCalibration/notebooks/od_calibration_sumo_files/quickstart/data/quickstart.net.xml' ... done (5ms).\n",
      "Loading additional-files from '/Users/rodrse/Documents/DemandCalibration/notebooks/od_calibration_sumo_files/quickstart/data/quickstart.additional.xml' ... done (2ms).\n",
      "Loading done.\n",
      "Simulation version 1.16.0 started with time: 54000.00.\n",
      "Step #57600.00 (5ms ~= 200.00*RT, ~128400.00UPS, vehicles TOT 2345 ACT 642 BUF 0)         \n",
      "Simulation ended at time: 57600.00\n",
      "Reason: The final simulation step has been reached.\n",
      "Performance: \n",
      " Duration: 10.38s\n",
      " Real time factor: 346.888\n",
      " UPS: 137829.061476\n",
      "Vehicles: \n",
      " Inserted: 2345\n",
      " Running: 642\n",
      " Waiting: 0\n",
      "Statistics (avg of 1703):\n",
      " RouteLength: 4355.22\n",
      " Speed: 10.89\n",
      " Duration: 530.02\n",
      " WaitingTime: 124.10\n",
      " TimeLoss: 213.86\n",
      " DepartDelay: 0.49\n",
      "\n",
      "DijkstraRouter answered 2345 queries and explored 9.97 edges on average.\n",
      "DijkstraRouter spent 0.01s answering queries (0.00ms on average).\n",
      "####### 85 ########\n",
      "##### n=109 #####\n",
      "##### best_value=-0.001436093396988365 #####\n",
      "printing /Users/rodrse/Documents/DemandCalibration/notebooks/od_calibration_sumo_files/quickstart/data/iter_quickstart.current_od.xml\n",
      "### Runing: iter\n",
      "od2trips --no-step-log  --spread.uniform --taz-files /Users/rodrse/Documents/DemandCalibration/notebooks/od_calibration_sumo_files/quickstart/data/quickstart.taz.xml --tazrelation-files /Users/rodrse/Documents/DemandCalibration/notebooks/od_calibration_sumo_files/quickstart/data/iter_quickstart.current_od.xml -o /Users/rodrse/Documents/DemandCalibration/notebooks/od_calibration_sumo_files/quickstart/data/iter_od_trips.trips.xml \n",
      "Success.\n",
      "Loading net-file from '/Users/rodrse/Documents/DemandCalibration/notebooks/od_calibration_sumo_files/quickstart/data/quickstart.net.xml' ... done (7ms).\n",
      "Loading additional-files from '/Users/rodrse/Documents/DemandCalibration/notebooks/od_calibration_sumo_files/quickstart/data/quickstart.additional.xml' ... done (2ms).\n",
      "Loading done.\n",
      "Simulation version 1.16.0 started with time: 54000.00.\n",
      "Step #57600.00 (6ms ~= 166.67*RT, ~119666.67UPS, vehicles TOT 2762 ACT 718 BUF 0)         \n",
      "Simulation ended at time: 57600.00\n",
      "Reason: The final simulation step has been reached.\n",
      "Performance: \n",
      " Duration: 11.97s\n",
      " Real time factor: 300.802\n",
      " UPS: 136782.670455\n",
      "Vehicles: \n",
      " Inserted: 2762\n",
      " Running: 718\n",
      " Waiting: 0\n",
      "Statistics (avg of 2044):\n",
      " RouteLength: 4258.55\n",
      " Speed: 11.23\n",
      " Duration: 518.82\n",
      " WaitingTime: 125.26\n",
      " TimeLoss: 210.76\n",
      " DepartDelay: 0.50\n",
      "\n",
      "DijkstraRouter answered 2762 queries and explored 9.46 edges on average.\n",
      "DijkstraRouter spent 0.01s answering queries (0.00ms on average).\n",
      "####### 86 ########\n",
      "##### n=110 #####\n",
      "##### best_value=-0.001436093396988365 #####\n",
      "printing /Users/rodrse/Documents/DemandCalibration/notebooks/od_calibration_sumo_files/quickstart/data/iter_quickstart.current_od.xml\n",
      "### Runing: iter\n",
      "od2trips --no-step-log  --spread.uniform --taz-files /Users/rodrse/Documents/DemandCalibration/notebooks/od_calibration_sumo_files/quickstart/data/quickstart.taz.xml --tazrelation-files /Users/rodrse/Documents/DemandCalibration/notebooks/od_calibration_sumo_files/quickstart/data/iter_quickstart.current_od.xml -o /Users/rodrse/Documents/DemandCalibration/notebooks/od_calibration_sumo_files/quickstart/data/iter_od_trips.trips.xml \n",
      "Success.\n",
      "Loading net-file from '/Users/rodrse/Documents/DemandCalibration/notebooks/od_calibration_sumo_files/quickstart/data/quickstart.net.xml' ... done (5ms).\n",
      "Loading additional-files from '/Users/rodrse/Documents/DemandCalibration/notebooks/od_calibration_sumo_files/quickstart/data/quickstart.additional.xml' ... done (1ms).\n",
      "Loading done.\n",
      "Simulation version 1.16.0 started with time: 54000.00.\n",
      "Step #56700.00 (6ms ~= 166.67*RT, ~144166.67UPS, vehicles TOT 2493 ACT 865 BUF 0)         \r"
     ]
    },
    {
     "name": "stderr",
     "output_type": "stream",
     "text": [
      "Warning: Teleporting vehicle '589'; waited too long (wrong lane), lane='L12_2', time=56728.00.\n",
      "Warning: Vehicle '589' ends teleporting on edge 'L15', time=56728.00.\n",
      "Warning: Teleporting vehicle '592'; waited too long (wrong lane), lane='L12_2', time=56760.00.\n",
      "Warning: Vehicle '592' ends teleporting on edge 'L15', time=56760.00.\n",
      "Warning: Teleporting vehicle '594'; waited too long (wrong lane), lane='L12_2', time=56785.00.\n"
     ]
    },
    {
     "name": "stdout",
     "output_type": "stream",
     "text": [
      "Step #56800.00 (8ms ~= 125.00*RT, ~112625.00UPS, vehicles TOT 2585 ACT 901 BUF 0)         \r"
     ]
    },
    {
     "name": "stderr",
     "output_type": "stream",
     "text": [
      "Warning: Teleporting vehicle '595'; waited too long (wrong lane), lane='L12_2', time=56810.00.\n",
      "Warning: Teleporting vehicle '596'; waited too long (wrong lane), lane='L12_2', time=56811.00.\n",
      "Warning: Vehicle '594' ends teleporting on edge 'L15', time=56820.00.\n",
      "Warning: Vehicle '595' ends teleporting on edge 'L15', time=56882.00.\n"
     ]
    },
    {
     "name": "stdout",
     "output_type": "stream",
     "text": [
      "Step #56900.00 (8ms ~= 125.00*RT, ~116250.00UPS, vehicles TOT 2675 ACT 930 BUF 2)         \r"
     ]
    },
    {
     "name": "stderr",
     "output_type": "stream",
     "text": [
      "Warning: Vehicle '596' ends teleporting on edge 'L15', time=56942.00.\n",
      "Warning: Teleporting vehicle '600'; waited too long (wrong lane), lane='L12_2', time=56945.00.\n",
      "Warning: Teleporting vehicle '663'; waited too long (jam), lane=':1_3_2', time=56954.00.\n",
      "Warning: Vehicle '663' ends teleporting on edge 'L12', time=56954.00.\n",
      "Warning: Teleporting vehicle '664'; waited too long (jam), lane='L2_1', time=56955.00.\n",
      "Warning: Vehicle '664' ends teleporting on edge 'L12', time=56955.00.\n",
      "Warning: Teleporting vehicle '665'; waited too long (jam), lane='L2_1', time=56961.00.\n",
      "Warning: Vehicle '665' ends teleporting on edge 'L12', time=56961.00.\n",
      "Warning: Teleporting vehicle '666'; waited too long (jam), lane='L2_1', time=56962.00.\n",
      "Warning: Vehicle '666' ends teleporting on edge 'L12', time=56962.00.\n"
     ]
    },
    {
     "name": "stdout",
     "output_type": "stream",
     "text": [
      "Step #57000.00 (13ms ~= 76.92*RT, ~71076.92UPS, vehicles TOT 2727 ACT 924 BUF 43)         \r"
     ]
    },
    {
     "name": "stderr",
     "output_type": "stream",
     "text": [
      "Warning: Teleporting vehicle '459'; waited too long (jam), lane=':1_3_1', time=57005.00.\n",
      "Warning: Vehicle '459' ends teleporting on edge 'L12', time=57005.00.\n",
      "Warning: Teleporting vehicle '602'; waited too long (wrong lane), lane='L12_2', time=57025.00.\n",
      "Warning: Vehicle '600' ends teleporting on edge 'L15', time=57031.00.\n",
      "Warning: Teleporting vehicle '604'; waited too long (wrong lane), lane='L12_2', time=57059.00.\n",
      "Warning: Teleporting vehicle '709'; waited too long (jam), lane='D2_1', time=57083.00.\n",
      "Warning: Vehicle '709' ends teleporting on edge 'L2', time=57083.00.\n",
      "Warning: Teleporting vehicle '526'; waited too long (jam), lane='D2_0', time=57086.00.\n",
      "Warning: Vehicle '526' ends teleporting on edge 'L2', time=57086.00.\n"
     ]
    },
    {
     "name": "stdout",
     "output_type": "stream",
     "text": [
      "Step #57100.00 (7ms ~= 142.86*RT, ~130857.14UPS, vehicles TOT 2778 ACT 916 BUF 83)        \r"
     ]
    },
    {
     "name": "stderr",
     "output_type": "stream",
     "text": [
      "Warning: Vehicle '602' ends teleporting on edge 'L15', time=57109.00.\n",
      "Warning: Vehicle '604' ends teleporting on edge 'L15', time=57141.00.\n",
      "Warning: Teleporting vehicle '607'; waited too long (wrong lane), lane='L12_2', time=57178.00.\n",
      "Warning: Vehicle '607' ends teleporting on edge 'L15', time=57182.00.\n"
     ]
    },
    {
     "name": "stdout",
     "output_type": "stream",
     "text": [
      "Step #57200.00 (8ms ~= 125.00*RT, ~113625.00UPS, vehicles TOT 2829 ACT 909 BUF 124)       \r"
     ]
    },
    {
     "name": "stderr",
     "output_type": "stream",
     "text": [
      "Warning: Teleporting vehicle '609'; waited too long (wrong lane), lane='L12_2', time=57247.00.\n",
      "Warning: Vehicle '609' ends teleporting on edge 'L15', time=57247.00.\n",
      "Warning: Teleporting vehicle '1321'; waited too long (jam), lane=':1_3_2', time=57263.00.\n",
      "Warning: Vehicle '1321' ends teleporting on edge 'L12', time=57263.00.\n"
     ]
    },
    {
     "name": "stdout",
     "output_type": "stream",
     "text": [
      "Step #57300.00 (8ms ~= 125.00*RT, ~113250.00UPS, vehicles TOT 2880 ACT 906 BUF 166)       \r"
     ]
    },
    {
     "name": "stderr",
     "output_type": "stream",
     "text": [
      "Warning: Teleporting vehicle '460'; waited too long (jam), lane=':1_3_1', time=57311.00.\n",
      "Warning: Vehicle '460' ends teleporting on edge 'L12', time=57311.00.\n",
      "Warning: Teleporting vehicle '613'; waited too long (wrong lane), lane='L12_2', time=57386.00.\n",
      "Warning: Teleporting vehicle '1347'; waited too long (jam), lane='D2_1', time=57389.00.\n",
      "Warning: Vehicle '1347' ends teleporting on edge 'L2', time=57389.00.\n",
      "Warning: Teleporting vehicle '527'; waited too long (jam), lane='D2_0', time=57393.00.\n"
     ]
    },
    {
     "name": "stdout",
     "output_type": "stream",
     "text": [
      "Step #57400.00 (8ms ~= 125.00*RT, ~112875.00UPS, vehicles TOT 2932 ACT 903 BUF 207)       \r"
     ]
    },
    {
     "name": "stderr",
     "output_type": "stream",
     "text": [
      "Warning: Vehicle '613' ends teleporting on edge 'L15', time=57439.00.\n"
     ]
    },
    {
     "name": "stdout",
     "output_type": "stream",
     "text": [
      "Step #57500.00 (8ms ~= 125.00*RT, ~112750.00UPS, vehicles TOT 2983 ACT 902 BUF 248)       \r"
     ]
    },
    {
     "name": "stderr",
     "output_type": "stream",
     "text": [
      "Warning: Teleporting vehicle '1322'; waited too long (jam), lane=':1_3_2', time=57569.00.\n",
      "Warning: Vehicle '1322' ends teleporting on edge 'L12', time=57569.00.\n"
     ]
    },
    {
     "name": "stdout",
     "output_type": "stream",
     "text": [
      "Step #57600.00 (9ms ~= 111.11*RT, ~100000.00UPS, vehicles TOT 3034 ACT 900 BUF 289)       \n",
      "Simulation ended at time: 57600.00\n",
      "Reason: The final simulation step has been reached.\n",
      "Performance: \n",
      " Duration: 19.02s\n",
      " Real time factor: 189.274\n",
      " UPS: 119946.109359\n",
      "Vehicles: \n",
      " Inserted: 3034 (Loaded: 3323)\n",
      " Running: 900\n",
      " Waiting: 289\n",
      " Teleports: 23 (Jam: 12, Wrong Lane: 11)\n",
      "Statistics (avg of 2134):\n",
      " RouteLength: 4421.11\n",
      " Speed: 12.06\n",
      " Duration: 434.66\n",
      " WaitingTime: 71.65\n",
      " TimeLoss: 114.42\n",
      " DepartDelay: 0.49\n",
      "\n",
      "DijkstraRouter answered 3323 queries and explored 10.58 edges on average.\n",
      "DijkstraRouter spent 0.01s answering queries (0.00ms on average).\n",
      "####### 87 ########\n",
      "##### n=111 #####\n",
      "##### best_value=-0.001436093396988365 #####\n",
      "printing /Users/rodrse/Documents/DemandCalibration/notebooks/od_calibration_sumo_files/quickstart/data/iter_quickstart.current_od.xml\n",
      "### Runing: iter\n",
      "od2trips --no-step-log  --spread.uniform --taz-files /Users/rodrse/Documents/DemandCalibration/notebooks/od_calibration_sumo_files/quickstart/data/quickstart.taz.xml --tazrelation-files /Users/rodrse/Documents/DemandCalibration/notebooks/od_calibration_sumo_files/quickstart/data/iter_quickstart.current_od.xml -o /Users/rodrse/Documents/DemandCalibration/notebooks/od_calibration_sumo_files/quickstart/data/iter_od_trips.trips.xml \n",
      "Success.\n",
      "Loading net-file from '/Users/rodrse/Documents/DemandCalibration/notebooks/od_calibration_sumo_files/quickstart/data/quickstart.net.xml' ... done (6ms).\n",
      "Loading additional-files from '/Users/rodrse/Documents/DemandCalibration/notebooks/od_calibration_sumo_files/quickstart/data/quickstart.additional.xml' ... done (1ms).\n",
      "Loading done.\n",
      "Simulation version 1.16.0 started with time: 54000.00.\n",
      "Step #57600.00 (5ms ~= 200.00*RT, ~116400.00UPS, vehicles TOT 2506 ACT 582 BUF 0)         \n",
      "Simulation ended at time: 57600.00\n",
      "Reason: The final simulation step has been reached.\n",
      "Performance: \n",
      " Duration: 10.50s\n",
      " Real time factor: 342.988\n",
      " UPS: 132166.730183\n",
      "Vehicles: \n",
      " Inserted: 2506\n",
      " Running: 582\n",
      " Waiting: 0\n",
      "Statistics (avg of 1924):\n",
      " RouteLength: 4456.12\n",
      " Speed: 12.32\n",
      " Duration: 428.31\n",
      " WaitingTime: 67.78\n",
      " TimeLoss: 104.94\n",
      " DepartDelay: 0.49\n",
      "\n",
      "DijkstraRouter answered 2506 queries and explored 10.63 edges on average.\n",
      "DijkstraRouter spent 0.01s answering queries (0.00ms on average).\n",
      "####### 88 ########\n",
      "##### n=112 #####\n",
      "##### best_value=-0.001436093396988365 #####\n",
      "printing /Users/rodrse/Documents/DemandCalibration/notebooks/od_calibration_sumo_files/quickstart/data/iter_quickstart.current_od.xml\n",
      "### Runing: iter\n",
      "od2trips --no-step-log  --spread.uniform --taz-files /Users/rodrse/Documents/DemandCalibration/notebooks/od_calibration_sumo_files/quickstart/data/quickstart.taz.xml --tazrelation-files /Users/rodrse/Documents/DemandCalibration/notebooks/od_calibration_sumo_files/quickstart/data/iter_quickstart.current_od.xml -o /Users/rodrse/Documents/DemandCalibration/notebooks/od_calibration_sumo_files/quickstart/data/iter_od_trips.trips.xml \n",
      "Success.\n",
      "Loading net-file from '/Users/rodrse/Documents/DemandCalibration/notebooks/od_calibration_sumo_files/quickstart/data/quickstart.net.xml' ... done (5ms).\n",
      "Loading additional-files from '/Users/rodrse/Documents/DemandCalibration/notebooks/od_calibration_sumo_files/quickstart/data/quickstart.additional.xml' ... done (2ms).\n",
      "Loading done.\n",
      "Simulation version 1.16.0 started with time: 54000.00.\n",
      "Step #56300.00 (4ms ~= 250.00*RT, ~158000.00UPS, vehicles TOT 1697 ACT 632 BUF 0)         \r"
     ]
    },
    {
     "name": "stderr",
     "output_type": "stream",
     "text": [
      "Warning: Teleporting vehicle '454'; waited too long (jam), lane='L12_0', time=56353.00.\n",
      "Warning: Vehicle '454' ends teleporting on edge 'L15', time=56354.00.\n"
     ]
    },
    {
     "name": "stdout",
     "output_type": "stream",
     "text": [
      "Step #56400.00 (8ms ~= 125.00*RT, ~80625.00UPS, vehicles TOT 1770 ACT 645 BUF 0)          \r"
     ]
    },
    {
     "name": "stderr",
     "output_type": "stream",
     "text": [
      "Warning: Teleporting vehicle '500'; waited too long (jam), lane=':1_3_1', time=56445.00.\n",
      "Warning: Vehicle '500' ends teleporting on edge 'L12', time=56445.00.\n"
     ]
    },
    {
     "name": "stdout",
     "output_type": "stream",
     "text": [
      "Step #56500.00 (5ms ~= 200.00*RT, ~134000.00UPS, vehicles TOT 1844 ACT 670 BUF 0)         \r"
     ]
    },
    {
     "name": "stderr",
     "output_type": "stream",
     "text": [
      "Warning: Teleporting vehicle '447'; waited too long (jam), lane='L12_0', time=56598.00.\n",
      "Warning: Vehicle '447' ends teleporting on edge 'L15', time=56598.00.\n"
     ]
    },
    {
     "name": "stdout",
     "output_type": "stream",
     "text": [
      "Step #56800.00 (5ms ~= 200.00*RT, ~145000.00UPS, vehicles TOT 2066 ACT 725 BUF 0)         \r"
     ]
    },
    {
     "name": "stderr",
     "output_type": "stream",
     "text": [
      "Warning: Teleporting vehicle '504'; waited too long (jam), lane='L2_0', time=56810.00.\n",
      "Warning: Vehicle '504' ends teleporting on edge 'L12', time=56810.00.\n",
      "Warning: Teleporting vehicle '505'; waited too long (jam), lane='L2_0', time=56811.00.\n",
      "Warning: Vehicle '505' ends teleporting on edge 'L12', time=56811.00.\n"
     ]
    },
    {
     "name": "stdout",
     "output_type": "stream",
     "text": [
      "Step #57100.00 (6ms ~= 166.67*RT, ~136500.00UPS, vehicles TOT 2288 ACT 819 BUF 0)         \r"
     ]
    },
    {
     "name": "stderr",
     "output_type": "stream",
     "text": [
      "Warning: Teleporting vehicle '646'; waited too long (wrong lane), lane='L12_2', time=57123.00.\n",
      "Warning: Vehicle '646' ends teleporting on edge 'L15', time=57123.00.\n"
     ]
    },
    {
     "name": "stdout",
     "output_type": "stream",
     "text": [
      "Step #57200.00 (6ms ~= 166.67*RT, ~138333.33UPS, vehicles TOT 2353 ACT 830 BUF 7)         \r"
     ]
    },
    {
     "name": "stderr",
     "output_type": "stream",
     "text": [
      "Warning: Teleporting vehicle '495'; waited too long (jam), lane='L12_0', time=57226.00.\n",
      "Warning: Vehicle '495' ends teleporting on edge 'L15', time=57226.00.\n",
      "Warning: Teleporting vehicle '649'; waited too long (wrong lane), lane='L12_2', time=57233.00.\n",
      "Warning: Vehicle '649' ends teleporting on edge 'L15', time=57233.00.\n"
     ]
    },
    {
     "name": "stdout",
     "output_type": "stream",
     "text": [
      "Step #57300.00 (7ms ~= 142.86*RT, ~122285.71UPS, vehicles TOT 2415 ACT 856 BUF 19)        \r"
     ]
    },
    {
     "name": "stderr",
     "output_type": "stream",
     "text": [
      "Warning: Teleporting vehicle '712'; waited too long (jam), lane='L2_1', time=57324.00.\n",
      "Warning: Vehicle '712' ends teleporting on edge 'L12', time=57324.00.\n",
      "Warning: Teleporting vehicle '654'; waited too long (wrong lane), lane='L12_2', time=57393.00.\n",
      "Warning: Vehicle '654' ends teleporting on edge 'L15', time=57393.00.\n",
      "Warning: Teleporting vehicle '655'; waited too long (wrong lane), lane='L12_2', time=57394.00.\n",
      "Warning: Vehicle '655' ends teleporting on edge 'L15', time=57395.00.\n"
     ]
    },
    {
     "name": "stdout",
     "output_type": "stream",
     "text": [
      "Step #57400.00 (7ms ~= 142.86*RT, ~123714.29UPS, vehicles TOT 2468 ACT 866 BUF 41)        \r"
     ]
    },
    {
     "name": "stderr",
     "output_type": "stream",
     "text": [
      "Warning: Teleporting vehicle '657'; waited too long (wrong lane), lane='L12_2', time=57430.00.\n",
      "Warning: Vehicle '657' ends teleporting on edge 'L15', time=57436.00.\n",
      "Warning: Teleporting vehicle '759'; waited too long (jam), lane='D2_1', time=57477.00.\n",
      "Warning: Teleporting vehicle '661'; waited too long (wrong lane), lane='L12_2', time=57482.00.\n",
      "Warning: Vehicle '661' ends teleporting on edge 'L15', time=57483.00.\n"
     ]
    },
    {
     "name": "stdout",
     "output_type": "stream",
     "text": [
      "Step #57500.00 (7ms ~= 142.86*RT, ~123142.86UPS, vehicles TOT 2503 ACT 862 BUF 80)        \r"
     ]
    },
    {
     "name": "stderr",
     "output_type": "stream",
     "text": [
      "Warning: Teleporting vehicle '662'; waited too long (wrong lane), lane='L12_2', time=57519.00.\n",
      "Warning: Vehicle '662' ends teleporting on edge 'L15', time=57563.00.\n",
      "Warning: Teleporting vehicle '514'; waited too long (jam), lane='L2_0', time=57564.00.\n",
      "Warning: Vehicle '514' ends teleporting on edge 'L12', time=57564.00.\n",
      "Warning: Teleporting vehicle '664'; waited too long (wrong lane), lane='L12_2', time=57588.00.\n"
     ]
    },
    {
     "name": "stdout",
     "output_type": "stream",
     "text": [
      "Step #57600.00 (8ms ~= 125.00*RT, ~106750.00UPS, vehicles TOT 2537 ACT 854 BUF 119)       \n",
      "Simulation ended at time: 57600.00\n",
      "Reason: The final simulation step has been reached.\n",
      "Performance: \n",
      " Duration: 14.62s\n",
      " Real time factor: 246.188\n",
      " UPS: 130014.976407\n",
      "Vehicles: \n",
      " Inserted: 2537 (Loaded: 2656)\n",
      " Running: 854\n",
      " Waiting: 119\n",
      " Teleports: 17 (Jam: 9, Wrong Lane: 8)\n",
      "Statistics (avg of 1683):\n",
      " RouteLength: 4447.81\n",
      " Speed: 12.33\n",
      " Duration: 443.18\n",
      " WaitingTime: 80.71\n",
      " TimeLoss: 120.25\n",
      " DepartDelay: 0.49\n",
      "\n",
      "DijkstraRouter answered 2662 queries and explored 10.88 edges on average.\n",
      "DijkstraRouter spent 0.01s answering queries (0.00ms on average).\n",
      "####### 89 ########\n",
      "##### n=113 #####\n",
      "##### best_value=-0.001436093396988365 #####\n",
      "printing /Users/rodrse/Documents/DemandCalibration/notebooks/od_calibration_sumo_files/quickstart/data/iter_quickstart.current_od.xml\n",
      "### Runing: iter\n",
      "od2trips --no-step-log  --spread.uniform --taz-files /Users/rodrse/Documents/DemandCalibration/notebooks/od_calibration_sumo_files/quickstart/data/quickstart.taz.xml --tazrelation-files /Users/rodrse/Documents/DemandCalibration/notebooks/od_calibration_sumo_files/quickstart/data/iter_quickstart.current_od.xml -o /Users/rodrse/Documents/DemandCalibration/notebooks/od_calibration_sumo_files/quickstart/data/iter_od_trips.trips.xml \n",
      "Success.\n",
      "Loading net-file from '/Users/rodrse/Documents/DemandCalibration/notebooks/od_calibration_sumo_files/quickstart/data/quickstart.net.xml' ... done (6ms).\n",
      "Loading additional-files from '/Users/rodrse/Documents/DemandCalibration/notebooks/od_calibration_sumo_files/quickstart/data/quickstart.additional.xml' ... done (1ms).\n",
      "Loading done.\n",
      "Simulation version 1.16.0 started with time: 54000.00.\n",
      "Step #57600.00 (5ms ~= 200.00*RT, ~148600.00UPS, vehicles TOT 2880 ACT 743 BUF 0)         \n",
      "Simulation ended at time: 57600.00\n",
      "Reason: The final simulation step has been reached.\n",
      "Performance: \n",
      " Duration: 13.05s\n",
      " Real time factor: 275.947\n",
      " UPS: 135436.532270\n",
      "Vehicles: \n",
      " Inserted: 2880\n",
      " Running: 743\n",
      " Waiting: 0\n",
      "Statistics (avg of 2137):\n",
      " RouteLength: 4235.54\n",
      " Speed: 11.38\n",
      " Duration: 512.04\n",
      " WaitingTime: 121.89\n",
      " TimeLoss: 204.85\n",
      " DepartDelay: 0.50\n",
      "\n",
      "DijkstraRouter answered 2880 queries and explored 9.38 edges on average.\n",
      "DijkstraRouter spent 0.01s answering queries (0.00ms on average).\n",
      "####### 90 ########\n",
      "##### n=114 #####\n",
      "##### best_value=-0.001436093396988365 #####\n",
      "printing /Users/rodrse/Documents/DemandCalibration/notebooks/od_calibration_sumo_files/quickstart/data/iter_quickstart.current_od.xml\n",
      "### Runing: iter\n",
      "od2trips --no-step-log  --spread.uniform --taz-files /Users/rodrse/Documents/DemandCalibration/notebooks/od_calibration_sumo_files/quickstart/data/quickstart.taz.xml --tazrelation-files /Users/rodrse/Documents/DemandCalibration/notebooks/od_calibration_sumo_files/quickstart/data/iter_quickstart.current_od.xml -o /Users/rodrse/Documents/DemandCalibration/notebooks/od_calibration_sumo_files/quickstart/data/iter_od_trips.trips.xml \n",
      "Success.\n",
      "Loading net-file from '/Users/rodrse/Documents/DemandCalibration/notebooks/od_calibration_sumo_files/quickstart/data/quickstart.net.xml' ... done (6ms).\n",
      "Loading additional-files from '/Users/rodrse/Documents/DemandCalibration/notebooks/od_calibration_sumo_files/quickstart/data/quickstart.additional.xml' ... done (1ms).\n",
      "Loading done.\n",
      "Simulation version 1.16.0 started with time: 54000.00.\n",
      "Step #56500.00 (7ms ~= 142.86*RT, ~137285.71UPS, vehicles TOT 2286 ACT 961 BUF 0)         \r"
     ]
    },
    {
     "name": "stderr",
     "output_type": "stream",
     "text": [
      "Warning: Teleporting vehicle '397'; waited too long (wrong lane), lane='L15_0', time=56541.00.\n",
      "Warning: Vehicle '397' ends teleporting on edge 'L18', time=56541.00.\n"
     ]
    },
    {
     "name": "stdout",
     "output_type": "stream",
     "text": [
      "Step #56700.00 (10ms ~= 100.00*RT, ~98900.00UPS, vehicles TOT 2468 ACT 989 BUF 0)         \r"
     ]
    },
    {
     "name": "stderr",
     "output_type": "stream",
     "text": [
      "Warning: Teleporting vehicle '336'; waited too long (jam), lane='L12_1', time=56749.00.\n",
      "Warning: Vehicle '336' ends teleporting on edge 'L15', time=56749.00.\n"
     ]
    },
    {
     "name": "stdout",
     "output_type": "stream",
     "text": [
      "Step #56900.00 (10ms ~= 100.00*RT, ~102700.00UPS, vehicles TOT 2650 ACT 1027 BUF 0)       \r"
     ]
    },
    {
     "name": "stderr",
     "output_type": "stream",
     "text": [
      "Warning: Teleporting vehicle '378'; waited too long (wrong lane), lane='L15_0', time=56949.00.\n",
      "Warning: Vehicle '378' ends teleporting on edge 'L18', time=56949.00.\n"
     ]
    },
    {
     "name": "stdout",
     "output_type": "stream",
     "text": [
      "Step #57000.00 (10ms ~= 100.00*RT, ~105900.00UPS, vehicles TOT 2743 ACT 1059 BUF 0)       \r"
     ]
    },
    {
     "name": "stderr",
     "output_type": "stream",
     "text": [
      "Warning: Teleporting vehicle '341'; waited too long (jam), lane='L12_1', time=57056.00.\n",
      "Warning: Vehicle '341' ends teleporting on edge 'L15', time=57064.00.\n"
     ]
    },
    {
     "name": "stdout",
     "output_type": "stream",
     "text": [
      "Step #57400.00 (9ms ~= 111.11*RT, ~123555.56UPS, vehicles TOT 3109 ACT 1112 BUF 0)        \r"
     ]
    },
    {
     "name": "stderr",
     "output_type": "stream",
     "text": [
      "Warning: Teleporting vehicle '639'; waited too long (wrong lane), lane='L12_2', time=57446.00.\n",
      "Warning: Vehicle '639' ends teleporting on edge 'L15', time=57446.00.\n",
      "Warning: Teleporting vehicle '640'; waited too long (wrong lane), lane='L12_2', time=57484.00.\n"
     ]
    },
    {
     "name": "stdout",
     "output_type": "stream",
     "text": [
      "Step #57500.00 (11ms ~= 90.91*RT, ~100181.82UPS, vehicles TOT 3192 ACT 1102 BUF 8)        \r"
     ]
    },
    {
     "name": "stderr",
     "output_type": "stream",
     "text": [
      "Warning: Teleporting vehicle '641'; waited too long (wrong lane), lane='L12_2', time=57524.00.\n",
      "Warning: Teleporting vehicle '642'; waited too long (wrong lane), lane='L12_2', time=57567.00.\n",
      "Warning: Teleporting vehicle '410'; waited too long (jam), lane='L12_0', time=57580.00.\n",
      "Warning: Teleporting vehicle '394'; waited too long (jam), lane='L12_0', time=57582.00.\n",
      "Warning: Teleporting vehicle '405'; waited too long (jam), lane='L12_0', time=57583.00.\n",
      "Warning: Teleporting vehicle '401'; waited too long (jam), lane='L12_0', time=57584.00.\n"
     ]
    },
    {
     "name": "stdout",
     "output_type": "stream",
     "text": [
      "Step #57600.00 (10ms ~= 100.00*RT, ~103100.00UPS, vehicles TOT 3235 ACT 1031 BUF 56)      \n",
      "Simulation ended at time: 57600.00\n",
      "Reason: The final simulation step has been reached.\n",
      "Performance: \n",
      " Duration: 22.42s\n",
      " Real time factor: 160.557\n",
      " UPS: 115834.715904\n",
      "Vehicles: \n",
      " Inserted: 3235 (Loaded: 3291)\n",
      " Running: 1031\n",
      " Waiting: 56\n",
      " Teleports: 12 (Jam: 6, Wrong Lane: 6)\n",
      "Statistics (avg of 2204):\n",
      " RouteLength: 4383.16\n",
      " Speed: 9.90\n",
      " Duration: 648.84\n",
      " WaitingTime: 131.33\n",
      " TimeLoss: 331.40\n",
      " DepartDelay: 0.48\n",
      "\n",
      "DijkstraRouter answered 3289 queries and explored 10.15 edges on average.\n",
      "DijkstraRouter spent 0.02s answering queries (0.00ms on average).\n",
      "####### 91 ########\n",
      "##### n=115 #####\n",
      "##### best_value=-0.001436093396988365 #####\n",
      "printing /Users/rodrse/Documents/DemandCalibration/notebooks/od_calibration_sumo_files/quickstart/data/iter_quickstart.current_od.xml\n",
      "### Runing: iter\n",
      "od2trips --no-step-log  --spread.uniform --taz-files /Users/rodrse/Documents/DemandCalibration/notebooks/od_calibration_sumo_files/quickstart/data/quickstart.taz.xml --tazrelation-files /Users/rodrse/Documents/DemandCalibration/notebooks/od_calibration_sumo_files/quickstart/data/iter_quickstart.current_od.xml -o /Users/rodrse/Documents/DemandCalibration/notebooks/od_calibration_sumo_files/quickstart/data/iter_od_trips.trips.xml \n",
      "Success.\n",
      "Loading net-file from '/Users/rodrse/Documents/DemandCalibration/notebooks/od_calibration_sumo_files/quickstart/data/quickstart.net.xml' ... done (5ms).\n",
      "Loading additional-files from '/Users/rodrse/Documents/DemandCalibration/notebooks/od_calibration_sumo_files/quickstart/data/quickstart.additional.xml' ... done (1ms).\n",
      "Loading done.\n",
      "Simulation version 1.16.0 started with time: 54000.00.\n",
      "Step #56900.00 (6ms ~= 166.67*RT, ~140500.00UPS, vehicles TOT 2660 ACT 843 BUF 0)         \r"
     ]
    },
    {
     "name": "stderr",
     "output_type": "stream",
     "text": [
      "Warning: Teleporting vehicle '606'; waited too long (wrong lane), lane='L12_2', time=56994.00.\n",
      "Warning: Vehicle '606' ends teleporting on edge 'L15', time=56994.00.\n"
     ]
    },
    {
     "name": "stdout",
     "output_type": "stream",
     "text": [
      "Step #57100.00 (8ms ~= 125.00*RT, ~112875.00UPS, vehicles TOT 2842 ACT 903 BUF 0)         \r"
     ]
    },
    {
     "name": "stderr",
     "output_type": "stream",
     "text": [
      "Warning: Teleporting vehicle '478'; waited too long (jam), lane='L2_0', time=57129.00.\n",
      "Warning: Vehicle '478' ends teleporting on edge 'L12', time=57129.00.\n",
      "Warning: Teleporting vehicle '610'; waited too long (wrong lane), lane='L12_2', time=57135.00.\n",
      "Warning: Vehicle '610' ends teleporting on edge 'L15', time=57135.00.\n"
     ]
    },
    {
     "name": "stdout",
     "output_type": "stream",
     "text": [
      "Step #57200.00 (9ms ~= 111.11*RT, ~103333.33UPS, vehicles TOT 2930 ACT 930 BUF 5)         \r"
     ]
    },
    {
     "name": "stderr",
     "output_type": "stream",
     "text": [
      "Warning: Teleporting vehicle '673'; waited too long (jam), lane='L2_1', time=57231.00.\n",
      "Warning: Vehicle '673' ends teleporting on edge 'L12', time=57231.00.\n",
      "Warning: Teleporting vehicle '614'; waited too long (wrong lane), lane='L12_2', time=57263.00.\n",
      "Warning: Vehicle '614' ends teleporting on edge 'L15', time=57272.00.\n"
     ]
    },
    {
     "name": "stdout",
     "output_type": "stream",
     "text": [
      "Step #57300.00 (8ms ~= 125.00*RT, ~115625.00UPS, vehicles TOT 2983 ACT 925 BUF 44)        \r"
     ]
    },
    {
     "name": "stderr",
     "output_type": "stream",
     "text": [
      "Warning: Teleporting vehicle '718'; waited too long (jam), lane='D2_1', time=57366.00.\n",
      "Warning: Teleporting vehicle '719'; waited too long (jam), lane='D2_1', time=57367.00.\n",
      "Warning: Teleporting vehicle '618'; waited too long (wrong lane), lane='L12_2', time=57391.00.\n",
      "Warning: Vehicle '618' ends teleporting on edge 'L15', time=57391.00.\n"
     ]
    },
    {
     "name": "stdout",
     "output_type": "stream",
     "text": [
      "Step #57400.00 (10ms ~= 100.00*RT, ~92200.00UPS, vehicles TOT 3033 ACT 922 BUF 83)        \r"
     ]
    },
    {
     "name": "stderr",
     "output_type": "stream",
     "text": [
      "Warning: Teleporting vehicle '479'; waited too long (jam), lane='L2_0', time=57435.00.\n",
      "Warning: Vehicle '479' ends teleporting on edge 'L12', time=57435.00.\n",
      "Warning: Teleporting vehicle '624'; waited too long (wrong lane), lane='L12_2', time=57496.00.\n",
      "Warning: Vehicle '624' ends teleporting on edge 'L15', time=57509.00.\n"
     ]
    },
    {
     "name": "stdout",
     "output_type": "stream",
     "text": [
      "Step #57500.00 (9ms ~= 111.11*RT, ~102444.44UPS, vehicles TOT 3085 ACT 922 BUF 124)       \r"
     ]
    },
    {
     "name": "stderr",
     "output_type": "stream",
     "text": [
      "Warning: Teleporting vehicle '546'; waited too long (jam), lane='D2_0', time=57523.00.\n",
      "Warning: Teleporting vehicle '1318'; waited too long (jam), lane='L2_1', time=57537.00.\n",
      "Warning: Teleporting vehicle '675'; waited too long (jam), lane='L2_1', time=57539.00.\n",
      "Warning: Vehicle '546' ends teleporting on edge 'L2', time=57539.00.\n",
      "Warning: Vehicle '675' ends teleporting on edge 'L12', time=57539.00.\n",
      "Warning: Vehicle '718' ends teleporting on edge 'L2', time=57541.00.\n",
      "Warning: Teleporting vehicle '627'; waited too long (wrong lane), lane='L12_2', time=57542.00.\n",
      "Warning: Vehicle '719' ends teleporting on edge 'L2', time=57547.00.\n",
      "Warning: Vehicle '627' ends teleporting on edge 'L15', time=57549.00.\n",
      "Warning: Teleporting vehicle '628'; waited too long (wrong lane), lane='L12_2', time=57583.00.\n",
      "Warning: Vehicle '628' ends teleporting on edge 'L15', time=57588.00.\n"
     ]
    },
    {
     "name": "stdout",
     "output_type": "stream",
     "text": [
      "Step #57600.00 (8ms ~= 125.00*RT, ~113625.00UPS, vehicles TOT 3137 ACT 909 BUF 164)       \n",
      "Simulation ended at time: 57600.00\n",
      "Reason: The final simulation step has been reached.\n",
      "Performance: \n",
      " Duration: 18.77s\n",
      " Real time factor: 191.765\n",
      " UPS: 121389.335748\n",
      "Vehicles: \n",
      " Inserted: 3137 (Loaded: 3301)\n",
      " Running: 909\n",
      " Waiting: 164\n",
      " Teleports: 15 (Jam: 8, Wrong Lane: 7)\n",
      "Statistics (avg of 2228):\n",
      " RouteLength: 4418.68\n",
      " Speed: 11.34\n",
      " Duration: 479.15\n",
      " WaitingTime: 82.11\n",
      " TimeLoss: 158.47\n",
      " DepartDelay: 0.49\n",
      "\n",
      "DijkstraRouter answered 3302 queries and explored 10.40 edges on average.\n",
      "DijkstraRouter spent 0.01s answering queries (0.00ms on average).\n",
      "####### 92 ########\n",
      "##### n=116 #####\n",
      "##### best_value=-0.001436093396988365 #####\n",
      "printing /Users/rodrse/Documents/DemandCalibration/notebooks/od_calibration_sumo_files/quickstart/data/iter_quickstart.current_od.xml\n",
      "### Runing: iter\n",
      "od2trips --no-step-log  --spread.uniform --taz-files /Users/rodrse/Documents/DemandCalibration/notebooks/od_calibration_sumo_files/quickstart/data/quickstart.taz.xml --tazrelation-files /Users/rodrse/Documents/DemandCalibration/notebooks/od_calibration_sumo_files/quickstart/data/iter_quickstart.current_od.xml -o /Users/rodrse/Documents/DemandCalibration/notebooks/od_calibration_sumo_files/quickstart/data/iter_od_trips.trips.xml \n",
      "Success.\n",
      "Loading net-file from '/Users/rodrse/Documents/DemandCalibration/notebooks/od_calibration_sumo_files/quickstart/data/quickstart.net.xml' ... done (6ms).\n",
      "Loading additional-files from '/Users/rodrse/Documents/DemandCalibration/notebooks/od_calibration_sumo_files/quickstart/data/quickstart.additional.xml' ... done (2ms).\n",
      "Loading done.\n",
      "Simulation version 1.16.0 started with time: 54000.00.\n",
      "Step #57600.00 (5ms ~= 200.00*RT, ~135800.00UPS, vehicles TOT 2728 ACT 679 BUF 0)         \n",
      "Simulation ended at time: 57600.00\n",
      "Reason: The final simulation step has been reached.\n",
      "Performance: \n",
      " Duration: 11.34s\n",
      " Real time factor: 317.376\n",
      " UPS: 138134.355990\n",
      "Vehicles: \n",
      " Inserted: 2728\n",
      " Running: 679\n",
      " Waiting: 0\n",
      "Statistics (avg of 2049):\n",
      " RouteLength: 4204.68\n",
      " Speed: 11.72\n",
      " Duration: 489.36\n",
      " WaitingTime: 121.13\n",
      " TimeLoss: 184.84\n",
      " DepartDelay: 0.49\n",
      "\n",
      "DijkstraRouter answered 2728 queries and explored 9.20 edges on average.\n",
      "DijkstraRouter spent 0.01s answering queries (0.00ms on average).\n",
      "####### 93 ########\n",
      "##### n=117 #####\n",
      "##### best_value=-0.001436093396988365 #####\n",
      "printing /Users/rodrse/Documents/DemandCalibration/notebooks/od_calibration_sumo_files/quickstart/data/iter_quickstart.current_od.xml\n",
      "### Runing: iter\n",
      "od2trips --no-step-log  --spread.uniform --taz-files /Users/rodrse/Documents/DemandCalibration/notebooks/od_calibration_sumo_files/quickstart/data/quickstart.taz.xml --tazrelation-files /Users/rodrse/Documents/DemandCalibration/notebooks/od_calibration_sumo_files/quickstart/data/iter_quickstart.current_od.xml -o /Users/rodrse/Documents/DemandCalibration/notebooks/od_calibration_sumo_files/quickstart/data/iter_od_trips.trips.xml \n",
      "Success.\n",
      "Loading net-file from '/Users/rodrse/Documents/DemandCalibration/notebooks/od_calibration_sumo_files/quickstart/data/quickstart.net.xml' ... done (5ms).\n",
      "Loading additional-files from '/Users/rodrse/Documents/DemandCalibration/notebooks/od_calibration_sumo_files/quickstart/data/quickstart.additional.xml' ... done (1ms).\n",
      "Loading done.\n",
      "Simulation version 1.16.0 started with time: 54000.00.\n",
      "Step #57500.00 (6ms ~= 166.67*RT, ~141500.00UPS, vehicles TOT 3061 ACT 849 BUF 4)         \r"
     ]
    },
    {
     "name": "stderr",
     "output_type": "stream",
     "text": [
      "Warning: Teleporting vehicle '624'; waited too long (wrong lane), lane='L12_2', time=57519.00.\n",
      "Warning: Vehicle '624' ends teleporting on edge 'L15', time=57571.00.\n",
      "Warning: Teleporting vehicle '629'; waited too long (wrong lane), lane='L12_2', time=57582.00.\n"
     ]
    },
    {
     "name": "stdout",
     "output_type": "stream",
     "text": [
      "Step #57600.00 (9ms ~= 111.11*RT, ~97666.67UPS, vehicles TOT 3137 ACT 879 BUF 16)         \n",
      "Simulation ended at time: 57600.00\n",
      "Reason: The final simulation step has been reached.\n",
      "Performance: \n",
      " Duration: 15.75s\n",
      " Real time factor: 228.644\n",
      " UPS: 130116.608447\n",
      "Vehicles: \n",
      " Inserted: 3137 (Loaded: 3153)\n",
      " Running: 879\n",
      " Waiting: 16\n",
      " Teleports: 2 (Wrong Lane: 2)\n",
      "Statistics (avg of 2258):\n",
      " RouteLength: 4366.57\n",
      " Speed: 11.45\n",
      " Duration: 469.28\n",
      " WaitingTime: 82.68\n",
      " TimeLoss: 153.00\n",
      " DepartDelay: 0.48\n",
      "\n",
      "DijkstraRouter answered 3153 queries and explored 10.09 edges on average.\n",
      "DijkstraRouter spent 0.01s answering queries (0.00ms on average).\n",
      "####### 94 ########\n",
      "##### n=118 #####\n",
      "##### best_value=-0.001436093396988365 #####\n",
      "printing /Users/rodrse/Documents/DemandCalibration/notebooks/od_calibration_sumo_files/quickstart/data/iter_quickstart.current_od.xml\n",
      "### Runing: iter\n",
      "od2trips --no-step-log  --spread.uniform --taz-files /Users/rodrse/Documents/DemandCalibration/notebooks/od_calibration_sumo_files/quickstart/data/quickstart.taz.xml --tazrelation-files /Users/rodrse/Documents/DemandCalibration/notebooks/od_calibration_sumo_files/quickstart/data/iter_quickstart.current_od.xml -o /Users/rodrse/Documents/DemandCalibration/notebooks/od_calibration_sumo_files/quickstart/data/iter_od_trips.trips.xml \n",
      "Success.\n",
      "Loading net-file from '/Users/rodrse/Documents/DemandCalibration/notebooks/od_calibration_sumo_files/quickstart/data/quickstart.net.xml' ... done (6ms).\n",
      "Loading additional-files from '/Users/rodrse/Documents/DemandCalibration/notebooks/od_calibration_sumo_files/quickstart/data/quickstart.additional.xml' ... done (1ms).\n",
      "Loading done.\n",
      "Simulation version 1.16.0 started with time: 54000.00.\n",
      "Step #57600.00 (6ms ~= 166.67*RT, ~131666.67UPS, vehicles TOT 2906 ACT 790 BUF 0)         \n",
      "Simulation ended at time: 57600.00\n",
      "Reason: The final simulation step has been reached.\n",
      "Performance: \n",
      " Duration: 13.26s\n",
      " Real time factor: 271.493\n",
      " UPS: 135770.663650\n",
      "Vehicles: \n",
      " Inserted: 2906\n",
      " Running: 790\n",
      " Waiting: 0\n",
      "Statistics (avg of 2116):\n",
      " RouteLength: 4383.97\n",
      " Speed: 11.97\n",
      " Duration: 437.41\n",
      " WaitingTime: 74.55\n",
      " TimeLoss: 119.48\n",
      " DepartDelay: 0.49\n",
      "\n",
      "DijkstraRouter answered 2906 queries and explored 10.32 edges on average.\n",
      "DijkstraRouter spent 0.01s answering queries (0.00ms on average).\n",
      "####### 95 ########\n",
      "##### n=119 #####\n",
      "##### best_value=-0.001436093396988365 #####\n",
      "printing /Users/rodrse/Documents/DemandCalibration/notebooks/od_calibration_sumo_files/quickstart/data/iter_quickstart.current_od.xml\n",
      "### Runing: iter\n",
      "od2trips --no-step-log  --spread.uniform --taz-files /Users/rodrse/Documents/DemandCalibration/notebooks/od_calibration_sumo_files/quickstart/data/quickstart.taz.xml --tazrelation-files /Users/rodrse/Documents/DemandCalibration/notebooks/od_calibration_sumo_files/quickstart/data/iter_quickstart.current_od.xml -o /Users/rodrse/Documents/DemandCalibration/notebooks/od_calibration_sumo_files/quickstart/data/iter_od_trips.trips.xml \n",
      "Success.\n",
      "Loading net-file from '/Users/rodrse/Documents/DemandCalibration/notebooks/od_calibration_sumo_files/quickstart/data/quickstart.net.xml' ... done (6ms).\n",
      "Loading additional-files from '/Users/rodrse/Documents/DemandCalibration/notebooks/od_calibration_sumo_files/quickstart/data/quickstart.additional.xml' ... done (1ms).\n",
      "Loading done.\n",
      "Simulation version 1.16.0 started with time: 54000.00.\n",
      "Step #56900.00 (5ms ~= 200.00*RT, ~149400.00UPS, vehicles TOT 2553 ACT 747 BUF 0)         \r"
     ]
    },
    {
     "name": "stderr",
     "output_type": "stream",
     "text": [
      "Warning: Teleporting vehicle '459'; waited too long (wrong lane), lane='L15_0', time=56979.00.\n",
      "Warning: Vehicle '459' ends teleporting on edge 'L18', time=56979.00.\n",
      "Warning: Teleporting vehicle '462'; waited too long (wrong lane), lane='L15_0', time=56980.00.\n",
      "Warning: Vehicle '462' ends teleporting on edge 'L18', time=56980.00.\n",
      "Warning: Teleporting vehicle '466'; waited too long (wrong lane), lane='L15_0', time=56981.00.\n",
      "Warning: Vehicle '466' ends teleporting on edge 'L18', time=56981.00.\n"
     ]
    },
    {
     "name": "stdout",
     "output_type": "stream",
     "text": [
      "Step #57400.00 (6ms ~= 166.67*RT, ~138333.33UPS, vehicles TOT 2954 ACT 830 BUF 38)        \r"
     ]
    },
    {
     "name": "stderr",
     "output_type": "stream",
     "text": [
      "Warning: Teleporting vehicle '645'; waited too long (wrong lane), lane='L12_2', time=57435.00.\n",
      "Warning: Vehicle '645' ends teleporting on edge 'L15', time=57436.00.\n",
      "Warning: Teleporting vehicle '510'; waited too long (jam), lane='L2_0', time=57480.00.\n",
      "Warning: Vehicle '510' ends teleporting on edge 'L12', time=57480.00.\n"
     ]
    },
    {
     "name": "stdout",
     "output_type": "stream",
     "text": [
      "Step #57500.00 (7ms ~= 142.86*RT, ~122428.57UPS, vehicles TOT 3026 ACT 857 BUF 55)        \r"
     ]
    },
    {
     "name": "stderr",
     "output_type": "stream",
     "text": [
      "Warning: Teleporting vehicle '651'; waited too long (wrong lane), lane='L12_2', time=57575.00.\n"
     ]
    },
    {
     "name": "stdout",
     "output_type": "stream",
     "text": [
      "Step #57600.00 (9ms ~= 111.11*RT, ~97444.44UPS, vehicles TOT 3097 ACT 877 BUF 72)         \n",
      "Simulation ended at time: 57600.00\n",
      "Reason: The final simulation step has been reached.\n",
      "Performance: \n",
      " Duration: 16.06s\n",
      " Real time factor: 224.159\n",
      " UPS: 127858.966376\n",
      "Vehicles: \n",
      " Inserted: 3097 (Loaded: 3169)\n",
      " Running: 877\n",
      " Waiting: 72\n",
      " Teleports: 6 (Jam: 1, Wrong Lane: 5)\n",
      "Statistics (avg of 2220):\n",
      " RouteLength: 4321.56\n",
      " Speed: 11.70\n",
      " Duration: 454.90\n",
      " WaitingTime: 83.75\n",
      " TimeLoss: 141.60\n",
      " DepartDelay: 0.50\n",
      "\n",
      "DijkstraRouter answered 3250 queries and explored 9.95 edges on average.\n",
      "DijkstraRouter spent 0.02s answering queries (0.00ms on average).\n",
      "####### 96 ########\n",
      "##### n=120 #####\n",
      "##### best_value=-0.001436093396988365 #####\n",
      "printing /Users/rodrse/Documents/DemandCalibration/notebooks/od_calibration_sumo_files/quickstart/data/iter_quickstart.current_od.xml\n",
      "### Runing: iter\n",
      "od2trips --no-step-log  --spread.uniform --taz-files /Users/rodrse/Documents/DemandCalibration/notebooks/od_calibration_sumo_files/quickstart/data/quickstart.taz.xml --tazrelation-files /Users/rodrse/Documents/DemandCalibration/notebooks/od_calibration_sumo_files/quickstart/data/iter_quickstart.current_od.xml -o /Users/rodrse/Documents/DemandCalibration/notebooks/od_calibration_sumo_files/quickstart/data/iter_od_trips.trips.xml \n",
      "Success.\n",
      "Loading net-file from '/Users/rodrse/Documents/DemandCalibration/notebooks/od_calibration_sumo_files/quickstart/data/quickstart.net.xml' ... done (6ms).\n",
      "Loading additional-files from '/Users/rodrse/Documents/DemandCalibration/notebooks/od_calibration_sumo_files/quickstart/data/quickstart.additional.xml' ... done (1ms).\n",
      "Loading done.\n",
      "Simulation version 1.16.0 started with time: 54000.00.\n",
      "Step #57000.00 (6ms ~= 166.67*RT, ~108166.67UPS, vehicles TOT 2436 ACT 649 BUF 0)         \r"
     ]
    },
    {
     "name": "stderr",
     "output_type": "stream",
     "text": [
      "Warning: Teleporting vehicle '480'; waited too long (wrong lane), lane='L15_0', time=57096.00.\n",
      "Warning: Vehicle '480' ends teleporting on edge 'L18', time=57096.00.\n",
      "Warning: Teleporting vehicle '478'; waited too long (wrong lane), lane='L15_0', time=57097.00.\n",
      "Warning: Vehicle '478' ends teleporting on edge 'L18', time=57097.00.\n"
     ]
    },
    {
     "name": "stdout",
     "output_type": "stream",
     "text": [
      "Step #57100.00 (7ms ~= 142.86*RT, ~95142.86UPS, vehicles TOT 2518 ACT 666 BUF 0)          \r"
     ]
    },
    {
     "name": "stderr",
     "output_type": "stream",
     "text": [
      "Warning: Teleporting vehicle '488'; waited too long (wrong lane), lane='L15_0', time=57173.00.\n",
      "Warning: Vehicle '488' ends teleporting on edge 'L18', time=57173.00.\n",
      "Warning: Teleporting vehicle '494'; waited too long (wrong lane), lane='L15_0', time=57174.00.\n",
      "Warning: Vehicle '494' ends teleporting on edge 'L18', time=57174.00.\n"
     ]
    },
    {
     "name": "stdout",
     "output_type": "stream",
     "text": [
      "Step #57200.00 (4ms ~= 250.00*RT, ~170250.00UPS, vehicles TOT 2600 ACT 681 BUF 0)         \r"
     ]
    },
    {
     "name": "stderr",
     "output_type": "stream",
     "text": [
      "Warning: Teleporting vehicle '462'; waited too long (wrong lane), lane='L15_0', time=57268.00.\n",
      "Warning: Vehicle '462' ends teleporting on edge 'L18', time=57268.00.\n"
     ]
    },
    {
     "name": "stdout",
     "output_type": "stream",
     "text": [
      "Step #57300.00 (7ms ~= 142.86*RT, ~98142.86UPS, vehicles TOT 2680 ACT 687 BUF 0)          \r"
     ]
    },
    {
     "name": "stderr",
     "output_type": "stream",
     "text": [
      "Warning: Teleporting vehicle '496'; waited too long (wrong lane), lane='L15_0', time=57318.00.\n",
      "Warning: Vehicle '496' ends teleporting on edge 'L18', time=57318.00.\n"
     ]
    },
    {
     "name": "stdout",
     "output_type": "stream",
     "text": [
      "Step #57600.00 (8ms ~= 125.00*RT, ~90250.00UPS, vehicles TOT 2910 ACT 722 BUF 14)         \n",
      "Simulation ended at time: 57600.00\n",
      "Reason: The final simulation step has been reached.\n",
      "Performance: \n",
      " Duration: 13.38s\n",
      " Real time factor: 269.078\n",
      " UPS: 128394.797817\n",
      "Vehicles: \n",
      " Inserted: 2910 (Loaded: 2924)\n",
      " Running: 722\n",
      " Waiting: 14\n",
      " Teleports: 6 (Wrong Lane: 6)\n",
      "Statistics (avg of 2188):\n",
      " RouteLength: 4273.27\n",
      " Speed: 12.13\n",
      " Duration: 429.32\n",
      " WaitingTime: 77.12\n",
      " TimeLoss: 119.35\n",
      " DepartDelay: 0.49\n",
      "\n",
      "DijkstraRouter answered 2924 queries and explored 9.71 edges on average.\n",
      "DijkstraRouter spent 0.01s answering queries (0.00ms on average).\n",
      "####### 97 ########\n",
      "##### n=121 #####\n",
      "##### best_value=-0.001436093396988365 #####\n",
      "printing /Users/rodrse/Documents/DemandCalibration/notebooks/od_calibration_sumo_files/quickstart/data/iter_quickstart.current_od.xml\n",
      "### Runing: iter\n",
      "od2trips --no-step-log  --spread.uniform --taz-files /Users/rodrse/Documents/DemandCalibration/notebooks/od_calibration_sumo_files/quickstart/data/quickstart.taz.xml --tazrelation-files /Users/rodrse/Documents/DemandCalibration/notebooks/od_calibration_sumo_files/quickstart/data/iter_quickstart.current_od.xml -o /Users/rodrse/Documents/DemandCalibration/notebooks/od_calibration_sumo_files/quickstart/data/iter_od_trips.trips.xml \n",
      "Success.\n",
      "Loading net-file from '/Users/rodrse/Documents/DemandCalibration/notebooks/od_calibration_sumo_files/quickstart/data/quickstart.net.xml' ... done (8ms).\n",
      "Loading additional-files from '/Users/rodrse/Documents/DemandCalibration/notebooks/od_calibration_sumo_files/quickstart/data/quickstart.additional.xml' ... done (1ms).\n",
      "Loading done.\n",
      "Simulation version 1.16.0 started with time: 54000.00.\n",
      "Step #57000.00 (6ms ~= 166.67*RT, ~154500.00UPS, vehicles TOT 2808 ACT 927 BUF 0)         \r"
     ]
    },
    {
     "name": "stderr",
     "output_type": "stream",
     "text": [
      "Warning: Teleporting vehicle '601'; waited too long (wrong lane), lane='L12_2', time=57005.00.\n",
      "Warning: Vehicle '601' ends teleporting on edge 'L15', time=57005.00.\n",
      "Warning: Teleporting vehicle '468'; waited too long (jam), lane='L2_0', time=57019.00.\n",
      "Warning: Vehicle '468' ends teleporting on edge 'L12', time=57019.00.\n",
      "Warning: Teleporting vehicle '605'; waited too long (wrong lane), lane='L12_2', time=57083.00.\n",
      "Warning: Vehicle '605' ends teleporting on edge 'L15', time=57083.00.\n",
      "Warning: Teleporting vehicle '671'; waited too long (jam), lane='L2_1', time=57101.00.\n",
      "Warning: Vehicle '671' ends teleporting on edge 'L12', time=57101.00.\n"
     ]
    },
    {
     "name": "stdout",
     "output_type": "stream",
     "text": [
      "Step #57100.00 (8ms ~= 125.00*RT, ~117250.00UPS, vehicles TOT 2882 ACT 938 BUF 19)        \r"
     ]
    },
    {
     "name": "stderr",
     "output_type": "stream",
     "text": [
      "Warning: Teleporting vehicle '606'; waited too long (wrong lane), lane='L12_2', time=57108.00.\n",
      "Warning: Teleporting vehicle '607'; waited too long (wrong lane), lane='L12_2', time=57135.00.\n",
      "Warning: Vehicle '606' ends teleporting on edge 'L15', time=57154.00.\n"
     ]
    },
    {
     "name": "stdout",
     "output_type": "stream",
     "text": [
      "Step #57200.00 (9ms ~= 111.11*RT, ~104000.00UPS, vehicles TOT 2936 ACT 936 BUF 59)        \r"
     ]
    },
    {
     "name": "stderr",
     "output_type": "stream",
     "text": [
      "Warning: Teleporting vehicle '1361'; waited too long (jam), lane='D2_1', time=57237.00.\n",
      "Warning: Teleporting vehicle '714'; waited too long (jam), lane='D2_1', time=57238.00.\n",
      "Warning: Teleporting vehicle '715'; waited too long (jam), lane='D2_1', time=57239.00.\n",
      "Warning: Vehicle '607' ends teleporting on edge 'L15', time=57254.00.\n"
     ]
    },
    {
     "name": "stdout",
     "output_type": "stream",
     "text": [
      "Step #57300.00 (9ms ~= 111.11*RT, ~103444.44UPS, vehicles TOT 2989 ACT 931 BUF 100)       \r"
     ]
    },
    {
     "name": "stderr",
     "output_type": "stream",
     "text": [
      "Warning: Teleporting vehicle '469'; waited too long (jam), lane='L2_0', time=57328.00.\n",
      "Warning: Vehicle '469' ends teleporting on edge 'L12', time=57328.00.\n",
      "Warning: Teleporting vehicle '613'; waited too long (wrong lane), lane='L12_2', time=57329.00.\n",
      "Warning: Vehicle '1361' ends teleporting on edge 'L2', time=57333.00.\n",
      "Warning: Vehicle '613' ends teleporting on edge 'L15', time=57371.00.\n"
     ]
    },
    {
     "name": "stdout",
     "output_type": "stream",
     "text": [
      "Step #57400.00 (11ms ~= 90.91*RT, ~84545.45UPS, vehicles TOT 3041 ACT 930 BUF 141)        \r"
     ]
    },
    {
     "name": "stderr",
     "output_type": "stream",
     "text": [
      "Warning: Teleporting vehicle '1333'; waited too long (jam), lane='L2_1', time=57408.00.\n",
      "Warning: Vehicle '714' ends teleporting on edge 'L2', time=57410.00.\n",
      "Warning: Teleporting vehicle '536'; waited too long (jam), lane='D2_0', time=57412.00.\n",
      "Warning: Teleporting vehicle '617'; waited too long (wrong lane), lane='L12_2', time=57465.00.\n",
      "Warning: Vehicle '617' ends teleporting on edge 'L15', time=57465.00.\n"
     ]
    },
    {
     "name": "stdout",
     "output_type": "stream",
     "text": [
      "Step #57500.00 (10ms ~= 100.00*RT, ~92100.00UPS, vehicles TOT 3093 ACT 921 BUF 182)       \r"
     ]
    },
    {
     "name": "stderr",
     "output_type": "stream",
     "text": [
      "Warning: Teleporting vehicle '1362'; waited too long (jam), lane='D2_1', time=57550.00.\n",
      "Warning: Vehicle '1333' ends teleporting on edge 'L12', time=57564.00.\n"
     ]
    },
    {
     "name": "stdout",
     "output_type": "stream",
     "text": [
      "Step #57600.00 (9ms ~= 111.11*RT, ~101777.78UPS, vehicles TOT 3146 ACT 916 BUF 223)       \n",
      "Simulation ended at time: 57600.00\n",
      "Reason: The final simulation step has been reached.\n",
      "Performance: \n",
      " Duration: 21.47s\n",
      " Real time factor: 167.676\n",
      " UPS: 111431.439218\n",
      "Vehicles: \n",
      " Inserted: 3146 (Loaded: 3369)\n",
      " Running: 916\n",
      " Waiting: 223\n",
      " Teleports: 15 (Jam: 9, Wrong Lane: 6)\n",
      "Statistics (avg of 2230):\n",
      " RouteLength: 4440.50\n",
      " Speed: 11.12\n",
      " Duration: 490.44\n",
      " WaitingTime: 78.73\n",
      " TimeLoss: 168.21\n",
      " DepartDelay: 0.50\n",
      "\n",
      "DijkstraRouter answered 3370 queries and explored 10.49 edges on average.\n",
      "DijkstraRouter spent 0.01s answering queries (0.00ms on average).\n",
      "####### 98 ########\n",
      "##### n=122 #####\n",
      "##### best_value=-0.001436093396988365 #####\n",
      "printing /Users/rodrse/Documents/DemandCalibration/notebooks/od_calibration_sumo_files/quickstart/data/iter_quickstart.current_od.xml\n",
      "### Runing: iter\n",
      "od2trips --no-step-log  --spread.uniform --taz-files /Users/rodrse/Documents/DemandCalibration/notebooks/od_calibration_sumo_files/quickstart/data/quickstart.taz.xml --tazrelation-files /Users/rodrse/Documents/DemandCalibration/notebooks/od_calibration_sumo_files/quickstart/data/iter_quickstart.current_od.xml -o /Users/rodrse/Documents/DemandCalibration/notebooks/od_calibration_sumo_files/quickstart/data/iter_od_trips.trips.xml \n",
      "Success.\n",
      "Loading net-file from '/Users/rodrse/Documents/DemandCalibration/notebooks/od_calibration_sumo_files/quickstart/data/quickstart.net.xml' ... done (8ms).\n",
      "Loading additional-files from '/Users/rodrse/Documents/DemandCalibration/notebooks/od_calibration_sumo_files/quickstart/data/quickstart.additional.xml' ... done (1ms).\n",
      "Loading done.\n",
      "Simulation version 1.16.0 started with time: 54000.00.\n",
      "Step #57000.00 (6ms ~= 166.67*RT, ~102333.33UPS, vehicles TOT 1916 ACT 614 BUF 0)         \r"
     ]
    },
    {
     "name": "stderr",
     "output_type": "stream",
     "text": [
      "Warning: Teleporting vehicle '473'; waited too long (wrong lane), lane='L15_0', time=57068.00.\n",
      "Warning: Vehicle '473' ends teleporting on edge 'L18', time=57068.00.\n"
     ]
    },
    {
     "name": "stdout",
     "output_type": "stream",
     "text": [
      "Step #57100.00 (6ms ~= 166.67*RT, ~103166.67UPS, vehicles TOT 1979 ACT 619 BUF 0)         \r"
     ]
    },
    {
     "name": "stderr",
     "output_type": "stream",
     "text": [
      "Warning: Teleporting vehicle '479'; waited too long (wrong lane), lane='L15_0', time=57117.00.\n",
      "Warning: Vehicle '479' ends teleporting on edge 'L18', time=57117.00.\n",
      "Warning: Teleporting vehicle '494'; waited too long (wrong lane), lane='L15_0', time=57118.00.\n",
      "Warning: Vehicle '494' ends teleporting on edge 'L18', time=57118.00.\n",
      "Warning: Teleporting vehicle '496'; waited too long (wrong lane), lane='L15_0', time=57119.00.\n",
      "Warning: Vehicle '496' ends teleporting on edge 'L18', time=57119.00.\n",
      "Warning: Teleporting vehicle '486'; waited too long (wrong lane), lane='L15_0', time=57120.00.\n",
      "Warning: Vehicle '486' ends teleporting on edge 'L18', time=57120.00.\n",
      "Warning: Teleporting vehicle '430'; waited too long (wrong lane), lane='L15_0', time=57121.00.\n",
      "Warning: Vehicle '430' ends teleporting on edge 'L18', time=57121.00.\n",
      "Warning: Teleporting vehicle '539'; waited too long (jam), lane='L12_0', time=57175.00.\n"
     ]
    },
    {
     "name": "stdout",
     "output_type": "stream",
     "text": [
      "Step #57200.00 (6ms ~= 166.67*RT, ~105833.33UPS, vehicles TOT 2044 ACT 635 BUF 0)         \r"
     ]
    },
    {
     "name": "stderr",
     "output_type": "stream",
     "text": [
      "Warning: Vehicle '539' ends teleporting on edge 'L15', time=57202.00.\n",
      "Warning: Teleporting vehicle '429'; waited too long (wrong lane), lane='L15_0', time=57238.00.\n",
      "Warning: Vehicle '429' ends teleporting on edge 'L18', time=57238.00.\n",
      "Warning: Teleporting vehicle '572'; waited too long (jam), lane=':1_3_1', time=57245.00.\n",
      "Warning: Vehicle '572' ends teleporting on edge 'L12', time=57245.00.\n",
      "Warning: Teleporting vehicle '522'; waited too long (jam), lane='L12_0', time=57285.00.\n",
      "Warning: Vehicle '522' ends teleporting on edge 'L15', time=57285.00.\n"
     ]
    },
    {
     "name": "stdout",
     "output_type": "stream",
     "text": [
      "Step #57400.00 (6ms ~= 166.67*RT, ~109500.00UPS, vehicles TOT 2171 ACT 657 BUF 0)         \r"
     ]
    },
    {
     "name": "stderr",
     "output_type": "stream",
     "text": [
      "Warning: Teleporting vehicle '470'; waited too long (wrong lane), lane='L15_0', time=57423.00.\n",
      "Warning: Vehicle '470' ends teleporting on edge 'L18', time=57423.00.\n"
     ]
    },
    {
     "name": "stdout",
     "output_type": "stream",
     "text": [
      "Step #57600.00 (9ms ~= 111.11*RT, ~75555.56UPS, vehicles TOT 2299 ACT 680 BUF 0)          \n",
      "Simulation ended at time: 57600.00\n",
      "Reason: The final simulation step has been reached.\n",
      "Performance: \n",
      " Duration: 17.55s\n",
      " Real time factor: 205.093\n",
      " UPS: 88267.988378\n",
      "Vehicles: \n",
      " Inserted: 2299\n",
      " Running: 680\n",
      " Waiting: 0\n",
      " Teleports: 11 (Jam: 3, Wrong Lane: 8)\n",
      "Statistics (avg of 1619):\n",
      " RouteLength: 4519.24\n",
      " Speed: 12.17\n",
      " Duration: 477.02\n",
      " WaitingTime: 102.30\n",
      " TimeLoss: 149.62\n",
      " DepartDelay: 0.49\n",
      "\n",
      "DijkstraRouter answered 2299 queries and explored 11.10 edges on average.\n",
      "DijkstraRouter spent 0.01s answering queries (0.00ms on average).\n",
      "####### 99 ########\n",
      "##### n=123 #####\n",
      "##### best_value=-0.001436093396988365 #####\n",
      "printing /Users/rodrse/Documents/DemandCalibration/notebooks/od_calibration_sumo_files/quickstart/data/iter_quickstart.current_od.xml\n",
      "### Runing: iter\n",
      "od2trips --no-step-log  --spread.uniform --taz-files /Users/rodrse/Documents/DemandCalibration/notebooks/od_calibration_sumo_files/quickstart/data/quickstart.taz.xml --tazrelation-files /Users/rodrse/Documents/DemandCalibration/notebooks/od_calibration_sumo_files/quickstart/data/iter_quickstart.current_od.xml -o /Users/rodrse/Documents/DemandCalibration/notebooks/od_calibration_sumo_files/quickstart/data/iter_od_trips.trips.xml \n",
      "Success.\n",
      "Loading net-file from '/Users/rodrse/Documents/DemandCalibration/notebooks/od_calibration_sumo_files/quickstart/data/quickstart.net.xml' ... done (8ms).\n",
      "Loading additional-files from '/Users/rodrse/Documents/DemandCalibration/notebooks/od_calibration_sumo_files/quickstart/data/quickstart.additional.xml' ... done (2ms).\n",
      "Loading done.\n",
      "Simulation version 1.16.0 started with time: 54000.00.\n",
      "Step #56800.00 (9ms ~= 111.11*RT, ~92000.00UPS, vehicles TOT 2344 ACT 828 BUF 58)         \r"
     ]
    },
    {
     "name": "stderr",
     "output_type": "stream",
     "text": [
      "Warning: Teleporting vehicle '387'; waited too long (jam), lane='L12_0', time=56892.00.\n",
      "Warning: Vehicle '387' ends teleporting on edge 'L15', time=56892.00.\n"
     ]
    },
    {
     "name": "stdout",
     "output_type": "stream",
     "text": [
      "Step #56900.00 (8ms ~= 125.00*RT, ~102875.00UPS, vehicles TOT 2428 ACT 823 BUF 59)        \r"
     ]
    },
    {
     "name": "stderr",
     "output_type": "stream",
     "text": [
      "Warning: Teleporting vehicle '358'; waited too long (wrong lane), lane='L15_0', time=56958.00.\n",
      "Warning: Vehicle '358' ends teleporting on edge 'L18', time=56958.00.\n",
      "Warning: Teleporting vehicle '359'; waited too long (wrong lane), lane='L15_0', time=56959.00.\n",
      "Warning: Vehicle '359' ends teleporting on edge 'L18', time=56959.00.\n"
     ]
    },
    {
     "name": "stdout",
     "output_type": "stream",
     "text": [
      "Step #57000.00 (9ms ~= 111.11*RT, ~92555.56UPS, vehicles TOT 2497 ACT 833 BUF 77)         \r"
     ]
    },
    {
     "name": "stderr",
     "output_type": "stream",
     "text": [
      "Warning: Teleporting vehicle '635'; waited too long (jam), lane='L2_0', time=57005.00.\n",
      "Warning: Vehicle '635' ends teleporting on edge 'L12', time=57005.00.\n"
     ]
    },
    {
     "name": "stdout",
     "output_type": "stream",
     "text": [
      "Step #57200.00 (9ms ~= 111.11*RT, ~97444.44UPS, vehicles TOT 2634 ACT 877 BUF 111)        \r"
     ]
    },
    {
     "name": "stderr",
     "output_type": "stream",
     "text": [
      "Warning: Teleporting vehicle '622'; waited too long (wrong lane), lane='L12_2', time=57283.00.\n",
      "Warning: Vehicle '622' ends teleporting on edge 'L15', time=57283.00.\n"
     ]
    },
    {
     "name": "stdout",
     "output_type": "stream",
     "text": [
      "Step #57300.00 (9ms ~= 111.11*RT, ~99222.22UPS, vehicles TOT 2701 ACT 893 BUF 130)        \r"
     ]
    },
    {
     "name": "stderr",
     "output_type": "stream",
     "text": [
      "Warning: Teleporting vehicle '627'; waited too long (wrong lane), lane='L12_2', time=57321.00.\n",
      "Warning: Vehicle '627' ends teleporting on edge 'L15', time=57335.00.\n",
      "Warning: Teleporting vehicle '628'; waited too long (wrong lane), lane='L12_2', time=57352.00.\n",
      "Warning: Teleporting vehicle '715'; waited too long (jam), lane='L2_1', time=57358.00.\n",
      "Warning: Vehicle '715' ends teleporting on edge 'L12', time=57358.00.\n",
      "Warning: Vehicle '628' ends teleporting on edge 'L15', time=57362.00.\n",
      "Warning: Teleporting vehicle '629'; waited too long (wrong lane), lane='L12_2', time=57387.00.\n",
      "Warning: Teleporting vehicle '585'; waited too long (jam), lane='D2_0', time=57401.00.\n"
     ]
    },
    {
     "name": "stdout",
     "output_type": "stream",
     "text": [
      "Step #57400.00 (9ms ~= 111.11*RT, ~101222.22UPS, vehicles TOT 2766 ACT 911 BUF 151)       \r"
     ]
    },
    {
     "name": "stderr",
     "output_type": "stream",
     "text": [
      "Warning: Vehicle '629' ends teleporting on edge 'L15', time=57410.00.\n",
      "Warning: Teleporting vehicle '630'; waited too long (wrong lane), lane='L12_2', time=57423.00.\n",
      "Warning: Teleporting vehicle '631'; waited too long (wrong lane), lane='L12_2', time=57424.00.\n",
      "Warning: Teleporting vehicle '632'; waited too long (wrong lane), lane='L12_2', time=57461.00.\n",
      "Warning: Vehicle '630' ends teleporting on edge 'L15', time=57461.00.\n",
      "Warning: Teleporting vehicle '1501'; waited too long (jam), lane='D2_1', time=57487.00.\n",
      "Warning: Teleporting vehicle '741'; waited too long (jam), lane='D2_1', time=57492.00.\n",
      "Warning: Teleporting vehicle '634'; waited too long (wrong lane), lane='L12_2', time=57502.00.\n"
     ]
    },
    {
     "name": "stdout",
     "output_type": "stream",
     "text": [
      "Step #57500.00 (9ms ~= 111.11*RT, ~100555.56UPS, vehicles TOT 2806 ACT 905 BUF 196)       \r"
     ]
    },
    {
     "name": "stderr",
     "output_type": "stream",
     "text": [
      "Warning: Vehicle '631' ends teleporting on edge 'L15', time=57514.00.\n",
      "Warning: Teleporting vehicle '419'; waited too long (jam), lane='L12_0', time=57515.00.\n",
      "Warning: Teleporting vehicle '707'; waited too long (jam), lane='L2_0', time=57548.00.\n",
      "Warning: Vehicle '707' ends teleporting on edge 'L12', time=57548.00.\n",
      "Warning: Vehicle '419' ends teleporting on edge 'L15', time=57578.00.\n"
     ]
    },
    {
     "name": "stdout",
     "output_type": "stream",
     "text": [
      "Step #57600.00 (10ms ~= 100.00*RT, ~90200.00UPS, vehicles TOT 2847 ACT 902 BUF 241)       \n",
      "Simulation ended at time: 57600.00\n",
      "Reason: The final simulation step has been reached.\n",
      "Performance: \n",
      " Duration: 25.57s\n",
      " Real time factor: 140.773\n",
      " UPS: 91099.245298\n",
      "Vehicles: \n",
      " Inserted: 2847 (Loaded: 3088)\n",
      " Running: 902\n",
      " Waiting: 241\n",
      " Teleports: 18 (Jam: 8, Wrong Lane: 10)\n",
      "Statistics (avg of 1945):\n",
      " RouteLength: 4483.58\n",
      " Speed: 10.52\n",
      " Duration: 553.59\n",
      " WaitingTime: 109.23\n",
      " TimeLoss: 228.26\n",
      " DepartDelay: 0.73\n",
      "\n",
      "DijkstraRouter answered 3344 queries and explored 10.58 edges on average.\n",
      "DijkstraRouter spent 0.02s answering queries (0.01ms on average).\n",
      "####### 100 ########\n",
      "##### n=124 #####\n",
      "##### best_value=-0.001436093396988365 #####\n",
      "printing /Users/rodrse/Documents/DemandCalibration/notebooks/od_calibration_sumo_files/quickstart/data/iter_quickstart.current_od.xml\n",
      "### Runing: iter\n",
      "od2trips --no-step-log  --spread.uniform --taz-files /Users/rodrse/Documents/DemandCalibration/notebooks/od_calibration_sumo_files/quickstart/data/quickstart.taz.xml --tazrelation-files /Users/rodrse/Documents/DemandCalibration/notebooks/od_calibration_sumo_files/quickstart/data/iter_quickstart.current_od.xml -o /Users/rodrse/Documents/DemandCalibration/notebooks/od_calibration_sumo_files/quickstart/data/iter_od_trips.trips.xml \n",
      "Success.\n",
      "Loading net-file from '/Users/rodrse/Documents/DemandCalibration/notebooks/od_calibration_sumo_files/quickstart/data/quickstart.net.xml' ... done (9ms).\n",
      "Loading additional-files from '/Users/rodrse/Documents/DemandCalibration/notebooks/od_calibration_sumo_files/quickstart/data/quickstart.additional.xml' ... done (2ms).\n",
      "Loading done.\n",
      "Simulation version 1.16.0 started with time: 54000.00.\n",
      "Step #57600.00 (8ms ~= 125.00*RT, ~93375.00UPS, vehicles TOT 2966 ACT 747 BUF 0)          \n",
      "Simulation ended at time: 57600.00\n",
      "Reason: The final simulation step has been reached.\n",
      "Performance: \n",
      " Duration: 19.33s\n",
      " Real time factor: 186.21\n",
      " UPS: 95869.446025\n",
      "Vehicles: \n",
      " Inserted: 2966\n",
      " Running: 747\n",
      " Waiting: 0\n",
      "Statistics (avg of 2219):\n",
      " RouteLength: 4283.35\n",
      " Speed: 11.48\n",
      " Duration: 474.06\n",
      " WaitingTime: 96.23\n",
      " TimeLoss: 164.07\n",
      " DepartDelay: 0.49\n",
      "\n",
      "DijkstraRouter answered 2966 queries and explored 9.61 edges on average.\n",
      "DijkstraRouter spent 0.02s answering queries (0.01ms on average).\n",
      "####### 101 ########\n",
      "##### n=125 #####\n",
      "##### best_value=-0.001436093396988365 #####\n",
      "printing /Users/rodrse/Documents/DemandCalibration/notebooks/od_calibration_sumo_files/quickstart/data/iter_quickstart.current_od.xml\n",
      "### Runing: iter\n",
      "od2trips --no-step-log  --spread.uniform --taz-files /Users/rodrse/Documents/DemandCalibration/notebooks/od_calibration_sumo_files/quickstart/data/quickstart.taz.xml --tazrelation-files /Users/rodrse/Documents/DemandCalibration/notebooks/od_calibration_sumo_files/quickstart/data/iter_quickstart.current_od.xml -o /Users/rodrse/Documents/DemandCalibration/notebooks/od_calibration_sumo_files/quickstart/data/iter_od_trips.trips.xml \n",
      "Success.\n",
      "Loading net-file from '/Users/rodrse/Documents/DemandCalibration/notebooks/od_calibration_sumo_files/quickstart/data/quickstart.net.xml' ... done (6ms).\n",
      "Loading additional-files from '/Users/rodrse/Documents/DemandCalibration/notebooks/od_calibration_sumo_files/quickstart/data/quickstart.additional.xml' ... done (1ms).\n",
      "Loading done.\n",
      "Simulation version 1.16.0 started with time: 54000.00.\n",
      "Step #57600.00 (7ms ~= 142.86*RT, ~92142.86UPS, vehicles TOT 2532 ACT 645 BUF 0)          \n",
      "Simulation ended at time: 57600.00\n",
      "Reason: The final simulation step has been reached.\n",
      "Performance: \n",
      " Duration: 14.50s\n",
      " Real time factor: 248.362\n",
      " UPS: 101645.877889\n",
      "Vehicles: \n",
      " Inserted: 2532\n",
      " Running: 645\n",
      " Waiting: 0\n",
      "Statistics (avg of 1887):\n",
      " RouteLength: 4417.33\n",
      " Speed: 12.26\n",
      " Duration: 429.30\n",
      " WaitingTime: 71.70\n",
      " TimeLoss: 108.26\n",
      " DepartDelay: 0.49\n",
      "\n",
      "DijkstraRouter answered 2532 queries and explored 10.49 edges on average.\n",
      "DijkstraRouter spent 0.01s answering queries (0.00ms on average).\n",
      "####### 102 ########\n",
      "##### n=126 #####\n",
      "##### best_value=-0.001436093396988365 #####\n",
      "printing /Users/rodrse/Documents/DemandCalibration/notebooks/od_calibration_sumo_files/quickstart/data/iter_quickstart.current_od.xml\n",
      "### Runing: iter\n",
      "od2trips --no-step-log  --spread.uniform --taz-files /Users/rodrse/Documents/DemandCalibration/notebooks/od_calibration_sumo_files/quickstart/data/quickstart.taz.xml --tazrelation-files /Users/rodrse/Documents/DemandCalibration/notebooks/od_calibration_sumo_files/quickstart/data/iter_quickstart.current_od.xml -o /Users/rodrse/Documents/DemandCalibration/notebooks/od_calibration_sumo_files/quickstart/data/iter_od_trips.trips.xml \n",
      "Success.\n",
      "Loading net-file from '/Users/rodrse/Documents/DemandCalibration/notebooks/od_calibration_sumo_files/quickstart/data/quickstart.net.xml' ... done (6ms).\n",
      "Loading additional-files from '/Users/rodrse/Documents/DemandCalibration/notebooks/od_calibration_sumo_files/quickstart/data/quickstart.additional.xml' ... done (1ms).\n",
      "Loading done.\n",
      "Simulation version 1.16.0 started with time: 54000.00.\n",
      "Step #57600.00 (8ms ~= 125.00*RT, ~92250.00UPS, vehicles TOT 2732 ACT 738 BUF 0)          \n",
      "Simulation ended at time: 57600.00\n",
      "Reason: The final simulation step has been reached.\n",
      "Performance: \n",
      " Duration: 16.64s\n",
      " Real time factor: 216.307\n",
      " UPS: 99273.748723\n",
      "Vehicles: \n",
      " Inserted: 2732\n",
      " Running: 738\n",
      " Waiting: 0\n",
      "Statistics (avg of 1994):\n",
      " RouteLength: 4265.62\n",
      " Speed: 12.45\n",
      " Duration: 427.39\n",
      " WaitingTime: 75.83\n",
      " TimeLoss: 117.99\n",
      " DepartDelay: 0.29\n",
      "\n",
      "DijkstraRouter answered 2732 queries and explored 10.06 edges on average.\n",
      "DijkstraRouter spent 0.01s answering queries (0.00ms on average).\n",
      "####### 103 ########\n",
      "##### n=127 #####\n",
      "##### best_value=-0.001436093396988365 #####\n",
      "printing /Users/rodrse/Documents/DemandCalibration/notebooks/od_calibration_sumo_files/quickstart/data/iter_quickstart.current_od.xml\n",
      "### Runing: iter\n",
      "od2trips --no-step-log  --spread.uniform --taz-files /Users/rodrse/Documents/DemandCalibration/notebooks/od_calibration_sumo_files/quickstart/data/quickstart.taz.xml --tazrelation-files /Users/rodrse/Documents/DemandCalibration/notebooks/od_calibration_sumo_files/quickstart/data/iter_quickstart.current_od.xml -o /Users/rodrse/Documents/DemandCalibration/notebooks/od_calibration_sumo_files/quickstart/data/iter_od_trips.trips.xml \n",
      "Success.\n",
      "Loading net-file from '/Users/rodrse/Documents/DemandCalibration/notebooks/od_calibration_sumo_files/quickstart/data/quickstart.net.xml' ... done (7ms).\n",
      "Loading additional-files from '/Users/rodrse/Documents/DemandCalibration/notebooks/od_calibration_sumo_files/quickstart/data/quickstart.additional.xml' ... done (1ms).\n",
      "Loading done.\n",
      "Simulation version 1.16.0 started with time: 54000.00.\n",
      "Step #56900.00 (8ms ~= 125.00*RT, ~92250.00UPS, vehicles TOT 2357 ACT 738 BUF 0)          \r"
     ]
    },
    {
     "name": "stderr",
     "output_type": "stream",
     "text": [
      "Warning: Teleporting vehicle '444'; waited too long (wrong lane), lane='L15_0', time=56939.00.\n",
      "Warning: Vehicle '444' ends teleporting on edge 'L18', time=56939.00.\n",
      "Warning: Teleporting vehicle '470'; waited too long (wrong lane), lane='L15_0', time=56941.00.\n",
      "Warning: Vehicle '470' ends teleporting on edge 'L18', time=56941.00.\n",
      "Warning: Teleporting vehicle '472'; waited too long (wrong lane), lane='L15_0', time=56942.00.\n",
      "Warning: Vehicle '472' ends teleporting on edge 'L18', time=56942.00.\n",
      "Warning: Teleporting vehicle '486'; waited too long (wrong lane), lane='L15_0', time=56943.00.\n",
      "Warning: Vehicle '486' ends teleporting on edge 'L18', time=56943.00.\n",
      "Warning: Teleporting vehicle '481'; waited too long (wrong lane), lane='L15_0', time=56944.00.\n",
      "Warning: Vehicle '481' ends teleporting on edge 'L18', time=56944.00.\n",
      "Warning: Teleporting vehicle '488'; waited too long (wrong lane), lane='L15_0', time=56945.00.\n",
      "Warning: Vehicle '488' ends teleporting on edge 'L18', time=56945.00.\n",
      "Warning: Teleporting vehicle '491'; waited too long (wrong lane), lane='L15_0', time=56946.00.\n",
      "Warning: Vehicle '491' ends teleporting on edge 'L18', time=56946.00.\n",
      "Warning: Teleporting vehicle '498'; waited too long (wrong lane), lane='L15_0', time=56947.00.\n",
      "Warning: Vehicle '498' ends teleporting on edge 'L18', time=56947.00.\n",
      "Warning: Teleporting vehicle '489'; waited too long (wrong lane), lane='L15_0', time=56948.00.\n",
      "Warning: Vehicle '489' ends teleporting on edge 'L18', time=56948.00.\n",
      "Warning: Teleporting vehicle '496'; waited too long (wrong lane), lane='L15_0', time=56949.00.\n",
      "Warning: Vehicle '496' ends teleporting on edge 'L18', time=56949.00.\n",
      "Warning: Teleporting vehicle '499'; waited too long (wrong lane), lane='L15_0', time=56950.00.\n",
      "Warning: Vehicle '499' ends teleporting on edge 'L18', time=56950.00.\n",
      "Warning: Teleporting vehicle '508'; waited too long (wrong lane), lane='L15_0', time=56951.00.\n",
      "Warning: Vehicle '508' ends teleporting on edge 'L18', time=56951.00.\n",
      "Warning: Teleporting vehicle '385'; waited too long (jam), lane='L12_1', time=56957.00.\n",
      "Warning: Vehicle '385' ends teleporting on edge 'L15', time=56957.00.\n"
     ]
    },
    {
     "name": "stdout",
     "output_type": "stream",
     "text": [
      "Step #57600.00 (8ms ~= 125.00*RT, ~97500.00UPS, vehicles TOT 2926 ACT 780 BUF 0)          \n",
      "Simulation ended at time: 57600.00\n",
      "Reason: The final simulation step has been reached.\n",
      "Performance: \n",
      " Duration: 19.98s\n",
      " Real time factor: 180.171\n",
      " UPS: 97140.983935\n",
      "Vehicles: \n",
      " Inserted: 2926\n",
      " Running: 780\n",
      " Waiting: 0\n",
      " Teleports: 13 (Jam: 1, Wrong Lane: 12)\n",
      "Statistics (avg of 2146):\n",
      " RouteLength: 4336.21\n",
      " Speed: 11.03\n",
      " Duration: 509.61\n",
      " WaitingTime: 107.45\n",
      " TimeLoss: 195.17\n",
      " DepartDelay: 0.49\n",
      "\n",
      "DijkstraRouter answered 2926 queries and explored 9.89 edges on average.\n",
      "DijkstraRouter spent 0.02s answering queries (0.01ms on average).\n",
      "####### 104 ########\n",
      "##### n=128 #####\n",
      "##### best_value=-0.001436093396988365 #####\n",
      "printing /Users/rodrse/Documents/DemandCalibration/notebooks/od_calibration_sumo_files/quickstart/data/iter_quickstart.current_od.xml\n",
      "### Runing: iter\n",
      "od2trips --no-step-log  --spread.uniform --taz-files /Users/rodrse/Documents/DemandCalibration/notebooks/od_calibration_sumo_files/quickstart/data/quickstart.taz.xml --tazrelation-files /Users/rodrse/Documents/DemandCalibration/notebooks/od_calibration_sumo_files/quickstart/data/iter_quickstart.current_od.xml -o /Users/rodrse/Documents/DemandCalibration/notebooks/od_calibration_sumo_files/quickstart/data/iter_od_trips.trips.xml \n",
      "Success.\n",
      "Loading net-file from '/Users/rodrse/Documents/DemandCalibration/notebooks/od_calibration_sumo_files/quickstart/data/quickstart.net.xml' ... done (6ms).\n",
      "Loading additional-files from '/Users/rodrse/Documents/DemandCalibration/notebooks/od_calibration_sumo_files/quickstart/data/quickstart.additional.xml' ... done (1ms).\n",
      "Loading done.\n",
      "Simulation version 1.16.0 started with time: 54000.00.\n"
     ]
    },
    {
     "name": "stderr",
     "output_type": "stream",
     "text": [
      "Warning: Teleporting vehicle '588'; waited too long (wrong lane), lane='L12_2', time=56627.00.\n",
      "Warning: Vehicle '588' ends teleporting on edge 'L15', time=56627.00.\n"
     ]
    },
    {
     "name": "stdout",
     "output_type": "stream",
     "text": [
      "Step #56600.00 (8ms ~= 125.00*RT, ~102125.00UPS, vehicles TOT 2389 ACT 817 BUF 66)        \r"
     ]
    },
    {
     "name": "stderr",
     "output_type": "stream",
     "text": [
      "Warning: Teleporting vehicle '460'; waited too long (jam), lane=':1_3_1', time=56774.00.\n",
      "Warning: Vehicle '460' ends teleporting on edge 'L12', time=56774.00.\n"
     ]
    },
    {
     "name": "stdout",
     "output_type": "stream",
     "text": [
      "Step #56700.00 (9ms ~= 111.11*RT, ~93444.44UPS, vehicles TOT 2467 ACT 841 BUF 84)         \r"
     ]
    },
    {
     "name": "stderr",
     "output_type": "stream",
     "text": [
      "Warning: Teleporting vehicle '596'; waited too long (wrong lane), lane='L12_2', time=56799.00.\n",
      "Warning: Vehicle '596' ends teleporting on edge 'L15', time=56799.00.\n"
     ]
    },
    {
     "name": "stdout",
     "output_type": "stream",
     "text": [
      "Step #56800.00 (14ms ~= 71.43*RT, ~61714.29UPS, vehicles TOT 2543 ACT 864 BUF 101)        \r"
     ]
    },
    {
     "name": "stderr",
     "output_type": "stream",
     "text": [
      "Warning: Teleporting vehicle '598'; waited too long (wrong lane), lane='L12_2', time=56855.00.\n",
      "Warning: Vehicle '598' ends teleporting on edge 'L15', time=56855.00.\n",
      "Warning: Teleporting vehicle '599'; waited too long (wrong lane), lane='L12_2', time=56886.00.\n",
      "Warning: Vehicle '599' ends teleporting on edge 'L15', time=56888.00.\n"
     ]
    },
    {
     "name": "stdout",
     "output_type": "stream",
     "text": [
      "Step #56900.00 (10ms ~= 100.00*RT, ~88900.00UPS, vehicles TOT 2620 ACT 889 BUF 119)       \r"
     ]
    },
    {
     "name": "stderr",
     "output_type": "stream",
     "text": [
      "Warning: Teleporting vehicle '602'; waited too long (wrong lane), lane='L12_2', time=56921.00.\n",
      "Warning: Teleporting vehicle '659'; waited too long (jam), lane=':1_3_2', time=56922.00.\n",
      "Warning: Vehicle '659' ends teleporting on edge 'L12', time=56922.00.\n",
      "Warning: Teleporting vehicle '660'; waited too long (jam), lane='L2_1', time=56927.00.\n",
      "Warning: Vehicle '660' ends teleporting on edge 'L12', time=56927.00.\n",
      "Warning: Teleporting vehicle '661'; waited too long (jam), lane='L2_1', time=56929.00.\n",
      "Warning: Vehicle '661' ends teleporting on edge 'L12', time=56929.00.\n",
      "Warning: Vehicle '602' ends teleporting on edge 'L15', time=56940.00.\n",
      "Warning: Teleporting vehicle '603'; waited too long (wrong lane), lane='L12_2', time=56955.00.\n",
      "Warning: Vehicle '603' ends teleporting on edge 'L15', time=56996.00.\n"
     ]
    },
    {
     "name": "stdout",
     "output_type": "stream",
     "text": [
      "Step #57000.00 (10ms ~= 100.00*RT, ~89500.00UPS, vehicles TOT 2695 ACT 895 BUF 139)       \r"
     ]
    },
    {
     "name": "stderr",
     "output_type": "stream",
     "text": [
      "Warning: Teleporting vehicle '607'; waited too long (wrong lane), lane='L12_2', time=57057.00.\n",
      "Warning: Teleporting vehicle '608'; waited too long (wrong lane), lane='L12_2', time=57058.00.\n",
      "Warning: Teleporting vehicle '461'; waited too long (jam), lane=':1_3_1', time=57080.00.\n",
      "Warning: Vehicle '461' ends teleporting on edge 'L12', time=57080.00.\n"
     ]
    },
    {
     "name": "stdout",
     "output_type": "stream",
     "text": [
      "Step #57100.00 (11ms ~= 90.91*RT, ~81545.45UPS, vehicles TOT 2744 ACT 897 BUF 185)        \r"
     ]
    },
    {
     "name": "stderr",
     "output_type": "stream",
     "text": [
      "Warning: Teleporting vehicle '1473'; waited too long (jam), lane='D2_1', time=57105.00.\n",
      "Warning: Vehicle '1473' ends teleporting on edge 'L2', time=57105.00.\n",
      "Warning: Teleporting vehicle '610'; waited too long (wrong lane), lane='L12_2', time=57107.00.\n",
      "Warning: Teleporting vehicle '611'; waited too long (wrong lane), lane='L12_2', time=57108.00.\n",
      "Warning: Teleporting vehicle '700'; waited too long (jam), lane='D2_1', time=57108.00.\n",
      "Warning: Vehicle '700' ends teleporting on edge 'L2', time=57108.00.\n",
      "Warning: Teleporting vehicle '701'; waited too long (jam), lane='D2_1', time=57111.00.\n",
      "Warning: Vehicle '607' ends teleporting on edge 'L15', time=57111.00.\n",
      "Warning: Vehicle '701' ends teleporting on edge 'L2', time=57111.00.\n",
      "Warning: Vehicle '608' ends teleporting on edge 'L15', time=57151.00.\n",
      "Warning: Vehicle '610' ends teleporting on edge 'L15', time=57165.00.\n",
      "Warning: Teleporting vehicle '528'; waited too long (jam), lane='D2_0', time=57167.00.\n",
      "Warning: Teleporting vehicle '614'; waited too long (wrong lane), lane='L12_2', time=57172.00.\n",
      "Warning: Teleporting vehicle '615'; waited too long (wrong lane), lane='L12_2', time=57173.00.\n",
      "Warning: Vehicle '611' ends teleporting on edge 'L15', time=57194.00.\n",
      "Warning: Vehicle '614' ends teleporting on edge 'L15', time=57208.00.\n"
     ]
    },
    {
     "name": "stdout",
     "output_type": "stream",
     "text": [
      "Step #57200.00 (10ms ~= 100.00*RT, ~89300.00UPS, vehicles TOT 2791 ACT 893 BUF 232)       \r"
     ]
    },
    {
     "name": "stderr",
     "output_type": "stream",
     "text": [
      "Warning: Teleporting vehicle '1445'; waited too long (jam), lane=':1_3_2', time=57228.00.\n",
      "Warning: Vehicle '615' ends teleporting on edge 'L15', time=57254.00.\n"
     ]
    },
    {
     "name": "stdout",
     "output_type": "stream",
     "text": [
      "Step #57300.00 (10ms ~= 100.00*RT, ~89000.00UPS, vehicles TOT 2840 ACT 890 BUF 278)       \r"
     ]
    },
    {
     "name": "stderr",
     "output_type": "stream",
     "text": [
      "Warning: Teleporting vehicle '618'; waited too long (wrong lane), lane='L12_2', time=57337.00.\n",
      "Warning: Vehicle '618' ends teleporting on edge 'L15', time=57337.00.\n",
      "Warning: Teleporting vehicle '462'; waited too long (jam), lane=':1_3_1', time=57385.00.\n",
      "Warning: Vehicle '462' ends teleporting on edge 'L12', time=57385.00.\n"
     ]
    },
    {
     "name": "stdout",
     "output_type": "stream",
     "text": [
      "Step #57400.00 (10ms ~= 100.00*RT, ~88200.00UPS, vehicles TOT 2887 ACT 882 BUF 324)       \r"
     ]
    },
    {
     "name": "stderr",
     "output_type": "stream",
     "text": [
      "Warning: Vehicle '1445' ends teleporting on edge 'L12', time=57412.00.\n",
      "Warning: Teleporting vehicle '1474'; waited too long (jam), lane='D2_1', time=57421.00.\n",
      "Warning: Teleporting vehicle '702'; waited too long (jam), lane='D2_1', time=57422.00.\n",
      "Warning: Teleporting vehicle '529'; waited too long (jam), lane='D2_0', time=57473.00.\n"
     ]
    },
    {
     "name": "stdout",
     "output_type": "stream",
     "text": [
      "Step #57500.00 (10ms ~= 100.00*RT, ~87900.00UPS, vehicles TOT 2936 ACT 879 BUF 371)       \r"
     ]
    },
    {
     "name": "stderr",
     "output_type": "stream",
     "text": [
      "Warning: Teleporting vehicle '1446'; waited too long (jam), lane=':1_3_2', time=57533.00.\n",
      "Warning: Vehicle '1446' ends teleporting on edge 'L12', time=57533.00.\n"
     ]
    },
    {
     "name": "stdout",
     "output_type": "stream",
     "text": [
      "Step #57600.00 (10ms ~= 100.00*RT, ~87000.00UPS, vehicles TOT 2983 ACT 870 BUF 417)       \n",
      "Simulation ended at time: 57600.00\n",
      "Reason: The final simulation step has been reached.\n",
      "Performance: \n",
      " Duration: 25.28s\n",
      " Real time factor: 142.422\n",
      " UPS: 90665.783123\n",
      "Vehicles: \n",
      " Inserted: 2983 (Loaded: 3400)\n",
      " Running: 870\n",
      " Waiting: 417\n",
      " Teleports: 28 (Jam: 15, Wrong Lane: 13)\n",
      "Statistics (avg of 2113):\n",
      " RouteLength: 4389.23\n",
      " Speed: 11.99\n",
      " Duration: 438.68\n",
      " WaitingTime: 77.04\n",
      " TimeLoss: 119.32\n",
      " DepartDelay: 0.64\n",
      "\n",
      "DijkstraRouter answered 3582 queries and explored 10.46 edges on average.\n",
      "DijkstraRouter spent 0.02s answering queries (0.01ms on average).\n",
      "####### 105 ########\n",
      "##### n=129 #####\n",
      "##### best_value=-0.001436093396988365 #####\n",
      "printing /Users/rodrse/Documents/DemandCalibration/notebooks/od_calibration_sumo_files/quickstart/data/iter_quickstart.current_od.xml\n",
      "### Runing: iter\n",
      "od2trips --no-step-log  --spread.uniform --taz-files /Users/rodrse/Documents/DemandCalibration/notebooks/od_calibration_sumo_files/quickstart/data/quickstart.taz.xml --tazrelation-files /Users/rodrse/Documents/DemandCalibration/notebooks/od_calibration_sumo_files/quickstart/data/iter_quickstart.current_od.xml -o /Users/rodrse/Documents/DemandCalibration/notebooks/od_calibration_sumo_files/quickstart/data/iter_od_trips.trips.xml \n",
      "Success.\n",
      "Loading net-file from '/Users/rodrse/Documents/DemandCalibration/notebooks/od_calibration_sumo_files/quickstart/data/quickstart.net.xml' ... done (8ms).\n",
      "Loading additional-files from '/Users/rodrse/Documents/DemandCalibration/notebooks/od_calibration_sumo_files/quickstart/data/quickstart.additional.xml' ... done (2ms).\n",
      "Loading done.\n",
      "Simulation version 1.16.0 started with time: 54000.00.\n",
      "Step #56700.00 (7ms ~= 142.86*RT, ~103142.86UPS, vehicles TOT 2090 ACT 722 BUF 0)         \r"
     ]
    },
    {
     "name": "stderr",
     "output_type": "stream",
     "text": [
      "Warning: Teleporting vehicle '444'; waited too long (wrong lane), lane='L15_0', time=56708.00.\n",
      "Warning: Vehicle '444' ends teleporting on edge 'L18', time=56708.00.\n",
      "Warning: Teleporting vehicle '470'; waited too long (wrong lane), lane='L15_0', time=56709.00.\n",
      "Warning: Vehicle '470' ends teleporting on edge 'L18', time=56709.00.\n",
      "Warning: Teleporting vehicle '468'; waited too long (wrong lane), lane='L15_0', time=56715.00.\n",
      "Warning: Vehicle '468' ends teleporting on edge 'L18', time=56715.00.\n",
      "Warning: Teleporting vehicle '483'; waited too long (wrong lane), lane='L15_0', time=56716.00.\n",
      "Warning: Vehicle '483' ends teleporting on edge 'L18', time=56716.00.\n",
      "Warning: Teleporting vehicle '494'; waited too long (wrong lane), lane='L15_0', time=56717.00.\n",
      "Warning: Vehicle '494' ends teleporting on edge 'L18', time=56717.00.\n",
      "Warning: Teleporting vehicle '485'; waited too long (wrong lane), lane='L15_0', time=56718.00.\n",
      "Warning: Vehicle '485' ends teleporting on edge 'L18', time=56718.00.\n",
      "Warning: Teleporting vehicle '438'; waited too long (wrong lane), lane='L15_0', time=56719.00.\n",
      "Warning: Vehicle '438' ends teleporting on edge 'L18', time=56719.00.\n",
      "Warning: Teleporting vehicle '452'; waited too long (wrong lane), lane='L15_0', time=56720.00.\n",
      "Warning: Vehicle '452' ends teleporting on edge 'L18', time=56720.00.\n",
      "Warning: Teleporting vehicle '543'; waited too long (jam), lane='L12_0', time=56741.00.\n",
      "Warning: Vehicle '543' ends teleporting on edge 'L15', time=56741.00.\n",
      "Warning: Teleporting vehicle '561'; waited too long (jam), lane='L2_0', time=56771.00.\n",
      "Warning: Vehicle '561' ends teleporting on edge 'L12', time=56771.00.\n"
     ]
    },
    {
     "name": "stdout",
     "output_type": "stream",
     "text": [
      "Step #56800.00 (9ms ~= 111.11*RT, ~82333.33UPS, vehicles TOT 2167 ACT 741 BUF 0)          \r"
     ]
    },
    {
     "name": "stderr",
     "output_type": "stream",
     "text": [
      "Warning: Teleporting vehicle '472'; waited too long (wrong lane), lane='L15_0', time=56843.00.\n",
      "Warning: Vehicle '472' ends teleporting on edge 'L18', time=56843.00.\n",
      "Warning: Teleporting vehicle '512'; waited too long (wrong lane), lane='L15_0', time=56898.00.\n",
      "Warning: Vehicle '512' ends teleporting on edge 'L18', time=56898.00.\n",
      "Warning: Teleporting vehicle '514'; waited too long (wrong lane), lane='L15_0', time=56899.00.\n",
      "Warning: Vehicle '514' ends teleporting on edge 'L18', time=56899.00.\n"
     ]
    },
    {
     "name": "stdout",
     "output_type": "stream",
     "text": [
      "Step #57200.00 (8ms ~= 125.00*RT, ~98750.00UPS, vehicles TOT 2436 ACT 790 BUF 41)         \r"
     ]
    },
    {
     "name": "stderr",
     "output_type": "stream",
     "text": [
      "Warning: Teleporting vehicle '711'; waited too long (wrong lane), lane='L12_2', time=57266.00.\n",
      "Warning: Vehicle '711' ends teleporting on edge 'L15', time=57266.00.\n"
     ]
    },
    {
     "name": "stdout",
     "output_type": "stream",
     "text": [
      "Step #57500.00 (8ms ~= 125.00*RT, ~98750.00UPS, vehicles TOT 2575 ACT 790 BUF 134)        \r"
     ]
    },
    {
     "name": "stderr",
     "output_type": "stream",
     "text": [
      "Warning: Teleporting vehicle '421'; waited too long (jam), lane='L12_0', time=57533.00.\n",
      "Warning: Vehicle '421' ends teleporting on edge 'L15', time=57550.00.\n",
      "Warning: Teleporting vehicle '459'; waited too long (jam), lane='L12_0', time=57559.00.\n",
      "Warning: Vehicle '459' ends teleporting on edge 'L15', time=57559.00.\n",
      "Warning: Teleporting vehicle '790'; waited too long (jam), lane='L2_1', time=57584.00.\n",
      "Warning: Vehicle '790' ends teleporting on edge 'L12', time=57584.00.\n"
     ]
    },
    {
     "name": "stdout",
     "output_type": "stream",
     "text": [
      "Step #57600.00 (8ms ~= 125.00*RT, ~93500.00UPS, vehicles TOT 2606 ACT 748 BUF 180)        \n",
      "Simulation ended at time: 57600.00\n",
      "Reason: The final simulation step has been reached.\n",
      "Performance: \n",
      " Duration: 19.62s\n",
      " Real time factor: 183.505\n",
      " UPS: 97503.823020\n",
      "Vehicles: \n",
      " Inserted: 2606 (Loaded: 2786)\n",
      " Running: 748\n",
      " Waiting: 180\n",
      " Teleports: 17 (Jam: 5, Wrong Lane: 12)\n",
      "Statistics (avg of 1858):\n",
      " RouteLength: 4412.41\n",
      " Speed: 11.75\n",
      " Duration: 471.72\n",
      " WaitingTime: 97.81\n",
      " TimeLoss: 151.31\n",
      " DepartDelay: 0.75\n",
      "\n",
      "DijkstraRouter answered 2851 queries and explored 10.53 edges on average.\n",
      "DijkstraRouter spent 0.02s answering queries (0.01ms on average).\n",
      "####### 106 ########\n",
      "##### n=130 #####\n",
      "##### best_value=-0.001436093396988365 #####\n",
      "printing /Users/rodrse/Documents/DemandCalibration/notebooks/od_calibration_sumo_files/quickstart/data/iter_quickstart.current_od.xml\n",
      "### Runing: iter\n",
      "od2trips --no-step-log  --spread.uniform --taz-files /Users/rodrse/Documents/DemandCalibration/notebooks/od_calibration_sumo_files/quickstart/data/quickstart.taz.xml --tazrelation-files /Users/rodrse/Documents/DemandCalibration/notebooks/od_calibration_sumo_files/quickstart/data/iter_quickstart.current_od.xml -o /Users/rodrse/Documents/DemandCalibration/notebooks/od_calibration_sumo_files/quickstart/data/iter_od_trips.trips.xml \n",
      "Success.\n",
      "Loading net-file from '/Users/rodrse/Documents/DemandCalibration/notebooks/od_calibration_sumo_files/quickstart/data/quickstart.net.xml' ... done (6ms).\n",
      "Loading additional-files from '/Users/rodrse/Documents/DemandCalibration/notebooks/od_calibration_sumo_files/quickstart/data/quickstart.additional.xml' ... done (1ms).\n",
      "Loading done.\n",
      "Simulation version 1.16.0 started with time: 54000.00.\n",
      "Step #57600.00 (7ms ~= 142.86*RT, ~106857.14UPS, vehicles TOT 2845 ACT 748 BUF 187)       \n",
      "Simulation ended at time: 57600.00\n",
      "Reason: The final simulation step has been reached.\n",
      "Performance: \n",
      " Duration: 19.78s\n",
      " Real time factor: 182.011\n",
      " UPS: 97683.098236\n",
      "Vehicles: \n",
      " Inserted: 2845 (Loaded: 3032)\n",
      " Running: 748\n",
      " Waiting: 187\n",
      "Statistics (avg of 2097):\n",
      " RouteLength: 4295.24\n",
      " Speed: 11.71\n",
      " Duration: 464.28\n",
      " WaitingTime: 94.74\n",
      " TimeLoss: 153.04\n",
      " DepartDelay: 0.95\n",
      "\n",
      "DijkstraRouter answered 3174 queries and explored 9.85 edges on average.\n",
      "DijkstraRouter spent 0.02s answering queries (0.01ms on average).\n",
      "####### 107 ########\n",
      "##### n=131 #####\n",
      "##### best_value=-0.001436093396988365 #####\n",
      "printing /Users/rodrse/Documents/DemandCalibration/notebooks/od_calibration_sumo_files/quickstart/data/iter_quickstart.current_od.xml\n",
      "### Runing: iter\n",
      "od2trips --no-step-log  --spread.uniform --taz-files /Users/rodrse/Documents/DemandCalibration/notebooks/od_calibration_sumo_files/quickstart/data/quickstart.taz.xml --tazrelation-files /Users/rodrse/Documents/DemandCalibration/notebooks/od_calibration_sumo_files/quickstart/data/iter_quickstart.current_od.xml -o /Users/rodrse/Documents/DemandCalibration/notebooks/od_calibration_sumo_files/quickstart/data/iter_od_trips.trips.xml \n",
      "Success.\n",
      "Loading net-file from '/Users/rodrse/Documents/DemandCalibration/notebooks/od_calibration_sumo_files/quickstart/data/quickstart.net.xml' ... done (6ms).\n",
      "Loading additional-files from '/Users/rodrse/Documents/DemandCalibration/notebooks/od_calibration_sumo_files/quickstart/data/quickstart.additional.xml' ... done (1ms).\n",
      "Loading done.\n",
      "Simulation version 1.16.0 started with time: 54000.00.\n",
      "Step #57000.00 (10ms ~= 100.00*RT, ~86300.00UPS, vehicles TOT 2509 ACT 863 BUF 0)         \r"
     ]
    },
    {
     "name": "stderr",
     "output_type": "stream",
     "text": [
      "Warning: Teleporting vehicle '466'; waited too long (wrong lane), lane='L15_0', time=57073.00.\n",
      "Warning: Vehicle '466' ends teleporting on edge 'L18', time=57073.00.\n"
     ]
    },
    {
     "name": "stdout",
     "output_type": "stream",
     "text": [
      "Step #57100.00 (10ms ~= 100.00*RT, ~87400.00UPS, vehicles TOT 2591 ACT 874 BUF 0)         \r"
     ]
    },
    {
     "name": "stderr",
     "output_type": "stream",
     "text": [
      "Warning: Teleporting vehicle '528'; waited too long (jam), lane='L12_0', time=57193.00.\n",
      "Warning: Vehicle '528' ends teleporting on edge 'L15', time=57193.00.\n"
     ]
    },
    {
     "name": "stdout",
     "output_type": "stream",
     "text": [
      "Step #57300.00 (9ms ~= 111.11*RT, ~98555.56UPS, vehicles TOT 2752 ACT 887 BUF 7)          \r"
     ]
    },
    {
     "name": "stderr",
     "output_type": "stream",
     "text": [
      "Warning: Teleporting vehicle '479'; waited too long (wrong lane), lane='L15_0', time=57341.00.\n",
      "Warning: Vehicle '479' ends teleporting on edge 'L18', time=57341.00.\n",
      "Warning: Teleporting vehicle '462'; waited too long (wrong lane), lane='L15_0', time=57342.00.\n",
      "Warning: Vehicle '462' ends teleporting on edge 'L18', time=57342.00.\n"
     ]
    },
    {
     "name": "stdout",
     "output_type": "stream",
     "text": [
      "Step #57400.00 (9ms ~= 111.11*RT, ~97555.56UPS, vehicles TOT 2817 ACT 878 BUF 25)         \r"
     ]
    },
    {
     "name": "stderr",
     "output_type": "stream",
     "text": [
      "Warning: Teleporting vehicle '553'; waited too long (jam), lane='L2_0', time=57473.00.\n",
      "Warning: Vehicle '553' ends teleporting on edge 'L12', time=57473.00.\n",
      "Warning: Teleporting vehicle '514'; waited too long (jam), lane='L12_0', time=57497.00.\n",
      "Warning: Vehicle '514' ends teleporting on edge 'L15', time=57497.00.\n",
      "Warning: Teleporting vehicle '620'; waited too long (jam), lane='D2_0', time=57505.00.\n",
      "Warning: Vehicle '620' ends teleporting on edge 'L2', time=57505.00.\n"
     ]
    },
    {
     "name": "stdout",
     "output_type": "stream",
     "text": [
      "Step #57600.00 (8ms ~= 125.00*RT, ~99000.00UPS, vehicles TOT 2945 ACT 792 BUF 64)         \n",
      "Simulation ended at time: 57600.00\n",
      "Reason: The final simulation step has been reached.\n",
      "Performance: \n",
      " Duration: 23.00s\n",
      " Real time factor: 156.515\n",
      " UPS: 95006.086692\n",
      "Vehicles: \n",
      " Inserted: 2945 (Loaded: 3009)\n",
      " Running: 792\n",
      " Waiting: 64\n",
      " Teleports: 7 (Jam: 4, Wrong Lane: 3)\n",
      "Statistics (avg of 2153):\n",
      " RouteLength: 4378.88\n",
      " Speed: 10.31\n",
      " Duration: 592.77\n",
      " WaitingTime: 128.87\n",
      " TimeLoss: 275.57\n",
      " DepartDelay: 0.50\n",
      "\n",
      "DijkstraRouter answered 3060 queries and explored 10.07 edges on average.\n",
      "DijkstraRouter spent 0.03s answering queries (0.01ms on average).\n",
      "####### 108 ########\n",
      "##### n=132 #####\n",
      "##### best_value=-0.001436093396988365 #####\n",
      "printing /Users/rodrse/Documents/DemandCalibration/notebooks/od_calibration_sumo_files/quickstart/data/iter_quickstart.current_od.xml\n",
      "### Runing: iter\n",
      "od2trips --no-step-log  --spread.uniform --taz-files /Users/rodrse/Documents/DemandCalibration/notebooks/od_calibration_sumo_files/quickstart/data/quickstart.taz.xml --tazrelation-files /Users/rodrse/Documents/DemandCalibration/notebooks/od_calibration_sumo_files/quickstart/data/iter_quickstart.current_od.xml -o /Users/rodrse/Documents/DemandCalibration/notebooks/od_calibration_sumo_files/quickstart/data/iter_od_trips.trips.xml \n",
      "Success.\n",
      "Loading net-file from '/Users/rodrse/Documents/DemandCalibration/notebooks/od_calibration_sumo_files/quickstart/data/quickstart.net.xml' ... done (5ms).\n",
      "Loading additional-files from '/Users/rodrse/Documents/DemandCalibration/notebooks/od_calibration_sumo_files/quickstart/data/quickstart.additional.xml' ... done (1ms).\n",
      "Loading done.\n",
      "Simulation version 1.16.0 started with time: 54000.00.\n",
      "Step #57100.00 (8ms ~= 125.00*RT, ~102375.00UPS, vehicles TOT 2562 ACT 819 BUF 0)         \r"
     ]
    },
    {
     "name": "stderr",
     "output_type": "stream",
     "text": [
      "Warning: Teleporting vehicle '622'; waited too long (wrong lane), lane='L12_2', time=57180.00.\n",
      "Warning: Vehicle '622' ends teleporting on edge 'L15', time=57180.00.\n",
      "Warning: Teleporting vehicle '623'; waited too long (wrong lane), lane='L12_2', time=57181.00.\n",
      "Warning: Teleporting vehicle '625'; waited too long (wrong lane), lane='L12_2', time=57206.00.\n"
     ]
    },
    {
     "name": "stdout",
     "output_type": "stream",
     "text": [
      "Step #57200.00 (8ms ~= 125.00*RT, ~105500.00UPS, vehicles TOT 2644 ACT 844 BUF 0)         \r"
     ]
    },
    {
     "name": "stderr",
     "output_type": "stream",
     "text": [
      "Warning: Teleporting vehicle '626'; waited too long (wrong lane), lane='L12_2', time=57233.00.\n",
      "Warning: Vehicle '623' ends teleporting on edge 'L15', time=57241.00.\n",
      "Warning: Teleporting vehicle '628'; waited too long (wrong lane), lane='L12_2', time=57261.00.\n"
     ]
    },
    {
     "name": "stdout",
     "output_type": "stream",
     "text": [
      "Step #57300.00 (9ms ~= 111.11*RT, ~97333.33UPS, vehicles TOT 2727 ACT 876 BUF 0)          \r"
     ]
    },
    {
     "name": "stderr",
     "output_type": "stream",
     "text": [
      "Warning: Vehicle '625' ends teleporting on edge 'L15', time=57307.00.\n",
      "Warning: Teleporting vehicle '631'; waited too long (wrong lane), lane='L12_2', time=57362.00.\n",
      "Warning: Teleporting vehicle '632'; waited too long (wrong lane), lane='L12_2', time=57363.00.\n",
      "Warning: Vehicle '626' ends teleporting on edge 'L15', time=57365.00.\n"
     ]
    },
    {
     "name": "stdout",
     "output_type": "stream",
     "text": [
      "Step #57400.00 (10ms ~= 100.00*RT, ~90100.00UPS, vehicles TOT 2809 ACT 901 BUF 0)         \r"
     ]
    },
    {
     "name": "stderr",
     "output_type": "stream",
     "text": [
      "Warning: Teleporting vehicle '696'; waited too long (jam), lane='L2_1', time=57400.00.\n",
      "Warning: Vehicle '696' ends teleporting on edge 'L12', time=57400.00.\n",
      "Warning: Teleporting vehicle '634'; waited too long (wrong lane), lane='L12_2', time=57402.00.\n",
      "Warning: Teleporting vehicle '493'; waited too long (jam), lane='L2_0', time=57423.00.\n",
      "Warning: Vehicle '493' ends teleporting on edge 'L12', time=57423.00.\n",
      "Warning: Vehicle '628' ends teleporting on edge 'L15', time=57434.00.\n",
      "Warning: Teleporting vehicle '638'; waited too long (wrong lane), lane='L12_2', time=57464.00.\n",
      "Warning: Vehicle '631' ends teleporting on edge 'L15', time=57480.00.\n",
      "Warning: Teleporting vehicle '559'; waited too long (jam), lane='D2_0', time=57514.00.\n",
      "Warning: Vehicle '632' ends teleporting on edge 'L15', time=57529.00.\n"
     ]
    },
    {
     "name": "stdout",
     "output_type": "stream",
     "text": [
      "Step #57500.00 (8ms ~= 125.00*RT, ~112625.00UPS, vehicles TOT 2857 ACT 901 BUF 36)        \r"
     ]
    },
    {
     "name": "stderr",
     "output_type": "stream",
     "text": [
      "Warning: Teleporting vehicle '640'; waited too long (wrong lane), lane='L12_2', time=57540.00.\n",
      "Warning: Teleporting vehicle '741'; waited too long (jam), lane='D2_1', time=57554.00.\n",
      "Warning: Vehicle '634' ends teleporting on edge 'L15', time=57583.00.\n",
      "Warning: Teleporting vehicle '642'; waited too long (wrong lane), lane='L12_2', time=57587.00.\n"
     ]
    },
    {
     "name": "stdout",
     "output_type": "stream",
     "text": [
      "Step #57600.00 (8ms ~= 125.00*RT, ~110625.00UPS, vehicles TOT 2904 ACT 885 BUF 71)        \n",
      "Simulation ended at time: 57600.00\n",
      "Reason: The final simulation step has been reached.\n",
      "Performance: \n",
      " Duration: 19.17s\n",
      " Real time factor: 187.784\n",
      " UPS: 103123.363413\n",
      "Vehicles: \n",
      " Inserted: 2904 (Loaded: 2975)\n",
      " Running: 885\n",
      " Waiting: 71\n",
      " Teleports: 15 (Jam: 4, Wrong Lane: 11)\n",
      "Statistics (avg of 2019):\n",
      " RouteLength: 4399.68\n",
      " Speed: 12.49\n",
      " Duration: 425.90\n",
      " WaitingTime: 72.40\n",
      " TimeLoss: 106.92\n",
      " DepartDelay: 0.49\n",
      "\n",
      "DijkstraRouter answered 2976 queries and explored 10.76 edges on average.\n",
      "DijkstraRouter spent 0.02s answering queries (0.01ms on average).\n",
      "####### 109 ########\n",
      "##### n=133 #####\n",
      "##### best_value=-0.001436093396988365 #####\n",
      "printing /Users/rodrse/Documents/DemandCalibration/notebooks/od_calibration_sumo_files/quickstart/data/iter_quickstart.current_od.xml\n",
      "### Runing: iter\n",
      "od2trips --no-step-log  --spread.uniform --taz-files /Users/rodrse/Documents/DemandCalibration/notebooks/od_calibration_sumo_files/quickstart/data/quickstart.taz.xml --tazrelation-files /Users/rodrse/Documents/DemandCalibration/notebooks/od_calibration_sumo_files/quickstart/data/iter_quickstart.current_od.xml -o /Users/rodrse/Documents/DemandCalibration/notebooks/od_calibration_sumo_files/quickstart/data/iter_od_trips.trips.xml \n",
      "Success.\n",
      "Loading net-file from '/Users/rodrse/Documents/DemandCalibration/notebooks/od_calibration_sumo_files/quickstart/data/quickstart.net.xml' ... done (7ms).\n",
      "Loading additional-files from '/Users/rodrse/Documents/DemandCalibration/notebooks/od_calibration_sumo_files/quickstart/data/quickstart.additional.xml' ... done (1ms).\n",
      "Loading done.\n",
      "Simulation version 1.16.0 started with time: 54000.00.\n",
      "Step #56700.00 (8ms ~= 125.00*RT, ~97000.00UPS, vehicles TOT 2584 ACT 776 BUF 150)        \r"
     ]
    },
    {
     "name": "stderr",
     "output_type": "stream",
     "text": [
      "Warning: Teleporting vehicle '599'; waited too long (wrong lane), lane='L12_2', time=56693.00.\n",
      "Warning: Vehicle '599' ends teleporting on edge 'L15', time=56693.00.\n",
      "Warning: Teleporting vehicle '600'; waited too long (wrong lane), lane='L12_2', time=56715.00.\n",
      "Warning: Teleporting vehicle '602'; waited too long (wrong lane), lane='L12_2', time=56743.00.\n",
      "Warning: Vehicle '600' ends teleporting on edge 'L15', time=56769.00.\n",
      "Warning: Teleporting vehicle '606'; waited too long (wrong lane), lane='L12_2', time=56793.00.\n",
      "Warning: Vehicle '602' ends teleporting on edge 'L15', time=56809.00.\n"
     ]
    },
    {
     "name": "stdout",
     "output_type": "stream",
     "text": [
      "Step #56800.00 (9ms ~= 111.11*RT, ~89111.11UPS, vehicles TOT 2663 ACT 802 BUF 172)        \r"
     ]
    },
    {
     "name": "stderr",
     "output_type": "stream",
     "text": [
      "Warning: Vehicle '606' ends teleporting on edge 'L15', time=56881.00.\n"
     ]
    },
    {
     "name": "stdout",
     "output_type": "stream",
     "text": [
      "Step #56900.00 (8ms ~= 125.00*RT, ~102250.00UPS, vehicles TOT 2737 ACT 818 BUF 199)       \r"
     ]
    },
    {
     "name": "stderr",
     "output_type": "stream",
     "text": [
      "Warning: Teleporting vehicle '615'; waited too long (wrong lane), lane='L12_2', time=56912.00.\n",
      "Warning: Vehicle '615' ends teleporting on edge 'L15', time=56931.00.\n",
      "Warning: Teleporting vehicle '619'; waited too long (wrong lane), lane='L12_2', time=56973.00.\n",
      "Warning: Vehicle '619' ends teleporting on edge 'L15', time=56977.00.\n"
     ]
    },
    {
     "name": "stdout",
     "output_type": "stream",
     "text": [
      "Step #57000.00 (9ms ~= 111.11*RT, ~93666.67UPS, vehicles TOT 2815 ACT 843 BUF 222)        \r"
     ]
    },
    {
     "name": "stderr",
     "output_type": "stream",
     "text": [
      "Warning: Teleporting vehicle '622'; waited too long (wrong lane), lane='L12_2', time=57049.00.\n",
      "Warning: Vehicle '622' ends teleporting on edge 'L15', time=57049.00.\n"
     ]
    },
    {
     "name": "stdout",
     "output_type": "stream",
     "text": [
      "Step #57100.00 (9ms ~= 111.11*RT, ~94222.22UPS, vehicles TOT 2890 ACT 848 BUF 248)        \r"
     ]
    },
    {
     "name": "stderr",
     "output_type": "stream",
     "text": [
      "Warning: Teleporting vehicle '625'; waited too long (wrong lane), lane='L12_2', time=57115.00.\n",
      "Warning: Vehicle '625' ends teleporting on edge 'L15', time=57115.00.\n",
      "Warning: Teleporting vehicle '473'; waited too long (jam), lane='L2_0', time=57121.00.\n",
      "Warning: Vehicle '473' ends teleporting on edge 'L12', time=57121.00.\n",
      "Warning: Teleporting vehicle '1601'; waited too long (jam), lane='L2_1', time=57152.00.\n",
      "Warning: Teleporting vehicle '663'; waited too long (jam), lane='L2_1', time=57154.00.\n",
      "Warning: Vehicle '663' ends teleporting on edge 'L12', time=57154.00.\n"
     ]
    },
    {
     "name": "stdout",
     "output_type": "stream",
     "text": [
      "Step #57200.00 (10ms ~= 100.00*RT, ~87400.00UPS, vehicles TOT 2965 ACT 874 BUF 275)       \r"
     ]
    },
    {
     "name": "stderr",
     "output_type": "stream",
     "text": [
      "Warning: Vehicle '1601' ends teleporting on edge 'L12', time=57205.00.\n",
      "Warning: Teleporting vehicle '638'; waited too long (wrong lane), lane='L12_2', time=57259.00.\n",
      "Warning: Vehicle '638' ends teleporting on edge 'L15', time=57259.00.\n"
     ]
    },
    {
     "name": "stdout",
     "output_type": "stream",
     "text": [
      "Step #57300.00 (9ms ~= 111.11*RT, ~96555.56UPS, vehicles TOT 3027 ACT 869 BUF 313)        \r"
     ]
    },
    {
     "name": "stderr",
     "output_type": "stream",
     "text": [
      "Warning: Teleporting vehicle '639'; waited too long (wrong lane), lane='L12_2', time=57312.00.\n",
      "Warning: Vehicle '639' ends teleporting on edge 'L15', time=57315.00.\n",
      "Warning: Teleporting vehicle '1633'; waited too long (jam), lane='D2_1', time=57348.00.\n",
      "Warning: Vehicle '1633' ends teleporting on edge 'L2', time=57348.00.\n",
      "Warning: Teleporting vehicle '697'; waited too long (jam), lane='D2_1', time=57350.00.\n"
     ]
    },
    {
     "name": "stdout",
     "output_type": "stream",
     "text": [
      "Step #57400.00 (9ms ~= 111.11*RT, ~94777.78UPS, vehicles TOT 3076 ACT 853 BUF 366)        \r"
     ]
    },
    {
     "name": "stderr",
     "output_type": "stream",
     "text": [
      "Warning: Teleporting vehicle '474'; waited too long (jam), lane='L2_0', time=57426.00.\n",
      "Warning: Vehicle '474' ends teleporting on edge 'L12', time=57426.00.\n",
      "Warning: Teleporting vehicle '1602'; waited too long (jam), lane='L2_1', time=57463.00.\n"
     ]
    },
    {
     "name": "stdout",
     "output_type": "stream",
     "text": [
      "Step #57500.00 (9ms ~= 111.11*RT, ~94777.78UPS, vehicles TOT 3124 ACT 853 BUF 418)        \r"
     ]
    },
    {
     "name": "stderr",
     "output_type": "stream",
     "text": [
      "Warning: Teleporting vehicle '540'; waited too long (jam), lane='D2_0', time=57513.00.\n"
     ]
    },
    {
     "name": "stdout",
     "output_type": "stream",
     "text": [
      "Step #57600.00 (10ms ~= 100.00*RT, ~85100.00UPS, vehicles TOT 3173 ACT 851 BUF 471)       \n",
      "Simulation ended at time: 57600.00\n",
      "Reason: The final simulation step has been reached.\n",
      "Performance: \n",
      " Duration: 25.54s\n",
      " Real time factor: 140.961\n",
      " UPS: 93591.800775\n",
      "Vehicles: \n",
      " Inserted: 3173 (Loaded: 3644)\n",
      " Running: 851\n",
      " Waiting: 471\n",
      " Teleports: 18 (Jam: 8, Wrong Lane: 10)\n",
      "Statistics (avg of 2322):\n",
      " RouteLength: 4339.70\n",
      " Speed: 11.27\n",
      " Duration: 495.39\n",
      " WaitingTime: 102.11\n",
      " TimeLoss: 180.77\n",
      " DepartDelay: 3.55\n",
      "\n",
      "DijkstraRouter answered 3882 queries and explored 10.04 edges on average.\n",
      "DijkstraRouter spent 0.02s answering queries (0.00ms on average).\n",
      "####### 110 ########\n",
      "##### n=134 #####\n",
      "##### best_value=-0.001436093396988365 #####\n",
      "printing /Users/rodrse/Documents/DemandCalibration/notebooks/od_calibration_sumo_files/quickstart/data/iter_quickstart.current_od.xml\n",
      "### Runing: iter\n",
      "od2trips --no-step-log  --spread.uniform --taz-files /Users/rodrse/Documents/DemandCalibration/notebooks/od_calibration_sumo_files/quickstart/data/quickstart.taz.xml --tazrelation-files /Users/rodrse/Documents/DemandCalibration/notebooks/od_calibration_sumo_files/quickstart/data/iter_quickstart.current_od.xml -o /Users/rodrse/Documents/DemandCalibration/notebooks/od_calibration_sumo_files/quickstart/data/iter_od_trips.trips.xml \n",
      "Success.\n",
      "Loading net-file from '/Users/rodrse/Documents/DemandCalibration/notebooks/od_calibration_sumo_files/quickstart/data/quickstart.net.xml' ... done (5ms).\n",
      "Loading additional-files from '/Users/rodrse/Documents/DemandCalibration/notebooks/od_calibration_sumo_files/quickstart/data/quickstart.additional.xml' ... done (1ms).\n",
      "Loading done.\n",
      "Simulation version 1.16.0 started with time: 54000.00.\n",
      "Step #57600.00 (6ms ~= 166.67*RT, ~89500.00UPS, vehicles TOT 2534 ACT 537 BUF 0)          \n",
      "Simulation ended at time: 57600.00\n",
      "Reason: The final simulation step has been reached.\n",
      "Performance: \n",
      " Duration: 11.76s\n",
      " Real time factor: 306.018\n",
      " UPS: 109775.671540\n",
      "Vehicles: \n",
      " Inserted: 2534\n",
      " Running: 537\n",
      " Waiting: 0\n",
      "Statistics (avg of 1997):\n",
      " RouteLength: 4255.23\n",
      " Speed: 12.08\n",
      " Duration: 430.89\n",
      " WaitingTime: 79.11\n",
      " TimeLoss: 121.68\n",
      " DepartDelay: 0.49\n",
      "\n",
      "DijkstraRouter answered 2534 queries and explored 9.29 edges on average.\n",
      "DijkstraRouter spent 0.01s answering queries (0.01ms on average).\n",
      "####### 111 ########\n",
      "##### n=135 #####\n",
      "##### best_value=-0.001436093396988365 #####\n",
      "printing /Users/rodrse/Documents/DemandCalibration/notebooks/od_calibration_sumo_files/quickstart/data/iter_quickstart.current_od.xml\n",
      "### Runing: iter\n",
      "od2trips --no-step-log  --spread.uniform --taz-files /Users/rodrse/Documents/DemandCalibration/notebooks/od_calibration_sumo_files/quickstart/data/quickstart.taz.xml --tazrelation-files /Users/rodrse/Documents/DemandCalibration/notebooks/od_calibration_sumo_files/quickstart/data/iter_quickstart.current_od.xml -o /Users/rodrse/Documents/DemandCalibration/notebooks/od_calibration_sumo_files/quickstart/data/iter_od_trips.trips.xml \n",
      "Success.\n",
      "Loading net-file from '/Users/rodrse/Documents/DemandCalibration/notebooks/od_calibration_sumo_files/quickstart/data/quickstart.net.xml' ... done (6ms).\n",
      "Loading additional-files from '/Users/rodrse/Documents/DemandCalibration/notebooks/od_calibration_sumo_files/quickstart/data/quickstart.additional.xml' ... done (1ms).\n",
      "Loading done.\n",
      "Simulation version 1.16.0 started with time: 54000.00.\n",
      "Step #57600.00 (10ms ~= 100.00*RT, ~81700.00UPS, vehicles TOT 2575 ACT 817 BUF 0)         \n",
      "Simulation ended at time: 57600.00\n",
      "Reason: The final simulation step has been reached.\n",
      "Performance: \n",
      " Duration: 19.31s\n",
      " Real time factor: 186.403\n",
      " UPS: 94321.337959\n",
      "Vehicles: \n",
      " Inserted: 2575\n",
      " Running: 817\n",
      " Waiting: 0\n",
      "Statistics (avg of 1758):\n",
      " RouteLength: 4423.39\n",
      " Speed: 10.11\n",
      " Duration: 629.93\n",
      " WaitingTime: 159.86\n",
      " TimeLoss: 308.98\n",
      " DepartDelay: 0.49\n",
      "\n",
      "DijkstraRouter answered 2575 queries and explored 10.41 edges on average.\n",
      "DijkstraRouter spent 0.01s answering queries (0.01ms on average).\n",
      "####### 112 ########\n",
      "##### n=136 #####\n",
      "##### best_value=-0.001436093396988365 #####\n",
      "printing /Users/rodrse/Documents/DemandCalibration/notebooks/od_calibration_sumo_files/quickstart/data/iter_quickstart.current_od.xml\n",
      "### Runing: iter\n",
      "od2trips --no-step-log  --spread.uniform --taz-files /Users/rodrse/Documents/DemandCalibration/notebooks/od_calibration_sumo_files/quickstart/data/quickstart.taz.xml --tazrelation-files /Users/rodrse/Documents/DemandCalibration/notebooks/od_calibration_sumo_files/quickstart/data/iter_quickstart.current_od.xml -o /Users/rodrse/Documents/DemandCalibration/notebooks/od_calibration_sumo_files/quickstart/data/iter_od_trips.trips.xml \n",
      "Success.\n",
      "Loading net-file from '/Users/rodrse/Documents/DemandCalibration/notebooks/od_calibration_sumo_files/quickstart/data/quickstart.net.xml' ... done (6ms).\n",
      "Loading additional-files from '/Users/rodrse/Documents/DemandCalibration/notebooks/od_calibration_sumo_files/quickstart/data/quickstart.additional.xml' ... done (1ms).\n",
      "Loading done.\n",
      "Simulation version 1.16.0 started with time: 54000.00.\n",
      "Step #57600.00 (6ms ~= 166.67*RT, ~124000.00UPS, vehicles TOT 2969 ACT 744 BUF 0)         \n",
      "Simulation ended at time: 57600.00\n",
      "Reason: The final simulation step has been reached.\n",
      "Performance: \n",
      " Duration: 18.58s\n",
      " Real time factor: 193.715\n",
      " UPS: 99281.586311\n",
      "Vehicles: \n",
      " Inserted: 2969\n",
      " Running: 744\n",
      " Waiting: 0\n",
      "Statistics (avg of 2225):\n",
      " RouteLength: 4250.87\n",
      " Speed: 11.22\n",
      " Duration: 521.21\n",
      " WaitingTime: 122.53\n",
      " TimeLoss: 213.26\n",
      " DepartDelay: 0.45\n",
      "\n",
      "DijkstraRouter answered 2969 queries and explored 9.40 edges on average.\n",
      "DijkstraRouter spent 0.01s answering queries (0.00ms on average).\n",
      "####### 113 ########\n",
      "##### n=137 #####\n",
      "##### best_value=-0.001436093396988365 #####\n",
      "printing /Users/rodrse/Documents/DemandCalibration/notebooks/od_calibration_sumo_files/quickstart/data/iter_quickstart.current_od.xml\n",
      "### Runing: iter\n",
      "od2trips --no-step-log  --spread.uniform --taz-files /Users/rodrse/Documents/DemandCalibration/notebooks/od_calibration_sumo_files/quickstart/data/quickstart.taz.xml --tazrelation-files /Users/rodrse/Documents/DemandCalibration/notebooks/od_calibration_sumo_files/quickstart/data/iter_quickstart.current_od.xml -o /Users/rodrse/Documents/DemandCalibration/notebooks/od_calibration_sumo_files/quickstart/data/iter_od_trips.trips.xml \n",
      "Success.\n",
      "Loading net-file from '/Users/rodrse/Documents/DemandCalibration/notebooks/od_calibration_sumo_files/quickstart/data/quickstart.net.xml' ... done (6ms).\n",
      "Loading additional-files from '/Users/rodrse/Documents/DemandCalibration/notebooks/od_calibration_sumo_files/quickstart/data/quickstart.additional.xml' ... done (1ms).\n",
      "Loading done.\n",
      "Simulation version 1.16.0 started with time: 54000.00.\n",
      "Step #56900.00 (8ms ~= 125.00*RT, ~76000.00UPS, vehicles TOT 1899 ACT 608 BUF 0)          \r"
     ]
    },
    {
     "name": "stderr",
     "output_type": "stream",
     "text": [
      "Warning: Teleporting vehicle '411'; waited too long (wrong lane), lane='L15_0', time=56979.00.\n",
      "Warning: Vehicle '411' ends teleporting on edge 'L18', time=56979.00.\n"
     ]
    },
    {
     "name": "stdout",
     "output_type": "stream",
     "text": [
      "Step #57000.00 (4ms ~= 250.00*RT, ~156250.00UPS, vehicles TOT 1965 ACT 625 BUF 0)         \r"
     ]
    },
    {
     "name": "stderr",
     "output_type": "stream",
     "text": [
      "Warning: Teleporting vehicle '417'; waited too long (wrong lane), lane='L15_0', time=57079.00.\n",
      "Warning: Vehicle '417' ends teleporting on edge 'L18', time=57079.00.\n",
      "Warning: Teleporting vehicle '428'; waited too long (wrong lane), lane='L15_0', time=57080.00.\n",
      "Warning: Vehicle '428' ends teleporting on edge 'L18', time=57080.00.\n",
      "Warning: Teleporting vehicle '455'; waited too long (wrong lane), lane='L15_0', time=57081.00.\n",
      "Warning: Vehicle '455' ends teleporting on edge 'L18', time=57081.00.\n",
      "Warning: Teleporting vehicle '431'; waited too long (wrong lane), lane='L15_0', time=57082.00.\n",
      "Warning: Vehicle '431' ends teleporting on edge 'L18', time=57082.00.\n",
      "Warning: Teleporting vehicle '459'; waited too long (wrong lane), lane='L15_0', time=57083.00.\n",
      "Warning: Vehicle '459' ends teleporting on edge 'L18', time=57083.00.\n",
      "Warning: Teleporting vehicle '481'; waited too long (wrong lane), lane='L15_0', time=57084.00.\n",
      "Warning: Vehicle '481' ends teleporting on edge 'L18', time=57084.00.\n",
      "Warning: Teleporting vehicle '487'; waited too long (wrong lane), lane='L15_0', time=57085.00.\n",
      "Warning: Vehicle '487' ends teleporting on edge 'L18', time=57085.00.\n"
     ]
    },
    {
     "name": "stdout",
     "output_type": "stream",
     "text": [
      "Step #57200.00 (5ms ~= 200.00*RT, ~131000.00UPS, vehicles TOT 2094 ACT 655 BUF 0)         \r"
     ]
    },
    {
     "name": "stderr",
     "output_type": "stream",
     "text": [
      "Warning: Teleporting vehicle '396'; waited too long (jam), lane='L12_1', time=57219.00.\n",
      "Warning: Vehicle '396' ends teleporting on edge 'L15', time=57219.00.\n",
      "Warning: Teleporting vehicle '498'; waited too long (wrong lane), lane='L15_0', time=57298.00.\n",
      "Warning: Vehicle '498' ends teleporting on edge 'L18', time=57298.00.\n",
      "Warning: Teleporting vehicle '505'; waited too long (wrong lane), lane='L15_0', time=57299.00.\n",
      "Warning: Vehicle '505' ends teleporting on edge 'L18', time=57299.00.\n",
      "Warning: Teleporting vehicle '502'; waited too long (wrong lane), lane='L15_0', time=57300.00.\n",
      "Warning: Vehicle '502' ends teleporting on edge 'L18', time=57300.00.\n",
      "Warning: Teleporting vehicle '503'; waited too long (wrong lane), lane='L15_0', time=57301.00.\n",
      "Warning: Vehicle '503' ends teleporting on edge 'L18', time=57301.00.\n",
      "Warning: Teleporting vehicle '469'; waited too long (wrong lane), lane='L15_0', time=57302.00.\n",
      "Warning: Vehicle '469' ends teleporting on edge 'L18', time=57302.00.\n"
     ]
    },
    {
     "name": "stdout",
     "output_type": "stream",
     "text": [
      "Step #57400.00 (5ms ~= 200.00*RT, ~135600.00UPS, vehicles TOT 2227 ACT 678 BUF 0)         \r"
     ]
    },
    {
     "name": "stderr",
     "output_type": "stream",
     "text": [
      "Warning: Teleporting vehicle '513'; waited too long (wrong lane), lane='L15_0', time=57402.00.\n",
      "Warning: Vehicle '513' ends teleporting on edge 'L18', time=57402.00.\n"
     ]
    },
    {
     "name": "stdout",
     "output_type": "stream",
     "text": [
      "Step #57600.00 (8ms ~= 125.00*RT, ~87375.00UPS, vehicles TOT 2357 ACT 699 BUF 0)          \n",
      "Simulation ended at time: 57600.00\n",
      "Reason: The final simulation step has been reached.\n",
      "Performance: \n",
      " Duration: 15.38s\n",
      " Real time factor: 234.009\n",
      " UPS: 100893.915757\n",
      "Vehicles: \n",
      " Inserted: 2357\n",
      " Running: 699\n",
      " Waiting: 0\n",
      " Teleports: 15 (Jam: 1, Wrong Lane: 14)\n",
      "Statistics (avg of 1658):\n",
      " RouteLength: 4453.69\n",
      " Speed: 12.25\n",
      " Duration: 459.39\n",
      " WaitingTime: 90.43\n",
      " TimeLoss: 136.91\n",
      " DepartDelay: 0.46\n",
      "\n",
      "DijkstraRouter answered 2357 queries and explored 10.87 edges on average.\n",
      "DijkstraRouter spent 0.01s answering queries (0.01ms on average).\n",
      "####### 114 ########\n",
      "##### n=138 #####\n",
      "##### best_value=-0.001436093396988365 #####\n",
      "printing /Users/rodrse/Documents/DemandCalibration/notebooks/od_calibration_sumo_files/quickstart/data/iter_quickstart.current_od.xml\n",
      "### Runing: iter\n",
      "od2trips --no-step-log  --spread.uniform --taz-files /Users/rodrse/Documents/DemandCalibration/notebooks/od_calibration_sumo_files/quickstart/data/quickstart.taz.xml --tazrelation-files /Users/rodrse/Documents/DemandCalibration/notebooks/od_calibration_sumo_files/quickstart/data/iter_quickstart.current_od.xml -o /Users/rodrse/Documents/DemandCalibration/notebooks/od_calibration_sumo_files/quickstart/data/iter_od_trips.trips.xml \n",
      "Success.\n",
      "Loading net-file from '/Users/rodrse/Documents/DemandCalibration/notebooks/od_calibration_sumo_files/quickstart/data/quickstart.net.xml' ... done (8ms).\n",
      "Loading additional-files from '/Users/rodrse/Documents/DemandCalibration/notebooks/od_calibration_sumo_files/quickstart/data/quickstart.additional.xml' ... done (1ms).\n",
      "Loading done.\n",
      "Simulation version 1.16.0 started with time: 54000.00.\n",
      "Step #57600.00 (10ms ~= 100.00*RT, ~85900.00UPS, vehicles TOT 3070 ACT 859 BUF 0)         \n",
      "Simulation ended at time: 57600.00\n",
      "Reason: The final simulation step has been reached.\n",
      "Performance: \n",
      " Duration: 20.79s\n",
      " Real time factor: 173.144\n",
      " UPS: 96230.136591\n",
      "Vehicles: \n",
      " Inserted: 3070\n",
      " Running: 859\n",
      " Waiting: 0\n",
      "Statistics (avg of 2211):\n",
      " RouteLength: 4234.23\n",
      " Speed: 11.24\n",
      " Duration: 536.39\n",
      " WaitingTime: 128.89\n",
      " TimeLoss: 229.36\n",
      " DepartDelay: 0.47\n",
      "\n",
      "DijkstraRouter answered 3070 queries and explored 9.46 edges on average.\n",
      "DijkstraRouter spent 0.01s answering queries (0.00ms on average).\n",
      "####### 115 ########\n",
      "##### n=139 #####\n",
      "##### best_value=-0.001436093396988365 #####\n",
      "printing /Users/rodrse/Documents/DemandCalibration/notebooks/od_calibration_sumo_files/quickstart/data/iter_quickstart.current_od.xml\n",
      "### Runing: iter\n",
      "od2trips --no-step-log  --spread.uniform --taz-files /Users/rodrse/Documents/DemandCalibration/notebooks/od_calibration_sumo_files/quickstart/data/quickstart.taz.xml --tazrelation-files /Users/rodrse/Documents/DemandCalibration/notebooks/od_calibration_sumo_files/quickstart/data/iter_quickstart.current_od.xml -o /Users/rodrse/Documents/DemandCalibration/notebooks/od_calibration_sumo_files/quickstart/data/iter_od_trips.trips.xml \n",
      "Success.\n",
      "Loading net-file from '/Users/rodrse/Documents/DemandCalibration/notebooks/od_calibration_sumo_files/quickstart/data/quickstart.net.xml' ... done (6ms).\n",
      "Loading additional-files from '/Users/rodrse/Documents/DemandCalibration/notebooks/od_calibration_sumo_files/quickstart/data/quickstart.additional.xml' ... done (1ms).\n",
      "Loading done.\n",
      "Simulation version 1.16.0 started with time: 54000.00.\n",
      "Step #57600.00 (8ms ~= 125.00*RT, ~84500.00UPS, vehicles TOT 2710 ACT 676 BUF 0)          \n",
      "Simulation ended at time: 57600.00\n",
      "Reason: The final simulation step has been reached.\n",
      "Performance: \n",
      " Duration: 17.31s\n",
      " Real time factor: 207.984\n",
      " UPS: 96307.239009\n",
      "Vehicles: \n",
      " Inserted: 2710\n",
      " Running: 676\n",
      " Waiting: 0\n",
      "Statistics (avg of 2034):\n",
      " RouteLength: 4368.36\n",
      " Speed: 11.57\n",
      " Duration: 472.16\n",
      " WaitingTime: 92.07\n",
      " TimeLoss: 154.82\n",
      " DepartDelay: 0.49\n",
      "\n",
      "DijkstraRouter answered 2710 queries and explored 10.03 edges on average.\n",
      "DijkstraRouter spent 0.02s answering queries (0.01ms on average).\n",
      "####### 116 ########\n",
      "##### n=140 #####\n",
      "##### best_value=-0.001436093396988365 #####\n",
      "printing /Users/rodrse/Documents/DemandCalibration/notebooks/od_calibration_sumo_files/quickstart/data/iter_quickstart.current_od.xml\n",
      "### Runing: iter\n",
      "od2trips --no-step-log  --spread.uniform --taz-files /Users/rodrse/Documents/DemandCalibration/notebooks/od_calibration_sumo_files/quickstart/data/quickstart.taz.xml --tazrelation-files /Users/rodrse/Documents/DemandCalibration/notebooks/od_calibration_sumo_files/quickstart/data/iter_quickstart.current_od.xml -o /Users/rodrse/Documents/DemandCalibration/notebooks/od_calibration_sumo_files/quickstart/data/iter_od_trips.trips.xml \n",
      "Success.\n",
      "Loading net-file from '/Users/rodrse/Documents/DemandCalibration/notebooks/od_calibration_sumo_files/quickstart/data/quickstart.net.xml' ... done (5ms).\n",
      "Loading additional-files from '/Users/rodrse/Documents/DemandCalibration/notebooks/od_calibration_sumo_files/quickstart/data/quickstart.additional.xml' ... done (1ms).\n",
      "Loading done.\n",
      "Simulation version 1.16.0 started with time: 54000.00.\n",
      "Step #56700.00 (12ms ~= 83.33*RT, ~87583.33UPS, vehicles TOT 2765 ACT 1051 BUF 9)         \r"
     ]
    },
    {
     "name": "stderr",
     "output_type": "stream",
     "text": [
      "Warning: Teleporting vehicle '79'; waited too long (yield), lane='L15_1', time=56762.00.\n",
      "Warning: Vehicle '79' ends teleporting on edge 'L18', time=56762.00.\n",
      "Warning: Teleporting vehicle '397'; waited too long (wrong lane), lane='L15_0', time=56763.00.\n",
      "Warning: Vehicle '397' ends teleporting on edge 'L18', time=56763.00.\n",
      "Warning: Teleporting vehicle '407'; waited too long (wrong lane), lane='L15_0', time=56766.00.\n",
      "Warning: Vehicle '407' ends teleporting on edge 'L18', time=56766.00.\n",
      "Warning: Teleporting vehicle '419'; waited too long (wrong lane), lane='L15_0', time=56767.00.\n",
      "Warning: Vehicle '419' ends teleporting on edge 'L18', time=56767.00.\n"
     ]
    },
    {
     "name": "stdout",
     "output_type": "stream",
     "text": [
      "Step #56800.00 (10ms ~= 100.00*RT, ~106100.00UPS, vehicles TOT 2853 ACT 1061 BUF 23)      \r"
     ]
    },
    {
     "name": "stderr",
     "output_type": "stream",
     "text": [
      "Warning: Teleporting vehicle '429'; waited too long (wrong lane), lane='L15_0', time=56877.00.\n",
      "Warning: Vehicle '429' ends teleporting on edge 'L18', time=56877.00.\n",
      "Warning: Teleporting vehicle '445'; waited too long (wrong lane), lane='L15_0', time=56878.00.\n",
      "Warning: Vehicle '445' ends teleporting on edge 'L18', time=56878.00.\n",
      "Warning: Teleporting vehicle '448'; waited too long (wrong lane), lane='L15_0', time=56879.00.\n",
      "Warning: Vehicle '448' ends teleporting on edge 'L18', time=56879.00.\n"
     ]
    },
    {
     "name": "stdout",
     "output_type": "stream",
     "text": [
      "Step #56900.00 (12ms ~= 83.33*RT, ~84750.00UPS, vehicles TOT 2933 ACT 1017 BUF 45)        \r"
     ]
    },
    {
     "name": "stderr",
     "output_type": "stream",
     "text": [
      "Warning: Teleporting vehicle '350'; waited too long (jam), lane='L12_1', time=56938.00.\n",
      "Warning: Teleporting vehicle '574'; waited too long (wrong lane), lane='L12_2', time=56938.00.\n",
      "Warning: Vehicle '350' ends teleporting on edge 'L15', time=56938.00.\n",
      "Warning: Teleporting vehicle '598'; waited too long (wrong lane), lane='L12_2', time=56999.00.\n"
     ]
    },
    {
     "name": "stdout",
     "output_type": "stream",
     "text": [
      "Step #57000.00 (11ms ~= 90.91*RT, ~87363.64UPS, vehicles TOT 3015 ACT 961 BUF 68)         \r"
     ]
    },
    {
     "name": "stderr",
     "output_type": "stream",
     "text": [
      "Warning: Teleporting vehicle '599'; waited too long (wrong lane), lane='L12_2', time=57024.00.\n",
      "Warning: Vehicle '574' ends teleporting on edge 'L15', time=57032.00.\n",
      "Warning: Vehicle '598' ends teleporting on edge 'L15', time=57048.00.\n",
      "Warning: Teleporting vehicle '604'; waited too long (wrong lane), lane='L12_2', time=57061.00.\n",
      "Warning: Vehicle '599' ends teleporting on edge 'L15', time=57095.00.\n",
      "Warning: Teleporting vehicle '486'; waited too long (jam), lane='L2_0', time=57110.00.\n",
      "Warning: Vehicle '486' ends teleporting on edge 'L12', time=57110.00.\n"
     ]
    },
    {
     "name": "stdout",
     "output_type": "stream",
     "text": [
      "Step #57100.00 (8ms ~= 125.00*RT, ~114000.00UPS, vehicles TOT 3094 ACT 912 BUF 91)        \r"
     ]
    },
    {
     "name": "stderr",
     "output_type": "stream",
     "text": [
      "Warning: Vehicle '604' ends teleporting on edge 'L15', time=57130.00.\n"
     ]
    },
    {
     "name": "stdout",
     "output_type": "stream",
     "text": [
      "Step #57200.00 (9ms ~= 111.11*RT, ~99444.44UPS, vehicles TOT 3173 ACT 895 BUF 115)        \r"
     ]
    },
    {
     "name": "stderr",
     "output_type": "stream",
     "text": [
      "Warning: Teleporting vehicle '614'; waited too long (wrong lane), lane='L12_2', time=57216.00.\n",
      "Warning: Vehicle '614' ends teleporting on edge 'L15', time=57236.00.\n"
     ]
    },
    {
     "name": "stdout",
     "output_type": "stream",
     "text": [
      "Step #57300.00 (11ms ~= 90.91*RT, ~81545.45UPS, vehicles TOT 3255 ACT 897 BUF 135)        \r"
     ]
    },
    {
     "name": "stderr",
     "output_type": "stream",
     "text": [
      "Warning: Teleporting vehicle '1574'; waited too long (jam), lane='L2_1', time=57308.00.\n",
      "Warning: Vehicle '1574' ends teleporting on edge 'L12', time=57308.00.\n",
      "Warning: Teleporting vehicle '657'; waited too long (jam), lane='L2_1', time=57309.00.\n",
      "Warning: Vehicle '657' ends teleporting on edge 'L12', time=57309.00.\n",
      "Warning: Teleporting vehicle '618'; waited too long (wrong lane), lane='L12_2', time=57380.00.\n",
      "Warning: Vehicle '618' ends teleporting on edge 'L15', time=57387.00.\n"
     ]
    },
    {
     "name": "stdout",
     "output_type": "stream",
     "text": [
      "Step #57400.00 (10ms ~= 100.00*RT, ~88700.00UPS, vehicles TOT 3309 ACT 887 BUF 184)       \r"
     ]
    },
    {
     "name": "stderr",
     "output_type": "stream",
     "text": [
      "Warning: Teleporting vehicle '623'; waited too long (wrong lane), lane='L12_2', time=57462.00.\n",
      "Warning: Vehicle '623' ends teleporting on edge 'L15', time=57462.00.\n"
     ]
    },
    {
     "name": "stdout",
     "output_type": "stream",
     "text": [
      "Step #57500.00 (11ms ~= 90.91*RT, ~79636.36UPS, vehicles TOT 3362 ACT 876 BUF 234)        \r"
     ]
    },
    {
     "name": "stderr",
     "output_type": "stream",
     "text": [
      "Warning: Teleporting vehicle '1610'; waited too long (jam), lane='D2_1', time=57504.00.\n",
      "Warning: Vehicle '1610' ends teleporting on edge 'L2', time=57504.00.\n",
      "Warning: Teleporting vehicle '554'; waited too long (jam), lane='D2_0', time=57505.00.\n",
      "Warning: Teleporting vehicle '488'; waited too long (jam), lane='L2_0', time=57514.00.\n",
      "Warning: Vehicle '488' ends teleporting on edge 'L12', time=57514.00.\n",
      "Warning: Teleporting vehicle '625'; waited too long (wrong lane), lane='L12_2', time=57542.00.\n",
      "Warning: Vehicle '625' ends teleporting on edge 'L15', time=57542.00.\n"
     ]
    },
    {
     "name": "stdout",
     "output_type": "stream",
     "text": [
      "Step #57600.00 (9ms ~= 111.11*RT, ~97000.00UPS, vehicles TOT 3416 ACT 873 BUF 282)        \n",
      "Simulation ended at time: 57600.00\n",
      "Reason: The final simulation step has been reached.\n",
      "Performance: \n",
      " Duration: 28.37s\n",
      " Real time factor: 126.886\n",
      " UPS: 93279.183702\n",
      "Vehicles: \n",
      " Inserted: 3416 (Loaded: 3698)\n",
      " Running: 873\n",
      " Waiting: 282\n",
      " Teleports: 22 (Jam: 7, Yield: 1, Wrong Lane: 14)\n",
      "Statistics (avg of 2543):\n",
      " RouteLength: 4366.19\n",
      " Speed: 10.48\n",
      " Duration: 576.45\n",
      " WaitingTime: 106.49\n",
      " TimeLoss: 259.54\n",
      " DepartDelay: 0.53\n",
      "\n",
      "DijkstraRouter answered 3826 queries and explored 9.96 edges on average.\n",
      "DijkstraRouter spent 0.01s answering queries (0.00ms on average).\n",
      "####### 117 ########\n",
      "##### n=141 #####\n",
      "##### best_value=-0.001436093396988365 #####\n",
      "printing /Users/rodrse/Documents/DemandCalibration/notebooks/od_calibration_sumo_files/quickstart/data/iter_quickstart.current_od.xml\n",
      "### Runing: iter\n",
      "od2trips --no-step-log  --spread.uniform --taz-files /Users/rodrse/Documents/DemandCalibration/notebooks/od_calibration_sumo_files/quickstart/data/quickstart.taz.xml --tazrelation-files /Users/rodrse/Documents/DemandCalibration/notebooks/od_calibration_sumo_files/quickstart/data/iter_quickstart.current_od.xml -o /Users/rodrse/Documents/DemandCalibration/notebooks/od_calibration_sumo_files/quickstart/data/iter_od_trips.trips.xml \n",
      "Success.\n",
      "Loading net-file from '/Users/rodrse/Documents/DemandCalibration/notebooks/od_calibration_sumo_files/quickstart/data/quickstart.net.xml' ... done (6ms).\n",
      "Loading additional-files from '/Users/rodrse/Documents/DemandCalibration/notebooks/od_calibration_sumo_files/quickstart/data/quickstart.additional.xml' ... done (2ms).\n",
      "Loading done.\n",
      "Simulation version 1.16.0 started with time: 54000.00.\n",
      "Step #57500.00 (6ms ~= 166.67*RT, ~136833.33UPS, vehicles TOT 2950 ACT 821 BUF 25)        \r"
     ]
    },
    {
     "name": "stderr",
     "output_type": "stream",
     "text": [
      "Warning: Teleporting vehicle '636'; waited too long (wrong lane), lane='L12_2', time=57475.00.\n",
      "Warning: Vehicle '636' ends teleporting on edge 'L15', time=57476.00.\n",
      "Warning: Teleporting vehicle '638'; waited too long (wrong lane), lane='L12_2', time=57503.00.\n",
      "Warning: Vehicle '638' ends teleporting on edge 'L15', time=57503.00.\n",
      "Warning: Teleporting vehicle '505'; waited too long (jam), lane='L2_0', time=57582.00.\n",
      "Warning: Vehicle '505' ends teleporting on edge 'L12', time=57582.00.\n",
      "Warning: Teleporting vehicle '648'; waited too long (wrong lane), lane='L12_2', time=57592.00.\n"
     ]
    },
    {
     "name": "stdout",
     "output_type": "stream",
     "text": [
      "Step #57600.00 (7ms ~= 142.86*RT, ~120142.86UPS, vehicles TOT 3026 ACT 841 BUF 33)        \n",
      "Simulation ended at time: 57600.00\n",
      "Reason: The final simulation step has been reached.\n",
      "Performance: \n",
      " Duration: 16.45s\n",
      " Real time factor: 218.872\n",
      " UPS: 115930.021887\n",
      "Vehicles: \n",
      " Inserted: 3026 (Loaded: 3059)\n",
      " Running: 841\n",
      " Waiting: 33\n",
      " Teleports: 4 (Jam: 1, Wrong Lane: 3)\n",
      "Statistics (avg of 2185):\n",
      " RouteLength: 4383.47\n",
      " Speed: 12.20\n",
      " Duration: 431.12\n",
      " WaitingTime: 72.81\n",
      " TimeLoss: 113.62\n",
      " DepartDelay: 0.49\n",
      "\n",
      "DijkstraRouter answered 3092 queries and explored 10.36 edges on average.\n",
      "DijkstraRouter spent 0.02s answering queries (0.01ms on average).\n",
      "####### 118 ########\n",
      "##### n=142 #####\n",
      "##### best_value=-0.001436093396988365 #####\n",
      "printing /Users/rodrse/Documents/DemandCalibration/notebooks/od_calibration_sumo_files/quickstart/data/iter_quickstart.current_od.xml\n",
      "### Runing: iter\n",
      "od2trips --no-step-log  --spread.uniform --taz-files /Users/rodrse/Documents/DemandCalibration/notebooks/od_calibration_sumo_files/quickstart/data/quickstart.taz.xml --tazrelation-files /Users/rodrse/Documents/DemandCalibration/notebooks/od_calibration_sumo_files/quickstart/data/iter_quickstart.current_od.xml -o /Users/rodrse/Documents/DemandCalibration/notebooks/od_calibration_sumo_files/quickstart/data/iter_od_trips.trips.xml \n",
      "Success.\n",
      "Loading net-file from '/Users/rodrse/Documents/DemandCalibration/notebooks/od_calibration_sumo_files/quickstart/data/quickstart.net.xml' ... done (6ms).\n",
      "Loading additional-files from '/Users/rodrse/Documents/DemandCalibration/notebooks/od_calibration_sumo_files/quickstart/data/quickstart.additional.xml' ... done (1ms).\n",
      "Loading done.\n",
      "Simulation version 1.16.0 started with time: 54000.00.\n",
      "Step #57400.00 (8ms ~= 125.00*RT, ~104875.00UPS, vehicles TOT 2996 ACT 839 BUF 0)         \r"
     ]
    },
    {
     "name": "stderr",
     "output_type": "stream",
     "text": [
      "Warning: Teleporting vehicle '639'; waited too long (wrong lane), lane='L12_2', time=57469.00.\n",
      "Warning: Vehicle '639' ends teleporting on edge 'L15', time=57469.00.\n"
     ]
    },
    {
     "name": "stdout",
     "output_type": "stream",
     "text": [
      "Step #57500.00 (14ms ~= 71.43*RT, ~61785.71UPS, vehicles TOT 3084 ACT 865 BUF 0)          \r"
     ]
    },
    {
     "name": "stderr",
     "output_type": "stream",
     "text": [
      "Warning: Teleporting vehicle '641'; waited too long (wrong lane), lane='L12_2', time=57522.00.\n",
      "Warning: Vehicle '641' ends teleporting on edge 'L15', time=57564.00.\n",
      "Warning: Teleporting vehicle '677'; waited too long (jam), lane='L2_1', time=57595.00.\n",
      "Warning: Vehicle '677' ends teleporting on edge 'L12', time=57595.00.\n"
     ]
    },
    {
     "name": "stdout",
     "output_type": "stream",
     "text": [
      "Step #57600.00 (9ms ~= 111.11*RT, ~98777.78UPS, vehicles TOT 3155 ACT 889 BUF 17)         \n",
      "Simulation ended at time: 57600.00\n",
      "Reason: The final simulation step has been reached.\n",
      "Performance: \n",
      " Duration: 18.13s\n",
      " Real time factor: 198.544\n",
      " UPS: 113745.367306\n",
      "Vehicles: \n",
      " Inserted: 3155 (Loaded: 3172)\n",
      " Running: 889\n",
      " Waiting: 17\n",
      " Teleports: 3 (Jam: 1, Wrong Lane: 2)\n",
      "Statistics (avg of 2266):\n",
      " RouteLength: 4380.53\n",
      " Speed: 11.49\n",
      " Duration: 474.82\n",
      " WaitingTime: 90.41\n",
      " TimeLoss: 157.51\n",
      " DepartDelay: 0.50\n",
      "\n",
      "DijkstraRouter answered 3172 queries and explored 10.15 edges on average.\n",
      "DijkstraRouter spent 0.01s answering queries (0.00ms on average).\n",
      "####### 119 ########\n",
      "##### n=143 #####\n",
      "##### best_value=-0.001436093396988365 #####\n",
      "printing /Users/rodrse/Documents/DemandCalibration/notebooks/od_calibration_sumo_files/quickstart/data/iter_quickstart.current_od.xml\n",
      "### Runing: iter\n",
      "od2trips --no-step-log  --spread.uniform --taz-files /Users/rodrse/Documents/DemandCalibration/notebooks/od_calibration_sumo_files/quickstart/data/quickstart.taz.xml --tazrelation-files /Users/rodrse/Documents/DemandCalibration/notebooks/od_calibration_sumo_files/quickstart/data/iter_quickstart.current_od.xml -o /Users/rodrse/Documents/DemandCalibration/notebooks/od_calibration_sumo_files/quickstart/data/iter_od_trips.trips.xml \n",
      "Success.\n",
      "Loading net-file from '/Users/rodrse/Documents/DemandCalibration/notebooks/od_calibration_sumo_files/quickstart/data/quickstart.net.xml' ... done (5ms).\n",
      "Loading additional-files from '/Users/rodrse/Documents/DemandCalibration/notebooks/od_calibration_sumo_files/quickstart/data/quickstart.additional.xml' ... done (1ms).\n",
      "Loading done.\n",
      "Simulation version 1.16.0 started with time: 54000.00.\n",
      "Step #57600.00 (5ms ~= 200.00*RT, ~135000.00UPS, vehicles TOT 2816 ACT 675 BUF 0)         \n",
      "Simulation ended at time: 57600.00\n",
      "Reason: The final simulation step has been reached.\n",
      "Performance: \n",
      " Duration: 14.28s\n",
      " Real time factor: 252.048\n",
      " UPS: 112396.765385\n",
      "Vehicles: \n",
      " Inserted: 2816\n",
      " Running: 675\n",
      " Waiting: 0\n",
      "Statistics (avg of 2141):\n",
      " RouteLength: 4236.42\n",
      " Speed: 11.59\n",
      " Duration: 473.31\n",
      " WaitingTime: 103.29\n",
      " TimeLoss: 166.80\n",
      " DepartDelay: 0.49\n",
      "\n",
      "DijkstraRouter answered 2816 queries and explored 9.31 edges on average.\n",
      "DijkstraRouter spent 0.01s answering queries (0.00ms on average).\n",
      "####### 120 ########\n",
      "##### n=144 #####\n",
      "##### best_value=-0.001436093396988365 #####\n",
      "printing /Users/rodrse/Documents/DemandCalibration/notebooks/od_calibration_sumo_files/quickstart/data/iter_quickstart.current_od.xml\n",
      "### Runing: iter\n",
      "od2trips --no-step-log  --spread.uniform --taz-files /Users/rodrse/Documents/DemandCalibration/notebooks/od_calibration_sumo_files/quickstart/data/quickstart.taz.xml --tazrelation-files /Users/rodrse/Documents/DemandCalibration/notebooks/od_calibration_sumo_files/quickstart/data/iter_quickstart.current_od.xml -o /Users/rodrse/Documents/DemandCalibration/notebooks/od_calibration_sumo_files/quickstart/data/iter_od_trips.trips.xml \n",
      "Success.\n",
      "Loading net-file from '/Users/rodrse/Documents/DemandCalibration/notebooks/od_calibration_sumo_files/quickstart/data/quickstart.net.xml' ... done (6ms).\n",
      "Loading additional-files from '/Users/rodrse/Documents/DemandCalibration/notebooks/od_calibration_sumo_files/quickstart/data/quickstart.additional.xml' ... done (0ms).\n",
      "Loading done.\n",
      "Simulation version 1.16.0 started with time: 54000.00.\n",
      "Step #57600.00 (6ms ~= 166.67*RT, ~99833.33UPS, vehicles TOT 2587 ACT 599 BUF 0)          \n",
      "Simulation ended at time: 57600.00\n",
      "Reason: The final simulation step has been reached.\n",
      "Performance: \n",
      " Duration: 11.77s\n",
      " Real time factor: 305.966\n",
      " UPS: 121905.575387\n",
      "Vehicles: \n",
      " Inserted: 2587\n",
      " Running: 599\n",
      " Waiting: 0\n",
      "Statistics (avg of 1988):\n",
      " RouteLength: 4351.62\n",
      " Speed: 11.18\n",
      " Duration: 493.09\n",
      " WaitingTime: 102.67\n",
      " TimeLoss: 177.76\n",
      " DepartDelay: 0.50\n",
      "\n",
      "DijkstraRouter answered 2587 queries and explored 9.80 edges on average.\n",
      "DijkstraRouter spent 0.01s answering queries (0.00ms on average).\n",
      "####### 121 ########\n",
      "##### n=145 #####\n",
      "##### best_value=-0.001436093396988365 #####\n",
      "printing /Users/rodrse/Documents/DemandCalibration/notebooks/od_calibration_sumo_files/quickstart/data/iter_quickstart.current_od.xml\n",
      "### Runing: iter\n",
      "od2trips --no-step-log  --spread.uniform --taz-files /Users/rodrse/Documents/DemandCalibration/notebooks/od_calibration_sumo_files/quickstart/data/quickstart.taz.xml --tazrelation-files /Users/rodrse/Documents/DemandCalibration/notebooks/od_calibration_sumo_files/quickstart/data/iter_quickstart.current_od.xml -o /Users/rodrse/Documents/DemandCalibration/notebooks/od_calibration_sumo_files/quickstart/data/iter_od_trips.trips.xml \n",
      "Success.\n",
      "Loading net-file from '/Users/rodrse/Documents/DemandCalibration/notebooks/od_calibration_sumo_files/quickstart/data/quickstart.net.xml' ... done (8ms).\n",
      "Loading additional-files from '/Users/rodrse/Documents/DemandCalibration/notebooks/od_calibration_sumo_files/quickstart/data/quickstart.additional.xml' ... done (1ms).\n",
      "Loading done.\n",
      "Simulation version 1.16.0 started with time: 54000.00.\n",
      "Step #57600.00 (5ms ~= 200.00*RT, ~123000.00UPS, vehicles TOT 2763 ACT 615 BUF 0)         \n",
      "Simulation ended at time: 57600.00\n",
      "Reason: The final simulation step has been reached.\n",
      "Performance: \n",
      " Duration: 11.75s\n",
      " Real time factor: 306.331\n",
      " UPS: 125609.087815\n",
      "Vehicles: \n",
      " Inserted: 2763\n",
      " Running: 615\n",
      " Waiting: 0\n",
      "Statistics (avg of 2148):\n",
      " RouteLength: 4409.53\n",
      " Speed: 11.19\n",
      " Duration: 473.19\n",
      " WaitingTime: 84.02\n",
      " TimeLoss: 153.71\n",
      " DepartDelay: 0.49\n",
      "\n",
      "DijkstraRouter answered 2763 queries and explored 10.03 edges on average.\n",
      "DijkstraRouter spent 0.01s answering queries (0.00ms on average).\n",
      "####### 122 ########\n",
      "##### n=146 #####\n",
      "##### best_value=-0.001436093396988365 #####\n",
      "printing /Users/rodrse/Documents/DemandCalibration/notebooks/od_calibration_sumo_files/quickstart/data/iter_quickstart.current_od.xml\n",
      "### Runing: iter\n",
      "od2trips --no-step-log  --spread.uniform --taz-files /Users/rodrse/Documents/DemandCalibration/notebooks/od_calibration_sumo_files/quickstart/data/quickstart.taz.xml --tazrelation-files /Users/rodrse/Documents/DemandCalibration/notebooks/od_calibration_sumo_files/quickstart/data/iter_quickstart.current_od.xml -o /Users/rodrse/Documents/DemandCalibration/notebooks/od_calibration_sumo_files/quickstart/data/iter_od_trips.trips.xml \n",
      "Success.\n",
      "Loading net-file from '/Users/rodrse/Documents/DemandCalibration/notebooks/od_calibration_sumo_files/quickstart/data/quickstart.net.xml' ... done (6ms).\n",
      "Loading additional-files from '/Users/rodrse/Documents/DemandCalibration/notebooks/od_calibration_sumo_files/quickstart/data/quickstart.additional.xml' ... done (1ms).\n",
      "Loading done.\n",
      "Simulation version 1.16.0 started with time: 54000.00.\n",
      "Step #56700.00 (7ms ~= 142.86*RT, ~115142.86UPS, vehicles TOT 2441 ACT 806 BUF 57)        \r"
     ]
    },
    {
     "name": "stderr",
     "output_type": "stream",
     "text": [
      "Warning: Teleporting vehicle '593'; waited too long (wrong lane), lane='L12_2', time=56721.00.\n",
      "Warning: Vehicle '593' ends teleporting on edge 'L15', time=56723.00.\n",
      "Warning: Teleporting vehicle '595'; waited too long (wrong lane), lane='L12_2', time=56799.00.\n",
      "Warning: Vehicle '595' ends teleporting on edge 'L15', time=56799.00.\n",
      "Warning: Teleporting vehicle '596'; waited too long (wrong lane), lane='L12_2', time=56800.00.\n",
      "Warning: Vehicle '596' ends teleporting on edge 'L15', time=56814.00.\n"
     ]
    },
    {
     "name": "stdout",
     "output_type": "stream",
     "text": [
      "Step #56800.00 (9ms ~= 111.11*RT, ~89777.78UPS, vehicles TOT 2488 ACT 808 BUF 100)        \r"
     ]
    },
    {
     "name": "stderr",
     "output_type": "stream",
     "text": [
      "Warning: Teleporting vehicle '598'; waited too long (wrong lane), lane='L12_2', time=56827.00.\n",
      "Warning: Teleporting vehicle '600'; waited too long (wrong lane), lane='L12_2', time=56854.00.\n",
      "Warning: Vehicle '598' ends teleporting on edge 'L15', time=56874.00.\n",
      "Warning: Teleporting vehicle '464'; waited too long (jam), lane=':1_3_1', time=56884.00.\n",
      "Warning: Vehicle '464' ends teleporting on edge 'L12', time=56884.00.\n"
     ]
    },
    {
     "name": "stdout",
     "output_type": "stream",
     "text": [
      "Step #56900.00 (7ms ~= 142.86*RT, ~113857.14UPS, vehicles TOT 2537 ACT 797 BUF 144)       \r"
     ]
    },
    {
     "name": "stderr",
     "output_type": "stream",
     "text": [
      "Warning: Teleporting vehicle '531'; waited too long (jam), lane='D2_0', time=56926.00.\n",
      "Warning: Vehicle '531' ends teleporting on edge 'L2', time=56926.00.\n",
      "Warning: Teleporting vehicle '602'; waited too long (wrong lane), lane='L12_2', time=56938.00.\n",
      "Warning: Teleporting vehicle '603'; waited too long (wrong lane), lane='L12_2', time=56939.00.\n",
      "Warning: Vehicle '600' ends teleporting on edge 'L15', time=56957.00.\n",
      "Warning: Vehicle '602' ends teleporting on edge 'L15', time=56972.00.\n",
      "Warning: Teleporting vehicle '671'; waited too long (jam), lane='D2_1', time=56996.00.\n",
      "Warning: Vehicle '671' ends teleporting on edge 'L2', time=56996.00.\n"
     ]
    },
    {
     "name": "stdout",
     "output_type": "stream",
     "text": [
      "Step #57000.00 (8ms ~= 125.00*RT, ~98875.00UPS, vehicles TOT 2587 ACT 791 BUF 186)        \r"
     ]
    },
    {
     "name": "stderr",
     "output_type": "stream",
     "text": [
      "Warning: Vehicle '603' ends teleporting on edge 'L15', time=57027.00.\n",
      "Warning: Teleporting vehicle '1387'; waited too long (jam), lane='L2_1', time=57047.00.\n",
      "Warning: Vehicle '1387' ends teleporting on edge 'L12', time=57054.00.\n"
     ]
    },
    {
     "name": "stdout",
     "output_type": "stream",
     "text": [
      "Step #57100.00 (7ms ~= 142.86*RT, ~116142.86UPS, vehicles TOT 2667 ACT 813 BUF 199)       \r"
     ]
    },
    {
     "name": "stderr",
     "output_type": "stream",
     "text": [
      "Warning: Teleporting vehicle '608'; waited too long (wrong lane), lane='L12_2', time=57113.00.\n",
      "Warning: Vehicle '608' ends teleporting on edge 'L15', time=57138.00.\n"
     ]
    },
    {
     "name": "stdout",
     "output_type": "stream",
     "text": [
      "Step #57200.00 (8ms ~= 125.00*RT, ~103625.00UPS, vehicles TOT 2733 ACT 829 BUF 225)       \r"
     ]
    },
    {
     "name": "stderr",
     "output_type": "stream",
     "text": [
      "Warning: Teleporting vehicle '611'; waited too long (wrong lane), lane='L12_2', time=57230.00.\n",
      "Warning: Vehicle '611' ends teleporting on edge 'L15', time=57236.00.\n",
      "Warning: Teleporting vehicle '616'; waited too long (wrong lane), lane='L12_2', time=57284.00.\n",
      "Warning: Vehicle '616' ends teleporting on edge 'L15', time=57284.00.\n",
      "Warning: Teleporting vehicle '533'; waited too long (jam), lane='D2_0', time=57285.00.\n",
      "Warning: Vehicle '533' ends teleporting on edge 'L2', time=57285.00.\n"
     ]
    },
    {
     "name": "stdout",
     "output_type": "stream",
     "text": [
      "Step #57300.00 (9ms ~= 111.11*RT, ~91444.44UPS, vehicles TOT 2782 ACT 823 BUF 270)        \r"
     ]
    },
    {
     "name": "stderr",
     "output_type": "stream",
     "text": [
      "Warning: Teleporting vehicle '618'; waited too long (wrong lane), lane='L12_2', time=57332.00.\n",
      "Warning: Vehicle '618' ends teleporting on edge 'L15', time=57334.00.\n",
      "Warning: Teleporting vehicle '1384'; waited too long (jam), lane='L2_1', time=57353.00.\n",
      "Warning: Vehicle '1384' ends teleporting on edge 'L12', time=57353.00.\n",
      "Warning: Teleporting vehicle '466'; waited too long (jam), lane='L2_0', time=57363.00.\n",
      "Warning: Vehicle '466' ends teleporting on edge 'L12', time=57363.00.\n",
      "Warning: Teleporting vehicle '620'; waited too long (wrong lane), lane='L12_2', time=57386.00.\n"
     ]
    },
    {
     "name": "stdout",
     "output_type": "stream",
     "text": [
      "Step #57400.00 (10ms ~= 100.00*RT, ~82500.00UPS, vehicles TOT 2840 ACT 825 BUF 304)       \r"
     ]
    },
    {
     "name": "stderr",
     "output_type": "stream",
     "text": [
      "Warning: Vehicle '620' ends teleporting on edge 'L15', time=57404.00.\n",
      "Warning: Teleporting vehicle '625'; waited too long (wrong lane), lane='L12_2', time=57495.00.\n",
      "Warning: Vehicle '625' ends teleporting on edge 'L15', time=57495.00.\n"
     ]
    },
    {
     "name": "stdout",
     "output_type": "stream",
     "text": [
      "Step #57600.00 (9ms ~= 111.11*RT, ~95777.78UPS, vehicles TOT 2992 ACT 862 BUF 337)        \n",
      "Simulation ended at time: 57600.00\n",
      "Reason: The final simulation step has been reached.\n",
      "Performance: \n",
      " Duration: 19.14s\n",
      " Real time factor: 188.058\n",
      " UPS: 113508.593219\n",
      "Vehicles: \n",
      " Inserted: 2992 (Loaded: 3329)\n",
      " Running: 862\n",
      " Waiting: 337\n",
      " Teleports: 21 (Jam: 8, Wrong Lane: 13)\n",
      "Statistics (avg of 2130):\n",
      " RouteLength: 4364.26\n",
      " Speed: 12.12\n",
      " Duration: 433.94\n",
      " WaitingTime: 77.63\n",
      " TimeLoss: 117.11\n",
      " DepartDelay: 0.80\n",
      "\n",
      "DijkstraRouter answered 3517 queries and explored 10.38 edges on average.\n",
      "DijkstraRouter spent 0.01s answering queries (0.00ms on average).\n"
     ]
    },
    {
     "name": "stderr",
     "output_type": "stream",
     "text": [
      "Warning: Teleporting vehicle '534'; waited too long (jam), lane='D2_0', time=57591.00.\n"
     ]
    },
    {
     "name": "stdout",
     "output_type": "stream",
     "text": [
      "####### 123 ########\n",
      "##### n=147 #####\n",
      "##### best_value=-0.001436093396988365 #####\n",
      "printing /Users/rodrse/Documents/DemandCalibration/notebooks/od_calibration_sumo_files/quickstart/data/iter_quickstart.current_od.xml\n",
      "### Runing: iter\n",
      "od2trips --no-step-log  --spread.uniform --taz-files /Users/rodrse/Documents/DemandCalibration/notebooks/od_calibration_sumo_files/quickstart/data/quickstart.taz.xml --tazrelation-files /Users/rodrse/Documents/DemandCalibration/notebooks/od_calibration_sumo_files/quickstart/data/iter_quickstart.current_od.xml -o /Users/rodrse/Documents/DemandCalibration/notebooks/od_calibration_sumo_files/quickstart/data/iter_od_trips.trips.xml \n",
      "Success.\n",
      "Loading net-file from '/Users/rodrse/Documents/DemandCalibration/notebooks/od_calibration_sumo_files/quickstart/data/quickstart.net.xml' ... done (8ms).\n",
      "Loading additional-files from '/Users/rodrse/Documents/DemandCalibration/notebooks/od_calibration_sumo_files/quickstart/data/quickstart.additional.xml' ... done (1ms).\n",
      "Loading done.\n",
      "Simulation version 1.16.0 started with time: 54000.00.\n",
      "Step #57600.00 (10ms ~= 100.00*RT, ~84300.00UPS, vehicles TOT 2835 ACT 843 BUF 0)         \n",
      "Simulation ended at time: 57600.00\n",
      "Reason: The final simulation step has been reached.\n",
      "Performance: \n",
      " Duration: 17.91s\n",
      " Real time factor: 201.005\n",
      " UPS: 108696.314908\n",
      "Vehicles: \n",
      " Inserted: 2835\n",
      " Running: 843\n",
      " Waiting: 0\n",
      "Statistics (avg of 1992):\n",
      " RouteLength: 4290.95\n",
      " Speed: 10.65\n",
      " Duration: 605.32\n",
      " WaitingTime: 168.81\n",
      " TimeLoss: 294.06\n",
      " DepartDelay: 0.49\n",
      "\n",
      "DijkstraRouter answered 2835 queries and explored 9.73 edges on average.\n",
      "DijkstraRouter spent 0.01s answering queries (0.00ms on average).\n",
      "####### 124 ########\n",
      "##### n=148 #####\n",
      "##### best_value=-0.001436093396988365 #####\n",
      "printing /Users/rodrse/Documents/DemandCalibration/notebooks/od_calibration_sumo_files/quickstart/data/iter_quickstart.current_od.xml\n",
      "### Runing: iter\n",
      "od2trips --no-step-log  --spread.uniform --taz-files /Users/rodrse/Documents/DemandCalibration/notebooks/od_calibration_sumo_files/quickstart/data/quickstart.taz.xml --tazrelation-files /Users/rodrse/Documents/DemandCalibration/notebooks/od_calibration_sumo_files/quickstart/data/iter_quickstart.current_od.xml -o /Users/rodrse/Documents/DemandCalibration/notebooks/od_calibration_sumo_files/quickstart/data/iter_od_trips.trips.xml \n",
      "Success.\n",
      "Loading net-file from '/Users/rodrse/Documents/DemandCalibration/notebooks/od_calibration_sumo_files/quickstart/data/quickstart.net.xml' ... done (8ms).\n",
      "Loading additional-files from '/Users/rodrse/Documents/DemandCalibration/notebooks/od_calibration_sumo_files/quickstart/data/quickstart.additional.xml' ... done (1ms).\n",
      "Loading done.\n",
      "Simulation version 1.16.0 started with time: 54000.00.\n",
      "Step #57600.00 (11ms ~= 90.91*RT, ~88454.55UPS, vehicles TOT 3214 ACT 973 BUF 32)         \n",
      "Simulation ended at time: 57600.00\n",
      "Reason: The final simulation step has been reached.\n",
      "Performance: \n",
      " Duration: 23.19s\n",
      " Real time factor: 155.226\n",
      " UPS: 97102.449120\n",
      "Vehicles: \n",
      " Inserted: 3214 (Loaded: 3246)\n",
      " Running: 973\n",
      " Waiting: 32\n",
      "Statistics (avg of 2241):\n",
      " RouteLength: 4241.43\n",
      " Speed: 11.01\n",
      " Duration: 588.78\n",
      " WaitingTime: 163.25\n",
      " TimeLoss: 281.89\n",
      " DepartDelay: 0.49\n",
      "\n",
      "DijkstraRouter answered 3246 queries and explored 9.58 edges on average.\n",
      "DijkstraRouter spent 0.02s answering queries (0.01ms on average).\n",
      "####### 125 ########\n",
      "##### n=149 #####\n",
      "##### best_value=-0.001436093396988365 #####\n",
      "printing /Users/rodrse/Documents/DemandCalibration/notebooks/od_calibration_sumo_files/quickstart/data/iter_quickstart.current_od.xml\n",
      "### Runing: iter\n",
      "od2trips --no-step-log  --spread.uniform --taz-files /Users/rodrse/Documents/DemandCalibration/notebooks/od_calibration_sumo_files/quickstart/data/quickstart.taz.xml --tazrelation-files /Users/rodrse/Documents/DemandCalibration/notebooks/od_calibration_sumo_files/quickstart/data/iter_quickstart.current_od.xml -o /Users/rodrse/Documents/DemandCalibration/notebooks/od_calibration_sumo_files/quickstart/data/iter_od_trips.trips.xml \n",
      "Success.\n",
      "Loading net-file from '/Users/rodrse/Documents/DemandCalibration/notebooks/od_calibration_sumo_files/quickstart/data/quickstart.net.xml' ... done (6ms).\n",
      "Loading additional-files from '/Users/rodrse/Documents/DemandCalibration/notebooks/od_calibration_sumo_files/quickstart/data/quickstart.additional.xml' ... done (1ms).\n",
      "Loading done.\n",
      "Simulation version 1.16.0 started with time: 54000.00.\n",
      "Step #57600.00 (6ms ~= 166.67*RT, ~120833.33UPS, vehicles TOT 2944 ACT 725 BUF 5)         \n",
      "Simulation ended at time: 57600.00\n",
      "Reason: The final simulation step has been reached.\n",
      "Performance: \n",
      " Duration: 15.30s\n",
      " Real time factor: 235.279\n",
      " UPS: 116491.601856\n",
      "Vehicles: \n",
      " Inserted: 2944 (Loaded: 2949)\n",
      " Running: 725\n",
      " Waiting: 5\n",
      "Statistics (avg of 2219):\n",
      " RouteLength: 4295.43\n",
      " Speed: 11.75\n",
      " Duration: 448.27\n",
      " WaitingTime: 81.18\n",
      " TimeLoss: 137.23\n",
      " DepartDelay: 0.50\n",
      "\n",
      "DijkstraRouter answered 2949 queries and explored 9.69 edges on average.\n",
      "DijkstraRouter spent 0.01s answering queries (0.00ms on average).\n",
      "####### 126 ########\n",
      "##### n=150 #####\n",
      "##### best_value=-0.001436093396988365 #####\n",
      "printing /Users/rodrse/Documents/DemandCalibration/notebooks/od_calibration_sumo_files/quickstart/data/iter_quickstart.current_od.xml\n",
      "### Runing: iter\n",
      "od2trips --no-step-log  --spread.uniform --taz-files /Users/rodrse/Documents/DemandCalibration/notebooks/od_calibration_sumo_files/quickstart/data/quickstart.taz.xml --tazrelation-files /Users/rodrse/Documents/DemandCalibration/notebooks/od_calibration_sumo_files/quickstart/data/iter_quickstart.current_od.xml -o /Users/rodrse/Documents/DemandCalibration/notebooks/od_calibration_sumo_files/quickstart/data/iter_od_trips.trips.xml \n",
      "Success.\n",
      "Loading net-file from '/Users/rodrse/Documents/DemandCalibration/notebooks/od_calibration_sumo_files/quickstart/data/quickstart.net.xml' ... done (9ms).\n",
      "Loading additional-files from '/Users/rodrse/Documents/DemandCalibration/notebooks/od_calibration_sumo_files/quickstart/data/quickstart.additional.xml' ... done (1ms).\n",
      "Loading done.\n",
      "Simulation version 1.16.0 started with time: 54000.00.\n",
      "Step #57100.00 (10ms ~= 100.00*RT, ~86900.00UPS, vehicles TOT 2822 ACT 869 BUF 68)        \r"
     ]
    },
    {
     "name": "stderr",
     "output_type": "stream",
     "text": [
      "Warning: Teleporting vehicle '609'; waited too long (wrong lane), lane='L12_2', time=57188.00.\n",
      "Warning: Vehicle '609' ends teleporting on edge 'L15', time=57188.00.\n"
     ]
    },
    {
     "name": "stdout",
     "output_type": "stream",
     "text": [
      "Step #57200.00 (7ms ~= 142.86*RT, ~117428.57UPS, vehicles TOT 2876 ACT 822 BUF 106)       \r"
     ]
    },
    {
     "name": "stderr",
     "output_type": "stream",
     "text": [
      "Warning: Teleporting vehicle '610'; waited too long (wrong lane), lane='L12_2', time=57218.00.\n",
      "Warning: Vehicle '610' ends teleporting on edge 'L15', time=57221.00.\n",
      "Warning: Teleporting vehicle '612'; waited too long (wrong lane), lane='L12_2', time=57265.00.\n",
      "Warning: Teleporting vehicle '482'; waited too long (jam), lane='L2_0', time=57278.00.\n",
      "Warning: Vehicle '482' ends teleporting on edge 'L12', time=57278.00.\n",
      "Warning: Vehicle '612' ends teleporting on edge 'L15', time=57286.00.\n"
     ]
    },
    {
     "name": "stdout",
     "output_type": "stream",
     "text": [
      "Step #57400.00 (7ms ~= 142.86*RT, ~111857.14UPS, vehicles TOT 2962 ACT 783 BUF 206)       \r"
     ]
    },
    {
     "name": "stderr",
     "output_type": "stream",
     "text": [
      "Warning: Teleporting vehicle '618'; waited too long (wrong lane), lane='L12_2', time=57416.00.\n",
      "Warning: Vehicle '618' ends teleporting on edge 'L15', time=57416.00.\n",
      "Warning: Teleporting vehicle '1615'; waited too long (jam), lane='L2_1', time=57439.00.\n",
      "Warning: Teleporting vehicle '660'; waited too long (jam), lane='L2_1', time=57440.00.\n",
      "Warning: Vehicle '660' ends teleporting on edge 'L12', time=57440.00.\n",
      "Warning: Teleporting vehicle '670'; waited too long (jam), lane='D2_1', time=57455.00.\n",
      "Warning: Vehicle '670' ends teleporting on edge 'L2', time=57455.00.\n"
     ]
    },
    {
     "name": "stdout",
     "output_type": "stream",
     "text": [
      "Step #57500.00 (7ms ~= 142.86*RT, ~113714.29UPS, vehicles TOT 3021 ACT 796 BUF 242)       \r"
     ]
    },
    {
     "name": "stderr",
     "output_type": "stream",
     "text": [
      "Warning: Teleporting vehicle '624'; waited too long (wrong lane), lane='L12_2', time=57502.00.\n",
      "Warning: Vehicle '624' ends teleporting on edge 'L15', time=57502.00.\n",
      "Warning: Vehicle '1615' ends teleporting on edge 'L12', time=57540.00.\n",
      "Warning: Teleporting vehicle '483'; waited too long (jam), lane='L2_0', time=57584.00.\n",
      "Warning: Vehicle '483' ends teleporting on edge 'L12', time=57584.00.\n"
     ]
    },
    {
     "name": "stdout",
     "output_type": "stream",
     "text": [
      "Step #57600.00 (7ms ~= 142.86*RT, ~115142.86UPS, vehicles TOT 3091 ACT 806 BUF 264)       \n",
      "Simulation ended at time: 57600.00\n",
      "Reason: The final simulation step has been reached.\n",
      "Performance: \n",
      " Duration: 21.29s\n",
      " Real time factor: 169.093\n",
      " UPS: 108597.228746\n",
      "Vehicles: \n",
      " Inserted: 3091 (Loaded: 3355)\n",
      " Running: 806\n",
      " Waiting: 264\n",
      " Teleports: 10 (Jam: 5, Wrong Lane: 5)\n",
      "Statistics (avg of 2285):\n",
      " RouteLength: 4361.68\n",
      " Speed: 10.77\n",
      " Duration: 535.86\n",
      " WaitingTime: 105.91\n",
      " TimeLoss: 219.22\n",
      " DepartDelay: 0.49\n",
      "\n",
      "DijkstraRouter answered 3460 queries and explored 9.96 edges on average.\n",
      "DijkstraRouter spent 0.01s answering queries (0.00ms on average).\n",
      "####### 127 ########\n",
      "##### n=151 #####\n",
      "##### best_value=-0.001436093396988365 #####\n",
      "printing /Users/rodrse/Documents/DemandCalibration/notebooks/od_calibration_sumo_files/quickstart/data/iter_quickstart.current_od.xml\n",
      "### Runing: iter\n",
      "od2trips --no-step-log  --spread.uniform --taz-files /Users/rodrse/Documents/DemandCalibration/notebooks/od_calibration_sumo_files/quickstart/data/quickstart.taz.xml --tazrelation-files /Users/rodrse/Documents/DemandCalibration/notebooks/od_calibration_sumo_files/quickstart/data/iter_quickstart.current_od.xml -o /Users/rodrse/Documents/DemandCalibration/notebooks/od_calibration_sumo_files/quickstart/data/iter_od_trips.trips.xml \n",
      "Success.\n",
      "Loading net-file from '/Users/rodrse/Documents/DemandCalibration/notebooks/od_calibration_sumo_files/quickstart/data/quickstart.net.xml' ... done (5ms).\n",
      "Loading additional-files from '/Users/rodrse/Documents/DemandCalibration/notebooks/od_calibration_sumo_files/quickstart/data/quickstart.additional.xml' ... done (1ms).\n",
      "Loading done.\n",
      "Simulation version 1.16.0 started with time: 54000.00.\n",
      "Step #57600.00 (10ms ~= 100.00*RT, ~94400.00UPS, vehicles TOT 3095 ACT 944 BUF 204)       \n",
      "Simulation ended at time: 57600.00\n",
      "Reason: The final simulation step has been reached.\n",
      "Performance: \n",
      " Duration: 26.59s\n",
      " Real time factor: 135.379\n",
      " UPS: 89951.865223\n",
      "Vehicles: \n",
      " Inserted: 3095 (Loaded: 3299)\n",
      " Running: 944\n",
      " Waiting: 204\n",
      "Statistics (avg of 2151):\n",
      " RouteLength: 4279.71\n",
      " Speed: 10.47\n",
      " Duration: 640.27\n",
      " WaitingTime: 184.56\n",
      " TimeLoss: 330.18\n",
      " DepartDelay: 2.33\n",
      "\n",
      "DijkstraRouter answered 3512 queries and explored 9.80 edges on average.\n",
      "DijkstraRouter spent 0.02s answering queries (0.01ms on average).\n",
      "####### 128 ########\n",
      "##### n=152 #####\n",
      "##### best_value=-0.001436093396988365 #####\n",
      "printing /Users/rodrse/Documents/DemandCalibration/notebooks/od_calibration_sumo_files/quickstart/data/iter_quickstart.current_od.xml\n",
      "### Runing: iter\n",
      "od2trips --no-step-log  --spread.uniform --taz-files /Users/rodrse/Documents/DemandCalibration/notebooks/od_calibration_sumo_files/quickstart/data/quickstart.taz.xml --tazrelation-files /Users/rodrse/Documents/DemandCalibration/notebooks/od_calibration_sumo_files/quickstart/data/iter_quickstart.current_od.xml -o /Users/rodrse/Documents/DemandCalibration/notebooks/od_calibration_sumo_files/quickstart/data/iter_od_trips.trips.xml \n",
      "Success.\n",
      "Loading net-file from '/Users/rodrse/Documents/DemandCalibration/notebooks/od_calibration_sumo_files/quickstart/data/quickstart.net.xml' ... done (7ms).\n",
      "Loading additional-files from '/Users/rodrse/Documents/DemandCalibration/notebooks/od_calibration_sumo_files/quickstart/data/quickstart.additional.xml' ... done (1ms).\n",
      "Loading done.\n",
      "Simulation version 1.16.0 started with time: 54000.00.\n",
      "Step #56600.00 (10ms ~= 100.00*RT, ~101600.00UPS, vehicles TOT 2554 ACT 1016 BUF 0)       \r"
     ]
    },
    {
     "name": "stderr",
     "output_type": "stream",
     "text": [
      "Warning: Teleporting vehicle '80'; waited too long (yield), lane='L15_1', time=56688.00.\n",
      "Warning: Vehicle '80' ends teleporting on edge 'L18', time=56688.00.\n"
     ]
    },
    {
     "name": "stdout",
     "output_type": "stream",
     "text": [
      "Step #57000.00 (12ms ~= 83.33*RT, ~79833.33UPS, vehicles TOT 2846 ACT 958 BUF 102)        \r"
     ]
    },
    {
     "name": "stderr",
     "output_type": "stream",
     "text": [
      "Warning: Teleporting vehicle '466'; waited too long (jam), lane='L2_0', time=57043.00.\n",
      "Warning: Vehicle '466' ends teleporting on edge 'L12', time=57043.00.\n",
      "Warning: Teleporting vehicle '591'; waited too long (wrong lane), lane='L12_2', time=57081.00.\n",
      "Warning: Teleporting vehicle '592'; waited too long (wrong lane), lane='L12_2', time=57098.00.\n"
     ]
    },
    {
     "name": "stdout",
     "output_type": "stream",
     "text": [
      "Step #57100.00 (9ms ~= 111.11*RT, ~103555.56UPS, vehicles TOT 2922 ACT 932 BUF 123)       \r"
     ]
    },
    {
     "name": "stderr",
     "output_type": "stream",
     "text": [
      "Warning: Vehicle '591' ends teleporting on edge 'L15', time=57153.00.\n"
     ]
    },
    {
     "name": "stdout",
     "output_type": "stream",
     "text": [
      "Step #57200.00 (9ms ~= 111.11*RT, ~98666.67UPS, vehicles TOT 3001 ACT 888 BUF 142)        \r"
     ]
    },
    {
     "name": "stderr",
     "output_type": "stream",
     "text": [
      "Warning: Vehicle '592' ends teleporting on edge 'L15', time=57216.00.\n"
     ]
    },
    {
     "name": "stdout",
     "output_type": "stream",
     "text": [
      "Step #57300.00 (8ms ~= 125.00*RT, ~108875.00UPS, vehicles TOT 3080 ACT 871 BUF 161)       \r"
     ]
    },
    {
     "name": "stderr",
     "output_type": "stream",
     "text": [
      "Warning: Teleporting vehicle '596'; waited too long (wrong lane), lane='L12_2', time=57311.00.\n",
      "Warning: Vehicle '596' ends teleporting on edge 'L15', time=57311.00.\n",
      "Warning: Teleporting vehicle '467'; waited too long (jam), lane='L2_0', time=57349.00.\n",
      "Warning: Vehicle '467' ends teleporting on edge 'L12', time=57349.00.\n",
      "Warning: Teleporting vehicle '599'; waited too long (wrong lane), lane='L12_2', time=57361.00.\n",
      "Warning: Vehicle '599' ends teleporting on edge 'L15', time=57361.00.\n",
      "Warning: Teleporting vehicle '600'; waited too long (wrong lane), lane='L12_2', time=57362.00.\n",
      "Warning: Teleporting vehicle '604'; waited too long (wrong lane), lane='L12_2', time=57397.00.\n",
      "Warning: Vehicle '600' ends teleporting on edge 'L15', time=57403.00.\n",
      "Warning: Vehicle '604' ends teleporting on edge 'L15', time=57419.00.\n"
     ]
    },
    {
     "name": "stdout",
     "output_type": "stream",
     "text": [
      "Step #57500.00 (10ms ~= 100.00*RT, ~88500.00UPS, vehicles TOT 3235 ACT 885 BUF 202)       \r"
     ]
    },
    {
     "name": "stderr",
     "output_type": "stream",
     "text": [
      "Warning: Teleporting vehicle '653'; waited too long (jam), lane='L2_1', time=57557.00.\n",
      "Warning: Vehicle '653' ends teleporting on edge 'L12', time=57557.00.\n"
     ]
    },
    {
     "name": "stdout",
     "output_type": "stream",
     "text": [
      "Step #57600.00 (9ms ~= 111.11*RT, ~101444.44UPS, vehicles TOT 3317 ACT 913 BUF 219)       \n",
      "Simulation ended at time: 57600.00\n",
      "Reason: The final simulation step has been reached.\n",
      "Performance: \n",
      " Duration: 25.67s\n",
      " Real time factor: 140.258\n",
      " UPS: 100368.527681\n",
      "Vehicles: \n",
      " Inserted: 3317 (Loaded: 3536)\n",
      " Running: 913\n",
      " Waiting: 219\n",
      " Teleports: 10 (Jam: 3, Yield: 1, Wrong Lane: 6)\n",
      "Statistics (avg of 2404):\n",
      " RouteLength: 4395.08\n",
      " Speed: 10.33\n",
      " Duration: 583.40\n",
      " WaitingTime: 97.75\n",
      " TimeLoss: 265.15\n",
      " DepartDelay: 0.49\n",
      "\n",
      "DijkstraRouter answered 3742 queries and explored 10.09 edges on average.\n",
      "DijkstraRouter spent 0.02s answering queries (0.00ms on average).\n",
      "####### 129 ########\n",
      "##### n=153 #####\n",
      "##### best_value=-0.001436093396988365 #####\n",
      "printing /Users/rodrse/Documents/DemandCalibration/notebooks/od_calibration_sumo_files/quickstart/data/iter_quickstart.current_od.xml\n",
      "### Runing: iter\n",
      "od2trips --no-step-log  --spread.uniform --taz-files /Users/rodrse/Documents/DemandCalibration/notebooks/od_calibration_sumo_files/quickstart/data/quickstart.taz.xml --tazrelation-files /Users/rodrse/Documents/DemandCalibration/notebooks/od_calibration_sumo_files/quickstart/data/iter_quickstart.current_od.xml -o /Users/rodrse/Documents/DemandCalibration/notebooks/od_calibration_sumo_files/quickstart/data/iter_od_trips.trips.xml \n",
      "Success.\n",
      "Loading net-file from '/Users/rodrse/Documents/DemandCalibration/notebooks/od_calibration_sumo_files/quickstart/data/quickstart.net.xml' ... done (8ms).\n",
      "Loading additional-files from '/Users/rodrse/Documents/DemandCalibration/notebooks/od_calibration_sumo_files/quickstart/data/quickstart.additional.xml' ... done (1ms).\n",
      "Loading done.\n",
      "Simulation version 1.16.0 started with time: 54000.00.\n",
      "Step #57600.00 (6ms ~= 166.67*RT, ~115333.33UPS, vehicles TOT 2647 ACT 692 BUF 0)         \n",
      "Simulation ended at time: 57600.00\n",
      "Reason: The final simulation step has been reached.\n",
      "Performance: \n",
      " Duration: 14.93s\n",
      " Real time factor: 241.206\n",
      " UPS: 103594.572864\n",
      "Vehicles: \n",
      " Inserted: 2647\n",
      " Running: 692\n",
      " Waiting: 0\n",
      "Statistics (avg of 1955):\n",
      " RouteLength: 4244.16\n",
      " Speed: 11.58\n",
      " Duration: 489.41\n",
      " WaitingTime: 119.65\n",
      " TimeLoss: 180.98\n",
      " DepartDelay: 0.48\n",
      "\n",
      "DijkstraRouter answered 2647 queries and explored 9.44 edges on average.\n",
      "DijkstraRouter spent 0.01s answering queries (0.00ms on average).\n",
      "####### 130 ########\n",
      "##### n=154 #####\n",
      "##### best_value=-0.001436093396988365 #####\n",
      "printing /Users/rodrse/Documents/DemandCalibration/notebooks/od_calibration_sumo_files/quickstart/data/iter_quickstart.current_od.xml\n",
      "### Runing: iter\n",
      "od2trips --no-step-log  --spread.uniform --taz-files /Users/rodrse/Documents/DemandCalibration/notebooks/od_calibration_sumo_files/quickstart/data/quickstart.taz.xml --tazrelation-files /Users/rodrse/Documents/DemandCalibration/notebooks/od_calibration_sumo_files/quickstart/data/iter_quickstart.current_od.xml -o /Users/rodrse/Documents/DemandCalibration/notebooks/od_calibration_sumo_files/quickstart/data/iter_od_trips.trips.xml \n",
      "Success.\n",
      "Loading net-file from '/Users/rodrse/Documents/DemandCalibration/notebooks/od_calibration_sumo_files/quickstart/data/quickstart.net.xml' ... done (6ms).\n",
      "Loading additional-files from '/Users/rodrse/Documents/DemandCalibration/notebooks/od_calibration_sumo_files/quickstart/data/quickstart.additional.xml' ... done (1ms).\n",
      "Loading done.\n",
      "Simulation version 1.16.0 started with time: 54000.00.\n",
      "Step #57600.00 (7ms ~= 142.86*RT, ~115000.00UPS, vehicles TOT 2715 ACT 805 BUF 0)         \n",
      "Simulation ended at time: 57600.00\n",
      "Reason: The final simulation step has been reached.\n",
      "Performance: \n",
      " Duration: 16.64s\n",
      " Real time factor: 216.346\n",
      " UPS: 103936.418269\n",
      "Vehicles: \n",
      " Inserted: 2715\n",
      " Running: 805\n",
      " Waiting: 0\n",
      "Statistics (avg of 1910):\n",
      " RouteLength: 4404.02\n",
      " Speed: 12.59\n",
      " Duration: 415.65\n",
      " WaitingTime: 64.74\n",
      " TimeLoss: 96.67\n",
      " DepartDelay: 0.49\n",
      "\n",
      "DijkstraRouter answered 2715 queries and explored 10.73 edges on average.\n",
      "DijkstraRouter spent 0.02s answering queries (0.01ms on average).\n",
      "####### 131 ########\n",
      "##### n=155 #####\n",
      "##### best_value=-0.001436093396988365 #####\n",
      "printing /Users/rodrse/Documents/DemandCalibration/notebooks/od_calibration_sumo_files/quickstart/data/iter_quickstart.current_od.xml\n",
      "### Runing: iter\n",
      "od2trips --no-step-log  --spread.uniform --taz-files /Users/rodrse/Documents/DemandCalibration/notebooks/od_calibration_sumo_files/quickstart/data/quickstart.taz.xml --tazrelation-files /Users/rodrse/Documents/DemandCalibration/notebooks/od_calibration_sumo_files/quickstart/data/iter_quickstart.current_od.xml -o /Users/rodrse/Documents/DemandCalibration/notebooks/od_calibration_sumo_files/quickstart/data/iter_od_trips.trips.xml \n",
      "Success.\n",
      "Loading net-file from '/Users/rodrse/Documents/DemandCalibration/notebooks/od_calibration_sumo_files/quickstart/data/quickstart.net.xml' ... done (7ms).\n",
      "Loading additional-files from '/Users/rodrse/Documents/DemandCalibration/notebooks/od_calibration_sumo_files/quickstart/data/quickstart.additional.xml' ... done (1ms).\n",
      "Loading done.\n",
      "Simulation version 1.16.0 started with time: 54000.00.\n",
      "Step #57600.00 (8ms ~= 125.00*RT, ~100625.00UPS, vehicles TOT 2827 ACT 805 BUF 0)         \n",
      "Simulation ended at time: 57600.00\n",
      "Reason: The final simulation step has been reached.\n",
      "Performance: \n",
      " Duration: 17.55s\n",
      " Real time factor: 205.152\n",
      " UPS: 105710.907226\n",
      "Vehicles: \n",
      " Inserted: 2827\n",
      " Running: 805\n",
      " Waiting: 0\n",
      "Statistics (avg of 2022):\n",
      " RouteLength: 4264.19\n",
      " Speed: 10.99\n",
      " Duration: 573.21\n",
      " WaitingTime: 157.72\n",
      " TimeLoss: 264.05\n",
      " DepartDelay: 0.50\n",
      "\n",
      "DijkstraRouter answered 2827 queries and explored 9.60 edges on average.\n",
      "DijkstraRouter spent 0.01s answering queries (0.00ms on average).\n",
      "####### 132 ########\n",
      "##### n=156 #####\n",
      "##### best_value=-0.001436093396988365 #####\n",
      "printing /Users/rodrse/Documents/DemandCalibration/notebooks/od_calibration_sumo_files/quickstart/data/iter_quickstart.current_od.xml\n",
      "### Runing: iter\n",
      "od2trips --no-step-log  --spread.uniform --taz-files /Users/rodrse/Documents/DemandCalibration/notebooks/od_calibration_sumo_files/quickstart/data/quickstart.taz.xml --tazrelation-files /Users/rodrse/Documents/DemandCalibration/notebooks/od_calibration_sumo_files/quickstart/data/iter_quickstart.current_od.xml -o /Users/rodrse/Documents/DemandCalibration/notebooks/od_calibration_sumo_files/quickstart/data/iter_od_trips.trips.xml \n",
      "Success.\n",
      "Loading net-file from '/Users/rodrse/Documents/DemandCalibration/notebooks/od_calibration_sumo_files/quickstart/data/quickstart.net.xml' ... done (5ms).\n",
      "Loading additional-files from '/Users/rodrse/Documents/DemandCalibration/notebooks/od_calibration_sumo_files/quickstart/data/quickstart.additional.xml' ... done (1ms).\n",
      "Loading done.\n",
      "Simulation version 1.16.0 started with time: 54000.00.\n",
      "Step #57600.00 (3ms ~= 333.33*RT, ~166666.67UPS, vehicles TOT 2678 ACT 500 BUF 0)         \n",
      "Simulation ended at time: 57600.00\n",
      "Reason: The final simulation step has been reached.\n",
      "Performance: \n",
      " Duration: 10.58s\n",
      " Real time factor: 340.329\n",
      " UPS: 122281.149556\n",
      "Vehicles: \n",
      " Inserted: 2678\n",
      " Running: 500\n",
      " Waiting: 0\n",
      "Statistics (avg of 2178):\n",
      " RouteLength: 4417.53\n",
      " Speed: 12.40\n",
      " Duration: 406.87\n",
      " WaitingTime: 55.38\n",
      " TimeLoss: 86.46\n",
      " DepartDelay: 0.49\n",
      "\n",
      "DijkstraRouter answered 2678 queries and explored 10.33 edges on average.\n",
      "DijkstraRouter spent 0.01s answering queries (0.00ms on average).\n",
      "####### 133 ########\n",
      "##### n=157 #####\n",
      "##### best_value=-0.001436093396988365 #####\n",
      "printing /Users/rodrse/Documents/DemandCalibration/notebooks/od_calibration_sumo_files/quickstart/data/iter_quickstart.current_od.xml\n",
      "### Runing: iter\n",
      "od2trips --no-step-log  --spread.uniform --taz-files /Users/rodrse/Documents/DemandCalibration/notebooks/od_calibration_sumo_files/quickstart/data/quickstart.taz.xml --tazrelation-files /Users/rodrse/Documents/DemandCalibration/notebooks/od_calibration_sumo_files/quickstart/data/iter_quickstart.current_od.xml -o /Users/rodrse/Documents/DemandCalibration/notebooks/od_calibration_sumo_files/quickstart/data/iter_od_trips.trips.xml \n",
      "Success.\n",
      "Loading net-file from '/Users/rodrse/Documents/DemandCalibration/notebooks/od_calibration_sumo_files/quickstart/data/quickstart.net.xml' ... done (6ms).\n",
      "Loading additional-files from '/Users/rodrse/Documents/DemandCalibration/notebooks/od_calibration_sumo_files/quickstart/data/quickstart.additional.xml' ... done (1ms).\n",
      "Loading done.\n",
      "Simulation version 1.16.0 started with time: 54000.00.\n",
      "Step #56700.00 (4ms ~= 250.00*RT, ~161750.00UPS, vehicles TOT 2035 ACT 647 BUF 0)         \r"
     ]
    },
    {
     "name": "stderr",
     "output_type": "stream",
     "text": [
      "Warning: Teleporting vehicle '422'; waited too long (wrong lane), lane='L15_0', time=56743.00.\n",
      "Warning: Vehicle '422' ends teleporting on edge 'L18', time=56743.00.\n",
      "Warning: Teleporting vehicle '419'; waited too long (wrong lane), lane='L15_0', time=56744.00.\n",
      "Warning: Vehicle '419' ends teleporting on edge 'L18', time=56744.00.\n"
     ]
    },
    {
     "name": "stdout",
     "output_type": "stream",
     "text": [
      "Step #57400.00 (5ms ~= 200.00*RT, ~135600.00UPS, vehicles TOT 2564 ACT 678 BUF 0)         \r"
     ]
    },
    {
     "name": "stderr",
     "output_type": "stream",
     "text": [
      "Warning: Teleporting vehicle '542'; waited too long (wrong lane), lane='L15_0', time=57495.00.\n",
      "Warning: Vehicle '542' ends teleporting on edge 'L18', time=57495.00.\n",
      "Warning: Teleporting vehicle '535'; waited too long (wrong lane), lane='L15_0', time=57496.00.\n",
      "Warning: Vehicle '535' ends teleporting on edge 'L18', time=57496.00.\n",
      "Warning: Teleporting vehicle '543'; waited too long (wrong lane), lane='L15_0', time=57497.00.\n",
      "Warning: Vehicle '543' ends teleporting on edge 'L18', time=57497.00.\n"
     ]
    },
    {
     "name": "stdout",
     "output_type": "stream",
     "text": [
      "Step #57500.00 (5ms ~= 200.00*RT, ~136800.00UPS, vehicles TOT 2638 ACT 684 BUF 0)         \r"
     ]
    },
    {
     "name": "stderr",
     "output_type": "stream",
     "text": [
      "Warning: Teleporting vehicle '533'; waited too long (wrong lane), lane='L15_0', time=57549.00.\n",
      "Warning: Vehicle '533' ends teleporting on edge 'L18', time=57549.00.\n"
     ]
    },
    {
     "name": "stdout",
     "output_type": "stream",
     "text": [
      "Step #57600.00 (7ms ~= 142.86*RT, ~99285.71UPS, vehicles TOT 2714 ACT 695 BUF 0)          \n",
      "Simulation ended at time: 57600.00\n",
      "Reason: The final simulation step has been reached.\n",
      "Performance: \n",
      " Duration: 14.41s\n",
      " Real time factor: 249.861\n",
      " UPS: 118743.475847\n",
      "Vehicles: \n",
      " Inserted: 2714\n",
      " Running: 695\n",
      " Waiting: 0\n",
      " Teleports: 6 (Wrong Lane: 6)\n",
      "Statistics (avg of 2019):\n",
      " RouteLength: 4325.82\n",
      " Speed: 11.33\n",
      " Duration: 489.82\n",
      " WaitingTime: 103.24\n",
      " TimeLoss: 176.13\n",
      " DepartDelay: 0.49\n",
      "\n",
      "DijkstraRouter answered 2714 queries and explored 9.84 edges on average.\n",
      "DijkstraRouter spent 0.01s answering queries (0.00ms on average).\n",
      "####### 134 ########\n",
      "##### n=158 #####\n",
      "##### best_value=-0.001436093396988365 #####\n",
      "printing /Users/rodrse/Documents/DemandCalibration/notebooks/od_calibration_sumo_files/quickstart/data/iter_quickstart.current_od.xml\n",
      "### Runing: iter\n",
      "od2trips --no-step-log  --spread.uniform --taz-files /Users/rodrse/Documents/DemandCalibration/notebooks/od_calibration_sumo_files/quickstart/data/quickstart.taz.xml --tazrelation-files /Users/rodrse/Documents/DemandCalibration/notebooks/od_calibration_sumo_files/quickstart/data/iter_quickstart.current_od.xml -o /Users/rodrse/Documents/DemandCalibration/notebooks/od_calibration_sumo_files/quickstart/data/iter_od_trips.trips.xml \n",
      "Success.\n",
      "Loading net-file from '/Users/rodrse/Documents/DemandCalibration/notebooks/od_calibration_sumo_files/quickstart/data/quickstart.net.xml' ... done (6ms).\n",
      "Loading additional-files from '/Users/rodrse/Documents/DemandCalibration/notebooks/od_calibration_sumo_files/quickstart/data/quickstart.additional.xml' ... done (1ms).\n",
      "Loading done.\n",
      "Simulation version 1.16.0 started with time: 54000.00.\n",
      "Step #57300.00 (8ms ~= 125.00*RT, ~103375.00UPS, vehicles TOT 2839 ACT 827 BUF 0)         \r"
     ]
    },
    {
     "name": "stderr",
     "output_type": "stream",
     "text": [
      "Warning: Teleporting vehicle '625'; waited too long (wrong lane), lane='L12_2', time=57353.00.\n",
      "Warning: Vehicle '625' ends teleporting on edge 'L15', time=57353.00.\n",
      "Warning: Teleporting vehicle '626'; waited too long (wrong lane), lane='L12_2', time=57354.00.\n",
      "Warning: Teleporting vehicle '629'; waited too long (wrong lane), lane='L12_2', time=57384.00.\n",
      "Warning: Vehicle '626' ends teleporting on edge 'L15', time=57397.00.\n"
     ]
    },
    {
     "name": "stdout",
     "output_type": "stream",
     "text": [
      "Step #57400.00 (9ms ~= 111.11*RT, ~95222.22UPS, vehicles TOT 2925 ACT 857 BUF 0)          \r"
     ]
    },
    {
     "name": "stderr",
     "output_type": "stream",
     "text": [
      "Warning: Teleporting vehicle '632'; waited too long (wrong lane), lane='L12_2', time=57448.00.\n",
      "Warning: Teleporting vehicle '633'; waited too long (wrong lane), lane='L12_2', time=57477.00.\n",
      "Warning: Teleporting vehicle '497'; waited too long (jam), lane=':1_3_1', time=57483.00.\n",
      "Warning: Vehicle '497' ends teleporting on edge 'L12', time=57483.00.\n"
     ]
    },
    {
     "name": "stdout",
     "output_type": "stream",
     "text": [
      "Step #57500.00 (8ms ~= 125.00*RT, ~110875.00UPS, vehicles TOT 3010 ACT 887 BUF 0)         \r"
     ]
    },
    {
     "name": "stderr",
     "output_type": "stream",
     "text": [
      "Warning: Vehicle '629' ends teleporting on edge 'L15', time=57522.00.\n",
      "Warning: Teleporting vehicle '639'; waited too long (wrong lane), lane='L12_2', time=57551.00.\n",
      "Warning: Vehicle '632' ends teleporting on edge 'L15', time=57575.00.\n"
     ]
    },
    {
     "name": "stdout",
     "output_type": "stream",
     "text": [
      "Step #57600.00 (10ms ~= 100.00*RT, ~91500.00UPS, vehicles TOT 3097 ACT 915 BUF 0)         \n",
      "Simulation ended at time: 57600.00\n",
      "Reason: The final simulation step has been reached.\n",
      "Performance: \n",
      " Duration: 17.26s\n",
      " Real time factor: 208.599\n",
      " UPS: 113637.559393\n",
      "Vehicles: \n",
      " Inserted: 3097\n",
      " Running: 915\n",
      " Waiting: 0\n",
      " Teleports: 7 (Jam: 1, Wrong Lane: 6)\n",
      "Statistics (avg of 2182):\n",
      " RouteLength: 4387.24\n",
      " Speed: 12.31\n",
      " Duration: 424.72\n",
      " WaitingTime: 70.16\n",
      " TimeLoss: 106.37\n",
      " DepartDelay: 0.49\n",
      "\n",
      "DijkstraRouter answered 3097 queries and explored 10.48 edges on average.\n",
      "DijkstraRouter spent 0.01s answering queries (0.00ms on average).\n",
      "####### 135 ########\n",
      "##### n=159 #####\n",
      "##### best_value=-0.001436093396988365 #####\n",
      "printing /Users/rodrse/Documents/DemandCalibration/notebooks/od_calibration_sumo_files/quickstart/data/iter_quickstart.current_od.xml\n",
      "### Runing: iter\n",
      "od2trips --no-step-log  --spread.uniform --taz-files /Users/rodrse/Documents/DemandCalibration/notebooks/od_calibration_sumo_files/quickstart/data/quickstart.taz.xml --tazrelation-files /Users/rodrse/Documents/DemandCalibration/notebooks/od_calibration_sumo_files/quickstart/data/iter_quickstart.current_od.xml -o /Users/rodrse/Documents/DemandCalibration/notebooks/od_calibration_sumo_files/quickstart/data/iter_od_trips.trips.xml \n",
      "Success.\n",
      "Loading net-file from '/Users/rodrse/Documents/DemandCalibration/notebooks/od_calibration_sumo_files/quickstart/data/quickstart.net.xml' ... done (6ms).\n",
      "Loading additional-files from '/Users/rodrse/Documents/DemandCalibration/notebooks/od_calibration_sumo_files/quickstart/data/quickstart.additional.xml' ... done (1ms).\n",
      "Loading done.\n",
      "Simulation version 1.16.0 started with time: 54000.00.\n",
      "Step #57600.00 (5ms ~= 200.00*RT, ~107800.00UPS, vehicles TOT 2229 ACT 539 BUF 0)         \n",
      "Simulation ended at time: 57600.00\n",
      "Reason: The final simulation step has been reached.\n",
      "Performance: \n",
      " Duration: 10.00s\n",
      " Real time factor: 360.18\n",
      " UPS: 125427.013507\n",
      "Vehicles: \n",
      " Inserted: 2229\n",
      " Running: 539\n",
      " Waiting: 0\n",
      "Statistics (avg of 1690):\n",
      " RouteLength: 4438.27\n",
      " Speed: 11.25\n",
      " Duration: 480.90\n",
      " WaitingTime: 100.42\n",
      " TimeLoss: 158.76\n",
      " DepartDelay: 0.49\n",
      "\n",
      "DijkstraRouter answered 2229 queries and explored 10.24 edges on average.\n",
      "DijkstraRouter spent 0.01s answering queries (0.00ms on average).\n",
      "####### 136 ########\n",
      "##### n=160 #####\n",
      "##### best_value=-0.001436093396988365 #####\n",
      "printing /Users/rodrse/Documents/DemandCalibration/notebooks/od_calibration_sumo_files/quickstart/data/iter_quickstart.current_od.xml\n",
      "### Runing: iter\n",
      "od2trips --no-step-log  --spread.uniform --taz-files /Users/rodrse/Documents/DemandCalibration/notebooks/od_calibration_sumo_files/quickstart/data/quickstart.taz.xml --tazrelation-files /Users/rodrse/Documents/DemandCalibration/notebooks/od_calibration_sumo_files/quickstart/data/iter_quickstart.current_od.xml -o /Users/rodrse/Documents/DemandCalibration/notebooks/od_calibration_sumo_files/quickstart/data/iter_od_trips.trips.xml \n",
      "Success.\n",
      "Loading net-file from '/Users/rodrse/Documents/DemandCalibration/notebooks/od_calibration_sumo_files/quickstart/data/quickstart.net.xml' ... done (6ms).\n",
      "Loading additional-files from '/Users/rodrse/Documents/DemandCalibration/notebooks/od_calibration_sumo_files/quickstart/data/quickstart.additional.xml' ... done (1ms).\n",
      "Loading done.\n",
      "Simulation version 1.16.0 started with time: 54000.00.\n",
      "Step #57600.00 (8ms ~= 125.00*RT, ~104125.00UPS, vehicles TOT 3018 ACT 833 BUF 0)         \n",
      "Simulation ended at time: 57600.00\n",
      "Reason: The final simulation step has been reached.\n",
      "Performance: \n",
      " Duration: 20.20s\n",
      " Real time factor: 178.253\n",
      " UPS: 103065.508021\n",
      "Vehicles: \n",
      " Inserted: 3018\n",
      " Running: 833\n",
      " Waiting: 0\n",
      "Statistics (avg of 2185):\n",
      " RouteLength: 4278.25\n",
      " Speed: 10.78\n",
      " Duration: 574.86\n",
      " WaitingTime: 133.54\n",
      " TimeLoss: 264.52\n",
      " DepartDelay: 0.48\n",
      "\n",
      "DijkstraRouter answered 3018 queries and explored 9.65 edges on average.\n",
      "DijkstraRouter spent 0.02s answering queries (0.01ms on average).\n",
      "####### 137 ########\n",
      "##### n=161 #####\n",
      "##### best_value=-0.001436093396988365 #####\n",
      "printing /Users/rodrse/Documents/DemandCalibration/notebooks/od_calibration_sumo_files/quickstart/data/iter_quickstart.current_od.xml\n",
      "### Runing: iter\n",
      "od2trips --no-step-log  --spread.uniform --taz-files /Users/rodrse/Documents/DemandCalibration/notebooks/od_calibration_sumo_files/quickstart/data/quickstart.taz.xml --tazrelation-files /Users/rodrse/Documents/DemandCalibration/notebooks/od_calibration_sumo_files/quickstart/data/iter_quickstart.current_od.xml -o /Users/rodrse/Documents/DemandCalibration/notebooks/od_calibration_sumo_files/quickstart/data/iter_od_trips.trips.xml \n",
      "Success.\n",
      "Loading net-file from '/Users/rodrse/Documents/DemandCalibration/notebooks/od_calibration_sumo_files/quickstart/data/quickstart.net.xml' ... done (6ms).\n",
      "Loading additional-files from '/Users/rodrse/Documents/DemandCalibration/notebooks/od_calibration_sumo_files/quickstart/data/quickstart.additional.xml' ... done (1ms).\n",
      "Loading done.\n",
      "Simulation version 1.16.0 started with time: 54000.00.\n",
      "Step #56800.00 (7ms ~= 142.86*RT, ~109571.43UPS, vehicles TOT 2243 ACT 767 BUF 0)         \r"
     ]
    },
    {
     "name": "stderr",
     "output_type": "stream",
     "text": [
      "Warning: Teleporting vehicle '418'; waited too long (wrong lane), lane='L15_0', time=56869.00.\n",
      "Warning: Vehicle '418' ends teleporting on edge 'L18', time=56869.00.\n"
     ]
    },
    {
     "name": "stdout",
     "output_type": "stream",
     "text": [
      "Step #56900.00 (6ms ~= 166.67*RT, ~132166.67UPS, vehicles TOT 2323 ACT 793 BUF 0)         \r"
     ]
    },
    {
     "name": "stderr",
     "output_type": "stream",
     "text": [
      "Warning: Teleporting vehicle '443'; waited too long (wrong lane), lane='L15_0', time=56905.00.\n",
      "Warning: Vehicle '443' ends teleporting on edge 'L18', time=56905.00.\n",
      "Warning: Teleporting vehicle '576'; waited too long (jam), lane='L12_0', time=56934.00.\n",
      "Warning: Vehicle '576' ends teleporting on edge 'L15', time=56970.00.\n",
      "Warning: Teleporting vehicle '604'; waited too long (jam), lane='L2_0', time=56980.00.\n",
      "Warning: Vehicle '604' ends teleporting on edge 'L12', time=56980.00.\n"
     ]
    },
    {
     "name": "stdout",
     "output_type": "stream",
     "text": [
      "Step #57000.00 (7ms ~= 142.86*RT, ~118285.71UPS, vehicles TOT 2403 ACT 828 BUF 0)         \r"
     ]
    },
    {
     "name": "stderr",
     "output_type": "stream",
     "text": [
      "Warning: Teleporting vehicle '465'; waited too long (wrong lane), lane='L15_0', time=57012.00.\n",
      "Warning: Vehicle '465' ends teleporting on edge 'L18', time=57012.00.\n",
      "Warning: Teleporting vehicle '468'; waited too long (wrong lane), lane='L15_0', time=57013.00.\n",
      "Warning: Vehicle '468' ends teleporting on edge 'L18', time=57013.00.\n",
      "Warning: Teleporting vehicle '475'; waited too long (wrong lane), lane='L15_0', time=57014.00.\n",
      "Warning: Vehicle '475' ends teleporting on edge 'L18', time=57014.00.\n",
      "Warning: Teleporting vehicle '438'; waited too long (wrong lane), lane='L15_0', time=57015.00.\n",
      "Warning: Vehicle '438' ends teleporting on edge 'L18', time=57015.00.\n",
      "Warning: Teleporting vehicle '477'; waited too long (wrong lane), lane='L15_0', time=57024.00.\n",
      "Warning: Vehicle '477' ends teleporting on edge 'L18', time=57024.00.\n",
      "Warning: Teleporting vehicle '482'; waited too long (wrong lane), lane='L15_0', time=57025.00.\n",
      "Warning: Vehicle '482' ends teleporting on edge 'L18', time=57025.00.\n"
     ]
    },
    {
     "name": "stdout",
     "output_type": "stream",
     "text": [
      "Step #57100.00 (7ms ~= 142.86*RT, ~117571.43UPS, vehicles TOT 2465 ACT 823 BUF 17)        \r"
     ]
    },
    {
     "name": "stderr",
     "output_type": "stream",
     "text": [
      "Warning: Teleporting vehicle '398'; waited too long (jam), lane='L12_1', time=57157.00.\n",
      "Warning: Teleporting vehicle '435'; waited too long (wrong lane), lane='L15_0', time=57164.00.\n",
      "Warning: Vehicle '435' ends teleporting on edge 'L18', time=57164.00.\n",
      "Warning: Teleporting vehicle '467'; waited too long (wrong lane), lane='L15_0', time=57165.00.\n",
      "Warning: Vehicle '467' ends teleporting on edge 'L18', time=57165.00.\n",
      "Warning: Teleporting vehicle '483'; waited too long (wrong lane), lane='L15_0', time=57166.00.\n",
      "Warning: Vehicle '483' ends teleporting on edge 'L18', time=57166.00.\n",
      "Warning: Teleporting vehicle '488'; waited too long (wrong lane), lane='L15_0', time=57167.00.\n",
      "Warning: Vehicle '488' ends teleporting on edge 'L18', time=57167.00.\n",
      "Warning: Teleporting vehicle '442'; waited too long (wrong lane), lane='L15_0', time=57168.00.\n",
      "Warning: Vehicle '442' ends teleporting on edge 'L18', time=57168.00.\n",
      "Warning: Teleporting vehicle '444'; waited too long (wrong lane), lane='L15_0', time=57169.00.\n",
      "Warning: Vehicle '444' ends teleporting on edge 'L18', time=57169.00.\n",
      "Warning: Teleporting vehicle '446'; waited too long (wrong lane), lane='L15_0', time=57170.00.\n",
      "Warning: Vehicle '446' ends teleporting on edge 'L18', time=57170.00.\n",
      "Warning: Teleporting vehicle '490'; waited too long (wrong lane), lane='L15_0', time=57171.00.\n",
      "Warning: Vehicle '490' ends teleporting on edge 'L18', time=57171.00.\n",
      "Warning: Teleporting vehicle '492'; waited too long (wrong lane), lane='L15_0', time=57172.00.\n",
      "Warning: Vehicle '492' ends teleporting on edge 'L18', time=57172.00.\n"
     ]
    },
    {
     "name": "stdout",
     "output_type": "stream",
     "text": [
      "Step #57200.00 (6ms ~= 166.67*RT, ~133000.00UPS, vehicles TOT 2516 ACT 798 BUF 46)        \r"
     ]
    },
    {
     "name": "stderr",
     "output_type": "stream",
     "text": [
      "Warning: Teleporting vehicle '568'; waited too long (jam), lane='L12_0', time=57241.00.\n",
      "Warning: Teleporting vehicle '585'; waited too long (jam), lane='L12_0', time=57242.00.\n",
      "Warning: Teleporting vehicle '605'; waited too long (jam), lane='L2_0', time=57285.00.\n",
      "Warning: Vehicle '605' ends teleporting on edge 'L12', time=57285.00.\n",
      "Warning: Vehicle '398' ends teleporting on edge 'L15', time=57306.00.\n"
     ]
    },
    {
     "name": "stdout",
     "output_type": "stream",
     "text": [
      "Step #57300.00 (6ms ~= 166.67*RT, ~131166.67UPS, vehicles TOT 2552 ACT 787 BUF 91)        \r"
     ]
    },
    {
     "name": "stderr",
     "output_type": "stream",
     "text": [
      "Warning: Vehicle '568' ends teleporting on edge 'L15', time=57323.00.\n"
     ]
    },
    {
     "name": "stdout",
     "output_type": "stream",
     "text": [
      "Step #57400.00 (7ms ~= 142.86*RT, ~111285.71UPS, vehicles TOT 2587 ACT 779 BUF 136)       \r"
     ]
    },
    {
     "name": "stderr",
     "output_type": "stream",
     "text": [
      "Warning: Teleporting vehicle '510'; waited too long (wrong lane), lane='L15_0', time=57404.00.\n",
      "Warning: Vehicle '510' ends teleporting on edge 'L18', time=57404.00.\n",
      "Warning: Teleporting vehicle '481'; waited too long (wrong lane), lane='L15_0', time=57405.00.\n",
      "Warning: Vehicle '481' ends teleporting on edge 'L18', time=57405.00.\n",
      "Warning: Teleporting vehicle '504'; waited too long (wrong lane), lane='L15_0', time=57406.00.\n",
      "Warning: Vehicle '504' ends teleporting on edge 'L18', time=57406.00.\n",
      "Warning: Teleporting vehicle '473'; waited too long (wrong lane), lane='L15_0', time=57407.00.\n",
      "Warning: Vehicle '473' ends teleporting on edge 'L18', time=57407.00.\n",
      "Warning: Teleporting vehicle '508'; waited too long (wrong lane), lane='L15_0', time=57408.00.\n",
      "Warning: Vehicle '508' ends teleporting on edge 'L18', time=57408.00.\n",
      "Warning: Teleporting vehicle '497'; waited too long (wrong lane), lane='L15_0', time=57409.00.\n",
      "Warning: Vehicle '497' ends teleporting on edge 'L18', time=57409.00.\n",
      "Warning: Teleporting vehicle '499'; waited too long (wrong lane), lane='L15_0', time=57410.00.\n",
      "Warning: Vehicle '499' ends teleporting on edge 'L18', time=57410.00.\n",
      "Warning: Teleporting vehicle '505'; waited too long (wrong lane), lane='L15_0', time=57411.00.\n",
      "Warning: Vehicle '505' ends teleporting on edge 'L18', time=57411.00.\n",
      "Warning: Teleporting vehicle '509'; waited too long (wrong lane), lane='L15_0', time=57412.00.\n",
      "Warning: Vehicle '509' ends teleporting on edge 'L18', time=57412.00.\n",
      "Warning: Teleporting vehicle '513'; waited too long (wrong lane), lane='L15_0', time=57413.00.\n",
      "Warning: Vehicle '513' ends teleporting on edge 'L18', time=57413.00.\n",
      "Warning: Teleporting vehicle '518'; waited too long (wrong lane), lane='L15_0', time=57414.00.\n",
      "Warning: Vehicle '518' ends teleporting on edge 'L18', time=57414.00.\n",
      "Warning: Teleporting vehicle '520'; waited too long (wrong lane), lane='L15_0', time=57415.00.\n",
      "Warning: Vehicle '520' ends teleporting on edge 'L18', time=57415.00.\n",
      "Warning: Teleporting vehicle '526'; waited too long (wrong lane), lane='L15_0', time=57416.00.\n",
      "Warning: Vehicle '526' ends teleporting on edge 'L18', time=57416.00.\n",
      "Warning: Teleporting vehicle '507'; waited too long (wrong lane), lane='L15_0', time=57417.00.\n",
      "Warning: Vehicle '507' ends teleporting on edge 'L18', time=57417.00.\n",
      "Warning: Teleporting vehicle '530'; waited too long (wrong lane), lane='L15_0', time=57418.00.\n",
      "Warning: Vehicle '530' ends teleporting on edge 'L18', time=57418.00.\n",
      "Warning: Teleporting vehicle '517'; waited too long (wrong lane), lane='L15_0', time=57419.00.\n",
      "Warning: Vehicle '517' ends teleporting on edge 'L18', time=57419.00.\n",
      "Warning: Teleporting vehicle '521'; waited too long (wrong lane), lane='L15_0', time=57420.00.\n",
      "Warning: Vehicle '521' ends teleporting on edge 'L18', time=57420.00.\n",
      "Warning: Teleporting vehicle '525'; waited too long (wrong lane), lane='L15_0', time=57421.00.\n",
      "Warning: Vehicle '525' ends teleporting on edge 'L18', time=57421.00.\n",
      "Warning: Teleporting vehicle '532'; waited too long (wrong lane), lane='L15_0', time=57422.00.\n",
      "Warning: Vehicle '532' ends teleporting on edge 'L18', time=57422.00.\n",
      "Warning: Teleporting vehicle '534'; waited too long (wrong lane), lane='L15_0', time=57423.00.\n",
      "Warning: Vehicle '534' ends teleporting on edge 'L18', time=57423.00.\n",
      "Warning: Teleporting vehicle '536'; waited too long (wrong lane), lane='L15_0', time=57424.00.\n",
      "Warning: Vehicle '536' ends teleporting on edge 'L18', time=57424.00.\n",
      "Warning: Teleporting vehicle '528'; waited too long (wrong lane), lane='L15_0', time=57425.00.\n",
      "Warning: Vehicle '528' ends teleporting on edge 'L18', time=57425.00.\n",
      "Warning: Teleporting vehicle '533'; waited too long (wrong lane), lane='L15_0', time=57426.00.\n",
      "Warning: Vehicle '533' ends teleporting on edge 'L18', time=57426.00.\n",
      "Warning: Teleporting vehicle '537'; waited too long (wrong lane), lane='L15_0', time=57427.00.\n",
      "Warning: Vehicle '537' ends teleporting on edge 'L18', time=57427.00.\n",
      "Warning: Teleporting vehicle '543'; waited too long (wrong lane), lane='L15_0', time=57428.00.\n",
      "Warning: Vehicle '543' ends teleporting on edge 'L18', time=57428.00.\n",
      "Warning: Teleporting vehicle '500'; waited too long (wrong lane), lane='L15_0', time=57429.00.\n",
      "Warning: Vehicle '500' ends teleporting on edge 'L18', time=57429.00.\n",
      "Warning: Teleporting vehicle '541'; waited too long (wrong lane), lane='L15_0', time=57430.00.\n",
      "Warning: Vehicle '541' ends teleporting on edge 'L18', time=57430.00.\n",
      "Warning: Teleporting vehicle '544'; waited too long (wrong lane), lane='L15_0', time=57431.00.\n",
      "Warning: Vehicle '544' ends teleporting on edge 'L18', time=57431.00.\n",
      "Warning: Teleporting vehicle '522'; waited too long (wrong lane), lane='L15_0', time=57432.00.\n",
      "Warning: Vehicle '522' ends teleporting on edge 'L18', time=57432.00.\n",
      "Warning: Teleporting vehicle '524'; waited too long (wrong lane), lane='L15_0', time=57433.00.\n",
      "Warning: Vehicle '524' ends teleporting on edge 'L18', time=57433.00.\n",
      "Warning: Teleporting vehicle '531'; waited too long (wrong lane), lane='L15_0', time=57434.00.\n",
      "Warning: Vehicle '531' ends teleporting on edge 'L18', time=57434.00.\n",
      "Warning: Teleporting vehicle '545'; waited too long (wrong lane), lane='L15_0', time=57435.00.\n",
      "Warning: Vehicle '545' ends teleporting on edge 'L18', time=57435.00.\n",
      "Warning: Teleporting vehicle '547'; waited too long (wrong lane), lane='L15_0', time=57436.00.\n",
      "Warning: Vehicle '547' ends teleporting on edge 'L18', time=57436.00.\n",
      "Warning: Teleporting vehicle '535'; waited too long (wrong lane), lane='L15_0', time=57437.00.\n",
      "Warning: Vehicle '535' ends teleporting on edge 'L18', time=57437.00.\n",
      "Warning: Teleporting vehicle '553'; waited too long (wrong lane), lane='L15_0', time=57438.00.\n",
      "Warning: Vehicle '553' ends teleporting on edge 'L18', time=57438.00.\n",
      "Warning: Teleporting vehicle '550'; waited too long (wrong lane), lane='L15_0', time=57439.00.\n",
      "Warning: Vehicle '550' ends teleporting on edge 'L18', time=57439.00.\n",
      "Warning: Teleporting vehicle '552'; waited too long (wrong lane), lane='L15_0', time=57440.00.\n",
      "Warning: Vehicle '552' ends teleporting on edge 'L18', time=57440.00.\n",
      "Warning: Teleporting vehicle '471'; waited too long (wrong lane), lane='L15_0', time=57441.00.\n",
      "Warning: Vehicle '471' ends teleporting on edge 'L18', time=57441.00.\n",
      "Warning: Teleporting vehicle '466'; waited too long (wrong lane), lane='L15_0', time=57442.00.\n",
      "Warning: Vehicle '466' ends teleporting on edge 'L18', time=57442.00.\n",
      "Warning: Teleporting vehicle '476'; waited too long (wrong lane), lane='L15_0', time=57443.00.\n",
      "Warning: Vehicle '476' ends teleporting on edge 'L18', time=57443.00.\n",
      "Warning: Teleporting vehicle '503'; waited too long (wrong lane), lane='L15_0', time=57444.00.\n",
      "Warning: Vehicle '503' ends teleporting on edge 'L18', time=57444.00.\n",
      "Warning: Teleporting vehicle '772'; waited too long (jam), lane='D2_1', time=57454.00.\n",
      "Warning: Vehicle '772' ends teleporting on edge 'L2', time=57454.00.\n",
      "Warning: Teleporting vehicle '632'; waited too long (jam), lane='L12_1', time=57462.00.\n",
      "Warning: Teleporting vehicle '709'; waited too long (wrong lane), lane='L12_2', time=57464.00.\n"
     ]
    },
    {
     "name": "stdout",
     "output_type": "stream",
     "text": [
      "Step #57500.00 (7ms ~= 142.86*RT, ~113285.71UPS, vehicles TOT 2639 ACT 793 BUF 164)       \r"
     ]
    },
    {
     "name": "stderr",
     "output_type": "stream",
     "text": [
      "Warning: Teleporting vehicle '738'; waited too long (wrong lane), lane='L12_2', time=57519.00.\n",
      "Warning: Teleporting vehicle '604'; waited too long (jam), lane='L12_0', time=57549.00.\n",
      "Warning: Vehicle '585' ends teleporting on edge 'L15', time=57563.00.\n"
     ]
    },
    {
     "name": "stdout",
     "output_type": "stream",
     "text": [
      "Step #57600.00 (8ms ~= 125.00*RT, ~97375.00UPS, vehicles TOT 2702 ACT 779 BUF 181)        \n",
      "Simulation ended at time: 57600.00\n",
      "Reason: The final simulation step has been reached.\n",
      "Performance: \n",
      " Duration: 17.63s\n",
      " Real time factor: 204.244\n",
      " UPS: 115881.198230\n",
      "Vehicles: \n",
      " Inserted: 2702 (Loaded: 2883)\n",
      " Running: 779\n",
      " Waiting: 181\n",
      " Teleports: 69 (Jam: 9, Wrong Lane: 60)\n",
      "Statistics (avg of 1923):\n",
      " RouteLength: 4485.28\n",
      " Speed: 11.04\n",
      " Duration: 509.30\n",
      " WaitingTime: 115.53\n",
      " TimeLoss: 185.21\n",
      " DepartDelay: 0.49\n",
      "\n",
      "DijkstraRouter answered 2929 queries and explored 10.65 edges on average.\n",
      "DijkstraRouter spent 0.01s answering queries (0.00ms on average).\n",
      "####### 138 ########\n",
      "##### n=162 #####\n",
      "##### best_value=-0.001436093396988365 #####\n",
      "printing /Users/rodrse/Documents/DemandCalibration/notebooks/od_calibration_sumo_files/quickstart/data/iter_quickstart.current_od.xml\n",
      "### Runing: iter\n",
      "od2trips --no-step-log  --spread.uniform --taz-files /Users/rodrse/Documents/DemandCalibration/notebooks/od_calibration_sumo_files/quickstart/data/quickstart.taz.xml --tazrelation-files /Users/rodrse/Documents/DemandCalibration/notebooks/od_calibration_sumo_files/quickstart/data/iter_quickstart.current_od.xml -o /Users/rodrse/Documents/DemandCalibration/notebooks/od_calibration_sumo_files/quickstart/data/iter_od_trips.trips.xml \n",
      "Success.\n",
      "Loading net-file from '/Users/rodrse/Documents/DemandCalibration/notebooks/od_calibration_sumo_files/quickstart/data/quickstart.net.xml' ... done (7ms).\n",
      "Loading additional-files from '/Users/rodrse/Documents/DemandCalibration/notebooks/od_calibration_sumo_files/quickstart/data/quickstart.additional.xml' ... done (1ms).\n",
      "Loading done.\n",
      "Simulation version 1.16.0 started with time: 54000.00.\n",
      "Step #57600.00 (4ms ~= 250.00*RT, ~116250.00UPS, vehicles TOT 2211 ACT 465 BUF 0)         \n",
      "Simulation ended at time: 57600.00\n",
      "Reason: The final simulation step has been reached.\n",
      "Performance: \n",
      " Duration: 9.08s\n",
      " Real time factor: 396.694\n",
      " UPS: 124388.760331\n",
      "Vehicles: \n",
      " Inserted: 2211\n",
      " Running: 465\n",
      " Waiting: 0\n",
      "Statistics (avg of 1746):\n",
      " RouteLength: 4391.82\n",
      " Speed: 12.44\n",
      " Duration: 424.17\n",
      " WaitingTime: 70.13\n",
      " TimeLoss: 105.59\n",
      " DepartDelay: 0.49\n",
      "\n",
      "DijkstraRouter answered 2211 queries and explored 10.42 edges on average.\n",
      "DijkstraRouter spent 0.01s answering queries (0.00ms on average).\n",
      "####### 139 ########\n",
      "##### n=163 #####\n",
      "##### best_value=-0.001436093396988365 #####\n",
      "printing /Users/rodrse/Documents/DemandCalibration/notebooks/od_calibration_sumo_files/quickstart/data/iter_quickstart.current_od.xml\n",
      "### Runing: iter\n",
      "od2trips --no-step-log  --spread.uniform --taz-files /Users/rodrse/Documents/DemandCalibration/notebooks/od_calibration_sumo_files/quickstart/data/quickstart.taz.xml --tazrelation-files /Users/rodrse/Documents/DemandCalibration/notebooks/od_calibration_sumo_files/quickstart/data/iter_quickstart.current_od.xml -o /Users/rodrse/Documents/DemandCalibration/notebooks/od_calibration_sumo_files/quickstart/data/iter_od_trips.trips.xml \n",
      "Success.\n",
      "Loading net-file from '/Users/rodrse/Documents/DemandCalibration/notebooks/od_calibration_sumo_files/quickstart/data/quickstart.net.xml' ... done (6ms).\n",
      "Loading additional-files from '/Users/rodrse/Documents/DemandCalibration/notebooks/od_calibration_sumo_files/quickstart/data/quickstart.additional.xml' ... done (1ms).\n",
      "Loading done.\n",
      "Simulation version 1.16.0 started with time: 54000.00.\n",
      "Step #57600.00 (2ms ~= 500.00*RT, ~141500.00UPS, vehicles TOT 2028 ACT 283 BUF 0)         \n",
      "Simulation ended at time: 57600.00\n",
      "Reason: The final simulation step has been reached.\n",
      "Performance: \n",
      " Duration: 5.85s\n",
      " Real time factor: 615.174\n",
      " UPS: 132087.491456\n",
      "Vehicles: \n",
      " Inserted: 2028\n",
      " Running: 283\n",
      " Waiting: 0\n",
      "Statistics (avg of 1745):\n",
      " RouteLength: 4361.63\n",
      " Speed: 12.43\n",
      " Duration: 382.92\n",
      " WaitingTime: 40.64\n",
      " TimeLoss: 66.45\n",
      " DepartDelay: 0.50\n",
      "\n",
      "DijkstraRouter answered 2028 queries and explored 9.78 edges on average.\n",
      "DijkstraRouter spent 0.01s answering queries (0.00ms on average).\n",
      "####### 140 ########\n",
      "##### n=164 #####\n",
      "##### best_value=-0.001436093396988365 #####\n",
      "printing /Users/rodrse/Documents/DemandCalibration/notebooks/od_calibration_sumo_files/quickstart/data/iter_quickstart.current_od.xml\n",
      "### Runing: iter\n",
      "od2trips --no-step-log  --spread.uniform --taz-files /Users/rodrse/Documents/DemandCalibration/notebooks/od_calibration_sumo_files/quickstart/data/quickstart.taz.xml --tazrelation-files /Users/rodrse/Documents/DemandCalibration/notebooks/od_calibration_sumo_files/quickstart/data/iter_quickstart.current_od.xml -o /Users/rodrse/Documents/DemandCalibration/notebooks/od_calibration_sumo_files/quickstart/data/iter_od_trips.trips.xml \n",
      "Success.\n",
      "Loading net-file from '/Users/rodrse/Documents/DemandCalibration/notebooks/od_calibration_sumo_files/quickstart/data/quickstart.net.xml' ... done (6ms).\n",
      "Loading additional-files from '/Users/rodrse/Documents/DemandCalibration/notebooks/od_calibration_sumo_files/quickstart/data/quickstart.additional.xml' ... done (1ms).\n",
      "Loading done.\n",
      "Simulation version 1.16.0 started with time: 54000.00.\n",
      "Step #57600.00 (3ms ~= 333.33*RT, ~152000.00UPS, vehicles TOT 2550 ACT 456 BUF 0)         \n",
      "Simulation ended at time: 57600.00\n",
      "Reason: The final simulation step has been reached.\n",
      "Performance: \n",
      " Duration: 8.83s\n",
      " Real time factor: 407.563\n",
      " UPS: 131977.244424\n",
      "Vehicles: \n",
      " Inserted: 2550\n",
      " Running: 456\n",
      " Waiting: 0\n",
      "Statistics (avg of 2094):\n",
      " RouteLength: 4267.37\n",
      " Speed: 12.25\n",
      " Duration: 412.54\n",
      " WaitingTime: 69.27\n",
      " TimeLoss: 102.89\n",
      " DepartDelay: 0.49\n",
      "\n",
      "DijkstraRouter answered 2550 queries and explored 9.31 edges on average.\n",
      "DijkstraRouter spent 0.01s answering queries (0.00ms on average).\n",
      "####### 141 ########\n",
      "##### n=165 #####\n",
      "##### best_value=-0.001436093396988365 #####\n",
      "printing /Users/rodrse/Documents/DemandCalibration/notebooks/od_calibration_sumo_files/quickstart/data/iter_quickstart.current_od.xml\n",
      "### Runing: iter\n",
      "od2trips --no-step-log  --spread.uniform --taz-files /Users/rodrse/Documents/DemandCalibration/notebooks/od_calibration_sumo_files/quickstart/data/quickstart.taz.xml --tazrelation-files /Users/rodrse/Documents/DemandCalibration/notebooks/od_calibration_sumo_files/quickstart/data/iter_quickstart.current_od.xml -o /Users/rodrse/Documents/DemandCalibration/notebooks/od_calibration_sumo_files/quickstart/data/iter_od_trips.trips.xml \n",
      "Success.\n",
      "Loading net-file from '/Users/rodrse/Documents/DemandCalibration/notebooks/od_calibration_sumo_files/quickstart/data/quickstart.net.xml' ... done (6ms).\n",
      "Loading additional-files from '/Users/rodrse/Documents/DemandCalibration/notebooks/od_calibration_sumo_files/quickstart/data/quickstart.additional.xml' ... done (1ms).\n",
      "Loading done.\n",
      "Simulation version 1.16.0 started with time: 54000.00.\n",
      "Step #56700.00 (8ms ~= 125.00*RT, ~112250.00UPS, vehicles TOT 2294 ACT 898 BUF 0)         \r"
     ]
    },
    {
     "name": "stderr",
     "output_type": "stream",
     "text": [
      "Warning: Teleporting vehicle '91'; waited too long (yield), lane='L15_1', time=56774.00.\n",
      "Warning: Vehicle '91' ends teleporting on edge 'L18', time=56774.00.\n"
     ]
    },
    {
     "name": "stdout",
     "output_type": "stream",
     "text": [
      "Step #57000.00 (8ms ~= 125.00*RT, ~117500.00UPS, vehicles TOT 2548 ACT 940 BUF 0)         \r"
     ]
    },
    {
     "name": "stderr",
     "output_type": "stream",
     "text": [
      "Warning: Teleporting vehicle '428'; waited too long (wrong lane), lane='L15_0', time=57079.00.\n",
      "Warning: Vehicle '428' ends teleporting on edge 'L18', time=57079.00.\n",
      "Warning: Teleporting vehicle '439'; waited too long (wrong lane), lane='L15_0', time=57080.00.\n",
      "Warning: Teleporting vehicle '89'; waited too long (yield), lane='L15_1', time=57080.00.\n",
      "Warning: Vehicle '89' ends teleporting on edge 'L18', time=57080.00.\n",
      "Warning: Vehicle '439' ends teleporting on edge 'L18', time=57080.00.\n",
      "Warning: Teleporting vehicle '457'; waited too long (wrong lane), lane='L15_0', time=57086.00.\n",
      "Warning: Vehicle '457' ends teleporting on edge 'L18', time=57086.00.\n",
      "Warning: Teleporting vehicle '462'; waited too long (wrong lane), lane='L15_0', time=57087.00.\n",
      "Warning: Vehicle '462' ends teleporting on edge 'L18', time=57087.00.\n"
     ]
    },
    {
     "name": "stdout",
     "output_type": "stream",
     "text": [
      "Step #57300.00 (9ms ~= 111.11*RT, ~106333.33UPS, vehicles TOT 2804 ACT 957 BUF 0)         \r"
     ]
    },
    {
     "name": "stderr",
     "output_type": "stream",
     "text": [
      "Warning: Teleporting vehicle '92'; waited too long (yield), lane='L15_1', time=57386.00.\n",
      "Warning: Vehicle '92' ends teleporting on edge 'L18', time=57386.00.\n"
     ]
    },
    {
     "name": "stdout",
     "output_type": "stream",
     "text": [
      "Step #57600.00 (10ms ~= 100.00*RT, ~91200.00UPS, vehicles TOT 3003 ACT 912 BUF 55)        \n",
      "Simulation ended at time: 57600.00\n",
      "Reason: The final simulation step has been reached.\n",
      "Performance: \n",
      " Duration: 22.44s\n",
      " Real time factor: 160.464\n",
      " UPS: 103435.613996\n",
      "Vehicles: \n",
      " Inserted: 3003 (Loaded: 3058)\n",
      " Running: 912\n",
      " Waiting: 55\n",
      " Teleports: 7 (Yield: 3, Wrong Lane: 4)\n",
      "Statistics (avg of 2091):\n",
      " RouteLength: 4374.73\n",
      " Speed: 10.11\n",
      " Duration: 619.91\n",
      " WaitingTime: 103.64\n",
      " TimeLoss: 302.85\n",
      " DepartDelay: 0.49\n",
      "\n",
      "DijkstraRouter answered 3071 queries and explored 10.21 edges on average.\n",
      "DijkstraRouter spent 0.01s answering queries (0.00ms on average).\n",
      "####### 142 ########\n",
      "##### n=166 #####\n",
      "##### best_value=-0.001436093396988365 #####\n",
      "printing /Users/rodrse/Documents/DemandCalibration/notebooks/od_calibration_sumo_files/quickstart/data/iter_quickstart.current_od.xml\n",
      "### Runing: iter\n",
      "od2trips --no-step-log  --spread.uniform --taz-files /Users/rodrse/Documents/DemandCalibration/notebooks/od_calibration_sumo_files/quickstart/data/quickstart.taz.xml --tazrelation-files /Users/rodrse/Documents/DemandCalibration/notebooks/od_calibration_sumo_files/quickstart/data/iter_quickstart.current_od.xml -o /Users/rodrse/Documents/DemandCalibration/notebooks/od_calibration_sumo_files/quickstart/data/iter_od_trips.trips.xml \n",
      "Success.\n",
      "Loading net-file from '/Users/rodrse/Documents/DemandCalibration/notebooks/od_calibration_sumo_files/quickstart/data/quickstart.net.xml' ... done (7ms).\n",
      "Loading additional-files from '/Users/rodrse/Documents/DemandCalibration/notebooks/od_calibration_sumo_files/quickstart/data/quickstart.additional.xml' ... done (1ms).\n",
      "Loading done.\n",
      "Simulation version 1.16.0 started with time: 54000.00.\n",
      "Step #57600.00 (9ms ~= 111.11*RT, ~78444.44UPS, vehicles TOT 2874 ACT 706 BUF 0)          \n",
      "Simulation ended at time: 57600.00\n",
      "Reason: The final simulation step has been reached.\n",
      "Performance: \n",
      " Duration: 15.09s\n",
      " Real time factor: 238.553\n",
      " UPS: 117529.322113\n",
      "Vehicles: \n",
      " Inserted: 2874\n",
      " Running: 706\n",
      " Waiting: 0\n",
      "Statistics (avg of 2168):\n",
      " RouteLength: 4382.39\n",
      " Speed: 11.45\n",
      " Duration: 471.03\n",
      " WaitingTime: 82.83\n",
      " TimeLoss: 153.56\n",
      " DepartDelay: 0.49\n",
      "\n",
      "DijkstraRouter answered 2874 queries and explored 10.11 edges on average.\n",
      "DijkstraRouter spent 0.01s answering queries (0.00ms on average).\n",
      "####### 143 ########\n",
      "##### n=167 #####\n",
      "##### best_value=-0.001436093396988365 #####\n",
      "printing /Users/rodrse/Documents/DemandCalibration/notebooks/od_calibration_sumo_files/quickstart/data/iter_quickstart.current_od.xml\n",
      "### Runing: iter\n",
      "od2trips --no-step-log  --spread.uniform --taz-files /Users/rodrse/Documents/DemandCalibration/notebooks/od_calibration_sumo_files/quickstart/data/quickstart.taz.xml --tazrelation-files /Users/rodrse/Documents/DemandCalibration/notebooks/od_calibration_sumo_files/quickstart/data/iter_quickstart.current_od.xml -o /Users/rodrse/Documents/DemandCalibration/notebooks/od_calibration_sumo_files/quickstart/data/iter_od_trips.trips.xml \n",
      "Success.\n",
      "Loading net-file from '/Users/rodrse/Documents/DemandCalibration/notebooks/od_calibration_sumo_files/quickstart/data/quickstart.net.xml' ... done (6ms).\n",
      "Loading additional-files from '/Users/rodrse/Documents/DemandCalibration/notebooks/od_calibration_sumo_files/quickstart/data/quickstart.additional.xml' ... done (1ms).\n",
      "Loading done.\n",
      "Simulation version 1.16.0 started with time: 54000.00.\n",
      "Step #56800.00 (7ms ~= 142.86*RT, ~114285.71UPS, vehicles TOT 2592 ACT 800 BUF 165)       \r"
     ]
    },
    {
     "name": "stderr",
     "output_type": "stream",
     "text": [
      "Warning: Teleporting vehicle '601'; waited too long (wrong lane), lane='L12_2', time=56874.00.\n",
      "Warning: Vehicle '601' ends teleporting on edge 'L15', time=56899.00.\n"
     ]
    },
    {
     "name": "stdout",
     "output_type": "stream",
     "text": [
      "Step #56900.00 (8ms ~= 125.00*RT, ~102375.00UPS, vehicles TOT 2670 ACT 819 BUF 186)       \r"
     ]
    },
    {
     "name": "stderr",
     "output_type": "stream",
     "text": [
      "Warning: Teleporting vehicle '607'; waited too long (wrong lane), lane='L12_2', time=56928.00.\n",
      "Warning: Vehicle '607' ends teleporting on edge 'L15', time=56929.00.\n"
     ]
    },
    {
     "name": "stdout",
     "output_type": "stream",
     "text": [
      "Step #57000.00 (9ms ~= 111.11*RT, ~93777.78UPS, vehicles TOT 2746 ACT 844 BUF 208)        \r"
     ]
    },
    {
     "name": "stderr",
     "output_type": "stream",
     "text": [
      "Warning: Teleporting vehicle '610'; waited too long (wrong lane), lane='L12_2', time=57027.00.\n",
      "Warning: Vehicle '610' ends teleporting on edge 'L15', time=57027.00.\n"
     ]
    },
    {
     "name": "stdout",
     "output_type": "stream",
     "text": [
      "Step #57100.00 (8ms ~= 125.00*RT, ~105125.00UPS, vehicles TOT 2807 ACT 841 BUF 246)       \r"
     ]
    },
    {
     "name": "stderr",
     "output_type": "stream",
     "text": [
      "Warning: Teleporting vehicle '614'; waited too long (wrong lane), lane='L12_2', time=57115.00.\n",
      "Warning: Vehicle '614' ends teleporting on edge 'L15', time=57120.00.\n",
      "Warning: Teleporting vehicle '1548'; waited too long (jam), lane='L2_1', time=57146.00.\n",
      "Warning: Vehicle '1548' ends teleporting on edge 'L12', time=57146.00.\n",
      "Warning: Teleporting vehicle '654'; waited too long (jam), lane='L2_1', time=57151.00.\n",
      "Warning: Vehicle '654' ends teleporting on edge 'L12', time=57151.00.\n",
      "Warning: Teleporting vehicle '462'; waited too long (jam), lane='L2_0', time=57172.00.\n",
      "Warning: Vehicle '462' ends teleporting on edge 'L12', time=57172.00.\n"
     ]
    },
    {
     "name": "stdout",
     "output_type": "stream",
     "text": [
      "Step #57200.00 (8ms ~= 125.00*RT, ~103875.00UPS, vehicles TOT 2855 ACT 831 BUF 296)       \r"
     ]
    },
    {
     "name": "stderr",
     "output_type": "stream",
     "text": [
      "Warning: Teleporting vehicle '529'; waited too long (jam), lane='D2_0', time=57264.00.\n"
     ]
    },
    {
     "name": "stdout",
     "output_type": "stream",
     "text": [
      "Step #57300.00 (7ms ~= 142.86*RT, ~118714.29UPS, vehicles TOT 2902 ACT 831 BUF 347)       \r"
     ]
    },
    {
     "name": "stderr",
     "output_type": "stream",
     "text": [
      "Warning: Teleporting vehicle '621'; waited too long (wrong lane), lane='L12_2', time=57305.00.\n",
      "Warning: Vehicle '621' ends teleporting on edge 'L15', time=57331.00.\n",
      "Warning: Teleporting vehicle '689'; waited too long (jam), lane='D2_1', time=57345.00.\n"
     ]
    },
    {
     "name": "stdout",
     "output_type": "stream",
     "text": [
      "Step #57400.00 (9ms ~= 111.11*RT, ~92888.89UPS, vehicles TOT 2964 ACT 836 BUF 384)        \r"
     ]
    },
    {
     "name": "stderr",
     "output_type": "stream",
     "text": [
      "Warning: Teleporting vehicle '1549'; waited too long (jam), lane='L2_1', time=57460.00.\n",
      "Warning: Vehicle '1549' ends teleporting on edge 'L12', time=57460.00.\n",
      "Warning: Teleporting vehicle '463'; waited too long (jam), lane='L2_0', time=57478.00.\n",
      "Warning: Vehicle '463' ends teleporting on edge 'L12', time=57478.00.\n"
     ]
    },
    {
     "name": "stdout",
     "output_type": "stream",
     "text": [
      "Step #57500.00 (9ms ~= 111.11*RT, ~94222.22UPS, vehicles TOT 3041 ACT 848 BUF 405)        \r"
     ]
    },
    {
     "name": "stderr",
     "output_type": "stream",
     "text": [
      "Warning: Teleporting vehicle '630'; waited too long (wrong lane), lane='L12_2', time=57536.00.\n",
      "Warning: Vehicle '630' ends teleporting on edge 'L15', time=57548.00.\n",
      "Warning: Teleporting vehicle '530'; waited too long (jam), lane='D2_0', time=57570.00.\n"
     ]
    },
    {
     "name": "stdout",
     "output_type": "stream",
     "text": [
      "Step #57600.00 (9ms ~= 111.11*RT, ~95555.56UPS, vehicles TOT 3100 ACT 860 BUF 445)        \n",
      "Simulation ended at time: 57600.00\n",
      "Reason: The final simulation step has been reached.\n",
      "Performance: \n",
      " Duration: 22.35s\n",
      " Real time factor: 161.074\n",
      " UPS: 107972.259508\n",
      "Vehicles: \n",
      " Inserted: 3100 (Loaded: 3545)\n",
      " Running: 860\n",
      " Waiting: 445\n",
      " Teleports: 14 (Jam: 8, Wrong Lane: 6)\n",
      "Statistics (avg of 2240):\n",
      " RouteLength: 4387.63\n",
      " Speed: 11.02\n",
      " Duration: 516.91\n",
      " WaitingTime: 98.44\n",
      " TimeLoss: 198.52\n",
      " DepartDelay: 3.44\n",
      "\n",
      "DijkstraRouter answered 3802 queries and explored 10.23 edges on average.\n",
      "DijkstraRouter spent 0.02s answering queries (0.01ms on average).\n",
      "####### 144 ########\n",
      "##### n=168 #####\n",
      "##### best_value=-0.001436093396988365 #####\n",
      "printing /Users/rodrse/Documents/DemandCalibration/notebooks/od_calibration_sumo_files/quickstart/data/iter_quickstart.current_od.xml\n",
      "### Runing: iter\n",
      "od2trips --no-step-log  --spread.uniform --taz-files /Users/rodrse/Documents/DemandCalibration/notebooks/od_calibration_sumo_files/quickstart/data/quickstart.taz.xml --tazrelation-files /Users/rodrse/Documents/DemandCalibration/notebooks/od_calibration_sumo_files/quickstart/data/iter_quickstart.current_od.xml -o /Users/rodrse/Documents/DemandCalibration/notebooks/od_calibration_sumo_files/quickstart/data/iter_od_trips.trips.xml \n",
      "Success.\n",
      "Loading net-file from '/Users/rodrse/Documents/DemandCalibration/notebooks/od_calibration_sumo_files/quickstart/data/quickstart.net.xml' ... done (5ms).\n",
      "Loading additional-files from '/Users/rodrse/Documents/DemandCalibration/notebooks/od_calibration_sumo_files/quickstart/data/quickstart.additional.xml' ... done (1ms).\n",
      "Loading done.\n",
      "Simulation version 1.16.0 started with time: 54000.00.\n",
      "Step #57200.00 (9ms ~= 111.11*RT, ~103111.11UPS, vehicles TOT 2712 ACT 928 BUF 0)         \r"
     ]
    },
    {
     "name": "stderr",
     "output_type": "stream",
     "text": [
      "Warning: Teleporting vehicle '371'; waited too long (jam), lane='L12_1', time=57218.00.\n",
      "Warning: Teleporting vehicle '425'; waited too long (wrong lane), lane='L15_0', time=57268.00.\n",
      "Warning: Vehicle '425' ends teleporting on edge 'L18', time=57268.00.\n",
      "Warning: Teleporting vehicle '427'; waited too long (wrong lane), lane='L15_0', time=57269.00.\n",
      "Warning: Vehicle '427' ends teleporting on edge 'L18', time=57269.00.\n",
      "Warning: Teleporting vehicle '426'; waited too long (wrong lane), lane='L15_0', time=57270.00.\n",
      "Warning: Vehicle '426' ends teleporting on edge 'L18', time=57270.00.\n",
      "Warning: Teleporting vehicle '434'; waited too long (wrong lane), lane='L15_0', time=57271.00.\n",
      "Warning: Vehicle '434' ends teleporting on edge 'L18', time=57271.00.\n",
      "Warning: Teleporting vehicle '433'; waited too long (wrong lane), lane='L15_0', time=57272.00.\n",
      "Warning: Vehicle '433' ends teleporting on edge 'L18', time=57272.00.\n",
      "Warning: Teleporting vehicle '441'; waited too long (wrong lane), lane='L15_0', time=57273.00.\n",
      "Warning: Vehicle '441' ends teleporting on edge 'L18', time=57273.00.\n",
      "Warning: Teleporting vehicle '445'; waited too long (wrong lane), lane='L15_0', time=57274.00.\n",
      "Warning: Vehicle '445' ends teleporting on edge 'L18', time=57274.00.\n",
      "Warning: Teleporting vehicle '440'; waited too long (wrong lane), lane='L15_0', time=57275.00.\n",
      "Warning: Vehicle '440' ends teleporting on edge 'L18', time=57275.00.\n",
      "Warning: Teleporting vehicle '449'; waited too long (wrong lane), lane='L15_0', time=57276.00.\n",
      "Warning: Vehicle '449' ends teleporting on edge 'L18', time=57276.00.\n",
      "Warning: Teleporting vehicle '451'; waited too long (wrong lane), lane='L15_0', time=57277.00.\n",
      "Warning: Vehicle '451' ends teleporting on edge 'L18', time=57277.00.\n",
      "Warning: Teleporting vehicle '453'; waited too long (wrong lane), lane='L15_0', time=57278.00.\n",
      "Warning: Vehicle '453' ends teleporting on edge 'L18', time=57278.00.\n",
      "Warning: Teleporting vehicle '455'; waited too long (wrong lane), lane='L15_0', time=57279.00.\n",
      "Warning: Vehicle '455' ends teleporting on edge 'L18', time=57279.00.\n",
      "Warning: Teleporting vehicle '462'; waited too long (wrong lane), lane='L15_0', time=57280.00.\n",
      "Warning: Vehicle '462' ends teleporting on edge 'L18', time=57280.00.\n",
      "Warning: Teleporting vehicle '461'; waited too long (wrong lane), lane='L15_0', time=57281.00.\n",
      "Warning: Vehicle '461' ends teleporting on edge 'L18', time=57281.00.\n"
     ]
    },
    {
     "name": "stdout",
     "output_type": "stream",
     "text": [
      "Step #57400.00 (11ms ~= 90.91*RT, ~87272.73UPS, vehicles TOT 2882 ACT 960 BUF 0)          \r"
     ]
    },
    {
     "name": "stderr",
     "output_type": "stream",
     "text": [
      "Warning: Vehicle '371' ends teleporting on edge 'L15', time=57414.00.\n"
     ]
    },
    {
     "name": "stdout",
     "output_type": "stream",
     "text": [
      "Step #57600.00 (10ms ~= 100.00*RT, ~96000.00UPS, vehicles TOT 3051 ACT 960 BUF 0)         \n",
      "Simulation ended at time: 57600.00\n",
      "Reason: The final simulation step has been reached.\n",
      "Performance: \n",
      " Duration: 21.66s\n",
      " Real time factor: 166.174\n",
      " UPS: 101907.773264\n",
      "Vehicles: \n",
      " Inserted: 3051\n",
      " Running: 960\n",
      " Waiting: 0\n",
      " Teleports: 15 (Jam: 1, Wrong Lane: 14)\n",
      "Statistics (avg of 2091):\n",
      " RouteLength: 4289.37\n",
      " Speed: 10.76\n",
      " Duration: 584.40\n",
      " WaitingTime: 135.72\n",
      " TimeLoss: 273.95\n",
      " DepartDelay: 0.49\n",
      "\n",
      "DijkstraRouter answered 3051 queries and explored 9.85 edges on average.\n",
      "DijkstraRouter spent 0.02s answering queries (0.01ms on average).\n",
      "####### 145 ########\n",
      "##### n=169 #####\n",
      "##### best_value=-0.001436093396988365 #####\n",
      "printing /Users/rodrse/Documents/DemandCalibration/notebooks/od_calibration_sumo_files/quickstart/data/iter_quickstart.current_od.xml\n",
      "### Runing: iter\n",
      "od2trips --no-step-log  --spread.uniform --taz-files /Users/rodrse/Documents/DemandCalibration/notebooks/od_calibration_sumo_files/quickstart/data/quickstart.taz.xml --tazrelation-files /Users/rodrse/Documents/DemandCalibration/notebooks/od_calibration_sumo_files/quickstart/data/iter_quickstart.current_od.xml -o /Users/rodrse/Documents/DemandCalibration/notebooks/od_calibration_sumo_files/quickstart/data/iter_od_trips.trips.xml \n",
      "Success.\n",
      "Loading net-file from '/Users/rodrse/Documents/DemandCalibration/notebooks/od_calibration_sumo_files/quickstart/data/quickstart.net.xml' ... done (5ms).\n",
      "Loading additional-files from '/Users/rodrse/Documents/DemandCalibration/notebooks/od_calibration_sumo_files/quickstart/data/quickstart.additional.xml' ... done (0ms).\n",
      "Loading done.\n",
      "Simulation version 1.16.0 started with time: 54000.00.\n",
      "Step #56600.00 (8ms ~= 125.00*RT, ~105375.00UPS, vehicles TOT 2280 ACT 843 BUF 0)         \r"
     ]
    },
    {
     "name": "stderr",
     "output_type": "stream",
     "text": [
      "Warning: Teleporting vehicle '593'; waited too long (wrong lane), lane='L12_2', time=56657.00.\n",
      "Warning: Teleporting vehicle '594'; waited too long (wrong lane), lane='L12_2', time=56658.00.\n",
      "Warning: Vehicle '593' ends teleporting on edge 'L15', time=56667.00.\n",
      "Warning: Teleporting vehicle '595'; waited too long (wrong lane), lane='L12_2', time=56680.00.\n",
      "Warning: Teleporting vehicle '596'; waited too long (wrong lane), lane='L12_2', time=56681.00.\n"
     ]
    },
    {
     "name": "stdout",
     "output_type": "stream",
     "text": [
      "Step #56700.00 (11ms ~= 90.91*RT, ~79181.82UPS, vehicles TOT 2367 ACT 871 BUF 0)          \r"
     ]
    },
    {
     "name": "stderr",
     "output_type": "stream",
     "text": [
      "Warning: Teleporting vehicle '600'; waited too long (wrong lane), lane='L12_2', time=56760.00.\n",
      "Warning: Vehicle '594' ends teleporting on edge 'L15', time=56779.00.\n",
      "Warning: Vehicle '595' ends teleporting on edge 'L15', time=56838.00.\n",
      "Warning: Teleporting vehicle '602'; waited too long (wrong lane), lane='L12_2', time=56842.00.\n"
     ]
    },
    {
     "name": "stdout",
     "output_type": "stream",
     "text": [
      "Step #56800.00 (8ms ~= 125.00*RT, ~113000.00UPS, vehicles TOT 2455 ACT 904 BUF 0)         \r"
     ]
    },
    {
     "name": "stderr",
     "output_type": "stream",
     "text": [
      "Warning: Teleporting vehicle '676'; waited too long (jam), lane='L2_1', time=56894.00.\n",
      "Warning: Vehicle '676' ends teleporting on edge 'L12', time=56894.00.\n",
      "Warning: Teleporting vehicle '677'; waited too long (jam), lane='L2_1', time=56895.00.\n",
      "Warning: Vehicle '677' ends teleporting on edge 'L12', time=56895.00.\n",
      "Warning: Teleporting vehicle '604'; waited too long (wrong lane), lane='L12_2', time=56907.00.\n",
      "Warning: Vehicle '596' ends teleporting on edge 'L15', time=56911.00.\n"
     ]
    },
    {
     "name": "stdout",
     "output_type": "stream",
     "text": [
      "Step #56900.00 (8ms ~= 125.00*RT, ~116375.00UPS, vehicles TOT 2529 ACT 931 BUF 13)        \r"
     ]
    },
    {
     "name": "stderr",
     "output_type": "stream",
     "text": [
      "Warning: Teleporting vehicle '459'; waited too long (jam), lane='L2_0', time=56947.00.\n",
      "Warning: Vehicle '459' ends teleporting on edge 'L12', time=56947.00.\n",
      "Warning: Vehicle '600' ends teleporting on edge 'L15', time=56973.00.\n"
     ]
    },
    {
     "name": "stdout",
     "output_type": "stream",
     "text": [
      "Step #57000.00 (10ms ~= 100.00*RT, ~92200.00UPS, vehicles TOT 2579 ACT 922 BUF 51)        \r"
     ]
    },
    {
     "name": "stderr",
     "output_type": "stream",
     "text": [
      "Warning: Vehicle '602' ends teleporting on edge 'L15', time=57018.00.\n",
      "Warning: Teleporting vehicle '526'; waited too long (jam), lane='D2_0', time=57021.00.\n",
      "Warning: Teleporting vehicle '725'; waited too long (jam), lane='D2_1', time=57031.00.\n",
      "Warning: Vehicle '604' ends teleporting on edge 'L15', time=57086.00.\n"
     ]
    },
    {
     "name": "stdout",
     "output_type": "stream",
     "text": [
      "Step #57200.00 (8ms ~= 125.00*RT, ~113750.00UPS, vehicles TOT 2678 ACT 910 BUF 127)       \r"
     ]
    },
    {
     "name": "stderr",
     "output_type": "stream",
     "text": [
      "Warning: Teleporting vehicle '609'; waited too long (wrong lane), lane='L12_2', time=57180.00.\n",
      "Warning: Vehicle '609' ends teleporting on edge 'L15', time=57180.00.\n",
      "Warning: Teleporting vehicle '1254'; waited too long (jam), lane='L2_1', time=57203.00.\n",
      "Warning: Vehicle '1254' ends teleporting on edge 'L12', time=57203.00.\n",
      "Warning: Teleporting vehicle '460'; waited too long (jam), lane='L2_0', time=57253.00.\n",
      "Warning: Vehicle '460' ends teleporting on edge 'L12', time=57253.00.\n"
     ]
    },
    {
     "name": "stdout",
     "output_type": "stream",
     "text": [
      "Step #57300.00 (7ms ~= 142.86*RT, ~128857.14UPS, vehicles TOT 2727 ACT 902 BUF 165)       \r"
     ]
    },
    {
     "name": "stderr",
     "output_type": "stream",
     "text": [
      "Warning: Teleporting vehicle '615'; waited too long (wrong lane), lane='L12_2', time=57328.00.\n",
      "Warning: Teleporting vehicle '527'; waited too long (jam), lane='D2_0', time=57328.00.\n",
      "Warning: Vehicle '615' ends teleporting on edge 'L15', time=57328.00.\n",
      "Warning: Teleporting vehicle '1274'; waited too long (jam), lane='D2_1', time=57337.00.\n"
     ]
    },
    {
     "name": "stdout",
     "output_type": "stream",
     "text": [
      "Step #57400.00 (9ms ~= 111.11*RT, ~100222.22UPS, vehicles TOT 2777 ACT 902 BUF 203)       \r"
     ]
    },
    {
     "name": "stderr",
     "output_type": "stream",
     "text": [
      "Warning: Teleporting vehicle '619'; waited too long (wrong lane), lane='L12_2', time=57427.00.\n",
      "Warning: Vehicle '619' ends teleporting on edge 'L15', time=57455.00.\n"
     ]
    },
    {
     "name": "stdout",
     "output_type": "stream",
     "text": [
      "Step #57500.00 (7ms ~= 142.86*RT, ~128142.86UPS, vehicles TOT 2826 ACT 897 BUF 242)       \r"
     ]
    },
    {
     "name": "stderr",
     "output_type": "stream",
     "text": [
      "Warning: Vehicle '526' ends teleporting on edge 'L12', time=57521.00.\n",
      "Warning: Vehicle '725' ends teleporting on edge 'L12', time=57531.00.\n",
      "Warning: Teleporting vehicle '678'; waited too long (jam), lane='L2_1', time=57559.00.\n",
      "Warning: Vehicle '678' ends teleporting on edge 'L12', time=57559.00.\n",
      "Warning: Teleporting vehicle '461'; waited too long (jam), lane='L2_0', time=57561.00.\n",
      "Warning: Vehicle '461' ends teleporting on edge 'L12', time=57561.00.\n"
     ]
    },
    {
     "name": "stdout",
     "output_type": "stream",
     "text": [
      "Step #57600.00 (7ms ~= 142.86*RT, ~128000.00UPS, vehicles TOT 2876 ACT 896 BUF 280)       \n",
      "Simulation ended at time: 57600.00\n",
      "Reason: The final simulation step has been reached.\n",
      "Performance: \n",
      " Duration: 21.01s\n",
      " Real time factor: 171.323\n",
      " UPS: 106380.954647\n",
      "Vehicles: \n",
      " Inserted: 2876 (Loaded: 3156)\n",
      " Running: 896\n",
      " Waiting: 280\n",
      " Teleports: 21 (Jam: 11, Wrong Lane: 10)\n",
      "Statistics (avg of 1980):\n",
      " RouteLength: 4484.66\n",
      " Speed: 12.50\n",
      " Duration: 426.19\n",
      " WaitingTime: 69.31\n",
      " TimeLoss: 101.91\n",
      " DepartDelay: 0.49\n",
      "\n",
      "DijkstraRouter answered 3157 queries and explored 11.06 edges on average.\n",
      "DijkstraRouter spent 0.02s answering queries (0.00ms on average).\n",
      "####### 146 ########\n",
      "##### n=170 #####\n",
      "##### best_value=-0.001436093396988365 #####\n",
      "printing /Users/rodrse/Documents/DemandCalibration/notebooks/od_calibration_sumo_files/quickstart/data/iter_quickstart.current_od.xml\n",
      "### Runing: iter\n",
      "od2trips --no-step-log  --spread.uniform --taz-files /Users/rodrse/Documents/DemandCalibration/notebooks/od_calibration_sumo_files/quickstart/data/quickstart.taz.xml --tazrelation-files /Users/rodrse/Documents/DemandCalibration/notebooks/od_calibration_sumo_files/quickstart/data/iter_quickstart.current_od.xml -o /Users/rodrse/Documents/DemandCalibration/notebooks/od_calibration_sumo_files/quickstart/data/iter_od_trips.trips.xml \n",
      "Success.\n",
      "Loading net-file from '/Users/rodrse/Documents/DemandCalibration/notebooks/od_calibration_sumo_files/quickstart/data/quickstart.net.xml' ... done (6ms).\n",
      "Loading additional-files from '/Users/rodrse/Documents/DemandCalibration/notebooks/od_calibration_sumo_files/quickstart/data/quickstart.additional.xml' ... done (1ms).\n",
      "Loading done.\n",
      "Simulation version 1.16.0 started with time: 54000.00.\n",
      "Step #57600.00 (7ms ~= 142.86*RT, ~96142.86UPS, vehicles TOT 2675 ACT 673 BUF 0)          \n",
      "Simulation ended at time: 57600.00\n",
      "Reason: The final simulation step has been reached.\n",
      "Performance: \n",
      " Duration: 12.54s\n",
      " Real time factor: 287.036\n",
      " UPS: 123065.619518\n",
      "Vehicles: \n",
      " Inserted: 2675\n",
      " Running: 673\n",
      " Waiting: 0\n",
      "Statistics (avg of 2002):\n",
      " RouteLength: 4335.28\n",
      " Speed: 11.05\n",
      " Duration: 505.52\n",
      " WaitingTime: 107.44\n",
      " TimeLoss: 191.35\n",
      " DepartDelay: 0.49\n",
      "\n",
      "DijkstraRouter answered 2675 queries and explored 9.80 edges on average.\n",
      "DijkstraRouter spent 0.01s answering queries (0.00ms on average).\n",
      "####### 147 ########\n",
      "##### n=171 #####\n",
      "##### best_value=-0.001436093396988365 #####\n",
      "printing /Users/rodrse/Documents/DemandCalibration/notebooks/od_calibration_sumo_files/quickstart/data/iter_quickstart.current_od.xml\n",
      "### Runing: iter\n",
      "od2trips --no-step-log  --spread.uniform --taz-files /Users/rodrse/Documents/DemandCalibration/notebooks/od_calibration_sumo_files/quickstart/data/quickstart.taz.xml --tazrelation-files /Users/rodrse/Documents/DemandCalibration/notebooks/od_calibration_sumo_files/quickstart/data/iter_quickstart.current_od.xml -o /Users/rodrse/Documents/DemandCalibration/notebooks/od_calibration_sumo_files/quickstart/data/iter_od_trips.trips.xml \n",
      "Success.\n",
      "Loading net-file from '/Users/rodrse/Documents/DemandCalibration/notebooks/od_calibration_sumo_files/quickstart/data/quickstart.net.xml' ... done (6ms).\n",
      "Loading additional-files from '/Users/rodrse/Documents/DemandCalibration/notebooks/od_calibration_sumo_files/quickstart/data/quickstart.additional.xml' ... done (1ms).\n",
      "Loading done.\n",
      "Simulation version 1.16.0 started with time: 54000.00.\n",
      "Step #57600.00 (4ms ~= 250.00*RT, ~142250.00UPS, vehicles TOT 2696 ACT 569 BUF 0)         \n",
      "Simulation ended at time: 57600.00\n",
      "Reason: The final simulation step has been reached.\n",
      "Performance: \n",
      " Duration: 11.22s\n",
      " Real time factor: 320.77\n",
      " UPS: 125077.519380\n",
      "Vehicles: \n",
      " Inserted: 2696\n",
      " Running: 569\n",
      " Waiting: 0\n",
      "Statistics (avg of 2127):\n",
      " RouteLength: 4399.21\n",
      " Speed: 12.40\n",
      " Duration: 411.25\n",
      " WaitingTime: 59.48\n",
      " TimeLoss: 91.93\n",
      " DepartDelay: 0.49\n",
      "\n",
      "DijkstraRouter answered 2696 queries and explored 10.38 edges on average.\n",
      "DijkstraRouter spent 0.01s answering queries (0.00ms on average).\n",
      "####### 148 ########\n",
      "##### n=172 #####\n",
      "##### best_value=-0.001436093396988365 #####\n",
      "printing /Users/rodrse/Documents/DemandCalibration/notebooks/od_calibration_sumo_files/quickstart/data/iter_quickstart.current_od.xml\n",
      "### Runing: iter\n",
      "od2trips --no-step-log  --spread.uniform --taz-files /Users/rodrse/Documents/DemandCalibration/notebooks/od_calibration_sumo_files/quickstart/data/quickstart.taz.xml --tazrelation-files /Users/rodrse/Documents/DemandCalibration/notebooks/od_calibration_sumo_files/quickstart/data/iter_quickstart.current_od.xml -o /Users/rodrse/Documents/DemandCalibration/notebooks/od_calibration_sumo_files/quickstart/data/iter_od_trips.trips.xml \n",
      "Success.\n",
      "Loading net-file from '/Users/rodrse/Documents/DemandCalibration/notebooks/od_calibration_sumo_files/quickstart/data/quickstart.net.xml' ... done (6ms).\n",
      "Loading additional-files from '/Users/rodrse/Documents/DemandCalibration/notebooks/od_calibration_sumo_files/quickstart/data/quickstart.additional.xml' ... done (1ms).\n",
      "Loading done.\n",
      "Simulation version 1.16.0 started with time: 54000.00.\n",
      "Step #57600.00 (5ms ~= 200.00*RT, ~135400.00UPS, vehicles TOT 2563 ACT 677 BUF 0)         \n",
      "Simulation ended at time: 57600.00\n",
      "Reason: The final simulation step has been reached.\n",
      "Performance: \n",
      " Duration: 14.61s\n",
      " Real time factor: 246.423\n",
      " UPS: 118873.571086\n",
      "Vehicles: \n",
      " Inserted: 2563\n",
      " Running: 677\n",
      " Waiting: 0\n",
      "Statistics (avg of 1886):\n",
      " RouteLength: 4446.87\n",
      " Speed: 10.56\n",
      " Duration: 544.19\n",
      " WaitingTime: 112.02\n",
      " TimeLoss: 221.41\n",
      " DepartDelay: 0.49\n",
      "\n",
      "DijkstraRouter answered 2563 queries and explored 10.39 edges on average.\n",
      "DijkstraRouter spent 0.01s answering queries (0.00ms on average).\n",
      "####### 149 ########\n",
      "##### n=173 #####\n",
      "##### best_value=-0.001436093396988365 #####\n",
      "printing /Users/rodrse/Documents/DemandCalibration/notebooks/od_calibration_sumo_files/quickstart/data/iter_quickstart.current_od.xml\n",
      "### Runing: iter\n",
      "od2trips --no-step-log  --spread.uniform --taz-files /Users/rodrse/Documents/DemandCalibration/notebooks/od_calibration_sumo_files/quickstart/data/quickstart.taz.xml --tazrelation-files /Users/rodrse/Documents/DemandCalibration/notebooks/od_calibration_sumo_files/quickstart/data/iter_quickstart.current_od.xml -o /Users/rodrse/Documents/DemandCalibration/notebooks/od_calibration_sumo_files/quickstart/data/iter_od_trips.trips.xml \n",
      "Success.\n",
      "Loading net-file from '/Users/rodrse/Documents/DemandCalibration/notebooks/od_calibration_sumo_files/quickstart/data/quickstart.net.xml' ... done (5ms).\n",
      "Loading additional-files from '/Users/rodrse/Documents/DemandCalibration/notebooks/od_calibration_sumo_files/quickstart/data/quickstart.additional.xml' ... done (1ms).\n",
      "Loading done.\n",
      "Simulation version 1.16.0 started with time: 54000.00.\n",
      "Step #57500.00 (8ms ~= 125.00*RT, ~95625.00UPS, vehicles TOT 2850 ACT 765 BUF 173)        \r"
     ]
    },
    {
     "name": "stderr",
     "output_type": "stream",
     "text": [
      "Warning: Teleporting vehicle '2009'; waited too long (jam), lane='L4_0', time=57546.00.\n",
      "Warning: Vehicle '2009' ends teleporting on edge 'L14', time=57546.00.\n"
     ]
    },
    {
     "name": "stdout",
     "output_type": "stream",
     "text": [
      "Step #57600.00 (7ms ~= 142.86*RT, ~108428.57UPS, vehicles TOT 2914 ACT 759 BUF 195)       \n",
      "Simulation ended at time: 57600.00\n",
      "Reason: The final simulation step has been reached.\n",
      "Performance: \n",
      " Duration: 21.01s\n",
      " Real time factor: 171.331\n",
      " UPS: 102625.975633\n",
      "Vehicles: \n",
      " Inserted: 2914 (Loaded: 3109)\n",
      " Running: 759\n",
      " Waiting: 195\n",
      " Teleports: 1 (Jam: 1)\n",
      "Statistics (avg of 2155):\n",
      " RouteLength: 4304.84\n",
      " Speed: 10.34\n",
      " Duration: 632.56\n",
      " WaitingTime: 178.36\n",
      " TimeLoss: 320.68\n",
      " DepartDelay: 0.52\n",
      "\n",
      "DijkstraRouter answered 3166 queries and explored 9.74 edges on average.\n",
      "DijkstraRouter spent 0.01s answering queries (0.00ms on average).\n",
      "####### 150 ########\n",
      "##### n=174 #####\n",
      "##### best_value=-0.001436093396988365 #####\n",
      "printing /Users/rodrse/Documents/DemandCalibration/notebooks/od_calibration_sumo_files/quickstart/data/iter_quickstart.current_od.xml\n",
      "### Runing: iter\n",
      "od2trips --no-step-log  --spread.uniform --taz-files /Users/rodrse/Documents/DemandCalibration/notebooks/od_calibration_sumo_files/quickstart/data/quickstart.taz.xml --tazrelation-files /Users/rodrse/Documents/DemandCalibration/notebooks/od_calibration_sumo_files/quickstart/data/iter_quickstart.current_od.xml -o /Users/rodrse/Documents/DemandCalibration/notebooks/od_calibration_sumo_files/quickstart/data/iter_od_trips.trips.xml \n",
      "Success.\n",
      "Loading net-file from '/Users/rodrse/Documents/DemandCalibration/notebooks/od_calibration_sumo_files/quickstart/data/quickstart.net.xml' ... done (5ms).\n",
      "Loading additional-files from '/Users/rodrse/Documents/DemandCalibration/notebooks/od_calibration_sumo_files/quickstart/data/quickstart.additional.xml' ... done (1ms).\n",
      "Loading done.\n",
      "Simulation version 1.16.0 started with time: 54000.00.\n",
      "Step #56700.00 (7ms ~= 142.86*RT, ~116285.71UPS, vehicles TOT 2524 ACT 814 BUF 105)       \r"
     ]
    },
    {
     "name": "stderr",
     "output_type": "stream",
     "text": [
      "Warning: Teleporting vehicle '602'; waited too long (wrong lane), lane='L12_2', time=56773.00.\n",
      "Warning: Vehicle '602' ends teleporting on edge 'L15', time=56773.00.\n"
     ]
    },
    {
     "name": "stdout",
     "output_type": "stream",
     "text": [
      "Step #56800.00"
     ]
    },
    {
     "name": "stderr",
     "output_type": "stream",
     "text": [
      "Warning: Teleporting vehicle '463'; waited too long (jam), lane='L2_0', time=56800.00.\n",
      "Warning: Vehicle '463' ends teleporting on edge 'L12', time=56800.00.\n"
     ]
    },
    {
     "name": "stdout",
     "output_type": "stream",
     "text": [
      "Step #56900.00 (7ms ~= 142.86*RT, ~112142.86UPS, vehicles TOT 2617 ACT 785 BUF 206)       \r"
     ]
    },
    {
     "name": "stderr",
     "output_type": "stream",
     "text": [
      "Warning: Teleporting vehicle '609'; waited too long (wrong lane), lane='L12_2', time=56929.00.\n",
      "Warning: Vehicle '609' ends teleporting on edge 'L15', time=56961.00.\n",
      "Warning: Teleporting vehicle '610'; waited too long (wrong lane), lane='L12_2', time=56976.00.\n",
      "Warning: Teleporting vehicle '1546'; waited too long (jam), lane='L2_1', time=56979.00.\n",
      "Warning: Vehicle '1546' ends teleporting on edge 'L12', time=56979.00.\n",
      "Warning: Teleporting vehicle '652'; waited too long (jam), lane='L2_1', time=56981.00.\n",
      "Warning: Vehicle '652' ends teleporting on edge 'L12', time=56981.00.\n",
      "Warning: Teleporting vehicle '667'; waited too long (jam), lane='D2_1', time=56992.00.\n",
      "Warning: Vehicle '667' ends teleporting on edge 'L2', time=56992.00.\n"
     ]
    },
    {
     "name": "stdout",
     "output_type": "stream",
     "text": [
      "Step #57000.00 (7ms ~= 142.86*RT, ~111714.29UPS, vehicles TOT 2668 ACT 782 BUF 253)       \r"
     ]
    },
    {
     "name": "stderr",
     "output_type": "stream",
     "text": [
      "Warning: Vehicle '610' ends teleporting on edge 'L15', time=57035.00.\n",
      "Warning: Teleporting vehicle '613'; waited too long (wrong lane), lane='L12_2', time=57049.00.\n",
      "Warning: Vehicle '613' ends teleporting on edge 'L15', time=57085.00.\n"
     ]
    },
    {
     "name": "stdout",
     "output_type": "stream",
     "text": [
      "Step #57200.00 (7ms ~= 142.86*RT, ~119142.86UPS, vehicles TOT 2820 ACT 834 BUF 296)       \r"
     ]
    },
    {
     "name": "stderr",
     "output_type": "stream",
     "text": [
      "Warning: Teleporting vehicle '531'; waited too long (jam), lane='D2_0', time=57198.00.\n",
      "Warning: Teleporting vehicle '465'; waited too long (jam), lane='L2_0', time=57214.00.\n",
      "Warning: Vehicle '465' ends teleporting on edge 'L12', time=57214.00.\n",
      "Warning: Vehicle '531' ends teleporting on edge 'L2', time=57225.00.\n"
     ]
    },
    {
     "name": "stdout",
     "output_type": "stream",
     "text": [
      "Step #57300.00 (8ms ~= 125.00*RT, ~106500.00UPS, vehicles TOT 2895 ACT 852 BUF 318)       \r"
     ]
    },
    {
     "name": "stderr",
     "output_type": "stream",
     "text": [
      "Warning: Teleporting vehicle '625'; waited too long (wrong lane), lane='L12_2', time=57327.00.\n",
      "Warning: Vehicle '625' ends teleporting on edge 'L15', time=57327.00.\n",
      "Warning: Teleporting vehicle '626'; waited too long (wrong lane), lane='L12_2', time=57381.00.\n",
      "Warning: Vehicle '626' ends teleporting on edge 'L15', time=57381.00.\n"
     ]
    },
    {
     "name": "stdout",
     "output_type": "stream",
     "text": [
      "Step #57400.00 (8ms ~= 125.00*RT, ~107625.00UPS, vehicles TOT 2956 ACT 861 BUF 353)       \r"
     ]
    },
    {
     "name": "stderr",
     "output_type": "stream",
     "text": [
      "Warning: Teleporting vehicle '689'; waited too long (jam), lane='D2_1', time=57467.00.\n",
      "Warning: Teleporting vehicle '632'; waited too long (wrong lane), lane='L12_2', time=57482.00.\n"
     ]
    },
    {
     "name": "stdout",
     "output_type": "stream",
     "text": [
      "Step #57500.00 (8ms ~= 125.00*RT, ~105875.00UPS, vehicles TOT 3004 ACT 847 BUF 404)       \r"
     ]
    },
    {
     "name": "stderr",
     "output_type": "stream",
     "text": [
      "Warning: Teleporting vehicle '532'; waited too long (jam), lane='D2_0', time=57505.00.\n",
      "Warning: Vehicle '632' ends teleporting on edge 'L15', time=57516.00.\n",
      "Warning: Teleporting vehicle '466'; waited too long (jam), lane='L2_0', time=57519.00.\n",
      "Warning: Vehicle '466' ends teleporting on edge 'L12', time=57519.00.\n",
      "Warning: Teleporting vehicle '1547'; waited too long (jam), lane='L2_1', time=57527.00.\n",
      "Warning: Vehicle '532' ends teleporting on edge 'L2', time=57533.00.\n",
      "Warning: Teleporting vehicle '634'; waited too long (wrong lane), lane='L12_2', time=57544.00.\n",
      "Warning: Vehicle '1547' ends teleporting on edge 'L12', time=57550.00.\n",
      "Warning: Vehicle '634' ends teleporting on edge 'L15', time=57559.00.\n"
     ]
    },
    {
     "name": "stdout",
     "output_type": "stream",
     "text": [
      "Step #57600.00 (7ms ~= 142.86*RT, ~119571.43UPS, vehicles TOT 3050 ACT 837 BUF 455)       \n",
      "Simulation ended at time: 57600.00\n",
      "Reason: The final simulation step has been reached.\n",
      "Performance: \n",
      " Duration: 21.90s\n",
      " Real time factor: 164.376\n",
      " UPS: 106678.370851\n",
      "Vehicles: \n",
      " Inserted: 3050 (Loaded: 3505)\n",
      " Running: 837\n",
      " Waiting: 455\n",
      " Teleports: 18 (Jam: 10, Wrong Lane: 8)\n",
      "Statistics (avg of 2213):\n",
      " RouteLength: 4390.18\n",
      " Speed: 11.25\n",
      " Duration: 493.38\n",
      " WaitingTime: 100.72\n",
      " TimeLoss: 174.41\n",
      " DepartDelay: 1.04\n",
      "\n",
      "DijkstraRouter answered 3692 queries and explored 10.24 edges on average.\n",
      "DijkstraRouter spent 0.02s answering queries (0.00ms on average).\n",
      "####### 151 ########\n",
      "##### n=175 #####\n",
      "##### best_value=-0.001436093396988365 #####\n",
      "printing /Users/rodrse/Documents/DemandCalibration/notebooks/od_calibration_sumo_files/quickstart/data/iter_quickstart.current_od.xml\n",
      "### Runing: iter\n",
      "od2trips --no-step-log  --spread.uniform --taz-files /Users/rodrse/Documents/DemandCalibration/notebooks/od_calibration_sumo_files/quickstart/data/quickstart.taz.xml --tazrelation-files /Users/rodrse/Documents/DemandCalibration/notebooks/od_calibration_sumo_files/quickstart/data/iter_quickstart.current_od.xml -o /Users/rodrse/Documents/DemandCalibration/notebooks/od_calibration_sumo_files/quickstart/data/iter_od_trips.trips.xml \n",
      "Success.\n",
      "Loading net-file from '/Users/rodrse/Documents/DemandCalibration/notebooks/od_calibration_sumo_files/quickstart/data/quickstart.net.xml' ... done (5ms).\n",
      "Loading additional-files from '/Users/rodrse/Documents/DemandCalibration/notebooks/od_calibration_sumo_files/quickstart/data/quickstart.additional.xml' ... done (1ms).\n",
      "Loading done.\n",
      "Simulation version 1.16.0 started with time: 54000.00.\n",
      "Step #56900.00 (8ms ~= 125.00*RT, ~109500.00UPS, vehicles TOT 2599 ACT 876 BUF 0)         \r"
     ]
    },
    {
     "name": "stderr",
     "output_type": "stream",
     "text": [
      "Warning: Teleporting vehicle '600'; waited too long (wrong lane), lane='L12_2', time=56896.00.\n",
      "Warning: Vehicle '600' ends teleporting on edge 'L15', time=56896.00.\n",
      "Warning: Teleporting vehicle '602'; waited too long (wrong lane), lane='L12_2', time=56920.00.\n",
      "Warning: Vehicle '602' ends teleporting on edge 'L15', time=56945.00.\n"
     ]
    },
    {
     "name": "stdout",
     "output_type": "stream",
     "text": [
      "Step #57000.00 (9ms ~= 111.11*RT, ~100000.00UPS, vehicles TOT 2680 ACT 900 BUF 10)        \r"
     ]
    },
    {
     "name": "stderr",
     "output_type": "stream",
     "text": [
      "Warning: Teleporting vehicle '606'; waited too long (wrong lane), lane='L12_2', time=57020.00.\n",
      "Warning: Vehicle '606' ends teleporting on edge 'L15', time=57023.00.\n",
      "Warning: Teleporting vehicle '475'; waited too long (jam), lane='L2_0', time=57026.00.\n",
      "Warning: Vehicle '475' ends teleporting on edge 'L12', time=57026.00.\n",
      "Warning: Teleporting vehicle '608'; waited too long (wrong lane), lane='L12_2', time=57048.00.\n",
      "Warning: Vehicle '608' ends teleporting on edge 'L15', time=57081.00.\n",
      "Warning: Teleporting vehicle '671'; waited too long (jam), lane=':1_3_2', time=57087.00.\n",
      "Warning: Vehicle '671' ends teleporting on edge 'L12', time=57087.00.\n",
      "Warning: Teleporting vehicle '672'; waited too long (jam), lane='L2_1', time=57091.00.\n",
      "Warning: Vehicle '672' ends teleporting on edge 'L12', time=57091.00.\n"
     ]
    },
    {
     "name": "stdout",
     "output_type": "stream",
     "text": [
      "Step #57200.00 (8ms ~= 125.00*RT, ~113750.00UPS, vehicles TOT 2803 ACT 910 BUF 66)        \r"
     ]
    },
    {
     "name": "stderr",
     "output_type": "stream",
     "text": [
      "Warning: Teleporting vehicle '1371'; waited too long (jam), lane='D2_1', time=57225.00.\n",
      "Warning: Vehicle '1371' ends teleporting on edge 'L2', time=57225.00.\n",
      "Warning: Teleporting vehicle '715'; waited too long (jam), lane='D2_1', time=57227.00.\n",
      "Warning: Vehicle '715' ends teleporting on edge 'L2', time=57227.00.\n",
      "Warning: Teleporting vehicle '716'; waited too long (jam), lane='D2_1', time=57228.00.\n",
      "Warning: Vehicle '716' ends teleporting on edge 'L2', time=57234.00.\n",
      "Warning: Teleporting vehicle '616'; waited too long (wrong lane), lane='L12_2', time=57299.00.\n",
      "Warning: Vehicle '616' ends teleporting on edge 'L15', time=57299.00.\n",
      "Warning: Teleporting vehicle '617'; waited too long (wrong lane), lane='L12_2', time=57300.00.\n"
     ]
    },
    {
     "name": "stdout",
     "output_type": "stream",
     "text": [
      "Step #57300.00 (10ms ~= 100.00*RT, ~90100.00UPS, vehicles TOT 2852 ACT 901 BUF 107)       \r"
     ]
    },
    {
     "name": "stderr",
     "output_type": "stream",
     "text": [
      "Warning: Vehicle '617' ends teleporting on edge 'L15', time=57362.00.\n",
      "Warning: Teleporting vehicle '620'; waited too long (wrong lane), lane='L12_2', time=57385.00.\n",
      "Warning: Teleporting vehicle '1342'; waited too long (jam), lane=':1_3_2', time=57393.00.\n",
      "Warning: Vehicle '1342' ends teleporting on edge 'L12', time=57393.00.\n",
      "Warning: Teleporting vehicle '674'; waited too long (jam), lane='L2_1', time=57400.00.\n",
      "Warning: Vehicle '674' ends teleporting on edge 'L12', time=57400.00.\n"
     ]
    },
    {
     "name": "stdout",
     "output_type": "stream",
     "text": [
      "Step #57400.00 (11ms ~= 90.91*RT, ~82000.00UPS, vehicles TOT 2900 ACT 902 BUF 148)        \r"
     ]
    },
    {
     "name": "stderr",
     "output_type": "stream",
     "text": [
      "Warning: Teleporting vehicle '542'; waited too long (jam), lane='D2_0', time=57414.00.\n",
      "Warning: Vehicle '542' ends teleporting on edge 'L2', time=57414.00.\n",
      "Warning: Vehicle '620' ends teleporting on edge 'L15', time=57438.00.\n",
      "Warning: Teleporting vehicle '623'; waited too long (wrong lane), lane='L12_2', time=57468.00.\n",
      "Warning: Teleporting vehicle '476'; waited too long (jam), lane=':1_3_1', time=57476.00.\n",
      "Warning: Vehicle '476' ends teleporting on edge 'L12', time=57476.00.\n",
      "Warning: Vehicle '623' ends teleporting on edge 'L15', time=57478.00.\n"
     ]
    },
    {
     "name": "stdout",
     "output_type": "stream",
     "text": [
      "Step #57500.00 (9ms ~= 111.11*RT, ~99333.33UPS, vehicles TOT 2948 ACT 894 BUF 189)        \r"
     ]
    },
    {
     "name": "stderr",
     "output_type": "stream",
     "text": [
      "Warning: Teleporting vehicle '1372'; waited too long (jam), lane='D2_1', time=57536.00.\n",
      "Warning: Teleporting vehicle '717'; waited too long (jam), lane='D2_1', time=57537.00.\n",
      "Warning: Teleporting vehicle '626'; waited too long (wrong lane), lane='L12_2', time=57592.00.\n"
     ]
    },
    {
     "name": "stdout",
     "output_type": "stream",
     "text": [
      "Step #57600.00 (9ms ~= 111.11*RT, ~99333.33UPS, vehicles TOT 2996 ACT 894 BUF 231)        \n",
      "Simulation ended at time: 57600.00\n",
      "Reason: The final simulation step has been reached.\n",
      "Performance: \n",
      " Duration: 20.16s\n",
      " Real time factor: 178.616\n",
      " UPS: 111840.932771\n",
      "Vehicles: \n",
      " Inserted: 2996 (Loaded: 3227)\n",
      " Running: 894\n",
      " Waiting: 231\n",
      " Teleports: 21 (Jam: 12, Wrong Lane: 9)\n",
      "Statistics (avg of 2102):\n",
      " RouteLength: 4431.75\n",
      " Speed: 11.53\n",
      " Duration: 471.11\n",
      " WaitingTime: 85.52\n",
      " TimeLoss: 150.17\n",
      " DepartDelay: 0.49\n",
      "\n",
      "DijkstraRouter answered 3228 queries and explored 10.50 edges on average.\n",
      "DijkstraRouter spent 0.02s answering queries (0.01ms on average).\n",
      "####### 152 ########\n",
      "##### n=176 #####\n",
      "##### best_value=-0.001436093396988365 #####\n",
      "printing /Users/rodrse/Documents/DemandCalibration/notebooks/od_calibration_sumo_files/quickstart/data/iter_quickstart.current_od.xml\n",
      "### Runing: iter\n",
      "od2trips --no-step-log  --spread.uniform --taz-files /Users/rodrse/Documents/DemandCalibration/notebooks/od_calibration_sumo_files/quickstart/data/quickstart.taz.xml --tazrelation-files /Users/rodrse/Documents/DemandCalibration/notebooks/od_calibration_sumo_files/quickstart/data/iter_quickstart.current_od.xml -o /Users/rodrse/Documents/DemandCalibration/notebooks/od_calibration_sumo_files/quickstart/data/iter_od_trips.trips.xml \n",
      "Success.\n",
      "Loading net-file from '/Users/rodrse/Documents/DemandCalibration/notebooks/od_calibration_sumo_files/quickstart/data/quickstart.net.xml' ... done (6ms).\n",
      "Loading additional-files from '/Users/rodrse/Documents/DemandCalibration/notebooks/od_calibration_sumo_files/quickstart/data/quickstart.additional.xml' ... done (1ms).\n",
      "Loading done.\n",
      "Simulation version 1.16.0 started with time: 54000.00.\n",
      "Step #57600.00 (11ms ~= 90.91*RT, ~94181.82UPS, vehicles TOT 3216 ACT 1036 BUF 31)        \n",
      "Simulation ended at time: 57600.00\n",
      "Reason: The final simulation step has been reached.\n",
      "Performance: \n",
      " Duration: 24.10s\n",
      " Real time factor: 149.409\n",
      " UPS: 98435.650550\n",
      "Vehicles: \n",
      " Inserted: 3216 (Loaded: 3247)\n",
      " Running: 1036\n",
      " Waiting: 31\n",
      "Statistics (avg of 2180):\n",
      " RouteLength: 4275.64\n",
      " Speed: 10.74\n",
      " Duration: 616.82\n",
      " WaitingTime: 165.74\n",
      " TimeLoss: 306.82\n",
      " DepartDelay: 0.48\n",
      "\n",
      "DijkstraRouter answered 3255 queries and explored 9.81 edges on average.\n",
      "DijkstraRouter spent 0.02s answering queries (0.00ms on average).\n",
      "####### 153 ########\n",
      "##### n=177 #####\n",
      "##### best_value=-0.001436093396988365 #####\n",
      "printing /Users/rodrse/Documents/DemandCalibration/notebooks/od_calibration_sumo_files/quickstart/data/iter_quickstart.current_od.xml\n",
      "### Runing: iter\n",
      "od2trips --no-step-log  --spread.uniform --taz-files /Users/rodrse/Documents/DemandCalibration/notebooks/od_calibration_sumo_files/quickstart/data/quickstart.taz.xml --tazrelation-files /Users/rodrse/Documents/DemandCalibration/notebooks/od_calibration_sumo_files/quickstart/data/iter_quickstart.current_od.xml -o /Users/rodrse/Documents/DemandCalibration/notebooks/od_calibration_sumo_files/quickstart/data/iter_od_trips.trips.xml \n",
      "Success.\n",
      "Loading net-file from '/Users/rodrse/Documents/DemandCalibration/notebooks/od_calibration_sumo_files/quickstart/data/quickstart.net.xml' ... done (6ms).\n",
      "Loading additional-files from '/Users/rodrse/Documents/DemandCalibration/notebooks/od_calibration_sumo_files/quickstart/data/quickstart.additional.xml' ... done (1ms).\n",
      "Loading done.\n",
      "Simulation version 1.16.0 started with time: 54000.00.\n",
      "Step #57600.00 (8ms ~= 125.00*RT, ~98875.00UPS, vehicles TOT 2893 ACT 791 BUF 0)          \n",
      "Simulation ended at time: 57600.00\n",
      "Reason: The final simulation step has been reached.\n",
      "Performance: \n",
      " Duration: 17.76s\n",
      " Real time factor: 202.76\n",
      " UPS: 102840.382991\n",
      "Vehicles: \n",
      " Inserted: 2893\n",
      " Running: 791\n",
      " Waiting: 0\n",
      "Statistics (avg of 2102):\n",
      " RouteLength: 4313.07\n",
      " Speed: 10.91\n",
      " Duration: 531.10\n",
      " WaitingTime: 112.43\n",
      " TimeLoss: 219.18\n",
      " DepartDelay: 0.49\n",
      "\n",
      "DijkstraRouter answered 2893 queries and explored 9.77 edges on average.\n",
      "DijkstraRouter spent 0.01s answering queries (0.00ms on average).\n",
      "####### 154 ########\n",
      "##### n=178 #####\n",
      "##### best_value=-0.001436093396988365 #####\n",
      "printing /Users/rodrse/Documents/DemandCalibration/notebooks/od_calibration_sumo_files/quickstart/data/iter_quickstart.current_od.xml\n",
      "### Runing: iter\n",
      "od2trips --no-step-log  --spread.uniform --taz-files /Users/rodrse/Documents/DemandCalibration/notebooks/od_calibration_sumo_files/quickstart/data/quickstart.taz.xml --tazrelation-files /Users/rodrse/Documents/DemandCalibration/notebooks/od_calibration_sumo_files/quickstart/data/iter_quickstart.current_od.xml -o /Users/rodrse/Documents/DemandCalibration/notebooks/od_calibration_sumo_files/quickstart/data/iter_od_trips.trips.xml \n",
      "Success.\n",
      "Loading net-file from '/Users/rodrse/Documents/DemandCalibration/notebooks/od_calibration_sumo_files/quickstart/data/quickstart.net.xml' ... done (6ms).\n",
      "Loading additional-files from '/Users/rodrse/Documents/DemandCalibration/notebooks/od_calibration_sumo_files/quickstart/data/quickstart.additional.xml' ... done (1ms).\n",
      "Loading done.\n",
      "Simulation version 1.16.0 started with time: 54000.00.\n",
      "Step #57100.00 (5ms ~= 200.00*RT, ~115800.00UPS, vehicles TOT 2041 ACT 579 BUF 0)         \r"
     ]
    },
    {
     "name": "stderr",
     "output_type": "stream",
     "text": [
      "Warning: Teleporting vehicle '455'; waited too long (wrong lane), lane='L15_0', time=57114.00.\n",
      "Warning: Vehicle '455' ends teleporting on edge 'L18', time=57114.00.\n"
     ]
    },
    {
     "name": "stdout",
     "output_type": "stream",
     "text": [
      "Step #57200.00 (5ms ~= 200.00*RT, ~118200.00UPS, vehicles TOT 2107 ACT 591 BUF 0)         \r"
     ]
    },
    {
     "name": "stderr",
     "output_type": "stream",
     "text": [
      "Warning: Teleporting vehicle '484'; waited too long (wrong lane), lane='L15_0', time=57269.00.\n",
      "Warning: Vehicle '484' ends teleporting on edge 'L18', time=57269.00.\n"
     ]
    },
    {
     "name": "stdout",
     "output_type": "stream",
     "text": [
      "Step #57300.00 (5ms ~= 200.00*RT, ~121800.00UPS, vehicles TOT 2173 ACT 609 BUF 0)         \r"
     ]
    },
    {
     "name": "stderr",
     "output_type": "stream",
     "text": [
      "Warning: Teleporting vehicle '487'; waited too long (wrong lane), lane='L15_0', time=57349.00.\n",
      "Warning: Vehicle '487' ends teleporting on edge 'L18', time=57349.00.\n",
      "Warning: Teleporting vehicle '512'; waited too long (wrong lane), lane='L15_0', time=57359.00.\n",
      "Warning: Vehicle '512' ends teleporting on edge 'L18', time=57359.00.\n",
      "Warning: Teleporting vehicle '511'; waited too long (wrong lane), lane='L15_0', time=57360.00.\n",
      "Warning: Vehicle '511' ends teleporting on edge 'L18', time=57360.00.\n",
      "Warning: Teleporting vehicle '527'; waited too long (wrong lane), lane='L15_0', time=57361.00.\n",
      "Warning: Vehicle '527' ends teleporting on edge 'L18', time=57361.00.\n"
     ]
    },
    {
     "name": "stdout",
     "output_type": "stream",
     "text": [
      "Step #57600.00 (4ms ~= 250.00*RT, ~161750.00UPS, vehicles TOT 2370 ACT 647 BUF 0)         \n",
      "Simulation ended at time: 57600.00\n",
      "Reason: The final simulation step has been reached.\n",
      "Performance: \n",
      " Duration: 11.68s\n",
      " Real time factor: 308.298\n",
      " UPS: 124186.434872\n",
      "Vehicles: \n",
      " Inserted: 2370\n",
      " Running: 647\n",
      " Waiting: 0\n",
      " Teleports: 6 (Wrong Lane: 6)\n",
      "Statistics (avg of 1723):\n",
      " RouteLength: 4319.96\n",
      " Speed: 12.31\n",
      " Duration: 448.56\n",
      " WaitingTime: 86.61\n",
      " TimeLoss: 135.30\n",
      " DepartDelay: 0.50\n",
      "\n",
      "DijkstraRouter answered 2370 queries and explored 10.45 edges on average.\n",
      "DijkstraRouter spent 0.01s answering queries (0.00ms on average).\n",
      "####### 155 ########\n",
      "##### n=179 #####\n",
      "##### best_value=-0.001436093396988365 #####\n",
      "printing /Users/rodrse/Documents/DemandCalibration/notebooks/od_calibration_sumo_files/quickstart/data/iter_quickstart.current_od.xml\n",
      "### Runing: iter\n",
      "od2trips --no-step-log  --spread.uniform --taz-files /Users/rodrse/Documents/DemandCalibration/notebooks/od_calibration_sumo_files/quickstart/data/quickstart.taz.xml --tazrelation-files /Users/rodrse/Documents/DemandCalibration/notebooks/od_calibration_sumo_files/quickstart/data/iter_quickstart.current_od.xml -o /Users/rodrse/Documents/DemandCalibration/notebooks/od_calibration_sumo_files/quickstart/data/iter_od_trips.trips.xml \n",
      "Success.\n",
      "Loading net-file from '/Users/rodrse/Documents/DemandCalibration/notebooks/od_calibration_sumo_files/quickstart/data/quickstart.net.xml' ... done (5ms).\n",
      "Loading additional-files from '/Users/rodrse/Documents/DemandCalibration/notebooks/od_calibration_sumo_files/quickstart/data/quickstart.additional.xml' ... done (1ms).\n",
      "Loading done.\n",
      "Simulation version 1.16.0 started with time: 54000.00.\n",
      "Step #57600.00 (3ms ~= 333.33*RT, ~141666.67UPS, vehicles TOT 2149 ACT 425 BUF 0)         \n",
      "Simulation ended at time: 57600.00\n",
      "Reason: The final simulation step has been reached.\n",
      "Performance: \n",
      " Duration: 8.16s\n",
      " Real time factor: 441.285\n",
      " UPS: 132938.220152\n",
      "Vehicles: \n",
      " Inserted: 2149\n",
      " Running: 425\n",
      " Waiting: 0\n",
      "Statistics (avg of 1724):\n",
      " RouteLength: 4453.04\n",
      " Speed: 11.75\n",
      " Duration: 461.22\n",
      " WaitingTime: 89.27\n",
      " TimeLoss: 138.21\n",
      " DepartDelay: 0.49\n",
      "\n",
      "DijkstraRouter answered 2149 queries and explored 10.21 edges on average.\n",
      "DijkstraRouter spent 0.01s answering queries (0.00ms on average).\n",
      "####### 156 ########\n",
      "##### n=180 #####\n",
      "##### best_value=-0.001436093396988365 #####\n",
      "printing /Users/rodrse/Documents/DemandCalibration/notebooks/od_calibration_sumo_files/quickstart/data/iter_quickstart.current_od.xml\n",
      "### Runing: iter\n",
      "od2trips --no-step-log  --spread.uniform --taz-files /Users/rodrse/Documents/DemandCalibration/notebooks/od_calibration_sumo_files/quickstart/data/quickstart.taz.xml --tazrelation-files /Users/rodrse/Documents/DemandCalibration/notebooks/od_calibration_sumo_files/quickstart/data/iter_quickstart.current_od.xml -o /Users/rodrse/Documents/DemandCalibration/notebooks/od_calibration_sumo_files/quickstart/data/iter_od_trips.trips.xml \n",
      "Success.\n",
      "Loading net-file from '/Users/rodrse/Documents/DemandCalibration/notebooks/od_calibration_sumo_files/quickstart/data/quickstart.net.xml' ... done (6ms).\n",
      "Loading additional-files from '/Users/rodrse/Documents/DemandCalibration/notebooks/od_calibration_sumo_files/quickstart/data/quickstart.additional.xml' ... done (1ms).\n",
      "Loading done.\n",
      "Simulation version 1.16.0 started with time: 54000.00.\n",
      "Step #57600.00 (9ms ~= 111.11*RT, ~84777.78UPS, vehicles TOT 2498 ACT 763 BUF 0)          \n",
      "Simulation ended at time: 57600.00\n",
      "Reason: The final simulation step has been reached.\n",
      "Performance: \n",
      " Duration: 14.00s\n",
      " Real time factor: 257.198\n",
      " UPS: 116265.628349\n",
      "Vehicles: \n",
      " Inserted: 2498\n",
      " Running: 763\n",
      " Waiting: 0\n",
      "Statistics (avg of 1735):\n",
      " RouteLength: 4372.12\n",
      " Speed: 12.51\n",
      " Duration: 433.76\n",
      " WaitingTime: 77.59\n",
      " TimeLoss: 116.95\n",
      " DepartDelay: 0.49\n",
      "\n",
      "DijkstraRouter answered 2498 queries and explored 10.72 edges on average.\n",
      "DijkstraRouter spent 0.00s answering queries (0.00ms on average).\n",
      "####### 157 ########\n",
      "##### n=181 #####\n",
      "##### best_value=-0.001436093396988365 #####\n",
      "printing /Users/rodrse/Documents/DemandCalibration/notebooks/od_calibration_sumo_files/quickstart/data/iter_quickstart.current_od.xml\n",
      "### Runing: iter\n",
      "od2trips --no-step-log  --spread.uniform --taz-files /Users/rodrse/Documents/DemandCalibration/notebooks/od_calibration_sumo_files/quickstart/data/quickstart.taz.xml --tazrelation-files /Users/rodrse/Documents/DemandCalibration/notebooks/od_calibration_sumo_files/quickstart/data/iter_quickstart.current_od.xml -o /Users/rodrse/Documents/DemandCalibration/notebooks/od_calibration_sumo_files/quickstart/data/iter_od_trips.trips.xml \n",
      "Success.\n",
      "Loading net-file from '/Users/rodrse/Documents/DemandCalibration/notebooks/od_calibration_sumo_files/quickstart/data/quickstart.net.xml' ... done (6ms).\n",
      "Loading additional-files from '/Users/rodrse/Documents/DemandCalibration/notebooks/od_calibration_sumo_files/quickstart/data/quickstart.additional.xml' ... done (1ms).\n",
      "Loading done.\n",
      "Simulation version 1.16.0 started with time: 54000.00.\n",
      "Step #57600.00 (8ms ~= 125.00*RT, ~98500.00UPS, vehicles TOT 2712 ACT 788 BUF 29)         \n",
      "Simulation ended at time: 57600.00\n",
      "Reason: The final simulation step has been reached.\n",
      "Performance: \n",
      " Duration: 14.43s\n",
      " Real time factor: 249.567\n",
      " UPS: 120978.093588\n",
      "Vehicles: \n",
      " Inserted: 2712 (Loaded: 2741)\n",
      " Running: 788\n",
      " Waiting: 29\n",
      "Statistics (avg of 1924):\n",
      " RouteLength: 4332.01\n",
      " Speed: 12.19\n",
      " Duration: 433.12\n",
      " WaitingTime: 76.23\n",
      " TimeLoss: 118.29\n",
      " DepartDelay: 0.49\n",
      "\n",
      "DijkstraRouter answered 2753 queries and explored 10.16 edges on average.\n",
      "DijkstraRouter spent 0.01s answering queries (0.00ms on average).\n",
      "####### 158 ########\n",
      "##### n=182 #####\n",
      "##### best_value=-0.001436093396988365 #####\n",
      "printing /Users/rodrse/Documents/DemandCalibration/notebooks/od_calibration_sumo_files/quickstart/data/iter_quickstart.current_od.xml\n",
      "### Runing: iter\n",
      "od2trips --no-step-log  --spread.uniform --taz-files /Users/rodrse/Documents/DemandCalibration/notebooks/od_calibration_sumo_files/quickstart/data/quickstart.taz.xml --tazrelation-files /Users/rodrse/Documents/DemandCalibration/notebooks/od_calibration_sumo_files/quickstart/data/iter_quickstart.current_od.xml -o /Users/rodrse/Documents/DemandCalibration/notebooks/od_calibration_sumo_files/quickstart/data/iter_od_trips.trips.xml \n",
      "Success.\n",
      "Loading net-file from '/Users/rodrse/Documents/DemandCalibration/notebooks/od_calibration_sumo_files/quickstart/data/quickstart.net.xml' ... done (6ms).\n",
      "Loading additional-files from '/Users/rodrse/Documents/DemandCalibration/notebooks/od_calibration_sumo_files/quickstart/data/quickstart.additional.xml' ... done (1ms).\n",
      "Loading done.\n",
      "Simulation version 1.16.0 started with time: 54000.00.\n",
      "Step #56100.00 (7ms ~= 142.86*RT, ~110714.29UPS, vehicles TOT 1939 ACT 775 BUF 0)         \r"
     ]
    },
    {
     "name": "stderr",
     "output_type": "stream",
     "text": [
      "Warning: Teleporting vehicle '387'; waited too long (wrong lane), lane='L15_0', time=56098.00.\n",
      "Warning: Vehicle '387' ends teleporting on edge 'L18', time=56098.00.\n",
      "Warning: Teleporting vehicle '391'; waited too long (wrong lane), lane='L15_0', time=56102.00.\n",
      "Warning: Vehicle '391' ends teleporting on edge 'L18', time=56102.00.\n"
     ]
    },
    {
     "name": "stdout",
     "output_type": "stream",
     "text": [
      "Step #56200.00 (8ms ~= 125.00*RT, ~97250.00UPS, vehicles TOT 2033 ACT 778 BUF 0)          \r"
     ]
    },
    {
     "name": "stderr",
     "output_type": "stream",
     "text": [
      "Warning: Teleporting vehicle '327'; waited too long (jam), lane='L12_1', time=56251.00.\n",
      "Warning: Vehicle '327' ends teleporting on edge 'L15', time=56251.00.\n"
     ]
    },
    {
     "name": "stdout",
     "output_type": "stream",
     "text": [
      "Step #56800.00 (9ms ~= 111.11*RT, ~98111.11UPS, vehicles TOT 2585 ACT 883 BUF 0)          \r"
     ]
    },
    {
     "name": "stderr",
     "output_type": "stream",
     "text": [
      "Warning: Teleporting vehicle '618'; waited too long (wrong lane), lane='L12_2', time=56807.00.\n",
      "Warning: Vehicle '618' ends teleporting on edge 'L15', time=56807.00.\n"
     ]
    },
    {
     "name": "stdout",
     "output_type": "stream",
     "text": [
      "Step #56900.00 (7ms ~= 142.86*RT, ~128857.14UPS, vehicles TOT 2663 ACT 902 BUF 14)        \r"
     ]
    },
    {
     "name": "stderr",
     "output_type": "stream",
     "text": [
      "Warning: Teleporting vehicle '482'; waited too long (jam), lane='L2_0', time=56927.00.\n",
      "Warning: Vehicle '482' ends teleporting on edge 'L12', time=56927.00.\n",
      "Warning: Teleporting vehicle '623'; waited too long (wrong lane), lane='L12_2', time=56958.00.\n",
      "Warning: Vehicle '623' ends teleporting on edge 'L15', time=56958.00.\n",
      "Warning: Teleporting vehicle '624'; waited too long (wrong lane), lane='L12_2', time=56959.00.\n",
      "Warning: Teleporting vehicle '625'; waited too long (wrong lane), lane='L12_2', time=56983.00.\n",
      "Warning: Teleporting vehicle '685'; waited too long (jam), lane='L2_1', time=56994.00.\n",
      "Warning: Vehicle '685' ends teleporting on edge 'L12', time=56994.00.\n",
      "Warning: Vehicle '624' ends teleporting on edge 'L15', time=56996.00.\n"
     ]
    },
    {
     "name": "stdout",
     "output_type": "stream",
     "text": [
      "Step #57000.00 (8ms ~= 125.00*RT, ~115500.00UPS, vehicles TOT 2741 ACT 924 BUF 31)        \r"
     ]
    },
    {
     "name": "stderr",
     "output_type": "stream",
     "text": [
      "Warning: Vehicle '625' ends teleporting on edge 'L15', time=57071.00.\n"
     ]
    },
    {
     "name": "stdout",
     "output_type": "stream",
     "text": [
      "Step #57100.00 (9ms ~= 111.11*RT, ~102111.11UPS, vehicles TOT 2790 ACT 919 BUF 73)        \r"
     ]
    },
    {
     "name": "stderr",
     "output_type": "stream",
     "text": [
      "Warning: Teleporting vehicle '629'; waited too long (wrong lane), lane='L12_2', time=57117.00.\n",
      "Warning: Teleporting vehicle '1418'; waited too long (jam), lane='D2_1', time=57119.00.\n",
      "Warning: Vehicle '629' ends teleporting on edge 'L15', time=57145.00.\n"
     ]
    },
    {
     "name": "stdout",
     "output_type": "stream",
     "text": [
      "Step #57200.00 (8ms ~= 125.00*RT, ~113375.00UPS, vehicles TOT 2839 ACT 907 BUF 116)       \r"
     ]
    },
    {
     "name": "stderr",
     "output_type": "stream",
     "text": [
      "Warning: Teleporting vehicle '483'; waited too long (jam), lane='L2_0', time=57233.00.\n",
      "Warning: Vehicle '483' ends teleporting on edge 'L12', time=57233.00.\n",
      "Warning: Teleporting vehicle '631'; waited too long (wrong lane), lane='L12_2', time=57257.00.\n",
      "Warning: Vehicle '631' ends teleporting on edge 'L15', time=57257.00.\n"
     ]
    },
    {
     "name": "stdout",
     "output_type": "stream",
     "text": [
      "Step #57300.00 (8ms ~= 125.00*RT, ~113250.00UPS, vehicles TOT 2888 ACT 906 BUF 159)       \r"
     ]
    },
    {
     "name": "stderr",
     "output_type": "stream",
     "text": [
      "Warning: Teleporting vehicle '1391'; waited too long (jam), lane='L2_1', time=57300.00.\n",
      "Warning: Vehicle '1418' ends teleporting on edge 'L2', time=57300.00.\n",
      "Warning: Teleporting vehicle '550'; waited too long (jam), lane='D2_0', time=57320.00.\n",
      "Warning: Teleporting vehicle '638'; waited too long (wrong lane), lane='L12_2', time=57365.00.\n",
      "Warning: Vehicle '1391' ends teleporting on edge 'L12', time=57366.00.\n"
     ]
    },
    {
     "name": "stdout",
     "output_type": "stream",
     "text": [
      "Step #57400.00 (8ms ~= 125.00*RT, ~112125.00UPS, vehicles TOT 2938 ACT 897 BUF 203)       \r"
     ]
    },
    {
     "name": "stderr",
     "output_type": "stream",
     "text": [
      "Warning: Vehicle '638' ends teleporting on edge 'L15', time=57420.00.\n",
      "Warning: Teleporting vehicle '1419'; waited too long (jam), lane='D2_1', time=57424.00.\n"
     ]
    },
    {
     "name": "stdout",
     "output_type": "stream",
     "text": [
      "Step #57500.00 (7ms ~= 142.86*RT, ~127571.43UPS, vehicles TOT 2986 ACT 893 BUF 246)       \r"
     ]
    },
    {
     "name": "stderr",
     "output_type": "stream",
     "text": [
      "Warning: Teleporting vehicle '646'; waited too long (wrong lane), lane='L12_2', time=57509.00.\n",
      "Warning: Teleporting vehicle '647'; waited too long (wrong lane), lane='L12_2', time=57510.00.\n",
      "Warning: Teleporting vehicle '484'; waited too long (jam), lane='L2_0', time=57540.00.\n",
      "Warning: Vehicle '484' ends teleporting on edge 'L12', time=57540.00.\n",
      "Warning: Vehicle '550' ends teleporting on edge 'L2', time=57541.00.\n",
      "Warning: Vehicle '646' ends teleporting on edge 'L15', time=57558.00.\n",
      "Warning: Teleporting vehicle '648'; waited too long (wrong lane), lane='L12_2', time=57559.00.\n"
     ]
    },
    {
     "name": "stdout",
     "output_type": "stream",
     "text": [
      "Step #57600.00 (9ms ~= 111.11*RT, ~98888.89UPS, vehicles TOT 3035 ACT 890 BUF 289)        \n",
      "Simulation ended at time: 57600.00\n",
      "Reason: The final simulation step has been reached.\n",
      "Performance: \n",
      " Duration: 22.23s\n",
      " Real time factor: 161.936\n",
      " UPS: 106580.225811\n",
      "Vehicles: \n",
      " Inserted: 3035 (Loaded: 3324)\n",
      " Running: 890\n",
      " Waiting: 289\n",
      " Teleports: 21 (Jam: 9, Wrong Lane: 12)\n",
      "Statistics (avg of 2145):\n",
      " RouteLength: 4425.74\n",
      " Speed: 11.27\n",
      " Duration: 490.71\n",
      " WaitingTime: 89.77\n",
      " TimeLoss: 170.52\n",
      " DepartDelay: 0.49\n",
      "\n",
      "DijkstraRouter answered 3333 queries and explored 10.48 edges on average.\n",
      "DijkstraRouter spent 0.01s answering queries (0.00ms on average).\n",
      "####### 159 ########\n",
      "##### n=183 #####\n",
      "##### best_value=-0.001436093396988365 #####\n",
      "printing /Users/rodrse/Documents/DemandCalibration/notebooks/od_calibration_sumo_files/quickstart/data/iter_quickstart.current_od.xml\n",
      "### Runing: iter\n",
      "od2trips --no-step-log  --spread.uniform --taz-files /Users/rodrse/Documents/DemandCalibration/notebooks/od_calibration_sumo_files/quickstart/data/quickstart.taz.xml --tazrelation-files /Users/rodrse/Documents/DemandCalibration/notebooks/od_calibration_sumo_files/quickstart/data/iter_quickstart.current_od.xml -o /Users/rodrse/Documents/DemandCalibration/notebooks/od_calibration_sumo_files/quickstart/data/iter_od_trips.trips.xml \n",
      "Success.\n",
      "Loading net-file from '/Users/rodrse/Documents/DemandCalibration/notebooks/od_calibration_sumo_files/quickstart/data/quickstart.net.xml' ... done (6ms).\n",
      "Loading additional-files from '/Users/rodrse/Documents/DemandCalibration/notebooks/od_calibration_sumo_files/quickstart/data/quickstart.additional.xml' ... done (1ms).\n",
      "Loading done.\n",
      "Simulation version 1.16.0 started with time: 54000.00.\n",
      "Step #56500.00 (7ms ~= 142.86*RT, ~118571.43UPS, vehicles TOT 2287 ACT 830 BUF 0)         \r"
     ]
    },
    {
     "name": "stderr",
     "output_type": "stream",
     "text": [
      "Warning: Teleporting vehicle '430'; waited too long (wrong lane), lane='L15_0', time=56518.00.\n",
      "Warning: Vehicle '430' ends teleporting on edge 'L18', time=56518.00.\n",
      "Warning: Teleporting vehicle '434'; waited too long (wrong lane), lane='L15_0', time=56519.00.\n",
      "Warning: Vehicle '434' ends teleporting on edge 'L18', time=56519.00.\n",
      "Warning: Teleporting vehicle '438'; waited too long (wrong lane), lane='L15_0', time=56520.00.\n",
      "Warning: Vehicle '438' ends teleporting on edge 'L18', time=56520.00.\n",
      "Warning: Teleporting vehicle '444'; waited too long (wrong lane), lane='L15_0', time=56522.00.\n",
      "Warning: Vehicle '444' ends teleporting on edge 'L18', time=56522.00.\n",
      "Warning: Teleporting vehicle '422'; waited too long (wrong lane), lane='L15_0', time=56577.00.\n",
      "Warning: Vehicle '422' ends teleporting on edge 'L18', time=56577.00.\n",
      "Warning: Teleporting vehicle '433'; waited too long (wrong lane), lane='L15_0', time=56578.00.\n",
      "Warning: Vehicle '433' ends teleporting on edge 'L18', time=56578.00.\n",
      "Warning: Teleporting vehicle '451'; waited too long (wrong lane), lane='L15_0', time=56579.00.\n",
      "Warning: Vehicle '451' ends teleporting on edge 'L18', time=56579.00.\n",
      "Warning: Teleporting vehicle '447'; waited too long (wrong lane), lane='L15_0', time=56580.00.\n",
      "Warning: Vehicle '447' ends teleporting on edge 'L18', time=56580.00.\n",
      "Warning: Teleporting vehicle '450'; waited too long (wrong lane), lane='L15_0', time=56581.00.\n",
      "Warning: Vehicle '450' ends teleporting on edge 'L18', time=56581.00.\n",
      "Warning: Teleporting vehicle '381'; waited too long (wrong lane), lane='L15_0', time=56583.00.\n",
      "Warning: Vehicle '381' ends teleporting on edge 'L18', time=56583.00.\n",
      "Warning: Teleporting vehicle '435'; waited too long (wrong lane), lane='L15_0', time=56584.00.\n",
      "Warning: Vehicle '435' ends teleporting on edge 'L18', time=56584.00.\n"
     ]
    },
    {
     "name": "stdout",
     "output_type": "stream",
     "text": [
      "Step #56600.00 (9ms ~= 111.11*RT, ~92888.89UPS, vehicles TOT 2378 ACT 836 BUF 0)          \r"
     ]
    },
    {
     "name": "stderr",
     "output_type": "stream",
     "text": [
      "Warning: Teleporting vehicle '389'; waited too long (wrong lane), lane='L15_0', time=56608.00.\n",
      "Warning: Vehicle '389' ends teleporting on edge 'L18', time=56608.00.\n",
      "Warning: Teleporting vehicle '401'; waited too long (wrong lane), lane='L15_0', time=56636.00.\n",
      "Warning: Vehicle '401' ends teleporting on edge 'L18', time=56636.00.\n",
      "Warning: Teleporting vehicle '411'; waited too long (wrong lane), lane='L15_0', time=56637.00.\n",
      "Warning: Vehicle '411' ends teleporting on edge 'L18', time=56637.00.\n",
      "Warning: Teleporting vehicle '415'; waited too long (wrong lane), lane='L15_0', time=56638.00.\n",
      "Warning: Vehicle '415' ends teleporting on edge 'L18', time=56638.00.\n",
      "Warning: Teleporting vehicle '469'; waited too long (wrong lane), lane='L15_0', time=56639.00.\n",
      "Warning: Vehicle '469' ends teleporting on edge 'L18', time=56639.00.\n",
      "Warning: Teleporting vehicle '471'; waited too long (wrong lane), lane='L15_0', time=56641.00.\n",
      "Warning: Vehicle '471' ends teleporting on edge 'L18', time=56641.00.\n",
      "Warning: Teleporting vehicle '452'; waited too long (wrong lane), lane='L15_0', time=56643.00.\n",
      "Warning: Vehicle '452' ends teleporting on edge 'L18', time=56643.00.\n",
      "Warning: Teleporting vehicle '456'; waited too long (wrong lane), lane='L15_0', time=56644.00.\n",
      "Warning: Vehicle '456' ends teleporting on edge 'L18', time=56644.00.\n",
      "Warning: Teleporting vehicle '458'; waited too long (wrong lane), lane='L15_0', time=56645.00.\n",
      "Warning: Vehicle '458' ends teleporting on edge 'L18', time=56645.00.\n",
      "Warning: Teleporting vehicle '464'; waited too long (wrong lane), lane='L15_0', time=56646.00.\n",
      "Warning: Vehicle '464' ends teleporting on edge 'L18', time=56646.00.\n",
      "Warning: Teleporting vehicle '466'; waited too long (wrong lane), lane='L15_0', time=56647.00.\n",
      "Warning: Vehicle '466' ends teleporting on edge 'L18', time=56647.00.\n",
      "Warning: Teleporting vehicle '461'; waited too long (wrong lane), lane='L15_0', time=56649.00.\n",
      "Warning: Vehicle '461' ends teleporting on edge 'L18', time=56649.00.\n",
      "Warning: Teleporting vehicle '468'; waited too long (wrong lane), lane='L15_0', time=56650.00.\n",
      "Warning: Vehicle '468' ends teleporting on edge 'L18', time=56650.00.\n",
      "Warning: Teleporting vehicle '473'; waited too long (wrong lane), lane='L15_0', time=56651.00.\n",
      "Warning: Vehicle '473' ends teleporting on edge 'L18', time=56651.00.\n",
      "Warning: Teleporting vehicle '477'; waited too long (wrong lane), lane='L15_0', time=56652.00.\n",
      "Warning: Vehicle '477' ends teleporting on edge 'L18', time=56652.00.\n"
     ]
    },
    {
     "name": "stdout",
     "output_type": "stream",
     "text": [
      "Step #57000.00 (10ms ~= 100.00*RT, ~87600.00UPS, vehicles TOT 2745 ACT 876 BUF 0)         \r"
     ]
    },
    {
     "name": "stderr",
     "output_type": "stream",
     "text": [
      "Warning: Teleporting vehicle '524'; waited too long (jam), lane='L2_0', time=57031.00.\n",
      "Warning: Vehicle '524' ends teleporting on edge 'L12', time=57031.00.\n"
     ]
    },
    {
     "name": "stdout",
     "output_type": "stream",
     "text": [
      "Step #57100.00 (12ms ~= 83.33*RT, ~75666.67UPS, vehicles TOT 2831 ACT 908 BUF 4)          \r"
     ]
    },
    {
     "name": "stderr",
     "output_type": "stream",
     "text": [
      "Warning: Teleporting vehicle '660'; waited too long (wrong lane), lane='L12_2', time=57133.00.\n",
      "Warning: Vehicle '660' ends teleporting on edge 'L15', time=57133.00.\n"
     ]
    },
    {
     "name": "stdout",
     "output_type": "stream",
     "text": [
      "Step #57200.00 (10ms ~= 100.00*RT, ~90400.00UPS, vehicles TOT 2876 ACT 904 BUF 51)        \r"
     ]
    },
    {
     "name": "stderr",
     "output_type": "stream",
     "text": [
      "Warning: Teleporting vehicle '662'; waited too long (wrong lane), lane='L12_2', time=57200.00.\n",
      "Warning: Vehicle '662' ends teleporting on edge 'L15', time=57200.00.\n",
      "Warning: Teleporting vehicle '1557'; waited too long (jam), lane='L2_1', time=57207.00.\n",
      "Warning: Teleporting vehicle '714'; waited too long (jam), lane='L2_1', time=57208.00.\n",
      "Warning: Vehicle '714' ends teleporting on edge 'L12', time=57208.00.\n",
      "Warning: Teleporting vehicle '665'; waited too long (wrong lane), lane='L12_2', time=57248.00.\n",
      "Warning: Vehicle '665' ends teleporting on edge 'L15', time=57248.00.\n",
      "Warning: Teleporting vehicle '668'; waited too long (wrong lane), lane='L12_2', time=57293.00.\n",
      "Warning: Teleporting vehicle '1589'; waited too long (jam), lane='D2_1', time=57303.00.\n",
      "Warning: Vehicle '1589' ends teleporting on edge 'L2', time=57303.00.\n",
      "Warning: Teleporting vehicle '750'; waited too long (jam), lane='D2_1', time=57304.00.\n",
      "Warning: Vehicle '668' ends teleporting on edge 'L15', time=57304.00.\n"
     ]
    },
    {
     "name": "stdout",
     "output_type": "stream",
     "text": [
      "Step #57300.00 (9ms ~= 111.11*RT, ~98888.89UPS, vehicles TOT 2919 ACT 890 BUF 99)         \r"
     ]
    },
    {
     "name": "stderr",
     "output_type": "stream",
     "text": [
      "Warning: Teleporting vehicle '523'; waited too long (jam), lane='L2_0', time=57336.00.\n",
      "Warning: Vehicle '523' ends teleporting on edge 'L12', time=57336.00.\n"
     ]
    },
    {
     "name": "stdout",
     "output_type": "stream",
     "text": [
      "Step #57400.00 (7ms ~= 142.86*RT, ~126285.71UPS, vehicles TOT 2962 ACT 884 BUF 147)       \r"
     ]
    },
    {
     "name": "stderr",
     "output_type": "stream",
     "text": [
      "Warning: Vehicle '1557' ends teleporting on edge 'L12', time=57414.00.\n",
      "Warning: Vehicle '1557' performs emergency braking on lane 'L12_1' with decel=9.00, wished=6.00, severity=1.00, time=57415.00.\n",
      "Warning: Teleporting vehicle '591'; waited too long (jam), lane='D2_0', time=57423.00.\n"
     ]
    },
    {
     "name": "stdout",
     "output_type": "stream",
     "text": [
      "Step #57500.00 (10ms ~= 100.00*RT, ~88100.00UPS, vehicles TOT 3006 ACT 881 BUF 196)       \r"
     ]
    },
    {
     "name": "stderr",
     "output_type": "stream",
     "text": [
      "Warning: Teleporting vehicle '1558'; waited too long (jam), lane='L2_1', time=57516.00.\n",
      "Warning: Teleporting vehicle '681'; waited too long (wrong lane), lane='L12_2', time=57597.00.\n",
      "Warning: Vehicle '681' ends teleporting on edge 'L15', time=57597.00.\n"
     ]
    },
    {
     "name": "stdout",
     "output_type": "stream",
     "text": [
      "Step #57600.00 (8ms ~= 125.00*RT, ~109375.00UPS, vehicles TOT 3049 ACT 875 BUF 244)       \n",
      "Simulation ended at time: 57600.00\n",
      "Reason: The final simulation step has been reached.\n",
      "Performance: \n",
      " Duration: 22.44s\n",
      " Real time factor: 160.456\n",
      " UPS: 102260.563380\n",
      "Vehicles: \n",
      " Inserted: 3049 (Loaded: 3293)\n",
      " Running: 875\n",
      " Waiting: 244\n",
      " Teleports: 39 (Jam: 8, Wrong Lane: 31)\n",
      "Statistics (avg of 2174):\n",
      " RouteLength: 4393.23\n",
      " Speed: 11.17\n",
      " Duration: 495.81\n",
      " WaitingTime: 98.45\n",
      " TimeLoss: 177.40\n",
      " DepartDelay: 0.49\n",
      "\n",
      "DijkstraRouter answered 3294 queries and explored 10.25 edges on average.\n",
      "DijkstraRouter spent 0.01s answering queries (0.00ms on average).\n",
      "####### 160 ########\n",
      "##### n=184 #####\n",
      "##### best_value=-0.001436093396988365 #####\n",
      "printing /Users/rodrse/Documents/DemandCalibration/notebooks/od_calibration_sumo_files/quickstart/data/iter_quickstart.current_od.xml\n",
      "### Runing: iter\n",
      "od2trips --no-step-log  --spread.uniform --taz-files /Users/rodrse/Documents/DemandCalibration/notebooks/od_calibration_sumo_files/quickstart/data/quickstart.taz.xml --tazrelation-files /Users/rodrse/Documents/DemandCalibration/notebooks/od_calibration_sumo_files/quickstart/data/iter_quickstart.current_od.xml -o /Users/rodrse/Documents/DemandCalibration/notebooks/od_calibration_sumo_files/quickstart/data/iter_od_trips.trips.xml \n",
      "Success.\n",
      "Loading net-file from '/Users/rodrse/Documents/DemandCalibration/notebooks/od_calibration_sumo_files/quickstart/data/quickstart.net.xml' ... done (6ms).\n",
      "Loading additional-files from '/Users/rodrse/Documents/DemandCalibration/notebooks/od_calibration_sumo_files/quickstart/data/quickstart.additional.xml' ... done (1ms).\n",
      "Loading done.\n",
      "Simulation version 1.16.0 started with time: 54000.00.\n",
      "Step #57600.00 (7ms ~= 142.86*RT, ~115142.86UPS, vehicles TOT 3167 ACT 806 BUF 23)        \n",
      "Simulation ended at time: 57600.00\n",
      "Reason: The final simulation step has been reached.\n",
      "Performance: \n",
      " Duration: 20.77s\n",
      " Real time factor: 173.369\n",
      " UPS: 100367.108115\n",
      "Vehicles: \n",
      " Inserted: 3167 (Loaded: 3190)\n",
      " Running: 806\n",
      " Waiting: 23\n",
      "Statistics (avg of 2361):\n",
      " RouteLength: 4286.98\n",
      " Speed: 11.09\n",
      " Duration: 512.31\n",
      " WaitingTime: 109.71\n",
      " TimeLoss: 201.46\n",
      " DepartDelay: 0.49\n",
      "\n",
      "DijkstraRouter answered 3190 queries and explored 9.58 edges on average.\n",
      "DijkstraRouter spent 0.01s answering queries (0.00ms on average).\n",
      "####### 161 ########\n",
      "##### n=185 #####\n",
      "##### best_value=-0.001436093396988365 #####\n",
      "printing /Users/rodrse/Documents/DemandCalibration/notebooks/od_calibration_sumo_files/quickstart/data/iter_quickstart.current_od.xml\n",
      "### Runing: iter\n",
      "od2trips --no-step-log  --spread.uniform --taz-files /Users/rodrse/Documents/DemandCalibration/notebooks/od_calibration_sumo_files/quickstart/data/quickstart.taz.xml --tazrelation-files /Users/rodrse/Documents/DemandCalibration/notebooks/od_calibration_sumo_files/quickstart/data/iter_quickstart.current_od.xml -o /Users/rodrse/Documents/DemandCalibration/notebooks/od_calibration_sumo_files/quickstart/data/iter_od_trips.trips.xml \n",
      "Success.\n",
      "Loading net-file from '/Users/rodrse/Documents/DemandCalibration/notebooks/od_calibration_sumo_files/quickstart/data/quickstart.net.xml' ... done (6ms).\n",
      "Loading additional-files from '/Users/rodrse/Documents/DemandCalibration/notebooks/od_calibration_sumo_files/quickstart/data/quickstart.additional.xml' ... done (1ms).\n",
      "Loading done.\n",
      "Simulation version 1.16.0 started with time: 54000.00.\n",
      "Step #57600.00 (8ms ~= 125.00*RT, ~92500.00UPS, vehicles TOT 2861 ACT 740 BUF 0)          \n",
      "Simulation ended at time: 57600.00\n",
      "Reason: The final simulation step has been reached.\n",
      "Performance: \n",
      " Duration: 14.36s\n",
      " Real time factor: 250.627\n",
      " UPS: 118267.752715\n",
      "Vehicles: \n",
      " Inserted: 2861\n",
      " Running: 740\n",
      " Waiting: 0\n",
      "Statistics (avg of 2121):\n",
      " RouteLength: 4216.83\n",
      " Speed: 11.56\n",
      " Duration: 499.38\n",
      " WaitingTime: 122.81\n",
      " TimeLoss: 194.05\n",
      " DepartDelay: 0.47\n",
      "\n",
      "DijkstraRouter answered 2861 queries and explored 9.30 edges on average.\n",
      "DijkstraRouter spent 0.01s answering queries (0.00ms on average).\n",
      "####### 162 ########\n",
      "##### n=186 #####\n",
      "##### best_value=-0.001436093396988365 #####\n",
      "printing /Users/rodrse/Documents/DemandCalibration/notebooks/od_calibration_sumo_files/quickstart/data/iter_quickstart.current_od.xml\n",
      "### Runing: iter\n",
      "od2trips --no-step-log  --spread.uniform --taz-files /Users/rodrse/Documents/DemandCalibration/notebooks/od_calibration_sumo_files/quickstart/data/quickstart.taz.xml --tazrelation-files /Users/rodrse/Documents/DemandCalibration/notebooks/od_calibration_sumo_files/quickstart/data/iter_quickstart.current_od.xml -o /Users/rodrse/Documents/DemandCalibration/notebooks/od_calibration_sumo_files/quickstart/data/iter_od_trips.trips.xml \n",
      "Success.\n",
      "Loading net-file from '/Users/rodrse/Documents/DemandCalibration/notebooks/od_calibration_sumo_files/quickstart/data/quickstart.net.xml' ... done (8ms).\n",
      "Loading additional-files from '/Users/rodrse/Documents/DemandCalibration/notebooks/od_calibration_sumo_files/quickstart/data/quickstart.additional.xml' ... done (1ms).\n",
      "Loading done.\n",
      "Simulation version 1.16.0 started with time: 54000.00.\n",
      "Step #56400.00 (6ms ~= 166.67*RT, ~121833.33UPS, vehicles TOT 1898 ACT 731 BUF 0)         \r"
     ]
    },
    {
     "name": "stderr",
     "output_type": "stream",
     "text": [
      "Warning: Teleporting vehicle '449'; waited too long (wrong lane), lane='L15_0', time=56418.00.\n",
      "Warning: Vehicle '449' ends teleporting on edge 'L18', time=56418.00.\n",
      "Warning: Teleporting vehicle '454'; waited too long (wrong lane), lane='L15_0', time=56457.00.\n",
      "Warning: Vehicle '454' ends teleporting on edge 'L18', time=56457.00.\n",
      "Warning: Teleporting vehicle '456'; waited too long (wrong lane), lane='L15_0', time=56480.00.\n",
      "Warning: Vehicle '456' ends teleporting on edge 'L18', time=56480.00.\n"
     ]
    },
    {
     "name": "stdout",
     "output_type": "stream",
     "text": [
      "Step #56500.00 (6ms ~= 166.67*RT, ~123666.67UPS, vehicles TOT 1976 ACT 742 BUF 0)         \r"
     ]
    },
    {
     "name": "stderr",
     "output_type": "stream",
     "text": [
      "Warning: Teleporting vehicle '455'; waited too long (wrong lane), lane='L15_0', time=56597.00.\n",
      "Warning: Vehicle '455' ends teleporting on edge 'L18', time=56597.00.\n"
     ]
    },
    {
     "name": "stdout",
     "output_type": "stream",
     "text": [
      "Step #56600.00 (8ms ~= 125.00*RT, ~95750.00UPS, vehicles TOT 2056 ACT 766 BUF 0)          \r"
     ]
    },
    {
     "name": "stderr",
     "output_type": "stream",
     "text": [
      "Warning: Teleporting vehicle '478'; waited too long (wrong lane), lane='L15_0', time=56632.00.\n",
      "Warning: Vehicle '478' ends teleporting on edge 'L18', time=56632.00.\n",
      "Warning: Teleporting vehicle '480'; waited too long (wrong lane), lane='L15_0', time=56633.00.\n",
      "Warning: Vehicle '480' ends teleporting on edge 'L18', time=56633.00.\n"
     ]
    },
    {
     "name": "stdout",
     "output_type": "stream",
     "text": [
      "Step #56700.00 (8ms ~= 125.00*RT, ~101125.00UPS, vehicles TOT 2136 ACT 809 BUF 0)         \r"
     ]
    },
    {
     "name": "stderr",
     "output_type": "stream",
     "text": [
      "Warning: Teleporting vehicle '634'; waited too long (wrong lane), lane='L12_2', time=56759.00.\n",
      "Warning: Vehicle '634' ends teleporting on edge 'L15', time=56759.00.\n",
      "Warning: Teleporting vehicle '635'; waited too long (wrong lane), lane='L12_2', time=56774.00.\n",
      "Warning: Teleporting vehicle '520'; waited too long (jam), lane='L2_0', time=56797.00.\n",
      "Warning: Vehicle '520' ends teleporting on edge 'L12', time=56797.00.\n"
     ]
    },
    {
     "name": "stdout",
     "output_type": "stream",
     "text": [
      "Step #56800.00 (8ms ~= 125.00*RT, ~105250.00UPS, vehicles TOT 2215 ACT 842 BUF 0)         \r"
     ]
    },
    {
     "name": "stderr",
     "output_type": "stream",
     "text": [
      "Warning: Teleporting vehicle '644'; waited too long (wrong lane), lane='L12_2', time=56824.00.\n",
      "Warning: Vehicle '635' ends teleporting on edge 'L15', time=56832.00.\n",
      "Warning: Teleporting vehicle '649'; waited too long (wrong lane), lane='L12_2', time=56888.00.\n",
      "Warning: Vehicle '644' ends teleporting on edge 'L15', time=56899.00.\n"
     ]
    },
    {
     "name": "stdout",
     "output_type": "stream",
     "text": [
      "Step #56900.00 (11ms ~= 90.91*RT, ~80181.82UPS, vehicles TOT 2294 ACT 882 BUF 0)          \r"
     ]
    },
    {
     "name": "stderr",
     "output_type": "stream",
     "text": [
      "Warning: Vehicle '649' ends teleporting on edge 'L15', time=56973.00.\n",
      "Warning: Teleporting vehicle '655'; waited too long (wrong lane), lane='L12_2', time=56983.00.\n"
     ]
    },
    {
     "name": "stdout",
     "output_type": "stream",
     "text": [
      "Step #57000.00 (8ms ~= 125.00*RT, ~109125.00UPS, vehicles TOT 2341 ACT 873 BUF 32)        \r"
     ]
    },
    {
     "name": "stderr",
     "output_type": "stream",
     "text": [
      "Warning: Teleporting vehicle '723'; waited too long (jam), lane='L2_1', time=57009.00.\n",
      "Warning: Vehicle '723' ends teleporting on edge 'L12', time=57009.00.\n",
      "Warning: Vehicle '655' ends teleporting on edge 'L15', time=57029.00.\n",
      "Warning: Teleporting vehicle '657'; waited too long (wrong lane), lane='L12_2', time=57058.00.\n",
      "Warning: Vehicle '657' ends teleporting on edge 'L15', time=57080.00.\n"
     ]
    },
    {
     "name": "stdout",
     "output_type": "stream",
     "text": [
      "Step #57100.00 (8ms ~= 125.00*RT, ~109125.00UPS, vehicles TOT 2376 ACT 873 BUF 76)        \r"
     ]
    },
    {
     "name": "stderr",
     "output_type": "stream",
     "text": [
      "Warning: Teleporting vehicle '521'; waited too long (jam), lane='L2_0', time=57103.00.\n",
      "Warning: Vehicle '521' ends teleporting on edge 'L12', time=57103.00.\n",
      "Warning: Teleporting vehicle '766'; waited too long (jam), lane='D2_1', time=57124.00.\n",
      "Warning: Teleporting vehicle '767'; waited too long (jam), lane='D2_1', time=57125.00.\n",
      "Warning: Teleporting vehicle '589'; waited too long (jam), lane='D2_0', time=57190.00.\n"
     ]
    },
    {
     "name": "stdout",
     "output_type": "stream",
     "text": [
      "Step #57200.00 (7ms ~= 142.86*RT, ~122857.14UPS, vehicles TOT 2410 ACT 860 BUF 120)       \r"
     ]
    },
    {
     "name": "stderr",
     "output_type": "stream",
     "text": [
      "Warning: Teleporting vehicle '668'; waited too long (wrong lane), lane='L12_2', time=57251.00.\n",
      "Warning: Vehicle '668' ends teleporting on edge 'L15', time=57271.00.\n",
      "Warning: Teleporting vehicle '671'; waited too long (wrong lane), lane='L12_2', time=57293.00.\n",
      "Warning: Vehicle '671' ends teleporting on edge 'L15', time=57304.00.\n",
      "Warning: Teleporting vehicle '1424'; waited too long (jam), lane='L2_1', time=57314.00.\n",
      "Warning: Vehicle '1424' ends teleporting on edge 'L12', time=57314.00.\n"
     ]
    },
    {
     "name": "stdout",
     "output_type": "stream",
     "text": [
      "Step #57400.00 (6ms ~= 166.67*RT, ~140500.00UPS, vehicles TOT 2481 ACT 843 BUF 208)       \r"
     ]
    },
    {
     "name": "stderr",
     "output_type": "stream",
     "text": [
      "Warning: Teleporting vehicle '724'; waited too long (jam), lane='L2_1', time=57414.00.\n",
      "Warning: Vehicle '589' ends teleporting on edge 'L2', time=57414.00.\n",
      "Warning: Vehicle '724' ends teleporting on edge 'L12', time=57414.00.\n",
      "Warning: Vehicle '766' ends teleporting on edge 'L2', time=57416.00.\n",
      "Warning: Vehicle '767' ends teleporting on edge 'L2', time=57422.00.\n",
      "Warning: Teleporting vehicle '675'; waited too long (wrong lane), lane='L12_2', time=57428.00.\n",
      "Warning: Teleporting vehicle '676'; waited too long (wrong lane), lane='L12_2', time=57429.00.\n",
      "Warning: Vehicle '675' ends teleporting on edge 'L15', time=57431.00.\n",
      "Warning: Teleporting vehicle '1450'; waited too long (jam), lane='D2_1', time=57433.00.\n",
      "Warning: Vehicle '676' ends teleporting on edge 'L15', time=57447.00.\n",
      "Warning: Teleporting vehicle '523'; waited too long (jam), lane='L2_0', time=57488.00.\n",
      "Warning: Vehicle '523' ends teleporting on edge 'L12', time=57488.00.\n",
      "Warning: Teleporting vehicle '768'; waited too long (jam), lane='D2_1', time=57494.00.\n",
      "Warning: Teleporting vehicle '590'; waited too long (jam), lane='D2_0', time=57497.00.\n",
      "Warning: Teleporting vehicle '683'; waited too long (wrong lane), lane='L12_2', time=57512.00.\n",
      "Warning: Vehicle '683' ends teleporting on edge 'L15', time=57512.00.\n"
     ]
    },
    {
     "name": "stdout",
     "output_type": "stream",
     "text": [
      "Step #57600.00 (8ms ~= 125.00*RT, ~102875.00UPS, vehicles TOT 2551 ACT 823 BUF 296)       \n",
      "Simulation ended at time: 57600.00\n",
      "Reason: The final simulation step has been reached.\n",
      "Performance: \n",
      " Duration: 18.13s\n",
      " Real time factor: 198.599\n",
      " UPS: 113385.281624\n",
      "Vehicles: \n",
      " Inserted: 2551 (Loaded: 2847)\n",
      " Running: 823\n",
      " Waiting: 296\n",
      " Teleports: 29 (Jam: 12, Wrong Lane: 17)\n",
      "Statistics (avg of 1728):\n",
      " RouteLength: 4377.47\n",
      " Speed: 12.20\n",
      " Duration: 460.43\n",
      " WaitingTime: 98.80\n",
      " TimeLoss: 143.20\n",
      " DepartDelay: 0.50\n",
      "\n",
      "DijkstraRouter answered 2847 queries and explored 10.68 edges on average.\n",
      "DijkstraRouter spent 0.01s answering queries (0.00ms on average).\n",
      "####### 163 ########\n",
      "##### n=187 #####\n",
      "##### best_value=-0.001436093396988365 #####\n",
      "printing /Users/rodrse/Documents/DemandCalibration/notebooks/od_calibration_sumo_files/quickstart/data/iter_quickstart.current_od.xml\n",
      "### Runing: iter\n",
      "od2trips --no-step-log  --spread.uniform --taz-files /Users/rodrse/Documents/DemandCalibration/notebooks/od_calibration_sumo_files/quickstart/data/quickstart.taz.xml --tazrelation-files /Users/rodrse/Documents/DemandCalibration/notebooks/od_calibration_sumo_files/quickstart/data/iter_quickstart.current_od.xml -o /Users/rodrse/Documents/DemandCalibration/notebooks/od_calibration_sumo_files/quickstart/data/iter_od_trips.trips.xml \n",
      "Success.\n",
      "Loading net-file from '/Users/rodrse/Documents/DemandCalibration/notebooks/od_calibration_sumo_files/quickstart/data/quickstart.net.xml' ... done (5ms).\n",
      "Loading additional-files from '/Users/rodrse/Documents/DemandCalibration/notebooks/od_calibration_sumo_files/quickstart/data/quickstart.additional.xml' ... done (1ms).\n",
      "Loading done.\n",
      "Simulation version 1.16.0 started with time: 54000.00.\n",
      "Step #57600.00 (6ms ~= 166.67*RT, ~107333.33UPS, vehicles TOT 2654 ACT 644 BUF 0)         \n",
      "Simulation ended at time: 57600.00\n",
      "Reason: The final simulation step has been reached.\n",
      "Performance: \n",
      " Duration: 12.55s\n",
      " Real time factor: 286.761\n",
      " UPS: 119102.835750\n",
      "Vehicles: \n",
      " Inserted: 2654\n",
      " Running: 644\n",
      " Waiting: 0\n",
      "Statistics (avg of 2010):\n",
      " RouteLength: 4331.57\n",
      " Speed: 12.60\n",
      " Duration: 410.01\n",
      " WaitingTime: 64.26\n",
      " TimeLoss: 95.55\n",
      " DepartDelay: 0.49\n",
      "\n",
      "DijkstraRouter answered 2654 queries and explored 10.37 edges on average.\n",
      "DijkstraRouter spent 0.02s answering queries (0.01ms on average).\n",
      "####### 164 ########\n",
      "##### n=188 #####\n",
      "##### best_value=-0.001436093396988365 #####\n",
      "printing /Users/rodrse/Documents/DemandCalibration/notebooks/od_calibration_sumo_files/quickstart/data/iter_quickstart.current_od.xml\n",
      "### Runing: iter\n",
      "od2trips --no-step-log  --spread.uniform --taz-files /Users/rodrse/Documents/DemandCalibration/notebooks/od_calibration_sumo_files/quickstart/data/quickstart.taz.xml --tazrelation-files /Users/rodrse/Documents/DemandCalibration/notebooks/od_calibration_sumo_files/quickstart/data/iter_quickstart.current_od.xml -o /Users/rodrse/Documents/DemandCalibration/notebooks/od_calibration_sumo_files/quickstart/data/iter_od_trips.trips.xml \n",
      "Success.\n",
      "Loading net-file from '/Users/rodrse/Documents/DemandCalibration/notebooks/od_calibration_sumo_files/quickstart/data/quickstart.net.xml' ... done (6ms).\n",
      "Loading additional-files from '/Users/rodrse/Documents/DemandCalibration/notebooks/od_calibration_sumo_files/quickstart/data/quickstart.additional.xml' ... done (1ms).\n",
      "Loading done.\n",
      "Simulation version 1.16.0 started with time: 54000.00.\n",
      "Step #56900.00 (8ms ~= 125.00*RT, ~109500.00UPS, vehicles TOT 2585 ACT 876 BUF 52)        \r"
     ]
    },
    {
     "name": "stderr",
     "output_type": "stream",
     "text": [
      "Warning: Teleporting vehicle '616'; waited too long (wrong lane), lane='L12_2', time=56923.00.\n",
      "Warning: Vehicle '616' ends teleporting on edge 'L15', time=56945.00.\n",
      "Warning: Teleporting vehicle '676'; waited too long (jam), lane=':1_3_2', time=56964.00.\n",
      "Warning: Vehicle '676' ends teleporting on edge 'L12', time=56964.00.\n",
      "Warning: Teleporting vehicle '677'; waited too long (jam), lane='L2_1', time=56968.00.\n",
      "Warning: Vehicle '677' ends teleporting on edge 'L12', time=56968.00.\n"
     ]
    },
    {
     "name": "stdout",
     "output_type": "stream",
     "text": [
      "Step #57000.00 (8ms ~= 125.00*RT, ~112625.00UPS, vehicles TOT 2661 ACT 901 BUF 66)        \r"
     ]
    },
    {
     "name": "stderr",
     "output_type": "stream",
     "text": [
      "Warning: Teleporting vehicle '621'; waited too long (wrong lane), lane='L12_2', time=57019.00.\n",
      "Warning: Vehicle '621' ends teleporting on edge 'L15', time=57043.00.\n",
      "Warning: Teleporting vehicle '624'; waited too long (wrong lane), lane='L12_2', time=57070.00.\n",
      "Warning: Vehicle '624' ends teleporting on edge 'L15', time=57087.00.\n"
     ]
    },
    {
     "name": "stdout",
     "output_type": "stream",
     "text": [
      "Step #57100.00 (11ms ~= 90.91*RT, ~82272.73UPS, vehicles TOT 2721 ACT 905 BUF 97)         \r"
     ]
    },
    {
     "name": "stderr",
     "output_type": "stream",
     "text": [
      "Warning: Teleporting vehicle '474'; waited too long (jam), lane=':1_3_1', time=57141.00.\n",
      "Warning: Vehicle '474' ends teleporting on edge 'L12', time=57141.00.\n",
      "Warning: Teleporting vehicle '626'; waited too long (wrong lane), lane='L12_2', time=57144.00.\n",
      "Warning: Teleporting vehicle '627'; waited too long (wrong lane), lane='L12_2', time=57145.00.\n",
      "Warning: Vehicle '626' ends teleporting on edge 'L15', time=57150.00.\n",
      "Warning: Teleporting vehicle '719'; waited too long (jam), lane='D2_1', time=57167.00.\n",
      "Warning: Vehicle '719' ends teleporting on edge 'L2', time=57167.00.\n",
      "Warning: Teleporting vehicle '629'; waited too long (wrong lane), lane='L12_2', time=57192.00.\n",
      "Warning: Vehicle '627' ends teleporting on edge 'L15', time=57193.00.\n",
      "Warning: Vehicle '629' ends teleporting on edge 'L15', time=57200.00.\n"
     ]
    },
    {
     "name": "stdout",
     "output_type": "stream",
     "text": [
      "Step #57200.00 (8ms ~= 125.00*RT, ~111000.00UPS, vehicles TOT 2768 ACT 888 BUF 142)       \r"
     ]
    },
    {
     "name": "stderr",
     "output_type": "stream",
     "text": [
      "Warning: Teleporting vehicle '541'; waited too long (jam), lane='D2_0', time=57219.00.\n",
      "Warning: Teleporting vehicle '1405'; waited too long (jam), lane=':1_3_2', time=57270.00.\n"
     ]
    },
    {
     "name": "stdout",
     "output_type": "stream",
     "text": [
      "Step #57300.00 (9ms ~= 111.11*RT, ~98777.78UPS, vehicles TOT 2815 ACT 889 BUF 186)        \r"
     ]
    },
    {
     "name": "stderr",
     "output_type": "stream",
     "text": [
      "Warning: Teleporting vehicle '632'; waited too long (wrong lane), lane='L12_2', time=57336.00.\n",
      "Warning: Vehicle '632' ends teleporting on edge 'L15', time=57339.00.\n"
     ]
    },
    {
     "name": "stdout",
     "output_type": "stream",
     "text": [
      "Step #57400.00 (9ms ~= 111.11*RT, ~98222.22UPS, vehicles TOT 2861 ACT 884 BUF 229)        \r"
     ]
    },
    {
     "name": "stderr",
     "output_type": "stream",
     "text": [
      "Warning: Teleporting vehicle '636'; waited too long (wrong lane), lane='L12_2', time=57408.00.\n",
      "Warning: Vehicle '636' ends teleporting on edge 'L15', time=57408.00.\n",
      "Warning: Teleporting vehicle '475'; waited too long (jam), lane=':1_3_1', time=57447.00.\n",
      "Warning: Vehicle '475' ends teleporting on edge 'L12', time=57447.00.\n",
      "Warning: Teleporting vehicle '637'; waited too long (wrong lane), lane='L12_2', time=57458.00.\n",
      "Warning: Teleporting vehicle '719'; waited too long (jam), lane='L2_1', time=57472.00.\n",
      "Warning: Vehicle '541' ends teleporting on edge 'L2', time=57472.00.\n",
      "Warning: Vehicle '719' ends teleporting on edge 'L12', time=57472.00.\n",
      "Warning: Teleporting vehicle '1434'; waited too long (jam), lane='D2_1', time=57473.00.\n",
      "Warning: Vehicle '637' ends teleporting on edge 'L15', time=57473.00.\n",
      "Warning: Vehicle '1434' ends teleporting on edge 'L2', time=57473.00.\n"
     ]
    },
    {
     "name": "stdout",
     "output_type": "stream",
     "text": [
      "Step #57500.00 (10ms ~= 100.00*RT, ~87900.00UPS, vehicles TOT 2909 ACT 879 BUF 274)       \r"
     ]
    },
    {
     "name": "stderr",
     "output_type": "stream",
     "text": [
      "Warning: Teleporting vehicle '639'; waited too long (wrong lane), lane='L12_2', time=57506.00.\n",
      "Warning: Teleporting vehicle '720'; waited too long (jam), lane='D2_1', time=57525.00.\n",
      "Warning: Teleporting vehicle '542'; waited too long (jam), lane='D2_0', time=57525.00.\n",
      "Warning: Vehicle '542' ends teleporting on edge 'L2', time=57525.00.\n",
      "Warning: Vehicle '639' ends teleporting on edge 'L15', time=57539.00.\n",
      "Warning: Teleporting vehicle '1406'; waited too long (jam), lane=':1_3_2', time=57577.00.\n",
      "Warning: Teleporting vehicle '641'; waited too long (wrong lane), lane='L12_2', time=57597.00.\n",
      "Warning: Vehicle '641' ends teleporting on edge 'L15', time=57597.00.\n",
      "Warning: Teleporting vehicle '642'; waited too long (wrong lane), lane='L12_2', time=57598.00.\n"
     ]
    },
    {
     "name": "stdout",
     "output_type": "stream",
     "text": [
      "Step #57600.00 (10ms ~= 100.00*RT, ~87100.00UPS, vehicles TOT 2955 ACT 871 BUF 318)       \n",
      "Simulation ended at time: 57600.00\n",
      "Reason: The final simulation step has been reached.\n",
      "Performance: \n",
      " Duration: 21.59s\n",
      " Real time factor: 166.713\n",
      " UPS: 105168.704270\n",
      "Vehicles: \n",
      " Inserted: 2955 (Loaded: 3273)\n",
      " Running: 871\n",
      " Waiting: 318\n",
      " Teleports: 24 (Jam: 12, Wrong Lane: 12)\n",
      "Statistics (avg of 2084):\n",
      " RouteLength: 4431.70\n",
      " Speed: 11.72\n",
      " Duration: 460.27\n",
      " WaitingTime: 83.97\n",
      " TimeLoss: 139.39\n",
      " DepartDelay: 0.49\n",
      "\n",
      "DijkstraRouter answered 3363 queries and explored 10.53 edges on average.\n",
      "DijkstraRouter spent 0.02s answering queries (0.01ms on average).\n",
      "####### 165 ########\n",
      "##### n=189 #####\n",
      "##### best_value=-0.001436093396988365 #####\n",
      "printing /Users/rodrse/Documents/DemandCalibration/notebooks/od_calibration_sumo_files/quickstart/data/iter_quickstart.current_od.xml\n",
      "### Runing: iter\n",
      "od2trips --no-step-log  --spread.uniform --taz-files /Users/rodrse/Documents/DemandCalibration/notebooks/od_calibration_sumo_files/quickstart/data/quickstart.taz.xml --tazrelation-files /Users/rodrse/Documents/DemandCalibration/notebooks/od_calibration_sumo_files/quickstart/data/iter_quickstart.current_od.xml -o /Users/rodrse/Documents/DemandCalibration/notebooks/od_calibration_sumo_files/quickstart/data/iter_od_trips.trips.xml \n",
      "Success.\n",
      "Loading net-file from '/Users/rodrse/Documents/DemandCalibration/notebooks/od_calibration_sumo_files/quickstart/data/quickstart.net.xml' ... done (7ms).\n",
      "Loading additional-files from '/Users/rodrse/Documents/DemandCalibration/notebooks/od_calibration_sumo_files/quickstart/data/quickstart.additional.xml' ... done (2ms).\n",
      "Loading done.\n",
      "Simulation version 1.16.0 started with time: 54000.00.\n",
      "Step #57600.00 (9ms ~= 111.11*RT, ~98111.11UPS, vehicles TOT 3080 ACT 883 BUF 0)          \n",
      "Simulation ended at time: 57600.00\n",
      "Reason: The final simulation step has been reached.\n",
      "Performance: \n",
      " Duration: 24.12s\n",
      " Real time factor: 149.266\n",
      " UPS: 92903.101418\n",
      "Vehicles: \n",
      " Inserted: 3080\n",
      " Running: 883\n",
      " Waiting: 0\n",
      "Statistics (avg of 2197):\n",
      " RouteLength: 4401.52\n",
      " Speed: 10.21\n",
      " Duration: 587.64\n",
      " WaitingTime: 104.10\n",
      " TimeLoss: 268.79\n",
      " DepartDelay: 0.50\n",
      "\n",
      "DijkstraRouter answered 3080 queries and explored 10.16 edges on average.\n",
      "DijkstraRouter spent 0.02s answering queries (0.01ms on average).\n",
      "####### 166 ########\n",
      "##### n=190 #####\n",
      "##### best_value=-0.001436093396988365 #####\n",
      "printing /Users/rodrse/Documents/DemandCalibration/notebooks/od_calibration_sumo_files/quickstart/data/iter_quickstart.current_od.xml\n",
      "### Runing: iter\n",
      "od2trips --no-step-log  --spread.uniform --taz-files /Users/rodrse/Documents/DemandCalibration/notebooks/od_calibration_sumo_files/quickstart/data/quickstart.taz.xml --tazrelation-files /Users/rodrse/Documents/DemandCalibration/notebooks/od_calibration_sumo_files/quickstart/data/iter_quickstart.current_od.xml -o /Users/rodrse/Documents/DemandCalibration/notebooks/od_calibration_sumo_files/quickstart/data/iter_od_trips.trips.xml \n",
      "Success.\n",
      "Loading net-file from '/Users/rodrse/Documents/DemandCalibration/notebooks/od_calibration_sumo_files/quickstart/data/quickstart.net.xml' ... done (5ms).\n",
      "Loading additional-files from '/Users/rodrse/Documents/DemandCalibration/notebooks/od_calibration_sumo_files/quickstart/data/quickstart.additional.xml' ... done (1ms).\n",
      "Loading done.\n",
      "Simulation version 1.16.0 started with time: 54000.00.\n",
      "Step #57600.00 (8ms ~= 125.00*RT, ~83750.00UPS, vehicles TOT 2776 ACT 670 BUF 0)          \n",
      "Simulation ended at time: 57600.00\n",
      "Reason: The final simulation step has been reached.\n",
      "Performance: \n",
      " Duration: 13.41s\n",
      " Real time factor: 268.496\n",
      " UPS: 119827.938544\n",
      "Vehicles: \n",
      " Inserted: 2776\n",
      " Running: 670\n",
      " Waiting: 0\n",
      "Statistics (avg of 2106):\n",
      " RouteLength: 4248.42\n",
      " Speed: 11.47\n",
      " Duration: 484.25\n",
      " WaitingTime: 110.79\n",
      " TimeLoss: 176.19\n",
      " DepartDelay: 0.49\n",
      "\n",
      "DijkstraRouter answered 2776 queries and explored 9.36 edges on average.\n",
      "DijkstraRouter spent 0.01s answering queries (0.00ms on average).\n",
      "####### 167 ########\n",
      "##### n=191 #####\n",
      "##### best_value=-0.001436093396988365 #####\n",
      "printing /Users/rodrse/Documents/DemandCalibration/notebooks/od_calibration_sumo_files/quickstart/data/iter_quickstart.current_od.xml\n",
      "### Runing: iter\n",
      "od2trips --no-step-log  --spread.uniform --taz-files /Users/rodrse/Documents/DemandCalibration/notebooks/od_calibration_sumo_files/quickstart/data/quickstart.taz.xml --tazrelation-files /Users/rodrse/Documents/DemandCalibration/notebooks/od_calibration_sumo_files/quickstart/data/iter_quickstart.current_od.xml -o /Users/rodrse/Documents/DemandCalibration/notebooks/od_calibration_sumo_files/quickstart/data/iter_od_trips.trips.xml \n",
      "Success.\n",
      "Loading net-file from '/Users/rodrse/Documents/DemandCalibration/notebooks/od_calibration_sumo_files/quickstart/data/quickstart.net.xml' ... done (5ms).\n",
      "Loading additional-files from '/Users/rodrse/Documents/DemandCalibration/notebooks/od_calibration_sumo_files/quickstart/data/quickstart.additional.xml' ... done (1ms).\n",
      "Loading done.\n",
      "Simulation version 1.16.0 started with time: 54000.00.\n",
      "Step #57600.00 (6ms ~= 166.67*RT, ~101000.00UPS, vehicles TOT 2542 ACT 606 BUF 0)         \n",
      "Simulation ended at time: 57600.00\n",
      "Reason: The final simulation step has been reached.\n",
      "Performance: \n",
      " Duration: 12.83s\n",
      " Real time factor: 280.549\n",
      " UPS: 107873.363466\n",
      "Vehicles: \n",
      " Inserted: 2542\n",
      " Running: 606\n",
      " Waiting: 0\n",
      "Statistics (avg of 1936):\n",
      " RouteLength: 4275.28\n",
      " Speed: 12.60\n",
      " Duration: 409.72\n",
      " WaitingTime: 66.98\n",
      " TimeLoss: 99.79\n",
      " DepartDelay: 0.49\n",
      "\n",
      "DijkstraRouter answered 2542 queries and explored 10.12 edges on average.\n",
      "DijkstraRouter spent 0.01s answering queries (0.00ms on average).\n",
      "####### 168 ########\n",
      "##### n=192 #####\n",
      "##### best_value=-0.001436093396988365 #####\n",
      "printing /Users/rodrse/Documents/DemandCalibration/notebooks/od_calibration_sumo_files/quickstart/data/iter_quickstart.current_od.xml\n",
      "### Runing: iter\n",
      "od2trips --no-step-log  --spread.uniform --taz-files /Users/rodrse/Documents/DemandCalibration/notebooks/od_calibration_sumo_files/quickstart/data/quickstart.taz.xml --tazrelation-files /Users/rodrse/Documents/DemandCalibration/notebooks/od_calibration_sumo_files/quickstart/data/iter_quickstart.current_od.xml -o /Users/rodrse/Documents/DemandCalibration/notebooks/od_calibration_sumo_files/quickstart/data/iter_od_trips.trips.xml \n",
      "Success.\n",
      "Loading net-file from '/Users/rodrse/Documents/DemandCalibration/notebooks/od_calibration_sumo_files/quickstart/data/quickstart.net.xml' ... done (5ms).\n",
      "Loading additional-files from '/Users/rodrse/Documents/DemandCalibration/notebooks/od_calibration_sumo_files/quickstart/data/quickstart.additional.xml' ... done (1ms).\n",
      "Loading done.\n",
      "Simulation version 1.16.0 started with time: 54000.00.\n",
      "Step #57600.00 (7ms ~= 142.86*RT, ~88714.29UPS, vehicles TOT 2661 ACT 621 BUF 0)          \n",
      "Simulation ended at time: 57600.00\n",
      "Reason: The final simulation step has been reached.\n",
      "Performance: \n",
      " Duration: 11.91s\n",
      " Real time factor: 302.292\n",
      " UPS: 122428.079604\n",
      "Vehicles: \n",
      " Inserted: 2661\n",
      " Running: 621\n",
      " Waiting: 0\n",
      "Statistics (avg of 2040):\n",
      " RouteLength: 4264.32\n",
      " Speed: 12.34\n",
      " Duration: 428.54\n",
      " WaitingTime: 76.17\n",
      " TimeLoss: 119.08\n",
      " DepartDelay: 0.49\n",
      "\n",
      "DijkstraRouter answered 2661 queries and explored 9.75 edges on average.\n",
      "DijkstraRouter spent 0.01s answering queries (0.00ms on average).\n",
      "####### 169 ########\n",
      "##### n=193 #####\n",
      "##### best_value=-0.001436093396988365 #####\n",
      "printing /Users/rodrse/Documents/DemandCalibration/notebooks/od_calibration_sumo_files/quickstart/data/iter_quickstart.current_od.xml\n",
      "### Runing: iter\n",
      "od2trips --no-step-log  --spread.uniform --taz-files /Users/rodrse/Documents/DemandCalibration/notebooks/od_calibration_sumo_files/quickstart/data/quickstart.taz.xml --tazrelation-files /Users/rodrse/Documents/DemandCalibration/notebooks/od_calibration_sumo_files/quickstart/data/iter_quickstart.current_od.xml -o /Users/rodrse/Documents/DemandCalibration/notebooks/od_calibration_sumo_files/quickstart/data/iter_od_trips.trips.xml \n",
      "Success.\n",
      "Loading net-file from '/Users/rodrse/Documents/DemandCalibration/notebooks/od_calibration_sumo_files/quickstart/data/quickstart.net.xml' ... done (5ms).\n",
      "Loading additional-files from '/Users/rodrse/Documents/DemandCalibration/notebooks/od_calibration_sumo_files/quickstart/data/quickstart.additional.xml' ... done (0ms).\n",
      "Loading done.\n",
      "Simulation version 1.16.0 started with time: 54000.00.\n",
      "Step #56300.00 (11ms ~= 90.91*RT, ~86818.18UPS, vehicles TOT 2224 ACT 955 BUF 0)          \r"
     ]
    },
    {
     "name": "stderr",
     "output_type": "stream",
     "text": [
      "Warning: Teleporting vehicle '65'; waited too long (yield), lane='L15_1', time=56385.00.\n",
      "Warning: Vehicle '65' ends teleporting on edge 'L18', time=56385.00.\n"
     ]
    },
    {
     "name": "stdout",
     "output_type": "stream",
     "text": [
      "Step #57000.00 (9ms ~= 111.11*RT, ~102888.89UPS, vehicles TOT 2796 ACT 926 BUF 104)       \r"
     ]
    },
    {
     "name": "stderr",
     "output_type": "stream",
     "text": [
      "Warning: Teleporting vehicle '591'; waited too long (wrong lane), lane='L12_2', time=57078.00.\n",
      "Warning: Vehicle '591' ends teleporting on edge 'L15', time=57078.00.\n",
      "Warning: Teleporting vehicle '592'; waited too long (wrong lane), lane='L12_2', time=57097.00.\n"
     ]
    },
    {
     "name": "stdout",
     "output_type": "stream",
     "text": [
      "Step #57100.00 (9ms ~= 111.11*RT, ~101888.89UPS, vehicles TOT 2878 ACT 917 BUF 118)       \r"
     ]
    },
    {
     "name": "stderr",
     "output_type": "stream",
     "text": [
      "Warning: Teleporting vehicle '593'; waited too long (wrong lane), lane='L12_2', time=57116.00.\n",
      "Warning: Vehicle '592' ends teleporting on edge 'L15', time=57122.00.\n",
      "Warning: Teleporting vehicle '594'; waited too long (wrong lane), lane='L12_2', time=57137.00.\n",
      "Warning: Teleporting vehicle '462'; waited too long (jam), lane='L2_0', time=57159.00.\n",
      "Warning: Vehicle '462' ends teleporting on edge 'L12', time=57159.00.\n",
      "Warning: Teleporting vehicle '596'; waited too long (wrong lane), lane='L12_2', time=57168.00.\n",
      "Warning: Teleporting vehicle '597'; waited too long (wrong lane), lane='L12_2', time=57192.00.\n",
      "Warning: Vehicle '593' ends teleporting on edge 'L15', time=57203.00.\n"
     ]
    },
    {
     "name": "stdout",
     "output_type": "stream",
     "text": [
      "Step #57200.00 (9ms ~= 111.11*RT, ~96333.33UPS, vehicles TOT 2956 ACT 867 BUF 137)        \r"
     ]
    },
    {
     "name": "stderr",
     "output_type": "stream",
     "text": [
      "Warning: Teleporting vehicle '599'; waited too long (wrong lane), lane='L12_2', time=57240.00.\n",
      "Warning: Vehicle '594' ends teleporting on edge 'L15', time=57291.00.\n"
     ]
    },
    {
     "name": "stdout",
     "output_type": "stream",
     "text": [
      "Step #57300.00 (7ms ~= 142.86*RT, ~122285.71UPS, vehicles TOT 3033 ACT 856 BUF 156)       \r"
     ]
    },
    {
     "name": "stderr",
     "output_type": "stream",
     "text": [
      "Warning: Vehicle '596' ends teleporting on edge 'L15', time=57343.00.\n",
      "Warning: Vehicle '597' ends teleporting on edge 'L15', time=57343.00.\n",
      "Warning: Vehicle '599' ends teleporting on edge 'L15', time=57348.00.\n",
      "Warning: Teleporting vehicle '604'; waited too long (wrong lane), lane='L12_2', time=57382.00.\n"
     ]
    },
    {
     "name": "stdout",
     "output_type": "stream",
     "text": [
      "Step #57400.00 (9ms ~= 111.11*RT, ~96444.44UPS, vehicles TOT 3113 ACT 868 BUF 173)        \r"
     ]
    },
    {
     "name": "stderr",
     "output_type": "stream",
     "text": [
      "Warning: Teleporting vehicle '605'; waited too long (wrong lane), lane='L12_2', time=57415.00.\n",
      "Warning: Vehicle '604' ends teleporting on edge 'L15', time=57421.00.\n",
      "Warning: Vehicle '605' ends teleporting on edge 'L15', time=57485.00.\n"
     ]
    },
    {
     "name": "stdout",
     "output_type": "stream",
     "text": [
      "Step #57500.00 (9ms ~= 111.11*RT, ~98666.67UPS, vehicles TOT 3191 ACT 888 BUF 191)        \r"
     ]
    },
    {
     "name": "stderr",
     "output_type": "stream",
     "text": [
      "Warning: Teleporting vehicle '608'; waited too long (wrong lane), lane='L12_2', time=57524.00.\n",
      "Warning: Teleporting vehicle '1492'; waited too long (jam), lane='L2_1', time=57529.00.\n",
      "Warning: Vehicle '1492' ends teleporting on edge 'L12', time=57529.00.\n",
      "Warning: Teleporting vehicle '652'; waited too long (jam), lane='L2_1', time=57530.00.\n",
      "Warning: Vehicle '652' ends teleporting on edge 'L12', time=57530.00.\n",
      "Warning: Vehicle '608' ends teleporting on edge 'L15', time=57536.00.\n",
      "Warning: Teleporting vehicle '609'; waited too long (wrong lane), lane='L12_2', time=57565.00.\n",
      "Warning: Vehicle '609' ends teleporting on edge 'L15', time=57565.00.\n"
     ]
    },
    {
     "name": "stdout",
     "output_type": "stream",
     "text": [
      "Step #57600.00 (8ms ~= 125.00*RT, ~113625.00UPS, vehicles TOT 3269 ACT 909 BUF 210)       \n",
      "Simulation ended at time: 57600.00\n",
      "Reason: The final simulation step has been reached.\n",
      "Performance: \n",
      " Duration: 24.92s\n",
      " Real time factor: 144.485\n",
      " UPS: 101889.990368\n",
      "Vehicles: \n",
      " Inserted: 3269 (Loaded: 3479)\n",
      " Running: 909\n",
      " Waiting: 210\n",
      " Teleports: 15 (Jam: 3, Yield: 1, Wrong Lane: 11)\n",
      "Statistics (avg of 2360):\n",
      " RouteLength: 4394.55\n",
      " Speed: 10.38\n",
      " Duration: 577.85\n",
      " WaitingTime: 98.56\n",
      " TimeLoss: 259.14\n",
      " DepartDelay: 0.49\n",
      "\n",
      "DijkstraRouter answered 3684 queries and explored 10.12 edges on average.\n",
      "DijkstraRouter spent 0.01s answering queries (0.00ms on average).\n",
      "####### 170 ########\n",
      "##### n=194 #####\n",
      "##### best_value=-0.001436093396988365 #####\n",
      "printing /Users/rodrse/Documents/DemandCalibration/notebooks/od_calibration_sumo_files/quickstart/data/iter_quickstart.current_od.xml\n",
      "### Runing: iter\n",
      "od2trips --no-step-log  --spread.uniform --taz-files /Users/rodrse/Documents/DemandCalibration/notebooks/od_calibration_sumo_files/quickstart/data/quickstart.taz.xml --tazrelation-files /Users/rodrse/Documents/DemandCalibration/notebooks/od_calibration_sumo_files/quickstart/data/iter_quickstart.current_od.xml -o /Users/rodrse/Documents/DemandCalibration/notebooks/od_calibration_sumo_files/quickstart/data/iter_od_trips.trips.xml \n",
      "Success.\n",
      "Loading net-file from '/Users/rodrse/Documents/DemandCalibration/notebooks/od_calibration_sumo_files/quickstart/data/quickstart.net.xml' ... done (8ms).\n",
      "Loading additional-files from '/Users/rodrse/Documents/DemandCalibration/notebooks/od_calibration_sumo_files/quickstart/data/quickstart.additional.xml' ... done (1ms).\n",
      "Loading done.\n",
      "Simulation version 1.16.0 started with time: 54000.00.\n",
      "Step #57000.00 (9ms ~= 111.11*RT, ~98888.89UPS, vehicles TOT 2555 ACT 890 BUF 0)          \r"
     ]
    },
    {
     "name": "stderr",
     "output_type": "stream",
     "text": [
      "Warning: Teleporting vehicle '91'; waited too long (yield), lane='L15_1', time=57053.00.\n",
      "Warning: Vehicle '91' ends teleporting on edge 'L18', time=57053.00.\n"
     ]
    },
    {
     "name": "stdout",
     "output_type": "stream",
     "text": [
      "Step #57600.00 (10ms ~= 100.00*RT, ~92700.00UPS, vehicles TOT 3057 ACT 927 BUF 8)         \n",
      "Simulation ended at time: 57600.00\n",
      "Reason: The final simulation step has been reached.\n",
      "Performance: \n",
      " Duration: 21.36s\n",
      " Real time factor: 168.555\n",
      " UPS: 103561.428973\n",
      "Vehicles: \n",
      " Inserted: 3057 (Loaded: 3065)\n",
      " Running: 927\n",
      " Waiting: 8\n",
      " Teleports: 1 (Yield: 1)\n",
      "Statistics (avg of 2130):\n",
      " RouteLength: 4333.04\n",
      " Speed: 10.46\n",
      " Duration: 581.00\n",
      " WaitingTime: 99.63\n",
      " TimeLoss: 266.91\n",
      " DepartDelay: 0.49\n",
      "\n",
      "DijkstraRouter answered 3065 queries and explored 9.99 edges on average.\n",
      "DijkstraRouter spent 0.01s answering queries (0.00ms on average).\n",
      "####### 171 ########\n",
      "##### n=195 #####\n",
      "##### best_value=-0.001436093396988365 #####\n",
      "printing /Users/rodrse/Documents/DemandCalibration/notebooks/od_calibration_sumo_files/quickstart/data/iter_quickstart.current_od.xml\n",
      "### Runing: iter\n",
      "od2trips --no-step-log  --spread.uniform --taz-files /Users/rodrse/Documents/DemandCalibration/notebooks/od_calibration_sumo_files/quickstart/data/quickstart.taz.xml --tazrelation-files /Users/rodrse/Documents/DemandCalibration/notebooks/od_calibration_sumo_files/quickstart/data/iter_quickstart.current_od.xml -o /Users/rodrse/Documents/DemandCalibration/notebooks/od_calibration_sumo_files/quickstart/data/iter_od_trips.trips.xml \n",
      "Success.\n",
      "Loading net-file from '/Users/rodrse/Documents/DemandCalibration/notebooks/od_calibration_sumo_files/quickstart/data/quickstart.net.xml' ... done (5ms).\n",
      "Loading additional-files from '/Users/rodrse/Documents/DemandCalibration/notebooks/od_calibration_sumo_files/quickstart/data/quickstart.additional.xml' ... done (1ms).\n",
      "Loading done.\n",
      "Simulation version 1.16.0 started with time: 54000.00.\n",
      "Step #57600.00 (11ms ~= 90.91*RT, ~85000.00UPS, vehicles TOT 2793 ACT 935 BUF 0)          \n",
      "Simulation ended at time: 57600.00\n",
      "Reason: The final simulation step has been reached.\n",
      "Performance: \n",
      " Duration: 20.05s\n",
      " Real time factor: 179.524\n",
      " UPS: 105264.748417\n",
      "Vehicles: \n",
      " Inserted: 2793\n",
      " Running: 935\n",
      " Waiting: 0\n",
      "Statistics (avg of 1858):\n",
      " RouteLength: 4329.99\n",
      " Speed: 10.43\n",
      " Duration: 641.73\n",
      " WaitingTime: 176.02\n",
      " TimeLoss: 328.11\n",
      " DepartDelay: 0.49\n",
      "\n",
      "DijkstraRouter answered 2793 queries and explored 10.10 edges on average.\n",
      "DijkstraRouter spent 0.02s answering queries (0.01ms on average).\n",
      "####### 172 ########\n",
      "##### n=196 #####\n",
      "##### best_value=-0.001436093396988365 #####\n",
      "printing /Users/rodrse/Documents/DemandCalibration/notebooks/od_calibration_sumo_files/quickstart/data/iter_quickstart.current_od.xml\n",
      "### Runing: iter\n",
      "od2trips --no-step-log  --spread.uniform --taz-files /Users/rodrse/Documents/DemandCalibration/notebooks/od_calibration_sumo_files/quickstart/data/quickstart.taz.xml --tazrelation-files /Users/rodrse/Documents/DemandCalibration/notebooks/od_calibration_sumo_files/quickstart/data/iter_quickstart.current_od.xml -o /Users/rodrse/Documents/DemandCalibration/notebooks/od_calibration_sumo_files/quickstart/data/iter_od_trips.trips.xml \n",
      "Success.\n",
      "Loading net-file from '/Users/rodrse/Documents/DemandCalibration/notebooks/od_calibration_sumo_files/quickstart/data/quickstart.net.xml' ... done (6ms).\n",
      "Loading additional-files from '/Users/rodrse/Documents/DemandCalibration/notebooks/od_calibration_sumo_files/quickstart/data/quickstart.additional.xml' ... done (1ms).\n",
      "Loading done.\n",
      "Simulation version 1.16.0 started with time: 54000.00.\n",
      "Step #57100.00 (7ms ~= 142.86*RT, ~112428.57UPS, vehicles TOT 2536 ACT 787 BUF 93)        \r"
     ]
    },
    {
     "name": "stderr",
     "output_type": "stream",
     "text": [
      "Warning: Teleporting vehicle '654'; waited too long (wrong lane), lane='L12_2', time=57090.00.\n",
      "Warning: Vehicle '654' ends teleporting on edge 'L15', time=57110.00.\n",
      "Warning: Teleporting vehicle '463'; waited too long (jam), lane='L12_0', time=57115.00.\n",
      "Warning: Teleporting vehicle '655'; waited too long (wrong lane), lane='L12_2', time=57125.00.\n",
      "Warning: Vehicle '463' ends teleporting on edge 'L15', time=57172.00.\n",
      "Warning: Teleporting vehicle '527'; waited too long (jam), lane='L2_0', time=57173.00.\n",
      "Warning: Vehicle '527' ends teleporting on edge 'L12', time=57173.00.\n",
      "Warning: Vehicle '655' ends teleporting on edge 'L15', time=57186.00.\n"
     ]
    },
    {
     "name": "stdout",
     "output_type": "stream",
     "text": [
      "Step #57200.00 (6ms ~= 166.67*RT, ~133833.33UPS, vehicles TOT 2599 ACT 803 BUF 115)       \r"
     ]
    },
    {
     "name": "stderr",
     "output_type": "stream",
     "text": [
      "Warning: Teleporting vehicle '469'; waited too long (jam), lane='L12_0', time=57207.00.\n",
      "Warning: Teleporting vehicle '474'; waited too long (jam), lane='L12_0', time=57208.00.\n",
      "Warning: Vehicle '469' ends teleporting on edge 'L15', time=57236.00.\n",
      "Warning: Teleporting vehicle '1619'; waited too long (jam), lane=':1_3_2', time=57281.00.\n",
      "Warning: Vehicle '1619' ends teleporting on edge 'L12', time=57281.00.\n",
      "Warning: Teleporting vehicle '700'; waited too long (jam), lane='L2_1', time=57283.00.\n",
      "Warning: Vehicle '700' ends teleporting on edge 'L12', time=57283.00.\n",
      "Warning: Teleporting vehicle '701'; waited too long (jam), lane='L2_1', time=57290.00.\n",
      "Warning: Vehicle '701' ends teleporting on edge 'L12', time=57290.00.\n",
      "Warning: Vehicle '474' ends teleporting on edge 'L15', time=57308.00.\n"
     ]
    },
    {
     "name": "stdout",
     "output_type": "stream",
     "text": [
      "Step #57400.00 (7ms ~= 142.86*RT, ~120285.71UPS, vehicles TOT 2724 ACT 842 BUF 161)       \r"
     ]
    },
    {
     "name": "stderr",
     "output_type": "stream",
     "text": [
      "Warning: Teleporting vehicle '659'; waited too long (wrong lane), lane='L12_2', time=57444.00.\n",
      "Warning: Vehicle '659' ends teleporting on edge 'L15', time=57490.00.\n"
     ]
    },
    {
     "name": "stdout",
     "output_type": "stream",
     "text": [
      "Step #57500.00 (8ms ~= 125.00*RT, ~106000.00UPS, vehicles TOT 2767 ACT 848 BUF 202)       \r"
     ]
    },
    {
     "name": "stderr",
     "output_type": "stream",
     "text": [
      "Warning: Teleporting vehicle '740'; waited too long (jam), lane='D2_1', time=57548.00.\n",
      "Warning: Vehicle '740' ends teleporting on edge 'L2', time=57548.00.\n",
      "Warning: Teleporting vehicle '594'; waited too long (jam), lane='D2_0', time=57565.00.\n",
      "Warning: Vehicle '594' ends teleporting on edge 'L2', time=57565.00.\n"
     ]
    },
    {
     "name": "stdout",
     "output_type": "stream",
     "text": [
      "Step #57600.00 (10ms ~= 100.00*RT, ~84800.00UPS, vehicles TOT 2801 ACT 848 BUF 253)       \n",
      "Simulation ended at time: 57600.00\n",
      "Reason: The final simulation step has been reached.\n",
      "Performance: \n",
      " Duration: 17.07s\n",
      " Real time factor: 210.859\n",
      " UPS: 119796.930826\n",
      "Vehicles: \n",
      " Inserted: 2801 (Loaded: 3054)\n",
      " Running: 848\n",
      " Waiting: 253\n",
      " Teleports: 12 (Jam: 9, Wrong Lane: 3)\n",
      "Statistics (avg of 1953):\n",
      " RouteLength: 4352.86\n",
      " Speed: 11.67\n",
      " Duration: 454.49\n",
      " WaitingTime: 87.27\n",
      " TimeLoss: 139.19\n",
      " DepartDelay: 0.54\n",
      "\n",
      "DijkstraRouter answered 3211 queries and explored 10.12 edges on average.\n",
      "DijkstraRouter spent 0.01s answering queries (0.00ms on average).\n",
      "####### 173 ########\n",
      "##### n=197 #####\n",
      "##### best_value=-0.001436093396988365 #####\n",
      "printing /Users/rodrse/Documents/DemandCalibration/notebooks/od_calibration_sumo_files/quickstart/data/iter_quickstart.current_od.xml\n",
      "### Runing: iter\n",
      "od2trips --no-step-log  --spread.uniform --taz-files /Users/rodrse/Documents/DemandCalibration/notebooks/od_calibration_sumo_files/quickstart/data/quickstart.taz.xml --tazrelation-files /Users/rodrse/Documents/DemandCalibration/notebooks/od_calibration_sumo_files/quickstart/data/iter_quickstart.current_od.xml -o /Users/rodrse/Documents/DemandCalibration/notebooks/od_calibration_sumo_files/quickstart/data/iter_od_trips.trips.xml \n",
      "Success.\n",
      "Loading net-file from '/Users/rodrse/Documents/DemandCalibration/notebooks/od_calibration_sumo_files/quickstart/data/quickstart.net.xml' ... done (7ms).\n",
      "Loading additional-files from '/Users/rodrse/Documents/DemandCalibration/notebooks/od_calibration_sumo_files/quickstart/data/quickstart.additional.xml' ... done (1ms).\n",
      "Loading done.\n",
      "Simulation version 1.16.0 started with time: 54000.00.\n",
      "Step #57600.00 (9ms ~= 111.11*RT, ~86111.11UPS, vehicles TOT 2767 ACT 775 BUF 0)          \n",
      "Simulation ended at time: 57600.00\n",
      "Reason: The final simulation step has been reached.\n",
      "Performance: \n",
      " Duration: 18.64s\n",
      " Real time factor: 193.185\n",
      " UPS: 93564.368124\n",
      "Vehicles: \n",
      " Inserted: 2767\n",
      " Running: 775\n",
      " Waiting: 0\n",
      "Statistics (avg of 1992):\n",
      " RouteLength: 4272.32\n",
      " Speed: 11.04\n",
      " Duration: 549.96\n",
      " WaitingTime: 141.13\n",
      " TimeLoss: 240.41\n",
      " DepartDelay: 0.49\n",
      "\n",
      "DijkstraRouter answered 2767 queries and explored 9.61 edges on average.\n",
      "DijkstraRouter spent 0.01s answering queries (0.00ms on average).\n",
      "####### 174 ########\n",
      "##### n=198 #####\n",
      "##### best_value=-0.001436093396988365 #####\n",
      "printing /Users/rodrse/Documents/DemandCalibration/notebooks/od_calibration_sumo_files/quickstart/data/iter_quickstart.current_od.xml\n",
      "### Runing: iter\n",
      "od2trips --no-step-log  --spread.uniform --taz-files /Users/rodrse/Documents/DemandCalibration/notebooks/od_calibration_sumo_files/quickstart/data/quickstart.taz.xml --tazrelation-files /Users/rodrse/Documents/DemandCalibration/notebooks/od_calibration_sumo_files/quickstart/data/iter_quickstart.current_od.xml -o /Users/rodrse/Documents/DemandCalibration/notebooks/od_calibration_sumo_files/quickstart/data/iter_od_trips.trips.xml \n",
      "Success.\n",
      "Loading net-file from '/Users/rodrse/Documents/DemandCalibration/notebooks/od_calibration_sumo_files/quickstart/data/quickstart.net.xml' ... done (5ms).\n",
      "Loading additional-files from '/Users/rodrse/Documents/DemandCalibration/notebooks/od_calibration_sumo_files/quickstart/data/quickstart.additional.xml' ... done (1ms).\n",
      "Loading done.\n",
      "Simulation version 1.16.0 started with time: 54000.00.\n",
      "Step #57600.00 (5ms ~= 200.00*RT, ~125800.00UPS, vehicles TOT 2654 ACT 629 BUF 0)         \n",
      "Simulation ended at time: 57600.00\n",
      "Reason: The final simulation step has been reached.\n",
      "Performance: \n",
      " Duration: 12.28s\n",
      " Real time factor: 293.279\n",
      " UPS: 120216.619145\n",
      "Vehicles: \n",
      " Inserted: 2654\n",
      " Running: 629\n",
      " Waiting: 0\n",
      "Statistics (avg of 2025):\n",
      " RouteLength: 4307.51\n",
      " Speed: 12.41\n",
      " Duration: 417.17\n",
      " WaitingTime: 70.33\n",
      " TimeLoss: 104.64\n",
      " DepartDelay: 0.49\n",
      "\n",
      "DijkstraRouter answered 2654 queries and explored 9.94 edges on average.\n",
      "DijkstraRouter spent 0.01s answering queries (0.00ms on average).\n",
      "####### 175 ########\n",
      "##### n=199 #####\n",
      "##### best_value=-0.001436093396988365 #####\n",
      "printing /Users/rodrse/Documents/DemandCalibration/notebooks/od_calibration_sumo_files/quickstart/data/iter_quickstart.current_od.xml\n",
      "### Runing: iter\n",
      "od2trips --no-step-log  --spread.uniform --taz-files /Users/rodrse/Documents/DemandCalibration/notebooks/od_calibration_sumo_files/quickstart/data/quickstart.taz.xml --tazrelation-files /Users/rodrse/Documents/DemandCalibration/notebooks/od_calibration_sumo_files/quickstart/data/iter_quickstart.current_od.xml -o /Users/rodrse/Documents/DemandCalibration/notebooks/od_calibration_sumo_files/quickstart/data/iter_od_trips.trips.xml \n",
      "Success.\n",
      "Loading net-file from '/Users/rodrse/Documents/DemandCalibration/notebooks/od_calibration_sumo_files/quickstart/data/quickstart.net.xml' ... done (6ms).\n",
      "Loading additional-files from '/Users/rodrse/Documents/DemandCalibration/notebooks/od_calibration_sumo_files/quickstart/data/quickstart.additional.xml' ... done (1ms).\n",
      "Loading done.\n",
      "Simulation version 1.16.0 started with time: 54000.00.\n",
      "Step #56400.00 (7ms ~= 142.86*RT, ~122857.14UPS, vehicles TOT 2381 ACT 860 BUF 0)         \r"
     ]
    },
    {
     "name": "stderr",
     "output_type": "stream",
     "text": [
      "Warning: Teleporting vehicle '407'; waited too long (wrong lane), lane='L15_0', time=56437.00.\n",
      "Warning: Vehicle '407' ends teleporting on edge 'L18', time=56437.00.\n"
     ]
    },
    {
     "name": "stdout",
     "output_type": "stream",
     "text": [
      "Step #56600.00 (8ms ~= 125.00*RT, ~112875.00UPS, vehicles TOT 2581 ACT 903 BUF 0)         \r"
     ]
    },
    {
     "name": "stderr",
     "output_type": "stream",
     "text": [
      "Warning: Teleporting vehicle '583'; waited too long (wrong lane), lane='L12_2', time=56588.00.\n",
      "Warning: Vehicle '583' ends teleporting on edge 'L15', time=56588.00.\n",
      "Warning: Teleporting vehicle '585'; waited too long (wrong lane), lane='L12_2', time=56601.00.\n",
      "Warning: Vehicle '585' ends teleporting on edge 'L15', time=56601.00.\n",
      "Warning: Teleporting vehicle '590'; waited too long (wrong lane), lane='L12_2', time=56637.00.\n",
      "Warning: Teleporting vehicle '591'; waited too long (wrong lane), lane='L12_2', time=56655.00.\n",
      "Warning: Teleporting vehicle '592'; waited too long (wrong lane), lane='L12_2', time=56656.00.\n",
      "Warning: Vehicle '590' ends teleporting on edge 'L15', time=56690.00.\n",
      "Warning: Teleporting vehicle '603'; waited too long (wrong lane), lane='L12_2', time=56699.00.\n"
     ]
    },
    {
     "name": "stdout",
     "output_type": "stream",
     "text": [
      "Step #56700.00 (9ms ~= 111.11*RT, ~105555.56UPS, vehicles TOT 2679 ACT 950 BUF 0)         \r"
     ]
    },
    {
     "name": "stderr",
     "output_type": "stream",
     "text": [
      "Warning: Teleporting vehicle '478'; waited too long (jam), lane='L2_0', time=56730.00.\n",
      "Warning: Vehicle '478' ends teleporting on edge 'L12', time=56730.00.\n",
      "Warning: Teleporting vehicle '608'; waited too long (wrong lane), lane='L12_2', time=56752.00.\n",
      "Warning: Vehicle '591' ends teleporting on edge 'L15', time=56763.00.\n",
      "Warning: Teleporting vehicle '610'; waited too long (wrong lane), lane='L12_2', time=56781.00.\n",
      "Warning: Vehicle '592' ends teleporting on edge 'L15', time=56784.00.\n"
     ]
    },
    {
     "name": "stdout",
     "output_type": "stream",
     "text": [
      "Step #56800.00 (11ms ~= 90.91*RT, ~85636.36UPS, vehicles TOT 2740 ACT 942 BUF 40)         \r"
     ]
    },
    {
     "name": "stderr",
     "output_type": "stream",
     "text": [
      "Warning: Teleporting vehicle '1473'; waited too long (jam), lane='L2_1', time=56806.00.\n",
      "Warning: Vehicle '603' ends teleporting on edge 'L15', time=56852.00.\n"
     ]
    },
    {
     "name": "stdout",
     "output_type": "stream",
     "text": [
      "Step #56900.00 (8ms ~= 125.00*RT, ~115750.00UPS, vehicles TOT 2792 ACT 926 BUF 87)        \r"
     ]
    },
    {
     "name": "stderr",
     "output_type": "stream",
     "text": [
      "Warning: Teleporting vehicle '711'; waited too long (jam), lane='D2_1', time=56917.00.\n",
      "Warning: Vehicle '608' ends teleporting on edge 'L15', time=56922.00.\n",
      "Warning: Teleporting vehicle '617'; waited too long (wrong lane), lane='L12_2', time=56931.00.\n",
      "Warning: Vehicle '610' ends teleporting on edge 'L15', time=56951.00.\n",
      "Warning: Teleporting vehicle '618'; waited too long (wrong lane), lane='L12_2', time=56971.00.\n",
      "Warning: Vehicle '617' ends teleporting on edge 'L15', time=56980.00.\n"
     ]
    },
    {
     "name": "stdout",
     "output_type": "stream",
     "text": [
      "Step #57000.00 (8ms ~= 125.00*RT, ~115000.00UPS, vehicles TOT 2844 ACT 920 BUF 134)       \r"
     ]
    },
    {
     "name": "stderr",
     "output_type": "stream",
     "text": [
      "Warning: Teleporting vehicle '620'; waited too long (wrong lane), lane='L12_2', time=57008.00.\n",
      "Warning: Teleporting vehicle '479'; waited too long (jam), lane='L2_0', time=57037.00.\n",
      "Warning: Vehicle '479' ends teleporting on edge 'L12', time=57037.00.\n",
      "Warning: Teleporting vehicle '622'; waited too long (wrong lane), lane='L12_2', time=57080.00.\n",
      "Warning: Vehicle '618' ends teleporting on edge 'L15', time=57094.00.\n"
     ]
    },
    {
     "name": "stdout",
     "output_type": "stream",
     "text": [
      "Step #57100.00 (9ms ~= 111.11*RT, ~101444.44UPS, vehicles TOT 2895 ACT 913 BUF 181)       \r"
     ]
    },
    {
     "name": "stderr",
     "output_type": "stream",
     "text": [
      "Warning: Teleporting vehicle '1474'; waited too long (jam), lane='L2_1', time=57112.00.\n",
      "Warning: Teleporting vehicle '546'; waited too long (jam), lane='D2_0', time=57125.00.\n",
      "Warning: Vehicle '620' ends teleporting on edge 'L15', time=57148.00.\n",
      "Warning: Teleporting vehicle '625'; waited too long (wrong lane), lane='L12_2', time=57163.00.\n"
     ]
    },
    {
     "name": "stdout",
     "output_type": "stream",
     "text": [
      "Step #57200.00 (10ms ~= 100.00*RT, ~90700.00UPS, vehicles TOT 2948 ACT 907 BUF 228)       \r"
     ]
    },
    {
     "name": "stderr",
     "output_type": "stream",
     "text": [
      "Warning: Vehicle '622' ends teleporting on edge 'L15', time=57203.00.\n",
      "Warning: Teleporting vehicle '1503'; waited too long (jam), lane='D2_1', time=57222.00.\n",
      "Warning: Vehicle '625' ends teleporting on edge 'L15', time=57229.00.\n"
     ]
    },
    {
     "name": "stdout",
     "output_type": "stream",
     "text": [
      "Step #57300.00 (9ms ~= 111.11*RT, ~100666.67UPS, vehicles TOT 2999 ACT 906 BUF 276)       \r"
     ]
    },
    {
     "name": "stderr",
     "output_type": "stream",
     "text": [
      "Warning: Teleporting vehicle '631'; waited too long (wrong lane), lane='L12_2', time=57341.00.\n",
      "Warning: Teleporting vehicle '480'; waited too long (jam), lane='L2_0', time=57344.00.\n",
      "Warning: Vehicle '480' ends teleporting on edge 'L12', time=57344.00.\n",
      "Warning: Teleporting vehicle '671'; waited too long (jam), lane='L2_1', time=57348.00.\n",
      "Warning: Vehicle '546' ends teleporting on edge 'L2', time=57348.00.\n",
      "Warning: Vehicle '671' ends teleporting on edge 'L12', time=57348.00.\n",
      "Warning: Vehicle '711' ends teleporting on edge 'L2', time=57350.00.\n",
      "Warning: Vehicle '631' ends teleporting on edge 'L15', time=57354.00.\n",
      "Warning: Vehicle '1503' ends teleporting on edge 'L2', time=57354.00.\n"
     ]
    },
    {
     "name": "stdout",
     "output_type": "stream",
     "text": [
      "Step #57400.00 (9ms ~= 111.11*RT, ~99000.00UPS, vehicles TOT 3051 ACT 891 BUF 324)        \r"
     ]
    },
    {
     "name": "stderr",
     "output_type": "stream",
     "text": [
      "Warning: Teleporting vehicle '633'; waited too long (wrong lane), lane='L12_2', time=57429.00.\n",
      "Warning: Vehicle '633' ends teleporting on edge 'L15', time=57429.00.\n",
      "Warning: Teleporting vehicle '547'; waited too long (jam), lane='D2_0', time=57432.00.\n"
     ]
    },
    {
     "name": "stdout",
     "output_type": "stream",
     "text": [
      "Step #57500.00 (12ms ~= 83.33*RT, ~74166.67UPS, vehicles TOT 3103 ACT 890 BUF 370)        \r"
     ]
    },
    {
     "name": "stderr",
     "output_type": "stream",
     "text": [
      "Warning: Vehicle '1473' ends teleporting on edge 'L12', time=57530.00.\n",
      "Warning: Vehicle '1474' ends teleporting on edge 'L12', time=57571.00.\n"
     ]
    },
    {
     "name": "stdout",
     "output_type": "stream",
     "text": [
      "Step #57600.00 (11ms ~= 90.91*RT, ~80727.27UPS, vehicles TOT 3155 ACT 888 BUF 418)        \n",
      "Simulation ended at time: 57600.00\n",
      "Reason: The final simulation step has been reached.\n",
      "Performance: \n",
      " Duration: 22.68s\n",
      " Real time factor: 158.737\n",
      " UPS: 108752.634596\n",
      "Vehicles: \n",
      " Inserted: 3155 (Loaded: 3573)\n",
      " Running: 888\n",
      " Waiting: 418\n",
      " Teleports: 26 (Jam: 10, Wrong Lane: 16)\n",
      "Statistics (avg of 2267):\n",
      " RouteLength: 4410.06\n",
      " Speed: 11.36\n",
      " Duration: 476.65\n",
      " WaitingTime: 86.89\n",
      " TimeLoss: 157.16\n",
      " DepartDelay: 0.49\n",
      "\n",
      "DijkstraRouter answered 3574 queries and explored 10.40 edges on average.\n",
      "DijkstraRouter spent 0.01s answering queries (0.00ms on average).\n"
     ]
    }
   ],
   "source": [
    "NITER = 175\n",
    "output = [df_0]\n",
    "best_value = []\n",
    "\n",
    "for i in range(NITER):\n",
    "    \n",
    "    print(f\"####### {i+1} ########\")\n",
    "    \n",
    "    df_ = df_0 if i == 0 else df_i\n",
    "    \n",
    "    n_obs = df_.shape[0]\n",
    "    print(f\"##### n={n_obs} #####\")\n",
    "    \n",
    "    # Training data\n",
    "    train_X = torch.from_numpy(df_[[\"x1\",\"x2\",\"x3\",\"x4\"]].values)    \n",
    "    train_X_norm = normalize(train_X,bounds)\n",
    "    \n",
    "    train_Y = -torch.from_numpy(df_[[\"loss_estimate\"]].values) # Take negative\n",
    "    \n",
    "    # best value so far\n",
    "    best_y = train_Y.max()\n",
    "    best_value.append(best_y)\n",
    "    print(f\"##### best_value={best_y} #####\")\n",
    "\n",
    "    # Declare model with newest data\n",
    "    gp_model, gp_mll = initialize_gp_model(train_X_norm,train_Y)\n",
    "\n",
    "    # Fit model\n",
    "    fit_gpytorch_mll(gp_mll)\n",
    "\n",
    "    # Construct acquistion function \n",
    "    sampler = StochasticSampler(sample_shape=torch.Size([128]))\n",
    "    qEI = qExpectedImprovement(gp_model, best_f=best_y, sampler=sampler)\n",
    "    \n",
    "    # Maximize acquisition function to get next observation\n",
    "    new_x = optimize_acqf_and_get_observation(acq_func=qEI,bounds=bounds)\n",
    "    \n",
    "    # Query SUMO on new sampling location\n",
    "    df_simulation = objective(new_x.cpu().detach().numpy().reshape(-1))\n",
    "    df_simulation['iter'] = i+1\n",
    "    \n",
    "    # Update history of training data\n",
    "    output.append(df_simulation)\n",
    "    \n",
    "    df_i = pd.concat(output)\n",
    "    \n",
    "    \n",
    "    "
   ]
  },
  {
   "cell_type": "code",
   "execution_count": 32,
   "id": "ae6971da",
   "metadata": {},
   "outputs": [],
   "source": [
    "df = pd.concat(output)"
   ]
  },
  {
   "cell_type": "code",
   "execution_count": 33,
   "id": "7b11928e",
   "metadata": {},
   "outputs": [],
   "source": [
    "df_plot = df.query('iter>0')"
   ]
  },
  {
   "cell_type": "code",
   "execution_count": 35,
   "id": "a556a8eb",
   "metadata": {},
   "outputs": [
    {
     "data": {
      "image/png": "[encoded data removed]",
      "text/plain": [
       "<Figure size 432x288 with 1 Axes>"
      ]
     },
     "metadata": {
      "needs_background": "light"
     },
     "output_type": "display_data"
    }
   ],
   "source": [
    "import numpy as np\n",
    "import matplotlib.pyplot as plt\n",
    "\n",
    "x = df_plot['iter']\n",
    "y = df_plot['loss_estimate']\n",
    "\n",
    "plt.plot(x, best_value)\n",
    "#plt.legend(title='Parameter where:')\n",
    "plt.show()"
   ]
  },
  {
   "cell_type": "code",
   "execution_count": 40,
   "id": "33f8fcda",
   "metadata": {},
   "outputs": [
    {
     "data": {
      "text/html": [
       "<div>\n",
       "<style scoped>\n",
       "    .dataframe tbody tr th:only-of-type {\n",
       "        vertical-align: middle;\n",
       "    }\n",
       "\n",
       "    .dataframe tbody tr th {\n",
       "        vertical-align: top;\n",
       "    }\n",
       "\n",
       "    .dataframe thead th {\n",
       "        text-align: right;\n",
       "    }\n",
       "</style>\n",
       "<table border=\"1\" class=\"dataframe\">\n",
       "  <thead>\n",
       "    <tr style=\"text-align: right;\">\n",
       "      <th></th>\n",
       "      <th>x1</th>\n",
       "      <th>x2</th>\n",
       "      <th>x3</th>\n",
       "      <th>x4</th>\n",
       "      <th>loss_estimate</th>\n",
       "      <th>iter</th>\n",
       "    </tr>\n",
       "  </thead>\n",
       "  <tbody>\n",
       "    <tr>\n",
       "      <th>0</th>\n",
       "      <td>585.419433</td>\n",
       "      <td>658.597446</td>\n",
       "      <td>885.307905</td>\n",
       "      <td>685.827810</td>\n",
       "      <td>0.009014</td>\n",
       "      <td>14</td>\n",
       "    </tr>\n",
       "    <tr>\n",
       "      <th>0</th>\n",
       "      <td>967.196193</td>\n",
       "      <td>568.916360</td>\n",
       "      <td>876.502353</td>\n",
       "      <td>947.306546</td>\n",
       "      <td>0.003745</td>\n",
       "      <td>60</td>\n",
       "    </tr>\n",
       "    <tr>\n",
       "      <th>0</th>\n",
       "      <td>540.251196</td>\n",
       "      <td>943.924867</td>\n",
       "      <td>825.218814</td>\n",
       "      <td>489.288404</td>\n",
       "      <td>0.001436</td>\n",
       "      <td>81</td>\n",
       "    </tr>\n",
       "    <tr>\n",
       "      <th>0</th>\n",
       "      <td>945.027097</td>\n",
       "      <td>615.874922</td>\n",
       "      <td>873.756541</td>\n",
       "      <td>891.906239</td>\n",
       "      <td>0.004631</td>\n",
       "      <td>158</td>\n",
       "    </tr>\n",
       "  </tbody>\n",
       "</table>\n",
       "</div>"
      ],
      "text/plain": [
       "           x1          x2          x3          x4  loss_estimate  iter\n",
       "0  585.419433  658.597446  885.307905  685.827810       0.009014    14\n",
       "0  967.196193  568.916360  876.502353  947.306546       0.003745    60\n",
       "0  540.251196  943.924867  825.218814  489.288404       0.001436    81\n",
       "0  945.027097  615.874922  873.756541  891.906239       0.004631   158"
      ]
     },
     "execution_count": 40,
     "metadata": {},
     "output_type": "execute_result"
    }
   ],
   "source": [
    "df.query('loss_estimate<0.01')"
   ]
  },
  {
   "cell_type": "code",
   "execution_count": null,
   "id": "58a65590",
   "metadata": {},
   "outputs": [],
   "source": []
  }
 ],
 "metadata": {
  "kernelspec": {
   "display_name": "BoTorch",
   "language": "python",
   "name": "python3"
  },
  "language_info": {
   "codemirror_mode": {
    "name": "ipython",
    "version": 3
   },
   "file_extension": ".py",
   "mimetype": "text/x-python",
   "name": "python",
   "nbconvert_exporter": "python",
   "pygments_lexer": "ipython3",
   "version": "3.9.11"
  }
 },
 "nbformat": 4,
 "nbformat_minor": 5
}
