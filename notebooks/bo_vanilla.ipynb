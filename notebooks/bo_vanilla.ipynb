{
 "cells": [
  {
   "attachments": {},
   "cell_type": "markdown",
   "metadata": {},
   "source": [
    "### Metadata for simulator"
   ]
  },
  {
   "cell_type": "code",
   "execution_count": 15,
   "metadata": {},
   "outputs": [],
   "source": [
    "from sumo_python.helpers.load_experiment_metadata import load_experiment_config\n",
    "\n",
    "input_path = \"/Users/rodrse/Documents/DemandCalibration/notebooks/od_calibration_sumo_files/\"\n",
    "\n",
    "config, sim_setup = load_experiment_config(config=input_path + 'config.json',\n",
    "                        sim_setup=input_path + 'simulation_setups.json',)"
   ]
  },
  {
   "attachments": {},
   "cell_type": "markdown",
   "metadata": {},
   "source": [
    "### Obtain ground-truth value"
   ]
  },
  {
   "cell_type": "code",
   "execution_count": 16,
   "metadata": {},
   "outputs": [
    {
     "name": "stdout",
     "output_type": "stream",
     "text": [
      "od2trips --no-step-log  --spread.uniform --taz-files /Users/rodrse/Documents/DemandCalibration/notebooks/od_calibration_sumo_files/quickstart/data/quickstart.taz.xml --tazrelation-files /Users/rodrse/Documents/DemandCalibration/notebooks/od_calibration_sumo_files/quickstart/data/quickstart.gt_od.xml -o /Users/rodrse/Documents/DemandCalibration/notebooks/od_calibration_sumo_files/quickstart/data/gt_od_trips.trips.xml \n",
      "Success.\n",
      "sumo --output-prefix gt_ --ignore-route-errors=true --net-file=/Users/rodrse/Documents/DemandCalibration/notebooks/od_calibration_sumo_files/quickstart/data/quickstart.net.xml --routes=/Users/rodrse/Documents/DemandCalibration/notebooks/od_calibration_sumo_files/quickstart/data/gt_od_trips.trips.xml -b 54000 -e 57600 --additional-files /Users/rodrse/Documents/DemandCalibration/notebooks/od_calibration_sumo_files/quickstart/data/quickstart.additional.xml --duration-log.statistics --xml-validation never --vehroutes /Users/rodrse/Documents/DemandCalibration/notebooks/od_calibration_sumo_files/quickstart/data/gt_routes.vehroutes.xml \n",
      "Loading net-file from '/Users/rodrse/Documents/DemandCalibration/notebooks/od_calibration_sumo_files/quickstart/data/quickstart.net.xml' ... done (8ms).\n",
      "Loading additional-files from '/Users/rodrse/Documents/DemandCalibration/notebooks/od_calibration_sumo_files/quickstart/data/quickstart.additional.xml' ... done (41ms).\n",
      "Loading done.\n",
      "Simulation version 1.16.0 started with time: 54000.00.\n",
      "Step #57600.00 (5ms ~= 200.00*RT, ~131200.00UPS, vehicles TOT 2800 ACT 656 BUF 0)         \n",
      "Simulation ended at time: 57600.00\n",
      "Reason: The final simulation step has been reached.\n",
      "Performance: \n",
      " Duration: 14.77s\n",
      " Real time factor: 243.77\n",
      " UPS: 109505.823402\n",
      "Vehicles: \n",
      " Inserted: 2800\n",
      " Running: 656\n",
      " Waiting: 0\n",
      "Statistics (avg of 2144):\n",
      " RouteLength: 4392.77\n",
      " Speed: 11.24\n",
      " Duration: 471.78\n",
      " WaitingTime: 81.10\n",
      " TimeLoss: 153.11\n",
      " DepartDelay: 0.10\n",
      "\n",
      "DijkstraRouter answered 2800 queries and explored 10.01 edges on average.\n",
      "DijkstraRouter spent 0.02s answering queries (0.01ms on average).\n"
     ]
    }
   ],
   "source": [
    "import numpy as np\n",
    "import pandas as pd\n",
    "\n",
    "from sumo_python.helpers.generate_od_xml import generate_od_xml\n",
    "from sumo_python.simulator.run_sumo_and_parse_output import run_sumo_and_parse_output\n",
    "from sumo_python.simulator.ground_truth import run_ground_truth_and_parse\n",
    "from sumo_python.helpers.nrmse_counts import compute_nrmse_counts\n",
    "\n",
    "df_gt_data = run_ground_truth_and_parse(config, sim_setup)\n"
   ]
  },
  {
   "cell_type": "code",
   "execution_count": 17,
   "metadata": {},
   "outputs": [],
   "source": [
    "def objective(x: np.array) -> pd.DataFrame:\n",
    "    \"\"\"Compute objective variable. This is the NRMSE loss between ground-truth output\n",
    "    and the output of the simulation output evaluated at x.\n",
    "\n",
    "    Args:\n",
    "        x (np.array): Numpy array of counts to generate TAZ file from.\n",
    "\n",
    "    Returns:\n",
    "        pd.Dataframe: Data frame of sampling locations and loss esimate.\n",
    "    \"\"\"\n",
    "    prefix_run = 'iter'    \n",
    "    generate_od_xml(x, config, sim_setup, prefix_run)\n",
    "    df_simulated = run_sumo_and_parse_output(config, sim_setup, prefix_run)\n",
    "    loss_estimate = compute_nrmse_counts(df_gt_data, df_simulated)\n",
    "    df_output = pd.DataFrame(x.reshape(-1, len(x)),columns = ['x1','x2','x3','x4'])\n",
    "    df_output['loss_estimate'] = loss_estimate\n",
    "    \n",
    "    return df_output"
   ]
  },
  {
   "attachments": {},
   "cell_type": "markdown",
   "metadata": {},
   "source": [
    "## Vanilla BO with Expected Improvement"
   ]
  },
  {
   "cell_type": "code",
   "execution_count": 18,
   "metadata": {},
   "outputs": [
    {
     "data": {
      "text/plain": [
       "tensor([[ 400.,  400.,  400.,  400.],\n",
       "        [1000., 1000., 1000., 1000.]], dtype=torch.float64)"
      ]
     },
     "execution_count": 18,
     "metadata": {},
     "output_type": "execute_result"
    }
   ],
   "source": [
    "# Bayesian optimization\n",
    "import os\n",
    "import torch\n",
    "import pandas as pd\n",
    "\n",
    "device = torch.device(\"cuda:3\" if torch.cuda.is_available() else \"cpu\")\n",
    "dtype = torch.double\n",
    "\n",
    "### Declare search space\n",
    "# dimensionality of input space\n",
    "d = 4 \n",
    "bounds = torch.tensor([[400,400,400,400],[1000,1000,1000,1000]], device=device, dtype=dtype) \n",
    "bounds\n"
   ]
  },
  {
   "cell_type": "markdown",
   "metadata": {},
   "source": [
    "### Generate batch of policies using Sobol sequences\n"
   ]
  },
  {
   "cell_type": "code",
   "execution_count": 19,
   "metadata": {},
   "outputs": [],
   "source": [
    "df_0 = pd.read_csv('./data/initial_sampling_locations.csv')"
   ]
  },
  {
   "cell_type": "code",
   "execution_count": 20,
   "metadata": {},
   "outputs": [
    {
     "data": {
      "text/plain": [
       "ExactMarginalLogLikelihood(\n",
       "  (likelihood): GaussianLikelihood(\n",
       "    (noise_covar): HomoskedasticNoise(\n",
       "      (noise_prior): GammaPrior()\n",
       "      (raw_noise_constraint): GreaterThan(1.000E-04)\n",
       "    )\n",
       "  )\n",
       "  (model): SingleTaskGP(\n",
       "    (likelihood): GaussianLikelihood(\n",
       "      (noise_covar): HomoskedasticNoise(\n",
       "        (noise_prior): GammaPrior()\n",
       "        (raw_noise_constraint): GreaterThan(1.000E-04)\n",
       "      )\n",
       "    )\n",
       "    (mean_module): ConstantMean()\n",
       "    (covar_module): ScaleKernel(\n",
       "      (base_kernel): MaternKernel(\n",
       "        (lengthscale_prior): GammaPrior()\n",
       "        (raw_lengthscale_constraint): Positive()\n",
       "        (distance_module): Distance()\n",
       "      )\n",
       "      (outputscale_prior): GammaPrior()\n",
       "      (raw_outputscale_constraint): Positive()\n",
       "    )\n",
       "    (outcome_transform): Standardize()\n",
       "  )\n",
       ")"
      ]
     },
     "execution_count": 20,
     "metadata": {},
     "output_type": "execute_result"
    }
   ],
   "source": [
    "### GP model surrogate\n",
    "from botorch.models.transforms import Standardize\n",
    "\n",
    "from botorch.utils.transforms import normalize\n",
    "\n",
    "from botorch.models import SingleTaskGP\n",
    "from gpytorch.mlls import ExactMarginalLogLikelihood\n",
    "from botorch import fit_gpytorch_mll\n",
    "\n",
    "\n",
    "train_X = torch.from_numpy(df_0[[\"x1\",\"x2\",\"x3\",\"x4\"]].values)\n",
    "train_X_norm = normalize(train_X,bounds)\n",
    "\n",
    "train_Y = -torch.from_numpy(df_0[[\"loss_estimate\"]].values)\n",
    "\n",
    "\n",
    "def initialize_gp_model(train_X,train_Y):\n",
    "            \n",
    "    gp_model = SingleTaskGP(\n",
    "        train_X=train_X,\n",
    "        train_Y=train_Y,\n",
    "        outcome_transform=Standardize(m=1)\n",
    "    )\n",
    "\n",
    "    gp_mll = ExactMarginalLogLikelihood(gp_model.likelihood, gp_model)\n",
    "    \n",
    "    return gp_model, gp_mll\n",
    "\n",
    "\n",
    "gp_model, gp_mll = initialize_gp_model(train_X_norm,train_Y)\n",
    "\n",
    "# Fit model\n",
    "fit_gpytorch_mll(gp_mll)\n"
   ]
  },
  {
   "cell_type": "code",
   "execution_count": 21,
   "metadata": {},
   "outputs": [],
   "source": [
    "\n",
    "### Acquisition Function: q-EI\n",
    "# Acquisition function\n",
    "from botorch.acquisition import qExpectedImprovement\n",
    "from botorch.sampling.stochastic_samplers import StochasticSampler\n",
    "\n",
    "sampler = StochasticSampler(sample_shape=torch.Size([128]))\n",
    "qEI = qExpectedImprovement(gp_model, best_f=max(train_Y), sampler=sampler)\n",
    "\n",
    "from botorch.utils.transforms import unnormalize\n",
    "from botorch.optim import optimize_acqf\n",
    "    \n",
    "def optimize_acqf_and_get_observation(acq_func,bounds):\n",
    "    \"\"\"Optimizes the acquisition function, and returns a new candidate.\"\"\"\n",
    "    # optimize\n",
    "    candidates, _ = optimize_acqf(\n",
    "        acq_function=acq_func,\n",
    "        bounds=torch.tensor([[0.0] * dim, [1.0] * dim], device=device, dtype=dtype),\n",
    "        q=BATCH_SIZE,\n",
    "        num_restarts=NUM_RESTARTS,\n",
    "        raw_samples=RAW_SAMPLES,  # used for intialization heuristic\n",
    "        options={\"batch_limit\": 5, \"maxiter\": 200},\n",
    "    )\n",
    "\n",
    "    # observe new values \n",
    "    new_x = candidates.detach()\n",
    "    \n",
    "    return unnormalize(new_x, bounds)\n"
   ]
  },
  {
   "cell_type": "code",
   "execution_count": 22,
   "metadata": {},
   "outputs": [
    {
     "data": {
      "text/plain": [
       "tensor([[993.6598, 876.8135, 961.7887, 509.0160]], dtype=torch.float64)"
      ]
     },
     "execution_count": 22,
     "metadata": {},
     "output_type": "execute_result"
    }
   ],
   "source": [
    "\n",
    "BATCH_SIZE = 1 \n",
    "NUM_RESTARTS = 5 \n",
    "RAW_SAMPLES = 32 \n",
    "\n",
    "new_x = optimize_acqf_and_get_observation(\n",
    "    acq_func=qEI,\n",
    "    bounds=bounds\n",
    ")\n",
    "\n",
    "new_x"
   ]
  },
  {
   "cell_type": "code",
   "execution_count": 23,
   "metadata": {},
   "outputs": [
    {
     "name": "stdout",
     "output_type": "stream",
     "text": [
      "####### 1 ########\n",
      "##### n=20 #####\n",
      "##### best_value=-0.027004666207663 #####\n",
      "printing /Users/rodrse/Documents/DemandCalibration/notebooks/od_calibration_sumo_files/quickstart/data/iter_quickstart.current_od.xml\n",
      "### Runing: iter\n",
      "Success.\n",
      "Step #57400.00 (9ms ~= 111.11*RT, ~91666.67UPS, vehicles TOT 2990 ACT 825 BUF 0)          \r"
     ]
    },
    {
     "name": "stderr",
     "output_type": "stream",
     "text": [
      "Warning: Teleporting vehicle '626'; waited too long (wrong lane), lane='L12_2', time=57495.00.\n",
      "Warning: Vehicle '626' ends teleporting on edge 'L15', time=57495.00.\n"
     ]
    },
    {
     "name": "stdout",
     "output_type": "stream",
     "text": [
      "Step #57600.00 (9ms ~= 111.11*RT, ~99000.00UPS, vehicles TOT 3153 ACT 891 BUF 12)         \n"
     ]
    },
    {
     "name": "stderr",
     "output_type": "stream",
     "text": [
      "Warning: Teleporting vehicle '631'; waited too long (wrong lane), lane='L12_2', time=57585.00.\n",
      "Warning: Vehicle '631' ends teleporting on edge 'L15', time=57585.00.\n"
     ]
    },
    {
     "name": "stdout",
     "output_type": "stream",
     "text": [
      "####### 2 ########\n",
      "##### n=21 #####\n",
      "##### best_value=-0.027004666207663 #####\n",
      "printing /Users/rodrse/Documents/DemandCalibration/notebooks/od_calibration_sumo_files/quickstart/data/iter_quickstart.current_od.xml\n",
      "### Runing: iter\n",
      "Success.\n",
      "Step #57600.00 (9ms ~= 111.11*RT, ~85666.67UPS, vehicles TOT 2973 ACT 771 BUF 0)          \n",
      "####### 3 ########\n",
      "##### n=22 #####\n",
      "##### best_value=-0.027004666207663 #####\n",
      "printing /Users/rodrse/Documents/DemandCalibration/notebooks/od_calibration_sumo_files/quickstart/data/iter_quickstart.current_od.xml\n",
      "### Runing: iter\n",
      "Success.\n",
      "Step #57600.00 (12ms ~= 83.33*RT, ~65166.67UPS, vehicles TOT 3090 ACT 782 BUF 0)          \n",
      "####### 4 ########\n",
      "##### n=23 #####\n",
      "##### best_value=-0.027004666207663 #####\n",
      "printing /Users/rodrse/Documents/DemandCalibration/notebooks/od_calibration_sumo_files/quickstart/data/iter_quickstart.current_od.xml\n",
      "### Runing: iter\n",
      "Success.\n",
      "Step #57600.00 (5ms ~= 200.00*RT, ~145000.00UPS, vehicles TOT 2854 ACT 725 BUF 0)         \n",
      "####### 5 ########\n",
      "##### n=24 #####\n",
      "##### best_value=-0.01872436705548438 #####\n",
      "printing /Users/rodrse/Documents/DemandCalibration/notebooks/od_calibration_sumo_files/quickstart/data/iter_quickstart.current_od.xml\n",
      "### Runing: iter\n",
      "Success.\n",
      "Step #57600.00 (5ms ~= 200.00*RT, ~134000.00UPS, vehicles TOT 2902 ACT 670 BUF 0)         \n",
      "####### 6 ########\n",
      "##### n=25 #####\n",
      "##### best_value=-0.01872436705548438 #####\n",
      "printing /Users/rodrse/Documents/DemandCalibration/notebooks/od_calibration_sumo_files/quickstart/data/iter_quickstart.current_od.xml\n",
      "### Runing: iter\n",
      "Success.\n",
      "Step #57600.00 (8ms ~= 125.00*RT, ~90625.00UPS, vehicles TOT 2930 ACT 725 BUF 0)          \n",
      "####### 7 ########\n",
      "##### n=26 #####\n",
      "##### best_value=-0.01872436705548438 #####\n",
      "printing /Users/rodrse/Documents/DemandCalibration/notebooks/od_calibration_sumo_files/quickstart/data/iter_quickstart.current_od.xml\n",
      "### Runing: iter\n",
      "Success.\n",
      "Step #57600.00 (4ms ~= 250.00*RT, ~140750.00UPS, vehicles TOT 2692 ACT 563 BUF 0)         \n",
      "####### 8 ########\n",
      "##### n=27 #####\n",
      "##### best_value=-0.01872436705548438 #####\n",
      "printing /Users/rodrse/Documents/DemandCalibration/notebooks/od_calibration_sumo_files/quickstart/data/iter_quickstart.current_od.xml\n",
      "### Runing: iter\n",
      "Success.\n",
      "Step #57600.00 (12ms ~= 83.33*RT, ~61833.33UPS, vehicles TOT 2895 ACT 742 BUF 23)         \n",
      "####### 9 ########\n",
      "##### n=28 #####\n",
      "##### best_value=-0.01872436705548438 #####\n",
      "printing /Users/rodrse/Documents/DemandCalibration/notebooks/od_calibration_sumo_files/quickstart/data/iter_quickstart.current_od.xml\n",
      "### Runing: iter\n",
      "Success.\n",
      "Step #57500.00 (6ms ~= 166.67*RT, ~130500.00UPS, vehicles TOT 2818 ACT 783 BUF 239)       \r"
     ]
    },
    {
     "name": "stderr",
     "output_type": "stream",
     "text": [
      "Warning: Teleporting vehicle '716'; waited too long (jam), lane='L2_1', time=57563.00.\n",
      "Warning: Vehicle '716' ends teleporting on edge 'L12', time=57563.00.\n",
      "Warning: Teleporting vehicle '717'; waited too long (jam), lane='L2_1', time=57591.00.\n",
      "Warning: Vehicle '717' ends teleporting on edge 'L12', time=57591.00.\n"
     ]
    },
    {
     "name": "stdout",
     "output_type": "stream",
     "text": [
      "Step #57600.00 (6ms ~= 166.67*RT, ~127500.00UPS, vehicles TOT 2856 ACT 765 BUF 290)       \n",
      "####### 10 ########\n",
      "##### n=29 #####\n",
      "##### best_value=-0.01872436705548438 #####\n",
      "printing /Users/rodrse/Documents/DemandCalibration/notebooks/od_calibration_sumo_files/quickstart/data/iter_quickstart.current_od.xml\n",
      "### Runing: iter\n",
      "Success.\n",
      "Step #57600.00 (5ms ~= 200.00*RT, ~115400.00UPS, vehicles TOT 2737 ACT 577 BUF 0)         \n",
      "####### 11 ########\n",
      "##### n=30 #####\n",
      "##### best_value=-0.01872436705548438 #####\n",
      "printing /Users/rodrse/Documents/DemandCalibration/notebooks/od_calibration_sumo_files/quickstart/data/iter_quickstart.current_od.xml\n",
      "### Runing: iter\n",
      "Success.\n",
      "Step #57600.00 (6ms ~= 166.67*RT, ~112166.67UPS, vehicles TOT 2925 ACT 673 BUF 0)         \n",
      "####### 12 ########\n",
      "##### n=31 #####\n",
      "##### best_value=-0.01872436705548438 #####\n",
      "printing /Users/rodrse/Documents/DemandCalibration/notebooks/od_calibration_sumo_files/quickstart/data/iter_quickstart.current_od.xml\n",
      "### Runing: iter\n",
      "Success.\n",
      "Step #57600.00 (11ms ~= 90.91*RT, ~74818.18UPS, vehicles TOT 2929 ACT 823 BUF 0)          \n",
      "####### 13 ########\n",
      "##### n=32 #####\n",
      "##### best_value=-0.01872436705548438 #####\n",
      "printing /Users/rodrse/Documents/DemandCalibration/notebooks/od_calibration_sumo_files/quickstart/data/iter_quickstart.current_od.xml\n",
      "### Runing: iter\n",
      "Success.\n",
      "Step #57600.00 (5ms ~= 200.00*RT, ~126600.00UPS, vehicles TOT 2866 ACT 633 BUF 0)         \n",
      "####### 14 ########\n",
      "##### n=33 #####\n",
      "##### best_value=-0.01872436705548438 #####\n",
      "printing /Users/rodrse/Documents/DemandCalibration/notebooks/od_calibration_sumo_files/quickstart/data/iter_quickstart.current_od.xml\n",
      "### Runing: iter\n",
      "Success.\n",
      "Step #57100.00 (6ms ~= 166.67*RT, ~129666.67UPS, vehicles TOT 2735 ACT 778 BUF 87)        \r"
     ]
    },
    {
     "name": "stderr",
     "output_type": "stream",
     "text": [
      "Warning: Teleporting vehicle '616'; waited too long (wrong lane), lane='L12_2', time=57191.00.\n",
      "Warning: Vehicle '616' ends teleporting on edge 'L15', time=57191.00.\n"
     ]
    },
    {
     "name": "stdout",
     "output_type": "stream",
     "text": [
      "Step #57200.00 (7ms ~= 142.86*RT, ~113857.14UPS, vehicles TOT 2810 ACT 797 BUF 103)       \r"
     ]
    },
    {
     "name": "stderr",
     "output_type": "stream",
     "text": [
      "Warning: Teleporting vehicle '618'; waited too long (wrong lane), lane='L12_2', time=57242.00.\n",
      "Warning: Vehicle '618' ends teleporting on edge 'L15', time=57247.00.\n"
     ]
    },
    {
     "name": "stdout",
     "output_type": "stream",
     "text": [
      "Step #57300.00 (7ms ~= 142.86*RT, ~118142.86UPS, vehicles TOT 2883 ACT 827 BUF 121)       \r"
     ]
    },
    {
     "name": "stderr",
     "output_type": "stream",
     "text": [
      "Warning: Teleporting vehicle '495'; waited too long (jam), lane='L2_0', time=57315.00.\n",
      "Warning: Vehicle '495' ends teleporting on edge 'L12', time=57315.00.\n",
      "Warning: Teleporting vehicle '622'; waited too long (wrong lane), lane='L12_2', time=57385.00.\n",
      "Warning: Vehicle '622' ends teleporting on edge 'L15', time=57395.00.\n"
     ]
    },
    {
     "name": "stdout",
     "output_type": "stream",
     "text": [
      "Step #57500.00 (6ms ~= 166.67*RT, ~145666.67UPS, vehicles TOT 3031 ACT 874 BUF 155)       \r"
     ]
    },
    {
     "name": "stderr",
     "output_type": "stream",
     "text": [
      "Warning: Teleporting vehicle '630'; waited too long (wrong lane), lane='L12_2', time=57489.00.\n",
      "Warning: Vehicle '630' ends teleporting on edge 'L15', time=57489.00.\n",
      "Warning: Teleporting vehicle '1466'; waited too long (jam), lane='L2_1', time=57503.00.\n",
      "Warning: Teleporting vehicle '682'; waited too long (jam), lane='L2_1', time=57514.00.\n",
      "Warning: Vehicle '682' ends teleporting on edge 'L12', time=57514.00.\n",
      "Warning: Teleporting vehicle '631'; waited too long (wrong lane), lane='L12_2', time=57527.00.\n",
      "Warning: Vehicle '631' ends teleporting on edge 'L15', time=57550.00.\n"
     ]
    },
    {
     "name": "stdout",
     "output_type": "stream",
     "text": [
      "Step #57600.00 (6ms ~= 166.67*RT, ~147833.33UPS, vehicles TOT 3105 ACT 887 BUF 172)       \n",
      "####### 15 ########\n",
      "##### n=34 #####\n",
      "##### best_value=-0.01872436705548438 #####\n",
      "printing /Users/rodrse/Documents/DemandCalibration/notebooks/od_calibration_sumo_files/quickstart/data/iter_quickstart.current_od.xml\n",
      "### Runing: iter\n",
      "Success.\n",
      "Step #57600.00 (5ms ~= 200.00*RT, ~119400.00UPS, vehicles TOT 2655 ACT 597 BUF 0)         \n",
      "####### 16 ########\n",
      "##### n=35 #####\n",
      "##### best_value=-0.01872436705548438 #####\n",
      "printing /Users/rodrse/Documents/DemandCalibration/notebooks/od_calibration_sumo_files/quickstart/data/iter_quickstart.current_od.xml\n",
      "### Runing: iter\n",
      "Success.\n",
      "Step #57500.00 (9ms ~= 111.11*RT, ~86444.44UPS, vehicles TOT 2903 ACT 778 BUF 97)         \r"
     ]
    },
    {
     "name": "stderr",
     "output_type": "stream",
     "text": [
      "Warning: Teleporting vehicle '653'; waited too long (wrong lane), lane='L12_2', time=57520.00.\n",
      "Warning: Teleporting vehicle '449'; waited too long (jam), lane='L12_0', time=57529.00.\n",
      "Warning: Vehicle '449' ends teleporting on edge 'L15', time=57529.00.\n",
      "Warning: Teleporting vehicle '444'; waited too long (jam), lane='L12_0', time=57530.00.\n",
      "Warning: Teleporting vehicle '452'; waited too long (jam), lane='L12_0', time=57531.00.\n",
      "Warning: Teleporting vehicle '470'; waited too long (jam), lane='L12_0', time=57595.00.\n",
      "Warning: Teleporting vehicle '473'; waited too long (jam), lane='L12_0', time=57596.00.\n",
      "Warning: Teleporting vehicle '475'; waited too long (jam), lane='L12_0', time=57597.00.\n",
      "Warning: Teleporting vehicle '477'; waited too long (jam), lane='L12_0', time=57598.00.\n",
      "Warning: Teleporting vehicle '479'; waited too long (jam), lane='L12_0', time=57599.00.\n"
     ]
    },
    {
     "name": "stdout",
     "output_type": "stream",
     "text": [
      "Step #57600.00 (9ms ~= 111.11*RT, ~88888.89UPS, vehicles TOT 2970 ACT 800 BUF 116)        \n",
      "####### 17 ########\n",
      "##### n=36 #####\n",
      "##### best_value=-0.018669214160848744 #####\n",
      "printing /Users/rodrse/Documents/DemandCalibration/notebooks/od_calibration_sumo_files/quickstart/data/iter_quickstart.current_od.xml\n",
      "### Runing: iter\n",
      "Success.\n",
      "Step #57600.00 (7ms ~= 142.86*RT, ~120857.14UPS, vehicles TOT 3052 ACT 846 BUF 0)         \n",
      "####### 18 ########\n",
      "##### n=37 #####\n",
      "##### best_value=-0.018669214160848744 #####\n",
      "printing /Users/rodrse/Documents/DemandCalibration/notebooks/od_calibration_sumo_files/quickstart/data/iter_quickstart.current_od.xml\n",
      "### Runing: iter\n",
      "Success.\n",
      "Step #57600.00 (10ms ~= 100.00*RT, ~73700.00UPS, vehicles TOT 3034 ACT 737 BUF 52)        \n",
      "####### 19 ########\n",
      "##### n=38 #####\n",
      "##### best_value=-0.018669214160848744 #####\n",
      "printing /Users/rodrse/Documents/DemandCalibration/notebooks/od_calibration_sumo_files/quickstart/data/iter_quickstart.current_od.xml\n",
      "### Runing: iter\n",
      "Success.\n",
      "Step #56800.00 (12ms ~= 83.33*RT, ~71666.67UPS, vehicles TOT 2541 ACT 860 BUF 0)          \r"
     ]
    },
    {
     "name": "stderr",
     "output_type": "stream",
     "text": [
      "Warning: Teleporting vehicle '609'; waited too long (wrong lane), lane='L12_2', time=56850.00.\n",
      "Warning: Vehicle '609' ends teleporting on edge 'L15', time=56860.00.\n"
     ]
    },
    {
     "name": "stdout",
     "output_type": "stream",
     "text": [
      "Step #56900.00 (11ms ~= 90.91*RT, ~80818.18UPS, vehicles TOT 2631 ACT 889 BUF 0)          \r"
     ]
    },
    {
     "name": "stderr",
     "output_type": "stream",
     "text": [
      "Warning: Teleporting vehicle '613'; waited too long (wrong lane), lane='L12_2', time=56927.00.\n",
      "Warning: Vehicle '613' ends teleporting on edge 'L15', time=56927.00.\n",
      "Warning: Teleporting vehicle '481'; waited too long (jam), lane=':1_3_1', time=56956.00.\n",
      "Warning: Vehicle '481' ends teleporting on edge 'L12', time=56956.00.\n",
      "Warning: Teleporting vehicle '615'; waited too long (wrong lane), lane='L12_2', time=56963.00.\n",
      "Warning: Vehicle '615' ends teleporting on edge 'L15', time=56969.00.\n"
     ]
    },
    {
     "name": "stdout",
     "output_type": "stream",
     "text": [
      "Step #57000.00 (11ms ~= 90.91*RT, ~80272.73UPS, vehicles TOT 2676 ACT 883 BUF 48)         \r"
     ]
    },
    {
     "name": "stderr",
     "output_type": "stream",
     "text": [
      "Warning: Teleporting vehicle '1534'; waited too long (jam), lane='L2_1', time=57010.00.\n",
      "Warning: Vehicle '1534' ends teleporting on edge 'L12', time=57010.00.\n",
      "Warning: Teleporting vehicle '665'; waited too long (jam), lane='L2_1', time=57011.00.\n",
      "Warning: Vehicle '665' ends teleporting on edge 'L12', time=57011.00.\n",
      "Warning: Teleporting vehicle '619'; waited too long (wrong lane), lane='L12_2', time=57062.00.\n",
      "Warning: Vehicle '619' ends teleporting on edge 'L15', time=57062.00.\n",
      "Warning: Teleporting vehicle '620'; waited too long (wrong lane), lane='L12_2', time=57063.00.\n",
      "Warning: Vehicle '620' ends teleporting on edge 'L15', time=57094.00.\n",
      "Warning: Teleporting vehicle '1569'; waited too long (jam), lane='D2_1', time=57108.00.\n",
      "Warning: Vehicle '1569' ends teleporting on edge 'L2', time=57108.00.\n",
      "Warning: Teleporting vehicle '702'; waited too long (jam), lane='D2_1', time=57109.00.\n"
     ]
    },
    {
     "name": "stdout",
     "output_type": "stream",
     "text": [
      "Step #57100.00 (10ms ~= 100.00*RT, ~87200.00UPS, vehicles TOT 2717 ACT 872 BUF 97)        \r"
     ]
    },
    {
     "name": "stderr",
     "output_type": "stream",
     "text": [
      "Warning: Teleporting vehicle '625'; waited too long (wrong lane), lane='L12_2', time=57171.00.\n",
      "Warning: Vehicle '625' ends teleporting on edge 'L15', time=57198.00.\n"
     ]
    },
    {
     "name": "stdout",
     "output_type": "stream",
     "text": [
      "Step #57300.00 (10ms ~= 100.00*RT, ~86200.00UPS, vehicles TOT 2801 ACT 862 BUF 194)       \r"
     ]
    },
    {
     "name": "stderr",
     "output_type": "stream",
     "text": [
      "Warning: Teleporting vehicle '483'; waited too long (jam), lane='L2_0', time=57308.00.\n",
      "Warning: Vehicle '483' ends teleporting on edge 'L12', time=57308.00.\n",
      "Warning: Teleporting vehicle '1535'; waited too long (jam), lane='L2_1', time=57318.00.\n",
      "Warning: Vehicle '1535' ends teleporting on edge 'L12', time=57318.00.\n",
      "Warning: Teleporting vehicle '666'; waited too long (jam), lane='L2_1', time=57320.00.\n",
      "Warning: Vehicle '666' ends teleporting on edge 'L12', time=57320.00.\n",
      "Warning: Vehicle '702' ends teleporting on edge 'L2', time=57320.00.\n",
      "Warning: Teleporting vehicle '549'; waited too long (jam), lane='D2_0', time=57350.00.\n",
      "Warning: Vehicle '549' ends teleporting on edge 'L2', time=57350.00.\n",
      "Warning: Teleporting vehicle '635'; waited too long (wrong lane), lane='L12_2', time=57361.00.\n",
      "Warning: Vehicle '635' ends teleporting on edge 'L15', time=57361.00.\n"
     ]
    },
    {
     "name": "stdout",
     "output_type": "stream",
     "text": [
      "Step #57400.00 (11ms ~= 90.91*RT, ~77818.18UPS, vehicles TOT 2843 ACT 856 BUF 243)        \r"
     ]
    },
    {
     "name": "stderr",
     "output_type": "stream",
     "text": [
      "Warning: Teleporting vehicle '1570'; waited too long (jam), lane='D2_1', time=57418.00.\n",
      "Warning: Vehicle '1570' ends teleporting on edge 'L2', time=57418.00.\n",
      "Warning: Teleporting vehicle '636'; waited too long (wrong lane), lane='L12_2', time=57419.00.\n",
      "Warning: Teleporting vehicle '703'; waited too long (jam), lane='D2_1', time=57419.00.\n",
      "Warning: Vehicle '636' ends teleporting on edge 'L15', time=57452.00.\n"
     ]
    },
    {
     "name": "stdout",
     "output_type": "stream",
     "text": [
      "Step #57600.00 (10ms ~= 100.00*RT, ~83200.00UPS, vehicles TOT 2926 ACT 832 BUF 341)       \n",
      "####### 20 ########\n",
      "##### n=39 #####\n",
      "##### best_value=-0.018669214160848744 #####\n",
      "printing /Users/rodrse/Documents/DemandCalibration/notebooks/od_calibration_sumo_files/quickstart/data/iter_quickstart.current_od.xml\n",
      "### Runing: iter\n",
      "Success.\n",
      "Step #56800.00 (8ms ~= 125.00*RT, ~91000.00UPS, vehicles TOT 2377 ACT 728 BUF 118)        \r"
     ]
    },
    {
     "name": "stderr",
     "output_type": "stream",
     "text": [
      "Warning: Teleporting vehicle '641'; waited too long (wrong lane), lane='L12_2', time=56895.00.\n"
     ]
    },
    {
     "name": "stdout",
     "output_type": "stream",
     "text": [
      "Step #56900.00 (12ms ~= 83.33*RT, ~62916.67UPS, vehicles TOT 2442 ACT 755 BUF 144)        \r"
     ]
    },
    {
     "name": "stderr",
     "output_type": "stream",
     "text": [
      "Warning: Vehicle '641' ends teleporting on edge 'L15', time=56914.00.\n",
      "Warning: Teleporting vehicle '515'; waited too long (jam), lane='L2_0', time=56934.00.\n",
      "Warning: Vehicle '515' ends teleporting on edge 'L12', time=56934.00.\n",
      "Warning: Teleporting vehicle '649'; waited too long (wrong lane), lane='L12_2', time=56975.00.\n"
     ]
    },
    {
     "name": "stdout",
     "output_type": "stream",
     "text": [
      "Step #57000.00 (11ms ~= 90.91*RT, ~69636.36UPS, vehicles TOT 2505 ACT 766 BUF 169)        \r"
     ]
    },
    {
     "name": "stderr",
     "output_type": "stream",
     "text": [
      "Warning: Vehicle '649' ends teleporting on edge 'L15', time=57010.00.\n",
      "Warning: Teleporting vehicle '652'; waited too long (wrong lane), lane='L12_2', time=57030.00.\n",
      "Warning: Vehicle '652' ends teleporting on edge 'L15', time=57062.00.\n",
      "Warning: Teleporting vehicle '656'; waited too long (wrong lane), lane='L12_2', time=57096.00.\n",
      "Warning: Vehicle '656' ends teleporting on edge 'L15', time=57096.00.\n"
     ]
    },
    {
     "name": "stdout",
     "output_type": "stream",
     "text": [
      "Step #57200.00 (9ms ~= 111.11*RT, ~87000.00UPS, vehicles TOT 2624 ACT 783 BUF 228)        \r"
     ]
    },
    {
     "name": "stderr",
     "output_type": "stream",
     "text": [
      "Warning: Teleporting vehicle '1678'; waited too long (jam), lane='L2_1', time=57262.00.\n",
      "Warning: Vehicle '1678' ends teleporting on edge 'L12', time=57262.00.\n",
      "Warning: Teleporting vehicle '694'; waited too long (jam), lane='L2_1', time=57265.00.\n",
      "Warning: Vehicle '694' ends teleporting on edge 'L12', time=57265.00.\n",
      "Warning: Teleporting vehicle '517'; waited too long (jam), lane='L2_0', time=57293.00.\n",
      "Warning: Vehicle '517' ends teleporting on edge 'L12', time=57293.00.\n"
     ]
    },
    {
     "name": "stdout",
     "output_type": "stream",
     "text": [
      "Step #57300.00 (8ms ~= 125.00*RT, ~96375.00UPS, vehicles TOT 2660 ACT 771 BUF 283)        \r"
     ]
    },
    {
     "name": "stderr",
     "output_type": "stream",
     "text": [
      "Warning: Teleporting vehicle '583'; waited too long (jam), lane='D2_0', time=57382.00.\n"
     ]
    },
    {
     "name": "stdout",
     "output_type": "stream",
     "text": [
      "Step #57400.00 (8ms ~= 125.00*RT, ~94375.00UPS, vehicles TOT 2694 ACT 755 BUF 337)        \r"
     ]
    },
    {
     "name": "stderr",
     "output_type": "stream",
     "text": [
      "Warning: Teleporting vehicle '1712'; waited too long (jam), lane='D2_1', time=57461.00.\n",
      "Warning: Teleporting vehicle '726'; waited too long (jam), lane='D2_1', time=57463.00.\n",
      "Warning: Teleporting vehicle '727'; waited too long (jam), lane='D2_1', time=57474.00.\n"
     ]
    },
    {
     "name": "stdout",
     "output_type": "stream",
     "text": [
      "Step #57500.00 (10ms ~= 100.00*RT, ~75100.00UPS, vehicles TOT 2742 ACT 751 BUF 379)       \r"
     ]
    },
    {
     "name": "stderr",
     "output_type": "stream",
     "text": [
      "Warning: Vehicle '583' ends teleporting on edge 'L2', time=57557.00.\n",
      "Warning: Vehicle '1712' ends teleporting on edge 'L2', time=57599.00.\n"
     ]
    },
    {
     "name": "stdout",
     "output_type": "stream",
     "text": [
      "Step #57600.00 (9ms ~= 111.11*RT, ~85444.44UPS, vehicles TOT 2803 ACT 769 BUF 406)        \n",
      "####### 21 ########\n",
      "##### n=40 #####\n",
      "##### best_value=-0.018669214160848744 #####\n",
      "printing /Users/rodrse/Documents/DemandCalibration/notebooks/od_calibration_sumo_files/quickstart/data/iter_quickstart.current_od.xml\n",
      "### Runing: iter\n",
      "Success.\n",
      "Step #57100.00 (5ms ~= 200.00*RT, ~150800.00UPS, vehicles TOT 2666 ACT 754 BUF 0)         \r"
     ]
    },
    {
     "name": "stderr",
     "output_type": "stream",
     "text": [
      "Warning: Teleporting vehicle '500'; waited too long (wrong lane), lane='L15_0', time=57142.00.\n",
      "Warning: Vehicle '500' ends teleporting on edge 'L18', time=57142.00.\n",
      "Warning: Teleporting vehicle '504'; waited too long (wrong lane), lane='L15_0', time=57162.00.\n",
      "Warning: Vehicle '504' ends teleporting on edge 'L18', time=57162.00.\n"
     ]
    },
    {
     "name": "stdout",
     "output_type": "stream",
     "text": [
      "Step #57600.00 (7ms ~= 142.86*RT, ~110428.57UPS, vehicles TOT 3067 ACT 773 BUF 30)        \n",
      "####### 22 ########\n",
      "##### n=41 #####\n",
      "##### best_value=-0.018669214160848744 #####\n",
      "printing /Users/rodrse/Documents/DemandCalibration/notebooks/od_calibration_sumo_files/quickstart/data/iter_quickstart.current_od.xml\n",
      "### Runing: iter\n",
      "Success.\n",
      "Step #57100.00 (6ms ~= 166.67*RT, ~125666.67UPS, vehicles TOT 2645 ACT 754 BUF 74)        \r"
     ]
    },
    {
     "name": "stderr",
     "output_type": "stream",
     "text": [
      "Warning: Teleporting vehicle '617'; waited too long (wrong lane), lane='L12_2', time=57145.00.\n",
      "Warning: Vehicle '617' ends teleporting on edge 'L15', time=57145.00.\n"
     ]
    },
    {
     "name": "stdout",
     "output_type": "stream",
     "text": [
      "Step #57200.00 (6ms ~= 166.67*RT, ~130333.33UPS, vehicles TOT 2717 ACT 782 BUF 89)        \r"
     ]
    },
    {
     "name": "stderr",
     "output_type": "stream",
     "text": [
      "Warning: Teleporting vehicle '620'; waited too long (wrong lane), lane='L12_2', time=57218.00.\n",
      "Warning: Vehicle '620' ends teleporting on edge 'L15', time=57247.00.\n",
      "Warning: Teleporting vehicle '498'; waited too long (jam), lane='L2_0', time=57264.00.\n",
      "Warning: Vehicle '498' ends teleporting on edge 'L12', time=57264.00.\n",
      "Warning: Teleporting vehicle '499'; waited too long (jam), lane='L2_0', time=57265.00.\n",
      "Warning: Vehicle '499' ends teleporting on edge 'L12', time=57265.00.\n",
      "Warning: Teleporting vehicle '623'; waited too long (wrong lane), lane='L12_2', time=57270.00.\n",
      "Warning: Vehicle '623' ends teleporting on edge 'L15', time=57296.00.\n"
     ]
    },
    {
     "name": "stdout",
     "output_type": "stream",
     "text": [
      "Step #57400.00 (7ms ~= 142.86*RT, ~118428.57UPS, vehicles TOT 2863 ACT 829 BUF 119)       \r"
     ]
    },
    {
     "name": "stderr",
     "output_type": "stream",
     "text": [
      "Warning: Teleporting vehicle '632'; waited too long (wrong lane), lane='L12_2', time=57482.00.\n",
      "Warning: Vehicle '632' ends teleporting on edge 'L15', time=57482.00.\n",
      "Warning: Teleporting vehicle '636'; waited too long (wrong lane), lane='L12_2', time=57542.00.\n"
     ]
    },
    {
     "name": "stdout",
     "output_type": "stream",
     "text": [
      "Step #57500.00 (17ms ~= 58.82*RT, ~49882.35UPS, vehicles TOT 2938 ACT 848 BUF 133)        \r"
     ]
    },
    {
     "name": "stderr",
     "output_type": "stream",
     "text": [
      "Warning: Vehicle '636' ends teleporting on edge 'L15', time=57569.00.\n",
      "Warning: Teleporting vehicle '1437'; waited too long (jam), lane='L2_1', time=57589.00.\n",
      "Warning: Vehicle '1437' ends teleporting on edge 'L12', time=57589.00.\n",
      "Warning: Teleporting vehicle '688'; waited too long (jam), lane='L2_1', time=57590.00.\n",
      "Warning: Vehicle '688' ends teleporting on edge 'L12', time=57590.00.\n"
     ]
    },
    {
     "name": "stdout",
     "output_type": "stream",
     "text": [
      "Step #57600.00 (8ms ~= 125.00*RT, ~108125.00UPS, vehicles TOT 3007 ACT 865 BUF 151)       \n",
      "####### 23 ########\n",
      "##### n=42 #####\n",
      "##### best_value=-0.00822469131529284 #####\n",
      "printing /Users/rodrse/Documents/DemandCalibration/notebooks/od_calibration_sumo_files/quickstart/data/iter_quickstart.current_od.xml\n",
      "### Runing: iter\n",
      "Success.\n",
      "Step #56700.00 (6ms ~= 166.67*RT, ~140500.00UPS, vehicles TOT 2448 ACT 843 BUF 102)       \r"
     ]
    },
    {
     "name": "stderr",
     "output_type": "stream",
     "text": [
      "Warning: Teleporting vehicle '594'; waited too long (wrong lane), lane='L12_2', time=56778.00.\n",
      "Warning: Vehicle '594' ends teleporting on edge 'L15', time=56778.00.\n"
     ]
    },
    {
     "name": "stdout",
     "output_type": "stream",
     "text": [
      "Step #56800.00 (6ms ~= 166.67*RT, ~143666.67UPS, vehicles TOT 2523 ACT 862 BUF 122)       \r"
     ]
    },
    {
     "name": "stderr",
     "output_type": "stream",
     "text": [
      "Warning: Teleporting vehicle '1485'; waited too long (jam), lane='L2_1', time=56831.00.\n",
      "Warning: Vehicle '1485' ends teleporting on edge 'L12', time=56831.00.\n",
      "Warning: Teleporting vehicle '597'; waited too long (wrong lane), lane='L12_2', time=56860.00.\n",
      "Warning: Vehicle '597' ends teleporting on edge 'L15', time=56884.00.\n",
      "Warning: Teleporting vehicle '459'; waited too long (jam), lane='L2_0', time=56900.00.\n",
      "Warning: Vehicle '459' ends teleporting on edge 'L12', time=56900.00.\n"
     ]
    },
    {
     "name": "stdout",
     "output_type": "stream",
     "text": [
      "Step #56900.00"
     ]
    },
    {
     "name": "stderr",
     "output_type": "stream",
     "text": [
      "Warning: Teleporting vehicle '603'; waited too long (wrong lane), lane='L12_2', time=56988.00.\n",
      "Warning: Teleporting vehicle '526'; waited too long (jam), lane='D2_0', time=56988.00.\n",
      "Warning: Vehicle '603' ends teleporting on edge 'L15', time=57005.00.\n"
     ]
    },
    {
     "name": "stdout",
     "output_type": "stream",
     "text": [
      "Step #57000.00 (5ms ~= 200.00*RT, ~176800.00UPS, vehicles TOT 2652 ACT 884 BUF 181)       \r"
     ]
    },
    {
     "name": "stderr",
     "output_type": "stream",
     "text": [
      "Warning: Teleporting vehicle '1517'; waited too long (jam), lane='D2_1', time=57047.00.\n",
      "Warning: Teleporting vehicle '692'; waited too long (jam), lane='D2_1', time=57051.00.\n"
     ]
    },
    {
     "name": "stdout",
     "output_type": "stream",
     "text": [
      "Step #57100.00 (6ms ~= 166.67*RT, ~145666.67UPS, vehicles TOT 2697 ACT 874 BUF 230)       \r"
     ]
    },
    {
     "name": "stderr",
     "output_type": "stream",
     "text": [
      "Warning: Teleporting vehicle '1486'; waited too long (jam), lane='L2_1', time=57137.00.\n",
      "Warning: Vehicle '1486' ends teleporting on edge 'L12', time=57137.00.\n",
      "Warning: Teleporting vehicle '612'; waited too long (wrong lane), lane='L12_2', time=57196.00.\n",
      "Warning: Vehicle '612' ends teleporting on edge 'L15', time=57196.00.\n",
      "Warning: Teleporting vehicle '460'; waited too long (jam), lane='L2_0', time=57205.00.\n",
      "Warning: Vehicle '460' ends teleporting on edge 'L12', time=57205.00.\n",
      "Warning: Vehicle '526' ends teleporting on edge 'L2', time=57215.00.\n"
     ]
    },
    {
     "name": "stdout",
     "output_type": "stream",
     "text": [
      "Step #57200.00 (7ms ~= 142.86*RT, ~124142.86UPS, vehicles TOT 2744 ACT 869 BUF 279)       \r"
     ]
    },
    {
     "name": "stderr",
     "output_type": "stream",
     "text": [
      "Warning: Teleporting vehicle '614'; waited too long (wrong lane), lane='L12_2', time=57263.00.\n",
      "Warning: Vehicle '614' ends teleporting on edge 'L15', time=57282.00.\n",
      "Warning: Teleporting vehicle '527'; waited too long (jam), lane='D2_0', time=57294.00.\n"
     ]
    },
    {
     "name": "stdout",
     "output_type": "stream",
     "text": [
      "Step #57300.00 (8ms ~= 125.00*RT, ~108250.00UPS, vehicles TOT 2789 ACT 866 BUF 328)       \r"
     ]
    },
    {
     "name": "stderr",
     "output_type": "stream",
     "text": [
      "Warning: Teleporting vehicle '618'; waited too long (wrong lane), lane='L12_2', time=57340.00.\n",
      "Warning: Teleporting vehicle '619'; waited too long (wrong lane), lane='L12_2', time=57341.00.\n",
      "Warning: Vehicle '618' ends teleporting on edge 'L15', time=57341.00.\n",
      "Warning: Vehicle '619' ends teleporting on edge 'L15', time=57356.00.\n",
      "Warning: Teleporting vehicle '1518'; waited too long (jam), lane='D2_1', time=57358.00.\n"
     ]
    },
    {
     "name": "stdout",
     "output_type": "stream",
     "text": [
      "Step #57400.00 (6ms ~= 166.67*RT, ~142833.33UPS, vehicles TOT 2835 ACT 857 BUF 375)       \r"
     ]
    },
    {
     "name": "stderr",
     "output_type": "stream",
     "text": [
      "Warning: Teleporting vehicle '623'; waited too long (wrong lane), lane='L12_2', time=57420.00.\n",
      "Warning: Vehicle '623' ends teleporting on edge 'L15', time=57420.00.\n"
     ]
    },
    {
     "name": "stdout",
     "output_type": "stream",
     "text": [
      "Step #57500.00 (5ms ~= 200.00*RT, ~170000.00UPS, vehicles TOT 2881 ACT 850 BUF 424)       \r"
     ]
    },
    {
     "name": "stderr",
     "output_type": "stream",
     "text": [
      "Warning: Teleporting vehicle '651'; waited too long (jam), lane='L2_1', time=57511.00.\n",
      "Warning: Vehicle '651' ends teleporting on edge 'L12', time=57511.00.\n",
      "Warning: Teleporting vehicle '461'; waited too long (jam), lane='L2_0', time=57513.00.\n",
      "Warning: Vehicle '461' ends teleporting on edge 'L12', time=57513.00.\n",
      "Warning: Teleporting vehicle '625'; waited too long (wrong lane), lane='L12_2', time=57536.00.\n",
      "Warning: Vehicle '625' ends teleporting on edge 'L15', time=57536.00.\n",
      "Warning: Vehicle '1517' ends teleporting on edge 'L12', time=57547.00.\n",
      "Warning: Vehicle '692' ends teleporting on edge 'L12', time=57551.00.\n"
     ]
    },
    {
     "name": "stdout",
     "output_type": "stream",
     "text": [
      "Step #57600.00 (6ms ~= 166.67*RT, ~139333.33UPS, vehicles TOT 2927 ACT 836 BUF 473)       \n",
      "####### 24 ########\n",
      "##### n=43 #####\n",
      "##### best_value=-0.00822469131529284 #####\n",
      "printing /Users/rodrse/Documents/DemandCalibration/notebooks/od_calibration_sumo_files/quickstart/data/iter_quickstart.current_od.xml\n",
      "### Runing: iter\n",
      "Success.\n",
      "Step #57600.00 (5ms ~= 200.00*RT, ~116800.00UPS, vehicles TOT 2724 ACT 584 BUF 0)         \n",
      "####### 25 ########\n",
      "##### n=44 #####\n",
      "##### best_value=-0.00822469131529284 #####\n",
      "printing /Users/rodrse/Documents/DemandCalibration/notebooks/od_calibration_sumo_files/quickstart/data/iter_quickstart.current_od.xml\n",
      "### Runing: iter\n",
      "Success.\n",
      "Step #57600.00 (8ms ~= 125.00*RT, ~103500.00UPS, vehicles TOT 3009 ACT 828 BUF 0)         \n",
      "####### 26 ########\n",
      "##### n=45 #####\n",
      "##### best_value=-0.00822469131529284 #####\n",
      "printing /Users/rodrse/Documents/DemandCalibration/notebooks/od_calibration_sumo_files/quickstart/data/iter_quickstart.current_od.xml\n",
      "### Runing: iter\n",
      "Success.\n",
      "Step #57600.00 (5ms ~= 200.00*RT, ~147800.00UPS, vehicles TOT 2965 ACT 739 BUF 0)         \n",
      "####### 27 ########\n",
      "##### n=46 #####\n",
      "##### best_value=-0.00822469131529284 #####\n",
      "printing /Users/rodrse/Documents/DemandCalibration/notebooks/od_calibration_sumo_files/quickstart/data/iter_quickstart.current_od.xml\n",
      "### Runing: iter\n",
      "Success.\n",
      "Step #56700.00 (10ms ~= 100.00*RT, ~74700.00UPS, vehicles TOT 2341 ACT 747 BUF 122)       \r"
     ]
    },
    {
     "name": "stderr",
     "output_type": "stream",
     "text": [
      "Warning: Teleporting vehicle '622'; waited too long (wrong lane), lane='L12_2', time=56740.00.\n",
      "Warning: Teleporting vehicle '623'; waited too long (wrong lane), lane='L12_2', time=56741.00.\n",
      "Warning: Vehicle '622' ends teleporting on edge 'L15', time=56747.00.\n",
      "Warning: Teleporting vehicle '627'; waited too long (wrong lane), lane='L12_2', time=56797.00.\n",
      "Warning: Teleporting vehicle '628'; waited too long (wrong lane), lane='L12_2', time=56798.00.\n",
      "Warning: Vehicle '623' ends teleporting on edge 'L15', time=56804.00.\n",
      "Warning: Vehicle '627' ends teleporting on edge 'L15', time=56809.00.\n",
      "Warning: Vehicle '628' ends teleporting on edge 'L15', time=56815.00.\n"
     ]
    },
    {
     "name": "stdout",
     "output_type": "stream",
     "text": [
      "Step #56800.00 (6ms ~= 166.67*RT, ~128666.67UPS, vehicles TOT 2411 ACT 772 BUF 142)       \r"
     ]
    },
    {
     "name": "stderr",
     "output_type": "stream",
     "text": [
      "Warning: Teleporting vehicle '634'; waited too long (wrong lane), lane='L12_2', time=56895.00.\n",
      "Warning: Vehicle '634' ends teleporting on edge 'L15', time=56899.00.\n"
     ]
    },
    {
     "name": "stdout",
     "output_type": "stream",
     "text": [
      "Step #56900.00 (6ms ~= 166.67*RT, ~127833.33UPS, vehicles TOT 2459 ACT 767 BUF 185)       \r"
     ]
    },
    {
     "name": "stderr",
     "output_type": "stream",
     "text": [
      "Warning: Teleporting vehicle '491'; waited too long (jam), lane='L2_0', time=56951.00.\n",
      "Warning: Vehicle '491' ends teleporting on edge 'L12', time=56951.00.\n"
     ]
    },
    {
     "name": "stdout",
     "output_type": "stream",
     "text": [
      "Step #57000.00 (8ms ~= 125.00*RT, ~95000.00UPS, vehicles TOT 2501 ACT 760 BUF 236)        \r"
     ]
    },
    {
     "name": "stderr",
     "output_type": "stream",
     "text": [
      "Warning: Teleporting vehicle '645'; waited too long (wrong lane), lane='L12_2', time=57058.00.\n",
      "Warning: Vehicle '645' ends teleporting on edge 'L15', time=57058.00.\n"
     ]
    },
    {
     "name": "stdout",
     "output_type": "stream",
     "text": [
      "Step #57100.00 (7ms ~= 142.86*RT, ~106000.00UPS, vehicles TOT 2541 ACT 742 BUF 286)       \r"
     ]
    },
    {
     "name": "stderr",
     "output_type": "stream",
     "text": [
      "Warning: Teleporting vehicle '699'; waited too long (jam), lane='D2_1', time=57121.00.\n",
      "Warning: Vehicle '699' ends teleporting on edge 'L2', time=57121.00.\n",
      "Warning: Teleporting vehicle '696'; waited too long (jam), lane='L2_1', time=57195.00.\n",
      "Warning: Vehicle '696' ends teleporting on edge 'L12', time=57195.00.\n",
      "Warning: Teleporting vehicle '698'; waited too long (jam), lane='L2_1', time=57221.00.\n",
      "Warning: Vehicle '698' ends teleporting on edge 'L12', time=57221.00.\n"
     ]
    },
    {
     "name": "stdout",
     "output_type": "stream",
     "text": [
      "Step #57300.00 (11ms ~= 90.91*RT, ~69272.73UPS, vehicles TOT 2673 ACT 762 BUF 336)        \r"
     ]
    },
    {
     "name": "stderr",
     "output_type": "stream",
     "text": [
      "Warning: Teleporting vehicle '558'; waited too long (jam), lane='D2_0', time=57348.00.\n"
     ]
    },
    {
     "name": "stdout",
     "output_type": "stream",
     "text": [
      "Step #57400.00 (10ms ~= 100.00*RT, ~78400.00UPS, vehicles TOT 2743 ACT 784 BUF 358)       \r"
     ]
    },
    {
     "name": "stderr",
     "output_type": "stream",
     "text": [
      "Warning: Teleporting vehicle '490'; waited too long (jam), lane='L12_0', time=57432.00.\n",
      "Warning: Teleporting vehicle '500'; waited too long (jam), lane=':1_3_1', time=57475.00.\n",
      "Warning: Vehicle '500' ends teleporting on edge 'L12', time=57475.00.\n",
      "Warning: Teleporting vehicle '701'; waited too long (jam), lane='L2_1', time=57494.00.\n",
      "Warning: Vehicle '701' ends teleporting on edge 'L12', time=57494.00.\n"
     ]
    },
    {
     "name": "stdout",
     "output_type": "stream",
     "text": [
      "Step #57500.00 (9ms ~= 111.11*RT, ~86555.56UPS, vehicles TOT 2809 ACT 779 BUF 383)        \r"
     ]
    },
    {
     "name": "stderr",
     "output_type": "stream",
     "text": [
      "Warning: Teleporting vehicle '703'; waited too long (jam), lane='L2_1', time=57545.00.\n",
      "Warning: Vehicle '703' ends teleporting on edge 'L12', time=57545.00.\n",
      "Warning: Teleporting vehicle '705'; waited too long (jam), lane='L2_1', time=57578.00.\n",
      "Warning: Vehicle '705' ends teleporting on edge 'L12', time=57578.00.\n",
      "Warning: Teleporting vehicle '706'; waited too long (jam), lane='L2_1', time=57579.00.\n",
      "Warning: Vehicle '706' ends teleporting on edge 'L12', time=57579.00.\n",
      "Warning: Vehicle '558' ends teleporting on edge 'L2', time=57581.00.\n",
      "Warning: Teleporting vehicle '720'; waited too long (jam), lane='D2_1', time=57595.00.\n",
      "Warning: Vehicle '720' ends teleporting on edge 'L2', time=57595.00.\n"
     ]
    },
    {
     "name": "stdout",
     "output_type": "stream",
     "text": [
      "Step #57600.00 (5ms ~= 200.00*RT, ~154800.00UPS, vehicles TOT 2850 ACT 774 BUF 433)       \n",
      "####### 28 ########\n",
      "##### n=47 #####\n",
      "##### best_value=-0.00822469131529284 #####\n",
      "printing /Users/rodrse/Documents/DemandCalibration/notebooks/od_calibration_sumo_files/quickstart/data/iter_quickstart.current_od.xml\n",
      "### Runing: iter\n",
      "Success.\n",
      "Step #57600.00 (8ms ~= 125.00*RT, ~122125.00UPS, vehicles TOT 2970 ACT 977 BUF 0)         \n",
      "####### 29 ########\n",
      "##### n=48 #####\n",
      "##### best_value=-0.00822469131529284 #####\n",
      "printing /Users/rodrse/Documents/DemandCalibration/notebooks/od_calibration_sumo_files/quickstart/data/iter_quickstart.current_od.xml\n",
      "### Runing: iter\n",
      "Success.\n",
      "Step #57100.00 (6ms ~= 166.67*RT, ~128166.67UPS, vehicles TOT 2576 ACT 769 BUF 68)        \r"
     ]
    },
    {
     "name": "stderr",
     "output_type": "stream",
     "text": [
      "Warning: Teleporting vehicle '606'; waited too long (wrong lane), lane='L12_2', time=57140.00.\n",
      "Warning: Vehicle '606' ends teleporting on edge 'L15', time=57140.00.\n"
     ]
    },
    {
     "name": "stdout",
     "output_type": "stream",
     "text": [
      "Step #57200.00 (5ms ~= 200.00*RT, ~157200.00UPS, vehicles TOT 2649 ACT 786 BUF 79)        \r"
     ]
    },
    {
     "name": "stderr",
     "output_type": "stream",
     "text": [
      "Warning: Teleporting vehicle '612'; waited too long (wrong lane), lane='L12_2', time=57225.00.\n",
      "Warning: Vehicle '612' ends teleporting on edge 'L15', time=57248.00.\n",
      "Warning: Teleporting vehicle '615'; waited too long (wrong lane), lane='L12_2', time=57285.00.\n",
      "Warning: Vehicle '615' ends teleporting on edge 'L15', time=57296.00.\n",
      "Warning: Teleporting vehicle '479'; waited too long (jam), lane=':1_3_1', time=57306.00.\n",
      "Warning: Vehicle '479' ends teleporting on edge 'L12', time=57306.00.\n"
     ]
    },
    {
     "name": "stdout",
     "output_type": "stream",
     "text": [
      "Step #57400.00 (6ms ~= 166.67*RT, ~137833.33UPS, vehicles TOT 2794 ACT 827 BUF 106)       \r"
     ]
    },
    {
     "name": "stderr",
     "output_type": "stream",
     "text": [
      "Warning: Teleporting vehicle '619'; waited too long (wrong lane), lane='L12_2', time=57411.00.\n",
      "Warning: Vehicle '619' ends teleporting on edge 'L15', time=57411.00.\n"
     ]
    },
    {
     "name": "stdout",
     "output_type": "stream",
     "text": [
      "Step #57500.00 (7ms ~= 142.86*RT, ~121857.14UPS, vehicles TOT 2864 ACT 853 BUF 120)       \r"
     ]
    },
    {
     "name": "stderr",
     "output_type": "stream",
     "text": [
      "Warning: Teleporting vehicle '622'; waited too long (wrong lane), lane='L12_2', time=57514.00.\n",
      "Warning: Vehicle '622' ends teleporting on edge 'L15', time=57514.00.\n",
      "Warning: Teleporting vehicle '675'; waited too long (jam), lane=':1_3_2', time=57547.00.\n",
      "Warning: Vehicle '675' ends teleporting on edge 'L12', time=57547.00.\n",
      "Warning: Teleporting vehicle '676'; waited too long (jam), lane='L2_1', time=57551.00.\n",
      "Warning: Vehicle '676' ends teleporting on edge 'L12', time=57551.00.\n"
     ]
    },
    {
     "name": "stdout",
     "output_type": "stream",
     "text": [
      "Step #57600.00 (7ms ~= 142.86*RT, ~121571.43UPS, vehicles TOT 2908 ACT 851 BUF 162)       \n",
      "####### 30 ########\n",
      "##### n=49 #####\n",
      "##### best_value=-0.00822469131529284 #####\n",
      "printing /Users/rodrse/Documents/DemandCalibration/notebooks/od_calibration_sumo_files/quickstart/data/iter_quickstart.current_od.xml\n",
      "### Runing: iter\n",
      "Success.\n",
      "Step #57600.00 (6ms ~= 166.67*RT, ~126833.33UPS, vehicles TOT 2894 ACT 761 BUF 0)         \n",
      "####### 31 ########\n",
      "##### n=50 #####\n",
      "##### best_value=-0.00822469131529284 #####\n",
      "printing /Users/rodrse/Documents/DemandCalibration/notebooks/od_calibration_sumo_files/quickstart/data/iter_quickstart.current_od.xml\n",
      "### Runing: iter\n",
      "Success.\n",
      "Step #56900.00 (7ms ~= 142.86*RT, ~114857.14UPS, vehicles TOT 2748 ACT 804 BUF 106)       \r"
     ]
    },
    {
     "name": "stderr",
     "output_type": "stream",
     "text": [
      "Warning: Teleporting vehicle '597'; waited too long (wrong lane), lane='L12_2', time=56938.00.\n",
      "Warning: Vehicle '597' ends teleporting on edge 'L15', time=56938.00.\n"
     ]
    },
    {
     "name": "stdout",
     "output_type": "stream",
     "text": [
      "Step #57100.00 (6ms ~= 166.67*RT, ~139000.00UPS, vehicles TOT 2909 ACT 834 BUF 144)       \r"
     ]
    },
    {
     "name": "stderr",
     "output_type": "stream",
     "text": [
      "Warning: Teleporting vehicle '606'; waited too long (wrong lane), lane='L12_2', time=57108.00.\n",
      "Warning: Vehicle '606' ends teleporting on edge 'L15', time=57108.00.\n",
      "Warning: Teleporting vehicle '608'; waited too long (wrong lane), lane='L12_2', time=57155.00.\n",
      "Warning: Vehicle '608' ends teleporting on edge 'L15', time=57169.00.\n"
     ]
    },
    {
     "name": "stdout",
     "output_type": "stream",
     "text": [
      "Step #57200.00 (8ms ~= 125.00*RT, ~107625.00UPS, vehicles TOT 2988 ACT 861 BUF 162)       \r"
     ]
    },
    {
     "name": "stderr",
     "output_type": "stream",
     "text": [
      "Warning: Teleporting vehicle '470'; waited too long (jam), lane='L2_0', time=57253.00.\n",
      "Warning: Vehicle '470' ends teleporting on edge 'L12', time=57253.00.\n",
      "Warning: Teleporting vehicle '620'; waited too long (wrong lane), lane='L12_2', time=57295.00.\n",
      "Warning: Vehicle '620' ends teleporting on edge 'L15', time=57297.00.\n"
     ]
    },
    {
     "name": "stdout",
     "output_type": "stream",
     "text": [
      "Step #57300.00 (7ms ~= 142.86*RT, ~124571.43UPS, vehicles TOT 3069 ACT 872 BUF 179)       \r"
     ]
    },
    {
     "name": "stderr",
     "output_type": "stream",
     "text": [
      "Warning: Teleporting vehicle '1500'; waited too long (jam), lane='L2_1', time=57352.00.\n",
      "Warning: Teleporting vehicle '659'; waited too long (jam), lane='L2_1', time=57353.00.\n",
      "Warning: Vehicle '659' ends teleporting on edge 'L12', time=57353.00.\n"
     ]
    },
    {
     "name": "stdout",
     "output_type": "stream",
     "text": [
      "Step #57400.00 (6ms ~= 166.67*RT, ~149833.33UPS, vehicles TOT 3150 ACT 899 BUF 198)       \r"
     ]
    },
    {
     "name": "stderr",
     "output_type": "stream",
     "text": [
      "Warning: Teleporting vehicle '627'; waited too long (wrong lane), lane='L12_2', time=57434.00.\n",
      "Warning: Vehicle '627' ends teleporting on edge 'L15', time=57434.00.\n",
      "Warning: Vehicle '1500' ends teleporting on edge 'L12', time=57474.00.\n"
     ]
    },
    {
     "name": "stdout",
     "output_type": "stream",
     "text": [
      "Step #57500.00 (7ms ~= 142.86*RT, ~126285.71UPS, vehicles TOT 3208 ACT 884 BUF 238)       \r"
     ]
    },
    {
     "name": "stderr",
     "output_type": "stream",
     "text": [
      "Warning: Teleporting vehicle '693'; waited too long (jam), lane='D2_1', time=57550.00.\n",
      "Warning: Vehicle '693' ends teleporting on edge 'L2', time=57550.00.\n"
     ]
    },
    {
     "name": "stdout",
     "output_type": "stream",
     "text": [
      "Step #57600.00 (7ms ~= 142.86*RT, ~125428.57UPS, vehicles TOT 3259 ACT 878 BUF 285)       \n",
      "####### 32 ########\n",
      "##### n=51 #####\n",
      "##### best_value=-0.00822469131529284 #####\n",
      "printing /Users/rodrse/Documents/DemandCalibration/notebooks/od_calibration_sumo_files/quickstart/data/iter_quickstart.current_od.xml\n",
      "### Runing: iter\n",
      "Success.\n",
      "Step #57300.00 (5ms ~= 200.00*RT, ~149600.00UPS, vehicles TOT 2694 ACT 748 BUF 73)        \r"
     ]
    },
    {
     "name": "stderr",
     "output_type": "stream",
     "text": [
      "Warning: Teleporting vehicle '629'; waited too long (wrong lane), lane='L12_2', time=57336.00.\n",
      "Warning: Vehicle '629' ends teleporting on edge 'L15', time=57336.00.\n",
      "Warning: Teleporting vehicle '633'; waited too long (wrong lane), lane='L12_2', time=57388.00.\n",
      "Warning: Vehicle '633' ends teleporting on edge 'L15', time=57390.00.\n"
     ]
    },
    {
     "name": "stdout",
     "output_type": "stream",
     "text": [
      "Step #57400.00 (5ms ~= 200.00*RT, ~151600.00UPS, vehicles TOT 2759 ACT 758 BUF 91)        \r"
     ]
    },
    {
     "name": "stderr",
     "output_type": "stream",
     "text": [
      "Warning: Teleporting vehicle '641'; waited too long (wrong lane), lane='L12_2', time=57470.00.\n",
      "Warning: Vehicle '641' ends teleporting on edge 'L15', time=57470.00.\n"
     ]
    },
    {
     "name": "stdout",
     "output_type": "stream",
     "text": [
      "Step #57600.00 (6ms ~= 166.67*RT, ~132166.67UPS, vehicles TOT 2894 ACT 793 BUF 123)       \n",
      "####### 33 ########\n",
      "##### n=52 #####\n",
      "##### best_value=-0.00822469131529284 #####\n",
      "printing /Users/rodrse/Documents/DemandCalibration/notebooks/od_calibration_sumo_files/quickstart/data/iter_quickstart.current_od.xml\n",
      "### Runing: iter\n",
      "Success.\n",
      "Step #57600.00 (5ms ~= 200.00*RT, ~118600.00UPS, vehicles TOT 2680 ACT 593 BUF 0)         \n",
      "####### 34 ########\n",
      "##### n=53 #####\n",
      "##### best_value=-0.00822469131529284 #####\n",
      "printing /Users/rodrse/Documents/DemandCalibration/notebooks/od_calibration_sumo_files/quickstart/data/iter_quickstart.current_od.xml\n",
      "### Runing: iter\n",
      "Success.\n",
      "Step #57600.00 (9ms ~= 111.11*RT, ~84222.22UPS, vehicles TOT 2896 ACT 758 BUF 256)        \n",
      "####### 35 ########\n",
      "##### n=54 #####\n",
      "##### best_value=-0.00822469131529284 #####\n",
      "printing /Users/rodrse/Documents/DemandCalibration/notebooks/od_calibration_sumo_files/quickstart/data/iter_quickstart.current_od.xml\n",
      "### Runing: iter\n",
      "Success.\n",
      "Step #57500.00 (9ms ~= 111.11*RT, ~90000.00UPS, vehicles TOT 2890 ACT 810 BUF 192)        \r"
     ]
    },
    {
     "name": "stderr",
     "output_type": "stream",
     "text": [
      "Warning: Teleporting vehicle '3038'; waited too long (jam), lane='D4_0', time=57535.00.\n",
      "Warning: Vehicle '3038' ends teleporting on edge 'L4', time=57535.00.\n",
      "Warning: Teleporting vehicle '3024'; waited too long (jam), lane=':2_3_0', time=57548.00.\n",
      "Warning: Vehicle '3024' ends teleporting on edge 'L14', time=57548.00.\n",
      "Warning: Teleporting vehicle '3025'; waited too long (jam), lane='L4_0', time=57552.00.\n",
      "Warning: Vehicle '3025' ends teleporting on edge 'L14', time=57552.00.\n",
      "Warning: Teleporting vehicle '3028'; waited too long (jam), lane='L4_0', time=57570.00.\n",
      "Warning: Vehicle '3028' ends teleporting on edge 'L14', time=57570.00.\n"
     ]
    },
    {
     "name": "stdout",
     "output_type": "stream",
     "text": [
      "Step #57600.00 (10ms ~= 100.00*RT, ~79300.00UPS, vehicles TOT 2943 ACT 793 BUF 227)       \n",
      "####### 36 ########\n",
      "##### n=55 #####\n",
      "##### best_value=-0.00822469131529284 #####\n",
      "printing /Users/rodrse/Documents/DemandCalibration/notebooks/od_calibration_sumo_files/quickstart/data/iter_quickstart.current_od.xml\n",
      "### Runing: iter\n",
      "Success.\n",
      "Step #57600.00 (4ms ~= 250.00*RT, ~122750.00UPS, vehicles TOT 2580 ACT 491 BUF 0)         \n",
      "####### 37 ########\n",
      "##### n=56 #####\n",
      "##### best_value=-0.00822469131529284 #####\n",
      "printing /Users/rodrse/Documents/DemandCalibration/notebooks/od_calibration_sumo_files/quickstart/data/iter_quickstart.current_od.xml\n",
      "### Runing: iter\n",
      "Success.\n",
      "Step #57600.00 (9ms ~= 111.11*RT, ~98888.89UPS, vehicles TOT 3143 ACT 890 BUF 9)          \n",
      "####### 38 ########\n",
      "##### n=57 #####\n",
      "##### best_value=-0.00822469131529284 #####\n",
      "printing /Users/rodrse/Documents/DemandCalibration/notebooks/od_calibration_sumo_files/quickstart/data/iter_quickstart.current_od.xml\n",
      "### Runing: iter\n",
      "Success.\n",
      "Step #57600.00 (9ms ~= 111.11*RT, ~87222.22UPS, vehicles TOT 2878 ACT 785 BUF 0)          \n",
      "####### 39 ########\n",
      "##### n=58 #####\n",
      "##### best_value=-0.00822469131529284 #####\n",
      "printing /Users/rodrse/Documents/DemandCalibration/notebooks/od_calibration_sumo_files/quickstart/data/iter_quickstart.current_od.xml\n",
      "### Runing: iter\n",
      "Success.\n",
      "Step #57600.00 (7ms ~= 142.86*RT, ~87714.29UPS, vehicles TOT 2684 ACT 614 BUF 0)          \n",
      "####### 40 ########\n",
      "##### n=59 #####\n",
      "##### best_value=-0.00822469131529284 #####\n",
      "printing /Users/rodrse/Documents/DemandCalibration/notebooks/od_calibration_sumo_files/quickstart/data/iter_quickstart.current_od.xml\n",
      "### Runing: iter\n",
      "Success.\n",
      "Step #57600.00 (10ms ~= 100.00*RT, ~72100.00UPS, vehicles TOT 2920 ACT 721 BUF 0)         \n",
      "####### 41 ########\n",
      "##### n=60 #####\n",
      "##### best_value=-0.00822469131529284 #####\n",
      "printing /Users/rodrse/Documents/DemandCalibration/notebooks/od_calibration_sumo_files/quickstart/data/iter_quickstart.current_od.xml\n",
      "### Runing: iter\n",
      "Success.\n",
      "Step #57600.00 (9ms ~= 111.11*RT, ~94888.89UPS, vehicles TOT 2955 ACT 854 BUF 0)          \n",
      "####### 42 ########\n",
      "##### n=61 #####\n",
      "##### best_value=-0.00822469131529284 #####\n",
      "printing /Users/rodrse/Documents/DemandCalibration/notebooks/od_calibration_sumo_files/quickstart/data/iter_quickstart.current_od.xml\n",
      "### Runing: iter\n",
      "Success.\n",
      "Step #57600.00 (6ms ~= 166.67*RT, ~135000.00UPS, vehicles TOT 2821 ACT 810 BUF 0)         \n",
      "####### 43 ########\n",
      "##### n=62 #####\n",
      "##### best_value=-0.00822469131529284 #####\n",
      "printing /Users/rodrse/Documents/DemandCalibration/notebooks/od_calibration_sumo_files/quickstart/data/iter_quickstart.current_od.xml\n",
      "### Runing: iter\n",
      "Success.\n",
      "Step #57600.00 (8ms ~= 125.00*RT, ~72500.00UPS, vehicles TOT 2498 ACT 580 BUF 0)          \n",
      "####### 44 ########\n",
      "##### n=63 #####\n",
      "##### best_value=-0.00822469131529284 #####\n",
      "printing /Users/rodrse/Documents/DemandCalibration/notebooks/od_calibration_sumo_files/quickstart/data/iter_quickstart.current_od.xml\n",
      "### Runing: iter\n",
      "Success.\n",
      "Step #57600.00 (8ms ~= 125.00*RT, ~99875.00UPS, vehicles TOT 2893 ACT 799 BUF 0)          \n",
      "####### 45 ########\n",
      "##### n=64 #####\n",
      "##### best_value=-0.00822469131529284 #####\n",
      "printing /Users/rodrse/Documents/DemandCalibration/notebooks/od_calibration_sumo_files/quickstart/data/iter_quickstart.current_od.xml\n",
      "### Runing: iter\n",
      "Success.\n",
      "Step #57600.00 (5ms ~= 200.00*RT, ~132400.00UPS, vehicles TOT 2856 ACT 662 BUF 0)         \n",
      "####### 46 ########\n",
      "##### n=65 #####\n",
      "##### best_value=-0.00822469131529284 #####\n",
      "printing /Users/rodrse/Documents/DemandCalibration/notebooks/od_calibration_sumo_files/quickstart/data/iter_quickstart.current_od.xml\n",
      "### Runing: iter\n",
      "Success.\n",
      "Step #57300.00 (11ms ~= 90.91*RT, ~76909.09UPS, vehicles TOT 2972 ACT 846 BUF 0)          \r"
     ]
    },
    {
     "name": "stderr",
     "output_type": "stream",
     "text": [
      "Warning: Teleporting vehicle '614'; waited too long (wrong lane), lane='L12_2', time=57331.00.\n",
      "Warning: Vehicle '614' ends teleporting on edge 'L15', time=57331.00.\n"
     ]
    },
    {
     "name": "stdout",
     "output_type": "stream",
     "text": [
      "Step #57400.00 (6ms ~= 166.67*RT, ~146333.33UPS, vehicles TOT 3061 ACT 878 BUF 0)         \r"
     ]
    },
    {
     "name": "stderr",
     "output_type": "stream",
     "text": [
      "Warning: Teleporting vehicle '620'; waited too long (wrong lane), lane='L12_2', time=57490.00.\n",
      "Warning: Vehicle '620' ends teleporting on edge 'L15', time=57492.00.\n",
      "Warning: Teleporting vehicle '1375'; waited too long (jam), lane='L2_1', time=57558.00.\n",
      "Warning: Vehicle '1375' ends teleporting on edge 'L12', time=57558.00.\n",
      "Warning: Teleporting vehicle '677'; waited too long (jam), lane='L2_1', time=57563.00.\n",
      "Warning: Vehicle '677' ends teleporting on edge 'L12', time=57563.00.\n"
     ]
    },
    {
     "name": "stdout",
     "output_type": "stream",
     "text": [
      "Step #57500.00 (11ms ~= 90.91*RT, ~84181.82UPS, vehicles TOT 3152 ACT 926 BUF 0)          \r"
     ]
    },
    {
     "name": "stderr",
     "output_type": "stream",
     "text": [
      "Warning: Teleporting vehicle '623'; waited too long (wrong lane), lane='L12_2', time=57578.00.\n",
      "Warning: Vehicle '623' ends teleporting on edge 'L15', time=57578.00.\n"
     ]
    },
    {
     "name": "stdout",
     "output_type": "stream",
     "text": [
      "Step #57600.00 (9ms ~= 111.11*RT, ~102888.89UPS, vehicles TOT 3206 ACT 926 BUF 35)        \n",
      "####### 47 ########\n",
      "##### n=66 #####\n",
      "##### best_value=-0.00822469131529284 #####\n",
      "printing /Users/rodrse/Documents/DemandCalibration/notebooks/od_calibration_sumo_files/quickstart/data/iter_quickstart.current_od.xml\n",
      "### Runing: iter\n",
      "Success.\n",
      "Step #57600.00 (4ms ~= 250.00*RT, ~140500.00UPS, vehicles TOT 2808 ACT 562 BUF 0)         \n",
      "####### 48 ########\n",
      "##### n=67 #####\n",
      "##### best_value=-0.00822469131529284 #####\n",
      "printing /Users/rodrse/Documents/DemandCalibration/notebooks/od_calibration_sumo_files/quickstart/data/iter_quickstart.current_od.xml\n",
      "### Runing: iter\n",
      "Success.\n",
      "Step #57600.00 (3ms ~= 333.33*RT, ~163666.67UPS, vehicles TOT 2573 ACT 491 BUF 0)         \n",
      "####### 49 ########\n",
      "##### n=68 #####\n",
      "##### best_value=-0.00822469131529284 #####\n",
      "printing /Users/rodrse/Documents/DemandCalibration/notebooks/od_calibration_sumo_files/quickstart/data/iter_quickstart.current_od.xml\n",
      "### Runing: iter\n",
      "Success.\n",
      "Step #57600.00 (6ms ~= 166.67*RT, ~96500.00UPS, vehicles TOT 2689 ACT 579 BUF 0)          \n",
      "####### 50 ########\n",
      "##### n=69 #####\n",
      "##### best_value=-0.00822469131529284 #####\n",
      "printing /Users/rodrse/Documents/DemandCalibration/notebooks/od_calibration_sumo_files/quickstart/data/iter_quickstart.current_od.xml\n",
      "### Runing: iter\n",
      "Success.\n",
      "Step #57600.00 (7ms ~= 142.86*RT, ~97428.57UPS, vehicles TOT 2759 ACT 682 BUF 0)          \n"
     ]
    },
    {
     "name": "stderr",
     "output_type": "stream",
     "text": [
      "Warning: Teleporting vehicle '513'; waited too long (jam), lane='L12_0', time=57578.00.\n",
      "Warning: Vehicle '513' ends teleporting on edge 'L15', time=57578.00.\n"
     ]
    },
    {
     "name": "stdout",
     "output_type": "stream",
     "text": [
      "####### 51 ########\n",
      "##### n=70 #####\n",
      "##### best_value=-0.00822469131529284 #####\n",
      "printing /Users/rodrse/Documents/DemandCalibration/notebooks/od_calibration_sumo_files/quickstart/data/iter_quickstart.current_od.xml\n",
      "### Runing: iter\n",
      "Success.\n",
      "Step #57600.00 (13ms ~= 76.92*RT, ~69230.77UPS, vehicles TOT 2946 ACT 900 BUF 0)          \n",
      "####### 52 ########\n",
      "##### n=71 #####\n",
      "##### best_value=-0.00822469131529284 #####\n",
      "printing /Users/rodrse/Documents/DemandCalibration/notebooks/od_calibration_sumo_files/quickstart/data/iter_quickstart.current_od.xml\n",
      "### Runing: iter\n",
      "Success.\n",
      "Step #57600.00 (7ms ~= 142.86*RT, ~98571.43UPS, vehicles TOT 2393 ACT 690 BUF 0)          \n",
      "####### 53 ########\n",
      "##### n=72 #####\n",
      "##### best_value=-0.00822469131529284 #####\n",
      "printing /Users/rodrse/Documents/DemandCalibration/notebooks/od_calibration_sumo_files/quickstart/data/iter_quickstart.current_od.xml\n",
      "### Runing: iter\n",
      "Success.\n",
      "Step #57600.00 (12ms ~= 83.33*RT, ~72083.33UPS, vehicles TOT 3184 ACT 865 BUF 9)          \n",
      "####### 54 ########\n",
      "##### n=73 #####\n",
      "##### best_value=-0.00822469131529284 #####\n",
      "printing /Users/rodrse/Documents/DemandCalibration/notebooks/od_calibration_sumo_files/quickstart/data/iter_quickstart.current_od.xml\n",
      "### Runing: iter\n",
      "Success.\n",
      "Step #57600.00 (9ms ~= 111.11*RT, ~77444.44UPS, vehicles TOT 2897 ACT 697 BUF 0)          \n",
      "####### 55 ########\n",
      "##### n=74 #####\n",
      "##### best_value=-0.00822469131529284 #####\n",
      "printing /Users/rodrse/Documents/DemandCalibration/notebooks/od_calibration_sumo_files/quickstart/data/iter_quickstart.current_od.xml\n",
      "### Runing: iter\n",
      "Success.\n",
      "Step #57600.00 (6ms ~= 166.67*RT, ~106500.00UPS, vehicles TOT 2835 ACT 639 BUF 0)         \n",
      "####### 56 ########\n",
      "##### n=75 #####\n",
      "##### best_value=-0.00822469131529284 #####\n",
      "printing /Users/rodrse/Documents/DemandCalibration/notebooks/od_calibration_sumo_files/quickstart/data/iter_quickstart.current_od.xml\n",
      "### Runing: iter\n",
      "Success.\n",
      "Step #57600.00 (6ms ~= 166.67*RT, ~114333.33UPS, vehicles TOT 2793 ACT 686 BUF 0)         \n",
      "####### 57 ########\n",
      "##### n=76 #####\n",
      "##### best_value=-0.00822469131529284 #####\n",
      "printing /Users/rodrse/Documents/DemandCalibration/notebooks/od_calibration_sumo_files/quickstart/data/iter_quickstart.current_od.xml\n",
      "### Runing: iter\n",
      "Success.\n"
     ]
    },
    {
     "name": "stderr",
     "output_type": "stream",
     "text": [
      "Warning: Teleporting vehicle '535'; waited too long (jam), lane='L12_0', time=56886.00.\n",
      "Warning: Teleporting vehicle '539'; waited too long (jam), lane='L12_0', time=56887.00.\n",
      "Warning: Teleporting vehicle '510'; waited too long (wrong lane), lane='L15_0', time=56888.00.\n",
      "Warning: Vehicle '510' ends teleporting on edge 'L18', time=56888.00.\n",
      "Warning: Teleporting vehicle '424'; waited too long (wrong lane), lane='L15_0', time=56891.00.\n",
      "Warning: Vehicle '424' ends teleporting on edge 'L18', time=56891.00.\n",
      "Warning: Teleporting vehicle '499'; waited too long (wrong lane), lane='L15_0', time=56897.00.\n",
      "Warning: Vehicle '499' ends teleporting on edge 'L18', time=56897.00.\n"
     ]
    },
    {
     "name": "stdout",
     "output_type": "stream",
     "text": [
      "Step #56900.00 (5ms ~= 200.00*RT, ~134200.00UPS, vehicles TOT 2295 ACT 671 BUF 0)         \r"
     ]
    },
    {
     "name": "stderr",
     "output_type": "stream",
     "text": [
      "Warning: Teleporting vehicle '567'; waited too long (jam), lane='L2_0', time=56956.00.\n",
      "Warning: Vehicle '567' ends teleporting on edge 'L12', time=56956.00.\n",
      "Warning: Vehicle '535' ends teleporting on edge 'L15', time=56959.00.\n",
      "Warning: Vehicle '539' ends teleporting on edge 'L15', time=56959.00.\n"
     ]
    },
    {
     "name": "stdout",
     "output_type": "stream",
     "text": [
      "Step #57600.00 (4ms ~= 250.00*RT, ~178500.00UPS, vehicles TOT 2758 ACT 714 BUF 92)        \n",
      "####### 58 ########\n",
      "##### n=77 #####\n",
      "##### best_value=-0.00822469131529284 #####\n",
      "printing /Users/rodrse/Documents/DemandCalibration/notebooks/od_calibration_sumo_files/quickstart/data/iter_quickstart.current_od.xml\n",
      "### Runing: iter\n",
      "Success.\n",
      "Step #57600.00 (5ms ~= 200.00*RT, ~127000.00UPS, vehicles TOT 2668 ACT 635 BUF 0)         \n",
      "####### 59 ########\n",
      "##### n=78 #####\n",
      "##### best_value=-0.00822469131529284 #####\n",
      "printing /Users/rodrse/Documents/DemandCalibration/notebooks/od_calibration_sumo_files/quickstart/data/iter_quickstart.current_od.xml\n",
      "### Runing: iter\n",
      "Success.\n",
      "Step #57100.00 (5ms ~= 200.00*RT, ~152000.00UPS, vehicles TOT 2507 ACT 760 BUF 73)        \r"
     ]
    },
    {
     "name": "stderr",
     "output_type": "stream",
     "text": [
      "Warning: Teleporting vehicle '2750'; waited too long (wrong lane), lane='L14_0', time=57164.00.\n",
      "Warning: Vehicle '2750' ends teleporting on edge 'L16', time=57193.00.\n"
     ]
    },
    {
     "name": "stdout",
     "output_type": "stream",
     "text": [
      "Step #57300.00 (5ms ~= 200.00*RT, ~156600.00UPS, vehicles TOT 2642 ACT 783 BUF 105)       \r"
     ]
    },
    {
     "name": "stderr",
     "output_type": "stream",
     "text": [
      "Warning: Teleporting vehicle '2612'; waited too long (jam), lane='L4_1', time=57333.00.\n",
      "Warning: Vehicle '2612' ends teleporting on edge 'L14', time=57333.00.\n"
     ]
    },
    {
     "name": "stdout",
     "output_type": "stream",
     "text": [
      "Step #57400.00 (7ms ~= 142.86*RT, ~113428.57UPS, vehicles TOT 2711 ACT 794 BUF 119)       \r"
     ]
    },
    {
     "name": "stderr",
     "output_type": "stream",
     "text": [
      "Warning: Teleporting vehicle '1899'; waited too long (jam), lane='L4_0', time=57436.00.\n",
      "Warning: Vehicle '1899' ends teleporting on edge 'L14', time=57436.00.\n",
      "Warning: Teleporting vehicle '2807'; waited too long (jam), lane='L4_0', time=57437.00.\n",
      "Warning: Vehicle '2807' ends teleporting on edge 'L14', time=57437.00.\n"
     ]
    },
    {
     "name": "stdout",
     "output_type": "stream",
     "text": [
      "Step #57600.00 (6ms ~= 166.67*RT, ~133000.00UPS, vehicles TOT 2819 ACT 798 BUF 177)       \n",
      "####### 60 ########\n",
      "##### n=79 #####\n",
      "##### best_value=-0.00822469131529284 #####\n",
      "printing /Users/rodrse/Documents/DemandCalibration/notebooks/od_calibration_sumo_files/quickstart/data/iter_quickstart.current_od.xml\n",
      "### Runing: iter\n",
      "Success.\n",
      "Step #57600.00 (6ms ~= 166.67*RT, ~138500.00UPS, vehicles TOT 2919 ACT 831 BUF 0)         \n",
      "####### 61 ########\n",
      "##### n=80 #####\n",
      "##### best_value=-0.00822469131529284 #####\n",
      "printing /Users/rodrse/Documents/DemandCalibration/notebooks/od_calibration_sumo_files/quickstart/data/iter_quickstart.current_od.xml\n",
      "### Runing: iter\n",
      "Success.\n",
      "Step #57600.00 (4ms ~= 250.00*RT, ~146500.00UPS, vehicles TOT 2768 ACT 586 BUF 0)         \n",
      "####### 62 ########\n",
      "##### n=81 #####\n",
      "##### best_value=-0.00822469131529284 #####\n",
      "printing /Users/rodrse/Documents/DemandCalibration/notebooks/od_calibration_sumo_files/quickstart/data/iter_quickstart.current_od.xml\n",
      "### Runing: iter\n",
      "Success.\n",
      "Step #57600.00 (7ms ~= 142.86*RT, ~128714.29UPS, vehicles TOT 3069 ACT 901 BUF 58)        \n",
      "####### 63 ########\n",
      "##### n=82 #####\n",
      "##### best_value=-0.00822469131529284 #####\n",
      "printing /Users/rodrse/Documents/DemandCalibration/notebooks/od_calibration_sumo_files/quickstart/data/iter_quickstart.current_od.xml\n",
      "### Runing: iter\n",
      "Success.\n",
      "Step #57000.00 (7ms ~= 142.86*RT, ~107000.00UPS, vehicles TOT 2551 ACT 749 BUF 114)       \r"
     ]
    },
    {
     "name": "stderr",
     "output_type": "stream",
     "text": [
      "Warning: Teleporting vehicle '620'; waited too long (wrong lane), lane='L12_2', time=57052.00.\n",
      "Warning: Vehicle '620' ends teleporting on edge 'L15', time=57062.00.\n"
     ]
    },
    {
     "name": "stdout",
     "output_type": "stream",
     "text": [
      "Step #57100.00 (8ms ~= 125.00*RT, ~95375.00UPS, vehicles TOT 2620 ACT 763 BUF 134)        \r"
     ]
    },
    {
     "name": "stderr",
     "output_type": "stream",
     "text": [
      "Warning: Teleporting vehicle '631'; waited too long (wrong lane), lane='L12_2', time=57150.00.\n",
      "Warning: Vehicle '631' ends teleporting on edge 'L15', time=57178.00.\n"
     ]
    },
    {
     "name": "stdout",
     "output_type": "stream",
     "text": [
      "Step #57300.00 (7ms ~= 142.86*RT, ~113000.00UPS, vehicles TOT 2761 ACT 791 BUF 170)       \r"
     ]
    },
    {
     "name": "stderr",
     "output_type": "stream",
     "text": [
      "Warning: Teleporting vehicle '641'; waited too long (wrong lane), lane='L12_2', time=57305.00.\n",
      "Warning: Vehicle '641' ends teleporting on edge 'L15', time=57305.00.\n",
      "Warning: Teleporting vehicle '644'; waited too long (wrong lane), lane='L12_2', time=57352.00.\n",
      "Warning: Vehicle '644' ends teleporting on edge 'L15', time=57352.00.\n"
     ]
    },
    {
     "name": "stdout",
     "output_type": "stream",
     "text": [
      "Step #57400.00 (5ms ~= 200.00*RT, ~163000.00UPS, vehicles TOT 2833 ACT 815 BUF 187)       \r"
     ]
    },
    {
     "name": "stderr",
     "output_type": "stream",
     "text": [
      "Warning: Teleporting vehicle '656'; waited too long (wrong lane), lane='L12_2', time=57469.00.\n",
      "Warning: Vehicle '656' ends teleporting on edge 'L15', time=57472.00.\n"
     ]
    },
    {
     "name": "stdout",
     "output_type": "stream",
     "text": [
      "Step #57500.00 (8ms ~= 125.00*RT, ~103875.00UPS, vehicles TOT 2903 ACT 831 BUF 206)       \r"
     ]
    },
    {
     "name": "stderr",
     "output_type": "stream",
     "text": [
      "Warning: Teleporting vehicle '500'; waited too long (jam), lane=':1_3_1', time=57508.00.\n",
      "Warning: Vehicle '500' ends teleporting on edge 'L12', time=57508.00.\n",
      "Warning: Teleporting vehicle '501'; waited too long (jam), lane='L2_0', time=57510.00.\n",
      "Warning: Vehicle '501' ends teleporting on edge 'L12', time=57510.00.\n",
      "Warning: Teleporting vehicle '688'; waited too long (jam), lane=':1_3_2', time=57540.00.\n",
      "Warning: Vehicle '688' ends teleporting on edge 'L12', time=57540.00.\n"
     ]
    },
    {
     "name": "stdout",
     "output_type": "stream",
     "text": [
      "Step #57600.00 (7ms ~= 142.86*RT, ~117000.00UPS, vehicles TOT 2946 ACT 819 BUF 252)       \n",
      "####### 64 ########\n",
      "##### n=83 #####\n",
      "##### best_value=-0.00822469131529284 #####\n",
      "printing /Users/rodrse/Documents/DemandCalibration/notebooks/od_calibration_sumo_files/quickstart/data/iter_quickstart.current_od.xml\n",
      "### Runing: iter\n",
      "Success.\n",
      "Step #57600.00 (4ms ~= 250.00*RT, ~165250.00UPS, vehicles TOT 2911 ACT 661 BUF 0)         \n",
      "####### 65 ########\n",
      "##### n=84 #####\n",
      "##### best_value=-0.00822469131529284 #####\n",
      "printing /Users/rodrse/Documents/DemandCalibration/notebooks/od_calibration_sumo_files/quickstart/data/iter_quickstart.current_od.xml\n",
      "### Runing: iter\n",
      "Success.\n",
      "Step #57600.00 (5ms ~= 200.00*RT, ~122400.00UPS, vehicles TOT 2707 ACT 612 BUF 0)         \n",
      "####### 66 ########\n",
      "##### n=85 #####\n",
      "##### best_value=-0.00822469131529284 #####\n",
      "printing /Users/rodrse/Documents/DemandCalibration/notebooks/od_calibration_sumo_files/quickstart/data/iter_quickstart.current_od.xml\n",
      "### Runing: iter\n",
      "Success.\n",
      "Step #57600.00 (6ms ~= 166.67*RT, ~132000.00UPS, vehicles TOT 3002 ACT 792 BUF 0)         \n",
      "####### 67 ########\n",
      "##### n=86 #####\n",
      "##### best_value=-0.00822469131529284 #####\n",
      "printing /Users/rodrse/Documents/DemandCalibration/notebooks/od_calibration_sumo_files/quickstart/data/iter_quickstart.current_od.xml\n",
      "### Runing: iter\n",
      "Success.\n",
      "Step #57600.00 (5ms ~= 200.00*RT, ~126800.00UPS, vehicles TOT 2670 ACT 634 BUF 0)         \n",
      "####### 68 ########\n",
      "##### n=87 #####\n",
      "##### best_value=-0.00822469131529284 #####\n",
      "printing /Users/rodrse/Documents/DemandCalibration/notebooks/od_calibration_sumo_files/quickstart/data/iter_quickstart.current_od.xml\n",
      "### Runing: iter\n",
      "Success.\n",
      "Step #57600.00 (6ms ~= 166.67*RT, ~116166.67UPS, vehicles TOT 2694 ACT 697 BUF 0)         \n",
      "####### 69 ########\n",
      "##### n=88 #####\n",
      "##### best_value=-0.00822469131529284 #####\n",
      "printing /Users/rodrse/Documents/DemandCalibration/notebooks/od_calibration_sumo_files/quickstart/data/iter_quickstart.current_od.xml\n",
      "### Runing: iter\n",
      "Success.\n",
      "Step #57400.00 (5ms ~= 200.00*RT, ~144400.00UPS, vehicles TOT 2724 ACT 722 BUF 84)        \r"
     ]
    },
    {
     "name": "stderr",
     "output_type": "stream",
     "text": [
      "Warning: Teleporting vehicle '656'; waited too long (wrong lane), lane='L12_2', time=57478.00.\n",
      "Warning: Vehicle '656' ends teleporting on edge 'L15', time=57478.00.\n"
     ]
    },
    {
     "name": "stdout",
     "output_type": "stream",
     "text": [
      "Step #57500.00 (5ms ~= 200.00*RT, ~146000.00UPS, vehicles TOT 2779 ACT 730 BUF 110)       \r"
     ]
    },
    {
     "name": "stderr",
     "output_type": "stream",
     "text": [
      "Warning: Teleporting vehicle '659'; waited too long (wrong lane), lane='L12_2', time=57529.00.\n",
      "Warning: Vehicle '659' ends teleporting on edge 'L15', time=57535.00.\n"
     ]
    },
    {
     "name": "stdout",
     "output_type": "stream",
     "text": [
      "Step #57600.00 (5ms ~= 200.00*RT, ~146000.00UPS, vehicles TOT 2820 ACT 730 BUF 152)       \n",
      "####### 70 ########\n",
      "##### n=89 #####\n",
      "##### best_value=-0.00822469131529284 #####\n",
      "printing /Users/rodrse/Documents/DemandCalibration/notebooks/od_calibration_sumo_files/quickstart/data/iter_quickstart.current_od.xml\n",
      "### Runing: iter\n",
      "Success.\n",
      "Step #57600.00 (5ms ~= 200.00*RT, ~123800.00UPS, vehicles TOT 2743 ACT 619 BUF 0)         \n",
      "####### 71 ########\n",
      "##### n=90 #####\n",
      "##### best_value=-0.00822469131529284 #####\n",
      "printing /Users/rodrse/Documents/DemandCalibration/notebooks/od_calibration_sumo_files/quickstart/data/iter_quickstart.current_od.xml\n",
      "### Runing: iter\n",
      "Success.\n",
      "Step #56500.00 (6ms ~= 166.67*RT, ~125500.00UPS, vehicles TOT 2252 ACT 753 BUF 0)         \r"
     ]
    },
    {
     "name": "stderr",
     "output_type": "stream",
     "text": [
      "Warning: Teleporting vehicle '428'; waited too long (wrong lane), lane='L15_0', time=56579.00.\n",
      "Warning: Vehicle '428' ends teleporting on edge 'L18', time=56579.00.\n",
      "Warning: Teleporting vehicle '435'; waited too long (wrong lane), lane='L15_0', time=56581.00.\n",
      "Warning: Vehicle '435' ends teleporting on edge 'L18', time=56581.00.\n"
     ]
    },
    {
     "name": "stdout",
     "output_type": "stream",
     "text": [
      "Step #57000.00 (8ms ~= 125.00*RT, ~96250.00UPS, vehicles TOT 2612 ACT 770 BUF 91)         \r"
     ]
    },
    {
     "name": "stderr",
     "output_type": "stream",
     "text": [
      "Warning: Teleporting vehicle '637'; waited too long (wrong lane), lane='L12_2', time=57035.00.\n",
      "Warning: Vehicle '637' ends teleporting on edge 'L15', time=57035.00.\n",
      "Warning: Teleporting vehicle '642'; waited too long (wrong lane), lane='L12_2', time=57088.00.\n",
      "Warning: Vehicle '642' ends teleporting on edge 'L15', time=57093.00.\n"
     ]
    },
    {
     "name": "stdout",
     "output_type": "stream",
     "text": [
      "Step #57200.00 (5ms ~= 200.00*RT, ~155600.00UPS, vehicles TOT 2727 ACT 778 BUF 157)       \r"
     ]
    },
    {
     "name": "stderr",
     "output_type": "stream",
     "text": [
      "Warning: Teleporting vehicle '647'; waited too long (wrong lane), lane='L12_2', time=57212.00.\n",
      "Warning: Vehicle '647' ends teleporting on edge 'L15', time=57215.00.\n",
      "Warning: Teleporting vehicle '501'; waited too long (jam), lane=':1_3_1', time=57218.00.\n",
      "Warning: Vehicle '501' ends teleporting on edge 'L12', time=57218.00.\n"
     ]
    },
    {
     "name": "stdout",
     "output_type": "stream",
     "text": [
      "Step #57300.00 (6ms ~= 166.67*RT, ~127500.00UPS, vehicles TOT 2768 ACT 765 BUF 204)       \r"
     ]
    },
    {
     "name": "stderr",
     "output_type": "stream",
     "text": [
      "Warning: Teleporting vehicle '654'; waited too long (wrong lane), lane='L12_2', time=57336.00.\n",
      "Warning: Vehicle '654' ends teleporting on edge 'L15', time=57336.00.\n"
     ]
    },
    {
     "name": "stdout",
     "output_type": "stream",
     "text": [
      "Step #57400.00 (6ms ~= 166.67*RT, ~127333.33UPS, vehicles TOT 2817 ACT 764 BUF 246)       \r"
     ]
    },
    {
     "name": "stderr",
     "output_type": "stream",
     "text": [
      "Warning: Teleporting vehicle '660'; waited too long (wrong lane), lane='L12_2', time=57443.00.\n",
      "Warning: Teleporting vehicle '692'; waited too long (jam), lane=':1_3_2', time=57445.00.\n",
      "Warning: Vehicle '692' ends teleporting on edge 'L12', time=57445.00.\n",
      "Warning: Vehicle '660' ends teleporting on edge 'L15', time=57453.00.\n",
      "Warning: Teleporting vehicle '693'; waited too long (jam), lane='L2_1', time=57454.00.\n",
      "Warning: Vehicle '693' ends teleporting on edge 'L12', time=57454.00.\n"
     ]
    },
    {
     "name": "stdout",
     "output_type": "stream",
     "text": [
      "Step #57600.00 (6ms ~= 166.67*RT, ~134333.33UPS, vehicles TOT 2955 ACT 806 BUF 288)       \n",
      "####### 72 ########\n",
      "##### n=91 #####\n",
      "##### best_value=-0.00822469131529284 #####\n",
      "printing /Users/rodrse/Documents/DemandCalibration/notebooks/od_calibration_sumo_files/quickstart/data/iter_quickstart.current_od.xml\n",
      "### Runing: iter\n",
      "Success.\n",
      "Step #57500.00 (10ms ~= 100.00*RT, ~103600.00UPS, vehicles TOT 2887 ACT 1036 BUF 0)       \r"
     ]
    },
    {
     "name": "stderr",
     "output_type": "stream",
     "text": [
      "Warning: Teleporting vehicle '509'; waited too long (wrong lane), lane='L15_0', time=57503.00.\n",
      "Warning: Vehicle '509' ends teleporting on edge 'L18', time=57503.00.\n",
      "Warning: Teleporting vehicle '514'; waited too long (wrong lane), lane='L15_0', time=57504.00.\n",
      "Warning: Vehicle '514' ends teleporting on edge 'L18', time=57504.00.\n",
      "Warning: Teleporting vehicle '518'; waited too long (wrong lane), lane='L15_0', time=57526.00.\n",
      "Warning: Vehicle '518' ends teleporting on edge 'L18', time=57526.00.\n",
      "Warning: Teleporting vehicle '491'; waited too long (wrong lane), lane='L15_0', time=57527.00.\n",
      "Warning: Vehicle '491' ends teleporting on edge 'L18', time=57527.00.\n"
     ]
    },
    {
     "name": "stdout",
     "output_type": "stream",
     "text": [
      "Step #57600.00 (8ms ~= 125.00*RT, ~129875.00UPS, vehicles TOT 2969 ACT 1039 BUF 0)        \n",
      "####### 73 ########\n",
      "##### n=92 #####\n",
      "##### best_value=-0.00822469131529284 #####\n",
      "printing /Users/rodrse/Documents/DemandCalibration/notebooks/od_calibration_sumo_files/quickstart/data/iter_quickstart.current_od.xml\n",
      "### Runing: iter\n",
      "Success.\n",
      "Step #57600.00 (4ms ~= 250.00*RT, ~123750.00UPS, vehicles TOT 2267 ACT 495 BUF 0)         \n",
      "####### 74 ########\n",
      "##### n=93 #####\n",
      "##### best_value=-0.00822469131529284 #####\n",
      "printing /Users/rodrse/Documents/DemandCalibration/notebooks/od_calibration_sumo_files/quickstart/data/iter_quickstart.current_od.xml\n",
      "### Runing: iter\n",
      "Success.\n",
      "Step #57600.00 (8ms ~= 125.00*RT, ~120750.00UPS, vehicles TOT 2975 ACT 966 BUF 129)       \n",
      "####### 75 ########\n",
      "##### n=94 #####\n",
      "##### best_value=-0.00822469131529284 #####\n",
      "printing /Users/rodrse/Documents/DemandCalibration/notebooks/od_calibration_sumo_files/quickstart/data/iter_quickstart.current_od.xml\n",
      "### Runing: iter\n",
      "Success.\n",
      "Step #56900.00 (5ms ~= 200.00*RT, ~164400.00UPS, vehicles TOT 2530 ACT 822 BUF 26)        \r"
     ]
    },
    {
     "name": "stderr",
     "output_type": "stream",
     "text": [
      "Warning: Teleporting vehicle '620'; waited too long (wrong lane), lane='L12_2', time=56929.00.\n",
      "Warning: Vehicle '620' ends teleporting on edge 'L15', time=56933.00.\n",
      "Warning: Teleporting vehicle '503'; waited too long (jam), lane='L2_0', time=56957.00.\n",
      "Warning: Vehicle '503' ends teleporting on edge 'L12', time=56957.00.\n"
     ]
    },
    {
     "name": "stdout",
     "output_type": "stream",
     "text": [
      "Step #57100.00 (6ms ~= 166.67*RT, ~141166.67UPS, vehicles TOT 2657 ACT 847 BUF 76)        \r"
     ]
    },
    {
     "name": "stderr",
     "output_type": "stream",
     "text": [
      "Warning: Teleporting vehicle '1594'; waited too long (jam), lane='L2_1', time=57100.00.\n",
      "Warning: Vehicle '1594' ends teleporting on edge 'L12', time=57100.00.\n",
      "Warning: Teleporting vehicle '676'; waited too long (jam), lane='L2_1', time=57101.00.\n",
      "Warning: Vehicle '676' ends teleporting on edge 'L12', time=57101.00.\n",
      "Warning: Teleporting vehicle '1631'; waited too long (jam), lane='D2_1', time=57263.00.\n",
      "Warning: Vehicle '1631' ends teleporting on edge 'L2', time=57263.00.\n",
      "Warning: Teleporting vehicle '712'; waited too long (jam), lane='D2_1', time=57264.00.\n"
     ]
    },
    {
     "name": "stdout",
     "output_type": "stream",
     "text": [
      "Step #57300.00 (7ms ~= 142.86*RT, ~121000.00UPS, vehicles TOT 2749 ACT 847 BUF 161)       \r"
     ]
    },
    {
     "name": "stderr",
     "output_type": "stream",
     "text": [
      "Warning: Teleporting vehicle '571'; waited too long (jam), lane='D2_0', time=57353.00.\n",
      "Warning: Teleporting vehicle '505'; waited too long (jam), lane='L2_0', time=57361.00.\n",
      "Warning: Vehicle '505' ends teleporting on edge 'L12', time=57361.00.\n",
      "Warning: Vehicle '571' ends teleporting on edge 'L2', time=57364.00.\n",
      "Warning: Teleporting vehicle '1595'; waited too long (jam), lane='L2_1', time=57410.00.\n",
      "Warning: Vehicle '1595' ends teleporting on edge 'L12', time=57410.00.\n",
      "Warning: Vehicle '712' ends teleporting on edge 'L2', time=57413.00.\n"
     ]
    },
    {
     "name": "stdout",
     "output_type": "stream",
     "text": [
      "Step #57500.00 (5ms ~= 200.00*RT, ~163600.00UPS, vehicles TOT 2823 ACT 818 BUF 262)       \r"
     ]
    },
    {
     "name": "stderr",
     "output_type": "stream",
     "text": [
      "Warning: Teleporting vehicle '651'; waited too long (wrong lane), lane='L12_2', time=57514.00.\n",
      "Warning: Vehicle '651' ends teleporting on edge 'L15', time=57514.00.\n",
      "Warning: Teleporting vehicle '1632'; waited too long (jam), lane='D2_1', time=57572.00.\n"
     ]
    },
    {
     "name": "stdout",
     "output_type": "stream",
     "text": [
      "Step #57600.00 (7ms ~= 142.86*RT, ~117000.00UPS, vehicles TOT 2861 ACT 819 BUF 313)       \n",
      "####### 76 ########\n",
      "##### n=95 #####\n",
      "##### best_value=-0.00822469131529284 #####\n",
      "printing /Users/rodrse/Documents/DemandCalibration/notebooks/od_calibration_sumo_files/quickstart/data/iter_quickstart.current_od.xml\n",
      "### Runing: iter\n",
      "Success.\n",
      "Step #57600.00 (6ms ~= 166.67*RT, ~135333.33UPS, vehicles TOT 2962 ACT 812 BUF 144)       \n",
      "####### 77 ########\n",
      "##### n=96 #####\n",
      "##### best_value=-0.00822469131529284 #####\n",
      "printing /Users/rodrse/Documents/DemandCalibration/notebooks/od_calibration_sumo_files/quickstart/data/iter_quickstart.current_od.xml\n",
      "### Runing: iter\n",
      "Success.\n",
      "Step #56800.00 (6ms ~= 166.67*RT, ~141000.00UPS, vehicles TOT 2442 ACT 846 BUF 0)         \r"
     ]
    },
    {
     "name": "stderr",
     "output_type": "stream",
     "text": [
      "Warning: Teleporting vehicle '601'; waited too long (wrong lane), lane='L12_2', time=56811.00.\n",
      "Warning: Teleporting vehicle '602'; waited too long (wrong lane), lane='L12_2', time=56812.00.\n",
      "Warning: Vehicle '601' ends teleporting on edge 'L15', time=56840.00.\n",
      "Warning: Vehicle '602' ends teleporting on edge 'L15', time=56899.00.\n"
     ]
    },
    {
     "name": "stdout",
     "output_type": "stream",
     "text": [
      "Step #56900.00 (6ms ~= 166.67*RT, ~147833.33UPS, vehicles TOT 2530 ACT 887 BUF 0)         \r"
     ]
    },
    {
     "name": "stderr",
     "output_type": "stream",
     "text": [
      "Warning: Teleporting vehicle '606'; waited too long (wrong lane), lane='L12_2', time=56948.00.\n",
      "Warning: Vehicle '606' ends teleporting on edge 'L15', time=56960.00.\n"
     ]
    },
    {
     "name": "stdout",
     "output_type": "stream",
     "text": [
      "Step #57000.00 (5ms ~= 200.00*RT, ~182000.00UPS, vehicles TOT 2617 ACT 910 BUF 0)         \r"
     ]
    },
    {
     "name": "stderr",
     "output_type": "stream",
     "text": [
      "Warning: Teleporting vehicle '682'; waited too long (jam), lane='L2_1', time=57055.00.\n",
      "Warning: Vehicle '682' ends teleporting on edge 'L12', time=57055.00.\n",
      "Warning: Teleporting vehicle '683'; waited too long (jam), lane='L2_1', time=57056.00.\n",
      "Warning: Vehicle '683' ends teleporting on edge 'L12', time=57056.00.\n"
     ]
    },
    {
     "name": "stdout",
     "output_type": "stream",
     "text": [
      "Step #57100.00 (6ms ~= 166.67*RT, ~152000.00UPS, vehicles TOT 2674 ACT 912 BUF 31)        \r"
     ]
    },
    {
     "name": "stderr",
     "output_type": "stream",
     "text": [
      "Warning: Teleporting vehicle '476'; waited too long (jam), lane='L2_0', time=57121.00.\n",
      "Warning: Vehicle '476' ends teleporting on edge 'L12', time=57121.00.\n",
      "Warning: Teleporting vehicle '1284'; waited too long (jam), lane='D2_1', time=57192.00.\n",
      "Warning: Vehicle '1284' ends teleporting on edge 'L2', time=57192.00.\n",
      "Warning: Teleporting vehicle '730'; waited too long (jam), lane='D2_1', time=57193.00.\n",
      "Warning: Teleporting vehicle '731'; waited too long (jam), lane='D2_1', time=57194.00.\n",
      "Warning: Teleporting vehicle '542'; waited too long (jam), lane='D2_0', time=57195.00.\n",
      "Warning: Teleporting vehicle '617'; waited too long (wrong lane), lane='L12_2', time=57196.00.\n",
      "Warning: Teleporting vehicle '618'; waited too long (wrong lane), lane='L12_2', time=57197.00.\n",
      "Warning: Vehicle '617' ends teleporting on edge 'L15', time=57197.00.\n"
     ]
    },
    {
     "name": "stdout",
     "output_type": "stream",
     "text": [
      "Step #57200.00 (6ms ~= 166.67*RT, ~150833.33UPS, vehicles TOT 2723 ACT 905 BUF 68)        \r"
     ]
    },
    {
     "name": "stderr",
     "output_type": "stream",
     "text": [
      "Warning: Vehicle '618' ends teleporting on edge 'L15', time=57243.00.\n"
     ]
    },
    {
     "name": "stdout",
     "output_type": "stream",
     "text": [
      "Step #57300.00 (6ms ~= 166.67*RT, ~147666.67UPS, vehicles TOT 2771 ACT 886 BUF 107)       \r"
     ]
    },
    {
     "name": "stderr",
     "output_type": "stream",
     "text": [
      "Warning: Teleporting vehicle '1261'; waited too long (jam), lane='L2_1', time=57364.00.\n",
      "Warning: Vehicle '1261' ends teleporting on edge 'L12', time=57364.00.\n",
      "Warning: Vehicle '542' ends teleporting on edge 'L2', time=57366.00.\n"
     ]
    },
    {
     "name": "stdout",
     "output_type": "stream",
     "text": [
      "Step #57400.00 (8ms ~= 125.00*RT, ~110750.00UPS, vehicles TOT 2820 ACT 886 BUF 146)       \r"
     ]
    },
    {
     "name": "stderr",
     "output_type": "stream",
     "text": [
      "Warning: Teleporting vehicle '477'; waited too long (jam), lane='L2_0', time=57427.00.\n",
      "Warning: Vehicle '477' ends teleporting on edge 'L12', time=57427.00.\n",
      "Warning: Teleporting vehicle '639'; waited too long (wrong lane), lane='L12_2', time=57495.00.\n",
      "Warning: Teleporting vehicle '640'; waited too long (wrong lane), lane='L12_2', time=57496.00.\n",
      "Warning: Teleporting vehicle '543'; waited too long (jam), lane='D2_0', time=57501.00.\n",
      "Warning: Teleporting vehicle '1285'; waited too long (jam), lane='D2_1', time=57503.00.\n"
     ]
    },
    {
     "name": "stdout",
     "output_type": "stream",
     "text": [
      "Step #57500.00 (8ms ~= 125.00*RT, ~109750.00UPS, vehicles TOT 2869 ACT 878 BUF 183)       \r"
     ]
    },
    {
     "name": "stderr",
     "output_type": "stream",
     "text": [
      "Warning: Vehicle '639' ends teleporting on edge 'L15', time=57524.00.\n",
      "Warning: Vehicle '640' ends teleporting on edge 'L15', time=57587.00.\n"
     ]
    },
    {
     "name": "stdout",
     "output_type": "stream",
     "text": [
      "Step #57600.00 (6ms ~= 166.67*RT, ~146166.67UPS, vehicles TOT 2918 ACT 877 BUF 222)       \n",
      "####### 78 ########\n",
      "##### n=97 #####\n",
      "##### best_value=-0.00822469131529284 #####\n",
      "printing /Users/rodrse/Documents/DemandCalibration/notebooks/od_calibration_sumo_files/quickstart/data/iter_quickstart.current_od.xml\n",
      "### Runing: iter\n",
      "Success.\n",
      "Step #57600.00 (6ms ~= 166.67*RT, ~146666.67UPS, vehicles TOT 3217 ACT 880 BUF 8)         \n",
      "####### 79 ########\n",
      "##### n=98 #####\n",
      "##### best_value=-0.00822469131529284 #####\n",
      "printing /Users/rodrse/Documents/DemandCalibration/notebooks/od_calibration_sumo_files/quickstart/data/iter_quickstart.current_od.xml\n",
      "### Runing: iter\n",
      "Success.\n",
      "Step #57600.00 (8ms ~= 125.00*RT, ~109500.00UPS, vehicles TOT 3030 ACT 876 BUF 0)         \n",
      "####### 80 ########\n",
      "##### n=99 #####\n",
      "##### best_value=-0.00822469131529284 #####\n",
      "printing /Users/rodrse/Documents/DemandCalibration/notebooks/od_calibration_sumo_files/quickstart/data/iter_quickstart.current_od.xml\n",
      "### Runing: iter\n",
      "Success.\n",
      "Step #56900.00 (5ms ~= 200.00*RT, ~159400.00UPS, vehicles TOT 2578 ACT 797 BUF 70)        \r"
     ]
    },
    {
     "name": "stderr",
     "output_type": "stream",
     "text": [
      "Warning: Teleporting vehicle '600'; waited too long (wrong lane), lane='L12_2', time=56920.00.\n",
      "Warning: Vehicle '600' ends teleporting on edge 'L15', time=56920.00.\n"
     ]
    },
    {
     "name": "stdout",
     "output_type": "stream",
     "text": [
      "Step #57100.00 (6ms ~= 166.67*RT, ~140000.00UPS, vehicles TOT 2729 ACT 840 BUF 101)       \r"
     ]
    },
    {
     "name": "stderr",
     "output_type": "stream",
     "text": [
      "Warning: Teleporting vehicle '476'; waited too long (jam), lane=':1_3_1', time=57132.00.\n",
      "Warning: Vehicle '476' ends teleporting on edge 'L12', time=57132.00.\n",
      "Warning: Teleporting vehicle '620'; waited too long (wrong lane), lane='L12_2', time=57180.00.\n",
      "Warning: Vehicle '620' ends teleporting on edge 'L15', time=57205.00.\n"
     ]
    },
    {
     "name": "stdout",
     "output_type": "stream",
     "text": [
      "Step #57200.00 (10ms ~= 100.00*RT, ~86400.00UPS, vehicles TOT 2806 ACT 864 BUF 116)       \r"
     ]
    },
    {
     "name": "stderr",
     "output_type": "stream",
     "text": [
      "Warning: Teleporting vehicle '1411'; waited too long (jam), lane=':1_3_2', time=57248.00.\n",
      "Warning: Teleporting vehicle '668'; waited too long (jam), lane='L2_1', time=57249.00.\n",
      "Warning: Vehicle '668' ends teleporting on edge 'L12', time=57249.00.\n",
      "Warning: Teleporting vehicle '669'; waited too long (jam), lane='L2_1', time=57250.00.\n",
      "Warning: Teleporting vehicle '623'; waited too long (wrong lane), lane='L12_2', time=57250.00.\n",
      "Warning: Vehicle '669' ends teleporting on edge 'L12', time=57250.00.\n",
      "Warning: Teleporting vehicle '670'; waited too long (jam), lane='L2_1', time=57258.00.\n",
      "Warning: Vehicle '670' ends teleporting on edge 'L12', time=57258.00.\n",
      "Warning: Teleporting vehicle '671'; waited too long (jam), lane='L2_1', time=57259.00.\n",
      "Warning: Vehicle '671' ends teleporting on edge 'L12', time=57259.00.\n"
     ]
    },
    {
     "name": "stdout",
     "output_type": "stream",
     "text": [
      "Step #57300.00 (6ms ~= 166.67*RT, ~147666.67UPS, vehicles TOT 2883 ACT 886 BUF 130)       \r"
     ]
    },
    {
     "name": "stderr",
     "output_type": "stream",
     "text": [
      "Warning: Vehicle '623' ends teleporting on edge 'L15', time=57332.00.\n"
     ]
    },
    {
     "name": "stdout",
     "output_type": "stream",
     "text": [
      "Step #57400.00 (8ms ~= 125.00*RT, ~110250.00UPS, vehicles TOT 2936 ACT 882 BUF 168)       \r"
     ]
    },
    {
     "name": "stderr",
     "output_type": "stream",
     "text": [
      "Warning: Teleporting vehicle '706'; waited too long (jam), lane='D2_1', time=57439.00.\n",
      "Warning: Vehicle '706' ends teleporting on edge 'L2', time=57439.00.\n",
      "Warning: Teleporting vehicle '477'; waited too long (jam), lane=':1_3_1', time=57440.00.\n",
      "Warning: Vehicle '477' ends teleporting on edge 'L12', time=57440.00.\n",
      "Warning: Teleporting vehicle '630'; waited too long (wrong lane), lane='L12_2', time=57463.00.\n",
      "Warning: Vehicle '630' ends teleporting on edge 'L15', time=57463.00.\n"
     ]
    },
    {
     "name": "stdout",
     "output_type": "stream",
     "text": [
      "Step #57500.00 (7ms ~= 142.86*RT, ~125142.86UPS, vehicles TOT 2983 ACT 876 BUF 212)       \r"
     ]
    },
    {
     "name": "stderr",
     "output_type": "stream",
     "text": [
      "Warning: Teleporting vehicle '544'; waited too long (jam), lane='D2_0', time=57525.00.\n",
      "Warning: Vehicle '544' ends teleporting on edge 'L2', time=57525.00.\n",
      "Warning: Teleporting vehicle '1412'; waited too long (jam), lane=':1_3_1', time=57560.00.\n",
      "Warning: Teleporting vehicle '636'; waited too long (wrong lane), lane='L12_2', time=57585.00.\n",
      "Warning: Vehicle '636' ends teleporting on edge 'L15', time=57585.00.\n"
     ]
    },
    {
     "name": "stdout",
     "output_type": "stream",
     "text": [
      "Step #57600.00 (8ms ~= 125.00*RT, ~108875.00UPS, vehicles TOT 3031 ACT 871 BUF 256)       \n",
      "####### 81 ########\n",
      "##### n=100 #####\n",
      "##### best_value=-0.005921164764035104 #####\n",
      "printing /Users/rodrse/Documents/DemandCalibration/notebooks/od_calibration_sumo_files/quickstart/data/iter_quickstart.current_od.xml\n",
      "### Runing: iter\n",
      "Success.\n",
      "Step #57500.00 (5ms ~= 200.00*RT, ~149800.00UPS, vehicles TOT 2812 ACT 749 BUF 89)        \r"
     ]
    },
    {
     "name": "stderr",
     "output_type": "stream",
     "text": [
      "Warning: Teleporting vehicle '651'; waited too long (wrong lane), lane='L12_2', time=57531.00.\n",
      "Warning: Vehicle '651' ends teleporting on edge 'L15', time=57531.00.\n"
     ]
    },
    {
     "name": "stdout",
     "output_type": "stream",
     "text": [
      "Step #57600.00 (6ms ~= 166.67*RT, ~122833.33UPS, vehicles TOT 2849 ACT 737 BUF 134)       \n",
      "####### 82 ########\n",
      "##### n=101 #####\n",
      "##### best_value=-0.005921164764035104 #####\n",
      "printing /Users/rodrse/Documents/DemandCalibration/notebooks/od_calibration_sumo_files/quickstart/data/iter_quickstart.current_od.xml\n",
      "### Runing: iter\n",
      "Success.\n",
      "Step #56900.00 (5ms ~= 200.00*RT, ~158600.00UPS, vehicles TOT 2552 ACT 793 BUF 63)        \r"
     ]
    },
    {
     "name": "stderr",
     "output_type": "stream",
     "text": [
      "Warning: Teleporting vehicle '612'; waited too long (wrong lane), lane='L12_2', time=56962.00.\n"
     ]
    },
    {
     "name": "stdout",
     "output_type": "stream",
     "text": [
      "Step #57000.00 (8ms ~= 125.00*RT, ~102250.00UPS, vehicles TOT 2628 ACT 818 BUF 78)        \r"
     ]
    },
    {
     "name": "stderr",
     "output_type": "stream",
     "text": [
      "Warning: Vehicle '612' ends teleporting on edge 'L15', time=57018.00.\n",
      "Warning: Teleporting vehicle '617'; waited too long (wrong lane), lane='L12_2', time=57045.00.\n",
      "Warning: Vehicle '617' ends teleporting on edge 'L15', time=57062.00.\n"
     ]
    },
    {
     "name": "stdout",
     "output_type": "stream",
     "text": [
      "Step #57100.00 (6ms ~= 166.67*RT, ~139833.33UPS, vehicles TOT 2702 ACT 839 BUF 94)        \r"
     ]
    },
    {
     "name": "stderr",
     "output_type": "stream",
     "text": [
      "Warning: Teleporting vehicle '480'; waited too long (jam), lane='L2_0', time=57126.00.\n",
      "Warning: Vehicle '480' ends teleporting on edge 'L12', time=57126.00.\n",
      "Warning: Teleporting vehicle '621'; waited too long (wrong lane), lane='L12_2', time=57155.00.\n",
      "Warning: Vehicle '621' ends teleporting on edge 'L15', time=57155.00.\n"
     ]
    },
    {
     "name": "stdout",
     "output_type": "stream",
     "text": [
      "Step #57200.00 (6ms ~= 166.67*RT, ~142166.67UPS, vehicles TOT 2777 ACT 853 BUF 109)       \r"
     ]
    },
    {
     "name": "stderr",
     "output_type": "stream",
     "text": [
      "Warning: Teleporting vehicle '1438'; waited too long (jam), lane='L2_1', time=57234.00.\n",
      "Warning: Teleporting vehicle '674'; waited too long (jam), lane='L2_1', time=57235.00.\n",
      "Warning: Vehicle '674' ends teleporting on edge 'L12', time=57235.00.\n",
      "Warning: Vehicle '1438' ends teleporting on edge 'L12', time=57292.00.\n"
     ]
    },
    {
     "name": "stdout",
     "output_type": "stream",
     "text": [
      "Step #57300.00 (5ms ~= 200.00*RT, ~176600.00UPS, vehicles TOT 2851 ACT 883 BUF 126)       \r"
     ]
    },
    {
     "name": "stderr",
     "output_type": "stream",
     "text": [
      "Warning: Teleporting vehicle '630'; waited too long (wrong lane), lane='L12_2', time=57330.00.\n",
      "Warning: Vehicle '630' ends teleporting on edge 'L15', time=57330.00.\n",
      "Warning: Teleporting vehicle '631'; waited too long (wrong lane), lane='L12_2', time=57377.00.\n",
      "Warning: Vehicle '631' ends teleporting on edge 'L15', time=57377.00.\n"
     ]
    },
    {
     "name": "stdout",
     "output_type": "stream",
     "text": [
      "Step #57400.00 (6ms ~= 166.67*RT, ~146000.00UPS, vehicles TOT 2897 ACT 876 BUF 170)       \r"
     ]
    },
    {
     "name": "stderr",
     "output_type": "stream",
     "text": [
      "Warning: Teleporting vehicle '481'; waited too long (jam), lane='L2_0', time=57432.00.\n",
      "Warning: Vehicle '481' ends teleporting on edge 'L12', time=57432.00.\n",
      "Warning: Teleporting vehicle '1470'; waited too long (jam), lane='D2_1', time=57439.00.\n",
      "Warning: Vehicle '1470' ends teleporting on edge 'L2', time=57439.00.\n",
      "Warning: Teleporting vehicle '712'; waited too long (jam), lane='D2_1', time=57441.00.\n",
      "Warning: Teleporting vehicle '713'; waited too long (jam), lane='D2_1', time=57444.00.\n",
      "Warning: Vehicle '712' ends teleporting on edge 'L2', time=57445.00.\n",
      "Warning: Teleporting vehicle '636'; waited too long (wrong lane), lane='L12_2', time=57497.00.\n",
      "Warning: Vehicle '636' ends teleporting on edge 'L15', time=57497.00.\n",
      "Warning: Teleporting vehicle '548'; waited too long (jam), lane='D2_0', time=57519.00.\n"
     ]
    },
    {
     "name": "stdout",
     "output_type": "stream",
     "text": [
      "Step #57500.00 (6ms ~= 166.67*RT, ~145166.67UPS, vehicles TOT 2942 ACT 871 BUF 214)       \r"
     ]
    },
    {
     "name": "stderr",
     "output_type": "stream",
     "text": [
      "Warning: Teleporting vehicle '1439'; waited too long (jam), lane='L2_1', time=57543.00.\n",
      "Warning: Teleporting vehicle '638'; waited too long (wrong lane), lane='L12_2', time=57553.00.\n",
      "Warning: Vehicle '638' ends teleporting on edge 'L15', time=57553.00.\n",
      "Warning: Vehicle '1439' ends teleporting on edge 'L12', time=57586.00.\n"
     ]
    },
    {
     "name": "stdout",
     "output_type": "stream",
     "text": [
      "Step #57600.00 (6ms ~= 166.67*RT, ~144000.00UPS, vehicles TOT 2988 ACT 864 BUF 259)       \n",
      "####### 83 ########\n",
      "##### n=102 #####\n",
      "##### best_value=-0.005921164764035104 #####\n",
      "printing /Users/rodrse/Documents/DemandCalibration/notebooks/od_calibration_sumo_files/quickstart/data/iter_quickstart.current_od.xml\n",
      "### Runing: iter\n",
      "Success.\n",
      "Step #57600.00 (3ms ~= 333.33*RT, ~154333.33UPS, vehicles TOT 2602 ACT 463 BUF 0)         \n",
      "####### 84 ########\n",
      "##### n=103 #####\n",
      "##### best_value=-0.005921164764035104 #####\n",
      "printing /Users/rodrse/Documents/DemandCalibration/notebooks/od_calibration_sumo_files/quickstart/data/iter_quickstart.current_od.xml\n",
      "### Runing: iter\n",
      "Success.\n",
      "Step #57500.00 (9ms ~= 111.11*RT, ~88777.78UPS, vehicles TOT 2819 ACT 799 BUF 43)         \r"
     ]
    },
    {
     "name": "stderr",
     "output_type": "stream",
     "text": [
      "Warning: Teleporting vehicle '639'; waited too long (wrong lane), lane='L12_2', time=57556.00.\n",
      "Warning: Vehicle '639' ends teleporting on edge 'L15', time=57556.00.\n"
     ]
    },
    {
     "name": "stdout",
     "output_type": "stream",
     "text": [
      "Step #57600.00 (13ms ~= 76.92*RT, ~62923.08UPS, vehicles TOT 2890 ACT 818 BUF 54)         \n",
      "####### 85 ########\n",
      "##### n=104 #####\n",
      "##### best_value=-0.005921164764035104 #####\n",
      "printing /Users/rodrse/Documents/DemandCalibration/notebooks/od_calibration_sumo_files/quickstart/data/iter_quickstart.current_od.xml\n",
      "### Runing: iter\n",
      "Success.\n",
      "Step #57600.00 (3ms ~= 333.33*RT, ~166666.67UPS, vehicles TOT 1980 ACT 500 BUF 0)         \n",
      "####### 86 ########\n",
      "##### n=105 #####\n",
      "##### best_value=-0.005921164764035104 #####\n",
      "printing /Users/rodrse/Documents/DemandCalibration/notebooks/od_calibration_sumo_files/quickstart/data/iter_quickstart.current_od.xml\n",
      "### Runing: iter\n",
      "Success.\n",
      "Step #57300.00 (11ms ~= 90.91*RT, ~76000.00UPS, vehicles TOT 2752 ACT 836 BUF 89)         \r"
     ]
    },
    {
     "name": "stderr",
     "output_type": "stream",
     "text": [
      "Warning: Teleporting vehicle '2914'; waited too long (wrong lane), lane='L14_0', time=57384.00.\n",
      "Warning: Vehicle '2914' ends teleporting on edge 'L16', time=57384.00.\n"
     ]
    },
    {
     "name": "stdout",
     "output_type": "stream",
     "text": [
      "Step #57500.00 (7ms ~= 142.86*RT, ~119571.43UPS, vehicles TOT 2886 ACT 837 BUF 127)       \r"
     ]
    },
    {
     "name": "stderr",
     "output_type": "stream",
     "text": [
      "Warning: Teleporting vehicle '2778'; waited too long (jam), lane=':2_3_1', time=57537.00.\n",
      "Warning: Vehicle '2778' ends teleporting on edge 'L14', time=57537.00.\n",
      "Warning: Teleporting vehicle '2064'; waited too long (jam), lane=':2_3_0', time=57588.00.\n",
      "Warning: Vehicle '2064' ends teleporting on edge 'L14', time=57588.00.\n"
     ]
    },
    {
     "name": "stdout",
     "output_type": "stream",
     "text": [
      "Step #57600.00 (6ms ~= 166.67*RT, ~137666.67UPS, vehicles TOT 2953 ACT 826 BUF 147)       \n",
      "####### 87 ########\n",
      "##### n=106 #####\n",
      "##### best_value=-0.005921164764035104 #####\n",
      "printing /Users/rodrse/Documents/DemandCalibration/notebooks/od_calibration_sumo_files/quickstart/data/iter_quickstart.current_od.xml\n",
      "### Runing: iter\n",
      "Success.\n",
      "Step #57000.00 (9ms ~= 111.11*RT, ~89000.00UPS, vehicles TOT 2621 ACT 801 BUF 50)         \r"
     ]
    },
    {
     "name": "stderr",
     "output_type": "stream",
     "text": [
      "Warning: Teleporting vehicle '603'; waited too long (wrong lane), lane='L12_2', time=57046.00.\n",
      "Warning: Vehicle '603' ends teleporting on edge 'L15', time=57046.00.\n"
     ]
    },
    {
     "name": "stdout",
     "output_type": "stream",
     "text": [
      "Step #57100.00 (9ms ~= 111.11*RT, ~88888.89UPS, vehicles TOT 2675 ACT 800 BUF 85)         \r"
     ]
    },
    {
     "name": "stderr",
     "output_type": "stream",
     "text": [
      "Warning: Teleporting vehicle '606'; waited too long (wrong lane), lane='L12_2', time=57115.00.\n",
      "Warning: Vehicle '606' ends teleporting on edge 'L15', time=57115.00.\n",
      "Warning: Teleporting vehicle '474'; waited too long (jam), lane='L2_0', time=57141.00.\n",
      "Warning: Vehicle '474' ends teleporting on edge 'L12', time=57141.00.\n",
      "Warning: Teleporting vehicle '610'; waited too long (wrong lane), lane='L12_2', time=57181.00.\n",
      "Warning: Vehicle '610' ends teleporting on edge 'L15', time=57181.00.\n"
     ]
    },
    {
     "name": "stdout",
     "output_type": "stream",
     "text": [
      "Step #57200.00 (9ms ~= 111.11*RT, ~88333.33UPS, vehicles TOT 2721 ACT 795 BUF 128)        \r"
     ]
    },
    {
     "name": "stderr",
     "output_type": "stream",
     "text": [
      "Warning: Teleporting vehicle '611'; waited too long (wrong lane), lane='L12_2', time=57215.00.\n",
      "Warning: Vehicle '611' ends teleporting on edge 'L15', time=57215.00.\n"
     ]
    },
    {
     "name": "stdout",
     "output_type": "stream",
     "text": [
      "Step #57300.00 (11ms ~= 90.91*RT, ~71636.36UPS, vehicles TOT 2768 ACT 788 BUF 171)        \r"
     ]
    },
    {
     "name": "stderr",
     "output_type": "stream",
     "text": [
      "Warning: Teleporting vehicle '615'; waited too long (wrong lane), lane='L12_2', time=57316.00.\n",
      "Warning: Vehicle '615' ends teleporting on edge 'L15', time=57317.00.\n",
      "Warning: Teleporting vehicle '1391'; waited too long (jam), lane=':1_3_2', time=57324.00.\n",
      "Warning: Vehicle '1391' ends teleporting on edge 'L12', time=57324.00.\n",
      "Warning: Teleporting vehicle '665'; waited too long (jam), lane='L2_1', time=57325.00.\n",
      "Warning: Teleporting vehicle '680'; waited too long (jam), lane='D2_1', time=57325.00.\n",
      "Warning: Vehicle '665' ends teleporting on edge 'L12', time=57325.00.\n",
      "Warning: Vehicle '680' ends teleporting on edge 'L2', time=57325.00.\n"
     ]
    },
    {
     "name": "stdout",
     "output_type": "stream",
     "text": [
      "Step #57400.00 (10ms ~= 100.00*RT, ~80700.00UPS, vehicles TOT 2836 ACT 807 BUF 191)       \r"
     ]
    },
    {
     "name": "stderr",
     "output_type": "stream",
     "text": [
      "Warning: Teleporting vehicle '620'; waited too long (wrong lane), lane='L12_2', time=57430.00.\n",
      "Warning: Vehicle '620' ends teleporting on edge 'L15', time=57446.00.\n"
     ]
    },
    {
     "name": "stdout",
     "output_type": "stream",
     "text": [
      "Step #57500.00 (10ms ~= 100.00*RT, ~82400.00UPS, vehicles TOT 2908 ACT 824 BUF 209)       \r"
     ]
    },
    {
     "name": "stderr",
     "output_type": "stream",
     "text": [
      "Warning: Teleporting vehicle '541'; waited too long (jam), lane='D2_0', time=57542.00.\n",
      "Warning: Teleporting vehicle '626'; waited too long (wrong lane), lane='L12_2', time=57580.00.\n",
      "Warning: Vehicle '626' ends teleporting on edge 'L15', time=57584.00.\n",
      "Warning: Teleporting vehicle '475'; waited too long (jam), lane=':1_3_1', time=57594.00.\n",
      "Warning: Vehicle '475' ends teleporting on edge 'L12', time=57594.00.\n"
     ]
    },
    {
     "name": "stdout",
     "output_type": "stream",
     "text": [
      "Step #57600.00 (10ms ~= 100.00*RT, ~84500.00UPS, vehicles TOT 2982 ACT 845 BUF 223)       \n",
      "####### 88 ########\n",
      "##### n=107 #####\n",
      "##### best_value=-0.005921164764035104 #####\n",
      "printing /Users/rodrse/Documents/DemandCalibration/notebooks/od_calibration_sumo_files/quickstart/data/iter_quickstart.current_od.xml\n",
      "### Runing: iter\n",
      "Success.\n",
      "Step #57200.00 (7ms ~= 142.86*RT, ~125428.57UPS, vehicles TOT 2771 ACT 878 BUF 0)         \r"
     ]
    },
    {
     "name": "stderr",
     "output_type": "stream",
     "text": [
      "Warning: Teleporting vehicle '476'; waited too long (jam), lane=':1_3_1', time=57291.00.\n",
      "Warning: Teleporting vehicle '477'; waited too long (jam), lane='L2_0', time=57291.00.\n",
      "Warning: Vehicle '476' ends teleporting on edge 'L12', time=57291.00.\n",
      "Warning: Vehicle '477' ends teleporting on edge 'L12', time=57292.00.\n",
      "Warning: Teleporting vehicle '1268'; waited too long (jam), lane=':1_3_2', time=57343.00.\n",
      "Warning: Teleporting vehicle '675'; waited too long (jam), lane='L2_1', time=57344.00.\n",
      "Warning: Vehicle '675' ends teleporting on edge 'L12', time=57344.00.\n",
      "Warning: Teleporting vehicle '613'; waited too long (wrong lane), lane='L12_2', time=57355.00.\n"
     ]
    },
    {
     "name": "stdout",
     "output_type": "stream",
     "text": [
      "Step #57400.00 (9ms ~= 111.11*RT, ~101555.56UPS, vehicles TOT 2916 ACT 914 BUF 29)        \r"
     ]
    },
    {
     "name": "stderr",
     "output_type": "stream",
     "text": [
      "Warning: Vehicle '613' ends teleporting on edge 'L15', time=57411.00.\n",
      "Warning: Teleporting vehicle '717'; waited too long (jam), lane='D2_1', time=57498.00.\n",
      "Warning: Vehicle '717' ends teleporting on edge 'L2', time=57498.00.\n",
      "Warning: Teleporting vehicle '620'; waited too long (wrong lane), lane='L12_2', time=57509.00.\n"
     ]
    },
    {
     "name": "stdout",
     "output_type": "stream",
     "text": [
      "Step #57500.00 (10ms ~= 100.00*RT, ~90800.00UPS, vehicles TOT 2966 ACT 908 BUF 66)        \r"
     ]
    },
    {
     "name": "stderr",
     "output_type": "stream",
     "text": [
      "Warning: Vehicle '620' ends teleporting on edge 'L15', time=57543.00.\n",
      "Warning: Teleporting vehicle '621'; waited too long (wrong lane), lane='L12_2', time=57546.00.\n"
     ]
    },
    {
     "name": "stdout",
     "output_type": "stream",
     "text": [
      "Step #57600.00 (12ms ~= 83.33*RT, ~75166.67UPS, vehicles TOT 3014 ACT 902 BUF 104)        \n",
      "####### 89 ########\n",
      "##### n=108 #####\n",
      "##### best_value=-0.005921164764035104 #####\n",
      "printing /Users/rodrse/Documents/DemandCalibration/notebooks/od_calibration_sumo_files/quickstart/data/iter_quickstart.current_od.xml\n",
      "### Runing: iter\n",
      "Success.\n",
      "Step #56900.00 (12ms ~= 83.33*RT, ~72750.00UPS, vehicles TOT 2695 ACT 873 BUF 0)          \r"
     ]
    },
    {
     "name": "stderr",
     "output_type": "stream",
     "text": [
      "Warning: Teleporting vehicle '606'; waited too long (wrong lane), lane='L12_2', time=56949.00.\n",
      "Warning: Vehicle '606' ends teleporting on edge 'L15', time=56949.00.\n"
     ]
    },
    {
     "name": "stdout",
     "output_type": "stream",
     "text": [
      "Step #57000.00 (12ms ~= 83.33*RT, ~74833.33UPS, vehicles TOT 2776 ACT 898 BUF 12)         \r"
     ]
    },
    {
     "name": "stderr",
     "output_type": "stream",
     "text": [
      "Warning: Teleporting vehicle '477'; waited too long (jam), lane='L2_0', time=57030.00.\n",
      "Warning: Vehicle '477' ends teleporting on edge 'L12', time=57030.00.\n",
      "Warning: Teleporting vehicle '478'; waited too long (jam), lane='L2_0', time=57031.00.\n",
      "Warning: Vehicle '478' ends teleporting on edge 'L12', time=57031.00.\n",
      "Warning: Teleporting vehicle '611'; waited too long (wrong lane), lane='L12_2', time=57069.00.\n",
      "Warning: Vehicle '611' ends teleporting on edge 'L15', time=57093.00.\n",
      "Warning: Teleporting vehicle '671'; waited too long (jam), lane='L2_0', time=57109.00.\n",
      "Warning: Vehicle '671' ends teleporting on edge 'L12', time=57109.00.\n"
     ]
    },
    {
     "name": "stdout",
     "output_type": "stream",
     "text": [
      "Step #57100.00 (11ms ~= 90.91*RT, ~83636.36UPS, vehicles TOT 2854 ACT 920 BUF 27)         \r"
     ]
    },
    {
     "name": "stderr",
     "output_type": "stream",
     "text": [
      "Warning: Teleporting vehicle '544'; waited too long (jam), lane='D2_0', time=57126.00.\n",
      "Warning: Teleporting vehicle '614'; waited too long (wrong lane), lane='L12_2', time=57142.00.\n",
      "Warning: Vehicle '614' ends teleporting on edge 'L15', time=57163.00.\n",
      "Warning: Teleporting vehicle '615'; waited too long (wrong lane), lane='L12_2', time=57176.00.\n"
     ]
    },
    {
     "name": "stdout",
     "output_type": "stream",
     "text": [
      "Step #57200.00 (11ms ~= 90.91*RT, ~82636.36UPS, vehicles TOT 2908 ACT 909 BUF 65)         \r"
     ]
    },
    {
     "name": "stderr",
     "output_type": "stream",
     "text": [
      "Warning: Teleporting vehicle '616'; waited too long (wrong lane), lane='L12_2', time=57210.00.\n",
      "Warning: Teleporting vehicle '617'; waited too long (wrong lane), lane='L12_2', time=57211.00.\n",
      "Warning: Vehicle '615' ends teleporting on edge 'L15', time=57213.00.\n",
      "Warning: Teleporting vehicle '712'; waited too long (jam), lane='D2_1', time=57242.00.\n",
      "Warning: Teleporting vehicle '713'; waited too long (jam), lane='D2_1', time=57243.00.\n",
      "Warning: Teleporting vehicle '619'; waited too long (wrong lane), lane='L12_2', time=57252.00.\n",
      "Warning: Vehicle '616' ends teleporting on edge 'L15', time=57287.00.\n"
     ]
    },
    {
     "name": "stdout",
     "output_type": "stream",
     "text": [
      "Step #57300.00 (11ms ~= 90.91*RT, ~82545.45UPS, vehicles TOT 2959 ACT 908 BUF 107)        \r"
     ]
    },
    {
     "name": "stderr",
     "output_type": "stream",
     "text": [
      "Warning: Vehicle '617' ends teleporting on edge 'L15', time=57332.00.\n",
      "Warning: Teleporting vehicle '1384'; waited too long (jam), lane='L2_1', time=57342.00.\n"
     ]
    },
    {
     "name": "stdout",
     "output_type": "stream",
     "text": [
      "Step #57400.00 (9ms ~= 111.11*RT, ~100777.78UPS, vehicles TOT 3009 ACT 907 BUF 151)       \r"
     ]
    },
    {
     "name": "stderr",
     "output_type": "stream",
     "text": [
      "Warning: Vehicle '619' ends teleporting on edge 'L15', time=57407.00.\n",
      "Warning: Teleporting vehicle '479'; waited too long (jam), lane='L2_0', time=57415.00.\n",
      "Warning: Vehicle '479' ends teleporting on edge 'L12', time=57415.00.\n",
      "Warning: Teleporting vehicle '545'; waited too long (jam), lane='D2_0', time=57432.00.\n"
     ]
    },
    {
     "name": "stdout",
     "output_type": "stream",
     "text": [
      "Step #57500.00 (10ms ~= 100.00*RT, ~90500.00UPS, vehicles TOT 3059 ACT 905 BUF 193)       \r"
     ]
    },
    {
     "name": "stderr",
     "output_type": "stream",
     "text": [
      "Warning: Vehicle '1384' ends teleporting on edge 'L12', time=57517.00.\n",
      "Warning: Teleporting vehicle '1415'; waited too long (jam), lane='D2_1', time=57552.00.\n",
      "Warning: Teleporting vehicle '626'; waited too long (wrong lane), lane='L12_2', time=57598.00.\n"
     ]
    },
    {
     "name": "stdout",
     "output_type": "stream",
     "text": [
      "Step #57600.00 (14ms ~= 71.43*RT, ~64000.00UPS, vehicles TOT 3109 ACT 896 BUF 236)        \n",
      "####### 90 ########\n",
      "##### n=109 #####\n",
      "##### best_value=-0.005921164764035104 #####\n",
      "printing /Users/rodrse/Documents/DemandCalibration/notebooks/od_calibration_sumo_files/quickstart/data/iter_quickstart.current_od.xml\n",
      "### Runing: iter\n",
      "Success.\n",
      "Step #56900.00 (9ms ~= 111.11*RT, ~92333.33UPS, vehicles TOT 2512 ACT 831 BUF 0)          \r"
     ]
    },
    {
     "name": "stderr",
     "output_type": "stream",
     "text": [
      "Warning: Teleporting vehicle '466'; waited too long (wrong lane), lane='L15_0', time=56924.00.\n",
      "Warning: Vehicle '466' ends teleporting on edge 'L18', time=56924.00.\n",
      "Warning: Teleporting vehicle '601'; waited too long (wrong lane), lane='L12_2', time=56991.00.\n",
      "Warning: Vehicle '601' ends teleporting on edge 'L15', time=56991.00.\n"
     ]
    },
    {
     "name": "stdout",
     "output_type": "stream",
     "text": [
      "Step #57100.00 (10ms ~= 100.00*RT, ~89800.00UPS, vehicles TOT 2684 ACT 898 BUF 0)         \r"
     ]
    },
    {
     "name": "stderr",
     "output_type": "stream",
     "text": [
      "Warning: Teleporting vehicle '500'; waited too long (jam), lane=':1_3_1', time=57116.00.\n",
      "Warning: Vehicle '500' ends teleporting on edge 'L12', time=57116.00.\n",
      "Warning: Teleporting vehicle '606'; waited too long (wrong lane), lane='L12_2', time=57145.00.\n",
      "Warning: Vehicle '606' ends teleporting on edge 'L15', time=57145.00.\n",
      "Warning: Teleporting vehicle '607'; waited too long (wrong lane), lane='L12_2', time=57163.00.\n",
      "Warning: Vehicle '607' ends teleporting on edge 'L15', time=57179.00.\n",
      "Warning: Teleporting vehicle '609'; waited too long (wrong lane), lane='L12_2', time=57182.00.\n"
     ]
    },
    {
     "name": "stdout",
     "output_type": "stream",
     "text": [
      "Step #57200.00 (11ms ~= 90.91*RT, ~84636.36UPS, vehicles TOT 2769 ACT 931 BUF 3)          \r"
     ]
    },
    {
     "name": "stderr",
     "output_type": "stream",
     "text": [
      "Warning: Teleporting vehicle '610'; waited too long (wrong lane), lane='L12_2', time=57202.00.\n",
      "Warning: Vehicle '609' ends teleporting on edge 'L15', time=57230.00.\n",
      "Warning: Vehicle '610' ends teleporting on edge 'L15', time=57231.00.\n",
      "Warning: Teleporting vehicle '1328'; waited too long (jam), lane=':1_3_2', time=57233.00.\n",
      "Warning: Teleporting vehicle '694'; waited too long (jam), lane='L2_1', time=57245.00.\n",
      "Warning: Vehicle '694' ends teleporting on edge 'L12', time=57245.00.\n",
      "Warning: Teleporting vehicle '695'; waited too long (jam), lane='L2_1', time=57246.00.\n",
      "Warning: Vehicle '695' ends teleporting on edge 'L12', time=57246.00.\n",
      "Warning: Teleporting vehicle '696'; waited too long (jam), lane='L2_1', time=57254.00.\n",
      "Warning: Vehicle '696' ends teleporting on edge 'L12', time=57254.00.\n",
      "Warning: Teleporting vehicle '615'; waited too long (wrong lane), lane='L12_2', time=57298.00.\n",
      "Warning: Vehicle '615' ends teleporting on edge 'L15', time=57298.00.\n"
     ]
    },
    {
     "name": "stdout",
     "output_type": "stream",
     "text": [
      "Step #57300.00 (9ms ~= 111.11*RT, ~102777.78UPS, vehicles TOT 2816 ACT 925 BUF 41)        \r"
     ]
    },
    {
     "name": "stderr",
     "output_type": "stream",
     "text": [
      "Warning: Teleporting vehicle '616'; waited too long (wrong lane), lane='L12_2', time=57323.00.\n",
      "Warning: Vehicle '616' ends teleporting on edge 'L15', time=57342.00.\n",
      "Warning: Teleporting vehicle '618'; waited too long (wrong lane), lane='L12_2', time=57348.00.\n",
      "Warning: Vehicle '618' ends teleporting on edge 'L15', time=57373.00.\n",
      "Warning: Teleporting vehicle '619'; waited too long (wrong lane), lane='L12_2', time=57374.00.\n",
      "Warning: Teleporting vehicle '620'; waited too long (wrong lane), lane='L12_2', time=57375.00.\n",
      "Warning: Teleporting vehicle '737'; waited too long (jam), lane='D2_1', time=57375.00.\n",
      "Warning: Vehicle '737' ends teleporting on edge 'L2', time=57375.00.\n",
      "Warning: Teleporting vehicle '738'; waited too long (jam), lane='D2_1', time=57380.00.\n",
      "Warning: Vehicle '738' ends teleporting on edge 'L2', time=57380.00.\n",
      "Warning: Vehicle '619' ends teleporting on edge 'L15', time=57384.00.\n",
      "Warning: Vehicle '620' ends teleporting on edge 'L15', time=57400.00.\n",
      "Warning: Teleporting vehicle '621'; waited too long (wrong lane), lane='L12_2', time=57403.00.\n"
     ]
    },
    {
     "name": "stdout",
     "output_type": "stream",
     "text": [
      "Step #57400.00 (10ms ~= 100.00*RT, ~91200.00UPS, vehicles TOT 2862 ACT 912 BUF 81)        \r"
     ]
    },
    {
     "name": "stderr",
     "output_type": "stream",
     "text": [
      "Warning: Teleporting vehicle '501'; waited too long (jam), lane=':1_3_1', time=57426.00.\n",
      "Warning: Vehicle '501' ends teleporting on edge 'L12', time=57426.00.\n",
      "Warning: Teleporting vehicle '502'; waited too long (jam), lane='L2_0', time=57427.00.\n",
      "Warning: Vehicle '502' ends teleporting on edge 'L12', time=57427.00.\n",
      "Warning: Vehicle '621' ends teleporting on edge 'L15', time=57448.00.\n"
     ]
    },
    {
     "name": "stdout",
     "output_type": "stream",
     "text": [
      "Step #57500.00 (8ms ~= 125.00*RT, ~114000.00UPS, vehicles TOT 2908 ACT 912 BUF 122)       \r"
     ]
    },
    {
     "name": "stderr",
     "output_type": "stream",
     "text": [
      "Warning: Teleporting vehicle '568'; waited too long (jam), lane='D2_0', time=57509.00.\n",
      "Warning: Vehicle '568' ends teleporting on edge 'L2', time=57509.00.\n",
      "Warning: Teleporting vehicle '624'; waited too long (wrong lane), lane='L12_2', time=57524.00.\n",
      "Warning: Vehicle '624' ends teleporting on edge 'L15', time=57524.00.\n",
      "Warning: Teleporting vehicle '1329'; waited too long (jam), lane=':1_3_1', time=57556.00.\n"
     ]
    },
    {
     "name": "stdout",
     "output_type": "stream",
     "text": [
      "Step #57600.00 (11ms ~= 90.91*RT, ~82363.64UPS, vehicles TOT 2955 ACT 906 BUF 162)        \n",
      "####### 91 ########\n",
      "##### n=110 #####\n",
      "##### best_value=-0.005921164764035104 #####\n",
      "printing /Users/rodrse/Documents/DemandCalibration/notebooks/od_calibration_sumo_files/quickstart/data/iter_quickstart.current_od.xml\n",
      "### Runing: iter\n",
      "Success.\n",
      "Step #57600.00 (5ms ~= 200.00*RT, ~107200.00UPS, vehicles TOT 2677 ACT 536 BUF 0)         \n",
      "####### 92 ########\n",
      "##### n=111 #####\n",
      "##### best_value=-0.005921164764035104 #####\n",
      "printing /Users/rodrse/Documents/DemandCalibration/notebooks/od_calibration_sumo_files/quickstart/data/iter_quickstart.current_od.xml\n",
      "### Runing: iter\n",
      "Success.\n",
      "Step #56300.00 (9ms ~= 111.11*RT, ~111444.44UPS, vehicles TOT 2249 ACT 1003 BUF 0)        \r"
     ]
    },
    {
     "name": "stderr",
     "output_type": "stream",
     "text": [
      "Warning: Teleporting vehicle '406'; waited too long (wrong lane), lane='L15_0', time=56376.00.\n",
      "Warning: Vehicle '406' ends teleporting on edge 'L18', time=56376.00.\n",
      "Warning: Teleporting vehicle '410'; waited too long (wrong lane), lane='L15_0', time=56380.00.\n",
      "Warning: Vehicle '410' ends teleporting on edge 'L18', time=56380.00.\n"
     ]
    },
    {
     "name": "stdout",
     "output_type": "stream",
     "text": [
      "Step #56400.00 (11ms ~= 90.91*RT, ~92454.55UPS, vehicles TOT 2329 ACT 1017 BUF 18)        \r"
     ]
    },
    {
     "name": "stderr",
     "output_type": "stream",
     "text": [
      "Warning: Teleporting vehicle '422'; waited too long (wrong lane), lane='L15_0', time=56454.00.\n",
      "Warning: Vehicle '422' ends teleporting on edge 'L18', time=56454.00.\n",
      "Warning: Teleporting vehicle '437'; waited too long (wrong lane), lane='L15_0', time=56455.00.\n",
      "Warning: Vehicle '437' ends teleporting on edge 'L18', time=56455.00.\n",
      "Warning: Teleporting vehicle '441'; waited too long (wrong lane), lane='L15_0', time=56456.00.\n",
      "Warning: Vehicle '441' ends teleporting on edge 'L18', time=56456.00.\n",
      "Warning: Teleporting vehicle '431'; waited too long (wrong lane), lane='L15_0', time=56457.00.\n",
      "Warning: Vehicle '431' ends teleporting on edge 'L18', time=56457.00.\n",
      "Warning: Teleporting vehicle '435'; waited too long (wrong lane), lane='L15_0', time=56458.00.\n",
      "Warning: Vehicle '435' ends teleporting on edge 'L18', time=56458.00.\n"
     ]
    },
    {
     "name": "stdout",
     "output_type": "stream",
     "text": [
      "Step #56700.00 (11ms ~= 90.91*RT, ~86363.64UPS, vehicles TOT 2547 ACT 950 BUF 95)         \r"
     ]
    },
    {
     "name": "stderr",
     "output_type": "stream",
     "text": [
      "Warning: Teleporting vehicle '616'; waited too long (wrong lane), lane='L12_2', time=56765.00.\n",
      "Warning: Vehicle '616' ends teleporting on edge 'L15', time=56765.00.\n",
      "Warning: Teleporting vehicle '617'; waited too long (wrong lane), lane='L12_2', time=56787.00.\n",
      "Warning: Vehicle '617' ends teleporting on edge 'L15', time=56787.00.\n",
      "Warning: Teleporting vehicle '483'; waited too long (jam), lane='L2_0', time=56788.00.\n",
      "Warning: Vehicle '483' ends teleporting on edge 'L12', time=56788.00.\n"
     ]
    },
    {
     "name": "stdout",
     "output_type": "stream",
     "text": [
      "Step #56800.00 (14ms ~= 71.43*RT, ~65857.14UPS, vehicles TOT 2619 ACT 922 BUF 120)        \r"
     ]
    },
    {
     "name": "stderr",
     "output_type": "stream",
     "text": [
      "Warning: Teleporting vehicle '619'; waited too long (wrong lane), lane='L12_2', time=56824.00.\n",
      "Warning: Teleporting vehicle '620'; waited too long (wrong lane), lane='L12_2', time=56848.00.\n",
      "Warning: Vehicle '619' ends teleporting on edge 'L15', time=56871.00.\n",
      "Warning: Teleporting vehicle '621'; waited too long (wrong lane), lane='L12_2', time=56875.00.\n"
     ]
    },
    {
     "name": "stdout",
     "output_type": "stream",
     "text": [
      "Step #56900.00 (10ms ~= 100.00*RT, ~88400.00UPS, vehicles TOT 2680 ACT 884 BUF 157)       \r"
     ]
    },
    {
     "name": "stderr",
     "output_type": "stream",
     "text": [
      "Warning: Teleporting vehicle '623'; waited too long (wrong lane), lane='L12_2', time=56928.00.\n",
      "Warning: Vehicle '620' ends teleporting on edge 'L15', time=56943.00.\n",
      "Warning: Vehicle '621' ends teleporting on edge 'L15', time=56988.00.\n",
      "Warning: Teleporting vehicle '1651'; waited too long (jam), lane='L2_1', time=57016.00.\n"
     ]
    },
    {
     "name": "stdout",
     "output_type": "stream",
     "text": [
      "Step #57000.00 (8ms ~= 125.00*RT, ~105125.00UPS, vehicles TOT 2724 ACT 841 BUF 210)       \r"
     ]
    },
    {
     "name": "stderr",
     "output_type": "stream",
     "text": [
      "Warning: Teleporting vehicle '672'; waited too long (jam), lane='L2_1', time=57018.00.\n",
      "Warning: Vehicle '672' ends teleporting on edge 'L12', time=57018.00.\n",
      "Warning: Vehicle '623' ends teleporting on edge 'L15', time=57024.00.\n",
      "Warning: Teleporting vehicle '627'; waited too long (wrong lane), lane='L12_2', time=57043.00.\n",
      "Warning: Teleporting vehicle '628'; waited too long (wrong lane), lane='L12_2', time=57073.00.\n",
      "Warning: Vehicle '627' ends teleporting on edge 'L15', time=57080.00.\n",
      "Warning: Teleporting vehicle '484'; waited too long (jam), lane='L2_0', time=57093.00.\n",
      "Warning: Vehicle '484' ends teleporting on edge 'L12', time=57093.00.\n"
     ]
    },
    {
     "name": "stdout",
     "output_type": "stream",
     "text": [
      "Step #57100.00 (5ms ~= 200.00*RT, ~166200.00UPS, vehicles TOT 2767 ACT 831 BUF 265)       \r"
     ]
    },
    {
     "name": "stderr",
     "output_type": "stream",
     "text": [
      "Warning: Teleporting vehicle '629'; waited too long (wrong lane), lane='L12_2', time=57111.00.\n",
      "Warning: Vehicle '1651' ends teleporting on edge 'L12', time=57129.00.\n",
      "Warning: Vehicle '628' ends teleporting on edge 'L15', time=57136.00.\n",
      "Warning: Teleporting vehicle '630'; waited too long (wrong lane), lane='L12_2', time=57160.00.\n",
      "Warning: Teleporting vehicle '705'; waited too long (jam), lane='D2_1', time=57162.00.\n",
      "Warning: Vehicle '705' ends teleporting on edge 'L2', time=57162.00.\n",
      "Warning: Teleporting vehicle '552'; waited too long (jam), lane='D2_0', time=57184.00.\n",
      "Warning: Vehicle '552' ends teleporting on edge 'L2', time=57184.00.\n",
      "Warning: Vehicle '629' ends teleporting on edge 'L15', time=57193.00.\n"
     ]
    },
    {
     "name": "stdout",
     "output_type": "stream",
     "text": [
      "Step #57200.00 (6ms ~= 166.67*RT, ~139333.33UPS, vehicles TOT 2822 ACT 836 BUF 308)       \r"
     ]
    },
    {
     "name": "stderr",
     "output_type": "stream",
     "text": [
      "Warning: Vehicle '630' ends teleporting on edge 'L15', time=57237.00.\n"
     ]
    },
    {
     "name": "stdout",
     "output_type": "stream",
     "text": [
      "Step #57300.00 (9ms ~= 111.11*RT, ~96000.00UPS, vehicles TOT 2895 ACT 864 BUF 333)        \r"
     ]
    },
    {
     "name": "stderr",
     "output_type": "stream",
     "text": [
      "Warning: Teleporting vehicle '636'; waited too long (wrong lane), lane='L12_2', time=57323.00.\n",
      "Warning: Teleporting vehicle '1652'; waited too long (jam), lane='L2_1', time=57326.00.\n",
      "Warning: Vehicle '1652' ends teleporting on edge 'L12', time=57326.00.\n",
      "Warning: Vehicle '636' ends teleporting on edge 'L15', time=57368.00.\n",
      "Warning: Teleporting vehicle '637'; waited too long (wrong lane), lane='L12_2', time=57370.00.\n"
     ]
    },
    {
     "name": "stdout",
     "output_type": "stream",
     "text": [
      "Step #57400.00 (9ms ~= 111.11*RT, ~98777.78UPS, vehicles TOT 2965 ACT 889 BUF 360)        \r"
     ]
    },
    {
     "name": "stderr",
     "output_type": "stream",
     "text": [
      "Warning: Teleporting vehicle '639'; waited too long (wrong lane), lane='L12_2', time=57435.00.\n",
      "Warning: Teleporting vehicle '486'; waited too long (jam), lane='L2_0', time=57437.00.\n",
      "Warning: Vehicle '486' ends teleporting on edge 'L12', time=57437.00.\n",
      "Warning: Vehicle '637' ends teleporting on edge 'L15', time=57449.00.\n",
      "Warning: Vehicle '639' ends teleporting on edge 'L15', time=57477.00.\n",
      "Warning: Teleporting vehicle '553'; waited too long (jam), lane='D2_0', time=57490.00.\n"
     ]
    },
    {
     "name": "stdout",
     "output_type": "stream",
     "text": [
      "Step #57500.00 (8ms ~= 125.00*RT, ~109000.00UPS, vehicles TOT 3009 ACT 872 BUF 415)       \r"
     ]
    },
    {
     "name": "stderr",
     "output_type": "stream",
     "text": [
      "Warning: Teleporting vehicle '707'; waited too long (jam), lane='D2_1', time=57510.00.\n",
      "Warning: Teleporting vehicle '641'; waited too long (wrong lane), lane='L12_2', time=57511.00.\n",
      "Warning: Vehicle '641' ends teleporting on edge 'L15', time=57546.00.\n"
     ]
    },
    {
     "name": "stdout",
     "output_type": "stream",
     "text": [
      "Step #57600.00 (8ms ~= 125.00*RT, ~108750.00UPS, vehicles TOT 3053 ACT 870 BUF 468)       \n",
      "####### 93 ########\n",
      "##### n=112 #####\n",
      "##### best_value=-0.005921164764035104 #####\n",
      "printing /Users/rodrse/Documents/DemandCalibration/notebooks/od_calibration_sumo_files/quickstart/data/iter_quickstart.current_od.xml\n",
      "### Runing: iter\n",
      "Success.\n",
      "Step #57600.00 (7ms ~= 142.86*RT, ~97857.14UPS, vehicles TOT 2701 ACT 685 BUF 0)          \n",
      "####### 94 ########\n",
      "##### n=113 #####\n",
      "##### best_value=-0.005921164764035104 #####\n",
      "printing /Users/rodrse/Documents/DemandCalibration/notebooks/od_calibration_sumo_files/quickstart/data/iter_quickstart.current_od.xml\n",
      "### Runing: iter\n",
      "Success.\n",
      "Step #57400.00 (9ms ~= 111.11*RT, ~88555.56UPS, vehicles TOT 2590 ACT 797 BUF 0)          \r"
     ]
    },
    {
     "name": "stderr",
     "output_type": "stream",
     "text": [
      "Warning: Teleporting vehicle '480'; waited too long (wrong lane), lane='L15_0', time=57412.00.\n",
      "Warning: Vehicle '480' ends teleporting on edge 'L18', time=57412.00.\n",
      "Warning: Teleporting vehicle '489'; waited too long (wrong lane), lane='L15_0', time=57430.00.\n",
      "Warning: Vehicle '489' ends teleporting on edge 'L18', time=57430.00.\n",
      "Warning: Teleporting vehicle '491'; waited too long (wrong lane), lane='L15_0', time=57431.00.\n",
      "Warning: Vehicle '491' ends teleporting on edge 'L18', time=57431.00.\n"
     ]
    },
    {
     "name": "stdout",
     "output_type": "stream",
     "text": [
      "Step #57500.00 (11ms ~= 90.91*RT, ~74909.09UPS, vehicles TOT 2666 ACT 824 BUF 0)          \r"
     ]
    },
    {
     "name": "stderr",
     "output_type": "stream",
     "text": [
      "Warning: Teleporting vehicle '636'; waited too long (wrong lane), lane='L12_2', time=57511.00.\n",
      "Warning: Vehicle '636' ends teleporting on edge 'L15', time=57511.00.\n"
     ]
    },
    {
     "name": "stdout",
     "output_type": "stream",
     "text": [
      "Step #57600.00 (9ms ~= 111.11*RT, ~93888.89UPS, vehicles TOT 2739 ACT 845 BUF 3)          \n",
      "####### 95 ########\n",
      "##### n=114 #####\n",
      "##### best_value=-0.005921164764035104 #####\n",
      "printing /Users/rodrse/Documents/DemandCalibration/notebooks/od_calibration_sumo_files/quickstart/data/iter_quickstart.current_od.xml\n",
      "### Runing: iter\n",
      "Success.\n",
      "Step #57600.00 (9ms ~= 111.11*RT, ~78333.33UPS, vehicles TOT 2546 ACT 705 BUF 0)          \n",
      "####### 96 ########\n",
      "##### n=115 #####\n",
      "##### best_value=-0.005921164764035104 #####\n",
      "printing /Users/rodrse/Documents/DemandCalibration/notebooks/od_calibration_sumo_files/quickstart/data/iter_quickstart.current_od.xml\n",
      "### Runing: iter\n",
      "Success.\n",
      "Step #56700.00 (7ms ~= 142.86*RT, ~103571.43UPS, vehicles TOT 2325 ACT 725 BUF 171)       \r"
     ]
    },
    {
     "name": "stderr",
     "output_type": "stream",
     "text": [
      "Warning: Teleporting vehicle '621'; waited too long (wrong lane), lane='L12_2', time=56703.00.\n",
      "Warning: Vehicle '621' ends teleporting on edge 'L15', time=56703.00.\n"
     ]
    },
    {
     "name": "stdout",
     "output_type": "stream",
     "text": [
      "Step #56800.00 (7ms ~= 142.86*RT, ~107285.71UPS, vehicles TOT 2390 ACT 751 BUF 198)       \r"
     ]
    },
    {
     "name": "stderr",
     "output_type": "stream",
     "text": [
      "Warning: Teleporting vehicle '628'; waited too long (wrong lane), lane='L12_2', time=56835.00.\n",
      "Warning: Vehicle '628' ends teleporting on edge 'L15', time=56835.00.\n",
      "Warning: Teleporting vehicle '484'; waited too long (jam), lane='L2_0', time=56837.00.\n",
      "Warning: Vehicle '484' ends teleporting on edge 'L12', time=56837.00.\n"
     ]
    },
    {
     "name": "stdout",
     "output_type": "stream",
     "text": [
      "Step #56900.00 (8ms ~= 125.00*RT, ~96000.00UPS, vehicles TOT 2454 ACT 768 BUF 226)        \r"
     ]
    },
    {
     "name": "stderr",
     "output_type": "stream",
     "text": [
      "Warning: Teleporting vehicle '633'; waited too long (wrong lane), lane='L12_2', time=56964.00.\n",
      "Warning: Vehicle '633' ends teleporting on edge 'L15', time=56964.00.\n"
     ]
    },
    {
     "name": "stdout",
     "output_type": "stream",
     "text": [
      "Step #57000.00 (8ms ~= 125.00*RT, ~98500.00UPS, vehicles TOT 2520 ACT 788 BUF 253)        \r"
     ]
    },
    {
     "name": "stderr",
     "output_type": "stream",
     "text": [
      "Warning: Teleporting vehicle '636'; waited too long (wrong lane), lane='L12_2', time=57039.00.\n",
      "Warning: Vehicle '636' ends teleporting on edge 'L15', time=57039.00.\n"
     ]
    },
    {
     "name": "stdout",
     "output_type": "stream",
     "text": [
      "Step #57100.00 (8ms ~= 125.00*RT, ~98500.00UPS, vehicles TOT 2569 ACT 788 BUF 295)        \r"
     ]
    },
    {
     "name": "stderr",
     "output_type": "stream",
     "text": [
      "Warning: Teleporting vehicle '642'; waited too long (wrong lane), lane='L12_2', time=57156.00.\n",
      "Warning: Vehicle '642' ends teleporting on edge 'L15', time=57156.00.\n",
      "Warning: Teleporting vehicle '486'; waited too long (jam), lane='L2_0', time=57157.00.\n",
      "Warning: Vehicle '486' ends teleporting on edge 'L12', time=57157.00.\n"
     ]
    },
    {
     "name": "stdout",
     "output_type": "stream",
     "text": [
      "Step #57200.00 (8ms ~= 125.00*RT, ~97500.00UPS, vehicles TOT 2607 ACT 780 BUF 350)        \r"
     ]
    },
    {
     "name": "stderr",
     "output_type": "stream",
     "text": [
      "Warning: Teleporting vehicle '1659'; waited too long (jam), lane='L2_1', time=57226.00.\n",
      "Warning: Teleporting vehicle '680'; waited too long (jam), lane='L2_1', time=57227.00.\n",
      "Warning: Vehicle '680' ends teleporting on edge 'L12', time=57227.00.\n",
      "Warning: Teleporting vehicle '646'; waited too long (wrong lane), lane='L12_2', time=57264.00.\n",
      "Warning: Vehicle '646' ends teleporting on edge 'L15', time=57264.00.\n"
     ]
    },
    {
     "name": "stdout",
     "output_type": "stream",
     "text": [
      "Step #57300.00 (9ms ~= 111.11*RT, ~86666.67UPS, vehicles TOT 2645 ACT 780 BUF 405)        \r"
     ]
    },
    {
     "name": "stderr",
     "output_type": "stream",
     "text": [
      "Warning: Teleporting vehicle '648'; waited too long (wrong lane), lane='L12_2', time=57356.00.\n",
      "Warning: Vehicle '648' ends teleporting on edge 'L15', time=57396.00.\n"
     ]
    },
    {
     "name": "stdout",
     "output_type": "stream",
     "text": [
      "Step #57400.00 (8ms ~= 125.00*RT, ~96625.00UPS, vehicles TOT 2691 ACT 773 BUF 451)        \r"
     ]
    },
    {
     "name": "stderr",
     "output_type": "stream",
     "text": [
      "Warning: Teleporting vehicle '487'; waited too long (jam), lane='L2_0', time=57462.00.\n",
      "Warning: Vehicle '487' ends teleporting on edge 'L12', time=57462.00.\n"
     ]
    },
    {
     "name": "stdout",
     "output_type": "stream",
     "text": [
      "Step #57500.00 (9ms ~= 111.11*RT, ~85111.11UPS, vehicles TOT 2729 ACT 766 BUF 505)        \r"
     ]
    },
    {
     "name": "stderr",
     "output_type": "stream",
     "text": [
      "Warning: Teleporting vehicle '654'; waited too long (wrong lane), lane='L12_2', time=57508.00.\n",
      "Warning: Teleporting vehicle '655'; waited too long (wrong lane), lane='L12_2', time=57509.00.\n",
      "Warning: Vehicle '654' ends teleporting on edge 'L15', time=57532.00.\n",
      "Warning: Teleporting vehicle '1660'; waited too long (jam), lane='L2_1', time=57536.00.\n",
      "Warning: Teleporting vehicle '554'; waited too long (jam), lane='D2_0', time=57554.00.\n",
      "Warning: Vehicle '554' ends teleporting on edge 'L2', time=57554.00.\n",
      "Warning: Vehicle '655' ends teleporting on edge 'L15', time=57582.00.\n"
     ]
    },
    {
     "name": "stdout",
     "output_type": "stream",
     "text": [
      "Step #57600.00 (9ms ~= 111.11*RT, ~85333.33UPS, vehicles TOT 2767 ACT 768 BUF 560)        \n",
      "####### 97 ########\n",
      "##### n=116 #####\n",
      "##### best_value=-0.005921164764035104 #####\n",
      "printing /Users/rodrse/Documents/DemandCalibration/notebooks/od_calibration_sumo_files/quickstart/data/iter_quickstart.current_od.xml\n",
      "### Runing: iter\n",
      "Success.\n",
      "Step #57600.00 (7ms ~= 142.86*RT, ~83857.14UPS, vehicles TOT 2589 ACT 587 BUF 0)          \n",
      "####### 98 ########\n",
      "##### n=117 #####\n",
      "##### best_value=-0.005921164764035104 #####\n",
      "printing /Users/rodrse/Documents/DemandCalibration/notebooks/od_calibration_sumo_files/quickstart/data/iter_quickstart.current_od.xml\n",
      "### Runing: iter\n",
      "Success.\n",
      "Step #57000.00 (10ms ~= 100.00*RT, ~78600.00UPS, vehicles TOT 2571 ACT 786 BUF 47)        \r"
     ]
    },
    {
     "name": "stderr",
     "output_type": "stream",
     "text": [
      "Warning: Teleporting vehicle '609'; waited too long (wrong lane), lane='L12_2', time=57049.00.\n",
      "Warning: Vehicle '609' ends teleporting on edge 'L15', time=57099.00.\n"
     ]
    },
    {
     "name": "stdout",
     "output_type": "stream",
     "text": [
      "Step #57100.00 (10ms ~= 100.00*RT, ~81300.00UPS, vehicles TOT 2650 ACT 813 BUF 55)        \r"
     ]
    },
    {
     "name": "stderr",
     "output_type": "stream",
     "text": [
      "Warning: Teleporting vehicle '616'; waited too long (wrong lane), lane='L12_2', time=57162.00.\n",
      "Warning: Vehicle '616' ends teleporting on edge 'L15', time=57162.00.\n"
     ]
    },
    {
     "name": "stdout",
     "output_type": "stream",
     "text": [
      "Step #57200.00 (11ms ~= 90.91*RT, ~75545.45UPS, vehicles TOT 2725 ACT 831 BUF 68)         \r"
     ]
    },
    {
     "name": "stderr",
     "output_type": "stream",
     "text": [
      "Warning: Teleporting vehicle '620'; waited too long (wrong lane), lane='L12_2', time=57275.00.\n",
      "Warning: Vehicle '620' ends teleporting on edge 'L15', time=57275.00.\n"
     ]
    },
    {
     "name": "stdout",
     "output_type": "stream",
     "text": [
      "Step #57300.00 (10ms ~= 100.00*RT, ~85200.00UPS, vehicles TOT 2801 ACT 852 BUF 78)        \r"
     ]
    },
    {
     "name": "stderr",
     "output_type": "stream",
     "text": [
      "Warning: Teleporting vehicle '625'; waited too long (wrong lane), lane='L12_2', time=57361.00.\n",
      "Warning: Vehicle '625' ends teleporting on edge 'L15', time=57387.00.\n",
      "Warning: Teleporting vehicle '684'; waited too long (jam), lane=':1_3_2', time=57408.00.\n",
      "Warning: Vehicle '684' ends teleporting on edge 'L12', time=57408.00.\n"
     ]
    },
    {
     "name": "stdout",
     "output_type": "stream",
     "text": [
      "Step #57400.00 (8ms ~= 125.00*RT, ~108000.00UPS, vehicles TOT 2870 ACT 864 BUF 96)        \r"
     ]
    },
    {
     "name": "stderr",
     "output_type": "stream",
     "text": [
      "Warning: Teleporting vehicle '685'; waited too long (jam), lane='L2_1', time=57413.00.\n",
      "Warning: Vehicle '685' ends teleporting on edge 'L12', time=57413.00.\n",
      "Warning: Teleporting vehicle '686'; waited too long (jam), lane='L2_1', time=57419.00.\n",
      "Warning: Vehicle '686' ends teleporting on edge 'L12', time=57419.00.\n",
      "Warning: Teleporting vehicle '630'; waited too long (wrong lane), lane='L12_2', time=57443.00.\n",
      "Warning: Vehicle '630' ends teleporting on edge 'L15', time=57443.00.\n",
      "Warning: Teleporting vehicle '632'; waited too long (wrong lane), lane='L12_2', time=57493.00.\n",
      "Warning: Vehicle '632' ends teleporting on edge 'L15', time=57493.00.\n",
      "Warning: Teleporting vehicle '487'; waited too long (jam), lane=':1_3_1', time=57505.00.\n",
      "Warning: Vehicle '487' ends teleporting on edge 'L12', time=57505.00.\n"
     ]
    },
    {
     "name": "stdout",
     "output_type": "stream",
     "text": [
      "Step #57500.00 (9ms ~= 111.11*RT, ~95888.89UPS, vehicles TOT 2918 ACT 863 BUF 135)        \r"
     ]
    },
    {
     "name": "stderr",
     "output_type": "stream",
     "text": [
      "Warning: Teleporting vehicle '554'; waited too long (jam), lane='D2_0', time=57589.00.\n"
     ]
    },
    {
     "name": "stdout",
     "output_type": "stream",
     "text": [
      "Step #57600.00 (10ms ~= 100.00*RT, ~85600.00UPS, vehicles TOT 2966 ACT 856 BUF 175)       \n",
      "####### 99 ########\n",
      "##### n=118 #####\n",
      "##### best_value=-0.005921164764035104 #####\n",
      "printing /Users/rodrse/Documents/DemandCalibration/notebooks/od_calibration_sumo_files/quickstart/data/iter_quickstart.current_od.xml\n",
      "### Runing: iter\n",
      "Success.\n",
      "Step #57600.00 (7ms ~= 142.86*RT, ~97428.57UPS, vehicles TOT 2724 ACT 682 BUF 0)          \n",
      "####### 100 ########\n",
      "##### n=119 #####\n",
      "##### best_value=-0.005921164764035104 #####\n",
      "printing /Users/rodrse/Documents/DemandCalibration/notebooks/od_calibration_sumo_files/quickstart/data/iter_quickstart.current_od.xml\n",
      "### Runing: iter\n",
      "Success.\n",
      "Step #57600.00 (9ms ~= 111.11*RT, ~101444.44UPS, vehicles TOT 3110 ACT 913 BUF 73)        \n"
     ]
    },
    {
     "name": "stderr",
     "output_type": "stream",
     "text": [
      "Warning: Teleporting vehicle '2146'; waited too long (jam), lane=':2_3_0', time=57586.00.\n",
      "Warning: Vehicle '2146' ends teleporting on edge 'L14', time=57586.00.\n",
      "Warning: Teleporting vehicle '3073'; waited too long (jam), lane='L4_0', time=57587.00.\n",
      "Warning: Vehicle '3073' ends teleporting on edge 'L14', time=57587.00.\n"
     ]
    }
   ],
   "source": [
    "\n",
    "### Run loop\n",
    "NITER = 100\n",
    "output = [df_0]\n",
    "best_value = []\n",
    "\n",
    "for i in range(NITER):\n",
    "    \n",
    "    print(f\"####### {i+1} ########\")\n",
    "    \n",
    "    df_ = df_0 if i == 0 else df_i\n",
    "    \n",
    "    n_obs = df_.shape[0]\n",
    "    print(f\"##### n={n_obs} #####\")\n",
    "    \n",
    "    # Training data\n",
    "    train_X = torch.from_numpy(df_[[\"x1\",\"x2\",\"x3\",\"x4\"]].values)    \n",
    "    train_X_norm = normalize(train_X,bounds)\n",
    "    \n",
    "    train_Y = -torch.from_numpy(df_[[\"loss_estimate\"]].values) # Take negative\n",
    "    \n",
    "    # best value so far\n",
    "    best_y = train_Y.max()\n",
    "    best_value.append(best_y)\n",
    "    print(f\"##### best_value={best_y} #####\")\n",
    "\n",
    "    # Declare model with newest data\n",
    "    gp_model, gp_mll = initialize_gp_model(train_X_norm,train_Y)\n",
    "\n",
    "    # Fit model\n",
    "    fit_gpytorch_mll(gp_mll)\n",
    "\n",
    "    # Construct acquistion function \n",
    "    sampler = StochasticSampler(sample_shape=torch.Size([128]))\n",
    "    qEI = qExpectedImprovement(gp_model, best_f=best_y, sampler=sampler)\n",
    "    \n",
    "    # Maximize acquisition function to get next observation\n",
    "    new_x = optimize_acqf_and_get_observation(acq_func=qEI,bounds=bounds)\n",
    "    \n",
    "    # Query SUMO on new sampling location\n",
    "    df_simulation = objective(new_x.cpu().detach().numpy().reshape(-1))\n",
    "    df_simulation['iter'] = i+1\n",
    "    \n",
    "    # Update history of training data\n",
    "    output.append(df_simulation)\n",
    "    \n",
    "    df_i = pd.concat(output)\n",
    "\n",
    "df = pd.concat(output)"
   ]
  },
  {
   "cell_type": "code",
   "execution_count": 24,
   "metadata": {},
   "outputs": [
    {
     "data": {
      "image/png": "[encoded data removed]",
      "text/plain": [
       "<Figure size 432x288 with 1 Axes>"
      ]
     },
     "metadata": {
      "needs_background": "light"
     },
     "output_type": "display_data"
    },
    {
     "data": {
      "text/html": [
       "<div>\n",
       "<style scoped>\n",
       "    .dataframe tbody tr th:only-of-type {\n",
       "        vertical-align: middle;\n",
       "    }\n",
       "\n",
       "    .dataframe tbody tr th {\n",
       "        vertical-align: top;\n",
       "    }\n",
       "\n",
       "    .dataframe thead th {\n",
       "        text-align: right;\n",
       "    }\n",
       "</style>\n",
       "<table border=\"1\" class=\"dataframe\">\n",
       "  <thead>\n",
       "    <tr style=\"text-align: right;\">\n",
       "      <th></th>\n",
       "      <th>x1</th>\n",
       "      <th>x2</th>\n",
       "      <th>x3</th>\n",
       "      <th>x4</th>\n",
       "      <th>loss_estimate</th>\n",
       "      <th>iter</th>\n",
       "    </tr>\n",
       "  </thead>\n",
       "  <tbody>\n",
       "    <tr>\n",
       "      <th>0</th>\n",
       "      <td>827.374087</td>\n",
       "      <td>734.581889</td>\n",
       "      <td>862.086912</td>\n",
       "      <td>735.884932</td>\n",
       "      <td>0.008225</td>\n",
       "      <td>22</td>\n",
       "    </tr>\n",
       "    <tr>\n",
       "      <th>0</th>\n",
       "      <td>887.000152</td>\n",
       "      <td>696.128760</td>\n",
       "      <td>893.593150</td>\n",
       "      <td>811.491925</td>\n",
       "      <td>0.005921</td>\n",
       "      <td>80</td>\n",
       "    </tr>\n",
       "  </tbody>\n",
       "</table>\n",
       "</div>"
      ],
      "text/plain": [
       "           x1          x2          x3          x4  loss_estimate  iter\n",
       "0  827.374087  734.581889  862.086912  735.884932       0.008225    22\n",
       "0  887.000152  696.128760  893.593150  811.491925       0.005921    80"
      ]
     },
     "execution_count": 24,
     "metadata": {},
     "output_type": "execute_result"
    }
   ],
   "source": [
    "\n",
    "df_plot = df.query('iter>0')\n",
    "import numpy as np\n",
    "import matplotlib.pyplot as plt\n",
    "\n",
    "x = df_plot['iter']\n",
    "y = df_plot['loss_estimate']\n",
    "\n",
    "plt.plot(x, best_value)\n",
    "#plt.legend(title='Parameter where:')\n",
    "plt.show()\n",
    "df.query('loss_estimate<0.010')"
   ]
  },
  {
   "cell_type": "code",
   "execution_count": null,
   "metadata": {},
   "outputs": [],
   "source": []
  }
 ],
 "metadata": {
  "kernelspec": {
   "display_name": "BoTorch",
   "language": "python",
   "name": "python3"
  },
  "language_info": {
   "codemirror_mode": {
    "name": "ipython",
    "version": 3
   },
   "file_extension": ".py",
   "mimetype": "text/x-python",
   "name": "python",
   "nbconvert_exporter": "python",
   "pygments_lexer": "ipython3",
   "version": "3.9.11"
  },
  "orig_nbformat": 4
 },
 "nbformat": 4,
 "nbformat_minor": 2
}
