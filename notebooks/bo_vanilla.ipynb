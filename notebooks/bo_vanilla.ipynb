{
 "cells": [
  {
   "cell_type": "code",
   "execution_count": 1,
   "metadata": {},
   "outputs": [],
   "source": [
    "from sumo_python.helpers.load_experiment_metadata import load_experiment_config\n",
    "\n",
    "input_path = \"/Users/rodrse/Documents/DemandCalibration/notebooks/od_calibration_sumo_files/\"\n",
    "\n",
    "config, sim_setup = load_experiment_config(config=input_path + 'config.json',\n",
    "                        sim_setup=input_path + 'simulation_setups.json',)"
   ]
  },
  {
   "cell_type": "code",
   "execution_count": 3,
   "metadata": {},
   "outputs": [
    {
     "name": "stdout",
     "output_type": "stream",
     "text": [
      "od2trips --no-step-log  --spread.uniform --taz-files /Users/rodrse/Documents/DemandCalibration/notebooks/od_calibration_sumo_files/quickstart/data/quickstart.taz.xml --tazrelation-files /Users/rodrse/Documents/DemandCalibration/notebooks/od_calibration_sumo_files/quickstart/data/quickstart.gt_od.xml -o /Users/rodrse/Documents/DemandCalibration/notebooks/od_calibration_sumo_files/quickstart/data/gt_od_trips.trips.xml \n",
      "Success.\n",
      "sumo --output-prefix gt_ --ignore-route-errors=true --net-file=/Users/rodrse/Documents/DemandCalibration/notebooks/od_calibration_sumo_files/quickstart/data/quickstart.net.xml --routes=/Users/rodrse/Documents/DemandCalibration/notebooks/od_calibration_sumo_files/quickstart/data/gt_od_trips.trips.xml -b 54000 -e 57600 --additional-files /Users/rodrse/Documents/DemandCalibration/notebooks/od_calibration_sumo_files/quickstart/data/quickstart.additional.xml --duration-log.statistics --xml-validation never --vehroutes /Users/rodrse/Documents/DemandCalibration/notebooks/od_calibration_sumo_files/quickstart/data/gt_routes.vehroutes.xml \n",
      "Loading net-file from '/Users/rodrse/Documents/DemandCalibration/notebooks/od_calibration_sumo_files/quickstart/data/quickstart.net.xml' ... done (7ms).\n",
      "Loading additional-files from '/Users/rodrse/Documents/DemandCalibration/notebooks/od_calibration_sumo_files/quickstart/data/quickstart.additional.xml' ... done (1ms).\n",
      "Loading done.\n",
      "Simulation version 1.16.0 started with time: 54000.00.\n",
      "Step #57600.00 (9ms ~= 111.11*RT, ~72888.89UPS, vehicles TOT 2800 ACT 656 BUF 0)          \n",
      "Simulation ended at time: 57600.00\n",
      "Reason: The final simulation step has been reached.\n",
      "Performance: \n",
      " Duration: 16.50s\n",
      " Real time factor: 218.208\n",
      " UPS: 98022.911868\n",
      "Vehicles: \n",
      " Inserted: 2800\n",
      " Running: 656\n",
      " Waiting: 0\n",
      "Statistics (avg of 2144):\n",
      " RouteLength: 4392.77\n",
      " Speed: 11.24\n",
      " Duration: 471.78\n",
      " WaitingTime: 81.10\n",
      " TimeLoss: 153.11\n",
      " DepartDelay: 0.10\n",
      "\n",
      "DijkstraRouter answered 2800 queries and explored 10.01 edges on average.\n",
      "DijkstraRouter spent 0.01s answering queries (0.00ms on average).\n"
     ]
    }
   ],
   "source": [
    "import numpy as np\n",
    "import pandas as pd\n",
    "\n",
    "from sumo_python.helpers.generate_od_xml import generate_od_xml\n",
    "from sumo_python.simulator.run_sumo_and_parse_output import run_sumo_and_parse_output\n",
    "from sumo_python.simulator.ground_truth import run_ground_truth_and_parse\n",
    "from sumo_python.helpers.nrmse_counts import compute_nrmse_counts\n",
    "\n",
    "df_gt_data = run_ground_truth_and_parse(config, sim_setup)\n"
   ]
  },
  {
   "cell_type": "code",
   "execution_count": 4,
   "metadata": {},
   "outputs": [],
   "source": [
    "def objective(x: np.array) -> pd.DataFrame:\n",
    "    \"\"\"Compute objective variable. This is the NRMSE loss between ground-truth output\n",
    "    and the output of the simulation output evaluated at x.\n",
    "\n",
    "    Args:\n",
    "        x (np.array): Numpy array of counts to generate TAZ file from.\n",
    "\n",
    "    Returns:\n",
    "        pd.Dataframe: Data frame of sampling locations and loss esimate.\n",
    "    \"\"\"\n",
    "    prefix_run = 'iter'    \n",
    "    generate_od_xml(x, config, sim_setup, prefix_run)\n",
    "    df_simulated = run_sumo_and_parse_output(config, sim_setup, prefix_run)\n",
    "    loss_estimate = compute_nrmse_counts(df_gt_data, df_simulated)\n",
    "    df_output = pd.DataFrame(x.reshape(-1, len(x)),columns = ['x1','x2','x3','x4'])\n",
    "    df_output['loss_estimate'] = loss_estimate\n",
    "    \n",
    "    return df_output"
   ]
  },
  {
   "attachments": {},
   "cell_type": "markdown",
   "metadata": {},
   "source": [
    "## Vanilla BO with Expected Improvement"
   ]
  },
  {
   "cell_type": "code",
   "execution_count": 5,
   "metadata": {},
   "outputs": [
    {
     "data": {
      "text/plain": [
       "tensor([[ 400.,  400.,  400.,  400.],\n",
       "        [1000., 1000., 1000., 1000.]], dtype=torch.float64)"
      ]
     },
     "execution_count": 5,
     "metadata": {},
     "output_type": "execute_result"
    }
   ],
   "source": [
    "# Bayesian optimization\n",
    "import os\n",
    "import torch\n",
    "import pandas as pd\n",
    "\n",
    "device = torch.device(\"cuda:3\" if torch.cuda.is_available() else \"cpu\")\n",
    "dtype = torch.double\n",
    "\n",
    "### Declare search space\n",
    "# dimensionality of input space\n",
    "d = 4 \n",
    "bounds = torch.tensor([[400,400,400,400],[1000,1000,1000,1000]], device=device, dtype=dtype) \n",
    "bounds\n"
   ]
  },
  {
   "cell_type": "code",
   "execution_count": 6,
   "metadata": {},
   "outputs": [
    {
     "name": "stdout",
     "output_type": "stream",
     "text": [
      "printing /Users/rodrse/Documents/DemandCalibration/notebooks/od_calibration_sumo_files/quickstart/data/iter_quickstart.current_od.xml\n",
      "### Runing: iter\n",
      "od2trips --no-step-log  --spread.uniform --taz-files /Users/rodrse/Documents/DemandCalibration/notebooks/od_calibration_sumo_files/quickstart/data/quickstart.taz.xml --tazrelation-files /Users/rodrse/Documents/DemandCalibration/notebooks/od_calibration_sumo_files/quickstart/data/iter_quickstart.current_od.xml -o /Users/rodrse/Documents/DemandCalibration/notebooks/od_calibration_sumo_files/quickstart/data/iter_od_trips.trips.xml \n",
      "Success.\n",
      "Loading net-file from '/Users/rodrse/Documents/DemandCalibration/notebooks/od_calibration_sumo_files/quickstart/data/quickstart.net.xml' ... done (10ms).\n",
      "Loading additional-files from '/Users/rodrse/Documents/DemandCalibration/notebooks/od_calibration_sumo_files/quickstart/data/quickstart.additional.xml' ... done (4ms).\n",
      "Loading done.\n",
      "Simulation version 1.16.0 started with time: 54000.00.\n",
      "Step #56900.00 (7ms ~= 142.86*RT, ~107285.71UPS, vehicles TOT 2338 ACT 751 BUF 0)         \r"
     ]
    },
    {
     "name": "stderr",
     "output_type": "stream",
     "text": [
      "Warning: Teleporting vehicle '458'; waited too long (wrong lane), lane='L15_0', time=56879.00.\n",
      "Warning: Vehicle '458' ends teleporting on edge 'L18', time=56879.00.\n",
      "Warning: Teleporting vehicle '457'; waited too long (wrong lane), lane='L15_0', time=56880.00.\n",
      "Warning: Vehicle '457' ends teleporting on edge 'L18', time=56880.00.\n",
      "Warning: Teleporting vehicle '401'; waited too long (wrong lane), lane='L15_0', time=56902.00.\n",
      "Warning: Vehicle '401' ends teleporting on edge 'L18', time=56902.00.\n",
      "Warning: Teleporting vehicle '410'; waited too long (wrong lane), lane='L15_0', time=56903.00.\n",
      "Warning: Vehicle '410' ends teleporting on edge 'L18', time=56903.00.\n",
      "Warning: Teleporting vehicle '510'; waited too long (jam), lane='L12_0', time=56934.00.\n",
      "Warning: Vehicle '510' ends teleporting on edge 'L15', time=56934.00.\n",
      "Warning: Teleporting vehicle '518'; waited too long (jam), lane='L12_0', time=56936.00.\n",
      "Warning: Vehicle '518' ends teleporting on edge 'L15', time=56967.00.\n",
      "Warning: Teleporting vehicle '535'; waited too long (jam), lane='L2_0', time=56979.00.\n",
      "Warning: Vehicle '535' ends teleporting on edge 'L12', time=56979.00.\n"
     ]
    },
    {
     "name": "stdout",
     "output_type": "stream",
     "text": [
      "Step #57000.00 (9ms ~= 111.11*RT, ~84444.44UPS, vehicles TOT 2419 ACT 760 BUF 0)          \r"
     ]
    },
    {
     "name": "stderr",
     "output_type": "stream",
     "text": [
      "Warning: Teleporting vehicle '470'; waited too long (wrong lane), lane='L15_0', time=57042.00.\n",
      "Warning: Vehicle '470' ends teleporting on edge 'L18', time=57042.00.\n"
     ]
    },
    {
     "name": "stdout",
     "output_type": "stream",
     "text": [
      "Step #57100.00 (10ms ~= 100.00*RT, ~75900.00UPS, vehicles TOT 2499 ACT 759 BUF 0)         \r"
     ]
    },
    {
     "name": "stderr",
     "output_type": "stream",
     "text": [
      "Warning: Teleporting vehicle '369'; waited too long (jam), lane='L12_1', time=57105.00.\n",
      "Warning: Teleporting vehicle '438'; waited too long (wrong lane), lane='L15_0', time=57111.00.\n",
      "Warning: Vehicle '438' ends teleporting on edge 'L18', time=57111.00.\n",
      "Warning: Teleporting vehicle '462'; waited too long (wrong lane), lane='L15_0', time=57113.00.\n",
      "Warning: Vehicle '462' ends teleporting on edge 'L18', time=57113.00.\n",
      "Warning: Teleporting vehicle '475'; waited too long (wrong lane), lane='L15_0', time=57114.00.\n",
      "Warning: Vehicle '475' ends teleporting on edge 'L18', time=57114.00.\n"
     ]
    },
    {
     "name": "stdout",
     "output_type": "stream",
     "text": [
      "Step #57200.00 (10ms ~= 100.00*RT, ~76700.00UPS, vehicles TOT 2580 ACT 767 BUF 0)         \r"
     ]
    },
    {
     "name": "stderr",
     "output_type": "stream",
     "text": [
      "Warning: Vehicle '369' ends teleporting on edge 'L15', time=57257.00.\n"
     ]
    },
    {
     "name": "stdout",
     "output_type": "stream",
     "text": [
      "Step #57500.00 (8ms ~= 125.00*RT, ~104250.00UPS, vehicles TOT 2821 ACT 834 BUF 0)         \r"
     ]
    },
    {
     "name": "stderr",
     "output_type": "stream",
     "text": [
      "Warning: Teleporting vehicle '674'; waited too long (wrong lane), lane='L12_2', time=57543.00.\n",
      "Warning: Vehicle '674' ends teleporting on edge 'L15', time=57556.00.\n"
     ]
    },
    {
     "name": "stdout",
     "output_type": "stream",
     "text": [
      "Step #57600.00 (11ms ~= 90.91*RT, ~79181.82UPS, vehicles TOT 2902 ACT 871 BUF 0)          \n",
      "Simulation ended at time: 57600.00\n",
      "Reason: The final simulation step has been reached.\n",
      "Performance: \n",
      " Duration: 22.05s\n",
      " Real time factor: 163.288\n",
      " UPS: 92367.306209\n",
      "Vehicles: \n",
      " Inserted: 2902\n",
      " Running: 871\n",
      " Waiting: 0\n",
      " Teleports: 13 (Jam: 4, Wrong Lane: 9)\n",
      "Statistics (avg of 2031):\n",
      " RouteLength: 4398.98\n",
      " Speed: 10.93\n",
      " Duration: 514.63\n",
      " WaitingTime: 102.74\n",
      " TimeLoss: 195.71\n",
      " DepartDelay: 0.47\n",
      "\n",
      "DijkstraRouter answered 2902 queries and explored 10.26 edges on average.\n",
      "DijkstraRouter spent 0.02s answering queries (0.01ms on average).\n",
      "printing /Users/rodrse/Documents/DemandCalibration/notebooks/od_calibration_sumo_files/quickstart/data/iter_quickstart.current_od.xml\n",
      "### Runing: iter\n",
      "od2trips --no-step-log  --spread.uniform --taz-files /Users/rodrse/Documents/DemandCalibration/notebooks/od_calibration_sumo_files/quickstart/data/quickstart.taz.xml --tazrelation-files /Users/rodrse/Documents/DemandCalibration/notebooks/od_calibration_sumo_files/quickstart/data/iter_quickstart.current_od.xml -o /Users/rodrse/Documents/DemandCalibration/notebooks/od_calibration_sumo_files/quickstart/data/iter_od_trips.trips.xml \n",
      "Success.\n",
      "Loading net-file from '/Users/rodrse/Documents/DemandCalibration/notebooks/od_calibration_sumo_files/quickstart/data/quickstart.net.xml' ... done (8ms).\n",
      "Loading additional-files from '/Users/rodrse/Documents/DemandCalibration/notebooks/od_calibration_sumo_files/quickstart/data/quickstart.additional.xml' ... done (2ms).\n",
      "Loading done.\n",
      "Simulation version 1.16.0 started with time: 54000.00.\n",
      "Step #57600.00 (4ms ~= 250.00*RT, ~116500.00UPS, vehicles TOT 2287 ACT 466 BUF 0)         \n",
      "Simulation ended at time: 57600.00\n",
      "Reason: The final simulation step has been reached.\n",
      "Performance: \n",
      " Duration: 10.92s\n",
      " Real time factor: 329.821\n",
      " UPS: 101895.006871\n",
      "Vehicles: \n",
      " Inserted: 2287\n",
      " Running: 466\n",
      " Waiting: 0\n",
      "Statistics (avg of 1821):\n",
      " RouteLength: 4296.69\n",
      " Speed: 12.58\n",
      " Duration: 401.73\n",
      " WaitingTime: 61.00\n",
      " TimeLoss: 90.47\n",
      " DepartDelay: 0.49\n",
      "\n",
      "DijkstraRouter answered 2287 queries and explored 10.16 edges on average.\n",
      "DijkstraRouter spent 0.01s answering queries (0.00ms on average).\n",
      "printing /Users/rodrse/Documents/DemandCalibration/notebooks/od_calibration_sumo_files/quickstart/data/iter_quickstart.current_od.xml\n",
      "### Runing: iter\n",
      "od2trips --no-step-log  --spread.uniform --taz-files /Users/rodrse/Documents/DemandCalibration/notebooks/od_calibration_sumo_files/quickstart/data/quickstart.taz.xml --tazrelation-files /Users/rodrse/Documents/DemandCalibration/notebooks/od_calibration_sumo_files/quickstart/data/iter_quickstart.current_od.xml -o /Users/rodrse/Documents/DemandCalibration/notebooks/od_calibration_sumo_files/quickstart/data/iter_od_trips.trips.xml \n",
      "Success.\n",
      "Loading net-file from '/Users/rodrse/Documents/DemandCalibration/notebooks/od_calibration_sumo_files/quickstart/data/quickstart.net.xml' ... done (7ms).\n",
      "Loading additional-files from '/Users/rodrse/Documents/DemandCalibration/notebooks/od_calibration_sumo_files/quickstart/data/quickstart.additional.xml' ... done (2ms).\n",
      "Loading done.\n",
      "Simulation version 1.16.0 started with time: 54000.00.\n",
      "Step #57600.00 (13ms ~= 76.92*RT, ~77846.15UPS, vehicles TOT 2886 ACT 1012 BUF 0)         \n",
      "Simulation ended at time: 57600.00\n",
      "Reason: The final simulation step has been reached.\n",
      "Performance: \n",
      " Duration: 24.57s\n",
      " Real time factor: 146.508\n",
      " UPS: 94658.269575\n",
      "Vehicles: \n",
      " Inserted: 2886\n",
      " Running: 1012\n",
      " Waiting: 0\n",
      "Statistics (avg of 1874):\n",
      " RouteLength: 4360.38\n",
      " Speed: 10.18\n",
      " Duration: 670.32\n",
      " WaitingTime: 179.20\n",
      " TimeLoss: 354.72\n",
      " DepartDelay: 0.49\n",
      "\n",
      "DijkstraRouter answered 2886 queries and explored 10.29 edges on average.\n",
      "DijkstraRouter spent 0.01s answering queries (0.00ms on average).\n",
      "printing /Users/rodrse/Documents/DemandCalibration/notebooks/od_calibration_sumo_files/quickstart/data/iter_quickstart.current_od.xml\n",
      "### Runing: iter\n",
      "od2trips --no-step-log  --spread.uniform --taz-files /Users/rodrse/Documents/DemandCalibration/notebooks/od_calibration_sumo_files/quickstart/data/quickstart.taz.xml --tazrelation-files /Users/rodrse/Documents/DemandCalibration/notebooks/od_calibration_sumo_files/quickstart/data/iter_quickstart.current_od.xml -o /Users/rodrse/Documents/DemandCalibration/notebooks/od_calibration_sumo_files/quickstart/data/iter_od_trips.trips.xml \n",
      "Success.\n",
      "Loading net-file from '/Users/rodrse/Documents/DemandCalibration/notebooks/od_calibration_sumo_files/quickstart/data/quickstart.net.xml' ... done (7ms).\n",
      "Loading additional-files from '/Users/rodrse/Documents/DemandCalibration/notebooks/od_calibration_sumo_files/quickstart/data/quickstart.additional.xml' ... done (1ms).\n",
      "Loading done.\n",
      "Simulation version 1.16.0 started with time: 54000.00.\n",
      "Step #56300.00 (12ms ~= 83.33*RT, ~59083.33UPS, vehicles TOT 1875 ACT 709 BUF 0)          \r"
     ]
    },
    {
     "name": "stderr",
     "output_type": "stream",
     "text": [
      "Warning: Teleporting vehicle '439'; waited too long (wrong lane), lane='L15_0', time=56323.00.\n",
      "Warning: Vehicle '439' ends teleporting on edge 'L18', time=56323.00.\n",
      "Warning: Teleporting vehicle '462'; waited too long (wrong lane), lane='L15_0', time=56375.00.\n",
      "Warning: Vehicle '462' ends teleporting on edge 'L18', time=56375.00.\n"
     ]
    },
    {
     "name": "stdout",
     "output_type": "stream",
     "text": [
      "Step #56700.00 (7ms ~= 142.86*RT, ~117142.86UPS, vehicles TOT 2203 ACT 820 BUF 0)         \r"
     ]
    },
    {
     "name": "stderr",
     "output_type": "stream",
     "text": [
      "Warning: Teleporting vehicle '631'; waited too long (wrong lane), lane='L12_2', time=56775.00.\n",
      "Warning: Vehicle '631' ends teleporting on edge 'L15', time=56775.00.\n"
     ]
    },
    {
     "name": "stdout",
     "output_type": "stream",
     "text": [
      "Step #56800.00 (8ms ~= 125.00*RT, ~106500.00UPS, vehicles TOT 2283 ACT 852 BUF 0)         \r"
     ]
    },
    {
     "name": "stderr",
     "output_type": "stream",
     "text": [
      "Warning: Teleporting vehicle '636'; waited too long (wrong lane), lane='L12_2', time=56872.00.\n",
      "Warning: Vehicle '636' ends teleporting on edge 'L15', time=56872.00.\n",
      "Warning: Teleporting vehicle '496'; waited too long (jam), lane=':1_3_1', time=56885.00.\n",
      "Warning: Vehicle '496' ends teleporting on edge 'L12', time=56885.00.\n"
     ]
    },
    {
     "name": "stdout",
     "output_type": "stream",
     "text": [
      "Step #56900.00 (9ms ~= 111.11*RT, ~98111.11UPS, vehicles TOT 2364 ACT 883 BUF 0)          \r"
     ]
    },
    {
     "name": "stderr",
     "output_type": "stream",
     "text": [
      "Warning: Teleporting vehicle '639'; waited too long (wrong lane), lane='L12_2', time=56938.00.\n",
      "Warning: Vehicle '639' ends teleporting on edge 'L15', time=56938.00.\n",
      "Warning: Teleporting vehicle '1375'; waited too long (jam), lane='L2_1', time=56976.00.\n",
      "Warning: Teleporting vehicle '704'; waited too long (jam), lane='L2_1', time=56978.00.\n",
      "Warning: Vehicle '704' ends teleporting on edge 'L12', time=56978.00.\n",
      "Warning: Teleporting vehicle '642'; waited too long (wrong lane), lane='L12_2', time=56997.00.\n",
      "Warning: Vehicle '642' ends teleporting on edge 'L15', time=56997.00.\n"
     ]
    },
    {
     "name": "stdout",
     "output_type": "stream",
     "text": [
      "Step #57000.00 (8ms ~= 125.00*RT, ~109375.00UPS, vehicles TOT 2404 ACT 875 BUF 42)        \r"
     ]
    },
    {
     "name": "stderr",
     "output_type": "stream",
     "text": [
      "Warning: Teleporting vehicle '646'; waited too long (wrong lane), lane='L12_2', time=57047.00.\n",
      "Warning: Vehicle '646' ends teleporting on edge 'L15', time=57047.00.\n",
      "Warning: Teleporting vehicle '1400'; waited too long (jam), lane='D2_1', time=57091.00.\n",
      "Warning: Vehicle '1400' ends teleporting on edge 'L2', time=57091.00.\n",
      "Warning: Teleporting vehicle '748'; waited too long (jam), lane='D2_1', time=57092.00.\n",
      "Warning: Teleporting vehicle '749'; waited too long (jam), lane='D2_1', time=57093.00.\n"
     ]
    },
    {
     "name": "stdout",
     "output_type": "stream",
     "text": [
      "Step #57100.00 (8ms ~= 125.00*RT, ~109000.00UPS, vehicles TOT 2444 ACT 872 BUF 84)        \r"
     ]
    },
    {
     "name": "stderr",
     "output_type": "stream",
     "text": [
      "Warning: Teleporting vehicle '652'; waited too long (wrong lane), lane='L12_2', time=57137.00.\n",
      "Warning: Vehicle '652' ends teleporting on edge 'L15', time=57140.00.\n",
      "Warning: Teleporting vehicle '656'; waited too long (wrong lane), lane='L12_2', time=57186.00.\n",
      "Warning: Teleporting vehicle '497'; waited too long (jam), lane=':1_3_1', time=57191.00.\n",
      "Warning: Vehicle '497' ends teleporting on edge 'L12', time=57191.00.\n",
      "Warning: Vehicle '656' ends teleporting on edge 'L15', time=57209.00.\n"
     ]
    },
    {
     "name": "stdout",
     "output_type": "stream",
     "text": [
      "Step #57200.00 (8ms ~= 125.00*RT, ~107500.00UPS, vehicles TOT 2483 ACT 860 BUF 126)       \r"
     ]
    },
    {
     "name": "stderr",
     "output_type": "stream",
     "text": [
      "Warning: Teleporting vehicle '658'; waited too long (wrong lane), lane='L12_2', time=57229.00.\n",
      "Warning: Vehicle '658' ends teleporting on edge 'L15', time=57248.00.\n",
      "Warning: Teleporting vehicle '564'; waited too long (jam), lane='D2_0', time=57278.00.\n",
      "Warning: Teleporting vehicle '1376'; waited too long (jam), lane='L2_1', time=57286.00.\n"
     ]
    },
    {
     "name": "stdout",
     "output_type": "stream",
     "text": [
      "Step #57400.00 (8ms ~= 125.00*RT, ~105375.00UPS, vehicles TOT 2561 ACT 843 BUF 211)       \r"
     ]
    },
    {
     "name": "stderr",
     "output_type": "stream",
     "text": [
      "Warning: Teleporting vehicle '1401'; waited too long (jam), lane='D2_1', time=57403.00.\n",
      "Warning: Teleporting vehicle '662'; waited too long (wrong lane), lane='L12_2', time=57418.00.\n",
      "Warning: Vehicle '662' ends teleporting on edge 'L15', time=57418.00.\n",
      "Warning: Teleporting vehicle '498'; waited too long (jam), lane=':1_3_1', time=57497.00.\n",
      "Warning: Vehicle '498' ends teleporting on edge 'L12', time=57497.00.\n",
      "Warning: Vehicle '564' ends teleporting on edge 'L2', time=57507.00.\n",
      "Warning: Teleporting vehicle '668'; waited too long (wrong lane), lane='L12_2', time=57508.00.\n",
      "Warning: Vehicle '668' ends teleporting on edge 'L15', time=57508.00.\n",
      "Warning: Vehicle '748' ends teleporting on edge 'L2', time=57508.00.\n",
      "Warning: Teleporting vehicle '669'; waited too long (wrong lane), lane='L12_2', time=57509.00.\n"
     ]
    },
    {
     "name": "stdout",
     "output_type": "stream",
     "text": [
      "Step #57500.00 (8ms ~= 125.00*RT, ~105000.00UPS, vehicles TOT 2600 ACT 840 BUF 254)       \r"
     ]
    },
    {
     "name": "stderr",
     "output_type": "stream",
     "text": [
      "Warning: Vehicle '669' ends teleporting on edge 'L15', time=57557.00.\n",
      "Warning: Vehicle '1375' ends teleporting on edge 'L12', time=57572.00.\n",
      "Warning: Vehicle '1376' ends teleporting on edge 'L12', time=57572.00.\n",
      "Warning: Teleporting vehicle '565'; waited too long (jam), lane='D2_0', time=57583.00.\n",
      "Warning: Teleporting vehicle '750'; waited too long (jam), lane='D2_1', time=57587.00.\n",
      "Warning: Teleporting vehicle '1400'; waited too long (jam), lane='L2_1', time=57592.00.\n",
      "Warning: Vehicle '1400' ends teleporting on edge 'L12', time=57592.00.\n",
      "Warning: Vehicle '749' ends teleporting on edge 'L12', time=57593.00.\n"
     ]
    },
    {
     "name": "stdout",
     "output_type": "stream",
     "text": [
      "Step #57600.00 (8ms ~= 125.00*RT, ~104500.00UPS, vehicles TOT 2639 ACT 836 BUF 296)       \n",
      "Simulation ended at time: 57600.00\n",
      "Reason: The final simulation step has been reached.\n",
      "Performance: \n",
      " Duration: 19.70s\n",
      " Real time factor: 182.769\n",
      " UPS: 105552.672996\n",
      "Vehicles: \n",
      " Inserted: 2639 (Loaded: 2935)\n",
      " Running: 836\n",
      " Waiting: 296\n",
      " Teleports: 27 (Jam: 14, Wrong Lane: 13)\n",
      "Statistics (avg of 1803):\n",
      " RouteLength: 4370.52\n",
      " Speed: 12.36\n",
      " Duration: 441.10\n",
      " WaitingTime: 84.09\n",
      " TimeLoss: 123.81\n",
      " DepartDelay: 0.49\n",
      "\n",
      "DijkstraRouter answered 2936 queries and explored 10.72 edges on average.\n",
      "DijkstraRouter spent 0.01s answering queries (0.00ms on average).\n",
      "printing /Users/rodrse/Documents/DemandCalibration/notebooks/od_calibration_sumo_files/quickstart/data/iter_quickstart.current_od.xml\n",
      "### Runing: iter\n",
      "od2trips --no-step-log  --spread.uniform --taz-files /Users/rodrse/Documents/DemandCalibration/notebooks/od_calibration_sumo_files/quickstart/data/quickstart.taz.xml --tazrelation-files /Users/rodrse/Documents/DemandCalibration/notebooks/od_calibration_sumo_files/quickstart/data/iter_quickstart.current_od.xml -o /Users/rodrse/Documents/DemandCalibration/notebooks/od_calibration_sumo_files/quickstart/data/iter_od_trips.trips.xml \n",
      "Success.\n",
      "Loading net-file from '/Users/rodrse/Documents/DemandCalibration/notebooks/od_calibration_sumo_files/quickstart/data/quickstart.net.xml' ... done (7ms).\n",
      "Loading additional-files from '/Users/rodrse/Documents/DemandCalibration/notebooks/od_calibration_sumo_files/quickstart/data/quickstart.additional.xml' ... done (1ms).\n",
      "Loading done.\n",
      "Simulation version 1.16.0 started with time: 54000.00.\n",
      "Step #56800.00 (10ms ~= 100.00*RT, ~80500.00UPS, vehicles TOT 2605 ACT 805 BUF 82)        \r"
     ]
    },
    {
     "name": "stderr",
     "output_type": "stream",
     "text": [
      "Warning: Teleporting vehicle '600'; waited too long (wrong lane), lane='L12_2', time=56846.00.\n",
      "Warning: Vehicle '600' ends teleporting on edge 'L15', time=56846.00.\n"
     ]
    },
    {
     "name": "stdout",
     "output_type": "stream",
     "text": [
      "Step #56900.00 (9ms ~= 111.11*RT, ~86666.67UPS, vehicles TOT 2650 ACT 780 BUF 134)        \r"
     ]
    },
    {
     "name": "stderr",
     "output_type": "stream",
     "text": [
      "Warning: Teleporting vehicle '605'; waited too long (wrong lane), lane='L12_2', time=56944.00.\n",
      "Warning: Vehicle '605' ends teleporting on edge 'L15', time=56944.00.\n",
      "Warning: Teleporting vehicle '609'; waited too long (wrong lane), lane='L12_2', time=57021.00.\n",
      "Warning: Teleporting vehicle '474'; waited too long (jam), lane='L2_0', time=57034.00.\n",
      "Warning: Vehicle '474' ends teleporting on edge 'L12', time=57034.00.\n"
     ]
    },
    {
     "name": "stdout",
     "output_type": "stream",
     "text": [
      "Step #57000.00 (13ms ~= 76.92*RT, ~61384.62UPS, vehicles TOT 2722 ACT 798 BUF 157)        \r"
     ]
    },
    {
     "name": "stderr",
     "output_type": "stream",
     "text": [
      "Warning: Vehicle '609' ends teleporting on edge 'L15', time=57064.00.\n",
      "Warning: Teleporting vehicle '1600'; waited too long (jam), lane='L2_1', time=57086.00.\n",
      "Warning: Teleporting vehicle '650'; waited too long (jam), lane='L2_1', time=57093.00.\n",
      "Warning: Vehicle '650' ends teleporting on edge 'L12', time=57093.00.\n"
     ]
    },
    {
     "name": "stdout",
     "output_type": "stream",
     "text": [
      "Step #57100.00 (8ms ~= 125.00*RT, ~101750.00UPS, vehicles TOT 2794 ACT 814 BUF 181)       \r"
     ]
    },
    {
     "name": "stderr",
     "output_type": "stream",
     "text": [
      "Warning: Teleporting vehicle '618'; waited too long (wrong lane), lane='L12_2', time=57165.00.\n",
      "Warning: Vehicle '618' ends teleporting on edge 'L15', time=57165.00.\n"
     ]
    },
    {
     "name": "stdout",
     "output_type": "stream",
     "text": [
      "Step #57300.00 (10ms ~= 100.00*RT, ~83700.00UPS, vehicles TOT 2913 ACT 837 BUF 254)       \r"
     ]
    },
    {
     "name": "stderr",
     "output_type": "stream",
     "text": [
      "Warning: Teleporting vehicle '475'; waited too long (jam), lane='L2_0', time=57340.00.\n",
      "Warning: Vehicle '475' ends teleporting on edge 'L12', time=57340.00.\n"
     ]
    },
    {
     "name": "stdout",
     "output_type": "stream",
     "text": [
      "Step #57400.00 (10ms ~= 100.00*RT, ~83000.00UPS, vehicles TOT 2957 ACT 830 BUF 306)       \r"
     ]
    },
    {
     "name": "stderr",
     "output_type": "stream",
     "text": [
      "Warning: Teleporting vehicle '1602'; waited too long (jam), lane='L2_1', time=57401.00.\n",
      "Warning: Teleporting vehicle '1638'; waited too long (jam), lane='D2_1', time=57413.00.\n",
      "Warning: Vehicle '1638' ends teleporting on edge 'L2', time=57413.00.\n",
      "Warning: Teleporting vehicle '685'; waited too long (jam), lane='D2_1', time=57415.00.\n",
      "Warning: Vehicle '685' ends teleporting on edge 'L2', time=57415.00.\n",
      "Warning: Teleporting vehicle '629'; waited too long (wrong lane), lane='L12_2', time=57425.00.\n",
      "Warning: Teleporting vehicle '543'; waited too long (jam), lane='D2_0', time=57427.00.\n",
      "Warning: Vehicle '543' ends teleporting on edge 'L2', time=57427.00.\n",
      "Warning: Vehicle '629' ends teleporting on edge 'L15', time=57427.00.\n"
     ]
    },
    {
     "name": "stdout",
     "output_type": "stream",
     "text": [
      "Step #57600.00 (9ms ~= 111.11*RT, ~89222.22UPS, vehicles TOT 3045 ACT 803 BUF 410)        \n",
      "Simulation ended at time: 57600.00\n",
      "Reason: The final simulation step has been reached.\n",
      "Performance: \n",
      " Duration: 23.53s\n",
      " Real time factor: 152.996\n",
      " UPS: 98766.935827\n",
      "Vehicles: \n",
      " Inserted: 3045 (Loaded: 3455)\n",
      " Running: 803\n",
      " Waiting: 410\n",
      " Teleports: 13 (Jam: 8, Wrong Lane: 5)\n",
      "Statistics (avg of 2242):\n",
      " RouteLength: 4328.55\n",
      " Speed: 11.15\n",
      " Duration: 508.83\n",
      " WaitingTime: 107.87\n",
      " TimeLoss: 194.71\n",
      " DepartDelay: 0.49\n",
      "\n",
      "DijkstraRouter answered 3595 queries and explored 9.94 edges on average.\n",
      "DijkstraRouter spent 0.01s answering queries (0.00ms on average).\n",
      "printing /Users/rodrse/Documents/DemandCalibration/notebooks/od_calibration_sumo_files/quickstart/data/iter_quickstart.current_od.xml\n",
      "### Runing: iter\n",
      "od2trips --no-step-log  --spread.uniform --taz-files /Users/rodrse/Documents/DemandCalibration/notebooks/od_calibration_sumo_files/quickstart/data/quickstart.taz.xml --tazrelation-files /Users/rodrse/Documents/DemandCalibration/notebooks/od_calibration_sumo_files/quickstart/data/iter_quickstart.current_od.xml -o /Users/rodrse/Documents/DemandCalibration/notebooks/od_calibration_sumo_files/quickstart/data/iter_od_trips.trips.xml \n",
      "Success.\n",
      "Loading net-file from '/Users/rodrse/Documents/DemandCalibration/notebooks/od_calibration_sumo_files/quickstart/data/quickstart.net.xml' ... done (8ms).\n",
      "Loading additional-files from '/Users/rodrse/Documents/DemandCalibration/notebooks/od_calibration_sumo_files/quickstart/data/quickstart.additional.xml' ... done (1ms).\n",
      "Loading done.\n",
      "Simulation version 1.16.0 started with time: 54000.00.\n",
      "Step #57100.00 (8ms ~= 125.00*RT, ~109250.00UPS, vehicles TOT 2501 ACT 874 BUF 0)         \r"
     ]
    },
    {
     "name": "stderr",
     "output_type": "stream",
     "text": [
      "Warning: Teleporting vehicle '103'; waited too long (yield), lane='L15_1', time=57141.00.\n",
      "Warning: Vehicle '103' ends teleporting on edge 'L18', time=57141.00.\n"
     ]
    },
    {
     "name": "stdout",
     "output_type": "stream",
     "text": [
      "Step #57500.00 (7ms ~= 142.86*RT, ~130000.00UPS, vehicles TOT 2825 ACT 910 BUF 0)         \r"
     ]
    },
    {
     "name": "stderr",
     "output_type": "stream",
     "text": [
      "Warning: Teleporting vehicle '107'; waited too long (yield), lane='L15_1', time=57515.00.\n",
      "Warning: Vehicle '107' ends teleporting on edge 'L18', time=57515.00.\n"
     ]
    },
    {
     "name": "stdout",
     "output_type": "stream",
     "text": [
      "Step #57600.00 (7ms ~= 142.86*RT, ~131285.71UPS, vehicles TOT 2905 ACT 919 BUF 0)         \n",
      "Simulation ended at time: 57600.00\n",
      "Reason: The final simulation step has been reached.\n",
      "Performance: \n",
      " Duration: 20.41s\n",
      " Real time factor: 176.384\n",
      " UPS: 102993.679569\n",
      "Vehicles: \n",
      " Inserted: 2905\n",
      " Running: 919\n",
      " Waiting: 0\n",
      " Teleports: 2 (Yield: 2)\n",
      "Statistics (avg of 1986):\n",
      " RouteLength: 4361.94\n",
      " Speed: 10.40\n",
      " Duration: 596.82\n",
      " WaitingTime: 114.95\n",
      " TimeLoss: 281.52\n",
      " DepartDelay: 0.50\n",
      "\n",
      "DijkstraRouter answered 2905 queries and explored 10.15 edges on average.\n",
      "DijkstraRouter spent 0.01s answering queries (0.00ms on average).\n",
      "printing /Users/rodrse/Documents/DemandCalibration/notebooks/od_calibration_sumo_files/quickstart/data/iter_quickstart.current_od.xml\n",
      "### Runing: iter\n",
      "od2trips --no-step-log  --spread.uniform --taz-files /Users/rodrse/Documents/DemandCalibration/notebooks/od_calibration_sumo_files/quickstart/data/quickstart.taz.xml --tazrelation-files /Users/rodrse/Documents/DemandCalibration/notebooks/od_calibration_sumo_files/quickstart/data/iter_quickstart.current_od.xml -o /Users/rodrse/Documents/DemandCalibration/notebooks/od_calibration_sumo_files/quickstart/data/iter_od_trips.trips.xml \n",
      "Success.\n",
      "Loading net-file from '/Users/rodrse/Documents/DemandCalibration/notebooks/od_calibration_sumo_files/quickstart/data/quickstart.net.xml' ... done (6ms).\n",
      "Loading additional-files from '/Users/rodrse/Documents/DemandCalibration/notebooks/od_calibration_sumo_files/quickstart/data/quickstart.additional.xml' ... done (1ms).\n",
      "Loading done.\n",
      "Simulation version 1.16.0 started with time: 54000.00.\n",
      "Step #57600.00 (5ms ~= 200.00*RT, ~109600.00UPS, vehicles TOT 2532 ACT 548 BUF 0)         \n",
      "Simulation ended at time: 57600.00\n",
      "Reason: The final simulation step has been reached.\n",
      "Performance: \n",
      " Duration: 9.96s\n",
      " Real time factor: 361.409\n",
      " UPS: 131140.949704\n",
      "Vehicles: \n",
      " Inserted: 2532\n",
      " Running: 548\n",
      " Waiting: 0\n",
      "Statistics (avg of 1984):\n",
      " RouteLength: 4276.44\n",
      " Speed: 11.71\n",
      " Duration: 458.15\n",
      " WaitingTime: 96.76\n",
      " TimeLoss: 147.73\n",
      " DepartDelay: 0.50\n",
      "\n",
      "DijkstraRouter answered 2532 queries and explored 9.39 edges on average.\n",
      "DijkstraRouter spent 0.01s answering queries (0.01ms on average).\n",
      "printing /Users/rodrse/Documents/DemandCalibration/notebooks/od_calibration_sumo_files/quickstart/data/iter_quickstart.current_od.xml\n",
      "### Runing: iter\n",
      "od2trips --no-step-log  --spread.uniform --taz-files /Users/rodrse/Documents/DemandCalibration/notebooks/od_calibration_sumo_files/quickstart/data/quickstart.taz.xml --tazrelation-files /Users/rodrse/Documents/DemandCalibration/notebooks/od_calibration_sumo_files/quickstart/data/iter_quickstart.current_od.xml -o /Users/rodrse/Documents/DemandCalibration/notebooks/od_calibration_sumo_files/quickstart/data/iter_od_trips.trips.xml \n",
      "Success.\n",
      "Loading net-file from '/Users/rodrse/Documents/DemandCalibration/notebooks/od_calibration_sumo_files/quickstart/data/quickstart.net.xml' ... done (7ms).\n",
      "Loading additional-files from '/Users/rodrse/Documents/DemandCalibration/notebooks/od_calibration_sumo_files/quickstart/data/quickstart.additional.xml' ... done (1ms).\n",
      "Loading done.\n",
      "Simulation version 1.16.0 started with time: 54000.00.\n",
      "Step #56700.00 (6ms ~= 166.67*RT, ~101500.00UPS, vehicles TOT 1891 ACT 609 BUF 0)         \r"
     ]
    },
    {
     "name": "stderr",
     "output_type": "stream",
     "text": [
      "Warning: Teleporting vehicle '439'; waited too long (wrong lane), lane='L15_0', time=56795.00.\n",
      "Warning: Vehicle '439' ends teleporting on edge 'L18', time=56795.00.\n",
      "Warning: Teleporting vehicle '488'; waited too long (jam), lane='L12_0', time=57532.00.\n",
      "Warning: Vehicle '488' ends teleporting on edge 'L15', time=57532.00.\n",
      "Warning: Teleporting vehicle '493'; waited too long (jam), lane='L12_0', time=57533.00.\n"
     ]
    },
    {
     "name": "stdout",
     "output_type": "stream",
     "text": [
      "Step #57500.00 (7ms ~= 142.86*RT, ~106285.71UPS, vehicles TOT 2450 ACT 744 BUF 0)         \r"
     ]
    },
    {
     "name": "stderr",
     "output_type": "stream",
     "text": [
      "Warning: Teleporting vehicle '557'; waited too long (jam), lane='L2_0', time=57572.00.\n",
      "Warning: Vehicle '557' ends teleporting on edge 'L12', time=57572.00.\n",
      "Warning: Teleporting vehicle '558'; waited too long (jam), lane='L2_0', time=57573.00.\n",
      "Warning: Vehicle '558' ends teleporting on edge 'L12', time=57573.00.\n",
      "Warning: Vehicle '493' ends teleporting on edge 'L15', time=57599.00.\n"
     ]
    },
    {
     "name": "stdout",
     "output_type": "stream",
     "text": [
      "Step #57600.00 (6ms ~= 166.67*RT, ~125000.00UPS, vehicles TOT 2520 ACT 750 BUF 0)         \n",
      "Simulation ended at time: 57600.00\n",
      "Reason: The final simulation step has been reached.\n",
      "Performance: \n",
      " Duration: 14.21s\n",
      " Real time factor: 253.414\n",
      " UPS: 117886.878784\n",
      "Vehicles: \n",
      " Inserted: 2520\n",
      " Running: 750\n",
      " Waiting: 0\n",
      " Teleports: 5 (Jam: 4, Wrong Lane: 1)\n",
      "Statistics (avg of 1770):\n",
      " RouteLength: 4470.87\n",
      " Speed: 11.98\n",
      " Duration: 449.25\n",
      " WaitingTime: 78.97\n",
      " TimeLoss: 124.30\n",
      " DepartDelay: 0.49\n",
      "\n",
      "DijkstraRouter answered 2520 queries and explored 10.74 edges on average.\n",
      "DijkstraRouter spent 0.01s answering queries (0.01ms on average).\n",
      "printing /Users/rodrse/Documents/DemandCalibration/notebooks/od_calibration_sumo_files/quickstart/data/iter_quickstart.current_od.xml\n",
      "### Runing: iter\n",
      "od2trips --no-step-log  --spread.uniform --taz-files /Users/rodrse/Documents/DemandCalibration/notebooks/od_calibration_sumo_files/quickstart/data/quickstart.taz.xml --tazrelation-files /Users/rodrse/Documents/DemandCalibration/notebooks/od_calibration_sumo_files/quickstart/data/iter_quickstart.current_od.xml -o /Users/rodrse/Documents/DemandCalibration/notebooks/od_calibration_sumo_files/quickstart/data/iter_od_trips.trips.xml \n",
      "Success.\n",
      "Loading net-file from '/Users/rodrse/Documents/DemandCalibration/notebooks/od_calibration_sumo_files/quickstart/data/quickstart.net.xml' ... done (6ms).\n",
      "Loading additional-files from '/Users/rodrse/Documents/DemandCalibration/notebooks/od_calibration_sumo_files/quickstart/data/quickstart.additional.xml' ... done (1ms).\n",
      "Loading done.\n",
      "Simulation version 1.16.0 started with time: 54000.00.\n",
      "Step #56300.00 (11ms ~= 90.91*RT, ~84818.18UPS, vehicles TOT 2142 ACT 933 BUF 0)          \r"
     ]
    },
    {
     "name": "stderr",
     "output_type": "stream",
     "text": [
      "Warning: Teleporting vehicle '367'; waited too long (wrong lane), lane='L15_0', time=56367.00.\n",
      "Warning: Vehicle '367' ends teleporting on edge 'L18', time=56367.00.\n",
      "Warning: Teleporting vehicle '386'; waited too long (wrong lane), lane='L15_0', time=56389.00.\n",
      "Warning: Vehicle '386' ends teleporting on edge 'L18', time=56389.00.\n"
     ]
    },
    {
     "name": "stdout",
     "output_type": "stream",
     "text": [
      "Step #57400.00 (12ms ~= 83.33*RT, ~88750.00UPS, vehicles TOT 3107 ACT 1065 BUF 58)        \r"
     ]
    },
    {
     "name": "stderr",
     "output_type": "stream",
     "text": [
      "Warning: Teleporting vehicle '621'; waited too long (wrong lane), lane='L12_2', time=57431.00.\n",
      "Warning: Vehicle '621' ends teleporting on edge 'L15', time=57431.00.\n",
      "Warning: Teleporting vehicle '623'; waited too long (wrong lane), lane='L12_2', time=57468.00.\n",
      "Warning: Vehicle '623' ends teleporting on edge 'L15', time=57468.00.\n"
     ]
    },
    {
     "name": "stdout",
     "output_type": "stream",
     "text": [
      "Step #57500.00 (12ms ~= 83.33*RT, ~86916.67UPS, vehicles TOT 3183 ACT 1043 BUF 76)        \r"
     ]
    },
    {
     "name": "stderr",
     "output_type": "stream",
     "text": [
      "Warning: Teleporting vehicle '627'; waited too long (wrong lane), lane='L12_2', time=57515.00.\n",
      "Warning: Teleporting vehicle '503'; waited too long (jam), lane='L2_0', time=57518.00.\n",
      "Warning: Vehicle '503' ends teleporting on edge 'L12', time=57518.00.\n",
      "Warning: Teleporting vehicle '628'; waited too long (wrong lane), lane='L12_2', time=57538.00.\n",
      "Warning: Teleporting vehicle '629'; waited too long (wrong lane), lane='L12_2', time=57565.00.\n",
      "Warning: Teleporting vehicle '631'; waited too long (wrong lane), lane='L12_2', time=57591.00.\n"
     ]
    },
    {
     "name": "stdout",
     "output_type": "stream",
     "text": [
      "Step #57600.00 (10ms ~= 100.00*RT, ~101200.00UPS, vehicles TOT 3259 ACT 1012 BUF 93)      \n",
      "Simulation ended at time: 57600.00\n",
      "Reason: The final simulation step has been reached.\n",
      "Performance: \n",
      " Duration: 27.82s\n",
      " Real time factor: 129.427\n",
      " UPS: 94898.472047\n",
      "Vehicles: \n",
      " Inserted: 3259 (Loaded: 3352)\n",
      " Running: 1012\n",
      " Waiting: 93\n",
      " Teleports: 9 (Jam: 1, Wrong Lane: 8)\n",
      "Statistics (avg of 2247):\n",
      " RouteLength: 4360.35\n",
      " Speed: 9.96\n",
      " Duration: 671.43\n",
      " WaitingTime: 140.06\n",
      " TimeLoss: 355.78\n",
      " DepartDelay: 0.49\n",
      "\n",
      "DijkstraRouter answered 3469 queries and explored 10.05 edges on average.\n",
      "DijkstraRouter spent 0.01s answering queries (0.00ms on average).\n",
      "printing /Users/rodrse/Documents/DemandCalibration/notebooks/od_calibration_sumo_files/quickstart/data/iter_quickstart.current_od.xml\n",
      "### Runing: iter\n",
      "od2trips --no-step-log  --spread.uniform --taz-files /Users/rodrse/Documents/DemandCalibration/notebooks/od_calibration_sumo_files/quickstart/data/quickstart.taz.xml --tazrelation-files /Users/rodrse/Documents/DemandCalibration/notebooks/od_calibration_sumo_files/quickstart/data/iter_quickstart.current_od.xml -o /Users/rodrse/Documents/DemandCalibration/notebooks/od_calibration_sumo_files/quickstart/data/iter_od_trips.trips.xml \n",
      "Success.\n",
      "Loading net-file from '/Users/rodrse/Documents/DemandCalibration/notebooks/od_calibration_sumo_files/quickstart/data/quickstart.net.xml' ... done (7ms).\n",
      "Loading additional-files from '/Users/rodrse/Documents/DemandCalibration/notebooks/od_calibration_sumo_files/quickstart/data/quickstart.additional.xml' ... done (1ms).\n",
      "Loading done.\n",
      "Simulation version 1.16.0 started with time: 54000.00.\n",
      "Step #57600.00 (5ms ~= 200.00*RT, ~92600.00UPS, vehicles TOT 2244 ACT 463 BUF 0)          \n",
      "Simulation ended at time: 57600.00\n",
      "Reason: The final simulation step has been reached.\n",
      "Performance: \n",
      " Duration: 8.45s\n",
      " Real time factor: 426.086\n",
      " UPS: 134416.617351\n",
      "Vehicles: \n",
      " Inserted: 2244\n",
      " Running: 463\n",
      " Waiting: 0\n",
      "Statistics (avg of 1781):\n",
      " RouteLength: 4396.17\n",
      " Speed: 11.60\n",
      " Duration: 450.57\n",
      " WaitingTime: 84.15\n",
      " TimeLoss: 131.72\n",
      " DepartDelay: 0.49\n",
      "\n",
      "DijkstraRouter answered 2244 queries and explored 9.95 edges on average.\n",
      "DijkstraRouter spent 0.01s answering queries (0.00ms on average).\n",
      "printing /Users/rodrse/Documents/DemandCalibration/notebooks/od_calibration_sumo_files/quickstart/data/iter_quickstart.current_od.xml\n",
      "### Runing: iter\n",
      "od2trips --no-step-log  --spread.uniform --taz-files /Users/rodrse/Documents/DemandCalibration/notebooks/od_calibration_sumo_files/quickstart/data/quickstart.taz.xml --tazrelation-files /Users/rodrse/Documents/DemandCalibration/notebooks/od_calibration_sumo_files/quickstart/data/iter_quickstart.current_od.xml -o /Users/rodrse/Documents/DemandCalibration/notebooks/od_calibration_sumo_files/quickstart/data/iter_od_trips.trips.xml \n",
      "Success.\n",
      "Loading net-file from '/Users/rodrse/Documents/DemandCalibration/notebooks/od_calibration_sumo_files/quickstart/data/quickstart.net.xml' ... done (7ms).\n",
      "Loading additional-files from '/Users/rodrse/Documents/DemandCalibration/notebooks/od_calibration_sumo_files/quickstart/data/quickstart.additional.xml' ... done (1ms).\n",
      "Loading done.\n",
      "Simulation version 1.16.0 started with time: 54000.00.\n",
      "Step #57600.00 (8ms ~= 125.00*RT, ~103500.00UPS, vehicles TOT 3022 ACT 828 BUF 0)         \n",
      "Simulation ended at time: 57600.00\n",
      "Reason: The final simulation step has been reached.\n",
      "Performance: \n",
      " Duration: 19.04s\n",
      " Real time factor: 189.095\n",
      " UPS: 106982.298561\n",
      "Vehicles: \n",
      " Inserted: 3022\n",
      " Running: 828\n",
      " Waiting: 0\n",
      "Statistics (avg of 2194):\n",
      " RouteLength: 4315.99\n",
      " Speed: 10.76\n",
      " Duration: 561.00\n",
      " WaitingTime: 112.20\n",
      " TimeLoss: 248.03\n",
      " DepartDelay: 0.49\n",
      "\n",
      "DijkstraRouter answered 3022 queries and explored 9.80 edges on average.\n",
      "DijkstraRouter spent 0.01s answering queries (0.00ms on average).\n",
      "printing /Users/rodrse/Documents/DemandCalibration/notebooks/od_calibration_sumo_files/quickstart/data/iter_quickstart.current_od.xml\n",
      "### Runing: iter\n",
      "od2trips --no-step-log  --spread.uniform --taz-files /Users/rodrse/Documents/DemandCalibration/notebooks/od_calibration_sumo_files/quickstart/data/quickstart.taz.xml --tazrelation-files /Users/rodrse/Documents/DemandCalibration/notebooks/od_calibration_sumo_files/quickstart/data/iter_quickstart.current_od.xml -o /Users/rodrse/Documents/DemandCalibration/notebooks/od_calibration_sumo_files/quickstart/data/iter_od_trips.trips.xml \n",
      "Success.\n",
      "Loading net-file from '/Users/rodrse/Documents/DemandCalibration/notebooks/od_calibration_sumo_files/quickstart/data/quickstart.net.xml' ... done (7ms).\n",
      "Loading additional-files from '/Users/rodrse/Documents/DemandCalibration/notebooks/od_calibration_sumo_files/quickstart/data/quickstart.additional.xml' ... done (1ms).\n",
      "Loading done.\n",
      "Simulation version 1.16.0 started with time: 54000.00.\n",
      "Step #56300.00 (5ms ~= 200.00*RT, ~122200.00UPS, vehicles TOT 1565 ACT 611 BUF 0)         \r"
     ]
    },
    {
     "name": "stderr",
     "output_type": "stream",
     "text": [
      "Warning: Teleporting vehicle '427'; waited too long (wrong lane), lane='L15_0', time=56338.00.\n",
      "Warning: Vehicle '427' ends teleporting on edge 'L18', time=56338.00.\n"
     ]
    },
    {
     "name": "stdout",
     "output_type": "stream",
     "text": [
      "Step #57000.00 (6ms ~= 166.67*RT, ~125666.67UPS, vehicles TOT 2041 ACT 754 BUF 0)         \r"
     ]
    },
    {
     "name": "stderr",
     "output_type": "stream",
     "text": [
      "Warning: Teleporting vehicle '401'; waited too long (wrong lane), lane='L15_0', time=57012.00.\n",
      "Warning: Vehicle '401' ends teleporting on edge 'L18', time=57012.00.\n",
      "Warning: Teleporting vehicle '409'; waited too long (wrong lane), lane='L15_0', time=57013.00.\n",
      "Warning: Vehicle '409' ends teleporting on edge 'L18', time=57013.00.\n",
      "Warning: Teleporting vehicle '439'; waited too long (wrong lane), lane='L15_0', time=57015.00.\n",
      "Warning: Vehicle '439' ends teleporting on edge 'L18', time=57015.00.\n",
      "Warning: Teleporting vehicle '466'; waited too long (wrong lane), lane='L15_0', time=57016.00.\n",
      "Warning: Vehicle '466' ends teleporting on edge 'L18', time=57016.00.\n",
      "Warning: Teleporting vehicle '434'; waited too long (wrong lane), lane='L15_0', time=57023.00.\n",
      "Warning: Vehicle '434' ends teleporting on edge 'L18', time=57023.00.\n",
      "Warning: Teleporting vehicle '442'; waited too long (wrong lane), lane='L15_0', time=57025.00.\n",
      "Warning: Vehicle '442' ends teleporting on edge 'L18', time=57025.00.\n",
      "Warning: Teleporting vehicle '437'; waited too long (wrong lane), lane='L15_0', time=57026.00.\n",
      "Warning: Vehicle '437' ends teleporting on edge 'L18', time=57026.00.\n",
      "Warning: Teleporting vehicle '634'; waited too long (wrong lane), lane='L12_2', time=57070.00.\n",
      "Warning: Vehicle '634' ends teleporting on edge 'L15', time=57070.00.\n",
      "Warning: Teleporting vehicle '478'; waited too long (wrong lane), lane='L15_0', time=57087.00.\n",
      "Warning: Vehicle '478' ends teleporting on edge 'L18', time=57087.00.\n",
      "Warning: Teleporting vehicle '441'; waited too long (wrong lane), lane='L15_0', time=57088.00.\n",
      "Warning: Vehicle '441' ends teleporting on edge 'L18', time=57088.00.\n",
      "Warning: Teleporting vehicle '489'; waited too long (wrong lane), lane='L15_0', time=57089.00.\n",
      "Warning: Vehicle '489' ends teleporting on edge 'L18', time=57089.00.\n",
      "Warning: Teleporting vehicle '468'; waited too long (wrong lane), lane='L15_0', time=57093.00.\n",
      "Warning: Vehicle '468' ends teleporting on edge 'L18', time=57093.00.\n",
      "Warning: Teleporting vehicle '472'; waited too long (wrong lane), lane='L15_0', time=57094.00.\n",
      "Warning: Vehicle '472' ends teleporting on edge 'L18', time=57094.00.\n",
      "Warning: Teleporting vehicle '495'; waited too long (wrong lane), lane='L15_0', time=57095.00.\n",
      "Warning: Vehicle '495' ends teleporting on edge 'L18', time=57095.00.\n",
      "Warning: Teleporting vehicle '474'; waited too long (wrong lane), lane='L15_0', time=57096.00.\n",
      "Warning: Vehicle '474' ends teleporting on edge 'L18', time=57096.00.\n",
      "Warning: Teleporting vehicle '477'; waited too long (wrong lane), lane='L15_0', time=57097.00.\n",
      "Warning: Vehicle '477' ends teleporting on edge 'L18', time=57097.00.\n",
      "Warning: Teleporting vehicle '496'; waited too long (wrong lane), lane='L15_0', time=57098.00.\n",
      "Warning: Vehicle '496' ends teleporting on edge 'L18', time=57098.00.\n",
      "Warning: Teleporting vehicle '494'; waited too long (wrong lane), lane='L15_0', time=57099.00.\n",
      "Warning: Vehicle '494' ends teleporting on edge 'L18', time=57099.00.\n",
      "Warning: Teleporting vehicle '503'; waited too long (wrong lane), lane='L15_0', time=57100.00.\n",
      "Warning: Vehicle '503' ends teleporting on edge 'L18', time=57100.00.\n",
      "Warning: Teleporting vehicle '502'; waited too long (wrong lane), lane='L15_0', time=57102.00.\n",
      "Warning: Vehicle '502' ends teleporting on edge 'L18', time=57102.00.\n",
      "Warning: Teleporting vehicle '501'; waited too long (wrong lane), lane='L15_0', time=57103.00.\n",
      "Warning: Vehicle '501' ends teleporting on edge 'L18', time=57103.00.\n",
      "Warning: Teleporting vehicle '500'; waited too long (wrong lane), lane='L15_0', time=57104.00.\n",
      "Warning: Vehicle '500' ends teleporting on edge 'L18', time=57104.00.\n",
      "Warning: Teleporting vehicle '506'; waited too long (wrong lane), lane='L15_0', time=57108.00.\n",
      "Warning: Vehicle '506' ends teleporting on edge 'L18', time=57108.00.\n"
     ]
    },
    {
     "name": "stdout",
     "output_type": "stream",
     "text": [
      "Step #57200.00 (7ms ~= 142.86*RT, ~115142.86UPS, vehicles TOT 2177 ACT 806 BUF 0)         \r"
     ]
    },
    {
     "name": "stderr",
     "output_type": "stream",
     "text": [
      "Warning: Teleporting vehicle '623'; waited too long (jam), lane='L12_1', time=57202.00.\n",
      "Warning: Vehicle '623' ends teleporting on edge 'L15', time=57202.00.\n",
      "Warning: Teleporting vehicle '557'; waited too long (jam), lane='L2_0', time=57245.00.\n",
      "Warning: Vehicle '557' ends teleporting on edge 'L12', time=57245.00.\n",
      "Warning: Teleporting vehicle '637'; waited too long (wrong lane), lane='L12_2', time=57254.00.\n",
      "Warning: Teleporting vehicle '507'; waited too long (wrong lane), lane='L15_0', time=57261.00.\n",
      "Warning: Vehicle '507' ends teleporting on edge 'L18', time=57261.00.\n",
      "Warning: Teleporting vehicle '515'; waited too long (wrong lane), lane='L15_0', time=57262.00.\n",
      "Warning: Vehicle '515' ends teleporting on edge 'L18', time=57262.00.\n",
      "Warning: Teleporting vehicle '520'; waited too long (wrong lane), lane='L15_0', time=57263.00.\n",
      "Warning: Vehicle '520' ends teleporting on edge 'L18', time=57263.00.\n",
      "Warning: Teleporting vehicle '519'; waited too long (wrong lane), lane='L15_0', time=57264.00.\n",
      "Warning: Vehicle '519' ends teleporting on edge 'L18', time=57264.00.\n",
      "Warning: Teleporting vehicle '529'; waited too long (wrong lane), lane='L15_0', time=57265.00.\n",
      "Warning: Vehicle '529' ends teleporting on edge 'L18', time=57265.00.\n",
      "Warning: Teleporting vehicle '528'; waited too long (wrong lane), lane='L15_0', time=57266.00.\n",
      "Warning: Vehicle '528' ends teleporting on edge 'L18', time=57266.00.\n"
     ]
    },
    {
     "name": "stdout",
     "output_type": "stream",
     "text": [
      "Step #57300.00 (7ms ~= 142.86*RT, ~117285.71UPS, vehicles TOT 2245 ACT 821 BUF 0)         \r"
     ]
    },
    {
     "name": "stderr",
     "output_type": "stream",
     "text": [
      "Warning: Vehicle '637' ends teleporting on edge 'L15', time=57357.00.\n"
     ]
    },
    {
     "name": "stdout",
     "output_type": "stream",
     "text": [
      "Step #57400.00 (7ms ~= 142.86*RT, ~121428.57UPS, vehicles TOT 2312 ACT 850 BUF 0)         \r"
     ]
    },
    {
     "name": "stderr",
     "output_type": "stream",
     "text": [
      "Warning: Teleporting vehicle '641'; waited too long (wrong lane), lane='L12_2', time=57442.00.\n",
      "Warning: Vehicle '641' ends teleporting on edge 'L15', time=57473.00.\n",
      "Warning: Teleporting vehicle '754'; waited too long (jam), lane=':1_3_2', time=57477.00.\n",
      "Warning: Vehicle '754' ends teleporting on edge 'L12', time=57477.00.\n",
      "Warning: Teleporting vehicle '755'; waited too long (jam), lane='L2_1', time=57478.00.\n",
      "Warning: Vehicle '755' ends teleporting on edge 'L12', time=57478.00.\n",
      "Warning: Teleporting vehicle '645'; waited too long (wrong lane), lane='L12_2', time=57489.00.\n"
     ]
    },
    {
     "name": "stdout",
     "output_type": "stream",
     "text": [
      "Step #57500.00 (12ms ~= 83.33*RT, ~71750.00UPS, vehicles TOT 2370 ACT 861 BUF 11)         \r"
     ]
    },
    {
     "name": "stderr",
     "output_type": "stream",
     "text": [
      "Warning: Teleporting vehicle '647'; waited too long (wrong lane), lane='L12_2', time=57546.00.\n",
      "Warning: Teleporting vehicle '648'; waited too long (wrong lane), lane='L12_2', time=57547.00.\n",
      "Warning: Teleporting vehicle '558'; waited too long (jam), lane='L2_0', time=57551.00.\n",
      "Warning: Vehicle '558' ends teleporting on edge 'L12', time=57551.00.\n",
      "Warning: Vehicle '645' ends teleporting on edge 'L15', time=57553.00.\n"
     ]
    },
    {
     "name": "stdout",
     "output_type": "stream",
     "text": [
      "Step #57600.00 (8ms ~= 125.00*RT, ~106625.00UPS, vehicles TOT 2402 ACT 853 BUF 47)        \n",
      "Simulation ended at time: 57600.00\n",
      "Reason: The final simulation step has been reached.\n",
      "Performance: \n",
      " Duration: 16.10s\n",
      " Real time factor: 223.575\n",
      " UPS: 113565.830332\n",
      "Vehicles: \n",
      " Inserted: 2402 (Loaded: 2449)\n",
      " Running: 853\n",
      " Waiting: 47\n",
      " Teleports: 40 (Jam: 5, Wrong Lane: 35)\n",
      "Statistics (avg of 1549):\n",
      " RouteLength: 4408.40\n",
      " Speed: 12.18\n",
      " Duration: 476.79\n",
      " WaitingTime: 108.28\n",
      " TimeLoss: 157.69\n",
      " DepartDelay: 0.49\n",
      "\n",
      "DijkstraRouter answered 2447 queries and explored 10.85 edges on average.\n",
      "DijkstraRouter spent 0.01s answering queries (0.00ms on average).\n",
      "printing /Users/rodrse/Documents/DemandCalibration/notebooks/od_calibration_sumo_files/quickstart/data/iter_quickstart.current_od.xml\n",
      "### Runing: iter\n",
      "od2trips --no-step-log  --spread.uniform --taz-files /Users/rodrse/Documents/DemandCalibration/notebooks/od_calibration_sumo_files/quickstart/data/quickstart.taz.xml --tazrelation-files /Users/rodrse/Documents/DemandCalibration/notebooks/od_calibration_sumo_files/quickstart/data/iter_quickstart.current_od.xml -o /Users/rodrse/Documents/DemandCalibration/notebooks/od_calibration_sumo_files/quickstart/data/iter_od_trips.trips.xml \n",
      "Success.\n",
      "Loading net-file from '/Users/rodrse/Documents/DemandCalibration/notebooks/od_calibration_sumo_files/quickstart/data/quickstart.net.xml' ... done (6ms).\n",
      "Loading additional-files from '/Users/rodrse/Documents/DemandCalibration/notebooks/od_calibration_sumo_files/quickstart/data/quickstart.additional.xml' ... done (1ms).\n",
      "Loading done.\n",
      "Simulation version 1.16.0 started with time: 54000.00.\n",
      "Step #56500.00 (6ms ~= 166.67*RT, ~110333.33UPS, vehicles TOT 1863 ACT 662 BUF 0)         \r"
     ]
    },
    {
     "name": "stderr",
     "output_type": "stream",
     "text": [
      "Warning: Teleporting vehicle '503'; waited too long (jam), lane='L12_0', time=56517.00.\n",
      "Warning: Vehicle '503' ends teleporting on edge 'L15', time=56517.00.\n",
      "Warning: Teleporting vehicle '523'; waited too long (jam), lane='L12_0', time=56519.00.\n",
      "Warning: Teleporting vehicle '486'; waited too long (wrong lane), lane='L15_0', time=56526.00.\n",
      "Warning: Vehicle '486' ends teleporting on edge 'L18', time=56526.00.\n",
      "Warning: Vehicle '523' ends teleporting on edge 'L15', time=56552.00.\n",
      "Warning: Teleporting vehicle '499'; waited too long (wrong lane), lane='L15_0', time=56553.00.\n",
      "Warning: Vehicle '499' ends teleporting on edge 'L18', time=56553.00.\n",
      "Warning: Teleporting vehicle '501'; waited too long (wrong lane), lane='L15_0', time=56554.00.\n",
      "Warning: Vehicle '501' ends teleporting on edge 'L18', time=56554.00.\n",
      "Warning: Teleporting vehicle '477'; waited too long (wrong lane), lane='L15_0', time=56555.00.\n",
      "Warning: Vehicle '477' ends teleporting on edge 'L18', time=56555.00.\n",
      "Warning: Teleporting vehicle '481'; waited too long (wrong lane), lane='L15_0', time=56557.00.\n",
      "Warning: Vehicle '481' ends teleporting on edge 'L18', time=56557.00.\n",
      "Warning: Teleporting vehicle '485'; waited too long (wrong lane), lane='L15_0', time=56558.00.\n",
      "Warning: Vehicle '485' ends teleporting on edge 'L18', time=56558.00.\n",
      "Warning: Teleporting vehicle '478'; waited too long (wrong lane), lane='L15_0', time=56561.00.\n",
      "Warning: Vehicle '478' ends teleporting on edge 'L18', time=56561.00.\n",
      "Warning: Teleporting vehicle '513'; waited too long (wrong lane), lane='L15_0', time=56562.00.\n",
      "Warning: Vehicle '513' ends teleporting on edge 'L18', time=56562.00.\n",
      "Warning: Teleporting vehicle '511'; waited too long (wrong lane), lane='L15_0', time=56564.00.\n",
      "Warning: Vehicle '511' ends teleporting on edge 'L18', time=56564.00.\n",
      "Warning: Teleporting vehicle '517'; waited too long (wrong lane), lane='L15_0', time=56565.00.\n",
      "Warning: Vehicle '517' ends teleporting on edge 'L18', time=56565.00.\n",
      "Warning: Teleporting vehicle '514'; waited too long (wrong lane), lane='L15_0', time=56567.00.\n",
      "Warning: Vehicle '514' ends teleporting on edge 'L18', time=56567.00.\n",
      "Warning: Teleporting vehicle '504'; waited too long (wrong lane), lane='L15_0', time=56568.00.\n",
      "Warning: Vehicle '504' ends teleporting on edge 'L18', time=56568.00.\n",
      "Warning: Teleporting vehicle '508'; waited too long (wrong lane), lane='L15_0', time=56569.00.\n",
      "Warning: Vehicle '508' ends teleporting on edge 'L18', time=56569.00.\n",
      "Warning: Teleporting vehicle '515'; waited too long (wrong lane), lane='L15_0', time=56571.00.\n",
      "Warning: Vehicle '515' ends teleporting on edge 'L18', time=56571.00.\n",
      "Warning: Teleporting vehicle '393'; waited too long (wrong lane), lane='L15_0', time=56572.00.\n",
      "Warning: Vehicle '393' ends teleporting on edge 'L18', time=56572.00.\n",
      "Warning: Teleporting vehicle '529'; waited too long (wrong lane), lane='L15_0', time=56573.00.\n",
      "Warning: Vehicle '529' ends teleporting on edge 'L18', time=56573.00.\n",
      "Warning: Teleporting vehicle '399'; waited too long (wrong lane), lane='L15_0', time=56574.00.\n",
      "Warning: Vehicle '399' ends teleporting on edge 'L18', time=56574.00.\n",
      "Warning: Teleporting vehicle '401'; waited too long (wrong lane), lane='L15_0', time=56583.00.\n",
      "Warning: Vehicle '401' ends teleporting on edge 'L18', time=56583.00.\n",
      "Warning: Teleporting vehicle '412'; waited too long (wrong lane), lane='L15_0', time=56590.00.\n",
      "Warning: Vehicle '412' ends teleporting on edge 'L18', time=56590.00.\n",
      "Warning: Teleporting vehicle '578'; waited too long (jam), lane=':1_3_1', time=56608.00.\n",
      "Warning: Vehicle '578' ends teleporting on edge 'L12', time=56608.00.\n"
     ]
    },
    {
     "name": "stdout",
     "output_type": "stream",
     "text": [
      "Step #56600.00 (7ms ~= 142.86*RT, ~97428.57UPS, vehicles TOT 1937 ACT 682 BUF 0)          \r"
     ]
    },
    {
     "name": "stderr",
     "output_type": "stream",
     "text": [
      "Warning: Teleporting vehicle '391'; waited too long (jam), lane='L12_1', time=56677.00.\n"
     ]
    },
    {
     "name": "stdout",
     "output_type": "stream",
     "text": [
      "Step #56700.00 (6ms ~= 166.67*RT, ~118333.33UPS, vehicles TOT 2012 ACT 710 BUF 0)         \r"
     ]
    },
    {
     "name": "stderr",
     "output_type": "stream",
     "text": [
      "Warning: Vehicle '391' ends teleporting on edge 'L15', time=56716.00.\n"
     ]
    },
    {
     "name": "stdout",
     "output_type": "stream",
     "text": [
      "Step #57200.00 (8ms ~= 125.00*RT, ~91625.00UPS, vehicles TOT 2305 ACT 733 BUF 79)         \r"
     ]
    },
    {
     "name": "stderr",
     "output_type": "stream",
     "text": [
      "Warning: Teleporting vehicle '562'; waited too long (jam), lane='L12_0', time=57201.00.\n",
      "Warning: Vehicle '562' ends teleporting on edge 'L15', time=57201.00.\n",
      "Warning: Teleporting vehicle '572'; waited too long (jam), lane='L12_0', time=57202.00.\n",
      "Warning: Teleporting vehicle '587'; waited too long (jam), lane='L12_0', time=57226.00.\n",
      "Warning: Teleporting vehicle '544'; waited too long (jam), lane='L12_0', time=57227.00.\n",
      "Warning: Teleporting vehicle '542'; waited too long (wrong lane), lane='L15_0', time=57247.00.\n",
      "Warning: Vehicle '542' ends teleporting on edge 'L18', time=57247.00.\n",
      "Warning: Vehicle '544' ends teleporting on edge 'L15', time=57287.00.\n",
      "Warning: Vehicle '572' ends teleporting on edge 'L15', time=57291.00.\n",
      "Warning: Vehicle '587' ends teleporting on edge 'L15', time=57303.00.\n"
     ]
    },
    {
     "name": "stdout",
     "output_type": "stream",
     "text": [
      "Step #57400.00 (7ms ~= 142.86*RT, ~101285.71UPS, vehicles TOT 2403 ACT 709 BUF 130)       \r"
     ]
    },
    {
     "name": "stderr",
     "output_type": "stream",
     "text": [
      "Warning: Teleporting vehicle '411'; waited too long (wrong lane), lane='L15_0', time=57407.00.\n",
      "Warning: Vehicle '411' ends teleporting on edge 'L18', time=57407.00.\n",
      "Warning: Teleporting vehicle '425'; waited too long (wrong lane), lane='L15_0', time=57408.00.\n",
      "Warning: Vehicle '425' ends teleporting on edge 'L18', time=57408.00.\n",
      "Warning: Teleporting vehicle '457'; waited too long (wrong lane), lane='L15_0', time=57409.00.\n",
      "Warning: Vehicle '457' ends teleporting on edge 'L18', time=57409.00.\n",
      "Warning: Teleporting vehicle '676'; waited too long (jam), lane=':1_3_1', time=57427.00.\n",
      "Warning: Vehicle '676' ends teleporting on edge 'L12', time=57427.00.\n",
      "Warning: Teleporting vehicle '594'; waited too long (jam), lane='L12_0', time=57462.00.\n",
      "Warning: Teleporting vehicle '561'; waited too long (jam), lane='L12_0', time=57463.00.\n",
      "Warning: Teleporting vehicle '558'; waited too long (jam), lane='L12_0', time=57464.00.\n",
      "Warning: Teleporting vehicle '588'; waited too long (jam), lane='L12_0', time=57465.00.\n",
      "Warning: Teleporting vehicle '593'; waited too long (jam), lane='L12_0', time=57466.00.\n",
      "Warning: Teleporting vehicle '598'; waited too long (jam), lane='L12_0', time=57467.00.\n",
      "Warning: Teleporting vehicle '592'; waited too long (jam), lane='L12_0', time=57468.00.\n",
      "Warning: Teleporting vehicle '583'; waited too long (jam), lane='L12_0', time=57469.00.\n",
      "Warning: Teleporting vehicle '597'; waited too long (jam), lane='L12_0', time=57470.00.\n",
      "Warning: Teleporting vehicle '601'; waited too long (jam), lane='L12_0', time=57471.00.\n",
      "Warning: Teleporting vehicle '604'; waited too long (jam), lane='L12_0', time=57472.00.\n",
      "Warning: Teleporting vehicle '600'; waited too long (jam), lane='L12_0', time=57473.00.\n",
      "Warning: Teleporting vehicle '595'; waited too long (jam), lane='L12_0', time=57474.00.\n",
      "Warning: Teleporting vehicle '599'; waited too long (jam), lane='L12_0', time=57475.00.\n",
      "Warning: Teleporting vehicle '607'; waited too long (jam), lane='L12_0', time=57476.00.\n",
      "Warning: Teleporting vehicle '606'; waited too long (jam), lane='L12_0', time=57477.00.\n",
      "Warning: Teleporting vehicle '611'; waited too long (jam), lane='L12_0', time=57478.00.\n",
      "Warning: Teleporting vehicle '563'; waited too long (jam), lane='L12_0', time=57479.00.\n",
      "Warning: Teleporting vehicle '614'; waited too long (jam), lane='L12_0', time=57480.00.\n",
      "Warning: Teleporting vehicle '616'; waited too long (jam), lane='L12_0', time=57481.00.\n",
      "Warning: Teleporting vehicle '618'; waited too long (jam), lane='L12_0', time=57482.00.\n",
      "Warning: Vehicle '558' ends teleporting on edge 'L15', time=57482.00.\n",
      "Warning: Teleporting vehicle '596'; waited too long (jam), lane='L12_0', time=57483.00.\n",
      "Warning: Teleporting vehicle '603'; waited too long (jam), lane='L12_0', time=57484.00.\n",
      "Warning: Teleporting vehicle '608'; waited too long (jam), lane='L12_0', time=57485.00.\n",
      "Warning: Teleporting vehicle '620'; waited too long (jam), lane='L12_0', time=57486.00.\n",
      "Warning: Teleporting vehicle '617'; waited too long (jam), lane='L12_0', time=57487.00.\n",
      "Warning: Teleporting vehicle '615'; waited too long (jam), lane='L12_0', time=57488.00.\n",
      "Warning: Teleporting vehicle '623'; waited too long (jam), lane='L12_0', time=57489.00.\n",
      "Warning: Teleporting vehicle '626'; waited too long (jam), lane='L12_0', time=57490.00.\n",
      "Warning: Teleporting vehicle '622'; waited too long (jam), lane='L12_0', time=57491.00.\n",
      "Warning: Teleporting vehicle '628'; waited too long (jam), lane='L12_0', time=57492.00.\n",
      "Warning: Teleporting vehicle '638'; waited too long (jam), lane='L12_0', time=57493.00.\n",
      "Warning: Teleporting vehicle '637'; waited too long (jam), lane='L12_0', time=57494.00.\n",
      "Warning: Teleporting vehicle '640'; waited too long (jam), lane='L12_0', time=57495.00.\n",
      "Warning: Teleporting vehicle '642'; waited too long (jam), lane='L12_0', time=57496.00.\n",
      "Warning: Teleporting vehicle '653'; waited too long (jam), lane='L12_0', time=57497.00.\n"
     ]
    },
    {
     "name": "stdout",
     "output_type": "stream",
     "text": [
      "Step #57500.00 (7ms ~= 142.86*RT, ~97000.00UPS, vehicles TOT 2429 ACT 679 BUF 179)        \r"
     ]
    },
    {
     "name": "stderr",
     "output_type": "stream",
     "text": [
      "Warning: Vehicle '561' ends teleporting on edge 'L15', time=57565.00.\n"
     ]
    },
    {
     "name": "stdout",
     "output_type": "stream",
     "text": [
      "Step #57600.00 (7ms ~= 142.86*RT, ~94000.00UPS, vehicles TOT 2454 ACT 658 BUF 228)        \n",
      "Simulation ended at time: 57600.00\n",
      "Reason: The final simulation step has been reached.\n",
      "Performance: \n",
      " Duration: 15.23s\n",
      " Real time factor: 236.438\n",
      " UPS: 117335.807172\n",
      "Vehicles: \n",
      " Inserted: 2454 (Loaded: 2682)\n",
      " Running: 658\n",
      " Waiting: 228\n",
      " Teleports: 68 (Jam: 45, Wrong Lane: 23)\n",
      "Statistics (avg of 1796):\n",
      " RouteLength: 4364.20\n",
      " Speed: 11.88\n",
      " Duration: 477.76\n",
      " WaitingTime: 103.57\n",
      " TimeLoss: 161.34\n",
      " DepartDelay: 7.55\n",
      "\n",
      "DijkstraRouter answered 2872 queries and explored 10.39 edges on average.\n",
      "DijkstraRouter spent 0.01s answering queries (0.00ms on average).\n",
      "printing /Users/rodrse/Documents/DemandCalibration/notebooks/od_calibration_sumo_files/quickstart/data/iter_quickstart.current_od.xml\n",
      "### Runing: iter\n",
      "od2trips --no-step-log  --spread.uniform --taz-files /Users/rodrse/Documents/DemandCalibration/notebooks/od_calibration_sumo_files/quickstart/data/quickstart.taz.xml --tazrelation-files /Users/rodrse/Documents/DemandCalibration/notebooks/od_calibration_sumo_files/quickstart/data/iter_quickstart.current_od.xml -o /Users/rodrse/Documents/DemandCalibration/notebooks/od_calibration_sumo_files/quickstart/data/iter_od_trips.trips.xml \n",
      "Success.\n",
      "Loading net-file from '/Users/rodrse/Documents/DemandCalibration/notebooks/od_calibration_sumo_files/quickstart/data/quickstart.net.xml' ... done (6ms).\n",
      "Loading additional-files from '/Users/rodrse/Documents/DemandCalibration/notebooks/od_calibration_sumo_files/quickstart/data/quickstart.additional.xml' ... done (1ms).\n",
      "Loading done.\n",
      "Simulation version 1.16.0 started with time: 54000.00.\n",
      "Step #57600.00 (6ms ~= 166.67*RT, ~112000.00UPS, vehicles TOT 2633 ACT 672 BUF 0)         \n",
      "Simulation ended at time: 57600.00\n",
      "Reason: The final simulation step has been reached.\n",
      "Performance: \n",
      " Duration: 13.47s\n",
      " Real time factor: 267.221\n",
      " UPS: 115572.520784\n",
      "Vehicles: \n",
      " Inserted: 2633\n",
      " Running: 672\n",
      " Waiting: 0\n",
      "Statistics (avg of 1961):\n",
      " RouteLength: 4384.81\n",
      " Speed: 12.50\n",
      " Duration: 425.61\n",
      " WaitingTime: 72.33\n",
      " TimeLoss: 107.22\n",
      " DepartDelay: 0.49\n",
      "\n",
      "DijkstraRouter answered 2633 queries and explored 10.53 edges on average.\n",
      "DijkstraRouter spent 0.01s answering queries (0.00ms on average).\n",
      "printing /Users/rodrse/Documents/DemandCalibration/notebooks/od_calibration_sumo_files/quickstart/data/iter_quickstart.current_od.xml\n",
      "### Runing: iter\n",
      "od2trips --no-step-log  --spread.uniform --taz-files /Users/rodrse/Documents/DemandCalibration/notebooks/od_calibration_sumo_files/quickstart/data/quickstart.taz.xml --tazrelation-files /Users/rodrse/Documents/DemandCalibration/notebooks/od_calibration_sumo_files/quickstart/data/iter_quickstart.current_od.xml -o /Users/rodrse/Documents/DemandCalibration/notebooks/od_calibration_sumo_files/quickstart/data/iter_od_trips.trips.xml \n",
      "Success.\n",
      "Loading net-file from '/Users/rodrse/Documents/DemandCalibration/notebooks/od_calibration_sumo_files/quickstart/data/quickstart.net.xml' ... done (8ms).\n",
      "Loading additional-files from '/Users/rodrse/Documents/DemandCalibration/notebooks/od_calibration_sumo_files/quickstart/data/quickstart.additional.xml' ... done (2ms).\n",
      "Loading done.\n",
      "Simulation version 1.16.0 started with time: 54000.00.\n"
     ]
    },
    {
     "name": "stderr",
     "output_type": "stream",
     "text": [
      "Warning: Teleporting vehicle '183'; waited too long (yield), lane='L15_1', time=57503.00.\n",
      "Warning: Vehicle '183' ends teleporting on edge 'L18', time=57503.00.\n"
     ]
    },
    {
     "name": "stdout",
     "output_type": "stream",
     "text": [
      "Step #57600.00 (8ms ~= 125.00*RT, ~99750.00UPS, vehicles TOT 2677 ACT 798 BUF 0)          \n",
      "Simulation ended at time: 57600.00\n",
      "Reason: The final simulation step has been reached.\n",
      "Performance: \n",
      " Duration: 16.76s\n",
      " Real time factor: 214.784\n",
      " UPS: 103394.904839\n",
      "Vehicles: \n",
      " Inserted: 2677\n",
      " Running: 798\n",
      " Waiting: 0\n",
      " Teleports: 1 (Yield: 1)\n",
      "Statistics (avg of 1879):\n",
      " RouteLength: 4249.88\n",
      " Speed: 11.28\n",
      " Duration: 533.16\n",
      " WaitingTime: 144.32\n",
      " TimeLoss: 225.19\n",
      " DepartDelay: 0.49\n",
      "\n",
      "DijkstraRouter answered 2677 queries and explored 9.61 edges on average.\n",
      "DijkstraRouter spent 0.01s answering queries (0.00ms on average).\n",
      "printing /Users/rodrse/Documents/DemandCalibration/notebooks/od_calibration_sumo_files/quickstart/data/iter_quickstart.current_od.xml\n",
      "### Runing: iter\n",
      "od2trips --no-step-log  --spread.uniform --taz-files /Users/rodrse/Documents/DemandCalibration/notebooks/od_calibration_sumo_files/quickstart/data/quickstart.taz.xml --tazrelation-files /Users/rodrse/Documents/DemandCalibration/notebooks/od_calibration_sumo_files/quickstart/data/iter_quickstart.current_od.xml -o /Users/rodrse/Documents/DemandCalibration/notebooks/od_calibration_sumo_files/quickstart/data/iter_od_trips.trips.xml \n",
      "Success.\n",
      "Loading net-file from '/Users/rodrse/Documents/DemandCalibration/notebooks/od_calibration_sumo_files/quickstart/data/quickstart.net.xml' ... done (8ms).\n",
      "Loading additional-files from '/Users/rodrse/Documents/DemandCalibration/notebooks/od_calibration_sumo_files/quickstart/data/quickstart.additional.xml' ... done (1ms).\n",
      "Loading done.\n",
      "Simulation version 1.16.0 started with time: 54000.00.\n",
      "Step #57000.00 (11ms ~= 90.91*RT, ~76636.36UPS, vehicles TOT 2741 ACT 843 BUF 0)          \r"
     ]
    },
    {
     "name": "stderr",
     "output_type": "stream",
     "text": [
      "Warning: Teleporting vehicle '603'; waited too long (wrong lane), lane='L12_2', time=57053.00.\n",
      "Warning: Vehicle '603' ends teleporting on edge 'L15', time=57062.00.\n"
     ]
    },
    {
     "name": "stdout",
     "output_type": "stream",
     "text": [
      "Step #57100.00 (10ms ~= 100.00*RT, ~85900.00UPS, vehicles TOT 2821 ACT 859 BUF 12)        \r"
     ]
    },
    {
     "name": "stderr",
     "output_type": "stream",
     "text": [
      "Warning: Teleporting vehicle '608'; waited too long (wrong lane), lane='L12_2', time=57107.00.\n",
      "Warning: Vehicle '608' ends teleporting on edge 'L15', time=57175.00.\n"
     ]
    },
    {
     "name": "stdout",
     "output_type": "stream",
     "text": [
      "Step #57200.00 (12ms ~= 83.33*RT, ~73416.67UPS, vehicles TOT 2898 ACT 881 BUF 26)         \r"
     ]
    },
    {
     "name": "stderr",
     "output_type": "stream",
     "text": [
      "Warning: Teleporting vehicle '614'; waited too long (wrong lane), lane='L12_2', time=57221.00.\n",
      "Warning: Vehicle '614' ends teleporting on edge 'L15', time=57237.00.\n",
      "Warning: Teleporting vehicle '1345'; waited too long (jam), lane='L2_1', time=57294.00.\n",
      "Warning: Vehicle '1345' ends teleporting on edge 'L12', time=57294.00.\n",
      "Warning: Teleporting vehicle '671'; waited too long (jam), lane='L2_1', time=57296.00.\n",
      "Warning: Vehicle '671' ends teleporting on edge 'L12', time=57296.00.\n"
     ]
    },
    {
     "name": "stdout",
     "output_type": "stream",
     "text": [
      "Step #57300.00 (9ms ~= 111.11*RT, ~100666.67UPS, vehicles TOT 2977 ACT 906 BUF 39)        \r"
     ]
    },
    {
     "name": "stderr",
     "output_type": "stream",
     "text": [
      "Warning: Teleporting vehicle '618'; waited too long (wrong lane), lane='L12_2', time=57330.00.\n",
      "Warning: Vehicle '618' ends teleporting on edge 'L15', time=57330.00.\n",
      "Warning: Teleporting vehicle '619'; waited too long (wrong lane), lane='L12_2', time=57331.00.\n",
      "Warning: Vehicle '619' ends teleporting on edge 'L15', time=57369.00.\n",
      "Warning: Teleporting vehicle '621'; waited too long (wrong lane), lane='L12_2', time=57389.00.\n"
     ]
    },
    {
     "name": "stdout",
     "output_type": "stream",
     "text": [
      "Step #57400.00 (9ms ~= 111.11*RT, ~101111.11UPS, vehicles TOT 3042 ACT 910 BUF 66)        \r"
     ]
    },
    {
     "name": "stderr",
     "output_type": "stream",
     "text": [
      "Warning: Vehicle '621' ends teleporting on edge 'L15', time=57427.00.\n",
      "Warning: Teleporting vehicle '478'; waited too long (jam), lane='L2_0', time=57464.00.\n",
      "Warning: Vehicle '478' ends teleporting on edge 'L12', time=57464.00.\n",
      "Warning: Teleporting vehicle '1377'; waited too long (jam), lane='D2_1', time=57465.00.\n",
      "Warning: Teleporting vehicle '712'; waited too long (jam), lane='D2_1', time=57470.00.\n",
      "Warning: Teleporting vehicle '713'; waited too long (jam), lane='D2_1', time=57471.00.\n"
     ]
    },
    {
     "name": "stdout",
     "output_type": "stream",
     "text": [
      "Step #57500.00 (10ms ~= 100.00*RT, ~90100.00UPS, vehicles TOT 3092 ACT 901 BUF 106)       \r"
     ]
    },
    {
     "name": "stderr",
     "output_type": "stream",
     "text": [
      "Warning: Teleporting vehicle '544'; waited too long (jam), lane=':911_3_0', time=57546.00.\n",
      "Warning: Teleporting vehicle '545'; waited too long (jam), lane='D2_0', time=57547.00.\n"
     ]
    },
    {
     "name": "stdout",
     "output_type": "stream",
     "text": [
      "Step #57600.00 (9ms ~= 111.11*RT, ~99777.78UPS, vehicles TOT 3143 ACT 898 BUF 147)        \n",
      "Simulation ended at time: 57600.00\n",
      "Reason: The final simulation step has been reached.\n",
      "Performance: \n",
      " Duration: 24.18s\n",
      " Real time factor: 148.871\n",
      " UPS: 92649.987594\n",
      "Vehicles: \n",
      " Inserted: 3143 (Loaded: 3290)\n",
      " Running: 898\n",
      " Waiting: 147\n",
      " Teleports: 14 (Jam: 8, Wrong Lane: 6)\n",
      "Statistics (avg of 2245):\n",
      " RouteLength: 4382.84\n",
      " Speed: 11.39\n",
      " Duration: 477.04\n",
      " WaitingTime: 82.13\n",
      " TimeLoss: 159.36\n",
      " DepartDelay: 0.49\n",
      "\n",
      "DijkstraRouter answered 3335 queries and explored 10.23 edges on average.\n",
      "DijkstraRouter spent 0.02s answering queries (0.01ms on average).\n",
      "printing /Users/rodrse/Documents/DemandCalibration/notebooks/od_calibration_sumo_files/quickstart/data/iter_quickstart.current_od.xml\n",
      "### Runing: iter\n",
      "od2trips --no-step-log  --spread.uniform --taz-files /Users/rodrse/Documents/DemandCalibration/notebooks/od_calibration_sumo_files/quickstart/data/quickstart.taz.xml --tazrelation-files /Users/rodrse/Documents/DemandCalibration/notebooks/od_calibration_sumo_files/quickstart/data/iter_quickstart.current_od.xml -o /Users/rodrse/Documents/DemandCalibration/notebooks/od_calibration_sumo_files/quickstart/data/iter_od_trips.trips.xml \n",
      "Success.\n",
      "Loading net-file from '/Users/rodrse/Documents/DemandCalibration/notebooks/od_calibration_sumo_files/quickstart/data/quickstart.net.xml' ... done (8ms).\n",
      "Loading additional-files from '/Users/rodrse/Documents/DemandCalibration/notebooks/od_calibration_sumo_files/quickstart/data/quickstart.additional.xml' ... done (1ms).\n",
      "Loading done.\n",
      "Simulation version 1.16.0 started with time: 54000.00.\n",
      "Step #56900.00 (6ms ~= 166.67*RT, ~114333.33UPS, vehicles TOT 2242 ACT 686 BUF 0)         \r"
     ]
    },
    {
     "name": "stderr",
     "output_type": "stream",
     "text": [
      "Warning: Teleporting vehicle '500'; waited too long (wrong lane), lane='L15_0', time=56904.00.\n",
      "Warning: Vehicle '500' ends teleporting on edge 'L18', time=56904.00.\n",
      "Warning: Teleporting vehicle '504'; waited too long (wrong lane), lane='L15_0', time=56905.00.\n",
      "Warning: Vehicle '504' ends teleporting on edge 'L18', time=56905.00.\n",
      "Warning: Teleporting vehicle '508'; waited too long (wrong lane), lane='L15_0', time=56906.00.\n",
      "Warning: Vehicle '508' ends teleporting on edge 'L18', time=56906.00.\n",
      "Warning: Teleporting vehicle '502'; waited too long (wrong lane), lane='L15_0', time=56907.00.\n",
      "Warning: Vehicle '502' ends teleporting on edge 'L18', time=56907.00.\n",
      "Warning: Teleporting vehicle '514'; waited too long (wrong lane), lane='L15_0', time=56908.00.\n",
      "Warning: Vehicle '514' ends teleporting on edge 'L18', time=56908.00.\n",
      "Warning: Teleporting vehicle '518'; waited too long (wrong lane), lane='L15_0', time=56915.00.\n",
      "Warning: Vehicle '518' ends teleporting on edge 'L18', time=56915.00.\n"
     ]
    },
    {
     "name": "stdout",
     "output_type": "stream",
     "text": [
      "Step #57000.00 (8ms ~= 125.00*RT, ~86500.00UPS, vehicles TOT 2320 ACT 692 BUF 0)          \r"
     ]
    },
    {
     "name": "stderr",
     "output_type": "stream",
     "text": [
      "Warning: Teleporting vehicle '477'; waited too long (jam), lane='L12_0', time=57009.00.\n",
      "Warning: Vehicle '477' ends teleporting on edge 'L15', time=57009.00.\n",
      "Warning: Teleporting vehicle '466'; waited too long (jam), lane='L12_0', time=57010.00.\n",
      "Warning: Teleporting vehicle '480'; waited too long (jam), lane='L12_0', time=57011.00.\n",
      "Warning: Teleporting vehicle '482'; waited too long (jam), lane='L12_0', time=57012.00.\n",
      "Warning: Vehicle '466' ends teleporting on edge 'L15', time=57047.00.\n",
      "Warning: Vehicle '480' ends teleporting on edge 'L15', time=57051.00.\n",
      "Warning: Vehicle '482' ends teleporting on edge 'L15', time=57063.00.\n"
     ]
    },
    {
     "name": "stdout",
     "output_type": "stream",
     "text": [
      "Step #57100.00 (9ms ~= 111.11*RT, ~78666.67UPS, vehicles TOT 2396 ACT 708 BUF 0)          \r"
     ]
    },
    {
     "name": "stderr",
     "output_type": "stream",
     "text": [
      "Warning: Teleporting vehicle '606'; waited too long (jam), lane=':1_3_1', time=57129.00.\n",
      "Warning: Vehicle '606' ends teleporting on edge 'L12', time=57129.00.\n"
     ]
    },
    {
     "name": "stdout",
     "output_type": "stream",
     "text": [
      "Step #57600.00 (10ms ~= 100.00*RT, ~77100.00UPS, vehicles TOT 2767 ACT 771 BUF 16)        \n",
      "Simulation ended at time: 57600.00\n",
      "Reason: The final simulation step has been reached.\n",
      "Performance: \n",
      " Duration: 20.21s\n",
      " Real time factor: 178.147\n",
      " UPS: 90115.449327\n",
      "Vehicles: \n",
      " Inserted: 2767 (Loaded: 2783)\n",
      " Running: 771\n",
      " Waiting: 16\n",
      " Teleports: 11 (Jam: 5, Wrong Lane: 6)\n",
      "Statistics (avg of 1996):\n",
      " RouteLength: 4328.57\n",
      " Speed: 11.59\n",
      " Duration: 476.45\n",
      " WaitingTime: 100.53\n",
      " TimeLoss: 161.93\n",
      " DepartDelay: 0.49\n",
      "\n",
      "DijkstraRouter answered 2783 queries and explored 10.03 edges on average.\n",
      "DijkstraRouter spent 0.02s answering queries (0.01ms on average).\n",
      "printing /Users/rodrse/Documents/DemandCalibration/notebooks/od_calibration_sumo_files/quickstart/data/iter_quickstart.current_od.xml\n",
      "### Runing: iter\n",
      "od2trips --no-step-log  --spread.uniform --taz-files /Users/rodrse/Documents/DemandCalibration/notebooks/od_calibration_sumo_files/quickstart/data/quickstart.taz.xml --tazrelation-files /Users/rodrse/Documents/DemandCalibration/notebooks/od_calibration_sumo_files/quickstart/data/iter_quickstart.current_od.xml -o /Users/rodrse/Documents/DemandCalibration/notebooks/od_calibration_sumo_files/quickstart/data/iter_od_trips.trips.xml \n",
      "Success.\n",
      "Loading net-file from '/Users/rodrse/Documents/DemandCalibration/notebooks/od_calibration_sumo_files/quickstart/data/quickstart.net.xml' ... done (7ms).\n",
      "Loading additional-files from '/Users/rodrse/Documents/DemandCalibration/notebooks/od_calibration_sumo_files/quickstart/data/quickstart.additional.xml' ... done (1ms).\n",
      "Loading done.\n",
      "Simulation version 1.16.0 started with time: 54000.00.\n",
      "Step #57600.00 (7ms ~= 142.86*RT, ~104571.43UPS, vehicles TOT 2680 ACT 732 BUF 0)         \n",
      "Simulation ended at time: 57600.00\n",
      "Reason: The final simulation step has been reached.\n",
      "Performance: \n",
      " Duration: 16.70s\n",
      " Real time factor: 215.517\n",
      " UPS: 99237.787356\n",
      "Vehicles: \n",
      " Inserted: 2680\n",
      " Running: 732\n",
      " Waiting: 0\n",
      "Statistics (avg of 1948):\n",
      " RouteLength: 4350.25\n",
      " Speed: 10.92\n",
      " Duration: 521.85\n",
      " WaitingTime: 106.75\n",
      " TimeLoss: 206.54\n",
      " DepartDelay: 0.49\n",
      "\n",
      "DijkstraRouter answered 2680 queries and explored 9.95 edges on average.\n",
      "DijkstraRouter spent 0.01s answering queries (0.00ms on average).\n",
      "printing /Users/rodrse/Documents/DemandCalibration/notebooks/od_calibration_sumo_files/quickstart/data/iter_quickstart.current_od.xml\n",
      "### Runing: iter\n",
      "od2trips --no-step-log  --spread.uniform --taz-files /Users/rodrse/Documents/DemandCalibration/notebooks/od_calibration_sumo_files/quickstart/data/quickstart.taz.xml --tazrelation-files /Users/rodrse/Documents/DemandCalibration/notebooks/od_calibration_sumo_files/quickstart/data/iter_quickstart.current_od.xml -o /Users/rodrse/Documents/DemandCalibration/notebooks/od_calibration_sumo_files/quickstart/data/iter_od_trips.trips.xml \n",
      "Success.\n",
      "Loading net-file from '/Users/rodrse/Documents/DemandCalibration/notebooks/od_calibration_sumo_files/quickstart/data/quickstart.net.xml' ... done (7ms).\n",
      "Loading additional-files from '/Users/rodrse/Documents/DemandCalibration/notebooks/od_calibration_sumo_files/quickstart/data/quickstart.additional.xml' ... done (1ms).\n",
      "Loading done.\n",
      "Simulation version 1.16.0 started with time: 54000.00.\n",
      "Step #57600.00 (7ms ~= 142.86*RT, ~106000.00UPS, vehicles TOT 2759 ACT 742 BUF 0)         \n",
      "Simulation ended at time: 57600.00\n",
      "Reason: The final simulation step has been reached.\n",
      "Performance: \n",
      " Duration: 15.02s\n",
      " Real time factor: 239.76\n",
      " UPS: 119490.975691\n",
      "Vehicles: \n",
      " Inserted: 2759\n",
      " Running: 742\n",
      " Waiting: 0\n",
      " Teleports: 1 (Wrong Lane: 1)\n",
      "Statistics (avg of 2017):\n",
      " RouteLength: 4336.59\n",
      " Speed: 10.89\n",
      " Duration: 531.60\n",
      " WaitingTime: 115.39\n",
      " TimeLoss: 216.84\n",
      " DepartDelay: 0.49\n",
      "\n",
      "DijkstraRouter answered 2759 queries and explored 9.91 edges on average.\n",
      "DijkstraRouter spent 0.01s answering queries (0.00ms on average).\n"
     ]
    },
    {
     "name": "stderr",
     "output_type": "stream",
     "text": [
      "Warning: Teleporting vehicle '517'; waited too long (wrong lane), lane='L15_0', time=57575.00.\n",
      "Warning: Vehicle '517' ends teleporting on edge 'L18', time=57575.00.\n"
     ]
    },
    {
     "name": "stdout",
     "output_type": "stream",
     "text": [
      "printing /Users/rodrse/Documents/DemandCalibration/notebooks/od_calibration_sumo_files/quickstart/data/iter_quickstart.current_od.xml\n",
      "### Runing: iter\n",
      "od2trips --no-step-log  --spread.uniform --taz-files /Users/rodrse/Documents/DemandCalibration/notebooks/od_calibration_sumo_files/quickstart/data/quickstart.taz.xml --tazrelation-files /Users/rodrse/Documents/DemandCalibration/notebooks/od_calibration_sumo_files/quickstart/data/iter_quickstart.current_od.xml -o /Users/rodrse/Documents/DemandCalibration/notebooks/od_calibration_sumo_files/quickstart/data/iter_od_trips.trips.xml \n",
      "Success.\n",
      "Loading net-file from '/Users/rodrse/Documents/DemandCalibration/notebooks/od_calibration_sumo_files/quickstart/data/quickstart.net.xml' ... done (8ms).\n",
      "Loading additional-files from '/Users/rodrse/Documents/DemandCalibration/notebooks/od_calibration_sumo_files/quickstart/data/quickstart.additional.xml' ... done (2ms).\n",
      "Loading done.\n",
      "Simulation version 1.16.0 started with time: 54000.00.\n",
      "Step #56800.00 (10ms ~= 100.00*RT, ~90300.00UPS, vehicles TOT 2584 ACT 903 BUF 22)        \r"
     ]
    },
    {
     "name": "stderr",
     "output_type": "stream",
     "text": [
      "Warning: Teleporting vehicle '597'; waited too long (wrong lane), lane='L12_2', time=56802.00.\n",
      "Warning: Vehicle '597' ends teleporting on edge 'L15', time=56802.00.\n",
      "Warning: Teleporting vehicle '602'; waited too long (wrong lane), lane='L12_2', time=56861.00.\n",
      "Warning: Vehicle '602' ends teleporting on edge 'L15', time=56861.00.\n",
      "Warning: Teleporting vehicle '527'; waited too long (jam), lane='D2_0', time=56896.00.\n",
      "Warning: Teleporting vehicle '670'; waited too long (jam), lane=':1_3_2', time=56906.00.\n",
      "Warning: Vehicle '670' ends teleporting on edge 'L12', time=56906.00.\n",
      "Warning: Teleporting vehicle '671'; waited too long (jam), lane='L2_1', time=56910.00.\n",
      "Warning: Vehicle '671' ends teleporting on edge 'L12', time=56910.00.\n",
      "Warning: Teleporting vehicle '672'; waited too long (jam), lane='L2_1', time=56911.00.\n",
      "Warning: Vehicle '672' ends teleporting on edge 'L12', time=56911.00.\n"
     ]
    },
    {
     "name": "stdout",
     "output_type": "stream",
     "text": [
      "Step #56900.00 (9ms ~= 111.11*RT, ~102666.67UPS, vehicles TOT 2665 ACT 924 BUF 34)        \r"
     ]
    },
    {
     "name": "stderr",
     "output_type": "stream",
     "text": [
      "Warning: Teleporting vehicle '606'; waited too long (wrong lane), lane='L12_2', time=56991.00.\n",
      "Warning: Vehicle '606' ends teleporting on edge 'L15', time=56993.00.\n"
     ]
    },
    {
     "name": "stdout",
     "output_type": "stream",
     "text": [
      "Step #57000.00 (9ms ~= 111.11*RT, ~102666.67UPS, vehicles TOT 2731 ACT 924 BUF 62)        \r"
     ]
    },
    {
     "name": "stderr",
     "output_type": "stream",
     "text": [
      "Warning: Teleporting vehicle '607'; waited too long (wrong lane), lane='L12_2', time=57023.00.\n",
      "Warning: Teleporting vehicle '608'; waited too long (wrong lane), lane='L12_2', time=57024.00.\n",
      "Warning: Teleporting vehicle '460'; waited too long (jam), lane=':1_3_1', time=57041.00.\n",
      "Warning: Vehicle '460' ends teleporting on edge 'L12', time=57041.00.\n",
      "Warning: Vehicle '527' ends teleporting on edge 'L2', time=57054.00.\n",
      "Warning: Teleporting vehicle '715'; waited too long (jam), lane='D2_1', time=57057.00.\n",
      "Warning: Teleporting vehicle '716'; waited too long (jam), lane='D2_1', time=57063.00.\n",
      "Warning: Vehicle '607' ends teleporting on edge 'L15', time=57067.00.\n"
     ]
    },
    {
     "name": "stdout",
     "output_type": "stream",
     "text": [
      "Step #57100.00 (8ms ~= 125.00*RT, ~115250.00UPS, vehicles TOT 2782 ACT 922 BUF 103)       \r"
     ]
    },
    {
     "name": "stderr",
     "output_type": "stream",
     "text": [
      "Warning: Teleporting vehicle '612'; waited too long (wrong lane), lane='L12_2', time=57115.00.\n",
      "Warning: Vehicle '608' ends teleporting on edge 'L15', time=57124.00.\n",
      "Warning: Teleporting vehicle '615'; waited too long (wrong lane), lane='L12_2', time=57184.00.\n",
      "Warning: Vehicle '612' ends teleporting on edge 'L15', time=57186.00.\n",
      "Warning: Teleporting vehicle '528'; waited too long (jam), lane='D2_0', time=57201.00.\n"
     ]
    },
    {
     "name": "stdout",
     "output_type": "stream",
     "text": [
      "Step #57200.00 (11ms ~= 90.91*RT, ~83363.64UPS, vehicles TOT 2833 ACT 917 BUF 145)        \r"
     ]
    },
    {
     "name": "stderr",
     "output_type": "stream",
     "text": [
      "Warning: Teleporting vehicle '1335'; waited too long (jam), lane=':1_3_2', time=57212.00.\n",
      "Warning: Teleporting vehicle '617'; waited too long (wrong lane), lane='L12_2', time=57223.00.\n",
      "Warning: Vehicle '615' ends teleporting on edge 'L15', time=57251.00.\n",
      "Warning: Teleporting vehicle '621'; waited too long (wrong lane), lane='L12_2', time=57284.00.\n",
      "Warning: Vehicle '617' ends teleporting on edge 'L15', time=57323.00.\n"
     ]
    },
    {
     "name": "stdout",
     "output_type": "stream",
     "text": [
      "Step #57300.00 (11ms ~= 90.91*RT, ~82090.91UPS, vehicles TOT 2885 ACT 903 BUF 186)        \r"
     ]
    },
    {
     "name": "stderr",
     "output_type": "stream",
     "text": [
      "Warning: Teleporting vehicle '462'; waited too long (jam), lane=':1_3_1', time=57347.00.\n",
      "Warning: Vehicle '462' ends teleporting on edge 'L12', time=57347.00.\n",
      "Warning: Teleporting vehicle '673'; waited too long (jam), lane='L2_1', time=57352.00.\n",
      "Warning: Vehicle '673' ends teleporting on edge 'L12', time=57352.00.\n",
      "Warning: Teleporting vehicle '623'; waited too long (wrong lane), lane='L12_2', time=57366.00.\n",
      "Warning: Teleporting vehicle '624'; waited too long (wrong lane), lane='L12_2', time=57367.00.\n",
      "Warning: Teleporting vehicle '1361'; waited too long (jam), lane='D2_1', time=57370.00.\n",
      "Warning: Vehicle '621' ends teleporting on edge 'L15', time=57394.00.\n"
     ]
    },
    {
     "name": "stdout",
     "output_type": "stream",
     "text": [
      "Step #57400.00 (9ms ~= 111.11*RT, ~101000.00UPS, vehicles TOT 2936 ACT 909 BUF 228)       \r"
     ]
    },
    {
     "name": "stderr",
     "output_type": "stream",
     "text": [
      "Warning: Vehicle '623' ends teleporting on edge 'L15', time=57451.00.\n"
     ]
    },
    {
     "name": "stdout",
     "output_type": "stream",
     "text": [
      "Step #57500.00 (11ms ~= 90.91*RT, ~81818.18UPS, vehicles TOT 2988 ACT 900 BUF 269)        \r"
     ]
    },
    {
     "name": "stderr",
     "output_type": "stream",
     "text": [
      "Warning: Teleporting vehicle '529'; waited too long (jam), lane='D2_0', time=57507.00.\n",
      "Warning: Vehicle '624' ends teleporting on edge 'L15', time=57507.00.\n",
      "Warning: Teleporting vehicle '1336'; waited too long (jam), lane=':1_3_2', time=57518.00.\n",
      "Warning: Vehicle '715' ends teleporting on edge 'L12', time=57557.00.\n",
      "Warning: Vehicle '716' ends teleporting on edge 'L12', time=57563.00.\n"
     ]
    },
    {
     "name": "stdout",
     "output_type": "stream",
     "text": [
      "Step #57600.00 (10ms ~= 100.00*RT, ~89500.00UPS, vehicles TOT 3039 ACT 895 BUF 311)       \n",
      "Simulation ended at time: 57600.00\n",
      "Reason: The final simulation step has been reached.\n",
      "Performance: \n",
      " Duration: 25.46s\n",
      " Real time factor: 141.42\n",
      " UPS: 89598.130107\n",
      "Vehicles: \n",
      " Inserted: 3039 (Loaded: 3350)\n",
      " Running: 895\n",
      " Waiting: 311\n",
      " Teleports: 25 (Jam: 14, Wrong Lane: 11)\n",
      "Statistics (avg of 2144):\n",
      " RouteLength: 4440.82\n",
      " Speed: 12.28\n",
      " Duration: 430.30\n",
      " WaitingTime: 71.54\n",
      " TimeLoss: 108.64\n",
      " DepartDelay: 0.46\n",
      "\n",
      "DijkstraRouter answered 3392 queries and explored 10.72 edges on average.\n",
      "DijkstraRouter spent 0.03s answering queries (0.01ms on average).\n"
     ]
    }
   ],
   "source": [
    "### Generate batch of policies using Sobol sequences\n",
    "from torch.quasirandom import SobolEngine\n",
    "n0 = 20\n",
    "dim = 4\n",
    "sobol = SobolEngine(dim, scramble=True)\n",
    "x_0 = sobol.draw(n0).to(dtype=dtype)\n",
    "from botorch.utils.transforms import unnormalize\n",
    "# map the normalized into the original parameter space\n",
    "train_X0 = unnormalize(x_0, bounds)\n",
    "\n",
    "df_0 = [\n",
    "    objective(x) for x in train_X0.cpu().detach().numpy()\n",
    "]\n",
    "\n",
    "df_0 = pd.concat(df_0)\n",
    "df_0['iter'] = 0\n"
   ]
  },
  {
   "cell_type": "code",
   "execution_count": null,
   "metadata": {},
   "outputs": [],
   "source": [
    "### GP model surrogate\n",
    "import torch\n",
    "import matplotlib.pyplot as plt\n",
    "\n",
    "from botorch.models.transforms import Normalize, Standardize\n",
    "\n",
    "from botorch.utils.transforms import normalize\n",
    "\n",
    "from botorch.models import SingleTaskGP\n",
    "from gpytorch.mlls import ExactMarginalLogLikelihood\n",
    "from botorch import fit_gpytorch_mll\n",
    "\n",
    "\n",
    "train_X = torch.from_numpy(df_0[[\"x1\",\"x2\",\"x3\",\"x4\"]].values)\n",
    "train_X_norm = normalize(train_X,bounds)\n",
    "\n",
    "train_Y = -torch.from_numpy(df_0[[\"loss_estimate\"]].values)\n",
    "\n",
    "\n",
    "def initialize_gp_model(train_X,train_Y):\n",
    "            \n",
    "    gp_model = SingleTaskGP(\n",
    "        train_X=train_X,\n",
    "        train_Y=train_Y,\n",
    "        outcome_transform=Standardize(m=1)\n",
    "    )\n",
    "\n",
    "    gp_mll = ExactMarginalLogLikelihood(gp_model.likelihood, gp_model)\n",
    "    \n",
    "    return gp_model, gp_mll\n",
    "\n",
    "\n",
    "gp_model, gp_mll = initialize_gp_model(train_X_norm,train_Y)\n",
    "\n",
    "# Fit model\n",
    "fit_gpytorch_mll(gp_mll)\n"
   ]
  },
  {
   "cell_type": "code",
   "execution_count": null,
   "metadata": {},
   "outputs": [],
   "source": [
    "\n",
    "### Acquisition Function: q-EI\n",
    "# Acquisition function\n",
    "from botorch.acquisition import qExpectedImprovement\n",
    "from botorch.sampling.stochastic_samplers import StochasticSampler\n",
    "\n",
    "sampler = StochasticSampler(sample_shape=torch.Size([128]))\n",
    "qEI = qExpectedImprovement(gp_model, best_f=max(train_Y), sampler=sampler)\n",
    "\n",
    "from botorch.utils.transforms import unnormalize\n",
    "from botorch.optim import optimize_acqf\n",
    "    \n",
    "def optimize_acqf_and_get_observation(acq_func,bounds):\n",
    "    \"\"\"Optimizes the acquisition function, and returns a new candidate.\"\"\"\n",
    "    # optimize\n",
    "    candidates, _ = optimize_acqf(\n",
    "        acq_function=acq_func,\n",
    "        bounds=torch.tensor([[0.0] * dim, [1.0] * dim], device=device, dtype=dtype),\n",
    "        q=BATCH_SIZE,\n",
    "        num_restarts=NUM_RESTARTS,\n",
    "        raw_samples=RAW_SAMPLES,  # used for intialization heuristic\n",
    "        options={\"batch_limit\": 5, \"maxiter\": 200},\n",
    "    )\n",
    "\n",
    "    # observe new values \n",
    "    new_x = candidates.detach()\n",
    "    \n",
    "    return unnormalize(new_x, bounds)\n"
   ]
  },
  {
   "cell_type": "code",
   "execution_count": null,
   "metadata": {},
   "outputs": [],
   "source": [
    "\n",
    "BATCH_SIZE = 1 \n",
    "NUM_RESTARTS = 5 \n",
    "RAW_SAMPLES = 32 \n",
    "\n",
    "new_x = optimize_acqf_and_get_observation(\n",
    "    acq_func=qEI,\n",
    "    bounds=bounds\n",
    ")\n",
    "\n",
    "new_x\n"
   ]
  },
  {
   "cell_type": "code",
   "execution_count": null,
   "metadata": {},
   "outputs": [],
   "source": [
    "\n",
    "### Run loop\n",
    "NITER = 175\n",
    "output = [df_0]\n",
    "best_value = []\n",
    "\n",
    "for i in range(NITER):\n",
    "    \n",
    "    print(f\"####### {i+1} ########\")\n",
    "    \n",
    "    df_ = df_0 if i == 0 else df_i\n",
    "    \n",
    "    n_obs = df_.shape[0]\n",
    "    print(f\"##### n={n_obs} #####\")\n",
    "    \n",
    "    # Training data\n",
    "    train_X = torch.from_numpy(df_[[\"x1\",\"x2\",\"x3\",\"x4\"]].values)    \n",
    "    train_X_norm = normalize(train_X,bounds)\n",
    "    \n",
    "    train_Y = -torch.from_numpy(df_[[\"loss_estimate\"]].values) # Take negative\n",
    "    \n",
    "    # best value so far\n",
    "    best_y = train_Y.max()\n",
    "    best_value.append(best_y)\n",
    "    print(f\"##### best_value={best_y} #####\")\n",
    "\n",
    "    # Declare model with newest data\n",
    "    gp_model, gp_mll = initialize_gp_model(train_X_norm,train_Y)\n",
    "\n",
    "    # Fit model\n",
    "    fit_gpytorch_mll(gp_mll)\n",
    "\n",
    "    # Construct acquistion function \n",
    "    sampler = StochasticSampler(sample_shape=torch.Size([128]))\n",
    "    qEI = qExpectedImprovement(gp_model, best_f=best_y, sampler=sampler)\n",
    "    \n",
    "    # Maximize acquisition function to get next observation\n",
    "    new_x = optimize_acqf_and_get_observation(acq_func=qEI,bounds=bounds)\n",
    "    \n",
    "    # Query SUMO on new sampling location\n",
    "    df_simulation = objective(new_x.cpu().detach().numpy().reshape(-1))\n",
    "    df_simulation['iter'] = i+1\n",
    "    \n",
    "    # Update history of training data\n",
    "    output.append(df_simulation)\n",
    "    \n",
    "    df_i = pd.concat(output)\n",
    "\n",
    "df = pd.concat(output)\n"
   ]
  },
  {
   "cell_type": "code",
   "execution_count": null,
   "metadata": {},
   "outputs": [],
   "source": [
    "\n",
    "df_plot = df.query('iter>0')\n",
    "import numpy as np\n",
    "import matplotlib.pyplot as plt\n",
    "\n",
    "x = df_plot['iter']\n",
    "y = df_plot['loss_estimate']\n",
    "\n",
    "plt.plot(x, best_value)\n",
    "#plt.legend(title='Parameter where:')\n",
    "plt.show()\n",
    "df.query('loss_estimate<0.010')"
   ]
  }
 ],
 "metadata": {
  "kernelspec": {
   "display_name": "BoTorch",
   "language": "python",
   "name": "python3"
  },
  "language_info": {
   "codemirror_mode": {
    "name": "ipython",
    "version": 3
   },
   "file_extension": ".py",
   "mimetype": "text/x-python",
   "name": "python",
   "nbconvert_exporter": "python",
   "pygments_lexer": "ipython3",
   "version": "3.9.11"
  },
  "orig_nbformat": 4
 },
 "nbformat": 4,
 "nbformat_minor": 2
}
