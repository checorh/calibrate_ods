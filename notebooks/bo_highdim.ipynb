{
 "cells": [
  {
   "cell_type": "markdown",
   "metadata": {},
   "source": [
    "### Load simulator metadata"
   ]
  },
  {
   "cell_type": "code",
   "execution_count": 23,
   "metadata": {},
   "outputs": [],
   "source": [
    "from sumo_python.helpers.load_experiment_metadata import load_experiment_config\n",
    "\n",
    "input_path = \"/Users/rodrse/Documents/DemandCalibration/notebooks/od_calibration_sumo_files/\"\n",
    "\n",
    "config, sim_setup = load_experiment_config(config=input_path + 'config.json',\n",
    "                        sim_setup=input_path + 'simulation_setups.json',)"
   ]
  },
  {
   "cell_type": "code",
   "execution_count": 24,
   "metadata": {},
   "outputs": [
    {
     "name": "stdout",
     "output_type": "stream",
     "text": [
      "od2trips --no-step-log  --spread.uniform --taz-files /Users/rodrse/Documents/DemandCalibration/notebooks/od_calibration_sumo_files/quickstart/data/quickstart.taz.xml --tazrelation-files /Users/rodrse/Documents/DemandCalibration/notebooks/od_calibration_sumo_files/quickstart/data/quickstart.gt_od.xml -o /Users/rodrse/Documents/DemandCalibration/notebooks/od_calibration_sumo_files/quickstart/data/gt_od_trips.trips.xml \n",
      "Success.\n",
      "sumo --output-prefix gt_ --ignore-route-errors=true --net-file=/Users/rodrse/Documents/DemandCalibration/notebooks/od_calibration_sumo_files/quickstart/data/quickstart.net.xml --routes=/Users/rodrse/Documents/DemandCalibration/notebooks/od_calibration_sumo_files/quickstart/data/gt_od_trips.trips.xml -b 54000 -e 57600 --additional-files /Users/rodrse/Documents/DemandCalibration/notebooks/od_calibration_sumo_files/quickstart/data/quickstart.additional.xml --duration-log.statistics --xml-validation never --vehroutes /Users/rodrse/Documents/DemandCalibration/notebooks/od_calibration_sumo_files/quickstart/data/gt_routes.vehroutes.xml \n",
      "Loading net-file from '/Users/rodrse/Documents/DemandCalibration/notebooks/od_calibration_sumo_files/quickstart/data/quickstart.net.xml' ... done (10ms).\n",
      "Loading additional-files from '/Users/rodrse/Documents/DemandCalibration/notebooks/od_calibration_sumo_files/quickstart/data/quickstart.additional.xml' ... done (3ms).\n",
      "Loading done.\n",
      "Simulation version 1.16.0 started with time: 54000.00.\n",
      "Step #57600.00 (10ms ~= 100.00*RT, ~65600.00UPS, vehicles TOT 2800 ACT 656 BUF 0)         \n",
      "Simulation ended at time: 57600.00\n",
      "Reason: The final simulation step has been reached.\n",
      "Performance: \n",
      " Duration: 22.17s\n",
      " Real time factor: 162.352\n",
      " UPS: 72931.451249\n",
      "Vehicles: \n",
      " Inserted: 2800\n",
      " Running: 656\n",
      " Waiting: 0\n",
      "Statistics (avg of 2144):\n",
      " RouteLength: 4392.77\n",
      " Speed: 11.24\n",
      " Duration: 471.78\n",
      " WaitingTime: 81.10\n",
      " TimeLoss: 153.11\n",
      " DepartDelay: 0.10\n",
      "\n",
      "DijkstraRouter answered 2800 queries and explored 10.01 edges on average.\n",
      "DijkstraRouter spent 0.01s answering queries (0.01ms on average).\n"
     ]
    }
   ],
   "source": [
    "import numpy as np\n",
    "import pandas as pd\n",
    "\n",
    "from sumo_python.helpers.generate_od_xml import generate_od_xml\n",
    "from sumo_python.simulator.run_sumo_and_parse_output import run_sumo_and_parse_output\n",
    "from sumo_python.simulator.ground_truth import run_ground_truth_and_parse\n",
    "from sumo_python.helpers.nrmse_counts import compute_nrmse_counts\n",
    "\n",
    "df_gt_data = run_ground_truth_and_parse(config, sim_setup)\n"
   ]
  },
  {
   "cell_type": "markdown",
   "metadata": {},
   "source": [
    "## High-Dimensional sample-efficient Bayesian Optimization \n",
    "\n",
    "Source: https://botorch.org/tutorials/saasbo"
   ]
  },
  {
   "cell_type": "code",
   "execution_count": 28,
   "metadata": {},
   "outputs": [],
   "source": [
    "def objective(x: np.array) -> pd.DataFrame:\n",
    "    \"\"\"Compute objective variable. This is the NRMSE loss between ground-truth output\n",
    "    and the output of the simulation output evaluated at x.\n",
    "\n",
    "    Args:\n",
    "        x (np.array): Numpy array of counts to generate TAZ file from.\n",
    "\n",
    "    Returns:\n",
    "        pd.Dataframe: Data frame of sampling locations and loss esimate.\n",
    "    \"\"\"\n",
    "    prefix_run = 'iter'    \n",
    "    generate_od_xml(x, config, sim_setup, prefix_run)\n",
    "    df_simulated = run_sumo_and_parse_output(config, sim_setup, prefix_run)\n",
    "    loss_estimate = compute_nrmse_counts(df_gt_data, df_simulated)\n",
    "    df_output = pd.DataFrame(x.reshape(-1, len(x)),columns = ['x1','x2','x3','x4'])\n",
    "    df_output['loss_estimate'] = loss_estimate\n",
    "    \n",
    "    return df_output"
   ]
  },
  {
   "cell_type": "code",
   "execution_count": 29,
   "metadata": {},
   "outputs": [
    {
     "data": {
      "text/plain": [
       "tensor([[ 400.,  400.,  400.,  400.],\n",
       "        [1000., 1000., 1000., 1000.]], dtype=torch.float64)"
      ]
     },
     "execution_count": 29,
     "metadata": {},
     "output_type": "execute_result"
    }
   ],
   "source": [
    "import os\n",
    "import torch\n",
    "import pandas as pd\n",
    "\n",
    "device = torch.device(\"cuda:3\" if torch.cuda.is_available() else \"cpu\")\n",
    "dtype = torch.double\n",
    "\n",
    "### Declare search space\n",
    "bounds = torch.tensor([[400,400,400,400],[1000,1000,1000,1000]], device=device, dtype=dtype) \n",
    "bounds\n"
   ]
  },
  {
   "cell_type": "markdown",
   "metadata": {},
   "source": [
    "### Initial sampling locations"
   ]
  },
  {
   "cell_type": "code",
   "execution_count": 30,
   "metadata": {},
   "outputs": [],
   "source": [
    "df_0 = pd.read_csv('./data/initial_sampling_locations.csv')"
   ]
  },
  {
   "cell_type": "code",
   "execution_count": 31,
   "metadata": {},
   "outputs": [],
   "source": [
    "from botorch.utils.transforms import normalize\n",
    "\n",
    "train_X = torch.from_numpy(df_0[[\"x1\",\"x2\",\"x3\",\"x4\"]].values)\n",
    "train_X_norm = normalize(train_X,bounds)\n",
    "train_Y = -1.0 * torch.from_numpy(df_0[[\"loss_estimate\"]].values)\n"
   ]
  },
  {
   "cell_type": "code",
   "execution_count": 32,
   "metadata": {},
   "outputs": [],
   "source": [
    "import os\n",
    "\n",
    "from botorch import fit_fully_bayesian_model_nuts\n",
    "from botorch.acquisition import qExpectedImprovement\n",
    "from botorch.models.fully_bayesian import SaasFullyBayesianSingleTaskGP\n",
    "from botorch.models.transforms import Standardize\n",
    "from botorch.optim import optimize_acqf"
   ]
  },
  {
   "cell_type": "code",
   "execution_count": 33,
   "metadata": {},
   "outputs": [],
   "source": [
    "WARMUP_STEPS = 32\n",
    "NUM_SAMPLES = 16\n",
    "THINNING = 16"
   ]
  },
  {
   "cell_type": "code",
   "execution_count": 34,
   "metadata": {},
   "outputs": [],
   "source": [
    "gp = SaasFullyBayesianSingleTaskGP(\n",
    "    train_X=train_X, \n",
    "    train_Y=train_Y, \n",
    "    outcome_transform=Standardize(m=1)\n",
    ")\n",
    "fit_fully_bayesian_model_nuts(\n",
    "    gp,\n",
    "    warmup_steps=WARMUP_STEPS,\n",
    "    num_samples=NUM_SAMPLES,\n",
    "    thinning=THINNING,\n",
    "    disable_progbar=True,\n",
    ")\n",
    "with torch.no_grad():\n",
    "    posterior = gp.posterior(train_X)"
   ]
  },
  {
   "cell_type": "markdown",
   "metadata": {},
   "source": [
    "Computing the median lengthscales over the MCMC dimensions makes it clear that the first feature has the smallest lengthscale"
   ]
  },
  {
   "cell_type": "code",
   "execution_count": 35,
   "metadata": {},
   "outputs": [
    {
     "name": "stdout",
     "output_type": "stream",
     "text": [
      "tensor([0.8675, 0.4921, 1.8251, 7.3524], dtype=torch.float64)\n"
     ]
    }
   ],
   "source": [
    "print(gp.median_lengthscale.detach())"
   ]
  },
  {
   "cell_type": "markdown",
   "metadata": {},
   "source": [
    "Make predictions with the model¶\n",
    "In the next cell we show how to make predictions with the SAAS model. You compute the mean and variance for test points just like for any other BoTorch posteriors. Note that the mean and posterior will have an extra batch dimension at -3 that corresponds to the number of MCMC samples (which is 16 in this tutorial)."
   ]
  },
  {
   "cell_type": "code",
   "execution_count": 13,
   "metadata": {},
   "outputs": [
    {
     "name": "stdout",
     "output_type": "stream",
     "text": [
      "torch.Size([1, 20, 1])\n",
      "torch.Size([1, 20, 1])\n"
     ]
    }
   ],
   "source": [
    "print(posterior.mean.shape)\n",
    "print(posterior.variance.shape)b"
   ]
  },
  {
   "cell_type": "markdown",
   "metadata": {},
   "source": [
    "## BayesOpt loop"
   ]
  },
  {
   "cell_type": "code",
   "execution_count": 36,
   "metadata": {},
   "outputs": [],
   "source": [
    "from botorch.optim import optimize_acqf\n",
    "\n",
    "BATCH_SIZE = 1 \n",
    "NUM_RESTARTS = 10\n",
    "RAW_SAMPLES = 1024\n",
    "    \n",
    "def optimize_acqf_and_get_observation(acq_func,bounds):\n",
    "    \"\"\"Optimizes the acquisition function, and returns a new candidate.\"\"\"\n",
    "    # optimize\n",
    "    candidates, _ = optimize_acqf(\n",
    "        acq_function=acq_func,\n",
    "        bounds=torch.tensor([[0.0] * dim, [1.0] * dim], device=device, dtype=dtype),\n",
    "        q=BATCH_SIZE,\n",
    "        num_restarts=NUM_RESTARTS,\n",
    "        raw_samples=RAW_SAMPLES,  # used for intialization heuristic\n",
    "    )\n",
    "\n",
    "    # observe new values \n",
    "    new_x = candidates.detach()\n",
    "    \n",
    "    return unnormalize(new_x, bounds)"
   ]
  },
  {
   "cell_type": "markdown",
   "metadata": {},
   "source": [
    "### Run loop"
   ]
  },
  {
   "cell_type": "code",
   "execution_count": 37,
   "metadata": {},
   "outputs": [
    {
     "name": "stdout",
     "output_type": "stream",
     "text": [
      "####### 1 ########\n",
      "##### n=20 #####\n",
      "##### best_value=-0.027004666207663 #####\n",
      "##### Fitting model #####\n"
     ]
    },
    {
     "name": "stderr",
     "output_type": "stream",
     "text": [
      "/Users/rodrse/anaconda3/envs/BoTorch/lib/python3.9/site-packages/botorch/models/fully_bayesian.py:124: RuntimeWarning: Received a linear algebra error while sampling with Pyro. Adding a jitter of 1e-08 to the covariance matrix and retrying.\n",
      "  warnings.warn(\n",
      "/Users/rodrse/anaconda3/envs/BoTorch/lib/python3.9/site-packages/botorch/models/fully_bayesian.py:124: RuntimeWarning: Received a linear algebra error while sampling with Pyro. Adding a jitter of 1e-07 to the covariance matrix and retrying.\n",
      "  warnings.warn(\n",
      "/Users/rodrse/anaconda3/envs/BoTorch/lib/python3.9/site-packages/botorch/models/fully_bayesian.py:124: RuntimeWarning: Received a linear algebra error while sampling with Pyro. Adding a jitter of 9.999999999999999e-06 to the covariance matrix and retrying.\n",
      "  warnings.warn(\n",
      "/Users/rodrse/anaconda3/envs/BoTorch/lib/python3.9/site-packages/botorch/models/fully_bayesian.py:124: RuntimeWarning: Received a linear algebra error while sampling with Pyro. Adding a jitter of 0.009999999999999998 to the covariance matrix and retrying.\n",
      "  warnings.warn(\n"
     ]
    },
    {
     "name": "stdout",
     "output_type": "stream",
     "text": [
      "tensor([6.0185, 1.3071, 1.5377, 1.5067], dtype=torch.float64)\n",
      "printing /Users/rodrse/Documents/DemandCalibration/notebooks/od_calibration_sumo_files/quickstart/data/iter_quickstart.current_od.xml\n",
      "### Runing: iter\n",
      "Success.\n",
      "Step #57600.00 (6ms ~= 166.67*RT, ~81000.00UPS, vehicles TOT 2800 ACT 486 BUF 0)          \n",
      "####### 2 ########\n",
      "##### n=21 #####\n",
      "##### best_value=-0.027004666207663 #####\n",
      "##### Fitting model #####\n",
      "tensor([2.4913, 0.9671, 1.9207, 1.4184], dtype=torch.float64)\n",
      "printing /Users/rodrse/Documents/DemandCalibration/notebooks/od_calibration_sumo_files/quickstart/data/iter_quickstart.current_od.xml\n",
      "### Runing: iter\n",
      "Success.\n",
      "Step #57600.00 (10ms ~= 100.00*RT, ~71200.00UPS, vehicles TOT 2984 ACT 712 BUF 0)         \n",
      "####### 3 ########\n",
      "##### n=22 #####\n",
      "##### best_value=-0.027004666207663 #####\n",
      "##### Fitting model #####\n",
      "tensor([1.1809, 1.9462, 3.4537, 1.1194], dtype=torch.float64)\n",
      "printing /Users/rodrse/Documents/DemandCalibration/notebooks/od_calibration_sumo_files/quickstart/data/iter_quickstart.current_od.xml\n",
      "### Runing: iter\n",
      "Success.\n",
      "Step #57600.00 (13ms ~= 76.92*RT, ~60615.38UPS, vehicles TOT 3024 ACT 788 BUF 183)        \n",
      "####### 4 ########\n",
      "##### n=23 #####\n",
      "##### best_value=-0.027004666207663 #####\n",
      "##### Fitting model #####\n",
      "tensor([2.9602, 1.1090, 2.5874, 1.2486], dtype=torch.float64)\n",
      "printing /Users/rodrse/Documents/DemandCalibration/notebooks/od_calibration_sumo_files/quickstart/data/iter_quickstart.current_od.xml\n",
      "### Runing: iter\n",
      "Success.\n",
      "Step #57600.00 (5ms ~= 200.00*RT, ~130600.00UPS, vehicles TOT 2868 ACT 653 BUF 0)         \n",
      "####### 5 ########\n",
      "##### n=24 #####\n",
      "##### best_value=-0.027004666207663 #####\n",
      "##### Fitting model #####\n"
     ]
    },
    {
     "name": "stderr",
     "output_type": "stream",
     "text": [
      "/Users/rodrse/anaconda3/envs/BoTorch/lib/python3.9/site-packages/botorch/models/fully_bayesian.py:124: RuntimeWarning: Received a linear algebra error while sampling with Pyro. Adding a jitter of 1e-08 to the covariance matrix and retrying.\n",
      "  warnings.warn(\n",
      "/Users/rodrse/anaconda3/envs/BoTorch/lib/python3.9/site-packages/botorch/models/fully_bayesian.py:124: RuntimeWarning: Received a linear algebra error while sampling with Pyro. Adding a jitter of 1e-07 to the covariance matrix and retrying.\n",
      "  warnings.warn(\n",
      "/Users/rodrse/anaconda3/envs/BoTorch/lib/python3.9/site-packages/botorch/models/fully_bayesian.py:124: RuntimeWarning: Received a linear algebra error while sampling with Pyro. Adding a jitter of 9.999999999999999e-06 to the covariance matrix and retrying.\n",
      "  warnings.warn(\n",
      "/Users/rodrse/anaconda3/envs/BoTorch/lib/python3.9/site-packages/botorch/models/fully_bayesian.py:124: RuntimeWarning: Received a linear algebra error while sampling with Pyro. Adding a jitter of 0.009999999999999998 to the covariance matrix and retrying.\n",
      "  warnings.warn(\n"
     ]
    },
    {
     "name": "stdout",
     "output_type": "stream",
     "text": [
      "tensor([1.7565, 0.8418, 2.0000, 2.2314], dtype=torch.float64)\n",
      "printing /Users/rodrse/Documents/DemandCalibration/notebooks/od_calibration_sumo_files/quickstart/data/iter_quickstart.current_od.xml\n",
      "### Runing: iter\n",
      "Success.\n",
      "Step #57600.00 (7ms ~= 142.86*RT, ~124000.00UPS, vehicles TOT 3290 ACT 868 BUF 0)         \n",
      "####### 6 ########\n",
      "##### n=25 #####\n",
      "##### best_value=-0.027004666207663 #####\n",
      "##### Fitting model #####\n",
      "tensor([ 5.0130,  1.6280, 10.5467,  0.9637], dtype=torch.float64)\n",
      "printing /Users/rodrse/Documents/DemandCalibration/notebooks/od_calibration_sumo_files/quickstart/data/iter_quickstart.current_od.xml\n",
      "### Runing: iter\n",
      "Success.\n",
      "Step #57600.00 (8ms ~= 125.00*RT, ~62375.00UPS, vehicles TOT 2693 ACT 499 BUF 0)          \n",
      "####### 7 ########\n",
      "##### n=26 #####\n",
      "##### best_value=-0.027004666207663 #####\n",
      "##### Fitting model #####\n",
      "tensor([2.1029, 1.7649, 3.3158, 1.1150], dtype=torch.float64)\n",
      "printing /Users/rodrse/Documents/DemandCalibration/notebooks/od_calibration_sumo_files/quickstart/data/iter_quickstart.current_od.xml\n",
      "### Runing: iter\n",
      "Success.\n",
      "Step #57600.00 (6ms ~= 166.67*RT, ~134000.00UPS, vehicles TOT 3143 ACT 804 BUF 0)         \n",
      "####### 8 ########\n",
      "##### n=27 #####\n",
      "##### best_value=-0.027004666207663 #####\n",
      "##### Fitting model #####\n",
      "tensor([4.7667, 1.6675, 2.3419, 0.7508], dtype=torch.float64)\n",
      "printing /Users/rodrse/Documents/DemandCalibration/notebooks/od_calibration_sumo_files/quickstart/data/iter_quickstart.current_od.xml\n",
      "### Runing: iter\n",
      "Success.\n",
      "Step #57600.00 (9ms ~= 111.11*RT, ~81222.22UPS, vehicles TOT 2868 ACT 731 BUF 0)          \n",
      "####### 9 ########\n",
      "##### n=28 #####\n",
      "##### best_value=-0.027004666207663 #####\n",
      "##### Fitting model #####\n",
      "tensor([2.4585, 1.1520, 3.6612, 2.1775], dtype=torch.float64)\n",
      "printing /Users/rodrse/Documents/DemandCalibration/notebooks/od_calibration_sumo_files/quickstart/data/iter_quickstart.current_od.xml\n",
      "### Runing: iter\n",
      "Success.\n",
      "Step #57600.00 (3ms ~= 333.33*RT, ~145333.33UPS, vehicles TOT 2608 ACT 436 BUF 0)         \n",
      "####### 10 ########\n",
      "##### n=29 #####\n",
      "##### best_value=-0.027004666207663 #####\n",
      "##### Fitting model #####\n"
     ]
    },
    {
     "name": "stderr",
     "output_type": "stream",
     "text": [
      "/Users/rodrse/anaconda3/envs/BoTorch/lib/python3.9/site-packages/botorch/models/fully_bayesian.py:124: RuntimeWarning: Received a linear algebra error while sampling with Pyro. Adding a jitter of 1e-08 to the covariance matrix and retrying.\n",
      "  warnings.warn(\n",
      "/Users/rodrse/anaconda3/envs/BoTorch/lib/python3.9/site-packages/botorch/models/fully_bayesian.py:124: RuntimeWarning: Received a linear algebra error while sampling with Pyro. Adding a jitter of 1e-07 to the covariance matrix and retrying.\n",
      "  warnings.warn(\n",
      "/Users/rodrse/anaconda3/envs/BoTorch/lib/python3.9/site-packages/botorch/models/fully_bayesian.py:124: RuntimeWarning: Received a linear algebra error while sampling with Pyro. Adding a jitter of 9.999999999999999e-06 to the covariance matrix and retrying.\n",
      "  warnings.warn(\n",
      "/Users/rodrse/anaconda3/envs/BoTorch/lib/python3.9/site-packages/botorch/models/fully_bayesian.py:124: RuntimeWarning: Received a linear algebra error while sampling with Pyro. Adding a jitter of 0.009999999999999998 to the covariance matrix and retrying.\n",
      "  warnings.warn(\n"
     ]
    },
    {
     "name": "stdout",
     "output_type": "stream",
     "text": [
      "tensor([2.6848, 1.8533, 2.8638, 1.7904], dtype=torch.float64)\n",
      "printing /Users/rodrse/Documents/DemandCalibration/notebooks/od_calibration_sumo_files/quickstart/data/iter_quickstart.current_od.xml\n",
      "### Runing: iter\n",
      "Success.\n",
      "Step #57600.00 (5ms ~= 200.00*RT, ~89200.00UPS, vehicles TOT 2200 ACT 446 BUF 0)          \n",
      "####### 11 ########\n",
      "##### n=30 #####\n",
      "##### best_value=-0.027004666207663 #####\n",
      "##### Fitting model #####\n",
      "tensor([2.3616, 1.4275, 1.8488, 1.4406], dtype=torch.float64)\n",
      "printing /Users/rodrse/Documents/DemandCalibration/notebooks/od_calibration_sumo_files/quickstart/data/iter_quickstart.current_od.xml\n",
      "### Runing: iter\n",
      "Success.\n",
      "Step #57600.00 (2ms ~= 500.00*RT, ~147000.00UPS, vehicles TOT 2200 ACT 294 BUF 0)         \n",
      "####### 12 ########\n",
      "##### n=31 #####\n",
      "##### best_value=-0.027004666207663 #####\n",
      "##### Fitting model #####\n"
     ]
    },
    {
     "name": "stderr",
     "output_type": "stream",
     "text": [
      "/Users/rodrse/anaconda3/envs/BoTorch/lib/python3.9/site-packages/botorch/models/fully_bayesian.py:124: RuntimeWarning: Received a linear algebra error while sampling with Pyro. Adding a jitter of 1e-08 to the covariance matrix and retrying.\n",
      "  warnings.warn(\n"
     ]
    },
    {
     "name": "stdout",
     "output_type": "stream",
     "text": [
      "tensor([1.5329, 1.6713, 1.4260, 0.9947], dtype=torch.float64)\n",
      "printing /Users/rodrse/Documents/DemandCalibration/notebooks/od_calibration_sumo_files/quickstart/data/iter_quickstart.current_od.xml\n",
      "### Runing: iter\n",
      "Success.\n",
      "Step #57600.00 (5ms ~= 200.00*RT, ~137000.00UPS, vehicles TOT 2904 ACT 685 BUF 0)         \n",
      "####### 13 ########\n",
      "##### n=32 #####\n",
      "##### best_value=-0.027004666207663 #####\n",
      "##### Fitting model #####\n",
      "tensor([1.1001, 0.9148, 1.7367, 0.7703], dtype=torch.float64)\n",
      "printing /Users/rodrse/Documents/DemandCalibration/notebooks/od_calibration_sumo_files/quickstart/data/iter_quickstart.current_od.xml\n",
      "### Runing: iter\n",
      "Success.\n",
      "Step #57600.00 (5ms ~= 200.00*RT, ~145200.00UPS, vehicles TOT 3030 ACT 726 BUF 0)         \n",
      "####### 14 ########\n",
      "##### n=33 #####\n",
      "##### best_value=-0.027004666207663 #####\n",
      "##### Fitting model #####\n",
      "tensor([1.5653, 0.8410, 0.9999, 0.7662], dtype=torch.float64)\n",
      "printing /Users/rodrse/Documents/DemandCalibration/notebooks/od_calibration_sumo_files/quickstart/data/iter_quickstart.current_od.xml\n",
      "### Runing: iter\n",
      "Success.\n",
      "Step #57600.00 (4ms ~= 250.00*RT, ~160500.00UPS, vehicles TOT 2694 ACT 642 BUF 0)         \n",
      "####### 15 ########\n",
      "##### n=34 #####\n",
      "##### best_value=-0.027004666207663 #####\n",
      "##### Fitting model #####\n",
      "tensor([1.2916, 0.4368, 0.4530, 0.6626], dtype=torch.float64)\n",
      "printing /Users/rodrse/Documents/DemandCalibration/notebooks/od_calibration_sumo_files/quickstart/data/iter_quickstart.current_od.xml\n",
      "### Runing: iter\n",
      "Success.\n",
      "Step #57600.00 (5ms ~= 200.00*RT, ~147600.00UPS, vehicles TOT 2964 ACT 738 BUF 134)       \n",
      "####### 16 ########\n",
      "##### n=35 #####\n",
      "##### best_value=-0.027004666207663 #####\n",
      "##### Fitting model #####\n",
      "tensor([1.9422, 1.0118, 1.3312, 1.0910], dtype=torch.float64)\n",
      "printing /Users/rodrse/Documents/DemandCalibration/notebooks/od_calibration_sumo_files/quickstart/data/iter_quickstart.current_od.xml\n",
      "### Runing: iter\n",
      "Success.\n",
      "Step #57600.00 (6ms ~= 166.67*RT, ~140000.00UPS, vehicles TOT 2937 ACT 840 BUF 471)       \n",
      "####### 17 ########\n",
      "##### n=36 #####\n",
      "##### best_value=-0.027004666207663 #####\n",
      "##### Fitting model #####\n",
      "tensor([3.3813, 1.6257, 2.2463, 1.8198], dtype=torch.float64)\n",
      "printing /Users/rodrse/Documents/DemandCalibration/notebooks/od_calibration_sumo_files/quickstart/data/iter_quickstart.current_od.xml\n",
      "### Runing: iter\n",
      "Success.\n",
      "Step #57600.00 (8ms ~= 125.00*RT, ~75500.00UPS, vehicles TOT 2771 ACT 604 BUF 0)          \n",
      "####### 18 ########\n",
      "##### n=37 #####\n",
      "##### best_value=-0.027004666207663 #####\n",
      "##### Fitting model #####\n"
     ]
    },
    {
     "name": "stderr",
     "output_type": "stream",
     "text": [
      "/Users/rodrse/anaconda3/envs/BoTorch/lib/python3.9/site-packages/botorch/models/fully_bayesian.py:124: RuntimeWarning: Received a linear algebra error while sampling with Pyro. Adding a jitter of 1e-08 to the covariance matrix and retrying.\n",
      "  warnings.warn(\n",
      "/Users/rodrse/anaconda3/envs/BoTorch/lib/python3.9/site-packages/botorch/models/fully_bayesian.py:124: RuntimeWarning: Received a linear algebra error while sampling with Pyro. Adding a jitter of 1e-07 to the covariance matrix and retrying.\n",
      "  warnings.warn(\n",
      "/Users/rodrse/anaconda3/envs/BoTorch/lib/python3.9/site-packages/botorch/models/fully_bayesian.py:124: RuntimeWarning: Received a linear algebra error while sampling with Pyro. Adding a jitter of 9.999999999999999e-06 to the covariance matrix and retrying.\n",
      "  warnings.warn(\n",
      "/Users/rodrse/anaconda3/envs/BoTorch/lib/python3.9/site-packages/botorch/models/fully_bayesian.py:124: RuntimeWarning: Received a linear algebra error while sampling with Pyro. Adding a jitter of 0.009999999999999998 to the covariance matrix and retrying.\n",
      "  warnings.warn(\n"
     ]
    },
    {
     "name": "stdout",
     "output_type": "stream",
     "text": [
      "tensor([1.3539, 0.6313, 0.6894, 0.3917], dtype=torch.float64)\n",
      "printing /Users/rodrse/Documents/DemandCalibration/notebooks/od_calibration_sumo_files/quickstart/data/iter_quickstart.current_od.xml\n",
      "### Runing: iter\n",
      "Success.\n",
      "Step #57600.00 (7ms ~= 142.86*RT, ~115714.29UPS, vehicles TOT 3045 ACT 810 BUF 0)         \n",
      "####### 19 ########\n",
      "##### n=38 #####\n",
      "##### best_value=-0.027004666207663 #####\n",
      "##### Fitting model #####\n",
      "tensor([2.1429, 1.4646, 0.9487, 2.0991], dtype=torch.float64)\n",
      "printing /Users/rodrse/Documents/DemandCalibration/notebooks/od_calibration_sumo_files/quickstart/data/iter_quickstart.current_od.xml\n",
      "### Runing: iter\n",
      "Success.\n",
      "Step #57600.00 (4ms ~= 250.00*RT, ~118500.00UPS, vehicles TOT 2624 ACT 474 BUF 0)         \n",
      "####### 20 ########\n",
      "##### n=39 #####\n",
      "##### best_value=-0.0032747967987865477 #####\n",
      "##### Fitting model #####\n",
      "tensor([2.3781, 1.0917, 1.4928, 1.1337], dtype=torch.float64)\n",
      "printing /Users/rodrse/Documents/DemandCalibration/notebooks/od_calibration_sumo_files/quickstart/data/iter_quickstart.current_od.xml\n",
      "### Runing: iter\n",
      "Success.\n",
      "Step #57600.00 (4ms ~= 250.00*RT, ~117250.00UPS, vehicles TOT 2563 ACT 469 BUF 0)         \n",
      "####### 21 ########\n",
      "##### n=40 #####\n",
      "##### best_value=-0.0032747967987865477 #####\n",
      "##### Fitting model #####\n",
      "tensor([1.7455, 1.2871, 0.8989, 1.3211], dtype=torch.float64)\n",
      "printing /Users/rodrse/Documents/DemandCalibration/notebooks/od_calibration_sumo_files/quickstart/data/iter_quickstart.current_od.xml\n",
      "### Runing: iter\n",
      "Success.\n",
      "Step #57600.00 (4ms ~= 250.00*RT, ~149000.00UPS, vehicles TOT 2801 ACT 596 BUF 0)         \n",
      "####### 22 ########\n",
      "##### n=41 #####\n",
      "##### best_value=-0.0032747967987865477 #####\n",
      "##### Fitting model #####\n",
      "tensor([3.0204, 1.2030, 0.5976, 1.0024], dtype=torch.float64)\n",
      "printing /Users/rodrse/Documents/DemandCalibration/notebooks/od_calibration_sumo_files/quickstart/data/iter_quickstart.current_od.xml\n",
      "### Runing: iter\n",
      "Success.\n",
      "Step #57600.00 (6ms ~= 166.67*RT, ~93333.33UPS, vehicles TOT 2709 ACT 560 BUF 0)          \n",
      "####### 23 ########\n",
      "##### n=42 #####\n",
      "##### best_value=-0.0032747967987865477 #####\n",
      "##### Fitting model #####\n",
      "tensor([1.9945, 0.6880, 0.8992, 0.8347], dtype=torch.float64)\n",
      "printing /Users/rodrse/Documents/DemandCalibration/notebooks/od_calibration_sumo_files/quickstart/data/iter_quickstart.current_od.xml\n",
      "### Runing: iter\n",
      "Success.\n",
      "Step #57600.00 (7ms ~= 142.86*RT, ~82428.57UPS, vehicles TOT 2710 ACT 577 BUF 0)          \n",
      "####### 24 ########\n",
      "##### n=43 #####\n",
      "##### best_value=-0.0032747967987865477 #####\n",
      "##### Fitting model #####\n",
      "tensor([1.1441, 0.9145, 0.4116, 0.4486], dtype=torch.float64)\n",
      "printing /Users/rodrse/Documents/DemandCalibration/notebooks/od_calibration_sumo_files/quickstart/data/iter_quickstart.current_od.xml\n",
      "### Runing: iter\n",
      "Success.\n",
      "Step #57600.00 (6ms ~= 166.67*RT, ~126666.67UPS, vehicles TOT 3069 ACT 760 BUF 12)        \n",
      "####### 25 ########\n",
      "##### n=44 #####\n",
      "##### best_value=-0.0032747967987865477 #####\n",
      "##### Fitting model #####\n"
     ]
    },
    {
     "name": "stderr",
     "output_type": "stream",
     "text": [
      "/Users/rodrse/anaconda3/envs/BoTorch/lib/python3.9/site-packages/botorch/models/fully_bayesian.py:124: RuntimeWarning: Received a linear algebra error while sampling with Pyro. Adding a jitter of 1e-08 to the covariance matrix and retrying.\n",
      "  warnings.warn(\n",
      "/Users/rodrse/anaconda3/envs/BoTorch/lib/python3.9/site-packages/botorch/models/fully_bayesian.py:124: RuntimeWarning: Received a linear algebra error while sampling with Pyro. Adding a jitter of 1e-07 to the covariance matrix and retrying.\n",
      "  warnings.warn(\n",
      "/Users/rodrse/anaconda3/envs/BoTorch/lib/python3.9/site-packages/botorch/models/fully_bayesian.py:124: RuntimeWarning: Received a linear algebra error while sampling with Pyro. Adding a jitter of 9.999999999999999e-06 to the covariance matrix and retrying.\n",
      "  warnings.warn(\n",
      "/Users/rodrse/anaconda3/envs/BoTorch/lib/python3.9/site-packages/botorch/models/fully_bayesian.py:124: RuntimeWarning: Received a linear algebra error while sampling with Pyro. Adding a jitter of 0.009999999999999998 to the covariance matrix and retrying.\n",
      "  warnings.warn(\n"
     ]
    },
    {
     "name": "stdout",
     "output_type": "stream",
     "text": [
      "tensor([1.6220, 1.0175, 0.9483, 0.6211], dtype=torch.float64)\n",
      "printing /Users/rodrse/Documents/DemandCalibration/notebooks/od_calibration_sumo_files/quickstart/data/iter_quickstart.current_od.xml\n",
      "### Runing: iter\n",
      "Success.\n",
      "Step #57600.00 (7ms ~= 142.86*RT, ~83000.00UPS, vehicles TOT 2652 ACT 581 BUF 0)          \n",
      "####### 26 ########\n",
      "##### n=45 #####\n",
      "##### best_value=-0.0032747967987865477 #####\n",
      "##### Fitting model #####\n",
      "tensor([3.5069, 1.1234, 0.9993, 1.1564], dtype=torch.float64)\n",
      "printing /Users/rodrse/Documents/DemandCalibration/notebooks/od_calibration_sumo_files/quickstart/data/iter_quickstart.current_od.xml\n",
      "### Runing: iter\n",
      "Success.\n",
      "Step #57600.00 (3ms ~= 333.33*RT, ~149333.33UPS, vehicles TOT 2525 ACT 448 BUF 0)         \n",
      "####### 27 ########\n",
      "##### n=46 #####\n",
      "##### best_value=-0.0032747967987865477 #####\n",
      "##### Fitting model #####\n"
     ]
    },
    {
     "name": "stderr",
     "output_type": "stream",
     "text": [
      "/Users/rodrse/anaconda3/envs/BoTorch/lib/python3.9/site-packages/botorch/models/fully_bayesian.py:124: RuntimeWarning: Received a linear algebra error while sampling with Pyro. Adding a jitter of 1e-08 to the covariance matrix and retrying.\n",
      "  warnings.warn(\n",
      "/Users/rodrse/anaconda3/envs/BoTorch/lib/python3.9/site-packages/botorch/models/fully_bayesian.py:124: RuntimeWarning: Received a linear algebra error while sampling with Pyro. Adding a jitter of 1e-07 to the covariance matrix and retrying.\n",
      "  warnings.warn(\n",
      "/Users/rodrse/anaconda3/envs/BoTorch/lib/python3.9/site-packages/botorch/models/fully_bayesian.py:124: RuntimeWarning: Received a linear algebra error while sampling with Pyro. Adding a jitter of 9.999999999999999e-06 to the covariance matrix and retrying.\n",
      "  warnings.warn(\n",
      "/Users/rodrse/anaconda3/envs/BoTorch/lib/python3.9/site-packages/botorch/models/fully_bayesian.py:124: RuntimeWarning: Received a linear algebra error while sampling with Pyro. Adding a jitter of 0.009999999999999998 to the covariance matrix and retrying.\n",
      "  warnings.warn(\n"
     ]
    },
    {
     "name": "stdout",
     "output_type": "stream",
     "text": [
      "tensor([1.7813, 0.5929, 0.7144, 0.4403], dtype=torch.float64)\n",
      "printing /Users/rodrse/Documents/DemandCalibration/notebooks/od_calibration_sumo_files/quickstart/data/iter_quickstart.current_od.xml\n",
      "### Runing: iter\n",
      "Success.\n",
      "Step #57600.00 (3ms ~= 333.33*RT, ~174333.33UPS, vehicles TOT 2593 ACT 523 BUF 0)         \n",
      "####### 28 ########\n",
      "##### n=47 #####\n",
      "##### best_value=-0.0032747967987865477 #####\n",
      "##### Fitting model #####\n",
      "tensor([1.5820, 1.2195, 0.9968, 1.3459], dtype=torch.float64)\n",
      "printing /Users/rodrse/Documents/DemandCalibration/notebooks/od_calibration_sumo_files/quickstart/data/iter_quickstart.current_od.xml\n",
      "### Runing: iter\n",
      "Success.\n",
      "Step #57600.00 (5ms ~= 200.00*RT, ~95400.00UPS, vehicles TOT 2649 ACT 477 BUF 0)          \n",
      "####### 29 ########\n",
      "##### n=48 #####\n",
      "##### best_value=-0.0032747967987865477 #####\n",
      "##### Fitting model #####\n",
      "tensor([1.8391, 1.2384, 1.1147, 1.2769], dtype=torch.float64)\n",
      "printing /Users/rodrse/Documents/DemandCalibration/notebooks/od_calibration_sumo_files/quickstart/data/iter_quickstart.current_od.xml\n",
      "### Runing: iter\n",
      "Success.\n",
      "Step #57600.00 (6ms ~= 166.67*RT, ~111333.33UPS, vehicles TOT 2808 ACT 668 BUF 0)         \n",
      "####### 30 ########\n",
      "##### n=49 #####\n",
      "##### best_value=-0.0032747967987865477 #####\n",
      "##### Fitting model #####\n",
      "tensor([1.5743, 1.1000, 1.1696, 1.8261], dtype=torch.float64)\n",
      "printing /Users/rodrse/Documents/DemandCalibration/notebooks/od_calibration_sumo_files/quickstart/data/iter_quickstart.current_od.xml\n",
      "### Runing: iter\n",
      "Success.\n",
      "Step #57600.00 (5ms ~= 200.00*RT, ~138000.00UPS, vehicles TOT 2676 ACT 690 BUF 500)       \n",
      "####### 31 ########\n",
      "##### n=50 #####\n",
      "##### best_value=-0.0032747967987865477 #####\n",
      "##### Fitting model #####\n"
     ]
    },
    {
     "name": "stderr",
     "output_type": "stream",
     "text": [
      "/Users/rodrse/anaconda3/envs/BoTorch/lib/python3.9/site-packages/botorch/models/fully_bayesian.py:124: RuntimeWarning: Received a linear algebra error while sampling with Pyro. Adding a jitter of 1e-08 to the covariance matrix and retrying.\n",
      "  warnings.warn(\n",
      "/Users/rodrse/anaconda3/envs/BoTorch/lib/python3.9/site-packages/botorch/models/fully_bayesian.py:124: RuntimeWarning: Received a linear algebra error while sampling with Pyro. Adding a jitter of 1e-07 to the covariance matrix and retrying.\n",
      "  warnings.warn(\n",
      "/Users/rodrse/anaconda3/envs/BoTorch/lib/python3.9/site-packages/botorch/models/fully_bayesian.py:124: RuntimeWarning: Received a linear algebra error while sampling with Pyro. Adding a jitter of 9.999999999999999e-06 to the covariance matrix and retrying.\n",
      "  warnings.warn(\n",
      "/Users/rodrse/anaconda3/envs/BoTorch/lib/python3.9/site-packages/botorch/models/fully_bayesian.py:124: RuntimeWarning: Received a linear algebra error while sampling with Pyro. Adding a jitter of 0.009999999999999998 to the covariance matrix and retrying.\n",
      "  warnings.warn(\n"
     ]
    },
    {
     "name": "stdout",
     "output_type": "stream",
     "text": [
      "tensor([1.5932, 0.6550, 0.7143, 0.8443], dtype=torch.float64)\n",
      "printing /Users/rodrse/Documents/DemandCalibration/notebooks/od_calibration_sumo_files/quickstart/data/iter_quickstart.current_od.xml\n",
      "### Runing: iter\n",
      "Success.\n",
      "Step #57600.00 (5ms ~= 200.00*RT, ~126000.00UPS, vehicles TOT 2694 ACT 630 BUF 0)         \n",
      "####### 32 ########\n",
      "##### n=51 #####\n",
      "##### best_value=-0.0032747967987865477 #####\n",
      "##### Fitting model #####\n"
     ]
    },
    {
     "name": "stderr",
     "output_type": "stream",
     "text": [
      "/Users/rodrse/anaconda3/envs/BoTorch/lib/python3.9/site-packages/botorch/models/fully_bayesian.py:124: RuntimeWarning: Received a linear algebra error while sampling with Pyro. Adding a jitter of 1e-08 to the covariance matrix and retrying.\n",
      "  warnings.warn(\n"
     ]
    },
    {
     "name": "stdout",
     "output_type": "stream",
     "text": [
      "tensor([0.9496, 0.6683, 0.7685, 0.7283], dtype=torch.float64)\n",
      "printing /Users/rodrse/Documents/DemandCalibration/notebooks/od_calibration_sumo_files/quickstart/data/iter_quickstart.current_od.xml\n",
      "### Runing: iter\n",
      "Success.\n",
      "Step #57600.00 (7ms ~= 142.86*RT, ~111000.00UPS, vehicles TOT 2930 ACT 777 BUF 0)         \n",
      "####### 33 ########\n",
      "##### n=52 #####\n",
      "##### best_value=-0.0032747967987865477 #####\n",
      "##### Fitting model #####\n",
      "tensor([1.3636, 1.1694, 1.1469, 1.4800], dtype=torch.float64)\n",
      "printing /Users/rodrse/Documents/DemandCalibration/notebooks/od_calibration_sumo_files/quickstart/data/iter_quickstart.current_od.xml\n",
      "### Runing: iter\n",
      "Success.\n",
      "Step #57600.00 (8ms ~= 125.00*RT, ~96875.00UPS, vehicles TOT 2876 ACT 775 BUF 0)          \n",
      "####### 34 ########\n",
      "##### n=53 #####\n",
      "##### best_value=-0.0032747967987865477 #####\n",
      "##### Fitting model #####\n",
      "tensor([0.7913, 1.3283, 0.9284, 0.7125], dtype=torch.float64)\n",
      "printing /Users/rodrse/Documents/DemandCalibration/notebooks/od_calibration_sumo_files/quickstart/data/iter_quickstart.current_od.xml\n",
      "### Runing: iter\n",
      "Success.\n",
      "Step #57600.00 (11ms ~= 90.91*RT, ~68545.45UPS, vehicles TOT 2908 ACT 754 BUF 0)          \n",
      "####### 35 ########\n",
      "##### n=54 #####\n",
      "##### best_value=-0.0032747967987865477 #####\n",
      "##### Fitting model #####\n"
     ]
    },
    {
     "name": "stderr",
     "output_type": "stream",
     "text": [
      "/Users/rodrse/anaconda3/envs/BoTorch/lib/python3.9/site-packages/botorch/models/fully_bayesian.py:124: RuntimeWarning: Received a linear algebra error while sampling with Pyro. Adding a jitter of 1e-08 to the covariance matrix and retrying.\n",
      "  warnings.warn(\n"
     ]
    },
    {
     "name": "stdout",
     "output_type": "stream",
     "text": [
      "tensor([1.6535, 0.7434, 0.7145, 0.8898], dtype=torch.float64)\n",
      "printing /Users/rodrse/Documents/DemandCalibration/notebooks/od_calibration_sumo_files/quickstart/data/iter_quickstart.current_od.xml\n",
      "### Runing: iter\n",
      "Success.\n",
      "Step #57600.00 (5ms ~= 200.00*RT, ~129800.00UPS, vehicles TOT 2785 ACT 649 BUF 0)         \n",
      "####### 36 ########\n",
      "##### n=55 #####\n",
      "##### best_value=-0.0032747967987865477 #####\n",
      "##### Fitting model #####\n",
      "tensor([1.8745, 2.1548, 1.7870, 1.3957], dtype=torch.float64)\n",
      "printing /Users/rodrse/Documents/DemandCalibration/notebooks/od_calibration_sumo_files/quickstart/data/iter_quickstart.current_od.xml\n",
      "### Runing: iter\n",
      "Success.\n",
      "Step #57600.00 (7ms ~= 142.86*RT, ~98142.86UPS, vehicles TOT 2777 ACT 687 BUF 330)        \n",
      "####### 37 ########\n",
      "##### n=56 #####\n",
      "##### best_value=-0.0032747967987865477 #####\n",
      "##### Fitting model #####\n"
     ]
    },
    {
     "name": "stderr",
     "output_type": "stream",
     "text": [
      "/Users/rodrse/anaconda3/envs/BoTorch/lib/python3.9/site-packages/botorch/models/fully_bayesian.py:124: RuntimeWarning: Received a linear algebra error while sampling with Pyro. Adding a jitter of 1e-08 to the covariance matrix and retrying.\n",
      "  warnings.warn(\n"
     ]
    },
    {
     "name": "stdout",
     "output_type": "stream",
     "text": [
      "tensor([1.4194, 1.1874, 0.6725, 1.5876], dtype=torch.float64)\n",
      "printing /Users/rodrse/Documents/DemandCalibration/notebooks/od_calibration_sumo_files/quickstart/data/iter_quickstart.current_od.xml\n",
      "### Runing: iter\n",
      "Success.\n",
      "Step #57600.00 (6ms ~= 166.67*RT, ~125166.67UPS, vehicles TOT 2918 ACT 751 BUF 312)       \n",
      "####### 38 ########\n",
      "##### n=57 #####\n",
      "##### best_value=-0.0032747967987865477 #####\n",
      "##### Fitting model #####\n",
      "tensor([1.2464, 0.8324, 0.4812, 1.0190], dtype=torch.float64)\n",
      "printing /Users/rodrse/Documents/DemandCalibration/notebooks/od_calibration_sumo_files/quickstart/data/iter_quickstart.current_od.xml\n",
      "### Runing: iter\n",
      "Success.\n",
      "Step #57600.00 (6ms ~= 166.67*RT, ~130166.67UPS, vehicles TOT 2858 ACT 781 BUF 188)       \n",
      "####### 39 ########\n",
      "##### n=58 #####\n",
      "##### best_value=-0.0032747967987865477 #####\n",
      "##### Fitting model #####\n",
      "tensor([0.9751, 1.3714, 1.4746, 1.5055], dtype=torch.float64)\n",
      "printing /Users/rodrse/Documents/DemandCalibration/notebooks/od_calibration_sumo_files/quickstart/data/iter_quickstart.current_od.xml\n",
      "### Runing: iter\n",
      "Success.\n",
      "Step #57600.00 (8ms ~= 125.00*RT, ~102875.00UPS, vehicles TOT 2951 ACT 823 BUF 88)        \n",
      "####### 40 ########\n",
      "##### n=59 #####\n",
      "##### best_value=-0.0032747967987865477 #####\n",
      "##### Fitting model #####\n"
     ]
    },
    {
     "name": "stderr",
     "output_type": "stream",
     "text": [
      "/Users/rodrse/anaconda3/envs/BoTorch/lib/python3.9/site-packages/botorch/models/fully_bayesian.py:124: RuntimeWarning: Received a linear algebra error while sampling with Pyro. Adding a jitter of 1e-08 to the covariance matrix and retrying.\n",
      "  warnings.warn(\n",
      "/Users/rodrse/anaconda3/envs/BoTorch/lib/python3.9/site-packages/botorch/models/fully_bayesian.py:124: RuntimeWarning: Received a linear algebra error while sampling with Pyro. Adding a jitter of 1e-07 to the covariance matrix and retrying.\n",
      "  warnings.warn(\n",
      "/Users/rodrse/anaconda3/envs/BoTorch/lib/python3.9/site-packages/botorch/models/fully_bayesian.py:124: RuntimeWarning: Received a linear algebra error while sampling with Pyro. Adding a jitter of 9.999999999999999e-06 to the covariance matrix and retrying.\n",
      "  warnings.warn(\n",
      "/Users/rodrse/anaconda3/envs/BoTorch/lib/python3.9/site-packages/botorch/models/fully_bayesian.py:124: RuntimeWarning: Received a linear algebra error while sampling with Pyro. Adding a jitter of 0.009999999999999998 to the covariance matrix and retrying.\n",
      "  warnings.warn(\n"
     ]
    },
    {
     "name": "stdout",
     "output_type": "stream",
     "text": [
      "tensor([0.8006, 0.8390, 0.5896, 0.6745], dtype=torch.float64)\n",
      "printing /Users/rodrse/Documents/DemandCalibration/notebooks/od_calibration_sumo_files/quickstart/data/iter_quickstart.current_od.xml\n",
      "### Runing: iter\n",
      "Success.\n",
      "Step #57600.00 (7ms ~= 142.86*RT, ~119571.43UPS, vehicles TOT 3066 ACT 837 BUF 0)         \n",
      "####### 41 ########\n",
      "##### n=60 #####\n",
      "##### best_value=-0.0032747967987865477 #####\n",
      "##### Fitting model #####\n",
      "tensor([1.5980, 1.1162, 1.3052, 0.8042], dtype=torch.float64)\n",
      "printing /Users/rodrse/Documents/DemandCalibration/notebooks/od_calibration_sumo_files/quickstart/data/iter_quickstart.current_od.xml\n",
      "### Runing: iter\n",
      "Success.\n",
      "Step #57600.00 (5ms ~= 200.00*RT, ~141000.00UPS, vehicles TOT 2740 ACT 705 BUF 0)         \n",
      "####### 42 ########\n",
      "##### n=61 #####\n",
      "##### best_value=-0.0032747967987865477 #####\n",
      "##### Fitting model #####\n",
      "tensor([0.8552, 1.2505, 0.9889, 0.6988], dtype=torch.float64)\n",
      "printing /Users/rodrse/Documents/DemandCalibration/notebooks/od_calibration_sumo_files/quickstart/data/iter_quickstart.current_od.xml\n",
      "### Runing: iter\n",
      "Success.\n",
      "Step #57600.00 (7ms ~= 142.86*RT, ~99571.43UPS, vehicles TOT 2788 ACT 697 BUF 0)          \n",
      "####### 43 ########\n",
      "##### n=62 #####\n",
      "##### best_value=-0.0032747967987865477 #####\n",
      "##### Fitting model #####\n",
      "tensor([0.9396, 0.6788, 0.3551, 1.2808], dtype=torch.float64)\n",
      "printing /Users/rodrse/Documents/DemandCalibration/notebooks/od_calibration_sumo_files/quickstart/data/iter_quickstart.current_od.xml\n",
      "### Runing: iter\n",
      "Success.\n",
      "Step #57600.00 (5ms ~= 200.00*RT, ~147200.00UPS, vehicles TOT 3003 ACT 736 BUF 0)         \n",
      "####### 44 ########\n",
      "##### n=63 #####\n",
      "##### best_value=-0.0032747967987865477 #####\n",
      "##### Fitting model #####\n",
      "tensor([1.6381, 1.2358, 1.5796, 1.0469], dtype=torch.float64)\n",
      "printing /Users/rodrse/Documents/DemandCalibration/notebooks/od_calibration_sumo_files/quickstart/data/iter_quickstart.current_od.xml\n",
      "### Runing: iter\n",
      "Success.\n",
      "Step #57600.00 (5ms ~= 200.00*RT, ~170400.00UPS, vehicles TOT 2792 ACT 852 BUF 233)       \n",
      "####### 45 ########\n",
      "##### n=64 #####\n",
      "##### best_value=-0.0032747967987865477 #####\n",
      "##### Fitting model #####\n"
     ]
    },
    {
     "name": "stderr",
     "output_type": "stream",
     "text": [
      "/Users/rodrse/anaconda3/envs/BoTorch/lib/python3.9/site-packages/botorch/models/fully_bayesian.py:124: RuntimeWarning: Received a linear algebra error while sampling with Pyro. Adding a jitter of 1e-08 to the covariance matrix and retrying.\n",
      "  warnings.warn(\n",
      "/Users/rodrse/anaconda3/envs/BoTorch/lib/python3.9/site-packages/botorch/models/fully_bayesian.py:124: RuntimeWarning: Received a linear algebra error while sampling with Pyro. Adding a jitter of 1e-07 to the covariance matrix and retrying.\n",
      "  warnings.warn(\n",
      "/Users/rodrse/anaconda3/envs/BoTorch/lib/python3.9/site-packages/botorch/models/fully_bayesian.py:124: RuntimeWarning: Received a linear algebra error while sampling with Pyro. Adding a jitter of 9.999999999999999e-06 to the covariance matrix and retrying.\n",
      "  warnings.warn(\n",
      "/Users/rodrse/anaconda3/envs/BoTorch/lib/python3.9/site-packages/botorch/models/fully_bayesian.py:124: RuntimeWarning: Received a linear algebra error while sampling with Pyro. Adding a jitter of 0.009999999999999998 to the covariance matrix and retrying.\n",
      "  warnings.warn(\n"
     ]
    },
    {
     "name": "stdout",
     "output_type": "stream",
     "text": [
      "tensor([0.6315, 1.1674, 0.6774, 0.6859], dtype=torch.float64)\n",
      "printing /Users/rodrse/Documents/DemandCalibration/notebooks/od_calibration_sumo_files/quickstart/data/iter_quickstart.current_od.xml\n",
      "### Runing: iter\n",
      "Success.\n",
      "Step #57600.00 (9ms ~= 111.11*RT, ~87888.89UPS, vehicles TOT 2993 ACT 791 BUF 136)        \n",
      "####### 46 ########\n",
      "##### n=65 #####\n",
      "##### best_value=-0.0032747967987865477 #####\n",
      "##### Fitting model #####\n"
     ]
    },
    {
     "name": "stderr",
     "output_type": "stream",
     "text": [
      "/Users/rodrse/anaconda3/envs/BoTorch/lib/python3.9/site-packages/botorch/models/fully_bayesian.py:124: RuntimeWarning: Received a linear algebra error while sampling with Pyro. Adding a jitter of 1e-08 to the covariance matrix and retrying.\n",
      "  warnings.warn(\n",
      "/Users/rodrse/anaconda3/envs/BoTorch/lib/python3.9/site-packages/botorch/models/fully_bayesian.py:124: RuntimeWarning: Received a linear algebra error while sampling with Pyro. Adding a jitter of 1e-07 to the covariance matrix and retrying.\n",
      "  warnings.warn(\n",
      "/Users/rodrse/anaconda3/envs/BoTorch/lib/python3.9/site-packages/botorch/models/fully_bayesian.py:124: RuntimeWarning: Received a linear algebra error while sampling with Pyro. Adding a jitter of 9.999999999999999e-06 to the covariance matrix and retrying.\n",
      "  warnings.warn(\n",
      "/Users/rodrse/anaconda3/envs/BoTorch/lib/python3.9/site-packages/botorch/models/fully_bayesian.py:124: RuntimeWarning: Received a linear algebra error while sampling with Pyro. Adding a jitter of 0.009999999999999998 to the covariance matrix and retrying.\n",
      "  warnings.warn(\n"
     ]
    },
    {
     "name": "stdout",
     "output_type": "stream",
     "text": [
      "tensor([1.3389, 0.9658, 0.6777, 0.7769], dtype=torch.float64)\n",
      "printing /Users/rodrse/Documents/DemandCalibration/notebooks/od_calibration_sumo_files/quickstart/data/iter_quickstart.current_od.xml\n",
      "### Runing: iter\n",
      "Success.\n",
      "Step #57600.00 (1ms ~= 1000.00*RT, ~213000.00UPS, vehicles TOT 1600 ACT 213 BUF 0)        \n",
      "####### 47 ########\n",
      "##### n=66 #####\n",
      "##### best_value=-0.0032747967987865477 #####\n",
      "##### Fitting model #####\n",
      "tensor([1.6386, 1.0051, 1.0303, 0.6104], dtype=torch.float64)\n",
      "printing /Users/rodrse/Documents/DemandCalibration/notebooks/od_calibration_sumo_files/quickstart/data/iter_quickstart.current_od.xml\n",
      "### Runing: iter\n",
      "Success.\n",
      "Step #57600.00 (4ms ~= 250.00*RT, ~155000.00UPS, vehicles TOT 2782 ACT 620 BUF 0)         \n",
      "####### 48 ########\n",
      "##### n=67 #####\n",
      "##### best_value=-0.0032747967987865477 #####\n",
      "##### Fitting model #####\n",
      "tensor([1.2025, 0.9449, 1.3933, 0.8171], dtype=torch.float64)\n",
      "printing /Users/rodrse/Documents/DemandCalibration/notebooks/od_calibration_sumo_files/quickstart/data/iter_quickstart.current_od.xml\n",
      "### Runing: iter\n",
      "Success.\n",
      "Step #57600.00 (7ms ~= 142.86*RT, ~108000.00UPS, vehicles TOT 2768 ACT 756 BUF 0)         \n",
      "####### 49 ########\n",
      "##### n=68 #####\n",
      "##### best_value=-0.0032747967987865477 #####\n",
      "##### Fitting model #####\n",
      "tensor([1.6163, 0.9661, 1.6127, 1.4389], dtype=torch.float64)\n",
      "printing /Users/rodrse/Documents/DemandCalibration/notebooks/od_calibration_sumo_files/quickstart/data/iter_quickstart.current_od.xml\n",
      "### Runing: iter\n",
      "Success.\n",
      "Step #57600.00 (4ms ~= 250.00*RT, ~122000.00UPS, vehicles TOT 2473 ACT 488 BUF 0)         \n",
      "####### 50 ########\n",
      "##### n=69 #####\n",
      "##### best_value=-0.0032747967987865477 #####\n",
      "##### Fitting model #####\n",
      "tensor([0.8039, 0.9297, 0.7793, 0.8761], dtype=torch.float64)\n",
      "printing /Users/rodrse/Documents/DemandCalibration/notebooks/od_calibration_sumo_files/quickstart/data/iter_quickstart.current_od.xml\n",
      "### Runing: iter\n",
      "Success.\n",
      "Step #57600.00 (7ms ~= 142.86*RT, ~127857.14UPS, vehicles TOT 2871 ACT 895 BUF 321)       \n",
      "####### 51 ########\n",
      "##### n=70 #####\n",
      "##### best_value=-0.0032747967987865477 #####\n",
      "##### Fitting model #####\n",
      "tensor([2.2625, 1.6276, 1.3809, 1.3520], dtype=torch.float64)\n",
      "printing /Users/rodrse/Documents/DemandCalibration/notebooks/od_calibration_sumo_files/quickstart/data/iter_quickstart.current_od.xml\n",
      "### Runing: iter\n",
      "Success.\n",
      "Step #57600.00 (5ms ~= 200.00*RT, ~129800.00UPS, vehicles TOT 2499 ACT 649 BUF 0)         \n",
      "####### 52 ########\n",
      "##### n=71 #####\n",
      "##### best_value=-0.0032747967987865477 #####\n",
      "##### Fitting model #####\n"
     ]
    },
    {
     "name": "stderr",
     "output_type": "stream",
     "text": [
      "/Users/rodrse/anaconda3/envs/BoTorch/lib/python3.9/site-packages/botorch/models/fully_bayesian.py:124: RuntimeWarning: Received a linear algebra error while sampling with Pyro. Adding a jitter of 1e-08 to the covariance matrix and retrying.\n",
      "  warnings.warn(\n",
      "/Users/rodrse/anaconda3/envs/BoTorch/lib/python3.9/site-packages/botorch/models/fully_bayesian.py:124: RuntimeWarning: Received a linear algebra error while sampling with Pyro. Adding a jitter of 1e-07 to the covariance matrix and retrying.\n",
      "  warnings.warn(\n",
      "/Users/rodrse/anaconda3/envs/BoTorch/lib/python3.9/site-packages/botorch/models/fully_bayesian.py:124: RuntimeWarning: Received a linear algebra error while sampling with Pyro. Adding a jitter of 9.999999999999999e-06 to the covariance matrix and retrying.\n",
      "  warnings.warn(\n",
      "/Users/rodrse/anaconda3/envs/BoTorch/lib/python3.9/site-packages/botorch/models/fully_bayesian.py:124: RuntimeWarning: Received a linear algebra error while sampling with Pyro. Adding a jitter of 0.009999999999999998 to the covariance matrix and retrying.\n",
      "  warnings.warn(\n"
     ]
    },
    {
     "name": "stdout",
     "output_type": "stream",
     "text": [
      "tensor([1.3634, 1.0411, 0.7041, 1.0301], dtype=torch.float64)\n",
      "printing /Users/rodrse/Documents/DemandCalibration/notebooks/od_calibration_sumo_files/quickstart/data/iter_quickstart.current_od.xml\n",
      "### Runing: iter\n",
      "Success.\n",
      "Step #57600.00 (3ms ~= 333.33*RT, ~186333.33UPS, vehicles TOT 2729 ACT 559 BUF 0)         \n",
      "####### 53 ########\n",
      "##### n=72 #####\n",
      "##### best_value=-0.0032747967987865477 #####\n",
      "##### Fitting model #####\n",
      "tensor([1.0447, 1.1908, 1.3923, 1.1592], dtype=torch.float64)\n",
      "printing /Users/rodrse/Documents/DemandCalibration/notebooks/od_calibration_sumo_files/quickstart/data/iter_quickstart.current_od.xml\n",
      "### Runing: iter\n",
      "Success.\n",
      "Step #57600.00 (13ms ~= 76.92*RT, ~73153.85UPS, vehicles TOT 3158 ACT 951 BUF 93)         \n",
      "####### 54 ########\n",
      "##### n=73 #####\n",
      "##### best_value=-0.0032747967987865477 #####\n",
      "##### Fitting model #####\n"
     ]
    },
    {
     "name": "stderr",
     "output_type": "stream",
     "text": [
      "/Users/rodrse/anaconda3/envs/BoTorch/lib/python3.9/site-packages/botorch/models/fully_bayesian.py:124: RuntimeWarning: Received a linear algebra error while sampling with Pyro. Adding a jitter of 1e-08 to the covariance matrix and retrying.\n",
      "  warnings.warn(\n",
      "/Users/rodrse/anaconda3/envs/BoTorch/lib/python3.9/site-packages/botorch/models/fully_bayesian.py:124: RuntimeWarning: Received a linear algebra error while sampling with Pyro. Adding a jitter of 1e-07 to the covariance matrix and retrying.\n",
      "  warnings.warn(\n",
      "/Users/rodrse/anaconda3/envs/BoTorch/lib/python3.9/site-packages/botorch/models/fully_bayesian.py:124: RuntimeWarning: Received a linear algebra error while sampling with Pyro. Adding a jitter of 9.999999999999999e-06 to the covariance matrix and retrying.\n",
      "  warnings.warn(\n",
      "/Users/rodrse/anaconda3/envs/BoTorch/lib/python3.9/site-packages/botorch/models/fully_bayesian.py:124: RuntimeWarning: Received a linear algebra error while sampling with Pyro. Adding a jitter of 0.009999999999999998 to the covariance matrix and retrying.\n",
      "  warnings.warn(\n"
     ]
    },
    {
     "name": "stdout",
     "output_type": "stream",
     "text": [
      "tensor([1.4002, 1.4345, 1.0014, 1.2177], dtype=torch.float64)\n",
      "printing /Users/rodrse/Documents/DemandCalibration/notebooks/od_calibration_sumo_files/quickstart/data/iter_quickstart.current_od.xml\n",
      "### Runing: iter\n",
      "Success.\n",
      "Step #57600.00 (5ms ~= 200.00*RT, ~97400.00UPS, vehicles TOT 2657 ACT 487 BUF 0)          \n",
      "####### 55 ########\n",
      "##### n=74 #####\n",
      "##### best_value=-0.0032747967987865477 #####\n",
      "##### Fitting model #####\n",
      "tensor([1.0277, 1.2390, 0.8612, 1.2459], dtype=torch.float64)\n",
      "printing /Users/rodrse/Documents/DemandCalibration/notebooks/od_calibration_sumo_files/quickstart/data/iter_quickstart.current_od.xml\n",
      "### Runing: iter\n",
      "Success.\n",
      "Step #57600.00 (9ms ~= 111.11*RT, ~81444.44UPS, vehicles TOT 2930 ACT 733 BUF 19)         \n",
      "####### 56 ########\n",
      "##### n=75 #####\n",
      "##### best_value=-0.0032747967987865477 #####\n",
      "##### Fitting model #####\n"
     ]
    },
    {
     "name": "stderr",
     "output_type": "stream",
     "text": [
      "/Users/rodrse/anaconda3/envs/BoTorch/lib/python3.9/site-packages/botorch/models/fully_bayesian.py:124: RuntimeWarning: Received a linear algebra error while sampling with Pyro. Adding a jitter of 1e-08 to the covariance matrix and retrying.\n",
      "  warnings.warn(\n",
      "/Users/rodrse/anaconda3/envs/BoTorch/lib/python3.9/site-packages/botorch/models/fully_bayesian.py:124: RuntimeWarning: Received a linear algebra error while sampling with Pyro. Adding a jitter of 1e-07 to the covariance matrix and retrying.\n",
      "  warnings.warn(\n",
      "/Users/rodrse/anaconda3/envs/BoTorch/lib/python3.9/site-packages/botorch/models/fully_bayesian.py:124: RuntimeWarning: Received a linear algebra error while sampling with Pyro. Adding a jitter of 9.999999999999999e-06 to the covariance matrix and retrying.\n",
      "  warnings.warn(\n",
      "/Users/rodrse/anaconda3/envs/BoTorch/lib/python3.9/site-packages/botorch/models/fully_bayesian.py:124: RuntimeWarning: Received a linear algebra error while sampling with Pyro. Adding a jitter of 0.009999999999999998 to the covariance matrix and retrying.\n",
      "  warnings.warn(\n"
     ]
    },
    {
     "name": "stdout",
     "output_type": "stream",
     "text": [
      "tensor([0.7113, 0.6770, 0.5171, 0.5964], dtype=torch.float64)\n",
      "printing /Users/rodrse/Documents/DemandCalibration/notebooks/od_calibration_sumo_files/quickstart/data/iter_quickstart.current_od.xml\n",
      "### Runing: iter\n",
      "Success.\n",
      "Step #57600.00 (9ms ~= 111.11*RT, ~76777.78UPS, vehicles TOT 2844 ACT 691 BUF 0)          \n",
      "####### 57 ########\n",
      "##### n=76 #####\n",
      "##### best_value=-0.0032747967987865477 #####\n",
      "##### Fitting model #####\n",
      "tensor([0.7937, 0.8331, 0.9065, 0.7498], dtype=torch.float64)\n",
      "printing /Users/rodrse/Documents/DemandCalibration/notebooks/od_calibration_sumo_files/quickstart/data/iter_quickstart.current_od.xml\n",
      "### Runing: iter\n",
      "Success.\n",
      "Step #57600.00 (9ms ~= 111.11*RT, ~80222.22UPS, vehicles TOT 2835 ACT 722 BUF 0)          \n",
      "####### 58 ########\n",
      "##### n=77 #####\n",
      "##### best_value=-0.0032747967987865477 #####\n",
      "##### Fitting model #####\n",
      "tensor([1.3075, 1.2674, 1.3933, 1.3619], dtype=torch.float64)\n",
      "printing /Users/rodrse/Documents/DemandCalibration/notebooks/od_calibration_sumo_files/quickstart/data/iter_quickstart.current_od.xml\n",
      "### Runing: iter\n",
      "Success.\n",
      "Step #57600.00 (8ms ~= 125.00*RT, ~87125.00UPS, vehicles TOT 2837 ACT 697 BUF 0)          \n",
      "####### 59 ########\n",
      "##### n=78 #####\n",
      "##### best_value=-0.0032747967987865477 #####\n",
      "##### Fitting model #####\n",
      "tensor([0.8073, 0.9656, 0.5666, 0.7684], dtype=torch.float64)\n",
      "printing /Users/rodrse/Documents/DemandCalibration/notebooks/od_calibration_sumo_files/quickstart/data/iter_quickstart.current_od.xml\n",
      "### Runing: iter\n",
      "Success.\n",
      "Step #57600.00 (9ms ~= 111.11*RT, ~74444.44UPS, vehicles TOT 2861 ACT 670 BUF 0)          \n",
      "####### 60 ########\n",
      "##### n=79 #####\n",
      "##### best_value=-0.0032747967987865477 #####\n",
      "##### Fitting model #####\n"
     ]
    },
    {
     "name": "stderr",
     "output_type": "stream",
     "text": [
      "/Users/rodrse/anaconda3/envs/BoTorch/lib/python3.9/site-packages/botorch/models/fully_bayesian.py:124: RuntimeWarning: Received a linear algebra error while sampling with Pyro. Adding a jitter of 1e-08 to the covariance matrix and retrying.\n",
      "  warnings.warn(\n",
      "/Users/rodrse/anaconda3/envs/BoTorch/lib/python3.9/site-packages/botorch/models/fully_bayesian.py:124: RuntimeWarning: Received a linear algebra error while sampling with Pyro. Adding a jitter of 1e-07 to the covariance matrix and retrying.\n",
      "  warnings.warn(\n",
      "/Users/rodrse/anaconda3/envs/BoTorch/lib/python3.9/site-packages/botorch/models/fully_bayesian.py:124: RuntimeWarning: Received a linear algebra error while sampling with Pyro. Adding a jitter of 9.999999999999999e-06 to the covariance matrix and retrying.\n",
      "  warnings.warn(\n",
      "/Users/rodrse/anaconda3/envs/BoTorch/lib/python3.9/site-packages/botorch/models/fully_bayesian.py:124: RuntimeWarning: Received a linear algebra error while sampling with Pyro. Adding a jitter of 0.009999999999999998 to the covariance matrix and retrying.\n",
      "  warnings.warn(\n"
     ]
    },
    {
     "name": "stdout",
     "output_type": "stream",
     "text": [
      "tensor([1.4291, 0.9367, 1.2847, 1.5395], dtype=torch.float64)\n",
      "printing /Users/rodrse/Documents/DemandCalibration/notebooks/od_calibration_sumo_files/quickstart/data/iter_quickstart.current_od.xml\n",
      "### Runing: iter\n",
      "Success.\n",
      "Step #57600.00 (9ms ~= 111.11*RT, ~83222.22UPS, vehicles TOT 2591 ACT 749 BUF 209)        \n",
      "####### 61 ########\n",
      "##### n=80 #####\n",
      "##### best_value=-0.0032747967987865477 #####\n",
      "##### Fitting model #####\n",
      "tensor([1.0582, 1.2752, 1.1352, 1.0584], dtype=torch.float64)\n",
      "printing /Users/rodrse/Documents/DemandCalibration/notebooks/od_calibration_sumo_files/quickstart/data/iter_quickstart.current_od.xml\n",
      "### Runing: iter\n",
      "Success.\n",
      "Step #57600.00 (10ms ~= 100.00*RT, ~77500.00UPS, vehicles TOT 2883 ACT 775 BUF 0)         \n",
      "####### 62 ########\n",
      "##### n=81 #####\n",
      "##### best_value=-0.0032747967987865477 #####\n",
      "##### Fitting model #####\n",
      "tensor([0.8240, 1.5448, 1.0433, 1.0528], dtype=torch.float64)\n",
      "printing /Users/rodrse/Documents/DemandCalibration/notebooks/od_calibration_sumo_files/quickstart/data/iter_quickstart.current_od.xml\n",
      "### Runing: iter\n",
      "Success.\n",
      "Step #57600.00 (11ms ~= 90.91*RT, ~81545.45UPS, vehicles TOT 3235 ACT 897 BUF 472)        \n",
      "####### 63 ########\n",
      "##### n=82 #####\n",
      "##### best_value=-0.0032747967987865477 #####\n",
      "##### Fitting model #####\n"
     ]
    },
    {
     "name": "stderr",
     "output_type": "stream",
     "text": [
      "/Users/rodrse/anaconda3/envs/BoTorch/lib/python3.9/site-packages/botorch/models/fully_bayesian.py:124: RuntimeWarning: Received a linear algebra error while sampling with Pyro. Adding a jitter of 1e-08 to the covariance matrix and retrying.\n",
      "  warnings.warn(\n"
     ]
    },
    {
     "name": "stdout",
     "output_type": "stream",
     "text": [
      "tensor([1.0797, 0.7730, 1.2229, 1.0756], dtype=torch.float64)\n",
      "printing /Users/rodrse/Documents/DemandCalibration/notebooks/od_calibration_sumo_files/quickstart/data/iter_quickstart.current_od.xml\n",
      "### Runing: iter\n",
      "Success.\n",
      "Step #57600.00 (11ms ~= 90.91*RT, ~74636.36UPS, vehicles TOT 3121 ACT 821 BUF 279)        \n",
      "####### 64 ########\n",
      "##### n=83 #####\n",
      "##### best_value=-0.0032747967987865477 #####\n",
      "##### Fitting model #####\n",
      "tensor([0.7752, 0.8462, 0.8415, 0.7852], dtype=torch.float64)\n",
      "printing /Users/rodrse/Documents/DemandCalibration/notebooks/od_calibration_sumo_files/quickstart/data/iter_quickstart.current_od.xml\n",
      "### Runing: iter\n",
      "Success.\n",
      "Step #57600.00 (11ms ~= 90.91*RT, ~75727.27UPS, vehicles TOT 3158 ACT 833 BUF 528)        \n",
      "####### 65 ########\n",
      "##### n=84 #####\n",
      "##### best_value=-0.0032747967987865477 #####\n",
      "##### Fitting model #####\n",
      "tensor([0.9471, 1.0712, 0.9389, 1.2518], dtype=torch.float64)\n",
      "printing /Users/rodrse/Documents/DemandCalibration/notebooks/od_calibration_sumo_files/quickstart/data/iter_quickstart.current_od.xml\n",
      "### Runing: iter\n",
      "Success.\n",
      "Step #57600.00 (11ms ~= 90.91*RT, ~51636.36UPS, vehicles TOT 2729 ACT 568 BUF 0)          \n",
      "####### 66 ########\n",
      "##### n=85 #####\n",
      "##### best_value=-0.0032747967987865477 #####\n",
      "##### Fitting model #####\n"
     ]
    },
    {
     "name": "stderr",
     "output_type": "stream",
     "text": [
      "/Users/rodrse/anaconda3/envs/BoTorch/lib/python3.9/site-packages/botorch/models/fully_bayesian.py:124: RuntimeWarning: Received a linear algebra error while sampling with Pyro. Adding a jitter of 1e-08 to the covariance matrix and retrying.\n",
      "  warnings.warn(\n",
      "/Users/rodrse/anaconda3/envs/BoTorch/lib/python3.9/site-packages/botorch/models/fully_bayesian.py:124: RuntimeWarning: Received a linear algebra error while sampling with Pyro. Adding a jitter of 1e-07 to the covariance matrix and retrying.\n",
      "  warnings.warn(\n",
      "/Users/rodrse/anaconda3/envs/BoTorch/lib/python3.9/site-packages/botorch/models/fully_bayesian.py:124: RuntimeWarning: Received a linear algebra error while sampling with Pyro. Adding a jitter of 9.999999999999999e-06 to the covariance matrix and retrying.\n",
      "  warnings.warn(\n",
      "/Users/rodrse/anaconda3/envs/BoTorch/lib/python3.9/site-packages/botorch/models/fully_bayesian.py:124: RuntimeWarning: Received a linear algebra error while sampling with Pyro. Adding a jitter of 0.009999999999999998 to the covariance matrix and retrying.\n",
      "  warnings.warn(\n"
     ]
    },
    {
     "name": "stdout",
     "output_type": "stream",
     "text": [
      "tensor([0.8884, 0.9558, 0.9901, 0.9178], dtype=torch.float64)\n",
      "printing /Users/rodrse/Documents/DemandCalibration/notebooks/od_calibration_sumo_files/quickstart/data/iter_quickstart.current_od.xml\n",
      "### Runing: iter\n",
      "Success.\n",
      "Step #57600.00 (8ms ~= 125.00*RT, ~83125.00UPS, vehicles TOT 2802 ACT 665 BUF 0)          \n",
      "####### 67 ########\n",
      "##### n=86 #####\n",
      "##### best_value=-0.0032747967987865477 #####\n",
      "##### Fitting model #####\n",
      "tensor([0.8521, 0.9473, 0.8300, 0.8256], dtype=torch.float64)\n",
      "printing /Users/rodrse/Documents/DemandCalibration/notebooks/od_calibration_sumo_files/quickstart/data/iter_quickstart.current_od.xml\n",
      "### Runing: iter\n",
      "Success.\n",
      "Step #57600.00 (8ms ~= 125.00*RT, ~77875.00UPS, vehicles TOT 2863 ACT 623 BUF 0)          \n",
      "####### 68 ########\n",
      "##### n=87 #####\n",
      "##### best_value=-0.0032747967987865477 #####\n",
      "##### Fitting model #####\n",
      "tensor([1.0529, 1.7911, 1.2422, 1.5753], dtype=torch.float64)\n",
      "printing /Users/rodrse/Documents/DemandCalibration/notebooks/od_calibration_sumo_files/quickstart/data/iter_quickstart.current_od.xml\n",
      "### Runing: iter\n",
      "Success.\n",
      "Step #57600.00 (13ms ~= 76.92*RT, ~70769.23UPS, vehicles TOT 2974 ACT 920 BUF 92)         \n",
      "####### 69 ########\n",
      "##### n=88 #####\n",
      "##### best_value=-0.0032747967987865477 #####\n",
      "##### Fitting model #####\n"
     ]
    },
    {
     "name": "stderr",
     "output_type": "stream",
     "text": [
      "/Users/rodrse/anaconda3/envs/BoTorch/lib/python3.9/site-packages/botorch/models/fully_bayesian.py:124: RuntimeWarning: Received a linear algebra error while sampling with Pyro. Adding a jitter of 1e-08 to the covariance matrix and retrying.\n",
      "  warnings.warn(\n"
     ]
    },
    {
     "name": "stdout",
     "output_type": "stream",
     "text": [
      "tensor([1.1844, 1.4130, 1.2608, 1.7667], dtype=torch.float64)\n",
      "printing /Users/rodrse/Documents/DemandCalibration/notebooks/od_calibration_sumo_files/quickstart/data/iter_quickstart.current_od.xml\n",
      "### Runing: iter\n",
      "Success.\n",
      "Step #57600.00 (13ms ~= 76.92*RT, ~70153.85UPS, vehicles TOT 2797 ACT 912 BUF 220)        \n",
      "####### 70 ########\n",
      "##### n=89 #####\n",
      "##### best_value=-0.0032747967987865477 #####\n",
      "##### Fitting model #####\n"
     ]
    },
    {
     "name": "stderr",
     "output_type": "stream",
     "text": [
      "/Users/rodrse/anaconda3/envs/BoTorch/lib/python3.9/site-packages/botorch/models/fully_bayesian.py:124: RuntimeWarning: Received a linear algebra error while sampling with Pyro. Adding a jitter of 1e-08 to the covariance matrix and retrying.\n",
      "  warnings.warn(\n",
      "/Users/rodrse/anaconda3/envs/BoTorch/lib/python3.9/site-packages/botorch/models/fully_bayesian.py:124: RuntimeWarning: Received a linear algebra error while sampling with Pyro. Adding a jitter of 1e-07 to the covariance matrix and retrying.\n",
      "  warnings.warn(\n",
      "/Users/rodrse/anaconda3/envs/BoTorch/lib/python3.9/site-packages/botorch/models/fully_bayesian.py:124: RuntimeWarning: Received a linear algebra error while sampling with Pyro. Adding a jitter of 9.999999999999999e-06 to the covariance matrix and retrying.\n",
      "  warnings.warn(\n",
      "/Users/rodrse/anaconda3/envs/BoTorch/lib/python3.9/site-packages/botorch/models/fully_bayesian.py:124: RuntimeWarning: Received a linear algebra error while sampling with Pyro. Adding a jitter of 0.009999999999999998 to the covariance matrix and retrying.\n",
      "  warnings.warn(\n"
     ]
    },
    {
     "name": "stdout",
     "output_type": "stream",
     "text": [
      "tensor([0.9433, 0.7756, 0.8370, 1.0295], dtype=torch.float64)\n",
      "printing /Users/rodrse/Documents/DemandCalibration/notebooks/od_calibration_sumo_files/quickstart/data/iter_quickstart.current_od.xml\n",
      "### Runing: iter\n",
      "Success.\n",
      "Step #57600.00 (16ms ~= 62.50*RT, ~55687.50UPS, vehicles TOT 3415 ACT 891 BUF 585)        \n",
      "####### 71 ########\n",
      "##### n=90 #####\n",
      "##### best_value=-0.0032747967987865477 #####\n",
      "##### Fitting model #####\n",
      "tensor([0.7071, 1.0521, 0.6543, 0.8284], dtype=torch.float64)\n",
      "printing /Users/rodrse/Documents/DemandCalibration/notebooks/od_calibration_sumo_files/quickstart/data/iter_quickstart.current_od.xml\n",
      "### Runing: iter\n",
      "Success.\n",
      "Step #57600.00 (14ms ~= 71.43*RT, ~57000.00UPS, vehicles TOT 2924 ACT 798 BUF 543)        \n",
      "####### 72 ########\n",
      "##### n=91 #####\n",
      "##### best_value=-0.0032747967987865477 #####\n",
      "##### Fitting model #####\n",
      "tensor([1.0078, 1.2106, 1.1482, 1.2570], dtype=torch.float64)\n",
      "printing /Users/rodrse/Documents/DemandCalibration/notebooks/od_calibration_sumo_files/quickstart/data/iter_quickstart.current_od.xml\n",
      "### Runing: iter\n",
      "Success.\n",
      "Step #57600.00 (8ms ~= 125.00*RT, ~81875.00UPS, vehicles TOT 2524 ACT 655 BUF 0)          \n",
      "####### 73 ########\n",
      "##### n=92 #####\n",
      "##### best_value=-0.0032747967987865477 #####\n",
      "##### Fitting model #####\n",
      "tensor([0.7794, 1.3726, 1.0526, 1.2202], dtype=torch.float64)\n",
      "printing /Users/rodrse/Documents/DemandCalibration/notebooks/od_calibration_sumo_files/quickstart/data/iter_quickstart.current_od.xml\n",
      "### Runing: iter\n",
      "Success.\n",
      "Step #57600.00 (13ms ~= 76.92*RT, ~63923.08UPS, vehicles TOT 2949 ACT 831 BUF 518)        \n",
      "####### 74 ########\n",
      "##### n=93 #####\n",
      "##### best_value=-0.0032747967987865477 #####\n",
      "##### Fitting model #####\n",
      "tensor([0.8029, 1.0781, 1.0679, 1.0117], dtype=torch.float64)\n",
      "printing /Users/rodrse/Documents/DemandCalibration/notebooks/od_calibration_sumo_files/quickstart/data/iter_quickstart.current_od.xml\n",
      "### Runing: iter\n",
      "Success.\n",
      "Step #57600.00 (8ms ~= 125.00*RT, ~70375.00UPS, vehicles TOT 2120 ACT 563 BUF 0)          \n",
      "####### 75 ########\n",
      "##### n=94 #####\n",
      "##### best_value=-0.0032747967987865477 #####\n",
      "##### Fitting model #####\n",
      "tensor([0.7439, 0.7859, 1.0700, 1.0204], dtype=torch.float64)\n",
      "printing /Users/rodrse/Documents/DemandCalibration/notebooks/od_calibration_sumo_files/quickstart/data/iter_quickstart.current_od.xml\n",
      "### Runing: iter\n",
      "Success.\n",
      "Step #57600.00 (10ms ~= 100.00*RT, ~71500.00UPS, vehicles TOT 2862 ACT 715 BUF 0)         \n",
      "####### 76 ########\n",
      "##### n=95 #####\n",
      "##### best_value=-0.0032747967987865477 #####\n",
      "##### Fitting model #####\n",
      "tensor([0.8134, 1.7873, 1.0239, 1.5061], dtype=torch.float64)\n",
      "printing /Users/rodrse/Documents/DemandCalibration/notebooks/od_calibration_sumo_files/quickstart/data/iter_quickstart.current_od.xml\n",
      "### Runing: iter\n",
      "Success.\n",
      "Step #57600.00 (10ms ~= 100.00*RT, ~85400.00UPS, vehicles TOT 3020 ACT 854 BUF 380)       \n",
      "####### 77 ########\n",
      "##### n=96 #####\n",
      "##### best_value=-0.0032747967987865477 #####\n",
      "##### Fitting model #####\n"
     ]
    },
    {
     "name": "stderr",
     "output_type": "stream",
     "text": [
      "/Users/rodrse/anaconda3/envs/BoTorch/lib/python3.9/site-packages/botorch/models/fully_bayesian.py:124: RuntimeWarning: Received a linear algebra error while sampling with Pyro. Adding a jitter of 1e-08 to the covariance matrix and retrying.\n",
      "  warnings.warn(\n",
      "/Users/rodrse/anaconda3/envs/BoTorch/lib/python3.9/site-packages/botorch/models/fully_bayesian.py:124: RuntimeWarning: Received a linear algebra error while sampling with Pyro. Adding a jitter of 1e-07 to the covariance matrix and retrying.\n",
      "  warnings.warn(\n",
      "/Users/rodrse/anaconda3/envs/BoTorch/lib/python3.9/site-packages/botorch/models/fully_bayesian.py:124: RuntimeWarning: Received a linear algebra error while sampling with Pyro. Adding a jitter of 9.999999999999999e-06 to the covariance matrix and retrying.\n",
      "  warnings.warn(\n",
      "/Users/rodrse/anaconda3/envs/BoTorch/lib/python3.9/site-packages/botorch/models/fully_bayesian.py:124: RuntimeWarning: Received a linear algebra error while sampling with Pyro. Adding a jitter of 0.009999999999999998 to the covariance matrix and retrying.\n",
      "  warnings.warn(\n"
     ]
    },
    {
     "name": "stdout",
     "output_type": "stream",
     "text": [
      "tensor([1.0769, 1.2116, 1.3175, 1.5362], dtype=torch.float64)\n",
      "printing /Users/rodrse/Documents/DemandCalibration/notebooks/od_calibration_sumo_files/quickstart/data/iter_quickstart.current_od.xml\n",
      "### Runing: iter\n",
      "Success.\n",
      "Step #57600.00 (12ms ~= 83.33*RT, ~75500.00UPS, vehicles TOT 2859 ACT 906 BUF 124)        \n",
      "####### 78 ########\n",
      "##### n=97 #####\n",
      "##### best_value=-0.0032747967987865477 #####\n",
      "##### Fitting model #####\n"
     ]
    },
    {
     "name": "stderr",
     "output_type": "stream",
     "text": [
      "/Users/rodrse/anaconda3/envs/BoTorch/lib/python3.9/site-packages/botorch/models/fully_bayesian.py:124: RuntimeWarning: Received a linear algebra error while sampling with Pyro. Adding a jitter of 1e-08 to the covariance matrix and retrying.\n",
      "  warnings.warn(\n",
      "/Users/rodrse/anaconda3/envs/BoTorch/lib/python3.9/site-packages/botorch/models/fully_bayesian.py:124: RuntimeWarning: Received a linear algebra error while sampling with Pyro. Adding a jitter of 1e-07 to the covariance matrix and retrying.\n",
      "  warnings.warn(\n",
      "/Users/rodrse/anaconda3/envs/BoTorch/lib/python3.9/site-packages/botorch/models/fully_bayesian.py:124: RuntimeWarning: Received a linear algebra error while sampling with Pyro. Adding a jitter of 9.999999999999999e-06 to the covariance matrix and retrying.\n",
      "  warnings.warn(\n",
      "/Users/rodrse/anaconda3/envs/BoTorch/lib/python3.9/site-packages/botorch/models/fully_bayesian.py:124: RuntimeWarning: Received a linear algebra error while sampling with Pyro. Adding a jitter of 0.009999999999999998 to the covariance matrix and retrying.\n",
      "  warnings.warn(\n"
     ]
    },
    {
     "name": "stdout",
     "output_type": "stream",
     "text": [
      "tensor([0.8339, 1.2497, 0.9494, 1.1101], dtype=torch.float64)\n",
      "printing /Users/rodrse/Documents/DemandCalibration/notebooks/od_calibration_sumo_files/quickstart/data/iter_quickstart.current_od.xml\n",
      "### Runing: iter\n",
      "Success.\n",
      "Step #57600.00 (10ms ~= 100.00*RT, ~86700.00UPS, vehicles TOT 2909 ACT 867 BUF 158)       \n",
      "####### 79 ########\n",
      "##### n=98 #####\n",
      "##### best_value=-0.0032747967987865477 #####\n",
      "##### Fitting model #####\n"
     ]
    },
    {
     "name": "stderr",
     "output_type": "stream",
     "text": [
      "/Users/rodrse/anaconda3/envs/BoTorch/lib/python3.9/site-packages/botorch/models/fully_bayesian.py:124: RuntimeWarning: Received a linear algebra error while sampling with Pyro. Adding a jitter of 1e-08 to the covariance matrix and retrying.\n",
      "  warnings.warn(\n",
      "/Users/rodrse/anaconda3/envs/BoTorch/lib/python3.9/site-packages/botorch/models/fully_bayesian.py:124: RuntimeWarning: Received a linear algebra error while sampling with Pyro. Adding a jitter of 1e-07 to the covariance matrix and retrying.\n",
      "  warnings.warn(\n",
      "/Users/rodrse/anaconda3/envs/BoTorch/lib/python3.9/site-packages/botorch/models/fully_bayesian.py:124: RuntimeWarning: Received a linear algebra error while sampling with Pyro. Adding a jitter of 9.999999999999999e-06 to the covariance matrix and retrying.\n",
      "  warnings.warn(\n",
      "/Users/rodrse/anaconda3/envs/BoTorch/lib/python3.9/site-packages/botorch/models/fully_bayesian.py:124: RuntimeWarning: Received a linear algebra error while sampling with Pyro. Adding a jitter of 0.009999999999999998 to the covariance matrix and retrying.\n",
      "  warnings.warn(\n"
     ]
    },
    {
     "name": "stdout",
     "output_type": "stream",
     "text": [
      "tensor([0.7835, 0.8491, 0.8711, 0.6682], dtype=torch.float64)\n",
      "printing /Users/rodrse/Documents/DemandCalibration/notebooks/od_calibration_sumo_files/quickstart/data/iter_quickstart.current_od.xml\n",
      "### Runing: iter\n",
      "Success.\n",
      "Step #57600.00 (23ms ~= 43.48*RT, ~35000.00UPS, vehicles TOT 2880 ACT 805 BUF 497)        \n",
      "####### 80 ########\n",
      "##### n=99 #####\n",
      "##### best_value=-0.0032747967987865477 #####\n",
      "##### Fitting model #####\n",
      "tensor([0.5546, 0.6997, 0.5770, 0.6133], dtype=torch.float64)\n",
      "printing /Users/rodrse/Documents/DemandCalibration/notebooks/od_calibration_sumo_files/quickstart/data/iter_quickstart.current_od.xml\n",
      "### Runing: iter\n",
      "Success.\n",
      "Step #57600.00 (11ms ~= 90.91*RT, ~74000.00UPS, vehicles TOT 2971 ACT 814 BUF 386)        \n",
      "####### 81 ########\n",
      "##### n=100 #####\n",
      "##### best_value=-0.0032747967987865477 #####\n",
      "##### Fitting model #####\n"
     ]
    },
    {
     "name": "stderr",
     "output_type": "stream",
     "text": [
      "/Users/rodrse/anaconda3/envs/BoTorch/lib/python3.9/site-packages/botorch/models/fully_bayesian.py:124: RuntimeWarning: Received a linear algebra error while sampling with Pyro. Adding a jitter of 1e-08 to the covariance matrix and retrying.\n",
      "  warnings.warn(\n",
      "/Users/rodrse/anaconda3/envs/BoTorch/lib/python3.9/site-packages/botorch/models/fully_bayesian.py:124: RuntimeWarning: Received a linear algebra error while sampling with Pyro. Adding a jitter of 1e-07 to the covariance matrix and retrying.\n",
      "  warnings.warn(\n",
      "/Users/rodrse/anaconda3/envs/BoTorch/lib/python3.9/site-packages/botorch/models/fully_bayesian.py:124: RuntimeWarning: Received a linear algebra error while sampling with Pyro. Adding a jitter of 9.999999999999999e-06 to the covariance matrix and retrying.\n",
      "  warnings.warn(\n",
      "/Users/rodrse/anaconda3/envs/BoTorch/lib/python3.9/site-packages/botorch/models/fully_bayesian.py:124: RuntimeWarning: Received a linear algebra error while sampling with Pyro. Adding a jitter of 0.009999999999999998 to the covariance matrix and retrying.\n",
      "  warnings.warn(\n"
     ]
    },
    {
     "name": "stdout",
     "output_type": "stream",
     "text": [
      "tensor([1.0881, 1.6651, 1.2445, 1.1898], dtype=torch.float64)\n",
      "printing /Users/rodrse/Documents/DemandCalibration/notebooks/od_calibration_sumo_files/quickstart/data/iter_quickstart.current_od.xml\n",
      "### Runing: iter\n",
      "Success.\n",
      "Step #57600.00 (11ms ~= 90.91*RT, ~72909.09UPS, vehicles TOT 2962 ACT 802 BUF 401)        \n",
      "####### 82 ########\n",
      "##### n=101 #####\n",
      "##### best_value=-0.0032747967987865477 #####\n",
      "##### Fitting model #####\n"
     ]
    },
    {
     "name": "stderr",
     "output_type": "stream",
     "text": [
      "/Users/rodrse/anaconda3/envs/BoTorch/lib/python3.9/site-packages/botorch/models/fully_bayesian.py:124: RuntimeWarning: Received a linear algebra error while sampling with Pyro. Adding a jitter of 1e-08 to the covariance matrix and retrying.\n",
      "  warnings.warn(\n"
     ]
    },
    {
     "name": "stdout",
     "output_type": "stream",
     "text": [
      "tensor([0.7262, 1.1263, 0.8104, 0.7896], dtype=torch.float64)\n",
      "printing /Users/rodrse/Documents/DemandCalibration/notebooks/od_calibration_sumo_files/quickstart/data/iter_quickstart.current_od.xml\n",
      "### Runing: iter\n",
      "Success.\n",
      "Step #57600.00 (11ms ~= 90.91*RT, ~72727.27UPS, vehicles TOT 2991 ACT 800 BUF 408)        \n",
      "####### 83 ########\n",
      "##### n=102 #####\n",
      "##### best_value=-0.0032747967987865477 #####\n",
      "##### Fitting model #####\n",
      "tensor([0.5321, 0.8958, 0.7324, 0.7602], dtype=torch.float64)\n",
      "printing /Users/rodrse/Documents/DemandCalibration/notebooks/od_calibration_sumo_files/quickstart/data/iter_quickstart.current_od.xml\n",
      "### Runing: iter\n",
      "Success.\n",
      "Step #57600.00 (11ms ~= 90.91*RT, ~64636.36UPS, vehicles TOT 2851 ACT 711 BUF 0)          \n",
      "####### 84 ########\n",
      "##### n=103 #####\n",
      "##### best_value=-0.0032747967987865477 #####\n",
      "##### Fitting model #####\n"
     ]
    },
    {
     "name": "stderr",
     "output_type": "stream",
     "text": [
      "/Users/rodrse/anaconda3/envs/BoTorch/lib/python3.9/site-packages/botorch/models/fully_bayesian.py:124: RuntimeWarning: Received a linear algebra error while sampling with Pyro. Adding a jitter of 1e-08 to the covariance matrix and retrying.\n",
      "  warnings.warn(\n",
      "/Users/rodrse/anaconda3/envs/BoTorch/lib/python3.9/site-packages/botorch/models/fully_bayesian.py:124: RuntimeWarning: Received a linear algebra error while sampling with Pyro. Adding a jitter of 1e-07 to the covariance matrix and retrying.\n",
      "  warnings.warn(\n",
      "/Users/rodrse/anaconda3/envs/BoTorch/lib/python3.9/site-packages/botorch/models/fully_bayesian.py:124: RuntimeWarning: Received a linear algebra error while sampling with Pyro. Adding a jitter of 9.999999999999999e-06 to the covariance matrix and retrying.\n",
      "  warnings.warn(\n",
      "/Users/rodrse/anaconda3/envs/BoTorch/lib/python3.9/site-packages/botorch/models/fully_bayesian.py:124: RuntimeWarning: Received a linear algebra error while sampling with Pyro. Adding a jitter of 0.009999999999999998 to the covariance matrix and retrying.\n",
      "  warnings.warn(\n"
     ]
    },
    {
     "name": "stdout",
     "output_type": "stream",
     "text": [
      "tensor([0.8349, 1.4405, 1.2479, 1.3350], dtype=torch.float64)\n",
      "printing /Users/rodrse/Documents/DemandCalibration/notebooks/od_calibration_sumo_files/quickstart/data/iter_quickstart.current_od.xml\n",
      "### Runing: iter\n",
      "Success.\n",
      "Step #57600.00 (9ms ~= 111.11*RT, ~72333.33UPS, vehicles TOT 2578 ACT 651 BUF 222)        \n",
      "####### 85 ########\n",
      "##### n=104 #####\n",
      "##### best_value=-0.0032747967987865477 #####\n",
      "##### Fitting model #####\n",
      "tensor([0.7511, 1.1280, 0.8344, 0.7955], dtype=torch.float64)\n",
      "printing /Users/rodrse/Documents/DemandCalibration/notebooks/od_calibration_sumo_files/quickstart/data/iter_quickstart.current_od.xml\n",
      "### Runing: iter\n",
      "Success.\n",
      "Step #57600.00 (10ms ~= 100.00*RT, ~91000.00UPS, vehicles TOT 3066 ACT 910 BUF 334)       \n",
      "####### 86 ########\n",
      "##### n=105 #####\n",
      "##### best_value=-0.0032747967987865477 #####\n",
      "##### Fitting model #####\n",
      "tensor([0.6611, 1.2174, 1.0878, 0.9656], dtype=torch.float64)\n",
      "printing /Users/rodrse/Documents/DemandCalibration/notebooks/od_calibration_sumo_files/quickstart/data/iter_quickstart.current_od.xml\n",
      "### Runing: iter\n",
      "Success.\n",
      "Step #57600.00 (23ms ~= 43.48*RT, ~32130.43UPS, vehicles TOT 2882 ACT 739 BUF 0)          \n",
      "####### 87 ########\n",
      "##### n=106 #####\n",
      "##### best_value=-0.0032747967987865477 #####\n",
      "##### Fitting model #####\n",
      "tensor([0.8199, 1.3446, 1.1313, 1.4145], dtype=torch.float64)\n",
      "printing /Users/rodrse/Documents/DemandCalibration/notebooks/od_calibration_sumo_files/quickstart/data/iter_quickstart.current_od.xml\n",
      "### Runing: iter\n",
      "Success.\n",
      "Step #57600.00 (16ms ~= 62.50*RT, ~56437.50UPS, vehicles TOT 3078 ACT 903 BUF 295)        \n",
      "####### 88 ########\n",
      "##### n=107 #####\n",
      "##### best_value=-0.0032747967987865477 #####\n",
      "##### Fitting model #####\n",
      "tensor([1.0026, 1.6907, 1.2219, 1.3930], dtype=torch.float64)\n",
      "printing /Users/rodrse/Documents/DemandCalibration/notebooks/od_calibration_sumo_files/quickstart/data/iter_quickstart.current_od.xml\n",
      "### Runing: iter\n",
      "Success.\n",
      "Step #57600.00 (9ms ~= 111.11*RT, ~86000.00UPS, vehicles TOT 2969 ACT 774 BUF 426)        \n",
      "####### 89 ########\n",
      "##### n=108 #####\n",
      "##### best_value=-0.0032747967987865477 #####\n",
      "##### Fitting model #####\n",
      "tensor([0.7847, 1.0287, 0.9387, 0.9297], dtype=torch.float64)\n",
      "printing /Users/rodrse/Documents/DemandCalibration/notebooks/od_calibration_sumo_files/quickstart/data/iter_quickstart.current_od.xml\n",
      "### Runing: iter\n",
      "Success.\n",
      "Step #57600.00 (13ms ~= 76.92*RT, ~68538.46UPS, vehicles TOT 3057 ACT 891 BUF 421)        \n",
      "####### 90 ########\n",
      "##### n=109 #####\n",
      "##### best_value=-0.0032747967987865477 #####\n",
      "##### Fitting model #####\n"
     ]
    },
    {
     "name": "stderr",
     "output_type": "stream",
     "text": [
      "/Users/rodrse/anaconda3/envs/BoTorch/lib/python3.9/site-packages/botorch/models/fully_bayesian.py:124: RuntimeWarning: Received a linear algebra error while sampling with Pyro. Adding a jitter of 1e-08 to the covariance matrix and retrying.\n",
      "  warnings.warn(\n",
      "/Users/rodrse/anaconda3/envs/BoTorch/lib/python3.9/site-packages/botorch/models/fully_bayesian.py:124: RuntimeWarning: Received a linear algebra error while sampling with Pyro. Adding a jitter of 1e-07 to the covariance matrix and retrying.\n",
      "  warnings.warn(\n",
      "/Users/rodrse/anaconda3/envs/BoTorch/lib/python3.9/site-packages/botorch/models/fully_bayesian.py:124: RuntimeWarning: Received a linear algebra error while sampling with Pyro. Adding a jitter of 9.999999999999999e-06 to the covariance matrix and retrying.\n",
      "  warnings.warn(\n",
      "/Users/rodrse/anaconda3/envs/BoTorch/lib/python3.9/site-packages/botorch/models/fully_bayesian.py:124: RuntimeWarning: Received a linear algebra error while sampling with Pyro. Adding a jitter of 0.009999999999999998 to the covariance matrix and retrying.\n",
      "  warnings.warn(\n"
     ]
    },
    {
     "name": "stdout",
     "output_type": "stream",
     "text": [
      "tensor([1.0294, 1.5558, 1.2588, 1.5464], dtype=torch.float64)\n",
      "printing /Users/rodrse/Documents/DemandCalibration/notebooks/od_calibration_sumo_files/quickstart/data/iter_quickstart.current_od.xml\n",
      "### Runing: iter\n",
      "Success.\n",
      "Step #57600.00 (16ms ~= 62.50*RT, ~54062.50UPS, vehicles TOT 3012 ACT 865 BUF 314)        \n",
      "####### 91 ########\n",
      "##### n=110 #####\n",
      "##### best_value=-0.0032747967987865477 #####\n",
      "##### Fitting model #####\n",
      "tensor([0.7522, 1.6826, 0.9889, 1.2711], dtype=torch.float64)\n",
      "printing /Users/rodrse/Documents/DemandCalibration/notebooks/od_calibration_sumo_files/quickstart/data/iter_quickstart.current_od.xml\n",
      "### Runing: iter\n",
      "Success.\n",
      "Step #57600.00 (12ms ~= 83.33*RT, ~73500.00UPS, vehicles TOT 3008 ACT 882 BUF 218)        \n",
      "####### 92 ########\n",
      "##### n=111 #####\n",
      "##### best_value=-0.0032747967987865477 #####\n",
      "##### Fitting model #####\n"
     ]
    },
    {
     "name": "stderr",
     "output_type": "stream",
     "text": [
      "/Users/rodrse/anaconda3/envs/BoTorch/lib/python3.9/site-packages/botorch/models/fully_bayesian.py:124: RuntimeWarning: Received a linear algebra error while sampling with Pyro. Adding a jitter of 1e-08 to the covariance matrix and retrying.\n",
      "  warnings.warn(\n"
     ]
    },
    {
     "name": "stdout",
     "output_type": "stream",
     "text": [
      "tensor([0.6535, 0.8871, 0.6303, 0.7708], dtype=torch.float64)\n",
      "printing /Users/rodrse/Documents/DemandCalibration/notebooks/od_calibration_sumo_files/quickstart/data/iter_quickstart.current_od.xml\n",
      "### Runing: iter\n",
      "Success.\n",
      "Step #57600.00 (12ms ~= 83.33*RT, ~71416.67UPS, vehicles TOT 2980 ACT 857 BUF 371)        \n",
      "####### 93 ########\n",
      "##### n=112 #####\n",
      "##### best_value=-0.0032747967987865477 #####\n",
      "##### Fitting model #####\n",
      "tensor([0.6794, 1.2618, 1.1825, 1.4295], dtype=torch.float64)\n",
      "printing /Users/rodrse/Documents/DemandCalibration/notebooks/od_calibration_sumo_files/quickstart/data/iter_quickstart.current_od.xml\n",
      "### Runing: iter\n",
      "Success.\n",
      "Step #57600.00 (13ms ~= 76.92*RT, ~66769.23UPS, vehicles TOT 3073 ACT 868 BUF 291)        \n",
      "####### 94 ########\n",
      "##### n=113 #####\n",
      "##### best_value=-0.0032747967987865477 #####\n",
      "##### Fitting model #####\n",
      "tensor([0.8716, 1.4369, 1.0387, 1.3726], dtype=torch.float64)\n",
      "printing /Users/rodrse/Documents/DemandCalibration/notebooks/od_calibration_sumo_files/quickstart/data/iter_quickstart.current_od.xml\n",
      "### Runing: iter\n",
      "Success.\n",
      "Step #57600.00 (12ms ~= 83.33*RT, ~70250.00UPS, vehicles TOT 2977 ACT 843 BUF 336)        \n",
      "####### 95 ########\n",
      "##### n=114 #####\n",
      "##### best_value=-0.0032747967987865477 #####\n",
      "##### Fitting model #####\n",
      "tensor([0.9548, 1.5182, 1.1604, 1.2905], dtype=torch.float64)\n",
      "printing /Users/rodrse/Documents/DemandCalibration/notebooks/od_calibration_sumo_files/quickstart/data/iter_quickstart.current_od.xml\n",
      "### Runing: iter\n",
      "Success.\n",
      "Step #57600.00 (11ms ~= 90.91*RT, ~79272.73UPS, vehicles TOT 3000 ACT 872 BUF 218)        \n",
      "####### 96 ########\n",
      "##### n=115 #####\n",
      "##### best_value=-0.0032747967987865477 #####\n",
      "##### Fitting model #####\n"
     ]
    },
    {
     "name": "stderr",
     "output_type": "stream",
     "text": [
      "/Users/rodrse/anaconda3/envs/BoTorch/lib/python3.9/site-packages/botorch/models/fully_bayesian.py:124: RuntimeWarning: Received a linear algebra error while sampling with Pyro. Adding a jitter of 1e-08 to the covariance matrix and retrying.\n",
      "  warnings.warn(\n"
     ]
    },
    {
     "name": "stdout",
     "output_type": "stream",
     "text": [
      "tensor([1.0309, 1.6378, 1.0403, 1.5156], dtype=torch.float64)\n",
      "printing /Users/rodrse/Documents/DemandCalibration/notebooks/od_calibration_sumo_files/quickstart/data/iter_quickstart.current_od.xml\n",
      "### Runing: iter\n",
      "Success.\n",
      "Step #57600.00 (12ms ~= 83.33*RT, ~65750.00UPS, vehicles TOT 2867 ACT 789 BUF 299)        \n",
      "####### 97 ########\n",
      "##### n=116 #####\n",
      "##### best_value=-0.0032747967987865477 #####\n",
      "##### Fitting model #####\n"
     ]
    },
    {
     "name": "stderr",
     "output_type": "stream",
     "text": [
      "/Users/rodrse/anaconda3/envs/BoTorch/lib/python3.9/site-packages/botorch/models/fully_bayesian.py:124: RuntimeWarning: Received a linear algebra error while sampling with Pyro. Adding a jitter of 1e-08 to the covariance matrix and retrying.\n",
      "  warnings.warn(\n",
      "/Users/rodrse/anaconda3/envs/BoTorch/lib/python3.9/site-packages/botorch/models/fully_bayesian.py:124: RuntimeWarning: Received a linear algebra error while sampling with Pyro. Adding a jitter of 1e-07 to the covariance matrix and retrying.\n",
      "  warnings.warn(\n",
      "/Users/rodrse/anaconda3/envs/BoTorch/lib/python3.9/site-packages/botorch/models/fully_bayesian.py:124: RuntimeWarning: Received a linear algebra error while sampling with Pyro. Adding a jitter of 9.999999999999999e-06 to the covariance matrix and retrying.\n",
      "  warnings.warn(\n",
      "/Users/rodrse/anaconda3/envs/BoTorch/lib/python3.9/site-packages/botorch/models/fully_bayesian.py:124: RuntimeWarning: Received a linear algebra error while sampling with Pyro. Adding a jitter of 0.009999999999999998 to the covariance matrix and retrying.\n",
      "  warnings.warn(\n"
     ]
    },
    {
     "name": "stdout",
     "output_type": "stream",
     "text": [
      "tensor([0.6538, 1.1522, 0.8912, 0.9504], dtype=torch.float64)\n",
      "printing /Users/rodrse/Documents/DemandCalibration/notebooks/od_calibration_sumo_files/quickstart/data/iter_quickstart.current_od.xml\n",
      "### Runing: iter\n",
      "Success.\n",
      "Step #57600.00 (12ms ~= 83.33*RT, ~73166.67UPS, vehicles TOT 3066 ACT 878 BUF 276)        \n",
      "####### 98 ########\n",
      "##### n=117 #####\n",
      "##### best_value=-0.0032747967987865477 #####\n",
      "##### Fitting model #####\n"
     ]
    },
    {
     "name": "stderr",
     "output_type": "stream",
     "text": [
      "/Users/rodrse/anaconda3/envs/BoTorch/lib/python3.9/site-packages/botorch/models/fully_bayesian.py:124: RuntimeWarning: Received a linear algebra error while sampling with Pyro. Adding a jitter of 1e-08 to the covariance matrix and retrying.\n",
      "  warnings.warn(\n"
     ]
    },
    {
     "name": "stdout",
     "output_type": "stream",
     "text": [
      "tensor([0.5829, 1.1818, 0.9039, 1.1432], dtype=torch.float64)\n",
      "printing /Users/rodrse/Documents/DemandCalibration/notebooks/od_calibration_sumo_files/quickstart/data/iter_quickstart.current_od.xml\n",
      "### Runing: iter\n",
      "Success.\n",
      "Step #57600.00 (9ms ~= 111.11*RT, ~76222.22UPS, vehicles TOT 2831 ACT 686 BUF 0)          \n",
      "####### 99 ########\n",
      "##### n=118 #####\n",
      "##### best_value=-0.0032747967987865477 #####\n",
      "##### Fitting model #####\n"
     ]
    },
    {
     "name": "stderr",
     "output_type": "stream",
     "text": [
      "/Users/rodrse/anaconda3/envs/BoTorch/lib/python3.9/site-packages/botorch/models/fully_bayesian.py:124: RuntimeWarning: Received a linear algebra error while sampling with Pyro. Adding a jitter of 1e-08 to the covariance matrix and retrying.\n",
      "  warnings.warn(\n"
     ]
    },
    {
     "name": "stdout",
     "output_type": "stream",
     "text": [
      "tensor([0.9988, 1.4457, 1.1152, 1.2417], dtype=torch.float64)\n",
      "printing /Users/rodrse/Documents/DemandCalibration/notebooks/od_calibration_sumo_files/quickstart/data/iter_quickstart.current_od.xml\n",
      "### Runing: iter\n",
      "Success.\n",
      "Step #57600.00 (8ms ~= 125.00*RT, ~82375.00UPS, vehicles TOT 2783 ACT 659 BUF 0)          \n",
      "####### 100 ########\n",
      "##### n=119 #####\n",
      "##### best_value=-0.0032747967987865477 #####\n",
      "##### Fitting model #####\n",
      "tensor([0.7553, 1.0959, 0.8607, 0.9559], dtype=torch.float64)\n",
      "printing /Users/rodrse/Documents/DemandCalibration/notebooks/od_calibration_sumo_files/quickstart/data/iter_quickstart.current_od.xml\n",
      "### Runing: iter\n",
      "Success.\n",
      "Step #57600.00 (10ms ~= 100.00*RT, ~67000.00UPS, vehicles TOT 2773 ACT 670 BUF 0)         \n"
     ]
    }
   ],
   "source": [
    "\n",
    "NITER = 100\n",
    "output = [df_0]\n",
    "best_value = []\n",
    "\n",
    "for i in range(NITER):\n",
    "    \n",
    "    print(f\"####### {i+1} ########\")\n",
    "    \n",
    "    df_ = df_0 if i == 0 else df_i\n",
    "    \n",
    "    n_obs = df_.shape[0]\n",
    "    print(f\"##### n={n_obs} #####\")\n",
    "    \n",
    "    # Training data\n",
    "    train_X = torch.from_numpy(df_[[\"x1\",\"x2\",\"x3\",\"x4\"]].values)    \n",
    "    train_X_norm = normalize(train_X,bounds)\n",
    "    \n",
    "    train_Y = -torch.from_numpy(df_[[\"loss_estimate\"]].values) # Take negative\n",
    "    \n",
    "    # best value so far\n",
    "    best_y = train_Y.max()\n",
    "    best_value.append(best_y)\n",
    "    print(f\"##### best_value={best_y} #####\")\n",
    "\n",
    "    # Declare model with newest data\n",
    "    gp = SaasFullyBayesianSingleTaskGP(\n",
    "        train_X=train_X_norm,\n",
    "        train_Y=train_Y,\n",
    "        outcome_transform=Standardize(m=1),\n",
    "    )\n",
    "\n",
    "    # Fit model\n",
    "    print(f\"##### Fitting model #####\")\n",
    "    fit_fully_bayesian_model_nuts(\n",
    "        gp,\n",
    "        warmup_steps=WARMUP_STEPS,\n",
    "        num_samples=NUM_SAMPLES,\n",
    "        thinning=THINNING,\n",
    "        disable_progbar=True,\n",
    "    )\n",
    "\n",
    "    print(gp.median_lengthscale.detach())    \n",
    "\n",
    "    # Construct acquistion function \n",
    "    EI = qExpectedImprovement(model=gp, best_f=best_y)\n",
    "    \n",
    "    # Maximize acquisition function to get next observation\n",
    "    new_x = optimize_acqf_and_get_observation(acq_func=EI,bounds=bounds)\n",
    "    \n",
    "    # Query SUMO on new sampling location\n",
    "    df_simulation = objective(new_x.cpu().detach().numpy().reshape(-1))\n",
    "    df_simulation['iter'] = i+1\n",
    "    \n",
    "    # Update history of training data\n",
    "    output.append(df_simulation)\n",
    "    \n",
    "    df_i = pd.concat(output)\n"
   ]
  },
  {
   "cell_type": "code",
   "execution_count": 41,
   "metadata": {},
   "outputs": [
    {
     "data": {
      "image/png": "[encoded data removed]",
      "text/plain": [
       "<Figure size 432x288 with 1 Axes>"
      ]
     },
     "metadata": {
      "needs_background": "light"
     },
     "output_type": "display_data"
    },
    {
     "data": {
      "text/html": [
       "<div>\n",
       "<style scoped>\n",
       "    .dataframe tbody tr th:only-of-type {\n",
       "        vertical-align: middle;\n",
       "    }\n",
       "\n",
       "    .dataframe tbody tr th {\n",
       "        vertical-align: top;\n",
       "    }\n",
       "\n",
       "    .dataframe thead th {\n",
       "        text-align: right;\n",
       "    }\n",
       "</style>\n",
       "<table border=\"1\" class=\"dataframe\">\n",
       "  <thead>\n",
       "    <tr style=\"text-align: right;\">\n",
       "      <th></th>\n",
       "      <th>x1</th>\n",
       "      <th>x2</th>\n",
       "      <th>x3</th>\n",
       "      <th>x4</th>\n",
       "      <th>loss_estimate</th>\n",
       "      <th>iter</th>\n",
       "    </tr>\n",
       "  </thead>\n",
       "  <tbody>\n",
       "    <tr>\n",
       "      <th>0</th>\n",
       "      <td>400.000000</td>\n",
       "      <td>1000.000000</td>\n",
       "      <td>824.587710</td>\n",
       "      <td>400.000000</td>\n",
       "      <td>0.003275</td>\n",
       "      <td>19</td>\n",
       "    </tr>\n",
       "    <tr>\n",
       "      <th>0</th>\n",
       "      <td>400.000000</td>\n",
       "      <td>1000.000000</td>\n",
       "      <td>850.902981</td>\n",
       "      <td>680.980665</td>\n",
       "      <td>0.005744</td>\n",
       "      <td>32</td>\n",
       "    </tr>\n",
       "    <tr>\n",
       "      <th>0</th>\n",
       "      <td>400.000000</td>\n",
       "      <td>1000.000000</td>\n",
       "      <td>877.902084</td>\n",
       "      <td>505.911014</td>\n",
       "      <td>0.005016</td>\n",
       "      <td>47</td>\n",
       "    </tr>\n",
       "    <tr>\n",
       "      <th>0</th>\n",
       "      <td>919.339594</td>\n",
       "      <td>1000.000000</td>\n",
       "      <td>863.569644</td>\n",
       "      <td>575.396481</td>\n",
       "      <td>0.006093</td>\n",
       "      <td>80</td>\n",
       "    </tr>\n",
       "    <tr>\n",
       "      <th>0</th>\n",
       "      <td>458.454510</td>\n",
       "      <td>1000.000000</td>\n",
       "      <td>853.657245</td>\n",
       "      <td>540.990521</td>\n",
       "      <td>0.008374</td>\n",
       "      <td>83</td>\n",
       "    </tr>\n",
       "    <tr>\n",
       "      <th>0</th>\n",
       "      <td>916.176840</td>\n",
       "      <td>717.208041</td>\n",
       "      <td>882.751798</td>\n",
       "      <td>811.027921</td>\n",
       "      <td>0.003459</td>\n",
       "      <td>90</td>\n",
       "    </tr>\n",
       "    <tr>\n",
       "      <th>0</th>\n",
       "      <td>576.402159</td>\n",
       "      <td>777.285060</td>\n",
       "      <td>857.664297</td>\n",
       "      <td>621.633733</td>\n",
       "      <td>0.006705</td>\n",
       "      <td>98</td>\n",
       "    </tr>\n",
       "  </tbody>\n",
       "</table>\n",
       "</div>"
      ],
      "text/plain": [
       "           x1           x2          x3          x4  loss_estimate  iter\n",
       "0  400.000000  1000.000000  824.587710  400.000000       0.003275    19\n",
       "0  400.000000  1000.000000  850.902981  680.980665       0.005744    32\n",
       "0  400.000000  1000.000000  877.902084  505.911014       0.005016    47\n",
       "0  919.339594  1000.000000  863.569644  575.396481       0.006093    80\n",
       "0  458.454510  1000.000000  853.657245  540.990521       0.008374    83\n",
       "0  916.176840   717.208041  882.751798  811.027921       0.003459    90\n",
       "0  576.402159   777.285060  857.664297  621.633733       0.006705    98"
      ]
     },
     "execution_count": 41,
     "metadata": {},
     "output_type": "execute_result"
    }
   ],
   "source": [
    "df_plot = df_i.query('iter>0')\n",
    "import numpy as np\n",
    "import matplotlib.pyplot as plt\n",
    "\n",
    "x = df_plot['iter']\n",
    "y = df_plot['loss_estimate']\n",
    "\n",
    "plt.plot(x, best_value)\n",
    "#plt.legend(title='Parameter where:')\n",
    "plt.show()\n",
    "df_i.query('loss_estimate<0.010')"
   ]
  },
  {
   "cell_type": "code",
   "execution_count": 39,
   "metadata": {},
   "outputs": [],
   "source": [
    "df_i.to_csv(\"./data/saasbo.csv\",index = None)"
   ]
  }
 ],
 "metadata": {
  "kernelspec": {
   "display_name": "Python 3 (ipykernel)",
   "language": "python",
   "name": "python3"
  },
  "language_info": {
   "codemirror_mode": {
    "name": "ipython",
    "version": 3
   },
   "file_extension": ".py",
   "mimetype": "text/x-python",
   "name": "python",
   "nbconvert_exporter": "python",
   "pygments_lexer": "ipython3",
   "version": "3.9.11"
  }
 },
 "nbformat": 4,
 "nbformat_minor": 2
}
