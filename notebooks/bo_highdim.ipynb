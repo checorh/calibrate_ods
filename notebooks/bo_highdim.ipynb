{
 "cells": [
  {
   "cell_type": "code",
   "execution_count": 2,
   "metadata": {},
   "outputs": [],
   "source": [
    "from sumo_python.helpers.load_experiment_metadata import load_experiment_config\n",
    "\n",
    "input_path = \"/Users/rodrse/Documents/DemandCalibration/notebooks/od_calibration_sumo_files/\"\n",
    "\n",
    "config, sim_setup = load_experiment_config(config=input_path + 'config.json',\n",
    "                        sim_setup=input_path + 'simulation_setups.json',)"
   ]
  },
  {
   "cell_type": "code",
   "execution_count": 3,
   "metadata": {},
   "outputs": [
    {
     "name": "stdout",
     "output_type": "stream",
     "text": [
      "od2trips --no-step-log  --spread.uniform --taz-files /Users/rodrse/Documents/DemandCalibration/notebooks/od_calibration_sumo_files/quickstart/data/quickstart.taz.xml --tazrelation-files /Users/rodrse/Documents/DemandCalibration/notebooks/od_calibration_sumo_files/quickstart/data/quickstart.gt_od.xml -o /Users/rodrse/Documents/DemandCalibration/notebooks/od_calibration_sumo_files/quickstart/data/gt_od_trips.trips.xml \n",
      "Success.\n",
      "sumo --output-prefix gt_ --ignore-route-errors=true --net-file=/Users/rodrse/Documents/DemandCalibration/notebooks/od_calibration_sumo_files/quickstart/data/quickstart.net.xml --routes=/Users/rodrse/Documents/DemandCalibration/notebooks/od_calibration_sumo_files/quickstart/data/gt_od_trips.trips.xml -b 54000 -e 57600 --additional-files /Users/rodrse/Documents/DemandCalibration/notebooks/od_calibration_sumo_files/quickstart/data/quickstart.additional.xml --duration-log.statistics --xml-validation never --vehroutes /Users/rodrse/Documents/DemandCalibration/notebooks/od_calibration_sumo_files/quickstart/data/gt_routes.vehroutes.xml \n",
      "Loading net-file from '/Users/rodrse/Documents/DemandCalibration/notebooks/od_calibration_sumo_files/quickstart/data/quickstart.net.xml' ... done (6ms).\n",
      "Loading additional-files from '/Users/rodrse/Documents/DemandCalibration/notebooks/od_calibration_sumo_files/quickstart/data/quickstart.additional.xml' ... done (1ms).\n",
      "Loading done.\n",
      "Simulation version 1.16.0 started with time: 54000.00.\n",
      "Step #57600.00 (8ms ~= 125.00*RT, ~82000.00UPS, vehicles TOT 2800 ACT 656 BUF 0)          \n",
      "Simulation ended at time: 57600.00\n",
      "Reason: The final simulation step has been reached.\n",
      "Performance: \n",
      " Duration: 16.03s\n",
      " Real time factor: 224.551\n",
      " UPS: 100872.130739\n",
      "Vehicles: \n",
      " Inserted: 2800\n",
      " Running: 656\n",
      " Waiting: 0\n",
      "Statistics (avg of 2144):\n",
      " RouteLength: 4392.77\n",
      " Speed: 11.24\n",
      " Duration: 471.78\n",
      " WaitingTime: 81.10\n",
      " TimeLoss: 153.11\n",
      " DepartDelay: 0.10\n",
      "\n",
      "DijkstraRouter answered 2800 queries and explored 10.01 edges on average.\n",
      "DijkstraRouter spent 0.01s answering queries (0.00ms on average).\n"
     ]
    }
   ],
   "source": [
    "import numpy as np\n",
    "import pandas as pd\n",
    "\n",
    "from sumo_python.helpers.generate_od_xml import generate_od_xml\n",
    "from sumo_python.simulator.run_sumo_and_parse_output import run_sumo_and_parse_output\n",
    "from sumo_python.simulator.ground_truth import run_ground_truth_and_parse\n",
    "from sumo_python.helpers.nrmse_counts import compute_nrmse_counts\n",
    "\n",
    "df_gt_data = run_ground_truth_and_parse(config, sim_setup)\n"
   ]
  },
  {
   "cell_type": "code",
   "execution_count": 4,
   "metadata": {},
   "outputs": [],
   "source": [
    "def objective(x: np.array) -> pd.DataFrame:\n",
    "    \"\"\"Compute objective variable. This is the NRMSE loss between ground-truth output\n",
    "    and the output of the simulation output evaluated at x.\n",
    "\n",
    "    Args:\n",
    "        x (np.array): Numpy array of counts to generate TAZ file from.\n",
    "\n",
    "    Returns:\n",
    "        pd.Dataframe: Data frame of sampling locations and loss esimate.\n",
    "    \"\"\"\n",
    "    prefix_run = 'iter'    \n",
    "    generate_od_xml(x, config, sim_setup, prefix_run)\n",
    "    df_simulated = run_sumo_and_parse_output(config, sim_setup, prefix_run)\n",
    "    loss_estimate = compute_nrmse_counts(df_gt_data, df_simulated)\n",
    "    df_output = pd.DataFrame(x.reshape(-1, len(x)),columns = ['x1','x2','x3','x4'])\n",
    "    df_output['loss_estimate'] = loss_estimate\n",
    "    \n",
    "    return df_output"
   ]
  },
  {
   "attachments": {},
   "cell_type": "markdown",
   "metadata": {},
   "source": [
    "## High-Dimensional sample-efficient Bayesian Optimization \n",
    "\n",
    "Source: https://botorch.org/tutorials/saasbo"
   ]
  },
  {
   "cell_type": "code",
   "execution_count": 5,
   "metadata": {},
   "outputs": [
    {
     "data": {
      "text/plain": [
       "tensor([[ 400.,  400.,  400.,  400.],\n",
       "        [1000., 1000., 1000., 1000.]], dtype=torch.float64)"
      ]
     },
     "execution_count": 5,
     "metadata": {},
     "output_type": "execute_result"
    }
   ],
   "source": [
    "import os\n",
    "import torch\n",
    "import pandas as pd\n",
    "\n",
    "device = torch.device(\"cuda:3\" if torch.cuda.is_available() else \"cpu\")\n",
    "dtype = torch.double\n",
    "\n",
    "### Declare search space\n",
    "# dimensionality of input space\n",
    "d = 4 \n",
    "bounds = torch.tensor([[400,400,400,400],[1000,1000,1000,1000]], device=device, dtype=dtype) \n",
    "bounds\n"
   ]
  },
  {
   "cell_type": "code",
   "execution_count": 11,
   "metadata": {},
   "outputs": [
    {
     "name": "stdout",
     "output_type": "stream",
     "text": [
      "printing /Users/rodrse/Documents/DemandCalibration/notebooks/od_calibration_sumo_files/quickstart/data/iter_quickstart.current_od.xml\n",
      "### Runing: iter\n",
      "od2trips --no-step-log  --spread.uniform --taz-files /Users/rodrse/Documents/DemandCalibration/notebooks/od_calibration_sumo_files/quickstart/data/quickstart.taz.xml --tazrelation-files /Users/rodrse/Documents/DemandCalibration/notebooks/od_calibration_sumo_files/quickstart/data/iter_quickstart.current_od.xml -o /Users/rodrse/Documents/DemandCalibration/notebooks/od_calibration_sumo_files/quickstart/data/iter_od_trips.trips.xml \n",
      "Success.\n",
      "Loading net-file from '/Users/rodrse/Documents/DemandCalibration/notebooks/od_calibration_sumo_files/quickstart/data/quickstart.net.xml' ... done (5ms).\n",
      "Loading additional-files from '/Users/rodrse/Documents/DemandCalibration/notebooks/od_calibration_sumo_files/quickstart/data/quickstart.additional.xml' ... done (1ms).\n",
      "Loading done.\n",
      "Simulation version 1.16.0 started with time: 54000.00.\n",
      "Step #56900.00 (5ms ~= 200.00*RT, ~128400.00UPS, vehicles TOT 2073 ACT 642 BUF 0)         \r"
     ]
    },
    {
     "name": "stderr",
     "output_type": "stream",
     "text": [
      "Warning: Teleporting vehicle '450'; waited too long (jam), lane='L12_0', time=56952.00.\n",
      "Warning: Vehicle '450' ends teleporting on edge 'L15', time=56952.00.\n"
     ]
    },
    {
     "name": "stdout",
     "output_type": "stream",
     "text": [
      "Step #57400.00 (8ms ~= 125.00*RT, ~86875.00UPS, vehicles TOT 2429 ACT 695 BUF 0)          \r"
     ]
    },
    {
     "name": "stderr",
     "output_type": "stream",
     "text": [
      "Warning: Teleporting vehicle '460'; waited too long (wrong lane), lane='L15_0', time=57496.00.\n",
      "Warning: Vehicle '460' ends teleporting on edge 'L18', time=57496.00.\n"
     ]
    },
    {
     "name": "stdout",
     "output_type": "stream",
     "text": [
      "Step #57500.00 (10ms ~= 100.00*RT, ~71300.00UPS, vehicles TOT 2502 ACT 713 BUF 0)         \r"
     ]
    },
    {
     "name": "stderr",
     "output_type": "stream",
     "text": [
      "Warning: Teleporting vehicle '525'; waited too long (jam), lane='L12_0', time=57529.00.\n",
      "Warning: Vehicle '525' ends teleporting on edge 'L15', time=57529.00.\n"
     ]
    },
    {
     "name": "stdout",
     "output_type": "stream",
     "text": [
      "Step #57600.00 (7ms ~= 142.86*RT, ~103428.57UPS, vehicles TOT 2573 ACT 724 BUF 0)         \n",
      "Simulation ended at time: 57600.00\n",
      "Reason: The final simulation step has been reached.\n",
      "Performance: \n",
      " Duration: 17.24s\n",
      " Real time factor: 208.768\n",
      " UPS: 101447.575968\n",
      "Vehicles: \n",
      " Inserted: 2573\n",
      " Running: 724\n",
      " Waiting: 0\n",
      " Teleports: 3 (Jam: 2, Wrong Lane: 1)\n",
      "Statistics (avg of 1849):\n",
      " RouteLength: 4439.77\n",
      " Speed: 11.03\n",
      " Duration: 510.47\n",
      " WaitingTime: 109.69\n",
      " TimeLoss: 188.22\n",
      " DepartDelay: 0.49\n",
      "\n",
      "DijkstraRouter answered 2573 queries and explored 10.46 edges on average.\n",
      "DijkstraRouter spent 0.02s answering queries (0.01ms on average).\n",
      "printing /Users/rodrse/Documents/DemandCalibration/notebooks/od_calibration_sumo_files/quickstart/data/iter_quickstart.current_od.xml\n",
      "### Runing: iter\n",
      "od2trips --no-step-log  --spread.uniform --taz-files /Users/rodrse/Documents/DemandCalibration/notebooks/od_calibration_sumo_files/quickstart/data/quickstart.taz.xml --tazrelation-files /Users/rodrse/Documents/DemandCalibration/notebooks/od_calibration_sumo_files/quickstart/data/iter_quickstart.current_od.xml -o /Users/rodrse/Documents/DemandCalibration/notebooks/od_calibration_sumo_files/quickstart/data/iter_od_trips.trips.xml \n",
      "Success.\n",
      "Loading net-file from '/Users/rodrse/Documents/DemandCalibration/notebooks/od_calibration_sumo_files/quickstart/data/quickstart.net.xml' ... done (7ms).\n",
      "Loading additional-files from '/Users/rodrse/Documents/DemandCalibration/notebooks/od_calibration_sumo_files/quickstart/data/quickstart.additional.xml' ... done (1ms).\n",
      "Loading done.\n",
      "Simulation version 1.16.0 started with time: 54000.00.\n",
      "Step #57600.00 (6ms ~= 166.67*RT, ~123500.00UPS, vehicles TOT 2687 ACT 741 BUF 0)         \n",
      "Simulation ended at time: 57600.00\n",
      "Reason: The final simulation step has been reached.\n",
      "Performance: \n",
      " Duration: 15.49s\n",
      " Real time factor: 232.378\n",
      " UPS: 106574.748257\n",
      "Vehicles: \n",
      " Inserted: 2687\n",
      " Running: 741\n",
      " Waiting: 0\n",
      "Statistics (avg of 1946):\n",
      " RouteLength: 4336.48\n",
      " Speed: 12.60\n",
      " Duration: 420.36\n",
      " WaitingTime: 70.90\n",
      " TimeLoss: 105.60\n",
      " DepartDelay: 0.48\n",
      "\n",
      "DijkstraRouter answered 2687 queries and explored 10.55 edges on average.\n",
      "DijkstraRouter spent 0.02s answering queries (0.01ms on average).\n",
      "printing /Users/rodrse/Documents/DemandCalibration/notebooks/od_calibration_sumo_files/quickstart/data/iter_quickstart.current_od.xml\n",
      "### Runing: iter\n",
      "od2trips --no-step-log  --spread.uniform --taz-files /Users/rodrse/Documents/DemandCalibration/notebooks/od_calibration_sumo_files/quickstart/data/quickstart.taz.xml --tazrelation-files /Users/rodrse/Documents/DemandCalibration/notebooks/od_calibration_sumo_files/quickstart/data/iter_quickstart.current_od.xml -o /Users/rodrse/Documents/DemandCalibration/notebooks/od_calibration_sumo_files/quickstart/data/iter_od_trips.trips.xml \n",
      "Success.\n",
      "Loading net-file from '/Users/rodrse/Documents/DemandCalibration/notebooks/od_calibration_sumo_files/quickstart/data/quickstart.net.xml' ... done (7ms).\n",
      "Loading additional-files from '/Users/rodrse/Documents/DemandCalibration/notebooks/od_calibration_sumo_files/quickstart/data/quickstart.additional.xml' ... done (1ms).\n",
      "Loading done.\n",
      "Simulation version 1.16.0 started with time: 54000.00.\n",
      "Step #57600.00 (13ms ~= 76.92*RT, ~70538.46UPS, vehicles TOT 2861 ACT 917 BUF 0)          \n",
      "Simulation ended at time: 57600.00\n",
      "Reason: The final simulation step has been reached.\n",
      "Performance: \n",
      " Duration: 23.82s\n",
      " Real time factor: 151.121\n",
      " UPS: 88432.289480\n",
      "Vehicles: \n",
      " Inserted: 2861\n",
      " Running: 917\n",
      " Waiting: 0\n",
      "Statistics (avg of 1944):\n",
      " RouteLength: 4330.80\n",
      " Speed: 10.27\n",
      " Duration: 669.47\n",
      " WaitingTime: 195.72\n",
      " TimeLoss: 355.29\n",
      " DepartDelay: 0.50\n",
      "\n",
      "DijkstraRouter answered 2861 queries and explored 10.01 edges on average.\n",
      "DijkstraRouter spent 0.02s answering queries (0.01ms on average).\n",
      "printing /Users/rodrse/Documents/DemandCalibration/notebooks/od_calibration_sumo_files/quickstart/data/iter_quickstart.current_od.xml\n",
      "### Runing: iter\n",
      "od2trips --no-step-log  --spread.uniform --taz-files /Users/rodrse/Documents/DemandCalibration/notebooks/od_calibration_sumo_files/quickstart/data/quickstart.taz.xml --tazrelation-files /Users/rodrse/Documents/DemandCalibration/notebooks/od_calibration_sumo_files/quickstart/data/iter_quickstart.current_od.xml -o /Users/rodrse/Documents/DemandCalibration/notebooks/od_calibration_sumo_files/quickstart/data/iter_od_trips.trips.xml \n",
      "Success.\n",
      "Loading net-file from '/Users/rodrse/Documents/DemandCalibration/notebooks/od_calibration_sumo_files/quickstart/data/quickstart.net.xml' ... done (6ms).\n",
      "Loading additional-files from '/Users/rodrse/Documents/DemandCalibration/notebooks/od_calibration_sumo_files/quickstart/data/quickstart.additional.xml' ... done (1ms).\n",
      "Loading done.\n",
      "Simulation version 1.16.0 started with time: 54000.00.\n",
      "Step #57200.00 (9ms ~= 111.11*RT, ~88555.56UPS, vehicles TOT 2477 ACT 797 BUF 0)          \r"
     ]
    },
    {
     "name": "stderr",
     "output_type": "stream",
     "text": [
      "Warning: Teleporting vehicle '659'; waited too long (wrong lane), lane='L12_2', time=57245.00.\n",
      "Warning: Vehicle '659' ends teleporting on edge 'L15', time=57245.00.\n",
      "Warning: Teleporting vehicle '662'; waited too long (wrong lane), lane='L12_2', time=57284.00.\n",
      "Warning: Vehicle '662' ends teleporting on edge 'L15', time=57284.00.\n"
     ]
    },
    {
     "name": "stdout",
     "output_type": "stream",
     "text": [
      "Step #57300.00 (8ms ~= 125.00*RT, ~103750.00UPS, vehicles TOT 2554 ACT 830 BUF 0)         \r"
     ]
    },
    {
     "name": "stderr",
     "output_type": "stream",
     "text": [
      "Warning: Teleporting vehicle '664'; waited too long (wrong lane), lane='L12_2', time=57317.00.\n",
      "Warning: Vehicle '664' ends teleporting on edge 'L15', time=57317.00.\n",
      "Warning: Teleporting vehicle '667'; waited too long (wrong lane), lane='L12_2', time=57354.00.\n",
      "Warning: Vehicle '667' ends teleporting on edge 'L15', time=57367.00.\n"
     ]
    },
    {
     "name": "stdout",
     "output_type": "stream",
     "text": [
      "Step #57400.00 (9ms ~= 111.11*RT, ~96000.00UPS, vehicles TOT 2633 ACT 864 BUF 0)          \r"
     ]
    },
    {
     "name": "stderr",
     "output_type": "stream",
     "text": [
      "Warning: Teleporting vehicle '672'; waited too long (wrong lane), lane='L12_2', time=57463.00.\n",
      "Warning: Vehicle '672' ends teleporting on edge 'L15', time=57472.00.\n",
      "Warning: Teleporting vehicle '1345'; waited too long (jam), lane='L2_1', time=57480.00.\n",
      "Warning: Vehicle '1345' ends teleporting on edge 'L12', time=57480.00.\n",
      "Warning: Teleporting vehicle '734'; waited too long (jam), lane='L2_1', time=57481.00.\n",
      "Warning: Vehicle '734' ends teleporting on edge 'L12', time=57481.00.\n",
      "Warning: Teleporting vehicle '537'; waited too long (jam), lane='L2_0', time=57483.00.\n",
      "Warning: Vehicle '537' ends teleporting on edge 'L12', time=57483.00.\n"
     ]
    },
    {
     "name": "stdout",
     "output_type": "stream",
     "text": [
      "Step #57500.00 (10ms ~= 100.00*RT, ~86400.00UPS, vehicles TOT 2686 ACT 864 BUF 23)        \r"
     ]
    },
    {
     "name": "stderr",
     "output_type": "stream",
     "text": [
      "Warning: Teleporting vehicle '603'; waited too long (jam), lane='D2_0', time=57572.00.\n",
      "Warning: Vehicle '603' ends teleporting on edge 'L2', time=57572.00.\n"
     ]
    },
    {
     "name": "stdout",
     "output_type": "stream",
     "text": [
      "Step #57600.00 (10ms ~= 100.00*RT, ~85500.00UPS, vehicles TOT 2724 ACT 855 BUF 63)        \n",
      "Simulation ended at time: 57600.00\n",
      "Reason: The final simulation step has been reached.\n",
      "Performance: \n",
      " Duration: 14.90s\n",
      " Real time factor: 241.595\n",
      " UPS: 124036.574727\n",
      "Vehicles: \n",
      " Inserted: 2724 (Loaded: 2787)\n",
      " Running: 855\n",
      " Waiting: 63\n",
      " Teleports: 9 (Jam: 4, Wrong Lane: 5)\n",
      "Statistics (avg of 1869):\n",
      " RouteLength: 4350.39\n",
      " Speed: 12.39\n",
      " Duration: 437.30\n",
      " WaitingTime: 80.64\n",
      " TimeLoss: 122.34\n",
      " DepartDelay: 0.49\n",
      "\n",
      "DijkstraRouter answered 2787 queries and explored 10.53 edges on average.\n",
      "DijkstraRouter spent 0.01s answering queries (0.00ms on average).\n",
      "printing /Users/rodrse/Documents/DemandCalibration/notebooks/od_calibration_sumo_files/quickstart/data/iter_quickstart.current_od.xml\n",
      "### Runing: iter\n",
      "od2trips --no-step-log  --spread.uniform --taz-files /Users/rodrse/Documents/DemandCalibration/notebooks/od_calibration_sumo_files/quickstart/data/quickstart.taz.xml --tazrelation-files /Users/rodrse/Documents/DemandCalibration/notebooks/od_calibration_sumo_files/quickstart/data/iter_quickstart.current_od.xml -o /Users/rodrse/Documents/DemandCalibration/notebooks/od_calibration_sumo_files/quickstart/data/iter_od_trips.trips.xml \n",
      "Success.\n",
      "Loading net-file from '/Users/rodrse/Documents/DemandCalibration/notebooks/od_calibration_sumo_files/quickstart/data/quickstart.net.xml' ... done (10ms).\n",
      "Loading additional-files from '/Users/rodrse/Documents/DemandCalibration/notebooks/od_calibration_sumo_files/quickstart/data/quickstart.additional.xml' ... done (2ms).\n",
      "Loading done.\n",
      "Simulation version 1.16.0 started with time: 54000.00.\n",
      "Step #57000.00 (8ms ~= 125.00*RT, ~90625.00UPS, vehicles TOT 2442 ACT 725 BUF 250)        \r"
     ]
    },
    {
     "name": "stderr",
     "output_type": "stream",
     "text": [
      "Warning: Teleporting vehicle '639'; waited too long (wrong lane), lane='L12_2', time=57011.00.\n",
      "Warning: Vehicle '639' ends teleporting on edge 'L15', time=57063.00.\n",
      "Warning: Teleporting vehicle '492'; waited too long (jam), lane='L2_0', time=57082.00.\n",
      "Warning: Vehicle '492' ends teleporting on edge 'L12', time=57082.00.\n"
     ]
    },
    {
     "name": "stdout",
     "output_type": "stream",
     "text": [
      "Step #57100.00 (8ms ~= 125.00*RT, ~92750.00UPS, vehicles TOT 2506 ACT 742 BUF 277)        \r"
     ]
    },
    {
     "name": "stderr",
     "output_type": "stream",
     "text": [
      "Warning: Teleporting vehicle '675'; waited too long (jam), lane='L2_1', time=57105.00.\n",
      "Warning: Vehicle '675' ends teleporting on edge 'L12', time=57105.00.\n",
      "Warning: Teleporting vehicle '652'; waited too long (wrong lane), lane='L12_2', time=57179.00.\n",
      "Warning: Teleporting vehicle '676'; waited too long (jam), lane='L2_1', time=57187.00.\n",
      "Warning: Vehicle '676' ends teleporting on edge 'L12', time=57187.00.\n"
     ]
    },
    {
     "name": "stdout",
     "output_type": "stream",
     "text": [
      "Step #57200.00 (10ms ~= 100.00*RT, ~76300.00UPS, vehicles TOT 2571 ACT 763 BUF 301)       \r"
     ]
    },
    {
     "name": "stderr",
     "output_type": "stream",
     "text": [
      "Warning: Vehicle '652' ends teleporting on edge 'L15', time=57210.00.\n"
     ]
    },
    {
     "name": "stdout",
     "output_type": "stream",
     "text": [
      "Step #57300.00 (8ms ~= 125.00*RT, ~97375.00UPS, vehicles TOT 2636 ACT 779 BUF 326)        \r"
     ]
    },
    {
     "name": "stderr",
     "output_type": "stream",
     "text": [
      "Warning: Teleporting vehicle '685'; waited too long (jam), lane='L2_1', time=57373.00.\n",
      "Warning: Vehicle '685' ends teleporting on edge 'L12', time=57373.00.\n",
      "Warning: Teleporting vehicle '687'; waited too long (jam), lane='L2_1', time=57397.00.\n",
      "Warning: Vehicle '687' ends teleporting on edge 'L12', time=57397.00.\n"
     ]
    },
    {
     "name": "stdout",
     "output_type": "stream",
     "text": [
      "Step #57400.00 (8ms ~= 125.00*RT, ~98375.00UPS, vehicles TOT 2700 ACT 787 BUF 351)        \r"
     ]
    },
    {
     "name": "stderr",
     "output_type": "stream",
     "text": [
      "Warning: Teleporting vehicle '560'; waited too long (jam), lane='D2_0', time=57479.00.\n"
     ]
    },
    {
     "name": "stdout",
     "output_type": "stream",
     "text": [
      "Step #57500.00 (8ms ~= 125.00*RT, ~96500.00UPS, vehicles TOT 2737 ACT 772 BUF 405)        \r"
     ]
    },
    {
     "name": "stderr",
     "output_type": "stream",
     "text": [
      "Warning: Teleporting vehicle '710'; waited too long (jam), lane='D2_1', time=57515.00.\n",
      "Warning: Vehicle '560' ends teleporting on edge 'L2', time=57541.00.\n",
      "Warning: Vehicle '710' ends teleporting on edge 'L2', time=57550.00.\n"
     ]
    },
    {
     "name": "stdout",
     "output_type": "stream",
     "text": [
      "Step #57600.00 (8ms ~= 125.00*RT, ~93625.00UPS, vehicles TOT 2774 ACT 749 BUF 457)        \n",
      "Simulation ended at time: 57600.00\n",
      "Reason: The final simulation step has been reached.\n",
      "Performance: \n",
      " Duration: 21.92s\n",
      " Real time factor: 164.219\n",
      " UPS: 92818.949001\n",
      "Vehicles: \n",
      " Inserted: 2774 (Loaded: 3231)\n",
      " Running: 749\n",
      " Waiting: 457\n",
      " Teleports: 9 (Jam: 7, Wrong Lane: 2)\n",
      "Statistics (avg of 2025):\n",
      " RouteLength: 4273.69\n",
      " Speed: 11.95\n",
      " Duration: 464.97\n",
      " WaitingTime: 105.90\n",
      " TimeLoss: 155.38\n",
      " DepartDelay: 5.39\n",
      "\n",
      "DijkstraRouter answered 3464 queries and explored 10.02 edges on average.\n",
      "DijkstraRouter spent 0.02s answering queries (0.01ms on average).\n",
      "printing /Users/rodrse/Documents/DemandCalibration/notebooks/od_calibration_sumo_files/quickstart/data/iter_quickstart.current_od.xml\n",
      "### Runing: iter\n",
      "od2trips --no-step-log  --spread.uniform --taz-files /Users/rodrse/Documents/DemandCalibration/notebooks/od_calibration_sumo_files/quickstart/data/quickstart.taz.xml --tazrelation-files /Users/rodrse/Documents/DemandCalibration/notebooks/od_calibration_sumo_files/quickstart/data/iter_quickstart.current_od.xml -o /Users/rodrse/Documents/DemandCalibration/notebooks/od_calibration_sumo_files/quickstart/data/iter_od_trips.trips.xml \n",
      "Success.\n",
      "Loading net-file from '/Users/rodrse/Documents/DemandCalibration/notebooks/od_calibration_sumo_files/quickstart/data/quickstart.net.xml' ... done (7ms).\n",
      "Loading additional-files from '/Users/rodrse/Documents/DemandCalibration/notebooks/od_calibration_sumo_files/quickstart/data/quickstart.additional.xml' ... done (1ms).\n",
      "Loading done.\n",
      "Simulation version 1.16.0 started with time: 54000.00.\n",
      "Step #57600.00 (10ms ~= 100.00*RT, ~71000.00UPS, vehicles TOT 2442 ACT 710 BUF 0)         \n",
      "Simulation ended at time: 57600.00\n",
      "Reason: The final simulation step has been reached.\n",
      "Performance: \n",
      " Duration: 16.00s\n",
      " Real time factor: 225.056\n",
      " UPS: 99888.847212\n",
      "Vehicles: \n",
      " Inserted: 2442\n",
      " Running: 710\n",
      " Waiting: 0\n",
      "Statistics (avg of 1732):\n",
      " RouteLength: 4389.76\n",
      " Speed: 10.33\n",
      " Duration: 605.67\n",
      " WaitingTime: 157.10\n",
      " TimeLoss: 287.73\n",
      " DepartDelay: 0.49\n",
      "\n",
      "DijkstraRouter answered 2442 queries and explored 10.17 edges on average.\n",
      "DijkstraRouter spent 0.01s answering queries (0.01ms on average).\n",
      "printing /Users/rodrse/Documents/DemandCalibration/notebooks/od_calibration_sumo_files/quickstart/data/iter_quickstart.current_od.xml\n",
      "### Runing: iter\n",
      "od2trips --no-step-log  --spread.uniform --taz-files /Users/rodrse/Documents/DemandCalibration/notebooks/od_calibration_sumo_files/quickstart/data/quickstart.taz.xml --tazrelation-files /Users/rodrse/Documents/DemandCalibration/notebooks/od_calibration_sumo_files/quickstart/data/iter_quickstart.current_od.xml -o /Users/rodrse/Documents/DemandCalibration/notebooks/od_calibration_sumo_files/quickstart/data/iter_od_trips.trips.xml \n",
      "Success.\n",
      "Loading net-file from '/Users/rodrse/Documents/DemandCalibration/notebooks/od_calibration_sumo_files/quickstart/data/quickstart.net.xml' ... done (9ms).\n",
      "Loading additional-files from '/Users/rodrse/Documents/DemandCalibration/notebooks/od_calibration_sumo_files/quickstart/data/quickstart.additional.xml' ... done (1ms).\n",
      "Loading done.\n",
      "Simulation version 1.16.0 started with time: 54000.00.\n",
      "Step #57600.00 (8ms ~= 125.00*RT, ~96000.00UPS, vehicles TOT 2765 ACT 768 BUF 0)          \n",
      "Simulation ended at time: 57600.00\n",
      "Reason: The final simulation step has been reached.\n",
      "Performance: \n",
      " Duration: 20.93s\n",
      " Real time factor: 171.985\n",
      " UPS: 85148.098605\n",
      "Vehicles: \n",
      " Inserted: 2765\n",
      " Running: 768\n",
      " Waiting: 0\n",
      "Statistics (avg of 1997):\n",
      " RouteLength: 4304.90\n",
      " Speed: 11.16\n",
      " Duration: 523.94\n",
      " WaitingTime: 114.29\n",
      " TimeLoss: 211.64\n",
      " DepartDelay: 0.50\n",
      "\n",
      "DijkstraRouter answered 2765 queries and explored 9.79 edges on average.\n",
      "DijkstraRouter spent 0.02s answering queries (0.01ms on average).\n",
      "printing /Users/rodrse/Documents/DemandCalibration/notebooks/od_calibration_sumo_files/quickstart/data/iter_quickstart.current_od.xml\n",
      "### Runing: iter\n",
      "od2trips --no-step-log  --spread.uniform --taz-files /Users/rodrse/Documents/DemandCalibration/notebooks/od_calibration_sumo_files/quickstart/data/quickstart.taz.xml --tazrelation-files /Users/rodrse/Documents/DemandCalibration/notebooks/od_calibration_sumo_files/quickstart/data/iter_quickstart.current_od.xml -o /Users/rodrse/Documents/DemandCalibration/notebooks/od_calibration_sumo_files/quickstart/data/iter_od_trips.trips.xml \n",
      "Success.\n",
      "Loading net-file from '/Users/rodrse/Documents/DemandCalibration/notebooks/od_calibration_sumo_files/quickstart/data/quickstart.net.xml' ... done (8ms).\n",
      "Loading additional-files from '/Users/rodrse/Documents/DemandCalibration/notebooks/od_calibration_sumo_files/quickstart/data/quickstart.additional.xml' ... done (2ms).\n",
      "Loading done.\n",
      "Simulation version 1.16.0 started with time: 54000.00.\n",
      "Step #56600.00 (9ms ~= 111.11*RT, ~77333.33UPS, vehicles TOT 1998 ACT 696 BUF 0)          \r"
     ]
    },
    {
     "name": "stderr",
     "output_type": "stream",
     "text": [
      "Warning: Teleporting vehicle '455'; waited too long (jam), lane='L12_0', time=56666.00.\n",
      "Warning: Teleporting vehicle '457'; waited too long (jam), lane='L12_0', time=56667.00.\n",
      "Warning: Teleporting vehicle '461'; waited too long (jam), lane='L12_0', time=56668.00.\n",
      "Warning: Teleporting vehicle '443'; waited too long (jam), lane='L12_0', time=56669.00.\n",
      "Warning: Teleporting vehicle '448'; waited too long (jam), lane='L12_0', time=56670.00.\n",
      "Warning: Teleporting vehicle '453'; waited too long (jam), lane='L12_0', time=56672.00.\n",
      "Warning: Teleporting vehicle '456'; waited too long (jam), lane='L12_0', time=56673.00.\n",
      "Warning: Vehicle '443' ends teleporting on edge 'L15', time=56695.00.\n",
      "Warning: Teleporting vehicle '460'; waited too long (jam), lane='L12_0', time=56708.00.\n",
      "Warning: Teleporting vehicle '465'; waited too long (jam), lane='L12_0', time=56709.00.\n",
      "Warning: Teleporting vehicle '464'; waited too long (jam), lane='L12_0', time=56710.00.\n"
     ]
    },
    {
     "name": "stdout",
     "output_type": "stream",
     "text": [
      "Step #56700.00 (10ms ~= 100.00*RT, ~70800.00UPS, vehicles TOT 2076 ACT 708 BUF 0)         \r"
     ]
    },
    {
     "name": "stderr",
     "output_type": "stream",
     "text": [
      "Warning: Teleporting vehicle '472'; waited too long (jam), lane='L12_0', time=56721.00.\n",
      "Warning: Teleporting vehicle '468'; waited too long (jam), lane='L12_0', time=56722.00.\n",
      "Warning: Teleporting vehicle '474'; waited too long (jam), lane='L12_0', time=56723.00.\n",
      "Warning: Teleporting vehicle '473'; waited too long (jam), lane='L12_0', time=56724.00.\n",
      "Warning: Teleporting vehicle '454'; waited too long (jam), lane='L12_0', time=56725.00.\n",
      "Warning: Teleporting vehicle '471'; waited too long (jam), lane='L12_0', time=56726.00.\n",
      "Warning: Teleporting vehicle '479'; waited too long (jam), lane='L12_0', time=56727.00.\n",
      "Warning: Vehicle '448' ends teleporting on edge 'L15', time=56739.00.\n",
      "Warning: Teleporting vehicle '508'; waited too long (jam), lane='L2_0', time=56757.00.\n",
      "Warning: Vehicle '508' ends teleporting on edge 'L12', time=56757.00.\n",
      "Warning: Vehicle '453' ends teleporting on edge 'L15', time=56788.00.\n"
     ]
    },
    {
     "name": "stdout",
     "output_type": "stream",
     "text": [
      "Step #56800.00 (9ms ~= 111.11*RT, ~81000.00UPS, vehicles TOT 2153 ACT 729 BUF 0)          \r"
     ]
    },
    {
     "name": "stderr",
     "output_type": "stream",
     "text": [
      "Warning: Vehicle '454' ends teleporting on edge 'L15', time=56835.00.\n",
      "Warning: Vehicle '455' ends teleporting on edge 'L15', time=56884.00.\n"
     ]
    },
    {
     "name": "stdout",
     "output_type": "stream",
     "text": [
      "Step #56900.00 (5ms ~= 200.00*RT, ~150800.00UPS, vehicles TOT 2228 ACT 754 BUF 0)         \r"
     ]
    },
    {
     "name": "stderr",
     "output_type": "stream",
     "text": [
      "Warning: Vehicle '456' ends teleporting on edge 'L15', time=56941.00.\n"
     ]
    },
    {
     "name": "stdout",
     "output_type": "stream",
     "text": [
      "Step #57000.00 (9ms ~= 111.11*RT, ~85444.44UPS, vehicles TOT 2306 ACT 769 BUF 0)          \r"
     ]
    },
    {
     "name": "stderr",
     "output_type": "stream",
     "text": [
      "Warning: Vehicle '457' ends teleporting on edge 'L15', time=57002.00.\n",
      "Warning: Vehicle '460' ends teleporting on edge 'L15', time=57048.00.\n"
     ]
    },
    {
     "name": "stdout",
     "output_type": "stream",
     "text": [
      "Step #57100.00 (9ms ~= 111.11*RT, ~88444.44UPS, vehicles TOT 2384 ACT 796 BUF 0)          \r"
     ]
    },
    {
     "name": "stderr",
     "output_type": "stream",
     "text": [
      "Warning: Vehicle '461' ends teleporting on edge 'L15', time=57107.00.\n",
      "Warning: Vehicle '464' ends teleporting on edge 'L15', time=57118.00.\n",
      "Warning: Vehicle '465' ends teleporting on edge 'L15', time=57156.00.\n"
     ]
    },
    {
     "name": "stdout",
     "output_type": "stream",
     "text": [
      "Step #57200.00 (7ms ~= 142.86*RT, ~117285.71UPS, vehicles TOT 2459 ACT 821 BUF 0)         \r"
     ]
    },
    {
     "name": "stderr",
     "output_type": "stream",
     "text": [
      "Warning: Teleporting vehicle '641'; waited too long (wrong lane), lane='L12_2', time=57223.00.\n",
      "Warning: Teleporting vehicle '642'; waited too long (wrong lane), lane='L12_2', time=57235.00.\n",
      "Warning: Teleporting vehicle '643'; waited too long (wrong lane), lane='L12_2', time=57236.00.\n",
      "Warning: Vehicle '468' ends teleporting on edge 'L15', time=57244.00.\n",
      "Warning: Teleporting vehicle '648'; waited too long (wrong lane), lane='L12_2', time=57264.00.\n"
     ]
    },
    {
     "name": "stdout",
     "output_type": "stream",
     "text": [
      "Step #57300.00 (7ms ~= 142.86*RT, ~122571.43UPS, vehicles TOT 2536 ACT 858 BUF 0)         \r"
     ]
    },
    {
     "name": "stderr",
     "output_type": "stream",
     "text": [
      "Warning: Vehicle '471' ends teleporting on edge 'L15', time=57304.00.\n",
      "Warning: Vehicle '472' ends teleporting on edge 'L15', time=57337.00.\n",
      "Warning: Teleporting vehicle '651'; waited too long (wrong lane), lane='L12_2', time=57361.00.\n",
      "Warning: Teleporting vehicle '652'; waited too long (wrong lane), lane='L12_2', time=57362.00.\n",
      "Warning: Teleporting vehicle '653'; waited too long (wrong lane), lane='L12_2', time=57383.00.\n",
      "Warning: Teleporting vehicle '514'; waited too long (jam), lane='L2_0', time=57397.00.\n",
      "Warning: Vehicle '514' ends teleporting on edge 'L12', time=57397.00.\n",
      "Warning: Teleporting vehicle '513'; waited too long (jam), lane=':1_3_1', time=57398.00.\n",
      "Warning: Vehicle '513' ends teleporting on edge 'L12', time=57398.00.\n",
      "Warning: Vehicle '473' ends teleporting on edge 'L15', time=57404.00.\n",
      "Warning: Teleporting vehicle '654'; waited too long (wrong lane), lane='L12_2', time=57406.00.\n",
      "Warning: Teleporting vehicle '655'; waited too long (wrong lane), lane='L12_2', time=57407.00.\n"
     ]
    },
    {
     "name": "stdout",
     "output_type": "stream",
     "text": [
      "Step #57400.00 (7ms ~= 142.86*RT, ~126571.43UPS, vehicles TOT 2614 ACT 886 BUF 0)         \r"
     ]
    },
    {
     "name": "stderr",
     "output_type": "stream",
     "text": [
      "Warning: Teleporting vehicle '656'; waited too long (wrong lane), lane='L12_2', time=57431.00.\n",
      "Warning: Vehicle '474' ends teleporting on edge 'L15', time=57458.00.\n",
      "Warning: Teleporting vehicle '658'; waited too long (wrong lane), lane='L12_2', time=57488.00.\n"
     ]
    },
    {
     "name": "stdout",
     "output_type": "stream",
     "text": [
      "Step #57500.00 (8ms ~= 125.00*RT, ~113375.00UPS, vehicles TOT 2681 ACT 907 BUF 9)         \r"
     ]
    },
    {
     "name": "stderr",
     "output_type": "stream",
     "text": [
      "Warning: Vehicle '479' ends teleporting on edge 'L15', time=57528.00.\n",
      "Warning: Teleporting vehicle '660'; waited too long (wrong lane), lane='L12_2', time=57548.00.\n",
      "Warning: Vehicle '641' ends teleporting on edge 'L15', time=57566.00.\n"
     ]
    },
    {
     "name": "stdout",
     "output_type": "stream",
     "text": [
      "Step #57600.00 (9ms ~= 111.11*RT, ~99333.33UPS, vehicles TOT 2722 ACT 894 BUF 45)         \n",
      "Simulation ended at time: 57600.00\n",
      "Reason: The final simulation step has been reached.\n",
      "Performance: \n",
      " Duration: 21.08s\n",
      " Real time factor: 170.81\n",
      " UPS: 91582.748150\n",
      "Vehicles: \n",
      " Inserted: 2722 (Loaded: 2767)\n",
      " Running: 894\n",
      " Waiting: 45\n",
      " Teleports: 32 (Jam: 20, Wrong Lane: 12)\n",
      "Statistics (avg of 1828):\n",
      " RouteLength: 4449.93\n",
      " Speed: 12.36\n",
      " Duration: 439.06\n",
      " WaitingTime: 76.74\n",
      " TimeLoss: 115.39\n",
      " DepartDelay: 0.48\n",
      "\n",
      "DijkstraRouter answered 2767 queries and explored 10.88 edges on average.\n",
      "DijkstraRouter spent 0.02s answering queries (0.01ms on average).\n",
      "printing /Users/rodrse/Documents/DemandCalibration/notebooks/od_calibration_sumo_files/quickstart/data/iter_quickstart.current_od.xml\n",
      "### Runing: iter\n",
      "od2trips --no-step-log  --spread.uniform --taz-files /Users/rodrse/Documents/DemandCalibration/notebooks/od_calibration_sumo_files/quickstart/data/quickstart.taz.xml --tazrelation-files /Users/rodrse/Documents/DemandCalibration/notebooks/od_calibration_sumo_files/quickstart/data/iter_quickstart.current_od.xml -o /Users/rodrse/Documents/DemandCalibration/notebooks/od_calibration_sumo_files/quickstart/data/iter_od_trips.trips.xml \n",
      "Success.\n",
      "Loading net-file from '/Users/rodrse/Documents/DemandCalibration/notebooks/od_calibration_sumo_files/quickstart/data/quickstart.net.xml' ... done (7ms).\n",
      "Loading additional-files from '/Users/rodrse/Documents/DemandCalibration/notebooks/od_calibration_sumo_files/quickstart/data/quickstart.additional.xml' ... done (2ms).\n",
      "Loading done.\n",
      "Simulation version 1.16.0 started with time: 54000.00.\n",
      "Step #57100.00 (11ms ~= 90.91*RT, ~79181.82UPS, vehicles TOT 2786 ACT 871 BUF 118)        \r"
     ]
    },
    {
     "name": "stderr",
     "output_type": "stream",
     "text": [
      "Warning: Teleporting vehicle '593'; waited too long (wrong lane), lane='L12_2', time=57121.00.\n",
      "Warning: Vehicle '593' ends teleporting on edge 'L15', time=57121.00.\n",
      "Warning: Teleporting vehicle '594'; waited too long (wrong lane), lane='L12_2', time=57144.00.\n",
      "Warning: Teleporting vehicle '596'; waited too long (wrong lane), lane='L12_2', time=57178.00.\n",
      "Warning: Vehicle '594' ends teleporting on edge 'L15', time=57181.00.\n"
     ]
    },
    {
     "name": "stdout",
     "output_type": "stream",
     "text": [
      "Step #57200.00 (10ms ~= 100.00*RT, ~85500.00UPS, vehicles TOT 2862 ACT 855 BUF 135)       \r"
     ]
    },
    {
     "name": "stderr",
     "output_type": "stream",
     "text": [
      "Warning: Teleporting vehicle '598'; waited too long (wrong lane), lane='L12_2', time=57249.00.\n",
      "Warning: Vehicle '596' ends teleporting on edge 'L15', time=57253.00.\n"
     ]
    },
    {
     "name": "stdout",
     "output_type": "stream",
     "text": [
      "Step #57300.00 (11ms ~= 90.91*RT, ~76454.55UPS, vehicles TOT 2939 ACT 841 BUF 153)        \r"
     ]
    },
    {
     "name": "stderr",
     "output_type": "stream",
     "text": [
      "Warning: Vehicle '598' ends teleporting on edge 'L15', time=57305.00.\n",
      "Warning: Teleporting vehicle '600'; waited too long (wrong lane), lane='L12_2', time=57324.00.\n",
      "Warning: Teleporting vehicle '601'; waited too long (wrong lane), lane='L12_2', time=57357.00.\n",
      "Warning: Vehicle '600' ends teleporting on edge 'L15', time=57380.00.\n"
     ]
    },
    {
     "name": "stdout",
     "output_type": "stream",
     "text": [
      "Step #57400.00 (10ms ~= 100.00*RT, ~83400.00UPS, vehicles TOT 3003 ACT 834 BUF 182)       \r"
     ]
    },
    {
     "name": "stderr",
     "output_type": "stream",
     "text": [
      "Warning: Vehicle '601' ends teleporting on edge 'L15', time=57446.00.\n"
     ]
    },
    {
     "name": "stdout",
     "output_type": "stream",
     "text": [
      "Step #57500.00 (9ms ~= 111.11*RT, ~92000.00UPS, vehicles TOT 3050 ACT 828 BUF 230)        \r"
     ]
    },
    {
     "name": "stderr",
     "output_type": "stream",
     "text": [
      "Warning: Teleporting vehicle '464'; waited too long (jam), lane=':1_3_1', time=57528.00.\n",
      "Warning: Vehicle '464' ends teleporting on edge 'L12', time=57528.00.\n",
      "Warning: Teleporting vehicle '608'; waited too long (wrong lane), lane='L12_2', time=57551.00.\n",
      "Warning: Vehicle '608' ends teleporting on edge 'L15', time=57554.00.\n",
      "Warning: Teleporting vehicle '1529'; waited too long (jam), lane=':1_3_2', time=57555.00.\n",
      "Warning: Teleporting vehicle '649'; waited too long (jam), lane='L2_1', time=57560.00.\n",
      "Warning: Vehicle '649' ends teleporting on edge 'L12', time=57560.00.\n"
     ]
    },
    {
     "name": "stdout",
     "output_type": "stream",
     "text": [
      "Step #57600.00 (8ms ~= 125.00*RT, ~102625.00UPS, vehicles TOT 3096 ACT 821 BUF 277)       \n",
      "Simulation ended at time: 57600.00\n",
      "Reason: The final simulation step has been reached.\n",
      "Performance: \n",
      " Duration: 29.12s\n",
      " Real time factor: 123.635\n",
      " UPS: 84207.534858\n",
      "Vehicles: \n",
      " Inserted: 3096 (Loaded: 3373)\n",
      " Running: 821\n",
      " Waiting: 277\n",
      " Teleports: 10 (Jam: 3, Wrong Lane: 7)\n",
      "Statistics (avg of 2275):\n",
      " RouteLength: 4394.19\n",
      " Speed: 10.37\n",
      " Duration: 577.70\n",
      " WaitingTime: 103.36\n",
      " TimeLoss: 259.05\n",
      " DepartDelay: 0.53\n",
      "\n",
      "DijkstraRouter answered 3507 queries and explored 10.10 edges on average.\n",
      "DijkstraRouter spent 0.02s answering queries (0.00ms on average).\n",
      "printing /Users/rodrse/Documents/DemandCalibration/notebooks/od_calibration_sumo_files/quickstart/data/iter_quickstart.current_od.xml\n",
      "### Runing: iter\n",
      "od2trips --no-step-log  --spread.uniform --taz-files /Users/rodrse/Documents/DemandCalibration/notebooks/od_calibration_sumo_files/quickstart/data/quickstart.taz.xml --tazrelation-files /Users/rodrse/Documents/DemandCalibration/notebooks/od_calibration_sumo_files/quickstart/data/iter_quickstart.current_od.xml -o /Users/rodrse/Documents/DemandCalibration/notebooks/od_calibration_sumo_files/quickstart/data/iter_od_trips.trips.xml \n",
      "Success.\n",
      "Loading net-file from '/Users/rodrse/Documents/DemandCalibration/notebooks/od_calibration_sumo_files/quickstart/data/quickstart.net.xml' ... done (7ms).\n",
      "Loading additional-files from '/Users/rodrse/Documents/DemandCalibration/notebooks/od_calibration_sumo_files/quickstart/data/quickstart.additional.xml' ... done (1ms).\n",
      "Loading done.\n",
      "Simulation version 1.16.0 started with time: 54000.00.\n",
      "Step #57600.00 (8ms ~= 125.00*RT, ~71375.00UPS, vehicles TOT 2274 ACT 571 BUF 0)          \n",
      "Simulation ended at time: 57600.00\n",
      "Reason: The final simulation step has been reached.\n",
      "Performance: \n",
      " Duration: 13.80s\n",
      " Real time factor: 260.907\n",
      " UPS: 93623.133788\n",
      "Vehicles: \n",
      " Inserted: 2274\n",
      " Running: 571\n",
      " Waiting: 0\n",
      "Statistics (avg of 1703):\n",
      " RouteLength: 4323.80\n",
      " Speed: 12.29\n",
      " Duration: 437.00\n",
      " WaitingTime: 77.51\n",
      " TimeLoss: 123.22\n",
      " DepartDelay: 0.49\n",
      "\n",
      "DijkstraRouter answered 2274 queries and explored 10.23 edges on average.\n",
      "DijkstraRouter spent 0.01s answering queries (0.00ms on average).\n",
      "printing /Users/rodrse/Documents/DemandCalibration/notebooks/od_calibration_sumo_files/quickstart/data/iter_quickstart.current_od.xml\n",
      "### Runing: iter\n",
      "od2trips --no-step-log  --spread.uniform --taz-files /Users/rodrse/Documents/DemandCalibration/notebooks/od_calibration_sumo_files/quickstart/data/quickstart.taz.xml --tazrelation-files /Users/rodrse/Documents/DemandCalibration/notebooks/od_calibration_sumo_files/quickstart/data/iter_quickstart.current_od.xml -o /Users/rodrse/Documents/DemandCalibration/notebooks/od_calibration_sumo_files/quickstart/data/iter_od_trips.trips.xml \n",
      "Success.\n",
      "Loading net-file from '/Users/rodrse/Documents/DemandCalibration/notebooks/od_calibration_sumo_files/quickstart/data/quickstart.net.xml' ... done (7ms).\n",
      "Loading additional-files from '/Users/rodrse/Documents/DemandCalibration/notebooks/od_calibration_sumo_files/quickstart/data/quickstart.additional.xml' ... done (1ms).\n",
      "Loading done.\n",
      "Simulation version 1.16.0 started with time: 54000.00.\n",
      "Step #57600.00 (9ms ~= 111.11*RT, ~95444.44UPS, vehicles TOT 2911 ACT 859 BUF 0)          \n",
      "Simulation ended at time: 57600.00\n",
      "Reason: The final simulation step has been reached.\n",
      "Performance: \n",
      " Duration: 19.33s\n",
      " Real time factor: 186.229\n",
      " UPS: 98178.366355\n",
      "Vehicles: \n",
      " Inserted: 2911\n",
      " Running: 859\n",
      " Waiting: 0\n",
      "Statistics (avg of 2052):\n",
      " RouteLength: 4261.39\n",
      " Speed: 11.15\n",
      " Duration: 551.25\n",
      " WaitingTime: 145.72\n",
      " TimeLoss: 242.86\n",
      " DepartDelay: 0.50\n",
      "\n",
      "DijkstraRouter answered 2911 queries and explored 9.63 edges on average.\n",
      "DijkstraRouter spent 0.01s answering queries (0.00ms on average).\n",
      "printing /Users/rodrse/Documents/DemandCalibration/notebooks/od_calibration_sumo_files/quickstart/data/iter_quickstart.current_od.xml\n",
      "### Runing: iter\n",
      "od2trips --no-step-log  --spread.uniform --taz-files /Users/rodrse/Documents/DemandCalibration/notebooks/od_calibration_sumo_files/quickstart/data/quickstart.taz.xml --tazrelation-files /Users/rodrse/Documents/DemandCalibration/notebooks/od_calibration_sumo_files/quickstart/data/iter_quickstart.current_od.xml -o /Users/rodrse/Documents/DemandCalibration/notebooks/od_calibration_sumo_files/quickstart/data/iter_od_trips.trips.xml \n",
      "Success.\n",
      "Loading net-file from '/Users/rodrse/Documents/DemandCalibration/notebooks/od_calibration_sumo_files/quickstart/data/quickstart.net.xml' ... done (7ms).\n",
      "Loading additional-files from '/Users/rodrse/Documents/DemandCalibration/notebooks/od_calibration_sumo_files/quickstart/data/quickstart.additional.xml' ... done (1ms).\n",
      "Loading done.\n",
      "Simulation version 1.16.0 started with time: 54000.00.\n",
      "Step #56500.00 (7ms ~= 142.86*RT, ~98000.00UPS, vehicles TOT 1755 ACT 686 BUF 0)          \r"
     ]
    },
    {
     "name": "stderr",
     "output_type": "stream",
     "text": [
      "Warning: Teleporting vehicle '400'; waited too long (wrong lane), lane='L15_0', time=56571.00.\n",
      "Warning: Vehicle '400' ends teleporting on edge 'L18', time=56571.00.\n",
      "Warning: Teleporting vehicle '404'; waited too long (wrong lane), lane='L15_0', time=56572.00.\n",
      "Warning: Vehicle '404' ends teleporting on edge 'L18', time=56572.00.\n",
      "Warning: Teleporting vehicle '412'; waited too long (wrong lane), lane='L15_0', time=56573.00.\n",
      "Warning: Vehicle '412' ends teleporting on edge 'L18', time=56573.00.\n",
      "Warning: Teleporting vehicle '414'; waited too long (wrong lane), lane='L15_0', time=56574.00.\n",
      "Warning: Vehicle '414' ends teleporting on edge 'L18', time=56574.00.\n",
      "Warning: Teleporting vehicle '396'; waited too long (wrong lane), lane='L15_0', time=56575.00.\n",
      "Warning: Vehicle '396' ends teleporting on edge 'L18', time=56575.00.\n"
     ]
    },
    {
     "name": "stdout",
     "output_type": "stream",
     "text": [
      "Step #56600.00 (6ms ~= 166.67*RT, ~117000.00UPS, vehicles TOT 1825 ACT 702 BUF 0)         \r"
     ]
    },
    {
     "name": "stderr",
     "output_type": "stream",
     "text": [
      "Warning: Teleporting vehicle '409'; waited too long (wrong lane), lane='L15_0', time=56653.00.\n",
      "Warning: Vehicle '409' ends teleporting on edge 'L18', time=56653.00.\n",
      "Warning: Teleporting vehicle '471'; waited too long (jam), lane='L12_0', time=56666.00.\n",
      "Warning: Vehicle '471' ends teleporting on edge 'L15', time=56666.00.\n"
     ]
    },
    {
     "name": "stdout",
     "output_type": "stream",
     "text": [
      "Step #56800.00 (5ms ~= 200.00*RT, ~147600.00UPS, vehicles TOT 1967 ACT 738 BUF 0)         \r"
     ]
    },
    {
     "name": "stderr",
     "output_type": "stream",
     "text": [
      "Warning: Teleporting vehicle '491'; waited too long (jam), lane='L12_0', time=56801.00.\n",
      "Warning: Vehicle '491' ends teleporting on edge 'L15', time=56801.00.\n",
      "Warning: Teleporting vehicle '470'; waited too long (jam), lane='L12_0', time=56802.00.\n",
      "Warning: Vehicle '470' ends teleporting on edge 'L15', time=56824.00.\n"
     ]
    },
    {
     "name": "stdout",
     "output_type": "stream",
     "text": [
      "Step #57300.00 (7ms ~= 142.86*RT, ~124428.57UPS, vehicles TOT 2317 ACT 871 BUF 0)         \r"
     ]
    },
    {
     "name": "stderr",
     "output_type": "stream",
     "text": [
      "Warning: Teleporting vehicle '760'; waited too long (wrong lane), lane='L12_2', time=57359.00.\n",
      "Warning: Vehicle '760' ends teleporting on edge 'L15', time=57364.00.\n",
      "Warning: Teleporting vehicle '770'; waited too long (jam), lane=':1_3_2', time=57385.00.\n",
      "Warning: Vehicle '770' ends teleporting on edge 'L12', time=57385.00.\n"
     ]
    },
    {
     "name": "stdout",
     "output_type": "stream",
     "text": [
      "Step #57400.00 (7ms ~= 142.86*RT, ~123714.29UPS, vehicles TOT 2378 ACT 866 BUF 9)         \r"
     ]
    },
    {
     "name": "stderr",
     "output_type": "stream",
     "text": [
      "Warning: Teleporting vehicle '762'; waited too long (wrong lane), lane='L12_2', time=57431.00.\n",
      "Warning: Vehicle '762' ends teleporting on edge 'L15', time=57431.00.\n",
      "Warning: Teleporting vehicle '429'; waited too long (jam), lane='L12_0', time=57477.00.\n",
      "Warning: Teleporting vehicle '635'; waited too long (jam), lane='D2_0', time=57480.00.\n",
      "Warning: Teleporting vehicle '771'; waited too long (jam), lane='L2_0', time=57490.00.\n",
      "Warning: Vehicle '771' ends teleporting on edge 'L12', time=57490.00.\n",
      "Warning: Teleporting vehicle '772'; waited too long (jam), lane='L2_1', time=57492.00.\n",
      "Warning: Vehicle '772' ends teleporting on edge 'L12', time=57492.00.\n",
      "Warning: Teleporting vehicle '773'; waited too long (jam), lane='L2_1', time=57493.00.\n",
      "Warning: Vehicle '773' ends teleporting on edge 'L12', time=57493.00.\n"
     ]
    },
    {
     "name": "stdout",
     "output_type": "stream",
     "text": [
      "Step #57500.00 (7ms ~= 142.86*RT, ~121857.14UPS, vehicles TOT 2409 ACT 853 BUF 48)        \r"
     ]
    },
    {
     "name": "stderr",
     "output_type": "stream",
     "text": [
      "Warning: Teleporting vehicle '764'; waited too long (wrong lane), lane='L12_2', time=57506.00.\n",
      "Warning: Teleporting vehicle '1340'; waited too long (jam), lane='D2_1', time=57522.00.\n",
      "Warning: Teleporting vehicle '819'; waited too long (jam), lane='D2_1', time=57523.00.\n",
      "Warning: Vehicle '429' ends teleporting on edge 'L15', time=57531.00.\n",
      "Warning: Teleporting vehicle '776'; waited too long (jam), lane='L2_1', time=57578.00.\n",
      "Warning: Vehicle '776' ends teleporting on edge 'L12', time=57578.00.\n",
      "Warning: Teleporting vehicle '777'; waited too long (jam), lane='L2_1', time=57579.00.\n",
      "Warning: Vehicle '777' ends teleporting on edge 'L12', time=57579.00.\n",
      "Warning: Vehicle '764' ends teleporting on edge 'L15', time=57586.00.\n",
      "Warning: Teleporting vehicle '778'; waited too long (jam), lane='L2_1', time=57594.00.\n",
      "Warning: Vehicle '778' ends teleporting on edge 'L12', time=57594.00.\n",
      "Warning: Teleporting vehicle '779'; waited too long (jam), lane='L2_1', time=57595.00.\n",
      "Warning: Vehicle '779' ends teleporting on edge 'L12', time=57595.00.\n"
     ]
    },
    {
     "name": "stdout",
     "output_type": "stream",
     "text": [
      "Step #57600.00 (8ms ~= 125.00*RT, ~106500.00UPS, vehicles TOT 2442 ACT 852 BUF 86)        \n",
      "Simulation ended at time: 57600.00\n",
      "Reason: The final simulation step has been reached.\n",
      "Performance: \n",
      " Duration: 14.98s\n",
      " Real time factor: 240.304\n",
      " UPS: 127245.644483\n",
      "Vehicles: \n",
      " Inserted: 2442 (Loaded: 2528)\n",
      " Running: 852\n",
      " Waiting: 86\n",
      " Teleports: 24 (Jam: 15, Wrong Lane: 9)\n",
      "Statistics (avg of 1590):\n",
      " RouteLength: 4467.21\n",
      " Speed: 12.09\n",
      " Duration: 479.34\n",
      " WaitingTime: 108.91\n",
      " TimeLoss: 155.31\n",
      " DepartDelay: 0.49\n",
      "\n",
      "DijkstraRouter answered 2529 queries and explored 11.06 edges on average.\n",
      "DijkstraRouter spent 0.01s answering queries (0.00ms on average).\n",
      "printing /Users/rodrse/Documents/DemandCalibration/notebooks/od_calibration_sumo_files/quickstart/data/iter_quickstart.current_od.xml\n",
      "### Runing: iter\n",
      "od2trips --no-step-log  --spread.uniform --taz-files /Users/rodrse/Documents/DemandCalibration/notebooks/od_calibration_sumo_files/quickstart/data/quickstart.taz.xml --tazrelation-files /Users/rodrse/Documents/DemandCalibration/notebooks/od_calibration_sumo_files/quickstart/data/iter_quickstart.current_od.xml -o /Users/rodrse/Documents/DemandCalibration/notebooks/od_calibration_sumo_files/quickstart/data/iter_od_trips.trips.xml \n",
      "Success.\n",
      "Loading net-file from '/Users/rodrse/Documents/DemandCalibration/notebooks/od_calibration_sumo_files/quickstart/data/quickstart.net.xml' ... done (7ms).\n",
      "Loading additional-files from '/Users/rodrse/Documents/DemandCalibration/notebooks/od_calibration_sumo_files/quickstart/data/quickstart.additional.xml' ... done (1ms).\n",
      "Loading done.\n",
      "Simulation version 1.16.0 started with time: 54000.00.\n",
      "Step #56600.00 (5ms ~= 200.00*RT, ~142800.00UPS, vehicles TOT 2099 ACT 714 BUF 0)         \r"
     ]
    },
    {
     "name": "stderr",
     "output_type": "stream",
     "text": [
      "Warning: Teleporting vehicle '449'; waited too long (wrong lane), lane='L15_0', time=56679.00.\n",
      "Warning: Vehicle '449' ends teleporting on edge 'L18', time=56679.00.\n"
     ]
    },
    {
     "name": "stdout",
     "output_type": "stream",
     "text": [
      "Step #56700.00 (4ms ~= 250.00*RT, ~181500.00UPS, vehicles TOT 2179 ACT 726 BUF 0)         \r"
     ]
    },
    {
     "name": "stderr",
     "output_type": "stream",
     "text": [
      "Warning: Teleporting vehicle '508'; waited too long (jam), lane='L12_0', time=56745.00.\n",
      "Warning: Vehicle '508' ends teleporting on edge 'L15', time=56745.00.\n",
      "Warning: Teleporting vehicle '516'; waited too long (jam), lane='L12_0', time=56754.00.\n",
      "Warning: Teleporting vehicle '461'; waited too long (wrong lane), lane='L15_0', time=56758.00.\n",
      "Warning: Vehicle '461' ends teleporting on edge 'L18', time=56758.00.\n",
      "Warning: Teleporting vehicle '406'; waited too long (wrong lane), lane='L15_0', time=56759.00.\n",
      "Warning: Vehicle '406' ends teleporting on edge 'L18', time=56759.00.\n",
      "Warning: Teleporting vehicle '561'; waited too long (jam), lane=':1_3_1', time=56761.00.\n",
      "Warning: Vehicle '561' ends teleporting on edge 'L12', time=56761.00.\n",
      "Warning: Vehicle '516' ends teleporting on edge 'L15', time=56764.00.\n"
     ]
    },
    {
     "name": "stdout",
     "output_type": "stream",
     "text": [
      "Step #56800.00 (5ms ~= 200.00*RT, ~151000.00UPS, vehicles TOT 2258 ACT 755 BUF 0)         \r"
     ]
    },
    {
     "name": "stderr",
     "output_type": "stream",
     "text": [
      "Warning: Teleporting vehicle '512'; waited too long (jam), lane='L12_0', time=56811.00.\n",
      "Warning: Vehicle '512' ends teleporting on edge 'L15', time=56814.00.\n",
      "Warning: Teleporting vehicle '472'; waited too long (wrong lane), lane='L15_0', time=56875.00.\n",
      "Warning: Vehicle '472' ends teleporting on edge 'L18', time=56875.00.\n",
      "Warning: Teleporting vehicle '485'; waited too long (wrong lane), lane='L15_0', time=56876.00.\n",
      "Warning: Vehicle '485' ends teleporting on edge 'L18', time=56876.00.\n",
      "Warning: Teleporting vehicle '487'; waited too long (wrong lane), lane='L15_0', time=56877.00.\n",
      "Warning: Vehicle '487' ends teleporting on edge 'L18', time=56877.00.\n",
      "Warning: Teleporting vehicle '489'; waited too long (wrong lane), lane='L15_0', time=56878.00.\n",
      "Warning: Vehicle '489' ends teleporting on edge 'L18', time=56878.00.\n",
      "Warning: Teleporting vehicle '500'; waited too long (wrong lane), lane='L15_0', time=56879.00.\n",
      "Warning: Vehicle '500' ends teleporting on edge 'L18', time=56879.00.\n",
      "Warning: Teleporting vehicle '494'; waited too long (wrong lane), lane='L15_0', time=56880.00.\n",
      "Warning: Vehicle '494' ends teleporting on edge 'L18', time=56880.00.\n"
     ]
    },
    {
     "name": "stdout",
     "output_type": "stream",
     "text": [
      "Step #56900.00 (8ms ~= 125.00*RT, ~96375.00UPS, vehicles TOT 2340 ACT 771 BUF 0)          \r"
     ]
    },
    {
     "name": "stderr",
     "output_type": "stream",
     "text": [
      "Warning: Teleporting vehicle '497'; waited too long (wrong lane), lane='L15_0', time=56929.00.\n",
      "Warning: Vehicle '497' ends teleporting on edge 'L18', time=56929.00.\n"
     ]
    },
    {
     "name": "stdout",
     "output_type": "stream",
     "text": [
      "Step #57000.00 (8ms ~= 125.00*RT, ~96875.00UPS, vehicles TOT 2407 ACT 775 BUF 14)         \r"
     ]
    },
    {
     "name": "stderr",
     "output_type": "stream",
     "text": [
      "Warning: Teleporting vehicle '562'; waited too long (jam), lane=':1_3_1', time=57067.00.\n",
      "Warning: Vehicle '562' ends teleporting on edge 'L12', time=57067.00.\n"
     ]
    },
    {
     "name": "stdout",
     "output_type": "stream",
     "text": [
      "Step #57100.00 (7ms ~= 142.86*RT, ~112714.29UPS, vehicles TOT 2468 ACT 789 BUF 34)        \r"
     ]
    },
    {
     "name": "stderr",
     "output_type": "stream",
     "text": [
      "Warning: Teleporting vehicle '520'; waited too long (jam), lane='L12_0', time=57118.00.\n",
      "Warning: Vehicle '520' ends teleporting on edge 'L15', time=57118.00.\n",
      "Warning: Teleporting vehicle '519'; waited too long (jam), lane='L12_0', time=57119.00.\n",
      "Warning: Vehicle '519' ends teleporting on edge 'L15', time=57156.00.\n"
     ]
    },
    {
     "name": "stdout",
     "output_type": "stream",
     "text": [
      "Step #57200.00 (8ms ~= 125.00*RT, ~100750.00UPS, vehicles TOT 2528 ACT 806 BUF 54)        \r"
     ]
    },
    {
     "name": "stderr",
     "output_type": "stream",
     "text": [
      "Warning: Teleporting vehicle '704'; waited too long (wrong lane), lane='L12_2', time=57252.00.\n",
      "Warning: Vehicle '704' ends teleporting on edge 'L15', time=57252.00.\n"
     ]
    },
    {
     "name": "stdout",
     "output_type": "stream",
     "text": [
      "Step #57300.00 (8ms ~= 125.00*RT, ~100625.00UPS, vehicles TOT 2589 ACT 805 BUF 75)        \r"
     ]
    },
    {
     "name": "stderr",
     "output_type": "stream",
     "text": [
      "Warning: Teleporting vehicle '707'; waited too long (wrong lane), lane='L12_2', time=57331.00.\n",
      "Warning: Vehicle '707' ends teleporting on edge 'L15', time=57331.00.\n",
      "Warning: Teleporting vehicle '563'; waited too long (jam), lane=':1_3_1', time=57372.00.\n",
      "Warning: Vehicle '563' ends teleporting on edge 'L12', time=57372.00.\n"
     ]
    },
    {
     "name": "stdout",
     "output_type": "stream",
     "text": [
      "Step #57400.00 (7ms ~= 142.86*RT, ~118285.71UPS, vehicles TOT 2651 ACT 828 BUF 93)        \r"
     ]
    },
    {
     "name": "stderr",
     "output_type": "stream",
     "text": [
      "Warning: Teleporting vehicle '749'; waited too long (jam), lane=':1_3_2', time=57411.00.\n",
      "Warning: Vehicle '749' ends teleporting on edge 'L12', time=57411.00.\n",
      "Warning: Teleporting vehicle '711'; waited too long (wrong lane), lane='L12_2', time=57415.00.\n",
      "Warning: Vehicle '711' ends teleporting on edge 'L15', time=57415.00.\n",
      "Warning: Teleporting vehicle '750'; waited too long (jam), lane='L2_1', time=57421.00.\n",
      "Warning: Vehicle '750' ends teleporting on edge 'L12', time=57421.00.\n",
      "Warning: Teleporting vehicle '751'; waited too long (jam), lane='L2_1', time=57426.00.\n",
      "Warning: Vehicle '751' ends teleporting on edge 'L12', time=57426.00.\n",
      "Warning: Teleporting vehicle '714'; waited too long (wrong lane), lane='L12_2', time=57479.00.\n",
      "Warning: Vehicle '714' ends teleporting on edge 'L15', time=57482.00.\n",
      "Warning: Teleporting vehicle '518'; waited too long (jam), lane='L12_0', time=57488.00.\n",
      "Warning: Teleporting vehicle '523'; waited too long (jam), lane='L12_0', time=57489.00.\n",
      "Warning: Teleporting vehicle '521'; waited too long (jam), lane='L12_0', time=57490.00.\n",
      "Warning: Teleporting vehicle '533'; waited too long (jam), lane='L12_0', time=57492.00.\n",
      "Warning: Teleporting vehicle '536'; waited too long (jam), lane='L12_0', time=57493.00.\n"
     ]
    },
    {
     "name": "stdout",
     "output_type": "stream",
     "text": [
      "Step #57500.00 (6ms ~= 166.67*RT, ~140500.00UPS, vehicles TOT 2710 ACT 843 BUF 115)       \r"
     ]
    },
    {
     "name": "stderr",
     "output_type": "stream",
     "text": [
      "Warning: Vehicle '518' ends teleporting on edge 'L15', time=57512.00.\n",
      "Warning: Vehicle '521' ends teleporting on edge 'L15', time=57546.00.\n",
      "Warning: Teleporting vehicle '717'; waited too long (wrong lane), lane='L12_2', time=57548.00.\n"
     ]
    },
    {
     "name": "stdout",
     "output_type": "stream",
     "text": [
      "Step #57600.00 (7ms ~= 142.86*RT, ~119142.86UPS, vehicles TOT 2743 ACT 834 BUF 162)       \n",
      "Simulation ended at time: 57600.00\n",
      "Reason: The final simulation step has been reached.\n",
      "Performance: \n",
      " Duration: 15.71s\n",
      " Real time factor: 229.124\n",
      " UPS: 126092.795316\n",
      "Vehicles: \n",
      " Inserted: 2743 (Loaded: 2905)\n",
      " Running: 834\n",
      " Waiting: 162\n",
      " Teleports: 31 (Jam: 16, Wrong Lane: 15)\n",
      "Statistics (avg of 1909):\n",
      " RouteLength: 4358.29\n",
      " Speed: 11.75\n",
      " Duration: 470.57\n",
      " WaitingTime: 100.74\n",
      " TimeLoss: 154.41\n",
      " DepartDelay: 0.49\n",
      "\n",
      "DijkstraRouter answered 3026 queries and explored 10.26 edges on average.\n",
      "DijkstraRouter spent 0.01s answering queries (0.00ms on average).\n",
      "printing /Users/rodrse/Documents/DemandCalibration/notebooks/od_calibration_sumo_files/quickstart/data/iter_quickstart.current_od.xml\n",
      "### Runing: iter\n",
      "od2trips --no-step-log  --spread.uniform --taz-files /Users/rodrse/Documents/DemandCalibration/notebooks/od_calibration_sumo_files/quickstart/data/quickstart.taz.xml --tazrelation-files /Users/rodrse/Documents/DemandCalibration/notebooks/od_calibration_sumo_files/quickstart/data/iter_quickstart.current_od.xml -o /Users/rodrse/Documents/DemandCalibration/notebooks/od_calibration_sumo_files/quickstart/data/iter_od_trips.trips.xml \n",
      "Success.\n",
      "Loading net-file from '/Users/rodrse/Documents/DemandCalibration/notebooks/od_calibration_sumo_files/quickstart/data/quickstart.net.xml' ... done (7ms).\n",
      "Loading additional-files from '/Users/rodrse/Documents/DemandCalibration/notebooks/od_calibration_sumo_files/quickstart/data/quickstart.additional.xml' ... done (1ms).\n",
      "Loading done.\n",
      "Simulation version 1.16.0 started with time: 54000.00.\n",
      "Step #57600.00 (5ms ~= 200.00*RT, ~116800.00UPS, vehicles TOT 2558 ACT 584 BUF 0)         \n",
      "Simulation ended at time: 57600.00\n",
      "Reason: The final simulation step has been reached.\n",
      "Performance: \n",
      " Duration: 13.64s\n",
      " Real time factor: 263.93\n",
      " UPS: 105494.868035\n",
      "Vehicles: \n",
      " Inserted: 2558\n",
      " Running: 584\n",
      " Waiting: 0\n",
      "Statistics (avg of 1974):\n",
      " RouteLength: 4382.25\n",
      " Speed: 11.35\n",
      " Duration: 469.40\n",
      " WaitingTime: 87.90\n",
      " TimeLoss: 151.36\n",
      " DepartDelay: 0.48\n",
      "\n",
      "DijkstraRouter answered 2558 queries and explored 9.99 edges on average.\n",
      "DijkstraRouter spent 0.01s answering queries (0.00ms on average).\n",
      "printing /Users/rodrse/Documents/DemandCalibration/notebooks/od_calibration_sumo_files/quickstart/data/iter_quickstart.current_od.xml\n",
      "### Runing: iter\n",
      "od2trips --no-step-log  --spread.uniform --taz-files /Users/rodrse/Documents/DemandCalibration/notebooks/od_calibration_sumo_files/quickstart/data/quickstart.taz.xml --tazrelation-files /Users/rodrse/Documents/DemandCalibration/notebooks/od_calibration_sumo_files/quickstart/data/iter_quickstart.current_od.xml -o /Users/rodrse/Documents/DemandCalibration/notebooks/od_calibration_sumo_files/quickstart/data/iter_od_trips.trips.xml \n",
      "Success.\n",
      "Loading net-file from '/Users/rodrse/Documents/DemandCalibration/notebooks/od_calibration_sumo_files/quickstart/data/quickstart.net.xml' ... done (7ms).\n",
      "Loading additional-files from '/Users/rodrse/Documents/DemandCalibration/notebooks/od_calibration_sumo_files/quickstart/data/quickstart.additional.xml' ... done (2ms).\n",
      "Loading done.\n",
      "Simulation version 1.16.0 started with time: 54000.00.\n",
      "Step #57500.00 (10ms ~= 100.00*RT, ~67100.00UPS, vehicles TOT 2524 ACT 671 BUF 0)         \r"
     ]
    },
    {
     "name": "stderr",
     "output_type": "stream",
     "text": [
      "Warning: Teleporting vehicle '480'; waited too long (wrong lane), lane='L15_0', time=57504.00.\n",
      "Warning: Vehicle '480' ends teleporting on edge 'L18', time=57504.00.\n",
      "Warning: Teleporting vehicle '531'; waited too long (wrong lane), lane='L15_0', time=57505.00.\n",
      "Warning: Vehicle '531' ends teleporting on edge 'L18', time=57505.00.\n"
     ]
    },
    {
     "name": "stdout",
     "output_type": "stream",
     "text": [
      "Step #57600.00 (9ms ~= 111.11*RT, ~74888.89UPS, vehicles TOT 2597 ACT 674 BUF 0)          \n",
      "Simulation ended at time: 57600.00\n",
      "Reason: The final simulation step has been reached.\n",
      "Performance: \n",
      " Duration: 18.17s\n",
      " Real time factor: 198.118\n",
      " UPS: 88631.665841\n",
      "Vehicles: \n",
      " Inserted: 2597\n",
      " Running: 674\n",
      " Waiting: 0\n",
      " Teleports: 2 (Wrong Lane: 2)\n",
      "Statistics (avg of 1923):\n",
      " RouteLength: 4302.64\n",
      " Speed: 11.03\n",
      " Duration: 523.29\n",
      " WaitingTime: 126.04\n",
      " TimeLoss: 210.90\n",
      " DepartDelay: 0.49\n",
      "\n",
      "DijkstraRouter answered 2597 queries and explored 9.70 edges on average.\n",
      "DijkstraRouter spent 0.02s answering queries (0.01ms on average).\n",
      "printing /Users/rodrse/Documents/DemandCalibration/notebooks/od_calibration_sumo_files/quickstart/data/iter_quickstart.current_od.xml\n",
      "### Runing: iter\n",
      "od2trips --no-step-log  --spread.uniform --taz-files /Users/rodrse/Documents/DemandCalibration/notebooks/od_calibration_sumo_files/quickstart/data/quickstart.taz.xml --tazrelation-files /Users/rodrse/Documents/DemandCalibration/notebooks/od_calibration_sumo_files/quickstart/data/iter_quickstart.current_od.xml -o /Users/rodrse/Documents/DemandCalibration/notebooks/od_calibration_sumo_files/quickstart/data/iter_od_trips.trips.xml \n",
      "Success.\n",
      "Loading net-file from '/Users/rodrse/Documents/DemandCalibration/notebooks/od_calibration_sumo_files/quickstart/data/quickstart.net.xml' ... done (7ms).\n",
      "Loading additional-files from '/Users/rodrse/Documents/DemandCalibration/notebooks/od_calibration_sumo_files/quickstart/data/quickstart.additional.xml' ... done (1ms).\n",
      "Loading done.\n",
      "Simulation version 1.16.0 started with time: 54000.00.\n",
      "Step #57300.00 (9ms ~= 111.11*RT, ~91111.11UPS, vehicles TOT 2979 ACT 820 BUF 79)         \r"
     ]
    },
    {
     "name": "stderr",
     "output_type": "stream",
     "text": [
      "Warning: Teleporting vehicle '604'; waited too long (wrong lane), lane='L12_2', time=57366.00.\n",
      "Warning: Vehicle '604' ends teleporting on edge 'L15', time=57366.00.\n",
      "Warning: Teleporting vehicle '606'; waited too long (wrong lane), lane='L12_2', time=57399.00.\n",
      "Warning: Vehicle '606' ends teleporting on edge 'L15', time=57399.00.\n"
     ]
    },
    {
     "name": "stdout",
     "output_type": "stream",
     "text": [
      "Step #57400.00 (10ms ~= 100.00*RT, ~79500.00UPS, vehicles TOT 3034 ACT 795 BUF 117)       \r"
     ]
    },
    {
     "name": "stderr",
     "output_type": "stream",
     "text": [
      "Warning: Teleporting vehicle '471'; waited too long (jam), lane='L2_0', time=57429.00.\n",
      "Warning: Vehicle '471' ends teleporting on edge 'L12', time=57429.00.\n"
     ]
    },
    {
     "name": "stdout",
     "output_type": "stream",
     "text": [
      "Step #57600.00 (10ms ~= 100.00*RT, ~78700.00UPS, vehicles TOT 3139 ACT 787 BUF 196)       \n",
      "Simulation ended at time: 57600.00\n",
      "Reason: The final simulation step has been reached.\n",
      "Performance: \n",
      " Duration: 26.23s\n",
      " Real time factor: 137.258\n",
      " UPS: 90548.650297\n",
      "Vehicles: \n",
      " Inserted: 3139 (Loaded: 3335)\n",
      " Running: 787\n",
      " Waiting: 196\n",
      " Teleports: 3 (Jam: 1, Wrong Lane: 2)\n",
      "Statistics (avg of 2352):\n",
      " RouteLength: 4401.39\n",
      " Speed: 10.41\n",
      " Duration: 562.17\n",
      " WaitingTime: 95.70\n",
      " TimeLoss: 242.50\n",
      " DepartDelay: 0.49\n",
      "\n",
      "DijkstraRouter answered 3383 queries and explored 10.17 edges on average.\n",
      "DijkstraRouter spent 0.02s answering queries (0.01ms on average).\n",
      "printing /Users/rodrse/Documents/DemandCalibration/notebooks/od_calibration_sumo_files/quickstart/data/iter_quickstart.current_od.xml\n",
      "### Runing: iter\n",
      "od2trips --no-step-log  --spread.uniform --taz-files /Users/rodrse/Documents/DemandCalibration/notebooks/od_calibration_sumo_files/quickstart/data/quickstart.taz.xml --tazrelation-files /Users/rodrse/Documents/DemandCalibration/notebooks/od_calibration_sumo_files/quickstart/data/iter_quickstart.current_od.xml -o /Users/rodrse/Documents/DemandCalibration/notebooks/od_calibration_sumo_files/quickstart/data/iter_od_trips.trips.xml \n",
      "Success.\n",
      "Loading net-file from '/Users/rodrse/Documents/DemandCalibration/notebooks/od_calibration_sumo_files/quickstart/data/quickstart.net.xml' ... done (7ms).\n",
      "Loading additional-files from '/Users/rodrse/Documents/DemandCalibration/notebooks/od_calibration_sumo_files/quickstart/data/quickstart.additional.xml' ... done (1ms).\n",
      "Loading done.\n",
      "Simulation version 1.16.0 started with time: 54000.00.\n"
     ]
    },
    {
     "name": "stderr",
     "output_type": "stream",
     "text": [
      "Warning: Teleporting vehicle '474'; waited too long (wrong lane), lane='L15_0', time=56835.00.\n",
      "Warning: Vehicle '474' ends teleporting on edge 'L18', time=56835.00.\n"
     ]
    },
    {
     "name": "stdout",
     "output_type": "stream",
     "text": [
      "Step #57600.00 (8ms ~= 125.00*RT, ~94625.00UPS, vehicles TOT 2941 ACT 757 BUF 102)        \n",
      "Simulation ended at time: 57600.00\n",
      "Reason: The final simulation step has been reached.\n",
      "Performance: \n",
      " Duration: 25.50s\n",
      " Real time factor: 141.154\n",
      " UPS: 84991.609159\n",
      "Vehicles: \n",
      " Inserted: 2941 (Loaded: 3043)\n",
      " Running: 757\n",
      " Waiting: 102\n",
      " Teleports: 1 (Wrong Lane: 1)\n",
      "Statistics (avg of 2184):\n",
      " RouteLength: 4331.35\n",
      " Speed: 10.54\n",
      " Duration: 575.02\n",
      " WaitingTime: 129.43\n",
      " TimeLoss: 261.01\n",
      " DepartDelay: 0.64\n",
      "\n",
      "DijkstraRouter answered 3165 queries and explored 9.82 edges on average.\n",
      "DijkstraRouter spent 0.02s answering queries (0.00ms on average).\n",
      "printing /Users/rodrse/Documents/DemandCalibration/notebooks/od_calibration_sumo_files/quickstart/data/iter_quickstart.current_od.xml\n",
      "### Runing: iter\n",
      "od2trips --no-step-log  --spread.uniform --taz-files /Users/rodrse/Documents/DemandCalibration/notebooks/od_calibration_sumo_files/quickstart/data/quickstart.taz.xml --tazrelation-files /Users/rodrse/Documents/DemandCalibration/notebooks/od_calibration_sumo_files/quickstart/data/iter_quickstart.current_od.xml -o /Users/rodrse/Documents/DemandCalibration/notebooks/od_calibration_sumo_files/quickstart/data/iter_od_trips.trips.xml \n",
      "Success.\n",
      "Loading net-file from '/Users/rodrse/Documents/DemandCalibration/notebooks/od_calibration_sumo_files/quickstart/data/quickstart.net.xml' ... done (8ms).\n",
      "Loading additional-files from '/Users/rodrse/Documents/DemandCalibration/notebooks/od_calibration_sumo_files/quickstart/data/quickstart.additional.xml' ... done (1ms).\n",
      "Loading done.\n",
      "Simulation version 1.16.0 started with time: 54000.00.\n",
      "Step #57600.00 (8ms ~= 125.00*RT, ~99125.00UPS, vehicles TOT 2912 ACT 793 BUF 0)          \n",
      "Simulation ended at time: 57600.00\n",
      "Reason: The final simulation step has been reached.\n",
      "Performance: \n",
      " Duration: 20.55s\n",
      " Real time factor: 175.174\n",
      " UPS: 95301.737142\n",
      "Vehicles: \n",
      " Inserted: 2912\n",
      " Running: 793\n",
      " Waiting: 0\n",
      "Statistics (avg of 2119):\n",
      " RouteLength: 4358.10\n",
      " Speed: 10.68\n",
      " Duration: 546.53\n",
      " WaitingTime: 107.59\n",
      " TimeLoss: 230.11\n",
      " DepartDelay: 0.49\n",
      "\n",
      "DijkstraRouter answered 2912 queries and explored 9.98 edges on average.\n",
      "DijkstraRouter spent 0.01s answering queries (0.00ms on average).\n",
      "printing /Users/rodrse/Documents/DemandCalibration/notebooks/od_calibration_sumo_files/quickstart/data/iter_quickstart.current_od.xml\n",
      "### Runing: iter\n",
      "od2trips --no-step-log  --spread.uniform --taz-files /Users/rodrse/Documents/DemandCalibration/notebooks/od_calibration_sumo_files/quickstart/data/quickstart.taz.xml --tazrelation-files /Users/rodrse/Documents/DemandCalibration/notebooks/od_calibration_sumo_files/quickstart/data/iter_quickstart.current_od.xml -o /Users/rodrse/Documents/DemandCalibration/notebooks/od_calibration_sumo_files/quickstart/data/iter_od_trips.trips.xml \n",
      "Success.\n",
      "Loading net-file from '/Users/rodrse/Documents/DemandCalibration/notebooks/od_calibration_sumo_files/quickstart/data/quickstart.net.xml' ... done (7ms).\n",
      "Loading additional-files from '/Users/rodrse/Documents/DemandCalibration/notebooks/od_calibration_sumo_files/quickstart/data/quickstart.additional.xml' ... done (1ms).\n",
      "Loading done.\n",
      "Simulation version 1.16.0 started with time: 54000.00.\n",
      "Step #57600.00 (6ms ~= 166.67*RT, ~78333.33UPS, vehicles TOT 2305 ACT 470 BUF 0)          \n",
      "Simulation ended at time: 57600.00\n",
      "Reason: The final simulation step has been reached.\n",
      "Performance: \n",
      " Duration: 10.61s\n",
      " Real time factor: 339.335\n",
      " UPS: 110391.648600\n",
      "Vehicles: \n",
      " Inserted: 2305\n",
      " Running: 470\n",
      " Waiting: 0\n",
      "Statistics (avg of 1835):\n",
      " RouteLength: 4324.35\n",
      " Speed: 11.46\n",
      " Duration: 473.60\n",
      " WaitingTime: 98.75\n",
      " TimeLoss: 159.67\n",
      " DepartDelay: 0.49\n",
      "\n",
      "DijkstraRouter answered 2305 queries and explored 9.59 edges on average.\n",
      "DijkstraRouter spent 0.01s answering queries (0.00ms on average).\n",
      "printing /Users/rodrse/Documents/DemandCalibration/notebooks/od_calibration_sumo_files/quickstart/data/iter_quickstart.current_od.xml\n",
      "### Runing: iter\n",
      "od2trips --no-step-log  --spread.uniform --taz-files /Users/rodrse/Documents/DemandCalibration/notebooks/od_calibration_sumo_files/quickstart/data/quickstart.taz.xml --tazrelation-files /Users/rodrse/Documents/DemandCalibration/notebooks/od_calibration_sumo_files/quickstart/data/iter_quickstart.current_od.xml -o /Users/rodrse/Documents/DemandCalibration/notebooks/od_calibration_sumo_files/quickstart/data/iter_od_trips.trips.xml \n",
      "Success.\n",
      "Loading net-file from '/Users/rodrse/Documents/DemandCalibration/notebooks/od_calibration_sumo_files/quickstart/data/quickstart.net.xml' ... done (8ms).\n",
      "Loading additional-files from '/Users/rodrse/Documents/DemandCalibration/notebooks/od_calibration_sumo_files/quickstart/data/quickstart.additional.xml' ... done (1ms).\n",
      "Loading done.\n",
      "Simulation version 1.16.0 started with time: 54000.00.\n",
      "Step #56800.00 (9ms ~= 111.11*RT, ~96444.44UPS, vehicles TOT 2510 ACT 868 BUF 0)          \r"
     ]
    },
    {
     "name": "stderr",
     "output_type": "stream",
     "text": [
      "Warning: Teleporting vehicle '592'; waited too long (wrong lane), lane='L12_2', time=56798.00.\n",
      "Warning: Vehicle '592' ends teleporting on edge 'L15', time=56816.00.\n",
      "Warning: Teleporting vehicle '596'; waited too long (wrong lane), lane='L12_2', time=56833.00.\n",
      "Warning: Teleporting vehicle '600'; waited too long (wrong lane), lane='L12_2', time=56871.00.\n",
      "Warning: Vehicle '596' ends teleporting on edge 'L15', time=56895.00.\n"
     ]
    },
    {
     "name": "stdout",
     "output_type": "stream",
     "text": [
      "Step #56900.00 (9ms ~= 111.11*RT, ~100333.33UPS, vehicles TOT 2599 ACT 903 BUF 0)         \r"
     ]
    },
    {
     "name": "stderr",
     "output_type": "stream",
     "text": [
      "Warning: Teleporting vehicle '602'; waited too long (wrong lane), lane='L12_2', time=56946.00.\n",
      "Warning: Vehicle '600' ends teleporting on edge 'L15', time=56954.00.\n"
     ]
    },
    {
     "name": "stdout",
     "output_type": "stream",
     "text": [
      "Step #57000.00 (8ms ~= 125.00*RT, ~115125.00UPS, vehicles TOT 2679 ACT 921 BUF 11)        \r"
     ]
    },
    {
     "name": "stderr",
     "output_type": "stream",
     "text": [
      "Warning: Teleporting vehicle '605'; waited too long (wrong lane), lane='L12_2', time=57006.00.\n",
      "Warning: Teleporting vehicle '606'; waited too long (wrong lane), lane='L12_2', time=57007.00.\n",
      "Warning: Vehicle '602' ends teleporting on edge 'L15', time=57022.00.\n",
      "Warning: Teleporting vehicle '1313'; waited too long (jam), lane=':1_3_2', time=57029.00.\n",
      "Warning: Vehicle '1313' ends teleporting on edge 'L12', time=57029.00.\n",
      "Warning: Teleporting vehicle '669'; waited too long (jam), lane='L2_1', time=57030.00.\n",
      "Warning: Vehicle '669' ends teleporting on edge 'L12', time=57030.00.\n",
      "Warning: Teleporting vehicle '670'; waited too long (jam), lane='L2_1', time=57036.00.\n",
      "Warning: Vehicle '670' ends teleporting on edge 'L12', time=57036.00.\n",
      "Warning: Teleporting vehicle '671'; waited too long (jam), lane='L2_1', time=57037.00.\n",
      "Warning: Vehicle '671' ends teleporting on edge 'L12', time=57037.00.\n",
      "Warning: Teleporting vehicle '466'; waited too long (jam), lane=':1_3_1', time=57043.00.\n",
      "Warning: Vehicle '466' ends teleporting on edge 'L12', time=57043.00.\n",
      "Warning: Teleporting vehicle '607'; waited too long (wrong lane), lane='L12_2', time=57050.00.\n",
      "Warning: Vehicle '605' ends teleporting on edge 'L15', time=57081.00.\n"
     ]
    },
    {
     "name": "stdout",
     "output_type": "stream",
     "text": [
      "Step #57100.00 (10ms ~= 100.00*RT, ~91100.00UPS, vehicles TOT 2728 ACT 911 BUF 51)        \r"
     ]
    },
    {
     "name": "stderr",
     "output_type": "stream",
     "text": [
      "Warning: Teleporting vehicle '533'; waited too long (jam), lane='D2_0', time=57127.00.\n",
      "Warning: Vehicle '606' ends teleporting on edge 'L15', time=57147.00.\n",
      "Warning: Teleporting vehicle '713'; waited too long (jam), lane='D2_1', time=57157.00.\n",
      "Warning: Teleporting vehicle '610'; waited too long (wrong lane), lane='L12_2', time=57170.00.\n"
     ]
    },
    {
     "name": "stdout",
     "output_type": "stream",
     "text": [
      "Step #57200.00 (10ms ~= 100.00*RT, ~90500.00UPS, vehicles TOT 2776 ACT 905 BUF 92)        \r"
     ]
    },
    {
     "name": "stderr",
     "output_type": "stream",
     "text": [
      "Warning: Vehicle '607' ends teleporting on edge 'L15', time=57206.00.\n",
      "Warning: Vehicle '610' ends teleporting on edge 'L15', time=57263.00.\n"
     ]
    },
    {
     "name": "stdout",
     "output_type": "stream",
     "text": [
      "Step #57300.00 (10ms ~= 100.00*RT, ~91000.00UPS, vehicles TOT 2827 ACT 910 BUF 131)       \r"
     ]
    },
    {
     "name": "stderr",
     "output_type": "stream",
     "text": [
      "Warning: Teleporting vehicle '613'; waited too long (wrong lane), lane='L12_2', time=57331.00.\n",
      "Warning: Vehicle '613' ends teleporting on edge 'L15', time=57331.00.\n",
      "Warning: Teleporting vehicle '1314'; waited too long (jam), lane=':1_3_2', time=57338.00.\n",
      "Warning: Vehicle '1314' ends teleporting on edge 'L12', time=57338.00.\n",
      "Warning: Teleporting vehicle '467'; waited too long (jam), lane=':1_3_1', time=57349.00.\n",
      "Warning: Vehicle '467' ends teleporting on edge 'L12', time=57349.00.\n",
      "Warning: Teleporting vehicle '616'; waited too long (wrong lane), lane='L12_2', time=57398.00.\n"
     ]
    },
    {
     "name": "stdout",
     "output_type": "stream",
     "text": [
      "Step #57400.00 (10ms ~= 100.00*RT, ~90100.00UPS, vehicles TOT 2876 ACT 901 BUF 172)       \r"
     ]
    },
    {
     "name": "stderr",
     "output_type": "stream",
     "text": [
      "Warning: Vehicle '616' ends teleporting on edge 'L15', time=57429.00.\n",
      "Warning: Teleporting vehicle '534'; waited too long (jam), lane='D2_0', time=57433.00.\n",
      "Warning: Teleporting vehicle '617'; waited too long (wrong lane), lane='L12_2', time=57438.00.\n",
      "Warning: Teleporting vehicle '1340'; waited too long (jam), lane='D2_1', time=57465.00.\n",
      "Warning: Teleporting vehicle '619'; waited too long (wrong lane), lane='L12_2', time=57477.00.\n",
      "Warning: Vehicle '617' ends teleporting on edge 'L15', time=57552.00.\n"
     ]
    },
    {
     "name": "stdout",
     "output_type": "stream",
     "text": [
      "Step #57500.00 (10ms ~= 100.00*RT, ~89600.00UPS, vehicles TOT 2925 ACT 896 BUF 213)       \r"
     ]
    },
    {
     "name": "stderr",
     "output_type": "stream",
     "text": [
      "Warning: Vehicle '619' ends teleporting on edge 'L15', time=57584.00.\n"
     ]
    },
    {
     "name": "stdout",
     "output_type": "stream",
     "text": [
      "Step #57600.00 (10ms ~= 100.00*RT, ~89200.00UPS, vehicles TOT 2974 ACT 892 BUF 253)       \n",
      "Simulation ended at time: 57600.00\n",
      "Reason: The final simulation step has been reached.\n",
      "Performance: \n",
      " Duration: 24.88s\n",
      " Real time factor: 144.712\n",
      " UPS: 89623.869438\n",
      "Vehicles: \n",
      " Inserted: 2974 (Loaded: 3227)\n",
      " Running: 892\n",
      " Waiting: 253\n",
      " Teleports: 23 (Jam: 11, Wrong Lane: 12)\n",
      "Statistics (avg of 2082):\n",
      " RouteLength: 4410.32\n",
      " Speed: 12.04\n",
      " Duration: 437.07\n",
      " WaitingTime: 73.72\n",
      " TimeLoss: 117.68\n",
      " DepartDelay: 0.49\n",
      "\n",
      "DijkstraRouter answered 3228 queries and explored 10.54 edges on average.\n",
      "DijkstraRouter spent 0.02s answering queries (0.01ms on average).\n"
     ]
    }
   ],
   "source": [
    "### Generate batch of policies using Sobol sequences\n",
    "from torch.quasirandom import SobolEngine\n",
    "from botorch.utils.transforms import unnormalize\n",
    "\n",
    "n0 = 20\n",
    "dim = 4\n",
    "sobol = SobolEngine(dim, scramble=True)\n",
    "x_0 = sobol.draw(n0).to(dtype=dtype)\n",
    "\n",
    "# map the normalized into the original parameter space\n",
    "train_X0 = unnormalize(x_0, bounds)\n",
    "\n",
    "df_0 = [\n",
    "    objective(x) for x in train_X0.cpu().detach().numpy()\n",
    "]\n",
    "\n",
    "df_0 = pd.concat(df_0)\n",
    "df_0['iter'] = 0\n"
   ]
  },
  {
   "cell_type": "code",
   "execution_count": 14,
   "metadata": {},
   "outputs": [],
   "source": [
    "from botorch.utils.transforms import normalize\n",
    "\n",
    "train_X = torch.from_numpy(df_0[[\"x1\",\"x2\",\"x3\",\"x4\"]].values)\n",
    "train_X_norm = normalize(train_X,bounds)\n",
    "\n",
    "train_Y = -torch.from_numpy(df_0[[\"loss_estimate\"]].values)\n"
   ]
  },
  {
   "cell_type": "code",
   "execution_count": 16,
   "metadata": {},
   "outputs": [],
   "source": [
    "import os\n",
    "\n",
    "from botorch import fit_fully_bayesian_model_nuts\n",
    "from botorch.acquisition import qExpectedImprovement\n",
    "from botorch.models.fully_bayesian import SaasFullyBayesianSingleTaskGP\n",
    "from botorch.models.transforms import Standardize\n",
    "from botorch.optim import optimize_acqf"
   ]
  },
  {
   "cell_type": "code",
   "execution_count": 17,
   "metadata": {},
   "outputs": [],
   "source": [
    "tkwargs = {\n",
    "    \"device\": torch.device(\"cuda:1\" if torch.cuda.is_available() else \"cpu\"),\n",
    "    \"dtype\": torch.double,\n",
    "}"
   ]
  },
  {
   "cell_type": "code",
   "execution_count": 18,
   "metadata": {},
   "outputs": [],
   "source": [
    "SMOKE_TEST = True"
   ]
  },
  {
   "cell_type": "code",
   "execution_count": 19,
   "metadata": {},
   "outputs": [],
   "source": [
    "WARMUP_STEPS = 256 if not SMOKE_TEST else 32\n",
    "NUM_SAMPLES = 128 if not SMOKE_TEST else 16\n",
    "THINNING = 16"
   ]
  },
  {
   "cell_type": "code",
   "execution_count": 21,
   "metadata": {},
   "outputs": [],
   "source": [
    "gp = SaasFullyBayesianSingleTaskGP(\n",
    "    train_X=train_X, \n",
    "    train_Y=train_Y, \n",
    "    outcome_transform=Standardize(m=1)\n",
    ")\n",
    "fit_fully_bayesian_model_nuts(\n",
    "    gp,\n",
    "    warmup_steps=WARMUP_STEPS,\n",
    "    num_samples=NUM_SAMPLES,\n",
    "    thinning=THINNING,\n",
    "    disable_progbar=True,\n",
    ")\n",
    "with torch.no_grad():\n",
    "    posterior = gp.posterior(train_X)"
   ]
  },
  {
   "cell_type": "code",
   "execution_count": 22,
   "metadata": {},
   "outputs": [
    {
     "name": "stdout",
     "output_type": "stream",
     "text": [
      "tensor([ 0.9981,  1.5157, 12.9865,  4.1720], dtype=torch.float64)\n"
     ]
    }
   ],
   "source": [
    "print(gp.median_lengthscale.detach())"
   ]
  },
  {
   "cell_type": "markdown",
   "metadata": {},
   "source": [
    "Make predictions with the model¶\n",
    "In the next cell we show how to make predictions with the SAAS model. You compute the mean and variance for test points just like for any other BoTorch posteriors. Note that the mean and posterior will have an extra batch dimension at -3 that corresponds to the number of MCMC samples (which is 16 in this tutorial)."
   ]
  },
  {
   "cell_type": "code",
   "execution_count": 23,
   "metadata": {},
   "outputs": [
    {
     "name": "stdout",
     "output_type": "stream",
     "text": [
      "torch.Size([1, 20, 1])\n",
      "torch.Size([1, 20, 1])\n"
     ]
    }
   ],
   "source": [
    "print(posterior.mean.shape)\n",
    "print(posterior.variance.shape)"
   ]
  },
  {
   "attachments": {},
   "cell_type": "markdown",
   "metadata": {},
   "source": [
    "## BayesOpt loop"
   ]
  },
  {
   "cell_type": "code",
   "execution_count": 27,
   "metadata": {},
   "outputs": [],
   "source": [
    "from botorch.optim import optimize_acqf\n",
    "\n",
    "BATCH_SIZE = 1 \n",
    "NUM_RESTARTS = 5 \n",
    "RAW_SAMPLES = 32 \n",
    "    \n",
    "def optimize_acqf_and_get_observation(acq_func,bounds):\n",
    "    \"\"\"Optimizes the acquisition function, and returns a new candidate.\"\"\"\n",
    "    # optimize\n",
    "    candidates, _ = optimize_acqf(\n",
    "        acq_function=acq_func,\n",
    "        bounds=torch.tensor([[0.0] * dim, [1.0] * dim], device=device, dtype=dtype),\n",
    "        q=BATCH_SIZE,\n",
    "        num_restarts=NUM_RESTARTS,\n",
    "        raw_samples=RAW_SAMPLES,  # used for intialization heuristic\n",
    "        options={\"batch_limit\": 5, \"maxiter\": 200},\n",
    "    )\n",
    "\n",
    "    # observe new values \n",
    "    new_x = candidates.detach()\n",
    "    \n",
    "    return unnormalize(new_x, bounds)"
   ]
  },
  {
   "cell_type": "code",
   "execution_count": 28,
   "metadata": {},
   "outputs": [
    {
     "name": "stdout",
     "output_type": "stream",
     "text": [
      "####### 1 ########\n",
      "##### n=20 #####\n",
      "##### best_value=-0.05704021241819285 #####\n",
      "printing /Users/rodrse/Documents/DemandCalibration/notebooks/od_calibration_sumo_files/quickstart/data/iter_quickstart.current_od.xml\n",
      "### Runing: iter\n",
      "od2trips --no-step-log  --spread.uniform --taz-files /Users/rodrse/Documents/DemandCalibration/notebooks/od_calibration_sumo_files/quickstart/data/quickstart.taz.xml --tazrelation-files /Users/rodrse/Documents/DemandCalibration/notebooks/od_calibration_sumo_files/quickstart/data/iter_quickstart.current_od.xml -o /Users/rodrse/Documents/DemandCalibration/notebooks/od_calibration_sumo_files/quickstart/data/iter_od_trips.trips.xml \n",
      "Success.\n",
      "Loading net-file from '/Users/rodrse/Documents/DemandCalibration/notebooks/od_calibration_sumo_files/quickstart/data/quickstart.net.xml' ... done (9ms).\n",
      "Loading additional-files from '/Users/rodrse/Documents/DemandCalibration/notebooks/od_calibration_sumo_files/quickstart/data/quickstart.additional.xml' ... done (1ms).\n",
      "Loading done.\n",
      "Simulation version 1.16.0 started with time: 54000.00.\n",
      "Step #56500.00 (8ms ~= 125.00*RT, ~109250.00UPS, vehicles TOT 2360 ACT 874 BUF 0)         \r"
     ]
    },
    {
     "name": "stderr",
     "output_type": "stream",
     "text": [
      "Warning: Teleporting vehicle '573'; waited too long (wrong lane), lane='L12_2', time=56510.00.\n",
      "Warning: Vehicle '573' ends teleporting on edge 'L15', time=56564.00.\n",
      "Warning: Teleporting vehicle '578'; waited too long (wrong lane), lane='L12_2', time=56641.00.\n"
     ]
    },
    {
     "name": "stdout",
     "output_type": "stream",
     "text": [
      "Step #56600.00 (8ms ~= 125.00*RT, ~113375.00UPS, vehicles TOT 2455 ACT 907 BUF 0)         \r"
     ]
    },
    {
     "name": "stderr",
     "output_type": "stream",
     "text": [
      "Warning: Vehicle '578' ends teleporting on edge 'L15', time=56672.00.\n"
     ]
    },
    {
     "name": "stdout",
     "output_type": "stream",
     "text": [
      "Step #56700.00 (10ms ~= 100.00*RT, ~93500.00UPS, vehicles TOT 2550 ACT 935 BUF 0)         \r"
     ]
    },
    {
     "name": "stderr",
     "output_type": "stream",
     "text": [
      "Warning: Teleporting vehicle '582'; waited too long (wrong lane), lane='L12_2', time=56723.00.\n",
      "Warning: Vehicle '582' ends teleporting on edge 'L15', time=56723.00.\n",
      "Warning: Teleporting vehicle '661'; waited too long (jam), lane=':1_3_2', time=56779.00.\n",
      "Warning: Vehicle '661' ends teleporting on edge 'L12', time=56779.00.\n",
      "Warning: Teleporting vehicle '662'; waited too long (jam), lane='L2_1', time=56780.00.\n",
      "Warning: Vehicle '662' ends teleporting on edge 'L12', time=56780.00.\n",
      "Warning: Teleporting vehicle '663'; waited too long (jam), lane='L2_1', time=56782.00.\n",
      "Warning: Vehicle '663' ends teleporting on edge 'L12', time=56782.00.\n",
      "Warning: Teleporting vehicle '664'; waited too long (jam), lane='L2_1', time=56789.00.\n",
      "Warning: Vehicle '664' ends teleporting on edge 'L12', time=56789.00.\n",
      "Warning: Teleporting vehicle '665'; waited too long (jam), lane='L2_1', time=56790.00.\n",
      "Warning: Vehicle '665' ends teleporting on edge 'L12', time=56790.00.\n"
     ]
    },
    {
     "name": "stdout",
     "output_type": "stream",
     "text": [
      "Step #56800.00 (9ms ~= 111.11*RT, ~106222.22UPS, vehicles TOT 2621 ACT 956 BUF 24)        \r"
     ]
    },
    {
     "name": "stderr",
     "output_type": "stream",
     "text": [
      "Warning: Teleporting vehicle '584'; waited too long (wrong lane), lane='L12_2', time=56809.00.\n",
      "Warning: Vehicle '584' ends teleporting on edge 'L15', time=56809.00.\n",
      "Warning: Teleporting vehicle '588'; waited too long (wrong lane), lane='L12_2', time=56894.00.\n",
      "Warning: Teleporting vehicle '713'; waited too long (jam), lane='D2_1', time=56909.00.\n",
      "Warning: Vehicle '713' ends teleporting on edge 'L2', time=56909.00.\n"
     ]
    },
    {
     "name": "stdout",
     "output_type": "stream",
     "text": [
      "Step #56900.00 (11ms ~= 90.91*RT, ~85727.27UPS, vehicles TOT 2678 ACT 943 BUF 62)         \r"
     ]
    },
    {
     "name": "stderr",
     "output_type": "stream",
     "text": [
      "Warning: Teleporting vehicle '590'; waited too long (wrong lane), lane='L12_2', time=56924.00.\n",
      "Warning: Vehicle '588' ends teleporting on edge 'L15', time=56940.00.\n",
      "Warning: Teleporting vehicle '592'; waited too long (wrong lane), lane='L12_2', time=56957.00.\n"
     ]
    },
    {
     "name": "stdout",
     "output_type": "stream",
     "text": [
      "Step #57000.00 (8ms ~= 125.00*RT, ~117250.00UPS, vehicles TOT 2732 ACT 938 BUF 100)       \r"
     ]
    },
    {
     "name": "stderr",
     "output_type": "stream",
     "text": [
      "Warning: Teleporting vehicle '447'; waited too long (jam), lane=':1_3_1', time=57014.00.\n",
      "Warning: Vehicle '447' ends teleporting on edge 'L12', time=57014.00.\n",
      "Warning: Vehicle '590' ends teleporting on edge 'L15', time=57025.00.\n",
      "Warning: Vehicle '592' ends teleporting on edge 'L15', time=57085.00.\n",
      "Warning: Teleporting vehicle '1265'; waited too long (jam), lane=':1_3_2', time=57091.00.\n",
      "Warning: Vehicle '1265' ends teleporting on edge 'L12', time=57091.00.\n",
      "Warning: Teleporting vehicle '514'; waited too long (jam), lane='D2_0', time=57093.00.\n",
      "Warning: Vehicle '514' ends teleporting on edge 'L2', time=57093.00.\n"
     ]
    },
    {
     "name": "stdout",
     "output_type": "stream",
     "text": [
      "Step #57200.00 (8ms ~= 125.00*RT, ~116250.00UPS, vehicles TOT 2844 ACT 930 BUF 179)       \r"
     ]
    },
    {
     "name": "stderr",
     "output_type": "stream",
     "text": [
      "Warning: Teleporting vehicle '1285'; waited too long (jam), lane='D2_1', time=57214.00.\n",
      "Warning: Vehicle '1285' ends teleporting on edge 'L2', time=57214.00.\n",
      "Warning: Teleporting vehicle '713'; waited too long (jam), lane='L2_1', time=57219.00.\n",
      "Warning: Vehicle '713' ends teleporting on edge 'L12', time=57219.00.\n",
      "Warning: Teleporting vehicle '599'; waited too long (wrong lane), lane='L12_2', time=57263.00.\n"
     ]
    },
    {
     "name": "stdout",
     "output_type": "stream",
     "text": [
      "Step #57300.00 (9ms ~= 111.11*RT, ~104000.00UPS, vehicles TOT 2900 ACT 936 BUF 218)       \r"
     ]
    },
    {
     "name": "stderr",
     "output_type": "stream",
     "text": [
      "Warning: Teleporting vehicle '665'; waited too long (wrong lane), lane='L15_0', time=57304.00.\n",
      "Warning: Vehicle '665' ends teleporting on edge 'L18', time=57304.00.\n",
      "Warning: Teleporting vehicle '448'; waited too long (jam), lane=':1_3_1', time=57319.00.\n",
      "Warning: Vehicle '448' ends teleporting on edge 'L12', time=57319.00.\n",
      "Warning: Vehicle '599' ends teleporting on edge 'L15', time=57325.00.\n",
      "Warning: Teleporting vehicle '602'; waited too long (wrong lane), lane='L12_2', time=57329.00.\n",
      "Warning: Teleporting vehicle '603'; waited too long (wrong lane), lane='L12_2', time=57330.00.\n",
      "Warning: Teleporting vehicle '604'; waited too long (wrong lane), lane='L12_2', time=57370.00.\n",
      "Warning: Vehicle '602' ends teleporting on edge 'L15', time=57390.00.\n",
      "Warning: Teleporting vehicle '1266'; waited too long (jam), lane=':1_3_2', time=57397.00.\n",
      "Warning: Vehicle '1266' ends teleporting on edge 'L12', time=57397.00.\n",
      "Warning: Teleporting vehicle '515'; waited too long (jam), lane='D2_0', time=57399.00.\n",
      "Warning: Vehicle '515' ends teleporting on edge 'L2', time=57399.00.\n"
     ]
    },
    {
     "name": "stdout",
     "output_type": "stream",
     "text": [
      "Step #57400.00 (10ms ~= 100.00*RT, ~92900.00UPS, vehicles TOT 2954 ACT 929 BUF 256)       \r"
     ]
    },
    {
     "name": "stderr",
     "output_type": "stream",
     "text": [
      "Warning: Teleporting vehicle '606'; waited too long (wrong lane), lane='L12_2', time=57474.00.\n",
      "Warning: Vehicle '603' ends teleporting on edge 'L15', time=57478.00.\n"
     ]
    },
    {
     "name": "stdout",
     "output_type": "stream",
     "text": [
      "Step #57500.00 (18ms ~= 55.56*RT, ~51222.22UPS, vehicles TOT 3010 ACT 922 BUF 295)        \r"
     ]
    },
    {
     "name": "stderr",
     "output_type": "stream",
     "text": [
      "Warning: Vehicle '604' ends teleporting on edge 'L15', time=57537.00.\n",
      "Warning: Vehicle '606' ends teleporting on edge 'L15', time=57592.00.\n"
     ]
    },
    {
     "name": "stdout",
     "output_type": "stream",
     "text": [
      "Step #57600.00 (9ms ~= 111.11*RT, ~101111.11UPS, vehicles TOT 3066 ACT 910 BUF 334)       \n",
      "Simulation ended at time: 57600.00\n",
      "Reason: The final simulation step has been reached.\n",
      "Performance: \n",
      " Duration: 22.25s\n",
      " Real time factor: 161.812\n",
      " UPS: 105888.079827\n",
      "Vehicles: \n",
      " Inserted: 3066 (Loaded: 3400)\n",
      " Running: 910\n",
      " Waiting: 334\n",
      " Teleports: 27 (Jam: 14, Wrong Lane: 13)\n",
      "Statistics (avg of 2156):\n",
      " RouteLength: 4453.08\n",
      " Speed: 12.50\n",
      " Duration: 416.98\n",
      " WaitingTime: 63.25\n",
      " TimeLoss: 93.41\n",
      " DepartDelay: 0.41\n",
      "\n",
      "DijkstraRouter answered 3401 queries and explored 10.99 edges on average.\n",
      "DijkstraRouter spent 0.01s answering queries (0.00ms on average).\n",
      "####### 2 ########\n",
      "##### n=21 #####\n",
      "##### best_value=-0.05704021241819285 #####\n",
      "printing /Users/rodrse/Documents/DemandCalibration/notebooks/od_calibration_sumo_files/quickstart/data/iter_quickstart.current_od.xml\n",
      "### Runing: iter\n",
      "od2trips --no-step-log  --spread.uniform --taz-files /Users/rodrse/Documents/DemandCalibration/notebooks/od_calibration_sumo_files/quickstart/data/quickstart.taz.xml --tazrelation-files /Users/rodrse/Documents/DemandCalibration/notebooks/od_calibration_sumo_files/quickstart/data/iter_quickstart.current_od.xml -o /Users/rodrse/Documents/DemandCalibration/notebooks/od_calibration_sumo_files/quickstart/data/iter_od_trips.trips.xml \n",
      "Success.\n",
      "Loading net-file from '/Users/rodrse/Documents/DemandCalibration/notebooks/od_calibration_sumo_files/quickstart/data/quickstart.net.xml' ... done (6ms).\n",
      "Loading additional-files from '/Users/rodrse/Documents/DemandCalibration/notebooks/od_calibration_sumo_files/quickstart/data/quickstart.additional.xml' ... done (1ms).\n",
      "Loading done.\n",
      "Simulation version 1.16.0 started with time: 54000.00.\n",
      "Step #57100.00 (7ms ~= 142.86*RT, ~114428.57UPS, vehicles TOT 2733 ACT 801 BUF 138)       \r"
     ]
    },
    {
     "name": "stderr",
     "output_type": "stream",
     "text": [
      "Warning: Teleporting vehicle '3069'; waited too long (wrong lane), lane='L14_0', time=57159.00.\n",
      "Warning: Vehicle '3069' ends teleporting on edge 'L16', time=57172.00.\n"
     ]
    },
    {
     "name": "stdout",
     "output_type": "stream",
     "text": [
      "Step #57200.00 (9ms ~= 111.11*RT, ~86777.78UPS, vehicles TOT 2773 ACT 781 BUF 192)        \r"
     ]
    },
    {
     "name": "stderr",
     "output_type": "stream",
     "text": [
      "Warning: Teleporting vehicle '2934'; waited too long (jam), lane='L4_1', time=57219.00.\n",
      "Warning: Vehicle '2934' ends teleporting on edge 'L14', time=57219.00.\n",
      "Warning: Teleporting vehicle '2121'; waited too long (jam), lane='L4_0', time=57275.00.\n",
      "Warning: Vehicle '2121' ends teleporting on edge 'L14', time=57275.00.\n",
      "Warning: Teleporting vehicle '3124'; waited too long (jam), lane='D4_0', time=57298.00.\n",
      "Warning: Vehicle '3124' ends teleporting on edge 'L4', time=57298.00.\n"
     ]
    },
    {
     "name": "stdout",
     "output_type": "stream",
     "text": [
      "Step #57400.00 (9ms ~= 111.11*RT, ~83222.22UPS, vehicles TOT 2879 ACT 749 BUF 270)        \r"
     ]
    },
    {
     "name": "stderr",
     "output_type": "stream",
     "text": [
      "Warning: Teleporting vehicle '3109'; waited too long (jam), lane='L4_0', time=57471.00.\n",
      "Warning: Vehicle '3109' ends teleporting on edge 'L14', time=57471.00.\n",
      "Warning: Teleporting vehicle '3112'; waited too long (jam), lane='L4_0', time=57485.00.\n",
      "Warning: Vehicle '3112' ends teleporting on edge 'L14', time=57485.00.\n"
     ]
    },
    {
     "name": "stdout",
     "output_type": "stream",
     "text": [
      "Step #57500.00 (9ms ~= 111.11*RT, ~83444.44UPS, vehicles TOT 2946 ACT 751 BUF 296)        \r"
     ]
    },
    {
     "name": "stderr",
     "output_type": "stream",
     "text": [
      "Warning: Teleporting vehicle '3120'; waited too long (jam), lane='L4_0', time=57533.00.\n",
      "Warning: Vehicle '3120' ends teleporting on edge 'L14', time=57533.00.\n"
     ]
    },
    {
     "name": "stdout",
     "output_type": "stream",
     "text": [
      "Step #57600.00 (9ms ~= 111.11*RT, ~82555.56UPS, vehicles TOT 3013 ACT 743 BUF 322)        \n",
      "Simulation ended at time: 57600.00\n",
      "Reason: The final simulation step has been reached.\n",
      "Performance: \n",
      " Duration: 23.35s\n",
      " Real time factor: 154.156\n",
      " UPS: 92089.667280\n",
      "Vehicles: \n",
      " Inserted: 3013 (Loaded: 3335)\n",
      " Running: 743\n",
      " Waiting: 322\n",
      " Teleports: 7 (Jam: 6, Wrong Lane: 1)\n",
      "Statistics (avg of 2270):\n",
      " RouteLength: 4273.00\n",
      " Speed: 10.83\n",
      " Duration: 552.91\n",
      " WaitingTime: 141.75\n",
      " TimeLoss: 243.43\n",
      " DepartDelay: 1.58\n",
      "\n",
      "DijkstraRouter answered 3519 queries and explored 9.56 edges on average.\n",
      "DijkstraRouter spent 0.01s answering queries (0.00ms on average).\n"
     ]
    }
   ],
   "source": [
    "### Run loop\n",
    "NITER = 2\n",
    "output = [df_0]\n",
    "best_value = []\n",
    "\n",
    "for i in range(NITER):\n",
    "    \n",
    "    print(f\"####### {i+1} ########\")\n",
    "    \n",
    "    df_ = df_0 if i == 0 else df_i\n",
    "    \n",
    "    n_obs = df_.shape[0]\n",
    "    print(f\"##### n={n_obs} #####\")\n",
    "    \n",
    "    # Training data\n",
    "    train_X = torch.from_numpy(df_[[\"x1\",\"x2\",\"x3\",\"x4\"]].values)    \n",
    "    train_X_norm = normalize(train_X,bounds)\n",
    "    \n",
    "    train_Y = -torch.from_numpy(df_[[\"loss_estimate\"]].values) # Take negative\n",
    "    \n",
    "    # best value so far\n",
    "    best_y = train_Y.max()\n",
    "    best_value.append(best_y)\n",
    "    print(f\"##### best_value={best_y} #####\")\n",
    "\n",
    "    # Declare model with newest data\n",
    "    gp = SaasFullyBayesianSingleTaskGP(\n",
    "        train_X=train_X_norm,\n",
    "        train_Y=train_Y,\n",
    "        outcome_transform=Standardize(m=1),\n",
    "    )\n",
    "\n",
    "    # Fit model\n",
    "    fit_fully_bayesian_model_nuts(\n",
    "        gp,\n",
    "        warmup_steps=WARMUP_STEPS,\n",
    "        num_samples=NUM_SAMPLES,\n",
    "        thinning=THINNING,\n",
    "        disable_progbar=True,\n",
    "    )\n",
    "\n",
    "    # Construct acquistion function \n",
    "    EI = qExpectedImprovement(model=gp, best_f=best_y)\n",
    "    \n",
    "    # Maximize acquisition function to get next observation\n",
    "    new_x = optimize_acqf_and_get_observation(acq_func=EI,bounds=bounds)\n",
    "    \n",
    "    # Query SUMO on new sampling location\n",
    "    df_simulation = objective(new_x.cpu().detach().numpy().reshape(-1))\n",
    "    df_simulation['iter'] = i+1\n",
    "    \n",
    "    # Update history of training data\n",
    "    output.append(df_simulation)\n",
    "    \n",
    "    df_i = pd.concat(output)\n",
    "\n",
    "df = pd.concat(output)\n"
   ]
  },
  {
   "cell_type": "code",
   "execution_count": null,
   "metadata": {},
   "outputs": [],
   "source": [
    "X = SobolEngine(dimension=DIM, scramble=True, seed=0).draw(N_INIT).to(**tkwargs)\n",
    "Y = branin_emb(X).unsqueeze(-1)\n",
    "print(f\"Best initial point: {Y.min().item():.3f}\")\n",
    "\n",
    "\n",
    "for i in range(N_ITERATIONS):\n",
    "    train_Y = -1 * Y  # Flip the sign since we want to minimize f(x)\n",
    "    gp = SaasFullyBayesianSingleTaskGP(\n",
    "        train_X=X,\n",
    "        train_Y=train_Y,\n",
    "        train_Yvar=torch.full_like(train_Y, 1e-6),\n",
    "        outcome_transform=Standardize(m=1),\n",
    "    )\n",
    "    fit_fully_bayesian_model_nuts(\n",
    "        gp,\n",
    "        warmup_steps=WARMUP_STEPS,\n",
    "        num_samples=NUM_SAMPLES,\n",
    "        thinning=THINNING,\n",
    "        disable_progbar=True,\n",
    "    )\n",
    "\n",
    "    \n",
    "    candidates, acq_values = optimize_acqf(\n",
    "        EI,\n",
    "        bounds=torch.cat((torch.zeros(1, DIM), torch.ones(1, DIM))).to(**tkwargs),\n",
    "        q=BATCH_SIZE,\n",
    "        num_restarts=10,\n",
    "        raw_samples=1024,\n",
    "    )\n",
    "\n",
    "    Y_next = torch.cat([branin_emb(x).unsqueeze(-1) for x in candidates]).unsqueeze(-1)\n",
    "    if Y_next.min() < Y.min():\n",
    "        ind_best = Y_next.argmin()\n",
    "        x0, x1 = candidates[ind_best, :2].tolist()\n",
    "        print(\n",
    "            f\"{i + 1}) New best: {Y_next[ind_best].item():.3f} @ \"\n",
    "            f\"[{x0:.3f}, {x1:.3f}]\"\n",
    "        )\n",
    "    X = torch.cat((X, candidates))\n",
    "    Y = torch.cat((Y, Y_next))"
   ]
  }
 ],
 "metadata": {
  "kernelspec": {
   "display_name": "BoTorch",
   "language": "python",
   "name": "python3"
  },
  "language_info": {
   "codemirror_mode": {
    "name": "ipython",
    "version": 3
   },
   "file_extension": ".py",
   "mimetype": "text/x-python",
   "name": "python",
   "nbconvert_exporter": "python",
   "pygments_lexer": "ipython3",
   "version": "3.9.11"
  },
  "orig_nbformat": 4
 },
 "nbformat": 4,
 "nbformat_minor": 2
}
