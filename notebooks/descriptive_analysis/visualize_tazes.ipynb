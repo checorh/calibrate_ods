{
 "cells": [
  {
   "cell_type": "code",
   "execution_count": 77,
   "metadata": {},
   "outputs": [],
   "source": [
    "import json\n",
    "import xml.etree.ElementTree as ET\n",
    "from pathlib import Path\n",
    "\n",
    "def load_experiment_metadata(input_path: str):\n",
    "\n",
    "    config = json.load(open(input_path + \"/config.json\"))\n",
    "    config[\"NETWORK\"] = Path(config[\"NETWORK\"])\n",
    "    config[\"SUMO\"] = Path(config[\"SUMO\"])\n",
    "    # [CO] updated simulation setup to use OD scenario #4: 42-dimensional  + low congestion.\n",
    "    #sim_setup = json.load(open(input_path + \"simulation_setups_co_gt.json\"))\n",
    "    sim_setup = json.load(open(input_path + \"simulation_setups_lowCongestion_5minDemand.json\"))\n",
    "\n",
    "    return config, sim_setup\n"
   ]
  },
  {
   "cell_type": "code",
   "execution_count": 78,
   "metadata": {},
   "outputs": [
    {
     "data": {
      "text/plain": [
       "{'objective': 'counts',\n",
       " 'net': 'SFO.net.xml',\n",
       " 'route2od': 'trips24h_smoothed.rou.xml',\n",
       " 'taz': 'taz.xml',\n",
       " 'add': 'additional.add.xml',\n",
       " 'start_sim_sec': 14400,\n",
       " 'end_sim_sec': 15000,\n",
       " 'current_od': 'current_od.xml',\n",
       " 'init_od': 'initOD_lowCongestion_5minDemand.xml',\n",
       " 'gt_od': 'initOD_lowCongestion_5minDemand.xml',\n",
       " 'n_sumo_replicate': 1,\n",
       " 'prefix_gt': 'gt',\n",
       " 'prefix_sim_run': 'current'}"
      ]
     },
     "execution_count": 78,
     "metadata": {},
     "output_type": "execute_result"
    }
   ],
   "source": [
    "\n",
    "input_path = '/Users/rodrse/Downloads/calibrate_ods_carolina/network/SFO/metadata/'\n",
    "config, sim_setup = load_experiment_metadata(input_path)\n",
    "\n",
    "sim_setup"
   ]
  },
  {
   "cell_type": "markdown",
   "metadata": {},
   "source": [
    "## Visualize effective tazes "
   ]
  },
  {
   "cell_type": "code",
   "execution_count": 79,
   "metadata": {},
   "outputs": [],
   "source": [
    "net_path = config['NETWORK']\n",
    "tree = ET.parse(f'{net_path}' + \"/\" + sim_setup['gt_od'])\n",
    "root = tree.getroot()\n",
    "\n",
    "od_mat = []\n",
    "for taz_elem in root.iter('tazRelation'):\n",
    "    od_mat.append([taz_elem.get('from'), taz_elem.get('to'), int(taz_elem.get('count'))])\n",
    "\n",
    "\n",
    "import pandas as pd\n",
    "df_od = pd.DataFrame(od_mat, columns=['tazFrom', 'tazTo', 'tazCount'])\n"
   ]
  },
  {
   "cell_type": "code",
   "execution_count": 74,
   "metadata": {},
   "outputs": [
    {
     "data": {
      "text/plain": [
       "1262"
      ]
     },
     "execution_count": 74,
     "metadata": {},
     "output_type": "execute_result"
    }
   ],
   "source": [
    "import numpy as np\n",
    "effective_tazes = np.unique(np.concatenate([df_od.tazFrom.values, df_od.tazTo.values])).tolist()\n",
    "len(effective_tazes)"
   ]
  },
  {
   "cell_type": "code",
   "execution_count": 76,
   "metadata": {},
   "outputs": [],
   "source": [
    "# same average hourly demand as the initial SFO OD but now set for 1hr of simulation\n",
    "tree = ET.parse(f'{net_path}' + \"/\" + sim_setup['taz'])\n",
    "root = tree.getroot()\n",
    "\n",
    "for element in root.findall('taz'):\n",
    "    if element.attrib['id'] not in effective_tazes:\n",
    "        #print(element.attrib['id'])\n",
    "        root.remove(element)\n",
    "\n",
    "tree.write(f'{net_path}' + \"/effective_taz_lowCongestion_1hrDemand.xml\")"
   ]
  },
  {
   "cell_type": "code",
   "execution_count": 55,
   "metadata": {},
   "outputs": [
    {
     "data": {
      "text/plain": [
       "1300"
      ]
     },
     "execution_count": 55,
     "metadata": {},
     "output_type": "execute_result"
    }
   ],
   "source": [
    "len(root.findall('taz'))"
   ]
  },
  {
   "cell_type": "markdown",
   "metadata": {},
   "source": [
    "Check how many routes enter and exit from SFO"
   ]
  },
  {
   "cell_type": "code",
   "execution_count": 57,
   "metadata": {},
   "outputs": [
    {
     "data": {
      "text/plain": [
       "(45871, 3)"
      ]
     },
     "execution_count": 57,
     "metadata": {},
     "output_type": "execute_result"
    }
   ],
   "source": [
    "net_path = config['NETWORK']\n",
    "tree = ET.parse(f'{net_path}' + \"/\" + sim_setup['gt_od'])\n",
    "root = tree.getroot()\n",
    "\n",
    "od_mat = []\n",
    "for taz_elem in root.iter('tazRelation'):\n",
    "    od_mat.append([taz_elem.get('from'), taz_elem.get('to'), int(taz_elem.get('count'))])\n",
    "\n",
    "import pandas as pd\n",
    "df_od = pd.DataFrame(od_mat, columns=['tazFrom', 'tazTo', 'tazCount'])\n",
    "df_od.shape"
   ]
  },
  {
   "cell_type": "code",
   "execution_count": 68,
   "metadata": {},
   "outputs": [
    {
     "data": {
      "text/html": [
       "<div>\n",
       "<style scoped>\n",
       "    .dataframe tbody tr th:only-of-type {\n",
       "        vertical-align: middle;\n",
       "    }\n",
       "\n",
       "    .dataframe tbody tr th {\n",
       "        vertical-align: top;\n",
       "    }\n",
       "\n",
       "    .dataframe thead th {\n",
       "        text-align: right;\n",
       "    }\n",
       "</style>\n",
       "<table border=\"1\" class=\"dataframe\">\n",
       "  <thead>\n",
       "    <tr style=\"text-align: right;\">\n",
       "      <th></th>\n",
       "      <th>tazFrom</th>\n",
       "      <th>tazTo</th>\n",
       "      <th>tazCount</th>\n",
       "    </tr>\n",
       "  </thead>\n",
       "  <tbody>\n",
       "    <tr>\n",
       "      <th>707</th>\n",
       "      <td>11000</td>\n",
       "      <td>604101</td>\n",
       "      <td>1</td>\n",
       "    </tr>\n",
       "    <tr>\n",
       "      <th>791</th>\n",
       "      <td>11100</td>\n",
       "      <td>604101</td>\n",
       "      <td>1</td>\n",
       "    </tr>\n",
       "    <tr>\n",
       "      <th>876</th>\n",
       "      <td>11200</td>\n",
       "      <td>604101</td>\n",
       "      <td>3</td>\n",
       "    </tr>\n",
       "    <tr>\n",
       "      <th>1302</th>\n",
       "      <td>11700</td>\n",
       "      <td>604101</td>\n",
       "      <td>1</td>\n",
       "    </tr>\n",
       "    <tr>\n",
       "      <th>1674</th>\n",
       "      <td>12100</td>\n",
       "      <td>604101</td>\n",
       "      <td>1</td>\n",
       "    </tr>\n",
       "    <tr>\n",
       "      <th>...</th>\n",
       "      <td>...</td>\n",
       "      <td>...</td>\n",
       "      <td>...</td>\n",
       "    </tr>\n",
       "    <tr>\n",
       "      <th>45711</th>\n",
       "      <td>980900</td>\n",
       "      <td>603900</td>\n",
       "      <td>1</td>\n",
       "    </tr>\n",
       "    <tr>\n",
       "      <th>45713</th>\n",
       "      <td>980900</td>\n",
       "      <td>604101</td>\n",
       "      <td>1</td>\n",
       "    </tr>\n",
       "    <tr>\n",
       "      <th>45836</th>\n",
       "      <td>984300</td>\n",
       "      <td>603900</td>\n",
       "      <td>1</td>\n",
       "    </tr>\n",
       "    <tr>\n",
       "      <th>45837</th>\n",
       "      <td>984300</td>\n",
       "      <td>604101</td>\n",
       "      <td>22</td>\n",
       "    </tr>\n",
       "    <tr>\n",
       "      <th>45865</th>\n",
       "      <td>984300</td>\n",
       "      <td>613501</td>\n",
       "      <td>1</td>\n",
       "    </tr>\n",
       "  </tbody>\n",
       "</table>\n",
       "<p>273 rows × 3 columns</p>\n",
       "</div>"
      ],
      "text/plain": [
       "      tazFrom   tazTo  tazCount\n",
       "707     11000  604101         1\n",
       "791     11100  604101         1\n",
       "876     11200  604101         3\n",
       "1302    11700  604101         1\n",
       "1674    12100  604101         1\n",
       "...       ...     ...       ...\n",
       "45711  980900  603900         1\n",
       "45713  980900  604101         1\n",
       "45836  984300  603900         1\n",
       "45837  984300  604101        22\n",
       "45865  984300  613501         1\n",
       "\n",
       "[273 rows x 3 columns]"
      ]
     },
     "execution_count": 68,
     "metadata": {},
     "output_type": "execute_result"
    }
   ],
   "source": [
    "df_od.query(\"tazFrom  in ('613501','603900','604101')or tazTo in ('613501','603900','604101')\")"
   ]
  },
  {
   "cell_type": "code",
   "execution_count": null,
   "metadata": {},
   "outputs": [],
   "source": []
  },
  {
   "cell_type": "code",
   "execution_count": null,
   "metadata": {},
   "outputs": [],
   "source": []
  },
  {
   "cell_type": "code",
   "execution_count": 58,
   "metadata": {},
   "outputs": [
    {
     "data": {
      "text/plain": [
       "Index(['tazFrom', 'tazTo', 'tazCount'], dtype='object')"
      ]
     },
     "execution_count": 58,
     "metadata": {},
     "output_type": "execute_result"
    }
   ],
   "source": [
    "df_od.columns"
   ]
  },
  {
   "cell_type": "code",
   "execution_count": null,
   "metadata": {},
   "outputs": [],
   "source": []
  }
 ],
 "metadata": {
  "kernelspec": {
   "display_name": "BoTorch",
   "language": "python",
   "name": "botorch"
  },
  "language_info": {
   "codemirror_mode": {
    "name": "ipython",
    "version": 3
   },
   "file_extension": ".py",
   "mimetype": "text/x-python",
   "name": "python",
   "nbconvert_exporter": "python",
   "pygments_lexer": "ipython3",
   "version": "3.9.11"
  },
  "orig_nbformat": 4
 },
 "nbformat": 4,
 "nbformat_minor": 2
}
