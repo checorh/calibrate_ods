{
 "cells": [
  {
   "cell_type": "code",
   "execution_count": 84,
   "metadata": {},
   "outputs": [
    {
     "name": "stdout",
     "output_type": "stream",
     "text": [
      "read 969 TAZ\n",
      "edges ['-261123523#3', '-261123523#5', '-426484634#1', '-426492037#1', '-426611253'] (total 20672) are sources for more than one TAZ\n",
      "edges ['-261123523#3', '-261123523#5', '-426484634#1', '-426492037#1', '-426611253'] (total 20672) are sinks for more than one TAZ\n",
      "read 3806510 vehicles\n",
      "Wrote 278738 OD-pairs (278738 distinct) in 1 intervals (3806510 vehicles total)\n"
     ]
    }
   ],
   "source": [
    "! /usr/local/Cellar/sumo/1.16.0/share/sumo/tools/route/route2OD.py \\\n",
    "    -r ../network/BOS/trips24h_smoothed.rou.xml \\\n",
    "    -a ../network/BOS/taz.xml \\\n",
    "    -o ../network/BOS/init.xml\n"
   ]
  },
  {
   "attachments": {},
   "cell_type": "markdown",
   "metadata": {},
   "source": [
    "### Learning how to parse an xlm file"
   ]
  },
  {
   "cell_type": "code",
   "execution_count": 76,
   "metadata": {},
   "outputs": [],
   "source": [
    "import xml.etree.ElementTree as ET\n",
    "tree = ET.parse('../network/BOS/out.xml')\n",
    "root = tree.getroot()\n"
   ]
  },
  {
   "cell_type": "code",
   "execution_count": 77,
   "metadata": {},
   "outputs": [
    {
     "data": {
      "text/plain": [
       "{'from': '100', 'to': '100', 'count': '492'}"
      ]
     },
     "execution_count": 77,
     "metadata": {},
     "output_type": "execute_result"
    }
   ],
   "source": [
    "root[0][0].attrib"
   ]
  },
  {
   "cell_type": "code",
   "execution_count": 78,
   "metadata": {},
   "outputs": [],
   "source": [
    "root[0][0].attrib[\"count\"] = \"1\""
   ]
  },
  {
   "cell_type": "code",
   "execution_count": 79,
   "metadata": {},
   "outputs": [
    {
     "data": {
      "text/plain": [
       "{'from': '100', 'to': '100', 'count': '1'}"
      ]
     },
     "execution_count": 79,
     "metadata": {},
     "output_type": "execute_result"
    }
   ],
   "source": [
    "root[0][0].attrib"
   ]
  },
  {
   "cell_type": "code",
   "execution_count": 82,
   "metadata": {},
   "outputs": [],
   "source": [
    "import numpy as np\n",
    "\n",
    "dim = 10\n",
    "x = np.random.rand(dim)*2000000\n",
    "\n",
    "for i,x in enumerate(x):\n",
    "    root[0][i].attrib[\"count\"] = str(np.round(x))\n"
   ]
  },
  {
   "cell_type": "code",
   "execution_count": null,
   "metadata": {},
   "outputs": [],
   "source": []
  },
  {
   "cell_type": "code",
   "execution_count": 83,
   "metadata": {},
   "outputs": [],
   "source": [
    "def generate_od_xml(x, config, sim_setup, prefix_run):\n",
    "\n",
    "    # check if initial \n",
    "\n",
    "\n",
    "    od_xml_str = (\n",
    "        f\"<?xml version=\\\"1.0\\\" encoding=\\\"UTF-8\\\"?> \\n\"\n",
    "        f\"<data xmlns:xsi=\\\"http://www.w3.org/2001/XMLSchema-instance\\\" xsi:noNamespaceSchemaLocation=\\\"http://sumo.dlr.de/xsd/datamode_file.xsd\\\">\\n\"\n",
    "        f\"<interval id=\\\"CarA\\\" begin=\\\"54000\\\" end=\\\"57600.0\\\">\\n\"\n",
    "        f\"<tazRelation from=\\\"taz91\\\" to=\\\"taz93\\\" count=\\\"{int(np.floor(od_rand[0]))}\\\"/>\\n\"\n",
    "        f\"<tazRelation from=\\\"taz91\\\" to=\\\"taz94\\\" count=\\\"{int(np.floor(od_rand[1]))}\\\"/>\\n\"\n",
    "        f\"<tazRelation from=\\\"taz92\\\" to=\\\"taz93\\\" count=\\\"{int(np.floor(od_rand[2]))}\\\"/>\\n\"\n",
    "        f\"<tazRelation from=\\\"taz92\\\" to=\\\"taz94\\\" count=\\\"{int(np.floor(od_rand[3]))}\\\"/>\\n\"\n",
    "        f\"</interval>\\n\"\n",
    "        f\"</data>\"\n",
    "    )\n",
    "\n",
    "    file_name = f\"{config['NETWORK']}/{prefix_run}_{sim_setup['current_od']}\"\n",
    "    print('printing '+file_name)\n",
    "    f = open(file_name,'w')\n",
    "    f.write(od_xml_str) \n",
    "    f.close()\n"
   ]
  }
 ],
 "metadata": {
  "kernelspec": {
   "display_name": "BoTorch",
   "language": "python",
   "name": "python3"
  },
  "language_info": {
   "codemirror_mode": {
    "name": "ipython",
    "version": 3
   },
   "file_extension": ".py",
   "mimetype": "text/x-python",
   "name": "python",
   "nbconvert_exporter": "python",
   "pygments_lexer": "ipython3",
   "version": "3.9.11"
  },
  "orig_nbformat": 4
 },
 "nbformat": 4,
 "nbformat_minor": 2
}
